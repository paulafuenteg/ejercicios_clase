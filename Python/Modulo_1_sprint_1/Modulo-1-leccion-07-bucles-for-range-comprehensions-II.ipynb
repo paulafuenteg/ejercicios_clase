{
 "cells": [
  {
   "cell_type": "markdown",
   "metadata": {
    "toc": true
   },
   "source": [
    "<h1>Table of Contents<span class=\"tocSkip\"></span></h1>\n",
    "<div class=\"toc\"><ul class=\"toc-item\"><li><span><a href=\"#Estructuras-control-de-bucles\" data-toc-modified-id=\"Estructuras-control-de-bucles-1\"><span class=\"toc-item-num\">1&nbsp;&nbsp;</span>Estructuras control de bucles</a></span><ul class=\"toc-item\"><li><span><a href=\"#break\" data-toc-modified-id=\"break-1.1\"><span class=\"toc-item-num\">1.1&nbsp;&nbsp;</span><code>break</code></a></span></li><li><span><a href=\"#continue\" data-toc-modified-id=\"continue-1.2\"><span class=\"toc-item-num\">1.2&nbsp;&nbsp;</span>continue</a></span></li><li><span><a href=\"#Ejercicios-continue,-else\" data-toc-modified-id=\"Ejercicios-continue,-else-1.3\"><span class=\"toc-item-num\">1.3&nbsp;&nbsp;</span>Ejercicios <code>continue</code>, <code>else</code></a></span></li><li><span><a href=\"#pass\" data-toc-modified-id=\"pass-1.4\"><span class=\"toc-item-num\">1.4&nbsp;&nbsp;</span>pass</a></span></li></ul></li><li><span><a href=\"#try:-except:-else:-finally:\" data-toc-modified-id=\"try:-except:-else:-finally:-2\"><span class=\"toc-item-num\">2&nbsp;&nbsp;</span>try: except: else: finally:</a></span><ul class=\"toc-item\"><li><span><a href=\"#Ejercicios-try:-except:-else:-finally:\" data-toc-modified-id=\"Ejercicios-try:-except:-else:-finally:-2.1\"><span class=\"toc-item-num\">2.1&nbsp;&nbsp;</span>Ejercicios <code>try:</code> <code>except:</code> <code>else:</code> <code>finally:</code></a></span></li></ul></li></ul></div>"
   ]
  },
  {
   "cell_type": "markdown",
   "metadata": {},
   "source": [
    "# Estructuras control de bucles\n",
    "\n",
    "Las sentencias `break`,  `continue` y `pass` nos ayudan a afinar nuestros bucles y su ejecución.\n",
    "\n",
    "- `break`: rompe el bucle por completo\n",
    "\n",
    "- `continue`: salta el resto del bucle actual y pasa a la siguiente iteración\n",
    "\n",
    "- `pass`: cuando se ejecuta esta sentencia no ocurrirá nada, pero evitaremos el error cuando no se puede ejecutar el código por ejemplo porque tengamos un error. \n",
    "\n",
    "\n",
    "🚨 Ambas pueden utilizarse tanto en los bucles for como en los while\n",
    "\n",
    "Veamos cada uno de ellos en detalle. "
   ]
  },
  {
   "cell_type": "markdown",
   "metadata": {},
   "source": [
    "## `break`\n",
    "\n",
    "Se utiliza en situaciones en las que queremos salir del bucle, incluso si la condición no se ha convertido en False o hemos iterado sobre toda la secuencia. Además, si se utiliza `break`, no se ejecutan los siguientes bloques del código.\n",
    "\n",
    "Veamos algunos ejemplos, porque sobre esta teoría nos puede resultar un poco ambiguo. "
   ]
  },
  {
   "cell_type": "code",
   "execution_count": 1,
   "metadata": {},
   "outputs": [],
   "source": [
    "# imaginemos que tenemos una lista de palabras\n",
    "\n",
    "palabras = ['python', 'programacion', 'adalab', 'titanas']\n"
   ]
  },
  {
   "cell_type": "markdown",
   "metadata": {},
   "source": [
    "Lo que vamos a querer es que si una de las palabras de la lista contiene una \"a\" el código se pare. "
   ]
  },
  {
   "cell_type": "code",
   "execution_count": 2,
   "metadata": {},
   "outputs": [
    {
     "name": "stdout",
     "output_type": "stream",
     "text": [
      "La palabra programacion contiene la letra 'a'\n",
      "La palabra adalab contiene la letra 'a'\n",
      "La palabra titanas contiene la letra 'a'\n"
     ]
    }
   ],
   "source": [
    "# si no incluyeramos un break en nuestro código \n",
    "for w in palabras:\n",
    "    if \"a\" in w:\n",
    "        print(f\"La palabra {w} contiene la letra 'a'\")"
   ]
  },
  {
   "cell_type": "markdown",
   "metadata": {},
   "source": [
    "Como vemos el código de arriba nos esta devolviendo aquellas palabras que contienen la letra \"a\". Pero como hemos dicho, lo que nos interesa es que el código se pare cuando encuentre una palabra que contenga la letra \"a\". Para eso usaremos la sentencia `break`"
   ]
  },
  {
   "cell_type": "code",
   "execution_count": 3,
   "metadata": {},
   "outputs": [
    {
     "name": "stdout",
     "output_type": "stream",
     "text": [
      "La palabra programacion contiene la letra 'a'!!\n"
     ]
    }
   ],
   "source": [
    "# vamos a para el bucle que cuando llegue a una palabra con 'e' se pare\n",
    "\n",
    "for w in palabras:\n",
    "    if \"a\" in w:\n",
    "        print(f\"La palabra {w} contiene la letra 'a'!!\")\n",
    "        break"
   ]
  },
  {
   "cell_type": "markdown",
   "metadata": {},
   "source": [
    "¿Qué es lo que ha pasado? \n",
    "\n",
    "- Se ha iniciado el *for loop* iterando por nuestra lista de palabras\n",
    "\n",
    "- Chequeamos la condicion de si la letra \"a\" está en cada una de las palabras de nuestra lista. \n",
    "\n",
    "- En caso de que la condición anterior se cumpla, nos saldrá un mensaje en pantalla \n",
    "\n",
    "- A continuación está el estamento `break` que no lo que hará será parar el código si se cumple la condición. Al pararse el código no se sigue ejecutando y no veremos más palabras que contengan la \"a\". "
   ]
  },
  {
   "cell_type": "markdown",
   "metadata": {},
   "source": [
    "## `continue`\n",
    "\n",
    "Parecido al `break` con que paramos la ejecución de un bucle también existe la sentencia `continue`. En ese caso se deja de ejecutar lo demás del bucle `while` también, pero con la diferencia que sigue con la siguiente iteración, en vez de parar por completo."
   ]
  },
  {
   "cell_type": "code",
   "execution_count": 4,
   "metadata": {},
   "outputs": [
    {
     "name": "stdout",
     "output_type": "stream",
     "text": [
      "1\n",
      "2\n",
      "4\n",
      "5\n",
      "6\n"
     ]
    }
   ],
   "source": [
    "i = 0\n",
    "while i < 6:\n",
    "  i += 1\n",
    "  if i == 3:\n",
    "    continue\n",
    "  print(i)"
   ]
  },
  {
   "cell_type": "markdown",
   "metadata": {},
   "source": [
    "## `pass`\n",
    "\n",
    "La instrucción `pass` permite manejar la condición sin que el bucle se vea afectado de ninguna manera; todo el código continuará leyéndose a menos que se produzca la instrucción `break` u otra instrucción."
   ]
  },
  {
   "cell_type": "code",
   "execution_count": 5,
   "metadata": {},
   "outputs": [],
   "source": [
    "lista_nombres = ['Mario','Alice', 'Bob', 'Jack', 'Mary', 'Manuel', 'Amanda', 'Ignacio', 'Fernando']\n"
   ]
  },
  {
   "cell_type": "code",
   "execution_count": 6,
   "metadata": {},
   "outputs": [
    {
     "name": "stdout",
     "output_type": "stream",
     "text": [
      "Hola Alice\n",
      "Hola Jack\n",
      "Hola Mary\n",
      "Hola Manuel\n",
      "Hola Amanda\n"
     ]
    }
   ],
   "source": [
    "for nombre in lista_nombres:\n",
    "    if \"o\" in nombre:\n",
    "        pass\n",
    "    else:\n",
    "        print(\"Hola\", nombre)"
   ]
  },
  {
   "cell_type": "code",
   "execution_count": 7,
   "metadata": {},
   "outputs": [
    {
     "name": "stdout",
     "output_type": "stream",
     "text": [
      "La suma del número es 10\n",
      "La suma del número es 11\n",
      "La suma del número es 12\n",
      "La suma del número es 13\n",
      "La suma del número es 14\n",
      "La suma del número es 16\n",
      "La suma del número es 18\n",
      "La suma del número es 19\n"
     ]
    }
   ],
   "source": [
    "# veamos otro ejemplo con pass. En este caso vamos a iterar por por una lista de números. A cada número le vamos a sumar 10, pero si los numeros son igual a 5 o 7 no querremos que pase nada\n",
    "\n",
    "# iniciamos el bucle\n",
    "for num in range(10):\n",
    "\n",
    "    # establecemos la condición. En caso de que el número sea igual a 5 o 7 no queremos que pase nada\n",
    "    if num == 5 or num == 7: \n",
    "        pass   \n",
    "\n",
    "    # para todos los numeros que no cumplan la condición, le sumaremos 10\n",
    "    else:\n",
    "        num += 10\n",
    "        print(f'La suma del número es {num}')\n"
   ]
  },
  {
   "cell_type": "markdown",
   "metadata": {},
   "source": [
    "Si nos fijamos, en los *prints* tenemos la suma de todos los elementos menos los del 5 y el 7, ya que hemos especificado en el código que si eran cualquiera de esos números no queríamos que pasara nada. "
   ]
  },
  {
   "cell_type": "markdown",
   "metadata": {},
   "source": [
    "**Repaso**\n",
    "- Con `continue` se salta una iteración de un bucle `while`.\n",
    "- Con `else:` se puede especificar qué hacer al salir del `while`."
   ]
  },
  {
   "cell_type": "markdown",
   "metadata": {},
   "source": [
    "---\n",
    "\n",
    "## Ejercicios `continue`, `break`, `pass`\n",
    "\n",
    "\n",
    "1. Dado el siguiente *string*: \n",
    "    ```python\n",
    "    palabra = \"Python\"\n",
    "    ```\n",
    "\n",
    "    Cread un código que nos printee todas las letras menos la \"P\" usando la sentencia `continue`\n",
    "\n",
    "  2. De la frase `'Hello'` imprime todas las letras que no sean una `'l'` usando `if`.\n",
    "  3. Haz lo mismo que en 2) usando `continue`.\n",
    "  4. De la frase `'Hello'` imprime todas las letras parando el bucle si encuentras una `'o'`.\n",
    "---"
   ]
  },
  {
   "cell_type": "code",
   "execution_count": 9,
   "metadata": {},
   "outputs": [
    {
     "name": "stdout",
     "output_type": "stream",
     "text": [
      "y\n",
      "t\n",
      "h\n",
      "o\n",
      "n\n"
     ]
    }
   ],
   "source": [
    "palabra = 'Python'\n",
    "for p in palabra:\n",
    "    if p == 'P':\n",
    "        continue\n",
    "    else:\n",
    "        print (p)\n",
    "    "
   ]
  },
  {
   "cell_type": "code",
   "execution_count": 10,
   "metadata": {},
   "outputs": [
    {
     "name": "stdout",
     "output_type": "stream",
     "text": [
      "H\n",
      "e\n",
      "o\n"
     ]
    }
   ],
   "source": [
    "frase = 'Hello'\n",
    "for l in frase:\n",
    "    if l == 'l':\n",
    "        pass\n",
    "    else:\n",
    "        print (l)"
   ]
  },
  {
   "cell_type": "code",
   "execution_count": 11,
   "metadata": {},
   "outputs": [
    {
     "name": "stdout",
     "output_type": "stream",
     "text": [
      "H\n",
      "e\n",
      "o\n"
     ]
    }
   ],
   "source": [
    "frase = 'Hello'\n",
    "for l in frase:\n",
    "    if l == 'l':\n",
    "        continue\n",
    "    else:\n",
    "        print (l)"
   ]
  },
  {
   "cell_type": "code",
   "execution_count": 14,
   "metadata": {},
   "outputs": [
    {
     "name": "stdout",
     "output_type": "stream",
     "text": [
      "H\n",
      "e\n",
      "l\n",
      "l\n",
      "o\n"
     ]
    }
   ],
   "source": [
    "frase = 'Hello'\n",
    "for l in frase:\n",
    "    print (l)\n",
    "    if l == 'o':\n",
    "        break"
   ]
  },
  {
   "cell_type": "markdown",
   "metadata": {},
   "source": [
    "# Control de errores\n",
    "\n",
    "Es lo que llamamamos **programación defensiva**."
   ]
  },
  {
   "cell_type": "markdown",
   "metadata": {},
   "source": [
    "## `try: ... except`:\n",
    "\n",
    "Su sintaxis es: \n",
    "\n",
    "```python\n",
    "try:\n",
    "       # el código que queramos\n",
    "\n",
    "except:\n",
    "       # código opcional\n",
    "``` \n"
   ]
  },
  {
   "cell_type": "code",
   "execution_count": 15,
   "metadata": {},
   "outputs": [
    {
     "ename": "ZeroDivisionError",
     "evalue": "division by zero",
     "output_type": "error",
     "traceback": [
      "\u001b[0;31m---------------------------------------------------------------------------\u001b[0m",
      "\u001b[0;31mZeroDivisionError\u001b[0m                         Traceback (most recent call last)",
      "\u001b[0;32m<ipython-input-15-47231463bdd1>\u001b[0m in \u001b[0;36m<module>\u001b[0;34m\u001b[0m\n\u001b[1;32m      8\u001b[0m \u001b[0;34m\u001b[0m\u001b[0m\n\u001b[1;32m      9\u001b[0m     \u001b[0;31m# añadimos los resultado de la división  en la lista vacía\u001b[0m\u001b[0;34m\u001b[0m\u001b[0;34m\u001b[0m\u001b[0;34m\u001b[0m\u001b[0m\n\u001b[0;32m---> 10\u001b[0;31m     \u001b[0mdivisiones2\u001b[0m\u001b[0;34m.\u001b[0m\u001b[0mappend\u001b[0m\u001b[0;34m(\u001b[0m\u001b[0;36m2\u001b[0m \u001b[0;34m/\u001b[0m \u001b[0mi\u001b[0m\u001b[0;34m)\u001b[0m\u001b[0;34m\u001b[0m\u001b[0;34m\u001b[0m\u001b[0m\n\u001b[0m",
      "\u001b[0;31mZeroDivisionError\u001b[0m: division by zero"
     ]
    }
   ],
   "source": [
    "# imaginemos que queremos hacer una lista con los resultados de la division de 2 entre una serie de numeros, entre ellos el 0, que pasará?\n",
    "\n",
    "# creamos la lista vacía para ir añadiendo los resultados de la división\n",
    "divisiones2 = []\n",
    "\n",
    "# empezamos nuestro for loop\n",
    "for i in range(-3, 5):\n",
    "\n",
    "    # añadimos los resultado de la división  en la lista vacía\n",
    "    divisiones2.append(2 / i)"
   ]
  },
  {
   "cell_type": "markdown",
   "metadata": {},
   "source": [
    "Vaya... nos devuelve un error, y es que no podemos dividir entre 0. Lo malo de esto es que no se ha podido ejecutar todo el código. Para estas situaciones son útiles los `try: ... except:`. Lo que haremos será decirle a nuestro código, intenta hacer esto, que no puedes... no pasa nada! Veamos un ejemplo: "
   ]
  },
  {
   "cell_type": "code",
   "execution_count": 19,
   "metadata": {},
   "outputs": [
    {
     "name": "stdout",
     "output_type": "stream",
     "text": [
      "no se puede dividir entre 0\n"
     ]
    }
   ],
   "source": [
    "\n",
    "# esta parte de código es igual que en la celda anterior\n",
    "divisiones3 = []\n",
    "for i in range(-3, 5):\n",
    "\n",
    "    # con el try le decimos que intente hacer una parte del código\n",
    "    try:\n",
    "        divisiones3.append(2 / i)\n",
    "    \n",
    "    # en caso de que el código anterior de error y no se pueda hacer...\n",
    "    except:\n",
    "        # nos printea un error diciendo sobre que número no nos pudo ejecutar la línea de error\n",
    "        print(f'no se puede dividir entre {i}')\n",
    "\n",
    "        # y apendeamos a la lista \"no data\"\n",
    "        divisiones3.append(\"no data\")"
   ]
  },
  {
   "cell_type": "markdown",
   "metadata": {},
   "source": [
    "Si nos fijamos ahora nuestro programa no se paró, nos salió un mensaje de que no se pudo dividir entre 0 y en la lista de los resultados deberíamos tener todos los resultados de las divisiones y un valor debería ser \"no datda\". Veamoslo! "
   ]
  },
  {
   "cell_type": "code",
   "execution_count": 20,
   "metadata": {},
   "outputs": [
    {
     "data": {
      "text/plain": [
       "[-0.6666666666666666, -1.0, -2.0, 'no data', 2.0, 1.0, 0.6666666666666666, 0.5]"
      ]
     },
     "execution_count": 20,
     "metadata": {},
     "output_type": "execute_result"
    }
   ],
   "source": [
    "divisiones3"
   ]
  },
  {
   "cell_type": "markdown",
   "metadata": {},
   "source": [
    "## `Try ... except ... except ...`\n",
    "\n",
    "\n",
    "Podemos repetir el `except` para distintos tipos de errores para verificar múltiples excepciones. Esto es útil si sospechamos que podemos tener varios errores en nuestro código pero no estamos seguros donde lo vamos a encontrar."
   ]
  },
  {
   "cell_type": "code",
   "execution_count": 21,
   "metadata": {},
   "outputs": [
    {
     "ename": "NameError",
     "evalue": "name 'dia' is not defined",
     "output_type": "error",
     "traceback": [
      "\u001b[0;31m---------------------------------------------------------------------------\u001b[0m",
      "\u001b[0;31mNameError\u001b[0m                                 Traceback (most recent call last)",
      "\u001b[0;32m<ipython-input-21-335d9debd4f0>\u001b[0m in \u001b[0;36m<module>\u001b[0;34m\u001b[0m\n\u001b[1;32m      1\u001b[0m \u001b[0;31m# imaginemos que queremos printear una variable que no hemos definido, esto nos dará error ya que no existe!\u001b[0m\u001b[0;34m\u001b[0m\u001b[0;34m\u001b[0m\u001b[0;34m\u001b[0m\u001b[0m\n\u001b[1;32m      2\u001b[0m \u001b[0;34m\u001b[0m\u001b[0m\n\u001b[0;32m----> 3\u001b[0;31m \u001b[0mprint\u001b[0m\u001b[0;34m(\u001b[0m\u001b[0mdia\u001b[0m\u001b[0;34m)\u001b[0m\u001b[0;34m\u001b[0m\u001b[0;34m\u001b[0m\u001b[0m\n\u001b[0m",
      "\u001b[0;31mNameError\u001b[0m: name 'dia' is not defined"
     ]
    }
   ],
   "source": [
    "# imaginemos que queremos printear una variable que no hemos definido, esto nos dará error ya que no existe! \n",
    "\n",
    "print(dia)"
   ]
  },
  {
   "cell_type": "code",
   "execution_count": 22,
   "metadata": {},
   "outputs": [
    {
     "name": "stdout",
     "output_type": "stream",
     "text": [
      "esta variable no esta definida\n"
     ]
    }
   ],
   "source": [
    "# como lo hariamos con un try except?\n",
    "\n",
    "# intenta printear la variable\n",
    "try: \n",
    "    print(dia)\n",
    "\n",
    "# en caso de que no puedas, printea un mensaje\n",
    "except:\n",
    "    print('esta variable no esta definida')"
   ]
  },
  {
   "cell_type": "code",
   "execution_count": 23,
   "metadata": {},
   "outputs": [],
   "source": [
    "# Ahora imaginemos que si tenemos definido dia, pero que un iluminado quiero sumarle un string\n",
    "\n",
    "dia = 24\n"
   ]
  },
  {
   "cell_type": "code",
   "execution_count": 24,
   "metadata": {},
   "outputs": [
    {
     "ename": "TypeError",
     "evalue": "unsupported operand type(s) for +: 'int' and 'str'",
     "output_type": "error",
     "traceback": [
      "\u001b[0;31m---------------------------------------------------------------------------\u001b[0m",
      "\u001b[0;31mTypeError\u001b[0m                                 Traceback (most recent call last)",
      "\u001b[0;32m<ipython-input-24-185a8144df97>\u001b[0m in \u001b[0;36m<module>\u001b[0;34m\u001b[0m\n\u001b[1;32m      2\u001b[0m \u001b[0;34m\u001b[0m\u001b[0m\n\u001b[1;32m      3\u001b[0m \u001b[0;34m\u001b[0m\u001b[0m\n\u001b[0;32m----> 4\u001b[0;31m \u001b[0mdia\u001b[0m \u001b[0;34m+\u001b[0m \u001b[0;34m'hola'\u001b[0m\u001b[0;34m\u001b[0m\u001b[0;34m\u001b[0m\u001b[0m\n\u001b[0m",
      "\u001b[0;31mTypeError\u001b[0m: unsupported operand type(s) for +: 'int' and 'str'"
     ]
    }
   ],
   "source": [
    "# imaginemos que queremos sumar a la variable dia la palabra \"hola\"\n",
    "\n",
    "\n",
    "dia + 'hola'"
   ]
  },
  {
   "cell_type": "markdown",
   "metadata": {},
   "source": [
    "Ups... nos da error... Pero esto puede que no no haya sorprendido, ya que no podemos sumar un *string*  a un número. Hasta ahora hemos visto dos posibles errores, el error `NameError` que nos ocurrió cuando la variable no estaba definida y el `TypeError` que nos dió error porque no podíamos sumar un *int*  y un *string*. \n",
    "\n",
    "En esta situación podríamos usar el `try: ... except: .... except: ... ` para gestionar disintos errores. Hagamos un ejemplo: "
   ]
  },
  {
   "cell_type": "code",
   "execution_count": 25,
   "metadata": {},
   "outputs": [
    {
     "name": "stdout",
     "output_type": "stream",
     "text": [
      "la variable dia no esta definida\n"
     ]
    }
   ],
   "source": [
    "# intenta hacer la siguiente suma\n",
    "try:\n",
    "    resultado = dia1 + \"hola\"\n",
    "\n",
    "# si es un error, porque la variable no esta definida, devuelve este mensaje\n",
    "except NameError:\n",
    "    print(\"la variable dia no esta definida\")\n",
    "\n",
    "# en caso de que el error sea consecuencia de intentar sumar dos elementos con distintos tipos, devuelvenos el siguiente error. \n",
    "except TypeError: \n",
    "    print(\"no puedes sumar string y numeros\")"
   ]
  },
  {
   "cell_type": "markdown",
   "metadata": {},
   "source": [
    "En este caso, fijaos en varias cosas: \n",
    "\n",
    "- Después de los `except` tenemos que poner el tipo de error que puede que nos devuelva nuestro código. \n",
    "\n",
    "- La variable `dia1` no esta definida, por lo tanto, nos devuelve el mensaje que hemos puesto asociado a ese tipo de error"
   ]
  },
  {
   "cell_type": "code",
   "execution_count": 16,
   "metadata": {},
   "outputs": [
    {
     "name": "stdout",
     "output_type": "stream",
     "text": [
      "no puedes sumar string y numeros\n"
     ]
    }
   ],
   "source": [
    "# en caso de que ejecutemos ese código pero en vez con la variable dia1 (que no estaba definida), con la variable dia que si estaba definida\n",
    "\n",
    "# intenta hacer la siguiente suma\n",
    "try:\n",
    "    resultado = dia + \"hola\"\n",
    "\n",
    "# si es un error, porque la variable no esta definida, devuelve este mensaje\n",
    "except NameError:\n",
    "    print(\"la variable dia no esta definida\")\n",
    "\n",
    "# en caso de que el error sea consecuencia de intentar sumar dos elementos con distintos tipos, devuelvenos el siguiente error. \n",
    "except TypeError: \n",
    "    print(\"no puedes sumar string y numeros\")"
   ]
  },
  {
   "cell_type": "markdown",
   "metadata": {},
   "source": [
    "Fijaros que ahora ha cambiado el mensaje que nos devuelve el código, ya que se ha ejecutado otra parte del código. "
   ]
  },
  {
   "cell_type": "markdown",
   "metadata": {},
   "source": [
    "## `Try ... Except ... Else ...`\n",
    "\n",
    "```python\n",
    "try: # este bloque chequeará si hay algún error en nuestro código. \n",
    "\n",
    "    # PASAN COSAS.... \n",
    "\n",
    "except: # manejamos el error.\n",
    "\n",
    "    # CÓDIGO DE BLOQUE OPCIONAL MANEJANDO EL ERROR\n",
    "\n",
    "else: # si no hay ninguna excepción este bloque será ejecutado.\n",
    "\n",
    "    # PASAN OTRAS COSAS\n",
    "```\n",
    "Vamos a crear un programa que me va a dividir un número dado (en este caso 2) entre una lista de números.\n",
    "\n",
    "Después de la división queremos multiplicarlo por dos"
   ]
  },
  {
   "cell_type": "code",
   "execution_count": 26,
   "metadata": {},
   "outputs": [
    {
     "name": "stdout",
     "output_type": "stream",
     "text": [
      "-0.6666666666666666\n",
      "Yeah! Tu respuesta es -1.3333333333333333\n",
      "---------------------------\n",
      "-1.0\n",
      "Yeah! Tu respuesta es -2.0\n",
      "---------------------------\n",
      "-2.0\n",
      "Yeah! Tu respuesta es -4.0\n",
      "---------------------------\n",
      "no se puede dividir entre 0\n",
      "2.0\n",
      "Yeah! Tu respuesta es 4.0\n",
      "---------------------------\n",
      "1.0\n",
      "Yeah! Tu respuesta es 2.0\n",
      "---------------------------\n",
      "0.6666666666666666\n",
      "Yeah! Tu respuesta es 1.3333333333333333\n",
      "---------------------------\n",
      "0.5\n",
      "Yeah! Tu respuesta es 1.0\n",
      "---------------------------\n"
     ]
    }
   ],
   "source": [
    "for i in range(-3, 5):\n",
    "    try:\n",
    "        result = 2 / i\n",
    "        print(result)\n",
    "    except:\n",
    "        print(\"no se puede dividir entre 0\")\n",
    "    else:\n",
    "        result *= 2\n",
    "        print(f\"Yeah! Tu respuesta es {result}\")\n",
    "        print(\"---------------------------\")"
   ]
  },
  {
   "cell_type": "markdown",
   "metadata": {},
   "source": [
    "## `try ... except ... else ... finally ...`\n",
    "\n",
    "```python\n",
    "try: # este bloque chequeará si hay algún error en nuestro código. \n",
    "\n",
    "    # PASAN COSAS.... \n",
    "\n",
    "except: # manejamos el error.\n",
    "\n",
    "    # CÓDIGO DE BLOQUE OPCIONAL MANEJANDO EL ERROR\n",
    "\n",
    "else: # si no hay ninguna excepción este bloque será ejecutado.\n",
    "\n",
    "    # PASAN OTRAS COSAS\n",
    "\n",
    "finally: # este código siempre se ejecutará haya errror o no\n",
    "\n",
    "    # PASAN COSAS. SIEMPRE SE VA A EJECUTAR\n",
    "```"
   ]
  },
  {
   "cell_type": "code",
   "execution_count": 27,
   "metadata": {},
   "outputs": [
    {
     "name": "stdout",
     "output_type": "stream",
     "text": [
      "Yeah ! Your answer is : -1.3333333333333333\n",
      "esto siempre se ejecuta\n",
      "Yeah ! Your answer is : -2.0\n",
      "esto siempre se ejecuta\n",
      "Yeah ! Your answer is : -4.0\n",
      "esto siempre se ejecuta\n",
      "Sorry ! Estás intentando dividir entre 0 \n",
      "esto siempre se ejecuta\n",
      "Yeah ! Your answer is : 4.0\n",
      "esto siempre se ejecuta\n",
      "Yeah ! Your answer is : 2.0\n",
      "esto siempre se ejecuta\n",
      "Yeah ! Your answer is : 1.3333333333333333\n",
      "esto siempre se ejecuta\n",
      "Yeah ! Your answer is : 1.0\n",
      "esto siempre se ejecuta\n"
     ]
    }
   ],
   "source": [
    "for i in range(-3, 5): \n",
    "    try:\n",
    "        result = 2 / i\n",
    "    except ZeroDivisionError:\n",
    "        print(\"Sorry ! Estás intentando dividir entre 0 \")\n",
    "    else:\n",
    "        result *=2\n",
    "        print(\"Yeah ! Your answer is :\", result)\n",
    "    finally:\n",
    "        print('esto siempre se ejecuta')"
   ]
  },
  {
   "cell_type": "markdown",
   "metadata": {},
   "source": [
    "**Repaso**\n",
    "- Con un bucle `try:` se puede meter un trozo de código de que te esperes errores. \n",
    "- Con el `except:` especifícas el qué hacer al surgir un error.\n",
    "- Puedes meter múltiples `except:` y especificar qué hacer para cada tipo de errores.\n",
    "- El `try:` puede ser seguido por `else:` con un código que sólo quieres ejecutar si no haya errores.\n",
    "- El `finally:` también es opcional y será ejecutido al final, en todos los casos."
   ]
  },
  {
   "cell_type": "markdown",
   "metadata": {},
   "source": [
    "---\n",
    "\n",
    "## Ejercicios `try:` `except:` `else:` `finally:`\n",
    "\n",
    "- `try:`, `except:`\n",
    "\n",
    "    5. Define  la variable `doce = '12'` y `seis = 6`. Intenta sumarlos. En el caso de que te salga un error imprime `'¡Un error!'`. Para eso usa un `try` ... `except`\n",
    "    6. Basándonos en el ejercicio anterior, sin usar un `try` ... `except`, ¿cómo podríamos solucionar el problema? \n",
    "    7. En el ejercicio 2, usamos un `try` ... `except` para solucionar el ejercicio. ¿Cómo lo podríamos hacer un if? \n",
    "\n",
    "- `else:`, `finally:`\n",
    "\n",
    "    8. En el caso de que el 5. te salga sin errores, querrás imprimir `'Todo bien por aquí.'` Cambia la variable `doce` para llegar a imprimirlo.\n",
    "---\n"
   ]
  },
  {
   "cell_type": "code",
   "execution_count": 29,
   "metadata": {},
   "outputs": [
    {
     "name": "stdout",
     "output_type": "stream",
     "text": [
      "¡Un error!\n"
     ]
    }
   ],
   "source": [
    "doce = '12'\n",
    "seis = 6\n",
    "\n",
    "try:\n",
    "    doce + seis\n",
    "except:\n",
    "    print ('¡Un error!')"
   ]
  },
  {
   "cell_type": "code",
   "execution_count": 32,
   "metadata": {},
   "outputs": [
    {
     "name": "stdout",
     "output_type": "stream",
     "text": [
      "18\n"
     ]
    }
   ],
   "source": [
    "try:\n",
    "    print (int(doce) + seis)\n",
    "except:\n",
    "    print ('¡Un error!')"
   ]
  },
  {
   "cell_type": "code",
   "execution_count": 33,
   "metadata": {},
   "outputs": [
    {
     "name": "stdout",
     "output_type": "stream",
     "text": [
      "Todo bien por aqui\n"
     ]
    }
   ],
   "source": [
    "doce = 12\n",
    "seis = 6\n",
    "\n",
    "try:\n",
    "    doce + seis\n",
    "    print ('Todo bien por aqui')\n",
    "except:\n",
    "    print ('¡Un error!')"
   ]
  },
  {
   "cell_type": "markdown",
   "metadata": {},
   "source": []
  }
 ],
 "metadata": {
  "kernelspec": {
   "display_name": "Python 3.6.9 64-bit",
   "language": "python",
   "name": "python3"
  },
  "language_info": {
   "codemirror_mode": {
    "name": "ipython",
    "version": 3
   },
   "file_extension": ".py",
   "mimetype": "text/x-python",
   "name": "python",
   "nbconvert_exporter": "python",
   "pygments_lexer": "ipython3",
   "version": "3.6.9"
  },
  "toc": {
   "base_numbering": 1,
   "nav_menu": {},
   "number_sections": true,
   "sideBar": true,
   "skip_h1_title": false,
   "title_cell": "Table of Contents",
   "title_sidebar": "Contents",
   "toc_cell": true,
   "toc_position": {},
   "toc_section_display": true,
   "toc_window_display": true
  },
  "vscode": {
   "interpreter": {
    "hash": "31f2aee4e71d21fbe5cf8b01ff0e069b9275f58929596ceb00d14d90e3e16cd6"
   }
  }
 },
 "nbformat": 4,
 "nbformat_minor": 2
}

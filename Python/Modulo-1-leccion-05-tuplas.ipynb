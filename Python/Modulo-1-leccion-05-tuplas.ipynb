{
 "cells": [
  {
   "cell_type": "markdown",
   "metadata": {
    "toc": true
   },
   "source": [
    "<h1>Table of Contents<span class=\"tocSkip\"></span></h1>\n",
    "<div class=\"toc\"><ul class=\"toc-item\"><li><span><a href=\"#Definir-tuplas\" data-toc-modified-id=\"Definir-tuplas-1\"><span class=\"toc-item-num\">1&nbsp;&nbsp;</span>Definir tuplas</a></span><ul class=\"toc-item\"><li><span><a href=\"#Usando-los-()\" data-toc-modified-id=\"Usando-los-()-1.1\"><span class=\"toc-item-num\">1.1&nbsp;&nbsp;</span>Usando los <code>()</code></a></span></li><li><span><a href=\"#Usando-método-tuple()\" data-toc-modified-id=\"Usando-método-tuple()-1.2\"><span class=\"toc-item-num\">1.2&nbsp;&nbsp;</span>Usando método <code>tuple()</code></a></span></li><li><span><a href=\"#Ejercicios:-definir-tuplas\" data-toc-modified-id=\"Ejercicios:-definir-tuplas-1.3\"><span class=\"toc-item-num\">1.3&nbsp;&nbsp;</span>Ejercicios: definir tuplas</a></span></li></ul></li><li><span><a href=\"#Propiedades-y-métodos-de-una-tupla\" data-toc-modified-id=\"Propiedades-y-métodos-de-una-tupla-2\"><span class=\"toc-item-num\">2&nbsp;&nbsp;</span>Propiedades y métodos de una tupla</a></span><ul class=\"toc-item\"><li><span><a href=\"#Ejercicios:-propiedades-y-métodos-de-una-tupla\" data-toc-modified-id=\"Ejercicios:-propiedades-y-métodos-de-una-tupla-2.1\"><span class=\"toc-item-num\">2.1&nbsp;&nbsp;</span>Ejercicios: propiedades y métodos de una tupla</a></span></li></ul></li><li><span><a href=\"#La-función-zip()\" data-toc-modified-id=\"La-función-zip()-3\"><span class=\"toc-item-num\">3&nbsp;&nbsp;</span>La función <code>zip()</code></a></span><ul class=\"toc-item\"><li><span><a href=\"#Ejercicios:-la-función-zip()\" data-toc-modified-id=\"Ejercicios:-la-función-zip()-3.1\"><span class=\"toc-item-num\">3.1&nbsp;&nbsp;</span>Ejercicios: la función <code>zip()</code></a></span></li></ul></li></ul></div>"
   ]
  },
  {
   "cell_type": "markdown",
   "metadata": {},
   "source": [
    "# Definir tuplas\n",
    "\n",
    "Para definir tuplas podremos hacerlo: \n",
    "\n",
    "-  Con paréntesis `()`, pero con un pequeño detalle, habrá que poner comas.\n",
    "\n",
    "- Con el método `tuple()` de Python. \n",
    "\n",
    "Veamos algunos ejemplos: "
   ]
  },
  {
   "cell_type": "markdown",
   "metadata": {},
   "source": [
    "## Usando los `()`"
   ]
  },
  {
   "cell_type": "code",
   "execution_count": 1,
   "metadata": {},
   "outputs": [],
   "source": [
    "# definimos nuestra primera tupla \n",
    "tupla1 = (3,)"
   ]
  },
  {
   "cell_type": "code",
   "execution_count": 2,
   "metadata": {},
   "outputs": [
    {
     "name": "stdout",
     "output_type": "stream",
     "text": [
      "(3,) es del tipo <class 'tuple'>\n"
     ]
    }
   ],
   "source": [
    "print(tupla1, \"es del tipo\", type(tupla1))"
   ]
  },
  {
   "cell_type": "markdown",
   "metadata": {},
   "source": [
    "Sin embargo, si no le pusieramos la coma, no lo entenderá como una tupla, sino como un número 🤯!! "
   ]
  },
  {
   "cell_type": "code",
   "execution_count": 3,
   "metadata": {},
   "outputs": [],
   "source": [
    "# definimos una variable con un número entre paréntesis, sin comas\n",
    "numero = (3)"
   ]
  },
  {
   "cell_type": "code",
   "execution_count": 4,
   "metadata": {},
   "outputs": [
    {
     "name": "stdout",
     "output_type": "stream",
     "text": [
      "3 es del tipo <class 'int'>\n"
     ]
    }
   ],
   "source": [
    "print(numero, \"es del tipo\", type(numero))"
   ]
  },
  {
   "cell_type": "code",
   "execution_count": 5,
   "metadata": {},
   "outputs": [],
   "source": [
    "# defininamos otro ejemplo con strings\n",
    "\n",
    "letra = \"a\""
   ]
  },
  {
   "cell_type": "code",
   "execution_count": 6,
   "metadata": {},
   "outputs": [
    {
     "name": "stdout",
     "output_type": "stream",
     "text": [
      "a es del tipo <class 'str'>\n"
     ]
    }
   ],
   "source": [
    "print(letra, \"es del tipo\", type(letra))"
   ]
  },
  {
   "cell_type": "markdown",
   "metadata": {},
   "source": [
    "Por lo tanto, a la hora de definir tuplas, debemos tener cuidado si queremos definir una tupla con un único elemento, ya que si no le pasamos la coma, Python lo entenderá como un número, un *string* o el tipo de dato que hayamos metido entre los paréntesis. "
   ]
  },
  {
   "cell_type": "code",
   "execution_count": 7,
   "metadata": {},
   "outputs": [],
   "source": [
    "# si queremos que nuestra tupla tenga solo un elemento, lo podemos definir incluso sin paréntesis!!! \n",
    "tupla2 = 3,"
   ]
  },
  {
   "cell_type": "code",
   "execution_count": 8,
   "metadata": {},
   "outputs": [
    {
     "name": "stdout",
     "output_type": "stream",
     "text": [
      "(3,) es del tipo <class 'tuple'>\n"
     ]
    }
   ],
   "source": [
    "print(tupla2, \"es del tipo\", type(tupla2))"
   ]
  },
  {
   "cell_type": "markdown",
   "metadata": {},
   "source": [
    "¿Qué creeis que pasaría si quisieramos crear una tupla con más de un elemento y no le pusieramos paréntesis?"
   ]
  },
  {
   "cell_type": "code",
   "execution_count": 9,
   "metadata": {},
   "outputs": [],
   "source": [
    "tupla3 = 2,3,4"
   ]
  },
  {
   "cell_type": "code",
   "execution_count": 10,
   "metadata": {},
   "outputs": [
    {
     "name": "stdout",
     "output_type": "stream",
     "text": [
      "(2, 3, 4) es del tipo <class 'tuple'>\n"
     ]
    }
   ],
   "source": [
    "print(tupla3, \"es del tipo\", type(tupla3))"
   ]
  },
  {
   "cell_type": "markdown",
   "metadata": {},
   "source": [
    "Nada!!! Python es muy listo, y nos lo entenderá igualmente como tupla 🤯🥳! "
   ]
  },
  {
   "cell_type": "markdown",
   "metadata": {},
   "source": [
    "## Usando método `tuple()` \n",
    "\n",
    "Este método tendrá más sentido hacerlo para convertir alguna de las estructuras de datos que ya aprendimos en lecciones anteriores. "
   ]
  },
  {
   "cell_type": "code",
   "execution_count": 11,
   "metadata": {},
   "outputs": [],
   "source": [
    "# desde una variable de tipo lista\n",
    "lista = [2,3]"
   ]
  },
  {
   "cell_type": "code",
   "execution_count": 12,
   "metadata": {},
   "outputs": [
    {
     "data": {
      "text/plain": [
       "(2, 3)"
      ]
     },
     "execution_count": 12,
     "metadata": {},
     "output_type": "execute_result"
    }
   ],
   "source": [
    "tuple(lista)"
   ]
  },
  {
   "cell_type": "code",
   "execution_count": 13,
   "metadata": {},
   "outputs": [],
   "source": [
    "# desde una variable de tipo set\n",
    "set_ = {2,3}"
   ]
  },
  {
   "cell_type": "code",
   "execution_count": 14,
   "metadata": {},
   "outputs": [
    {
     "data": {
      "text/plain": [
       "(2, 3)"
      ]
     },
     "execution_count": 14,
     "metadata": {},
     "output_type": "execute_result"
    }
   ],
   "source": [
    "tuple(set_)"
   ]
  },
  {
   "cell_type": "markdown",
   "metadata": {},
   "source": [
    "Incluso lo podemos hacer desde un diccionario! "
   ]
  },
  {
   "cell_type": "code",
   "execution_count": 15,
   "metadata": {},
   "outputs": [],
   "source": [
    "diccionario = {\"lunes\":3, \"martes\": 2, \"miercoles\": 7, \"jueves\": 29, \"viernes\": 22}"
   ]
  },
  {
   "cell_type": "code",
   "execution_count": 16,
   "metadata": {},
   "outputs": [
    {
     "data": {
      "text/plain": [
       "('lunes', 'martes', 'miercoles', 'jueves', 'viernes')"
      ]
     },
     "execution_count": 16,
     "metadata": {},
     "output_type": "execute_result"
    }
   ],
   "source": [
    "# por defecto nos lo hará solo de las keys\n",
    "tuple(diccionario)"
   ]
  },
  {
   "cell_type": "code",
   "execution_count": 17,
   "metadata": {},
   "outputs": [
    {
     "data": {
      "text/plain": [
       "(3, 2, 7, 29, 22)"
      ]
     },
     "execution_count": 17,
     "metadata": {},
     "output_type": "execute_result"
    }
   ],
   "source": [
    "# pero también podemos sobre los values\n",
    "\n",
    "tuple(diccionario.values())"
   ]
  },
  {
   "cell_type": "code",
   "execution_count": 18,
   "metadata": {},
   "outputs": [
    {
     "data": {
      "text/plain": [
       "(('lunes', 3),\n",
       " ('martes', 2),\n",
       " ('miercoles', 7),\n",
       " ('jueves', 29),\n",
       " ('viernes', 22))"
      ]
     },
     "execution_count": 18,
     "metadata": {},
     "output_type": "execute_result"
    }
   ],
   "source": [
    "# o incluso de los pares key - values usando el método .items()\n",
    "\n",
    "tuple(diccionario.items())"
   ]
  },
  {
   "cell_type": "markdown",
   "metadata": {},
   "source": [
    "Al igual que en las listas, las tuplas nos permiten introducir elementos de distintos tipo, veamos un ejemplo:"
   ]
  },
  {
   "cell_type": "code",
   "execution_count": 19,
   "metadata": {},
   "outputs": [],
   "source": [
    "# imaginemos que tenemos una serie de elementos definidos en distintas variables\n",
    "peso = 5.3\n",
    "cantidad = 2\n",
    "color = 'azul'\n",
    "año = 2005\n",
    "categoria = 'infantil'"
   ]
  },
  {
   "cell_type": "code",
   "execution_count": 20,
   "metadata": {},
   "outputs": [],
   "source": [
    "# podemos unirlos todos en una única tupla, usando los paréntesis\n",
    "\n",
    "propiedades = (peso, cantidad, color, año, categoria)"
   ]
  },
  {
   "cell_type": "code",
   "execution_count": 21,
   "metadata": {},
   "outputs": [
    {
     "name": "stdout",
     "output_type": "stream",
     "text": [
      "(5.3, 2, 'azul', 2005, 'infantil') es del tipo <class 'tuple'>\n"
     ]
    }
   ],
   "source": [
    "print(propiedades, \"es del tipo\", type(propiedades))"
   ]
  },
  {
   "cell_type": "code",
   "execution_count": 22,
   "metadata": {},
   "outputs": [
    {
     "name": "stdout",
     "output_type": "stream",
     "text": [
      "(5.3, 2, 'azul', 2005, 'infantil')\n"
     ]
    }
   ],
   "source": [
    "# una vez definida la tupla podemos eliminar las variables anteriores usando el método del\n",
    "#  \n",
    "del peso, cantidad, color, año, categoria\n",
    "print(propiedades)"
   ]
  },
  {
   "cell_type": "markdown",
   "metadata": {},
   "source": [
    "Al igual que las listas, podemos sumar tuplas.  Para juntarlas, se puede usar el operador `+`. La condición es que ambas tienen que ser definidas como tuplas:"
   ]
  },
  {
   "cell_type": "code",
   "execution_count": 23,
   "metadata": {},
   "outputs": [
    {
     "name": "stdout",
     "output_type": "stream",
     "text": [
      "(5.3, 2, 'azul', 2005, 'infantil', 3.98)\n"
     ]
    }
   ],
   "source": [
    "propiedades = propiedades + (3.98,)\n",
    "print(propiedades)"
   ]
  },
  {
   "cell_type": "code",
   "execution_count": 24,
   "metadata": {},
   "outputs": [
    {
     "name": "stdout",
     "output_type": "stream",
     "text": [
      "(5.3, 2, 'azul', 2005, 'infantil', 3.98, 'Madrid', 'España')\n"
     ]
    }
   ],
   "source": [
    "propiedades = propiedades + ('Madrid', 'España')\n",
    "print(propiedades)"
   ]
  },
  {
   "cell_type": "code",
   "execution_count": 25,
   "metadata": {},
   "outputs": [
    {
     "ename": "TypeError",
     "evalue": "can only concatenate tuple (not \"float\") to tuple",
     "output_type": "error",
     "traceback": [
      "\u001b[1;31m---------------------------------------------------------------------------\u001b[0m",
      "\u001b[1;31mTypeError\u001b[0m                                 Traceback (most recent call last)",
      "\u001b[1;32mc:\\Users\\agarc\\Documents\\Adalab\\materiales-da-promo-b\\modulo-1\\modulo-1-python-basico\\assets\\notebooks\\modulo-1-leccion-05-tuplas.ipynb Celda 36\u001b[0m in \u001b[0;36m<module>\u001b[1;34m\u001b[0m\n\u001b[0;32m      <a href='vscode-notebook-cell:/c%3A/Users/agarc/Documents/Adalab/materiales-da-promo-b/modulo-1/modulo-1-python-basico/assets/notebooks/modulo-1-leccion-05-tuplas.ipynb#ch0000035?line=0'>1</a>\u001b[0m \u001b[39m# que pasaría si no le pasaramos una tupla??\u001b[39;00m\n\u001b[1;32m----> <a href='vscode-notebook-cell:/c%3A/Users/agarc/Documents/Adalab/materiales-da-promo-b/modulo-1/modulo-1-python-basico/assets/notebooks/modulo-1-leccion-05-tuplas.ipynb#ch0000035?line=2'>3</a>\u001b[0m propiedades \u001b[39m=\u001b[39m propiedades \u001b[39m+\u001b[39;49m \u001b[39m3.98\u001b[39;49m\n",
      "\u001b[1;31mTypeError\u001b[0m: can only concatenate tuple (not \"float\") to tuple"
     ]
    }
   ],
   "source": [
    "# que pasaría si no le pasaramos una tupla??\n",
    "\n",
    "propiedades = propiedades + 3.98"
   ]
  },
  {
   "cell_type": "markdown",
   "metadata": {},
   "source": [
    "Sigamos aprendiendo a leer errores,  en este caso nos devuelve el siguiente error: `TypeError: can only concatenate tuple (not \"float\") to tuple`. ¿Qué significa esto? El error nos esta diciendo que no se puede unir un objeto de tipo tupla con uno de tipo *float*. "
   ]
  },
  {
   "cell_type": "markdown",
   "metadata": {},
   "source": [
    "**Repaso**\n",
    "- Definir tuplas con `,` y parentesis `()`.\n",
    "\n",
    "- Convertir otro contenedor a una tupla con `tuple()`.\n",
    "\n",
    "- Juntar tuplas con `+`."
   ]
  },
  {
   "cell_type": "markdown",
   "metadata": {
    "id": "5PcBreuKcX1-"
   },
   "source": [
    "\n",
    "\n",
    "---\n",
    "\n",
    "\n",
    "## Ejercicios: definir tuplas\n",
    "\n",
    "- Definir tuplas\n",
    "\n",
    "  1. Crea una tupla `persona1` para juntar los siguientes datos: 61 kg, 1.54 m altura, pelo marrón, sin usar paréntesis. (Serán del tipo `int`, `float` y `str`.)\n",
    "\n",
    "  2. Crea una tupla para la `persona2` de 68 kg, 1.65 m y pelo rubio, usando paréntesis.\n",
    "\n",
    "  3. Crea una lista `talla` que recompila 'M', 42, y 39. \n",
    "\n",
    "- Convertir y juntar\n",
    "\n",
    "  4. Convierte la lista `talla` a una tupla.\n",
    "  \n",
    "  5. Une a la tupla de `persona1` los datos en `talla`.\n",
    "\n",
    "---\n",
    "\n"
   ]
  },
  {
   "cell_type": "code",
   "execution_count": null,
   "metadata": {
    "id": "Z5I4yJpqcX2F"
   },
   "outputs": [],
   "source": []
  },
  {
   "cell_type": "markdown",
   "metadata": {
    "id": "aCLnA8lRcX2F"
   },
   "source": [
    "\n",
    "\n",
    "---\n"
   ]
  },
  {
   "cell_type": "markdown",
   "metadata": {},
   "source": [
    "# Propiedades y métodos de las tuplas\n",
    "Este tipo de estructura de datos tienen orden y por lo tanto los podremos indexar para acceder a sus distintos elementos. Para hacerlo, utilizaremos la misma lógica que en las listas: `[0]` es el primer contenido, `[:-1]` el último, etc. \n",
    "\n",
    "Si hasta ahora `propiedades` contiene:\n",
    "\n",
    "```(5.3, 2, 'azul', 2005, 'infantil', 3.98, 'Madrid', 'España')```.\n",
    "\n",
    "¿Qué crees que devolvería entonces `propiedades[2:-1:2]`? Compruébalo aquí abajo, poniendo los índices que quieras:"
   ]
  },
  {
   "cell_type": "code",
   "execution_count": 28,
   "metadata": {},
   "outputs": [
    {
     "data": {
      "text/plain": [
       "(5.3, 2, 'azul', 2005, 'infantil', 3.98, 'Madrid', 'España')"
      ]
     },
     "execution_count": 28,
     "metadata": {},
     "output_type": "execute_result"
    }
   ],
   "source": [
    "# antes recordemos que tenemos en la tupla propiedades\n",
    "\n",
    "propiedades"
   ]
  },
  {
   "cell_type": "markdown",
   "metadata": {},
   "source": [
    "Y la función `len()`, ¿qué resultado daría? Como en listas y diccionarios, las palabras `in` y `not in` comprueban si un contenido existe (o no) en una tupla especificada. Como ya sabemos como funcionan estas funciones no vamos a repetir su uso aquí, lo podrás hacer en los ejercicios tu misma."
   ]
  },
  {
   "cell_type": "markdown",
   "metadata": {},
   "source": [
    "Usando `.` y la tecla `Tab` vemos que existen dos métodos para una tupla. Yo los conoces, ¿verdad? Antes de ejecutar la celda de abajo piensa qué resultado te esperas y compruébalo:"
   ]
  },
  {
   "cell_type": "markdown",
   "metadata": {},
   "source": [
    "En tuplas también tenemos métodos como `.count()` o `.index()`. Veamos algunos ejemplos para recordarlos: "
   ]
  },
  {
   "cell_type": "code",
   "execution_count": 26,
   "metadata": {},
   "outputs": [],
   "source": [
    "# lo primero que vamos a hacer es crearnos una tupla de números\n",
    "\n",
    "pedidos = (3, 8, 2, 1, 5, 3, 1, 4)\n"
   ]
  },
  {
   "cell_type": "code",
   "execution_count": 27,
   "metadata": {},
   "outputs": [
    {
     "data": {
      "text/plain": [
       "2"
      ]
     },
     "execution_count": 27,
     "metadata": {},
     "output_type": "execute_result"
    }
   ],
   "source": [
    "# el método .count() nos va a devolver el número de veces que aparece un elemento en nuestra tupla. \n",
    "## en nuestro ejemplo, cuantas veces aparece el número 3 en pedidos\n",
    "\n",
    "pedidos.count(3)"
   ]
  },
  {
   "cell_type": "code",
   "execution_count": 28,
   "metadata": {},
   "outputs": [
    {
     "data": {
      "text/plain": [
       "4"
      ]
     },
     "execution_count": 28,
     "metadata": {},
     "output_type": "execute_result"
    }
   ],
   "source": [
    "# el método .index() nos devuelve el índice o la posición del elemento que le pasemos\n",
    "## en nuestro caso, en que posición está el elemento 5 en nuestra tupla? \n",
    "\n",
    "pedidos.index(5)\n"
   ]
  },
  {
   "cell_type": "markdown",
   "metadata": {},
   "source": [
    "La gran diferencia con los otros contenedores es que tuplas son inmutables. Una vez definidas su contenido no puede cambiar:"
   ]
  },
  {
   "cell_type": "code",
   "execution_count": 29,
   "metadata": {},
   "outputs": [
    {
     "data": {
      "text/plain": [
       "(3, 8, 2, 1, 5, 3, 1, 4)"
      ]
     },
     "execution_count": 29,
     "metadata": {},
     "output_type": "execute_result"
    }
   ],
   "source": [
    "# sigamos trabajando con pedidos\n",
    "\n",
    "pedidos"
   ]
  },
  {
   "cell_type": "code",
   "execution_count": 30,
   "metadata": {},
   "outputs": [
    {
     "data": {
      "text/plain": [
       "1"
      ]
     },
     "execution_count": 30,
     "metadata": {},
     "output_type": "execute_result"
    }
   ],
   "source": [
    "# extraigamos el tercer elemento de nuestra tupla\n",
    "pedidos[3]"
   ]
  },
  {
   "cell_type": "code",
   "execution_count": 31,
   "metadata": {},
   "outputs": [
    {
     "ename": "TypeError",
     "evalue": "'tuple' object does not support item assignment",
     "output_type": "error",
     "traceback": [
      "\u001b[1;31m---------------------------------------------------------------------------\u001b[0m",
      "\u001b[1;31mTypeError\u001b[0m                                 Traceback (most recent call last)",
      "\u001b[1;32mc:\\Users\\agarc\\Documents\\Adalab\\materiales-da-promo-b\\modulo-1\\modulo-1-python-basico\\assets\\notebooks\\modulo-1-leccion-05-tuplas.ipynb Celda 53\u001b[0m in \u001b[0;36m<module>\u001b[1;34m\u001b[0m\n\u001b[0;32m      <a href='vscode-notebook-cell:/c%3A/Users/agarc/Documents/Adalab/materiales-da-promo-b/modulo-1/modulo-1-python-basico/assets/notebooks/modulo-1-leccion-05-tuplas.ipynb#ch0000052?line=0'>1</a>\u001b[0m \u001b[39m# qué pasaría si quisieramos cambiar el valor del elemento que está en tercera posición? \u001b[39;00m\n\u001b[1;32m----> <a href='vscode-notebook-cell:/c%3A/Users/agarc/Documents/Adalab/materiales-da-promo-b/modulo-1/modulo-1-python-basico/assets/notebooks/modulo-1-leccion-05-tuplas.ipynb#ch0000052?line=1'>2</a>\u001b[0m pedidos[\u001b[39m3\u001b[39m] \u001b[39m=\u001b[39m \u001b[39m2\u001b[39m\n",
      "\u001b[1;31mTypeError\u001b[0m: 'tuple' object does not support item assignment"
     ]
    }
   ],
   "source": [
    "# qué pasaría si quisieramos cambiar el valor del elemento que está en tercera posición? \n",
    "pedidos[3] = 2"
   ]
  },
  {
   "cell_type": "markdown",
   "metadata": {},
   "source": [
    "Un nuevo error! En este caso tenemos el siguiente error `TypeError: 'tuple' object does not support item assignment`. En este caso nos dice que en las tuplas no podemos hacer una reasignación de los elementos, es decir, son inmutables!!!"
   ]
  },
  {
   "cell_type": "code",
   "execution_count": 32,
   "metadata": {},
   "outputs": [
    {
     "data": {
      "text/plain": [
       "[2, 3]"
      ]
     },
     "execution_count": 32,
     "metadata": {},
     "output_type": "execute_result"
    }
   ],
   "source": [
    "# Si recordabamos en listas esto si lo podíamos hacer, recordémoslo con un ejemplo\n",
    "\n",
    "lista"
   ]
  },
  {
   "cell_type": "code",
   "execution_count": 33,
   "metadata": {},
   "outputs": [],
   "source": [
    "# cambiamos el valor del elemento que está en segunda posición\n",
    "\n",
    "lista[1] = 0"
   ]
  },
  {
   "cell_type": "code",
   "execution_count": 34,
   "metadata": {},
   "outputs": [
    {
     "data": {
      "text/plain": [
       "[2, 0]"
      ]
     },
     "execution_count": 34,
     "metadata": {},
     "output_type": "execute_result"
    }
   ],
   "source": [
    "# chequeamos si tuvieron lugar los cambios\n",
    "\n",
    "lista"
   ]
  },
  {
   "cell_type": "markdown",
   "metadata": {},
   "source": [
    "Tenemos dos formas de modificar el contenido de una tupla: \n",
    "\n",
    "- Convirtiéndola a una lista, hacer las modificaciones que queramos, y convertirla a una tupla de nuevo usando `tuple()`.\n",
    "\n",
    "- Haciendo la suma de dos tuplas\n",
    "\n",
    "\n",
    "En ambos casos, no estamos cambiando la tupla sino creado otra tupla con un contenido parecido."
   ]
  },
  {
   "cell_type": "markdown",
   "metadata": {},
   "source": [
    "**Modificamos tuplas convirtiéndolas en listas**"
   ]
  },
  {
   "cell_type": "code",
   "execution_count": 35,
   "metadata": {},
   "outputs": [],
   "source": [
    "# veamos un ejemplo con la primera opción: \n",
    "\n",
    "tupla5 = (2,2,3)\n",
    "tupla6 = (4,5,6)"
   ]
  },
  {
   "cell_type": "code",
   "execution_count": 36,
   "metadata": {},
   "outputs": [
    {
     "data": {
      "text/plain": [
       "[2, 2, 3]"
      ]
     },
     "execution_count": 36,
     "metadata": {},
     "output_type": "execute_result"
    }
   ],
   "source": [
    "lista5 = list(tupla5)\n",
    "lista5"
   ]
  },
  {
   "cell_type": "code",
   "execution_count": 37,
   "metadata": {},
   "outputs": [],
   "source": [
    "# usamos el método extend para añadir nuevos elementos a la lista\n",
    "lista5.extend(tupla6)"
   ]
  },
  {
   "cell_type": "code",
   "execution_count": 38,
   "metadata": {},
   "outputs": [
    {
     "data": {
      "text/plain": [
       "[2, 2, 3, 4, 5, 6]"
      ]
     },
     "execution_count": 38,
     "metadata": {},
     "output_type": "execute_result"
    }
   ],
   "source": [
    "# chequeamos ahora el contenido de lista5\n",
    "lista5"
   ]
  },
  {
   "cell_type": "code",
   "execution_count": 39,
   "metadata": {},
   "outputs": [
    {
     "data": {
      "text/plain": [
       "(2, 2, 3, 4, 5, 6)"
      ]
     },
     "execution_count": 39,
     "metadata": {},
     "output_type": "execute_result"
    }
   ],
   "source": [
    "# y por último lo convertimos en tupla\n",
    "tupla5 = tuple(lista5)\n",
    "tupla5"
   ]
  },
  {
   "cell_type": "markdown",
   "metadata": {},
   "source": [
    "Y voilá! Ya tenemos nuestra tupla con los elementos nuevos. "
   ]
  },
  {
   "cell_type": "markdown",
   "metadata": {},
   "source": [
    "**Modificamos la tupla sumándolas**"
   ]
  },
  {
   "cell_type": "code",
   "execution_count": 40,
   "metadata": {},
   "outputs": [],
   "source": [
    "# lo que queremos hacer es añadir los elementos de la tupla6 en la 5, como hemos visto no tenemos métodos porque son inmutables. Pero... podremos sumar las dos tuplas?\n",
    "\n",
    "tupla5 = tupla5 + tupla6"
   ]
  },
  {
   "cell_type": "code",
   "execution_count": 41,
   "metadata": {},
   "outputs": [
    {
     "data": {
      "text/plain": [
       "(2, 2, 3, 4, 5, 6, 4, 5, 6)"
      ]
     },
     "execution_count": 41,
     "metadata": {},
     "output_type": "execute_result"
    }
   ],
   "source": [
    "# si ahora vemos el contenido veremos que la tupla5 tiene 6 elementos\n",
    "tupla5"
   ]
  },
  {
   "cell_type": "markdown",
   "metadata": {},
   "source": [
    "**Repaso**\n",
    "- Indexar tuplas con `[0]`, `[a:b]`, `[-2]`, etc.\n",
    "\n",
    "- Desempaquetar tuplas a variables.\n",
    "\n",
    "- Desempaquetar a menos variables que elementos."
   ]
  },
  {
   "cell_type": "markdown",
   "metadata": {
    "id": "5PcBreuKcX1-"
   },
   "source": [
    "\n",
    "\n",
    "---\n",
    "\n",
    "\n",
    "## Ejercicios: propiedades y métodos de una tupla\n",
    "\n",
    "- Indexar tuplas\n",
    "\n",
    "  6. Saca de `persona2` el contenido del tercer elemento y llámalo `color`.\n",
    "\n",
    "  7. ¿Cuántos elementos hay ahora en `persona1`? (Es decir, ¿cuál es su longitud?)\n",
    "\n",
    "  8. Guarda el último elemento de `persona1` en `zapatos`.\n",
    "\n",
    "- Desempaquetar\n",
    "\n",
    "  9. Crea las variables `peso`, `altura`, `color`, `camiseta`, `pantalon`, y `zapatos` y llénalas con el contenido de `persona1`. Imprime `camiseta` para comprobar el resultado.\n",
    "\n",
    "  10. Crea las variables `peso`, `altura`, `color`, `ropa`, y `zapatos` y llénalas con el contenido adecuado de `persona1`. Imprime `ropa` para comprobar el resultado.\n",
    "  \n",
    "  11. Intenta sobreescribir las variables del ejercicio 9. con el contenido de `persona2`, ¿te sale? \n",
    "---\n",
    "\n"
   ]
  },
  {
   "cell_type": "code",
   "execution_count": null,
   "metadata": {
    "id": "Z5I4yJpqcX2F"
   },
   "outputs": [],
   "source": []
  },
  {
   "cell_type": "markdown",
   "metadata": {
    "id": "aCLnA8lRcX2F"
   },
   "source": [
    "\n",
    "\n",
    "---\n"
   ]
  },
  {
   "cell_type": "markdown",
   "metadata": {},
   "source": [
    "# La función `zip()`\n",
    "Una función que vas a usar mucho es `zip()`, una función que produce tuplas. Para poder visualizar sus contenidos lo convertimos a una lista antes de llamar a `print()`:"
   ]
  },
  {
   "cell_type": "code",
   "execution_count": 42,
   "metadata": {},
   "outputs": [],
   "source": [
    "# imaginemos que tenemos dos listas\n",
    "\n",
    "letras = ['b', 'a', 'd', 'c']\n",
    "numeros = [ 2,   4,   3,   1]"
   ]
  },
  {
   "cell_type": "code",
   "execution_count": 43,
   "metadata": {},
   "outputs": [
    {
     "data": {
      "text/plain": [
       "<zip at 0x177ac40ec00>"
      ]
     },
     "execution_count": 43,
     "metadata": {},
     "output_type": "execute_result"
    }
   ],
   "source": [
    "# sobre las cuáles vamos a aplicar un zip\n",
    "zip1 = zip(letras, numeros)\n",
    "zip1"
   ]
  },
  {
   "cell_type": "markdown",
   "metadata": {},
   "source": [
    "Vaya... nos devuelve algo raro que no sabemos que es muy bien... ¿Cómo podríamos hacer que esto fuera legible? **Convirtiéndolo a lista**"
   ]
  },
  {
   "cell_type": "code",
   "execution_count": 44,
   "metadata": {},
   "outputs": [
    {
     "data": {
      "text/plain": [
       "[('b', 2), ('a', 4), ('d', 3), ('c', 1)]"
      ]
     },
     "execution_count": 44,
     "metadata": {},
     "output_type": "execute_result"
    }
   ],
   "source": [
    "list(zip1)"
   ]
  },
  {
   "cell_type": "code",
   "execution_count": 45,
   "metadata": {},
   "outputs": [
    {
     "data": {
      "text/plain": [
       "[]"
      ]
     },
     "execution_count": 45,
     "metadata": {},
     "output_type": "execute_result"
    }
   ],
   "source": [
    "# pero chicas... que pasaría si ahora volvemos el zip1? \n",
    "list(zip1)"
   ]
  },
  {
   "cell_type": "markdown",
   "metadata": {},
   "source": [
    "Ups... nos da una lista vacía! ¡Cómo es esto posible! Zip es una función de Python de un solo uso, es decir, una vez que la hemos usado una vez, no la podemos volver a usar. Si quisieramos volver a usar el resultado de ese zip tendríamos que volver a ejecutar la primera línea de código. \n",
    "\n",
    "```python\n",
    "# imaginemos que tenemos dos listas\n",
    "\n",
    "letras = ['b', 'a', 'd', 'c']\n",
    "numeros = [ 2,   4,   3,   1]\n",
    "\n",
    "# sobre las cuáles vamos a aplicar un zip\n",
    "zip1 = zip(letras, numeros)\n",
    "zip1\n",
    "```"
   ]
  },
  {
   "cell_type": "markdown",
   "metadata": {},
   "source": [
    "¿Ves como el resultado es una lista llena de tuplas? Así los contenidos de letras y números están conectados, y se puede usar el uno para ordenar el orden del otro. De momento, cada elemento de `zip1` empieza con una letra. ¿Cómo podríamos ordenar el resultado del `zip` por orden alfabético?"
   ]
  },
  {
   "cell_type": "code",
   "execution_count": 46,
   "metadata": {},
   "outputs": [
    {
     "data": {
      "text/plain": [
       "[('b', 2), ('a', 4), ('d', 3), ('c', 1)]"
      ]
     },
     "execution_count": 46,
     "metadata": {},
     "output_type": "execute_result"
    }
   ],
   "source": [
    "# almacenamos los resultados del zip en una variable\n",
    "zip1 = zip(letras, numeros)\n",
    "listzip = list(zip1)\n",
    "listzip"
   ]
  },
  {
   "cell_type": "code",
   "execution_count": 47,
   "metadata": {},
   "outputs": [
    {
     "name": "stdout",
     "output_type": "stream",
     "text": [
      "[('a', 4), ('b', 2), ('c', 1), ('d', 3)]\n"
     ]
    }
   ],
   "source": [
    "# es una lista, y por lo tanto, podremos usar el método sort de las listas\n",
    "listzip.sort()\n",
    "print(listzip)"
   ]
  },
  {
   "cell_type": "markdown",
   "metadata": {},
   "source": [
    "Sin embargo, si lo definimos al revés, las tuplas empiezan con un número. El método `.sort()` entonces les ordena así:"
   ]
  },
  {
   "cell_type": "code",
   "execution_count": 48,
   "metadata": {},
   "outputs": [
    {
     "data": {
      "text/plain": [
       "[(2, 'b'), (4, 'a'), (3, 'd'), (1, 'c')]"
      ]
     },
     "execution_count": 48,
     "metadata": {},
     "output_type": "execute_result"
    }
   ],
   "source": [
    "# definimos una variable con el resultado del zip, pero en este caso en orden inverso\n",
    "zip2 = zip(numeros, letras)\n",
    "listzip2 = list(zip2)\n",
    "listzip2"
   ]
  },
  {
   "cell_type": "code",
   "execution_count": 49,
   "metadata": {},
   "outputs": [
    {
     "name": "stdout",
     "output_type": "stream",
     "text": [
      "[(1, 'c'), (2, 'b'), (3, 'd'), (4, 'a')]\n"
     ]
    }
   ],
   "source": [
    "# aplicamos el método .sort()\n",
    "listzip2.sort()\n",
    "print(listzip2)"
   ]
  },
  {
   "cell_type": "markdown",
   "metadata": {},
   "source": [
    "La función `zip()` lo que va hacer es crearnos parejas, donde iremos combinando elemento a elemento de cada una de nuestras listas. De esta forma, nos combinará el primer elemento de la primera lista, con el primer elemento de la segunda lista. Luego, el segundo elemento de la primera lista con el segundo elemento de la segunda lista y así sucesivamente. "
   ]
  },
  {
   "cell_type": "code",
   "execution_count": 50,
   "metadata": {},
   "outputs": [],
   "source": [
    "# nos podemos preguntar... lo podemos hacer con tres listas? \n",
    "## creemos otra lista, pero en este caso crearemos una lista con menos elementos\n",
    "\n",
    "otros = [\"hola\", \"adios\", \"que tal\"]\n"
   ]
  },
  {
   "cell_type": "code",
   "execution_count": 51,
   "metadata": {},
   "outputs": [
    {
     "name": "stdout",
     "output_type": "stream",
     "text": [
      "['b', 'a', 'd', 'c']\n",
      "[2, 4, 3, 1]\n"
     ]
    }
   ],
   "source": [
    "# además, recordemos las listas de letras y numeros\n",
    "\n",
    "print(letras)\n",
    "print(numeros)"
   ]
  },
  {
   "cell_type": "markdown",
   "metadata": {},
   "source": [
    "No hace falta que los contenedores tengan la misma longitud. El `zip` se corta automaticamente a la última fila que puede rellenar por completo, es decir al tamaño de la lista más corta:"
   ]
  },
  {
   "cell_type": "code",
   "execution_count": 52,
   "metadata": {},
   "outputs": [
    {
     "name": "stdout",
     "output_type": "stream",
     "text": [
      "[('b', 2, 'hola'), ('a', 4, 'adios'), ('d', 3, 'que tal')]\n",
      "Tamaño del zip: 3\n"
     ]
    }
   ],
   "source": [
    "zip1 = list(zip(letras, numeros, otros))\n",
    "print(zip1)\n",
    "print('Tamaño del zip:',len(zip1))"
   ]
  },
  {
   "cell_type": "markdown",
   "metadata": {},
   "source": [
    "**Repaso**\n",
    "- Distintas estructuras de datos, como listas o tuplas,  pueden ser juntadas con `zip()`.\n",
    "\n",
    "- El tamaño del `zip` se ajusta al elemento itereable más corto.\n",
    "\n",
    "- Un zip se construye a la hora de utilizarlo, y una vez usado (leído) el contenido del zip se borra.\n"
   ]
  },
  {
   "cell_type": "markdown",
   "metadata": {
    "id": "5PcBreuKcX1-"
   },
   "source": [
    "\n",
    "\n",
    "---\n",
    "\n",
    "\n",
    "## Ejercicios: la función `zip()`\n",
    "\n",
    "- Zipear\n",
    "\n",
    "  11. Crea el zip `personas` con `persona1` y `persona2`.\n",
    "   \n",
    "  12. ¿Cuántas \"filas\" tiene `personas`? ¿Por qué?\n",
    "  13. Crea una tupla `etiquetas` con `'peso'`, `'altura'`, y `'color'`.\n",
    "  14. Crea al zip de `etiquetas`, `persona1`, y `persona2`.\n",
    "\n",
    "- Manipular zips\n",
    "\n",
    "  15. Ordena las propiedades de las personas alfabéticamente. \n",
    "\n",
    "---\n",
    "\n"
   ]
  },
  {
   "cell_type": "code",
   "execution_count": null,
   "metadata": {
    "id": "Z5I4yJpqcX2F"
   },
   "outputs": [],
   "source": []
  },
  {
   "cell_type": "markdown",
   "metadata": {
    "id": "aCLnA8lRcX2F"
   },
   "source": [
    "\n",
    "\n",
    "---\n"
   ]
  }
 ],
 "metadata": {
  "kernelspec": {
   "display_name": "Python 3.10.5 64-bit (windows store)",
   "language": "python",
   "name": "python3"
  },
  "language_info": {
   "codemirror_mode": {
    "name": "ipython",
    "version": 3
   },
   "file_extension": ".py",
   "mimetype": "text/x-python",
   "name": "python",
   "nbconvert_exporter": "python",
   "pygments_lexer": "ipython3",
   "version": "3.10.5"
  },
  "toc": {
   "base_numbering": 1,
   "nav_menu": {},
   "number_sections": true,
   "sideBar": true,
   "skip_h1_title": false,
   "title_cell": "Table of Contents",
   "title_sidebar": "Contents",
   "toc_cell": true,
   "toc_position": {},
   "toc_section_display": true,
   "toc_window_display": true
  },
  "vscode": {
   "interpreter": {
    "hash": "8560ba40f25f8debc3b21cfdc72602d7855270eb253b25380125fbd9b6cd3418"
   }
  }
 },
 "nbformat": 4,
 "nbformat_minor": 2
}

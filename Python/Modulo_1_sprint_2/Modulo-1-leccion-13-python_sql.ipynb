{
 "cells": [
  {
   "cell_type": "markdown",
   "metadata": {},
   "source": [
    "# Python + SQL: MySQL Connector/Python"
   ]
  },
  {
   "cell_type": "markdown",
   "metadata": {},
   "source": [
    "En esta lección vamos a aprender a conectarnos a bases de datos y realizar consultas SQL básicas desde un script de Python gracias al uso de MySQL Connector/Python.\n"
   ]
  },
  {
   "cell_type": "markdown",
   "metadata": {},
   "source": [
    "## Conexión a una base de datos usando MySQL Connector:\n",
    "\n",
    "A continuación vamos a ver cómo podemos conectarnos a una base de datos MySQL existente desde un script de Python usando *connect*.\n",
    "\n",
    "El constructor de la clase, *connect()* crea una conexión al servidor MySQL y devuelve un objeto de tipo MySQLConnection. Veamos cómo usarlo mediante un ejemplo:\n",
    "\n",
    "\n",
    "🚨🚨 **NOTA** 🚨🚨 En caso de que la celda de abajo os de error deberéis escribir en la terminal: \n",
    "\n",
    "```\n",
    "pip install mysql-connector\n",
    "\n",
    "y \n",
    "\n",
    "pip install mysql-connector-python\n",
    "```\n",
    "\n",
    "Para hacer esto fijaos que en la terminal os ponga \"base\" y que en el jupyter en la parte de arriba a la derecha ponga \"base (y la versión de Python)\". Después de esto, volved a ejecutar la celda. "
   ]
  },
  {
   "cell_type": "markdown",
   "metadata": {},
   "source": [
    "### Descripción de los argumentos de *connect()*\n",
    "\n",
    "Antes de empezar, vamos a ver algunos de los argumentos principales que usaremos para la conexión a una base de datos usando el constructor *connect()*. \n",
    "\n",
    "- `user`: el nombre de usuario con el que nos queremos autenticar en el servidor MySQL. \n",
    "\n",
    "- `password`: la contraseña con la que nos queremos autenticar en el servidor MySQL. \n",
    "\n",
    "- `database`: el nombre de la base de datos a la que nos queremos conectar.\n",
    "\n",
    "- `host`: el nombre o la dirección IP del servidor MySQL. El valor por defecto es \"localhost\" (o 127.0.0.1 que es lo mismo).\n",
    "\n",
    "- `port`: el puerto TCP/IP del servidor MySQL. Debe ser un número entero. El valor por defecto es el puerto 3306.\n",
    "\n",
    "Existen más argumentos que son opcionales o que se usarán cuando queramos configurar la conexión de una manera muy concreta. Podéis consultar la descripción de todos los parámetros [aquí](https://dev.mysql.com/doc/connector-python/en/connector-python-connectargs.html). "
   ]
  },
  {
   "cell_type": "code",
   "execution_count": 1,
   "metadata": {},
   "outputs": [
    {
     "name": "stdout",
     "output_type": "stream",
     "text": [
      "<mysql.connector.connection.MySQLConnection object at 0x000001ACA5716D00>\n"
     ]
    }
   ],
   "source": [
    "import mysql.connector\n",
    "\n",
    "cnx = mysql.connector.connect(user='root', password='AlumnaAdalab',\n",
    "                              host='127.0.0.1',\n",
    "                              database='tienda')\n",
    "\n",
    "print(cnx)\n",
    "cnx.close()"
   ]
  },
  {
   "cell_type": "markdown",
   "metadata": {},
   "source": [
    "En ocasiones podemos sufrir errores de conexión, por lo que es interesante añadir manejo de excepciones al código anterior. Usando *errorcode* podemos crear casos para cada tipo de error posible:"
   ]
  },
  {
   "cell_type": "code",
   "execution_count": 2,
   "metadata": {},
   "outputs": [],
   "source": [
    "# para añadir errores deberemos importarnos la siguiente librería\n",
    "from mysql.connector import errorcode\n",
    "\n",
    "# En este código estamos haciendo un try except. Si recordamos esto nos permitía hacer un manejo de los errores, para evitar que nuestro código se pare. Para eso lo que estamos haciendo es\n",
    "## intenta hacer la conexión son la base de datos de tienda \n",
    "try:\n",
    "  cnx = mysql.connector.connect(user='root', password='AlumnaAdalab',\n",
    "                              host='127.0.0.1',\n",
    "                              database='tienda')\n",
    "# en caso de que no lo consigas por que hay algún error entonces ...\n",
    "except mysql.connector.Error as err:\n",
    "\n",
    "  # si es un error con la contraseña devuelveme un mensaje de acceso denegado ya que tenemos problemas con la contraseña\n",
    "  if err.errno == errorcode.ER_ACCESS_DENIED_ERROR:\n",
    "    print(\"Something is wrong with your user name or password\")\n",
    "  \n",
    "  # si el error no tiene que ver con la contraseña, puede ser porque la base de datos no exista, devuelveme un mensaje de que la base de datos no existe\n",
    "  elif err.errno == errorcode.ER_BAD_DB_ERROR:\n",
    "    print(\"Database does not exist\")\n",
    "  \n",
    "  # si no es por ninguno de los errores anteriores, printeame cual es el error que estoy teniendo en mi conexión\n",
    "  else:\n",
    "    print(err)\n",
    "else:\n",
    "  cnx.close()"
   ]
  },
  {
   "cell_type": "markdown",
   "metadata": {},
   "source": [
    "Otra opción para pasar los argumentos de conexión a *connector()* es crear un diccionario que luego se pase como argumento al constructor:"
   ]
  },
  {
   "cell_type": "code",
   "execution_count": 3,
   "metadata": {},
   "outputs": [],
   "source": [
    "config = {\n",
    "  'user': 'root',\n",
    "  'password': 'AlumnaAdalab',\n",
    "  'host': '127.0.0.1',\n",
    "  'database': 'tienda',\n",
    "  'raise_on_warnings': True\n",
    "}\n",
    "\n",
    "cnx = mysql.connector.connect(**config)\n",
    "\n",
    "cnx.close()\n"
   ]
  },
  {
   "cell_type": "markdown",
   "metadata": {},
   "source": [
    "## Desconexión de la base de datos usando MySQLConnector\n",
    "\n",
    "Una vez hayamos terminado de realizar las consultas o trabajar de cualquier modo con la base de datos a la que nos hemos conectado con el connector, tendremos que desconectarnos usando el método *close()*:"
   ]
  },
  {
   "cell_type": "code",
   "execution_count": 4,
   "metadata": {},
   "outputs": [],
   "source": [
    "\n",
    "config = {\n",
    "  'user': 'root',\n",
    "  'password': 'AlumnaAdalab',\n",
    "  'host': '127.0.0.1',\n",
    "  'database': 'tienda',\n",
    "  'raise_on_warnings': True\n",
    "}\n",
    "\n",
    "cnx = mysql.connector.connect(**config)\n",
    "\n",
    "cnx.close()"
   ]
  },
  {
   "cell_type": "markdown",
   "metadata": {},
   "source": [
    "En este fragmente de código hemos creado la conexión cnx a la base de datos \"tienda\". Usando esa conexión podríamos por ejemplo realizar consultas sobre los datos almacenados en sus tablas (más adelante veremos como hacerlo). Una vez hayamos terminado y nos queramos desconectar será necesario usar el método *close()* del objeto connector que hemos definido (en este caso llamado cnx). Este método no recibe argumentos, por lo que su uso es sencillo."
   ]
  },
  {
   "cell_type": "markdown",
   "metadata": {},
   "source": [
    "## Realización de queries usando MySQLConnector:\n",
    "\n",
    "Para realizar consultas a tablas de la base de datos a la que nos hemos conectado usando *connect()*, podemos usar el método *cursor()*. Empecemos viendo un ejemplo sencillo:"
   ]
  },
  {
   "cell_type": "code",
   "execution_count": 5,
   "metadata": {},
   "outputs": [
    {
     "name": "stdout",
     "output_type": "stream",
     "text": [
      "La ciudad Stavern pertenece al estado  None\n",
      "La ciudad San Rafael pertenece al estado  CA\n"
     ]
    }
   ],
   "source": [
    "\n",
    "# realizamos la conexión con la base de datos que queremos como hemos aprendido hasta ahora\n",
    "cnx = mysql.connector.connect(user='root', password='AlumnaAdalab',\n",
    "                              host='127.0.0.1',\n",
    "                              database='tienda')\n",
    "\n",
    "# Iniciamos el cursor y lo almacenamos en una variable llamada \"cursor\". Con esto estaremos creando un objeto de tipo cursor al que luego llamaremos para ejecutar las consultas SQL, \n",
    "## es decir, es el que nos va a permitir comunicarnos con la base de datos de SQL\n",
    "cursor = cnx.cursor()\n",
    "\n",
    "# El siguiente paso consiste en definir la consulta (query) que queremos realizar. \n",
    "## Para ello usamos todos los conocimientos sobre SQL que hemos adquirido durante el curso. La consulta se define como un string o cadena de texto.\n",
    "### La consulta SQL de este ejemplo es sencilla y estática, pero podría incluir variables (lo veremos más adelante). \n",
    "\n",
    "query = (\"\"\"SELECT city, state FROM customers \n",
    "         WHERE customer_number BETWEEN 121 AND 124\"\"\")\n",
    "\n",
    "# Luego llamamos al método execute() del cursor, al que pasamos como argumento el string que contiene la consulta.\n",
    "## De esta manera se ejecuta la consulta en la base de datos y si todo va correctamente, el resultado se almacenará en el cursor.\n",
    "cursor.execute(query)\n",
    "\n",
    "# es el momento de ver los resultados, como dijimos se almacenan en la variable \"cursor\". Para ello, usaremos un for loop para acceder a los resultados de una forma \"humana\". \n",
    "\n",
    "# Dependiendo del número de resultados que devuelva la consulta, será más interesante usar un método de acceso a los mismos u otro. \n",
    "## En el ejemplo anterior, hemos decidido usar el objeto cursor como un iterable e ir accediendo a cada registro mediante un bucle for. \n",
    "### Cada llamada al iterable de esta manera nos ha ido devolviendo un valor para cada atributo seleccionado en la consulta.\n",
    "####  Más adelante veremos opciones alternativas para acceder a los resultados de las consultas.\n",
    "for ciudad, estado in cursor:\n",
    "  print(f\"La ciudad {ciudad} pertenece al estado  {estado}\")\n",
    "\n",
    "cursor.close()\n",
    "cnx.close()"
   ]
  },
  {
   "cell_type": "markdown",
   "metadata": {},
   "source": [
    "Imaginemos ahora que nuestro jefe esta interesado en buscar el número de cliente, su estatus, la fecha en la que se realizó y el número de la factura de los pedidos que tenemos en nuestra base de datos. Pero no nos interesa para todas las fechas, solo queremos esta información para los pedidos realizados entre las siguientes fechas: \n",
    "\n",
    "- 1 Enero 2003\n",
    "- 31 Marzo 2003. \n",
    "\n",
    "Para esto lo primero que vamos a necesitar son las fechas, pero para esto recordemos que SQL necesita un formato específico (AAAA-MM-DD). Podríamos pasar las fechas a mano, pero esto es muy poco eficaz. Para sacar las fechas en el formato que necesitamos usaremos la librería `datetime`"
   ]
  },
  {
   "cell_type": "code",
   "execution_count": 6,
   "metadata": {},
   "outputs": [
    {
     "name": "stdout",
     "output_type": "stream",
     "text": [
      "La fecha de inicio es 2003-01-01 y la de final es 2003-03-31\n"
     ]
    }
   ],
   "source": [
    "import datetime\n",
    "\n",
    "hire_start = datetime.date(2003, 1, 1)\n",
    "hire_end = datetime.date(2003, 3, 31)\n",
    "\n",
    "print(f\"La fecha de inicio es {hire_start} y la de final es {hire_end}\")"
   ]
  },
  {
   "cell_type": "markdown",
   "metadata": {},
   "source": [
    "`datetime` es una librería suuuper útil cuando queremos trabajar con fechas. [Aquí](https://www.programiz.com/python-programming/datetime) os dejamos más documentación sobre esta librería.\n",
    "\n",
    "Genial! Ya tenemos nuestras fechas en el formato que necesitamos. Ahora es el momento de ponernos a construir el código que necesitamos como aprendimos hasta ahora. "
   ]
  },
  {
   "cell_type": "code",
   "execution_count": 7,
   "metadata": {},
   "outputs": [
    {
     "name": "stdout",
     "output_type": "stream",
     "text": [
      "El numero de orden 10100, esta en estado Shipped con fecha 2003-01-06\n",
      "El numero de orden 10101, esta en estado Shipped con fecha 2003-01-09\n",
      "El numero de orden 10102, esta en estado Shipped con fecha 2003-01-10\n",
      "El numero de orden 10103, esta en estado Shipped con fecha 2003-01-29\n",
      "El numero de orden 10104, esta en estado Shipped con fecha 2003-01-31\n",
      "El numero de orden 10105, esta en estado Shipped con fecha 2003-02-11\n",
      "El numero de orden 10106, esta en estado Shipped con fecha 2003-02-17\n",
      "El numero de orden 10107, esta en estado Shipped con fecha 2003-02-24\n",
      "El numero de orden 10108, esta en estado Shipped con fecha 2003-03-03\n",
      "El numero de orden 10109, esta en estado Shipped con fecha 2003-03-10\n",
      "El numero de orden 10110, esta en estado Shipped con fecha 2003-03-18\n",
      "El numero de orden 10111, esta en estado Shipped con fecha 2003-03-25\n",
      "El numero de orden 10112, esta en estado Shipped con fecha 2003-03-24\n",
      "El numero de orden 10113, esta en estado Shipped con fecha 2003-03-26\n"
     ]
    }
   ],
   "source": [
    "\n",
    "# realizamos la conexión con la BBDD que queremos\n",
    "cnx = mysql.connector.connect(user='root', password='AlumnaAdalab',\n",
    "                              host='127.0.0.1',\n",
    "                              database='tienda')\n",
    "\n",
    "# iniciamos el cursor                               \n",
    "cursor = cnx.cursor()\n",
    "\n",
    "# escribimos la query con los datos que querremos extraer. Aquí, si nos fijamos hay una cosa que nos debe llamar la atención, y es la sintaxis que usamos en el WHERE, en conreto el símbolo \"%s\". \n",
    "## esto nos servirá para hacer queries dinámicas. En este caso, al poner estos símbolos lo que hacemos es decirle a SQL que será un valor que puede cambiar. ¿Nuestra duda ahora puede ser, como le pasamos esos valores?\n",
    "### esto lo haremos cuando ejecutemos en el comando execute, como vemos en la siguiente línea. \n",
    "query = (\"SELECT customer_number, status, order_date, order_number FROM orders \"\n",
    "         \"WHERE order_date BETWEEN %s AND %s\")\n",
    "\n",
    "# si nos fijamos aquí la cosa ha cambiado un poco respecto al ejemplo anterior, y es que vemos que hemos añadido una tupla con las variables de las fechas sobre las que queremos buscar. Así es como especificaremos cuales\n",
    "## son los valores específicos de nuestra búsqueda.  \n",
    "cursor.execute(query, (hire_start, hire_end))\n",
    "\n",
    "# por último mostramos los resultados de la misma forma que en el ejemplo anterior. \n",
    "for customer_number, status, order_date, order_number in cursor:\n",
    "  print(f\"El numero de orden {order_number}, esta en estado {status} con fecha {order_date}\")\n",
    "\n",
    "cursor.close()\n",
    "cnx.close()"
   ]
  },
  {
   "cell_type": "markdown",
   "metadata": {},
   "source": [
    "\n",
    "Cómo detalle, hasta ahora al `cursor` no le hemos pasado ningún parámetro, pero lo podemos hacer. Los argumentos que podemos usar para inicializarlo y algunos métodos útiles que podemos llamar desde nuestro código Python:"
   ]
  },
  {
   "cell_type": "markdown",
   "metadata": {},
   "source": [
    "```python\n",
    "cnx = mysql.connector.connect(user='root', password='AlumnaAdalab',\n",
    "                              host='127.0.0.1',\n",
    "                              database='tienda')\n",
    "cursor = cnx.cursor([arg=value[, arg=value]...])\n",
    "```"
   ]
  },
  {
   "cell_type": "markdown",
   "metadata": {},
   "source": [
    "Los argumentos que se pueden pasar al método *cursor()* son:\n",
    "\n",
    "- **buffered**: si es True, el cursor recupera (fetch) todas las filas de la base de datos cuando se ejecuta la query. Este tipo de cursors es útil cuando las consultas devuelven un número pequeño de resultados, o cuando queremos combinar el resultado de múltiples queries. En el caso de que lo configuremos como False, las filas de la base de datos se irán recuperando según se vayan solicitando (por ejemplo cuando usamos el cursor como un iterable). De esta manera no llenaremos la memoria de la máquina cuando las consultas devuelvan un número muy elevado de registros.\n",
    " \n",
    "- **raw**: si lo configuramos como True, el cursor no realizará las conversiones automáticas entre tipos de datos de MySQL y Python (como sí hacía en el caso de las fechas en los ejemplos que hemos visto anteriormente). Un cursor de tipo raw es interesante cuando queremos máxima velocidad o cuando queremos hacer alguna otra conversión diferente a la por defecto.\n",
    "\n",
    "- **dictionary**: si lo configuramos como True, el cursor devolverá las filas de los resultados como diccionarios. \n",
    "\n",
    "- **named_tuple**: si lo configuramos como True, el cursor devolverá las filas de los resultados como named tuples (tuplas con un nombre por el que podemos llamarlas para recuperar su contenido).\n",
    "\n",
    "- **prepared**: si este argumento tiene el valor True, el cursor se configurará para ejecutar sentencias “prepared”.<!--¿SIGNIFICADO DE ESTO?-->\n",
    "\n",
    "- **cursor_class**: un argumento que se puede usar para indicar que subclase queremos usar para instanciar el nuevo cursor. Hay varias clases que heredan de MySQLCursor como MySQLCursor Buffered, MySQLCursorRaw, etc. Dependiendo de la combinación de argumentos que pasemos a *cursor()* crearemos un cursor de una u otra de esas clases. Sin embargo, la clase final puede forzarse usando este argumento.\n"
   ]
  },
  {
   "cell_type": "markdown",
   "metadata": {},
   "source": [
    "## Conocer las bases de datos del servidor\n",
    "\n",
    "Si queremos conocer qué bases de datos existen en un servidor concreto, podemos hacerlo con el comando `SHOW DATABASES`, veamos como hacerlo:"
   ]
  },
  {
   "cell_type": "code",
   "execution_count": 8,
   "metadata": {},
   "outputs": [
    {
     "name": "stdout",
     "output_type": "stream",
     "text": [
      "('bd_alumna',)\n",
      "('bd_pruebas',)\n",
      "('creacion_tienda',)\n",
      "('information_schema',)\n",
      "('leccion-1-sql',)\n",
      "('leccion-2-sql',)\n",
      "('leccion_10_sql',)\n",
      "('leccion_11_sql',)\n",
      "('leccion_12_sql',)\n",
      "('leccion_13_sql',)\n",
      "('leccion_14_sql',)\n",
      "('leccion_3_sql',)\n",
      "('leccion_4_sql',)\n",
      "('leccion_5_sql',)\n",
      "('leccion_6_sql',)\n",
      "('leccion_7_sql',)\n",
      "('leccion_8_sql',)\n",
      "('leccion_9_sql',)\n",
      "('mysql',)\n",
      "('northwind',)\n",
      "('performance_schema',)\n",
      "('project1',)\n",
      "('sakila',)\n",
      "('spotify',)\n",
      "('tienda',)\n",
      "('tienda_zapatillas',)\n",
      "('world',)\n"
     ]
    }
   ],
   "source": [
    "# conectamos con la BBDD\n",
    "mydb = mysql.connector.connect(\n",
    "                  user='root', password='AlumnaAdalab',\n",
    "                  host='127.0.0.1',\n",
    "                  database='tienda')\n",
    "# iniciamos el cursor\n",
    "mycursor = mydb.cursor()\n",
    "\n",
    "# ejecutamos nuestra query para que nos muestre las BBDD que tenemos en nuestro servidor\n",
    "mycursor.execute(\"SHOW DATABASES\")\n",
    "\n",
    "for x in mycursor:\n",
    "  print(x)\n"
   ]
  },
  {
   "cell_type": "markdown",
   "metadata": {},
   "source": [
    "Normalmente en todos los servidores MySQL tendremos las bases de datos que hemos creado, y adicionalmente otras bases de datos adicionales llamadas 'mysql', 'sys' 'information_schema' y 'performance_schema'. Esas bases de datos contienen tablas con información acerca del propio servidor, las otras bases de datos y sus tablas, etc. En la siguiente sección por ejemplo usaremos 'information_schema' para conocer las tablas que componen una base de datos concreta."
   ]
  },
  {
   "cell_type": "markdown",
   "metadata": {},
   "source": [
    "## Conocer las tablas que componen una base de datos:\n",
    "\n",
    "También podemos mostrar por pantalla los nombres de las tablas de una de las bases de datos del servidor. Para ello se usará la sentencia` SHOW TABLES`. De esta manera conoceremos mejor la estructura de la base de datos y si las tablas que queremos consultar se encuentran en ella."
   ]
  },
  {
   "cell_type": "code",
   "execution_count": 9,
   "metadata": {},
   "outputs": [
    {
     "name": "stdout",
     "output_type": "stream",
     "text": [
      "('customers',)\n",
      "('employees',)\n",
      "('offices',)\n",
      "('order_details',)\n",
      "('orders',)\n",
      "('payments',)\n",
      "('product_lines',)\n",
      "('products',)\n",
      "('proyectos',)\n"
     ]
    }
   ],
   "source": [
    "# conectamos con el servidor\n",
    "mydb = mysql.connector.connect(\n",
    "              user='root', password='AlumnaAdalab',\n",
    "              host='127.0.0.1',\n",
    "              database='tienda'\n",
    ")\n",
    "\n",
    "# creamos el servidor\n",
    "mycursor = mydb.cursor()\n",
    "\n",
    "# ejecutamos la query para ver las tablas de la BBDD que hemos indicado en la conexión\n",
    "mycursor.execute(\"SHOW TABLES\")\n",
    "\n",
    "for x in mycursor:\n",
    "  print(x)"
   ]
  },
  {
   "cell_type": "markdown",
   "metadata": {},
   "source": [
    "## Conocer las columnas que componen una tabla:\n",
    "\n",
    "También podemos mostrar por pantalla la información de las columnas que componen una tabla específica. Podremos realizar esta tarea gracias a la existencia de la base de datos information_schema, cuyo objetivo es contener información acerca de el resto de las bases de datos del servidor y de sus tablas. La consulta que tendremos que realizar será la siguiente:"
   ]
  },
  {
   "cell_type": "code",
   "execution_count": 10,
   "metadata": {},
   "outputs": [
    {
     "name": "stdout",
     "output_type": "stream",
     "text": [
      "('def', 'tienda', 'payments', 'customer_number', 1, None, 'NO', 'int', None, None, 10, 0, None, None, None, 'int', 'PRI', '', 'select,insert,update,references', '', '', None)\n"
     ]
    }
   ],
   "source": [
    "\n",
    "# conectamos con el servidor\n",
    "mydb = mysql.connector.connect(\n",
    "  host=\"localhost\",\n",
    "  user=\"root\",\n",
    "  password=\"AlumnaAdalab\",\n",
    "  database=\"INFORMATION_SCHEMA\" # en este caso tendremos que especificar que queremos información del esquema\n",
    ")\n",
    "\n",
    "# iniciamos el cursor\n",
    "mycursor = mydb.cursor()\n",
    "\n",
    "## ejecutamos nuestra query, especificando de que tabla queremos la información\n",
    "mycursor.execute(\"SELECT * FROM COLUMNS WHERE TABLE_NAME = 'payments'\")\n",
    "\n",
    "for x in mycursor:\n",
    "  print(x)\n",
    "  break\n",
    "\n"
   ]
  },
  {
   "cell_type": "markdown",
   "metadata": {},
   "source": [
    "## Modos de acceso a los resultados de la consulta\n",
    "\n",
    "Como vimos al inicio de la lección el uso de *execute()* hace que el cursor se convierta en un iterable al cual podemos acceder de diferentes maneras. En ejemplos anteriores hemos visto como podemos acceder a cada uno de los elemenos del mismo como si fuese una lista mediante un bucle *for*. Sin embargo, MySQL Connector/Python nos proporciona maneras específicas para realizarlo.\n",
    "\n",
    "### fetchone()\n",
    "\n",
    "Si lo que queremos es acceder a la primera fila del resultado, se puede utilizar el método *fetchone()*. Este método devolverá la primera fila del resultado de la consulta y avanzará el cursor al siguiente registro del resultado. Debido a esto, la siguiente vez que ejecutemos el método *fetchone()* en el mismo cursor, se mostrarán diferentes datos. Veámoslo con un ejemplo:\n"
   ]
  },
  {
   "cell_type": "code",
   "execution_count": 11,
   "metadata": {},
   "outputs": [
    {
     "name": "stdout",
     "output_type": "stream",
     "text": [
      "(1002, 'Murphy', 'Diane', 'x5800', 'dmurphy@classicmodelcars.com', '1', None, 'President')\n",
      "(1056, 'Patterson', 'Mary', 'x4611', 'mpatterso@classicmodelcars.com', '1', 1002, 'VP Sales')\n"
     ]
    }
   ],
   "source": [
    "# conectamos con el servidor\n",
    "mydb = mysql.connector.connect(\n",
    "  host=\"localhost\",\n",
    "  user=\"root\",\n",
    "  password=\"AlumnaAdalab\",\n",
    "  database=\"tienda\"\n",
    ")\n",
    "\n",
    "# iniciamos el cursor\n",
    "mycursor = mydb.cursor()\n",
    "\n",
    "# ejecutamos nuestra query\n",
    "mycursor.execute(\"SELECT * FROM employees\")\n",
    "\n",
    "# en este caso solo nos interesa el primer resultado de nuestra query, por lo que usaremos el método fetchone, para que python solo nos devuelva el primero y después printemos el resultado\n",
    "myresult = mycursor.fetchone()\n",
    "print(myresult)\n",
    "\n",
    "# volvemos a ejecutar el método fetchone, como ya nos mostró el primer resultado, y no hemos cerrado la conexión, al volver a ejecutarlo, nos mostrará el segundo resultado. Pero si nos fijamos, lo hace de uno en uno. \n",
    "myresult = mycursor.fetchone()\n",
    "print(myresult)"
   ]
  },
  {
   "cell_type": "markdown",
   "metadata": {},
   "source": [
    "### fetchall()\n",
    "\n",
    "Si por el contrario lo que queremos es seleccionar todos los resultados que ha devuelto una consulta SQL, podemos usar el método *fetchall()*: "
   ]
  },
  {
   "cell_type": "code",
   "execution_count": 27,
   "metadata": {},
   "outputs": [
    {
     "name": "stdout",
     "output_type": "stream",
     "text": [
      "[(1002, 'Murphy', 'Diane', 'x5800', 'dmurphy@classicmodelcars.com', '1', None, 'President'), (1056, 'Patterson', 'Mary', 'x4611', 'mpatterso@classicmodelcars.com', '1', 1002, 'VP Sales'), (1076, 'Firrelli', 'Jeff', 'x9273', 'jfirrelli@classicmodelcars.com', '1', 1002, 'VP Marketing'), (1088, 'Patterson', 'William', 'x4871', 'wpatterson@classicmodelcars.com', '6', 1056, 'Sales Manager (APAC)'), (1102, 'Bondur', 'Gerard', 'x5408', 'gbondur@classicmodelcars.com', '4', 1056, 'Sale Manager (EMEA)'), (1143, 'Bow', 'Anthony', 'x5428', 'abow@classicmodelcars.com', '1', 1056, 'Sales Manager (NA)'), (1165, 'Jennings', 'Leslie', 'x3291', 'ljennings@classicmodelcars.com', '1', 1143, 'Sales Rep'), (1166, 'Thompson', 'Leslie', 'x4065', 'lthompson@classicmodelcars.com', '1', 1143, 'Sales Rep'), (1188, 'Firrelli', 'Julie', 'x2173', 'jfirrelli@classicmodelcars.com', '2', 1143, 'Sales Rep'), (1216, 'Patterson', 'Steve', 'x4334', 'spatterson@classicmodelcars.com', '2', 1143, 'Sales Rep'), (1286, 'Tseng', 'Foon Yue', 'x2248', 'ftseng@classicmodelcars.com', '3', 1143, 'Sales Rep'), (1323, 'Vanauf', 'George', 'x4102', 'gvanauf@classicmodelcars.com', '3', 1143, 'Sales Rep'), (1337, 'Bondur', 'Loui', 'x6493', 'lbondur@classicmodelcars.com', '4', 1102, 'Sales Rep'), (1370, 'Hernandez', 'Gerard', 'x2028', 'ghernande@classicmodelcars.com', '4', 1102, 'Sales Rep'), (1401, 'Castillo', 'Pamela', 'x2759', 'pcastillo@classicmodelcars.com', '4', 1102, 'Sales Rep'), (1501, 'Bott', 'Larry', 'x2311', 'lbott@classicmodelcars.com', '7', 1102, 'Sales Rep'), (1504, 'Jones', 'Barry', 'x102', 'bjones@classicmodelcars.com', '7', 1102, 'Sales Rep'), (1611, 'Fixter', 'Andy', 'x101', 'afixter@classicmodelcars.com', '6', 1088, 'Sales Rep'), (1612, 'Marsh', 'Peter', 'x102', 'pmarsh@classicmodelcars.com', '6', 1088, 'Sales Rep'), (1619, 'King', 'Tom', 'x103', 'tking@classicmodelcars.com', '6', 1088, 'Sales Rep'), (1621, 'Nishi', 'Mami', 'x101', 'mnishi@classicmodelcars.com', '5', 1056, 'Sales Rep'), (1625, 'Kato', 'Yoshimi', 'x102', 'ykato@classicmodelcars.com', '5', 1621, 'Sales Rep'), (1702, 'Gerard', 'Martin', 'x2312', 'mgerard@classicmodelcars.com', '4', 1102, 'Sales Rep')]\n"
     ]
    }
   ],
   "source": [
    "# establecemos la conexión con el servidor\n",
    "mydb = mysql.connector.connect(\n",
    "  host=\"localhost\",\n",
    "  user=\"root\",\n",
    "  password=\"AlumnaAdalab\",\n",
    "  database=\"tienda\"\n",
    ")\n",
    "\n",
    "# inciamos el cursor\n",
    "mycursor = mydb.cursor()\n",
    "\n",
    "# realizamos nuestra query\n",
    "mycursor.execute(\"SELECT * FROM employees\")\n",
    "\n",
    "# le decimos a Python que nos devuelva todos los resultados de la query usando el método fetchall\n",
    "myresult = mycursor.fetchall()\n",
    "print(myresult)"
   ]
  },
  {
   "cell_type": "markdown",
   "metadata": {},
   "source": [
    "Si después quisieramos acceder a cada registro de los resultados, podemos hacerlo usando myresult como un iterable. Esto nos devolverá cada fila resultado como una tupla:"
   ]
  },
  {
   "cell_type": "code",
   "execution_count": 12,
   "metadata": {},
   "outputs": [
    {
     "name": "stdout",
     "output_type": "stream",
     "text": [
      "(1002, 'Murphy', 'Diane', 'x5800', 'dmurphy@classicmodelcars.com', '1', None, 'President')\n",
      "(1056, 'Patterson', 'Mary', 'x4611', 'mpatterso@classicmodelcars.com', '1', 1002, 'VP Sales')\n",
      "(1076, 'Firrelli', 'Jeff', 'x9273', 'jfirrelli@classicmodelcars.com', '1', 1002, 'VP Marketing')\n",
      "(1088, 'Patterson', 'William', 'x4871', 'wpatterson@classicmodelcars.com', '6', 1056, 'Sales Manager (APAC)')\n",
      "(1102, 'Bondur', 'Gerard', 'x5408', 'gbondur@classicmodelcars.com', '4', 1056, 'Sale Manager (EMEA)')\n",
      "(1143, 'Bow', 'Anthony', 'x5428', 'abow@classicmodelcars.com', '1', 1056, 'Sales Manager (NA)')\n",
      "(1165, 'Jennings', 'Leslie', 'x3291', 'ljennings@classicmodelcars.com', '1', 1143, 'Sales Rep')\n",
      "(1166, 'Thompson', 'Leslie', 'x4065', 'lthompson@classicmodelcars.com', '1', 1143, 'Sales Rep')\n",
      "(1188, 'Firrelli', 'Julie', 'x2173', 'jfirrelli@classicmodelcars.com', '2', 1143, 'Sales Rep')\n",
      "(1216, 'Patterson', 'Steve', 'x4334', 'spatterson@classicmodelcars.com', '2', 1143, 'Sales Rep')\n",
      "(1286, 'Tseng', 'Foon Yue', 'x2248', 'ftseng@classicmodelcars.com', '3', 1143, 'Sales Rep')\n",
      "(1323, 'Vanauf', 'George', 'x4102', 'gvanauf@classicmodelcars.com', '3', 1143, 'Sales Rep')\n",
      "(1337, 'Bondur', 'Loui', 'x6493', 'lbondur@classicmodelcars.com', '4', 1102, 'Sales Rep')\n",
      "(1370, 'Hernandez', 'Gerard', 'x2028', 'ghernande@classicmodelcars.com', '4', 1102, 'Sales Rep')\n",
      "(1401, 'Castillo', 'Pamela', 'x2759', 'pcastillo@classicmodelcars.com', '4', 1102, 'Sales Rep')\n",
      "(1501, 'Bott', 'Larry', 'x2311', 'lbott@classicmodelcars.com', '7', 1102, 'Sales Rep')\n",
      "(1504, 'Jones', 'Barry', 'x102', 'bjones@classicmodelcars.com', '7', 1102, 'Sales Rep')\n",
      "(1611, 'Fixter', 'Andy', 'x101', 'afixter@classicmodelcars.com', '6', 1088, 'Sales Rep')\n",
      "(1612, 'Marsh', 'Peter', 'x102', 'pmarsh@classicmodelcars.com', '6', 1088, 'Sales Rep')\n",
      "(1619, 'King', 'Tom', 'x103', 'tking@classicmodelcars.com', '6', 1088, 'Sales Rep')\n",
      "(1621, 'Nishi', 'Mami', 'x101', 'mnishi@classicmodelcars.com', '5', 1056, 'Sales Rep')\n",
      "(1625, 'Kato', 'Yoshimi', 'x102', 'ykato@classicmodelcars.com', '5', 1621, 'Sales Rep')\n",
      "(1702, 'Gerard', 'Martin', 'x2312', 'mgerard@classicmodelcars.com', '4', 1102, 'Sales Rep')\n"
     ]
    }
   ],
   "source": [
    "# conectamos con el servidor\n",
    "mydb = mysql.connector.connect(\n",
    "  host=\"localhost\",\n",
    "  user=\"root\",\n",
    "  password=\"AlumnaAdalab\",\n",
    "  database=\"tienda\"\n",
    ")\n",
    "\n",
    "# iniciamos el cursor\n",
    "mycursor = mydb.cursor()\n",
    "\n",
    "# realizamos la query\n",
    "mycursor.execute(\"SELECT * FROM employees\")\n",
    "\n",
    "# le pedimos que nos muestre todos los resultados\n",
    "myresult = mycursor.fetchall()\n",
    "\n",
    "# accedemos a cada fila de una en una usando un bucle for. Fijaos que nos devuelve tuplas!!!\n",
    "for x in myresult:\n",
    "  print(x)"
   ]
  },
  {
   "cell_type": "markdown",
   "metadata": {},
   "source": [
    "MySQL Connector/Python permite usar todo tipo de consultas SQL como argumento del método *execute()*. En los ejercicios finales vas a practicar su uso con operadores de SQL tales como WHERE, GROUP BY, HAVING, ORDER BY, LIMIT, etc."
   ]
  },
  {
   "cell_type": "markdown",
   "metadata": {},
   "source": [
    "## Integración de resultados de MySQL Connector/Python con Pandas\n",
    "\n",
    "**¿Qué es Pandas?**\n",
    "\n",
    "Pandas es una librería para Python que es ampliamente utilizada para el manejo de datos a media/gran escala. Cuando estamos trabajando con datos estructurados en forma de tabla como los almacenados en una base de datos SQL, una hoja de cálculo tipo Excel, etc., podemos usar Pandas para cargar esos datos, limpiarlos, procesarlos para extraer información y combinar diferentes fuentes de datos, entre otras cosas.\n",
    "\n",
    "En Pandas, la estructura básica en las que cargaremos los datos se llama DataFrame. Una vez hemos creado el DataFrame con las fuentes de datos de nuestra elección (csv, excel, sql, json, etc.) podemos utilizar métodos ya incluidos en la librería para calcular la media, la mediana, el máximo o el mínimo de una columna numérica, entre otros.También podemos combinar los valores de varias columnas en una sola, agruparlas por categorías, en incluso realizar gráficos de manera sencilla gracias a la integración de Pandas con Matplotlib.\n",
    "\n",
    "En esta parte de la lección veremos como cargar datos de una base de datos MySQL a un DataFrame de Pandas y haremos algunos cálculos sencillos sobre esos datos. En posteriores lecciones veremos una introducción más profunda a Pandas y a cómo usarlo. El objetivo de los siguientes ejemplos es simplemente que os quede claro cómo integrar MySQL Connector/Python con Pandas.\n",
    "\n",
    "\n",
    "## Crear un dataframe de Pandas a partir de una sentencia SQL:\n",
    "\n",
    "Como hemos indicado anteriormente, Pandas soporta la integración sencilla con muchos formatos de archivo y fuentes de datos: ficheros csv, excel y json, bases de datos sql, etc. Por ejemplo, para leer los datos de una base de datos SQL podemos ejecutar el siguiente trozo de código, el cual incluye una llamada al método constructor de DataFrames: "
   ]
  },
  {
   "cell_type": "code",
   "execution_count": 13,
   "metadata": {},
   "outputs": [],
   "source": [
    "# importamos pandas\n",
    "import pandas as pd\n",
    "\n",
    "# hacemos la conexión con el servidor\n",
    "cnx = mysql.connector.connect(user='root', password='AlumnaAdalab',\n",
    "                              host='127.0.0.1',\n",
    "                              database='tienda')\n",
    "\n",
    "# iniciamos el cursor\n",
    "mycursor = cnx.cursor()\n",
    "\n",
    "# ejecutamos nuestra query\n",
    "mycursor.execute(\"SELECT * FROM employees\")\n",
    "\n",
    "# le decimos que nos devuelva todos los resultados y los almacenamos en una variable llamada myresult\n",
    "myresult = mycursor.fetchall()\n",
    "\n",
    "#Creamos un dataframe con los resultados de la consulta SQL almacenados en myresult. Si os fijais le estamos pasando un parámetro llamado \"columns\" donde estamos especificando cuáles son las columnas de lo que será nuestro dataframe\n",
    "df = pd.DataFrame(myresult, columns = ['ID', 'Nombre', 'Apellido','Email','Telefono','Direccion','Ciudad','Pais'])\n",
    "\n",
    "#Cerramos la conexion\n",
    "cnx.close()"
   ]
  },
  {
   "cell_type": "code",
   "execution_count": 14,
   "metadata": {},
   "outputs": [
    {
     "data": {
      "text/html": [
       "<div>\n",
       "<style scoped>\n",
       "    .dataframe tbody tr th:only-of-type {\n",
       "        vertical-align: middle;\n",
       "    }\n",
       "\n",
       "    .dataframe tbody tr th {\n",
       "        vertical-align: top;\n",
       "    }\n",
       "\n",
       "    .dataframe thead th {\n",
       "        text-align: right;\n",
       "    }\n",
       "</style>\n",
       "<table border=\"1\" class=\"dataframe\">\n",
       "  <thead>\n",
       "    <tr style=\"text-align: right;\">\n",
       "      <th></th>\n",
       "      <th>ID</th>\n",
       "      <th>Nombre</th>\n",
       "      <th>Apellido</th>\n",
       "      <th>Email</th>\n",
       "      <th>Telefono</th>\n",
       "      <th>Direccion</th>\n",
       "      <th>Ciudad</th>\n",
       "      <th>Pais</th>\n",
       "    </tr>\n",
       "  </thead>\n",
       "  <tbody>\n",
       "    <tr>\n",
       "      <th>0</th>\n",
       "      <td>1002</td>\n",
       "      <td>Murphy</td>\n",
       "      <td>Diane</td>\n",
       "      <td>x5800</td>\n",
       "      <td>dmurphy@classicmodelcars.com</td>\n",
       "      <td>1</td>\n",
       "      <td>NaN</td>\n",
       "      <td>President</td>\n",
       "    </tr>\n",
       "    <tr>\n",
       "      <th>1</th>\n",
       "      <td>1056</td>\n",
       "      <td>Patterson</td>\n",
       "      <td>Mary</td>\n",
       "      <td>x4611</td>\n",
       "      <td>mpatterso@classicmodelcars.com</td>\n",
       "      <td>1</td>\n",
       "      <td>1002.0</td>\n",
       "      <td>VP Sales</td>\n",
       "    </tr>\n",
       "    <tr>\n",
       "      <th>2</th>\n",
       "      <td>1076</td>\n",
       "      <td>Firrelli</td>\n",
       "      <td>Jeff</td>\n",
       "      <td>x9273</td>\n",
       "      <td>jfirrelli@classicmodelcars.com</td>\n",
       "      <td>1</td>\n",
       "      <td>1002.0</td>\n",
       "      <td>VP Marketing</td>\n",
       "    </tr>\n",
       "    <tr>\n",
       "      <th>3</th>\n",
       "      <td>1088</td>\n",
       "      <td>Patterson</td>\n",
       "      <td>William</td>\n",
       "      <td>x4871</td>\n",
       "      <td>wpatterson@classicmodelcars.com</td>\n",
       "      <td>6</td>\n",
       "      <td>1056.0</td>\n",
       "      <td>Sales Manager (APAC)</td>\n",
       "    </tr>\n",
       "    <tr>\n",
       "      <th>4</th>\n",
       "      <td>1102</td>\n",
       "      <td>Bondur</td>\n",
       "      <td>Gerard</td>\n",
       "      <td>x5408</td>\n",
       "      <td>gbondur@classicmodelcars.com</td>\n",
       "      <td>4</td>\n",
       "      <td>1056.0</td>\n",
       "      <td>Sale Manager (EMEA)</td>\n",
       "    </tr>\n",
       "  </tbody>\n",
       "</table>\n",
       "</div>"
      ],
      "text/plain": [
       "     ID     Nombre Apellido  Email                         Telefono Direccion  \\\n",
       "0  1002     Murphy    Diane  x5800     dmurphy@classicmodelcars.com         1   \n",
       "1  1056  Patterson     Mary  x4611   mpatterso@classicmodelcars.com         1   \n",
       "2  1076   Firrelli     Jeff  x9273   jfirrelli@classicmodelcars.com         1   \n",
       "3  1088  Patterson  William  x4871  wpatterson@classicmodelcars.com         6   \n",
       "4  1102     Bondur   Gerard  x5408     gbondur@classicmodelcars.com         4   \n",
       "\n",
       "   Ciudad                  Pais  \n",
       "0     NaN             President  \n",
       "1  1002.0              VP Sales  \n",
       "2  1002.0          VP Marketing  \n",
       "3  1056.0  Sales Manager (APAC)  \n",
       "4  1056.0   Sale Manager (EMEA)  "
      ]
     },
     "execution_count": 14,
     "metadata": {},
     "output_type": "execute_result"
    }
   ],
   "source": [
    "# mostramos las 5 primeras filas del dataframe usando el método .head()\n",
    "df.head()"
   ]
  },
  {
   "cell_type": "markdown",
   "metadata": {},
   "source": [
    "Otra opción más directa para ver los resultados de nuestra query en un DataFrame consiste en encargarle a Pandas directamente la ejecución de la consulta SQL. Para ello usaremos el método *read_sql_query()* como vemos a continuación: "
   ]
  },
  {
   "cell_type": "code",
   "execution_count": 16,
   "metadata": {},
   "outputs": [
    {
     "name": "stderr",
     "output_type": "stream",
     "text": [
      "C:\\Users\\Paula\\AppData\\Local\\Temp\\ipykernel_4948\\918109711.py:11: UserWarning: pandas only supports SQLAlchemy connectable (engine/connection) or database string URI or sqlite3 DBAPI2 connection. Other DBAPI2 objects are not tested. Please consider using SQLAlchemy.\n",
      "  df = pd.read_sql_query(sql, cnx)\n",
      "C:\\Users\\Paula\\AppData\\Local\\Temp\\ipykernel_4948\\918109711.py:14: UserWarning: pandas only supports SQLAlchemy connectable (engine/connection) or database string URI or sqlite3 DBAPI2 connection. Other DBAPI2 objects are not tested. Please consider using SQLAlchemy.\n",
      "  pd.read_sql(sql, cnx)\n"
     ]
    }
   ],
   "source": [
    "\n",
    "# realizamos la conexión con el servidor\n",
    "cnx = mysql.connector.connect(user='root', password='AlumnaAdalab',\n",
    "                              host='127.0.0.1',\n",
    "                              database='tienda')\n",
    "\n",
    "\n",
    "# escribimos nuestra query\n",
    "sql = \"SELECT * FROM employees\"\n",
    "\n",
    "# utilizamos el método pd.read_sql_qury() para convertir los resultados de nuestra query en un DataFrame que podamos ver de forma amigable en Python\n",
    "df = pd.read_sql_query(sql, cnx)\n",
    "\n",
    "#Lo siguiente es un wrap up que funciona tanto con una tabla como con una consulta SQL.\n",
    "pd.read_sql(sql, cnx)\n",
    "\n",
    "#Cerramos la conexion\n",
    "cnx.close()"
   ]
  },
  {
   "cell_type": "code",
   "execution_count": 17,
   "metadata": {},
   "outputs": [
    {
     "data": {
      "text/html": [
       "<div>\n",
       "<style scoped>\n",
       "    .dataframe tbody tr th:only-of-type {\n",
       "        vertical-align: middle;\n",
       "    }\n",
       "\n",
       "    .dataframe tbody tr th {\n",
       "        vertical-align: top;\n",
       "    }\n",
       "\n",
       "    .dataframe thead th {\n",
       "        text-align: right;\n",
       "    }\n",
       "</style>\n",
       "<table border=\"1\" class=\"dataframe\">\n",
       "  <thead>\n",
       "    <tr style=\"text-align: right;\">\n",
       "      <th></th>\n",
       "      <th>employee_number</th>\n",
       "      <th>last_name</th>\n",
       "      <th>first_name</th>\n",
       "      <th>extension</th>\n",
       "      <th>email</th>\n",
       "      <th>office_code</th>\n",
       "      <th>reports_to</th>\n",
       "      <th>job_title</th>\n",
       "    </tr>\n",
       "  </thead>\n",
       "  <tbody>\n",
       "    <tr>\n",
       "      <th>0</th>\n",
       "      <td>1002</td>\n",
       "      <td>Murphy</td>\n",
       "      <td>Diane</td>\n",
       "      <td>x5800</td>\n",
       "      <td>dmurphy@classicmodelcars.com</td>\n",
       "      <td>1</td>\n",
       "      <td>NaN</td>\n",
       "      <td>President</td>\n",
       "    </tr>\n",
       "    <tr>\n",
       "      <th>1</th>\n",
       "      <td>1056</td>\n",
       "      <td>Patterson</td>\n",
       "      <td>Mary</td>\n",
       "      <td>x4611</td>\n",
       "      <td>mpatterso@classicmodelcars.com</td>\n",
       "      <td>1</td>\n",
       "      <td>1002.0</td>\n",
       "      <td>VP Sales</td>\n",
       "    </tr>\n",
       "    <tr>\n",
       "      <th>2</th>\n",
       "      <td>1076</td>\n",
       "      <td>Firrelli</td>\n",
       "      <td>Jeff</td>\n",
       "      <td>x9273</td>\n",
       "      <td>jfirrelli@classicmodelcars.com</td>\n",
       "      <td>1</td>\n",
       "      <td>1002.0</td>\n",
       "      <td>VP Marketing</td>\n",
       "    </tr>\n",
       "    <tr>\n",
       "      <th>3</th>\n",
       "      <td>1088</td>\n",
       "      <td>Patterson</td>\n",
       "      <td>William</td>\n",
       "      <td>x4871</td>\n",
       "      <td>wpatterson@classicmodelcars.com</td>\n",
       "      <td>6</td>\n",
       "      <td>1056.0</td>\n",
       "      <td>Sales Manager (APAC)</td>\n",
       "    </tr>\n",
       "    <tr>\n",
       "      <th>4</th>\n",
       "      <td>1102</td>\n",
       "      <td>Bondur</td>\n",
       "      <td>Gerard</td>\n",
       "      <td>x5408</td>\n",
       "      <td>gbondur@classicmodelcars.com</td>\n",
       "      <td>4</td>\n",
       "      <td>1056.0</td>\n",
       "      <td>Sale Manager (EMEA)</td>\n",
       "    </tr>\n",
       "    <tr>\n",
       "      <th>5</th>\n",
       "      <td>1143</td>\n",
       "      <td>Bow</td>\n",
       "      <td>Anthony</td>\n",
       "      <td>x5428</td>\n",
       "      <td>abow@classicmodelcars.com</td>\n",
       "      <td>1</td>\n",
       "      <td>1056.0</td>\n",
       "      <td>Sales Manager (NA)</td>\n",
       "    </tr>\n",
       "    <tr>\n",
       "      <th>6</th>\n",
       "      <td>1165</td>\n",
       "      <td>Jennings</td>\n",
       "      <td>Leslie</td>\n",
       "      <td>x3291</td>\n",
       "      <td>ljennings@classicmodelcars.com</td>\n",
       "      <td>1</td>\n",
       "      <td>1143.0</td>\n",
       "      <td>Sales Rep</td>\n",
       "    </tr>\n",
       "    <tr>\n",
       "      <th>7</th>\n",
       "      <td>1166</td>\n",
       "      <td>Thompson</td>\n",
       "      <td>Leslie</td>\n",
       "      <td>x4065</td>\n",
       "      <td>lthompson@classicmodelcars.com</td>\n",
       "      <td>1</td>\n",
       "      <td>1143.0</td>\n",
       "      <td>Sales Rep</td>\n",
       "    </tr>\n",
       "    <tr>\n",
       "      <th>8</th>\n",
       "      <td>1188</td>\n",
       "      <td>Firrelli</td>\n",
       "      <td>Julie</td>\n",
       "      <td>x2173</td>\n",
       "      <td>jfirrelli@classicmodelcars.com</td>\n",
       "      <td>2</td>\n",
       "      <td>1143.0</td>\n",
       "      <td>Sales Rep</td>\n",
       "    </tr>\n",
       "    <tr>\n",
       "      <th>9</th>\n",
       "      <td>1216</td>\n",
       "      <td>Patterson</td>\n",
       "      <td>Steve</td>\n",
       "      <td>x4334</td>\n",
       "      <td>spatterson@classicmodelcars.com</td>\n",
       "      <td>2</td>\n",
       "      <td>1143.0</td>\n",
       "      <td>Sales Rep</td>\n",
       "    </tr>\n",
       "  </tbody>\n",
       "</table>\n",
       "</div>"
      ],
      "text/plain": [
       "   employee_number  last_name first_name extension  \\\n",
       "0             1002     Murphy      Diane     x5800   \n",
       "1             1056  Patterson       Mary     x4611   \n",
       "2             1076   Firrelli       Jeff     x9273   \n",
       "3             1088  Patterson    William     x4871   \n",
       "4             1102     Bondur     Gerard     x5408   \n",
       "5             1143        Bow    Anthony     x5428   \n",
       "6             1165   Jennings     Leslie     x3291   \n",
       "7             1166   Thompson     Leslie     x4065   \n",
       "8             1188   Firrelli      Julie     x2173   \n",
       "9             1216  Patterson      Steve     x4334   \n",
       "\n",
       "                             email office_code  reports_to  \\\n",
       "0     dmurphy@classicmodelcars.com           1         NaN   \n",
       "1   mpatterso@classicmodelcars.com           1      1002.0   \n",
       "2   jfirrelli@classicmodelcars.com           1      1002.0   \n",
       "3  wpatterson@classicmodelcars.com           6      1056.0   \n",
       "4     gbondur@classicmodelcars.com           4      1056.0   \n",
       "5        abow@classicmodelcars.com           1      1056.0   \n",
       "6   ljennings@classicmodelcars.com           1      1143.0   \n",
       "7   lthompson@classicmodelcars.com           1      1143.0   \n",
       "8   jfirrelli@classicmodelcars.com           2      1143.0   \n",
       "9  spatterson@classicmodelcars.com           2      1143.0   \n",
       "\n",
       "              job_title  \n",
       "0             President  \n",
       "1              VP Sales  \n",
       "2          VP Marketing  \n",
       "3  Sales Manager (APAC)  \n",
       "4   Sale Manager (EMEA)  \n",
       "5    Sales Manager (NA)  \n",
       "6             Sales Rep  \n",
       "7             Sales Rep  \n",
       "8             Sales Rep  \n",
       "9             Sales Rep  "
      ]
     },
     "execution_count": 17,
     "metadata": {},
     "output_type": "execute_result"
    }
   ],
   "source": [
    "# mostramos las 10 primeras filas de nuestros resultados \n",
    "df.head(10)\n"
   ]
  },
  {
   "cell_type": "markdown",
   "metadata": {},
   "source": [
    "El método *read_sql_query()* necesita como argumentos un string de texto que contenga la consulta SQL que queramos realizar, y una variable que contenga la conexión con la base de datos sobre la que se vaya a ejecutar la consulta (en este caso la hemos obtenido con el método *connect()* de MySQL Connector pero acepta otras opciones). El resultado es el mismo que cuando usamos *myresult* como argumento del constructor de DataFrame, con la ventaja de que en este caso los nombres de las columnas del dataframe se toman automáticamente de los nombres de las columnas del resultado de la consulta SQL."
   ]
  },
  {
   "cell_type": "markdown",
   "metadata": {},
   "source": [
    "## Guardado de datos:\n",
    "\n",
    "Una vez hayamos obtenido los resultados que queremos mediante el procesado de los datos con Pandas, esta librería también proporciona diferentes maneras de almacenar los datos gracias a el uso de los métodos *to_\\** (cuyo nombre variará en función del formato en el que se quieren guardar los datos). Veamos unos ejemplos al respecto:"
   ]
  },
  {
   "cell_type": "code",
   "execution_count": 20,
   "metadata": {},
   "outputs": [
    {
     "name": "stdout",
     "output_type": "stream",
     "text": [
      "    employee_number  last_name first_name extension                            email office_code  reports_to             job_title\n",
      "0              1002     Murphy      Diane     x5800     dmurphy@classicmodelcars.com           1         NaN             President\n",
      "1              1056  Patterson       Mary     x4611   mpatterso@classicmodelcars.com           1      1002.0              VP Sales\n",
      "2              1076   Firrelli       Jeff     x9273   jfirrelli@classicmodelcars.com           1      1002.0          VP Marketing\n",
      "3              1088  Patterson    William     x4871  wpatterson@classicmodelcars.com           6      1056.0  Sales Manager (APAC)\n",
      "4              1102     Bondur     Gerard     x5408     gbondur@classicmodelcars.com           4      1056.0   Sale Manager (EMEA)\n",
      "5              1143        Bow    Anthony     x5428        abow@classicmodelcars.com           1      1056.0    Sales Manager (NA)\n",
      "6              1165   Jennings     Leslie     x3291   ljennings@classicmodelcars.com           1      1143.0             Sales Rep\n",
      "7              1166   Thompson     Leslie     x4065   lthompson@classicmodelcars.com           1      1143.0             Sales Rep\n",
      "8              1188   Firrelli      Julie     x2173   jfirrelli@classicmodelcars.com           2      1143.0             Sales Rep\n",
      "9              1216  Patterson      Steve     x4334  spatterson@classicmodelcars.com           2      1143.0             Sales Rep\n",
      "10             1286      Tseng   Foon Yue     x2248      ftseng@classicmodelcars.com           3      1143.0             Sales Rep\n",
      "11             1323     Vanauf     George     x4102     gvanauf@classicmodelcars.com           3      1143.0             Sales Rep\n",
      "12             1337     Bondur       Loui     x6493     lbondur@classicmodelcars.com           4      1102.0             Sales Rep\n",
      "13             1370  Hernandez     Gerard     x2028   ghernande@classicmodelcars.com           4      1102.0             Sales Rep\n",
      "14             1401   Castillo     Pamela     x2759   pcastillo@classicmodelcars.com           4      1102.0             Sales Rep\n",
      "15             1501       Bott      Larry     x2311       lbott@classicmodelcars.com           7      1102.0             Sales Rep\n",
      "16             1504      Jones      Barry      x102      bjones@classicmodelcars.com           7      1102.0             Sales Rep\n",
      "17             1611     Fixter       Andy      x101     afixter@classicmodelcars.com           6      1088.0             Sales Rep\n",
      "18             1612      Marsh      Peter      x102      pmarsh@classicmodelcars.com           6      1088.0             Sales Rep\n",
      "19             1619       King        Tom      x103       tking@classicmodelcars.com           6      1088.0             Sales Rep\n",
      "20             1621      Nishi       Mami      x101      mnishi@classicmodelcars.com           5      1056.0             Sales Rep\n",
      "21             1625       Kato    Yoshimi      x102       ykato@classicmodelcars.com           5      1621.0             Sales Rep\n",
      "22             1702     Gerard     Martin     x2312     mgerard@classicmodelcars.com           4      1102.0             Sales Rep\n",
      "\\begin{tabular}{lrlllllrl}\n",
      "\\toprule\n",
      "{} &  employee\\_number &  last\\_name & first\\_name & extension &                            email & office\\_code &  reports\\_to &             job\\_title \\\\\n",
      "\\midrule\n",
      "0  &             1002 &     Murphy &      Diane &     x5800 &     dmurphy@classicmodelcars.com &           1 &         NaN &             President \\\\\n",
      "1  &             1056 &  Patterson &       Mary &     x4611 &   mpatterso@classicmodelcars.com &           1 &      1002.0 &              VP Sales \\\\\n",
      "2  &             1076 &   Firrelli &       Jeff &     x9273 &   jfirrelli@classicmodelcars.com &           1 &      1002.0 &          VP Marketing \\\\\n",
      "3  &             1088 &  Patterson &    William &     x4871 &  wpatterson@classicmodelcars.com &           6 &      1056.0 &  Sales Manager (APAC) \\\\\n",
      "4  &             1102 &     Bondur &     Gerard &     x5408 &     gbondur@classicmodelcars.com &           4 &      1056.0 &   Sale Manager (EMEA) \\\\\n",
      "5  &             1143 &        Bow &    Anthony &     x5428 &        abow@classicmodelcars.com &           1 &      1056.0 &    Sales Manager (NA) \\\\\n",
      "6  &             1165 &   Jennings &     Leslie &     x3291 &   ljennings@classicmodelcars.com &           1 &      1143.0 &             Sales Rep \\\\\n",
      "7  &             1166 &   Thompson &     Leslie &     x4065 &   lthompson@classicmodelcars.com &           1 &      1143.0 &             Sales Rep \\\\\n",
      "8  &             1188 &   Firrelli &      Julie &     x2173 &   jfirrelli@classicmodelcars.com &           2 &      1143.0 &             Sales Rep \\\\\n",
      "9  &             1216 &  Patterson &      Steve &     x4334 &  spatterson@classicmodelcars.com &           2 &      1143.0 &             Sales Rep \\\\\n",
      "10 &             1286 &      Tseng &   Foon Yue &     x2248 &      ftseng@classicmodelcars.com &           3 &      1143.0 &             Sales Rep \\\\\n",
      "11 &             1323 &     Vanauf &     George &     x4102 &     gvanauf@classicmodelcars.com &           3 &      1143.0 &             Sales Rep \\\\\n",
      "12 &             1337 &     Bondur &       Loui &     x6493 &     lbondur@classicmodelcars.com &           4 &      1102.0 &             Sales Rep \\\\\n",
      "13 &             1370 &  Hernandez &     Gerard &     x2028 &   ghernande@classicmodelcars.com &           4 &      1102.0 &             Sales Rep \\\\\n",
      "14 &             1401 &   Castillo &     Pamela &     x2759 &   pcastillo@classicmodelcars.com &           4 &      1102.0 &             Sales Rep \\\\\n",
      "15 &             1501 &       Bott &      Larry &     x2311 &       lbott@classicmodelcars.com &           7 &      1102.0 &             Sales Rep \\\\\n",
      "16 &             1504 &      Jones &      Barry &      x102 &      bjones@classicmodelcars.com &           7 &      1102.0 &             Sales Rep \\\\\n",
      "17 &             1611 &     Fixter &       Andy &      x101 &     afixter@classicmodelcars.com &           6 &      1088.0 &             Sales Rep \\\\\n",
      "18 &             1612 &      Marsh &      Peter &      x102 &      pmarsh@classicmodelcars.com &           6 &      1088.0 &             Sales Rep \\\\\n",
      "19 &             1619 &       King &        Tom &      x103 &       tking@classicmodelcars.com &           6 &      1088.0 &             Sales Rep \\\\\n",
      "20 &             1621 &      Nishi &       Mami &      x101 &      mnishi@classicmodelcars.com &           5 &      1056.0 &             Sales Rep \\\\\n",
      "21 &             1625 &       Kato &    Yoshimi &      x102 &       ykato@classicmodelcars.com &           5 &      1621.0 &             Sales Rep \\\\\n",
      "22 &             1702 &     Gerard &     Martin &     x2312 &     mgerard@classicmodelcars.com &           4 &      1102.0 &             Sales Rep \\\\\n",
      "\\bottomrule\n",
      "\\end{tabular}\n",
      "\n"
     ]
    },
    {
     "name": "stderr",
     "output_type": "stream",
     "text": [
      "C:\\Users\\Paula\\AppData\\Local\\Temp\\ipykernel_4948\\3224513856.py:11: UserWarning: pandas only supports SQLAlchemy connectable (engine/connection) or database string URI or sqlite3 DBAPI2 connection. Other DBAPI2 objects are not tested. Please consider using SQLAlchemy.\n",
      "  df = pd.read_sql_query(sql, cnx)\n",
      "C:\\Users\\Paula\\AppData\\Local\\Temp\\ipykernel_4948\\3224513856.py:22: FutureWarning: In future versions `DataFrame.to_latex` is expected to utilise the base implementation of `Styler.to_latex` for formatting and rendering. The arguments signature may therefore change. It is recommended instead to use `DataFrame.style.to_latex` which also contains additional functionality.\n",
      "  output_latex = df.to_latex()\n"
     ]
    }
   ],
   "source": [
    "# En este ejemplo calculabamos el valor más frecuente para el pais de las alumnas. \n",
    "# Ahora lo almacenaremos de diferentes formas.\n",
    "\n",
    "#Creamos la conexion con el servidor\n",
    "cnx = mysql.connector.connect(user='root', password='AlumnaAdalab',\n",
    "                              host='127.0.0.1',\n",
    "                              database='tienda')\n",
    "\n",
    "#Realizamos la consulta a la tabla alumnas mediante pandas\n",
    "sql = \"SELECT * FROM employees\"\n",
    "df = pd.read_sql_query(sql, cnx)\n",
    "\n",
    "\n",
    "#Guardamos el dato en un fichero csv (separado por comas)\n",
    "df.to_csv(\"fichero.csv\")\n",
    "\n",
    "#Formateamos el dato a un tipo string para facilitar la lectura en la consola\n",
    "output_string = df.to_string()\n",
    "print(output_string)\n",
    "\n",
    "#Formateamos el dato a un tipo string para facilitar la inserción de los datos en un documento latex (el formato usado más comunmente en la escritura de artículos científicos)\n",
    "output_latex = df.to_latex()\n",
    "print(output_latex)\n",
    "\n",
    "\n",
    "#Cerramos la conexion\n",
    "cnx.close()"
   ]
  },
  {
   "cell_type": "markdown",
   "metadata": {},
   "source": [
    "En el código anterior hemos visto cómo guardar los datos obtenidos con Pandas en diferentes formatos: un fichero .csv para su posible procesado en un futuro, un string para su visualización por pantalla y un formateo estilo latex para su uso en documentos científicos. Cabe resaltar que estos son solo tres ejemplos sencillos, pero que en la documentación de Pandas podéis encontrar muchos más ejemplos acerca de los formatos en los que se pueden guardar los datos: [Aquí](https://pandas.pydata.org/docs/reference/#) podréis encontrar más documentación.  "
   ]
  },
  {
   "cell_type": "markdown",
   "metadata": {},
   "source": [
    "\n",
    "#### ENUNCIADO EJERCICIOS\n",
    "\n",
    "En este conjunto de ejercicios vamos a volver a usar la tabla Customers (Clientes/as) que vamos a importar en MySQL Workbench. Si tienes dudas de como importarla, revisita la página asociada de tutorial.\n",
    "\n",
    "La tabla Customers tiene las siguientes columnas:\n",
    "\n",
    "**Customers**(`customerNumber`, `customerName`, `contactLastName`, `contactFirstName`, `phone`, `addressLine1`, `addressLine2`, `city`, `state`, `postalCode`, `country`, `salesRepEmployeeNumber`, `creditLimit`) \n",
    "\n",
    "Cada columna es bastante autodescriptiva en su nombre, pero vamos a incluir una pequeña descripción: \n",
    "\n",
    "- *customerNumber*: el número identificativo de las clientas/es. Es un número entero y sirve de clave primaria.\n",
    "- *customerName*: el nombre de las empresas en las que trabajan las/los clientas/es. Es una cadena de texto.\n",
    "- *contactLastName*: El apellido de la persona de contacto en la empresa cliente. Es una cadena de texto.\n",
    "- *contactFirstName*: El nombre de la persona de contacto en la empresa cliente. Es una cadena de texto.\n",
    "- *phone*: El teléfono de la persona de contacto en la empresa cliente. Es una cadena de texto (ya que hay espacios).\n",
    "- *adressLine1*: La dirección (calle, número, etc.) de la empresa cliente. Es una cadena de texto.\n",
    "- *adressLine2*: La dirección de la empresa cliente (si se necesita mas espacio). Es una cadena de texto. Muchas veces está vacía.\n",
    "- *city*: La ciudad de la empresa cliente.\n",
    "- *state*: El estado en el que se encuentra la empresa cliente. Válido para los Estados Unidos. Es una cadena de texto.\n",
    "- *postalCode*: El código postal. Es una cadena de texto (ya que puede haber espacios).\n",
    "- *country*: El país de la empresa cliente. Es una cadena de texto.\n",
    "- *salesRepEmployeeNumber*: El número identificador de la empleada o empleado que lleva a esa empresa cliente. Es un número entero.\n",
    "- *creditLimit*: El límite de crédito que tiene la empresa cliente. \n",
    "\n",
    "La tabla Employees tiene las siguientes columnas: \n",
    "\n",
    "- *employeeNumber*: el número identificativo de las empleadas/os. Es un número entero y sirve de clave primaria.\n",
    "- *lastName*: el apellido de las empleadas. Es una cadena de texto.\n",
    "- *firstName*: el nombre de las empleadas. Es una cadena de texto.\n",
    "- *extension*: su extensión telefónica. Es una cadena de texto.\n",
    "- *email*: el correo electrónico de la empleada. Es una cadena de texto.\n",
    "- *officeCode*: El código de la oficina de la empleada. Es una cadena de texto.\n",
    "- *reportsTo*: el número identificativo de la empleada a la que reporta (su supervisora). Es un número entero y clave foránea (relacionada con employeeNumber).\n",
    "- *jobTitle*: el nombre del puesto de trabajo que desempeña. Es una cadena de texto.\n",
    "\n"
   ]
  },
  {
   "cell_type": "markdown",
   "metadata": {},
   "source": [
    "#### EJERCICIO 1\n",
    "\n",
    "Imprime por pantalla el nombre de las tablas que componen la base de datos \"tienda\"."
   ]
  },
  {
   "cell_type": "code",
   "execution_count": 21,
   "metadata": {},
   "outputs": [
    {
     "name": "stdout",
     "output_type": "stream",
     "text": [
      "('customers',)\n",
      "('employees',)\n",
      "('offices',)\n",
      "('order_details',)\n",
      "('orders',)\n",
      "('payments',)\n",
      "('product_lines',)\n",
      "('products',)\n",
      "('proyectos',)\n"
     ]
    }
   ],
   "source": [
    "# conectamos con el servidor\n",
    "mydb = mysql.connector.connect(\n",
    "              user='root', password='AlumnaAdalab',\n",
    "              host='127.0.0.1',\n",
    "              database='tienda'\n",
    ")\n",
    "\n",
    "# creamos el servidor\n",
    "mycursor = mydb.cursor()\n",
    "\n",
    "# ejecutamos la query para ver las tablas de la BBDD que hemos indicado en la conexión\n",
    "mycursor.execute(\"SHOW TABLES\")\n",
    "\n",
    "for x in mycursor:\n",
    "  print(x)"
   ]
  },
  {
   "cell_type": "markdown",
   "metadata": {},
   "source": [
    "#### EJERCICIO 2\n",
    "\n",
    "Imprime por pantalla la información acerca de las columnas que componen la tabla \"Employees\":"
   ]
  },
  {
   "cell_type": "code",
   "execution_count": 24,
   "metadata": {},
   "outputs": [
    {
     "name": "stdout",
     "output_type": "stream",
     "text": [
      "('def', 'creacion_tienda', 'employees', 'employee_number', 1, None, 'NO', 'int', None, None, 10, 0, None, None, None, 'int', 'PRI', '', 'select,insert,update,references', '', '', None)\n",
      "('def', 'creacion_tienda', 'employees', 'last_name', 2, None, 'NO', 'varchar', 50, 200, None, None, None, 'utf8mb4', 'utf8mb4_0900_ai_ci', 'varchar(50)', '', '', 'select,insert,update,references', '', '', None)\n",
      "('def', 'creacion_tienda', 'employees', 'first_name', 3, None, 'NO', 'varchar', 50, 200, None, None, None, 'utf8mb4', 'utf8mb4_0900_ai_ci', 'varchar(50)', '', '', 'select,insert,update,references', '', '', None)\n",
      "('def', 'creacion_tienda', 'employees', 'extension', 4, None, 'NO', 'varchar', 10, 40, None, None, None, 'utf8mb4', 'utf8mb4_0900_ai_ci', 'varchar(10)', '', '', 'select,insert,update,references', '', '', None)\n",
      "('def', 'creacion_tienda', 'employees', 'email', 5, None, 'NO', 'varchar', 100, 400, None, None, None, 'utf8mb4', 'utf8mb4_0900_ai_ci', 'varchar(100)', '', '', 'select,insert,update,references', '', '', None)\n",
      "('def', 'creacion_tienda', 'employees', 'ofice_code', 6, None, 'YES', 'varchar', 10, 40, None, None, None, 'utf8mb4', 'utf8mb4_0900_ai_ci', 'varchar(10)', '', '', 'select,insert,update,references', '', '', None)\n",
      "('def', 'creacion_tienda', 'employees', 'reports_to', 7, None, 'YES', 'int', None, None, 10, 0, None, None, None, 'int', '', '', 'select,insert,update,references', '', '', None)\n",
      "('def', 'creacion_tienda', 'employees', 'job_title', 8, None, 'YES', 'varchar', 50, 200, None, None, None, 'utf8mb4', 'utf8mb4_0900_ai_ci', 'varchar(50)', '', '', 'select,insert,update,references', '', '', None)\n",
      "('def', 'leccion_10_sql', 'employees', 'employee_number', 1, None, 'NO', 'int', None, None, 10, 0, None, None, None, 'int', '', '', 'select,insert,update,references', '', '', None)\n",
      "('def', 'leccion_10_sql', 'employees', 'last_name', 2, None, 'NO', 'varchar', 50, 50, None, None, None, 'latin1', 'latin1_swedish_ci', 'varchar(50)', '', '', 'select,insert,update,references', '', '', None)\n",
      "('def', 'leccion_10_sql', 'employees', 'first_name', 3, None, 'NO', 'varchar', 50, 50, None, None, None, 'latin1', 'latin1_swedish_ci', 'varchar(50)', '', '', 'select,insert,update,references', '', '', None)\n",
      "('def', 'leccion_10_sql', 'employees', 'extension', 4, None, 'NO', 'varchar', 10, 10, None, None, None, 'latin1', 'latin1_swedish_ci', 'varchar(10)', '', '', 'select,insert,update,references', '', '', None)\n",
      "('def', 'leccion_10_sql', 'employees', 'email', 5, None, 'NO', 'varchar', 100, 100, None, None, None, 'latin1', 'latin1_swedish_ci', 'varchar(100)', '', '', 'select,insert,update,references', '', '', None)\n",
      "('def', 'leccion_10_sql', 'employees', 'office_code', 6, None, 'NO', 'varchar', 10, 10, None, None, None, 'latin1', 'latin1_swedish_ci', 'varchar(10)', '', '', 'select,insert,update,references', '', '', None)\n",
      "('def', 'leccion_10_sql', 'employees', 'reports_to', 7, None, 'YES', 'int', None, None, 10, 0, None, None, None, 'int', '', '', 'select,insert,update,references', '', '', None)\n",
      "('def', 'leccion_10_sql', 'employees', 'job_title', 8, None, 'NO', 'varchar', 50, 50, None, None, None, 'latin1', 'latin1_swedish_ci', 'varchar(50)', '', '', 'select,insert,update,references', '', '', None)\n",
      "('def', 'leccion_11_sql', 'employees', 'employee_number', 1, None, 'NO', 'int', None, None, 10, 0, None, None, None, 'int', '', '', 'select,insert,update,references', '', '', None)\n",
      "('def', 'leccion_11_sql', 'employees', 'last_name', 2, None, 'NO', 'varchar', 50, 50, None, None, None, 'latin1', 'latin1_swedish_ci', 'varchar(50)', '', '', 'select,insert,update,references', '', '', None)\n",
      "('def', 'leccion_11_sql', 'employees', 'first_name', 3, None, 'NO', 'varchar', 50, 50, None, None, None, 'latin1', 'latin1_swedish_ci', 'varchar(50)', '', '', 'select,insert,update,references', '', '', None)\n",
      "('def', 'leccion_11_sql', 'employees', 'extension', 4, None, 'NO', 'varchar', 10, 10, None, None, None, 'latin1', 'latin1_swedish_ci', 'varchar(10)', '', '', 'select,insert,update,references', '', '', None)\n",
      "('def', 'leccion_11_sql', 'employees', 'email', 5, None, 'NO', 'varchar', 100, 100, None, None, None, 'latin1', 'latin1_swedish_ci', 'varchar(100)', '', '', 'select,insert,update,references', '', '', None)\n",
      "('def', 'leccion_11_sql', 'employees', 'office_code', 6, None, 'NO', 'varchar', 10, 10, None, None, None, 'latin1', 'latin1_swedish_ci', 'varchar(10)', '', '', 'select,insert,update,references', '', '', None)\n",
      "('def', 'leccion_11_sql', 'employees', 'reports_to', 7, None, 'YES', 'int', None, None, 10, 0, None, None, None, 'int', '', '', 'select,insert,update,references', '', '', None)\n",
      "('def', 'leccion_11_sql', 'employees', 'job_title', 8, None, 'NO', 'varchar', 50, 50, None, None, None, 'latin1', 'latin1_swedish_ci', 'varchar(50)', '', '', 'select,insert,update,references', '', '', None)\n",
      "('def', 'leccion_3_sql', 'employees', 'employee_number', 1, None, 'NO', 'int', None, None, 10, 0, None, None, None, 'int', '', '', 'select,insert,update,references', '', '', None)\n",
      "('def', 'leccion_3_sql', 'employees', 'last_name', 2, None, 'NO', 'varchar', 50, 50, None, None, None, 'latin1', 'latin1_swedish_ci', 'varchar(50)', '', '', 'select,insert,update,references', '', '', None)\n",
      "('def', 'leccion_3_sql', 'employees', 'first_name', 3, None, 'NO', 'varchar', 50, 50, None, None, None, 'latin1', 'latin1_swedish_ci', 'varchar(50)', '', '', 'select,insert,update,references', '', '', None)\n",
      "('def', 'leccion_3_sql', 'employees', 'extension', 4, None, 'NO', 'varchar', 10, 10, None, None, None, 'latin1', 'latin1_swedish_ci', 'varchar(10)', '', '', 'select,insert,update,references', '', '', None)\n",
      "('def', 'leccion_3_sql', 'employees', 'email', 5, None, 'NO', 'varchar', 100, 100, None, None, None, 'latin1', 'latin1_swedish_ci', 'varchar(100)', '', '', 'select,insert,update,references', '', '', None)\n",
      "('def', 'leccion_3_sql', 'employees', 'office_code', 6, None, 'NO', 'varchar', 10, 10, None, None, None, 'latin1', 'latin1_swedish_ci', 'varchar(10)', '', '', 'select,insert,update,references', '', '', None)\n",
      "('def', 'leccion_3_sql', 'employees', 'reports_to', 7, None, 'YES', 'int', None, None, 10, 0, None, None, None, 'int', '', '', 'select,insert,update,references', '', '', None)\n",
      "('def', 'leccion_3_sql', 'employees', 'job_title', 8, None, 'NO', 'varchar', 50, 50, None, None, None, 'latin1', 'latin1_swedish_ci', 'varchar(50)', '', '', 'select,insert,update,references', '', '', None)\n",
      "('def', 'leccion_4_sql', 'employees', 'employee_number', 1, None, 'NO', 'int', None, None, 10, 0, None, None, None, 'int', '', '', 'select,insert,update,references', '', '', None)\n",
      "('def', 'leccion_4_sql', 'employees', 'last_name', 2, None, 'NO', 'varchar', 50, 50, None, None, None, 'latin1', 'latin1_swedish_ci', 'varchar(50)', '', '', 'select,insert,update,references', '', '', None)\n",
      "('def', 'leccion_4_sql', 'employees', 'first_name', 3, None, 'NO', 'varchar', 50, 50, None, None, None, 'latin1', 'latin1_swedish_ci', 'varchar(50)', '', '', 'select,insert,update,references', '', '', None)\n",
      "('def', 'leccion_4_sql', 'employees', 'extension', 4, None, 'NO', 'varchar', 10, 10, None, None, None, 'latin1', 'latin1_swedish_ci', 'varchar(10)', '', '', 'select,insert,update,references', '', '', None)\n",
      "('def', 'leccion_4_sql', 'employees', 'email', 5, None, 'NO', 'varchar', 100, 100, None, None, None, 'latin1', 'latin1_swedish_ci', 'varchar(100)', '', '', 'select,insert,update,references', '', '', None)\n",
      "('def', 'leccion_4_sql', 'employees', 'office_code', 6, None, 'NO', 'varchar', 10, 10, None, None, None, 'latin1', 'latin1_swedish_ci', 'varchar(10)', '', '', 'select,insert,update,references', '', '', None)\n",
      "('def', 'leccion_4_sql', 'employees', 'reports_to', 7, None, 'YES', 'int', None, None, 10, 0, None, None, None, 'int', '', '', 'select,insert,update,references', '', '', None)\n",
      "('def', 'leccion_4_sql', 'employees', 'job_title', 8, None, 'NO', 'varchar', 50, 50, None, None, None, 'latin1', 'latin1_swedish_ci', 'varchar(50)', '', '', 'select,insert,update,references', '', '', None)\n",
      "('def', 'leccion_8_sql', 'employees', 'employee_number', 1, None, 'NO', 'int', None, None, 10, 0, None, None, None, 'int', '', '', 'select,insert,update,references', '', '', None)\n",
      "('def', 'leccion_8_sql', 'employees', 'last_name', 2, None, 'NO', 'varchar', 50, 50, None, None, None, 'latin1', 'latin1_swedish_ci', 'varchar(50)', '', '', 'select,insert,update,references', '', '', None)\n",
      "('def', 'leccion_8_sql', 'employees', 'first_name', 3, None, 'NO', 'varchar', 50, 50, None, None, None, 'latin1', 'latin1_swedish_ci', 'varchar(50)', '', '', 'select,insert,update,references', '', '', None)\n",
      "('def', 'leccion_8_sql', 'employees', 'extension', 4, None, 'NO', 'varchar', 10, 10, None, None, None, 'latin1', 'latin1_swedish_ci', 'varchar(10)', '', '', 'select,insert,update,references', '', '', None)\n",
      "('def', 'leccion_8_sql', 'employees', 'email', 5, None, 'NO', 'varchar', 100, 100, None, None, None, 'latin1', 'latin1_swedish_ci', 'varchar(100)', '', '', 'select,insert,update,references', '', '', None)\n",
      "('def', 'leccion_8_sql', 'employees', 'office_code', 6, None, 'NO', 'varchar', 10, 10, None, None, None, 'latin1', 'latin1_swedish_ci', 'varchar(10)', '', '', 'select,insert,update,references', '', '', None)\n",
      "('def', 'leccion_8_sql', 'employees', 'reports_to', 7, None, 'YES', 'int', None, None, 10, 0, None, None, None, 'int', '', '', 'select,insert,update,references', '', '', None)\n",
      "('def', 'leccion_8_sql', 'employees', 'job_title', 8, None, 'NO', 'varchar', 50, 50, None, None, None, 'latin1', 'latin1_swedish_ci', 'varchar(50)', '', '', 'select,insert,update,references', '', '', None)\n",
      "('def', 'leccion_9_sql', 'employees', 'employee_number', 1, None, 'NO', 'int', None, None, 10, 0, None, None, None, 'int', '', '', 'select,insert,update,references', '', '', None)\n",
      "('def', 'leccion_9_sql', 'employees', 'last_name', 2, None, 'NO', 'varchar', 50, 50, None, None, None, 'latin1', 'latin1_swedish_ci', 'varchar(50)', '', '', 'select,insert,update,references', '', '', None)\n",
      "('def', 'leccion_9_sql', 'employees', 'first_name', 3, None, 'NO', 'varchar', 50, 50, None, None, None, 'latin1', 'latin1_swedish_ci', 'varchar(50)', '', '', 'select,insert,update,references', '', '', None)\n",
      "('def', 'leccion_9_sql', 'employees', 'extension', 4, None, 'NO', 'varchar', 10, 10, None, None, None, 'latin1', 'latin1_swedish_ci', 'varchar(10)', '', '', 'select,insert,update,references', '', '', None)\n",
      "('def', 'leccion_9_sql', 'employees', 'email', 5, None, 'NO', 'varchar', 100, 100, None, None, None, 'latin1', 'latin1_swedish_ci', 'varchar(100)', '', '', 'select,insert,update,references', '', '', None)\n",
      "('def', 'leccion_9_sql', 'employees', 'office_code', 6, None, 'NO', 'varchar', 10, 10, None, None, None, 'latin1', 'latin1_swedish_ci', 'varchar(10)', '', '', 'select,insert,update,references', '', '', None)\n",
      "('def', 'leccion_9_sql', 'employees', 'reports_to', 7, None, 'YES', 'int', None, None, 10, 0, None, None, None, 'int', '', '', 'select,insert,update,references', '', '', None)\n",
      "('def', 'leccion_9_sql', 'employees', 'job_title', 8, None, 'NO', 'varchar', 50, 50, None, None, None, 'latin1', 'latin1_swedish_ci', 'varchar(50)', '', '', 'select,insert,update,references', '', '', None)\n",
      "('def', 'northwind', 'employees', 'employee_id', 1, None, 'NO', 'int', None, None, 10, 0, None, None, None, 'int', 'PRI', 'auto_increment', 'select,insert,update,references', '', '', None)\n",
      "('def', 'northwind', 'employees', 'last_name', 2, None, 'NO', 'varchar', 20, 60, None, None, None, 'utf8mb3', 'utf8mb3_general_ci', 'varchar(20)', 'MUL', '', 'select,insert,update,references', '', '', None)\n",
      "('def', 'northwind', 'employees', 'first_name', 3, None, 'NO', 'varchar', 10, 30, None, None, None, 'utf8mb3', 'utf8mb3_general_ci', 'varchar(10)', '', '', 'select,insert,update,references', '', '', None)\n",
      "('def', 'northwind', 'employees', 'title', 4, None, 'YES', 'varchar', 30, 90, None, None, None, 'utf8mb3', 'utf8mb3_general_ci', 'varchar(30)', '', '', 'select,insert,update,references', '', '', None)\n",
      "('def', 'northwind', 'employees', 'title_of_courtesy', 5, None, 'YES', 'varchar', 25, 75, None, None, None, 'utf8mb3', 'utf8mb3_general_ci', 'varchar(25)', '', '', 'select,insert,update,references', '', '', None)\n",
      "('def', 'northwind', 'employees', 'birth_date', 6, None, 'YES', 'datetime', None, None, None, None, 0, None, None, 'datetime', '', '', 'select,insert,update,references', '', '', None)\n",
      "('def', 'northwind', 'employees', 'hire_date', 7, None, 'YES', 'datetime', None, None, None, None, 0, None, None, 'datetime', '', '', 'select,insert,update,references', '', '', None)\n",
      "('def', 'northwind', 'employees', 'address', 8, None, 'YES', 'varchar', 60, 180, None, None, None, 'utf8mb3', 'utf8mb3_general_ci', 'varchar(60)', '', '', 'select,insert,update,references', '', '', None)\n",
      "('def', 'northwind', 'employees', 'city', 9, None, 'YES', 'varchar', 15, 45, None, None, None, 'utf8mb3', 'utf8mb3_general_ci', 'varchar(15)', '', '', 'select,insert,update,references', '', '', None)\n",
      "('def', 'northwind', 'employees', 'region', 10, None, 'YES', 'varchar', 15, 45, None, None, None, 'utf8mb3', 'utf8mb3_general_ci', 'varchar(15)', '', '', 'select,insert,update,references', '', '', None)\n",
      "('def', 'northwind', 'employees', 'postal_code', 11, None, 'YES', 'varchar', 10, 30, None, None, None, 'utf8mb3', 'utf8mb3_general_ci', 'varchar(10)', 'MUL', '', 'select,insert,update,references', '', '', None)\n",
      "('def', 'northwind', 'employees', 'country', 12, None, 'YES', 'varchar', 15, 45, None, None, None, 'utf8mb3', 'utf8mb3_general_ci', 'varchar(15)', '', '', 'select,insert,update,references', '', '', None)\n",
      "('def', 'northwind', 'employees', 'home_phone', 13, None, 'YES', 'varchar', 24, 72, None, None, None, 'utf8mb3', 'utf8mb3_general_ci', 'varchar(24)', '', '', 'select,insert,update,references', '', '', None)\n",
      "('def', 'northwind', 'employees', 'extension', 14, None, 'YES', 'varchar', 4, 12, None, None, None, 'utf8mb3', 'utf8mb3_general_ci', 'varchar(4)', '', '', 'select,insert,update,references', '', '', None)\n",
      "('def', 'northwind', 'employees', 'photo', 15, None, 'YES', 'longblob', 4294967295, 4294967295, None, None, None, None, None, 'longblob', '', '', 'select,insert,update,references', '', '', None)\n",
      "('def', 'northwind', 'employees', 'notes', 16, None, 'YES', 'longtext', 4294967295, 4294967295, None, None, None, 'utf8mb3', 'utf8mb3_general_ci', 'longtext', '', '', 'select,insert,update,references', '', '', None)\n",
      "('def', 'northwind', 'employees', 'reports_to', 17, None, 'YES', 'int', None, None, 10, 0, None, None, None, 'int', 'MUL', '', 'select,insert,update,references', '', '', None)\n",
      "('def', 'northwind', 'employees', 'photo_path', 18, None, 'YES', 'varchar', 255, 765, None, None, None, 'utf8mb3', 'utf8mb3_general_ci', 'varchar(255)', '', '', 'select,insert,update,references', '', '', None)\n",
      "('def', 'tienda', 'employees', 'employee_number', 1, None, 'NO', 'int', None, None, 10, 0, None, None, None, 'int', 'PRI', '', 'select,insert,update,references', '', '', None)\n",
      "('def', 'tienda', 'employees', 'last_name', 2, None, 'NO', 'varchar', 50, 50, None, None, None, 'latin1', 'latin1_swedish_ci', 'varchar(50)', '', '', 'select,insert,update,references', '', '', None)\n",
      "('def', 'tienda', 'employees', 'first_name', 3, None, 'NO', 'varchar', 50, 50, None, None, None, 'latin1', 'latin1_swedish_ci', 'varchar(50)', '', '', 'select,insert,update,references', '', '', None)\n",
      "('def', 'tienda', 'employees', 'extension', 4, None, 'NO', 'varchar', 10, 10, None, None, None, 'latin1', 'latin1_swedish_ci', 'varchar(10)', '', '', 'select,insert,update,references', '', '', None)\n",
      "('def', 'tienda', 'employees', 'email', 5, None, 'NO', 'varchar', 100, 100, None, None, None, 'latin1', 'latin1_swedish_ci', 'varchar(100)', '', '', 'select,insert,update,references', '', '', None)\n",
      "('def', 'tienda', 'employees', 'office_code', 6, None, 'NO', 'varchar', 10, 10, None, None, None, 'latin1', 'latin1_swedish_ci', 'varchar(10)', 'MUL', '', 'select,insert,update,references', '', '', None)\n",
      "('def', 'tienda', 'employees', 'reports_to', 7, None, 'YES', 'int', None, None, 10, 0, None, None, None, 'int', 'MUL', '', 'select,insert,update,references', '', '', None)\n",
      "('def', 'tienda', 'employees', 'job_title', 8, None, 'NO', 'varchar', 50, 50, None, None, None, 'latin1', 'latin1_swedish_ci', 'varchar(50)', '', '', 'select,insert,update,references', '', '', None)\n"
     ]
    }
   ],
   "source": [
    "# conectamos con el servidor\n",
    "mydb = mysql.connector.connect(\n",
    "  host=\"localhost\",\n",
    "  user=\"root\",\n",
    "  password=\"AlumnaAdalab\",\n",
    "  database=\"INFORMATION_SCHEMA\" # en este caso tendremos que especificar que queremos información del esquema\n",
    ")\n",
    "\n",
    "# iniciamos el cursor\n",
    "mycursor = mydb.cursor()\n",
    "\n",
    "## ejecutamos nuestra query, especificando de que tabla queremos la información\n",
    "mycursor.execute(\"SELECT * FROM COLUMNS WHERE TABLE_NAME = 'Employees'\")\n",
    "\n",
    "for x in mycursor:\n",
    "  print(x)\n",
    " \n",
    " "
   ]
  },
  {
   "cell_type": "markdown",
   "metadata": {},
   "source": [
    "#### EJERCICIO 3\n",
    "\n",
    "Realiza una consulta SELECT que obtenga los nombres, teléfonos y direcciones de todas las empresas cliente de la tabla customers. Imprime por pantalla los datos recuperados usando el método *fetchone()*"
   ]
  },
  {
   "cell_type": "code",
   "execution_count": 34,
   "metadata": {},
   "outputs": [
    {
     "name": "stdout",
     "output_type": "stream",
     "text": [
      "('Atelier graphique', '40.32.2555', '54, rue Royale')\n"
     ]
    }
   ],
   "source": [
    "# conectamos con el servidor\n",
    "mydb = mysql.connector.connect(\n",
    "  host=\"localhost\",\n",
    "  user=\"root\",\n",
    "  password=\"AlumnaAdalab\",\n",
    "  database=\"tienda\"\n",
    ")\n",
    "\n",
    "# iniciamos el cursor\n",
    "mycursor = mydb.cursor()\n",
    "\n",
    "# ejecutamos nuestra query\n",
    "mycursor.execute(\"SELECT customer_name, phone, address_line1 FROM customers\")\n",
    "\n",
    "# en este caso solo nos interesa el primer resultado de nuestra query, por lo que usaremos el método fetchone, para que python solo nos devuelva el primero y después printemos el resultado\n",
    "myresult = mycursor.fetchone()\n",
    "print(myresult)\n"
   ]
  },
  {
   "cell_type": "markdown",
   "metadata": {},
   "source": [
    "#### EJERCICIO 4\n",
    "\n",
    "Buscar aquellos registros de la tabla Customers que correspondan a clientes de USA pero que no tengan un valor guardado para el campo *state*. Accede a los datos con *fetchall()*"
   ]
  },
  {
   "cell_type": "code",
   "execution_count": 27,
   "metadata": {},
   "outputs": [
    {
     "ename": "InternalError",
     "evalue": "Unread result found",
     "output_type": "error",
     "traceback": [
      "\u001b[1;31m---------------------------------------------------------------------------\u001b[0m",
      "\u001b[1;31mInternalError\u001b[0m                             Traceback (most recent call last)",
      "Cell \u001b[1;32mIn [27], line 1\u001b[0m\n\u001b[1;32m----> 1\u001b[0m mycursor\u001b[39m.\u001b[39;49mexecute(\u001b[39m\"\"\"\u001b[39;49m\u001b[39mSELECT * FROM customers\u001b[39;49m\n\u001b[0;32m      2\u001b[0m \u001b[39m                    WHERE country = \u001b[39;49m\u001b[39m'\u001b[39;49m\u001b[39mUSA\u001b[39;49m\u001b[39m'\u001b[39;49m\u001b[39m and state IS NULL\u001b[39;49m\u001b[39m\"\"\"\u001b[39;49m)\n\u001b[0;32m      4\u001b[0m \u001b[39m# en este caso solo nos interesa el primer resultado de nuestra query, por lo que usaremos el método fetchone, para que python solo nos devuelva el primero y después printemos el resultado\u001b[39;00m\n\u001b[0;32m      5\u001b[0m myresult \u001b[39m=\u001b[39m mycursor\u001b[39m.\u001b[39mfetchall()\n",
      "File \u001b[1;32m~\\AppData\\Local\\Packages\\PythonSoftwareFoundation.Python.3.8_qbz5n2kfra8p0\\LocalCache\\local-packages\\Python38\\site-packages\\mysql\\connector\\cursor.py:529\u001b[0m, in \u001b[0;36mMySQLCursor.execute\u001b[1;34m(self, operation, params, multi)\u001b[0m\n\u001b[0;32m    526\u001b[0m \u001b[39mexcept\u001b[39;00m (ProgrammingError, \u001b[39mReferenceError\u001b[39;00m) \u001b[39mas\u001b[39;00m err:\n\u001b[0;32m    527\u001b[0m     \u001b[39mraise\u001b[39;00m ProgrammingError(\u001b[39m\"\u001b[39m\u001b[39mCursor is not connected\u001b[39m\u001b[39m\"\u001b[39m) \u001b[39mfrom\u001b[39;00m \u001b[39merr\u001b[39;00m\n\u001b[1;32m--> 529\u001b[0m \u001b[39mself\u001b[39;49m\u001b[39m.\u001b[39;49m_connection\u001b[39m.\u001b[39;49mhandle_unread_result()\n\u001b[0;32m    531\u001b[0m \u001b[39mself\u001b[39m\u001b[39m.\u001b[39m_reset_result()\n\u001b[0;32m    532\u001b[0m stmt \u001b[39m=\u001b[39m \u001b[39m\"\u001b[39m\u001b[39m\"\u001b[39m\n",
      "File \u001b[1;32m~\\AppData\\Local\\Packages\\PythonSoftwareFoundation.Python.3.8_qbz5n2kfra8p0\\LocalCache\\local-packages\\Python38\\site-packages\\mysql\\connector\\connection.py:1636\u001b[0m, in \u001b[0;36mMySQLConnection.handle_unread_result\u001b[1;34m(self)\u001b[0m\n\u001b[0;32m   1634\u001b[0m     \u001b[39mself\u001b[39m\u001b[39m.\u001b[39mconsume_results()\n\u001b[0;32m   1635\u001b[0m \u001b[39melif\u001b[39;00m \u001b[39mself\u001b[39m\u001b[39m.\u001b[39munread_result:\n\u001b[1;32m-> 1636\u001b[0m     \u001b[39mraise\u001b[39;00m InternalError(\u001b[39m\"\u001b[39m\u001b[39mUnread result found\u001b[39m\u001b[39m\"\u001b[39m)\n",
      "\u001b[1;31mInternalError\u001b[0m: Unread result found"
     ]
    }
   ],
   "source": [
    "mycursor.execute(\"\"\"SELECT * FROM customers\n",
    "                    WHERE country = 'USA' and state IS NULL\"\"\")\n",
    "\n",
    "# en este caso solo nos interesa el primer resultado de nuestra query, por lo que usaremos el método fetchone, para que python solo nos devuelva el primero y después printemos el resultado\n",
    "myresult = mycursor.fetchall()\n",
    "print(myresult)"
   ]
  },
  {
   "cell_type": "markdown",
   "metadata": {},
   "source": [
    "#### EJERCICIO 5\n",
    "\n",
    "Realiza una consulta SELECT que obtenga el número identificativo de cliente más bajo de la base de datos.\n"
   ]
  },
  {
   "cell_type": "code",
   "execution_count": 41,
   "metadata": {},
   "outputs": [
    {
     "name": "stdout",
     "output_type": "stream",
     "text": [
      "(103,)\n"
     ]
    }
   ],
   "source": [
    "mydb = mysql.connector.connect(\n",
    "  host=\"localhost\",\n",
    "  user=\"root\",\n",
    "  password=\"AlumnaAdalab\",\n",
    "  database=\"tienda\"\n",
    ")\n",
    "\n",
    "mycursor = mydb.cursor()\n",
    "mycursor.execute(\"\"\"SELECT customer_number FROM customers\n",
    "                    ORDER BY customer_number ASC           \n",
    "                \"\"\")\n",
    "\n",
    "\n",
    "myresult = mycursor.fetchone()\n",
    "print(myresult)"
   ]
  },
  {
   "cell_type": "markdown",
   "metadata": {},
   "source": [
    "#### EJERCICIO 6\n",
    "\n",
    "Selecciona el máximo de credito que tiene cualquiera de los clientes del empleado con número 167."
   ]
  },
  {
   "cell_type": "code",
   "execution_count": 44,
   "metadata": {},
   "outputs": [
    {
     "name": "stdout",
     "output_type": "stream",
     "text": [
      "(Decimal('96800.00'),)\n"
     ]
    }
   ],
   "source": [
    "mydb = mysql.connector.connect(\n",
    "  host=\"localhost\",\n",
    "  user=\"root\",\n",
    "  password=\"AlumnaAdalab\",\n",
    "  database=\"tienda\"\n",
    ")\n",
    "\n",
    "mycursor = mydb.cursor()\n",
    "\n",
    "mycursor.execute(\"\"\"SELECT MAX(credit_limit) FROM customers\n",
    "                    WHERE customer_number = 167  \n",
    "                \"\"\")\n",
    "\n",
    "\n",
    "myresult = mycursor.fetchone()\n",
    "print(myresult)"
   ]
  },
  {
   "cell_type": "markdown",
   "metadata": {},
   "source": [
    "#### EJERCICIO 7\n",
    "\n",
    "Selecciona el número de clientes en cada pais."
   ]
  },
  {
   "cell_type": "code",
   "execution_count": 46,
   "metadata": {},
   "outputs": [
    {
     "name": "stdout",
     "output_type": "stream",
     "text": [
      "[(5, 'Australia'), (2, 'Austria'), (2, 'Belgium'), (3, 'Canada'), (2, 'Denmark'), (3, 'Finland'), (12, 'France'), (13, 'Germany'), (1, 'Hong Kong'), (2, 'Ireland'), (1, 'Israel'), (4, 'Italy'), (2, 'Japan'), (1, 'Netherlands'), (4, 'New Zealand'), (1, 'Norway'), (2, 'Norway  '), (1, 'Philippines'), (1, 'Poland'), (2, 'Portugal'), (1, 'Russia'), (3, 'Singapore'), (1, 'South Africa'), (7, 'Spain'), (2, 'Sweden'), (3, 'Switzerland'), (5, 'UK'), (36, 'USA')]\n"
     ]
    }
   ],
   "source": [
    "mydb = mysql.connector.connect(\n",
    "  host=\"localhost\",\n",
    "  user=\"root\",\n",
    "  password=\"AlumnaAdalab\",\n",
    "  database=\"tienda\"\n",
    ")\n",
    "\n",
    "mycursor = mydb.cursor()\n",
    "\n",
    "mycursor.execute(\"\"\"SELECT COUNT(DISTINCT(customer_number)), country FROM customers\n",
    "                    GROUP BY country\n",
    "                \"\"\")\n",
    "\n",
    "\n",
    "myresult = mycursor.fetchall()\n",
    "print(myresult)"
   ]
  },
  {
   "cell_type": "markdown",
   "metadata": {},
   "source": [
    "#### EJERCICIO 8\n",
    "\n",
    "Crea un dataframe que contenga todas las entradas de la tabla Customers. Para ello usa un *cursor* y el método *execute()*:"
   ]
  },
  {
   "cell_type": "code",
   "execution_count": 51,
   "metadata": {},
   "outputs": [
    {
     "data": {
      "text/html": [
       "<div>\n",
       "<style scoped>\n",
       "    .dataframe tbody tr th:only-of-type {\n",
       "        vertical-align: middle;\n",
       "    }\n",
       "\n",
       "    .dataframe tbody tr th {\n",
       "        vertical-align: top;\n",
       "    }\n",
       "\n",
       "    .dataframe thead th {\n",
       "        text-align: right;\n",
       "    }\n",
       "</style>\n",
       "<table border=\"1\" class=\"dataframe\">\n",
       "  <thead>\n",
       "    <tr style=\"text-align: right;\">\n",
       "      <th></th>\n",
       "      <th>num_cliente</th>\n",
       "      <th>Nombre Cliente</th>\n",
       "      <th>Apellido</th>\n",
       "      <th>Nombre</th>\n",
       "      <th>Telefono</th>\n",
       "      <th>Dirección 1</th>\n",
       "      <th>Dirección 2</th>\n",
       "      <th>ciudad</th>\n",
       "      <th>Estado</th>\n",
       "      <th>Codigo postal</th>\n",
       "      <th>pais</th>\n",
       "      <th>Num_empleado</th>\n",
       "      <th>Crédito</th>\n",
       "    </tr>\n",
       "  </thead>\n",
       "  <tbody>\n",
       "    <tr>\n",
       "      <th>0</th>\n",
       "      <td>103</td>\n",
       "      <td>Atelier graphique</td>\n",
       "      <td>Schmitt</td>\n",
       "      <td>Carine</td>\n",
       "      <td>40.32.2555</td>\n",
       "      <td>54, rue Royale</td>\n",
       "      <td>None</td>\n",
       "      <td>Nantes</td>\n",
       "      <td>None</td>\n",
       "      <td>44000</td>\n",
       "      <td>France</td>\n",
       "      <td>1370.0</td>\n",
       "      <td>21000.00</td>\n",
       "    </tr>\n",
       "    <tr>\n",
       "      <th>1</th>\n",
       "      <td>112</td>\n",
       "      <td>Signal Gift Stores</td>\n",
       "      <td>King</td>\n",
       "      <td>Jean</td>\n",
       "      <td>7025551838</td>\n",
       "      <td>8489 Strong St.</td>\n",
       "      <td>None</td>\n",
       "      <td>Las Vegas</td>\n",
       "      <td>NV</td>\n",
       "      <td>83030</td>\n",
       "      <td>USA</td>\n",
       "      <td>1166.0</td>\n",
       "      <td>71800.00</td>\n",
       "    </tr>\n",
       "    <tr>\n",
       "      <th>2</th>\n",
       "      <td>114</td>\n",
       "      <td>Australian Collectors, Co.</td>\n",
       "      <td>Ferguson</td>\n",
       "      <td>Peter</td>\n",
       "      <td>03 9520 4555</td>\n",
       "      <td>636 St Kilda Road</td>\n",
       "      <td>Level 3</td>\n",
       "      <td>Melbourne</td>\n",
       "      <td>Victoria</td>\n",
       "      <td>3004</td>\n",
       "      <td>Australia</td>\n",
       "      <td>1611.0</td>\n",
       "      <td>117300.00</td>\n",
       "    </tr>\n",
       "    <tr>\n",
       "      <th>3</th>\n",
       "      <td>119</td>\n",
       "      <td>La Rochelle Gifts</td>\n",
       "      <td>Labrune</td>\n",
       "      <td>Janine</td>\n",
       "      <td>40.67.8555</td>\n",
       "      <td>67, rue des Cinquante Otages</td>\n",
       "      <td>None</td>\n",
       "      <td>Nantes</td>\n",
       "      <td>None</td>\n",
       "      <td>44000</td>\n",
       "      <td>France</td>\n",
       "      <td>1370.0</td>\n",
       "      <td>118200.00</td>\n",
       "    </tr>\n",
       "    <tr>\n",
       "      <th>4</th>\n",
       "      <td>121</td>\n",
       "      <td>Baane Mini Imports</td>\n",
       "      <td>Bergulfsen</td>\n",
       "      <td>Jonas</td>\n",
       "      <td>07-98 9555</td>\n",
       "      <td>Erling Skakkes gate 78</td>\n",
       "      <td>None</td>\n",
       "      <td>Stavern</td>\n",
       "      <td>None</td>\n",
       "      <td>4110</td>\n",
       "      <td>Norway</td>\n",
       "      <td>1504.0</td>\n",
       "      <td>81700.00</td>\n",
       "    </tr>\n",
       "  </tbody>\n",
       "</table>\n",
       "</div>"
      ],
      "text/plain": [
       "   num_cliente              Nombre Cliente    Apellido   Nombre      Telefono  \\\n",
       "0          103           Atelier graphique     Schmitt  Carine     40.32.2555   \n",
       "1          112          Signal Gift Stores        King     Jean    7025551838   \n",
       "2          114  Australian Collectors, Co.    Ferguson    Peter  03 9520 4555   \n",
       "3          119           La Rochelle Gifts     Labrune  Janine     40.67.8555   \n",
       "4          121          Baane Mini Imports  Bergulfsen   Jonas     07-98 9555   \n",
       "\n",
       "                    Dirección 1 Dirección 2     ciudad    Estado  \\\n",
       "0                54, rue Royale        None     Nantes      None   \n",
       "1               8489 Strong St.        None  Las Vegas        NV   \n",
       "2             636 St Kilda Road     Level 3  Melbourne  Victoria   \n",
       "3  67, rue des Cinquante Otages        None     Nantes      None   \n",
       "4        Erling Skakkes gate 78        None    Stavern      None   \n",
       "\n",
       "  Codigo postal       pais  Num_empleado    Crédito  \n",
       "0         44000     France        1370.0   21000.00  \n",
       "1         83030        USA        1166.0   71800.00  \n",
       "2          3004  Australia        1611.0  117300.00  \n",
       "3         44000     France        1370.0  118200.00  \n",
       "4          4110     Norway        1504.0   81700.00  "
      ]
     },
     "execution_count": 51,
     "metadata": {},
     "output_type": "execute_result"
    }
   ],
   "source": [
    "import pandas as pd\n",
    "\n",
    "# hacemos la conexión con el servidor\n",
    "cnx = mysql.connector.connect(user='root', password='AlumnaAdalab',\n",
    "                              host='127.0.0.1',\n",
    "                              database='tienda')\n",
    "\n",
    "# iniciamos el cursor\n",
    "mycursor = cnx.cursor()\n",
    "\n",
    "# ejecutamos nuestra query\n",
    "mycursor.execute(\"SELECT * FROM customers\")\n",
    "\n",
    "# le decimos que nos devuelva todos los resultados y los almacenamos en una variable llamada myresult\n",
    "myresult = mycursor.fetchall()\n",
    "\n",
    "#Creamos un dataframe con los resultados de la consulta SQL almacenados en myresult. Si os fijais le estamos pasando un parámetro llamado \"columns\" donde estamos especificando cuáles son las columnas de lo que será nuestro dataframe\n",
    "df = pd.DataFrame(myresult, columns = ['num_cliente', 'Nombre Cliente', 'Apellido', 'Nombre', 'Telefono', 'Dirección 1', 'Dirección 2', 'ciudad', 'Estado', \n",
    "                                        'Codigo postal', 'pais', 'Num_empleado', 'Crédito'])\n",
    "\n",
    "df.head()\n"
   ]
  },
  {
   "cell_type": "markdown",
   "metadata": {},
   "source": [
    "#### EJERCICIO 9\n",
    "\n",
    "Como Customers tiene un número de registros muy elevado, crea un nuevo dataframe."
   ]
  },
  {
   "cell_type": "code",
   "execution_count": null,
   "metadata": {},
   "outputs": [],
   "source": []
  },
  {
   "cell_type": "markdown",
   "metadata": {},
   "source": [
    "#### EJERCICIO 10\n",
    "\n",
    "El resultado anterior tiene 13 columnas, por lo que no es cómodo para su visualización por el terminal (o en este mismo notebook).\n",
    "Crea un dataframe con los resultados. "
   ]
  },
  {
   "cell_type": "code",
   "execution_count": null,
   "metadata": {},
   "outputs": [],
   "source": []
  }
 ],
 "metadata": {
  "kernelspec": {
   "display_name": "Python 3.8.10 64-bit (microsoft store)",
   "language": "python",
   "name": "python3"
  },
  "language_info": {
   "codemirror_mode": {
    "name": "ipython",
    "version": 3
   },
   "file_extension": ".py",
   "mimetype": "text/x-python",
   "name": "python",
   "nbconvert_exporter": "python",
   "pygments_lexer": "ipython3",
   "version": "3.8.10"
  },
  "orig_nbformat": 4,
  "vscode": {
   "interpreter": {
    "hash": "79dd3c927003417683b619f87ecd0018a9d7de8be3a2646bb47397e38116df1b"
   }
  }
 },
 "nbformat": 4,
 "nbformat_minor": 2
}

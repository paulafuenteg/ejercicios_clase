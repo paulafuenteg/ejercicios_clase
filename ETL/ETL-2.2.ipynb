{
 "cells": [
  {
   "cell_type": "markdown",
   "id": "3a9cbc9b",
   "metadata": {
    "toc": true
   },
   "source": [
    "<h1>Table of Contents<span class=\"tocSkip\"></span></h1>\n",
    "<div class=\"toc\"><ul class=\"toc-item\"><li><span><a href=\"#Cargamos-el-csv-que-vamos-a-usar\" data-toc-modified-id=\"Cargamos-el-csv-que-vamos-a-usar-1\"><span class=\"toc-item-num\">1&nbsp;&nbsp;</span>Cargamos el <code>csv</code> que vamos a usar</a></span></li><li><span><a href=\"#Definición-de-variables\" data-toc-modified-id=\"Definición-de-variables-2\"><span class=\"toc-item-num\">2&nbsp;&nbsp;</span>Definición de variables</a></span></li><li><span><a href=\"#Creamos-la-clase\" data-toc-modified-id=\"Creamos-la-clase-3\"><span class=\"toc-item-num\">3&nbsp;&nbsp;</span>Creamos la clase</a></span><ul class=\"toc-item\"><li><span><a href=\"#Hacemos-las-llamadas-a-los-métodos-de-la-Clase\" data-toc-modified-id=\"Hacemos-las-llamadas-a-los-métodos-de-la-Clase-3.1\"><span class=\"toc-item-num\">3.1&nbsp;&nbsp;</span>Hacemos las llamadas a los métodos de la Clase</a></span><ul class=\"toc-item\"><li><span><a href=\"#Iniciamos-la-Clase\" data-toc-modified-id=\"Iniciamos-la-Clase-3.1.1\"><span class=\"toc-item-num\">3.1.1&nbsp;&nbsp;</span>Iniciamos la Clase</a></span></li><li><span><a href=\"#Llamada-a-la-API\" data-toc-modified-id=\"Llamada-a-la-API-3.1.2\"><span class=\"toc-item-num\">3.1.2&nbsp;&nbsp;</span>Llamada a la API</a></span></li><li><span><a href=\"#Limpiamos-los-dataframes\" data-toc-modified-id=\"Limpiamos-los-dataframes-3.1.3\"><span class=\"toc-item-num\">3.1.3&nbsp;&nbsp;</span>Limpiamos los dataframes</a></span></li><li><span><a href=\"#Juntamos-los-dataframes\" data-toc-modified-id=\"Juntamos-los-dataframes-3.1.4\"><span class=\"toc-item-num\">3.1.4&nbsp;&nbsp;</span>Juntamos los dataframes</a></span></li><li><span><a href=\"#Chequeamos-como-están-los-datos-de-&quot;limpios&quot;\" data-toc-modified-id=\"Chequeamos-como-están-los-datos-de-&quot;limpios&quot;-3.1.5\"><span class=\"toc-item-num\">3.1.5&nbsp;&nbsp;</span>Chequeamos como están los datos de \"limpios\"</a></span></li></ul></li></ul></li></ul></div>"
   ]
  },
  {
   "cell_type": "markdown",
   "id": "371c73f3",
   "metadata": {},
   "source": [
    "En este jupyter vamos a hacer lo mismo que en el anterior, pero en este caso lo haremos definiendo una clase que nos permita hacer todo el proceso. "
   ]
  },
  {
   "cell_type": "code",
   "execution_count": 4,
   "id": "a05f5932",
   "metadata": {},
   "outputs": [],
   "source": [
    "import pandas as pd\n",
    "import requests\n",
    "from datetime import datetime, timedelta"
   ]
  },
  {
   "cell_type": "markdown",
   "id": "9c6850a6",
   "metadata": {},
   "source": [
    "# Cargamos el `csv` que vamos a usar"
   ]
  },
  {
   "cell_type": "code",
   "execution_count": 6,
   "id": "6e30b3a9",
   "metadata": {},
   "outputs": [
    {
     "data": {
      "text/html": [
       "<div>\n",
       "<style scoped>\n",
       "    .dataframe tbody tr th:only-of-type {\n",
       "        vertical-align: middle;\n",
       "    }\n",
       "\n",
       "    .dataframe tbody tr th {\n",
       "        vertical-align: top;\n",
       "    }\n",
       "\n",
       "    .dataframe thead th {\n",
       "        text-align: right;\n",
       "    }\n",
       "</style>\n",
       "<table border=\"1\" class=\"dataframe\">\n",
       "  <thead>\n",
       "    <tr style=\"text-align: right;\">\n",
       "      <th></th>\n",
       "      <th>timepoint</th>\n",
       "      <th>cloudcover</th>\n",
       "      <th>lifted_index</th>\n",
       "      <th>prec_type</th>\n",
       "      <th>prec_amount</th>\n",
       "      <th>temp2m</th>\n",
       "      <th>rh2m</th>\n",
       "      <th>weather</th>\n",
       "      <th>wind10m.direction</th>\n",
       "      <th>wind10m.speed</th>\n",
       "      <th>fecha</th>\n",
       "      <th>latitud</th>\n",
       "      <th>longitud</th>\n",
       "      <th>ciudad</th>\n",
       "      <th>seeing</th>\n",
       "      <th>transparency</th>\n",
       "    </tr>\n",
       "  </thead>\n",
       "  <tbody>\n",
       "    <tr>\n",
       "      <th>0</th>\n",
       "      <td>3</td>\n",
       "      <td>1</td>\n",
       "      <td>15</td>\n",
       "      <td>none</td>\n",
       "      <td>0</td>\n",
       "      <td>5</td>\n",
       "      <td>64</td>\n",
       "      <td>clearnight</td>\n",
       "      <td>NW</td>\n",
       "      <td>3</td>\n",
       "      <td>2023-01-10</td>\n",
       "      <td>40.4165</td>\n",
       "      <td>-3.70256</td>\n",
       "      <td>Madrid</td>\n",
       "      <td>5</td>\n",
       "      <td>2</td>\n",
       "    </tr>\n",
       "    <tr>\n",
       "      <th>1</th>\n",
       "      <td>6</td>\n",
       "      <td>2</td>\n",
       "      <td>15</td>\n",
       "      <td>none</td>\n",
       "      <td>0</td>\n",
       "      <td>6</td>\n",
       "      <td>55</td>\n",
       "      <td>clearnight</td>\n",
       "      <td>NW</td>\n",
       "      <td>3</td>\n",
       "      <td>2023-01-10</td>\n",
       "      <td>40.4165</td>\n",
       "      <td>-3.70256</td>\n",
       "      <td>Madrid</td>\n",
       "      <td>5</td>\n",
       "      <td>2</td>\n",
       "    </tr>\n",
       "  </tbody>\n",
       "</table>\n",
       "</div>"
      ],
      "text/plain": [
       "   timepoint  cloudcover  lifted_index prec_type  prec_amount  temp2m  rh2m  \\\n",
       "0          3           1            15      none            0       5    64   \n",
       "1          6           2            15      none            0       6    55   \n",
       "\n",
       "      weather wind10m.direction  wind10m.speed       fecha  latitud  longitud  \\\n",
       "0  clearnight                NW              3  2023-01-10  40.4165  -3.70256   \n",
       "1  clearnight                NW              3  2023-01-10  40.4165  -3.70256   \n",
       "\n",
       "   ciudad  seeing  transparency  \n",
       "0  Madrid       5             2  \n",
       "1  Madrid       5             2  "
      ]
     },
     "execution_count": 6,
     "metadata": {},
     "output_type": "execute_result"
    }
   ],
   "source": [
    "df = pd.read_csv(\"files/datos_actualizados.csv\", index_col = 0)\n",
    "df.head(2)"
   ]
  },
  {
   "cell_type": "markdown",
   "id": "72b29750",
   "metadata": {},
   "source": [
    "# Definición de variables "
   ]
  },
  {
   "cell_type": "markdown",
   "id": "0ebe57c6",
   "metadata": {},
   "source": [
    "Definimos las variables que vamos a necesitar para hacer las llamadas a cada uno de los métodos de la clase. "
   ]
  },
  {
   "cell_type": "code",
   "execution_count": 7,
   "id": "5eb007cc",
   "metadata": {},
   "outputs": [],
   "source": [
    "latitud = 40.4165\n",
    "longitud = -3.70256\n",
    "producto = \"civil\"\n",
    "producto2 = \"astro\"\n",
    "ciudad = \"Madrid\"\n"
   ]
  },
  {
   "cell_type": "markdown",
   "id": "c2f9965a",
   "metadata": {},
   "source": [
    "# Creamos la clase "
   ]
  },
  {
   "cell_type": "code",
   "execution_count": 23,
   "id": "9803c914",
   "metadata": {},
   "outputs": [],
   "source": [
    "class Extraccion: \n",
    "    # primero tenemos que crear el constructor con las variables globales que usaremos. Están son variables que podrán cambiar cada vez que llamemos a la clase. \n",
    "    def __init__(self, lat, lon, ciudad):\n",
    "\n",
    "        # definimos cada una de las variables. Recordamos que tenemos que usar el método .self para definirlas y que la clase entienda que las podremos usar en otros métodos de la clase. \n",
    "        self.lat = lat\n",
    "        self.lon = lon\n",
    "        self.ciudad = ciudad\n",
    "\n",
    "    # definimos nuestro primer método. El que nos hará la llamada a la API\n",
    "    # Si comparamos, veremos que la función es exactamente igual a la que hicimos en la clase anterior, solo que con unos pequeños cambios. En este caso incluimos el parámetro self\n",
    "    def llamada_API(self, producto):\n",
    "        \n",
    "        # producto es una variable nueva, por lo que lo primero que tenemos que hacer es definirla\n",
    "        self.producto = producto\n",
    "    \n",
    "        # hacemos la llamada  a la API\n",
    "        # Tendremos que poner el self delante de long y lat ya que son variables definidas en el constructor. El self podríamos decir que es como el camino de baldosas \n",
    "        # amarillas que indica al método de donde tiene que sacar esas variables\n",
    "        url = f'http://www.7timer.info/bin/api.pl?lon=-{self.lon}&lat={self.lat}&product={producto}&output=json'\n",
    "\n",
    "        response = requests.get(url=url)\n",
    "        codigo_estado = response.status_code\n",
    "        razon_estado = response.reason\n",
    "        if codigo_estado == 200:\n",
    "            print('La peticion se ha realizado correctamente, se ha devuelto el código de estado:',codigo_estado,' y como razón del código de estado: ',razon_estado)\n",
    "        elif codigo_estado == 402:\n",
    "            print('No se ha podido autorizar usario, se ha devuelto el código de estado:', codigo_estado,' y como razón del código de estado: ',razon_estado)\n",
    "        elif codigo_estado == 404:\n",
    "            print('Algo ha salido mal, el recurso no se ha encontrado,se ha devuelto el código de estado:', codigo_estado,' y como razón del código de estado: ',razon_estado)\n",
    "        else:\n",
    "            print('Algo inesperado ha ocurrido, se ha devuelto el código de estado:', codigo_estado,' y como razón del código de estado: ',razon_estado)\n",
    "\n",
    "        # convertimos los resultados en un dataframe: \n",
    "        df = pd.DataFrame.from_dict(pd.json_normalize(response.json()['dataseries']))\n",
    "        return df\n",
    "    \n",
    "    # definimos un nuevo método, el de limpiar los datos obtenidos de la llamada a la API para el producto civil. \n",
    "    def limpiar_civil(self, df): \n",
    "\n",
    "        # lo primero que tenemos que hacer es crear la columna de fecha en el dataframe nuevo \n",
    "        # En este caso será la fecha del día de hoy. \n",
    "        hoy = datetime.now()\n",
    "        hoy = datetime.strftime(hoy, '%Y-%m-%d')\n",
    "\n",
    "        # creamos la nueva columna\n",
    "        df[\"fecha\"] = hoy\n",
    "\n",
    "        # de nuevo usamos el self para crear las nuevas columnas en función de los parámetros pasados al definir la clase. Recordamos, el caminito de baldosas amarillas.\n",
    "        df[\"latitud\"] = self.lat\n",
    "        df[\"longitud\"] = self.lon\n",
    "        df[\"ciudad\"] = self.ciudad\n",
    "        return df\n",
    "    \n",
    "    \n",
    "    # creamos una clase para limpiar el resultado de la llamada a la API para el producto astro\n",
    "    def limpiar_astro(self, df):\n",
    "\n",
    "        #seleccionamos solo las columnas que nos interesan\n",
    "        df = df[[\"seeing\", \"transparency\", \"timepoint\"]]\n",
    "\n",
    "        # creamos la columna de fecha: \n",
    "        hoy = datetime.now()\n",
    "        hoy = datetime.strftime(hoy, '%Y-%m-%d')\n",
    "        df[\"fecha\"] = hoy\n",
    "\n",
    "\n",
    "        # insertamos las columnas de la localidad\n",
    "    \n",
    "        df[\"ciudad\"] = self.ciudad\n",
    "\n",
    "        return df\n",
    "    \n",
    "    # de nuevo, hacemos lo mismo que en la lección anterior. \n",
    "    def juntar_dfs(self, df_completo, df_civil, df_visibilidad): \n",
    "\n",
    "        df_hoy = pd.merge(df_civil , df_visibilidad , on=['fecha', \"timepoint\", \"ciudad\"], how = \"right\")\n",
    "        print(\"El df de hoy es \", df_hoy.columns)\n",
    "        print(\"-----------------------------------------\")\n",
    "        print(\"El df de completo es \", df_completo.columns)\n",
    "        # lo primero que hacemos es concatenar los dataframes con la información general. df_completo y df_civil\n",
    "        df_completo = pd.concat([df_completo, df_hoy], axis = 0)\n",
    "\n",
    "        \n",
    "        # guardamos los datos\n",
    "        df_completo.to_pickle('files/datos_actualizados.pkl')\n",
    "        df_completo.to_csv('files/datos_actualizados.csv')\n",
    "\n",
    "        return df_completo\n",
    "    \n",
    "    \n",
    "\n",
    "    def chequear_datos(self, df): \n",
    "    \n",
    "        print(\"Las columnas son:\", \"\\n\")\n",
    "        print(list(df.columns))\n",
    "        print(\"-----------------------------------------\")\n",
    "\n",
    "        print(\"Los tipos de datos que tenemos son:\", \"\\n\")\n",
    "        print(df.dtypes)\n",
    "        print(\"-----------------------------------------\")\n",
    "\n",
    "        print(\"El porcentaje de nulos:\", \"\\n\")\n",
    "        print((df.isnull().sum() / df.shape[0]) *  100)\n",
    "\n",
    "    def limpiar_dataframe(self, df, lista_columnas = []): \n",
    "\n",
    "        #convertimos la fecha a datetime\n",
    "        df[\"fecha\"] = pd.to_datetime(df[\"fecha\"])\n",
    "\n",
    "        # reemplazamos los nulos de las columnas por la media\n",
    "         # lista de columnas en las que queremos reemplazar los nulos\n",
    "        df[lista_columnas]=df[lista_columnas].fillna(df.mean())\n",
    "\n",
    "        \n",
    "        # renombrar columnas\n",
    "        \n",
    "        df.rename(columns = {\"ciudad_x\": \"ciudad\"}, inplace = True)\n",
    "\n",
    "        # quitar % \n",
    "        df[\"rh2m\"] = df[\"rh2m\"].replace(r\"%\", \"\", regex = True)\n",
    "\n",
    "        # guardamos los datos una vez limpios\n",
    "        df.to_pickle('files/datos_actualizados.pkl')\n",
    "        df.to_csv('files/datos_actualizados.csv')\n",
    "\n",
    "        return df\n"
   ]
  },
  {
   "cell_type": "markdown",
   "id": "e63020f5",
   "metadata": {},
   "source": [
    "## Hacemos las llamadas a los métodos de la Clase "
   ]
  },
  {
   "cell_type": "markdown",
   "id": "279f56b3",
   "metadata": {},
   "source": [
    "### Iniciamos la Clase \n",
    "´\n",
    "Recordamos que nuestro método constructor recibía tres parámetros. "
   ]
  },
  {
   "cell_type": "code",
   "execution_count": 25,
   "id": "42b58be1",
   "metadata": {},
   "outputs": [],
   "source": [
    "api = Extraccion(latitud, longitud, ciudad)"
   ]
  },
  {
   "cell_type": "code",
   "execution_count": 26,
   "id": "643bc471",
   "metadata": {},
   "outputs": [
    {
     "data": {
      "text/plain": [
       "<__main__.Extraccion at 0x7f4868737a60>"
      ]
     },
     "execution_count": 26,
     "metadata": {},
     "output_type": "execute_result"
    }
   ],
   "source": [
    "api"
   ]
  },
  {
   "cell_type": "markdown",
   "id": "03f10355",
   "metadata": {},
   "source": [
    "### Llamada a la API "
   ]
  },
  {
   "cell_type": "markdown",
   "id": "c28f2066",
   "metadata": {},
   "source": [
    "1️⃣ Llamamos al producto \"civil\""
   ]
  },
  {
   "cell_type": "code",
   "execution_count": 27,
   "id": "3072170e",
   "metadata": {},
   "outputs": [
    {
     "name": "stdout",
     "output_type": "stream",
     "text": [
      "La peticion se ha realizado correctamente, se ha devuelto el código de estado: 200  y como razón del código de estado:  OK\n"
     ]
    },
    {
     "data": {
      "text/html": [
       "<div>\n",
       "<style scoped>\n",
       "    .dataframe tbody tr th:only-of-type {\n",
       "        vertical-align: middle;\n",
       "    }\n",
       "\n",
       "    .dataframe tbody tr th {\n",
       "        vertical-align: top;\n",
       "    }\n",
       "\n",
       "    .dataframe thead th {\n",
       "        text-align: right;\n",
       "    }\n",
       "</style>\n",
       "<table border=\"1\" class=\"dataframe\">\n",
       "  <thead>\n",
       "    <tr style=\"text-align: right;\">\n",
       "      <th></th>\n",
       "      <th>timepoint</th>\n",
       "      <th>cloudcover</th>\n",
       "      <th>lifted_index</th>\n",
       "      <th>prec_type</th>\n",
       "      <th>prec_amount</th>\n",
       "      <th>temp2m</th>\n",
       "      <th>rh2m</th>\n",
       "      <th>weather</th>\n",
       "      <th>wind10m.direction</th>\n",
       "      <th>wind10m.speed</th>\n",
       "    </tr>\n",
       "  </thead>\n",
       "  <tbody>\n",
       "    <tr>\n",
       "      <th>0</th>\n",
       "      <td>3</td>\n",
       "      <td>1</td>\n",
       "      <td>15</td>\n",
       "      <td>none</td>\n",
       "      <td>0</td>\n",
       "      <td>8</td>\n",
       "      <td>40%</td>\n",
       "      <td>clearday</td>\n",
       "      <td>NW</td>\n",
       "      <td>2</td>\n",
       "    </tr>\n",
       "    <tr>\n",
       "      <th>1</th>\n",
       "      <td>6</td>\n",
       "      <td>1</td>\n",
       "      <td>10</td>\n",
       "      <td>none</td>\n",
       "      <td>0</td>\n",
       "      <td>13</td>\n",
       "      <td>38%</td>\n",
       "      <td>clearday</td>\n",
       "      <td>NW</td>\n",
       "      <td>2</td>\n",
       "    </tr>\n",
       "  </tbody>\n",
       "</table>\n",
       "</div>"
      ],
      "text/plain": [
       "   timepoint  cloudcover  lifted_index prec_type  prec_amount  temp2m rh2m  \\\n",
       "0          3           1            15      none            0       8  40%   \n",
       "1          6           1            10      none            0      13  38%   \n",
       "\n",
       "    weather wind10m.direction  wind10m.speed  \n",
       "0  clearday                NW              2  \n",
       "1  clearday                NW              2  "
      ]
     },
     "execution_count": 27,
     "metadata": {},
     "output_type": "execute_result"
    }
   ],
   "source": [
    "df_civil = api.llamada_API(\"civil\")\n",
    "df_civil.head(2)"
   ]
  },
  {
   "cell_type": "markdown",
   "id": "7f6ad60c",
   "metadata": {},
   "source": [
    "2️⃣ Llamamos al producto \"astro\""
   ]
  },
  {
   "cell_type": "code",
   "execution_count": 28,
   "id": "fb7b7626",
   "metadata": {},
   "outputs": [
    {
     "name": "stdout",
     "output_type": "stream",
     "text": [
      "La peticion se ha realizado correctamente, se ha devuelto el código de estado: 200  y como razón del código de estado:  OK\n"
     ]
    },
    {
     "data": {
      "text/html": [
       "<div>\n",
       "<style scoped>\n",
       "    .dataframe tbody tr th:only-of-type {\n",
       "        vertical-align: middle;\n",
       "    }\n",
       "\n",
       "    .dataframe tbody tr th {\n",
       "        vertical-align: top;\n",
       "    }\n",
       "\n",
       "    .dataframe thead th {\n",
       "        text-align: right;\n",
       "    }\n",
       "</style>\n",
       "<table border=\"1\" class=\"dataframe\">\n",
       "  <thead>\n",
       "    <tr style=\"text-align: right;\">\n",
       "      <th></th>\n",
       "      <th>timepoint</th>\n",
       "      <th>cloudcover</th>\n",
       "      <th>seeing</th>\n",
       "      <th>transparency</th>\n",
       "      <th>lifted_index</th>\n",
       "      <th>rh2m</th>\n",
       "      <th>temp2m</th>\n",
       "      <th>prec_type</th>\n",
       "      <th>wind10m.direction</th>\n",
       "      <th>wind10m.speed</th>\n",
       "    </tr>\n",
       "  </thead>\n",
       "  <tbody>\n",
       "    <tr>\n",
       "      <th>0</th>\n",
       "      <td>3</td>\n",
       "      <td>1</td>\n",
       "      <td>2</td>\n",
       "      <td>2</td>\n",
       "      <td>15</td>\n",
       "      <td>4</td>\n",
       "      <td>8</td>\n",
       "      <td>none</td>\n",
       "      <td>NW</td>\n",
       "      <td>2</td>\n",
       "    </tr>\n",
       "    <tr>\n",
       "      <th>1</th>\n",
       "      <td>6</td>\n",
       "      <td>1</td>\n",
       "      <td>2</td>\n",
       "      <td>2</td>\n",
       "      <td>10</td>\n",
       "      <td>3</td>\n",
       "      <td>13</td>\n",
       "      <td>none</td>\n",
       "      <td>NW</td>\n",
       "      <td>2</td>\n",
       "    </tr>\n",
       "  </tbody>\n",
       "</table>\n",
       "</div>"
      ],
      "text/plain": [
       "   timepoint  cloudcover  seeing  transparency  lifted_index  rh2m  temp2m  \\\n",
       "0          3           1       2             2            15     4       8   \n",
       "1          6           1       2             2            10     3      13   \n",
       "\n",
       "  prec_type wind10m.direction  wind10m.speed  \n",
       "0      none                NW              2  \n",
       "1      none                NW              2  "
      ]
     },
     "execution_count": 28,
     "metadata": {},
     "output_type": "execute_result"
    }
   ],
   "source": [
    "df_astro = api.llamada_API(\"astro\")\n",
    "df_astro.head(2)"
   ]
  },
  {
   "cell_type": "markdown",
   "id": "565bc7d1",
   "metadata": {},
   "source": [
    "### Limpiamos los dataframes"
   ]
  },
  {
   "cell_type": "code",
   "execution_count": 29,
   "id": "d27177c9",
   "metadata": {},
   "outputs": [
    {
     "data": {
      "text/html": [
       "<div>\n",
       "<style scoped>\n",
       "    .dataframe tbody tr th:only-of-type {\n",
       "        vertical-align: middle;\n",
       "    }\n",
       "\n",
       "    .dataframe tbody tr th {\n",
       "        vertical-align: top;\n",
       "    }\n",
       "\n",
       "    .dataframe thead th {\n",
       "        text-align: right;\n",
       "    }\n",
       "</style>\n",
       "<table border=\"1\" class=\"dataframe\">\n",
       "  <thead>\n",
       "    <tr style=\"text-align: right;\">\n",
       "      <th></th>\n",
       "      <th>timepoint</th>\n",
       "      <th>cloudcover</th>\n",
       "      <th>lifted_index</th>\n",
       "      <th>prec_type</th>\n",
       "      <th>prec_amount</th>\n",
       "      <th>temp2m</th>\n",
       "      <th>rh2m</th>\n",
       "      <th>weather</th>\n",
       "      <th>wind10m.direction</th>\n",
       "      <th>wind10m.speed</th>\n",
       "      <th>fecha</th>\n",
       "      <th>latitud</th>\n",
       "      <th>longitud</th>\n",
       "      <th>ciudad</th>\n",
       "    </tr>\n",
       "  </thead>\n",
       "  <tbody>\n",
       "    <tr>\n",
       "      <th>0</th>\n",
       "      <td>3</td>\n",
       "      <td>1</td>\n",
       "      <td>15</td>\n",
       "      <td>none</td>\n",
       "      <td>0</td>\n",
       "      <td>8</td>\n",
       "      <td>40%</td>\n",
       "      <td>clearday</td>\n",
       "      <td>NW</td>\n",
       "      <td>2</td>\n",
       "      <td>2023-01-10</td>\n",
       "      <td>40.4165</td>\n",
       "      <td>-3.70256</td>\n",
       "      <td>Madrid</td>\n",
       "    </tr>\n",
       "    <tr>\n",
       "      <th>1</th>\n",
       "      <td>6</td>\n",
       "      <td>1</td>\n",
       "      <td>10</td>\n",
       "      <td>none</td>\n",
       "      <td>0</td>\n",
       "      <td>13</td>\n",
       "      <td>38%</td>\n",
       "      <td>clearday</td>\n",
       "      <td>NW</td>\n",
       "      <td>2</td>\n",
       "      <td>2023-01-10</td>\n",
       "      <td>40.4165</td>\n",
       "      <td>-3.70256</td>\n",
       "      <td>Madrid</td>\n",
       "    </tr>\n",
       "  </tbody>\n",
       "</table>\n",
       "</div>"
      ],
      "text/plain": [
       "   timepoint  cloudcover  lifted_index prec_type  prec_amount  temp2m rh2m  \\\n",
       "0          3           1            15      none            0       8  40%   \n",
       "1          6           1            10      none            0      13  38%   \n",
       "\n",
       "    weather wind10m.direction  wind10m.speed       fecha  latitud  longitud  \\\n",
       "0  clearday                NW              2  2023-01-10  40.4165  -3.70256   \n",
       "1  clearday                NW              2  2023-01-10  40.4165  -3.70256   \n",
       "\n",
       "   ciudad  \n",
       "0  Madrid  \n",
       "1  Madrid  "
      ]
     },
     "execution_count": 29,
     "metadata": {},
     "output_type": "execute_result"
    }
   ],
   "source": [
    "df_civil = api.limpiar_civil(df_civil)\n",
    "df_civil.head(2)"
   ]
  },
  {
   "cell_type": "code",
   "execution_count": 30,
   "id": "942d1e3c",
   "metadata": {},
   "outputs": [
    {
     "name": "stderr",
     "output_type": "stream",
     "text": [
      "/tmp/ipykernel_785/3350619388.py:65: SettingWithCopyWarning: \n",
      "A value is trying to be set on a copy of a slice from a DataFrame.\n",
      "Try using .loc[row_indexer,col_indexer] = value instead\n",
      "\n",
      "See the caveats in the documentation: https://pandas.pydata.org/pandas-docs/stable/user_guide/indexing.html#returning-a-view-versus-a-copy\n",
      "  df[\"fecha\"] = hoy\n",
      "/tmp/ipykernel_785/3350619388.py:70: SettingWithCopyWarning: \n",
      "A value is trying to be set on a copy of a slice from a DataFrame.\n",
      "Try using .loc[row_indexer,col_indexer] = value instead\n",
      "\n",
      "See the caveats in the documentation: https://pandas.pydata.org/pandas-docs/stable/user_guide/indexing.html#returning-a-view-versus-a-copy\n",
      "  df[\"ciudad\"] = self.ciudad\n"
     ]
    },
    {
     "data": {
      "text/html": [
       "<div>\n",
       "<style scoped>\n",
       "    .dataframe tbody tr th:only-of-type {\n",
       "        vertical-align: middle;\n",
       "    }\n",
       "\n",
       "    .dataframe tbody tr th {\n",
       "        vertical-align: top;\n",
       "    }\n",
       "\n",
       "    .dataframe thead th {\n",
       "        text-align: right;\n",
       "    }\n",
       "</style>\n",
       "<table border=\"1\" class=\"dataframe\">\n",
       "  <thead>\n",
       "    <tr style=\"text-align: right;\">\n",
       "      <th></th>\n",
       "      <th>seeing</th>\n",
       "      <th>transparency</th>\n",
       "      <th>timepoint</th>\n",
       "      <th>fecha</th>\n",
       "      <th>ciudad</th>\n",
       "    </tr>\n",
       "  </thead>\n",
       "  <tbody>\n",
       "    <tr>\n",
       "      <th>0</th>\n",
       "      <td>2</td>\n",
       "      <td>2</td>\n",
       "      <td>3</td>\n",
       "      <td>2023-01-10</td>\n",
       "      <td>Madrid</td>\n",
       "    </tr>\n",
       "    <tr>\n",
       "      <th>1</th>\n",
       "      <td>2</td>\n",
       "      <td>2</td>\n",
       "      <td>6</td>\n",
       "      <td>2023-01-10</td>\n",
       "      <td>Madrid</td>\n",
       "    </tr>\n",
       "  </tbody>\n",
       "</table>\n",
       "</div>"
      ],
      "text/plain": [
       "   seeing  transparency  timepoint       fecha  ciudad\n",
       "0       2             2          3  2023-01-10  Madrid\n",
       "1       2             2          6  2023-01-10  Madrid"
      ]
     },
     "execution_count": 30,
     "metadata": {},
     "output_type": "execute_result"
    }
   ],
   "source": [
    "df_astro = api.limpiar_astro(df_astro)\n",
    "df_astro.head(2)"
   ]
  },
  {
   "cell_type": "code",
   "execution_count": 31,
   "id": "65db20ba",
   "metadata": {},
   "outputs": [
    {
     "data": {
      "text/html": [
       "<div>\n",
       "<style scoped>\n",
       "    .dataframe tbody tr th:only-of-type {\n",
       "        vertical-align: middle;\n",
       "    }\n",
       "\n",
       "    .dataframe tbody tr th {\n",
       "        vertical-align: top;\n",
       "    }\n",
       "\n",
       "    .dataframe thead th {\n",
       "        text-align: right;\n",
       "    }\n",
       "</style>\n",
       "<table border=\"1\" class=\"dataframe\">\n",
       "  <thead>\n",
       "    <tr style=\"text-align: right;\">\n",
       "      <th></th>\n",
       "      <th>timepoint</th>\n",
       "      <th>cloudcover</th>\n",
       "      <th>lifted_index</th>\n",
       "      <th>prec_type</th>\n",
       "      <th>prec_amount</th>\n",
       "      <th>temp2m</th>\n",
       "      <th>rh2m</th>\n",
       "      <th>weather</th>\n",
       "      <th>wind10m.direction</th>\n",
       "      <th>wind10m.speed</th>\n",
       "      <th>fecha</th>\n",
       "      <th>latitud</th>\n",
       "      <th>longitud</th>\n",
       "      <th>ciudad</th>\n",
       "    </tr>\n",
       "  </thead>\n",
       "  <tbody>\n",
       "    <tr>\n",
       "      <th>0</th>\n",
       "      <td>3</td>\n",
       "      <td>1</td>\n",
       "      <td>15</td>\n",
       "      <td>none</td>\n",
       "      <td>0</td>\n",
       "      <td>8</td>\n",
       "      <td>40%</td>\n",
       "      <td>clearday</td>\n",
       "      <td>NW</td>\n",
       "      <td>2</td>\n",
       "      <td>2023-01-10</td>\n",
       "      <td>40.4165</td>\n",
       "      <td>-3.70256</td>\n",
       "      <td>Madrid</td>\n",
       "    </tr>\n",
       "  </tbody>\n",
       "</table>\n",
       "</div>"
      ],
      "text/plain": [
       "   timepoint  cloudcover  lifted_index prec_type  prec_amount  temp2m rh2m  \\\n",
       "0          3           1            15      none            0       8  40%   \n",
       "\n",
       "    weather wind10m.direction  wind10m.speed       fecha  latitud  longitud  \\\n",
       "0  clearday                NW              2  2023-01-10  40.4165  -3.70256   \n",
       "\n",
       "   ciudad  \n",
       "0  Madrid  "
      ]
     },
     "execution_count": 31,
     "metadata": {},
     "output_type": "execute_result"
    }
   ],
   "source": [
    "df_civil.head(1)"
   ]
  },
  {
   "cell_type": "code",
   "execution_count": 32,
   "id": "090dc22b",
   "metadata": {},
   "outputs": [
    {
     "data": {
      "text/html": [
       "<div>\n",
       "<style scoped>\n",
       "    .dataframe tbody tr th:only-of-type {\n",
       "        vertical-align: middle;\n",
       "    }\n",
       "\n",
       "    .dataframe tbody tr th {\n",
       "        vertical-align: top;\n",
       "    }\n",
       "\n",
       "    .dataframe thead th {\n",
       "        text-align: right;\n",
       "    }\n",
       "</style>\n",
       "<table border=\"1\" class=\"dataframe\">\n",
       "  <thead>\n",
       "    <tr style=\"text-align: right;\">\n",
       "      <th></th>\n",
       "      <th>seeing</th>\n",
       "      <th>transparency</th>\n",
       "      <th>timepoint</th>\n",
       "      <th>fecha</th>\n",
       "      <th>ciudad</th>\n",
       "    </tr>\n",
       "  </thead>\n",
       "  <tbody>\n",
       "    <tr>\n",
       "      <th>0</th>\n",
       "      <td>2</td>\n",
       "      <td>2</td>\n",
       "      <td>3</td>\n",
       "      <td>2023-01-10</td>\n",
       "      <td>Madrid</td>\n",
       "    </tr>\n",
       "  </tbody>\n",
       "</table>\n",
       "</div>"
      ],
      "text/plain": [
       "   seeing  transparency  timepoint       fecha  ciudad\n",
       "0       2             2          3  2023-01-10  Madrid"
      ]
     },
     "execution_count": 32,
     "metadata": {},
     "output_type": "execute_result"
    }
   ],
   "source": [
    "df_astro.head(1)"
   ]
  },
  {
   "cell_type": "code",
   "execution_count": 33,
   "id": "76572921",
   "metadata": {},
   "outputs": [
    {
     "data": {
      "text/html": [
       "<div>\n",
       "<style scoped>\n",
       "    .dataframe tbody tr th:only-of-type {\n",
       "        vertical-align: middle;\n",
       "    }\n",
       "\n",
       "    .dataframe tbody tr th {\n",
       "        vertical-align: top;\n",
       "    }\n",
       "\n",
       "    .dataframe thead th {\n",
       "        text-align: right;\n",
       "    }\n",
       "</style>\n",
       "<table border=\"1\" class=\"dataframe\">\n",
       "  <thead>\n",
       "    <tr style=\"text-align: right;\">\n",
       "      <th></th>\n",
       "      <th>timepoint</th>\n",
       "      <th>cloudcover</th>\n",
       "      <th>lifted_index</th>\n",
       "      <th>prec_type</th>\n",
       "      <th>prec_amount</th>\n",
       "      <th>temp2m</th>\n",
       "      <th>rh2m</th>\n",
       "      <th>weather</th>\n",
       "      <th>wind10m.direction</th>\n",
       "      <th>wind10m.speed</th>\n",
       "      <th>fecha</th>\n",
       "      <th>latitud</th>\n",
       "      <th>longitud</th>\n",
       "      <th>ciudad</th>\n",
       "      <th>seeing</th>\n",
       "      <th>transparency</th>\n",
       "    </tr>\n",
       "  </thead>\n",
       "  <tbody>\n",
       "    <tr>\n",
       "      <th>0</th>\n",
       "      <td>3</td>\n",
       "      <td>1</td>\n",
       "      <td>15</td>\n",
       "      <td>none</td>\n",
       "      <td>0</td>\n",
       "      <td>5</td>\n",
       "      <td>64</td>\n",
       "      <td>clearnight</td>\n",
       "      <td>NW</td>\n",
       "      <td>3</td>\n",
       "      <td>2023-01-10</td>\n",
       "      <td>40.4165</td>\n",
       "      <td>-3.70256</td>\n",
       "      <td>Madrid</td>\n",
       "      <td>5</td>\n",
       "      <td>2</td>\n",
       "    </tr>\n",
       "  </tbody>\n",
       "</table>\n",
       "</div>"
      ],
      "text/plain": [
       "   timepoint  cloudcover  lifted_index prec_type  prec_amount  temp2m  rh2m  \\\n",
       "0          3           1            15      none            0       5    64   \n",
       "\n",
       "      weather wind10m.direction  wind10m.speed       fecha  latitud  longitud  \\\n",
       "0  clearnight                NW              3  2023-01-10  40.4165  -3.70256   \n",
       "\n",
       "   ciudad  seeing  transparency  \n",
       "0  Madrid       5             2  "
      ]
     },
     "execution_count": 33,
     "metadata": {},
     "output_type": "execute_result"
    }
   ],
   "source": [
    "df.head(1)"
   ]
  },
  {
   "cell_type": "markdown",
   "id": "9eb3a490",
   "metadata": {},
   "source": [
    "### Juntamos los dataframes "
   ]
  },
  {
   "cell_type": "code",
   "execution_count": 34,
   "id": "028b9706",
   "metadata": {},
   "outputs": [
    {
     "name": "stdout",
     "output_type": "stream",
     "text": [
      "El df de hoy es  Index(['timepoint', 'cloudcover', 'lifted_index', 'prec_type', 'prec_amount',\n",
      "       'temp2m', 'rh2m', 'weather', 'wind10m.direction', 'wind10m.speed',\n",
      "       'fecha', 'latitud', 'longitud', 'ciudad', 'seeing', 'transparency'],\n",
      "      dtype='object')\n",
      "-----------------------------------------\n",
      "El df de completo es  Index(['timepoint', 'cloudcover', 'lifted_index', 'prec_type', 'prec_amount',\n",
      "       'temp2m', 'rh2m', 'weather', 'wind10m.direction', 'wind10m.speed',\n",
      "       'fecha', 'latitud', 'longitud', 'ciudad', 'seeing', 'transparency'],\n",
      "      dtype='object')\n"
     ]
    },
    {
     "data": {
      "text/html": [
       "<div>\n",
       "<style scoped>\n",
       "    .dataframe tbody tr th:only-of-type {\n",
       "        vertical-align: middle;\n",
       "    }\n",
       "\n",
       "    .dataframe tbody tr th {\n",
       "        vertical-align: top;\n",
       "    }\n",
       "\n",
       "    .dataframe thead th {\n",
       "        text-align: right;\n",
       "    }\n",
       "</style>\n",
       "<table border=\"1\" class=\"dataframe\">\n",
       "  <thead>\n",
       "    <tr style=\"text-align: right;\">\n",
       "      <th></th>\n",
       "      <th>timepoint</th>\n",
       "      <th>cloudcover</th>\n",
       "      <th>lifted_index</th>\n",
       "      <th>prec_type</th>\n",
       "      <th>prec_amount</th>\n",
       "      <th>temp2m</th>\n",
       "      <th>rh2m</th>\n",
       "      <th>weather</th>\n",
       "      <th>wind10m.direction</th>\n",
       "      <th>wind10m.speed</th>\n",
       "      <th>fecha</th>\n",
       "      <th>latitud</th>\n",
       "      <th>longitud</th>\n",
       "      <th>ciudad</th>\n",
       "      <th>seeing</th>\n",
       "      <th>transparency</th>\n",
       "    </tr>\n",
       "  </thead>\n",
       "  <tbody>\n",
       "    <tr>\n",
       "      <th>0</th>\n",
       "      <td>3</td>\n",
       "      <td>1</td>\n",
       "      <td>15</td>\n",
       "      <td>none</td>\n",
       "      <td>0</td>\n",
       "      <td>5</td>\n",
       "      <td>64</td>\n",
       "      <td>clearnight</td>\n",
       "      <td>NW</td>\n",
       "      <td>3</td>\n",
       "      <td>2023-01-10</td>\n",
       "      <td>40.4165</td>\n",
       "      <td>-3.70256</td>\n",
       "      <td>Madrid</td>\n",
       "      <td>5</td>\n",
       "      <td>2</td>\n",
       "    </tr>\n",
       "    <tr>\n",
       "      <th>1</th>\n",
       "      <td>6</td>\n",
       "      <td>2</td>\n",
       "      <td>15</td>\n",
       "      <td>none</td>\n",
       "      <td>0</td>\n",
       "      <td>6</td>\n",
       "      <td>55</td>\n",
       "      <td>clearnight</td>\n",
       "      <td>NW</td>\n",
       "      <td>3</td>\n",
       "      <td>2023-01-10</td>\n",
       "      <td>40.4165</td>\n",
       "      <td>-3.70256</td>\n",
       "      <td>Madrid</td>\n",
       "      <td>5</td>\n",
       "      <td>2</td>\n",
       "    </tr>\n",
       "  </tbody>\n",
       "</table>\n",
       "</div>"
      ],
      "text/plain": [
       "   timepoint  cloudcover  lifted_index prec_type  prec_amount  temp2m rh2m  \\\n",
       "0          3           1            15      none            0       5   64   \n",
       "1          6           2            15      none            0       6   55   \n",
       "\n",
       "      weather wind10m.direction  wind10m.speed       fecha  latitud  longitud  \\\n",
       "0  clearnight                NW              3  2023-01-10  40.4165  -3.70256   \n",
       "1  clearnight                NW              3  2023-01-10  40.4165  -3.70256   \n",
       "\n",
       "   ciudad  seeing  transparency  \n",
       "0  Madrid       5             2  \n",
       "1  Madrid       5             2  "
      ]
     },
     "execution_count": 34,
     "metadata": {},
     "output_type": "execute_result"
    }
   ],
   "source": [
    "df_completo = api.juntar_dfs(df, df_civil, df_astro)\n",
    "df_completo.head(2)"
   ]
  },
  {
   "cell_type": "code",
   "execution_count": 35,
   "id": "8d30fa04",
   "metadata": {},
   "outputs": [
    {
     "data": {
      "text/plain": [
       "timepoint            0\n",
       "cloudcover           0\n",
       "lifted_index         0\n",
       "prec_type            0\n",
       "prec_amount          0\n",
       "temp2m               0\n",
       "rh2m                 0\n",
       "weather              0\n",
       "wind10m.direction    0\n",
       "wind10m.speed        0\n",
       "fecha                0\n",
       "latitud              0\n",
       "longitud             0\n",
       "ciudad               0\n",
       "seeing               0\n",
       "transparency         0\n",
       "dtype: int64"
      ]
     },
     "execution_count": 35,
     "metadata": {},
     "output_type": "execute_result"
    }
   ],
   "source": [
    "df_completo.isnull().sum()"
   ]
  },
  {
   "cell_type": "markdown",
   "id": "c29126fc",
   "metadata": {},
   "source": [
    "### Chequeamos como están los datos de \"limpios\""
   ]
  },
  {
   "cell_type": "code",
   "execution_count": 36,
   "id": "506b3653",
   "metadata": {
    "scrolled": false
   },
   "outputs": [
    {
     "name": "stdout",
     "output_type": "stream",
     "text": [
      "Las columnas son: \n",
      "\n",
      "['timepoint', 'cloudcover', 'lifted_index', 'prec_type', 'prec_amount', 'temp2m', 'rh2m', 'weather', 'wind10m.direction', 'wind10m.speed', 'fecha', 'latitud', 'longitud', 'ciudad', 'seeing', 'transparency']\n",
      "-----------------------------------------\n",
      "Los tipos de datos que tenemos son: \n",
      "\n",
      "timepoint              int64\n",
      "cloudcover             int64\n",
      "lifted_index           int64\n",
      "prec_type             object\n",
      "prec_amount            int64\n",
      "temp2m                 int64\n",
      "rh2m                  object\n",
      "weather               object\n",
      "wind10m.direction     object\n",
      "wind10m.speed          int64\n",
      "fecha                 object\n",
      "latitud              float64\n",
      "longitud             float64\n",
      "ciudad                object\n",
      "seeing                 int64\n",
      "transparency           int64\n",
      "dtype: object\n",
      "-----------------------------------------\n",
      "El porcentaje de nulos: \n",
      "\n",
      "timepoint            0.0\n",
      "cloudcover           0.0\n",
      "lifted_index         0.0\n",
      "prec_type            0.0\n",
      "prec_amount          0.0\n",
      "temp2m               0.0\n",
      "rh2m                 0.0\n",
      "weather              0.0\n",
      "wind10m.direction    0.0\n",
      "wind10m.speed        0.0\n",
      "fecha                0.0\n",
      "latitud              0.0\n",
      "longitud             0.0\n",
      "ciudad               0.0\n",
      "seeing               0.0\n",
      "transparency         0.0\n",
      "dtype: float64\n"
     ]
    }
   ],
   "source": [
    "api.chequear_datos(df_completo)"
   ]
  },
  {
   "cell_type": "code",
   "execution_count": 37,
   "id": "46219ea6",
   "metadata": {},
   "outputs": [
    {
     "name": "stderr",
     "output_type": "stream",
     "text": [
      "/tmp/ipykernel_785/3350619388.py:113: FutureWarning: DataFrame.mean and DataFrame.median with numeric_only=None will include datetime64 and datetime64tz columns in a future version.\n",
      "  df[lista_columnas]=df[lista_columnas].fillna(df.mean())\n",
      "/tmp/ipykernel_785/3350619388.py:113: FutureWarning: The default value of numeric_only in DataFrame.mean is deprecated. In a future version, it will default to False. In addition, specifying 'numeric_only=None' is deprecated. Select only valid columns or specify the value of numeric_only to silence this warning.\n",
      "  df[lista_columnas]=df[lista_columnas].fillna(df.mean())\n"
     ]
    },
    {
     "data": {
      "text/html": [
       "<div>\n",
       "<style scoped>\n",
       "    .dataframe tbody tr th:only-of-type {\n",
       "        vertical-align: middle;\n",
       "    }\n",
       "\n",
       "    .dataframe tbody tr th {\n",
       "        vertical-align: top;\n",
       "    }\n",
       "\n",
       "    .dataframe thead th {\n",
       "        text-align: right;\n",
       "    }\n",
       "</style>\n",
       "<table border=\"1\" class=\"dataframe\">\n",
       "  <thead>\n",
       "    <tr style=\"text-align: right;\">\n",
       "      <th></th>\n",
       "      <th>timepoint</th>\n",
       "      <th>cloudcover</th>\n",
       "      <th>lifted_index</th>\n",
       "      <th>prec_type</th>\n",
       "      <th>prec_amount</th>\n",
       "      <th>temp2m</th>\n",
       "      <th>rh2m</th>\n",
       "      <th>weather</th>\n",
       "      <th>wind10m.direction</th>\n",
       "      <th>wind10m.speed</th>\n",
       "      <th>fecha</th>\n",
       "      <th>latitud</th>\n",
       "      <th>longitud</th>\n",
       "      <th>ciudad</th>\n",
       "      <th>seeing</th>\n",
       "      <th>transparency</th>\n",
       "    </tr>\n",
       "  </thead>\n",
       "  <tbody>\n",
       "    <tr>\n",
       "      <th>0</th>\n",
       "      <td>3</td>\n",
       "      <td>1</td>\n",
       "      <td>15</td>\n",
       "      <td>none</td>\n",
       "      <td>0</td>\n",
       "      <td>5</td>\n",
       "      <td>64</td>\n",
       "      <td>clearnight</td>\n",
       "      <td>NW</td>\n",
       "      <td>3</td>\n",
       "      <td>2023-01-10</td>\n",
       "      <td>40.4165</td>\n",
       "      <td>-3.70256</td>\n",
       "      <td>Madrid</td>\n",
       "      <td>5</td>\n",
       "      <td>2</td>\n",
       "    </tr>\n",
       "    <tr>\n",
       "      <th>1</th>\n",
       "      <td>6</td>\n",
       "      <td>2</td>\n",
       "      <td>15</td>\n",
       "      <td>none</td>\n",
       "      <td>0</td>\n",
       "      <td>6</td>\n",
       "      <td>55</td>\n",
       "      <td>clearnight</td>\n",
       "      <td>NW</td>\n",
       "      <td>3</td>\n",
       "      <td>2023-01-10</td>\n",
       "      <td>40.4165</td>\n",
       "      <td>-3.70256</td>\n",
       "      <td>Madrid</td>\n",
       "      <td>5</td>\n",
       "      <td>2</td>\n",
       "    </tr>\n",
       "  </tbody>\n",
       "</table>\n",
       "</div>"
      ],
      "text/plain": [
       "   timepoint  cloudcover  lifted_index prec_type  prec_amount  temp2m rh2m  \\\n",
       "0          3           1            15      none            0       5   64   \n",
       "1          6           2            15      none            0       6   55   \n",
       "\n",
       "      weather wind10m.direction  wind10m.speed      fecha  latitud  longitud  \\\n",
       "0  clearnight                NW              3 2023-01-10  40.4165  -3.70256   \n",
       "1  clearnight                NW              3 2023-01-10  40.4165  -3.70256   \n",
       "\n",
       "   ciudad  seeing  transparency  \n",
       "0  Madrid       5             2  \n",
       "1  Madrid       5             2  "
      ]
     },
     "execution_count": 37,
     "metadata": {},
     "output_type": "execute_result"
    }
   ],
   "source": [
    "df_final = api.limpiar_dataframe(df_completo)\n",
    "df_final.head(2)"
   ]
  },
  {
   "cell_type": "markdown",
   "id": "6cea5efa",
   "metadata": {},
   "source": [
    "Y listo!! Si cada día ejecutaramos este código tendríamos actualizado al día la información meteorológica para la ciudad de Madrid 💪🏽"
   ]
  }
 ],
 "metadata": {
  "kernelspec": {
   "display_name": "base",
   "language": "python",
   "name": "python3"
  },
  "language_info": {
   "codemirror_mode": {
    "name": "ipython",
    "version": 3
   },
   "file_extension": ".py",
   "mimetype": "text/x-python",
   "name": "python",
   "nbconvert_exporter": "python",
   "pygments_lexer": "ipython3",
   "version": "3.9.13"
  },
  "toc": {
   "base_numbering": 1,
   "nav_menu": {},
   "number_sections": true,
   "sideBar": true,
   "skip_h1_title": false,
   "title_cell": "Table of Contents",
   "title_sidebar": "Contents",
   "toc_cell": true,
   "toc_position": {},
   "toc_section_display": true,
   "toc_window_display": true
  },
  "vscode": {
   "interpreter": {
    "hash": "85c042135e83639dad74b6ec6c9d943b5dc47ca281624d931a3e14168052f53c"
   }
  }
 },
 "nbformat": 4,
 "nbformat_minor": 5
}

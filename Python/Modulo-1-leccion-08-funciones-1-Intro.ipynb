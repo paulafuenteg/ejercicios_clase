{
 "cells": [
  {
   "cell_type": "markdown",
   "metadata": {
    "toc": true
   },
   "source": [
    "<h1>Table of Contents<span class=\"tocSkip\"></span></h1>\n",
    "<div class=\"toc\"><ul class=\"toc-item\"><li><span><a href=\"#¿Qué-son-las-funciones?\" data-toc-modified-id=\"¿Qué-son-las-funciones?-1\"><span class=\"toc-item-num\">1&nbsp;&nbsp;</span>¿Qué son las funciones?</a></span></li><li><span><a href=\"#Motivación-de-las-funciones\" data-toc-modified-id=\"Motivación-de-las-funciones-2\"><span class=\"toc-item-num\">2&nbsp;&nbsp;</span>Motivación de las funciones</a></span></li><li><span><a href=\"#Sintaxis-básica\" data-toc-modified-id=\"Sintaxis-básica-3\"><span class=\"toc-item-num\">3&nbsp;&nbsp;</span>Sintaxis básica</a></span></li><li><span><a href=\"#Algunos-conceptos-útiles-que-nos-ayudaran-a-lo-largo-de-la-lección\" data-toc-modified-id=\"Algunos-conceptos-útiles-que-nos-ayudaran-a-lo-largo-de-la-lección-4\"><span class=\"toc-item-num\">4&nbsp;&nbsp;</span>Algunos conceptos útiles que nos ayudaran a lo largo de la lección</a></span><ul class=\"toc-item\"><li><span><a href=\"#Argumentos-vs-parámetros\" data-toc-modified-id=\"Argumentos-vs-parámetros-4.1\"><span class=\"toc-item-num\">4.1&nbsp;&nbsp;</span>Argumentos <em>vs</em> parámetros</a></span></li><li><span><a href=\"#Variables-locales-vs-globales\" data-toc-modified-id=\"Variables-locales-vs-globales-4.2\"><span class=\"toc-item-num\">4.2&nbsp;&nbsp;</span>Variables locales <em>vs</em> globales</a></span><ul class=\"toc-item\"><li><span><a href=\"#Variables-locales\" data-toc-modified-id=\"Variables-locales-4.2.1\"><span class=\"toc-item-num\">4.2.1&nbsp;&nbsp;</span>Variables locales</a></span></li></ul></li><li><span><a href=\"#Variables-globales\" data-toc-modified-id=\"Variables-globales-4.3\"><span class=\"toc-item-num\">4.3&nbsp;&nbsp;</span>Variables globales</a></span></li></ul></li><li><span><a href=\"#Funciones-sin-parámetros\" data-toc-modified-id=\"Funciones-sin-parámetros-5\"><span class=\"toc-item-num\">5&nbsp;&nbsp;</span>Funciones sin parámetros</a></span></li><li><span><a href=\"#Funciones-con-parámetros\" data-toc-modified-id=\"Funciones-con-parámetros-6\"><span class=\"toc-item-num\">6&nbsp;&nbsp;</span>Funciones con parámetros</a></span><ul class=\"toc-item\"><li><span><a href=\"#Ejercicios-funciones-y-argumentos\" data-toc-modified-id=\"Ejercicios-funciones-y-argumentos-6.1\"><span class=\"toc-item-num\">6.1&nbsp;&nbsp;</span>Ejercicios funciones y argumentos</a></span></li></ul></li><li><span><a href=\"#Lambdas\" data-toc-modified-id=\"Lambdas-7\"><span class=\"toc-item-num\">7&nbsp;&nbsp;</span>Lambdas</a></span></li></ul></div>"
   ]
  },
  {
   "cell_type": "markdown",
   "metadata": {},
   "source": [
    "# ¿Qué son las funciones? \n",
    "Una función es un bloque de código que nos puede servir en más que una ocasión. En Python tenemos algunas funciones que ya vienen definidas por defecto, las podéis ver  [aquí](https://docs.python.org/3/library/functions.html), pero también las podemos definir nosotras. \n",
    "\n",
    "Realmente ya sabes usar funciones una vez que estén definidas, pero repasamos algunas propiedades. El código dentro de una función sólo se ejecuta al *llamarla*. Puedes ir definiendo funciones sin repercusión ninguna hasta que la llames, y ahí te darás cuenta si lo que has programado cumple con tus intenciones. Una función siempre tiene paréntesis. El resultado de una función puede ser una variable nueva, el haber cambiado una variable, o cualquier otra cosa como abrir un archivo u mandar un correo o lo que sea."
   ]
  },
  {
   "cell_type": "markdown",
   "metadata": {},
   "source": [
    "# Motivación de las funciones\n",
    "\n",
    "- `Reutilización`: supongamos que escribimos un código que es muy útil para nuestro objetivo, y según avanzamos en nuestro trabajo vemos que lo vamos a necesitar en varias ocasiones. En este caso podemos copiar y pegar una y otra vez el código, pero esto puede resultar algo tedioso si lo tenemos que hacer muchas veces.\n",
    "\n",
    "    Imaginemos ahora que hemos encontrado un error en nuestro código, tendríamos que ir uno a uno cambiándolo, lo que podría llevar a que se nos olvidará en alguna de las copias o nos equivoquemos.\n",
    "\n",
    "    La solución para esto, crear una función que realice la tarea que queremos repetir.\n",
    "\n",
    "- `Modularidad`: las funciones permiten dividir procesos en pasos más pequeños.\n",
    "\n",
    "    Imaginemos que tenemos un código que lee un archivo, procesa el contenido y escribe un archivo de salida. Nosotros nos podremos crear tres funciones, una para cada tarea que sea universal para este archivo pero también para cualquier otro."
   ]
  },
  {
   "cell_type": "markdown",
   "metadata": {},
   "source": [
    "# Sintaxis básica\n",
    "\n",
    "Las funciones van a estar compuestas por algunos componentes principales, estos son: \n",
    "\n",
    "- Estamento `def`: es la palabra clave que tendremos que usar para empezar a definir una función, es obligatorio.\n",
    "\n",
    "- El `nombre de la función`: podremos llamar a las funciones como nosotras queramos. Como recomendación, usad nombres que sean intuitivos y autodescriptivos. Leyendolos tenemos que saber que hace la función. Es obligatorio.\n",
    "\n",
    "- Los `parámetros`: son los parámetros que recibiran las funciones, siempre tienen que ir entre paréntesis. Es opcional, aunque los paréntesis siempre tienen que estar, es decir, siempre habrá paréntesis pero estos pueden ir vacíos. \n",
    "\n",
    "- Estamento `return`: indica que \"se ha terminado\" de procesar el código de la función. Es opcional. Ya aprenderemos que pasa si no ponemos un `return` en nuestras funciones. \n",
    "\n",
    "\n",
    "![funcion](https://github.com/Adalab/data_imagenes/blob/main/Modulo-1/python/funciones.png?raw=true)"
   ]
  },
  {
   "cell_type": "markdown",
   "metadata": {},
   "source": [
    "# Algunos conceptos útiles que nos ayudaran a lo largo de la lección"
   ]
  },
  {
   "cell_type": "markdown",
   "metadata": {},
   "source": [
    "## Argumentos *vs* parámetros\n",
    "\n",
    "En la definición de una función, los valores que reciben se denominan **parámetros**, pero durante la llamada los valores que se envían se denominan **argumentos**. Veamos esto con un ejemplo para que nos quede más claro: \n",
    "\n",
    "```python\n",
    "def resta(a, b):\n",
    "    return a - b\n",
    "resta(30, 10)  # argumento 30 => parámetro a\n",
    "               # argumento 10 => parámetro b\n",
    "```"
   ]
  },
  {
   "cell_type": "markdown",
   "metadata": {},
   "source": [
    "## Variables locales *vs* globales\n",
    "\n",
    "Las **variables globales** son aquellas que **no** están definidas dentro de ninguna función y tienen un alcance global, mientras que las **variables locales** son aquellas que están definidas dentro de una función y su alcance está limitado sólo a esa función.\n",
    "\n",
    "> En otras palabras, podemos decir que las variables locales son accesibles sólo dentro de la función en la que se inicializó mientras que las variables globales son accesibles en todo el programa y dentro de cada función."
   ]
  },
  {
   "cell_type": "markdown",
   "metadata": {},
   "source": [
    "### Variables locales\n",
    "\n",
    "Las variables locales son aquellas que se inicializan dentro de una función y pertenecen sólo a esa función en particular. No se puede acceder a ellas fuera de la función.\n",
    "\n"
   ]
  },
  {
   "cell_type": "code",
   "execution_count": 1,
   "metadata": {},
   "outputs": [],
   "source": [
    "# creemos una función. No es necesario que entendáis todavía el código, solo el concepto de variable local\n",
    "def mi_funcion():\n",
    "    \n",
    "    #variable local\n",
    "    verdad = \"Me gusta Python\"\n",
    "    return verdad"
   ]
  },
  {
   "cell_type": "code",
   "execution_count": 2,
   "metadata": {},
   "outputs": [
    {
     "ename": "NameError",
     "evalue": "name 'verdad' is not defined",
     "output_type": "error",
     "traceback": [
      "\u001b[0;31m---------------------------------------------------------------------------\u001b[0m",
      "\u001b[0;31mNameError\u001b[0m                                 Traceback (most recent call last)",
      "\u001b[0;32m<ipython-input-2-3657f4ca08fb>\u001b[0m in \u001b[0;36m<module>\u001b[0;34m\u001b[0m\n\u001b[1;32m      1\u001b[0m \u001b[0;31m# verdad esta definida dentro de la función fuera de ella para Python no existe\u001b[0m\u001b[0;34m\u001b[0m\u001b[0;34m\u001b[0m\u001b[0;34m\u001b[0m\u001b[0m\n\u001b[0;32m----> 2\u001b[0;31m \u001b[0mverdad\u001b[0m\u001b[0;34m\u001b[0m\u001b[0;34m\u001b[0m\u001b[0m\n\u001b[0m",
      "\u001b[0;31mNameError\u001b[0m: name 'verdad' is not defined"
     ]
    }
   ],
   "source": [
    "# verdad esta definida dentro de la función fuera de ella para Python no existe\n",
    "verdad"
   ]
  },
  {
   "cell_type": "markdown",
   "metadata": {},
   "source": [
    "Nos devuelve un error, ya que la variable solo \"existe\" dentro de la función. "
   ]
  },
  {
   "cell_type": "markdown",
   "metadata": {},
   "source": [
    "## Variables globales\n",
    "\n",
    "Las variables globales son aquellas que se definen fuera de cualquier función y que son accesibles en todo el programa, es decir, dentro y fuera de cada función.\n"
   ]
  },
  {
   "cell_type": "code",
   "execution_count": 3,
   "metadata": {},
   "outputs": [],
   "source": [
    "# imaginemos ahora que definimos una variable que llamaremos \"la_verdad\" fuera de una función\n",
    "\n",
    "la_verdad = 'Python es el mejor lenguaje de programación'"
   ]
  },
  {
   "cell_type": "code",
   "execution_count": 4,
   "metadata": {},
   "outputs": [],
   "source": [
    "# después definimos una función que va a usar la variable definida previamente\n",
    "\n",
    "def mi_funcion2():\n",
    "    print(f' Dentro de la funcion:  {la_verdad}')\n"
   ]
  },
  {
   "cell_type": "code",
   "execution_count": 5,
   "metadata": {},
   "outputs": [
    {
     "name": "stdout",
     "output_type": "stream",
     "text": [
      " Dentro de la funcion:  Python es el mejor lenguaje de programación\n"
     ]
    }
   ],
   "source": [
    "# si llamamomos a nuestra función\n",
    "\n",
    "\n",
    "mi_funcion2()"
   ]
  },
  {
   "cell_type": "code",
   "execution_count": 6,
   "metadata": {},
   "outputs": [
    {
     "name": "stdout",
     "output_type": "stream",
     "text": [
      "Fuera de la función: Python es el mejor lenguaje de programación\n"
     ]
    }
   ],
   "source": [
    "# que pasaría si ahora llamo a la variable de la misma forma que hicimos en el ejemplo anterior, que recordemos, nos daba error. \n",
    "\n",
    "print(f'Fuera de la función: {la_verdad}')\n"
   ]
  },
  {
   "cell_type": "markdown",
   "metadata": {},
   "source": [
    "Ahora no nos da error!!! Esto es debido a que es una variable global, y la podremos usar en cualquier momento en nuestro código, independientemente de que esté dentro o fuera de una función. "
   ]
  },
  {
   "cell_type": "markdown",
   "metadata": {},
   "source": [
    "# Funciones sin parámetros\n",
    "\n",
    "Son aquellas funciones que no van a recibir ningún parámetro, es decir, no pondremos nada entre los paréntesis.  Como hemos visto, en Python, la definición de funciones se realiza mediante la instrucción `def` más un nombre de función descriptivo -para el cuál, aplican las mismas reglas que para el nombre de las variables- seguido de paréntesis de apertura y cierre. Como toda estructura de control en Python, la definición de la función finaliza con dos puntos (:) y el algoritmo (o el código) que la compone, irá identado con 4 espacios\n",
    "\n",
    "Una función, no es ejecutada hasta que no sea invocada. Para invocar una función, simplemente se la llama por su nombre. Veamos un ejemplo: \n"
   ]
  },
  {
   "cell_type": "code",
   "execution_count": 7,
   "metadata": {},
   "outputs": [],
   "source": [
    "# inicio la definición de mi función\n",
    "def mi_funcion():\n",
    "\n",
    "    # dentro de la función e indentado, irá el código que queremos que se ejecute cuando llamememos/invoquemos a la función. En este caso, será un saludo. \n",
    "    print(\"Hola Adalabers\")"
   ]
  },
  {
   "cell_type": "markdown",
   "metadata": {},
   "source": [
    "Vale... hemos ejecutado la celda, pero no ha pasado absolutamente nada. Para que ocurra la magia deberemos llamar/invocar a la función. ¿Cómo lo haremos? Simplemente escribiendo su nombre! "
   ]
  },
  {
   "cell_type": "code",
   "execution_count": 8,
   "metadata": {},
   "outputs": [
    {
     "name": "stdout",
     "output_type": "stream",
     "text": [
      "Hola Adalabers\n"
     ]
    }
   ],
   "source": [
    "mi_funcion()"
   ]
  },
  {
   "cell_type": "markdown",
   "metadata": {},
   "source": [
    "Y voilá! Ya hemos creado nuestra primera función 💪🏽. \n",
    "\n",
    "Ahora nos puede surgir la siguiente duda 🤔. ¿Podríamos almacenar ese saludo que nos devuelve la función `mi_funcion` en una variable? Y la respuesta es que SI!!"
   ]
  },
  {
   "cell_type": "code",
   "execution_count": 9,
   "metadata": {},
   "outputs": [
    {
     "name": "stdout",
     "output_type": "stream",
     "text": [
      "Hola Adalabers\n"
     ]
    }
   ],
   "source": [
    "# para almacenar el resultado en una variable lo único que tendremos que hacer será igualar la función a una variable. De la misma forma que lo hacemos cuando definimos una lista, un diccionario, etc. \n",
    "\n",
    "saludo =  mi_funcion()"
   ]
  },
  {
   "cell_type": "markdown",
   "metadata": {},
   "source": [
    "Vemos que en pantalla nos ha salido el saludo, pero.. ¿Qué contienen la variable saludo? Veámoslo!"
   ]
  },
  {
   "cell_type": "code",
   "execution_count": 10,
   "metadata": {},
   "outputs": [],
   "source": [
    "saludo"
   ]
  },
  {
   "cell_type": "markdown",
   "metadata": {},
   "source": [
    "Ups... parece que no ha pasado nada. ¿Esto por qué es? Por que nuestra función no tiene `return`. **Y es que una función sin return no nos devuelve nada, en concreto nos devuelve un `None`**"
   ]
  },
  {
   "cell_type": "code",
   "execution_count": 11,
   "metadata": {},
   "outputs": [
    {
     "data": {
      "text/plain": [
       "NoneType"
      ]
     },
     "execution_count": 11,
     "metadata": {},
     "output_type": "execute_result"
    }
   ],
   "source": [
    "# veamos el tipo de saludo\n",
    "\n",
    "type(saludo)"
   ]
  },
  {
   "cell_type": "markdown",
   "metadata": {},
   "source": [
    "Entonces... ¿Por qué nos apareció en pantalla \"Hola Adalabers\"? Esto ocurre por que lo que nos está apareciendo en pantalla es el *print* que hemos puesto dentro de la función. De esta forma, la diferencia entre `print()` y `return` es que `print()` sirve para mostrar un mensaje en la pantalla, mientras que `return` se utiliza para establecer el resultado (o valor de retorno) de la función. Así, `return` es una operación mucho más genérica que `print()`, aunque solo puede usarse dentro de las funciones: no puede haber un *return* en cualquier otro lugar del código que no sea el interior de una función. \n",
    "\n",
    "Por lo tanto, tenemos que incluir un `return` en nuestra función para ser capaces de \"guardar\" el resultado de la función. "
   ]
  },
  {
   "cell_type": "code",
   "execution_count": 12,
   "metadata": {},
   "outputs": [],
   "source": [
    "# modifiquemos un poco la función incluyendo el return \n",
    "def mi_funcion():\n",
    "    return \"Hola Adalabers\""
   ]
  },
  {
   "cell_type": "code",
   "execution_count": 13,
   "metadata": {},
   "outputs": [],
   "source": [
    "saludo = mi_funcion()"
   ]
  },
  {
   "cell_type": "code",
   "execution_count": 14,
   "metadata": {},
   "outputs": [
    {
     "data": {
      "text/plain": [
       "'Hola Adalabers'"
      ]
     },
     "execution_count": 14,
     "metadata": {},
     "output_type": "execute_result"
    }
   ],
   "source": [
    "saludo"
   ]
  },
  {
   "cell_type": "markdown",
   "metadata": {},
   "source": [
    "Perfecto!!! Después de hacer los cambios correspondientes, ya hemos sido capaces de almacenar los resultados en una variable. Esto nos puede resultar poco interesante, pero imaginemos que tenemos una función que nos devuelve solo los números pares de una lista. "
   ]
  },
  {
   "cell_type": "code",
   "execution_count": 15,
   "metadata": {},
   "outputs": [],
   "source": [
    "# definimos la función con la palabra clave \"def\" y el nombre de la función seguido de los paréntesis \n",
    "def es_par():\n",
    "\n",
    "    # definimos una lista de números\n",
    "    numeros = [1,2,3,4,5,6,7,8,9]\n",
    "\n",
    "    # definimos una lista vacía donde iremos almancenado los resultados que  nos interesan.\n",
    "    pares = []\n",
    "\n",
    "    # iteramos por la lista de números\n",
    "    for num in numeros: \n",
    "\n",
    "        # establecemos la condición para seleccionar solo los números pares\n",
    "        if num % 2 == 0:\n",
    "\n",
    "            # en caso de que se cumpla la condición, añadimos el número a la lista vacía\n",
    "            pares.append(num) \n",
    "        \n",
    "        # en caso de que no se cumpla la condición\n",
    "        else:\n",
    "            # no queremos que pase nada, usamos la palabra clave pass que aprendimos en lecciones anteriores\n",
    "            pass\n",
    "\n",
    "    # cuando termine de iterar por toda la lista, queremos que la función nos devuelva la lista con los números pares. \n",
    "    return pares\n"
   ]
  },
  {
   "cell_type": "code",
   "execution_count": 16,
   "metadata": {},
   "outputs": [
    {
     "data": {
      "text/plain": [
       "[2, 4, 6, 8]"
      ]
     },
     "execution_count": 16,
     "metadata": {},
     "output_type": "execute_result"
    }
   ],
   "source": [
    "# llamamos a la función y almacenamos los resultados en una variable que se llame \"pares\". \n",
    "pares = es_par()\n",
    "pares"
   ]
  },
  {
   "cell_type": "markdown",
   "metadata": {},
   "source": [
    "📌 **NOTA** Es importante tener en cuenta que en las funciones, en el momento en el que se encuentre un `return` se parará el código. Veamos que pasa si lo ponemos dentro del for: "
   ]
  },
  {
   "cell_type": "code",
   "execution_count": 17,
   "metadata": {},
   "outputs": [],
   "source": [
    "# definimos la función es_par pero con algunos cambios\n",
    "def es_par2():\n",
    "\n",
    "    numeros = [1,2,3,4,5,6,7,8,9]\n",
    "\n",
    "    pares = []\n",
    "\n",
    "    for num in numeros: \n",
    "\n",
    "        if num % 2 == 0:\n",
    "\n",
    "            pares.append(num) \n",
    "\n",
    "            # si ponemos el return dentro del if\n",
    "            return pares\n",
    "        \n",
    "        else:\n",
    "            pass\n",
    "\n",
    "    "
   ]
  },
  {
   "cell_type": "code",
   "execution_count": 18,
   "metadata": {},
   "outputs": [
    {
     "data": {
      "text/plain": [
       "[2]"
      ]
     },
     "execution_count": 18,
     "metadata": {},
     "output_type": "execute_result"
    }
   ],
   "source": [
    "pares2 = es_par2()\n",
    "pares2"
   ]
  },
  {
   "cell_type": "markdown",
   "metadata": {},
   "source": [
    "Ups... Solo nos devolvió un número. Esto ocurrió porque pusimos el `return` dentro del `if`. Y es que, en el momento en el que se cumplió la condición, el número se apendeó a la lista, y luego se ejecutó el `return`, parándose todo el código de nuestra función. \n",
    "\n",
    "Por lo tanto, cosas importantes que hemos aprendido hasta ahora: \n",
    "\n",
    "- Una función **sin return** nos devuelve None\n",
    "\n",
    "- Para definir una función necesitaremos usar el estamento `def` seguido del nombre que queramos\n",
    "\n",
    "- En una función, una vez que se encuentra con un `return` se parará todo el código. \n",
    "\n",
    "- `print()` sirve para mostrar un mensaje en la pantalla, mientras que `return` se utiliza para establecer el resultado (o valor de retorno) de la función"
   ]
  },
  {
   "cell_type": "markdown",
   "metadata": {},
   "source": [
    "# Funciones con parámetros\n",
    "\n",
    "Un **parámetro** es un valor que la función espera recibir cuando sea llamada, a fin de ejecutar acciones en base al mismo. Una función puede esperar uno o más parámetros (que irán separados por una coma) o ninguno (como ya vimos en los ejemplos anteriores). \n",
    "\n",
    "Imaginemos que queremos calcular la tabla de multiplicar de un número dado:"
   ]
  },
  {
   "cell_type": "code",
   "execution_count": 19,
   "metadata": {},
   "outputs": [
    {
     "name": "stdout",
     "output_type": "stream",
     "text": [
      "2 x 1 =  2\n",
      "2 x 2 =  4\n",
      "2 x 3 =  6\n",
      "2 x 4 =  8\n",
      "2 x 5 =  10\n",
      "2 x 6 =  12\n",
      "2 x 7 =  14\n",
      "2 x 8 =  16\n",
      "2 x 9 =  18\n"
     ]
    }
   ],
   "source": [
    "# escribimos la tabla de multiplicar del 2\n",
    "\n",
    "print(2, 'x 1 = ', 2 * 1)\n",
    "print(2, 'x 2 = ', 2 * 2)\n",
    "print(2, 'x 3 = ', 2 * 3)\n",
    "print(2, 'x 4 = ', 2 * 4)\n",
    "print(2, 'x 5 = ', 2 * 5)\n",
    "print(2, 'x 6 = ', 2 * 6)\n",
    "print(2, 'x 7 = ', 2 * 7)\n",
    "print(2, 'x 8 = ', 2 * 8)\n",
    "print(2, 'x 9 = ', 2 * 9)"
   ]
  },
  {
   "cell_type": "markdown",
   "metadata": {},
   "source": [
    "Esto podríamos mejorarlo si en vez de pasarle un número a mano, lo pasamos como variable"
   ]
  },
  {
   "cell_type": "code",
   "execution_count": 20,
   "metadata": {},
   "outputs": [
    {
     "name": "stdout",
     "output_type": "stream",
     "text": [
      "2 x 1 =  2\n",
      "2 x 2 =  4\n",
      "2 x 3 =  6\n",
      "2 x 4 =  8\n",
      "2 x 5 =  10\n",
      "2 x 6 =  12\n",
      "2 x 7 =  14\n",
      "2 x 8 =  16\n",
      "2 x 9 =  18\n"
     ]
    }
   ],
   "source": [
    "# definimos una variable la cual tendrá un valor numérico que corresponderá con el número de tabla que queremos calcular\n",
    "\n",
    "num = 2\n",
    "\n",
    "print(num, 'x 1 = ', num * 1)\n",
    "print(num, 'x 2 = ', num * 2)\n",
    "print(num, 'x 3 = ', num * 3)\n",
    "print(num, 'x 4 = ', num * 4)\n",
    "print(num, 'x 5 = ', num * 5)\n",
    "print(num, 'x 6 = ', num * 6)\n",
    "print(num, 'x 7 = ', num * 7)\n",
    "print(num, 'x 8 = ', num * 8)\n",
    "print(num, 'x 9 = ', num * 9)"
   ]
  },
  {
   "cell_type": "code",
   "execution_count": 21,
   "metadata": {},
   "outputs": [
    {
     "name": "stdout",
     "output_type": "stream",
     "text": [
      "3 x 1 =  3\n",
      "3 x 2 =  6\n",
      "3 x 3 =  9\n",
      "3 x 4 =  12\n",
      "3 x 5 =  15\n",
      "3 x 6 =  18\n",
      "3 x 7 =  21\n",
      "3 x 8 =  24\n",
      "3 x 9 =  27\n"
     ]
    }
   ],
   "source": [
    "# si quisieramos calcular la tabla del 3 solo tendríamos que hacer unas pequeñas modificaciones. Lo primero definir una nueva variable cuyo valor fuera 3\n",
    "\n",
    "num2 = 3\n",
    "\n",
    "# volver a escribir el código, pero cambiando el nombre de la variable de \"num\" a \"num2\"\n",
    "\n",
    "print(num2, 'x 1 = ', num2 * 1)\n",
    "print(num2, 'x 2 = ', num2 * 2)\n",
    "print(num2, 'x 3 = ', num2 * 3)\n",
    "print(num2, 'x 4 = ', num2 * 4)\n",
    "print(num2, 'x 5 = ', num2 * 5)\n",
    "print(num2, 'x 6 = ', num2 * 6)\n",
    "print(num2, 'x 7 = ', num2 * 7)\n",
    "print(num2, 'x 8 = ', num2 * 8)\n",
    "print(num2, 'x 9 = ', num2 * 9)"
   ]
  },
  {
   "cell_type": "markdown",
   "metadata": {},
   "source": [
    "Pero seamos sinceras, esto puede ser un poco tedioso. Estamos aprendiendo a programar, y se nos pueden empezar a ocurrir algunas formas de evitar tener que repetir líneas y líneas de código. Para eso tenemos las funciones! Veamos como construiremos la función para las tablas de multiplicar: \n"
   ]
  },
  {
   "cell_type": "code",
   "execution_count": 22,
   "metadata": {},
   "outputs": [],
   "source": [
    "# iniciamos nuestra función con la palabra clave \"def\", su nombre y los paréntesis con un argumento (en este caso lo llamaos \"num\", PERO LO PODEMOS LLAMAR COMO QUERAMOS!)\n",
    "def multi(num):\n",
    "    #dentro de la función escribimos el código como lo haríamos fuera de una función\n",
    "\n",
    "    # iniciamos una lista vacía donde iremos guardando los resultados\n",
    "    tabla = []\n",
    "\n",
    "    # iteramos por un rango de número del 0 al 10\n",
    "    for i in range(0, 11):\n",
    "\n",
    "        # multiplicamos el parámetro que le pasemos a nuestra función por cada uno de los números generados\n",
    "        resultado = f\"{num} x {i} =  {num * i}\"\n",
    "        tabla.append(resultado)\n",
    "\n",
    "    # esta función queremos que nos devuelva la tabla con los resultados que hemos ido generando. \n",
    "    return tabla"
   ]
  },
  {
   "cell_type": "code",
   "execution_count": 23,
   "metadata": {},
   "outputs": [
    {
     "data": {
      "text/plain": [
       "['2 x 0 =  0',\n",
       " '2 x 1 =  2',\n",
       " '2 x 2 =  4',\n",
       " '2 x 3 =  6',\n",
       " '2 x 4 =  8',\n",
       " '2 x 5 =  10',\n",
       " '2 x 6 =  12',\n",
       " '2 x 7 =  14',\n",
       " '2 x 8 =  16',\n",
       " '2 x 9 =  18',\n",
       " '2 x 10 =  20']"
      ]
     },
     "execution_count": 23,
     "metadata": {},
     "output_type": "execute_result"
    }
   ],
   "source": [
    "# si ahora llamamos a la funcion\n",
    "multi(2)"
   ]
  },
  {
   "cell_type": "code",
   "execution_count": 24,
   "metadata": {},
   "outputs": [
    {
     "data": {
      "text/plain": [
       "['3 x 0 =  0',\n",
       " '3 x 1 =  3',\n",
       " '3 x 2 =  6',\n",
       " '3 x 3 =  9',\n",
       " '3 x 4 =  12',\n",
       " '3 x 5 =  15',\n",
       " '3 x 6 =  18',\n",
       " '3 x 7 =  21',\n",
       " '3 x 8 =  24',\n",
       " '3 x 9 =  27',\n",
       " '3 x 10 =  30']"
      ]
     },
     "execution_count": 24,
     "metadata": {},
     "output_type": "execute_result"
    }
   ],
   "source": [
    "# si ahora quisiera calcular la tabla de 3, lo único que tendríamos que hacer es llamar de nuevo a la función, pero pasandole el argumento 3. \n",
    "\n",
    "multi(3)"
   ]
  },
  {
   "cell_type": "markdown",
   "metadata": {},
   "source": [
    "Los parámetros que recibe una función puede ser de cualquier tipo, *strings*, números, listas, diccionarios, etc. ¿Recordais que unas celdas más arriba definimos una función llamada `pares`? Si recordais, dentro de la función habíamos definido una lista de números. Pero esto hace de nuestra función una función muy específica, ya que solo vale para esa lista de números que definimos en el interior de la función. Para solucionar esto, podemos hacer que nuestra función reciba un parámetro que sea una lista. Veámoslo con un ejemplo: "
   ]
  },
  {
   "cell_type": "code",
   "execution_count": 25,
   "metadata": {},
   "outputs": [],
   "source": [
    "# lo primero que hacemos es recordar como era nuestra función. \n",
    "def es_par():\n",
    "\n",
    "    numeros = [1,2,3,4,5,6,7,8,9]\n",
    "\n",
    "    pares = []\n",
    "\n",
    "    for num in numeros: \n",
    "\n",
    "        if num % 2 == 0:\n",
    "\n",
    "            pares.append(num) \n",
    "        \n",
    "        else:\n",
    "            pass\n",
    "\n",
    "    return pares"
   ]
  },
  {
   "cell_type": "code",
   "execution_count": 27,
   "metadata": {},
   "outputs": [],
   "source": [
    "# modifiquemos al función para que reciba cualquier lista\n",
    "\n",
    "# definimos la función, pero en este caso entre paréntesis le pasaremos un parámetro. El nombre de ese parámetro puede ser el que queramos! En este caso lo hemos llamado \"nuestra_lista\", pero lo podríamos llamar por ejemplo \"brocoli\"\n",
    "def es_par_3(nuestra_lista):\n",
    "\n",
    "    # igual que antes iniciamos nuestra lista vacía. \n",
    "    pares = []\n",
    "\n",
    "    # iteramos por la lista de números, pero en este caso ya no se llama numeros. ¿Cómo se llama ahora? En este caso, \"nuestra_lista\", es decir, el nombre del parámetro que pusimos cuando definimos la función. En caso de que lo hubieramos llamado \"brocoli\" sería \"brocoli\"\n",
    "    for num in nuestra_lista: \n",
    "\n",
    "        # el resto del código se mantendrá exactamente igual\n",
    "        if num % 2 == 0:\n",
    "\n",
    "            pares.append(num) \n",
    "        \n",
    "        else:\n",
    "            pass\n",
    "\n",
    "    return pares"
   ]
  },
  {
   "cell_type": "code",
   "execution_count": 28,
   "metadata": {},
   "outputs": [
    {
     "data": {
      "text/plain": [
       "[44, 56, 22, 98]"
      ]
     },
     "execution_count": 28,
     "metadata": {},
     "output_type": "execute_result"
    }
   ],
   "source": [
    "# definimos una lista nueva \n",
    "\n",
    "lista_numeros1  = [23,44,56,22,98, 67]\n",
    "\n",
    "# llamamos a la función. Fijaos que en este caso, si que le pasamos un argumento a la función entre los paréntesis, son los valores de los parámetros. \n",
    "\n",
    "pares3 = es_par_3(lista_numeros1)\n",
    "pares3"
   ]
  },
  {
   "cell_type": "code",
   "execution_count": 29,
   "metadata": {},
   "outputs": [
    {
     "data": {
      "text/plain": [
       "[12, 14, 16, 18, 20]"
      ]
     },
     "execution_count": 29,
     "metadata": {},
     "output_type": "execute_result"
    }
   ],
   "source": [
    "# si ahora definimos otra lista \n",
    "\n",
    "lista_numeros2 = [12,13,14,15,16,17,18,19,20]\n",
    "\n",
    "pares4 = es_par_3(lista_numeros2)\n",
    "pares4"
   ]
  },
  {
   "cell_type": "markdown",
   "metadata": {},
   "source": [
    "¿Qué pasaría si no le pasamos el argumento a una función que hemos definido con parámetros? Veamos un ejemplo:"
   ]
  },
  {
   "cell_type": "code",
   "execution_count": 30,
   "metadata": {},
   "outputs": [
    {
     "ename": "TypeError",
     "evalue": "es_par_3() missing 1 required positional argument: 'nuestra_lista'",
     "output_type": "error",
     "traceback": [
      "\u001b[0;31m---------------------------------------------------------------------------\u001b[0m",
      "\u001b[0;31mTypeError\u001b[0m                                 Traceback (most recent call last)",
      "\u001b[0;32m<ipython-input-30-ff9645bfa99f>\u001b[0m in \u001b[0;36m<module>\u001b[0;34m\u001b[0m\n\u001b[1;32m      1\u001b[0m \u001b[0;31m# fijaos que en este caso no estamos poniendo nada entre paréntesis. Es decir, no le estamos pasando nada a nuestra función!\u001b[0m\u001b[0;34m\u001b[0m\u001b[0;34m\u001b[0m\u001b[0;34m\u001b[0m\u001b[0m\n\u001b[0;32m----> 2\u001b[0;31m \u001b[0mpares5\u001b[0m \u001b[0;34m=\u001b[0m \u001b[0mes_par_3\u001b[0m\u001b[0;34m(\u001b[0m\u001b[0;34m)\u001b[0m\u001b[0;34m\u001b[0m\u001b[0;34m\u001b[0m\u001b[0m\n\u001b[0m",
      "\u001b[0;31mTypeError\u001b[0m: es_par_3() missing 1 required positional argument: 'nuestra_lista'"
     ]
    }
   ],
   "source": [
    "# fijaos que en este caso no estamos poniendo nada entre paréntesis. Es decir, no le estamos pasando nada a nuestra función!\n",
    "pares5 = es_par_3()"
   ]
  },
  {
   "cell_type": "markdown",
   "metadata": {},
   "source": [
    "Si nos fijamos, esto nos esta devolviendo un error. Este error nos dice `TypeError: es_par_3() missing 1 required positional argument: 'nuestra_lista'`, es decir, nuestra función recibe un parámetro que no hemos pasado al llamar a nuestra función. "
   ]
  },
  {
   "cell_type": "markdown",
   "metadata": {},
   "source": [
    "Las funciones pueden recibir tantos parámetros como queramos. Definamos ahora una que reciba dos parámetros. En este caso, vamos a crear una función que nos sume dos números cualesquiera. "
   ]
  },
  {
   "cell_type": "code",
   "execution_count": 31,
   "metadata": {},
   "outputs": [],
   "source": [
    "# definimos la función que recibirá dos parámetros, a y b. Recordemos que pueden llamarse como queramos, podríamos llamarlo también \"numero1\" y \"numero2\"\n",
    "def sumar(a,b):\n",
    "\n",
    "    # introducimos el código que queramos. En este caso, nuestra función va a sumar dos números. \n",
    "    suma = a + b\n",
    "\n",
    "    # le indicamos el return. Que en este caso será el resultado de la suma de los dos argumentos que le pasemos a la función\n",
    "    return suma"
   ]
  },
  {
   "cell_type": "code",
   "execution_count": 56,
   "metadata": {},
   "outputs": [
    {
     "data": {
      "text/plain": [
       "92"
      ]
     },
     "execution_count": 56,
     "metadata": {},
     "output_type": "execute_result"
    }
   ],
   "source": [
    "# llamamos a la función, pasándole entre paréntesis los argumentos que recibe\n",
    "sumar(3,89)"
   ]
  },
  {
   "cell_type": "code",
   "execution_count": 32,
   "metadata": {},
   "outputs": [
    {
     "data": {
      "text/plain": [
       "3"
      ]
     },
     "execution_count": 32,
     "metadata": {},
     "output_type": "execute_result"
    }
   ],
   "source": [
    "# le podemos pasar los números directamente o una variable donde tengamos un número resultado del input de un usuario\n",
    "\n",
    "numero_1 = int(input(\"Elige el primer numero a sumar\"))\n",
    "numero_1"
   ]
  },
  {
   "cell_type": "code",
   "execution_count": 33,
   "metadata": {},
   "outputs": [
    {
     "data": {
      "text/plain": [
       "8"
      ]
     },
     "execution_count": 33,
     "metadata": {},
     "output_type": "execute_result"
    }
   ],
   "source": [
    "numero_2 = int(input(\"Elige el segundo numero a sumar\"))\n",
    "numero_2"
   ]
  },
  {
   "cell_type": "code",
   "execution_count": 34,
   "metadata": {},
   "outputs": [
    {
     "data": {
      "text/plain": [
       "11"
      ]
     },
     "execution_count": 34,
     "metadata": {},
     "output_type": "execute_result"
    }
   ],
   "source": [
    "sumar(numero_1, numero_2)"
   ]
  },
  {
   "cell_type": "markdown",
   "metadata": {},
   "source": [
    "**Repaso**\n",
    "\n",
    "- Una función puede recibir todos los parámetros que queramos\n",
    "\n",
    "- Puede recibir cualquier tipo de parámetro, ya sea un número, un *string*, una lista, una tupla, etc. \n",
    "\n",
    "- Si definimos una función con parámetros, y no los pasamos cuando la llamamos, nos devolverá error. "
   ]
  },
  {
   "cell_type": "markdown",
   "metadata": {},
   "source": [
    "---\n",
    "## Ejercicios funciones y argumentos\n",
    "\n",
    "- Definir una función y llamarla\n",
    "\n",
    "    1. Haz que la función `sumar()` imprima `Vamos a sumar algo.` usando la función `print()`.\n",
    "    2. Llama a la función `sumar()` y comprueba que te imprima la frase.\n",
    "\n",
    "- Ampliar una función con argumentos\n",
    "\n",
    "    3. Crea una función que calcule la media de dos valores que pasaremos como parámetros. \n",
    "    4. Modifica la función anterior para que en vez de recibir dos parámetros, reciba una lista de números de los que calcularemos la media. \n",
    "    5. Escribe una función que dada una lista, nos devuelva una lista sin elementos duplicados. \n",
    "---"
   ]
  },
  {
   "cell_type": "code",
   "execution_count": 44,
   "metadata": {},
   "outputs": [],
   "source": [
    "# Haz que la función `sumar()` imprima `Vamos a sumar algo.` usando la función `print()`.\n",
    "def sumar(a,b):\n",
    "    print ('Vamos a sumar algo')\n",
    "    suma = a + b\n",
    "    return print(f\"{a} + {b} = {suma}\")"
   ]
  },
  {
   "cell_type": "code",
   "execution_count": 45,
   "metadata": {},
   "outputs": [
    {
     "name": "stdout",
     "output_type": "stream",
     "text": [
      "Vamos a sumar algo\n",
      "3 + 2 = 5\n"
     ]
    }
   ],
   "source": [
    "sumar (3,2)"
   ]
  },
  {
   "cell_type": "code",
   "execution_count": 47,
   "metadata": {},
   "outputs": [],
   "source": [
    "# Crea una función que calcule la media de dos valores que pasaremos como parámetros. \n",
    "def avg(a,b):\n",
    "    media = (a+b)/2\n",
    "    return print(f\"La media de {a} y {b} es {media}\")"
   ]
  },
  {
   "cell_type": "code",
   "execution_count": 48,
   "metadata": {},
   "outputs": [
    {
     "name": "stdout",
     "output_type": "stream",
     "text": [
      "La media de 6 y 8 es 7.0\n"
     ]
    }
   ],
   "source": [
    "avg(6,8)"
   ]
  },
  {
   "cell_type": "code",
   "execution_count": 51,
   "metadata": {},
   "outputs": [],
   "source": [
    "# Modifica la función anterior para que en vez de recibir dos parámetros, reciba una lista de números de los que calcularemos la media. \n",
    "def avg(lista_numeros):\n",
    "    media = sum(lista_numeros)/len(lista_numeros)\n",
    "    return print(f\"La media de {lista_numeros} es {media}\")"
   ]
  },
  {
   "cell_type": "code",
   "execution_count": 50,
   "metadata": {},
   "outputs": [
    {
     "name": "stdout",
     "output_type": "stream",
     "text": [
      "La media de [23, 44, 56, 22, 98, 67] es 51.666666666666664\n"
     ]
    }
   ],
   "source": [
    "avg(lista_numeros1)"
   ]
  },
  {
   "cell_type": "code",
   "execution_count": 52,
   "metadata": {},
   "outputs": [],
   "source": [
    "# Escribe una función que dada una lista, nos devuelva una lista sin elementos duplicados.\n",
    "def val_unicos(lista_numeros):\n",
    "    unicos =[]\n",
    "    for i in lista_numeros:\n",
    "        if i not in unicos:\n",
    "            unicos.append(i)\n",
    "    \n",
    "    return unicos\n",
    "            "
   ]
  },
  {
   "cell_type": "code",
   "execution_count": 53,
   "metadata": {},
   "outputs": [],
   "source": [
    "valores = [1,2,3,2,1,5,6,5,5,5]"
   ]
  },
  {
   "cell_type": "code",
   "execution_count": 54,
   "metadata": {},
   "outputs": [
    {
     "data": {
      "text/plain": [
       "[1, 2, 3, 5, 6]"
      ]
     },
     "execution_count": 54,
     "metadata": {},
     "output_type": "execute_result"
    }
   ],
   "source": [
    "val_unicos(valores)"
   ]
  },
  {
   "cell_type": "markdown",
   "metadata": {},
   "source": [
    "# Lambdas"
   ]
  },
  {
   "cell_type": "markdown",
   "metadata": {},
   "source": [
    "Las expresiones lambda se utilizan para crear funciones anónimas, o funciones sin nombre.\n",
    "\n",
    "Son útiles cuando necesitamos crear una función que sólo tendrá que usarse una vez y puede escribirse en una sola línea. Las funciones lambda pueden tener cualquier número de parámetros pero sólo pueden tener una expresión.\n",
    "\n",
    "Al contrario que una función normal, no la definimos con la palabra clave estándar def que utilizamos en python. En su lugar, las funciones Lambda se definen como una línea que ejecuta una sola expresión. Este tipo de funciones pueden tomar cualquier número de argumentos, pero solo pueden tener una expresión.\n",
    "\n",
    "Una de las utilidades principales de las funciones Lambda es la optimización de memoria, no guardando la función una vez utilizada\n",
    "\n",
    "\n",
    "\n",
    "\n",
    "Visto de otra forma, la sintaxis de una lambda es:\n",
    "\n",
    "```python\n",
    "lambda parámetro_1, parámetro_2: mi_funcion(parámetro_1, parámetro_2)\n",
    "\n",
    "# también puede tener parámetros por defecto\n",
    "lambda parámetro_1, parámetro_2='valor_por_defecto': mi_funcion(parámetro_1, parámetro_2)\n",
    "```"
   ]
  },
  {
   "cell_type": "markdown",
   "metadata": {},
   "source": [
    "## Creando lambdas"
   ]
  },
  {
   "cell_type": "markdown",
   "metadata": {},
   "source": [
    "## Lambdas con un parámetro\n",
    "Imaginemos que queremos crear una funcion que nos calcule el cuadrado de un número que le pasemos"
   ]
  },
  {
   "cell_type": "code",
   "execution_count": 55,
   "metadata": {},
   "outputs": [],
   "source": [
    "# definimos la función como hemos aprendido antes\n",
    "def cuadrados(numero):\n",
    "    return numero ** 2"
   ]
  },
  {
   "cell_type": "code",
   "execution_count": 56,
   "metadata": {},
   "outputs": [
    {
     "data": {
      "text/plain": [
       "4"
      ]
     },
     "execution_count": 56,
     "metadata": {},
     "output_type": "execute_result"
    }
   ],
   "source": [
    "# llamamos a la función\n",
    "cuadrados(2)\n"
   ]
  },
  {
   "cell_type": "code",
   "execution_count": 57,
   "metadata": {},
   "outputs": [],
   "source": [
    "# ¿Cómo lo haríamos con una lambda?\n",
    "cuadrados2 = lambda numero : numero ** 2\n"
   ]
  },
  {
   "cell_type": "code",
   "execution_count": 6,
   "metadata": {},
   "outputs": [
    {
     "data": {
      "text/plain": [
       "4"
      ]
     },
     "execution_count": 6,
     "metadata": {},
     "output_type": "execute_result"
    }
   ],
   "source": [
    "# llamamos a la función\n",
    "cuadrados2(2)"
   ]
  },
  {
   "cell_type": "markdown",
   "metadata": {},
   "source": [
    "## Lambdas con dos parámetros y lambdas parámetros por defecto"
   ]
  },
  {
   "cell_type": "code",
   "execution_count": 58,
   "metadata": {},
   "outputs": [],
   "source": [
    "\n",
    "# función normal\n",
    "def multiplicacion (a,b):\n",
    "    return a *b"
   ]
  },
  {
   "cell_type": "code",
   "execution_count": 59,
   "metadata": {},
   "outputs": [
    {
     "data": {
      "text/plain": [
       "8"
      ]
     },
     "execution_count": 59,
     "metadata": {},
     "output_type": "execute_result"
    }
   ],
   "source": [
    "multiplicacion(2,4)"
   ]
  },
  {
   "cell_type": "code",
   "execution_count": 60,
   "metadata": {},
   "outputs": [
    {
     "data": {
      "text/plain": [
       "6"
      ]
     },
     "execution_count": 60,
     "metadata": {},
     "output_type": "execute_result"
    }
   ],
   "source": [
    "# lambda\n",
    "multiplicacion = lambda a,b : a *b\n",
    "multiplicacion(2,3)"
   ]
  },
  {
   "cell_type": "markdown",
   "metadata": {},
   "source": [
    "Al igual que en las funciones en las lambdas podemos poner parámetros por defecto. Lo haremos de una forma similar que con las funciones. Imaginemos que queremos hacer una lambda igual que la anterior, pero en este caso el parámetro \"b\" queremos que siempre sea 5. Lo haremos de la siguiente forma: "
   ]
  },
  {
   "cell_type": "code",
   "execution_count": 61,
   "metadata": {},
   "outputs": [
    {
     "data": {
      "text/plain": [
       "10"
      ]
     },
     "execution_count": 61,
     "metadata": {},
     "output_type": "execute_result"
    }
   ],
   "source": [
    "\n",
    "multiplicacion2 = lambda a,b = 5: a * b\n",
    "multiplicacion2(2)"
   ]
  },
  {
   "cell_type": "code",
   "execution_count": 62,
   "metadata": {},
   "outputs": [
    {
     "data": {
      "text/plain": [
       "14"
      ]
     },
     "execution_count": 62,
     "metadata": {},
     "output_type": "execute_result"
    }
   ],
   "source": [
    "# sin embargo, igual que en las funciones, podemos cambiar el valor por defecto por otro que nos interese. Para eso, lo que tendremos que hacer es especificar el valor nuevo que \n",
    "# queremos para el parámetro \"b\" cuando llamemos a la lambda\n",
    "\n",
    "multiplicacion2(2,7)"
   ]
  },
  {
   "cell_type": "markdown",
   "metadata": {},
   "source": [
    "\n",
    "Vamos a complicarlo un poco, metamos alguna condición en la función.\n",
    "\n",
    "Imaginemos que nos van a pasar una serie de números y queremos hacer una lista con los impares"
   ]
  },
  {
   "cell_type": "code",
   "execution_count": 65,
   "metadata": {},
   "outputs": [
    {
     "data": {
      "text/plain": [
       "[43, 18, 32, 11, 40, 21, 14, 10, 26, 44, 35, 23, 17, 28, 19, 42, 4, 20, 37, 48]"
      ]
     },
     "execution_count": 65,
     "metadata": {},
     "output_type": "execute_result"
    }
   ],
   "source": [
    "import random\n",
    "# generamos una lista de 20 números aleatorios entre el 1 y el 50\n",
    "lista = random.sample(range(1,50), 20)\n",
    "lista"
   ]
  },
  {
   "cell_type": "code",
   "execution_count": 66,
   "metadata": {},
   "outputs": [],
   "source": [
    "# definimos una funcion que nos devuelva una lista con los números impares de la lista creada en el paso anterior. \n",
    "def impares(lst):\n",
    "    impares = []\n",
    "\n",
    "    for i in lst:\n",
    "        if i % 2 != 0:\n",
    "            impares.append(i)\n",
    "    return impares"
   ]
  },
  {
   "cell_type": "code",
   "execution_count": 67,
   "metadata": {},
   "outputs": [
    {
     "data": {
      "text/plain": [
       "[43, 11, 21, 35, 23, 17, 19, 37]"
      ]
     },
     "execution_count": 67,
     "metadata": {},
     "output_type": "execute_result"
    }
   ],
   "source": [
    "# llamamos a la función y almacenamos los resultados en una variable\n",
    "num_impares = impares(lista)\n",
    "num_impares"
   ]
  },
  {
   "cell_type": "code",
   "execution_count": 68,
   "metadata": {},
   "outputs": [
    {
     "data": {
      "text/plain": [
       "[43, 11, 21, 35, 23, 17, 19, 37]"
      ]
     },
     "execution_count": 68,
     "metadata": {},
     "output_type": "execute_result"
    }
   ],
   "source": [
    "# contruyamos la lambda. La contruiremos igual solo que en este caso después de los dos puntos podremos el código de la operación que queremos hacer. \n",
    "\n",
    "funcion_impares = lambda lista_a: [i for i in lista_a if i % 2 != 0 ]\n",
    "\n",
    "# llamamos a nuestra lambda\n",
    "num_impares2 = funcion_impares(lista)\n",
    "num_impares2"
   ]
  },
  {
   "cell_type": "markdown",
   "metadata": {},
   "source": [
    "## Ejercicios:\n",
    "\n",
    "De esta parte no habrá ejercicios ya que esta parte es un bonus de funciones. Las volveremos a usar más adelante y entenderemos mejor su uso. "
   ]
  },
  {
   "cell_type": "markdown",
   "metadata": {},
   "source": [
    "---"
   ]
  }
 ],
 "metadata": {
  "kernelspec": {
   "display_name": "Python 3.6.9 64-bit",
   "language": "python",
   "name": "python3"
  },
  "language_info": {
   "codemirror_mode": {
    "name": "ipython",
    "version": 3
   },
   "file_extension": ".py",
   "mimetype": "text/x-python",
   "name": "python",
   "nbconvert_exporter": "python",
   "pygments_lexer": "ipython3",
   "version": "3.6.9"
  },
  "toc": {
   "base_numbering": 1,
   "nav_menu": {},
   "number_sections": true,
   "sideBar": true,
   "skip_h1_title": false,
   "title_cell": "Table of Contents",
   "title_sidebar": "Contents",
   "toc_cell": true,
   "toc_position": {},
   "toc_section_display": true,
   "toc_window_display": true
  },
  "vscode": {
   "interpreter": {
    "hash": "31f2aee4e71d21fbe5cf8b01ff0e069b9275f58929596ceb00d14d90e3e16cd6"
   }
  }
 },
 "nbformat": 4,
 "nbformat_minor": 2
}

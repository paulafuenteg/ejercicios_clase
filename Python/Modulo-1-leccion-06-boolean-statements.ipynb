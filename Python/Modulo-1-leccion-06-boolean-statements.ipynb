{
 "cells": [
  {
   "cell_type": "markdown",
   "metadata": {
    "toc": true
   },
   "source": [
    "<h1>Table of Contents<span class=\"tocSkip\"></span></h1>\n",
    "<div class=\"toc\"><ul class=\"toc-item\"><li><span><a href=\"#Qué-es-un-booleano\" data-toc-modified-id=\"Qué-es-un-booleano-1\"><span class=\"toc-item-num\">1&nbsp;&nbsp;</span>Qué es un booleano</a></span></li><li><span><a href=\"#Comparaciones\" data-toc-modified-id=\"Comparaciones-2\"><span class=\"toc-item-num\">2&nbsp;&nbsp;</span>Comparaciones</a></span></li><li><span><a href=\"#¿Qué-es-el-control-flow-o-control-de-flujo?\" data-toc-modified-id=\"¿Qué-es-el-control-flow-o-control-de-flujo?-3\"><span class=\"toc-item-num\">3&nbsp;&nbsp;</span>¿Qué es el control flow o control de flujo?</a></span><ul class=\"toc-item\"><li><span><a href=\"#Condicionales:-la-función-if\" data-toc-modified-id=\"Condicionales:-la-función-if-3.1\"><span class=\"toc-item-num\">3.1&nbsp;&nbsp;</span>Condicionales: la función <code>if</code></a></span></li><li><span><a href=\"#Ejercicios:-comparaciones-y-if\" data-toc-modified-id=\"Ejercicios:-comparaciones-y-if-3.2\"><span class=\"toc-item-num\">3.2&nbsp;&nbsp;</span>Ejercicios: comparaciones y <code>if</code></a></span></li><li><span><a href=\"#Condicionales:-If-...-else-...\" data-toc-modified-id=\"Condicionales:-If-...-else-...-3.3\"><span class=\"toc-item-num\">3.3&nbsp;&nbsp;</span>Condicionales: If ... else ...</a></span></li><li><span><a href=\"#Ejercicios:-if---else\" data-toc-modified-id=\"Ejercicios:-if---else-3.4\"><span class=\"toc-item-num\">3.4&nbsp;&nbsp;</span>Ejercicios: <code>if</code> - <code>else</code></a></span></li><li><span><a href=\"#Condicionales:-If-...-elif-...-else\" data-toc-modified-id=\"Condicionales:-If-...-elif-...-else-3.5\"><span class=\"toc-item-num\">3.5&nbsp;&nbsp;</span>Condicionales: If ... elif ... else</a></span></li><li><span><a href=\"#Condicionales:-If-anidados\" data-toc-modified-id=\"Condicionales:-If-anidados-3.6\"><span class=\"toc-item-num\">3.6&nbsp;&nbsp;</span>Condicionales: If anidados</a></span></li><li><span><a href=\"#Ejercicios:-if---elif---else\" data-toc-modified-id=\"Ejercicios:-if---elif---else-3.7\"><span class=\"toc-item-num\">3.7&nbsp;&nbsp;</span>Ejercicios: <code>if</code> - <code>elif</code> - <code>else</code></a></span></li><li><span><a href=\"#Condicionales:-Condiciones-múltiples\" data-toc-modified-id=\"Condicionales:-Condiciones-múltiples-3.8\"><span class=\"toc-item-num\">3.8&nbsp;&nbsp;</span>Condicionales: Condiciones múltiples</a></span></li><li><span><a href=\"#Ejercicios:-Condiciones-múltiples\" data-toc-modified-id=\"Ejercicios:-Condiciones-múltiples-3.9\"><span class=\"toc-item-num\">3.9&nbsp;&nbsp;</span>Ejercicios: Condiciones múltiples</a></span></li><li><span><a href=\"#Repaso:-Condicionales-if-...-elif-...-else\" data-toc-modified-id=\"Repaso:-Condicionales-if-...-elif-...-else-3.10\"><span class=\"toc-item-num\">3.10&nbsp;&nbsp;</span>Repaso: Condicionales if ... elif ... else</a></span></li><li><span><a href=\"#Ejercicio-Sentencias-booleanas\" data-toc-modified-id=\"Ejercicio-Sentencias-booleanas-3.11\"><span class=\"toc-item-num\">3.11&nbsp;&nbsp;</span>Ejercicio Sentencias booleanas</a></span></li><li><span><a href=\"#Loops:--while\" data-toc-modified-id=\"Loops:--while-3.12\"><span class=\"toc-item-num\">3.12&nbsp;&nbsp;</span>Loops:  while</a></span></li><li><span><a href=\"#Ejercicios-while\" data-toc-modified-id=\"Ejercicios-while-3.13\"><span class=\"toc-item-num\">3.13&nbsp;&nbsp;</span>Ejercicios <code>while</code></a></span></li></ul></li></ul></div>"
   ]
  },
  {
   "cell_type": "markdown",
   "metadata": {
    "id": "UT3E4-87Eb-D"
   },
   "source": [
    "\n",
    "# Qué es un booleano\n",
    "\n",
    "Como vimos en las primeras lecciones de Python, nos podemos encontrar con un tipo de dato que se llama booleano. Si recordamos, es un tipo de dato que nos permite almacenar dos valores, `True` o `False`.  \n",
    "\n",
    "En el contexto de las operaciones booleanas, y también cuando las expresiones son usadas bajo sentencias de flujo de control (que es lo que aprenderemos a lo largo de las siguientes sesiones), los siguientes valores son interpretados como `False`:\n",
    "\n",
    "- False.\n",
    "\n",
    "- Número cero.\n",
    "\n",
    "\n",
    "Veamos algunos ejemplos de estos casos especiales: \n",
    "\n",
    "\n"
   ]
  },
  {
   "cell_type": "code",
   "execution_count": 1,
   "metadata": {},
   "outputs": [
    {
     "data": {
      "text/plain": [
       "True"
      ]
     },
     "execution_count": 1,
     "metadata": {},
     "output_type": "execute_result"
    }
   ],
   "source": [
    "# False\n",
    "\n",
    "False == False\n"
   ]
  },
  {
   "cell_type": "code",
   "execution_count": 2,
   "metadata": {},
   "outputs": [
    {
     "data": {
      "text/plain": [
       "True"
      ]
     },
     "execution_count": 2,
     "metadata": {},
     "output_type": "execute_result"
    }
   ],
   "source": [
    "# ceros\n",
    "\n",
    "0 == False"
   ]
  },
  {
   "cell_type": "markdown",
   "metadata": {
    "id": "xZVXaB5OEb-J"
   },
   "source": [
    "# Comparaciones\n",
    "Todas las comparaciones que tengan una respuesta simple, es decir sí o no, pueden ser evaluadas para devolver una respuesta del tipo booleana. Vamos a ver qué significa:"
   ]
  },
  {
   "cell_type": "code",
   "execution_count": 3,
   "metadata": {},
   "outputs": [],
   "source": [
    "# lo primero que hacemos es definir unas variables\n",
    "\n",
    "a1 = 0\n",
    "a2 = 1\n",
    "a3 = 2\n"
   ]
  },
  {
   "cell_type": "markdown",
   "metadata": {},
   "source": [
    "Hagamos algunas comparaciones entre las variables:"
   ]
  },
  {
   "cell_type": "code",
   "execution_count": 4,
   "metadata": {},
   "outputs": [
    {
     "data": {
      "text/plain": [
       "True"
      ]
     },
     "execution_count": 4,
     "metadata": {},
     "output_type": "execute_result"
    }
   ],
   "source": [
    "# es a1 menor que a2?\n",
    "a1 < a2"
   ]
  },
  {
   "cell_type": "code",
   "execution_count": 5,
   "metadata": {},
   "outputs": [
    {
     "data": {
      "text/plain": [
       "True"
      ]
     },
     "execution_count": 5,
     "metadata": {},
     "output_type": "execute_result"
    }
   ],
   "source": [
    "# es a3 mayor o igual que a1?\n",
    "a3 >= a1"
   ]
  },
  {
   "cell_type": "code",
   "execution_count": 6,
   "metadata": {},
   "outputs": [
    {
     "data": {
      "text/plain": [
       "True"
      ]
     },
     "execution_count": 6,
     "metadata": {},
     "output_type": "execute_result"
    }
   ],
   "source": [
    "# es a2 mayor que a1 y menor que a3? \n",
    "a1 < a2 < a3"
   ]
  },
  {
   "cell_type": "code",
   "execution_count": 7,
   "metadata": {
    "id": "6Hoo1L84Eb-K",
    "outputId": "b33ed385-a0f3-49c7-f026-68e86f9567ca"
   },
   "outputs": [
    {
     "data": {
      "text/plain": [
       "False"
      ]
     },
     "execution_count": 7,
     "metadata": {},
     "output_type": "execute_result"
    }
   ],
   "source": [
    "# es a3 mayor que a1 y menor que a2?\n",
    "a1 < a3 < a2\n"
   ]
  },
  {
   "cell_type": "markdown",
   "metadata": {
    "id": "HemRVbI4Eb-K"
   },
   "source": [
    "Para estas comparaciones (condiciones) tenemos los siguientes operadores:\n",
    "- `A > B`, `True` si `A` es mayor que `B`\n",
    "- `A < B`, `True` si `A` es menor que `B`\n",
    "- `A == B`, `True` si `A` es igual a `B`\n",
    "- `A >= B`, `True` si `A` es mayor que `B` o igual a `B`\n",
    "- `A <= B`, `True` si `A` es menor que `B` o igual a `B`\n",
    "- `A != B`, `True` si `A` es distinto a `B`\n"
   ]
  },
  {
   "cell_type": "markdown",
   "metadata": {},
   "source": [
    "# ¿Qué es el control flow o control de flujo?\n",
    "\n",
    "Es el orden en que se ejecutan ciertas operaciones, es decir, usando el control de flujo estamos controlando la ejecución de nuestro código.\n",
    "\n",
    "Pongamos un ejemplo sencillo, digamos que queremos medir la temperatura del aire en el exterior. ¿Qué tenemos que hacer?\n",
    "\n",
    "1️⃣ Cogemos el termómetro,    \n",
    "2️⃣ Abrimos la puerta,  \n",
    "3️⃣ Salimos al exterior,  \n",
    "4️⃣ Cerramos la puerta,  \n",
    "5️⃣ Buscamos un lugar a la sombra,  \n",
    "6️⃣ Medimos la temperatura y  \n",
    "7️⃣ La anotamos.  \n",
    "\n",
    "Pyhton tiene 3 estructuras de control de flujo:\n",
    "\n",
    "- Condicionales:\n",
    "\n",
    "  ```python\n",
    "  - if \n",
    "    - if ... else ...\n",
    "    - if ... elif ... else\n",
    "  ```\n",
    "- Loops:\n",
    "\n",
    "  ```python\n",
    "  - for\n",
    "  - while\n",
    "  ```\n",
    "- Control de los loops con *break* y *continue*\n",
    "\n",
    "  ```python\n",
    "  - break\n",
    "  - continue\n",
    "  - pass\n",
    "  ```"
   ]
  },
  {
   "cell_type": "markdown",
   "metadata": {
    "id": "FikwiIv_Eb-L"
   },
   "source": [
    "## Condicionales: la función `if`\n",
    "\n",
    "- Si la condición `if` se evalúa como True, entonces se ejecuta el código indentado que sigue a la sentencia.\n",
    "\n",
    "- Si la expresión se evalúa como Falso, entonces el código indentado que sigue a la sentencia `if` se salta y el programa ejecuta la siguiente línea de código que está indentada al mismo nivel que la sentencia `if`.\n",
    "\n",
    "Veamos algunos ejemplos: "
   ]
  },
  {
   "cell_type": "code",
   "execution_count": 8,
   "metadata": {},
   "outputs": [],
   "source": [
    "# definimos una variable usando la función input donde os preguntaremos cuántas peras tenemos. Sobre esta variable estableceremos unas condiciones en nuestro if\n",
    "## 📌 Nota: si ejecutais este celda, poned un número mayor de 4. \n",
    "\n",
    "numero_peras = int(input(\"¿Cuántas peras tienes en la nevera?\"))"
   ]
  },
  {
   "cell_type": "code",
   "execution_count": 9,
   "metadata": {},
   "outputs": [
    {
     "data": {
      "text/plain": [
       "6"
      ]
     },
     "execution_count": 9,
     "metadata": {},
     "output_type": "execute_result"
    }
   ],
   "source": [
    "# veamos cuántas peras tenemos\n",
    "numero_peras"
   ]
  },
  {
   "cell_type": "code",
   "execution_count": 10,
   "metadata": {
    "id": "XnqC3l73Eb-M",
    "outputId": "fccb6fe8-6b40-4681-cba4-51aebe9daeae"
   },
   "outputs": [
    {
     "name": "stdout",
     "output_type": "stream",
     "text": [
      "Tenemos muchas peras, ¿no te apetece comerte una?\n"
     ]
    }
   ],
   "source": [
    "# vamos a chequear si tenemos más de 4 peras en la nevera\n",
    "if numero_peras > 4: \n",
    "    # en caso de que se cumpla la condición queremos sacar un mensaje, para lo que usaremos un print\n",
    "    print('Tenemos muchas peras, ¿no te apetece comerte una?')"
   ]
  },
  {
   "cell_type": "markdown",
   "metadata": {},
   "source": [
    "Pero... ¿Qué pasaría si no se cumple la condición que especificamos en el `if`? "
   ]
  },
  {
   "cell_type": "code",
   "execution_count": 11,
   "metadata": {},
   "outputs": [],
   "source": [
    "# vamos a chequear si tenemos más de 10 peras en la nevera. Es decir, en este caso esa condición es Falsa\n",
    "if numero_peras > 10: \n",
    "    print('Tenemos muchas peras, ¿no te apetece comerte una?')"
   ]
  },
  {
   "cell_type": "markdown",
   "metadata": {},
   "source": [
    "Upss... no ha pasado nada!!! Y es que si nos fijamos en nuestro código especificamos lo que queríamos que pasara si la condicón se cumple, pero no dijimos que debía ocurrir si la condición no se cumple. Pero no nos preocupemos, un poco más adelante en esta lección aprenderemos como hacerlo! "
   ]
  },
  {
   "cell_type": "markdown",
   "metadata": {
    "id": "xvZ4giwqEb-N"
   },
   "source": [
    "Vamos a repetir el ejemplo, pero con más consecuencias. Queremos que si hay muchas peras en la nevera el ordenador me lo diga no una sino dos veces. En cambio, si no son tantas, no quiero que me alerte. Ejecuta la célula de abajo. ¿Hace lo que te esperabas?"
   ]
  },
  {
   "cell_type": "code",
   "execution_count": 12,
   "metadata": {},
   "outputs": [
    {
     "data": {
      "text/plain": [
       "6"
      ]
     },
     "execution_count": 12,
     "metadata": {},
     "output_type": "execute_result"
    }
   ],
   "source": [
    "# recordemos que es peras en la nevera\n",
    "numero_peras"
   ]
  },
  {
   "cell_type": "code",
   "execution_count": 13,
   "metadata": {
    "id": "Uagi_8j_Eb-N",
    "outputId": "bacf3625-e724-4a95-a739-b40aaa2b205f"
   },
   "outputs": [
    {
     "name": "stdout",
     "output_type": "stream",
     "text": [
      "Tenemos muchas peras, ¿no te apetece comerte una?\n",
      "Repito: Tenemos muchas peras, ¿no te apetece comerte una?\n"
     ]
    }
   ],
   "source": [
    "# si el número de peras en la nevera es mayor que 4 queremos que: \n",
    "if numero_peras > 4:\n",
    "    # nos printees primero que hay muchas peras\n",
    "    print('Tenemos muchas peras, ¿no te apetece comerte una?')\n",
    "    # nos printees despyes un mesaje repitiendo que tenemos muchas peras\n",
    "    print('Repito: Tenemos muchas peras, ¿no te apetece comerte una?')"
   ]
  },
  {
   "cell_type": "markdown",
   "metadata": {},
   "source": [
    "No necesariamente podemos poner **prints**. Podemos hacer operaciones dentro del `if`. \n",
    "\n",
    "Imaginemos que queremos hacer la lista de la compra. Nuestro criterio para añadir elementos a la lista de la compra es que si tenemos menos de 2, queremos comprar más. Es decir, si tenemos dos o menos de dos peras en la nevera lo queremos añadir a la lista de la compra. \n",
    "\n",
    "¿Cómo haríamos esto con código? 🤔\n",
    "\n",
    "Para esto tendremos que usar métodos que hemos ido aprendiendo en lecciones anteriores: "
   ]
  },
  {
   "cell_type": "code",
   "execution_count": 14,
   "metadata": {},
   "outputs": [],
   "source": [
    "# lo primero que hacemos es crearnos una lista, que será nuestra lista de la compra\n",
    "\n",
    "lista_compra = []"
   ]
  },
  {
   "cell_type": "code",
   "execution_count": 15,
   "metadata": {},
   "outputs": [
    {
     "data": {
      "text/plain": [
       "6"
      ]
     },
     "execution_count": 15,
     "metadata": {},
     "output_type": "execute_result"
    }
   ],
   "source": [
    "# recordemos el número de peras\n",
    "\n",
    "numero_peras"
   ]
  },
  {
   "cell_type": "code",
   "execution_count": 16,
   "metadata": {},
   "outputs": [
    {
     "data": {
      "text/plain": [
       "1"
      ]
     },
     "execution_count": 16,
     "metadata": {},
     "output_type": "execute_result"
    }
   ],
   "source": [
    "# imaginemos que nos hemos comido 5 peras. Tendremos que restar 5 a nuestra variable numero_peras\n",
    "\n",
    "numero_peras = numero_peras - 5\n",
    "numero_peras\n"
   ]
  },
  {
   "cell_type": "code",
   "execution_count": 17,
   "metadata": {},
   "outputs": [],
   "source": [
    "# por último definimos nuestro if. Lo que chequearemos es si tenemos menos de dos peras\n",
    "\n",
    "if numero_peras < 2: \n",
    "    # si esta condición se cumple queremos añadir peras a nuestra lista. Para eso podremos usar el método append que aprendimos en la lección de listas! \n",
    "    lista_compra.append(\"peras\")"
   ]
  },
  {
   "cell_type": "code",
   "execution_count": 18,
   "metadata": {},
   "outputs": [
    {
     "data": {
      "text/plain": [
       "['peras']"
      ]
     },
     "execution_count": 18,
     "metadata": {},
     "output_type": "execute_result"
    }
   ],
   "source": [
    "# chequeemos que tenemos ahora en la lista de la compra: \n",
    "\n",
    "lista_compra"
   ]
  },
  {
   "cell_type": "markdown",
   "metadata": {},
   "source": [
    "Y voilá!!! ya tenemos las peras en nuestra lista 🥳. Otras operaciones que podremos hacer dentro de un `if` son sumas, restas, multiplicaciones, etc. Veamos un ejemplo. Imaginemos ahora que queremos actualizar el número de peras si he ido a la compra. "
   ]
  },
  {
   "cell_type": "code",
   "execution_count": 19,
   "metadata": {},
   "outputs": [
    {
     "data": {
      "text/plain": [
       "1"
      ]
     },
     "execution_count": 19,
     "metadata": {},
     "output_type": "execute_result"
    }
   ],
   "source": [
    "# primero veamos cuántas peras tenemos\n",
    "\n",
    "numero_peras"
   ]
  },
  {
   "cell_type": "code",
   "execution_count": 20,
   "metadata": {},
   "outputs": [],
   "source": [
    "# imaginemos que fuimos a la compra y hemos vuelto a casa y queremos actualizar nuestro número de peras. Primero definimos el número de peras que hemos comprado\n",
    "\n",
    "peras_compradas = 10"
   ]
  },
  {
   "cell_type": "code",
   "execution_count": 21,
   "metadata": {},
   "outputs": [],
   "source": [
    "# ahora tendremos que chequear si en nuestra lista de la compra teniamos peras. Para eso podremos usar el método \"in\" que aprendimos en lecciones anteriores\n",
    "\n",
    "# chequeamos si peras está en nuestra lista\n",
    "if \"peras\" in lista_compra: \n",
    "\n",
    "    # si está en nuestra lista, lo que haremos será sumar al número de peras que tenemos las peras compradas. \n",
    "    numero_peras += peras_compradas\n"
   ]
  },
  {
   "cell_type": "code",
   "execution_count": 22,
   "metadata": {},
   "outputs": [
    {
     "data": {
      "text/plain": [
       "11"
      ]
     },
     "execution_count": 22,
     "metadata": {},
     "output_type": "execute_result"
    }
   ],
   "source": [
    "# si vemos ahora el numero de peras que tenemos: \n",
    "\n",
    "numero_peras"
   ]
  },
  {
   "cell_type": "markdown",
   "metadata": {},
   "source": [
    "Si os fijais, dentro del `if` hemos usando una sintaxis que nos puede resultar nueva. Es la forma abreviada de: \n",
    "\n",
    "```python\n",
    "numero_peras = numero_peras + peras_compradas\n",
    "```\n",
    "\n",
    "Es decir: \n",
    "\n",
    "```python\n",
    "# esta línea de código \n",
    "numero_peras = numero_peras + peras_compradas\n",
    "\n",
    "# es exactamente lo mismo que esta\n",
    "numero_peras += peras_compradas\n",
    "\n",
    "```"
   ]
  },
  {
   "cell_type": "markdown",
   "metadata": {
    "id": "j8R9EjPrEb-O"
   },
   "source": [
    "**Repaso**:\n",
    "- Una condición tiene que tener una forma en que la respuesta sólo sea un `Sí` (`True`) o un `No` (`False`).\n",
    "\n",
    "- La función `if` se usa con la siguiente sintaxis: \n",
    "    ```python\n",
    "    if condición:\n",
    "         lo que queremos que pase. \n",
    "    ```\n",
    "- El código que está dentro del `if` sólo se ejecutará si la condición se evalúa a un `True`.\n"
   ]
  },
  {
   "cell_type": "markdown",
   "metadata": {
    "id": "x9ZmVOGaQADz"
   },
   "source": [
    "\n",
    "\n",
    "---\n",
    "\n",
    "\n",
    "## Ejercicios: comparaciones y `if`\n",
    "\n",
    "- Guarda los siguientes valores en los siguientes variables:\n",
    "\n",
    "  1. Que `var1` sea un número con el valor `8`.\n",
    "  2. Que `var2` sea un número con el valor `2`.\n",
    "  3. Que `var3` sea un número con el valor `8`.\n",
    "\n",
    "- Evalua los siguientes casos, usando `print()`:\n",
    "\n",
    "  4. ¿Es `var1` mayor que `var2`?\n",
    "  5. ¿Es `var1` menor o igual a `var3`?\n",
    "  6. ¿Es `var1` menor o igual a `var2`?\n",
    "  7. ¿Es `var2` distinto que `var3`?\n",
    "  8. ¿Es `var2` igual a `var3`?\n",
    "  9. ¿Es `var1` mayor que `var3`?\n",
    "\n",
    "- Añade una consecuencia a la condición `True`\n",
    "\n",
    "  10. Comprueba si `var1` es mayor que 6, y si es así imprime `¡Es enorme!`.\n",
    "  11. Comprueba si `var2` esmayor que 6, y si es así imprime `¡Es enorme también!`.\n",
    "  12. Comprueba si `var3` esmayor que 6, y si es así imprime `¡Es enorme!` seguido por `¡Pero de verdad!` en otra línea si se cumple la condición.\n",
    "\n",
    "- Bonus\n",
    "\n",
    "  13. Comprueba si `var1` es igual que `var3`, y si es así imprime `Son iguales.`.\n",
    "  14. Comprueba si `var1` es igual que `var2`, y si es así imprime `Son iguales.` \n",
    "  15. Comprueba si `var1` es mayor o igual que `var2`, y si es así calcula la diferencia entre `var1` y `var2`, guardala en la variable `dif`, e imprime `'La diferencia es',dif`. \n",
    "\n",
    "---\n",
    "\n"
   ]
  },
  {
   "cell_type": "code",
   "execution_count": 23,
   "metadata": {
    "id": "oyTcME21R-HH"
   },
   "outputs": [],
   "source": [
    "var1 = 8\n",
    "var2 = 2\n",
    "var3 = 8"
   ]
  },
  {
   "cell_type": "code",
   "execution_count": 24,
   "metadata": {},
   "outputs": [
    {
     "name": "stdout",
     "output_type": "stream",
     "text": [
      "¿Es `var1` mayor que `var2`? True\n",
      "¿Es `var1` menor o igual a `var3`? True\n",
      "¿Es `var1` menor o igual a `var2`? True\n",
      "¿Es `var2` distinto que `var3`? True\n",
      "¿Es `var2` igual a `var3`? False\n",
      "¿Es `var1` mayor que `var3`? False\n"
     ]
    }
   ],
   "source": [
    "print ('¿Es `var1` mayor que `var2`?', var1 > var2)\n",
    "print ('¿Es `var1` menor o igual a `var3`?', var1 <= var3)\n",
    "print ('¿Es `var1` menor o igual a `var2`?', var1 >= var2)\n",
    "print ('¿Es `var2` distinto que `var3`?', var2 != var3)\n",
    "print ('¿Es `var2` igual a `var3`?', var2 == var3)\n",
    "print ('¿Es `var1` mayor que `var3`?', var1 > var3)"
   ]
  },
  {
   "cell_type": "code",
   "execution_count": 25,
   "metadata": {},
   "outputs": [
    {
     "name": "stdout",
     "output_type": "stream",
     "text": [
      "¡Es enorme!\n",
      "¡Es enorme!\n",
      "¡Pero de verdad!\n"
     ]
    }
   ],
   "source": [
    "#Comprueba si `var1` es mayor que 6, y si es así imprime `¡Es enorme!`.\n",
    "if var1 > 6:\n",
    "    print ('¡Es enorme!')\n",
    "#Comprueba si `var2` esmayor que 6, y si es así imprime `¡Es enorme también!`.\n",
    "if var2 > 6:\n",
    "    print ('¡Es enorme también!')\n",
    "#Comprueba si `var3` esmayor que 6, y si es así imprime `¡Es enorme!` seguido por `¡Pero de verdad!` en otra línea si se cumple la condición.\n",
    "if var3 > 6:\n",
    "    print ('¡Es enorme!')\n",
    "    print ('¡Pero de verdad!')\n",
    "    \n"
   ]
  },
  {
   "cell_type": "code",
   "execution_count": 26,
   "metadata": {},
   "outputs": [
    {
     "name": "stdout",
     "output_type": "stream",
     "text": [
      "Son iguales\n",
      "La diferencia es 6\n"
     ]
    }
   ],
   "source": [
    " #13. Comprueba si `var1` es igual que `var3`, y si es así imprime `Son iguales.`.\n",
    " if var1 == var3:\n",
    "    print ('Son iguales')\n",
    " #14. Comprueba si `var1` es igual que `var2`, y si es así imprime `Son iguales.` \n",
    " if var1 == var2:\n",
    "        print ('Son iguales')\n",
    " #15. Comprueba si `var1` es mayor o igual que `var2`, y si es así calcula la diferencia entre `var1` y `var2`, guardala en la variable `dif`, e imprime `'La diferencia es',dif`. \n",
    "if var1 >= var2:\n",
    "    dif = var1 - var2\n",
    "    print ('La diferencia es', dif)"
   ]
  },
  {
   "cell_type": "markdown",
   "metadata": {
    "id": "j8R9EjPrEb-O"
   },
   "source": [
    "**Repaso**:\n",
    "- Una condición tiene que tener una forma en que la respuesta sólo sea un `Sí` (`True`) o un `No` (`False`).\n",
    "\n",
    "- La función `if` se usa con la siguiente sintaxis: \n",
    "    ```python\n",
    "    if condición:\n",
    "         lo que queremos que pase. \n",
    "    ```\n",
    "- El código que está dentro del `if` sólo se ejecutará si la condición se evalúa a un `True`.\n"
   ]
  },
  {
   "cell_type": "markdown",
   "metadata": {
    "id": "9Pvm4CDTWqIF"
   },
   "source": [
    "\n",
    "\n",
    "---\n",
    "\n"
   ]
  },
  {
   "cell_type": "markdown",
   "metadata": {
    "id": "uJCaOC6_Eb-P"
   },
   "source": [
    "## Condicionales: If ... else ...\n",
    "\n",
    "Hemos visto que pasaba si la condición que le pasabamos al `if` se cumplía, pero hasta ahora no hemos visto que pasaba si la condición no se cumplía. Para eso usaremos `else`: "
   ]
  },
  {
   "cell_type": "code",
   "execution_count": 27,
   "metadata": {},
   "outputs": [
    {
     "data": {
      "text/plain": [
       "11"
      ]
     },
     "execution_count": 27,
     "metadata": {},
     "output_type": "execute_result"
    }
   ],
   "source": [
    "# lo primero que haremos será recordad cuántas peras tenemos en la nevera\n",
    "\n",
    "numero_peras"
   ]
  },
  {
   "cell_type": "markdown",
   "metadata": {},
   "source": [
    "En el mismo contexto de la lista de compra, ahora querremos saber si tenemos peras suficientes o si nos tiene que avisar para añadirla a la lista de la compra. Veamos un ejemplo: "
   ]
  },
  {
   "cell_type": "code",
   "execution_count": 28,
   "metadata": {
    "id": "CXTtnV5lEb-P",
    "outputId": "db3abbdb-f94a-4144-9d18-c24deffff653"
   },
   "outputs": [
    {
     "name": "stdout",
     "output_type": "stream",
     "text": [
      "Tenemos muchas peras, deberíamos comernoslas...\n"
     ]
    }
   ],
   "source": [
    "# primero chequearemos si tenemos menos de 2 peras. Recordamos era nuestra condión para meter las peras en nuestra lista de la compra\n",
    "if numero_peras < 2:  \n",
    "    print('Tenemos pocas peras, hay que meterlas en la lista de la compra')\n",
    "    lista_compra.append(\"peras\")\n",
    "# si esta condición no se cumple, usaremos el else para especificar que queremos que pase. En este caso, que nos muestre un mensaje de que tenemos muchas peras. Debemos comernóslas! \n",
    "else: \n",
    "    print('Tenemos muchas peras, deberíamos comernoslas...')"
   ]
  },
  {
   "cell_type": "markdown",
   "metadata": {},
   "source": [
    "**Si nos fijamos en este ejemplo,  ¿Qué es lo que pasará?**\n",
    "\n",
    "- Python empezará leyendo el código del `if` y chequeará si esa condición es verdadera o Falsa. \n",
    "\n",
    "- En este caso la condición es Falsa, por lo que no se ejecutará el código que está en el interior del `if` \n",
    "\n",
    "- Después seguirá leyendo código. El `else` lo que indica es lo que queremos que ocurra si no se cumple la condición del `if`. \n",
    "\n",
    "- En este caso, al ser False la condición del `if` se ejecutarán las líneas de código que están dentro del `else`, es decir, tenemos que comer peras. "
   ]
  },
  {
   "cell_type": "markdown",
   "metadata": {
    "id": "D7h_8QwPEb-Q"
   },
   "source": [
    "📌 **Nota** : \n",
    "\n",
    "-  Fijaos como la indentación de la `else` es igual que la de la `if`. \n",
    "\n",
    "- En el `else` no hay que pasar ninguna condición, ya que el `else` va a englobar todas las condiciones que no se cumplan en el `if`. "
   ]
  },
  {
   "cell_type": "markdown",
   "metadata": {},
   "source": [
    "**¿Qué pasaría si la condición del `if` se cumple?**"
   ]
  },
  {
   "cell_type": "code",
   "execution_count": 26,
   "metadata": {},
   "outputs": [],
   "source": [
    "# creemos otra variable de numero de peras distinta\n",
    "\n",
    "numero_peras2 = 1"
   ]
  },
  {
   "cell_type": "code",
   "execution_count": 27,
   "metadata": {},
   "outputs": [
    {
     "name": "stdout",
     "output_type": "stream",
     "text": [
      "Tenemos pocas peras, hay que meterlas en la lista de la compra\n"
     ]
    }
   ],
   "source": [
    "# primero chequearemos si tenemos menos de 2 peras. Recordamos era nuestra condión para meter las peras en nuestra lista de la compra\n",
    "if numero_peras2 < 2:  \n",
    "    print('Tenemos pocas peras, hay que meterlas en la lista de la compra')\n",
    "    lista_compra.append(\"peras\")\n",
    "# si esta condición no se cumple, usaremos el else para especificar que queremos que pase. En este caso, que nos muestre un mensaje de que tenemos muchas peras. Debemos comernóslas! \n",
    "else: \n",
    "    print('Tenemos muchas peras, deberíamos comernoslas...')"
   ]
  },
  {
   "cell_type": "code",
   "execution_count": 28,
   "metadata": {},
   "outputs": [
    {
     "data": {
      "text/plain": [
       "['peras', 'peras']"
      ]
     },
     "execution_count": 28,
     "metadata": {},
     "output_type": "execute_result"
    }
   ],
   "source": [
    "lista_compra"
   ]
  },
  {
   "cell_type": "markdown",
   "metadata": {},
   "source": [
    "Fijaos que tenemos dos veces peras porque ya la añadimos en el apartado anterior cuando estabamos aprendiendo la condición `if`. "
   ]
  },
  {
   "cell_type": "markdown",
   "metadata": {
    "id": "uuApXUSyEb-Q"
   },
   "source": [
    "**Repaso**:\n",
    "- Con la palabra `else` ampliamos la función `if` para el caso que la condición sea falsa.\n",
    "\n",
    "- `Else` tiene la misma indentación que la `if` al cual pertenece, y su consecuencia la misma indentación que la consecuencia de la `if`."
   ]
  },
  {
   "cell_type": "markdown",
   "metadata": {
    "id": "irMBUJXfhA0S"
   },
   "source": [
    "\n",
    "\n",
    "---\n",
    "\n",
    "\n",
    "## Ejercicios: `if` - `else`\n",
    "\n",
    "- Guarda los siguientes valores en los siguientes variables:\n",
    "\n",
    "  16. Que `var1` sea un número con el valor `8`.\n",
    "  17. Que `var2` sea un número con el valor `2`.\n",
    "  18. Que `var3` sea un número con el valor `8`.\n",
    "\n",
    "- Evalua los siguientes casos, usando `if`, `else`, y `print()`:\n",
    "\n",
    "  19. Comprueba si `var1` es mayor que 6, y si es así imprime `¡Es enorme!`. Si no es así imprime `Es chiquitín.`.\n",
    "  20. Comprueba si `var2` es mayor que 6, y si es así imprime `¡Es enorme también!`. Si no es así imprime `Es chiquitín también.`.\n",
    "  21. Comprueba si `var1` es igual a `var3`, y si es así imprime `Son iguales.` Si no es así imprime `Son distintos.` Sigalo en otra línea con `Consideramos las variables var1 y var3.` \n",
    "  22. Comprueba si `var2` es igual a `var3`, y si es así imprime `Son iguales.` Si no es así imprime `Son distintos.` Sigalo en otra línea con `Consideramos las variables var2 y var3.` \n",
    "- Bonus\n",
    "\n",
    "  23. Comprueba si `var2` es menor o igual a `var3`, y si es así calcula la diferencia entre `var3` y `var2`, guardala en la variable `dif`, e imprime `var2 no es más grande que var3.`. Sigalo en otra línea con `La diferencia es ` seguido por el valor de la variable `dif`, pero sólo si se ha cumplido la condición. Si no se cumple, imprime `var2 es más grande que var3.`. En todo caso queremos que se imprima `Este línea siempre se imprime.`.\n",
    "\n",
    "\n",
    "---\n",
    "\n"
   ]
  },
  {
   "cell_type": "code",
   "execution_count": 29,
   "metadata": {
    "id": "Onm2M74TWZw9"
   },
   "outputs": [],
   "source": [
    "var1 = 8\n",
    "var2 = 2\n",
    "var3 = 8"
   ]
  },
  {
   "cell_type": "code",
   "execution_count": 33,
   "metadata": {},
   "outputs": [
    {
     "name": "stdout",
     "output_type": "stream",
     "text": [
      "Es enorme\n",
      "Es chiquitín también\n",
      "Consideramos las variables var1 y var3\n",
      "Son iguales\n",
      "Consideramos las variables var2 y var3\n",
      "Son distintos\n"
     ]
    }
   ],
   "source": [
    "#Comprueba si `var1` es mayor que 6, y si es así imprime `¡Es enorme!`. Si no es así imprime `Es chiquitín.\n",
    "if var1 > 6:\n",
    "    print ('Es enorme')\n",
    "else:\n",
    "    print ('Es chiquitín')\n",
    "#Comprueba si `var2` es mayor que 6, y si es así imprime `¡Es enorme también!`. Si no es así imprime `Es chiquitín también.`.\n",
    "if var2 > 6:\n",
    "    print ('Es enorme tambén')\n",
    "else:\n",
    "    print ('Es chiquitín también')\n",
    "# Comprueba si `var1` es igual a `var3`, y si es así imprime `Son iguales.` Si no es así imprime `Son distintos.` Sigalo en otra línea con `Consideramos las variables var1 y var3.`\n",
    "print ('Consideramos las variables var1 y var3') \n",
    "if var1 == var3:\n",
    "    print ('Son iguales')\n",
    "else:\n",
    "    print ('Son distintos')\n",
    "# Comprueba si `var2` es igual a `var3`, y si es así imprime `Son iguales.` Si no es así imprime `Son distintos.` Sigalo en otra línea con `Consideramos las variables var2 y var3.` \n",
    "print ('Consideramos las variables var2 y var3') \n",
    "if var2 == var3:\n",
    "    print ('Son iguales')\n",
    "else:\n",
    "    print ('Son distintos')"
   ]
  },
  {
   "cell_type": "markdown",
   "metadata": {
    "id": "ntgVqLZhcIBJ"
   },
   "source": [
    "\n",
    "\n",
    "---\n",
    "\n"
   ]
  },
  {
   "cell_type": "markdown",
   "metadata": {
    "id": "gdM3IYIBEb-Q"
   },
   "source": [
    "## Condicionales: If ... elif ... else\n",
    "Muchas veces, nos interesa chequear más de una condición. Como vimos, la condición que ponemos en la línea de la `if` tiene un `True` o un `False` como resultado, y con el `else` incluimos todas las situaciones que no se cumplen en el `if`.  La sentencia `elif` de Python permite realizar comprobaciones continuas después de una sentencia `if` inicial. Una sentencia `elif` se diferencia de la sentencia `else` porque se proporciona otra expresión/condición para ser comprobada, al igual que con la sentencia `if` inicial."
   ]
  },
  {
   "cell_type": "code",
   "execution_count": 30,
   "metadata": {},
   "outputs": [
    {
     "data": {
      "text/plain": [
       "11"
      ]
     },
     "execution_count": 30,
     "metadata": {},
     "output_type": "execute_result"
    }
   ],
   "source": [
    "# recordemos cuántas peras teníamos\n",
    "\n",
    "numero_peras"
   ]
  },
  {
   "cell_type": "markdown",
   "metadata": {},
   "source": [
    "Imaginemos ahora que queremos incluir varias condiciones, estas serían: \n",
    "\n",
    "- Si tenemos más de 50 peras, devolveremos un mensaje de que tenemos demasiadas peras y deberíamos donarlas. \n",
    "\n",
    "- Si tenemos más de 4 peras, devolveremos un mensaje diciendo que si no te apetece comer peras\n",
    "\n",
    "- Si tenemos más de 0 peras, las apuntaremos en la lista de compra\n",
    "\n",
    "- Si no se cumple ninguna de las condiciones, devolveremos un mensaje de que nos hemos quedado sin peras. "
   ]
  },
  {
   "cell_type": "code",
   "execution_count": 31,
   "metadata": {},
   "outputs": [
    {
     "name": "stdout",
     "output_type": "stream",
     "text": [
      "Tenemos muchas peras, ¿no te apetece comerte una?\n"
     ]
    }
   ],
   "source": [
    "# indicamos nuestra primera condición. Es decir, tener mas de 50 peras\n",
    "if numero_peras > 50: \n",
    "    print('Tenemos demasiadas peras, dónalas al banco de alimentos.')\n",
    "\n",
    "# en el elif pondremos las nuevas condiciones que queremos chequear. En este casi si hay más de 4 peras. \n",
    "elif numero_peras > 4: \n",
    "    print('Tenemos muchas peras, ¿no te apetece comerte una?')\n",
    "\n",
    "# podemos añadir todas las condiciones que queramos, es decir, podemos añadir todos los elif que queramos. En este caso, si es mayor que 0\n",
    "elif numero_peras > 0: \n",
    "    print(\"Añadiendo elemento a la lista de la compra\")\n",
    "    lista_compra.append(\"peras\")\n",
    "\n",
    "# por último añadimos el else especificamos lo que queremos que ocurra si no se cumplen ninguna de las condiciones anteriores. \n",
    "else:\n",
    "    print('No tenemos peras.')"
   ]
  },
  {
   "cell_type": "markdown",
   "metadata": {},
   "source": [
    "Fijaos que el orden de las condiciones importa, ya que va a ir chequeando condición a condición y en el momento en el que la condición sea cierta el programa se parará y no se ejecutará el resto del código: \n",
    "\n",
    "Imaginemos que ponemos primero la condición de mayor que 0 que la de mayor que 4. ¿Qué creeis que pasará? "
   ]
  },
  {
   "cell_type": "code",
   "execution_count": 32,
   "metadata": {},
   "outputs": [
    {
     "name": "stdout",
     "output_type": "stream",
     "text": [
      "Añadiendo elemento a la lista de la compra\n"
     ]
    }
   ],
   "source": [
    "# indicamos nuestra primera condición. Es decir, tener mas de 50 peras\n",
    "if numero_peras > 50: \n",
    "    print('Tenemos demasiadas peras, dónalas al banco de alimentos.')\n",
    "\n",
    "elif numero_peras > 0: \n",
    "    print(\"Añadiendo elemento a la lista de la compra\")\n",
    "    lista_compra.append(\"peras\")\n",
    "\n",
    "elif numero_peras > 4: \n",
    "    print('Tenemos muchas peras, ¿no te apetece comerte una?')\n",
    "\n",
    "else:\n",
    "    print('No tenemos peras.')"
   ]
  },
  {
   "cell_type": "markdown",
   "metadata": {},
   "source": [
    "**¿Qué ha pasado aquí?** \n",
    "\n",
    "Python a empezado a leer nuestro programa: \n",
    "\n",
    "- ¿Es el `numero_peras` mayor que 50? `False`, por lo tanto no se ejecuta la líena que tenemos \"dentro\" del `if`, así que sigue leyendo código. \n",
    "\n",
    "- ¿Es el `numero_peras` mayor que 0? `True`, por lo tanto se ejecuta la líena de código que tenemos dentro del primer `elif`, es decir, nos añade \"peras\" a la lista de la compra y nos devuelve el mensaje de que la está añadiendo. \n",
    "\n",
    "- Como la condición se ha cumplido, el programa se para y no sigue leyendo código. Por esto no nos sale el *print* del siguiente `elif` aunque se cumpla la condición. "
   ]
  },
  {
   "cell_type": "markdown",
   "metadata": {},
   "source": [
    "Lo mismo pasaría si el número de peras fuera 60. Veamoslo con un ejemplo: \n"
   ]
  },
  {
   "cell_type": "code",
   "execution_count": 33,
   "metadata": {},
   "outputs": [],
   "source": [
    "# definimos una nueva variable donde el número de peras sea 60\n",
    "\n",
    "numero_peras3 = 60"
   ]
  },
  {
   "cell_type": "code",
   "execution_count": 34,
   "metadata": {},
   "outputs": [
    {
     "name": "stdout",
     "output_type": "stream",
     "text": [
      "Añadiendo elemento a la lista de la compra\n"
     ]
    }
   ],
   "source": [
    "# si ejecutamos el código que creamos al inicio del apartado \n",
    "if numero_peras3 > 0: \n",
    "    print(\"Añadiendo elemento a la lista de la compra\")\n",
    "    lista_compra.append(\"peras\")\n",
    "\n",
    "elif numero_peras3 > 50: \n",
    "    print('Tenemos demasiadas peras, dónalas al banco de alimentos.')\n",
    "\n",
    "elif numero_peras3 > 4: \n",
    "    print('Tenemos muchas peras, ¿no te apetece comerte una?')\n",
    "\n",
    "\n",
    "else:\n",
    "    print('No tenemos peras.')"
   ]
  },
  {
   "cell_type": "markdown",
   "metadata": {},
   "source": [
    "A pesar de que todas las condiciones, tanto del `if` como las de los `elif` son ciertas, lo que va a ocurrir es que el programa se parará en el momento en el que Python encuentre una condición verdadera. En este caso, la primera. "
   ]
  },
  {
   "cell_type": "markdown",
   "metadata": {},
   "source": [
    "Algunas cosas importantes cuando hacemos este tipo de condicionales incluyendo `if` ... `elif` ...`else` : \n",
    "\n",
    "- Hay múltiples `elif`, pero un solo `if` y `else`.\n",
    "\n",
    "- El programa se parará cuando encuentre una condición que sea `True`. Ignorando el código que viene a continuación. "
   ]
  },
  {
   "cell_type": "markdown",
   "metadata": {},
   "source": [
    "**Repaso**:\n",
    "- Las `if`, `elif`, y `else` tienen la misma indentación, igual que sus consecuencias entre sí.\n",
    "\n",
    "- Puedes poner tantos `elif` como quieras, pero siempre corresponde a un `if`, y un solo `else` (opcional).\n",
    "\n",
    "- En la primera condición que encuentra que de un `True` ejecuta la consecuencia, leyendo desde arriba hacia abajo. No mira las condiciones que vienen detrás con la misma indentación."
   ]
  },
  {
   "cell_type": "markdown",
   "metadata": {},
   "source": [
    "## Condicionales: If anidados\n",
    "\n",
    "Básicamente es una sentencia `if` dentro de otra sentencia `if`."
   ]
  },
  {
   "cell_type": "markdown",
   "metadata": {},
   "source": [
    "En este caso vamos a dividir nuestro código en varios bloques: \n",
    "\n",
    "- 1️⃣ Chequearemos si tenemos más de 4 peras. En caso de que tengamos más de 4 peras, definiremos nuevas condiciones: \n",
    "\n",
    "    - 1️⃣.1️⃣ La primera condición que chequearemos dentro de este primer bloque será si tenemos más de 50 peras. En este caso devolveremos un mensaje sugiriendo donarlas. \n",
    "\n",
    "    - 1️⃣.2️⃣ Si esta condición no se cumple devolveremos un mensaje ofreciendo comer una pera.\n",
    "\n",
    "- 2️⃣ Estableceremos el resto de las posibilidades, es decir, que tengamos 4 o menos peras\n",
    "\n",
    "    - 2️⃣.1️⃣ En caso de que tengamos menos de 4 peras, si el número de peras es mayor que 0, añadiremos peras a nuestra lista de la compra\n",
    "\n",
    "    - 2️⃣.2️⃣ En caso de que no se cumpla la condición anterior devolveremos un mensaje de que estamos sin peras. "
   ]
  },
  {
   "cell_type": "code",
   "execution_count": 35,
   "metadata": {},
   "outputs": [
    {
     "data": {
      "text/plain": [
       "11"
      ]
     },
     "execution_count": 35,
     "metadata": {},
     "output_type": "execute_result"
    }
   ],
   "source": [
    "# recordemos el número de peras que tenemos\n",
    "numero_peras"
   ]
  },
  {
   "cell_type": "code",
   "execution_count": 36,
   "metadata": {
    "cellView": "form",
    "id": "Yc3jhvIJEb-R"
   },
   "outputs": [
    {
     "name": "stdout",
     "output_type": "stream",
     "text": [
      "Tenemos muchas peras, ¿no te apetece comerte una?\n"
     ]
    }
   ],
   "source": [
    "# 1️⃣ primera condición. Es el número de peras mayor que 4?\n",
    "if numero_peras > 4: \n",
    "\n",
    "    # 1️⃣.1️⃣ en caso de que sea si, ¿Es el número de peras mayor que 50? \n",
    "    if numero_peras > 50 :\n",
    "        print('Tenemos demasiadas peras, dónalas al banco de alimentos.')\n",
    "        \n",
    "    # si se cumple la condición 1️⃣ pero no la 1️⃣.1️⃣ se ejecutará esta línea de codigo\n",
    "    else:\n",
    "        print('Tenemos muchas peras, ¿no te apetece comerte una?')\n",
    "\n",
    "# si no se cumple la condición 1️⃣, pasaremos a esta parte del código, es decir, nuestro número de peras es menor que 4\n",
    "else: \n",
    "    # 2️⃣.1️⃣ Si el número de peras es menor que 4, pero mayor que 0 se añadirá peras a la lista de la compra\n",
    "    if numero_peras > 0 :\n",
    "        lista_compra.append(\"peras\")\n",
    "        print(\"añadiendo peras a la lista de la compra\")\n",
    "\n",
    "    # 2️⃣.2️⃣ en caso de que no cumplan ninguna de las condiciones se ejecutará esta línea de código\n",
    "    else:\n",
    "        print('No tenemos peras.')"
   ]
  },
  {
   "cell_type": "markdown",
   "metadata": {},
   "source": [
    "En este caso teníamos 11 peras, por la tanto se cumple la condición 1️⃣ y la condición 1️⃣.2️⃣, por lo tanto nos devuelve el mensaje de sugerencia de comernos una pera. Puede que esto nos resulte algo confuso, pero lo podemos entender como un camino en el que nos vamos encontrando bifurcaciones que nos van a ir definiendo nuestro camino en función de que vayan cumpliendo las condiciones pasadas. "
   ]
  },
  {
   "cell_type": "code",
   "execution_count": 37,
   "metadata": {},
   "outputs": [],
   "source": [
    "# creemonos otra variable con un número diferente de peras\n",
    "\n",
    "numero_peras4 = 60"
   ]
  },
  {
   "cell_type": "markdown",
   "metadata": {},
   "source": [
    "Volvamos a ejecutar el código"
   ]
  },
  {
   "cell_type": "code",
   "execution_count": 38,
   "metadata": {},
   "outputs": [
    {
     "name": "stdout",
     "output_type": "stream",
     "text": [
      "Tenemos demasiadas peras, dónalas al banco de alimentos.\n"
     ]
    }
   ],
   "source": [
    "# 1️⃣ primera condición. Es el número de peras mayor que 4?\n",
    "if numero_peras4 > 4: \n",
    "\n",
    "    # 1️⃣.1️⃣ en caso de que sea si, ¿Es el número de peras mayor que 50? \n",
    "    if numero_peras4 > 50 :\n",
    "        print('Tenemos demasiadas peras, dónalas al banco de alimentos.')\n",
    "        \n",
    "    # si se cumple la condición 1️⃣ pero no la 1️⃣.1️⃣ se ejecutará esta línea de codigo\n",
    "    else:\n",
    "        print('Tenemos muchas peras, ¿no te apetece comerte una?')\n",
    "\n",
    "# si no se cumple la condición 1️⃣, pasaremos a esta parte del código, es decir, nuestro número de peras es menor que 4\n",
    "else: \n",
    "    # 2️⃣.1️⃣ Si el número de peras es menor que 4, pero mayor que 0 se añadirá peras a la lista de la compra\n",
    "    if numero_peras4 > 0 :\n",
    "        lista_compra.append(\"peras\")\n",
    "        print(\"añadiendo peras a la lista de la compra\")\n",
    "\n",
    "    # 2️⃣.2️⃣ en caso de que no cumplan ninguna de las condiciones se ejecutará esta línea de código\n",
    "    else:\n",
    "        print('No tenemos peras.')"
   ]
  },
  {
   "cell_type": "markdown",
   "metadata": {},
   "source": [
    "En este caso se cumplen las condiciones 1️⃣ y  1️⃣.1️⃣, por lo tanto nos devuelve el mensaje de donar. "
   ]
  },
  {
   "cell_type": "markdown",
   "metadata": {
    "id": "zc1KXKiv1Hic"
   },
   "source": [
    "\n",
    "\n",
    "---\n",
    "\n",
    "\n",
    "## Ejercicios: `if` - `elif` - `else`\n",
    "\n",
    "- Guarda los siguientes valores en los siguientes variables:\n",
    "\n",
    "  24. Que `var1` sea un número con el valor `8`.\n",
    "  25. Que `var2` sea un número con el valor `2`.\n",
    "  26. Que `var3` sea un número con el valor `8`.\n",
    "\n",
    "- Evalua los siguientes casos, usando `if`, `elif`, `else`, y `print()`:\n",
    "\n",
    "  27. Comprueba si `var1` es menor que 3, si no es así, mira si es mayor que 15. En el primer caso, imprime `Qué pequeño es.`, en el segundo caso imprime `¡Que grande!`. En los demás casos imprime `Así me gusta.`.\n",
    "  28. Comprueba si `var1` es mayor que 3, si no es así, mira si es menor o igual a `var3`. En el caso de valores más pequeños (¿cuál es?) imprime `Qué pequeño es.`, para los valores más grandes (¿cuál?) imprime `¡Tan grande!`. (`var3` sigue teniendo el valor definido en la 3.)\n",
    "\n",
    "- Bonus\n",
    "\n",
    "  29. Cambia el código que hiciste en la 22. para que el rango entre `3` y `var3` imprimiría la frase `Así me gusta.`. Las frases para los valores más pequeños y más grandes se aplican igual que en la 22. ¿Ha cambiado uno (o ambos) de los rangos de valores que corresponden a esas frases?\n",
    "\n",
    "---\n",
    "\n"
   ]
  },
  {
   "cell_type": "code",
   "execution_count": 40,
   "metadata": {
    "id": "E6LRmTy9WwQm"
   },
   "outputs": [],
   "source": [
    "var1 = 8\n",
    "var2 = 2\n",
    "var3 = 8"
   ]
  },
  {
   "cell_type": "code",
   "execution_count": 44,
   "metadata": {},
   "outputs": [
    {
     "name": "stdout",
     "output_type": "stream",
     "text": [
      "Así me gusta\n",
      "Qué pequeño es\n"
     ]
    }
   ],
   "source": [
    "#Comprueba si `var1` es menor que 3, si no es así, mira si es mayor que 15. En el primer caso, imprime `Qué pequeño es.`, en el segundo caso imprime `¡Que grande!`. \n",
    "# En los demás casos imprime `Así me gusta.`.\n",
    "if var1 < var3:\n",
    "    print ('Qué pequeño es')\n",
    "elif var1 > 15:\n",
    "    print ('¡Que grande!')\n",
    "else:\n",
    "    print ('Así me gusta')\n",
    "# Comprueba si `var1` es mayor que 3, si no es así, mira si es menor o igual a `var3`. \n",
    "# En el caso de valores más pequeños (¿cuál es?) imprime `Qué pequeño es.`, para los valores más grandes (¿cuál?) imprime `¡Tan grande!`. \n",
    "# (`var3` sigue teniendo el valor definido en la 3.)\n",
    "if var1 > 3:\n",
    "    print ('Qué pequeño es')\n",
    "elif var1 >= var3:\n",
    "    print ('¡Que grande!')\n",
    "else:\n",
    "    print ('Así me gusta')"
   ]
  },
  {
   "cell_type": "code",
   "execution_count": 45,
   "metadata": {},
   "outputs": [
    {
     "name": "stdout",
     "output_type": "stream",
     "text": [
      "Qué pequeño es\n"
     ]
    }
   ],
   "source": [
    "# Cambia el código que hiciste en la 28 para que el rango entre `3` y `var3` imprimiría la frase `Así me gusta.`. \n",
    "# Las frases para los valores más pequeños y más grandes se aplican igual que en la 28. \n",
    "# ¿Ha cambiado uno (o ambos) de los rangos de valores que corresponden a esas frases?\n",
    "\n",
    "if var1 > 3:\n",
    "    print ('Qué pequeño es')\n",
    "elif 3 < var1 >=var3:\n",
    "    print ('Así me gusta')\n",
    "elif var1 >= var3:\n",
    "    print ('¡Que grande!')\n",
    "else:\n",
    "    print ('Así me gusta')"
   ]
  },
  {
   "cell_type": "markdown",
   "metadata": {
    "id": "O3XWRvv1WwQn"
   },
   "source": [
    "\n",
    "\n",
    "---\n",
    "\n"
   ]
  },
  {
   "cell_type": "markdown",
   "metadata": {
    "id": "Ly5JY6hHpjbs"
   },
   "source": [
    "## Condicionales: Condiciones múltiples\n",
    "Usando `if` especificamos hasta ahora una sola condición. Si no se cumple la condición, seguimos con `elif` y `else`. Incluso hemos visto ejemplos incluyendo una función `if` ... `elif` .... `else` dentro de otra función `if`.\n",
    "\n",
    "Si nos fijamos en la imagen de abajo, los números en blanco pueden ser agrupados de distintas maneras. Nota como los tres círculos turquesas no se solapan entre sí, mientras cada uno de los grises envuelve dos círculos turquesas. Si solo nos interesa la situación en que hay menos que 50 peras, es decir el valor de la variable `peras` cumple la condición `< 50`, podríamos especificar tanto `peras < 50` o bien `peras >= 50` seguido por un `else`. "
   ]
  },
  {
   "cell_type": "markdown",
   "metadata": {
    "id": "t1RxEeLgiB8Y"
   },
   "source": [
    "![subsets1.png](data:image/png;base64,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)"
   ]
  },
  {
   "cell_type": "code",
   "execution_count": 46,
   "metadata": {
    "colab": {
     "base_uri": "https://localhost:8080/"
    },
    "executionInfo": {
     "elapsed": 224,
     "status": "ok",
     "timestamp": 1639485300704,
     "user": {
      "displayName": "Anne Krus",
      "photoUrl": "https://lh3.googleusercontent.com/a-/AOh14GjbqsQGGv_WqtIcVrkmdaggg-avHI_hm9wkTTxk=s64",
      "userId": "08074981739476979686"
     },
     "user_tz": -60
    },
    "id": "W0AFzrZL14sT",
    "outputId": "e28da208-e04c-4bb2-b0b0-6a149a89b6d8"
   },
   "outputs": [
    {
     "name": "stdout",
     "output_type": "stream",
     "text": [
      "Tenemos muchas peras, ¿no te apetece comerte una?\n"
     ]
    }
   ],
   "source": [
    "# recordemos también el código que habíamos creado un poco más arriba incluyemdo if ... elif ... else. Recordad, siempre es importante leer el código con detenimiento\n",
    "if numero_peras > 50: \n",
    "    print('Tenemos demasiadas peras, dónalas al banco de alimentos.')\n",
    "\n",
    "elif numero_peras > 4: \n",
    "    print('Tenemos muchas peras, ¿no te apetece comerte una?')\n",
    "\n",
    "elif numero_peras > 0: \n",
    "    print(\"Añadiendo elemento a la lista de la compra\")\n",
    "    lista_compra.append(\"peras\")\n",
    "    \n",
    "else:\n",
    "    print('No tenemos peras.')"
   ]
  },
  {
   "cell_type": "markdown",
   "metadata": {},
   "source": [
    "En este apartado de la lección estamos aprendiendo condiciones múltiples, es decir, dentro de un `if` o `elif` podemos incluir varias condiciones. Veamos un ejemplo: "
   ]
  },
  {
   "cell_type": "code",
   "execution_count": 47,
   "metadata": {},
   "outputs": [
    {
     "data": {
      "text/plain": [
       "11"
      ]
     },
     "execution_count": 47,
     "metadata": {},
     "output_type": "execute_result"
    }
   ],
   "source": [
    "# recordemos la variable número de peras\n",
    "\n",
    "numero_peras"
   ]
  },
  {
   "cell_type": "markdown",
   "metadata": {},
   "source": [
    "Vamos a intentar reducir el código anterior a un menor número de líneas. Para esto tendremos que usar operadores como `and` u `or` que aprendimos en lecciones anteriores. "
   ]
  },
  {
   "cell_type": "code",
   "execution_count": 48,
   "metadata": {},
   "outputs": [
    {
     "name": "stdout",
     "output_type": "stream",
     "text": [
      "Tenemos demasiadas peras, dónalas al banco de alimentos.\n"
     ]
    }
   ],
   "source": [
    "if numero_peras > 4 and numero_peras < 50:  \n",
    "    print('Tenemos demasiadas peras, dónalas al banco de alimentos.')\n",
    "\n",
    "elif 4 < numero_peras and numero_peras > 0: \n",
    "    print('Añadiendo elemento a la lista de la compra')"
   ]
  },
  {
   "cell_type": "markdown",
   "metadata": {
    "id": "giLt4L_B6lME"
   },
   "source": [
    "Mucho más corto, ¿verdad? De este ejemplo podemos sacar varias conclusiones:\n",
    "\n",
    "-  Se pueden especificar rangos de valores para una variable en una sola línea. Para ello recuerda que tenemos `<`, `<=`, `>=`, y `>`.\n",
    "  \n",
    "-  Podemos usar los operadores `or` y `and` para establecer varias condiciones.\n",
    "  \n",
    "-  El `else` es opcional.\n"
   ]
  },
  {
   "cell_type": "markdown",
   "metadata": {
    "id": "PT5hBOjl_vSl"
   },
   "source": [
    "Hasta ahora, todas las condiciones que evaluamos eran valores de la misma variable. Vamos a añadir otra variable, de tipo bool: `nevera_en_marcha`. En este caso estableceremos las siguentes condiciones: \n",
    "\n",
    "- 1️⃣ Si la nevera está en marcha\n",
    "  \n",
    "  - 1️⃣.1️⃣ Y el número de peras está ente 0 y 4 añadiremos las peras a nuestra lista de la compra\n",
    "  \n",
    "  - 1️⃣.2️⃣ Y el numero de peras está entre 4 y 50 printearemos un mensaje de sugerencia para comer peras\n",
    "  \n",
    "- 2️⃣ En caso de que la nevera esté apagada printearemos un mensaje diciendo que la nevera está rota. "
   ]
  },
  {
   "cell_type": "code",
   "execution_count": 49,
   "metadata": {},
   "outputs": [],
   "source": [
    "# establecemos que la nevera está en marcha\n",
    "\n",
    "nevera_en_marcha = True"
   ]
  },
  {
   "cell_type": "code",
   "execution_count": 42,
   "metadata": {},
   "outputs": [
    {
     "data": {
      "text/plain": [
       "11"
      ]
     },
     "execution_count": 42,
     "metadata": {},
     "output_type": "execute_result"
    }
   ],
   "source": [
    "# recordemos el número de peras\n",
    "\n",
    "numero_peras"
   ]
  },
  {
   "cell_type": "code",
   "execution_count": 50,
   "metadata": {
    "colab": {
     "base_uri": "https://localhost:8080/"
    },
    "executionInfo": {
     "elapsed": 216,
     "status": "ok",
     "timestamp": 1639487109192,
     "user": {
      "displayName": "Anne Krus",
      "photoUrl": "https://lh3.googleusercontent.com/a-/AOh14GjbqsQGGv_WqtIcVrkmdaggg-avHI_hm9wkTTxk=s64",
      "userId": "08074981739476979686"
     },
     "user_tz": -60
    },
    "id": "JLzDG4KcAr7m",
    "outputId": "f659b5ea-a628-4acc-cc98-4ecf268f7841"
   },
   "outputs": [
    {
     "name": "stdout",
     "output_type": "stream",
     "text": [
      "Tenemos muchas peras, ¿no te apetece comerte una?\n"
     ]
    }
   ],
   "source": [
    "# chequeamos el valor de la nevera. En caso de que esté encendida\n",
    "\n",
    "if nevera_en_marcha: # esto es lo mismo que poner if nevera == True\n",
    "\n",
    "  # en caso de que este encendida y el número de peras este entre 0 y 4\n",
    "  if 0 < numero_peras < 4:\n",
    "    print('Añadimos peras a la lista')\n",
    "    lista_compra.append(\"peras\")\n",
    "\n",
    "  # en caso de que el número de peras este entre 4 y 50 sugerimos comer peras\n",
    "  elif 4 < numero_peras < 50:\n",
    "    print('Tenemos muchas peras, ¿no te apetece comerte una?')\n",
    "\n",
    "# en caso de que la nevera esté apagada, es decir que el valor de nevera_en_marcha == False\n",
    "else:\n",
    "      \n",
    "  # sacaremos por pantalla el mensaje de que la nevera esta rota\n",
    "  print('La nevera está rota.')"
   ]
  },
  {
   "cell_type": "markdown",
   "metadata": {},
   "source": [
    "En este caso:\n",
    "\n",
    "- Se cumple la primera condición, es decir, la variable `nevera_en_marcha == True`. \n",
    "\n",
    "- Dentro de esta condición tenemos otras dos condiciones:\n",
    "  -  Que el número de peras este entre 0 - 4, el `if` dentro del primer `if`.\n",
    "  -  Que el número de peras este entre 4 - 50, el `else` dentro del primer `if`. \n",
    "\n",
    "    En este caso se cumple la segunda condición, por lo tanto, el programa nos devolverá el mensaje de que tenemos muchas peras. "
   ]
  },
  {
   "cell_type": "code",
   "execution_count": 51,
   "metadata": {},
   "outputs": [],
   "source": [
    "# pongamos ahora un ejemplo de nevera vacía\n",
    "\n",
    "nevera_en_marcha2 = False"
   ]
  },
  {
   "cell_type": "code",
   "execution_count": 52,
   "metadata": {},
   "outputs": [
    {
     "name": "stdout",
     "output_type": "stream",
     "text": [
      "La nevera está rota.\n"
     ]
    }
   ],
   "source": [
    "# volvemos a ejecutar el código de antes, pero en este caso para la variable nevera_en_marcha2\n",
    "\n",
    "if nevera_en_marcha2: \n",
    "\n",
    "  if 0 < numero_peras < 4:\n",
    "    print('Añadimos peras a la lista')\n",
    "    lista_compra.append(\"peras\")\n",
    "\n",
    "  elif 4 < numero_peras < 50:\n",
    "    print('Tenemos muchas peras, ¿no te apetece comerte una?')\n",
    "\n",
    "else:\n",
    "      \n",
    "  print('La nevera está rota.')"
   ]
  },
  {
   "cell_type": "markdown",
   "metadata": {},
   "source": [
    "En este caso, como el valor de **nevera_en_marcha2** es igual a False, el primer `if` no se cumplirá por lo que el programa pasará automaticamente al primer `else` y se nos printeará el mensaje de que la nevera esta rota. "
   ]
  },
  {
   "cell_type": "markdown",
   "metadata": {
    "id": "16Hj1c9eBd6u"
   },
   "source": [
    "En este ejemplo también podríamos usar `elif`. ¿Cómo sería el código? \n"
   ]
  },
  {
   "cell_type": "code",
   "execution_count": 53,
   "metadata": {
    "cellView": "form",
    "id": "KsD7hrj3EnYO"
   },
   "outputs": [
    {
     "name": "stdout",
     "output_type": "stream",
     "text": [
      "Tenemos muchas peras, ¿no te apetece comerte una?\n"
     ]
    }
   ],
   "source": [
    "# primero establecemos el mensaje que queremos printear si la nevera esta rota, es decir nevera_en_marcha == False\n",
    "if nevera_en_marcha == False:\n",
    "    print('La nevera está rota.')\n",
    "\n",
    "# después vamos a ir definiendo cada una de las condiciones en caso de que la nevera funcione, es decir, nevera_en_marcha == True\n",
    "elif 0 < numero_peras < 4:\n",
    "    print('De momento no tenemos tantas peras.')\n",
    "elif 4 < numero_peras < 50:\n",
    "    print('Tenemos muchas peras, ¿no te apetece comerte una?')\n",
    "else:\n",
    "    print('Sabemos que la nevera funciona, y que el valor de peras_en nevera es menor que 0 o más que 50.')"
   ]
  },
  {
   "cell_type": "markdown",
   "metadata": {
    "id": "vHvvKitkHOle"
   },
   "source": [
    "📌 Notad como el orden de las condiciones es importante! Y como antes de ponernos a definir nuestras condiciones debemos pensar en que orden queremos ejecutarlas. De nuevo chicas, siempre es recomendable si tenemos dudas escribir en un papel lo que queremos y luego \"traducirlo\" a Python. \n",
    "\n",
    "En este caso, mirando las variables `nevera_en_marcha` y `numero_peras` pudimos solucionarlo con `elif` también. ¿Por qué es mejor la situación con dos funciones `if`? Porque en el momento en que se nos rompe la nevera, no tenemos garantizar que ejecutar todas las variables que tengan que ver con el contenido: el valor de `numero_peras` es **independiente** del valor de `nevera_en_marcha`."
   ]
  },
  {
   "cell_type": "markdown",
   "metadata": {
    "id": "ZdPFzzyRL6ZJ"
   },
   "source": [
    "Veamos un último ejemplo: todos los viernes nos comemos un helado. Si mi congelador está roto, salgo a la heladería para cumplir con nuestro ritual. Cuando es viernes, mi *primera opción* obviamente será buscar los helados en mi propio congelador. \n",
    "\n",
    "\n",
    "\n",
    "```python\n",
    "\n",
    "# definimos nuestra primera condición, que sea viernes o no\n",
    "if hoy_es_viernes:\n",
    "    if congelador_en_marcha:\n",
    "        print('Coge un helado, ¡te lo mereces!')\n",
    "    else:\n",
    "        print('Sal a la heladería, ¡te lo mereces!')\n",
    "\n",
    "\n",
    "# definimos nuestra segunda condición, que el congelador funcione o no\n",
    "if congelador_en_marcha:\n",
    "    if hoy_es_viernes:\n",
    "        print('Coge un helado, ¡te lo mereces!')\n",
    "else:\n",
    "    if hoy_es_viernes:\n",
    "        print('Sal a la heladería, ¡te lo mereces!')\n",
    "```\n",
    "\n"
   ]
  },
  {
   "cell_type": "markdown",
   "metadata": {
    "id": "4qrKdW8lFIjY"
   },
   "source": [
    "Pero este código de arriba puede resultar algo redundante, ya que estamos aprendiendo que podemos definir múltiples condiciones en un `if` o un `elif` usando operadores del tipo `and` u `or`. Y este ejemplo que tenemos ahora es un buen ejemplo! Veamos como lo podemos simplificar: "
   ]
  },
  {
   "cell_type": "code",
   "execution_count": 54,
   "metadata": {},
   "outputs": [],
   "source": [
    "# como siempre, definimos nuestras variables\n",
    "\n",
    "hoy_es_viernes = True\n",
    "congelador_en_marcha = False\n"
   ]
  },
  {
   "cell_type": "code",
   "execution_count": 55,
   "metadata": {
    "colab": {
     "base_uri": "https://localhost:8080/"
    },
    "executionInfo": {
     "elapsed": 222,
     "status": "ok",
     "timestamp": 1639581959409,
     "user": {
      "displayName": "Anne Krus",
      "photoUrl": "https://lh3.googleusercontent.com/a-/AOh14GjbqsQGGv_WqtIcVrkmdaggg-avHI_hm9wkTTxk=s64",
      "userId": "08074981739476979686"
     },
     "user_tz": -60
    },
    "id": "ZfdbMnSFOfV8",
    "outputId": "9e5d40d3-3bc8-473b-f76f-3f8ccae5ce8f"
   },
   "outputs": [
    {
     "name": "stdout",
     "output_type": "stream",
     "text": [
      "Sal a la heladería, ¡te lo mereces!\n"
     ]
    }
   ],
   "source": [
    "# es el momento de definir todas nuestras condiciones\n",
    "\n",
    "# si es viernes (hoy_es_viernes == True) Y el congelador funciona (congelador_en_marcha == True), nos merecemos un helado! \n",
    "if hoy_es_viernes and congelador_en_marcha:\n",
    "        print('Coge un helado, ¡te lo mereces!')\n",
    "\n",
    "# en caso de que sea viernes (hoy_es_viernes == True), Y el congelador no funcione ( not congelador en marcha o congelador_en_marcha == False) sal y comprate un helado\n",
    "elif hoy_es_viernes and not congelador_en_marcha:\n",
    "        print('Sal a la heladería, ¡te lo mereces!')\n",
    "\n",
    "else:\n",
    "        print(\"Todavía no toca helado, pero ya queda menos!\")\n"
   ]
  },
  {
   "cell_type": "code",
   "execution_count": 56,
   "metadata": {},
   "outputs": [],
   "source": [
    "# ¿qué pasaría si no fuera viernes?\n",
    "\n",
    "hoy_es_viernes2 = False\n",
    "congelador_en_marcha2 = False"
   ]
  },
  {
   "cell_type": "code",
   "execution_count": 57,
   "metadata": {},
   "outputs": [
    {
     "name": "stdout",
     "output_type": "stream",
     "text": [
      "Todavía no toca helado, pero ya queda menos!\n"
     ]
    }
   ],
   "source": [
    "\n",
    "if hoy_es_viernes2 and congelador_en_marcha2:\n",
    "        print('Coge un helado, ¡te lo mereces!')\n",
    "\n",
    "elif hoy_es_viernes2 and not congelador_en_marcha2:\n",
    "        print('Sal a la heladería, ¡te lo mereces!')\n",
    "else:\n",
    "        print(\"Todavía no toca helado, pero ya queda menos!\")\n"
   ]
  },
  {
   "cell_type": "markdown",
   "metadata": {},
   "source": [
    "Pero... nos podríamos preguntar que diferencia hay entre el `and` y el `or` \n",
    "\n",
    "- El `and` lo usaremos cuando queramos que se cumplan **TODAS** las condiciones que especificamos\n",
    "\n",
    "- El `or` lo usaremos cuando queramos que se cumplan **ALGUNA** de las condiciones que especifiquemos\n",
    "\n",
    "En los ejemplos que hemos visto hasta ahora estamos usando el `and`, pero veamos que pasaría si usaramos el `or` "
   ]
  },
  {
   "cell_type": "code",
   "execution_count": 58,
   "metadata": {},
   "outputs": [
    {
     "name": "stdout",
     "output_type": "stream",
     "text": [
      "Coge un helado, ¡te lo mereces!\n"
     ]
    }
   ],
   "source": [
    "# en este caso chequearemos si es viernes O el congelador está en marcha\n",
    "if hoy_es_viernes or congelador_en_marcha:\n",
    "        print('Coge un helado, ¡te lo mereces!')\n",
    "\n",
    "# en esta condición chequearemos si es viernes O si el congelador no funciona\n",
    "elif hoy_es_viernes or not congelador_en_marcha:\n",
    "        print('Sal a la heladería, ¡te lo mereces!')\n",
    "\n",
    "else:\n",
    "        print(\"Todavía no toca helado, pero ya queda menos!\")"
   ]
  },
  {
   "cell_type": "code",
   "execution_count": 59,
   "metadata": {},
   "outputs": [
    {
     "name": "stdout",
     "output_type": "stream",
     "text": [
      "Es viernes? --->  True\n",
      "¿Está el congelador en marcha? --->  False\n"
     ]
    }
   ],
   "source": [
    "print(\"Es viernes? ---> \", hoy_es_viernes)\n",
    "print(\"¿Está el congelador en marcha? ---> \", congelador_en_marcha)"
   ]
  },
  {
   "cell_type": "markdown",
   "metadata": {},
   "source": [
    "En este ejemplo,  **¿Qué es lo que está pasando?**\n",
    "\n",
    "Python va a empezar a leer el programa y seguirá los siguientes pasos: \n",
    "\n",
    "- El `if`: \n",
    "  - Es la variable `hoy_es_viernes == True` **O** la variable `congelador_en_marcha == True`. En caso de que se cumpla alguna de las condiciones el programa se parará y nos devolverá el mensaje de `Coge un helado`. Este es nuestro caso ya que aunque el congelador este apagado, es viernes! como esta primera condición se cumple, el programa se para y no sigue ejecutando las siguientes líneas de código. \n",
    "\n",
    "- En el `elif`: \n",
    "  - Es la variable `hoy_es_viernes == True` **O** la variable `congelador_en_marcha == False`\n",
    "\n",
    "- En el `else`:\n",
    "  - En caso de que no se cumplan ninguna de las condiciones anteriores, se ejecutará la línea de código que está dentro.\n",
    "\n",
    "\n",
    "Llegados a este punto, os animamos a que vayais cambiando los valores de las variables `hoy_es_viernes` y `congelador_en_marcha` para ver como van cambiando los resultados. "
   ]
  },
  {
   "cell_type": "markdown",
   "metadata": {
    "id": "KRWoPXuwKKXw"
   },
   "source": [
    "**Repaso**:\n",
    "- Una representación gráfica nos puede ayudar a identificar todos los casos que nos interesan antes de programarlos. \n",
    "  \n",
    "- Los rangos se especifican como `máximo > variable > mínimo`, o con `<`, `<=`, o `>=`.\n",
    "  \n",
    "- Las `if` y `elif` no tienen que evaluar la misma variable. \n",
    "\n",
    "\n",
    "- Con `and` y `or` podemos unir múltiples condiciones en una sola condición. Aquí los paréntesis `()` pueden ayudar para agrupar las condiciones individuales, como cuando aprendimos matemáticas en el cole cuando eramos niñas.\n",
    "\n",
    "\n",
    "- La palabra `not` evalúa el caso de que una variable sea `False`, es decir 0 o vacío."
   ]
  },
  {
   "cell_type": "markdown",
   "metadata": {
    "id": "Huy_khhOxp9n"
   },
   "source": [
    "\n",
    "\n",
    "---\n",
    "\n",
    "\n",
    "## Ejercicios: Condiciones múltiples\n",
    "\n",
    "- Guarda los siguientes valores en los siguientes variables:\n",
    "\n",
    "  30. Que `dia_recoger_basura` sea un número con el valor `12`.\n",
    "\n",
    "  31. Que `dia_hoy` sea un número con el valor `6`.\n",
    "\n",
    "  32. Que `cubo_lleno` sea un booleano con el valor `True`.\n",
    "\n",
    "  33. Que `aviso` sea un *str* con el valor `'Tienes que vaciar el cubo de basura.'`.\n",
    "\n",
    "- Evalua las siguientes condiciones:\n",
    "\n",
    "  34. En el caso que `dia_hoy` sea igual a `(dia_recoger_basura - 1)` quiero ser avisado si `cubo_lleno` es `True`. Usa un solo `if`. Imprime `aviso`. En los demás casos no quiero que me avise. \n",
    "\n",
    "  235. En el caso que queden 5 *o menos* días hasta que vengan a recoger la basura, y el cubo no este vacío, avísame con el aviso predeterminado. \n",
    "\n",
    "- Bonus\n",
    "\n",
    "  36. El día en que vengan a recoger la basura, vienen muy temprano, y entonces no es posible ir a vaciar el cubo el mismo día. El día después de que hayan venido tampoco me interesan. Cambia el código de la 29. para que sea un rango. Ojo que la diferencia entre las fechas puede ser negativa. Amplia el aviso predeterminado con `Quedan X días hasta la recogida.` con la cantidad de días en el sitio marcado con X. \n",
    "\n",
    "---\n",
    "\n"
   ]
  },
  {
   "cell_type": "code",
   "execution_count": 75,
   "metadata": {
    "id": "GNLOe0hGKHzw"
   },
   "outputs": [],
   "source": [
    "dia_recoger_basura = 12\n",
    "dia_hoy = 6\n",
    "cubo_lleno = True\n",
    "aviso = 'Tienes que vaciar el cubo de basura'"
   ]
  },
  {
   "cell_type": "code",
   "execution_count": 71,
   "metadata": {},
   "outputs": [],
   "source": [
    "# 34. En el caso que `dia_hoy` sea igual a `(dia_recoger_basura - 1)` quiero ser avisado si `cubo_lleno` es `True`. Usa un solo `if`. \n",
    "# Imprime `aviso`. En los demás casos no quiero que me avise. \n",
    "\n",
    "if dia_hoy == (dia_recoger_basura - 1) and cubo_lleno:\n",
    "    print (aviso)\n",
    "\n",
    "# 35. En el caso que queden 5 *o menos* días hasta que vengan a recoger la basura, y el cubo no este vacío, avísame con el aviso predeterminado. \n",
    "if dia_recoger_basura - dia_hoy <= 5 and not cubo_lleno:\n",
    "    print (aviso)"
   ]
  },
  {
   "cell_type": "markdown",
   "metadata": {
    "id": "9fM850rTKHzw"
   },
   "source": [
    "\n",
    "\n",
    "---\n",
    "\n"
   ]
  },
  {
   "cell_type": "code",
   "execution_count": 76,
   "metadata": {},
   "outputs": [],
   "source": [
    "# 36. El día en que vengan a recoger la basura, vienen muy temprano, y entonces no es posible ir a vaciar el cubo el mismo día.\n",
    "# El día después de que hayan venido tampoco me interesan. Cambia el código de la 34 para que sea un rango. Ojo que la diferencia entre las fechas puede ser negativa. \n",
    "# Amplia el aviso predeterminado con `Quedan X días hasta la recogida.` con la cantidad de días en el sitio marcado con X. \n",
    "\n",
    "if dia_hoy == dia_recoger_basura or (dia_recoger_basura + 1) == dia_hoy and cubo_lleno:\n",
    "    print ('Quedan', dia_recoger_basura - dia_hoy, 'dias hasta la recogida')"
   ]
  },
  {
   "cell_type": "markdown",
   "metadata": {
    "id": "ZRDIDpATEb-S"
   },
   "source": [
    "## Repaso: Condicionales if ... elif ... else\n",
    "\n",
    "- La sintaxis básica de estos condicionales es: \n",
    "\n",
    "    ```python\n",
    "    if condicion1: \n",
    "        pasan cosas # puede ser un print, operaciones aritmétricas, operaciones con listas, diccionarios, etc. \n",
    "\n",
    "    elif condición2: # si queremos incluir más de una condición. 📌 Podremos poner tantos elif como queramos\n",
    "        pasas cosas\n",
    "\n",
    "    else: # no tendremos que poner condiciones nunca. En el else se incluyen todas las condiciones que no se cumplan en los pasos anteriores\n",
    "        pasan cosas \n",
    "\n",
    "\n",
    "    # 🚨 todas las acciones después de los if, elif, else deben ir indentadas hacia la derecha\n",
    "\n",
    "    ```\n",
    "\n",
    "\n",
    "- Una condición es una comparación que da como resultado un `True` o un `False`. Si la comparación sólo menciona una variable, sin operador, se entiende como `== True`. De la misma manera `not` más una variable se entiende como que la variable `== False`.\n",
    "\n",
    "- Las condiciones son evaluadas de arriba hacia abajo. \n",
    "\n",
    "- En el momento que una condición se cumple el programa de para y no evalúa el resto de las condiciones.  Por lo tanto, el orden en el que establezcamos nuestras condiciones es importante!!\n",
    "\n",
    "   Para establecer las comparaciones podemos usar los operadores `>`, `<`, `==`, `!=` o las palabras `in` o `not in`. \n",
    "\n",
    "- Podemos incluir varias condiciones en una línea usando las palabras `and` y/u `or`. \n",
    "  - Con el `and` se tienen que cumplir **TODAS** las condiciones se tienen que cumplir\n",
    "  \n",
    "  - Con el operador `or` se tiene que cumplir **ALGUNA** de las condiciones. "
   ]
  },
  {
   "cell_type": "markdown",
   "metadata": {
    "id": "MOiUYveOA5bt"
   },
   "source": [
    "## Ejercicio Sentencias booleanas\n",
    "37. En la imagen de abajo ves 6 burbujas: dos grises, tres turquesas, y una turquesa oscura. Escribe un código usando `if`, `elif` y `else` para definir cada una de las burbujas `A`-`F`. Si la cantidad de peras pertenece a la burbuja `B` o `F` imprime `El amarillo es mi color favorito.`. Si pertenece a `A` pero *no* a `F` imprime `El verde es mi color favorito.`. Los valores de la variable `peras` en la burbuja `E` deben devolver la frase `El rojo es mi color favorito.`. Ordena los casos como quieras, no tienen porqué ser definidos de forma alfabética. Imprime además de las frases de los colores favoritos también `Caso A`, `Caso B`, etc., para comprobar que el código está en la burbuja correcta. Comprueba tu código con los valores que ves en la imagen."
   ]
  },
  {
   "cell_type": "markdown",
   "metadata": {
    "id": "g2I9SDMyh3Cw"
   },
   "source": [
    "![subsets2.png](data:image/png;base64,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)"
   ]
  },
  {
   "cell_type": "code",
   "execution_count": 77,
   "metadata": {
    "id": "2-CI1ZNhBKOH"
   },
   "outputs": [
    {
     "name": "stdout",
     "output_type": "stream",
     "text": [
      "El amarillo es mi color favorito\n"
     ]
    }
   ],
   "source": [
    "# Escribe un código usando `if`, `elif` y `else` para definir cada una de las burbujas `A`-`F`. \n",
    "#       Si la cantidad de peras pertenece a la burbuja `B` o `F` imprime `El amarillo es mi color favorito.`. \n",
    "#       Si pertenece a `A` pero *no* a `F` imprime `El verde es mi color favorito.`. \n",
    "#   Los valores de la variable `peras` en la burbuja `E` deben devolver la frase `El rojo es mi color favorito.`. \n",
    "# Ordena los casos como quieras, no tienen porqué ser definidos de forma alfabética. \n",
    "# Imprime además de las frases de los colores favoritos también `Caso A`, `Caso B`, etc., para comprobar que el código está en la burbuja correcta. \n",
    "# Comprueba tu código con los valores que ves en la imagen.\n",
    " \n",
    "peras = 6\n",
    "\n",
    "if peras <= 50:\n",
    "    print ('El amarillo es mi color favorito')\n",
    "elif peras < 50 and not peras <= 0:\n",
    "    print ('El verde es mi color favorito')\n",
    "elif peras >= 50:\n",
    "    print ('El rojo es mi color favorito')"
   ]
  },
  {
   "cell_type": "markdown",
   "metadata": {},
   "source": [
    "## Loops:  while\n",
    "\n",
    "En Python, los bucles `while` se utilizan para iterar hasta que se cumpla una determinada condición. Básicamente, el bucle se ejecuta tantas veces como la condición siga siendo True. Cuando la condición se convierte en False, el bucle se detiene.\n",
    "\n",
    "NORMALMENTE USAMOS UN `while` cuando no sabemos cuántas veces vamos a tener que ejecutar el bucle."
   ]
  },
  {
   "cell_type": "markdown",
   "metadata": {},
   "source": [
    "Sigamos con el ejemplo de las peras que hemos ido usando en este jupyter. Hasta ahora teníamos una variable donde teníamos el número de peras que teníamos en la nevera. Pero seamos sinceras, eso no era del todo real. Lo ideal sería que cada vez que nos comieramos una pera, restaramos esa pera a la cantidad que teníamos. Y que me quedaban menos de dos peras nos lo añadiera a la lista de la compra. \n",
    "\n",
    "Veamos como podríamos hacerlo con código de Python: "
   ]
  },
  {
   "cell_type": "code",
   "execution_count": 78,
   "metadata": {},
   "outputs": [],
   "source": [
    "# los primero que vamos a hacer es definir una variable, que será nuestro límite de peras en la nevera. Cuando llegue a ese valor querremos añadirlo a la lista de la compra. \n",
    "\n",
    "limite_peras = 2"
   ]
  },
  {
   "cell_type": "code",
   "execution_count": 79,
   "metadata": {},
   "outputs": [
    {
     "data": {
      "text/plain": [
       "11"
      ]
     },
     "execution_count": 79,
     "metadata": {},
     "output_type": "execute_result"
    }
   ],
   "source": [
    "# por otro lado recordemos el número de peras que teníamos en la nevera\n",
    "\n",
    "numero_peras"
   ]
  },
  {
   "cell_type": "code",
   "execution_count": 80,
   "metadata": {},
   "outputs": [
    {
     "name": "stdout",
     "output_type": "stream",
     "text": [
      "el número de peras que tenemos en la nevera es 11\n",
      "el número de peras que tenemos en la nevera es 10\n",
      "el número de peras que tenemos en la nevera es 9\n",
      "el número de peras que tenemos en la nevera es 8\n",
      "el número de peras que tenemos en la nevera es 7\n",
      "el número de peras que tenemos en la nevera es 6\n",
      "el número de peras que tenemos en la nevera es 5\n",
      "el número de peras que tenemos en la nevera es 4\n",
      "el número de peras que tenemos en la nevera es 3\n"
     ]
    }
   ],
   "source": [
    "# lo que estamos haciendo aquí es establecer la condición usando el while, donde decimos que siempre que el número de peras sea mayor que el límite, seguiremos comiendo peras\n",
    "# este código parará cuando el número de peras sea igual o menor a el límite de peras que indicamos con nuestra variable limite_peras.\n",
    "while numero_peras > limite_peras:\n",
    "  print(f'el número de peras que tenemos en la nevera es {numero_peras}')\n",
    "\n",
    "  # cada vez que me como una pera la quito de la cantidad de peras que tenemos en la nevera\n",
    "  numero_peras -= 1    # recordemos que sinónimo de i = i + 1"
   ]
  },
  {
   "cell_type": "markdown",
   "metadata": {},
   "source": [
    "**¿Qué es lo que está pasando?** \n",
    "\n",
    "- Empezamos el bucle `while` y se va a evaluar si el `numero_peras` es mayor que el `limite_peras`, es decir, ¿es el numero_peras (11) mayor que limite_peras(2)?\n",
    "\n",
    "  -  En caso de que si, imprimimos el número de peras que tenemos y restamos una pera a la cantidad total. Es decir, después de este primer while y la resta, el número de peras será 10. \n",
    "  \n",
    "  \n",
    "-  Cómo la condición se ha cumplido se sique ejecutando el código. Volvemes a hacer la pregunta ¿es el numero_peras (en este caso 10, por que en el paso anterior ya restamos una) mayor que limite_peras(2)?\n",
    "\n",
    "    -  En caso de que si, imprimimos el número de peras que tenemos y restamos una pera a la cantidad total. Es decir, después de este primer while y la resta, el número de peras será 9.\n",
    "  \n",
    "-  Esto va a ocurrir hasta que la pregunta  ¿es el numero_peras mayor que limite_peras? sea False. En ese caso el bucle `while` se parará y terminará el programa. "
   ]
  },
  {
   "cell_type": "markdown",
   "metadata": {},
   "source": [
    "Veamos otro ejemplo, pero vamos a complicarlo un poquito. En el ejemplo anterior solo hemos visto un `while` sin incluir condiciones dentro. Pero lo podemos hacer! Dentro de un `while` podremos incluir if, elif, else... \n",
    "\n",
    "En este caso vamos a crear un programa que mientras que nuestra condición sea True, le preguntaremos al usuario que seleccione una opción de las que le pasemos. En caso de que el usuario pase una opción no válida, cambiaremos el valor a False y el programa se parará. "
   ]
  },
  {
   "cell_type": "code",
   "execution_count": 81,
   "metadata": {},
   "outputs": [],
   "source": [
    "# definimos una variable con el valor de True. \n",
    "opcion = True\n"
   ]
  },
  {
   "cell_type": "code",
   "execution_count": 82,
   "metadata": {},
   "outputs": [
    {
     "name": "stdout",
     "output_type": "stream",
     "text": [
      "Has seleccionado 'b'!\n",
      "Has seleccionado 'c'!\n",
      "Has seleccionado una opción inválida 😔\n"
     ]
    }
   ],
   "source": [
    "# especificamos que si la variable opcion es True, entonces seguiremos ejecutando el código\n",
    "while opcion == True:\n",
    "\n",
    "    # pedimos al usuario que introduzca una de las opciones que tenemos\n",
    "    selecciona_opcion = input(\"Por favor selecciona una letra de las siguientes: 'a', 'b', or 'c'\")\n",
    "\n",
    "    # empezamos poniendo condicionales if. Si la opción del usuario es \"a\", printeamos un mensaje indicando cuál fue la selección de usuario\n",
    "    if selecciona_opcion == \"a\":\n",
    "        print(\"Has seleccionado 'a'!\")\n",
    "\n",
    "    # hacemos lo mismo para el resto de las opciones que le pasamos al usuario\n",
    "    elif selecciona_opcion == \"b\":\n",
    "        print(\"Has seleccionado 'b'!\")\n",
    "    elif selecciona_opcion == \"c\":\n",
    "        print(\"Has seleccionado 'c'!\")\n",
    "    \n",
    "    # en caso de que el usuario no haya seleccionado ninguna de las opciones que le hemos pasado, entonces cambiaremos el valor de la variable opcion a False\n",
    "    else:\n",
    "        # en caso de que ocurra esta condición, nuestra variable opcion cambiará a False y el bucle while se parará, ya que para que funcione la variable opcion debe ser True\n",
    "        print(\"Has seleccionado una opción inválida 😔\")\n",
    "        opcion =  False"
   ]
  },
  {
   "cell_type": "markdown",
   "metadata": {},
   "source": [
    "Os animamos a que ejecuteis esta celda y probeis vosotras para terminar de interiorizar este ejercicio. "
   ]
  },
  {
   "cell_type": "markdown",
   "metadata": {},
   "source": [
    "**Repaso**\n",
    "- Un bucle `while` se va a repetir hasta que la condicion deje de dar `True`.\n"
   ]
  },
  {
   "cell_type": "markdown",
   "metadata": {},
   "source": [
    "---\n",
    "\n",
    "## Ejercicios `while` \n",
    "\n",
    "- Bucles `while`\n",
    "\n",
    "    38. Inicia `ahorros` con un valor de `5`. Mientras los ahorros sean igual a o más pequeño que `20` imprime la cantidad de ahorros, y añádele `5` más.\n",
    "   \n",
    "    39. Si cambias el orden de imprimir y añadir `5`, ¿qué resultado te esperas? Compruébalo.\n",
    "\n",
    "---"
   ]
  },
  {
   "cell_type": "code",
   "execution_count": 88,
   "metadata": {},
   "outputs": [],
   "source": [
    "ahorros = 5"
   ]
  },
  {
   "cell_type": "code",
   "execution_count": 87,
   "metadata": {},
   "outputs": [
    {
     "name": "stdout",
     "output_type": "stream",
     "text": [
      "5\n",
      "10\n",
      "15\n",
      "20\n"
     ]
    }
   ],
   "source": [
    "while ahorros <= 20:\n",
    "    print (ahorros)\n",
    "    ahorros += 5"
   ]
  },
  {
   "cell_type": "code",
   "execution_count": 89,
   "metadata": {},
   "outputs": [
    {
     "name": "stdout",
     "output_type": "stream",
     "text": [
      "10\n",
      "15\n",
      "20\n",
      "25\n"
     ]
    }
   ],
   "source": [
    "while ahorros <= 20:\n",
    "        ahorros += 5\n",
    "        print (ahorros)"
   ]
  },
  {
   "cell_type": "markdown",
   "metadata": {},
   "source": [
    "---"
   ]
  }
 ],
 "metadata": {
  "colab": {
   "collapsed_sections": [],
   "name": "02-boolean-statements.ipynb",
   "provenance": [
    {
     "file_id": "1lHGdy-osjs1puGjGpU1iU_FN0RFd80om",
     "timestamp": 1639470758251
    }
   ]
  },
  "kernelspec": {
   "display_name": "Python 3.9.13 ('base')",
   "language": "python",
   "name": "python3"
  },
  "language_info": {
   "codemirror_mode": {
    "name": "ipython",
    "version": 3
   },
   "file_extension": ".py",
   "mimetype": "text/x-python",
   "name": "python",
   "nbconvert_exporter": "python",
   "pygments_lexer": "ipython3",
   "version": "3.9.13"
  },
  "toc": {
   "base_numbering": 1,
   "nav_menu": {},
   "number_sections": true,
   "sideBar": true,
   "skip_h1_title": false,
   "title_cell": "Table of Contents",
   "title_sidebar": "Contents",
   "toc_cell": true,
   "toc_position": {},
   "toc_section_display": true,
   "toc_window_display": true
  },
  "vscode": {
   "interpreter": {
    "hash": "85c042135e83639dad74b6ec6c9d943b5dc47ca281624d931a3e14168052f53c"
   }
  }
 },
 "nbformat": 4,
 "nbformat_minor": 1
}

{
 "cells": [
  {
   "cell_type": "code",
   "execution_count": 1,
   "metadata": {},
   "outputs": [],
   "source": [
    "import os"
   ]
  },
  {
   "cell_type": "markdown",
   "metadata": {},
   "source": [
    "## Ficheros\n",
    "\n",
    "El objetivo de este ejercicio es crear una clase que nos permita crear y añadir contenido a un fichero. Para eso: \n",
    "\n",
    "- Nos crearemos un método para crear un nuevo fichero\n",
    "\n",
    "- Nos crearemos un método que nos ayude a escribir contenido a un fichero. "
   ]
  },
  {
   "cell_type": "code",
   "execution_count": 2,
   "metadata": {},
   "outputs": [
    {
     "data": {
      "text/plain": [
       "'/mnt/c/Users/agarc/Documents/Adalab/Promo-C/materiales-da-promo-c/modulo-1/modulo-1-python-basico/assets/repasos/repaso_python_3/notebooks'"
      ]
     },
     "execution_count": 2,
     "metadata": {},
     "output_type": "execute_result"
    }
   ],
   "source": [
    "directorio_actual = os.getcwd()\n",
    "directorio_actual"
   ]
  },
  {
   "cell_type": "code",
   "execution_count": 4,
   "metadata": {},
   "outputs": [],
   "source": [
    "#os.chdir(\"../data\")\n"
   ]
  },
  {
   "cell_type": "code",
   "execution_count": 5,
   "metadata": {},
   "outputs": [
    {
     "data": {
      "text/plain": [
       "'/mnt/c/Users/agarc/Documents/Adalab/Promo-C/materiales-da-promo-c/modulo-1/modulo-1-python-basico/assets/repasos/repaso_python_3/notebooks'"
      ]
     },
     "execution_count": 5,
     "metadata": {},
     "output_type": "execute_result"
    }
   ],
   "source": [
    "directorio_nuevo = os.getcwd()\n",
    "directorio_nuevo"
   ]
  },
  {
   "cell_type": "code",
   "execution_count": 6,
   "metadata": {},
   "outputs": [
    {
     "ename": "SyntaxError",
     "evalue": "invalid syntax (<ipython-input-6-60d7bea6eddc>, line 13)",
     "output_type": "error",
     "traceback": [
      "\u001b[0;36m  File \u001b[0;32m\"<ipython-input-6-60d7bea6eddc>\"\u001b[0;36m, line \u001b[0;32m13\u001b[0m\n\u001b[0;31m    mi codigo\u001b[0m\n\u001b[0m            ^\u001b[0m\n\u001b[0;31mSyntaxError\u001b[0m\u001b[0;31m:\u001b[0m invalid syntax\n"
     ]
    }
   ],
   "source": [
    "def mi_funcioncita(letra, diccionario_palabras):\n",
    "    '''\n",
    "    Esta funcion hace LO QUE FUNCION HACE\n",
    "\n",
    "    Args: \n",
    "        letra (str): la letra sobre la que uqeremos chequear los valores\n",
    "        diccionario_palabras (dict): el diccionario bla bla\n",
    "    Returns: \n",
    "        me devuelve una lista de palabras\n",
    "\n",
    "    '''\n",
    "\n",
    "    mi codigo"
   ]
  },
  {
   "cell_type": "code",
   "execution_count": 7,
   "metadata": {},
   "outputs": [],
   "source": [
    "class Ficheros: \n",
    "    def __init__(self,nombre_archivo, fichero):\n",
    "\n",
    "        self.nombre_archivo = nombre_archivo\n",
    "        self.fichero = fichero\n",
    "\n",
    "\n",
    "    def crear_fichero(self): \n",
    "        diccionario_extensiones = {\"1\": \".csv\", \"2\": \".xml\", \"3\": \".txt\", \"4\": \".xls\"}\n",
    "\n",
    "        directorio_actual = os.getcwd()\n",
    "        print(f\"Tu directorio de trabajo actual es {directorio_actual}\")\n",
    "        respuesta_ubicacion = input(\"Deseas crear el fichero en esta ubicacion? S/N\")\n",
    "\n",
    "        if respuesta_ubicacion == \"N\":\n",
    "            nueva_ubicacion = input(\"Especifica la ruta donde quieres crear el fichero\")\n",
    "            os.chdir(nueva_ubicacion)\n",
    "\n",
    "            directorio_actual = os.getcwd()\n",
    "            \n",
    "        else:\n",
    "            pass\n",
    "\n",
    "        try: \n",
    "            with open(f\"{self.nombre_archivo}.txt\", \"x\") as f: \n",
    "                pass\n",
    "            print(f\"El archivo {self.nombre_archivo} ha sido creado correctamente \")\n",
    "            print(os.listdir())\n",
    "        except: \n",
    "            print(\"Este fichero ya existe\")\n",
    "            print(\"¿Quieres crear un fichero nuevo S/N\")\n",
    "            respuesta = input(\"¿Quieres realmente crear un fichero nuevo? Elige S/N\").upper()\n",
    "            print(f\"Tu respuesta ha sido {respuesta}\")\n",
    "\n",
    "            while respuesta not in [\"S\", \"N\"]: \n",
    "                print(\"no no has pasado una opcion valida\")\n",
    "                respuesta = input(\"¿Quieres realmente crear un fichero nuevo? Elige S/N\").upper()\n",
    "\n",
    "\n",
    "            if respuesta == \"S\":\n",
    "                print(\"Elige un nuevo nombre\")\n",
    "                nuevo_nombre = input(\"¿Qué nombre quieres ponerle al fichero?\")\n",
    "                print(\"Elige una extension\")\n",
    "                extension = input(\"¿Y que extension? Elige 1: .csv, 2: .xml, 3: .txt y 4: .xls \")\n",
    "\n",
    "\n",
    "                while extension not in diccionario_extensiones.keys():\n",
    "                    print(\"Vuelve a intentarlo\")\n",
    "                    extension = input(\"¿Y que extension? Elige 1: .csv, 2: .xml, 3: .txt y 4: .xls \")\n",
    "\n",
    "\n",
    "                with open(f\"{nuevo_nombre}{diccionario_extensiones[extension]}\", \"x\") as f:\n",
    "                    pass\n",
    "\n",
    "                print(f\" Se ha creado correctamente el fichero {nuevo_nombre}\")\n",
    "                print(os.listdir())\n",
    "            elif respuesta == \"N\":\n",
    "                print(\"Muchas gracias maja\")\n",
    "\n",
    "\n",
    "\n",
    "    def escribir_ficheros(self): \n",
    "\n",
    "        modo = input(\"Con que modo quieres abrir tu fichero? w/a\")\n",
    "\n",
    "\n",
    "        if modo == \"a\": \n",
    "            with open(self.fichero, mode = \"a\") as f:\n",
    "                f.write(input(\"que quieres escribir\"))\n",
    "                f.close()\n",
    "        \n",
    "        \n",
    "        elif modo == \"w\":\n",
    "            print(\"¿Estas seguro que quieres sobreescribir el contenido del fichero? \")\n",
    "            respuesta_modo = input(\"Elige un modo s/n\").lower()\n",
    "\n",
    "            if respuesta_modo == \"s\":\n",
    "\n",
    "                with open(self.fichero, mode = \"w\") as f:\n",
    "                    f.write(input(\"que quieres escribir\"))\n",
    "                    f.close()\n",
    "\n",
    "            elif respuesta_modo  == \"n\": \n",
    "                otra_opcion = input(\"¿Quieres hacer añadir mejor? s/n\")\n",
    "\n",
    "                if otra_opcion == \"s\":\n",
    "                    with open(self.fichero, mode = \"a\") as f:\n",
    "                        f.write(input(\"que quieres escribir\"))\n",
    "                        f.close()\n",
    "\n",
    "                elif otra_opcion == \"n\":\n",
    "                    pass\n",
    "        "
   ]
  },
  {
   "cell_type": "code",
   "execution_count": 8,
   "metadata": {},
   "outputs": [],
   "source": [
    "mi_clase = Ficheros(\"clase_ficheros4\", \"saludo.txt\")"
   ]
  },
  {
   "cell_type": "code",
   "execution_count": 9,
   "metadata": {},
   "outputs": [],
   "source": [
    "mi_clase.escribir_ficheros()"
   ]
  },
  {
   "cell_type": "code",
   "execution_count": 10,
   "metadata": {},
   "outputs": [
    {
     "name": "stdout",
     "output_type": "stream",
     "text": [
      "Tu directorio de trabajo actual es /mnt/c/Users/agarc/Documents/Adalab/Promo-C/materiales-da-promo-c/modulo-1/modulo-1-python-basico/assets/repasos/repaso_python_3/notebooks\n",
      "El archivo clase_ficheros4 ha sido creado correctamente \n",
      "['clase_ficheros4.txt', 'repaso_python_3.ipynb', 'repaso_python_3_promo_c.ipynb']\n"
     ]
    }
   ],
   "source": [
    "mi_clase.crear_fichero()"
   ]
  },
  {
   "cell_type": "code",
   "execution_count": null,
   "metadata": {},
   "outputs": [],
   "source": [
    "with open(\"clase_ficheros.txt\", mode = \"a\") as f:\n",
    "    f.write(\"hola\")\n",
    "    f.close()\n"
   ]
  },
  {
   "cell_type": "code",
   "execution_count": null,
   "metadata": {},
   "outputs": [],
   "source": [
    "with open(\"clase_ficheros.txt\", mode = \"a\") as f:\n",
    "    f.writelines([\"hola\", \" buenos dias\", \" ficheros\"])\n",
    "    f.close()"
   ]
  },
  {
   "cell_type": "code",
   "execution_count": null,
   "metadata": {},
   "outputs": [],
   "source": [
    "def escribir_ficheros(fichero): \n",
    "\n",
    "    modo = input(\"Con que modo quieres abrir tu fichero? w/a\")\n",
    "\n",
    "\n",
    "    if modo == \"a\": \n",
    "        with open(fichero, mode = \"a\") as f:\n",
    "            f.write(input(\"que quieres escribir\"))\n",
    "            f.close()\n",
    "    \n",
    "    \n",
    "    elif modo == \"w\":\n",
    "        print(\"¿Estas seguro que quieres sobreescribir el contenido del fichero? \")\n",
    "        respuesta_modo = input(\"Elige un modo s/n\").lower()\n",
    "\n",
    "        if respuesta_modo == \"s\":\n",
    "\n",
    "            with open(fichero, mode = \"w\") as f:\n",
    "                f.write(input(\"que quieres escribir\"))\n",
    "                f.close()\n",
    "\n",
    "        elif respuesta_modo  == \"n\": \n",
    "            otra_opcion = input(\"¿Quieres hacer añadir mejor? s/n\")\n",
    "\n",
    "            if otra_opcion == \"s\":\n",
    "                with open(fichero, mode = \"a\") as f:\n",
    "                    f.write(input(\"que quieres escribir\"))\n",
    "                    f.close()\n",
    "\n",
    "            elif otra_opcion == \"n\":\n",
    "                pass"
   ]
  },
  {
   "cell_type": "code",
   "execution_count": null,
   "metadata": {},
   "outputs": [
    {
     "name": "stdout",
     "output_type": "stream",
     "text": [
      "Tu directorio de trabajo actual es /mnt/c/Users/agarc/Desktop/repasos-promo-c/repaso-3/data\n",
      "El archivo clase_dentro_funcion ha sido creado correctamente \n",
      "['BROCOLI.TXT', 'clase_dentro_funcion.txt', 'clase_ficheros.txt', 'clase_ficheros2.txt', 'clase_ficheros2.xml', 'clase_ficheros3.txt', 'clase_ficheros4.txt', 'hahaha', 'JAJA.TXT', 'probando.txt', 'probando2.txt', 'repaso.2', 'saludo.txt', 'yuju.xls', 'yupi.txt.txt']\n",
      "¿Estas seguro que quieres sobreescribir el contenido del fichero? \n"
     ]
    }
   ],
   "source": [
    "escribir_ficheros(\"saludo.txt\")"
   ]
  },
  {
   "cell_type": "code",
   "execution_count": null,
   "metadata": {},
   "outputs": [],
   "source": []
  },
  {
   "cell_type": "code",
   "execution_count": null,
   "metadata": {},
   "outputs": [],
   "source": []
  },
  {
   "cell_type": "code",
   "execution_count": null,
   "metadata": {},
   "outputs": [],
   "source": []
  },
  {
   "cell_type": "code",
   "execution_count": null,
   "metadata": {},
   "outputs": [],
   "source": []
  },
  {
   "cell_type": "code",
   "execution_count": null,
   "metadata": {},
   "outputs": [],
   "source": []
  },
  {
   "cell_type": "code",
   "execution_count": null,
   "metadata": {},
   "outputs": [],
   "source": []
  },
  {
   "cell_type": "code",
   "execution_count": null,
   "metadata": {},
   "outputs": [],
   "source": []
  },
  {
   "cell_type": "code",
   "execution_count": null,
   "metadata": {},
   "outputs": [],
   "source": []
  },
  {
   "cell_type": "code",
   "execution_count": null,
   "metadata": {},
   "outputs": [],
   "source": []
  }
 ],
 "metadata": {
  "kernelspec": {
   "display_name": "Python 3.6.9 64-bit",
   "language": "python",
   "name": "python3"
  },
  "language_info": {
   "codemirror_mode": {
    "name": "ipython",
    "version": 3
   },
   "file_extension": ".py",
   "mimetype": "text/x-python",
   "name": "python",
   "nbconvert_exporter": "python",
   "pygments_lexer": "ipython3",
   "version": "3.6.9"
  },
  "orig_nbformat": 4,
  "vscode": {
   "interpreter": {
    "hash": "31f2aee4e71d21fbe5cf8b01ff0e069b9275f58929596ceb00d14d90e3e16cd6"
   }
  }
 },
 "nbformat": 4,
 "nbformat_minor": 2
}

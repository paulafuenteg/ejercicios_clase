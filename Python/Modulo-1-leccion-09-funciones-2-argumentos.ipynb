{
 "cells": [
  {
   "cell_type": "markdown",
   "metadata": {
    "toc": true
   },
   "source": [
    "<h1>Table of Contents<span class=\"tocSkip\"></span></h1>\n",
    "<div class=\"toc\"><ul class=\"toc-item\"><li><span><a href=\"#Parámetros-por-defecto\" data-toc-modified-id=\"Parámetros-por-defecto-1\"><span class=\"toc-item-num\">1&nbsp;&nbsp;</span>Parámetros por defecto</a></span><ul class=\"toc-item\"><li><span><a href=\"#Ejercicios-funciones-y-argumentos\" data-toc-modified-id=\"Ejercicios-funciones-y-argumentos-1.1\"><span class=\"toc-item-num\">1.1&nbsp;&nbsp;</span>Ejercicios funciones y argumentos</a></span></li></ul></li><li><span><a href=\"#args-y-kwargs\" data-toc-modified-id=\"args-y-kwargs-2\"><span class=\"toc-item-num\">2&nbsp;&nbsp;</span><em>args</em> y <em>kwargs</em></a></span><ul class=\"toc-item\"><li><span><a href=\"#args\" data-toc-modified-id=\"args-2.1\"><span class=\"toc-item-num\">2.1&nbsp;&nbsp;</span><em>args</em></a></span></li><li><span><a href=\"#kwargs\" data-toc-modified-id=\"kwargs-2.2\"><span class=\"toc-item-num\">2.2&nbsp;&nbsp;</span><em>kwargs</em></a></span></li></ul></li><li><span><a href=\"#Recursividad\" data-toc-modified-id=\"Recursividad-3\"><span class=\"toc-item-num\">3&nbsp;&nbsp;</span>Recursividad</a></span><ul class=\"toc-item\"><li><span><a href=\"#Ejercicios-argumentos-arbitrarios\" data-toc-modified-id=\"Ejercicios-argumentos-arbitrarios-3.1\"><span class=\"toc-item-num\">3.1&nbsp;&nbsp;</span>Ejercicios argumentos arbitrarios</a></span></li></ul></li></ul></div>"
   ]
  },
  {
   "cell_type": "markdown",
   "metadata": {},
   "source": [
    "En esta sesión vamos a seguir aprendiendo sobre funciones. En concreto aprenderemos conceptos como: \n",
    "\n",
    "- Funciones con parámetros por defecto\n",
    "\n",
    "- *args*\n",
    "\n",
    "- *kwargs* \n",
    "\n",
    "- Funciones recursivas. "
   ]
  },
  {
   "cell_type": "markdown",
   "metadata": {},
   "source": [
    "# Parámetros por defecto\n",
    "\n",
    "Los parémtros por defecto indican que el argumento de la función tomará ese valor si no se pasa otro valor cuando llamamemos a la función.\n",
    "\n",
    "El valor por defecto se asigna mediante el operador de asignación(=) de la forma nombre de la clave=valor.\n",
    "\n",
    "Imaginemos que queremos hacer una función de saludo. La función recibirá dos parámetros:\n",
    "\n",
    "- El nombre de la persona a la que queremos saludar.\n",
    "\n",
    "\n",
    "- El saludo de buenos dias, que será igual siempre (este será nuestro parámetro por defecto)."
   ]
  },
  {
   "cell_type": "code",
   "execution_count": 5,
   "metadata": {},
   "outputs": [],
   "source": [
    "# definimos la función. En este caso recibirá dos parámetros como indicamos previamente\n",
    "# Nuestro parámetro por defecto es \"saludo\", el cual será igual a \"buenos dias 🙂\". Este parámetro lo meteremos en los paréntesis cuando definamos la función. \n",
    "def buenos_dias (nombre, saludo = \"buenos dias 🙂\"):\n",
    "    frase = f'Hola {nombre} {saludo}'\n",
    "    return frase"
   ]
  },
  {
   "cell_type": "code",
   "execution_count": 6,
   "metadata": {},
   "outputs": [
    {
     "data": {
      "text/plain": [
       "'Hola Alicia buenos dias 🙂'"
      ]
     },
     "execution_count": 6,
     "metadata": {},
     "output_type": "execute_result"
    }
   ],
   "source": [
    "# llamammos a la función, y le pasaremos solo un argumento, el del nombre. Si nos fijamos, no le estamos pasando el argumento que tenemos por defecto. \n",
    "saludo1 = buenos_dias(\"Alicia\")\n",
    "saludo1"
   ]
  },
  {
   "cell_type": "markdown",
   "metadata": {},
   "source": [
    "Si nos fijamos en lo que nos devuelve la función, vemos que, Nos devuelve un saludo para Alicia, seguido de un buenos dias, que es nuestro parámetro por defecto. "
   ]
  },
  {
   "cell_type": "code",
   "execution_count": 7,
   "metadata": {},
   "outputs": [
    {
     "data": {
      "text/plain": [
       "'Hola Maria buenos dias 🙂'"
      ]
     },
     "execution_count": 7,
     "metadata": {},
     "output_type": "execute_result"
    }
   ],
   "source": [
    "saludo2 = buenos_dias(\"Maria\")\n",
    "saludo2"
   ]
  },
  {
   "cell_type": "markdown",
   "metadata": {},
   "source": [
    "En el este caso vemos que, la única diferencia con el anterior (saludo1), es el nombre, mientras que el parámetro por defecto ( \"buenos dias 🙂\") se mantiene constante. Pero... ¿se puede cambiar este parámetro por defecto? La respuesta es si! Veamos como hacerlo: "
   ]
  },
  {
   "cell_type": "code",
   "execution_count": 8,
   "metadata": {},
   "outputs": [
    {
     "data": {
      "text/plain": [
       "'Hola Lorena hoy me he levantado con un poco de sueño'"
      ]
     },
     "execution_count": 8,
     "metadata": {},
     "output_type": "execute_result"
    }
   ],
   "source": [
    "saludo3 = buenos_dias(\"Lorena\", saludo = \"hoy me he levantado con un poco de sueño\")\n",
    "saludo3"
   ]
  },
  {
   "cell_type": "markdown",
   "metadata": {},
   "source": [
    "Si nos fijamos ahora, lo que nos devuelve la función ha cambiado un poco, y es que hemos cambiado nuestro parámetro por defecto \"buenos dias 🙂\" por \"hoy me he levantado con un poco de sueño\". Veamos otro ejemplo, imaginemos ahora que queremos crear una calculadora, esta función recibirá: \n",
    "\n",
    "- Un parámetro que será un número.\n",
    "- Un parámetro que será otro número.\n",
    "- Un tercer parámetro, que será nuestro parámetro por defecto que estableceremos en \"multiplicación\"."
   ]
  },
  {
   "cell_type": "code",
   "execution_count": 10,
   "metadata": {},
   "outputs": [],
   "source": [
    "def calculadora(num1,num2, operacion = \"multiplicacion\"):\n",
    "    if operacion == \"multiplicacion\":\n",
    "        return num1 * num2\n",
    "    elif operacion == \"suma\":\n",
    "        return num1 + num2\n",
    "    elif operacion == \"resta\":\n",
    "        return num1 -num2\n",
    "    else:\n",
    "        return num1/num2"
   ]
  },
  {
   "cell_type": "code",
   "execution_count": 13,
   "metadata": {},
   "outputs": [
    {
     "data": {
      "text/plain": [
       "6"
      ]
     },
     "execution_count": 13,
     "metadata": {},
     "output_type": "execute_result"
    }
   ],
   "source": [
    "# llamamos a la función con el parámetro por defecto\n",
    "\n",
    "calculadora(2,3)"
   ]
  },
  {
   "cell_type": "code",
   "execution_count": 15,
   "metadata": {},
   "outputs": [
    {
     "data": {
      "text/plain": [
       "5"
      ]
     },
     "execution_count": 15,
     "metadata": {},
     "output_type": "execute_result"
    }
   ],
   "source": [
    "# cambiemos el parámetro por defecto a suma\n",
    "\n",
    "calculadora(2,3,operacion=\"suma\")"
   ]
  },
  {
   "cell_type": "code",
   "execution_count": 16,
   "metadata": {},
   "outputs": [
    {
     "data": {
      "text/plain": [
       "-1"
      ]
     },
     "execution_count": 16,
     "metadata": {},
     "output_type": "execute_result"
    }
   ],
   "source": [
    "# cy ahora lo haremos con una resta\n",
    "\n",
    "calculadora(2,3,operacion=\"resta\")"
   ]
  },
  {
   "cell_type": "markdown",
   "metadata": {},
   "source": [
    "Como dijimos al inicio de las clases de funciones, el orden importa. En el caso de que queramos definir parámetros por defecto, estos deben ir **siempre al final**. En caso de que no lo hagamos así nos devolverá un error. Si en la función de `calculadora` pusieramos el parámetro por defecto \"operacion\" al inicio o entre medias de los otros dos parámetros nos dará un error."
   ]
  },
  {
   "cell_type": "code",
   "execution_count": 18,
   "metadata": {},
   "outputs": [
    {
     "ename": "SyntaxError",
     "evalue": "non-default argument follows default argument (1763461347.py, line 1)",
     "output_type": "error",
     "traceback": [
      "\u001b[1;36m  Input \u001b[1;32mIn [18]\u001b[1;36m\u001b[0m\n\u001b[1;33m    def calculadora(operacion = \"multiplicacion\", num1,num2 ):\u001b[0m\n\u001b[1;37m                                                  ^\u001b[0m\n\u001b[1;31mSyntaxError\u001b[0m\u001b[1;31m:\u001b[0m non-default argument follows default argument\n"
     ]
    }
   ],
   "source": [
    "def calculadora(operacion = \"multiplicacion\", num1,num2 ):\n",
    "    if operacion == \"multiplicacion\":\n",
    "        return num1 * num2\n",
    "    elif operacion == \"suma\":\n",
    "        return num1 + num2\n",
    "    elif operacion == \"resta\":\n",
    "        return num1 -num2\n",
    "    else:\n",
    "        return num1/num2"
   ]
  },
  {
   "cell_type": "markdown",
   "metadata": {},
   "source": [
    "Si nos fijamos el error nos dice lo siguiente `SyntaxError: non-default argument follows default argument`, lo que nos esta diciendo es que los parámetros que NO son por defecto deben ir antes que los parámetros por defecto! Es importante saber que, podemos definir todos los parámetros por defecto que queramos, veamos un ejemplo: "
   ]
  },
  {
   "cell_type": "code",
   "execution_count": 19,
   "metadata": {},
   "outputs": [],
   "source": [
    "def lista_compra(alimentos, saludo = \"Buenos días\", despedida = \"Que pases un buen día\"):\n",
    "    print(saludo)\n",
    "    print(f\"Los alimentos que quiere comprar son: {alimentos}\")\n",
    "    print(despedida)"
   ]
  },
  {
   "cell_type": "code",
   "execution_count": 20,
   "metadata": {},
   "outputs": [
    {
     "name": "stdout",
     "output_type": "stream",
     "text": [
      "Buenos días\n",
      "Los alimentos que quiere comprar son: ['puerros', 'arroz', 'chocolate', 'leche']\n",
      "Que pases un buen día\n"
     ]
    }
   ],
   "source": [
    "lista_compra([\"puerros\", \"arroz\", \"chocolate\", \"leche\"])"
   ]
  },
  {
   "cell_type": "markdown",
   "metadata": {},
   "source": [
    "**Repaso**\n",
    "\n",
    "- La asignación a argumentos va por orden: su posición define cuál es cuál.\n",
    "\n",
    "- Los parámetros por defecto vienen definidos dentro del paréntesis cuándo definimos la función.\n",
    "\n",
    "- Los parámetros por defecto deben ser los últimos que se declaren en la función. Se genera un error sintáctico si tratamos de definir una función indicando primero el o los parámetros con valores por defecto. \n",
    "\n",
    "- Podemos pasar todos los parámetros por defecto que queramos. \n"
   ]
  },
  {
   "cell_type": "markdown",
   "metadata": {},
   "source": [
    "---\n",
    "## Ejercicios funciones y argumentos\n",
    "\n",
    "- Definir una función y llamarla\n",
    "\n",
    "    1. Haz que la función `sumar()` imprime `Vamos a sumar algo.` usando la función `print()`.\n",
    "    2. Llama la función y comprueba que te imprima la frase.\n",
    "\n",
    "- Ampliar una función con argumentos\n",
    "\n",
    "    3. Añade dos argumentos en la definición de `sumar()`. Llamalos a y b.\n",
    "    4. Después de imprimir la frase, queremos que nuestra función tenga un parámetro por defecto que imprima la frase: `'Sumamos', a, 'y', b, ':'`.\n",
    "    5. Al final imprime `a + b`.\n",
    "    6. Llama la función `sumar()` con los argumentos 3 y 5 y comprueba que te imprima lo correcto.\n",
    "\n",
    "---"
   ]
  },
  {
   "cell_type": "code",
   "execution_count": null,
   "metadata": {},
   "outputs": [],
   "source": []
  },
  {
   "cell_type": "markdown",
   "metadata": {},
   "source": [
    "---"
   ]
  },
  {
   "cell_type": "markdown",
   "metadata": {},
   "source": [
    "# *args* y *kwargs* \n",
    "\n",
    "El principal uso de `*args` y `**kwargs` es en la definición de funciones.\n",
    "\n",
    "Ambos permiten pasar un número variable de argumentos a una función, por lo que si quereis definir una función cuyo número de parámetros de entrada puede ser variable, considera el uso de `*args` o `**kwargs` como un argumento.\n",
    "\n"
   ]
  },
  {
   "cell_type": "markdown",
   "metadata": {},
   "source": [
    "## *args*\n",
    "\n",
    "Es una **lista** de argumentos, como argumentos posicionales. Usaremos este tipo de argumentos lo usaremos con listas o tuplas. Imaginemos que somos profesores y queremos calcular la media de la clase, este año tenemos solo tres alumnos, por lo que la lógica nos indica que nuestra función debería recibir tres parámetros, donde cada uno de ellos corresponderá con la nota de un alumno. Escribamos la función: "
   ]
  },
  {
   "cell_type": "code",
   "execution_count": 33,
   "metadata": {},
   "outputs": [],
   "source": [
    "# definimos una función que recibirá tres parámetros donde cada uno de ellos corresponderá a una alumna\n",
    "def media_clase1(alumna1,alumna2,alumna3):\n",
    "    return (alumna1 + alumna2 + alumna3) / 3"
   ]
  },
  {
   "cell_type": "code",
   "execution_count": 39,
   "metadata": {},
   "outputs": [
    {
     "data": {
      "text/plain": [
       "7.0"
      ]
     },
     "execution_count": 39,
     "metadata": {},
     "output_type": "execute_result"
    }
   ],
   "source": [
    "# llamamos a la función y le pasamos las notas de las alumnas \n",
    "\n",
    "media1 = media_clase1(7, 9, 5)\n",
    "media1"
   ]
  },
  {
   "cell_type": "markdown",
   "metadata": {},
   "source": [
    "Esta función nos vale, si sabemos seguro que año tras año vamos a tener 3 alumnas, pero esta no es la realidad. Puede que para el siguiente curso tengamos menos o más alumnas, lo cuál haría que nuestra función ya no nos valiera. Es en estas situaciones, donde nos tenemos que plantear usar los *args*. Recordemos que, los usaremos cuando no estemos seguras de cuantos argumentos tenemos que pasar a la función; es decir, nos permite pasar una cantidad arbitraria de argumentos. \n",
    "\n",
    "> Para trabajar con *args*, cuando definamos la función este tendrá que ir acompañado siempre de un *. "
   ]
  },
  {
   "cell_type": "code",
   "execution_count": 37,
   "metadata": {},
   "outputs": [],
   "source": [
    "# definimos la función, pero en este caso le vamos a pasar unos *args. Para ello, recordemos tenemos que poner un *. \n",
    "def media_clase2 (*args):\n",
    "\n",
    "    # una vez dentro de la función, podremos hacer lo que queramos con estos args. En este caso, como será una lista haremos la suma de sus valores y lo dividiremos por su len. De esta forma hemos conseguido \n",
    "    # hacer nuestra función universal que nos valga para cualquiera que sea el número de alumnas que tenemos. \n",
    "    return sum(args) / len(args)"
   ]
  },
  {
   "cell_type": "code",
   "execution_count": 38,
   "metadata": {},
   "outputs": [],
   "source": [
    "# definimos una lista de notas de las alumnas. \n",
    "lista_numeros = [1,2,3,4,5,6,7]"
   ]
  },
  {
   "cell_type": "code",
   "execution_count": 40,
   "metadata": {},
   "outputs": [
    {
     "data": {
      "text/plain": [
       "4.0"
      ]
     },
     "execution_count": 40,
     "metadata": {},
     "output_type": "execute_result"
    }
   ],
   "source": [
    "media2 = media_clase2(*lista_numeros)\n",
    "media2"
   ]
  },
  {
   "cell_type": "markdown",
   "metadata": {},
   "source": [
    "Este tipo de argumentos, se pueden combinar con parámetros normales como los que hemos estado viendo hasta ahora. Pero recordemos que el orden importa como siempre en las funciones. Cosas importantes cuando nos enfrentamos a este tipo de argumentos: \n",
    "\n",
    "- Los parámetros normales deben ir siempre primero, mientras que los parámetros por defecto irán después de los *args*. \n",
    "\n",
    "- Los parámetros por defecto deben ir siempre en último lugar. \n"
   ]
  },
  {
   "cell_type": "code",
   "execution_count": 27,
   "metadata": {},
   "outputs": [],
   "source": [
    "def notas_alumnas(nombre, apellido, *notas, bootcamp = \"Data analytics\"):\n",
    "    print(f\"las notas de {nombre} {apellido}, del bootcamp de {bootcamp} son: {notas}\")\n",
    "    \n",
    "    media = sum(notas) / len(notas)\n",
    "\n",
    "    return media\n",
    "\n"
   ]
  },
  {
   "cell_type": "code",
   "execution_count": 25,
   "metadata": {},
   "outputs": [],
   "source": [
    "# definimos una lista con las notas de una alumna\n",
    "notas_lorena = [7,8,5,10]"
   ]
  },
  {
   "cell_type": "code",
   "execution_count": 26,
   "metadata": {},
   "outputs": [
    {
     "name": "stdout",
     "output_type": "stream",
     "text": [
      "las notas de Lorena López, del bootcamp de 7 son: (8, 5, 10)\n"
     ]
    },
    {
     "data": {
      "text/plain": [
       "7.666666666666667"
      ]
     },
     "execution_count": 26,
     "metadata": {},
     "output_type": "execute_result"
    }
   ],
   "source": [
    "media_lorena = notas_alumnas(\"Lorena\", \"López\", *notas_lorena )\n",
    "media_lorena"
   ]
  },
  {
   "cell_type": "markdown",
   "metadata": {},
   "source": [
    "## *kwargs* \n",
    "\n",
    "Serán **diccionarios** cuyas *keys* se convierten en parámetros y sus valores en los argumentos de los parámetros. Sigamos con el ejemplo de la función `notas_alumnas`. Esa función, solo nos es válida para una alumna, pero una clase tiene más de una alumna, así que no es todavía una función 100% universal. Para convertirla en universal, usaremos los *kwargs*, veamos como: \n",
    "\n",
    "\n",
    "📌 **NOTA**: si recordamos en el caso de los *args* había que poner un * delante, en este caso habrá que poner `**`"
   ]
  },
  {
   "cell_type": "code",
   "execution_count": null,
   "metadata": {},
   "outputs": [],
   "source": [
    "# lo primero que hacemos es crear nuestro diccionario, donde las keys serán los nombres, los apellidos y notas y los values, cada alumna que tengamos\n",
    "alumnas = { \"nombre\":[\"Lorena\", \"Laura\", \"Loreto\"], \n",
    "            \"apellidos\": [\"López\", \"Rodriguez\", \"Luengo\"], \n",
    "            \"notas\": [[7,8,5,10],[8,6,9,10], [6,7,7,10] ]}"
   ]
  },
  {
   "cell_type": "code",
   "execution_count": 13,
   "metadata": {},
   "outputs": [
    {
     "data": {
      "text/plain": [
       "['Lorena', 'Laura', 'Loreto']"
      ]
     },
     "execution_count": 13,
     "metadata": {},
     "output_type": "execute_result"
    }
   ],
   "source": [
    "# antes de empezar veamos fuera de la función como acceder a cada elemento de los values. Imaginemos que queremos acceder al nombre de \"loreto\".\n",
    "# Empezamos llamando al diccionario y a la key que nos interesa, como aprendimos en la clase de diccionarios\n",
    "\n",
    "alumnas[\"nombre\"]"
   ]
  },
  {
   "cell_type": "code",
   "execution_count": 14,
   "metadata": {},
   "outputs": [
    {
     "data": {
      "text/plain": [
       "'Loreto'"
      ]
     },
     "execution_count": 14,
     "metadata": {},
     "output_type": "execute_result"
    }
   ],
   "source": [
    "# el paso anterior nos devuelve una lista, si queremos acceder a \"loreto\", lo único que tenemos que hacer es acceder usando de la indexación de las listas\n",
    "\n",
    "alumnas[\"nombre\"][2]"
   ]
  },
  {
   "cell_type": "code",
   "execution_count": 22,
   "metadata": {},
   "outputs": [],
   "source": [
    "# iniciamos la función, la cual recibira solo un parámetro, los kwargs, con los ** correspondientes\n",
    "def notas_alumnas(bootcamp = \"Data Analytics\", **kwargs ):\n",
    "\n",
    "    # iniciamos un contador para ir iterando por cada elemento de diccionario\n",
    "    contador = 0\n",
    "\n",
    "    # usamos un while para determinar el número de veces que tenemos que iterar\n",
    "    while contador < len(kwargs): \n",
    "\n",
    "        # sacamos la media para cada una de las alumnas. Siguiendo la lógica de las celdas anteriores. Accederemos a la key sobre la que queremos calcular la media. Luego tendremos que indicar el índice del que queremos calcular la media. Para eso usaremos el contador. \n",
    "        media = sum(kwargs[\"notas\"][contador]) / len(kwargs[\"notas\"][contador])\n",
    "\n",
    "        # hacemos un print para saber que alumna es la que corresponde cada media calculada en el paso anterior\n",
    "        print(f'las media de las notas de {kwargs[\"nombre\"][contador]} {kwargs[\"apellidos\"][contador]} de {bootcamp} de  son: {media}')\n",
    "        \n",
    "       # sumamos 1 al contador para que en la siguiente iteración podamos acceder al elemento que esta en el indice 1, luego accederemos al elemento en posición 2, etc. \n",
    "        contador += 1\n",
    "    #return media\n"
   ]
  },
  {
   "cell_type": "code",
   "execution_count": 23,
   "metadata": {},
   "outputs": [
    {
     "name": "stdout",
     "output_type": "stream",
     "text": [
      "las media de las notas de Lorena López de Data Analytics de  son: 7.5\n",
      "las media de las notas de Laura Rodriguez de Data Analytics de  son: 8.25\n",
      "las media de las notas de Loreto Luengo de Data Analytics de  son: 7.5\n"
     ]
    }
   ],
   "source": [
    "notas_alumnas(**alumnas)"
   ]
  },
  {
   "cell_type": "markdown",
   "metadata": {},
   "source": [
    "Este tipo de argumentos, se pueden combinar con parámetros normales como los que hemos estado viendo hasta ahora. Pero recordemos que el orden importa como siempre en las funciones. Cosas importantes cuando nos enfrentamos a este tipo de argumentos: \n",
    "\n",
    "- Los parámetros normales deben ir siempre primero. \n",
    "\n",
    "- Los *kwargs* deben ir antes de los *kwargs* "
   ]
  },
  {
   "cell_type": "markdown",
   "metadata": {},
   "source": [
    "Veamos otro ejemplo conn *kwargs*:"
   ]
  },
  {
   "cell_type": "code",
   "execution_count": 31,
   "metadata": {},
   "outputs": [],
   "source": [
    "# lo primero que hacemos es definir un diccionario\n",
    "\n",
    "diccionario = {'brocoli': 1.50, \n",
    "              'chorizo': 4.5, \n",
    "              'zanahoria': 1.30, \n",
    "              'jamon': 7.90}"
   ]
  },
  {
   "cell_type": "code",
   "execution_count": 32,
   "metadata": {},
   "outputs": [],
   "source": [
    "# definimos la función que nos va a devolver el precio de un producto solo si este tiene una \"a\" en su nombre\n",
    "\n",
    "def precio (**kwargs):\n",
    "\n",
    "    # empezamos iterando por el diccionario usando el método .items()\n",
    "    for k,v in kwargs.items():\n",
    "        # establecemos la condición. Si la key tiene una \"o\"\n",
    "        if \"a\" in k:\n",
    "\n",
    "            # en caso de que se cumpla la condición, printeamos su key y su value\n",
    "            print(k, \"---->\", v)"
   ]
  },
  {
   "cell_type": "code",
   "execution_count": 33,
   "metadata": {},
   "outputs": [
    {
     "name": "stdout",
     "output_type": "stream",
     "text": [
      "zanahoria ----> 1.3\n",
      "jamon ----> 7.9\n"
     ]
    }
   ],
   "source": [
    "# llamamos a la función\n",
    "precio(**diccionario)"
   ]
  },
  {
   "cell_type": "markdown",
   "metadata": {},
   "source": [
    "Imaginemos ahora que estamos a final de mes, y no nos podemos permitir comprar nada cuyo valor sea mayor de 3 euros. Aquellos productos que podamos comprar, los apendearemos a una lista la cuál queremos que nos devuelva la función para saber que es lo que podemos comprar. "
   ]
  },
  {
   "cell_type": "code",
   "execution_count": 36,
   "metadata": {},
   "outputs": [],
   "source": [
    "def comprar_fin_mes (**kwargs):\n",
    "\n",
    "    # creamos nuestra lista vacía donde apendearemos los resultados que queremos\n",
    "    lista_compra = []\n",
    "\n",
    "    # empezamos iterando por el diccionario usando el método .items()\n",
    "    for k,v in kwargs.items():\n",
    "        # establecemos la condición. Si el valor de cada key es menor que 3\n",
    "        if v < 3:\n",
    "            # si se cumple la condicón lo añadimos a la lista vacía que hemos creado anteriormente\n",
    "            lista_compra.append(k)\n",
    "        \n",
    "        #en caso de que no se cumpla la condición\n",
    "        else:\n",
    "            # hacemos un print de los productos que no podemos comprar\n",
    "            print(f\"este mes no podremos comprar {k}\")\n",
    "\n",
    "    # por último, queremos que nuestra función nos devuelva la lista de la compra\n",
    "    return lista_compra"
   ]
  },
  {
   "cell_type": "code",
   "execution_count": 37,
   "metadata": {},
   "outputs": [
    {
     "name": "stdout",
     "output_type": "stream",
     "text": [
      "este mes no podremos comprar chorizo\n",
      "este mes no podremos comprar jamon\n"
     ]
    }
   ],
   "source": [
    "# llamamaos a la función y guardamos su return en una variable. La función nos dice que no podremos comprar ni jamon ni chorizo ya que sus precios son superiores a 3. \n",
    "que_comprar = comprar_fin_mes(**diccionario)"
   ]
  },
  {
   "cell_type": "code",
   "execution_count": 39,
   "metadata": {},
   "outputs": [
    {
     "data": {
      "text/plain": [
       "['brocoli', 'zanahoria']"
      ]
     },
     "execution_count": 39,
     "metadata": {},
     "output_type": "execute_result"
    }
   ],
   "source": [
    "# vemos lo que podremos comprar este mes. \n",
    "que_comprar"
   ]
  },
  {
   "cell_type": "markdown",
   "metadata": {},
   "source": [
    "**Repaso**\n",
    "- Argumentos arbitrarios se especifican con `*` y son recogidos en una tupla o lista.\n",
    "\n",
    "- Argumentos arbitrarios no tienen límite en cuántos argumentos pueden recoger.\n",
    "\n",
    "- Argumentos arbitrarios clave se especifican con `**` y son recogidos en un diccionario.\n",
    "\n",
    "- Podemos combinar todos los tipos de argumentos."
   ]
  },
  {
   "cell_type": "markdown",
   "metadata": {},
   "source": [
    "**SI JUNTAMOS ARGS CON KWARGS**\n",
    "\n",
    "⚠️ El orden importa!!!! ⚠️\n",
    "\n",
    "```python\n",
    "def (*args, **kwargs):\n",
    "```\n",
    "\n",
    "En este caso trabajemos con el diccionario y con una lista donde indicaremos la cantidad de cada una de las cosas que queremos comprar de las que tenemos en el diccionario. Al final, querremos saber lo que nos va a costar la compra basándonos en la cantidad y el precio de cada uno de los elementos. "
   ]
  },
  {
   "cell_type": "code",
   "execution_count": 40,
   "metadata": {},
   "outputs": [
    {
     "data": {
      "text/plain": [
       "{'brocoli': 1.5, 'chorizo': 4.5, 'zanahoria': 1.3, 'jamon': 7.9}"
      ]
     },
     "execution_count": 40,
     "metadata": {},
     "output_type": "execute_result"
    }
   ],
   "source": [
    "# recordemos lo que teníamos en nuestro diccionario\n",
    "\n",
    "diccionario"
   ]
  },
  {
   "cell_type": "code",
   "execution_count": 42,
   "metadata": {},
   "outputs": [],
   "source": [
    "# definimos una lista con lo que nos cuesta cada producto del diccionario\n",
    "\n",
    "precios = [2,1,0.5, 4]"
   ]
  },
  {
   "cell_type": "code",
   "execution_count": 50,
   "metadata": {},
   "outputs": [],
   "source": [
    "# iniciamos nuestra función\n",
    "def precio_total(*args, **kwargs):\n",
    "\n",
    "    # creamos una lista donde iremos añadiendo lo que tendremos que pagar por cada uno de los productos en función de la cantidad deseada\n",
    "    total = []\n",
    "\n",
    "    # iniciamos un contador para poder ir iternado por cada elemento de nuestra lista\n",
    "    count = 0\n",
    "\n",
    "    # empezamos a iterar por nuestro diccionario\n",
    "    for k, v in kwargs.items():\n",
    "\n",
    "        # printemos el precio de cada uno de los alimentos de nuestro diccionario\n",
    "        print(f\"el precio de {k} es: {kwargs[k]}\")\n",
    "\n",
    "        # printemos la cantidad de lo que queremos \n",
    "        print(\"cantidad alimento\", args[count])\n",
    "\n",
    "        print(\"----------------------\")\n",
    "\n",
    "        # añadimos a la lista vacía el precio de cada uno de los productos teniendo en cuenta la cantidad que queremos\n",
    "        total.append(kwargs[k] * args[count])\n",
    "\n",
    "        # sumamos uno a nuestro contador pora poder acceder al siguiente elemento de la lista\n",
    "        count += 1\n",
    "\n",
    "    # queremos que la función nos devuelva el total, la suma, de toda la compra\n",
    "    return sum(total)"
   ]
  },
  {
   "cell_type": "code",
   "execution_count": 51,
   "metadata": {},
   "outputs": [
    {
     "name": "stdout",
     "output_type": "stream",
     "text": [
      "el precio de brocoli es: 1.5\n",
      "cantidad alimento 2\n",
      "----------------------\n",
      "el precio de chorizo es: 4.5\n",
      "cantidad alimento 1\n",
      "----------------------\n",
      "el precio de zanahoria es: 1.3\n",
      "cantidad alimento 0.5\n",
      "----------------------\n",
      "el precio de jamon es: 7.9\n",
      "cantidad alimento 4\n",
      "----------------------\n"
     ]
    }
   ],
   "source": [
    "# llamamos a la función, recordemos, debemos poner * para los args y ** para los kwargs!!\n",
    "\n",
    "total_compra = precio_total(*precios, **diccionario)"
   ]
  },
  {
   "cell_type": "code",
   "execution_count": 52,
   "metadata": {},
   "outputs": [
    {
     "data": {
      "text/plain": [
       "39.75"
      ]
     },
     "execution_count": 52,
     "metadata": {},
     "output_type": "execute_result"
    }
   ],
   "source": [
    "# cuánto nos cuesta la compra al final?\n",
    "\n",
    "total_compra"
   ]
  },
  {
   "cell_type": "markdown",
   "metadata": {},
   "source": [
    "# Recursividad\n",
    "\n",
    "Basicamente es una función que se llama a si misma. \n",
    "\n",
    "![recursividad](https://github.com/Adalab/data_imagenes/blob/main/Modulo-1/python/recursividad.png?raw=true). \n",
    "\n",
    "En este caso, vamos a crear una función que simule una cuenta atrás. Veamos como hacerlo! "
   ]
  },
  {
   "cell_type": "code",
   "execution_count": 55,
   "metadata": {},
   "outputs": [],
   "source": [
    "# definimos la función, la cuál recibirá un parémtro, el número en el que queremo iniciar la cuenta atrás\n",
    "def cuenta_atras(inicio):\n",
    "\n",
    "    # printemos el número por el que que empezamos la cuenta atrás\n",
    "    print(inicio)\n",
    "\n",
    "    # definimos una nueva variable, que será el siguiente número que corresponde con el número de inicio menos 1\n",
    "    siguiente = inicio - 1\n",
    "\n",
    "    # establecemos la condición de que si el siguiente número es mayor que 0, sigamos ejecutando la cuenta atrás\n",
    "    if siguiente > 0:\n",
    "\n",
    "        # en caso de que se cumpla la condición, llamamos a la función de nuevo para que nos vuelva a restar 1 y siga la cuenta atrás. \n",
    "        cuenta_atras(siguiente)"
   ]
  },
  {
   "cell_type": "code",
   "execution_count": 56,
   "metadata": {},
   "outputs": [
    {
     "name": "stdout",
     "output_type": "stream",
     "text": [
      "10\n",
      "9\n",
      "8\n",
      "7\n",
      "6\n",
      "5\n",
      "4\n",
      "3\n",
      "2\n",
      "1\n"
     ]
    }
   ],
   "source": [
    "# llamamaos a la función\n",
    "\n",
    "cuenta_atras(10)"
   ]
  },
  {
   "cell_type": "markdown",
   "metadata": {},
   "source": [
    "---\n",
    "\n",
    "## Ejercicios argumentos arbitrarios\n",
    "\n",
    "- Definir una función con argumentos y llámala.\n",
    "\n",
    "    7. Define la función `listar_caracteres_comun()` con los argumentos `string1` y `string2`. \n",
    "    8. Llámala con `'Soja'` y `'Ojos'`.\n",
    "    9. Dentro de la función definimos una lista *vacía*, que se llama `comun`.\n",
    "    10. Para cada `letra` en `string1`, si `letra` está en `string2` queremos usar el método `.append()` para añadir la `letra` a la lista `comun`.\n",
    "    11. Después de haber recorrido por todas las letras de `string1` queremos imprimir la lista `comun`.\n",
    "    12. Llama a la función ampliada con `'Soja'` y `'Ojos'`.\n",
    "    13. ¿Qué pasa con la S?\n",
    "\n",
    "- Cambia la función para que acepte argumentos arbitrarios\n",
    "\n",
    "    14. Cambia los argumentos `string1` y `string2` por un sólo argumento `*input_strings`.\n",
    "    15. Para convertirlos strings todos en minúsculas lo primero que haremos al entrar en la función es esto, añadelo:\n",
    "        ```python\n",
    "        strings = []\n",
    "        for input_string in input_strings:\n",
    "            strings.append(input_string.lower())\n",
    "        ```\n",
    "    16. En vez de llenar la lista `comun` con las letras que encontramos vamos a empezar la lista con todas las letras del primer string, y vamos restando los que *no* haya en alguno de los strings detrás. Haz entonces que `comun` se inicia como una `list()` del primer contenido de `strings`. Usa el indice que apunte al primer elemento de `strings`. \n",
    "    17. Para cada `string` en `strings[1:]` (¿ese `[1:]` qué dice?) queremos mirar cada `letra` en `comun`. Si `letra` no está en `string`, usamos `comun.remove(letra)`. Al final de los tres bucles (for, for, if) queremos imprimir la lista `comun`. Fíjate bien en la indentación para que se imprime *fuera* de los bucles.\n",
    "    18. Llama a la función con los siguientes strings: `'Soja','Ojos','Justo','Ejes'`. Si not te sale lo esperado o te da un error empieza otra vez en el paso 14. y lea bien.\n",
    "---"
   ]
  },
  {
   "cell_type": "code",
   "execution_count": null,
   "metadata": {},
   "outputs": [],
   "source": []
  },
  {
   "cell_type": "markdown",
   "metadata": {},
   "source": [
    "---"
   ]
  }
 ],
 "metadata": {
  "kernelspec": {
   "display_name": "Python 3 (ipykernel)",
   "language": "python",
   "name": "python3"
  },
  "language_info": {
   "codemirror_mode": {
    "name": "ipython",
    "version": 3
   },
   "file_extension": ".py",
   "mimetype": "text/x-python",
   "name": "python",
   "nbconvert_exporter": "python",
   "pygments_lexer": "ipython3",
   "version": "3.9.10"
  },
  "toc": {
   "base_numbering": 1,
   "nav_menu": {},
   "number_sections": true,
   "sideBar": true,
   "skip_h1_title": false,
   "title_cell": "Table of Contents",
   "title_sidebar": "Contents",
   "toc_cell": true,
   "toc_position": {},
   "toc_section_display": true,
   "toc_window_display": true
  },
  "vscode": {
   "interpreter": {
    "hash": "31f2aee4e71d21fbe5cf8b01ff0e069b9275f58929596ceb00d14d90e3e16cd6"
   }
  }
 },
 "nbformat": 4,
 "nbformat_minor": 2
}

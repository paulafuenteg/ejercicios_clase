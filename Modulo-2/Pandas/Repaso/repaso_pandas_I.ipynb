{
 "cells": [
  {
   "cell_type": "markdown",
   "metadata": {},
   "source": [
    "Importad pandas\n"
   ]
  },
  {
   "cell_type": "code",
   "execution_count": null,
   "metadata": {},
   "outputs": [],
   "source": []
  },
  {
   "cell_type": "markdown",
   "metadata": {},
   "source": [
    "Leed el fichero productos que hemos compartido con vosotras a traves de google drive"
   ]
  },
  {
   "cell_type": "code",
   "execution_count": null,
   "metadata": {},
   "outputs": [],
   "source": []
  },
  {
   "cell_type": "markdown",
   "metadata": {},
   "source": [
    "Explorad el dataframe: \n",
    "\n",
    "- Visualizad las primeras 5 filas\n",
    "- Visualizad las últimas 5 filas\n",
    "- Mostrad 5 filas de forma aleatoria\n",
    "- ¿Qué forma tiene el dataframe?\n",
    "- Sacad la información básica del dataframe\n",
    "- ¿Cuántos nulos tenemos en el dataframe?\n",
    "- ¿Cuáles son los principales estadísticos de nuestras columnas? Tanto de las columnas categóricas como las numéricas"
   ]
  },
  {
   "cell_type": "code",
   "execution_count": null,
   "metadata": {},
   "outputs": [],
   "source": []
  },
  {
   "cell_type": "code",
   "execution_count": null,
   "metadata": {},
   "outputs": [],
   "source": []
  },
  {
   "cell_type": "markdown",
   "metadata": {},
   "source": [
    "Extraed los productos que tengan un precio de 163333.33 y almacenarlo en un nuevo dataframe\n",
    "\n",
    "- ¿A qué categoría pertenecen estos productos? \n",
    "- Basándonos en el nombre del producto, ¿cuántos productos de cada tipo hay?\n",
    "- ¿A qué supermercado pertenecen? \n"
   ]
  },
  {
   "cell_type": "code",
   "execution_count": null,
   "metadata": {},
   "outputs": [],
   "source": []
  },
  {
   "cell_type": "code",
   "execution_count": null,
   "metadata": {},
   "outputs": [],
   "source": []
  },
  {
   "cell_type": "markdown",
   "metadata": {},
   "source": [
    "Nos volvemos locas y queremos sacar las colonias de David Bustamante y Paula \n",
    "\n",
    "- Tenemos varios tipos de productos, podían ser Frascos, kits.... Por lo que vamos a filtrar por Frasco. \n",
    "\n",
    "- ¿Quién de los dos vende la colonia más cara?\n",
    "\n",
    "Como nota, la colonia de Bustamante se llama \"Muy Mío\"  y la de Paula \"Agua de colonia Paula Echevarría\""
   ]
  },
  {
   "cell_type": "code",
   "execution_count": null,
   "metadata": {},
   "outputs": [],
   "source": []
  },
  {
   "cell_type": "code",
   "execution_count": null,
   "metadata": {},
   "outputs": [],
   "source": []
  },
  {
   "cell_type": "markdown",
   "metadata": {},
   "source": [
    "Tenemos varios tipos de productos, podían ser Frascos, kits.... Por lo que vamos a filtrar por Frasco, para poner el práctica usaremos el método `isin()` que importante! Le tenemos que pasar una lista"
   ]
  },
  {
   "cell_type": "code",
   "execution_count": null,
   "metadata": {},
   "outputs": [],
   "source": []
  },
  {
   "cell_type": "markdown",
   "metadata": {},
   "source": [
    "Sacamos los valores más altos para la columna `price` para saber quien ha ganado el juego:"
   ]
  },
  {
   "cell_type": "code",
   "execution_count": null,
   "metadata": {},
   "outputs": [],
   "source": []
  }
 ],
 "metadata": {
  "kernelspec": {
   "display_name": "Python 3.10.5 64-bit (windows store)",
   "language": "python",
   "name": "python3"
  },
  "language_info": {
   "codemirror_mode": {
    "name": "ipython",
    "version": 3
   },
   "file_extension": ".py",
   "mimetype": "text/x-python",
   "name": "python",
   "nbconvert_exporter": "python",
   "pygments_lexer": "ipython3",
   "version": "3.10.5"
  },
  "orig_nbformat": 4,
  "vscode": {
   "interpreter": {
    "hash": "8560ba40f25f8debc3b21cfdc72602d7855270eb253b25380125fbd9b6cd3418"
   }
  }
 },
 "nbformat": 4,
 "nbformat_minor": 2
}

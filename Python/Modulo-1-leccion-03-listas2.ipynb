{
 "cells": [
  {
   "cell_type": "markdown",
   "metadata": {
    "toc": true
   },
   "source": [
    "<h1>Table of Contents<span class=\"tocSkip\"></span></h1>\n",
    "<div class=\"toc\"><ul class=\"toc-item\"><li><span><a href=\"#Indexación-listas\" data-toc-modified-id=\"Indexación-listas-1\"><span class=\"toc-item-num\">1&nbsp;&nbsp;</span>Indexación listas</a></span><ul class=\"toc-item\"><li><span><a href=\"#Ejercicios:-sacar-contenido-en-un-índice-conocido\" data-toc-modified-id=\"Ejercicios:-sacar-contenido-en-un-índice-conocido-1.1\"><span class=\"toc-item-num\">1.1&nbsp;&nbsp;</span>Ejercicios: sacar contenido en un índice conocido</a></span></li><li><span><a href=\"#Índices-del-final-de-la-lista-y-el-método-.index()\" data-toc-modified-id=\"Índices-del-final-de-la-lista-y-el-método-.index()-1.2\"><span class=\"toc-item-num\">1.2&nbsp;&nbsp;</span>Índices del final de la lista y el método <code>.index()</code></a></span></li><li><span><a href=\"#Ejercicios:-índices-del-final-de-la-lista-y-el-método-.index()\" data-toc-modified-id=\"Ejercicios:-índices-del-final-de-la-lista-y-el-método-.index()-1.3\"><span class=\"toc-item-num\">1.3&nbsp;&nbsp;</span>Ejercicios: índices del final de la lista y el método <code>.index()</code></a></span></li><li><span><a href=\"#Obtener-múltiples-elementos-de-las-listas-usando-índices\" data-toc-modified-id=\"Obtener-múltiples-elementos-de-las-listas-usando-índices-1.4\"><span class=\"toc-item-num\">1.4&nbsp;&nbsp;</span>Obtener múltiples elementos de las listas usando índices</a></span></li><li><span><a href=\"#Ejercicios:-sacar-múltiples-elementos-con-índices\" data-toc-modified-id=\"Ejercicios:-sacar-múltiples-elementos-con-índices-1.5\"><span class=\"toc-item-num\">1.5&nbsp;&nbsp;</span>Ejercicios: sacar múltiples elementos con índices</a></span></li></ul></li><li><span><a href=\"#Algunos-métodos-de-listas\" data-toc-modified-id=\"Algunos-métodos-de-listas-2\"><span class=\"toc-item-num\">2&nbsp;&nbsp;</span>Algunos métodos de listas</a></span><ul class=\"toc-item\"><li><span><a href=\"#La-función-sorted()-y-la-función-del\" data-toc-modified-id=\"La-función-sorted()-y-la-función-del-2.1\"><span class=\"toc-item-num\">2.1&nbsp;&nbsp;</span>La función <code>sorted()</code> y la función <code>del</code></a></span></li><li><span><a href=\"#Ejercicios:-la-función-sorted()-y-a-función-del\" data-toc-modified-id=\"Ejercicios:-la-función-sorted()-y-a-función-del-2.2\"><span class=\"toc-item-num\">2.2&nbsp;&nbsp;</span>Ejercicios: la función <code>sorted()</code> y a función <code>del</code></a></span></li></ul></li><li><span><a href=\"#Más-métodos-para-listas\" data-toc-modified-id=\"Más-métodos-para-listas-3\"><span class=\"toc-item-num\">3&nbsp;&nbsp;</span>Más métodos para listas</a></span><ul class=\"toc-item\"><li><span><a href=\"#.append(),-.extend()-e-insert()\" data-toc-modified-id=\".append(),-.extend()-e-insert()-3.1\"><span class=\"toc-item-num\">3.1&nbsp;&nbsp;</span><code>.append()</code>, <code>.extend()</code> e <code>insert()</code></a></span></li><li><span><a href=\"#pop()-y-remove()\" data-toc-modified-id=\"pop()-y-remove()-3.2\"><span class=\"toc-item-num\">3.2&nbsp;&nbsp;</span><code>pop()</code> y <code>remove()</code></a></span></li><li><span><a href=\"#Ejercicios:-más-métodos-para-listas\" data-toc-modified-id=\"Ejercicios:-más-métodos-para-listas-3.3\"><span class=\"toc-item-num\">3.3&nbsp;&nbsp;</span>Ejercicios: más métodos para listas</a></span></li></ul></li></ul></div>"
   ]
  },
  {
   "cell_type": "markdown",
   "metadata": {},
   "source": [
    "# Indexación listas\n",
    "\n",
    "Cuando hablamos de indexación en Python, nos referimos a acceder a cada uno de los elementos de la lista a través de sus índices. Ahora esto nos puede resultar algo ambiguo, pero no os preocupéis, iremos viendo varios ejemplos a lo largo de la lección 💪.\n",
    "\n",
    "El índice no es más que un contador de los elementos de nuestra lista. Se puede decir que es la respuesta a la pregunta \"cuántos elementos tengo que saltar para llegar a uno en concreto\". "
   ]
  },
  {
   "cell_type": "markdown",
   "metadata": {},
   "source": [
    "La indexación en Python, independientemente del tipo de dato empieza siempre en 0. Veamoslo visualmente: \n",
    "\n",
    "![index](https://github.com/Adalab/data_imagenes/blob/main/Modulo-1/python/indice_listas.png?raw=true)"
   ]
  },
  {
   "cell_type": "code",
   "execution_count": 1,
   "metadata": {},
   "outputs": [],
   "source": [
    "# definimos una lista\n",
    "temperaturas_diciembre = [10, 10, 13, 14, 12, 15, 12, 11, 13, 17, 18, 15, 15, 17, 17, 13, 13, 11, 12, 10, 12, 14, 12, 12, 11, 12, 16, 16, 14, 17, 18]"
   ]
  },
  {
   "cell_type": "markdown",
   "metadata": {},
   "source": [
    "Si quisieramos sacar la temperatura  del tercer día de diciembre, ¿qué resultado podríamos esperar? ¿Y a qué índice corresponde?"
   ]
  },
  {
   "cell_type": "code",
   "execution_count": 2,
   "metadata": {},
   "outputs": [
    {
     "data": {
      "text/plain": [
       "13"
      ]
     },
     "execution_count": 2,
     "metadata": {},
     "output_type": "execute_result"
    }
   ],
   "source": [
    "temperaturas_diciembre[2]"
   ]
  },
  {
   "cell_type": "markdown",
   "metadata": {},
   "source": [
    "De esta forma:\n",
    "\n",
    "- Si quisieramos acceder al primer elemento de nuestra lista, es decir al número `10`, tendríamos que usar el índice 0.\n",
    "\n",
    "- Si quisieramos acceder al tercer elemento de nuestra lista, es decir al número `13`, tendríamos que usar el indice 2. "
   ]
  },
  {
   "cell_type": "markdown",
   "metadata": {},
   "source": [
    "En la última clase aprendimos algunas funciones para listas, entre ellas la función `len()`. ¿Te acuerdas qué hace? "
   ]
  },
  {
   "cell_type": "code",
   "execution_count": 3,
   "metadata": {},
   "outputs": [
    {
     "data": {
      "text/plain": [
       "31"
      ]
     },
     "execution_count": 3,
     "metadata": {},
     "output_type": "execute_result"
    }
   ],
   "source": [
    "len(temperaturas_diciembre)"
   ]
  },
  {
   "cell_type": "markdown",
   "metadata": {},
   "source": [
    "Nos dice que la lista tiene 31 elementos. Como el mes de diciembre tiene 31 días es un resultado lógico, pero no está demás comprobarlo. Como la longitud de la lista la sacamos automáticamente usando esta función, ¿qué devolvería si metemos el resultado en el índice? ¿Devuelve el último contenido? Comprobemóslo:"
   ]
  },
  {
   "cell_type": "code",
   "execution_count": 4,
   "metadata": {},
   "outputs": [
    {
     "ename": "IndexError",
     "evalue": "list index out of range",
     "output_type": "error",
     "traceback": [
      "\u001b[0;31m---------------------------------------------------------------------------\u001b[0m",
      "\u001b[0;31mIndexError\u001b[0m                                Traceback (most recent call last)",
      "Cell \u001b[0;32mIn [4], line 1\u001b[0m\n\u001b[0;32m----> 1\u001b[0m temperaturas_diciembre[\u001b[39mlen\u001b[39;49m(temperaturas_diciembre)]\n",
      "\u001b[0;31mIndexError\u001b[0m: list index out of range"
     ]
    }
   ],
   "source": [
    "temperaturas_diciembre[len(temperaturas_diciembre)]"
   ]
  },
  {
   "cell_type": "markdown",
   "metadata": {},
   "source": [
    "¡Un error! No os asustéis, en este caso igual ya os esperabais que fuera a dar un error. Recordemos que una buena práctica es acostumbrarse a leer los errores sin frustración. En la mayoría de los casos, la pista está ahí. En este caso el error nos esta diciendo que el error ha surgido en la primera línea de esta celda (`----> 1`), y que es del tipo `IndexError`. Además, nos imprime abajo una aclaración para el tipo `IndexError`: que el índice de la lista está fuera del rango. Con eso ya sabéis que hay que bajar el número del índice, porque es demasiado alto. Y es que, recordemos que los índices en Python empiezan en 0, por lo tanto, nuestro índice máximo siempre será `la longitud de nuestra lista - 1`."
   ]
  },
  {
   "cell_type": "code",
   "execution_count": 5,
   "metadata": {},
   "outputs": [
    {
     "data": {
      "text/plain": [
       "18"
      ]
     },
     "execution_count": 5,
     "metadata": {},
     "output_type": "execute_result"
    }
   ],
   "source": [
    "temperaturas_diciembre[len(temperaturas_diciembre) - 1]"
   ]
  },
  {
   "cell_type": "markdown",
   "metadata": {
    "id": "_Qv3Rnw8OWAv"
   },
   "source": [
    "**Repaso**:\n",
    "\n",
    "- Los índices siempre empiezan en 0. \n",
    "\n",
    "- Para acceder a los índices de una lista usaremos `[]`. \n",
    "\n",
    "- Usar índices en combinación con la función `len()` para saber cuál es el índice máximo que podemos usar. "
   ]
  },
  {
   "cell_type": "markdown",
   "metadata": {
    "id": "5PcBreuKcX1-"
   },
   "source": [
    "\n",
    "\n",
    "---\n",
    "\n",
    "\n",
    "## Ejercicios: sacar contenido en un índice conocido\n",
    "\n",
    "- Definir: \n",
    "\n",
    "  1. La lista de `compras` contiene 'peras', 'garbanzos', 'pan', y 'papel higiénico'.\n",
    "\n",
    "\n",
    "  2. La lista `harrypotter` contiene 'la piedra filosofal', 'la cámara secreta', 'el prisionero de Azkaban', 'el cáliz de fuego', 'la Orden del Fénix', 'el misterio del príncipe', y 'las reliquias de la Muerte'.\n",
    "\n",
    "\n",
    "  3. La lista `dias_es` contiene 'lunes', 'martes', 'miércoles', 'jueves', 'viernes', 'sábado', y 'domingo'.\n",
    "\n",
    "\n",
    "  4. La lista `numeros_primos` contiene 2, 3, 5, 7, 11, 13, 17, 19, 23, y 29.\n",
    "\n",
    "- Los índices `0` y `1`\n",
    "  \n",
    "  5. ¿Cuál es el primer elemento de la lista de `compras`?\n",
    "\n",
    "  6. ¿Qué número primo corresponde al índice `1`?\n",
    "\n",
    "- Índices predeterminados\n",
    "\n",
    "  7. ¿Cómo se llama el cuarto libro de Harry Potter?\n",
    "\n",
    "  8. ¿Cuál es el quinto día de la semana?\n",
    "  \n",
    "  9. ¿Cuál es el último elemento de la lista de compras?\n",
    "  \n",
    "---\n",
    "\n"
   ]
  },
  {
   "cell_type": "code",
   "execution_count": 119,
   "metadata": {
    "id": "Z5I4yJpqcX2F"
   },
   "outputs": [],
   "source": [
    "# 1,2,3,4 definir listas\n",
    "compras = ['peras', 'garbanzos', 'pan', 'papel higiénico']\n",
    "harrypotter=['la piedra filosofal', 'la cámara secreta', 'el prisionero de Azkaban', 'el cáliz de fuego', 'la Orden del Fénix', 'el misterio del príncipe', 'las reliquias de la Muerte']\n",
    "dias_es =['lunes', 'martes', 'miércoles', 'jueves', 'viernes', 'sábado', 'domingo']\n",
    "numeros_primos=[2, 3, 5, 7, 11, 13, 17, 19, 23, 29]"
   ]
  },
  {
   "cell_type": "code",
   "execution_count": 8,
   "metadata": {},
   "outputs": [
    {
     "name": "stdout",
     "output_type": "stream",
     "text": [
      "El primer elemento de la lista compras es: peras\n",
      "El número primo que corresponde al indice 1 es: 3\n"
     ]
    }
   ],
   "source": [
    " # 5, 6 Los índices `0` y `1` \n",
    "  \n",
    "print ('El primer elemento de la lista compras es:', compras[0])\n",
    "print ('El número primo que corresponde al indice 1 es:', numeros_primos[1])\n",
    "\n"
   ]
  },
  {
   "cell_type": "markdown",
   "metadata": {
    "id": "aCLnA8lRcX2F"
   },
   "source": [
    "\n",
    "\n",
    "---\n"
   ]
  },
  {
   "cell_type": "code",
   "execution_count": 9,
   "metadata": {},
   "outputs": [
    {
     "name": "stdout",
     "output_type": "stream",
     "text": [
      "El cuarto libro de Harry Potter se llama: el cáliz de fuego\n",
      "El quinto día de la semana es: viernes\n",
      "El último elemento de la lista de la compra es: papel higiénico\n"
     ]
    }
   ],
   "source": [
    "# 7, 8 y 9 Índices predeterminados\n",
    "\n",
    "print ('El cuarto libro de Harry Potter se llama:', harrypotter[3])\n",
    "print ('El quinto día de la semana es:', dias_es[4])\n",
    "print ('El último elemento de la lista de la compra es:', compras[len(compras)-1])\n",
    "  "
   ]
  },
  {
   "cell_type": "markdown",
   "metadata": {},
   "source": [
    "## Índices del final de la lista y el método `.index()`\n",
    "Para sacar el último elemento hemos usado la función `len()` para determinar la longitud de la lista entera. Como alternativa, se puede usar los índices negativos. Funcionan como una cuenta atrás:\n",
    "\n",
    "![indneg](https://github.com/Adalab/data_imagenes/blob/main/Modulo-1/python/indice_listas_negativs.png?raw=true)"
   ]
  },
  {
   "cell_type": "code",
   "execution_count": 10,
   "metadata": {},
   "outputs": [
    {
     "name": "stdout",
     "output_type": "stream",
     "text": [
      "[10, 10, 13, 14, 12, 15, 12, 11, 13, 17, 18, 15, 15, 17, 17, 13, 13, 11, 12, 10, 12, 14, 12, 12, 11, 12, 16, 16, 14, 17, 18]\n"
     ]
    }
   ],
   "source": [
    "# recordemos cual era nuestra lista de temperaturas\n",
    "print(temperaturas_diciembre)"
   ]
  },
  {
   "cell_type": "markdown",
   "metadata": {},
   "source": [
    "Como vimos antes, para sacar el último elemento podríamos usar la longitud de la lista restándole uno. Pero esto puede ser un poco tedioso. En este contexto, tiene sentido usar la indexación desde atrás usando índices negativos como vimos en la imagen de arriba. \n",
    "\n",
    "De esta forma: "
   ]
  },
  {
   "cell_type": "code",
   "execution_count": 11,
   "metadata": {},
   "outputs": [
    {
     "data": {
      "text/plain": [
       "18"
      ]
     },
     "execution_count": 11,
     "metadata": {},
     "output_type": "execute_result"
    }
   ],
   "source": [
    "# podríamos sacarlo usando la función len()\n",
    "\n",
    "temperaturas_diciembre[(len(temperaturas_diciembre) -1 )]"
   ]
  },
  {
   "cell_type": "code",
   "execution_count": 12,
   "metadata": {},
   "outputs": [
    {
     "data": {
      "text/plain": [
       "18"
      ]
     },
     "execution_count": 12,
     "metadata": {},
     "output_type": "execute_result"
    }
   ],
   "source": [
    "# o con el nuevo método aprendido con índices negativos, que si nos fijamos, nos devuelve exactamente lo mismo de una forma más sencilla. \n",
    "\n",
    "temperaturas_diciembre[-1]"
   ]
  },
  {
   "cell_type": "markdown",
   "metadata": {},
   "source": [
    "Los índices negativos y positivos son sinónimos, por lo tanto, basándonos en la imagen anterior el índice `[-4]` es igual añ índice `[0]`. A veces te resultará más lógico o intuitivo usar uno o el otro. En programación siempre hay múltiples maneras que son todas igual de correctas.\n",
    "\n",
    "¿Cuál es entonces el índice negativo sinónimo de `[2]`? Compruébalo:"
   ]
  },
  {
   "cell_type": "code",
   "execution_count": 13,
   "metadata": {},
   "outputs": [
    {
     "name": "stdout",
     "output_type": "stream",
     "text": [
      "[10, 10, 13, 14, 12, 15, 12, 11, 13, 17, 18, 15, 15, 17, 17, 13, 13, 11, 12, 10, 12, 14, 12, 12, 11, 12, 16, 16, 14, 17, 18]\n"
     ]
    }
   ],
   "source": [
    "# la lista\n",
    "print(temperaturas_diciembre)"
   ]
  },
  {
   "cell_type": "code",
   "execution_count": 14,
   "metadata": {},
   "outputs": [
    {
     "name": "stdout",
     "output_type": "stream",
     "text": [
      "13\n"
     ]
    }
   ],
   "source": [
    "# usando índice positivo\n",
    "print(temperaturas_diciembre[2])\n"
   ]
  },
  {
   "cell_type": "code",
   "execution_count": 17,
   "metadata": {},
   "outputs": [
    {
     "name": "stdout",
     "output_type": "stream",
     "text": [
      "13\n"
     ]
    }
   ],
   "source": [
    "# Solución aquí usando índice negativo:\n",
    "print(temperaturas_diciembre[-29])"
   ]
  },
  {
   "cell_type": "markdown",
   "metadata": {},
   "source": [
    "Ahora sabemos cómo sacar el contenido que corresponde a un índice conocido. Pero... podríamos conocer el índice o posición de un elemento en nuestra lista?, ¿En qué día en diciembre hacía 18 ºC? El método `.index()` hace justamente esto, se mira la lista de izquierda a derecha hasta que encuentre el contenido que buscamos:"
   ]
  },
  {
   "cell_type": "code",
   "execution_count": 18,
   "metadata": {},
   "outputs": [
    {
     "name": "stdout",
     "output_type": "stream",
     "text": [
      "[10, 10, 13, 14, 12, 15, 12, 11, 13, 17, 18, 15, 15, 17, 17, 13, 13, 11, 12, 10, 12, 14, 12, 12, 11, 12, 16, 16, 14, 17, 18]\n"
     ]
    }
   ],
   "source": [
    "# de nuevo recordamos la lista\n",
    "print(temperaturas_diciembre)\n"
   ]
  },
  {
   "cell_type": "code",
   "execution_count": 84,
   "metadata": {},
   "outputs": [
    {
     "name": "stdout",
     "output_type": "stream",
     "text": [
      "10\n"
     ]
    }
   ],
   "source": [
    "print(temperaturas_diciembre.index(18))"
   ]
  },
  {
   "cell_type": "markdown",
   "metadata": {},
   "source": [
    "¿Qué nos devuelve este método? En este caso nos esta diciendo que el elemento con valor `18` **está en la posición 10**. Fijaos, que en nuestro caso, teníamos dos `18` en nuestra lista, pero solo no ha devuelto una posición! Y es que este método nos va a devolver el índice del primer elemento que coincida!!! "
   ]
  },
  {
   "cell_type": "markdown",
   "metadata": {
    "id": "_Qv3Rnw8OWAv"
   },
   "source": [
    "**Repaso**:\n",
    "\n",
    "- Índices negativos para acceder a los elementos de nuestra lista empezando por detrás. \n",
    "\n",
    "- El método `.index(x)` nos permite obtener el primer índice que corresponde al contenido `x`.\n"
   ]
  },
  {
   "cell_type": "markdown",
   "metadata": {
    "id": "5PcBreuKcX1-"
   },
   "source": [
    "\n",
    "\n",
    "---\n",
    "\n",
    "\n",
    "## Ejercicios: índices del final de la lista y el método `.index()`\n",
    "\n",
    "- Definir otra lista\n",
    "\n",
    "  10. La lista `dias_en` contiene 'monday', 'tuesday', 'wednesday', 'thursday', 'friday', 'saturday', y 'sunday'.\n",
    "\n",
    "  11. Define temperaturas_diciembre 👇🏽:\n",
    "  ```python\n",
    "  temperaturas_diciembre = [10, 10, 13, 14, 12, 15, \n",
    "                            12, 11, 13, 17, 18, 15, \n",
    "                            15, 17, 17, 13, 13, 11,\n",
    "                            12, 10, 12, 14, 12, 12,\n",
    "                            11, 12, 16, 16, 14, 17, 18]\n",
    "\n",
    "- Finales de listas\n",
    "\n",
    "  12. ¿Cuál es el penúltimo libro de Harry Potter?\n",
    "  \n",
    "  13. ¿Cuál es el último de la lista de compras? (Encuentra otra forma diferente a la del ejercicio 9)\n",
    "\n",
    "- Usar funciónes de la última clase con `.index()`\n",
    "\n",
    "  14. ¿Está 'arroz' en la lista de compras? Si está, ¿dónde?\n",
    "\n",
    "  15. ¿Está 'pan' en la lista de compras? Si está, ¿dónde?\n",
    "\n",
    "- Bonus\n",
    "\n",
    "  16. ¿Cuál era la temperatura máxima en diciembre, y en qué fecha occurrió por primera vez?\n",
    "\n",
    "  17. Encuentra el índice de `'miércoles'` en `dias_es` y úsalo para sacar la traducción al inglés de la lista `dias_en`.\n",
    "  \n",
    "---\n",
    "\n"
   ]
  },
  {
   "cell_type": "code",
   "execution_count": 19,
   "metadata": {
    "id": "Z5I4yJpqcX2F"
   },
   "outputs": [],
   "source": [
    "#10, 11\n",
    "\n",
    "dias_en=['monday', 'tuesday', 'wednesday', 'thursday', 'friday', 'saturday', 'sunday']\n",
    "\n",
    "temperaturas_diciembre = [10, 10, 13, 14, 12, 15, \n",
    "                            12, 11, 13, 17, 18, 15, \n",
    "                            15, 17, 17, 13, 13, 11,\n",
    "                            12, 10, 12, 14, 12, 12,\n",
    "                            11, 12, 16, 16, 14, 17, 18]\n",
    "                            "
   ]
  },
  {
   "cell_type": "code",
   "execution_count": 22,
   "metadata": {},
   "outputs": [
    {
     "name": "stdout",
     "output_type": "stream",
     "text": [
      "El penultimo libro de Harry Potter es: el misterio del príncipe\n",
      "El último elemento de la lista de la compra es: papel higiénico\n"
     ]
    }
   ],
   "source": [
    "#12, 13 Finales de listas\n",
    "\n",
    "print (\"El penultimo libro de Harry Potter es:\", harrypotter[-2])\n",
    "print ('El último elemento de la lista de la compra es:', compras [-1])  \n"
   ]
  },
  {
   "cell_type": "code",
   "execution_count": 25,
   "metadata": {},
   "outputs": [
    {
     "name": "stdout",
     "output_type": "stream",
     "text": [
      "¿Hay arroz en la lista de la compra?: False\n",
      "¿Hay pan en la lista de la compra?: True ¿dónde? 2\n"
     ]
    }
   ],
   "source": [
    "#14, 15  Usar funciónes de la última clase con `.index()`\n",
    "print ('¿Hay arroz en la lista de la compra?:', 'arroz' in compras)\n",
    "print ('¿Hay pan en la lista de la compra?:', 'pan' in compras, '¿dónde?', compras.index('pan'))"
   ]
  },
  {
   "cell_type": "code",
   "execution_count": 26,
   "metadata": {},
   "outputs": [
    {
     "name": "stdout",
     "output_type": "stream",
     "text": [
      "La temperatura máxima en diciembre fue: 18 que ocurrió por primera vez el día 11\n"
     ]
    }
   ],
   "source": [
    "#16\n",
    "t_max = max(temperaturas_diciembre)\n",
    "print ('La temperatura máxima en diciembre fue:', t_max, 'que ocurrió por primera vez el día', (temperaturas_diciembre.index(t_max)+1))\n"
   ]
  },
  {
   "cell_type": "code",
   "execution_count": 30,
   "metadata": {},
   "outputs": [
    {
     "name": "stdout",
     "output_type": "stream",
     "text": [
      "Miércoles en inglés se dice: wednesday\n"
     ]
    }
   ],
   "source": [
    "# 17. Encuentra el índice de `'miércoles'` en `dias_es` y úsalo para sacar la traducción al inglés de la lista `dias_en`\n",
    "indice_miercoles = dias_es.index('miércoles')\n",
    "print ('Miércoles en inglés se dice:',dias_en[indice_miercoles])"
   ]
  },
  {
   "cell_type": "markdown",
   "metadata": {
    "id": "aCLnA8lRcX2F"
   },
   "source": [
    "\n",
    "\n",
    "---\n"
   ]
  },
  {
   "cell_type": "markdown",
   "metadata": {},
   "source": [
    "## Obtener múltiples elementos de las listas usando índices\n",
    "\n",
    "A veces nos puede interesar más de un elemento de nuestra lista. Por ejemplo, podríamos querer obtener las temperaturas de la segunda semana de diciembre. Creamos otra lista de las fechas para que no nos liemos con los índices, y comprobamos que lo tecleamos bien:"
   ]
  },
  {
   "cell_type": "code",
   "execution_count": 31,
   "metadata": {},
   "outputs": [
    {
     "name": "stdout",
     "output_type": "stream",
     "text": [
      "31\n"
     ]
    }
   ],
   "source": [
    "fechas = [1, 2, 3, 4, 5, 6, 7, 8, 9, 10, 11, 12, 13, 14, 15, 16, 17, 18, 19, 20, 21, 22, 23, 24, 25, 26, 27, 28, 29, 30, 31]\n",
    "\n",
    "# obtenemos la longitud de la lista creada\n",
    "print(len(fechas))"
   ]
  },
  {
   "cell_type": "markdown",
   "metadata": {},
   "source": [
    "Imaginemos que la segunda semana empezó el día 6. ¿A qué índice corresponde? Recuerda que el día uno corresponde al índice `0`, así que el día 6 corresponde al índice 6 - 1 = `5`. Otra forma de deducir esto (comprobar que era -1 en vez de +1) sería con el método `.index()` ya que tenemos días únicos, es decir, solo nos vamos a encontrar un 1 o un 2, etc.:"
   ]
  },
  {
   "cell_type": "code",
   "execution_count": 32,
   "metadata": {},
   "outputs": [
    {
     "name": "stdout",
     "output_type": "stream",
     "text": [
      "5\n"
     ]
    }
   ],
   "source": [
    "# ¿En que posición esta el valor 6 en la lista?\n",
    "\n",
    "print(fechas.index(6))"
   ]
  },
  {
   "cell_type": "markdown",
   "metadata": {},
   "source": [
    "Ya tenemos localizada la posición del día que empieza la segunda semana, esto lo podríamos hacer usando los conocimientos aprendidos hasta ahora: "
   ]
  },
  {
   "cell_type": "code",
   "execution_count": 33,
   "metadata": {},
   "outputs": [
    {
     "name": "stdout",
     "output_type": "stream",
     "text": [
      "fechas [6, 7, 8, 9, 10, 11, 12]\n"
     ]
    }
   ],
   "source": [
    "# sacamos las fechas\n",
    "fech_segunda_semana = [fechas[5], fechas[6], fechas[7], fechas[8], fechas[9], fechas[10], fechas[11]]\n",
    "print('fechas',fech_segunda_semana)\n"
   ]
  },
  {
   "cell_type": "code",
   "execution_count": 34,
   "metadata": {},
   "outputs": [
    {
     "name": "stdout",
     "output_type": "stream",
     "text": [
      "temperaturas [15, 12, 11, 13, 17, 18, 15]\n"
     ]
    }
   ],
   "source": [
    "# sacamos las temperaturas\n",
    "temp_segunda_semana = [temperaturas_diciembre[5], temperaturas_diciembre[6], temperaturas_diciembre[7], temperaturas_diciembre[8], temperaturas_diciembre[9], temperaturas_diciembre[10], temperaturas_diciembre[11]]\n",
    "print('temperaturas',temp_segunda_semana)"
   ]
  },
  {
   "cell_type": "markdown",
   "metadata": {},
   "source": [
    "¡Qué lío! ¿Esto no se puede hacer más fácil? Pues la verdad es que sí. Empecemos por sacar el primer trozo de una lista, en este caso por ejemplo la primera semana. Como empezó el mes en un miércoles, la primera semana era de miércoles a domingo: fechas 1-5. En otras palabras, nos interesa *toda* la lista hasta cierto punto. Aquí el índice en que paramos es el índice que ya **no** queremos sacar. En este caso, el día 6 con el índice `5` ya pertenece a la segunda semana, y por tanto, nos interesa la lista *hasta* el índice `5`:"
   ]
  },
  {
   "cell_type": "code",
   "execution_count": 35,
   "metadata": {},
   "outputs": [
    {
     "name": "stdout",
     "output_type": "stream",
     "text": [
      "fechas [1, 2, 3, 4, 5]\n"
     ]
    }
   ],
   "source": [
    "print('fechas',fechas[:5])"
   ]
  },
  {
   "cell_type": "markdown",
   "metadata": {},
   "source": [
    "En otras palabras, sacamos los primeros `5` elementos con `[:5]`. El mes acabó en un viernes, entonces los últimos 5 días pertenecen a la última semana de diciembre. En este caso podemos usar los índices negativos. Veámoslo con un ejemplo: "
   ]
  },
  {
   "cell_type": "code",
   "execution_count": 36,
   "metadata": {},
   "outputs": [
    {
     "data": {
      "text/plain": [
       "[1, 2, 3, 4, 5]"
      ]
     },
     "execution_count": 36,
     "metadata": {},
     "output_type": "execute_result"
    }
   ],
   "source": [
    "# como hemos visto, si queremos obtener los primeros cinco elementos de nuestra lista usaremos [:5]\n",
    "fech_primera_semana = fechas[:5]\n",
    "fech_primera_semana"
   ]
  },
  {
   "cell_type": "code",
   "execution_count": 37,
   "metadata": {},
   "outputs": [
    {
     "data": {
      "text/plain": [
       "[27, 28, 29, 30, 31]"
      ]
     },
     "execution_count": 37,
     "metadata": {},
     "output_type": "execute_result"
    }
   ],
   "source": [
    "# con este código le estamos pidiendo a Python que nos devuelva del elemento -5 en adelante\n",
    "fech_ultima_semana = fechas[-5:]\n",
    "fech_ultima_semana"
   ]
  },
  {
   "cell_type": "markdown",
   "metadata": {},
   "source": [
    "En la primera semana, el índice en que \"partió\" el elemento *no* aparece en el resultado, mientras en la última semana sí. Ya vamos entendiendo porque esto de los índices nos lía incluso a los que llevamos un tiempo programando. Recuerda que siempre puedes comprobar que el código nos devuelve el *output* deseado. \n",
    "\n",
    "Creemos ahora una lista con letras: "
   ]
  },
  {
   "cell_type": "code",
   "execution_count": 39,
   "metadata": {},
   "outputs": [
    {
     "data": {
      "text/plain": [
       "['A', 'B', 'C', 'D', 'E']"
      ]
     },
     "execution_count": 39,
     "metadata": {},
     "output_type": "execute_result"
    }
   ],
   "source": [
    "letras = ['A', 'B', 'C', 'D', \"E\"]\n",
    "letras"
   ]
  },
  {
   "cell_type": "code",
   "execution_count": 40,
   "metadata": {},
   "outputs": [
    {
     "name": "stdout",
     "output_type": "stream",
     "text": [
      "[0: 2] = ['A', 'B']\n"
     ]
    }
   ],
   "source": [
    "#  sacamos los dos primeros elementos\n",
    "print('[0: 2] =',letras[0:2])"
   ]
  },
  {
   "cell_type": "code",
   "execution_count": 41,
   "metadata": {},
   "outputs": [
    {
     "name": "stdout",
     "output_type": "stream",
     "text": [
      "[: 2] = ['A', 'B']\n"
     ]
    }
   ],
   "source": [
    "# que es exactamente lo mismo que:\n",
    "print('[: 2] =',letras[:2])\n",
    "\n",
    "# es decir, por defecto, si no especificamos nada empezará por el 0. "
   ]
  },
  {
   "cell_type": "code",
   "execution_count": 42,
   "metadata": {},
   "outputs": [
    {
     "name": "stdout",
     "output_type": "stream",
     "text": [
      "[:-2] = ['A', 'B', 'C']\n"
     ]
    }
   ],
   "source": [
    "# usando índices negativos esto lo podríamos hacer de la siguiente forma\n",
    "print('[:-2] =',letras[:-2])\n",
    "\n",
    "# es decir, estamos cogiendo los elementos del 0 al -2"
   ]
  },
  {
   "cell_type": "code",
   "execution_count": 43,
   "metadata": {},
   "outputs": [
    {
     "name": "stdout",
     "output_type": "stream",
     "text": [
      "[1: 3] = ['B', 'C']\n"
     ]
    }
   ],
   "source": [
    "# y si queremos sacar el segundo y tercer elemento?  Es decir, estamos seleccionando los elementos que están entre las posiciones 1 y 3\n",
    "\n",
    "print('[1: 3] =',letras[1:3])"
   ]
  },
  {
   "cell_type": "code",
   "execution_count": 44,
   "metadata": {},
   "outputs": [
    {
     "name": "stdout",
     "output_type": "stream",
     "text": [
      "[1: ] = ['B', 'C', 'D', 'E']\n"
     ]
    }
   ],
   "source": [
    "# ¿y todos los elementos de la lista menos el primero? Es decir, estamos cogiendo los elementos del 1 en adelante\n",
    "\n",
    "print('[1: ] =',letras[1:])"
   ]
  },
  {
   "cell_type": "code",
   "execution_count": 45,
   "metadata": {},
   "outputs": [
    {
     "name": "stdout",
     "output_type": "stream",
     "text": [
      "[-2:] = ['D', 'E']\n"
     ]
    }
   ],
   "source": [
    "# ¿Cómo sacaríamos lso dos últimos elementos? Devuelveme todos los elementos del -2 en adelante\n",
    "print('[-2:] =',letras[-2:])\n"
   ]
  },
  {
   "cell_type": "markdown",
   "metadata": {},
   "source": [
    "Con el tiempo y la práctica iremos cogiendo soltura con los índices, aunque ahora igual no lo creas todavía."
   ]
  },
  {
   "cell_type": "code",
   "execution_count": 47,
   "metadata": {},
   "outputs": [
    {
     "name": "stdout",
     "output_type": "stream",
     "text": [
      "['A', 'B', 'C', 'D', 'E']\n",
      "['A', 'B', 'C', 'D', 'E']\n",
      "['A', 'B', 'C', 'D', 'E']\n",
      "['A', 'B', 'C', 'D', 'E']\n"
     ]
    }
   ],
   "source": [
    "# aquí os dejamos varias formas en las que podríamos obtener todos los elementos de nuestra lista: \n",
    "\n",
    "print(letras)\n",
    "print(letras[:])\n",
    "print(letras[0:5])\n",
    "print([letras[-5], letras[-4], letras[-3], letras[-2], letras[-1]])"
   ]
  },
  {
   "cell_type": "markdown",
   "metadata": {},
   "source": [
    "Por último, los dos puntos se pueden usar de una manera más: saltar elementos. Es lo que se conoce como `[start:stop:step]`. Donde: \n",
    "\n",
    "- `start` será el índice donde queremos empezar\n",
    "\n",
    "- `stop` el índice donde queremos terminar\n",
    "\n",
    "- `step` los saltos que queremos dar en la búsqueda\n"
   ]
  },
  {
   "cell_type": "code",
   "execution_count": 49,
   "metadata": {},
   "outputs": [
    {
     "name": "stdout",
     "output_type": "stream",
     "text": [
      "[1, 2, 3, 4, 5, 6, 7, 8, 9, 10, 11, 12, 13, 14, 15, 16, 17, 18, 19, 20, 21, 22, 23, 24, 25, 26, 27, 28, 29, 30, 31]\n"
     ]
    }
   ],
   "source": [
    "# recordemos las fechas\n",
    "\n",
    "print(fechas)"
   ]
  },
  {
   "cell_type": "code",
   "execution_count": 50,
   "metadata": {},
   "outputs": [
    {
     "data": {
      "text/plain": [
       "[2, 4, 6, 8, 10, 12, 14, 16, 18, 20, 22, 24, 26, 28, 30]"
      ]
     },
     "execution_count": 50,
     "metadata": {},
     "output_type": "execute_result"
    }
   ],
   "source": [
    "# imaginemos que queremos sacar los elementos/números pares de nuestra lista. \n",
    "## Empezaremos seleccionando el número 2 (el cual esta en posición 1): hasta el final de lista por lo que no indicaremos nada: con saltos de 2 en dos (es, decir, selecciona un elemento si y otro no)\n",
    "\n",
    "fechas[1::2]"
   ]
  },
  {
   "cell_type": "code",
   "execution_count": 51,
   "metadata": {},
   "outputs": [
    {
     "data": {
      "text/plain": [
       "[1, 3, 5, 7, 9, 11, 13, 15, 17, 19, 21, 23, 25, 27, 29, 31]"
      ]
     },
     "execution_count": 51,
     "metadata": {},
     "output_type": "execute_result"
    }
   ],
   "source": [
    "# Por otro lado, para los elementos impares\n",
    "\n",
    "fechas[::2]"
   ]
  },
  {
   "cell_type": "code",
   "execution_count": 52,
   "metadata": {},
   "outputs": [
    {
     "data": {
      "text/plain": [
       "[1, 4, 7, 10, 13, 16, 19, 22, 25, 28, 31]"
      ]
     },
     "execution_count": 52,
     "metadata": {},
     "output_type": "execute_result"
    }
   ],
   "source": [
    "# y si quisieramos días de tres en tres para toda nuestra lista? \n",
    "\n",
    "fechas[::3]"
   ]
  },
  {
   "cell_type": "code",
   "execution_count": 53,
   "metadata": {},
   "outputs": [
    {
     "data": {
      "text/plain": [
       "[1, 4, 7, 10, 13]"
      ]
     },
     "execution_count": 53,
     "metadata": {},
     "output_type": "execute_result"
    }
   ],
   "source": [
    "# De la misma forma, sacar de la primera quincena de diciembre cada tercer día sería:\n",
    "fechas[0:15:3]\n",
    "\n",
    "# es decir, empieza sacando números desde la posición 0 hasta la 15, y me coges elementos de tres en tres. "
   ]
  },
  {
   "cell_type": "code",
   "execution_count": 54,
   "metadata": {},
   "outputs": [
    {
     "name": "stdout",
     "output_type": "stream",
     "text": [
      "[1, 2, 3, 4, 5, 6, 7, 8, 9, 10, 11, 12, 13, 14, 15, 16, 17, 18, 19, 20, 21, 22, 23, 24, 25, 26, 27, 28, 29, 30, 31]\n"
     ]
    }
   ],
   "source": [
    "print(fechas)"
   ]
  },
  {
   "cell_type": "code",
   "execution_count": 55,
   "metadata": {},
   "outputs": [
    {
     "name": "stdout",
     "output_type": "stream",
     "text": [
      "[1, 2]\n"
     ]
    }
   ],
   "source": [
    "print(fechas[:2])"
   ]
  },
  {
   "cell_type": "markdown",
   "metadata": {
    "id": "_Qv3Rnw8OWAv"
   },
   "source": [
    "**Repaso**:\n",
    "- El index `[:]`: todos los elementos de la lista\n",
    "\n",
    "\n",
    "- El trozo `[x:]`: del elemento x en adelante\n",
    "\n",
    "\n",
    "- El trozo `[:x]`: hasta el elemento x (empezando en el índice 0)\n",
    "\n",
    "\n",
    "- Sacar cada 2º índice con `[::2]`, cada 3º con `[::3]`, etc.\n",
    "\n",
    "Y combinaciónes como:\n",
    "\n",
    "- El trozo `[a:b]`: seleccionamos índices desde \"a\" hasta \"b\"\n",
    "\n",
    "\n",
    "- Los trozos `[a:b:2]`, etc.: seleccionamos índices desde \"a\" hasta \"b\" de dos en dos. \n",
    "\n",
    "\n"
   ]
  },
  {
   "cell_type": "markdown",
   "metadata": {
    "id": "5PcBreuKcX1-"
   },
   "source": [
    "\n",
    "\n",
    "---\n",
    "\n",
    "\n",
    "## Ejercicios: sacar múltiples elementos con índices\n",
    "\n",
    "- Inicio de la lista, índices positivos\n",
    "\n",
    "  18. Saca los tres primeros elementos de `compras`.\n",
    "\n",
    "\n",
    "  19. Saca el primer día que hay en `dias_en`.\n",
    "\n",
    "\n",
    "  20. Saca los primeros cuatro libros de Harry Potter.\n",
    "\n",
    "- Finales de la lista, índices negativos\n",
    "\n",
    "  21. Saca los dos últimos elementos de `compras`.\n",
    "\n",
    "\n",
    "  22. Saca los últimos tres días que hay en `días_es`.\n",
    "\n",
    "- Elementos intermedios\n",
    "\n",
    "  23. Saca del segundo (usando índice positivo) al penúltimo (usando índice negativo) elemento de `compras`.\n",
    "\n",
    "  24. Saca del tercer día (usando índice negativo) al segundo al último (usando índice positivo) de la semana en inglés.\n",
    "\n",
    "- Saltando índices\n",
    "\n",
    "  25. Saca las temperaturas de diciembre cada 7 días.\n",
    "\n",
    "  26. Saca números primos de dos en dos.\n",
    "\n",
    "- Bonus\n",
    "\n",
    "  27. Me interesan las temperaturas en diciembre a partir del valor máximo.\n",
    "\n",
    "  28. En la lista creada en el ejercicio 28, encuentra el índice de la temperatura mínima.\n",
    "\n",
    "  29. ¿Cómo evolucionó la temperatura del día más caluroso al día más frío en diciembre?\n",
    "\n",
    "- Extra bonus\n",
    "\n",
    "  30. ¿Puedes resolver los ejercicios 27-29 en una sola línea de código? Recuerda que usar múltiples líneas, y espacios para organizar los paréntesis ayuda mucho para la legibilidad. Aún así no será muy legible en este caso.\n",
    "\n",
    "\n",
    "---\n",
    "\n"
   ]
  },
  {
   "cell_type": "code",
   "execution_count": 57,
   "metadata": {
    "id": "Z5I4yJpqcX2F"
   },
   "outputs": [
    {
     "name": "stdout",
     "output_type": "stream",
     "text": [
      "Los tres primeros elementos de la lista compras: ['peras', 'garbanzos', 'pan']\n",
      "El primer día que hay en dias_en: monday\n",
      "Primeros cuatro libros de Harry Potter: ['la piedra filosofal', 'la cámara secreta', 'el prisionero de Azkaban', 'el cáliz de fuego']\n"
     ]
    }
   ],
   "source": [
    "# 18, 19, 20 Inicio de la lista, índices positivos\n",
    "\n",
    "print ('Los tres primeros elementos de la lista compras:', compras[:3])\n",
    "print ('El primer día que hay en dias_en:', dias_en[0])\n",
    "print ('Primeros cuatro libros de Harry Potter:', harrypotter [:4])"
   ]
  },
  {
   "cell_type": "code",
   "execution_count": 59,
   "metadata": {},
   "outputs": [
    {
     "name": "stdout",
     "output_type": "stream",
     "text": [
      "Dos últimos elementos de compras: ['pan', 'papel higiénico']\n",
      "Tres últimos días de la semana: ['viernes', 'sábado', 'domingo']\n"
     ]
    }
   ],
   "source": [
    "#21, 22  Finales de la lista, índices negativos\n",
    "\n",
    "print ('Dos últimos elementos de compras:', compras[-2:])\n",
    "print ('Tres últimos días de la semana:', dias_es[-3:])"
   ]
  },
  {
   "cell_type": "code",
   "execution_count": 62,
   "metadata": {},
   "outputs": [
    {
     "name": "stdout",
     "output_type": "stream",
     "text": [
      "['peras', 'garbanzos', 'pan', 'papel higiénico']\n",
      "Del segundo al penultimo de copras: ['garbanzos', 'pan']\n",
      "Del tercer día al segundo ultimo de la semana en ingles: ['wednesday', 'thursday', 'friday', 'saturday']\n"
     ]
    }
   ],
   "source": [
    "# 23, 24 Elementos intermedios\n",
    "print (compras)\n",
    "print ('Del segundo al penultimo de copras:', compras[1:-1])\n",
    "print ('Del tercer día al segundo ultimo de la semana en ingles:', dias_en [-5:6])\n",
    "\n",
    "\n"
   ]
  },
  {
   "cell_type": "code",
   "execution_count": 68,
   "metadata": {},
   "outputs": [
    {
     "name": "stdout",
     "output_type": "stream",
     "text": [
      "31\n",
      "Temperaturas de diciembre cada 7 días [10, 11, 17, 14, 14]\n",
      "Números primos de dos en dos. [2, 5, 11, 17, 23]\n"
     ]
    }
   ],
   "source": [
    "#25, 26 Saltando índices\n",
    "print ('Temperaturas de diciembre cada 7 días', temperaturas_diciembre[0:31:7])\n",
    "print ('Números primos de dos en dos.', numeros_primos[::2])"
   ]
  },
  {
   "cell_type": "code",
   "execution_count": 72,
   "metadata": {},
   "outputs": [
    {
     "name": "stdout",
     "output_type": "stream",
     "text": [
      "Temperaturas diciembre a partir del valor máximo [18, 15, 15, 17, 17, 13, 13, 11, 12, 10, 12, 14, 12, 12, 11, 12, 16, 16, 14, 17, 18]\n",
      "[18, 15, 15, 17, 17, 13, 13, 11, 12, 10, 12, 14, 12, 12, 11, 12, 16, 16, 14, 17, 18]\n"
     ]
    }
   ],
   "source": [
    "#27 Bonus\n",
    "indice_tmax = temperaturas_diciembre.index(t_max)\n",
    "print ('Temperaturas diciembre a partir del valor máximo',temperaturas_diciembre[indice_tmax:])\n",
    "temp_desde_max = temperaturas_diciembre[indice_tmax:]\n",
    "print (temp_desde_max)"
   ]
  },
  {
   "cell_type": "code",
   "execution_count": 73,
   "metadata": {},
   "outputs": [
    {
     "name": "stdout",
     "output_type": "stream",
     "text": [
      "Temperatura minima nueva lista temperaturas: 10\n"
     ]
    }
   ],
   "source": [
    " #28 En la lista creada en el ejercicio 28, encuentra el índice de la temperatura mínima.\n",
    "print ('Temperatura minima nueva lista temperaturas:', min (temp_desde_max))\n"
   ]
  },
  {
   "cell_type": "code",
   "execution_count": 75,
   "metadata": {},
   "outputs": [
    {
     "name": "stdout",
     "output_type": "stream",
     "text": [
      "En diciembre la temperatura vario en 8 ºC\n"
     ]
    }
   ],
   "source": [
    "# 29. ¿Cómo evolucionó la temperatura del día más caluroso al día más frío en diciembre?\n",
    "t_min = min (temperaturas_diciembre)\n",
    "indice_tmin = temperaturas_diciembre.index (t_min)\n",
    "print ('En diciembre la temperatura vario en', t_max-t_min, 'ºC')"
   ]
  },
  {
   "cell_type": "code",
   "execution_count": null,
   "metadata": {},
   "outputs": [],
   "source": [
    "# 30 Extra bonus ¿Puedes resolver los ejercicios 27-29 en una sola línea de código? \n",
    "# Recuerda que usar múltiples líneas, y espacios para organizar los paréntesis ayuda mucho para la legibilidad. Aún así no será muy legible en este caso."
   ]
  },
  {
   "cell_type": "markdown",
   "metadata": {
    "id": "aCLnA8lRcX2F"
   },
   "source": [
    "\n",
    "\n",
    "---\n"
   ]
  },
  {
   "cell_type": "markdown",
   "metadata": {},
   "source": [
    "# Algunos métodos de listas"
   ]
  },
  {
   "cell_type": "markdown",
   "metadata": {},
   "source": [
    "## La función `sorted()` y la función `del`\n",
    "\n",
    "¿Recordáis el método `.sort()` de la última clase, qué hacía? Hacemos una lista de caracteres y repasamos lo que vimos en la clase anterior:"
   ]
  },
  {
   "cell_type": "code",
   "execution_count": 77,
   "metadata": {},
   "outputs": [
    {
     "data": {
      "text/plain": [
       "['L', 'o', 'v', 'e', 'l', 'a', 'c', 'e']"
      ]
     },
     "execution_count": 77,
     "metadata": {},
     "output_type": "execute_result"
    }
   ],
   "source": [
    "# creamos una variable de tipo string y la convertimos a lista\n",
    "apellido = 'Lovelace'\n",
    "apellido_list = list(apellido)\n",
    "apellido_list"
   ]
  },
  {
   "cell_type": "code",
   "execution_count": 78,
   "metadata": {},
   "outputs": [
    {
     "name": "stdout",
     "output_type": "stream",
     "text": [
      "['L', 'a', 'c', 'e', 'e', 'l', 'o', 'v']\n"
     ]
    }
   ],
   "source": [
    "# el método sort nos permitía ordenar los elementos de una lista\n",
    "apellido_list.sort()\n",
    "print(apellido_list)"
   ]
  },
  {
   "cell_type": "markdown",
   "metadata": {},
   "source": [
    "Ordena la lista en mayúsculas y minúsculas, ambas en orden alfabético. \n",
    "\n",
    "Como alternativa existe la función `sorted()`, que crea una lista ordenada nueva sin tocar el original, es decir, NO LA SOBREESCRIBE!!!:"
   ]
  },
  {
   "cell_type": "code",
   "execution_count": 79,
   "metadata": {},
   "outputs": [
    {
     "name": "stdout",
     "output_type": "stream",
     "text": [
      "['L', 'a', 'c', 'e', 'e', 'l', 'o', 'v']\n"
     ]
    }
   ],
   "source": [
    "print(sorted(apellido))\n"
   ]
  },
  {
   "cell_type": "code",
   "execution_count": 80,
   "metadata": {},
   "outputs": [
    {
     "data": {
      "text/plain": [
       "['v', 'o', 'l', 'e', 'e', 'c', 'a', 'L']"
      ]
     },
     "execution_count": 80,
     "metadata": {},
     "output_type": "execute_result"
    }
   ],
   "source": [
    "# de la misma forma en el sort tenemos el parámetro sorted que nos lo ordena alrevés. \n",
    "sorted(apellido, reverse=True)"
   ]
  },
  {
   "cell_type": "code",
   "execution_count": 81,
   "metadata": {},
   "outputs": [
    {
     "data": {
      "text/plain": [
       "'Lovelace'"
      ]
     },
     "execution_count": 81,
     "metadata": {},
     "output_type": "execute_result"
    }
   ],
   "source": [
    "# Vamos a printear ahora la variable apellidos para ver que ha pasado\n",
    "\n",
    "apellido"
   ]
  },
  {
   "cell_type": "markdown",
   "metadata": {},
   "source": [
    "Vaya... tenemos el valor del *string* tal cual. Y es que como dijimos este método (a diferencia de `sort()`) no nos sobreescribe la variable. Por lo tanto, si usamos este método tendremos que guardar sus resultados en una nueva variable. Veámoslo con un ejemplo: "
   ]
  },
  {
   "cell_type": "code",
   "execution_count": 82,
   "metadata": {},
   "outputs": [
    {
     "data": {
      "text/plain": [
       "['v', 'o', 'l', 'e', 'e', 'c', 'a', 'L']"
      ]
     },
     "execution_count": 82,
     "metadata": {},
     "output_type": "execute_result"
    }
   ],
   "source": [
    "# ahora ya si que lo tenemos!!! \n",
    "\n",
    "apellido_alreves = sorted(apellido, reverse=True)\n",
    "apellido_alreves"
   ]
  },
  {
   "cell_type": "markdown",
   "metadata": {},
   "source": [
    "Ya que sabemos cómo funcionan los índices, los podemos utilizar para eliminar ciertos elementos de una lista. La palabra `del` (*delete*) borra información, como por ejemplo una variable. Al ser un objeto mutable, la lista sigue existiendo si quitamos algo:"
   ]
  },
  {
   "cell_type": "code",
   "execution_count": 83,
   "metadata": {},
   "outputs": [
    {
     "data": {
      "text/plain": [
       "['A', 'B', 'C', 'D', 'E']"
      ]
     },
     "execution_count": 83,
     "metadata": {},
     "output_type": "execute_result"
    }
   ],
   "source": [
    "# recordamos que era la variable letras\n",
    "letras"
   ]
  },
  {
   "cell_type": "code",
   "execution_count": 84,
   "metadata": {},
   "outputs": [
    {
     "name": "stdout",
     "output_type": "stream",
     "text": [
      "['A', 'B', 'D', 'E']\n"
     ]
    }
   ],
   "source": [
    "# eliminemos el segundo elemento de la lista\n",
    "del letras[2]\n",
    "print(letras)"
   ]
  },
  {
   "cell_type": "markdown",
   "metadata": {},
   "source": [
    "Ahora si en la lista modificada de `letras` llamamos al índice borrado, ¿qué pasa?"
   ]
  },
  {
   "cell_type": "code",
   "execution_count": 85,
   "metadata": {},
   "outputs": [
    {
     "name": "stdout",
     "output_type": "stream",
     "text": [
      "D\n"
     ]
    }
   ],
   "source": [
    "print(letras[2])"
   ]
  },
  {
   "cell_type": "markdown",
   "metadata": {},
   "source": [
    "No se queda en blanco, ni da un error. El contenido que hubo en la lista detrás del contenido borrado se ha desplazado. Donde antes la letra 'D' se encontraba en `letras[3]` ahora ese índice ya no existe."
   ]
  },
  {
   "cell_type": "code",
   "execution_count": 86,
   "metadata": {},
   "outputs": [
    {
     "ename": "NameError",
     "evalue": "name 'apellido_list' is not defined",
     "output_type": "error",
     "traceback": [
      "\u001b[0;31m---------------------------------------------------------------------------\u001b[0m",
      "\u001b[0;31mNameError\u001b[0m                                 Traceback (most recent call last)",
      "Cell \u001b[0;32mIn [86], line 3\u001b[0m\n\u001b[1;32m      1\u001b[0m \u001b[39m# pero también lo podemos usar para eliminar una variable de nuestro entorno de trabajo\u001b[39;00m\n\u001b[1;32m      2\u001b[0m \u001b[39mdel\u001b[39;00m apellido_list\n\u001b[0;32m----> 3\u001b[0m \u001b[39mprint\u001b[39m(apellido_list)\n",
      "\u001b[0;31mNameError\u001b[0m: name 'apellido_list' is not defined"
     ]
    }
   ],
   "source": [
    "# pero también lo podemos usar para eliminar una variable de nuestro entorno de trabajo\n",
    "del apellido_list\n",
    "print(apellido_list)"
   ]
  },
  {
   "cell_type": "markdown",
   "metadata": {
    "id": "_Qv3Rnw8OWAv"
   },
   "source": [
    "**Repaso**:\n",
    "- La función `sorted()` NO sobreescibe el valor de la lista a diferencia con el método `.sort()`.\n",
    "\n",
    "- Borrar variables con `del`.\n",
    "\n",
    "- Borrar contenido de una lista usando su índice y `del`.\n",
    "\n",
    "- El efecto de borrar contenido a los índices de la lista.\n"
   ]
  },
  {
   "cell_type": "markdown",
   "metadata": {
    "id": "5PcBreuKcX1-"
   },
   "source": [
    "\n",
    "\n",
    "---\n",
    "\n",
    "\n",
    "## Ejercicios: la función `sorted()` y a función `del`\n",
    "\n",
    "- Copiar una lista\n",
    "\n",
    "  31. Copia la lista `dias_es` a otra y llámala `dias_copia`.\n",
    "\n",
    "\n",
    "  \n",
    "- Ordenar\n",
    "\n",
    "  32. Ordena `dias_copia` usando el método `.sort()`.\n",
    "\n",
    "  33. Ordena a `dias_es` usando la función `sorted()`, demuéstralo con `print()`.\n",
    "\n",
    "  34. ¿Cuál ha sido el cambio, y cuál tiene el orden original? Imprime `dias_es` y `dias_copia` para comprobar tu respuesta.\n",
    "\n",
    "- Borrar por índice\n",
    "\n",
    "  35. ¿En qué índice se encuentra el string `'jueves'` en `dias_copia`, y el `'viernes'`?\n",
    "\n",
    "  36. Borra `'jueves'` de `dias_copia`.\n",
    "\n",
    "  37. ¿En qué índice se encuentra `'viernes'` ahora?\n",
    "\n",
    "  38. ¿Cuántos elementos quedan en `dias_copia`? ¿Cuál es el índice del último elemento entonces?\n",
    "\n",
    "- Bonus\n",
    "\n",
    "  39. Encuentra `'martes'` en `dias_copia` y bórralo en una sola línea.\n",
    "  \n",
    "  40. Si aplicas `sorted()` o `.sort()` dentro de la función `print()`, ¿cuál(es) te imprime(n) la lista ordenada y por qué (no)? \n",
    "---\n",
    "\n"
   ]
  },
  {
   "cell_type": "code",
   "execution_count": 91,
   "metadata": {
    "id": "Z5I4yJpqcX2F"
   },
   "outputs": [
    {
     "name": "stdout",
     "output_type": "stream",
     "text": [
      "None\n",
      "['domingo', 'jueves', 'lunes', 'martes', 'miércoles', 'sábado', 'viernes']\n",
      "['domingo', 'jueves', 'lunes', 'martes', 'miércoles', 'sábado', 'viernes']\n",
      "['domingo', 'jueves', 'lunes', 'martes', 'miércoles', 'sábado', 'viernes']\n"
     ]
    }
   ],
   "source": [
    "#31 \n",
    "dias_copia = dias_es\n",
    "\n",
    "#32\n",
    "print (dias_copia.sort())\n",
    "\n",
    "#33\n",
    "print(sorted(dias_es))\n",
    "\n",
    "#34\n",
    "print (dias_es)\n",
    "print (dias_copia)"
   ]
  },
  {
   "cell_type": "code",
   "execution_count": 92,
   "metadata": {},
   "outputs": [
    {
     "name": "stdout",
     "output_type": "stream",
     "text": [
      "Indice jueves 1\n",
      "Indice viernes 6\n"
     ]
    }
   ],
   "source": [
    "# Borrar por índice\n",
    "#35. ¿En qué índice se encuentra el string `'jueves'` en `dias_copia`, y el `'viernes'`?\n",
    "print ('Indice jueves', dias_copia.index('jueves'))\n",
    "print ('Indice viernes', dias_copia.index('viernes'))\n",
    "#36. Borra `'jueves'` de `dias_copia`.\n",
    "del dias_copia[1]\n"
   ]
  },
  {
   "cell_type": "code",
   "execution_count": 96,
   "metadata": {},
   "outputs": [
    {
     "name": "stdout",
     "output_type": "stream",
     "text": [
      "Indice viernes 5\n",
      "6\n"
     ]
    },
    {
     "data": {
      "text/plain": [
       "'viernes'"
      ]
     },
     "execution_count": 96,
     "metadata": {},
     "output_type": "execute_result"
    }
   ],
   "source": [
    "#37. ¿En qué índice se encuentra `'viernes'` ahora?\n",
    "print ('Indice viernes', dias_copia.index('viernes'))\n",
    "#38. ¿Cuántos elementos quedan en `dias_copia`? ¿Cuál es el índice del último elemento entonces?\n",
    "print (len (dias_copia))\n",
    "dias_copia [len(dias_copia)-1]"
   ]
  },
  {
   "cell_type": "code",
   "execution_count": 98,
   "metadata": {},
   "outputs": [
    {
     "ename": "ValueError",
     "evalue": "'martes' is not in list",
     "output_type": "error",
     "traceback": [
      "\u001b[0;31m---------------------------------------------------------------------------\u001b[0m",
      "\u001b[0;31mValueError\u001b[0m                                Traceback (most recent call last)",
      "Cell \u001b[0;32mIn [98], line 3\u001b[0m\n\u001b[1;32m      1\u001b[0m \u001b[39m#Bonus\u001b[39;00m\n\u001b[1;32m      2\u001b[0m \u001b[39m#39. Encuentra `'martes'` en `dias_copia` y bórralo en una sola línea.\u001b[39;00m\n\u001b[0;32m----> 3\u001b[0m \u001b[39mdel\u001b[39;00m dias_copia[dias_copia\u001b[39m.\u001b[39;49mindex(\u001b[39m'\u001b[39;49m\u001b[39mmartes\u001b[39;49m\u001b[39m'\u001b[39;49m)]\n\u001b[1;32m      4\u001b[0m \u001b[39m#40. Si aplicas `sorted()` o `.sort()` dentro de la función `print()`, ¿cuál(es) te imprime(n) la lista ordenada y por qué (no)? \u001b[39;00m\n\u001b[1;32m      5\u001b[0m \u001b[39mprint\u001b[39m (dias_copia)\n",
      "\u001b[0;31mValueError\u001b[0m: 'martes' is not in list"
     ]
    }
   ],
   "source": [
    "#Bonus\n",
    "#39. Encuentra `'martes'` en `dias_copia` y bórralo en una sola línea.\n",
    "del dias_copia[dias_copia.index('martes')]\n"
   ]
  },
  {
   "cell_type": "markdown",
   "metadata": {
    "id": "aCLnA8lRcX2F"
   },
   "source": [
    "\n",
    "\n",
    "---\n"
   ]
  },
  {
   "cell_type": "code",
   "execution_count": 101,
   "metadata": {},
   "outputs": [
    {
     "name": "stdout",
     "output_type": "stream",
     "text": [
      "['domingo', 'lunes', 'miércoles', 'sábado', 'viernes']\n",
      "None\n"
     ]
    }
   ],
   "source": [
    "#40. Si aplicas `sorted()` o `.sort()` dentro de la función `print()`, ¿cuál(es) te imprime(n) la lista ordenada y por qué (no)? \n",
    "print (sorted(dias_copia))\n",
    "print (dias_copia.sort())"
   ]
  },
  {
   "cell_type": "markdown",
   "metadata": {},
   "source": [
    "# Más métodos para listas\n"
   ]
  },
  {
   "cell_type": "markdown",
   "metadata": {},
   "source": [
    "## `.append()`, `.extend()` e `insert()`\n",
    "\n",
    "Para ampliar la lista ya vimos algunas maneras, como por ejemplo `+` para unir dos listas. Usando métodos también podemos añadir información a una lista. Los dos métodos que hay que conocer son `.append()` y `.extend()`. \n",
    "\n",
    "Veámos como funciona el primero:"
   ]
  },
  {
   "cell_type": "code",
   "execution_count": 102,
   "metadata": {},
   "outputs": [],
   "source": [
    "# definimos tres variables, dos listas y un string\n",
    "compras = ['té']\n",
    "elemento_string = 'sal'\n",
    "elemento_lista = ['kiwi']"
   ]
  },
  {
   "cell_type": "code",
   "execution_count": 103,
   "metadata": {},
   "outputs": [
    {
     "data": {
      "text/plain": [
       "['té', 'sal']"
      ]
     },
     "execution_count": 103,
     "metadata": {},
     "output_type": "execute_result"
    }
   ],
   "source": [
    "# sobre la lista compras añadiremos, apendearemos el string que creamos en la celda anterior\n",
    "compras.append(elemento_string)\n",
    "compras"
   ]
  },
  {
   "cell_type": "markdown",
   "metadata": {},
   "source": [
    "Ahora nuestra lista ya no tiene un único elemento ya que le hemos apendeado un nuevo elemento. "
   ]
  },
  {
   "cell_type": "code",
   "execution_count": 104,
   "metadata": {},
   "outputs": [
    {
     "name": "stdout",
     "output_type": "stream",
     "text": [
      "['té', 'sal', ['kiwi']]\n"
     ]
    }
   ],
   "source": [
    "# También podemos apendear otra lista, y nos devolverá una lista de listas!!!\n",
    "compras.append(elemento_lista)\n",
    "print(compras)"
   ]
  },
  {
   "cell_type": "markdown",
   "metadata": {},
   "source": [
    "Con `.append()` añadimos lo que metemos en los paréntesis en la lista como **un** elemento nuevo. Es decir, si el elemento en sí ya es una lista, el resultado es una lista dentro de la lista. Por tanto, el contenido `'kiwi'` no existe en la lista compras: ¡existe en la lista que hay en `compras[2]`!"
   ]
  },
  {
   "cell_type": "code",
   "execution_count": 105,
   "metadata": {},
   "outputs": [
    {
     "ename": "ValueError",
     "evalue": "'kiwi' is not in list",
     "output_type": "error",
     "traceback": [
      "\u001b[0;31m---------------------------------------------------------------------------\u001b[0m",
      "\u001b[0;31mValueError\u001b[0m                                Traceback (most recent call last)",
      "Cell \u001b[0;32mIn [105], line 1\u001b[0m\n\u001b[0;32m----> 1\u001b[0m compras\u001b[39m.\u001b[39;49mindex(\u001b[39m'\u001b[39;49m\u001b[39mkiwi\u001b[39;49m\u001b[39m'\u001b[39;49m)\n",
      "\u001b[0;31mValueError\u001b[0m: 'kiwi' is not in list"
     ]
    }
   ],
   "source": [
    "compras.index('kiwi')"
   ]
  },
  {
   "cell_type": "markdown",
   "metadata": {},
   "source": [
    "Si quisieramos acceder al elemento Kiwi lo podríamos la siguiente forma: "
   ]
  },
  {
   "cell_type": "code",
   "execution_count": 106,
   "metadata": {},
   "outputs": [
    {
     "data": {
      "text/plain": [
       "['kiwi']"
      ]
     },
     "execution_count": 106,
     "metadata": {},
     "output_type": "execute_result"
    }
   ],
   "source": [
    "# 1️⃣ primero tendríamos que acceder a la lista que contiene \"Kiwi\" usando los índices aprendidos. En este caso tiene el índice 2 de nuestra lista. \n",
    "\n",
    "compras[2]\n"
   ]
  },
  {
   "cell_type": "code",
   "execution_count": 107,
   "metadata": {},
   "outputs": [
    {
     "data": {
      "text/plain": [
       "'kiwi'"
      ]
     },
     "execution_count": 107,
     "metadata": {},
     "output_type": "execute_result"
    }
   ],
   "source": [
    "# 2️⃣ Una vez que nos ha devuelto la lista tendremos que acceder al elemento que contiene esta lista, en este caso como solo hay un elemento será fácil, será el índice 0\n",
    "\n",
    "compras[2][0]"
   ]
  },
  {
   "cell_type": "markdown",
   "metadata": {},
   "source": [
    "El índice del elemento `'kiwi'` en esa lista es el index `0`, porque la lista sólo tiene un único elemento. La lista en sí, sin embargo, está en la lista `compras` en el index `2`. Para llegar al contenido `'kiwi'` entonces, tienes que acceder a la lista (`compras[2]`) y una vez ahí llamar al primer índice: `compras[2][0]`. \n",
    "\n",
    "Para evitar ese rollo de índices dentro de otros índices muchas veces nos interesa añadir los contenidos a la lista original:"
   ]
  },
  {
   "cell_type": "markdown",
   "metadata": {},
   "source": [
    "Podemos ver que apendear una lista a otra lista puede resultar algo tedioso, ya que muchas veces lo que querremos es apendear el contenido de la lista y no la lista como tal. Para evitar esto podemos usar el método `extend()`. Veamos como funciona!"
   ]
  },
  {
   "cell_type": "code",
   "execution_count": 109,
   "metadata": {},
   "outputs": [],
   "source": [
    "# definamos de nuevo la listas \n",
    "compras2 = ['té']\n",
    "elemento_lista2 = ['sal', 'kiwi']"
   ]
  },
  {
   "cell_type": "code",
   "execution_count": 110,
   "metadata": {},
   "outputs": [
    {
     "data": {
      "text/plain": [
       "['té', 'sal', 'kiwi']"
      ]
     },
     "execution_count": 110,
     "metadata": {},
     "output_type": "execute_result"
    }
   ],
   "source": [
    "# añadamos el contenido de la lista elemento_lista2 en la lista compras2\n",
    "compras2.extend(elemento_lista2)\n",
    "compras2"
   ]
  },
  {
   "cell_type": "markdown",
   "metadata": {},
   "source": [
    "Mientras el método `.append()` añadió la lista tal cual en la lista de compras, el método `.extend()` añadió los elementos a la lista original uno por uno. ¿Siempre es mejor usar `.extend()` entonces? No, mira el ejemplo abajo y adivina que devolverá. Compruébalo, ¿has acertado?"
   ]
  },
  {
   "cell_type": "code",
   "execution_count": 111,
   "metadata": {},
   "outputs": [
    {
     "name": "stdout",
     "output_type": "stream",
     "text": [
      "['té']\n"
     ]
    }
   ],
   "source": [
    "compras3 = ['té']\n",
    "elemento_string3 = 'sal'\n",
    "\n",
    "compras.extend(elemento_string3)\n",
    "\n",
    "print(compras3)"
   ]
  },
  {
   "cell_type": "markdown",
   "metadata": {},
   "source": [
    "Todo lo que metemos en `.extend()` se interpreta como una lista de la cual hay que añadir los elementos por separados. Nota la diferencia con `+`:"
   ]
  },
  {
   "cell_type": "code",
   "execution_count": 112,
   "metadata": {},
   "outputs": [
    {
     "ename": "TypeError",
     "evalue": "can only concatenate list (not \"str\") to list",
     "output_type": "error",
     "traceback": [
      "\u001b[0;31m---------------------------------------------------------------------------\u001b[0m",
      "\u001b[0;31mTypeError\u001b[0m                                 Traceback (most recent call last)",
      "Cell \u001b[0;32mIn [112], line 1\u001b[0m\n\u001b[0;32m----> 1\u001b[0m compras3 \u001b[39m+\u001b[39;49m elemento_string3\n",
      "\u001b[0;31mTypeError\u001b[0m: can only concatenate list (not \"str\") to list"
     ]
    }
   ],
   "source": [
    "compras3 + elemento_string3\n"
   ]
  },
  {
   "cell_type": "markdown",
   "metadata": {},
   "source": [
    "Además, el operador `+` a la hora de juntar listas (algo que *no* da errores, como vimos en la clase anterior), crea un nuevo instante. En otras palabras, la listas originales se copian a una nueva lista. "
   ]
  },
  {
   "cell_type": "markdown",
   "metadata": {},
   "source": [
    "Qué pasa ahora si queremos meter un contenido en un índice específico? Podemos usar el método `insert()`. Recordemos la lista `letras` de la cual borramos (`del`) el tercer elemento. Se quedó así:"
   ]
  },
  {
   "cell_type": "code",
   "execution_count": 113,
   "metadata": {},
   "outputs": [],
   "source": [
    "letras = ['A', 'B', 'D']"
   ]
  },
  {
   "cell_type": "code",
   "execution_count": 114,
   "metadata": {},
   "outputs": [
    {
     "data": {
      "text/plain": [
       "['A', 'B', 'C', 'D']"
      ]
     },
     "execution_count": 114,
     "metadata": {},
     "output_type": "execute_result"
    }
   ],
   "source": [
    "letras.insert(2,'C')\n",
    "letras"
   ]
  },
  {
   "cell_type": "markdown",
   "metadata": {},
   "source": [
    "Con el método `.insert()` lo que hicimos fue insertar la letra `C` en el índice 2. "
   ]
  },
  {
   "cell_type": "markdown",
   "metadata": {},
   "source": [
    "## `pop()` y `remove()`\n",
    "\n",
    "\n",
    "El método `pop()` es un método propio de listas que nos permite eliminar elementos.  ¿Hay alguna diferencia? Casi siempre la respuesta es sí, aunque no siempre la diferencia será relevante para todas las situaciones. En este caso en concreto, la diferencia está en que el método `.pop()` no sólo quita el contenido de la lista sino que la devuelve a la vez, mientras con `del` sólo se quita el contenido que hubo. Veamos un ejemplo:"
   ]
  },
  {
   "cell_type": "code",
   "execution_count": 115,
   "metadata": {},
   "outputs": [
    {
     "data": {
      "text/plain": [
       "['té', 'sal', ['kiwi'], 's', 'a', 'l']"
      ]
     },
     "execution_count": 115,
     "metadata": {},
     "output_type": "execute_result"
    }
   ],
   "source": [
    "# recordemos lo que tenemos en la variable compras\n",
    "compras"
   ]
  },
  {
   "cell_type": "code",
   "execution_count": 116,
   "metadata": {},
   "outputs": [
    {
     "data": {
      "text/plain": [
       "['kiwi']"
      ]
     },
     "execution_count": 116,
     "metadata": {},
     "output_type": "execute_result"
    }
   ],
   "source": [
    "# apliquemos el método pop sobre la lista\n",
    "compras.pop(2)"
   ]
  },
  {
   "cell_type": "markdown",
   "metadata": {},
   "source": [
    "Si nos fijamos nos ha eliminado el elemento que estaba en la posición 2, el que ha eliminado y se ha quedado almacenado ese cambio en nuestra variable. ¿Pero qué es lo que pasaba cuando usamos el método `del`?"
   ]
  },
  {
   "cell_type": "code",
   "execution_count": 117,
   "metadata": {},
   "outputs": [
    {
     "name": "stdout",
     "output_type": "stream",
     "text": [
      "['té', 'sal', 'a', 'l']\n"
     ]
    }
   ],
   "source": [
    "del compras[2]\n",
    "print(compras)"
   ]
  },
  {
   "cell_type": "markdown",
   "metadata": {},
   "source": [
    "El último método que aprenderemos para eliminar elemento de nuestra lista es el `.remove()`. "
   ]
  },
  {
   "cell_type": "code",
   "execution_count": 118,
   "metadata": {},
   "outputs": [
    {
     "data": {
      "text/plain": [
       "['té', 'sal', 'l']"
      ]
     },
     "execution_count": 118,
     "metadata": {},
     "output_type": "execute_result"
    }
   ],
   "source": [
    "# imaginemos que queremos quitar un elemento concreto, por ejemplo la palabra \"a\"\n",
    "compras.remove('a')\n",
    "compras"
   ]
  },
  {
   "cell_type": "markdown",
   "metadata": {},
   "source": [
    "Como ves, ahora en vez de especificar el índice `2`, especificamos el contenido que hubo ahí para identificar qué borrar. Lo ejecuta para el primer elemento que contenga el contenido buscado:"
   ]
  },
  {
   "cell_type": "markdown",
   "metadata": {
    "id": "_Qv3Rnw8OWAv"
   },
   "source": [
    "**Repaso**:\n",
    "\n",
    "- Añadir como un solo elemento con `.append()`.\n",
    "\n",
    "- Añadir los elementos de una lista y no la lista como tal  `.extend()`.\n",
    "\n",
    "- Insertar en un índice conocido con `.insert()`.\n",
    "\n",
    "- Quitar y devolver de un índice conocido con `.pop()`.\n",
    "\n",
    "- Quitar sin devolver el primer instante de un contenido conocido con `.remove()`.\n",
    "\n"
   ]
  },
  {
   "cell_type": "markdown",
   "metadata": {
    "id": "5PcBreuKcX1-"
   },
   "source": [
    "\n",
    "\n",
    "---\n",
    "\n",
    "\n",
    "## Ejercicios: más métodos para listas\n",
    "\n",
    "- Añadir contenido a una lista\n",
    "\n",
    "  41. Añade a la lista de `harrypotter` el último título `'Animales fantásticos y dónde encontrarlos'`.\n",
    "\n",
    "  42. Añade a la lista de compras `'sal'` al princípio de la lista.\n",
    "\n",
    "  43. Haz que `dias_en` y `dias_es` cubran dos semanas enteras, usando `.extend()`.\n",
    "\n",
    "- Quitar contenido de una lista\n",
    "\n",
    "  44. Pop el tercer elemento de las compras a la variable `elem3`.\n",
    "  \n",
    "  45. Quita el pan de la lista de compras.\n",
    "\n",
    "---\n",
    "\n"
   ]
  },
  {
   "cell_type": "code",
   "execution_count": 120,
   "metadata": {
    "id": "Z5I4yJpqcX2F"
   },
   "outputs": [
    {
     "name": "stdout",
     "output_type": "stream",
     "text": [
      "['la piedra filosofal', 'la cámara secreta', 'el prisionero de Azkaban', 'el cáliz de fuego', 'la Orden del Fénix', 'el misterio del príncipe', 'las reliquias de la Muerte', 'Animales fantásticos y donde encontrarlos']\n",
      "['sal', 'peras', 'garbanzos', 'pan', 'papel higiénico']\n"
     ]
    },
    {
     "ename": "TypeError",
     "evalue": "'builtin_function_or_method' object is not subscriptable",
     "output_type": "error",
     "traceback": [
      "\u001b[0;31m---------------------------------------------------------------------------\u001b[0m",
      "\u001b[0;31mTypeError\u001b[0m                                 Traceback (most recent call last)",
      "Cell \u001b[0;32mIn [120], line 8\u001b[0m\n\u001b[1;32m      6\u001b[0m \u001b[39mprint\u001b[39m (compras)\n\u001b[1;32m      7\u001b[0m \u001b[39m#43. Haz que `dias_en` y `dias_es` cubran dos semanas enteras, usando `.extend()`.\u001b[39;00m\n\u001b[0;32m----> 8\u001b[0m dias_en\u001b[39m.\u001b[39;49mextend[dias_es]\n\u001b[1;32m      9\u001b[0m \u001b[39mprint\u001b[39m (dias_en)\n",
      "\u001b[0;31mTypeError\u001b[0m: 'builtin_function_or_method' object is not subscriptable"
     ]
    }
   ],
   "source": [
    "#41. Añade a la lista de `harrypotter` el último título `'Animales fantásticos y dónde encontrarlos'`.\n",
    "harrypotter.append('Animales fantásticos y donde encontrarlos')\n",
    "print (harrypotter)\n",
    "#42. Añade a la lista de compras `'sal'` al princípio de la lista.\n",
    "compras.insert(0,'sal')\n",
    "print (compras)\n",
    "\n"
   ]
  },
  {
   "cell_type": "code",
   "execution_count": 121,
   "metadata": {},
   "outputs": [
    {
     "name": "stdout",
     "output_type": "stream",
     "text": [
      "['monday', 'tuesday', 'wednesday', 'thursday', 'friday', 'saturday', 'sunday', 'lunes', 'martes', 'miércoles', 'jueves', 'viernes', 'sábado', 'domingo']\n"
     ]
    }
   ],
   "source": [
    "#43. Haz que `dias_en` y `dias_es` cubran dos semanas enteras, usando `.extend()`.\n",
    "dias_en.extend(dias_es)\n",
    "print (dias_en)"
   ]
  },
  {
   "cell_type": "code",
   "execution_count": 122,
   "metadata": {},
   "outputs": [],
   "source": [
    "# Quitar contenido de una lista\n",
    "#44. Pop el tercer elemento de las compras a la variable `elem3`.\n",
    "elem3 = compras.pop(2)"
   ]
  },
  {
   "cell_type": "code",
   "execution_count": 123,
   "metadata": {},
   "outputs": [
    {
     "name": "stdout",
     "output_type": "stream",
     "text": [
      "garbanzos\n"
     ]
    }
   ],
   "source": [
    "print (elem3)"
   ]
  },
  {
   "cell_type": "code",
   "execution_count": 124,
   "metadata": {},
   "outputs": [
    {
     "name": "stdout",
     "output_type": "stream",
     "text": [
      "['sal', 'peras', 'papel higiénico']\n"
     ]
    }
   ],
   "source": [
    "#45. Quita el pan de la lista de compras.\n",
    "compras.remove('pan')\n",
    "print (compras)"
   ]
  },
  {
   "cell_type": "markdown",
   "metadata": {
    "id": "aCLnA8lRcX2F"
   },
   "source": [
    "\n",
    "\n",
    "---\n"
   ]
  }
 ],
 "metadata": {
  "kernelspec": {
   "display_name": "Python 3.9.13 ('base')",
   "language": "python",
   "name": "python3"
  },
  "language_info": {
   "codemirror_mode": {
    "name": "ipython",
    "version": 3
   },
   "file_extension": ".py",
   "mimetype": "text/x-python",
   "name": "python",
   "nbconvert_exporter": "python",
   "pygments_lexer": "ipython3",
   "version": "3.9.13"
  },
  "toc": {
   "base_numbering": 1,
   "nav_menu": {},
   "number_sections": true,
   "sideBar": true,
   "skip_h1_title": false,
   "title_cell": "Table of Contents",
   "title_sidebar": "Contents",
   "toc_cell": true,
   "toc_position": {},
   "toc_section_display": true,
   "toc_window_display": false
  },
  "vscode": {
   "interpreter": {
    "hash": "85c042135e83639dad74b6ec6c9d943b5dc47ca281624d931a3e14168052f53c"
   }
  }
 },
 "nbformat": 4,
 "nbformat_minor": 2
}

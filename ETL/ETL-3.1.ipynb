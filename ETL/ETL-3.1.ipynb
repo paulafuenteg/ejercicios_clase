{
 "cells": [
  {
   "cell_type": "markdown",
   "id": "4328458e",
   "metadata": {
    "toc": true
   },
   "source": [
    "<h1>Table of Contents<span class=\"tocSkip\"></span></h1>\n",
    "<div class=\"toc\"><ul class=\"toc-item\"><li><span><a href=\"#Cargamos-los-datos\" data-toc-modified-id=\"Cargamos-los-datos-1\"><span class=\"toc-item-num\">1&nbsp;&nbsp;</span>Cargamos los datos</a></span></li><li><span><a href=\"#Creación-del-esquema-para-SQL\" data-toc-modified-id=\"Creación-del-esquema-para-SQL-2\"><span class=\"toc-item-num\">2&nbsp;&nbsp;</span>Creación del esquema para SQL</a></span><ul class=\"toc-item\"><li><span><a href=\"#Conexión-con-el-servidor-de-SQL-y-Creación-BBDD\" data-toc-modified-id=\"Conexión-con-el-servidor-de-SQL-y-Creación-BBDD-2.1\"><span class=\"toc-item-num\">2.1&nbsp;&nbsp;</span>Conexión con el servidor de SQL y Creación BBDD</a></span></li><li><span><a href=\"#Creación-de-tablas\" data-toc-modified-id=\"Creación-de-tablas-2.2\"><span class=\"toc-item-num\">2.2&nbsp;&nbsp;</span>Creación de tablas</a></span></li><li><span><a href=\"#Insercción-de-datos\" data-toc-modified-id=\"Insercción-de-datos-2.3\"><span class=\"toc-item-num\">2.3&nbsp;&nbsp;</span>Insercción de datos</a></span><ul class=\"toc-item\"><li><span><a href=\"#Insercción-de-datos-en-la-tabla-de-tiempo:\" data-toc-modified-id=\"Insercción-de-datos-en-la-tabla-de-tiempo:-2.3.1\"><span class=\"toc-item-num\">2.3.1&nbsp;&nbsp;</span>Insercción de datos en la tabla de tiempo:</a></span></li></ul></li><li><span><a href=\"#Insercción-de-datos-en-la-tabla-de-localidades:\" data-toc-modified-id=\"Insercción-de-datos-en-la-tabla-de-localidades:-2.4\"><span class=\"toc-item-num\">2.4&nbsp;&nbsp;</span>Insercción de datos en la tabla de localidades:</a></span></li><li><span><a href=\"#Insercción-de-datos-en-la-tabla-de-mediciones:\" data-toc-modified-id=\"Insercción-de-datos-en-la-tabla-de-mediciones:-2.5\"><span class=\"toc-item-num\">2.5&nbsp;&nbsp;</span>Insercción de datos en la tabla de mediciones:</a></span></li></ul></li></ul></div>"
   ]
  },
  {
   "cell_type": "markdown",
   "id": "7cd314e6",
   "metadata": {},
   "source": [
    "El siguiente paso en el proceso de ETL es cargar nuestros datos en una BBDD, en nuestro lo haremos en SQL a través de Python. "
   ]
  },
  {
   "cell_type": "code",
   "execution_count": 1,
   "id": "4b2b8d49",
   "metadata": {},
   "outputs": [],
   "source": [
    "import pandas as pd\n",
    "import mysql.connector"
   ]
  },
  {
   "cell_type": "markdown",
   "id": "9cfc0307",
   "metadata": {},
   "source": [
    "# Cargamos los datos "
   ]
  },
  {
   "cell_type": "code",
   "execution_count": 2,
   "id": "02c041a5",
   "metadata": {},
   "outputs": [
    {
     "data": {
      "text/html": [
       "<div>\n",
       "<style scoped>\n",
       "    .dataframe tbody tr th:only-of-type {\n",
       "        vertical-align: middle;\n",
       "    }\n",
       "\n",
       "    .dataframe tbody tr th {\n",
       "        vertical-align: top;\n",
       "    }\n",
       "\n",
       "    .dataframe thead th {\n",
       "        text-align: right;\n",
       "    }\n",
       "</style>\n",
       "<table border=\"1\" class=\"dataframe\">\n",
       "  <thead>\n",
       "    <tr style=\"text-align: right;\">\n",
       "      <th></th>\n",
       "      <th>timepoint</th>\n",
       "      <th>cloudcover</th>\n",
       "      <th>lifted_index</th>\n",
       "      <th>prec_type</th>\n",
       "      <th>prec_amount</th>\n",
       "      <th>temp2m</th>\n",
       "      <th>rh2m</th>\n",
       "      <th>weather</th>\n",
       "      <th>wind10m.direction</th>\n",
       "      <th>wind10m.speed</th>\n",
       "      <th>fecha</th>\n",
       "      <th>latitud</th>\n",
       "      <th>longitud</th>\n",
       "      <th>ciudad</th>\n",
       "      <th>seeing</th>\n",
       "      <th>transparency</th>\n",
       "    </tr>\n",
       "  </thead>\n",
       "  <tbody>\n",
       "    <tr>\n",
       "      <th>0</th>\n",
       "      <td>3</td>\n",
       "      <td>1</td>\n",
       "      <td>15</td>\n",
       "      <td>none</td>\n",
       "      <td>0</td>\n",
       "      <td>5</td>\n",
       "      <td>64</td>\n",
       "      <td>clearnight</td>\n",
       "      <td>NW</td>\n",
       "      <td>3</td>\n",
       "      <td>2023-01-10</td>\n",
       "      <td>40.4165</td>\n",
       "      <td>-3.70256</td>\n",
       "      <td>Madrid</td>\n",
       "      <td>5</td>\n",
       "      <td>2</td>\n",
       "    </tr>\n",
       "    <tr>\n",
       "      <th>1</th>\n",
       "      <td>6</td>\n",
       "      <td>2</td>\n",
       "      <td>15</td>\n",
       "      <td>none</td>\n",
       "      <td>0</td>\n",
       "      <td>6</td>\n",
       "      <td>55</td>\n",
       "      <td>clearnight</td>\n",
       "      <td>NW</td>\n",
       "      <td>3</td>\n",
       "      <td>2023-01-10</td>\n",
       "      <td>40.4165</td>\n",
       "      <td>-3.70256</td>\n",
       "      <td>Madrid</td>\n",
       "      <td>5</td>\n",
       "      <td>2</td>\n",
       "    </tr>\n",
       "  </tbody>\n",
       "</table>\n",
       "</div>"
      ],
      "text/plain": [
       "   timepoint  cloudcover  lifted_index prec_type  prec_amount  temp2m rh2m  \\\n",
       "0          3           1            15      none            0       5   64   \n",
       "1          6           2            15      none            0       6   55   \n",
       "\n",
       "      weather wind10m.direction  wind10m.speed      fecha  latitud  longitud  \\\n",
       "0  clearnight                NW              3 2023-01-10  40.4165  -3.70256   \n",
       "1  clearnight                NW              3 2023-01-10  40.4165  -3.70256   \n",
       "\n",
       "   ciudad  seeing  transparency  \n",
       "0  Madrid       5             2  \n",
       "1  Madrid       5             2  "
      ]
     },
     "execution_count": 2,
     "metadata": {},
     "output_type": "execute_result"
    }
   ],
   "source": [
    "df = pd.read_pickle('files/datos_actualizados.pkl')\n",
    "df.head(2)"
   ]
  },
  {
   "cell_type": "markdown",
   "id": "aef510cc",
   "metadata": {},
   "source": [
    "# Creación del esquema para SQL "
   ]
  },
  {
   "cell_type": "markdown",
   "id": "aa7b9628",
   "metadata": {},
   "source": [
    "Lo primero que tenemos que pensar es como queremos \"montar\" nuestra BBDD. Nosotras tenemos toda nuestra información en un único fichero, pero lo vamos a separar en distintas tablas. Crearemos tres tablas:\n",
    "\n",
    "- La tabla que tiene toda la información climática \n",
    "\n",
    "\n",
    "- La tabla que tiene la información sobre la localidad(ciudad y coordenadas)\n",
    "\n",
    "\n",
    "- La tabla que tiene la información temporal (timepoint y fecha) \n",
    "\n",
    "\n",
    "De la misma forma que en la sesión anterior iremos creando funciones. "
   ]
  },
  {
   "cell_type": "markdown",
   "id": "4f91861d",
   "metadata": {},
   "source": [
    "## Conexión con el servidor de SQL y Creación BBDD"
   ]
  },
  {
   "cell_type": "markdown",
   "id": "13175d3d",
   "metadata": {},
   "source": [
    "Lo primero que vamos a hacer es conectarnos con nuestro servidor y crear la BBDD si no existe. La función recibirá un parámetro que será el nombre de la BBDD. "
   ]
  },
  {
   "cell_type": "code",
   "execution_count": 5,
   "id": "c44a2eda",
   "metadata": {},
   "outputs": [],
   "source": [
    "def crear_bbdd(nombre_bbdd):\n",
    "\n",
    "    mydb = mysql.connector.connect(\n",
    "      host=\"localhost\",\n",
    "      user=\"root\",\n",
    "      password=\"AlumnaAdalab\" # aquí tendréis que poner vuestra contraseña de MySQL\n",
    "    )\n",
    "    print(\"Conexión realizada con éxito\")\n",
    "    \n",
    "    mycursor = mydb.cursor()\n",
    "\n",
    "    try:\n",
    "        mycursor.execute(f\"CREATE DATABASE IF NOT EXISTS {nombre_bbdd};\")\n",
    "        print(mycursor)\n",
    "    except mysql.connector.Error as err:\n",
    "        print(err)\n",
    "        print(\"Error Code:\", err.errno)\n",
    "        print(\"SQLSTATE\", err.sqlstate)\n",
    "        print(\"Message\", err.msg)\n"
   ]
  },
  {
   "cell_type": "code",
   "execution_count": 6,
   "id": "716d3584",
   "metadata": {},
   "outputs": [
    {
     "name": "stdout",
     "output_type": "stream",
     "text": [
      "Conexión realizada con éxito\n",
      "MySQLCursor: CREATE DATABASE IF NOT EXISTS clima;\n"
     ]
    }
   ],
   "source": [
    "mydb = crear_bbdd(\"clima\")"
   ]
  },
  {
   "cell_type": "markdown",
   "id": "cfc6ff5f",
   "metadata": {},
   "source": [
    "Genial! Ya tenemos la conexion creada y nuestra BBDD creada. "
   ]
  },
  {
   "cell_type": "markdown",
   "id": "cbf2d002",
   "metadata": {},
   "source": [
    "## Creación de tablas"
   ]
  },
  {
   "cell_type": "markdown",
   "id": "4df0918c",
   "metadata": {},
   "source": [
    "Es el momento de crear las tablas y definir que columnas tendrán cada una de ellas y de que tipo serán."
   ]
  },
  {
   "cell_type": "markdown",
   "id": "b4088c78",
   "metadata": {},
   "source": [
    "Lo primero que haremos será crearnos una función que nos valga para crear o insertar datos en cualquier tabla, ya sea para esta BBDD o para cualquier otra que queramos. Esta función recibirá tres parámetros: \n",
    "\n",
    "- Nombre de la BBDD\n",
    "\n",
    "\n",
    "- Contraseña de nuestro servidor de SQL\n",
    "\n",
    "\n",
    "- La query de insertar"
   ]
  },
  {
   "cell_type": "code",
   "execution_count": 7,
   "id": "39b708ff",
   "metadata": {},
   "outputs": [],
   "source": [
    "def crear_insertar_tabla(nombre_bbdd, contraseña, query):\n",
    "    \n",
    "    # nos conectamsos con el servidor usando el conector de sql\n",
    "    cnx = mysql.connector.connect(user='root', password=f\"{contraseña}\",\n",
    "                                     host='127.0.0.1', database=f\"{nombre_bbdd}\")\n",
    "    # iniciamos el cursor\n",
    "    mycursor = cnx.cursor()\n",
    "    \n",
    "    # intentamos hacer la query\n",
    "    try: \n",
    "        mycursor.execute(query)\n",
    "        cnx.commit() \n",
    "    # en caso de que podamos ejecutar la query devuelvenos un error para saber en que nos estamos equivocando\n",
    "    except mysql.connector.Error as err:\n",
    "        print(err)\n",
    "        print(\"Error Code:\", err.errno)\n",
    "        print(\"SQLSTATE\", err.sqlstate)\n",
    "        print(\"Message\", err.msg)\n"
   ]
  },
  {
   "cell_type": "markdown",
   "id": "b65920b2",
   "metadata": {},
   "source": [
    "Es el momento de definir las distintas *queries* que crearán nuestras tablas. "
   ]
  },
  {
   "cell_type": "markdown",
   "id": "1595a09a",
   "metadata": {},
   "source": [
    "1️⃣ Tabla tiempo (incluiremos las columnas de `timepoint`y `fecha` de nuestro *dataframe* )"
   ]
  },
  {
   "cell_type": "code",
   "execution_count": 8,
   "id": "5442c343",
   "metadata": {},
   "outputs": [],
   "source": [
    "tabla_tiempo = '''\n",
    "CREATE TABLE IF NOT EXISTS `clima`.`tiempo` (\n",
    "  `idtiempo` INT NOT NULL AUTO_INCREMENT,\n",
    "  `timepoint`INT NOT NULL,\n",
    "  `fecha` DATE NOT NULL,\n",
    "  PRIMARY KEY (`idtiempo`))\n",
    "ENGINE = InnoDB;\n",
    "'''"
   ]
  },
  {
   "cell_type": "markdown",
   "id": "c2c4019a",
   "metadata": {},
   "source": [
    "2️⃣ Tabla_localidades (incluiremos las columnas de `latitud`, `longitud` y `ciudad`)"
   ]
  },
  {
   "cell_type": "code",
   "execution_count": 9,
   "id": "44962bc9",
   "metadata": {},
   "outputs": [],
   "source": [
    "tabla_localidades = '''\n",
    "CREATE TABLE IF NOT EXISTS `clima`.`localidades` (\n",
    "  `idlocalidad` INT NOT NULL AUTO_INCREMENT,\n",
    "  `latitud` DECIMAL(6,4) NOT NULL,\n",
    "  `longitud` DECIMAL(6,4) NOT NULL,\n",
    "  `ciudad` VARCHAR(45) NOT NULL,\n",
    "  PRIMARY KEY (`idlocalidad`))\n",
    "ENGINE = InnoDB;\n",
    "'''"
   ]
  },
  {
   "cell_type": "markdown",
   "id": "9f63082b",
   "metadata": {},
   "source": [
    "3️⃣ Tabla mediciones ( que incluirá las columnas `cloudcover`, `lifted_index`, `prec_type`, `prec_amount`, `temp2m`, `rh2m`, `weather`, `wind10m.direction`, `wind10m.speed`, `seeing` y `transparency`) "
   ]
  },
  {
   "cell_type": "code",
   "execution_count": 10,
   "id": "f3c9d8df",
   "metadata": {},
   "outputs": [],
   "source": [
    "tabla_mediciones = '''\n",
    "CREATE TABLE IF NOT EXISTS `clima`.`mediciones` (\n",
    "  `idmedicion` INT NOT NULL AUTO_INCREMENT,\n",
    "  `cloudcover` INT NOT NULL,\n",
    "  `lifted_index` INT NOT NULL,\n",
    "  `prec_type` VARCHAR(10) NOT NULL,\n",
    "  `prec_amount` INT NOT NULL,\n",
    "  `temp2m` INT NOT NULL,\n",
    "  `rh2m` INT NOT NULL,\n",
    "  `weather` VARCHAR(15) NOT NULL,\n",
    "  `wind_direction` VARCHAR(15) NOT NULL,\n",
    "  `wind_speed` INT NOT NULL,\n",
    "  `seeing` DECIMAL NOT NULL,\n",
    "  `transparency` INT NOT NULL,\n",
    "  `idtiempo` INT NOT NULL,\n",
    "  `idlocalidad` INT NOT NULL,\n",
    "  PRIMARY KEY ( `idmedicion`, `idtiempo`, `idlocalidad`),\n",
    "  INDEX `fk_mediciones_tiempo1_idx` (`idtiempo` ASC) ,\n",
    "  INDEX `fk_mediciones_localidades1_idx` (`idlocalidad` ASC) ,\n",
    "  CONSTRAINT `fk_mediciones_tiempo1`\n",
    "    FOREIGN KEY (`idtiempo`)\n",
    "    REFERENCES `clima`.`tiempo` (`idtiempo`),\n",
    "  CONSTRAINT `fk_mediciones_localidades1`\n",
    "    FOREIGN KEY (`idlocalidad`)\n",
    "    REFERENCES `clima`.`localidades` (`idlocalidad`))\n",
    "ENGINE = InnoDB;\n",
    "\n",
    "'''"
   ]
  },
  {
   "cell_type": "markdown",
   "id": "5900e427",
   "metadata": {},
   "source": [
    "Llamamos a la función para crear cada una de las tablas de nuestra BBDD. "
   ]
  },
  {
   "cell_type": "code",
   "execution_count": 12,
   "id": "bcfb03ee",
   "metadata": {},
   "outputs": [],
   "source": [
    "crear_insertar_tabla(\"clima\",\"AlumnaAdalab\", tabla_tiempo)"
   ]
  },
  {
   "cell_type": "code",
   "execution_count": 13,
   "id": "d69a61c5",
   "metadata": {},
   "outputs": [],
   "source": [
    "crear_insertar_tabla(\"clima\", \"AlumnaAdalab\", tabla_localidades)"
   ]
  },
  {
   "cell_type": "code",
   "execution_count": 14,
   "id": "5058b9df",
   "metadata": {},
   "outputs": [],
   "source": [
    "crear_insertar_tabla(\"clima\", \"AlumnaAdalab\", tabla_mediciones)"
   ]
  },
  {
   "cell_type": "markdown",
   "id": "ef344259",
   "metadata": {},
   "source": [
    "## Insercción de datos "
   ]
  },
  {
   "cell_type": "markdown",
   "id": "d994ee65",
   "metadata": {},
   "source": [
    "Hasta ahora nos hemos creado cada una de las tablas que componen nuestra BBDD, pero de momento están vacías. Lo que haremos será nutrir nuestros datos desde el dataframe. \n",
    "\n",
    "Para ello necesitaremos iterar por el *dataframe* usando el método `iterrows()`, su documnetación [aquí](https://pandas.pydata.org/docs/reference/api/pandas.DataFrame.iterrows.html).  Pero antes de ponernos manos a la obra entendamos que hace el método `iterrows` 👇🏽:"
   ]
  },
  {
   "cell_type": "code",
   "execution_count": 15,
   "id": "c96182d0",
   "metadata": {},
   "outputs": [
    {
     "data": {
      "text/html": [
       "<div>\n",
       "<style scoped>\n",
       "    .dataframe tbody tr th:only-of-type {\n",
       "        vertical-align: middle;\n",
       "    }\n",
       "\n",
       "    .dataframe tbody tr th {\n",
       "        vertical-align: top;\n",
       "    }\n",
       "\n",
       "    .dataframe thead th {\n",
       "        text-align: right;\n",
       "    }\n",
       "</style>\n",
       "<table border=\"1\" class=\"dataframe\">\n",
       "  <thead>\n",
       "    <tr style=\"text-align: right;\">\n",
       "      <th></th>\n",
       "      <th>timepoint</th>\n",
       "      <th>cloudcover</th>\n",
       "      <th>lifted_index</th>\n",
       "      <th>prec_type</th>\n",
       "      <th>prec_amount</th>\n",
       "      <th>temp2m</th>\n",
       "      <th>rh2m</th>\n",
       "      <th>weather</th>\n",
       "      <th>wind10m.direction</th>\n",
       "      <th>wind10m.speed</th>\n",
       "      <th>fecha</th>\n",
       "      <th>latitud</th>\n",
       "      <th>longitud</th>\n",
       "      <th>ciudad</th>\n",
       "      <th>seeing</th>\n",
       "      <th>transparency</th>\n",
       "    </tr>\n",
       "  </thead>\n",
       "  <tbody>\n",
       "    <tr>\n",
       "      <th>0</th>\n",
       "      <td>3</td>\n",
       "      <td>1</td>\n",
       "      <td>15</td>\n",
       "      <td>none</td>\n",
       "      <td>0</td>\n",
       "      <td>5</td>\n",
       "      <td>64</td>\n",
       "      <td>clearnight</td>\n",
       "      <td>NW</td>\n",
       "      <td>3</td>\n",
       "      <td>2023-01-10</td>\n",
       "      <td>40.4165</td>\n",
       "      <td>-3.70256</td>\n",
       "      <td>Madrid</td>\n",
       "      <td>5</td>\n",
       "      <td>2</td>\n",
       "    </tr>\n",
       "    <tr>\n",
       "      <th>1</th>\n",
       "      <td>6</td>\n",
       "      <td>2</td>\n",
       "      <td>15</td>\n",
       "      <td>none</td>\n",
       "      <td>0</td>\n",
       "      <td>6</td>\n",
       "      <td>55</td>\n",
       "      <td>clearnight</td>\n",
       "      <td>NW</td>\n",
       "      <td>3</td>\n",
       "      <td>2023-01-10</td>\n",
       "      <td>40.4165</td>\n",
       "      <td>-3.70256</td>\n",
       "      <td>Madrid</td>\n",
       "      <td>5</td>\n",
       "      <td>2</td>\n",
       "    </tr>\n",
       "  </tbody>\n",
       "</table>\n",
       "</div>"
      ],
      "text/plain": [
       "   timepoint  cloudcover  lifted_index prec_type  prec_amount  temp2m rh2m  \\\n",
       "0          3           1            15      none            0       5   64   \n",
       "1          6           2            15      none            0       6   55   \n",
       "\n",
       "      weather wind10m.direction  wind10m.speed      fecha  latitud  longitud  \\\n",
       "0  clearnight                NW              3 2023-01-10  40.4165  -3.70256   \n",
       "1  clearnight                NW              3 2023-01-10  40.4165  -3.70256   \n",
       "\n",
       "   ciudad  seeing  transparency  \n",
       "0  Madrid       5             2  \n",
       "1  Madrid       5             2  "
      ]
     },
     "execution_count": 15,
     "metadata": {},
     "output_type": "execute_result"
    }
   ],
   "source": [
    "df.head(2)"
   ]
  },
  {
   "cell_type": "code",
   "execution_count": 16,
   "id": "697cc2b5",
   "metadata": {},
   "outputs": [
    {
     "name": "stdout",
     "output_type": "stream",
     "text": [
      "0 ------> timepoint                              3\n",
      "cloudcover                             1\n",
      "lifted_index                          15\n",
      "prec_type                           none\n",
      "prec_amount                            0\n",
      "temp2m                                 5\n",
      "rh2m                                  64\n",
      "weather                       clearnight\n",
      "wind10m.direction                     NW\n",
      "wind10m.speed                          3\n",
      "fecha                2023-01-10 00:00:00\n",
      "latitud                          40.4165\n",
      "longitud                        -3.70256\n",
      "ciudad                            Madrid\n",
      "seeing                                 5\n",
      "transparency                           2\n",
      "Name: 0, dtype: object\n"
     ]
    }
   ],
   "source": [
    "for indice, fila in df.iterrows():\n",
    "    print(indice, \"------>\", fila)\n",
    "    break"
   ]
  },
  {
   "cell_type": "markdown",
   "id": "187f6bb2",
   "metadata": {},
   "source": [
    "Lo que va a hacer es iterar por cada una de las filas del *dataframe*.\n",
    "\n",
    "- El índice corresponde con el número de fila del *datafarame*\n",
    "\n",
    "\n",
    "- La fila corresponde con cada fila de tal forma que nos permitirá acceder a cada elemento de cada fila por columna. Veámoslo con un ejemplo: "
   ]
  },
  {
   "cell_type": "code",
   "execution_count": 14,
   "id": "effeee27",
   "metadata": {},
   "outputs": [
    {
     "name": "stdout",
     "output_type": "stream",
     "text": [
      "2022-09-15 00:00:00\n"
     ]
    }
   ],
   "source": [
    "for indice, fila in df.iterrows():\n",
    "    print(fila[\"fecha\"])\n",
    "    break\n"
   ]
  },
  {
   "cell_type": "markdown",
   "id": "2887423f",
   "metadata": {},
   "source": [
    "Si nos fijamos estamos extrayendo los valores de la columna `fecha` para cada fila del *dataframe* "
   ]
  },
  {
   "cell_type": "markdown",
   "id": "8fef02f8",
   "metadata": {},
   "source": [
    "Una vez entendido como \"funciona\" el iterrows pongamonos manos a la obra. Recordamos que al inicio del jupyter nos creamos una función que nos servía tanto para crear como para insertar datos ya que bebe de una query que le pasamos. "
   ]
  },
  {
   "cell_type": "markdown",
   "id": "c295907a",
   "metadata": {},
   "source": [
    "### Insercción de datos en la tabla de tiempo: "
   ]
  },
  {
   "cell_type": "markdown",
   "id": "a0a16800",
   "metadata": {},
   "source": [
    "En este caso solo nos interesan dos columnas de nuestro *dataframe* `timepoint` y `fecha`, por lo tanto, cuando iteremos por el dataframe solo accederemos a estas columnas. "
   ]
  },
  {
   "cell_type": "code",
   "execution_count": 15,
   "id": "49baf316",
   "metadata": {},
   "outputs": [
    {
     "data": {
      "text/html": [
       "<div>\n",
       "<style scoped>\n",
       "    .dataframe tbody tr th:only-of-type {\n",
       "        vertical-align: middle;\n",
       "    }\n",
       "\n",
       "    .dataframe tbody tr th {\n",
       "        vertical-align: top;\n",
       "    }\n",
       "\n",
       "    .dataframe thead th {\n",
       "        text-align: right;\n",
       "    }\n",
       "</style>\n",
       "<table border=\"1\" class=\"dataframe\">\n",
       "  <thead>\n",
       "    <tr style=\"text-align: right;\">\n",
       "      <th></th>\n",
       "      <th>timepoint</th>\n",
       "      <th>cloudcover</th>\n",
       "      <th>lifted_index</th>\n",
       "      <th>prec_type</th>\n",
       "      <th>prec_amount</th>\n",
       "      <th>temp2m</th>\n",
       "      <th>rh2m</th>\n",
       "      <th>weather</th>\n",
       "      <th>wind10m.direction</th>\n",
       "      <th>wind10m.speed</th>\n",
       "      <th>fecha</th>\n",
       "      <th>latitud</th>\n",
       "      <th>longitud</th>\n",
       "      <th>ciudad</th>\n",
       "      <th>seeing</th>\n",
       "      <th>transparency</th>\n",
       "    </tr>\n",
       "  </thead>\n",
       "  <tbody>\n",
       "    <tr>\n",
       "      <th>0</th>\n",
       "      <td>3</td>\n",
       "      <td>3</td>\n",
       "      <td>6</td>\n",
       "      <td>none</td>\n",
       "      <td>0</td>\n",
       "      <td>16</td>\n",
       "      <td>58</td>\n",
       "      <td>pcloudynight</td>\n",
       "      <td>NW</td>\n",
       "      <td>3</td>\n",
       "      <td>2022-09-15</td>\n",
       "      <td>40.4165</td>\n",
       "      <td>-3.70256</td>\n",
       "      <td>Madrid</td>\n",
       "      <td>4</td>\n",
       "      <td>2</td>\n",
       "    </tr>\n",
       "    <tr>\n",
       "      <th>1</th>\n",
       "      <td>6</td>\n",
       "      <td>2</td>\n",
       "      <td>6</td>\n",
       "      <td>none</td>\n",
       "      <td>0</td>\n",
       "      <td>16</td>\n",
       "      <td>56</td>\n",
       "      <td>clearday</td>\n",
       "      <td>NW</td>\n",
       "      <td>3</td>\n",
       "      <td>2022-09-15</td>\n",
       "      <td>40.4165</td>\n",
       "      <td>-3.70256</td>\n",
       "      <td>Madrid</td>\n",
       "      <td>4</td>\n",
       "      <td>2</td>\n",
       "    </tr>\n",
       "  </tbody>\n",
       "</table>\n",
       "</div>"
      ],
      "text/plain": [
       "   timepoint  cloudcover  lifted_index prec_type  prec_amount  temp2m rh2m  \\\n",
       "0          3           3             6      none            0      16   58   \n",
       "1          6           2             6      none            0      16   56   \n",
       "\n",
       "        weather wind10m.direction  wind10m.speed      fecha  latitud  \\\n",
       "0  pcloudynight                NW              3 2022-09-15  40.4165   \n",
       "1      clearday                NW              3 2022-09-15  40.4165   \n",
       "\n",
       "   longitud  ciudad  seeing  transparency  \n",
       "0  -3.70256  Madrid       4             2  \n",
       "1  -3.70256  Madrid       4             2  "
      ]
     },
     "execution_count": 15,
     "metadata": {},
     "output_type": "execute_result"
    }
   ],
   "source": [
    "df.head(2)"
   ]
  },
  {
   "cell_type": "code",
   "execution_count": 17,
   "id": "0cd5a3db",
   "metadata": {},
   "outputs": [],
   "source": [
    "# manos a la obra \n",
    "\n",
    "for indice, fila in df.iterrows(): # itreamos por el dataframe.\n",
    "    \n",
    "    # definimos nuestra query, igual que si lo hicieramos en workbench. ⚠️ Como estamos definiendo nuestra query en varias líneas usamos las triples comillas\n",
    "    # lo valores que introduciremos serán los del dataframe que estamos iterando, por lo que usaremos los formats de los strings. \n",
    "    \n",
    "    query_tiempo = f\"\"\"\n",
    "            INSERT INTO tiempo (timepoint, fecha) # como la primary key la hemos puesto como autoincremental no hace falta introducirla en el insert\n",
    "            VALUES ( \"{fila[\"timepoint\"]}\", \"{fila['fecha']}\");\n",
    "            \"\"\"\n",
    "    # una vez definida la query llamamos a la función que nos inserta los datos. \n",
    "    crear_insertar_tabla(\"clima\", \"AlumnaAdalab\", query_tiempo)\n",
    "\n"
   ]
  },
  {
   "cell_type": "markdown",
   "id": "3ea2acf4",
   "metadata": {},
   "source": [
    "## Insercción de datos en la tabla de localidades:"
   ]
  },
  {
   "cell_type": "code",
   "execution_count": 17,
   "id": "12a99969",
   "metadata": {},
   "outputs": [
    {
     "data": {
      "text/html": [
       "<div>\n",
       "<style scoped>\n",
       "    .dataframe tbody tr th:only-of-type {\n",
       "        vertical-align: middle;\n",
       "    }\n",
       "\n",
       "    .dataframe tbody tr th {\n",
       "        vertical-align: top;\n",
       "    }\n",
       "\n",
       "    .dataframe thead th {\n",
       "        text-align: right;\n",
       "    }\n",
       "</style>\n",
       "<table border=\"1\" class=\"dataframe\">\n",
       "  <thead>\n",
       "    <tr style=\"text-align: right;\">\n",
       "      <th></th>\n",
       "      <th>timepoint</th>\n",
       "      <th>cloudcover</th>\n",
       "      <th>lifted_index</th>\n",
       "      <th>prec_type</th>\n",
       "      <th>prec_amount</th>\n",
       "      <th>temp2m</th>\n",
       "      <th>rh2m</th>\n",
       "      <th>weather</th>\n",
       "      <th>wind10m.direction</th>\n",
       "      <th>wind10m.speed</th>\n",
       "      <th>fecha</th>\n",
       "      <th>latitud</th>\n",
       "      <th>longitud</th>\n",
       "      <th>ciudad</th>\n",
       "      <th>seeing</th>\n",
       "      <th>transparency</th>\n",
       "    </tr>\n",
       "  </thead>\n",
       "  <tbody>\n",
       "    <tr>\n",
       "      <th>0</th>\n",
       "      <td>3</td>\n",
       "      <td>3</td>\n",
       "      <td>6</td>\n",
       "      <td>none</td>\n",
       "      <td>0</td>\n",
       "      <td>16</td>\n",
       "      <td>58</td>\n",
       "      <td>pcloudynight</td>\n",
       "      <td>NW</td>\n",
       "      <td>3</td>\n",
       "      <td>2022-09-15</td>\n",
       "      <td>40.4165</td>\n",
       "      <td>-3.70256</td>\n",
       "      <td>Madrid</td>\n",
       "      <td>4</td>\n",
       "      <td>2</td>\n",
       "    </tr>\n",
       "    <tr>\n",
       "      <th>1</th>\n",
       "      <td>6</td>\n",
       "      <td>2</td>\n",
       "      <td>6</td>\n",
       "      <td>none</td>\n",
       "      <td>0</td>\n",
       "      <td>16</td>\n",
       "      <td>56</td>\n",
       "      <td>clearday</td>\n",
       "      <td>NW</td>\n",
       "      <td>3</td>\n",
       "      <td>2022-09-15</td>\n",
       "      <td>40.4165</td>\n",
       "      <td>-3.70256</td>\n",
       "      <td>Madrid</td>\n",
       "      <td>4</td>\n",
       "      <td>2</td>\n",
       "    </tr>\n",
       "  </tbody>\n",
       "</table>\n",
       "</div>"
      ],
      "text/plain": [
       "   timepoint  cloudcover  lifted_index prec_type  prec_amount  temp2m rh2m  \\\n",
       "0          3           3             6      none            0      16   58   \n",
       "1          6           2             6      none            0      16   56   \n",
       "\n",
       "        weather wind10m.direction  wind10m.speed      fecha  latitud  \\\n",
       "0  pcloudynight                NW              3 2022-09-15  40.4165   \n",
       "1      clearday                NW              3 2022-09-15  40.4165   \n",
       "\n",
       "   longitud  ciudad  seeing  transparency  \n",
       "0  -3.70256  Madrid       4             2  \n",
       "1  -3.70256  Madrid       4             2  "
      ]
     },
     "execution_count": 17,
     "metadata": {},
     "output_type": "execute_result"
    }
   ],
   "source": [
    "df.head(2)"
   ]
  },
  {
   "cell_type": "markdown",
   "id": "36971f20",
   "metadata": {},
   "source": [
    "Lo primero que tenemos que hacer es sacar los elementos únicos de nuestro *dataframe*, es decir, en esta tabla tendremos una fila por cada ciudad de la que tengamos datos. En nuestro caso, solo tenemos una ciudad por lo tanto esta tabla solo tendrá un elemento. \n",
    "\n",
    "Por otro lado, antes de introducir cualquier dato, tendremos que chequear si esa ciudad ya está en nuestra BBDD. "
   ]
  },
  {
   "cell_type": "markdown",
   "id": "8a6f33ff",
   "metadata": {},
   "source": [
    "Para chequear si esa ciudad ya existe en nuestro *dataframe* tendremos que hacer una query que nos devuelva las ciudades que tenemos. "
   ]
  },
  {
   "cell_type": "code",
   "execution_count": 19,
   "id": "e3373266",
   "metadata": {},
   "outputs": [],
   "source": [
    "# con esta query extraermos todos los valores únicos que tenemos en nuestra BBDD para la ciudad.\n",
    "\n",
    "def check_ciudades(contraseña, nombre_bbdd):\n",
    "    \n",
    "    cnx = mysql.connector.connect(user='root', password=f'{contraseña}',\n",
    "                                  host='127.0.0.1', database=f\"{nombre_bbdd}\")\n",
    "    mycursor = cnx.cursor()\n",
    "\n",
    "\n",
    "    query_existe_ciudad = f\"\"\"\n",
    "            SELECT DISTINCT ciudad FROM localidades\n",
    "            \"\"\"\n",
    "    mycursor.execute(query_existe_ciudad)\n",
    "    ciudades = mycursor.fetchall()\n",
    "    return ciudades"
   ]
  },
  {
   "cell_type": "code",
   "execution_count": 20,
   "id": "3869f7eb",
   "metadata": {},
   "outputs": [
    {
     "data": {
      "text/plain": [
       "[]"
      ]
     },
     "execution_count": 20,
     "metadata": {},
     "output_type": "execute_result"
    }
   ],
   "source": [
    "# qué nos devuelve esta función \n",
    "\n",
    "check_ciudades(\"AlumnaAdalab\", \"clima\")"
   ]
  },
  {
   "cell_type": "code",
   "execution_count": 21,
   "id": "01dda6da",
   "metadata": {},
   "outputs": [
    {
     "ename": "IndexError",
     "evalue": "list index out of range",
     "output_type": "error",
     "traceback": [
      "\u001b[1;31m---------------------------------------------------------------------------\u001b[0m",
      "\u001b[1;31mIndexError\u001b[0m                                Traceback (most recent call last)",
      "Cell \u001b[1;32mIn [21], line 3\u001b[0m\n\u001b[0;32m      1\u001b[0m \u001b[39m# Tenemos una lista con una tupla, por lo que nos tenemos que quedarnos con el elemento 0. \u001b[39;00m\n\u001b[1;32m----> 3\u001b[0m check_ciudades(\u001b[39m\"\u001b[39;49m\u001b[39mAlumnaAdalab\u001b[39;49m\u001b[39m\"\u001b[39;49m, \u001b[39m\"\u001b[39;49m\u001b[39mclima\u001b[39;49m\u001b[39m\"\u001b[39;49m)[\u001b[39m0\u001b[39;49m]\n",
      "\u001b[1;31mIndexError\u001b[0m: list index out of range"
     ]
    }
   ],
   "source": [
    "# Tenemos una lista con una tupla, por lo que nos tenemos que quedarnos con el elemento 0. \n",
    "\n",
    "check_ciudades(\"AlumnaAdalab\", \"clima\")[0]"
   ]
  },
  {
   "cell_type": "markdown",
   "id": "992d2f3e",
   "metadata": {},
   "source": [
    "Sobre este resultado ya podremos chequear si la ciudad que queremos insertar esta en nuestra BBDD o no. Vamos manos a la obra. "
   ]
  },
  {
   "cell_type": "code",
   "execution_count": 22,
   "id": "4960918c",
   "metadata": {
    "scrolled": false
   },
   "outputs": [
    {
     "name": "stdout",
     "output_type": "stream",
     "text": [
      "Madrid ya esta en nuestra BBDD\n",
      "Madrid ya esta en nuestra BBDD\n",
      "Madrid ya esta en nuestra BBDD\n",
      "Madrid ya esta en nuestra BBDD\n",
      "Madrid ya esta en nuestra BBDD\n",
      "Madrid ya esta en nuestra BBDD\n",
      "Madrid ya esta en nuestra BBDD\n",
      "Madrid ya esta en nuestra BBDD\n",
      "Madrid ya esta en nuestra BBDD\n",
      "Madrid ya esta en nuestra BBDD\n",
      "Madrid ya esta en nuestra BBDD\n",
      "Madrid ya esta en nuestra BBDD\n",
      "Madrid ya esta en nuestra BBDD\n",
      "Madrid ya esta en nuestra BBDD\n",
      "Madrid ya esta en nuestra BBDD\n",
      "Madrid ya esta en nuestra BBDD\n",
      "Madrid ya esta en nuestra BBDD\n",
      "Madrid ya esta en nuestra BBDD\n",
      "Madrid ya esta en nuestra BBDD\n",
      "Madrid ya esta en nuestra BBDD\n",
      "Madrid ya esta en nuestra BBDD\n",
      "Madrid ya esta en nuestra BBDD\n",
      "Madrid ya esta en nuestra BBDD\n",
      "Madrid ya esta en nuestra BBDD\n",
      "Madrid ya esta en nuestra BBDD\n",
      "Madrid ya esta en nuestra BBDD\n",
      "Madrid ya esta en nuestra BBDD\n",
      "Madrid ya esta en nuestra BBDD\n",
      "Madrid ya esta en nuestra BBDD\n",
      "Madrid ya esta en nuestra BBDD\n",
      "Madrid ya esta en nuestra BBDD\n",
      "Madrid ya esta en nuestra BBDD\n",
      "Madrid ya esta en nuestra BBDD\n",
      "Madrid ya esta en nuestra BBDD\n",
      "Madrid ya esta en nuestra BBDD\n",
      "Madrid ya esta en nuestra BBDD\n",
      "Madrid ya esta en nuestra BBDD\n",
      "Madrid ya esta en nuestra BBDD\n",
      "Madrid ya esta en nuestra BBDD\n",
      "Madrid ya esta en nuestra BBDD\n",
      "Madrid ya esta en nuestra BBDD\n",
      "Madrid ya esta en nuestra BBDD\n",
      "Madrid ya esta en nuestra BBDD\n",
      "Madrid ya esta en nuestra BBDD\n",
      "Madrid ya esta en nuestra BBDD\n",
      "Madrid ya esta en nuestra BBDD\n",
      "Madrid ya esta en nuestra BBDD\n"
     ]
    }
   ],
   "source": [
    "for indice, fila in df.iterrows():\n",
    "    \n",
    "    # creamos la query que no inserta datos en la tabla localidades\n",
    "    query_localidad = f\"\"\"\n",
    "                INSERT INTO localidades (latitud, longitud, ciudad) \n",
    "                VALUES ( \"{fila[\"latitud\"]}\", \"{fila['longitud']}\", \"{fila['ciudad']}\");\n",
    "                \"\"\"\n",
    "    # llamamos a la funcion check_ciudades para saber que ciudades tenemos en la BBDD\n",
    "    ciudades = check_ciudades(\"AlumnaAdalab\", \"clima\")\n",
    "    \n",
    "    # Si la BBDD de datos esta vacía,  podemos insertar la ciudad. \n",
    "    # \n",
    "    if len(ciudades) == 0 or fila['ciudad'] not in ciudades[0]: \n",
    "        crear_insertar_tabla(\"clima\",\"AlumnaAdalab\", query_localidad)\n",
    "\n",
    "    else:\n",
    "        print(f\"{fila['ciudad']} ya esta en nuestra BBDD\")    "
   ]
  },
  {
   "cell_type": "markdown",
   "id": "6c32942d",
   "metadata": {},
   "source": [
    "## Insercción de datos en la tabla de mediciones:"
   ]
  },
  {
   "cell_type": "markdown",
   "id": "7b8cfb0a",
   "metadata": {},
   "source": [
    "Es el momento de meter en la BBDD la información de las mediciones. Y aquí la cosa se complica un poco porque tenemos que tener en cuenta que debemos vincular estos datos con las *primary keys* de las otras tablas. \n",
    "\n",
    "Tendremos que chequear a que ciudad corresponde cada fila de nuestra ciudad y vincularlo con el id que tiene en la BBDD de datos y lo mismo para la información de las fechas. "
   ]
  },
  {
   "cell_type": "code",
   "execution_count": 23,
   "id": "1822021f",
   "metadata": {},
   "outputs": [
    {
     "data": {
      "text/html": [
       "<div>\n",
       "<style scoped>\n",
       "    .dataframe tbody tr th:only-of-type {\n",
       "        vertical-align: middle;\n",
       "    }\n",
       "\n",
       "    .dataframe tbody tr th {\n",
       "        vertical-align: top;\n",
       "    }\n",
       "\n",
       "    .dataframe thead th {\n",
       "        text-align: right;\n",
       "    }\n",
       "</style>\n",
       "<table border=\"1\" class=\"dataframe\">\n",
       "  <thead>\n",
       "    <tr style=\"text-align: right;\">\n",
       "      <th></th>\n",
       "      <th>timepoint</th>\n",
       "      <th>cloudcover</th>\n",
       "      <th>lifted_index</th>\n",
       "      <th>prec_type</th>\n",
       "      <th>prec_amount</th>\n",
       "      <th>temp2m</th>\n",
       "      <th>rh2m</th>\n",
       "      <th>weather</th>\n",
       "      <th>wind10m.direction</th>\n",
       "      <th>wind10m.speed</th>\n",
       "      <th>fecha</th>\n",
       "      <th>latitud</th>\n",
       "      <th>longitud</th>\n",
       "      <th>ciudad</th>\n",
       "      <th>seeing</th>\n",
       "      <th>transparency</th>\n",
       "    </tr>\n",
       "  </thead>\n",
       "  <tbody>\n",
       "    <tr>\n",
       "      <th>0</th>\n",
       "      <td>3</td>\n",
       "      <td>1</td>\n",
       "      <td>15</td>\n",
       "      <td>none</td>\n",
       "      <td>0</td>\n",
       "      <td>5</td>\n",
       "      <td>64</td>\n",
       "      <td>clearnight</td>\n",
       "      <td>NW</td>\n",
       "      <td>3</td>\n",
       "      <td>2023-01-10</td>\n",
       "      <td>40.4165</td>\n",
       "      <td>-3.70256</td>\n",
       "      <td>Madrid</td>\n",
       "      <td>5</td>\n",
       "      <td>2</td>\n",
       "    </tr>\n",
       "    <tr>\n",
       "      <th>1</th>\n",
       "      <td>6</td>\n",
       "      <td>2</td>\n",
       "      <td>15</td>\n",
       "      <td>none</td>\n",
       "      <td>0</td>\n",
       "      <td>6</td>\n",
       "      <td>55</td>\n",
       "      <td>clearnight</td>\n",
       "      <td>NW</td>\n",
       "      <td>3</td>\n",
       "      <td>2023-01-10</td>\n",
       "      <td>40.4165</td>\n",
       "      <td>-3.70256</td>\n",
       "      <td>Madrid</td>\n",
       "      <td>5</td>\n",
       "      <td>2</td>\n",
       "    </tr>\n",
       "    <tr>\n",
       "      <th>2</th>\n",
       "      <td>9</td>\n",
       "      <td>1</td>\n",
       "      <td>15</td>\n",
       "      <td>none</td>\n",
       "      <td>0</td>\n",
       "      <td>8</td>\n",
       "      <td>45</td>\n",
       "      <td>clearday</td>\n",
       "      <td>NW</td>\n",
       "      <td>2</td>\n",
       "      <td>2023-01-10</td>\n",
       "      <td>40.4165</td>\n",
       "      <td>-3.70256</td>\n",
       "      <td>Madrid</td>\n",
       "      <td>3</td>\n",
       "      <td>2</td>\n",
       "    </tr>\n",
       "  </tbody>\n",
       "</table>\n",
       "</div>"
      ],
      "text/plain": [
       "   timepoint  cloudcover  lifted_index prec_type  prec_amount  temp2m rh2m  \\\n",
       "0          3           1            15      none            0       5   64   \n",
       "1          6           2            15      none            0       6   55   \n",
       "2          9           1            15      none            0       8   45   \n",
       "\n",
       "      weather wind10m.direction  wind10m.speed      fecha  latitud  longitud  \\\n",
       "0  clearnight                NW              3 2023-01-10  40.4165  -3.70256   \n",
       "1  clearnight                NW              3 2023-01-10  40.4165  -3.70256   \n",
       "2    clearday                NW              2 2023-01-10  40.4165  -3.70256   \n",
       "\n",
       "   ciudad  seeing  transparency  \n",
       "0  Madrid       5             2  \n",
       "1  Madrid       5             2  \n",
       "2  Madrid       3             2  "
      ]
     },
     "execution_count": 23,
     "metadata": {},
     "output_type": "execute_result"
    }
   ],
   "source": [
    "df.head(3)"
   ]
  },
  {
   "cell_type": "code",
   "execution_count": 24,
   "id": "3cbc8b22",
   "metadata": {},
   "outputs": [],
   "source": [
    "df[\"seeing\"] = round(df[\"seeing\"], 2)"
   ]
  },
  {
   "cell_type": "markdown",
   "id": "3f1ff57a",
   "metadata": {},
   "source": [
    "Lo primero que tendremos que hacer será crearnos una query que nos devuelva el `id` de la ciudad para cada fila de nuestro *dataframe* "
   ]
  },
  {
   "cell_type": "code",
   "execution_count": 25,
   "id": "0f8cff12",
   "metadata": {},
   "outputs": [],
   "source": [
    "def sacar_id_ciudad(contraseña, nombre_bbdd, ciudad):\n",
    "    \n",
    "    # creamos la conexion con el servidor y la BBDD\n",
    "    cnx = mysql.connector.connect(user='root', password= f'{contraseña}',\n",
    "                                  host='127.0.0.1', database=f\"{nombre_bbdd}\")\n",
    "    mycursor = cnx.cursor()\n",
    "\n",
    "    # creamos la query para sacar el id de la ciudad que queramos\n",
    "    query_sacar_id = f\"SELECT idlocalidad FROM localidades WHERE ciudad = '{ciudad}'\"\n",
    "    \n",
    "    # puede que el id de la ciudad que estemos intentando insertar no este en nuestra BBDD. Por lo que vamos a hacer un try except para que no nos falle el código\n",
    "    try: \n",
    "        mycursor.execute(query_sacar_id)\n",
    "        id_ = mycursor.fetchall()[0][0]\n",
    "        return id_\n",
    "    \n",
    "    except: \n",
    "        return \"Sorry, no tenemos esa ciudad en la BBDD y por lo tanto no te podemos dar su id. \""
   ]
  },
  {
   "cell_type": "code",
   "execution_count": 26,
   "id": "7c51259e",
   "metadata": {},
   "outputs": [
    {
     "data": {
      "text/plain": [
       "1"
      ]
     },
     "execution_count": 26,
     "metadata": {},
     "output_type": "execute_result"
    }
   ],
   "source": [
    "sacar_id_ciudad(\"AlumnaAdalab\", \"clima\", 'Madrid')"
   ]
  },
  {
   "cell_type": "markdown",
   "id": "62272da3",
   "metadata": {},
   "source": [
    "Lo mismo tendremos que hacer para las fechas: "
   ]
  },
  {
   "cell_type": "code",
   "execution_count": 27,
   "id": "b2b40659",
   "metadata": {},
   "outputs": [],
   "source": [
    "def sacar_id_fecha(contraseña, nombre_bbdd, timepoint, fecha):\n",
    "        \n",
    "        cnx = mysql.connector.connect(user='root', password=f'{contraseña}',\n",
    "                                      host='127.0.0.1', database=f\"{nombre_bbdd}\")\n",
    "        mycursor = cnx.cursor()\n",
    "\n",
    "\n",
    "        query_sacar_id = f\"SELECT idtiempo FROM tiempo WHERE timepoint = {timepoint} and fecha = '{fecha}'\"\n",
    "        \n",
    "        try: \n",
    "            mycursor.execute(query_sacar_id)\n",
    "            id_ = mycursor.fetchall()[0][0]\n",
    "            return id_\n",
    "        \n",
    "        except: \n",
    "             return \"Sorry, no tenemos esa fecha en la BBDD y por lo tanto no te podemos dar su id. \"\n",
    "            "
   ]
  },
  {
   "cell_type": "code",
   "execution_count": 28,
   "id": "389b16a5",
   "metadata": {},
   "outputs": [
    {
     "data": {
      "text/plain": [
       "'Sorry, no tenemos esa fecha en la BBDD y por lo tanto no te podemos dar su id. '"
      ]
     },
     "execution_count": 28,
     "metadata": {},
     "output_type": "execute_result"
    }
   ],
   "source": [
    "sacar_id_fecha(\"AlumnaAdalab\", \"clima\", 3, '2022-03-16' )"
   ]
  },
  {
   "cell_type": "markdown",
   "id": "18a6137d",
   "metadata": {},
   "source": [
    "Una vez que somos capaces de sacar los `id` para la fecha y las localidades ya podremos insertar los datos en la BBDD. "
   ]
  },
  {
   "cell_type": "code",
   "execution_count": 29,
   "id": "5f1897f4",
   "metadata": {},
   "outputs": [],
   "source": [
    "for indice, fila in df.iterrows():\n",
    "    \n",
    "    id_ciudad = sacar_id_ciudad(\"AlumnaAdalab\", \"clima\", fila['ciudad'])\n",
    "    id_fecha = sacar_id_fecha(\"AlumnaAdalab\", \"clima\", fila[\"timepoint\"], fila[\"fecha\"])\n",
    "    \n",
    "    query_medidas = f\"\"\"\n",
    "                INSERT INTO mediciones (cloudcover, lifted_index, prec_type, prec_amount, temp2m, rh2m, weather, wind_direction, wind_speed, seeing, transparency, idtiempo, idlocalidad) \n",
    "                VALUES ({fila[\"cloudcover\"]}, {fila['lifted_index']}, \"{fila['prec_type']}\", {fila['prec_amount']},{fila['temp2m']},{fila['rh2m']}, \"{fila['weather']}\",\"{fila['wind10m.direction']}\",{fila['wind10m.speed']}, {fila['seeing']}, {fila['transparency']}, {id_fecha}, {id_ciudad});\n",
    "                \"\"\"\n",
    "    crear_insertar_tabla(\"clima\",\"AlumnaAdalab\", query_medidas)\n",
    "    "
   ]
  },
  {
   "cell_type": "markdown",
   "id": "7f365e92",
   "metadata": {},
   "source": [
    "Perfecto! Ya tenemos toda la información metida en nuestra BBDD. Hemos completado el proceso de carga de nuestros datos 🥳. Ahora solo nos queda crearnos una clase para tener todo este proceso unificado. Este proceso lo tenéis en el siguiente jupyter `ETL-3.2`"
   ]
  },
  {
   "cell_type": "markdown",
   "id": "b0993ce4",
   "metadata": {},
   "source": [
    "**EJERCICIOS** \n",
    "\n",
    "En el ejercicio de ayer hicimos la llamada a la API a un nuevo producto, lo limpiamos y lo unimos todo. En la lección de hoy aprendimos a meterlo en SQL. Con los resultados de los  disintos productos, intentad crear una BBDD con distintas tablas donde cada tabla corresponda a un producto. "
   ]
  }
 ],
 "metadata": {
  "kernelspec": {
   "display_name": "Python 3",
   "language": "python",
   "name": "python3"
  },
  "language_info": {
   "codemirror_mode": {
    "name": "ipython",
    "version": 3
   },
   "file_extension": ".py",
   "mimetype": "text/x-python",
   "name": "python",
   "nbconvert_exporter": "python",
   "pygments_lexer": "ipython3",
   "version": "3.8.10"
  },
  "toc": {
   "base_numbering": 1,
   "nav_menu": {},
   "number_sections": true,
   "sideBar": true,
   "skip_h1_title": false,
   "title_cell": "Table of Contents",
   "title_sidebar": "Contents",
   "toc_cell": true,
   "toc_position": {},
   "toc_section_display": true,
   "toc_window_display": false
  },
  "vscode": {
   "interpreter": {
    "hash": "79dd3c927003417683b619f87ecd0018a9d7de8be3a2646bb47397e38116df1b"
   }
  }
 },
 "nbformat": 4,
 "nbformat_minor": 5
}

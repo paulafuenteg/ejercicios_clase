{
 "cells": [
  {
   "cell_type": "markdown",
   "id": "4933404c",
   "metadata": {
    "toc": true
   },
   "source": [
    "<h1>Table of Contents<span class=\"tocSkip\"></span></h1>\n",
    "<div class=\"toc\"><ul class=\"toc-item\"><li><span><a href=\"#Tratamiento-de-valores-nulos\" data-toc-modified-id=\"Tratamiento-de-valores-nulos-1\"><span class=\"toc-item-num\">1&nbsp;&nbsp;</span>Tratamiento de valores nulos</a></span></li><li><span><a href=\"#Eliminacion-de-filas-con-valores-nulos\" data-toc-modified-id=\"Eliminacion-de-filas-con-valores-nulos-2\"><span class=\"toc-item-num\">2&nbsp;&nbsp;</span>Eliminacion de filas con valores nulos</a></span><ul class=\"toc-item\"><li><span><a href=\"#Imputar-los-valores-perdidos-para-la-variable-continua\" data-toc-modified-id=\"Imputar-los-valores-perdidos-para-la-variable-continua-2.1\"><span class=\"toc-item-num\">2.1&nbsp;&nbsp;</span>Imputar los valores perdidos para la <code>variable continua</code></a></span><ul class=\"toc-item\"><li><span><a href=\"#fillna()\" data-toc-modified-id=\"fillna()-2.1.1\"><span class=\"toc-item-num\">2.1.1&nbsp;&nbsp;</span><code>fillna()</code></a></span></li><li><span><a href=\"#replace()\" data-toc-modified-id=\"replace()-2.1.2\"><span class=\"toc-item-num\">2.1.2&nbsp;&nbsp;</span>replace()</a></span></li></ul></li><li><span><a href=\"#Imputar-los-valores-perdidos-de-una-variable-categórica\" data-toc-modified-id=\"Imputar-los-valores-perdidos-de-una-variable-categórica-2.2\"><span class=\"toc-item-num\">2.2&nbsp;&nbsp;</span>Imputar los valores perdidos de una <code>variable categórica</code></a></span></li></ul></li></ul></div>"
   ]
  },
  {
   "cell_type": "code",
   "execution_count": 4,
   "id": "5a92e05c",
   "metadata": {},
   "outputs": [],
   "source": [
    "import pandas as pd\n",
    "import seaborn as sns\n",
    "import matplotlib.pyplot as plt\n",
    "import numpy as np"
   ]
  },
  {
   "cell_type": "code",
   "execution_count": 5,
   "id": "786e694b",
   "metadata": {},
   "outputs": [
    {
     "data": {
      "text/html": [
       "<div>\n",
       "<style scoped>\n",
       "    .dataframe tbody tr th:only-of-type {\n",
       "        vertical-align: middle;\n",
       "    }\n",
       "\n",
       "    .dataframe tbody tr th {\n",
       "        vertical-align: top;\n",
       "    }\n",
       "\n",
       "    .dataframe thead th {\n",
       "        text-align: right;\n",
       "    }\n",
       "</style>\n",
       "<table border=\"1\" class=\"dataframe\">\n",
       "  <thead>\n",
       "    <tr style=\"text-align: right;\">\n",
       "      <th></th>\n",
       "      <th>appid</th>\n",
       "      <th>name</th>\n",
       "      <th>release_date</th>\n",
       "      <th>english</th>\n",
       "      <th>developer</th>\n",
       "      <th>publisher</th>\n",
       "      <th>platforms</th>\n",
       "      <th>required_age</th>\n",
       "      <th>categories</th>\n",
       "      <th>genres</th>\n",
       "      <th>steamspy_tags</th>\n",
       "      <th>achievements</th>\n",
       "      <th>positive_ratings</th>\n",
       "      <th>negative_ratings</th>\n",
       "      <th>average_playtime</th>\n",
       "      <th>median_playtime</th>\n",
       "      <th>owners</th>\n",
       "      <th>price</th>\n",
       "      <th>clasificacion</th>\n",
       "    </tr>\n",
       "  </thead>\n",
       "  <tbody>\n",
       "    <tr>\n",
       "      <th>3962</th>\n",
       "      <td>325870.0</td>\n",
       "      <td>Clash of Puppets</td>\n",
       "      <td>2014-12-16</td>\n",
       "      <td>Yes</td>\n",
       "      <td>Drakkar Dev</td>\n",
       "      <td>Crescent Moon Games</td>\n",
       "      <td>windows</td>\n",
       "      <td>0.0</td>\n",
       "      <td>Single-player;Steam Achievements;Full controll...</td>\n",
       "      <td>Action;Indie</td>\n",
       "      <td>Action;Indie;Horror</td>\n",
       "      <td>60</td>\n",
       "      <td>NaN</td>\n",
       "      <td>16.0</td>\n",
       "      <td>0</td>\n",
       "      <td>0</td>\n",
       "      <td>0-20000</td>\n",
       "      <td>3.99</td>\n",
       "      <td>Average</td>\n",
       "    </tr>\n",
       "    <tr>\n",
       "      <th>10404</th>\n",
       "      <td>512420.0</td>\n",
       "      <td>Wave Magic VR</td>\n",
       "      <td>2016-12-29</td>\n",
       "      <td>Yes</td>\n",
       "      <td>Overrun Games</td>\n",
       "      <td>Overrun Games</td>\n",
       "      <td>windows</td>\n",
       "      <td>0.0</td>\n",
       "      <td>Single-player;Steam Trading Cards</td>\n",
       "      <td>Action;Indie;RPG;Early Access</td>\n",
       "      <td>Early Access;Action;Indie</td>\n",
       "      <td>0</td>\n",
       "      <td>16.0</td>\n",
       "      <td>7.0</td>\n",
       "      <td>0</td>\n",
       "      <td>0</td>\n",
       "      <td>0-20000</td>\n",
       "      <td>4.79</td>\n",
       "      <td>Average</td>\n",
       "    </tr>\n",
       "  </tbody>\n",
       "</table>\n",
       "</div>"
      ],
      "text/plain": [
       "          appid              name release_date english      developer  \\\n",
       "3962   325870.0  Clash of Puppets   2014-12-16     Yes    Drakkar Dev   \n",
       "10404  512420.0     Wave Magic VR   2016-12-29     Yes  Overrun Games   \n",
       "\n",
       "                 publisher platforms  required_age  \\\n",
       "3962   Crescent Moon Games   windows           0.0   \n",
       "10404        Overrun Games   windows           0.0   \n",
       "\n",
       "                                              categories  \\\n",
       "3962   Single-player;Steam Achievements;Full controll...   \n",
       "10404                  Single-player;Steam Trading Cards   \n",
       "\n",
       "                              genres              steamspy_tags  achievements  \\\n",
       "3962                    Action;Indie        Action;Indie;Horror            60   \n",
       "10404  Action;Indie;RPG;Early Access  Early Access;Action;Indie             0   \n",
       "\n",
       "       positive_ratings  negative_ratings  average_playtime  median_playtime  \\\n",
       "3962                NaN              16.0                 0                0   \n",
       "10404              16.0               7.0                 0                0   \n",
       "\n",
       "        owners  price clasificacion  \n",
       "3962   0-20000   3.99       Average  \n",
       "10404  0-20000   4.79       Average  "
      ]
     },
     "execution_count": 5,
     "metadata": {},
     "output_type": "execute_result"
    }
   ],
   "source": [
    "df = pd.read_csv(\"datos/steam_con_nulos.csv\", index_col = 0)\n",
    "\n",
    "# es un dataset muy grande y tarda mucho en cargar, por lo que vamos a trabajar con una muestra\n",
    "df = df.sample(1000)\n",
    "df.head(2)"
   ]
  },
  {
   "cell_type": "markdown",
   "id": "fa4990d5",
   "metadata": {},
   "source": [
    "# Tratamiento de valores nulos\n",
    "\n",
    "Los datos suelen tener muchos valores perdidos o valores nulos. La causa de esto puede ser la corrupción de los datos o la falta de registro de los mismos. El tratamiento de los datos que faltan es esencial durante el preprocesamiento de nuestro conjunto de datos. \n",
    "\n",
    "El proceso de rellenar los datos que faltan con un determinado método estadístico se conoce como **imputación** y tiene una gran variedad de opciones. \n",
    "\n",
    "En este jupyter veremos como podemos hacer frente a este tipo de valores y como podemos reducir su número al menor posible. Lsa principales formas que tenemos para hacer son: \n",
    "\n",
    "- Eliminación de filas con valores perdidos\n",
    "\n",
    "\n",
    "- Imputar los valores perdidos para la variable continua\n",
    "\n",
    "\n",
    "- Imputar los valores perdidos de una variable categórica\n",
    "\n",
    "\n",
    "- Otros métodos de imputación (los veremos en la siguiente lección)"
   ]
  },
  {
   "cell_type": "code",
   "execution_count": 6,
   "id": "dcc7fefd",
   "metadata": {},
   "outputs": [
    {
     "data": {
      "text/html": [
       "<div>\n",
       "<style scoped>\n",
       "    .dataframe tbody tr th:only-of-type {\n",
       "        vertical-align: middle;\n",
       "    }\n",
       "\n",
       "    .dataframe tbody tr th {\n",
       "        vertical-align: top;\n",
       "    }\n",
       "\n",
       "    .dataframe thead th {\n",
       "        text-align: right;\n",
       "    }\n",
       "</style>\n",
       "<table border=\"1\" class=\"dataframe\">\n",
       "  <thead>\n",
       "    <tr style=\"text-align: right;\">\n",
       "      <th></th>\n",
       "      <th>columna</th>\n",
       "      <th>porcentaje</th>\n",
       "    </tr>\n",
       "  </thead>\n",
       "  <tbody>\n",
       "    <tr>\n",
       "      <th>0</th>\n",
       "      <td>appid</td>\n",
       "      <td>1.0</td>\n",
       "    </tr>\n",
       "    <tr>\n",
       "      <th>1</th>\n",
       "      <td>name</td>\n",
       "      <td>0.8</td>\n",
       "    </tr>\n",
       "    <tr>\n",
       "      <th>2</th>\n",
       "      <td>release_date</td>\n",
       "      <td>0.3</td>\n",
       "    </tr>\n",
       "    <tr>\n",
       "      <th>3</th>\n",
       "      <td>english</td>\n",
       "      <td>0.0</td>\n",
       "    </tr>\n",
       "    <tr>\n",
       "      <th>4</th>\n",
       "      <td>developer</td>\n",
       "      <td>10.2</td>\n",
       "    </tr>\n",
       "    <tr>\n",
       "      <th>5</th>\n",
       "      <td>publisher</td>\n",
       "      <td>9.1</td>\n",
       "    </tr>\n",
       "    <tr>\n",
       "      <th>6</th>\n",
       "      <td>platforms</td>\n",
       "      <td>0.0</td>\n",
       "    </tr>\n",
       "    <tr>\n",
       "      <th>7</th>\n",
       "      <td>required_age</td>\n",
       "      <td>2.4</td>\n",
       "    </tr>\n",
       "    <tr>\n",
       "      <th>8</th>\n",
       "      <td>categories</td>\n",
       "      <td>0.0</td>\n",
       "    </tr>\n",
       "    <tr>\n",
       "      <th>9</th>\n",
       "      <td>genres</td>\n",
       "      <td>0.0</td>\n",
       "    </tr>\n",
       "    <tr>\n",
       "      <th>10</th>\n",
       "      <td>steamspy_tags</td>\n",
       "      <td>0.7</td>\n",
       "    </tr>\n",
       "    <tr>\n",
       "      <th>11</th>\n",
       "      <td>achievements</td>\n",
       "      <td>0.0</td>\n",
       "    </tr>\n",
       "    <tr>\n",
       "      <th>12</th>\n",
       "      <td>positive_ratings</td>\n",
       "      <td>5.4</td>\n",
       "    </tr>\n",
       "    <tr>\n",
       "      <th>13</th>\n",
       "      <td>negative_ratings</td>\n",
       "      <td>4.0</td>\n",
       "    </tr>\n",
       "    <tr>\n",
       "      <th>14</th>\n",
       "      <td>average_playtime</td>\n",
       "      <td>0.0</td>\n",
       "    </tr>\n",
       "    <tr>\n",
       "      <th>15</th>\n",
       "      <td>median_playtime</td>\n",
       "      <td>0.0</td>\n",
       "    </tr>\n",
       "    <tr>\n",
       "      <th>16</th>\n",
       "      <td>owners</td>\n",
       "      <td>5.5</td>\n",
       "    </tr>\n",
       "    <tr>\n",
       "      <th>17</th>\n",
       "      <td>price</td>\n",
       "      <td>0.0</td>\n",
       "    </tr>\n",
       "    <tr>\n",
       "      <th>18</th>\n",
       "      <td>clasificacion</td>\n",
       "      <td>0.0</td>\n",
       "    </tr>\n",
       "  </tbody>\n",
       "</table>\n",
       "</div>"
      ],
      "text/plain": [
       "             columna  porcentaje\n",
       "0              appid         1.0\n",
       "1               name         0.8\n",
       "2       release_date         0.3\n",
       "3            english         0.0\n",
       "4          developer        10.2\n",
       "5          publisher         9.1\n",
       "6          platforms         0.0\n",
       "7       required_age         2.4\n",
       "8         categories         0.0\n",
       "9             genres         0.0\n",
       "10     steamspy_tags         0.7\n",
       "11      achievements         0.0\n",
       "12  positive_ratings         5.4\n",
       "13  negative_ratings         4.0\n",
       "14  average_playtime         0.0\n",
       "15   median_playtime         0.0\n",
       "16            owners         5.5\n",
       "17             price         0.0\n",
       "18     clasificacion         0.0"
      ]
     },
     "execution_count": 6,
     "metadata": {},
     "output_type": "execute_result"
    }
   ],
   "source": [
    "# como en este jupyter vamos a trabajar con nulos, lo primero que vamos a hacer es calcular el porcentaje de nulos \n",
    "## que tenemos en nuestro dataframe\n",
    "\n",
    "nulos = pd.DataFrame((df.isnull().sum() * 100) / df.shape[0]).reset_index()\n",
    "nulos.columns = [\"columna\", \"porcentaje\"]\n",
    "nulos"
   ]
  },
  {
   "cell_type": "markdown",
   "id": "31b68f67",
   "metadata": {},
   "source": [
    "Si nos fijamos en nuestro *dataset* no tenemos un gran número de nulos. Aún así nos encontramos con columnas que tienen nulos y lo ideal es que tengamos el menor número de nulos. \n",
    "\n",
    "En este caso están involucradas tanto variables numéricas como de tipo *string* y la forma en la que lidiaremos con estos nulos será diferente. "
   ]
  },
  {
   "cell_type": "markdown",
   "id": "a124a138",
   "metadata": {},
   "source": [
    "# Eliminacion de filas con valores nulos \n",
    "\n",
    "Los valores nulos se pueden manejar eliminando las filas o columnas que tienen valores nulos. \n",
    "\n",
    "- Si las **columnas** tienen más de la mitad de las filas como nulos, se puede eliminar toda la columna. \n",
    "\n",
    "\n",
    "- En el caso de las **filas**, aquellas que tienen uno o más valores de columnas como nulos también pueden ser eliminadas.\n",
    "\n",
    "Este forma de eliminar nulos tiene los siguientes pros y contras: \n",
    "\n",
    "|Pros   |   Contras|  \n",
    "|---|---|\n",
    "| Un modelo entrenado con la eliminación de todos los valores perdidos crea un modelo robusto. |  Pérdida de mucha información. |  \n",
    "|   | Funciona mal si el porcentaje de valores perdidos es excesivo en comparación con el conjunto de datos completo. | \n"
   ]
  },
  {
   "cell_type": "markdown",
   "id": "0c62f61a",
   "metadata": {},
   "source": [
    "En este caso usaremos el método `dropna` de Pandas. Su sintaxis es: \n",
    "\n",
    "```python\n",
    "MiDataFrame.dropna(axis=0, how='any', subset=None, inplace=False)\n",
    "```\n",
    "\n",
    "Donde: \n",
    "\n",
    "- `axis`: por defecto 0. Determina si las filas o las columnas tienen valores nulos\n",
    "\n",
    "    - 0: elimina las filas que tienen valores nulos. \n",
    "    \n",
    "    - 1: elimina las columnas que tienen valores nulos. \n",
    "\n",
    "\n",
    "\n",
    "\n",
    "- `how`:  por defecto 'any'. Determina si la fila o la columna tiene al menos un NaN o todos. \n",
    "\n",
    "    - any : si hay algún valor NA, se elimina esa fila o columna.\n",
    "\n",
    "    - all : si todos los valores son NA, se elimina esa fila o columna.\n",
    "\n",
    "\n",
    "- `subset`:opcional.Columna o lista de columnas sobre las que queremos queremos aplicar el dropna. Es decir, se chequeará si las columnas pasadas tienen nulos, y en función del parámetro `how` se eliminaran. \n",
    "\n",
    "\n",
    "- `inplace`: por defecto False\n",
    "\n",
    "    - Si es True, realiza la operación inplace y devuelve None.\n",
    "\n"
   ]
  },
  {
   "cell_type": "code",
   "execution_count": 7,
   "id": "17181a23",
   "metadata": {},
   "outputs": [],
   "source": [
    "# en este caso haremos un dropna de todo el dataframe donde al menos haya un nulo\n",
    "\n",
    "df_sin_nulos = df.dropna(how = \"any\")"
   ]
  },
  {
   "cell_type": "code",
   "execution_count": 8,
   "id": "6ea625b7",
   "metadata": {},
   "outputs": [
    {
     "data": {
      "text/plain": [
       "appid               0\n",
       "name                0\n",
       "release_date        0\n",
       "english             0\n",
       "developer           0\n",
       "publisher           0\n",
       "platforms           0\n",
       "required_age        0\n",
       "categories          0\n",
       "genres              0\n",
       "steamspy_tags       0\n",
       "achievements        0\n",
       "positive_ratings    0\n",
       "negative_ratings    0\n",
       "average_playtime    0\n",
       "median_playtime     0\n",
       "owners              0\n",
       "price               0\n",
       "clasificacion       0\n",
       "dtype: int64"
      ]
     },
     "execution_count": 8,
     "metadata": {},
     "output_type": "execute_result"
    }
   ],
   "source": [
    "# chequeemos si seguimos teniendo valores nulos\n",
    "\n",
    "df_sin_nulos.isnull().sum()"
   ]
  },
  {
   "cell_type": "markdown",
   "id": "5e96c7d4",
   "metadata": {},
   "source": [
    "Sin embargo, también podemos eliminar los nulos en función de una columna. En nuestro *dataset* que es de opiniones de videojuegos poco sentido tiene tener filas sin el nombre de los juegos. Por lo tanto, en este caso tendría sentido eliminar todos los nulos que nos encontremos en esa columna. \n",
    "\n",
    "Lo haremos de la misma forma, usando el método `dropna` pero en este caso tendremos que especificar sobre que columna queremos que aplique el \"filtro\". \n",
    "\n",
    "Veámoslo con un ejemplo: "
   ]
  },
  {
   "cell_type": "code",
   "execution_count": 9,
   "id": "53a87be0",
   "metadata": {},
   "outputs": [],
   "source": [
    "df.dropna(subset= [\"name\"], how = \"any\", inplace = True)\n",
    "df.reset_index(inplace = True)"
   ]
  },
  {
   "cell_type": "code",
   "execution_count": 10,
   "id": "8f0a775b",
   "metadata": {},
   "outputs": [
    {
     "data": {
      "text/plain": [
       "index                 0\n",
       "appid                10\n",
       "name                  0\n",
       "release_date          3\n",
       "english               0\n",
       "developer           100\n",
       "publisher            91\n",
       "platforms             0\n",
       "required_age         24\n",
       "categories            0\n",
       "genres                0\n",
       "steamspy_tags         7\n",
       "achievements          0\n",
       "positive_ratings     54\n",
       "negative_ratings     39\n",
       "average_playtime      0\n",
       "median_playtime       0\n",
       "owners               55\n",
       "price                 0\n",
       "clasificacion         0\n",
       "dtype: int64"
      ]
     },
     "execution_count": 10,
     "metadata": {},
     "output_type": "execute_result"
    }
   ],
   "source": [
    "# Perfecto! hemos consegido eliminar los nulos de la columna \"name\"\n",
    "df.isnull().sum()"
   ]
  },
  {
   "cell_type": "markdown",
   "id": "9552019d",
   "metadata": {},
   "source": [
    "## Imputar los valores perdidos para la `variable continua`\n",
    "\n",
    "Las columnas del *dataframe* que tienen valores numéricos continuos pueden sustituirse por la media, la mediana o la moda de los valores restantes de la columna. Este método puede evitar la pérdida de datos en comparación con el método anterior. La sustitución de las dos aproximaciones anteriores (media y mediana) es un enfoque estadístico para tratar los valores que faltan.\n",
    "\n",
    "\n",
    "|Pros   |   Contras|  \n",
    "|---|---|\n",
    "| Evita la pérdida de datos que supone la eliminación de filas o columnas|Sólo funciona con variables numéricas continuas. |\n",
    "| Funciona bien con un pequeño conjunto de datos y es fácil de implementar.  |  Puede ocasionar pérdida de datos| \n",
    " "
   ]
  },
  {
   "cell_type": "markdown",
   "id": "cbc20fbd",
   "metadata": {},
   "source": [
    "Esto lo podremos hacer de dos formas: \n",
    "\n",
    "- Usando el método `fillna` \n",
    "\n",
    "\n",
    "- Usando el método `replace`"
   ]
  },
  {
   "cell_type": "markdown",
   "id": "fa713419",
   "metadata": {},
   "source": [
    "📌 Nos podemos preguntar 🤔 en que basamos nuestra decisión para reemplazar los valores nulos por la media, la mediana.\n",
    "\n",
    "Si bien es cierto que no hay una fórmula mágica para esto, podriamos decir que: \n",
    "\n",
    "- Si nuestros datos están mas o menos agrupados y no presentan una gran desviación podríamos usar la media\n",
    "\n",
    "\n",
    "\n",
    "- Si nuestros presentan una desviación muy grande, en ese caso lo normal sera usar la mediana. \n",
    "\n",
    "Recordamos que para saber como es la distribución de nuestros datos, el mejor plot es el histograma. "
   ]
  },
  {
   "cell_type": "code",
   "execution_count": 11,
   "id": "13ae178d",
   "metadata": {},
   "outputs": [
    {
     "data": {
      "text/html": [
       "<div>\n",
       "<style scoped>\n",
       "    .dataframe tbody tr th:only-of-type {\n",
       "        vertical-align: middle;\n",
       "    }\n",
       "\n",
       "    .dataframe tbody tr th {\n",
       "        vertical-align: top;\n",
       "    }\n",
       "\n",
       "    .dataframe thead th {\n",
       "        text-align: right;\n",
       "    }\n",
       "</style>\n",
       "<table border=\"1\" class=\"dataframe\">\n",
       "  <thead>\n",
       "    <tr style=\"text-align: right;\">\n",
       "      <th></th>\n",
       "      <th>columna</th>\n",
       "      <th>porcentaje</th>\n",
       "    </tr>\n",
       "  </thead>\n",
       "  <tbody>\n",
       "    <tr>\n",
       "      <th>15</th>\n",
       "      <td>median_playtime</td>\n",
       "      <td>0.0</td>\n",
       "    </tr>\n",
       "    <tr>\n",
       "      <th>10</th>\n",
       "      <td>steamspy_tags</td>\n",
       "      <td>0.7</td>\n",
       "    </tr>\n",
       "    <tr>\n",
       "      <th>7</th>\n",
       "      <td>required_age</td>\n",
       "      <td>2.4</td>\n",
       "    </tr>\n",
       "    <tr>\n",
       "      <th>14</th>\n",
       "      <td>average_playtime</td>\n",
       "      <td>0.0</td>\n",
       "    </tr>\n",
       "    <tr>\n",
       "      <th>3</th>\n",
       "      <td>english</td>\n",
       "      <td>0.0</td>\n",
       "    </tr>\n",
       "    <tr>\n",
       "      <th>1</th>\n",
       "      <td>name</td>\n",
       "      <td>0.8</td>\n",
       "    </tr>\n",
       "    <tr>\n",
       "      <th>13</th>\n",
       "      <td>negative_ratings</td>\n",
       "      <td>4.0</td>\n",
       "    </tr>\n",
       "  </tbody>\n",
       "</table>\n",
       "</div>"
      ],
      "text/plain": [
       "             columna  porcentaje\n",
       "15   median_playtime         0.0\n",
       "10     steamspy_tags         0.7\n",
       "7       required_age         2.4\n",
       "14  average_playtime         0.0\n",
       "3            english         0.0\n",
       "1               name         0.8\n",
       "13  negative_ratings         4.0"
      ]
     },
     "execution_count": 11,
     "metadata": {},
     "output_type": "execute_result"
    }
   ],
   "source": [
    "nulos.sample(7)"
   ]
  },
  {
   "cell_type": "markdown",
   "id": "b6ed3156",
   "metadata": {},
   "source": [
    "### `fillna()`\n",
    "\n",
    "Rellena los nulos de nuestro *dataframe* o columna especificada basándose en el método especificado. \n",
    "\n",
    "```python\n",
    "# si queremos cambiar todos los nulos de nuestro dataframe\n",
    "\n",
    "MiDataFrame.fillna(value=None,  axis=None, inplace=False)\n",
    "```\n",
    "\n",
    "```python\n",
    "# si queremos cambiar solo los valores de una columna\n",
    "MiDataFrame[\"columna\"].fillna(value=None,  axis=None, inplace=False)\n",
    "```\n",
    "\n",
    "Donde: \n",
    "\n",
    "- `value`: por defecto `NaN`. Es el valor por el que queremos reemplazar los valores nulos. Puede ser un escalar, dicconario, Serie o DataFrame. Lo más usual es que lo reemplacemos por un escalar, es decir, un valor numérico. \n",
    "\n",
    "\n",
    "- `axis`: por defecto 0. Determina si las filas o las columnas tienen valores nulos\n",
    "\n",
    "    - 0: elimina las filas que tienen valores nulos. \n",
    "    \n",
    "    - 1: elimina las columnas que tienen valores nulos. \n",
    "    \n",
    "\n",
    "- `inplace`: por defecto False\n",
    "\n",
    "    - Si es True, realiza la operación inplace y devuelve None."
   ]
  },
  {
   "cell_type": "code",
   "execution_count": 12,
   "id": "10f4b8c4",
   "metadata": {},
   "outputs": [
    {
     "data": {
      "image/png": "[encoded data removed]",
      "text/plain": [
       "<Figure size 360x360 with 1 Axes>"
      ]
     },
     "metadata": {
      "needs_background": "light"
     },
     "output_type": "display_data"
    }
   ],
   "source": [
    "# lo primero que hacemos es ver como esta distribuida  nuestra columna\n",
    "\n",
    "sns.displot(df['required_age']);"
   ]
  },
  {
   "cell_type": "markdown",
   "id": "2234915e",
   "metadata": {},
   "source": [
    "Como vemos, nuestros datos están muy dispersos, es decir, tenemos muchos datos en 0 años y luego algunos de los 17. Si usaramos la media no estaríamos usando un valor que realmente representará la realidad de las edad requerida para nuestros juegos. Por lo que en este caso deberíamos usar la mediana o incluso la moda. "
   ]
  },
  {
   "cell_type": "code",
   "execution_count": 13,
   "id": "87c3b832",
   "metadata": {},
   "outputs": [],
   "source": [
    "# lo haremos con la mediana\n",
    "\n",
    "df['required_age'].fillna(df['required_age'].median ,inplace = True)"
   ]
  },
  {
   "cell_type": "code",
   "execution_count": 14,
   "id": "a34e9dee",
   "metadata": {},
   "outputs": [
    {
     "data": {
      "text/plain": [
       "index                 0\n",
       "appid                10\n",
       "name                  0\n",
       "release_date          3\n",
       "english               0\n",
       "developer           100\n",
       "publisher            91\n",
       "platforms             0\n",
       "required_age          0\n",
       "categories            0\n",
       "genres                0\n",
       "steamspy_tags         7\n",
       "achievements          0\n",
       "positive_ratings     54\n",
       "negative_ratings     39\n",
       "average_playtime      0\n",
       "median_playtime       0\n",
       "owners               55\n",
       "price                 0\n",
       "clasificacion         0\n",
       "dtype: int64"
      ]
     },
     "execution_count": 14,
     "metadata": {},
     "output_type": "execute_result"
    }
   ],
   "source": [
    "# chequeamos si tenemos valores nulos en la columna de edad\n",
    "\n",
    "df.isnull().sum()"
   ]
  },
  {
   "cell_type": "code",
   "execution_count": 15,
   "id": "813d3fd8",
   "metadata": {},
   "outputs": [
    {
     "data": {
      "text/html": [
       "<div>\n",
       "<style scoped>\n",
       "    .dataframe tbody tr th:only-of-type {\n",
       "        vertical-align: middle;\n",
       "    }\n",
       "\n",
       "    .dataframe tbody tr th {\n",
       "        vertical-align: top;\n",
       "    }\n",
       "\n",
       "    .dataframe thead th {\n",
       "        text-align: right;\n",
       "    }\n",
       "</style>\n",
       "<table border=\"1\" class=\"dataframe\">\n",
       "  <thead>\n",
       "    <tr style=\"text-align: right;\">\n",
       "      <th></th>\n",
       "      <th>index</th>\n",
       "      <th>appid</th>\n",
       "      <th>name</th>\n",
       "      <th>release_date</th>\n",
       "      <th>english</th>\n",
       "      <th>developer</th>\n",
       "      <th>publisher</th>\n",
       "      <th>platforms</th>\n",
       "      <th>required_age</th>\n",
       "      <th>categories</th>\n",
       "      <th>genres</th>\n",
       "      <th>steamspy_tags</th>\n",
       "      <th>achievements</th>\n",
       "      <th>positive_ratings</th>\n",
       "      <th>negative_ratings</th>\n",
       "      <th>average_playtime</th>\n",
       "      <th>median_playtime</th>\n",
       "      <th>owners</th>\n",
       "      <th>price</th>\n",
       "      <th>clasificacion</th>\n",
       "    </tr>\n",
       "  </thead>\n",
       "  <tbody>\n",
       "    <tr>\n",
       "      <th>0</th>\n",
       "      <td>3962</td>\n",
       "      <td>325870.0</td>\n",
       "      <td>Clash of Puppets</td>\n",
       "      <td>2014-12-16</td>\n",
       "      <td>Yes</td>\n",
       "      <td>Drakkar Dev</td>\n",
       "      <td>Crescent Moon Games</td>\n",
       "      <td>windows</td>\n",
       "      <td>0.0</td>\n",
       "      <td>Single-player;Steam Achievements;Full controll...</td>\n",
       "      <td>Action;Indie</td>\n",
       "      <td>Action;Indie;Horror</td>\n",
       "      <td>60</td>\n",
       "      <td>NaN</td>\n",
       "      <td>16.0</td>\n",
       "      <td>0</td>\n",
       "      <td>0</td>\n",
       "      <td>0-20000</td>\n",
       "      <td>3.99</td>\n",
       "      <td>Average</td>\n",
       "    </tr>\n",
       "  </tbody>\n",
       "</table>\n",
       "</div>"
      ],
      "text/plain": [
       "   index     appid              name release_date english    developer  \\\n",
       "0   3962  325870.0  Clash of Puppets   2014-12-16     Yes  Drakkar Dev   \n",
       "\n",
       "             publisher platforms required_age  \\\n",
       "0  Crescent Moon Games   windows          0.0   \n",
       "\n",
       "                                          categories        genres  \\\n",
       "0  Single-player;Steam Achievements;Full controll...  Action;Indie   \n",
       "\n",
       "         steamspy_tags  achievements  positive_ratings  negative_ratings  \\\n",
       "0  Action;Indie;Horror            60               NaN              16.0   \n",
       "\n",
       "   average_playtime  median_playtime   owners  price clasificacion  \n",
       "0                 0                0  0-20000   3.99       Average  "
      ]
     },
     "execution_count": 15,
     "metadata": {},
     "output_type": "execute_result"
    }
   ],
   "source": [
    "df.head(1)"
   ]
  },
  {
   "cell_type": "markdown",
   "id": "9e2e1525",
   "metadata": {},
   "source": [
    "### replace()\n",
    "\n",
    "Este método ya lo conocimos cuando vimos Pandas. A modo de recordatorio, este metodo nos va a permitir reemplazar un valor que nosotros queremos por uno que especifiquemos. En este caso reemplazaremos los nulos por la  media, la moda, la mediana etc. \n",
    "\n",
    "Para recordar su sintaxis: \n",
    "\n",
    "```python\n",
    "MiDataFrame.replace(valor_a_reemplazar, por_que_reemplazamos, inplace=False, regex=False)\n",
    "```"
   ]
  },
  {
   "cell_type": "code",
   "execution_count": 17,
   "id": "255a25d8",
   "metadata": {},
   "outputs": [],
   "source": [
    "# en este caso trabajarems con las columnas de \"positive_rattings\" y \"negative_rattings\"\n",
    "\n",
    "df[\"positive_ratings\"].replace(np.nan, df[\"positive_ratings\"].median(), inplace = True)\n",
    "df[\"negative_ratings\"].replace(np.nan, df[\"negative_ratings\"].median(), inplace = True)"
   ]
  },
  {
   "cell_type": "code",
   "execution_count": 18,
   "id": "fe4b02e3",
   "metadata": {},
   "outputs": [
    {
     "data": {
      "text/plain": [
       "index                 0\n",
       "appid                10\n",
       "name                  0\n",
       "release_date          3\n",
       "english               0\n",
       "developer           100\n",
       "publisher            91\n",
       "platforms             0\n",
       "required_age          0\n",
       "categories            0\n",
       "genres                0\n",
       "steamspy_tags         7\n",
       "achievements          0\n",
       "positive_ratings      0\n",
       "negative_ratings      0\n",
       "average_playtime      0\n",
       "median_playtime       0\n",
       "owners               55\n",
       "price                 0\n",
       "clasificacion         0\n",
       "dtype: int64"
      ]
     },
     "execution_count": 18,
     "metadata": {},
     "output_type": "execute_result"
    }
   ],
   "source": [
    "# Perfecto! Ya no tenemos nulos en estas columnas!!!\n",
    "\n",
    "df.isnull().sum()"
   ]
  },
  {
   "cell_type": "markdown",
   "id": "c013d316",
   "metadata": {},
   "source": [
    "## Imputar los valores perdidos de una `variable categórica`\n",
    "\n",
    "Cuando los valores que faltan provienen de columnas categóricas (de *strings* o numéricas), los valores que faltan pueden ser sustituidos por la categoría más frecuente. \n",
    "\n",
    "Además, si el número de valores que faltan es muy grande, puede sustituirse por una nueva categoría.\n",
    "\n",
    "|Pros   |   Contras|  \n",
    "|---|---|\n",
    "|Evita la pérdida de datos que supone la eliminación de filas o columnas |Sólo funciona con variables categóricas.|\n",
    "|Funciona bien con un pequeño conjunto de datos y es fácil de implementar.  |  Se añaden nuevas categorías a nuestro datos, las cuales no derivan directamente de nuestros datos. |\n",
    "|Evita la pérdida de datos al añadir una categoría única||"
   ]
  },
  {
   "cell_type": "markdown",
   "id": "318b0ad2",
   "metadata": {},
   "source": [
    "En este caso podríamos hacer dos cosas: \n",
    "\n",
    "- Crear una nueva categoría dentro de nuestros datos, por ejemplo una que fuera \"Unkown\" \n",
    "\n",
    "\n",
    "- Reemplazar con el valor que más se repite dentro de la columna. "
   ]
  },
  {
   "cell_type": "markdown",
   "id": "e1f215a1",
   "metadata": {},
   "source": [
    "Entre las variables categóricas de tipo *string* nos encontramos con las columnas `developer` y `publisher` que tenían un 10% de los datos nulos. Como el % de nulos es relativamente alto, en este caso lo que haremos será reemplazar los nulos por una nueva categoría. \n",
    "\n",
    "Usaremos el método `replace`"
   ]
  },
  {
   "cell_type": "code",
   "execution_count": 19,
   "id": "f6f5e8e0",
   "metadata": {},
   "outputs": [
    {
     "data": {
      "text/html": [
       "<div>\n",
       "<style scoped>\n",
       "    .dataframe tbody tr th:only-of-type {\n",
       "        vertical-align: middle;\n",
       "    }\n",
       "\n",
       "    .dataframe tbody tr th {\n",
       "        vertical-align: top;\n",
       "    }\n",
       "\n",
       "    .dataframe thead th {\n",
       "        text-align: right;\n",
       "    }\n",
       "</style>\n",
       "<table border=\"1\" class=\"dataframe\">\n",
       "  <thead>\n",
       "    <tr style=\"text-align: right;\">\n",
       "      <th></th>\n",
       "      <th>columna</th>\n",
       "      <th>porcentaje</th>\n",
       "    </tr>\n",
       "  </thead>\n",
       "  <tbody>\n",
       "    <tr>\n",
       "      <th>4</th>\n",
       "      <td>developer</td>\n",
       "      <td>10.2</td>\n",
       "    </tr>\n",
       "    <tr>\n",
       "      <th>5</th>\n",
       "      <td>publisher</td>\n",
       "      <td>9.1</td>\n",
       "    </tr>\n",
       "  </tbody>\n",
       "</table>\n",
       "</div>"
      ],
      "text/plain": [
       "     columna  porcentaje\n",
       "4  developer        10.2\n",
       "5  publisher         9.1"
      ]
     },
     "execution_count": 19,
     "metadata": {},
     "output_type": "execute_result"
    }
   ],
   "source": [
    "nulos[(nulos[\"columna\"] == \"developer\") | (nulos[\"columna\"] == \"publisher\")]"
   ]
  },
  {
   "cell_type": "code",
   "execution_count": 20,
   "id": "b66f960e",
   "metadata": {},
   "outputs": [],
   "source": [
    "df[\"developer\"].replace(np.nan, \"Unknow\", inplace = True)\n",
    "df[\"publisher\"].replace(np.nan, \"Unknow\", inplace = True)"
   ]
  },
  {
   "cell_type": "code",
   "execution_count": 21,
   "id": "4f432615",
   "metadata": {},
   "outputs": [
    {
     "data": {
      "text/plain": [
       "index                0\n",
       "appid               10\n",
       "name                 0\n",
       "release_date         3\n",
       "english              0\n",
       "developer            0\n",
       "publisher            0\n",
       "platforms            0\n",
       "required_age         0\n",
       "categories           0\n",
       "genres               0\n",
       "steamspy_tags        7\n",
       "achievements         0\n",
       "positive_ratings     0\n",
       "negative_ratings     0\n",
       "average_playtime     0\n",
       "median_playtime      0\n",
       "owners              55\n",
       "price                0\n",
       "clasificacion        0\n",
       "dtype: int64"
      ]
     },
     "execution_count": 21,
     "metadata": {},
     "output_type": "execute_result"
    }
   ],
   "source": [
    "# ¿Qué ha pasado con los nulos de estas columnas? Ya nos los tenemos! \n",
    "\n",
    "df.isnull().sum()"
   ]
  },
  {
   "cell_type": "markdown",
   "id": "79274b8c",
   "metadata": {},
   "source": [
    "Por otro lado, teníamos la columna `categories` que solo tenia un 0.1 % de nulos. En este caso lo que haremos será reemplazar esos nulos por el valor más repetido de esa columna, es decir, la moda. "
   ]
  },
  {
   "cell_type": "code",
   "execution_count": 22,
   "id": "b41a0984",
   "metadata": {},
   "outputs": [
    {
     "data": {
      "text/html": [
       "<div>\n",
       "<style scoped>\n",
       "    .dataframe tbody tr th:only-of-type {\n",
       "        vertical-align: middle;\n",
       "    }\n",
       "\n",
       "    .dataframe tbody tr th {\n",
       "        vertical-align: top;\n",
       "    }\n",
       "\n",
       "    .dataframe thead th {\n",
       "        text-align: right;\n",
       "    }\n",
       "</style>\n",
       "<table border=\"1\" class=\"dataframe\">\n",
       "  <thead>\n",
       "    <tr style=\"text-align: right;\">\n",
       "      <th></th>\n",
       "      <th>columna</th>\n",
       "      <th>porcentaje</th>\n",
       "    </tr>\n",
       "  </thead>\n",
       "  <tbody>\n",
       "    <tr>\n",
       "      <th>8</th>\n",
       "      <td>categories</td>\n",
       "      <td>0.0</td>\n",
       "    </tr>\n",
       "  </tbody>\n",
       "</table>\n",
       "</div>"
      ],
      "text/plain": [
       "      columna  porcentaje\n",
       "8  categories         0.0"
      ]
     },
     "execution_count": 22,
     "metadata": {},
     "output_type": "execute_result"
    }
   ],
   "source": [
    "nulos[nulos[\"columna\"] == \"categories\" ]"
   ]
  },
  {
   "cell_type": "code",
   "execution_count": 23,
   "id": "ee8435a7",
   "metadata": {},
   "outputs": [
    {
     "data": {
      "text/plain": [
       "'Single-player'"
      ]
     },
     "execution_count": 23,
     "metadata": {},
     "output_type": "execute_result"
    }
   ],
   "source": [
    "# sacamos la moda de la columnna de interés\n",
    "df.categories.mode()[0]"
   ]
  },
  {
   "cell_type": "markdown",
   "id": "72c6d0d8",
   "metadata": {},
   "source": [
    "Con esto hemos visto que la moda de la columna `categories` es \"Single-player\". Bien, teniendo esta información procederemos a reemplazar los nulos por este valor:"
   ]
  },
  {
   "cell_type": "code",
   "execution_count": 24,
   "id": "6d457609",
   "metadata": {},
   "outputs": [],
   "source": [
    "df[\"categories\"].replace(np.nan, df.categories.mode()[0], inplace = True)"
   ]
  },
  {
   "cell_type": "code",
   "execution_count": 25,
   "id": "7cbdc6f7",
   "metadata": {},
   "outputs": [
    {
     "data": {
      "text/plain": [
       "index                0\n",
       "appid               10\n",
       "name                 0\n",
       "release_date         3\n",
       "english              0\n",
       "developer            0\n",
       "publisher            0\n",
       "platforms            0\n",
       "required_age         0\n",
       "categories           0\n",
       "genres               0\n",
       "steamspy_tags        7\n",
       "achievements         0\n",
       "positive_ratings     0\n",
       "negative_ratings     0\n",
       "average_playtime     0\n",
       "median_playtime      0\n",
       "owners              55\n",
       "price                0\n",
       "clasificacion        0\n",
       "dtype: int64"
      ]
     },
     "execution_count": 25,
     "metadata": {},
     "output_type": "execute_result"
    }
   ],
   "source": [
    "# chequeamos los valores nulos:\n",
    "\n",
    "df.isnull().sum()"
   ]
  },
  {
   "cell_type": "markdown",
   "id": "8ba47084",
   "metadata": {},
   "source": [
    "También lo podríamos hacer con un `fillna` \n",
    "\n",
    "```python\n",
    "df['categories'].fillna(df['categories'].mode()[0], inplace = True)\n",
    "```"
   ]
  },
  {
   "cell_type": "markdown",
   "id": "f72746e6",
   "metadata": {},
   "source": [
    "\n",
    "**EJERCICIOS**\n",
    "\n",
    "En este ejercicio seguiremos trabajando con el *dataset* de las otras actividades. Cárgalo y no te olvides de importar las librerías que necesitemos\n",
    "\n",
    "- 1️⃣ Antes de empezar, debemos chequear cuántos valores nulos tenemos en nuestro dataframe. \n",
    "\n",
    "    **NOTA**: Hemos visto dos formas de sacar los nulos en un dataset. Hazlo de las dos formas\n",
    "    \n",
    "En nuestro caso tenemos columnas numéricas y categóricas con valores nulos. \n",
    "\n",
    "- 2️⃣ En primer lugar trabajaremos con las variables categóricas. Hemos aprendido dos métodos para eliminar los valores nulos en este tipo de variables(crear una nueva categoría y reemplazar con la categoría que más se repite). Identifica las variables categóricas y emplea los dos métodos que aprendimos para eliminar nulos. \n",
    "\n",
    "\n",
    "- 3️⃣ Elige 3 columnas de tipo numérico y reemplaza los nulos de esas columnas. Usa un for loop para hacer la imputación de los nulos en estas columnas. \n",
    "\n"
   ]
  },
  {
   "cell_type": "code",
   "execution_count": null,
   "id": "c6592442",
   "metadata": {},
   "outputs": [],
   "source": []
  }
 ],
 "metadata": {
  "kernelspec": {
   "display_name": "Python 3 (ipykernel)",
   "language": "python",
   "name": "python3"
  },
  "language_info": {
   "codemirror_mode": {
    "name": "ipython",
    "version": 3
   },
   "file_extension": ".py",
   "mimetype": "text/x-python",
   "name": "python",
   "nbconvert_exporter": "python",
   "pygments_lexer": "ipython3",
   "version": "3.9.10"
  },
  "toc": {
   "base_numbering": 1,
   "nav_menu": {},
   "number_sections": true,
   "sideBar": true,
   "skip_h1_title": false,
   "title_cell": "Table of Contents",
   "title_sidebar": "Contents",
   "toc_cell": true,
   "toc_position": {
    "height": "calc(100% - 180px)",
    "left": "10px",
    "top": "150px",
    "width": "426.667px"
   },
   "toc_section_display": true,
   "toc_window_display": false
  }
 },
 "nbformat": 4,
 "nbformat_minor": 5
}

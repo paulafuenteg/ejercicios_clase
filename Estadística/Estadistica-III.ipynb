{
 "cells": [
  {
   "cell_type": "markdown",
   "metadata": {},
   "source": [
    "En la lección de hoy aprenderemos algunos conceptos nuevos y algo más complejos pero que serán importantes en nuestra carrera como analistas de datos. Estos conceptos son: \n",
    "\n",
    "- Tablas de contingencia\n",
    "\n",
    "- Coeficiente de correlación\n",
    "\n",
    "- Sesgos\n",
    "\n",
    "- Intervalos de confianza"
   ]
  },
  {
   "cell_type": "code",
   "execution_count": 1,
   "metadata": {},
   "outputs": [],
   "source": [
    "## como siempre lo primero que haremos será importar las librerías y los datos que necesitamos para desarrollar esta clase: \n",
    "import numpy as np\n",
    "import pandas as pd\n",
    "import seaborn as sns\n",
    "from scipy.stats import skew\n",
    "from pydataset import data\n"
   ]
  },
  {
   "cell_type": "markdown",
   "metadata": {},
   "source": [
    "Para este jupyter seguiremos utilizandoel *dataset* que nos descargaremos ayer de `pydataset. Recordemos que información teníamos en este dataset: \n",
    "\n",
    "- `state`: un código numérico que identifica el país. \n",
    "\n",
    "- `year`: el año en el que se recopilo la información (desde el 63 al 92). \n",
    "\n",
    "- `price`: el precio del paquete de cigarrillos. \n",
    "\n",
    "- `pop`: la población que había en ese momento\n",
    "\n",
    "- `pop 16`: la población con más de 16 años. \n",
    "\n",
    "- `cpi`: índice de precios al consumo\n",
    "\n",
    "- `ndi`: renta per cápita\n",
    "\n",
    "- `sales`: las ventas de paquetes de cigarillos per cápita\n",
    "\n",
    "- `pimin`: precio mínimo en los estados limítrofes por paquete de cigarrillos"
   ]
  },
  {
   "cell_type": "code",
   "execution_count": 2,
   "metadata": {},
   "outputs": [
    {
     "data": {
      "text/html": [
       "<div>\n",
       "<style scoped>\n",
       "    .dataframe tbody tr th:only-of-type {\n",
       "        vertical-align: middle;\n",
       "    }\n",
       "\n",
       "    .dataframe tbody tr th {\n",
       "        vertical-align: top;\n",
       "    }\n",
       "\n",
       "    .dataframe thead th {\n",
       "        text-align: right;\n",
       "    }\n",
       "</style>\n",
       "<table border=\"1\" class=\"dataframe\">\n",
       "  <thead>\n",
       "    <tr style=\"text-align: right;\">\n",
       "      <th></th>\n",
       "      <th>state</th>\n",
       "      <th>year</th>\n",
       "      <th>price</th>\n",
       "      <th>pop</th>\n",
       "      <th>pop16</th>\n",
       "      <th>cpi</th>\n",
       "      <th>ndi</th>\n",
       "      <th>sales</th>\n",
       "      <th>pimin</th>\n",
       "    </tr>\n",
       "  </thead>\n",
       "  <tbody>\n",
       "    <tr>\n",
       "      <th>1</th>\n",
       "      <td>1</td>\n",
       "      <td>63</td>\n",
       "      <td>28.6</td>\n",
       "      <td>3383.0</td>\n",
       "      <td>2236.5</td>\n",
       "      <td>30.6</td>\n",
       "      <td>1558.304530</td>\n",
       "      <td>93.9</td>\n",
       "      <td>26.1</td>\n",
       "    </tr>\n",
       "    <tr>\n",
       "      <th>2</th>\n",
       "      <td>1</td>\n",
       "      <td>64</td>\n",
       "      <td>29.8</td>\n",
       "      <td>3431.0</td>\n",
       "      <td>2276.7</td>\n",
       "      <td>31.0</td>\n",
       "      <td>1684.073202</td>\n",
       "      <td>95.4</td>\n",
       "      <td>27.5</td>\n",
       "    </tr>\n",
       "    <tr>\n",
       "      <th>3</th>\n",
       "      <td>1</td>\n",
       "      <td>65</td>\n",
       "      <td>29.8</td>\n",
       "      <td>3486.0</td>\n",
       "      <td>2327.5</td>\n",
       "      <td>31.5</td>\n",
       "      <td>1809.841875</td>\n",
       "      <td>98.5</td>\n",
       "      <td>28.9</td>\n",
       "    </tr>\n",
       "    <tr>\n",
       "      <th>4</th>\n",
       "      <td>1</td>\n",
       "      <td>66</td>\n",
       "      <td>31.5</td>\n",
       "      <td>3524.0</td>\n",
       "      <td>2369.7</td>\n",
       "      <td>32.4</td>\n",
       "      <td>1915.160357</td>\n",
       "      <td>96.4</td>\n",
       "      <td>29.5</td>\n",
       "    </tr>\n",
       "    <tr>\n",
       "      <th>5</th>\n",
       "      <td>1</td>\n",
       "      <td>67</td>\n",
       "      <td>31.6</td>\n",
       "      <td>3533.0</td>\n",
       "      <td>2393.7</td>\n",
       "      <td>33.4</td>\n",
       "      <td>2023.546368</td>\n",
       "      <td>95.5</td>\n",
       "      <td>29.6</td>\n",
       "    </tr>\n",
       "  </tbody>\n",
       "</table>\n",
       "</div>"
      ],
      "text/plain": [
       "   state  year  price     pop   pop16   cpi          ndi  sales  pimin\n",
       "1      1    63   28.6  3383.0  2236.5  30.6  1558.304530   93.9   26.1\n",
       "2      1    64   29.8  3431.0  2276.7  31.0  1684.073202   95.4   27.5\n",
       "3      1    65   29.8  3486.0  2327.5  31.5  1809.841875   98.5   28.9\n",
       "4      1    66   31.5  3524.0  2369.7  32.4  1915.160357   96.4   29.5\n",
       "5      1    67   31.6  3533.0  2393.7  33.4  2023.546368   95.5   29.6"
      ]
     },
     "execution_count": 2,
     "metadata": {},
     "output_type": "execute_result"
    }
   ],
   "source": [
    "# cargamos el dataset usando la librería pydataset. \n",
    "\n",
    "df_cigar = data(\"Cigar\")\n",
    "df_cigar.head()"
   ]
  },
  {
   "cell_type": "markdown",
   "metadata": {},
   "source": [
    "# Tablas de contingencia\n",
    "\n",
    "Cuando estamos trabajando con más de una variable, además de visualizar cada una de ellas individualmente mediante el uso de histogramas, podríamos querer analizar la relación que existe entre dos de esas variables. Las tablas de contingencia tienen esa utilidad, relacionando variables normalmente cualitativas o categóricas. Una tabla de frecuencias deberá contener al menos dos filas y dos columnas para representar datos categóricos en términos de conteos de frecuencia.\n",
    "\n",
    "> Es decir, es el resultado de contar todas las combinaciones posibles de cada pareja de valores de las columnas que estamos intentando comprar. \n",
    "\n",
    "Veámoslo con un ejemplo de base de datos en el que tenemos una variable que representa el género de las personas y otra variable que representa si son diestras o zurdas. Se ha observado esta pareja de variables en una muestra de 100 personas:\n",
    "\n",
    "| --- | Diestro | Zurdo | Total |  \n",
    "| --- | --- | --- | --- |  \n",
    "| Hombre | 43 | 9 | 52 |  \n",
    "| Mujer | 44 | 4 | 48 |  \n",
    "| Total | 87 | 13 | 100 |  \n",
    "\n",
    "En la tabla anterior las filas y columnas delimitan las celdas donde se vuelcan las frecuencias de cada combinación de las dos variables analizadas. Adicionalmente, las cifras en la columna de la derecha y en la fila inferior (los totales) reciben el nombre de frecuencias marginales y la cifra situada en la esquina inferior derecha es el gran total.\n",
    "\n",
    "**Objetivos de una tabla de contingencia**\n",
    "\n",
    "Como hemos mencionado, la tabla de contingencia permite medir la interacción entre las dos variables para así poder comprender con mayor claridad los datos. Concretamente permite: \n",
    "\n",
    "- Ordenar la información recolectada para un estudio posterior.\n",
    "\n",
    "- Analizar si existe una relación entre las dos variables cualitativas.\n",
    "\n",
    "Las tablas de contingencia necesitan normalmente variables categóricas ya que para el análisis posterior se debe poder dividir cada una en grupos mutuamente excluyentes. El género y la mano dominante son ejemplos de este tipo de variables categóricas y excluyentes.\n",
    "\n",
    "\n",
    "Como hemos dicho este tipo de tablas va a operar sobre variables categóricas, y nosotras no tenemos ninguna en nuestro dataset, asique haciendo uso de la función que creamos ayer convertiremos dos columnas numéricas en categóricas 👇🏽"
   ]
  },
  {
   "cell_type": "code",
   "execution_count": 15,
   "metadata": {},
   "outputs": [],
   "source": [
    "# definimos la función\n",
    "def cambiar_poblacion(col):\n",
    "    if col <= 10000:\n",
    "        return \"baja\"\n",
    "    elif col > 10000 and col <= 20000:\n",
    "        return \"media\"\n",
    "    else:\n",
    "        return \"alta\"\n",
    "\n",
    "\n",
    "# aplicamos la función a nuestra columna\n",
    "df_cigar[\"pop_cat\"] = df_cigar[\"pop\"].apply(cambiar_poblacion)\n",
    "\n",
    "# aplicamos la función a nuestra columna\n",
    "df_cigar[\"pop16_cat\"] = df_cigar[\"pop16\"].apply(cambiar_poblacion)"
   ]
  },
  {
   "cell_type": "code",
   "execution_count": 16,
   "metadata": {},
   "outputs": [
    {
     "name": "stdout",
     "output_type": "stream",
     "text": [
      "En la columna pop_cat tenemos\n",
      "baja     1188\n",
      "media     170\n",
      "alta       22\n",
      "Name: pop_cat, dtype: int64\n",
      "--------------------------------\n",
      "En la columna pop16_cat tenemos\n",
      "baja     1303\n",
      "media      68\n",
      "alta        9\n",
      "Name: pop16_cat, dtype: int64\n"
     ]
    }
   ],
   "source": [
    "print(\"En la columna pop_cat tenemos\")\n",
    "print(df_cigar[\"pop_cat\"].value_counts())\n",
    "\n",
    "print(\"--------------------------------\")\n",
    "print(\"En la columna pop16_cat tenemos\")\n",
    "print(df_cigar[\"pop16_cat\"].value_counts())"
   ]
  },
  {
   "cell_type": "code",
   "execution_count": 18,
   "metadata": {},
   "outputs": [
    {
     "data": {
      "text/html": [
       "<div>\n",
       "<style scoped>\n",
       "    .dataframe tbody tr th:only-of-type {\n",
       "        vertical-align: middle;\n",
       "    }\n",
       "\n",
       "    .dataframe tbody tr th {\n",
       "        vertical-align: top;\n",
       "    }\n",
       "\n",
       "    .dataframe thead th {\n",
       "        text-align: right;\n",
       "    }\n",
       "</style>\n",
       "<table border=\"1\" class=\"dataframe\">\n",
       "  <thead>\n",
       "    <tr style=\"text-align: right;\">\n",
       "      <th>pop16_cat</th>\n",
       "      <th>alta</th>\n",
       "      <th>baja</th>\n",
       "      <th>media</th>\n",
       "    </tr>\n",
       "    <tr>\n",
       "      <th>pop_cat</th>\n",
       "      <th></th>\n",
       "      <th></th>\n",
       "      <th></th>\n",
       "    </tr>\n",
       "  </thead>\n",
       "  <tbody>\n",
       "    <tr>\n",
       "      <th>alta</th>\n",
       "      <td>9</td>\n",
       "      <td>0</td>\n",
       "      <td>13</td>\n",
       "    </tr>\n",
       "    <tr>\n",
       "      <th>baja</th>\n",
       "      <td>0</td>\n",
       "      <td>1188</td>\n",
       "      <td>0</td>\n",
       "    </tr>\n",
       "    <tr>\n",
       "      <th>media</th>\n",
       "      <td>0</td>\n",
       "      <td>115</td>\n",
       "      <td>55</td>\n",
       "    </tr>\n",
       "  </tbody>\n",
       "</table>\n",
       "</div>"
      ],
      "text/plain": [
       "pop16_cat  alta  baja  media\n",
       "pop_cat                     \n",
       "alta          9     0     13\n",
       "baja          0  1188      0\n",
       "media         0   115     55"
      ]
     },
     "execution_count": 18,
     "metadata": {},
     "output_type": "execute_result"
    }
   ],
   "source": [
    "\n",
    "#Usamos el método de pandas crosstab para generar la tabla de contingencia.\n",
    "df_cigar_crosstab = pd.crosstab(df_cigar['pop_cat'], \n",
    "                            df_cigar['pop16_cat']) \n",
    "df_cigar_crosstab"
   ]
  },
  {
   "cell_type": "markdown",
   "metadata": {},
   "source": [
    "En el código encima de este texto hemos usado el método `.crosstab()` de Pandas para representar la tabla de contingencia que relaciona la longitud y la anchura de los sépalos. Esta tabla de contingencia no es estrictamente la relación de dos variables categóricas, ya que `sepal_width` y `sepal_length` son variables numéricas continuas. Sin embargo, de cara a que nos sirvan para poder realizar la tabla de contingencia hemos agrupado las variables en categorías (rangos) de valores, que sí serán excluyentes entre sí.\n",
    "\n",
    "Los resultados de la tabla nos muestran como ambas variables están relacionadas ya que los datos se agrupan en zonas muy concretas de la tabla. Es decir, hay valores de la número de poblacion menor que 16 que aparecen junto con valores de poblacion menor de 16.\n",
    "\n",
    "El método `.crosstab()` acepta otros argumentos como `margins` que nos permite visualizar los subtotales por fila y columna, o `normalize` que normaliza los datos por filas, columnas, o sobre ambas, mostrando valores entre `0` y `1` en vez de frecuencias absolutas."
   ]
  },
  {
   "cell_type": "markdown",
   "metadata": {},
   "source": [
    "## Coeficiente de correlación de Pearson\n",
    "\n",
    "La tabla de contingencia era para variables cualitativas, el coeficiente de correlación hace lo mismo para variables continuas cuantitativas (o variables numéricas).\n",
    "\n",
    "El coeficiente de correlación, al igual que la tabla de contingencia, nos sirve para conocer la relación entre dos variables. Sin embargo, mientras que la tabla se usaba para relacionar variables caulitativas o categóricas, el coeficiente de correlación nos permite hacer una tarea similar con variables cuantitativas continuas. Ejemplos de este tipo de variables serían el peso y la altura de una persona. \n",
    "\n",
    "El coeficiente de correlación nos permite conocer la intensidad y dirección de la relación entre las dos variables. Es decir, podemos estimar como variará una de ellas cuando la otra cambie en una dirección u otra, si lo hará de manera directamente proporcional, inversamente, o sin ninguna correlación.\n",
    "\n",
    "### ¿Cómo se interpreta el coeficiente?\n",
    "\n",
    "El coeficiente de correlación de Pearson puede tomar valores entre -1 y 1, teniendo distinto significado según su valor:\n",
    "\n",
    "- Si el coeficiente es mayor que 0, la correlación es positiva (según aumente el valor de una variable aumenta el valor de la otra). \n",
    "\n",
    "- Si el coeficiente es menor que 0, la correlación es negativa (según aumente el valor de una variable disminuye el valor de la otra). \n",
    "\n",
    "- Si el coeficiente de correlación de Pearson es igual a 1 o a -1, podemos considerar que la correlación que existe entre las variables es total (positiva o negativa).\n",
    "\n",
    "- Por último, un valor del coeficiente igual a 0 nos indica que no existe relación lineal entre las dos variables, pero puede haber algún otro tipo de relación que no se capture bien con este coeficiente.\n",
    "\n",
    "Para afirmar si un valor es alto o bajo, debemos comparar nuestros datos con otras investigaciones con las mismas variables y en circunstancias parecidas. Para representar las relaciones de diferentes variables que combinan linealmente, podemos utilizar la llamada matriz de varianzas-covarianzas o la matriz de correlaciones; en la diagonal de la primera nos encontraremos con valores de la varianza, y en la de la segunda nos encontraremos con unos (la correlación de una variable consigo misma es perfecta, =1).\n",
    "\n",
    "### ¿Cómo calculamos el coeficiente usando Python?\n",
    "\n",
    "El coeficiente de correlacion de Pearson puede calcularse en Pandas usando el método `.corr()`:"
   ]
  },
  {
   "cell_type": "code",
   "execution_count": 20,
   "metadata": {},
   "outputs": [
    {
     "name": "stderr",
     "output_type": "stream",
     "text": [
      "/tmp/ipykernel_2111/2717256888.py:2: FutureWarning: The default value of numeric_only in DataFrame.corr is deprecated. In a future version, it will default to False. Select only valid columns or specify the value of numeric_only to silence this warning.\n",
      "  matriz_correlacion = df_cigar.corr()\n"
     ]
    },
    {
     "data": {
      "text/html": [
       "<div>\n",
       "<style scoped>\n",
       "    .dataframe tbody tr th:only-of-type {\n",
       "        vertical-align: middle;\n",
       "    }\n",
       "\n",
       "    .dataframe tbody tr th {\n",
       "        vertical-align: top;\n",
       "    }\n",
       "\n",
       "    .dataframe thead th {\n",
       "        text-align: right;\n",
       "    }\n",
       "</style>\n",
       "<table border=\"1\" class=\"dataframe\">\n",
       "  <thead>\n",
       "    <tr style=\"text-align: right;\">\n",
       "      <th></th>\n",
       "      <th>state</th>\n",
       "      <th>year</th>\n",
       "      <th>price</th>\n",
       "      <th>pop</th>\n",
       "      <th>pop16</th>\n",
       "      <th>cpi</th>\n",
       "      <th>ndi</th>\n",
       "      <th>sales</th>\n",
       "      <th>pimin</th>\n",
       "    </tr>\n",
       "  </thead>\n",
       "  <tbody>\n",
       "    <tr>\n",
       "      <th>state</th>\n",
       "      <td>1.000000e+00</td>\n",
       "      <td>-1.325410e-14</td>\n",
       "      <td>-0.009617</td>\n",
       "      <td>-0.093681</td>\n",
       "      <td>-0.096155</td>\n",
       "      <td>4.201830e-16</td>\n",
       "      <td>-0.035532</td>\n",
       "      <td>-0.103566</td>\n",
       "      <td>-0.000078</td>\n",
       "    </tr>\n",
       "    <tr>\n",
       "      <th>year</th>\n",
       "      <td>-1.325410e-14</td>\n",
       "      <td>1.000000e+00</td>\n",
       "      <td>0.918218</td>\n",
       "      <td>0.082145</td>\n",
       "      <td>0.117880</td>\n",
       "      <td>9.794833e-01</td>\n",
       "      <td>0.935570</td>\n",
       "      <td>-0.181901</td>\n",
       "      <td>0.920296</td>\n",
       "    </tr>\n",
       "    <tr>\n",
       "      <th>price</th>\n",
       "      <td>-9.616899e-03</td>\n",
       "      <td>9.182177e-01</td>\n",
       "      <td>1.000000</td>\n",
       "      <td>0.107727</td>\n",
       "      <td>0.137026</td>\n",
       "      <td>9.491390e-01</td>\n",
       "      <td>0.944311</td>\n",
       "      <td>-0.311258</td>\n",
       "      <td>0.987050</td>\n",
       "    </tr>\n",
       "    <tr>\n",
       "      <th>pop</th>\n",
       "      <td>-9.368120e-02</td>\n",
       "      <td>8.214504e-02</td>\n",
       "      <td>0.107727</td>\n",
       "      <td>1.000000</td>\n",
       "      <td>0.997799</td>\n",
       "      <td>8.153477e-02</td>\n",
       "      <td>0.158933</td>\n",
       "      <td>-0.111541</td>\n",
       "      <td>0.077434</td>\n",
       "    </tr>\n",
       "    <tr>\n",
       "      <th>pop16</th>\n",
       "      <td>-9.615511e-02</td>\n",
       "      <td>1.178804e-01</td>\n",
       "      <td>0.137026</td>\n",
       "      <td>0.997799</td>\n",
       "      <td>1.000000</td>\n",
       "      <td>1.152144e-01</td>\n",
       "      <td>0.193687</td>\n",
       "      <td>-0.111596</td>\n",
       "      <td>0.106264</td>\n",
       "    </tr>\n",
       "    <tr>\n",
       "      <th>cpi</th>\n",
       "      <td>4.201830e-16</td>\n",
       "      <td>9.794833e-01</td>\n",
       "      <td>0.949139</td>\n",
       "      <td>0.081535</td>\n",
       "      <td>0.115214</td>\n",
       "      <td>1.000000e+00</td>\n",
       "      <td>0.953297</td>\n",
       "      <td>-0.210231</td>\n",
       "      <td>0.952759</td>\n",
       "    </tr>\n",
       "    <tr>\n",
       "      <th>ndi</th>\n",
       "      <td>-3.553248e-02</td>\n",
       "      <td>9.355700e-01</td>\n",
       "      <td>0.944311</td>\n",
       "      <td>0.158933</td>\n",
       "      <td>0.193687</td>\n",
       "      <td>9.532968e-01</td>\n",
       "      <td>1.000000</td>\n",
       "      <td>-0.183839</td>\n",
       "      <td>0.937812</td>\n",
       "    </tr>\n",
       "    <tr>\n",
       "      <th>sales</th>\n",
       "      <td>-1.035661e-01</td>\n",
       "      <td>-1.819010e-01</td>\n",
       "      <td>-0.311258</td>\n",
       "      <td>-0.111541</td>\n",
       "      <td>-0.111596</td>\n",
       "      <td>-2.102311e-01</td>\n",
       "      <td>-0.183839</td>\n",
       "      <td>1.000000</td>\n",
       "      <td>-0.277258</td>\n",
       "    </tr>\n",
       "    <tr>\n",
       "      <th>pimin</th>\n",
       "      <td>-7.837030e-05</td>\n",
       "      <td>9.202965e-01</td>\n",
       "      <td>0.987050</td>\n",
       "      <td>0.077434</td>\n",
       "      <td>0.106264</td>\n",
       "      <td>9.527587e-01</td>\n",
       "      <td>0.937812</td>\n",
       "      <td>-0.277258</td>\n",
       "      <td>1.000000</td>\n",
       "    </tr>\n",
       "  </tbody>\n",
       "</table>\n",
       "</div>"
      ],
      "text/plain": [
       "              state          year     price       pop     pop16           cpi  \\\n",
       "state  1.000000e+00 -1.325410e-14 -0.009617 -0.093681 -0.096155  4.201830e-16   \n",
       "year  -1.325410e-14  1.000000e+00  0.918218  0.082145  0.117880  9.794833e-01   \n",
       "price -9.616899e-03  9.182177e-01  1.000000  0.107727  0.137026  9.491390e-01   \n",
       "pop   -9.368120e-02  8.214504e-02  0.107727  1.000000  0.997799  8.153477e-02   \n",
       "pop16 -9.615511e-02  1.178804e-01  0.137026  0.997799  1.000000  1.152144e-01   \n",
       "cpi    4.201830e-16  9.794833e-01  0.949139  0.081535  0.115214  1.000000e+00   \n",
       "ndi   -3.553248e-02  9.355700e-01  0.944311  0.158933  0.193687  9.532968e-01   \n",
       "sales -1.035661e-01 -1.819010e-01 -0.311258 -0.111541 -0.111596 -2.102311e-01   \n",
       "pimin -7.837030e-05  9.202965e-01  0.987050  0.077434  0.106264  9.527587e-01   \n",
       "\n",
       "            ndi     sales     pimin  \n",
       "state -0.035532 -0.103566 -0.000078  \n",
       "year   0.935570 -0.181901  0.920296  \n",
       "price  0.944311 -0.311258  0.987050  \n",
       "pop    0.158933 -0.111541  0.077434  \n",
       "pop16  0.193687 -0.111596  0.106264  \n",
       "cpi    0.953297 -0.210231  0.952759  \n",
       "ndi    1.000000 -0.183839  0.937812  \n",
       "sales -0.183839  1.000000 -0.277258  \n",
       "pimin  0.937812 -0.277258  1.000000  "
      ]
     },
     "execution_count": 20,
     "metadata": {},
     "output_type": "execute_result"
    }
   ],
   "source": [
    "# calculamos la matriz de correlación de todas las variables numéricas de nuestro df\n",
    "matriz_correlacion = df_cigar.corr()\n",
    "matriz_correlacion"
   ]
  },
  {
   "cell_type": "markdown",
   "metadata": {},
   "source": [
    "El método `.corr()` devolverá como resultado una matriz cuadrada, de `N`x`N`, en la que la posición `i,j` indica el coeficiente de correlación entre la variable aleatoria `i` y la variable `j`. La matriz será simétrica respecto a la diagonal, y la propia diagonal será todo unos (`1`) ya que indica la correlación entre cada variable y ella misma. \n",
    "\n",
    "En el ejemplo anterior `N = 9`, por lo que la matriz resultado sera de 9 filas y 9 columnas, donde la diagonal es `1`, y las \"esquinas\" de la matriz indican la correlación entre las dos variables indicadas (longitud y anchura de los sepalos). \n"
   ]
  },
  {
   "cell_type": "markdown",
   "metadata": {},
   "source": [
    "Ver esta martiz puede resultar un poco tedioso interpretarlas, por lo que en estos casos haremos uso de las gráficas de tipo `heatmap()`. Veamos como hacerlo, para lo que necesitaremos importar seaborn. "
   ]
  },
  {
   "cell_type": "code",
   "execution_count": 27,
   "metadata": {},
   "outputs": [
    {
     "name": "stderr",
     "output_type": "stream",
     "text": [
      "/tmp/ipykernel_2111/3961343556.py:6: FutureWarning: The default value of numeric_only in DataFrame.corr is deprecated. In a future version, it will default to False. Select only valid columns or specify the value of numeric_only to silence this warning.\n",
      "  sns.heatmap(df_cigar.corr(), # lo que queremos visualizar\n"
     ]
    },
    {
     "data": {
      "image/png": "[encoded data removed]",
      "text/plain": [
       "<Figure size 720x720 with 2 Axes>"
      ]
     },
     "metadata": {
      "needs_background": "light"
     },
     "output_type": "display_data"
    }
   ],
   "source": [
    "import seaborn as sns\n",
    "import matplotlib.pyplot as plt\n",
    "\n",
    "# establecemos el tamaño de la gráfica\n",
    "plt.figure(figsize = (10,10))\n",
    "\n",
    "# creamos la gráfica\n",
    "sns.heatmap(df_cigar.corr(), # lo que queremos visualizar\n",
    "            cmap = \"mako\", # color del gráfico\n",
    "            annot = True, # para que nos aparezcan los valores de la correlacion\n",
    "            vmin = -1, # establecemos el valor mínimo de la escala de color\n",
    "            vmax = 1 # establecemos el valor máximo de la escala de color\n",
    ");"
   ]
  },
  {
   "cell_type": "markdown",
   "metadata": {},
   "source": [
    "Ahora ya podemos ver los valores de una forma más amigable, y veremos que los cuadrados con los colores mas ocuros o más claros son aquellos que tienen una correlación mayor, mientras que los azules intermedios indican un correlación menor. \n",
    "\n",
    "Hagamos una pequeña interpretación más detallada de estos valores: \n",
    "\n",
    "-  En el caso de `pimin` con `year` vemos que tenemos un valor de 0.92. El `pimin` representaba el precio mínimo de la cajetilla de tabaco en cada estado. Al ser un valor positivo y relativamente cerca de 1, podemos decir que tienen una correlación fuerte y positiva. Es decir. según avanzaban los años el precio mínimo de la cajetilla aumentaba, lo cual tiene sentido. \n",
    "\n",
    "- Tambien tenemos casos donde la relación es baja, como `pop` y `cpi`, las cuales representaban la población y el indice de precios al consumo respectivamente. Esta relación toma un valor de 0.082, es decir, no hay ninguna relación entre ellas porque esta cerca de 0. \n",
    "\n",
    "Ahora nos puede surgir la duda de que es una correlación fuerte o no. Existe bastante consenso a la hora de interpretar los valores del coeficiente de correlación de Pearson utilizando los siguientes criterios (y considerando los valores absolutos): \n",
    "\n",
    "- 0 Nula\n",
    "\n",
    "- 0   – 0.2 Muy baja\n",
    "\n",
    "- 0.2 – 0.4 Baja\n",
    "\n",
    "- 0.4 – 0.6 Moderada\n",
    "\n",
    "- 0.6 – 0.8 Alta\n",
    "\n",
    "- 0.8 – <1 Muy alta\n",
    "\n",
    "- 1 Perfecta"
   ]
  },
  {
   "cell_type": "markdown",
   "metadata": {},
   "source": [
    "**Ejercicio:** ¿Que nos indica el coeficiente de Pearson del ejemplo anterior acerca de la correlación entre la anchura y la longitud de los sépalos?\n",
    "\n",
    "**Ejercicio:** Calcula el coeficiente de correlación de Pearson entre la longitud y anchura de los pétalos (usando el `iris` dataset). ¿Qué significa el valor obtenido?\n",
    "\n",
    "**Ejercicio:** Calcula el coeficiente de correlación de Pearson entre la longitud de los pétalos y de los sépalos (usando el `iris` dataset). ¿Qué significa el valor obtenido?\n",
    "\n",
    "**Ejercicio:** Calcula el coeficiente de correlación de Pearson entre todas las variables cuantitativas del `iris` dataset. ¿Ves alguna correlación interesante?"
   ]
  },
  {
   "cell_type": "markdown",
   "metadata": {},
   "source": [
    "## Sesgos (skewness) en las distribuciones de datos\n",
    "\n",
    "En estadística, el *skewness* o sesgo es una medida de la asimetría de la distribución de los valores de una variable alrededor de su valor medio. Es decir, nos da una idea de cómo están distribuidos los valores de esa variable, añdiendo información sobre que la que obtenemos con la media, la varianza o la mediana. Un conjunto de datos será simétrico si su distribución de valores (el histograma) es igual a la izquierda que a la derecha de su punto central (la media)\n",
    "\n",
    "Para ver esto podremos usar un histograma (en matplotlib usaremos el método `.hist()` y en seaborn usaremos el método `.distplot()`. Veamos un ejemplo con el precio:"
   ]
  },
  {
   "cell_type": "code",
   "execution_count": 3,
   "metadata": {},
   "outputs": [
    {
     "data": {
      "image/png": "[encoded data removed]",
      "text/plain": [
       "<Figure size 360x360 with 1 Axes>"
      ]
     },
     "metadata": {
      "needs_background": "light"
     },
     "output_type": "display_data"
    }
   ],
   "source": [
    "# en este caso vamos a usar el método de seaborn \n",
    "\n",
    "sns.displot(df_cigar[\"price\"], # sobre que columna queremos hacer la gráfica\n",
    "            color = \"green\", # que color le queremos poner a la gráfica\n",
    "            kde = True);# para que nos visualice la línea de tendencia"
   ]
  },
  {
   "cell_type": "markdown",
   "metadata": {},
   "source": [
    "Ahora lo hemos visto analíticamente y podemos ver claramente que no es simétrica (si lo fuera veríamos una Campana de Gauss perfecta), pero puede podemos calcular el sesgo de una variale usando el método `skew` de la librería `scipy`. Veamos como hacerlo:"
   ]
  },
  {
   "cell_type": "code",
   "execution_count": 4,
   "metadata": {},
   "outputs": [
    {
     "name": "stdout",
     "output_type": "stream",
     "text": [
      "El valor del sesgo para la variable price es: 1.0453508709449968\n"
     ]
    }
   ],
   "source": [
    "# aplicamos el método skew para saber si esta o no sesgada nuestra variable\n",
    "skewness = skew(df_cigar['price'])\n",
    "print(f\"El valor del sesgo para la variable price es: {skewness}\")"
   ]
  },
  {
   "cell_type": "markdown",
   "metadata": {},
   "source": [
    "El *skewness* nos estará indicando la forma que tiene dicho histograma. El valor que puede tomar el *skewness* será positivo, cero o negativo, teniendo un significado diferente en cada caso:\n",
    "\n",
    "- Positivo: la \"cola\" derecha del histograma será más larga que la izquierda. A este tipo de distribución de los valores se le llama \"sesgado a la derecha\" (*right-skewed*, *right-tailed*).\n",
    "\n",
    "- Negativo: la \"cola\" izquierda del histograma será más larga que la derecha. A este tipo de distribución de los valores se le llama \"sesgado a la izquierda\" (*left-skewed*,  *left-tailed*).\n",
    "\n",
    "- Cero: un *skewness* igual a 0 nos indica que la distribución de los valores es simétrica respecto a la media.\n",
    "\n",
    "En el histograma anterior, podemos ver cómo los valores están claramente concentrados en la parte izquierda del mismo y tenemos una \"cola\" hacia la parte derecha de los valores, además hemos obtenido un valor de *skew* mayor que 1, por lo tanto nuestra variable esta sesgada a la derecha. "
   ]
  },
  {
   "cell_type": "markdown",
   "metadata": {},
   "source": [
    "## Intervalos de confianza\n",
    "\n",
    "En estadística, se llama intervalo de confianza al par de números entre los cuáles se estima que estará cierto valor de una variable con un determinado nivel de confianza. Veamos un ejemplo directamente para entender mejor este concepto. \n",
    "\n",
    "Imaginemos que queremos saber la media de la altura de las personas que hay en el mundo. Pero … ¡¡Tendríamos que medir a cada una de las personas que ahora mismo hay en el planeta... es una auténtica locura!! ¿No sería mejor coger un grupito pequeño al azar de 100 personas (muestra) y calcular la media de este grupito?. Después podemos poner un margen de error o lo que es lo mismo, un **Intervalo de Confianza** (IC). Por lo tanto, calcular un intervalo de confianza es una técnica esencial en procesos estadísticos, pues nos permite estimar un resultado a partir de una media muestral (las 100 personas a las que medimos), reduciendo los esfuerzos que requeriría el proceso en caso de tomar la muestra total (medir a todas las personas del mundo). Si bien es cierto que seguiríamos sin saber el verdadero valor poblacional, podríamos suponer que este se va a situar cerca del valor muestral. A esa media le sumamos el margen de error y tenemos un valor del intervalo de confianza. Por otro lado, le restamos a la media ese margen de error y tendremos otro valor. Entre esos dos valores estará la media poblacional.\n",
    "\n",
    "> En conclusión, el intervalo de confianza no sirve para dar una estimación puntual del parámetro poblacional, si nos va a servir para hacernos una idea aproximada de cuál podría ser el verdadero de este. Nos permite acotar entre dos valores en dónde se encontrará la media de la población.\n",
    "\n",
    "\n",
    "**Factores de los que depende un intervalo de confianza**\n",
    "\n",
    "El cálculo de un intervalo de confianza depende principalmente de los siguientes factores:\n",
    "\n",
    "- **Tamaño de la muestra seleccionada**: dependiendo de la cantidad de datos que se hayan utilizado para calcular el valor muestral, este se acercará más o menos al verdadero parámetro poblacional. En nuestro ejemplo este valor es de 100.\n",
    "\n",
    "- **Nivel de confianza**: nos va a informar en qué porcentaje de casos nuestra estimación acierta. Los niveles habituales son el 95% y el 99%.\n",
    "\n",
    "- **Margen de error de nuestra estimación**: este se denomina como alfa y nos informa de la probabilidad que existe de que el valor poblacional (este sería toda las personas del mundo) esté fuera de nuestro intervalo.\n",
    "\n",
    "-  **Lo estimado en la muestra** (media, varianza, diferencia de medias…): de esto va a depender el estadístico pivote para el cálculo del intervalo.\n",
    "\n",
    "\n",
    "Bansandonos en el ejemplo de las alturas que estabamos viendo hasta ahora, ¿cómo calculamos el intervalo de confianza? \n",
    "\n",
    "1. Elegimos un tamaño muestral, en nuestro caso será 100\n",
    "\n",
    "2. Calculamos la media y la desviación estándar de nuestra muestra. Estos estadísticos los aprendimos en la primera lección de estadística y recordad que teníamos métodos de pandas que nos permitían calcularlos facilmente. En nuestro caso supongamos que tenemos una media de 1.77 y una desviacion estándar de 0.2. \n",
    "\n",
    "3. Elegir un nivel de confianza, como dijimos arriba, los niveles de confianza mas usados son 90%, 95% y 99%. Supongamos que nosotras elegimos el 95%. \n",
    "\n",
    "4. Calcular el margen de error, el cual viene definido por la siguiente fórmula: \n",
    "\n",
    "    Za/2 * σ/√(n)\n",
    "\n",
    "    Donde: \n",
    "    - `a`el nivel de confiaza \n",
    "    - `σ` la desviación estándar\n",
    "    - `n`el tamaño muestral\n",
    "\n",
    "    Una vez que tengamos esto ya nos pondremos manos a la obra. Para seguir con los pasos para calcular tendremos que usar la tabla de z, que tenemos a continuación\n",
    "\n",
    "    METER TABLA DE Z\n",
    "\n",
    "    - 4.1 Convertimos el nivel de confianza a decimal (en este caso será 0.95) y lo divididmos entre 2- Esto nos dará un valor de 0.475. Basandonos en el valor obtenido buscaremos en la tabla de z(la que tenemos arriba) para sacar el valor de la `z`. ¿Cómo lo haremos? \n",
    "        - En las filas buscaremos el valor 0.4, por nuestro primer decimal. \n",
    "        - En las columnas buscaremos el valor 0.07, por nuestro segundo decimal. \n",
    "\n",
    "        Como si estuvieramos jugando a hundir la flota sacaremos el valor de la `z`. En nuestro caso es de 0.68. \n",
    "\n",
    "    - 4.2 Toma el valor de la desviación estándar y calculamos su raíz cuadrada. En este caso √0.2 = 0.44 - 2.07, es decir, \n",
    "\n",
    "    - 4.3 Multiplicamos el valor que sacamos de la tabla de z por el valor obtenido en el paso anterior 0.68 * 0.44. Esto nos devolverá nuestro margen de error, que es de 0.30. \n",
    "\n",
    "    \n",
    "5. Calcular el intervalo de confianza, para esto solo tenemos que tomar la media y sumarle y restarle el margen de error calculado en el paso previo. Esto nos devolerá el intervalo de confianza. En nuestro caso nuestro intervalode confiaza irá de 1.77 - 0.3 y 1.77 + 0.3. Nuesto intervalo de confianza será 1.47- 2.07\n",
    "\n",
    "**¿Cómo interpretamos este resultado?**\n",
    "\n",
    "Que hay un 95% de probabilidad de que la media real del precio se encuentre en el intervalo calculado.\n",
    "\n",
    "\n",
    "Para el cálculo de un intervalo de confianza concreto es necesario conocer la distribución que seguirán los valores del parámetro o variable para el que estamos realizando la estimación. Normalmente, si no se conoce dicha distribución de antemano, se suele realizar la asunción que la variable seguirá una distribución normal (o gaussiana). Esta estimación suele ser bastante acertada en los casos en los que el tamaño de las muestras es lo suficientemente grande y no estamos mirando el resultado de multiples factores en conjunto.\n",
    "\n",
    "En Python podemos calcular el intervalo de confianza usando la librería `Scipy`. Vemamos un ejemplo: "
   ]
  },
  {
   "cell_type": "code",
   "execution_count": 7,
   "metadata": {},
   "outputs": [
    {
     "name": "stdout",
     "output_type": "stream",
     "text": [
      "(66.73824178276729, 70.66161328969648)\n",
      "68.69992753623188\n"
     ]
    }
   ],
   "source": [
    "import scipy.stats as st\n",
    "\n",
    "# Queremos realizar el calculo de confianza para la media de la longitud de los sépalos\n",
    "datos = df_cigar['price']\n",
    "\n",
    "# Utilizamos Scipy para calcular el intervalo de confianza del 95% de la media de los datos.\n",
    "# Dicho intervalo nos indica donde está la media de los valores de longitud de los sépalos con un 95 de probabilidad.\n",
    "print(st.t.interval(alpha=0.95, df=len(datos)-1, loc=np.mean(datos), scale=st.sem(datos)))\n",
    "\n",
    "# Lo comparamos con la media obtenido de los datos disponibles hasta el momento\n",
    "print(np.mean(datos))"
   ]
  },
  {
   "cell_type": "markdown",
   "metadata": {},
   "source": [
    "El anterior código nos indica que hay un 95% de probabilidad de que la media real del precio se encuentre en el intervalo calculado. Los parámetros `loc` y `scale` sirven para indicar los parámetros de la distribución normal que suponemos que siguen los datos indicados en `df`. En `loc` debemos indicar la media y en `scale` la desviación estándar. `alpha` será el porcentaje de confianza para el que queremos calcular el intervalo.\n",
    "\n",
    "¿Qué pasaría si eligieramos la alpha más alta? Veamoslo con un ejemplo: \n",
    "\n"
   ]
  },
  {
   "cell_type": "code",
   "execution_count": 9,
   "metadata": {},
   "outputs": [
    {
     "name": "stdout",
     "output_type": "stream",
     "text": [
      "(66.12052828298506, 71.2793267894787)\n",
      "68.69992753623188\n"
     ]
    }
   ],
   "source": [
    "# Queremos realizar el calculo de confianza para la media de la longitud de los sépalos\n",
    "datos = df_cigar['price']\n",
    "\n",
    "# Utilizamos Scipy para calcular el intervalo de confianza del 99% de la media de los datos.\n",
    "# Dicho intervalo nos indica donde está la media de los valores de longitud de los sépalos con un 99 de probabilidad.\n",
    "print(st.t.interval(alpha=0.99, df=len(datos)-1, loc=np.mean(datos)))\n",
    "\n",
    "# Lo comparamos con la media obtenido de los datos disponibles hasta el momento\n",
    "print(np.mean(datos))"
   ]
  },
  {
   "cell_type": "markdown",
   "metadata": {},
   "source": [
    "Lo que nos esta diciendo este error, es que hay un 99% de probabilidad de que el precio de las cajas de cigarillos vaya entre 66.12 y 71.27 $. Si nos fijamos, este rango de valores es más amplio, lo cual si lo pensamos tiene sentido. "
   ]
  },
  {
   "cell_type": "markdown",
   "metadata": {},
   "source": [
    "**Ejercicio:** Calcula el intervalo de confianza al 80% para la longitud de los pétalos. ¿Qué ha cambiado? Hazlo de nuevo con una confianza del 99%. ¿Qué ha sucedido ahora?"
   ]
  }
 ],
 "metadata": {
  "kernelspec": {
   "display_name": "Python 3.9.7 ('base')",
   "language": "python",
   "name": "python3"
  },
  "language_info": {
   "codemirror_mode": {
    "name": "ipython",
    "version": 3
   },
   "file_extension": ".py",
   "mimetype": "text/x-python",
   "name": "python",
   "nbconvert_exporter": "python",
   "pygments_lexer": "ipython3",
   "version": "3.9.7 (default, Sep 16 2021, 13:09:58) \n[GCC 7.5.0]"
  },
  "orig_nbformat": 4,
  "vscode": {
   "interpreter": {
    "hash": "f7912e45f56376859e46a323936f3af5ef395502effe5c6049b04a4785be6cad"
   }
  }
 },
 "nbformat": 4,
 "nbformat_minor": 2
}

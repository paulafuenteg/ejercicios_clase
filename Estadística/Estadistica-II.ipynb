{
 "cells": [
  {
   "cell_type": "markdown",
   "metadata": {
    "toc": true
   },
   "source": [
    "<h1>Table of Contents<span class=\"tocSkip\"></span></h1>\n",
    "<div class=\"toc\"><ul class=\"toc-item\"><li><span><a href=\"#Estadística-II\" data-toc-modified-id=\"Estadística-II-1\"><span class=\"toc-item-num\">1&nbsp;&nbsp;</span>Estadística II</a></span><ul class=\"toc-item\"><li><ul class=\"toc-item\"><li><span><a href=\"#Percentiles\" data-toc-modified-id=\"Percentiles-1.0.1\"><span class=\"toc-item-num\">1.0.1&nbsp;&nbsp;</span>Percentiles</a></span></li><li><span><a href=\"#Rangos-intercuartílicos\" data-toc-modified-id=\"Rangos-intercuartílicos-1.0.2\"><span class=\"toc-item-num\">1.0.2&nbsp;&nbsp;</span>Rangos intercuartílicos</a></span></li><li><span><a href=\"#Cálculo-de-estadísticos-usando-Pandas\" data-toc-modified-id=\"Cálculo-de-estadísticos-usando-Pandas-1.0.3\"><span class=\"toc-item-num\">1.0.3&nbsp;&nbsp;</span>Cálculo de estadísticos usando Pandas</a></span></li><li><span><a href=\"#Creación-de-gráfico-de-cajas-(boxplot)-usando-los-rangos-intercuartílicos\" data-toc-modified-id=\"Creación-de-gráfico-de-cajas-(boxplot)-usando-los-rangos-intercuartílicos-1.0.4\"><span class=\"toc-item-num\">1.0.4&nbsp;&nbsp;</span>Creación de gráfico de cajas (boxplot) usando los rangos intercuartílicos</a></span></li></ul></li><li><span><a href=\"#Tablas-de-frecuencias\" data-toc-modified-id=\"Tablas-de-frecuencias-1.1\"><span class=\"toc-item-num\">1.1&nbsp;&nbsp;</span>Tablas de frecuencias</a></span><ul class=\"toc-item\"><li><span><a href=\"#Tabla-de-frecuencias-de-variables-categóricas-(cualitativas)\" data-toc-modified-id=\"Tabla-de-frecuencias-de-variables-categóricas-(cualitativas)-1.1.1\"><span class=\"toc-item-num\">1.1.1&nbsp;&nbsp;</span>Tabla de frecuencias de variables categóricas (cualitativas)</a></span></li><li><span><a href=\"#Tabla-de-frecuencias-de-variables-numéricas-(cuantitativas)\" data-toc-modified-id=\"Tabla-de-frecuencias-de-variables-numéricas-(cuantitativas)-1.1.2\"><span class=\"toc-item-num\">1.1.2&nbsp;&nbsp;</span>Tabla de frecuencias de variables numéricas (cuantitativas)</a></span></li><li><span><a href=\"#Calculo-de-frecuencias-acumuladas\" data-toc-modified-id=\"Calculo-de-frecuencias-acumuladas-1.1.3\"><span class=\"toc-item-num\">1.1.3&nbsp;&nbsp;</span>Calculo de frecuencias acumuladas</a></span></li><li><span><a href=\"#Representación-gráfica-de-la-tabla-de-frecuencias\" data-toc-modified-id=\"Representación-gráfica-de-la-tabla-de-frecuencias-1.1.4\"><span class=\"toc-item-num\">1.1.4&nbsp;&nbsp;</span>Representación gráfica de la tabla de frecuencias</a></span></li></ul></li></ul></li></ul></div>"
   ]
  },
  {
   "cell_type": "markdown",
   "metadata": {},
   "source": [
    "En al lección de hoy seguiremos aprendiendo algunos conceptos básicos sobre estadística, los cuáles nos ayudarán a sentar las bases para desenvolvernos mejor en el módulo 3. En la lección de hoy aprenderemos: \n",
    "\n",
    "- Qué son los percentiles y los rangos intercuartílicos. \n",
    "\n",
    "- Qué son las tablas de frecuencias"
   ]
  },
  {
   "cell_type": "code",
   "execution_count": 1,
   "metadata": {},
   "outputs": [],
   "source": [
    "# como cada día lo primero que haremos es importar las librerías \n",
    "import numpy as np\n",
    "from scipy import stats # importando scipy.stats\n",
    "import seaborn as sns\n",
    "import pandas as pd\n",
    "import matplotlib.pyplot as plt\n",
    "from pydataset import data"
   ]
  },
  {
   "cell_type": "markdown",
   "metadata": {},
   "source": [
    "Para este jupyter seguiremos utilizandoel *dataset* que nos descargaremos ayer de `pydataset. Recordemos que información teníamos en este dataset: \n",
    "\n",
    "- `state`: un código numérico que identifica el país. \n",
    "\n",
    "- `year`: el año en el que se recopilo la información (desde el 63 al 92). \n",
    "\n",
    "- `price`: el precio del paquete de cigarrillos. \n",
    "\n",
    "- `pop`: la población que había en ese momento\n",
    "\n",
    "- `pop 16`: la población con más de 16 años. \n",
    "\n",
    "- `cpi`: índice de precios al consumo\n",
    "\n",
    "- `ndi`: renta per cápita\n",
    "\n",
    "- `sales`: las ventas de paquetes de cigarillos per cápita\n",
    "\n",
    "- `pimin`: precio mínimo en los estados limítrofes por paquete de cigarrillos"
   ]
  },
  {
   "cell_type": "code",
   "execution_count": 2,
   "metadata": {},
   "outputs": [
    {
     "data": {
      "text/html": [
       "<div>\n",
       "<style scoped>\n",
       "    .dataframe tbody tr th:only-of-type {\n",
       "        vertical-align: middle;\n",
       "    }\n",
       "\n",
       "    .dataframe tbody tr th {\n",
       "        vertical-align: top;\n",
       "    }\n",
       "\n",
       "    .dataframe thead th {\n",
       "        text-align: right;\n",
       "    }\n",
       "</style>\n",
       "<table border=\"1\" class=\"dataframe\">\n",
       "  <thead>\n",
       "    <tr style=\"text-align: right;\">\n",
       "      <th></th>\n",
       "      <th>state</th>\n",
       "      <th>year</th>\n",
       "      <th>price</th>\n",
       "      <th>pop</th>\n",
       "      <th>pop16</th>\n",
       "      <th>cpi</th>\n",
       "      <th>ndi</th>\n",
       "      <th>sales</th>\n",
       "      <th>pimin</th>\n",
       "    </tr>\n",
       "  </thead>\n",
       "  <tbody>\n",
       "    <tr>\n",
       "      <th>1</th>\n",
       "      <td>1</td>\n",
       "      <td>63</td>\n",
       "      <td>28.6</td>\n",
       "      <td>3383.0</td>\n",
       "      <td>2236.5</td>\n",
       "      <td>30.6</td>\n",
       "      <td>1558.304530</td>\n",
       "      <td>93.9</td>\n",
       "      <td>26.1</td>\n",
       "    </tr>\n",
       "    <tr>\n",
       "      <th>2</th>\n",
       "      <td>1</td>\n",
       "      <td>64</td>\n",
       "      <td>29.8</td>\n",
       "      <td>3431.0</td>\n",
       "      <td>2276.7</td>\n",
       "      <td>31.0</td>\n",
       "      <td>1684.073202</td>\n",
       "      <td>95.4</td>\n",
       "      <td>27.5</td>\n",
       "    </tr>\n",
       "    <tr>\n",
       "      <th>3</th>\n",
       "      <td>1</td>\n",
       "      <td>65</td>\n",
       "      <td>29.8</td>\n",
       "      <td>3486.0</td>\n",
       "      <td>2327.5</td>\n",
       "      <td>31.5</td>\n",
       "      <td>1809.841875</td>\n",
       "      <td>98.5</td>\n",
       "      <td>28.9</td>\n",
       "    </tr>\n",
       "    <tr>\n",
       "      <th>4</th>\n",
       "      <td>1</td>\n",
       "      <td>66</td>\n",
       "      <td>31.5</td>\n",
       "      <td>3524.0</td>\n",
       "      <td>2369.7</td>\n",
       "      <td>32.4</td>\n",
       "      <td>1915.160357</td>\n",
       "      <td>96.4</td>\n",
       "      <td>29.5</td>\n",
       "    </tr>\n",
       "    <tr>\n",
       "      <th>5</th>\n",
       "      <td>1</td>\n",
       "      <td>67</td>\n",
       "      <td>31.6</td>\n",
       "      <td>3533.0</td>\n",
       "      <td>2393.7</td>\n",
       "      <td>33.4</td>\n",
       "      <td>2023.546368</td>\n",
       "      <td>95.5</td>\n",
       "      <td>29.6</td>\n",
       "    </tr>\n",
       "  </tbody>\n",
       "</table>\n",
       "</div>"
      ],
      "text/plain": [
       "   state  year  price     pop   pop16   cpi          ndi  sales  pimin\n",
       "1      1    63   28.6  3383.0  2236.5  30.6  1558.304530   93.9   26.1\n",
       "2      1    64   29.8  3431.0  2276.7  31.0  1684.073202   95.4   27.5\n",
       "3      1    65   29.8  3486.0  2327.5  31.5  1809.841875   98.5   28.9\n",
       "4      1    66   31.5  3524.0  2369.7  32.4  1915.160357   96.4   29.5\n",
       "5      1    67   31.6  3533.0  2393.7  33.4  2023.546368   95.5   29.6"
      ]
     },
     "execution_count": 2,
     "metadata": {},
     "output_type": "execute_result"
    }
   ],
   "source": [
    "# cargamos el dataset usando la librería pydataset. \n",
    "\n",
    "df_cigar = data(\"Cigar\")\n",
    "df_cigar.head()"
   ]
  },
  {
   "cell_type": "markdown",
   "metadata": {},
   "source": [
    "Para la lección de hoy necesitaremos una variable categórica, así que lo primero que vamos a hacer es convertir la columna de `pop` que nos daba la información de la población en ese momento. Para eso nos vamos a crear una función para categorizar de la siguiente forma: \n",
    "\n",
    "- Si la poblacion es menor que 10000 pondremos el valor de \"baja\"\n",
    "\n",
    "- Si la poblacion esta entre 10000 y 20000 pondremos el valor de \"media\"\n",
    "\n",
    "- Si la poblacion es mayor que 20000 pondremos el valor de \"alta\"\n",
    "\n",
    "Para esto a parte de la función usaremos un apply de los que aprendimos en las lecciones de Pandas. "
   ]
  },
  {
   "cell_type": "code",
   "execution_count": 3,
   "metadata": {},
   "outputs": [],
   "source": [
    "# definimos la función\n",
    "def cambiar_poblacion(col):\n",
    "    if col <= 10000:\n",
    "        return \"baja\"\n",
    "    elif col > 10000 and col <= 20000:\n",
    "        return \"media\"\n",
    "    else:\n",
    "        return \"alta\""
   ]
  },
  {
   "cell_type": "code",
   "execution_count": 4,
   "metadata": {},
   "outputs": [],
   "source": [
    "# aplicamos la función a nuestra columna\n",
    "df_cigar[\"pop_cat\"] = df_cigar[\"pop\"].apply(cambiar_poblacion)"
   ]
  },
  {
   "cell_type": "code",
   "execution_count": 5,
   "metadata": {},
   "outputs": [
    {
     "data": {
      "text/plain": [
       "baja     1188\n",
       "media     170\n",
       "alta       22\n",
       "Name: pop_cat, dtype: int64"
      ]
     },
     "execution_count": 5,
     "metadata": {},
     "output_type": "execute_result"
    }
   ],
   "source": [
    "# comprobamos que los cambios se han hecho correctamente: \n",
    "\n",
    "df_cigar[\"pop_cat\"].value_counts()"
   ]
  },
  {
   "attachments": {},
   "cell_type": "markdown",
   "metadata": {},
   "source": [
    "# Percentiles y Rangos intercuartílicos\n",
    "\n",
    "## Percentiles\n",
    "\n",
    "Un percentil es una medida estadística para comparar resultados, y saber cómo está situado un valor en función de una muestra. Lo que pasará cuando calculamos percentiles es ordenar los datos de menor a mayor y dividirlos en cien partes iguales. \n",
    "\n",
    "Los percentiles son muy conocidos por su uso en los percentiles de crecimiento de los niños. Por ejemplo, si el peso de un bebé está en el percentil 65, quiere decir que el 65% de los bebés de la misma edad pesan igual o menos. Cuando estamos hablando del crecimiento de los niños, un percentil va a permitir comparar los datos de un niño con los de otros niños de sus mismas características (de la misma edad y sexo), por eso se dice que es un estadístico que nos ayuda a comparar resultados.\n",
    "\n",
    "Para calcular los percentiles usaremos el método de Numpy `np.percentile()` \n",
    "\n",
    "En el método `.percentile()`, el parámetro . Puedes consultarlos en la documentación de Numpy.\n",
    "\n",
    "```python\n",
    "    np.percentile(a, q, axis=None, out=None, overwrite_input=False, interpolation='linear', keepdims=False)\n",
    "```\n",
    "\n",
    "Donde: \n",
    "\n",
    "- `q`: representa el número de cálculo del percentil. \n",
    "\n",
    "- `a`: representa un *array* de datos o la columna sobre la que queremos calcular el percentil. \n",
    "\n",
    "- los demás parámetros son opcionales.\n"
   ]
  },
  {
   "cell_type": "code",
   "execution_count": 6,
   "metadata": {},
   "outputs": [
    {
     "name": "stdout",
     "output_type": "stream",
     "text": [
      "El percentil 99 es: 181.57600000000022\n"
     ]
    }
   ],
   "source": [
    "# Calculamos el percentil 99\n",
    "percentil99 = np.percentile(df_cigar[\"price\"], 99)\n",
    "print(\"El percentil 99 es:\", percentil99)"
   ]
  },
  {
   "attachments": {},
   "cell_type": "markdown",
   "metadata": {},
   "source": [
    "**¿Qué significa este valor?**\n",
    "\n",
    "Lo que nos indica es que el 99% de nuestros productos tienen un precio inferior a 181.57$. O lo que es lo mismo, que el 1% de los datos(de los paquetes de tabaco) tiene un precio superior a 181.57$. LLegados a este punto, tenemos que destacar el percentil 50, que corresponderá con la mediana, pero esto no nos debe sorprender porque como aprendimos ayer, la mediana solo es la media física de nuestros datos. Comprobemoslo! "
   ]
  },
  {
   "cell_type": "code",
   "execution_count": 7,
   "metadata": {},
   "outputs": [
    {
     "name": "stdout",
     "output_type": "stream",
     "text": [
      "El percentil 50 es: 52.3\n",
      "La mediana es:  52.3\n"
     ]
    }
   ],
   "source": [
    "# calculamos el percentil 50\n",
    "percentil50 = np.percentile(df_cigar[\"price\"], 50)\n",
    "print(\"El percentil 50 es:\", percentil50)\n",
    "\n",
    "# calculamos la mediana\n",
    "print(\"La mediana es: \", df_cigar[\"price\"].median())\n",
    "\n",
    "\n",
    "# es decir, el 50% de los datos tienen un precio de paquete de tabaco inferior a 52.3%."
   ]
  },
  {
   "attachments": {},
   "cell_type": "markdown",
   "metadata": {},
   "source": [
    "Antes de pasar a los rangos intercuartílicos es importante destacar que en estadística hay tres de percentiles que son importantes y que usaremos de forma recurrente como analistas de datos: \n",
    "\n",
    "- percentil 25: también llamado Q1\n",
    "\n",
    "- percentil 50: también llamado Q2, es importante porque corresponde con la mediana. \n",
    "\n",
    "- percentil 75: también llamado Q3\n",
    "\n",
    "Tanto el Q1 como el Q3 los usaremos para entender los rangos intercuartílicos 👇🏽. "
   ]
  },
  {
   "attachments": {},
   "cell_type": "markdown",
   "metadata": {},
   "source": [
    "## Rangos intercuartílicos (IQR)\n",
    "\n",
    "Es una medida de dispersión estadística (recordemos que otras medidas de dispersión eran la varianza, la desviación estándar, etc.), siendo igual a la diferencia entre los cuartiles 75 y 25. Por lo tanto, vienen definidos por la siguiente fórmula: \n",
    "\n",
    "IQR = Q3  -  Q1 . \n",
    "\n",
    "Pero... ¿qué es esto de los cuartiles? Los cuartiles se calculan de la misma manera que los percentiles pero dividiendo los datos en 4 intervalos en vez de en 100.\n",
    "\n",
    "\n",
    "Ahora nos podemos preguntar para que sirven estos rangos intercuartílicos, nosotras como analistas de datos los usaremos para identificar valores extremos o *outliers*, que aunque todavía no sepamos lo que es lo aprenderemos a lo largo de este módulo. Por lo tanto, es importante que los recordemos para el futuro. \n",
    "\n",
    "\n",
    " Este estadístico se usa normalmente en los diagramas de caja (o *boxplots*) en los cuales se utiliza la mediana como medida central y el rango intercuartílico como la zona en la que estarán la mayoría de los datos, son los datos que hay en la caja del *boxplot*. \n",
    "\n",
    "El rango intercuartílico es considerado un estadístico robusto debido a que solo se consideran las observaciones entre el tercer cuartil y el primer cuartil (descartando valores muy grandes o muy pequeños de los datos). Por el contrario, la mediana, la media, la varianza, etc., sufrirán variaciones mucho más grandes que el rango intercuartílico debido a la presencia de dichos valores atípicos.\n",
    "\n",
    "Para el cálculo del rango intercuartílico con Python podemos pensar en los cuartiles como los percentiles 25, 50, 75 y 100. Por lo tanto, usando Numpy y su método `.percentile()` podemos lograr el objetivo de calcularlo:"
   ]
  },
  {
   "cell_type": "code",
   "execution_count": 8,
   "metadata": {},
   "outputs": [
    {
     "name": "stdout",
     "output_type": "stream",
     "text": [
      "El rango intercuartílico es: 63.324999999999996\n"
     ]
    }
   ],
   "source": [
    "# Calculamos los percentiles 75 y 25 (que serían el tercer y primer cuartil)\n",
    "q3, q1 = np.percentile(df_cigar[\"price\"], [75, 25])\n",
    "\n",
    "# Calculamos el rango intercuartílico como la resta de los valores del tercer y primer cuartil\n",
    "riq = q3 - q1\n",
    "print(\"El rango intercuartílico es:\", riq)"
   ]
  },
  {
   "cell_type": "markdown",
   "metadata": {},
   "source": [
    "**Ejercicio**: Calcula el percentil 60 de un conjunto de datos aleatorios de 100 elementos. ¿Qué significa ese valor?"
   ]
  },
  {
   "cell_type": "markdown",
   "metadata": {},
   "source": [
    "**Ejercicio:**\n",
    "\n",
    "Crea un *dataset* partiendo de un Numpy *array* con una fila de 50 datos aleatorios y calcula su media, mediana, moda, máximo y mínimo, haciendo uso de los métodos de pandas."
   ]
  },
  {
   "cell_type": "markdown",
   "metadata": {},
   "source": [
    "### Creación de gráfico de cajas (boxplot) usando los rangos intercuartílicos\n",
    "\n",
    "Como indicamos en la sección en la que describimos los cuartiles y los rangos intercuartílicos, estos se usan para la detección de *outliers* (valores inusualmente altos o bajos). Es interesante usar gráficos de cajas para mostrar por pantalla los rangos en los que esperamos que se encuentren los valores normales de los datos, y resaltar aquellos datos concretos que se salen de esa estimación. Es decir, utilizaremos este tipo de visualización para ver visualmente si tenemos valores extremos y donde están. \n",
    "\n",
    "Veamos un ejemplo con nuestros datos: "
   ]
  },
  {
   "cell_type": "code",
   "execution_count": 9,
   "metadata": {},
   "outputs": [
    {
     "data": {
      "image/png": "[encoded data removed]",
      "text/plain": [
       "<Figure size 720x360 with 1 Axes>"
      ]
     },
     "metadata": {
      "needs_background": "light"
     },
     "output_type": "display_data"
    }
   ],
   "source": [
    "# Establecemos el tamaño de la gráfica\n",
    "fig = plt.figure(figsize = (10,5))\n",
    "\n",
    "# creamos el boxplot\n",
    "plt.boxplot(df_cigar[\"price\"]);\n"
   ]
  },
  {
   "attachments": {},
   "cell_type": "markdown",
   "metadata": {},
   "source": [
    "Los diagramas de cajas nos muestran, para cada conjunto de datos, su mediana, sus rangos intercuartílicos, sus *outliers* (si así los tuvieramos), etc."
   ]
  },
  {
   "cell_type": "markdown",
   "metadata": {},
   "source": [
    "## Tablas de frecuencias\n",
    "\n",
    "Una tabla de frecuencias muestra de forma ordenada un conjunto de datos estadísticos y a cada uno de ellos le asigna una frecuencia que, en pocas palabras, son las veces que se repite un número o dato. \n",
    "\n",
    "**Tipos de frecuencias**\n",
    "\n",
    "- Frecuencias absolutas: son el número de veces que se repite un número en un conjunto de datos. Pongamos un ejemplo imaginemos que tiramos una moneda 50 veces y salen 35 caras, es decir, la frecuencia absoluta es de 35 para las caras y 15 para las cruces. \n",
    "\n",
    "\n",
    "\n",
    "- Frecuencia relativa: corresponde a las veces que se repite un número o categoría en un conjunto de datos respecto al total, pero se expresa en porcentajes (%).\n",
    "\n",
    "\n",
    "\n",
    "- Frecuencias absolutas acumuladas: es la suma de las frecuencias absolutas. - Frecuencia relativa acumulada: es la suma de las frecuencias relativas.\n",
    "\n",
    "\n",
    "\n",
    "\n",
    "La forma más sencilla de estadística es agrupar los datos y contarlos. Una tabla de frecuencias es la herramienta que nos ayuda a visualizar los resultados de esos agrupamientos y conteos de manera fácil. \n",
    "\n",
    "Para construir nuestra primera tabla de frecuencias, vamos a descargar unos datos públicos con Pandas y a usar métodos asociados a los *DataFrame*:"
   ]
  },
  {
   "cell_type": "code",
   "execution_count": 28,
   "metadata": {},
   "outputs": [
    {
     "data": {
      "text/html": [
       "<div>\n",
       "<style scoped>\n",
       "    .dataframe tbody tr th:only-of-type {\n",
       "        vertical-align: middle;\n",
       "    }\n",
       "\n",
       "    .dataframe tbody tr th {\n",
       "        vertical-align: top;\n",
       "    }\n",
       "\n",
       "    .dataframe thead th {\n",
       "        text-align: right;\n",
       "    }\n",
       "</style>\n",
       "<table border=\"1\" class=\"dataframe\">\n",
       "  <thead>\n",
       "    <tr style=\"text-align: right;\">\n",
       "      <th></th>\n",
       "      <th>state</th>\n",
       "      <th>year</th>\n",
       "      <th>price</th>\n",
       "      <th>pop</th>\n",
       "      <th>pop16</th>\n",
       "      <th>cpi</th>\n",
       "      <th>ndi</th>\n",
       "      <th>sales</th>\n",
       "      <th>pimin</th>\n",
       "      <th>pop_cat</th>\n",
       "    </tr>\n",
       "  </thead>\n",
       "  <tbody>\n",
       "    <tr>\n",
       "      <th>1</th>\n",
       "      <td>1</td>\n",
       "      <td>63</td>\n",
       "      <td>28.6</td>\n",
       "      <td>3383.0</td>\n",
       "      <td>2236.5</td>\n",
       "      <td>30.6</td>\n",
       "      <td>1558.304530</td>\n",
       "      <td>93.9</td>\n",
       "      <td>26.1</td>\n",
       "      <td>baja</td>\n",
       "    </tr>\n",
       "    <tr>\n",
       "      <th>2</th>\n",
       "      <td>1</td>\n",
       "      <td>64</td>\n",
       "      <td>29.8</td>\n",
       "      <td>3431.0</td>\n",
       "      <td>2276.7</td>\n",
       "      <td>31.0</td>\n",
       "      <td>1684.073202</td>\n",
       "      <td>95.4</td>\n",
       "      <td>27.5</td>\n",
       "      <td>baja</td>\n",
       "    </tr>\n",
       "  </tbody>\n",
       "</table>\n",
       "</div>"
      ],
      "text/plain": [
       "   state  year  price     pop   pop16   cpi          ndi  sales  pimin pop_cat\n",
       "1      1    63   28.6  3383.0  2236.5  30.6  1558.304530   93.9   26.1    baja\n",
       "2      1    64   29.8  3431.0  2276.7  31.0  1684.073202   95.4   27.5    baja"
      ]
     },
     "execution_count": 28,
     "metadata": {},
     "output_type": "execute_result"
    }
   ],
   "source": [
    "df_cigar.head(2)"
   ]
  },
  {
   "attachments": {},
   "cell_type": "markdown",
   "metadata": {},
   "source": [
    "### Tabla de frecuencias absolutas de variables categóricas (cualitativas)\n",
    "\n",
    "En el `DataFrame` anterior, la columna `pop_cat` es una variable cualitativa ya que puede tomar valores de entre tres diferentes categorías: \"alta\", \"media\" y \"baja\". Podemos conocer el conteo de cuántas entradas (filas) hay en el `DataFrame` asociadas a cada una de las categorías:"
   ]
  },
  {
   "cell_type": "code",
   "execution_count": 12,
   "metadata": {},
   "outputs": [
    {
     "data": {
      "text/html": [
       "<div>\n",
       "<style scoped>\n",
       "    .dataframe tbody tr th:only-of-type {\n",
       "        vertical-align: middle;\n",
       "    }\n",
       "\n",
       "    .dataframe tbody tr th {\n",
       "        vertical-align: top;\n",
       "    }\n",
       "\n",
       "    .dataframe thead th {\n",
       "        text-align: right;\n",
       "    }\n",
       "</style>\n",
       "<table border=\"1\" class=\"dataframe\">\n",
       "  <thead>\n",
       "    <tr style=\"text-align: right;\">\n",
       "      <th></th>\n",
       "      <th>pop_cat</th>\n",
       "      <th>state</th>\n",
       "      <th>year</th>\n",
       "      <th>price</th>\n",
       "      <th>pop</th>\n",
       "      <th>pop16</th>\n",
       "      <th>cpi</th>\n",
       "      <th>ndi</th>\n",
       "      <th>sales</th>\n",
       "      <th>pimin</th>\n",
       "    </tr>\n",
       "  </thead>\n",
       "  <tbody>\n",
       "    <tr>\n",
       "      <th>0</th>\n",
       "      <td>alta</td>\n",
       "      <td>22</td>\n",
       "      <td>22</td>\n",
       "      <td>22</td>\n",
       "      <td>22</td>\n",
       "      <td>22</td>\n",
       "      <td>22</td>\n",
       "      <td>22</td>\n",
       "      <td>22</td>\n",
       "      <td>22</td>\n",
       "    </tr>\n",
       "    <tr>\n",
       "      <th>1</th>\n",
       "      <td>baja</td>\n",
       "      <td>1188</td>\n",
       "      <td>1188</td>\n",
       "      <td>1188</td>\n",
       "      <td>1188</td>\n",
       "      <td>1188</td>\n",
       "      <td>1188</td>\n",
       "      <td>1188</td>\n",
       "      <td>1188</td>\n",
       "      <td>1188</td>\n",
       "    </tr>\n",
       "    <tr>\n",
       "      <th>2</th>\n",
       "      <td>media</td>\n",
       "      <td>170</td>\n",
       "      <td>170</td>\n",
       "      <td>170</td>\n",
       "      <td>170</td>\n",
       "      <td>170</td>\n",
       "      <td>170</td>\n",
       "      <td>170</td>\n",
       "      <td>170</td>\n",
       "      <td>170</td>\n",
       "    </tr>\n",
       "  </tbody>\n",
       "</table>\n",
       "</div>"
      ],
      "text/plain": [
       "  pop_cat  state  year  price   pop  pop16   cpi   ndi  sales  pimin\n",
       "0    alta     22    22     22    22     22    22    22     22     22\n",
       "1    baja   1188  1188   1188  1188   1188  1188  1188   1188   1188\n",
       "2   media    170   170    170   170    170   170   170    170    170"
      ]
     },
     "execution_count": 12,
     "metadata": {},
     "output_type": "execute_result"
    }
   ],
   "source": [
    "# Primero agrupamos el dataframe por la columna pop_cat\n",
    "df_group = df_cigar.groupby(\"pop_cat\").count().reset_index() # Devolvera un objeto DataFrameGroupBy\n",
    "df_group"
   ]
  },
  {
   "attachments": {},
   "cell_type": "markdown",
   "metadata": {},
   "source": [
    "Esta tabla nos esta dando las frecuencias absolutas de nuestros datos, y lo que nos está diciendo es que cada una de las categorías que tenemos en nuestra columna `pop_cat` tienen 22, 1188 y 170 datos.  Si recordamos esta tabla no tenía valores nulos, y es por esto que en todas las columnas tenemos el mismo valor. Pero si tuvieramos nulos en alguna de las columnas, estos valores podrían diferir. "
   ]
  },
  {
   "attachments": {},
   "cell_type": "markdown",
   "metadata": {},
   "source": [
    "### Tabla de frecuencias absoluta de variables numéricas (cuantitativas)\n",
    "\n",
    "\n",
    "Ahora nos podría surgir la duda de si esto lo podemos hacer con variables numéricas. Y la respuesta  es si, en este caso tendríamos que usar un groupby de los que aprendimos en lecciones anteriores de Pandas. En este caso trabajaremos con la columna `pimin` que nos devolvía los precios mínimos de los estados limítrofes.  \n"
   ]
  },
  {
   "cell_type": "code",
   "execution_count": 13,
   "metadata": {},
   "outputs": [
    {
     "data": {
      "text/html": [
       "<div>\n",
       "<style scoped>\n",
       "    .dataframe tbody tr th:only-of-type {\n",
       "        vertical-align: middle;\n",
       "    }\n",
       "\n",
       "    .dataframe tbody tr th {\n",
       "        vertical-align: top;\n",
       "    }\n",
       "\n",
       "    .dataframe thead th {\n",
       "        text-align: right;\n",
       "    }\n",
       "</style>\n",
       "<table border=\"1\" class=\"dataframe\">\n",
       "  <thead>\n",
       "    <tr style=\"text-align: right;\">\n",
       "      <th></th>\n",
       "      <th>pimin</th>\n",
       "      <th>state</th>\n",
       "      <th>year</th>\n",
       "      <th>price</th>\n",
       "      <th>pop</th>\n",
       "      <th>pop16</th>\n",
       "      <th>cpi</th>\n",
       "      <th>ndi</th>\n",
       "      <th>sales</th>\n",
       "      <th>pop_cat</th>\n",
       "    </tr>\n",
       "  </thead>\n",
       "  <tbody>\n",
       "    <tr>\n",
       "      <th>55</th>\n",
       "      <td>30.1</td>\n",
       "      <td>18</td>\n",
       "      <td>18</td>\n",
       "      <td>18</td>\n",
       "      <td>18</td>\n",
       "      <td>18</td>\n",
       "      <td>18</td>\n",
       "      <td>18</td>\n",
       "      <td>18</td>\n",
       "      <td>18</td>\n",
       "    </tr>\n",
       "    <tr>\n",
       "      <th>53</th>\n",
       "      <td>29.9</td>\n",
       "      <td>16</td>\n",
       "      <td>16</td>\n",
       "      <td>16</td>\n",
       "      <td>16</td>\n",
       "      <td>16</td>\n",
       "      <td>16</td>\n",
       "      <td>16</td>\n",
       "      <td>16</td>\n",
       "      <td>16</td>\n",
       "    </tr>\n",
       "    <tr>\n",
       "      <th>21</th>\n",
       "      <td>26.2</td>\n",
       "      <td>15</td>\n",
       "      <td>15</td>\n",
       "      <td>15</td>\n",
       "      <td>15</td>\n",
       "      <td>15</td>\n",
       "      <td>15</td>\n",
       "      <td>15</td>\n",
       "      <td>15</td>\n",
       "      <td>15</td>\n",
       "    </tr>\n",
       "    <tr>\n",
       "      <th>7</th>\n",
       "      <td>24.7</td>\n",
       "      <td>15</td>\n",
       "      <td>15</td>\n",
       "      <td>15</td>\n",
       "      <td>15</td>\n",
       "      <td>15</td>\n",
       "      <td>15</td>\n",
       "      <td>15</td>\n",
       "      <td>15</td>\n",
       "      <td>15</td>\n",
       "    </tr>\n",
       "    <tr>\n",
       "      <th>155</th>\n",
       "      <td>43.4</td>\n",
       "      <td>14</td>\n",
       "      <td>14</td>\n",
       "      <td>14</td>\n",
       "      <td>14</td>\n",
       "      <td>14</td>\n",
       "      <td>14</td>\n",
       "      <td>14</td>\n",
       "      <td>14</td>\n",
       "      <td>14</td>\n",
       "    </tr>\n",
       "  </tbody>\n",
       "</table>\n",
       "</div>"
      ],
      "text/plain": [
       "     pimin  state  year  price  pop  pop16  cpi  ndi  sales  pop_cat\n",
       "55    30.1     18    18     18   18     18   18   18     18       18\n",
       "53    29.9     16    16     16   16     16   16   16     16       16\n",
       "21    26.2     15    15     15   15     15   15   15     15       15\n",
       "7     24.7     15    15     15   15     15   15   15     15       15\n",
       "155   43.4     14    14     14   14     14   14   14     14       14"
      ]
     },
     "execution_count": 13,
     "metadata": {},
     "output_type": "execute_result"
    }
   ],
   "source": [
    "df_price = df_cigar.groupby(\"pimin\").count().reset_index().sort_values(by = \"state\", ascending = False)\n",
    "df_price.head()"
   ]
  },
  {
   "cell_type": "markdown",
   "metadata": {},
   "source": [
    "En el código anterior realizamos el proceso de agrupar las entradas por una de las columnas, en este caso `pimin`.  Después, usamos el `count` para saber cuántas veces aparece cada valores, lo convertimos a *dataframe* con `reset_index`, por último hemos ordenado los valores de mayor  a menor en base a la columna de estado. \n",
    "\n",
    "En este caso podemos ver como el `pimin` con valor 30.1 aparece 18 veces, el valor 29.9 aparece 16 veces y así para el resto de los valores. "
   ]
  },
  {
   "attachments": {},
   "cell_type": "markdown",
   "metadata": {},
   "source": [
    "### Tabla de frecuencias relativa\n",
    "\n",
    "Como dijimos la inicio, las frecuencias relativas se expresan en porcentaje, y hace referencia a las veces que aparece respecto al total de datos que tenemos en nuestro df. Por lo tanto, lo que tendremos que hacer es simplemente dividir las frecuencias absolutas obtenidas previamente entre el total de datos que tenemos en nuestro set de dato. \n",
    "\n",
    "Recordemos que el total de filas que tenemos lo podemos sacar usando el método `. shape` de Pandas. Veámoslo con un ejemplo: \n"
   ]
  },
  {
   "cell_type": "code",
   "execution_count": 14,
   "metadata": {},
   "outputs": [
    {
     "data": {
      "text/html": [
       "<div>\n",
       "<style scoped>\n",
       "    .dataframe tbody tr th:only-of-type {\n",
       "        vertical-align: middle;\n",
       "    }\n",
       "\n",
       "    .dataframe tbody tr th {\n",
       "        vertical-align: top;\n",
       "    }\n",
       "\n",
       "    .dataframe thead th {\n",
       "        text-align: right;\n",
       "    }\n",
       "</style>\n",
       "<table border=\"1\" class=\"dataframe\">\n",
       "  <thead>\n",
       "    <tr style=\"text-align: right;\">\n",
       "      <th></th>\n",
       "      <th>pop_cat</th>\n",
       "      <th>state</th>\n",
       "      <th>year</th>\n",
       "      <th>price</th>\n",
       "      <th>pop</th>\n",
       "      <th>pop16</th>\n",
       "      <th>cpi</th>\n",
       "      <th>ndi</th>\n",
       "      <th>sales</th>\n",
       "      <th>pimin</th>\n",
       "    </tr>\n",
       "  </thead>\n",
       "  <tbody>\n",
       "    <tr>\n",
       "      <th>0</th>\n",
       "      <td>alta</td>\n",
       "      <td>22</td>\n",
       "      <td>22</td>\n",
       "      <td>22</td>\n",
       "      <td>22</td>\n",
       "      <td>22</td>\n",
       "      <td>22</td>\n",
       "      <td>22</td>\n",
       "      <td>22</td>\n",
       "      <td>22</td>\n",
       "    </tr>\n",
       "    <tr>\n",
       "      <th>1</th>\n",
       "      <td>baja</td>\n",
       "      <td>1188</td>\n",
       "      <td>1188</td>\n",
       "      <td>1188</td>\n",
       "      <td>1188</td>\n",
       "      <td>1188</td>\n",
       "      <td>1188</td>\n",
       "      <td>1188</td>\n",
       "      <td>1188</td>\n",
       "      <td>1188</td>\n",
       "    </tr>\n",
       "    <tr>\n",
       "      <th>2</th>\n",
       "      <td>media</td>\n",
       "      <td>170</td>\n",
       "      <td>170</td>\n",
       "      <td>170</td>\n",
       "      <td>170</td>\n",
       "      <td>170</td>\n",
       "      <td>170</td>\n",
       "      <td>170</td>\n",
       "      <td>170</td>\n",
       "      <td>170</td>\n",
       "    </tr>\n",
       "  </tbody>\n",
       "</table>\n",
       "</div>"
      ],
      "text/plain": [
       "  pop_cat  state  year  price   pop  pop16   cpi   ndi  sales  pimin\n",
       "0    alta     22    22     22    22     22    22    22     22     22\n",
       "1    baja   1188  1188   1188  1188   1188  1188  1188   1188   1188\n",
       "2   media    170   170    170   170    170   170   170    170    170"
      ]
     },
     "execution_count": 14,
     "metadata": {},
     "output_type": "execute_result"
    }
   ],
   "source": [
    "# recordemos el df_group\n",
    "\n",
    "df_group"
   ]
  },
  {
   "cell_type": "code",
   "execution_count": 15,
   "metadata": {},
   "outputs": [
    {
     "ename": "TypeError",
     "evalue": "unsupported operand type(s) for /: 'str' and 'int'",
     "output_type": "error",
     "traceback": [
      "\u001b[0;31m---------------------------------------------------------------------------\u001b[0m",
      "\u001b[0;31mTypeError\u001b[0m                                 Traceback (most recent call last)",
      "\u001b[0;32m~/anaconda3/lib/python3.9/site-packages/pandas/core/ops/array_ops.py\u001b[0m in \u001b[0;36m_na_arithmetic_op\u001b[0;34m(left, right, op, is_cmp)\u001b[0m\n\u001b[1;32m    164\u001b[0m     \u001b[0;32mtry\u001b[0m\u001b[0;34m:\u001b[0m\u001b[0;34m\u001b[0m\u001b[0;34m\u001b[0m\u001b[0m\n\u001b[0;32m--> 165\u001b[0;31m         \u001b[0mresult\u001b[0m \u001b[0;34m=\u001b[0m \u001b[0mfunc\u001b[0m\u001b[0;34m(\u001b[0m\u001b[0mleft\u001b[0m\u001b[0;34m,\u001b[0m \u001b[0mright\u001b[0m\u001b[0;34m)\u001b[0m\u001b[0;34m\u001b[0m\u001b[0;34m\u001b[0m\u001b[0m\n\u001b[0m\u001b[1;32m    166\u001b[0m     \u001b[0;32mexcept\u001b[0m \u001b[0mTypeError\u001b[0m\u001b[0;34m:\u001b[0m\u001b[0;34m\u001b[0m\u001b[0;34m\u001b[0m\u001b[0m\n",
      "\u001b[0;32m~/anaconda3/lib/python3.9/site-packages/pandas/core/computation/expressions.py\u001b[0m in \u001b[0;36mevaluate\u001b[0;34m(op, a, b, use_numexpr)\u001b[0m\n\u001b[1;32m    240\u001b[0m             \u001b[0;31m# error: \"None\" not callable\u001b[0m\u001b[0;34m\u001b[0m\u001b[0;34m\u001b[0m\u001b[0m\n\u001b[0;32m--> 241\u001b[0;31m             \u001b[0;32mreturn\u001b[0m \u001b[0m_evaluate\u001b[0m\u001b[0;34m(\u001b[0m\u001b[0mop\u001b[0m\u001b[0;34m,\u001b[0m \u001b[0mop_str\u001b[0m\u001b[0;34m,\u001b[0m \u001b[0ma\u001b[0m\u001b[0;34m,\u001b[0m \u001b[0mb\u001b[0m\u001b[0;34m)\u001b[0m  \u001b[0;31m# type: ignore[misc]\u001b[0m\u001b[0;34m\u001b[0m\u001b[0;34m\u001b[0m\u001b[0m\n\u001b[0m\u001b[1;32m    242\u001b[0m     \u001b[0;32mreturn\u001b[0m \u001b[0m_evaluate_standard\u001b[0m\u001b[0;34m(\u001b[0m\u001b[0mop\u001b[0m\u001b[0;34m,\u001b[0m \u001b[0mop_str\u001b[0m\u001b[0;34m,\u001b[0m \u001b[0ma\u001b[0m\u001b[0;34m,\u001b[0m \u001b[0mb\u001b[0m\u001b[0;34m)\u001b[0m\u001b[0;34m\u001b[0m\u001b[0;34m\u001b[0m\u001b[0m\n",
      "\u001b[0;32m~/anaconda3/lib/python3.9/site-packages/pandas/core/computation/expressions.py\u001b[0m in \u001b[0;36m_evaluate_numexpr\u001b[0;34m(op, op_str, a, b)\u001b[0m\n\u001b[1;32m    128\u001b[0m     \u001b[0;32mif\u001b[0m \u001b[0mresult\u001b[0m \u001b[0;32mis\u001b[0m \u001b[0;32mNone\u001b[0m\u001b[0;34m:\u001b[0m\u001b[0;34m\u001b[0m\u001b[0;34m\u001b[0m\u001b[0m\n\u001b[0;32m--> 129\u001b[0;31m         \u001b[0mresult\u001b[0m \u001b[0;34m=\u001b[0m \u001b[0m_evaluate_standard\u001b[0m\u001b[0;34m(\u001b[0m\u001b[0mop\u001b[0m\u001b[0;34m,\u001b[0m \u001b[0mop_str\u001b[0m\u001b[0;34m,\u001b[0m \u001b[0ma\u001b[0m\u001b[0;34m,\u001b[0m \u001b[0mb\u001b[0m\u001b[0;34m)\u001b[0m\u001b[0;34m\u001b[0m\u001b[0;34m\u001b[0m\u001b[0m\n\u001b[0m\u001b[1;32m    130\u001b[0m \u001b[0;34m\u001b[0m\u001b[0m\n",
      "\u001b[0;32m~/anaconda3/lib/python3.9/site-packages/pandas/core/computation/expressions.py\u001b[0m in \u001b[0;36m_evaluate_standard\u001b[0;34m(op, op_str, a, b)\u001b[0m\n\u001b[1;32m     69\u001b[0m         \u001b[0m_store_test_result\u001b[0m\u001b[0;34m(\u001b[0m\u001b[0;32mFalse\u001b[0m\u001b[0;34m)\u001b[0m\u001b[0;34m\u001b[0m\u001b[0;34m\u001b[0m\u001b[0m\n\u001b[0;32m---> 70\u001b[0;31m     \u001b[0;32mreturn\u001b[0m \u001b[0mop\u001b[0m\u001b[0;34m(\u001b[0m\u001b[0ma\u001b[0m\u001b[0;34m,\u001b[0m \u001b[0mb\u001b[0m\u001b[0;34m)\u001b[0m\u001b[0;34m\u001b[0m\u001b[0;34m\u001b[0m\u001b[0m\n\u001b[0m\u001b[1;32m     71\u001b[0m \u001b[0;34m\u001b[0m\u001b[0m\n",
      "\u001b[0;31mTypeError\u001b[0m: unsupported operand type(s) for /: 'str' and 'int'",
      "\nDuring handling of the above exception, another exception occurred:\n",
      "\u001b[0;31mTypeError\u001b[0m                                 Traceback (most recent call last)",
      "\u001b[0;32m/tmp/ipykernel_2548/2066659644.py\u001b[0m in \u001b[0;36m<module>\u001b[0;34m\u001b[0m\n\u001b[1;32m      1\u001b[0m \u001b[0;31m# en este caso vamos a usar la tabla de frecuencias relativas que creamos para la columna `pop_cat` y luego vamos a dividir todos los valores entre el total de filas que tenemos en el df.\u001b[0m\u001b[0;34m\u001b[0m\u001b[0;34m\u001b[0m\u001b[0m\n\u001b[1;32m      2\u001b[0m \u001b[0;34m\u001b[0m\u001b[0m\n\u001b[0;32m----> 3\u001b[0;31m \u001b[0mdf_group\u001b[0m \u001b[0;34m/\u001b[0m \u001b[0mdf_cigar\u001b[0m\u001b[0;34m.\u001b[0m\u001b[0mshape\u001b[0m\u001b[0;34m[\u001b[0m\u001b[0;36m0\u001b[0m\u001b[0;34m]\u001b[0m\u001b[0;34m\u001b[0m\u001b[0;34m\u001b[0m\u001b[0m\n\u001b[0m",
      "\u001b[0;32m~/anaconda3/lib/python3.9/site-packages/pandas/core/ops/common.py\u001b[0m in \u001b[0;36mnew_method\u001b[0;34m(self, other)\u001b[0m\n\u001b[1;32m     70\u001b[0m         \u001b[0mother\u001b[0m \u001b[0;34m=\u001b[0m \u001b[0mitem_from_zerodim\u001b[0m\u001b[0;34m(\u001b[0m\u001b[0mother\u001b[0m\u001b[0;34m)\u001b[0m\u001b[0;34m\u001b[0m\u001b[0;34m\u001b[0m\u001b[0m\n\u001b[1;32m     71\u001b[0m \u001b[0;34m\u001b[0m\u001b[0m\n\u001b[0;32m---> 72\u001b[0;31m         \u001b[0;32mreturn\u001b[0m \u001b[0mmethod\u001b[0m\u001b[0;34m(\u001b[0m\u001b[0mself\u001b[0m\u001b[0;34m,\u001b[0m \u001b[0mother\u001b[0m\u001b[0;34m)\u001b[0m\u001b[0;34m\u001b[0m\u001b[0;34m\u001b[0m\u001b[0m\n\u001b[0m\u001b[1;32m     73\u001b[0m \u001b[0;34m\u001b[0m\u001b[0m\n\u001b[1;32m     74\u001b[0m     \u001b[0;32mreturn\u001b[0m \u001b[0mnew_method\u001b[0m\u001b[0;34m\u001b[0m\u001b[0;34m\u001b[0m\u001b[0m\n",
      "\u001b[0;32m~/anaconda3/lib/python3.9/site-packages/pandas/core/arraylike.py\u001b[0m in \u001b[0;36m__truediv__\u001b[0;34m(self, other)\u001b[0m\n\u001b[1;32m    124\u001b[0m     \u001b[0;34m@\u001b[0m\u001b[0munpack_zerodim_and_defer\u001b[0m\u001b[0;34m(\u001b[0m\u001b[0;34m\"__truediv__\"\u001b[0m\u001b[0;34m)\u001b[0m\u001b[0;34m\u001b[0m\u001b[0;34m\u001b[0m\u001b[0m\n\u001b[1;32m    125\u001b[0m     \u001b[0;32mdef\u001b[0m \u001b[0m__truediv__\u001b[0m\u001b[0;34m(\u001b[0m\u001b[0mself\u001b[0m\u001b[0;34m,\u001b[0m \u001b[0mother\u001b[0m\u001b[0;34m)\u001b[0m\u001b[0;34m:\u001b[0m\u001b[0;34m\u001b[0m\u001b[0;34m\u001b[0m\u001b[0m\n\u001b[0;32m--> 126\u001b[0;31m         \u001b[0;32mreturn\u001b[0m \u001b[0mself\u001b[0m\u001b[0;34m.\u001b[0m\u001b[0m_arith_method\u001b[0m\u001b[0;34m(\u001b[0m\u001b[0mother\u001b[0m\u001b[0;34m,\u001b[0m \u001b[0moperator\u001b[0m\u001b[0;34m.\u001b[0m\u001b[0mtruediv\u001b[0m\u001b[0;34m)\u001b[0m\u001b[0;34m\u001b[0m\u001b[0;34m\u001b[0m\u001b[0m\n\u001b[0m\u001b[1;32m    127\u001b[0m \u001b[0;34m\u001b[0m\u001b[0m\n\u001b[1;32m    128\u001b[0m     \u001b[0;34m@\u001b[0m\u001b[0munpack_zerodim_and_defer\u001b[0m\u001b[0;34m(\u001b[0m\u001b[0;34m\"__rtruediv__\"\u001b[0m\u001b[0;34m)\u001b[0m\u001b[0;34m\u001b[0m\u001b[0;34m\u001b[0m\u001b[0m\n",
      "\u001b[0;32m~/anaconda3/lib/python3.9/site-packages/pandas/core/frame.py\u001b[0m in \u001b[0;36m_arith_method\u001b[0;34m(self, other, op)\u001b[0m\n\u001b[1;32m   7581\u001b[0m         \u001b[0mself\u001b[0m\u001b[0;34m,\u001b[0m \u001b[0mother\u001b[0m \u001b[0;34m=\u001b[0m \u001b[0mops\u001b[0m\u001b[0;34m.\u001b[0m\u001b[0malign_method_FRAME\u001b[0m\u001b[0;34m(\u001b[0m\u001b[0mself\u001b[0m\u001b[0;34m,\u001b[0m \u001b[0mother\u001b[0m\u001b[0;34m,\u001b[0m \u001b[0maxis\u001b[0m\u001b[0;34m,\u001b[0m \u001b[0mflex\u001b[0m\u001b[0;34m=\u001b[0m\u001b[0;32mTrue\u001b[0m\u001b[0;34m,\u001b[0m \u001b[0mlevel\u001b[0m\u001b[0;34m=\u001b[0m\u001b[0;32mNone\u001b[0m\u001b[0;34m)\u001b[0m\u001b[0;34m\u001b[0m\u001b[0;34m\u001b[0m\u001b[0m\n\u001b[1;32m   7582\u001b[0m \u001b[0;34m\u001b[0m\u001b[0m\n\u001b[0;32m-> 7583\u001b[0;31m         \u001b[0mnew_data\u001b[0m \u001b[0;34m=\u001b[0m \u001b[0mself\u001b[0m\u001b[0;34m.\u001b[0m\u001b[0m_dispatch_frame_op\u001b[0m\u001b[0;34m(\u001b[0m\u001b[0mother\u001b[0m\u001b[0;34m,\u001b[0m \u001b[0mop\u001b[0m\u001b[0;34m,\u001b[0m \u001b[0maxis\u001b[0m\u001b[0;34m=\u001b[0m\u001b[0maxis\u001b[0m\u001b[0;34m)\u001b[0m\u001b[0;34m\u001b[0m\u001b[0;34m\u001b[0m\u001b[0m\n\u001b[0m\u001b[1;32m   7584\u001b[0m         \u001b[0;32mreturn\u001b[0m \u001b[0mself\u001b[0m\u001b[0;34m.\u001b[0m\u001b[0m_construct_result\u001b[0m\u001b[0;34m(\u001b[0m\u001b[0mnew_data\u001b[0m\u001b[0;34m)\u001b[0m\u001b[0;34m\u001b[0m\u001b[0;34m\u001b[0m\u001b[0m\n\u001b[1;32m   7585\u001b[0m \u001b[0;34m\u001b[0m\u001b[0m\n",
      "\u001b[0;32m~/anaconda3/lib/python3.9/site-packages/pandas/core/frame.py\u001b[0m in \u001b[0;36m_dispatch_frame_op\u001b[0;34m(self, right, func, axis)\u001b[0m\n\u001b[1;32m   7608\u001b[0m             \u001b[0;31m# i.e. scalar, faster than checking np.ndim(right) == 0\u001b[0m\u001b[0;34m\u001b[0m\u001b[0;34m\u001b[0m\u001b[0m\n\u001b[1;32m   7609\u001b[0m             \u001b[0;32mwith\u001b[0m \u001b[0mnp\u001b[0m\u001b[0;34m.\u001b[0m\u001b[0merrstate\u001b[0m\u001b[0;34m(\u001b[0m\u001b[0mall\u001b[0m\u001b[0;34m=\u001b[0m\u001b[0;34m\"ignore\"\u001b[0m\u001b[0;34m)\u001b[0m\u001b[0;34m:\u001b[0m\u001b[0;34m\u001b[0m\u001b[0;34m\u001b[0m\u001b[0m\n\u001b[0;32m-> 7610\u001b[0;31m                 \u001b[0mbm\u001b[0m \u001b[0;34m=\u001b[0m \u001b[0mself\u001b[0m\u001b[0;34m.\u001b[0m\u001b[0m_mgr\u001b[0m\u001b[0;34m.\u001b[0m\u001b[0mapply\u001b[0m\u001b[0;34m(\u001b[0m\u001b[0marray_op\u001b[0m\u001b[0;34m,\u001b[0m \u001b[0mright\u001b[0m\u001b[0;34m=\u001b[0m\u001b[0mright\u001b[0m\u001b[0;34m)\u001b[0m\u001b[0;34m\u001b[0m\u001b[0;34m\u001b[0m\u001b[0m\n\u001b[0m\u001b[1;32m   7611\u001b[0m             \u001b[0;32mreturn\u001b[0m \u001b[0mself\u001b[0m\u001b[0;34m.\u001b[0m\u001b[0m_constructor\u001b[0m\u001b[0;34m(\u001b[0m\u001b[0mbm\u001b[0m\u001b[0;34m)\u001b[0m\u001b[0;34m\u001b[0m\u001b[0;34m\u001b[0m\u001b[0m\n\u001b[1;32m   7612\u001b[0m \u001b[0;34m\u001b[0m\u001b[0m\n",
      "\u001b[0;32m~/anaconda3/lib/python3.9/site-packages/pandas/core/internals/managers.py\u001b[0m in \u001b[0;36mapply\u001b[0;34m(self, f, align_keys, ignore_failures, **kwargs)\u001b[0m\n\u001b[1;32m    343\u001b[0m             \u001b[0;32mtry\u001b[0m\u001b[0;34m:\u001b[0m\u001b[0;34m\u001b[0m\u001b[0;34m\u001b[0m\u001b[0m\n\u001b[1;32m    344\u001b[0m                 \u001b[0;32mif\u001b[0m \u001b[0mcallable\u001b[0m\u001b[0;34m(\u001b[0m\u001b[0mf\u001b[0m\u001b[0;34m)\u001b[0m\u001b[0;34m:\u001b[0m\u001b[0;34m\u001b[0m\u001b[0;34m\u001b[0m\u001b[0m\n\u001b[0;32m--> 345\u001b[0;31m                     \u001b[0mapplied\u001b[0m \u001b[0;34m=\u001b[0m \u001b[0mb\u001b[0m\u001b[0;34m.\u001b[0m\u001b[0mapply\u001b[0m\u001b[0;34m(\u001b[0m\u001b[0mf\u001b[0m\u001b[0;34m,\u001b[0m \u001b[0;34m**\u001b[0m\u001b[0mkwargs\u001b[0m\u001b[0;34m)\u001b[0m\u001b[0;34m\u001b[0m\u001b[0;34m\u001b[0m\u001b[0m\n\u001b[0m\u001b[1;32m    346\u001b[0m                 \u001b[0;32melse\u001b[0m\u001b[0;34m:\u001b[0m\u001b[0;34m\u001b[0m\u001b[0;34m\u001b[0m\u001b[0m\n\u001b[1;32m    347\u001b[0m                     \u001b[0mapplied\u001b[0m \u001b[0;34m=\u001b[0m \u001b[0mgetattr\u001b[0m\u001b[0;34m(\u001b[0m\u001b[0mb\u001b[0m\u001b[0;34m,\u001b[0m \u001b[0mf\u001b[0m\u001b[0;34m)\u001b[0m\u001b[0;34m(\u001b[0m\u001b[0;34m**\u001b[0m\u001b[0mkwargs\u001b[0m\u001b[0;34m)\u001b[0m\u001b[0;34m\u001b[0m\u001b[0;34m\u001b[0m\u001b[0m\n",
      "\u001b[0;32m~/anaconda3/lib/python3.9/site-packages/pandas/core/internals/blocks.py\u001b[0m in \u001b[0;36mapply\u001b[0;34m(self, func, **kwargs)\u001b[0m\n\u001b[1;32m    349\u001b[0m         \u001b[0mone\u001b[0m\u001b[0;34m\u001b[0m\u001b[0;34m\u001b[0m\u001b[0m\n\u001b[1;32m    350\u001b[0m         \"\"\"\n\u001b[0;32m--> 351\u001b[0;31m         \u001b[0mresult\u001b[0m \u001b[0;34m=\u001b[0m \u001b[0mfunc\u001b[0m\u001b[0;34m(\u001b[0m\u001b[0mself\u001b[0m\u001b[0;34m.\u001b[0m\u001b[0mvalues\u001b[0m\u001b[0;34m,\u001b[0m \u001b[0;34m**\u001b[0m\u001b[0mkwargs\u001b[0m\u001b[0;34m)\u001b[0m\u001b[0;34m\u001b[0m\u001b[0;34m\u001b[0m\u001b[0m\n\u001b[0m\u001b[1;32m    352\u001b[0m \u001b[0;34m\u001b[0m\u001b[0m\n\u001b[1;32m    353\u001b[0m         \u001b[0;32mreturn\u001b[0m \u001b[0mself\u001b[0m\u001b[0;34m.\u001b[0m\u001b[0m_split_op_result\u001b[0m\u001b[0;34m(\u001b[0m\u001b[0mresult\u001b[0m\u001b[0;34m)\u001b[0m\u001b[0;34m\u001b[0m\u001b[0;34m\u001b[0m\u001b[0m\n",
      "\u001b[0;32m~/anaconda3/lib/python3.9/site-packages/pandas/core/ops/array_ops.py\u001b[0m in \u001b[0;36marithmetic_op\u001b[0;34m(left, right, op)\u001b[0m\n\u001b[1;32m    224\u001b[0m         \u001b[0;31m# error: Argument 1 to \"_na_arithmetic_op\" has incompatible type\u001b[0m\u001b[0;34m\u001b[0m\u001b[0;34m\u001b[0m\u001b[0m\n\u001b[1;32m    225\u001b[0m         \u001b[0;31m# \"Union[ExtensionArray, ndarray[Any, Any]]\"; expected \"ndarray[Any, Any]\"\u001b[0m\u001b[0;34m\u001b[0m\u001b[0;34m\u001b[0m\u001b[0m\n\u001b[0;32m--> 226\u001b[0;31m         \u001b[0mres_values\u001b[0m \u001b[0;34m=\u001b[0m \u001b[0m_na_arithmetic_op\u001b[0m\u001b[0;34m(\u001b[0m\u001b[0mleft\u001b[0m\u001b[0;34m,\u001b[0m \u001b[0mright\u001b[0m\u001b[0;34m,\u001b[0m \u001b[0mop\u001b[0m\u001b[0;34m)\u001b[0m  \u001b[0;31m# type: ignore[arg-type]\u001b[0m\u001b[0;34m\u001b[0m\u001b[0;34m\u001b[0m\u001b[0m\n\u001b[0m\u001b[1;32m    227\u001b[0m \u001b[0;34m\u001b[0m\u001b[0m\n\u001b[1;32m    228\u001b[0m     \u001b[0;32mreturn\u001b[0m \u001b[0mres_values\u001b[0m\u001b[0;34m\u001b[0m\u001b[0;34m\u001b[0m\u001b[0m\n",
      "\u001b[0;32m~/anaconda3/lib/python3.9/site-packages/pandas/core/ops/array_ops.py\u001b[0m in \u001b[0;36m_na_arithmetic_op\u001b[0;34m(left, right, op, is_cmp)\u001b[0m\n\u001b[1;32m    170\u001b[0m             \u001b[0;31m# Don't do this for comparisons, as that will handle complex numbers\u001b[0m\u001b[0;34m\u001b[0m\u001b[0;34m\u001b[0m\u001b[0m\n\u001b[1;32m    171\u001b[0m             \u001b[0;31m#  incorrectly, see GH#32047\u001b[0m\u001b[0;34m\u001b[0m\u001b[0;34m\u001b[0m\u001b[0m\n\u001b[0;32m--> 172\u001b[0;31m             \u001b[0mresult\u001b[0m \u001b[0;34m=\u001b[0m \u001b[0m_masked_arith_op\u001b[0m\u001b[0;34m(\u001b[0m\u001b[0mleft\u001b[0m\u001b[0;34m,\u001b[0m \u001b[0mright\u001b[0m\u001b[0;34m,\u001b[0m \u001b[0mop\u001b[0m\u001b[0;34m)\u001b[0m\u001b[0;34m\u001b[0m\u001b[0;34m\u001b[0m\u001b[0m\n\u001b[0m\u001b[1;32m    173\u001b[0m         \u001b[0;32melse\u001b[0m\u001b[0;34m:\u001b[0m\u001b[0;34m\u001b[0m\u001b[0;34m\u001b[0m\u001b[0m\n\u001b[1;32m    174\u001b[0m             \u001b[0;32mraise\u001b[0m\u001b[0;34m\u001b[0m\u001b[0;34m\u001b[0m\u001b[0m\n",
      "\u001b[0;32m~/anaconda3/lib/python3.9/site-packages/pandas/core/ops/array_ops.py\u001b[0m in \u001b[0;36m_masked_arith_op\u001b[0;34m(x, y, op)\u001b[0m\n\u001b[1;32m    127\u001b[0m \u001b[0;34m\u001b[0m\u001b[0m\n\u001b[1;32m    128\u001b[0m         \u001b[0;32mif\u001b[0m \u001b[0mmask\u001b[0m\u001b[0;34m.\u001b[0m\u001b[0many\u001b[0m\u001b[0;34m(\u001b[0m\u001b[0;34m)\u001b[0m\u001b[0;34m:\u001b[0m\u001b[0;34m\u001b[0m\u001b[0;34m\u001b[0m\u001b[0m\n\u001b[0;32m--> 129\u001b[0;31m             \u001b[0mresult\u001b[0m\u001b[0;34m[\u001b[0m\u001b[0mmask\u001b[0m\u001b[0;34m]\u001b[0m \u001b[0;34m=\u001b[0m \u001b[0mop\u001b[0m\u001b[0;34m(\u001b[0m\u001b[0mxrav\u001b[0m\u001b[0;34m[\u001b[0m\u001b[0mmask\u001b[0m\u001b[0;34m]\u001b[0m\u001b[0;34m,\u001b[0m \u001b[0my\u001b[0m\u001b[0;34m)\u001b[0m\u001b[0;34m\u001b[0m\u001b[0;34m\u001b[0m\u001b[0m\n\u001b[0m\u001b[1;32m    130\u001b[0m \u001b[0;34m\u001b[0m\u001b[0m\n\u001b[1;32m    131\u001b[0m     \u001b[0mnp\u001b[0m\u001b[0;34m.\u001b[0m\u001b[0mputmask\u001b[0m\u001b[0;34m(\u001b[0m\u001b[0mresult\u001b[0m\u001b[0;34m,\u001b[0m \u001b[0;34m~\u001b[0m\u001b[0mmask\u001b[0m\u001b[0;34m,\u001b[0m \u001b[0mnp\u001b[0m\u001b[0;34m.\u001b[0m\u001b[0mnan\u001b[0m\u001b[0;34m)\u001b[0m\u001b[0;34m\u001b[0m\u001b[0;34m\u001b[0m\u001b[0m\n",
      "\u001b[0;31mTypeError\u001b[0m: unsupported operand type(s) for /: 'str' and 'int'"
     ]
    }
   ],
   "source": [
    "# en este caso vamos a usar la tabla de frecuencias relativas que creamos para la columna `pop_cat` y luego vamos a dividir todos los valores entre el total de filas que tenemos en el df. \n",
    "\n",
    "df_group / df_cigar.shape[0]"
   ]
  },
  {
   "cell_type": "markdown",
   "metadata": {},
   "source": [
    "Vaya.. un error, y esto es porque en nuestro df tenemos una columna que es de tipo *string* y no podemos dividir un *string* entre un número. Por lo tanto, tendremos que hacerlo de otra forma, veamos como: "
   ]
  },
  {
   "cell_type": "code",
   "execution_count": 16,
   "metadata": {},
   "outputs": [
    {
     "data": {
      "text/html": [
       "<div>\n",
       "<style scoped>\n",
       "    .dataframe tbody tr th:only-of-type {\n",
       "        vertical-align: middle;\n",
       "    }\n",
       "\n",
       "    .dataframe tbody tr th {\n",
       "        vertical-align: top;\n",
       "    }\n",
       "\n",
       "    .dataframe thead th {\n",
       "        text-align: right;\n",
       "    }\n",
       "</style>\n",
       "<table border=\"1\" class=\"dataframe\">\n",
       "  <thead>\n",
       "    <tr style=\"text-align: right;\">\n",
       "      <th></th>\n",
       "      <th>state</th>\n",
       "      <th>year</th>\n",
       "      <th>price</th>\n",
       "      <th>pop</th>\n",
       "      <th>pop16</th>\n",
       "      <th>cpi</th>\n",
       "      <th>ndi</th>\n",
       "      <th>sales</th>\n",
       "      <th>pimin</th>\n",
       "    </tr>\n",
       "  </thead>\n",
       "  <tbody>\n",
       "    <tr>\n",
       "      <th>0</th>\n",
       "      <td>22</td>\n",
       "      <td>22</td>\n",
       "      <td>22</td>\n",
       "      <td>22</td>\n",
       "      <td>22</td>\n",
       "      <td>22</td>\n",
       "      <td>22</td>\n",
       "      <td>22</td>\n",
       "      <td>22</td>\n",
       "    </tr>\n",
       "    <tr>\n",
       "      <th>1</th>\n",
       "      <td>1188</td>\n",
       "      <td>1188</td>\n",
       "      <td>1188</td>\n",
       "      <td>1188</td>\n",
       "      <td>1188</td>\n",
       "      <td>1188</td>\n",
       "      <td>1188</td>\n",
       "      <td>1188</td>\n",
       "      <td>1188</td>\n",
       "    </tr>\n",
       "    <tr>\n",
       "      <th>2</th>\n",
       "      <td>170</td>\n",
       "      <td>170</td>\n",
       "      <td>170</td>\n",
       "      <td>170</td>\n",
       "      <td>170</td>\n",
       "      <td>170</td>\n",
       "      <td>170</td>\n",
       "      <td>170</td>\n",
       "      <td>170</td>\n",
       "    </tr>\n",
       "  </tbody>\n",
       "</table>\n",
       "</div>"
      ],
      "text/plain": [
       "   state  year  price   pop  pop16   cpi   ndi  sales  pimin\n",
       "0     22    22     22    22     22    22    22     22     22\n",
       "1   1188  1188   1188  1188   1188  1188  1188   1188   1188\n",
       "2    170   170    170   170    170   170   170    170    170"
      ]
     },
     "execution_count": 16,
     "metadata": {},
     "output_type": "execute_result"
    }
   ],
   "source": [
    "# lo primero que hacemos es quedarnos con todas las columnas menos la que contiene strings. Para eso usaremos un drop\n",
    "\n",
    "df_group_sin_strings = df_group.drop(\"pop_cat\", axis = 1)\n",
    "df_group_sin_strings"
   ]
  },
  {
   "cell_type": "code",
   "execution_count": 17,
   "metadata": {},
   "outputs": [
    {
     "data": {
      "text/html": [
       "<div>\n",
       "<style scoped>\n",
       "    .dataframe tbody tr th:only-of-type {\n",
       "        vertical-align: middle;\n",
       "    }\n",
       "\n",
       "    .dataframe tbody tr th {\n",
       "        vertical-align: top;\n",
       "    }\n",
       "\n",
       "    .dataframe thead th {\n",
       "        text-align: right;\n",
       "    }\n",
       "</style>\n",
       "<table border=\"1\" class=\"dataframe\">\n",
       "  <thead>\n",
       "    <tr style=\"text-align: right;\">\n",
       "      <th></th>\n",
       "      <th>state</th>\n",
       "      <th>year</th>\n",
       "      <th>price</th>\n",
       "      <th>pop</th>\n",
       "      <th>pop16</th>\n",
       "      <th>cpi</th>\n",
       "      <th>ndi</th>\n",
       "      <th>sales</th>\n",
       "      <th>pimin</th>\n",
       "    </tr>\n",
       "  </thead>\n",
       "  <tbody>\n",
       "    <tr>\n",
       "      <th>0</th>\n",
       "      <td>1.594203</td>\n",
       "      <td>1.594203</td>\n",
       "      <td>1.594203</td>\n",
       "      <td>1.594203</td>\n",
       "      <td>1.594203</td>\n",
       "      <td>1.594203</td>\n",
       "      <td>1.594203</td>\n",
       "      <td>1.594203</td>\n",
       "      <td>1.594203</td>\n",
       "    </tr>\n",
       "    <tr>\n",
       "      <th>1</th>\n",
       "      <td>86.086957</td>\n",
       "      <td>86.086957</td>\n",
       "      <td>86.086957</td>\n",
       "      <td>86.086957</td>\n",
       "      <td>86.086957</td>\n",
       "      <td>86.086957</td>\n",
       "      <td>86.086957</td>\n",
       "      <td>86.086957</td>\n",
       "      <td>86.086957</td>\n",
       "    </tr>\n",
       "    <tr>\n",
       "      <th>2</th>\n",
       "      <td>12.318841</td>\n",
       "      <td>12.318841</td>\n",
       "      <td>12.318841</td>\n",
       "      <td>12.318841</td>\n",
       "      <td>12.318841</td>\n",
       "      <td>12.318841</td>\n",
       "      <td>12.318841</td>\n",
       "      <td>12.318841</td>\n",
       "      <td>12.318841</td>\n",
       "    </tr>\n",
       "  </tbody>\n",
       "</table>\n",
       "</div>"
      ],
      "text/plain": [
       "       state       year      price        pop      pop16        cpi  \\\n",
       "0   1.594203   1.594203   1.594203   1.594203   1.594203   1.594203   \n",
       "1  86.086957  86.086957  86.086957  86.086957  86.086957  86.086957   \n",
       "2  12.318841  12.318841  12.318841  12.318841  12.318841  12.318841   \n",
       "\n",
       "         ndi      sales      pimin  \n",
       "0   1.594203   1.594203   1.594203  \n",
       "1  86.086957  86.086957  86.086957  \n",
       "2  12.318841  12.318841  12.318841  "
      ]
     },
     "execution_count": 17,
     "metadata": {},
     "output_type": "execute_result"
    }
   ],
   "source": [
    "# ahora ya lo tenemos preparado para poder dividir y poder sacar las frecuencias relativas\n",
    "\n",
    "frecuencia_relativa = (df_group_sin_strings / df_cigar.shape[0]) * 100\n",
    "frecuencia_relativa"
   ]
  },
  {
   "cell_type": "code",
   "execution_count": 18,
   "metadata": {},
   "outputs": [
    {
     "data": {
      "text/html": [
       "<div>\n",
       "<style scoped>\n",
       "    .dataframe tbody tr th:only-of-type {\n",
       "        vertical-align: middle;\n",
       "    }\n",
       "\n",
       "    .dataframe tbody tr th {\n",
       "        vertical-align: top;\n",
       "    }\n",
       "\n",
       "    .dataframe thead th {\n",
       "        text-align: right;\n",
       "    }\n",
       "</style>\n",
       "<table border=\"1\" class=\"dataframe\">\n",
       "  <thead>\n",
       "    <tr style=\"text-align: right;\">\n",
       "      <th></th>\n",
       "      <th>pop_cat</th>\n",
       "      <th>state</th>\n",
       "      <th>year</th>\n",
       "      <th>price</th>\n",
       "      <th>pop</th>\n",
       "      <th>pop16</th>\n",
       "      <th>cpi</th>\n",
       "      <th>ndi</th>\n",
       "      <th>sales</th>\n",
       "      <th>pimin</th>\n",
       "    </tr>\n",
       "  </thead>\n",
       "  <tbody>\n",
       "    <tr>\n",
       "      <th>0</th>\n",
       "      <td>alta</td>\n",
       "      <td>1.594203</td>\n",
       "      <td>1.594203</td>\n",
       "      <td>1.594203</td>\n",
       "      <td>1.594203</td>\n",
       "      <td>1.594203</td>\n",
       "      <td>1.594203</td>\n",
       "      <td>1.594203</td>\n",
       "      <td>1.594203</td>\n",
       "      <td>1.594203</td>\n",
       "    </tr>\n",
       "    <tr>\n",
       "      <th>1</th>\n",
       "      <td>baja</td>\n",
       "      <td>86.086957</td>\n",
       "      <td>86.086957</td>\n",
       "      <td>86.086957</td>\n",
       "      <td>86.086957</td>\n",
       "      <td>86.086957</td>\n",
       "      <td>86.086957</td>\n",
       "      <td>86.086957</td>\n",
       "      <td>86.086957</td>\n",
       "      <td>86.086957</td>\n",
       "    </tr>\n",
       "    <tr>\n",
       "      <th>2</th>\n",
       "      <td>media</td>\n",
       "      <td>12.318841</td>\n",
       "      <td>12.318841</td>\n",
       "      <td>12.318841</td>\n",
       "      <td>12.318841</td>\n",
       "      <td>12.318841</td>\n",
       "      <td>12.318841</td>\n",
       "      <td>12.318841</td>\n",
       "      <td>12.318841</td>\n",
       "      <td>12.318841</td>\n",
       "    </tr>\n",
       "  </tbody>\n",
       "</table>\n",
       "</div>"
      ],
      "text/plain": [
       "  pop_cat      state       year      price        pop      pop16        cpi  \\\n",
       "0    alta   1.594203   1.594203   1.594203   1.594203   1.594203   1.594203   \n",
       "1    baja  86.086957  86.086957  86.086957  86.086957  86.086957  86.086957   \n",
       "2   media  12.318841  12.318841  12.318841  12.318841  12.318841  12.318841   \n",
       "\n",
       "         ndi      sales      pimin  \n",
       "0   1.594203   1.594203   1.594203  \n",
       "1  86.086957  86.086957  86.086957  \n",
       "2  12.318841  12.318841  12.318841  "
      ]
     },
     "execution_count": 18,
     "metadata": {},
     "output_type": "execute_result"
    }
   ],
   "source": [
    "# Ahora ya podemos ver las frecuencias pero no sabemos a que categória pertenecen, lo que podemos hacer es lo siguiente\n",
    "\n",
    "# almacenamos las columnas del dataframe sins strings en una variable\n",
    "\n",
    "columnas = df_group_sin_strings.columns\n",
    "\n",
    "# sobreescribimos los valores de las columnas\n",
    "\n",
    "df_group[columnas] = frecuencia_relativa\n",
    "\n",
    "# chequeemos ahora el resultado\n",
    "df_group"
   ]
  },
  {
   "attachments": {},
   "cell_type": "markdown",
   "metadata": {},
   "source": [
    "Ahora ya podemos decir que en la categoría \"alta\" tenemos un 1.59 de los datos, en la \"baja\" un 86.08 de los datos y en la \"media\" un 12.31 de los datos. "
   ]
  },
  {
   "attachments": {},
   "cell_type": "markdown",
   "metadata": {},
   "source": [
    "**Ejercicio:**  \n",
    "Dibuja el diagrama de cajas de una distribución de 100 datos aleatorios. Resalta los *outliers* (o valores atípicos). ¿Crees que hay muchos o pocos? ¿Por qué?\n",
    "\n",
    "**Ejercicio:**   \n",
    "Obtén la tabla de frecuencias para la longitud de los pétalos. ¿Cómo están distribuidos los datos en comparación a las longitudes de los sépalos?\n",
    "\n",
    "**Ejercicio:**   \n",
    "Escribe el código necesario para representar el histograma de las longitudes de los pétalos."
   ]
  }
 ],
 "metadata": {
  "kernelspec": {
   "display_name": "Python 3.9.7 ('base')",
   "language": "python",
   "name": "python3"
  },
  "language_info": {
   "codemirror_mode": {
    "name": "ipython",
    "version": 3
   },
   "file_extension": ".py",
   "mimetype": "text/x-python",
   "name": "python",
   "nbconvert_exporter": "python",
   "pygments_lexer": "ipython3",
   "version": "3.9.7"
  },
  "toc": {
   "base_numbering": 1,
   "nav_menu": {},
   "number_sections": true,
   "sideBar": true,
   "skip_h1_title": false,
   "title_cell": "Table of Contents",
   "title_sidebar": "Contents",
   "toc_cell": true,
   "toc_position": {},
   "toc_section_display": true,
   "toc_window_display": false
  },
  "vscode": {
   "interpreter": {
    "hash": "f7912e45f56376859e46a323936f3af5ef395502effe5c6049b04a4785be6cad"
   }
  }
 },
 "nbformat": 4,
 "nbformat_minor": 2
}

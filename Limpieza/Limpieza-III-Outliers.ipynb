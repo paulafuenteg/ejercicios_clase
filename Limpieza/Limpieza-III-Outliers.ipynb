{
 "cells": [
  {
   "cell_type": "markdown",
   "metadata": {},
   "source": [
    "# Limpieza III"
   ]
  },
  {
   "cell_type": "markdown",
   "metadata": {
    "toc": true
   },
   "source": [
    "<h1>Table of Contents<span class=\"tocSkip\"></span></h1>\n",
    "<div class=\"toc\"><ul class=\"toc-item\"><li><span><a href=\"#Tratamiento-de-outliers-o-valores-perdidos\" data-toc-modified-id=\"Tratamiento-de-outliers-o-valores-perdidos-1\"><span class=\"toc-item-num\">1&nbsp;&nbsp;</span>Tratamiento de <em>outliers</em> o valores perdidos</a></span><ul class=\"toc-item\"><li><span><a href=\"#Eliminar-outliers\" data-toc-modified-id=\"Eliminar-outliers-1.1\"><span class=\"toc-item-num\">1.1&nbsp;&nbsp;</span>Eliminar <em>outliers</em></a></span></li><li><span><a href=\"#Reemplazar\" data-toc-modified-id=\"Reemplazar-1.2\"><span class=\"toc-item-num\">1.2&nbsp;&nbsp;</span>Reemplazar</a></span></li></ul></li></ul></div>"
   ]
  },
  {
   "cell_type": "code",
   "execution_count": 231,
   "metadata": {},
   "outputs": [],
   "source": [
    "import pandas as pd\n",
    "import seaborn as sns\n",
    "import numpy as np\n",
    "import matplotlib.pyplot as plt\n",
    "\n",
    "pd.options.display.max_columns = None"
   ]
  },
  {
   "cell_type": "markdown",
   "metadata": {},
   "source": [
    "En este jupyter volveremos a trabajar con el mismo *dataset*, pero en este caso no trabajaremos con el orginal, si no con el que habíamos guardado en la lección anterior de Limpieza de *strings*. En concreto veremos qué son y cómo podemos gestionar los valores perdidos u *outliers*. Así que... empecemos cargándolo y explorándolo: "
   ]
  },
  {
   "cell_type": "code",
   "execution_count": 232,
   "metadata": {},
   "outputs": [
    {
     "data": {
      "text/html": [
       "<div>\n",
       "<style scoped>\n",
       "    .dataframe tbody tr th:only-of-type {\n",
       "        vertical-align: middle;\n",
       "    }\n",
       "\n",
       "    .dataframe tbody tr th {\n",
       "        vertical-align: top;\n",
       "    }\n",
       "\n",
       "    .dataframe thead th {\n",
       "        text-align: right;\n",
       "    }\n",
       "</style>\n",
       "<table border=\"1\" class=\"dataframe\">\n",
       "  <thead>\n",
       "    <tr style=\"text-align: right;\">\n",
       "      <th></th>\n",
       "      <th>index_</th>\n",
       "      <th>country_name</th>\n",
       "      <th>m2016</th>\n",
       "      <th>f2016</th>\n",
       "      <th>short_name</th>\n",
       "      <th>2-alpha_code</th>\n",
       "      <th>currency_unit</th>\n",
       "      <th>special_notes</th>\n",
       "      <th>region</th>\n",
       "      <th>income_group</th>\n",
       "      <th>wb-2_code</th>\n",
       "      <th>national_accounts_base_year</th>\n",
       "      <th>national_accounts_reference_year</th>\n",
       "      <th>sna_price_valuation</th>\n",
       "      <th>lending_category</th>\n",
       "      <th>other_groups</th>\n",
       "      <th>system_of_national_accounts</th>\n",
       "      <th>alternative_conversion_factor</th>\n",
       "      <th>balance_of_payments_manual_in_use</th>\n",
       "      <th>external_debt_reporting_status</th>\n",
       "      <th>system_of_trade</th>\n",
       "      <th>government_accounting_concept</th>\n",
       "      <th>imf_data_dissemination_standard</th>\n",
       "      <th>latest_population_census</th>\n",
       "      <th>latest_household_survey</th>\n",
       "      <th>source_of_most_recent_income_and_expenditure_data</th>\n",
       "      <th>vital_registration_complete</th>\n",
       "      <th>latest_agricultural_census</th>\n",
       "      <th>latest_industrial_data</th>\n",
       "      <th>latest_trade_data</th>\n",
       "      <th>mean_age</th>\n",
       "      <th>total2016</th>\n",
       "      <th>year_survey</th>\n",
       "      <th>survey_place</th>\n",
       "      <th>age_bins</th>\n",
       "      <th>porcentaje_nacidos</th>\n",
       "      <th>porcentaje_nacidos2</th>\n",
       "      <th>ratio_nacidos</th>\n",
       "    </tr>\n",
       "  </thead>\n",
       "  <tbody>\n",
       "    <tr>\n",
       "      <th>0</th>\n",
       "      <td>0</td>\n",
       "      <td>Aruba</td>\n",
       "      <td>NaN</td>\n",
       "      <td>1.800</td>\n",
       "      <td>Aruba</td>\n",
       "      <td>AW</td>\n",
       "      <td>Aruban florin</td>\n",
       "      <td>NaN</td>\n",
       "      <td>Latin America &amp; Caribbean</td>\n",
       "      <td>High income</td>\n",
       "      <td>AW</td>\n",
       "      <td>2000</td>\n",
       "      <td>NaN</td>\n",
       "      <td>Value added at basic prices (VAB)</td>\n",
       "      <td>NaN</td>\n",
       "      <td>NaN</td>\n",
       "      <td>Country uses the 1993 System of National Accou...</td>\n",
       "      <td>NaN</td>\n",
       "      <td>BPM6</td>\n",
       "      <td>NaN</td>\n",
       "      <td>1.0</td>\n",
       "      <td>NaN</td>\n",
       "      <td>Enhanced General Data Dissemination System (e-...</td>\n",
       "      <td>2020 (expected)</td>\n",
       "      <td>NaN</td>\n",
       "      <td>NaN</td>\n",
       "      <td>Yes</td>\n",
       "      <td>NaN</td>\n",
       "      <td>NaN</td>\n",
       "      <td>2018.0</td>\n",
       "      <td>37</td>\n",
       "      <td>622308</td>\n",
       "      <td>NaN</td>\n",
       "      <td>NaN</td>\n",
       "      <td>grupoA</td>\n",
       "      <td>0.000289</td>\n",
       "      <td>0.000289</td>\n",
       "      <td>0.000003</td>\n",
       "    </tr>\n",
       "    <tr>\n",
       "      <th>1</th>\n",
       "      <td>2</td>\n",
       "      <td>Afghanistan</td>\n",
       "      <td>53.2</td>\n",
       "      <td>4.635</td>\n",
       "      <td>Afghanistan</td>\n",
       "      <td>AF</td>\n",
       "      <td>Afghan afghani</td>\n",
       "      <td>Fiscal year end: March 20; reporting period fo...</td>\n",
       "      <td>South Asia</td>\n",
       "      <td>Low income</td>\n",
       "      <td>AF</td>\n",
       "      <td>2016</td>\n",
       "      <td>NaN</td>\n",
       "      <td>Value added at basic prices (VAB)</td>\n",
       "      <td>IDA</td>\n",
       "      <td>HIPC</td>\n",
       "      <td>Country uses the 1993 System of National Accou...</td>\n",
       "      <td>NaN</td>\n",
       "      <td>BPM6</td>\n",
       "      <td>Actual</td>\n",
       "      <td>1.0</td>\n",
       "      <td>Consolidated central government</td>\n",
       "      <td>Enhanced General Data Dissemination System (e-...</td>\n",
       "      <td>1979</td>\n",
       "      <td>Demographic and Health Survey, 2015</td>\n",
       "      <td>Integrated household survey (IHS), 2016/17</td>\n",
       "      <td>NaN</td>\n",
       "      <td>NaN</td>\n",
       "      <td>NaN</td>\n",
       "      <td>2018.0</td>\n",
       "      <td>80</td>\n",
       "      <td>3607857</td>\n",
       "      <td>Demographic and Health Survey</td>\n",
       "      <td>2015</td>\n",
       "      <td>grupoC</td>\n",
       "      <td>0.000128</td>\n",
       "      <td>0.000128</td>\n",
       "      <td>0.000001</td>\n",
       "    </tr>\n",
       "  </tbody>\n",
       "</table>\n",
       "</div>"
      ],
      "text/plain": [
       "   index_ country_name  m2016  f2016   short_name 2-alpha_code  \\\n",
       "0       0        Aruba    NaN  1.800        Aruba           AW   \n",
       "1       2  Afghanistan   53.2  4.635  Afghanistan           AF   \n",
       "\n",
       "    currency_unit                                      special_notes  \\\n",
       "0   Aruban florin                                                NaN   \n",
       "1  Afghan afghani  Fiscal year end: March 20; reporting period fo...   \n",
       "\n",
       "                      region income_group wb-2_code  \\\n",
       "0  Latin America & Caribbean  High income        AW   \n",
       "1                 South Asia   Low income        AF   \n",
       "\n",
       "  national_accounts_base_year  national_accounts_reference_year  \\\n",
       "0                        2000                               NaN   \n",
       "1                        2016                               NaN   \n",
       "\n",
       "                 sna_price_valuation lending_category other_groups  \\\n",
       "0  Value added at basic prices (VAB)              NaN          NaN   \n",
       "1  Value added at basic prices (VAB)              IDA         HIPC   \n",
       "\n",
       "                         system_of_national_accounts  \\\n",
       "0  Country uses the 1993 System of National Accou...   \n",
       "1  Country uses the 1993 System of National Accou...   \n",
       "\n",
       "  alternative_conversion_factor balance_of_payments_manual_in_use  \\\n",
       "0                           NaN                              BPM6   \n",
       "1                           NaN                              BPM6   \n",
       "\n",
       "  external_debt_reporting_status  system_of_trade  \\\n",
       "0                            NaN              1.0   \n",
       "1                         Actual              1.0   \n",
       "\n",
       "     government_accounting_concept  \\\n",
       "0                              NaN   \n",
       "1  Consolidated central government   \n",
       "\n",
       "                     imf_data_dissemination_standard latest_population_census  \\\n",
       "0  Enhanced General Data Dissemination System (e-...          2020 (expected)   \n",
       "1  Enhanced General Data Dissemination System (e-...                     1979   \n",
       "\n",
       "               latest_household_survey  \\\n",
       "0                                  NaN   \n",
       "1  Demographic and Health Survey, 2015   \n",
       "\n",
       "  source_of_most_recent_income_and_expenditure_data  \\\n",
       "0                                               NaN   \n",
       "1        Integrated household survey (IHS), 2016/17   \n",
       "\n",
       "  vital_registration_complete latest_agricultural_census  \\\n",
       "0                         Yes                        NaN   \n",
       "1                         NaN                        NaN   \n",
       "\n",
       "   latest_industrial_data  latest_trade_data  mean_age  total2016  \\\n",
       "0                     NaN             2018.0        37     622308   \n",
       "1                     NaN             2018.0        80    3607857   \n",
       "\n",
       "                     year_survey survey_place age_bins  porcentaje_nacidos  \\\n",
       "0                            NaN          NaN   grupoA            0.000289   \n",
       "1  Demographic and Health Survey         2015   grupoC            0.000128   \n",
       "\n",
       "   porcentaje_nacidos2  ratio_nacidos  \n",
       "0             0.000289       0.000003  \n",
       "1             0.000128       0.000001  "
      ]
     },
     "execution_count": 232,
     "metadata": {},
     "output_type": "execute_result"
    }
   ],
   "source": [
    "df = pd.read_csv(\"datos/WDICountry_limpio.csv\", index_col = 0)\n",
    "df.head(2)"
   ]
  },
  {
   "cell_type": "markdown",
   "metadata": {},
   "source": [
    "## Tratamiento de *outliers* o valores perdidos\n",
    "\n",
    "Los *outliers* o valores perdidos son observaciones anormales en nuestros datos que puede afectar potencialmente nuestros análisis. \n",
    "\n",
    "> Es decir, un *outlier* es una observación dentro de nuestros datos que no es consistente con el resto, que se escapa. \n",
    "\n",
    "Imaginemos que estamos midiendo el peso de las alumnas de una clase y son los siguientes:\n",
    "\n",
    "```python\n",
    "pesos = [92.31, 76.4, 87.3, 60.86, 65.96, 74.23, 87.56, 82.47, 69.27, 81.69]\n",
    "```\n",
    "\n",
    "- el peso máximo es de 92.31\n",
    "\n",
    "- el peso mínimo es de 60.86\n",
    "\n",
    "- la media del peso de la clase sería 77.085\n",
    "\n",
    "- la distancia del máximo y del mínimo a la media es de 14.504 y 16.94 respectivamente. \n",
    "\n",
    "**Como vemos la media se sitúa en la mitad del intervalo y nos podría dar una muy buena estimación del peso de la clase** \n",
    "\n",
    "Imaginemos ahora que el peso de las alumnas son: \n",
    "\n",
    "```python\n",
    "pesos2 = [92.31, 76.4, 117.3, 60.86, 65.96, 74.23, 87.56, 82.47, 69.27, 81.69]\n",
    "```\n",
    "En este caso: \n",
    "\n",
    "- el peso máximo es de 117.3\n",
    "\n",
    "- el peso mínimo es de 60.86\n",
    "\n",
    "- la media del peso de la clase sería 80.805\n",
    "\n",
    "- la distancia del máximo y del mínimo a la media es de 36.49 y 19.94 respectivamente. \n",
    "\n",
    "**En este caso la media ya no está situada aproximadamente en la mitad del intervalo**. El efecto de la alumna que tiene un mayor peso ha hecho que la media aritmética se haya desplazado hacia el valor máximo y por lo tanto ya no es tan buena representación de como se reparten los pesos en la clase.  \n",
    "\n",
    "\n",
    "Es en este caso, cuando el tratamiento de los *outliers* debe ser solucionado. Esto lo podemos hacer de distintas formas: \n",
    "\n",
    "- Eliminación de esos registros.\n",
    "\n",
    "- Mantenerlos (si el problema a resolver tiene que ver con outliers). \n",
    "\n",
    "Pero antes de ponernos a quitar datos o reemplazarlos tenemos que identificar cuáles son los *outliers* en nuestros datos. \n",
    "\n",
    "- Lo podemos hacer visualmente usando un `boxplot`. \n",
    "\n",
    "- Identificarlos usando el rango intercuartílico. \n"
   ]
  },
  {
   "cell_type": "code",
   "execution_count": 233,
   "metadata": {},
   "outputs": [],
   "source": [
    "# seleccionamos solo aquellas variables numéricas ya que los outliers solo los tendremos en variable numéricas\n",
    "\n",
    "df_numericas = df.select_dtypes(include=np.number)"
   ]
  },
  {
   "cell_type": "code",
   "execution_count": 234,
   "metadata": {},
   "outputs": [
    {
     "data": {
      "text/html": [
       "<div>\n",
       "<style scoped>\n",
       "    .dataframe tbody tr th:only-of-type {\n",
       "        vertical-align: middle;\n",
       "    }\n",
       "\n",
       "    .dataframe tbody tr th {\n",
       "        vertical-align: top;\n",
       "    }\n",
       "\n",
       "    .dataframe thead th {\n",
       "        text-align: right;\n",
       "    }\n",
       "</style>\n",
       "<table border=\"1\" class=\"dataframe\">\n",
       "  <thead>\n",
       "    <tr style=\"text-align: right;\">\n",
       "      <th></th>\n",
       "      <th>index_</th>\n",
       "      <th>m2016</th>\n",
       "      <th>f2016</th>\n",
       "      <th>national_accounts_reference_year</th>\n",
       "      <th>system_of_trade</th>\n",
       "      <th>latest_industrial_data</th>\n",
       "      <th>latest_trade_data</th>\n",
       "      <th>mean_age</th>\n",
       "      <th>total2016</th>\n",
       "      <th>porcentaje_nacidos</th>\n",
       "      <th>porcentaje_nacidos2</th>\n",
       "      <th>ratio_nacidos</th>\n",
       "    </tr>\n",
       "  </thead>\n",
       "  <tbody>\n",
       "    <tr>\n",
       "      <th>0</th>\n",
       "      <td>0</td>\n",
       "      <td>NaN</td>\n",
       "      <td>1.800</td>\n",
       "      <td>NaN</td>\n",
       "      <td>1.0</td>\n",
       "      <td>NaN</td>\n",
       "      <td>2018.0</td>\n",
       "      <td>37</td>\n",
       "      <td>622308</td>\n",
       "      <td>0.000289</td>\n",
       "      <td>0.000289</td>\n",
       "      <td>0.000003</td>\n",
       "    </tr>\n",
       "    <tr>\n",
       "      <th>1</th>\n",
       "      <td>2</td>\n",
       "      <td>53.2</td>\n",
       "      <td>4.635</td>\n",
       "      <td>NaN</td>\n",
       "      <td>1.0</td>\n",
       "      <td>NaN</td>\n",
       "      <td>2018.0</td>\n",
       "      <td>80</td>\n",
       "      <td>3607857</td>\n",
       "      <td>0.000128</td>\n",
       "      <td>0.000128</td>\n",
       "      <td>0.000001</td>\n",
       "    </tr>\n",
       "  </tbody>\n",
       "</table>\n",
       "</div>"
      ],
      "text/plain": [
       "   index_  m2016  f2016  national_accounts_reference_year  system_of_trade  \\\n",
       "0       0    NaN  1.800                               NaN              1.0   \n",
       "1       2   53.2  4.635                               NaN              1.0   \n",
       "\n",
       "   latest_industrial_data  latest_trade_data  mean_age  total2016  \\\n",
       "0                     NaN             2018.0        37     622308   \n",
       "1                     NaN             2018.0        80    3607857   \n",
       "\n",
       "   porcentaje_nacidos  porcentaje_nacidos2  ratio_nacidos  \n",
       "0            0.000289             0.000289       0.000003  \n",
       "1            0.000128             0.000128       0.000001  "
      ]
     },
     "execution_count": 234,
     "metadata": {},
     "output_type": "execute_result"
    }
   ],
   "source": [
    "df_numericas.head(2)"
   ]
  },
  {
   "cell_type": "markdown",
   "metadata": {},
   "source": [
    "Como vimos en lecciones anteriores, la mejor gráfica para ver los *outliers* es un `boxplot`. Para no tener que repetir la misma línea de código una y otra vez lo que haremos será un *for loop* que recorra todas las columnas y nos haga el boxplot."
   ]
  },
  {
   "cell_type": "code",
   "execution_count": 235,
   "metadata": {},
   "outputs": [
    {
     "data": {
      "image/png": "[encoded data removed]",
      "text/plain": [
       "<Figure size 1080x3240 with 12 Axes>"
      ]
     },
     "metadata": {
      "needs_background": "light"
     },
     "output_type": "display_data"
    }
   ],
   "source": [
    "# tenemos 12 columnas, por lo que creamos 12 subplots\n",
    "fig, ax = plt.subplots(12, 1, figsize=(15,45))\n",
    "\n",
    "for i in range(len(df_numericas.columns)):\n",
    "    sns.boxplot(x=df_numericas.columns[i], data=df_numericas, ax=ax[i])\n",
    "plt.show()"
   ]
  },
  {
   "cell_type": "markdown",
   "metadata": {},
   "source": [
    "Genial! Hemos podido identificar visualmente los *outliers* en nuestras variables numéricas. ¿Pero cómo los identificamos en nuestro *DataFrame*?\n",
    "\n",
    "Para eso calcularemos  el rango intercuartilico (IQR), lo que haremos será: \n",
    "\n",
    "- Calcular el primer cuartil (Q1, 25%): es aquel en el cuál el 25% de las observaciones son menores o iguales al valor del Q1. \n",
    "\n",
    "- Calcular el tercer cuartil (Q3, 75%): es aquel en el cuál el 75% de las observaciones son menores o iguales al valor de Q3\n",
    "\n",
    "\n",
    "- Calcular el rango intercuartil (IQR), es la diferencia entre el Q3 y Q1\n",
    "\n",
    "```\n",
    "IQR  = Q3 - Q1\n",
    "```\n",
    "\n",
    "> Todos los valores que sean **menores que `Q1-1.5IQR`** o **mayores que `Q3+1.5IQR`** serán considerados *outliers*. "
   ]
  },
  {
   "cell_type": "markdown",
   "metadata": {},
   "source": [
    "### Empecemos con la variable `m2016`\n",
    "\n",
    "Para calcular los cuartiles recurriremos a la librería NumPy. En esta librería podemos encontrar los métodos: \n",
    "\n",
    "- `np.percentile`: lo usaremos cuando **no** tengamos `nan` entre nuestros valores. \n",
    "\n",
    "- `np.nanpercentile`: lo usaremos cuando tengamos `nan` entre nuestros valores. \n",
    "\n",
    "En ambos casos tendremos que pasarle: \n",
    "\n",
    "- la columna sobre la que queramos calcular los cuartiles y\n",
    "\n",
    "- el cuartil que queremos calcular. \n"
   ]
  },
  {
   "cell_type": "code",
   "execution_count": 236,
   "metadata": {},
   "outputs": [
    {
     "data": {
      "text/plain": [
       "5.825"
      ]
     },
     "execution_count": 236,
     "metadata": {},
     "output_type": "execute_result"
    }
   ],
   "source": [
    "# cálculo del Q1\n",
    "Q1 = np.nanpercentile(df['m2016'], 25)\n",
    "Q1"
   ]
  },
  {
   "cell_type": "code",
   "execution_count": 237,
   "metadata": {},
   "outputs": [
    {
     "data": {
      "text/plain": [
       "34.225"
      ]
     },
     "execution_count": 237,
     "metadata": {},
     "output_type": "execute_result"
    }
   ],
   "source": [
    "# cálculo del Q3\n",
    "Q3 = np.nanpercentile(df['m2016'], 75)\n",
    "Q3"
   ]
  },
  {
   "cell_type": "code",
   "execution_count": 238,
   "metadata": {},
   "outputs": [
    {
     "data": {
      "text/plain": [
       "28.400000000000002"
      ]
     },
     "execution_count": 238,
     "metadata": {},
     "output_type": "execute_result"
    }
   ],
   "source": [
    "#calculemos el IQR \n",
    "\n",
    "IQR = Q3 - Q1\n",
    "IQR"
   ]
  },
  {
   "cell_type": "code",
   "execution_count": 239,
   "metadata": {},
   "outputs": [
    {
     "data": {
      "text/plain": [
       "42.6"
      ]
     },
     "execution_count": 239,
     "metadata": {},
     "output_type": "execute_result"
    }
   ],
   "source": [
    "# multiplicamos el IQR por 1.5\n",
    "\n",
    "outlier_step = 1.5 * IQR\n",
    "outlier_step"
   ]
  },
  {
   "cell_type": "markdown",
   "metadata": {},
   "source": [
    "Ahora es el momento de filtrar nuestros datos filtrar/eliminar aquellos datos que sean *outliers*. Recordamos que dijimos que \n",
    "\n",
    "> Todos los valores que sean **menores que `Q1 - 1.5IQR`** o **mayores que `Q3 + 1.5IQR`** serán considerados *outliers*. \n",
    "\n",
    "por lo tanto basaremos el filtro de nuestro *DataFrame* sobre estas condiciones. Si volvemos sobre la gráfica vimos que teníamos tres *outliers*, los mismos que nos salen en el *DataFrame* `outliers_data`."
   ]
  },
  {
   "cell_type": "code",
   "execution_count": 240,
   "metadata": {},
   "outputs": [],
   "source": [
    "outliers_data = df[(df[\"m2016\"] < Q1 - outlier_step) | (df[\"m2016\"] > Q3 + outlier_step)]"
   ]
  },
  {
   "cell_type": "code",
   "execution_count": 241,
   "metadata": {},
   "outputs": [
    {
     "data": {
      "text/html": [
       "<div>\n",
       "<style scoped>\n",
       "    .dataframe tbody tr th:only-of-type {\n",
       "        vertical-align: middle;\n",
       "    }\n",
       "\n",
       "    .dataframe tbody tr th {\n",
       "        vertical-align: top;\n",
       "    }\n",
       "\n",
       "    .dataframe thead th {\n",
       "        text-align: right;\n",
       "    }\n",
       "</style>\n",
       "<table border=\"1\" class=\"dataframe\">\n",
       "  <thead>\n",
       "    <tr style=\"text-align: right;\">\n",
       "      <th></th>\n",
       "      <th>index_</th>\n",
       "      <th>country_name</th>\n",
       "      <th>m2016</th>\n",
       "      <th>f2016</th>\n",
       "      <th>short_name</th>\n",
       "      <th>2-alpha_code</th>\n",
       "      <th>currency_unit</th>\n",
       "      <th>special_notes</th>\n",
       "      <th>region</th>\n",
       "      <th>income_group</th>\n",
       "      <th>wb-2_code</th>\n",
       "      <th>national_accounts_base_year</th>\n",
       "      <th>national_accounts_reference_year</th>\n",
       "      <th>sna_price_valuation</th>\n",
       "      <th>lending_category</th>\n",
       "      <th>other_groups</th>\n",
       "      <th>system_of_national_accounts</th>\n",
       "      <th>alternative_conversion_factor</th>\n",
       "      <th>balance_of_payments_manual_in_use</th>\n",
       "      <th>external_debt_reporting_status</th>\n",
       "      <th>system_of_trade</th>\n",
       "      <th>government_accounting_concept</th>\n",
       "      <th>imf_data_dissemination_standard</th>\n",
       "      <th>latest_population_census</th>\n",
       "      <th>latest_household_survey</th>\n",
       "      <th>source_of_most_recent_income_and_expenditure_data</th>\n",
       "      <th>vital_registration_complete</th>\n",
       "      <th>latest_agricultural_census</th>\n",
       "      <th>latest_industrial_data</th>\n",
       "      <th>latest_trade_data</th>\n",
       "      <th>mean_age</th>\n",
       "      <th>total2016</th>\n",
       "      <th>year_survey</th>\n",
       "      <th>survey_place</th>\n",
       "      <th>age_bins</th>\n",
       "      <th>porcentaje_nacidos</th>\n",
       "      <th>porcentaje_nacidos2</th>\n",
       "      <th>ratio_nacidos</th>\n",
       "    </tr>\n",
       "  </thead>\n",
       "  <tbody>\n",
       "    <tr>\n",
       "      <th>29</th>\n",
       "      <td>34</td>\n",
       "      <td>Central African Republic</td>\n",
       "      <td>88.5</td>\n",
       "      <td>4.869</td>\n",
       "      <td>Central African Republic</td>\n",
       "      <td>CF</td>\n",
       "      <td>Central African CFA franc</td>\n",
       "      <td>NaN</td>\n",
       "      <td>Sub-Saharan Africa</td>\n",
       "      <td>Low income</td>\n",
       "      <td>CF</td>\n",
       "      <td>2005</td>\n",
       "      <td>NaN</td>\n",
       "      <td>Value added at basic prices (VAB)</td>\n",
       "      <td>IDA</td>\n",
       "      <td>HIPC</td>\n",
       "      <td>Country uses the 1993 System of National Accou...</td>\n",
       "      <td>NaN</td>\n",
       "      <td>BPM5 (Converted into BPM6 by IMF)</td>\n",
       "      <td>Actual</td>\n",
       "      <td>1.0</td>\n",
       "      <td>Budgetary central government</td>\n",
       "      <td>Enhanced General Data Dissemination System (e-...</td>\n",
       "      <td>2003</td>\n",
       "      <td>Multiple Indicator Cluster Survey, 2018/19</td>\n",
       "      <td>Priority survey (PS), 2008</td>\n",
       "      <td>NaN</td>\n",
       "      <td>NaN</td>\n",
       "      <td>1993.0</td>\n",
       "      <td>2017.0</td>\n",
       "      <td>71</td>\n",
       "      <td>3396011</td>\n",
       "      <td>Multiple Indicator Cluster Survey</td>\n",
       "      <td>2018/19</td>\n",
       "      <td>grupoC</td>\n",
       "      <td>0.000143</td>\n",
       "      <td>0.000143</td>\n",
       "      <td>1.433741e-06</td>\n",
       "    </tr>\n",
       "    <tr>\n",
       "      <th>158</th>\n",
       "      <td>209</td>\n",
       "      <td>Sierra Leone</td>\n",
       "      <td>83.3</td>\n",
       "      <td>4.457</td>\n",
       "      <td>Sierra Leone</td>\n",
       "      <td>SL</td>\n",
       "      <td>Sierra Leonean leone</td>\n",
       "      <td>NaN</td>\n",
       "      <td>Sub-Saharan Africa</td>\n",
       "      <td>Low income</td>\n",
       "      <td>SL</td>\n",
       "      <td>2006</td>\n",
       "      <td>NaN</td>\n",
       "      <td>Value added at basic prices (VAB)</td>\n",
       "      <td>IDA</td>\n",
       "      <td>HIPC</td>\n",
       "      <td>Country uses the 1993 System of National Accou...</td>\n",
       "      <td>NaN</td>\n",
       "      <td>BPM5 (Converted into BPM6 by IMF)</td>\n",
       "      <td>Actual</td>\n",
       "      <td>1.0</td>\n",
       "      <td>Consolidated central government</td>\n",
       "      <td>Enhanced General Data Dissemination System (e-...</td>\n",
       "      <td>2020</td>\n",
       "      <td>Demographic and Health Survey, 2019</td>\n",
       "      <td>Integrated household survey (IHS), 2011</td>\n",
       "      <td>NaN</td>\n",
       "      <td>NaN</td>\n",
       "      <td>1993.0</td>\n",
       "      <td>2017.0</td>\n",
       "      <td>90</td>\n",
       "      <td>9172983</td>\n",
       "      <td>Demographic and Health Survey</td>\n",
       "      <td>2019</td>\n",
       "      <td>grupoC</td>\n",
       "      <td>0.000049</td>\n",
       "      <td>0.000049</td>\n",
       "      <td>4.858834e-07</td>\n",
       "    </tr>\n",
       "    <tr>\n",
       "      <th>161</th>\n",
       "      <td>212</td>\n",
       "      <td>Somalia</td>\n",
       "      <td>82.6</td>\n",
       "      <td>6.267</td>\n",
       "      <td>Somalia</td>\n",
       "      <td>SO</td>\n",
       "      <td>Somali shilling</td>\n",
       "      <td>NaN</td>\n",
       "      <td>Sub-Saharan Africa</td>\n",
       "      <td>Low income</td>\n",
       "      <td>SO</td>\n",
       "      <td>2013</td>\n",
       "      <td>NaN</td>\n",
       "      <td>Value added at basic prices (VAB)</td>\n",
       "      <td>IDA</td>\n",
       "      <td>HIPC</td>\n",
       "      <td>Country uses the 1968 System of National Accou...</td>\n",
       "      <td>1977–90</td>\n",
       "      <td>BPM5 (Converted into BPM6 by IMF)</td>\n",
       "      <td>Actual</td>\n",
       "      <td>NaN</td>\n",
       "      <td>NaN</td>\n",
       "      <td>NaN</td>\n",
       "      <td>1987. Enumeration of settled population was in...</td>\n",
       "      <td>Multiple Indicator Cluster Survey, 2006</td>\n",
       "      <td>NaN</td>\n",
       "      <td>NaN</td>\n",
       "      <td>NaN</td>\n",
       "      <td>1986.0</td>\n",
       "      <td>NaN</td>\n",
       "      <td>32</td>\n",
       "      <td>3671221</td>\n",
       "      <td>Multiple Indicator Cluster Survey</td>\n",
       "      <td>2006</td>\n",
       "      <td>grupoA</td>\n",
       "      <td>0.000171</td>\n",
       "      <td>0.000171</td>\n",
       "      <td>1.707061e-06</td>\n",
       "    </tr>\n",
       "  </tbody>\n",
       "</table>\n",
       "</div>"
      ],
      "text/plain": [
       "     index_              country_name  m2016  f2016                short_name  \\\n",
       "29       34  Central African Republic   88.5  4.869  Central African Republic   \n",
       "158     209              Sierra Leone   83.3  4.457              Sierra Leone   \n",
       "161     212                   Somalia   82.6  6.267                   Somalia   \n",
       "\n",
       "    2-alpha_code              currency_unit special_notes              region  \\\n",
       "29            CF  Central African CFA franc           NaN  Sub-Saharan Africa   \n",
       "158           SL       Sierra Leonean leone           NaN  Sub-Saharan Africa   \n",
       "161           SO            Somali shilling           NaN  Sub-Saharan Africa   \n",
       "\n",
       "    income_group wb-2_code national_accounts_base_year  \\\n",
       "29    Low income        CF                        2005   \n",
       "158   Low income        SL                        2006   \n",
       "161   Low income        SO                        2013   \n",
       "\n",
       "     national_accounts_reference_year                sna_price_valuation  \\\n",
       "29                                NaN  Value added at basic prices (VAB)   \n",
       "158                               NaN  Value added at basic prices (VAB)   \n",
       "161                               NaN  Value added at basic prices (VAB)   \n",
       "\n",
       "    lending_category other_groups  \\\n",
       "29               IDA         HIPC   \n",
       "158              IDA         HIPC   \n",
       "161              IDA         HIPC   \n",
       "\n",
       "                           system_of_national_accounts  \\\n",
       "29   Country uses the 1993 System of National Accou...   \n",
       "158  Country uses the 1993 System of National Accou...   \n",
       "161  Country uses the 1968 System of National Accou...   \n",
       "\n",
       "    alternative_conversion_factor  balance_of_payments_manual_in_use  \\\n",
       "29                            NaN  BPM5 (Converted into BPM6 by IMF)   \n",
       "158                           NaN  BPM5 (Converted into BPM6 by IMF)   \n",
       "161                       1977–90  BPM5 (Converted into BPM6 by IMF)   \n",
       "\n",
       "    external_debt_reporting_status  system_of_trade  \\\n",
       "29                          Actual              1.0   \n",
       "158                         Actual              1.0   \n",
       "161                         Actual              NaN   \n",
       "\n",
       "       government_accounting_concept  \\\n",
       "29      Budgetary central government   \n",
       "158  Consolidated central government   \n",
       "161                              NaN   \n",
       "\n",
       "                       imf_data_dissemination_standard  \\\n",
       "29   Enhanced General Data Dissemination System (e-...   \n",
       "158  Enhanced General Data Dissemination System (e-...   \n",
       "161                                                NaN   \n",
       "\n",
       "                              latest_population_census  \\\n",
       "29                                                2003   \n",
       "158                                               2020   \n",
       "161  1987. Enumeration of settled population was in...   \n",
       "\n",
       "                        latest_household_survey  \\\n",
       "29   Multiple Indicator Cluster Survey, 2018/19   \n",
       "158         Demographic and Health Survey, 2019   \n",
       "161     Multiple Indicator Cluster Survey, 2006   \n",
       "\n",
       "    source_of_most_recent_income_and_expenditure_data  \\\n",
       "29                         Priority survey (PS), 2008   \n",
       "158           Integrated household survey (IHS), 2011   \n",
       "161                                               NaN   \n",
       "\n",
       "    vital_registration_complete latest_agricultural_census  \\\n",
       "29                          NaN                        NaN   \n",
       "158                         NaN                        NaN   \n",
       "161                         NaN                        NaN   \n",
       "\n",
       "     latest_industrial_data  latest_trade_data  mean_age  total2016  \\\n",
       "29                   1993.0             2017.0        71    3396011   \n",
       "158                  1993.0             2017.0        90    9172983   \n",
       "161                  1986.0                NaN        32    3671221   \n",
       "\n",
       "                           year_survey survey_place age_bins  \\\n",
       "29   Multiple Indicator Cluster Survey      2018/19   grupoC   \n",
       "158      Demographic and Health Survey         2019   grupoC   \n",
       "161  Multiple Indicator Cluster Survey         2006   grupoA   \n",
       "\n",
       "     porcentaje_nacidos  porcentaje_nacidos2  ratio_nacidos  \n",
       "29             0.000143             0.000143   1.433741e-06  \n",
       "158            0.000049             0.000049   4.858834e-07  \n",
       "161            0.000171             0.000171   1.707061e-06  "
      ]
     },
     "execution_count": 241,
     "metadata": {},
     "output_type": "execute_result"
    }
   ],
   "source": [
    "outliers_data.head()"
   ]
  },
  {
   "cell_type": "markdown",
   "metadata": {},
   "source": [
    "Perfecto, ya hemos sacado las filas que corresponden a *outliers* para nuestra columna de interés. Lo que vamos a hacer ahora es extraer los índices de las filas ya que estos son los \"DNI\" de nuestras filas. De esta forma luego podremos trabajar sobre estas filas."
   ]
  },
  {
   "cell_type": "code",
   "execution_count": 242,
   "metadata": {},
   "outputs": [
    {
     "data": {
      "text/plain": [
       "[29, 158, 161]"
      ]
     },
     "execution_count": 242,
     "metadata": {},
     "output_type": "execute_result"
    }
   ],
   "source": [
    "# sacamos los índices de los outliers \n",
    "x = list(outliers_data.index)\n",
    "x "
   ]
  },
  {
   "cell_type": "markdown",
   "metadata": {},
   "source": [
    "Pero esto es un poco rollo si tuvieramos que ejecutar todas estas líneas para cada columna numérica, por lo que vamos a crearnos una función: "
   ]
  },
  {
   "cell_type": "code",
   "execution_count": 243,
   "metadata": {},
   "outputs": [],
   "source": [
    "def detectar_outliers(lista_columnas, dataframe): \n",
    "    \n",
    "    dicc_indices = {} # creamos un diccionario donde almacenaremos índices de los outliers\n",
    "    \n",
    "    # iteramos por la lista de las columnas numéricas de nuestro dataframe\n",
    "    for col in lista_columnas:\n",
    "        \n",
    "        #calculamos los cuartiles Q1 y Q3\n",
    "        Q1 = np.nanpercentile(df[col], 25)\n",
    "        Q3 = np.nanpercentile(df[col], 75)\n",
    "        \n",
    "        # calculamos el rango intercuartil\n",
    "        IQR = Q3 - Q1\n",
    "        \n",
    "        # calculamos los límites\n",
    "        outlier_step = 1.5 * IQR\n",
    "        \n",
    "        # filtramos nuestro dataframe para indentificar los outliers\n",
    "        outliers_data = dataframe[(dataframe[col] < Q1 - outlier_step) | (dataframe[col] > Q3 + outlier_step)]\n",
    "        \n",
    "        \n",
    "        if outliers_data.shape[0] > 0: # chequeamos si nuestro dataframe tiene alguna fila. \n",
    "        \n",
    "            dicc_indices[col] = (list(outliers_data.index)) # si tiene fila es que hay outliers y por lo tanto lo añadimos a nuestro diccionario\n",
    "        \n",
    "\n",
    "    \n",
    "    return dicc_indices "
   ]
  },
  {
   "cell_type": "code",
   "execution_count": 244,
   "metadata": {},
   "outputs": [
    {
     "data": {
      "text/plain": [
       "['index_',\n",
       " 'm2016',\n",
       " 'f2016',\n",
       " 'national_accounts_reference_year',\n",
       " 'system_of_trade',\n",
       " 'latest_industrial_data',\n",
       " 'latest_trade_data',\n",
       " 'mean_age',\n",
       " 'total2016',\n",
       " 'porcentaje_nacidos',\n",
       " 'porcentaje_nacidos2',\n",
       " 'ratio_nacidos']"
      ]
     },
     "execution_count": 244,
     "metadata": {},
     "output_type": "execute_result"
    }
   ],
   "source": [
    "lista_columnas = list(df_numericas.columns)\n",
    "lista_columnas"
   ]
  },
  {
   "cell_type": "code",
   "execution_count": 245,
   "metadata": {},
   "outputs": [],
   "source": [
    "# aplicamos la función y sacamos los índices de los outliers.\n",
    "\n",
    "ind = detectar_outliers(lista_columnas, df)"
   ]
  },
  {
   "cell_type": "code",
   "execution_count": 246,
   "metadata": {},
   "outputs": [
    {
     "name": "stdout",
     "output_type": "stream",
     "text": [
      "{'m2016': [29, 158, 161], 'f2016': [116, 129, 161], 'national_accounts_reference_year': [174, 175], 'latest_industrial_data': [5, 15, 16, 48, 99, 103, 122, 131, 161, 178], 'latest_trade_data': [17, 27, 37, 40, 41, 45, 46, 51, 58, 59, 64, 65, 68, 82, 99, 128, 143, 149, 170, 171, 172, 176, 178, 179, 182, 192], 'porcentaje_nacidos': [0, 15, 16, 32, 35, 40, 53, 59, 61, 70, 83, 114, 129, 130, 143, 165, 173, 177, 183, 197], 'porcentaje_nacidos2': [0, 15, 16, 32, 35, 40, 53, 59, 61, 70, 83, 114, 129, 130, 143, 165, 173, 177, 183, 197], 'ratio_nacidos': [0, 15, 16, 32, 35, 40, 53, 59, 61, 70, 83, 114, 129, 130, 143, 165, 173, 177, 183, 197]}\n"
     ]
    }
   ],
   "source": [
    "# vemos que es lo que nos ha devuelto la función\n",
    "print(ind)"
   ]
  },
  {
   "cell_type": "markdown",
   "metadata": {},
   "source": [
    "Nos devuelve un diccionario, donde las *keys* son los nombres de las columnas que tienen *outliers* y los values son unas listas con los índices de las filas que tienen *outliers*."
   ]
  },
  {
   "cell_type": "markdown",
   "metadata": {},
   "source": [
    "Ahora ya podremos hacer el tratamiento correcto de los *outliers*, como comentabamos un poco más arriba: \n",
    "\n",
    "- eliminarlos,\n",
    "- reemplazarlos, o\n",
    "- mantenerlos. "
   ]
  },
  {
   "cell_type": "markdown",
   "metadata": {},
   "source": [
    "### Eliminar *outliers* \n",
    "\n",
    "Para eliminar las filas con *outliers* solo vamos a necesitar los índices. Por lo que necesitamos acceder a los valores de nuestro diccionario, para luego usarlos. "
   ]
  },
  {
   "cell_type": "code",
   "execution_count": 247,
   "metadata": {},
   "outputs": [],
   "source": [
    "# sacamos los valores de nuestro diccionario. \n",
    "\n",
    "valores = ind.values()"
   ]
  },
  {
   "cell_type": "code",
   "execution_count": 248,
   "metadata": {},
   "outputs": [
    {
     "name": "stdout",
     "output_type": "stream",
     "text": [
      "dict_values([[29, 158, 161], [116, 129, 161], [174, 175], [5, 15, 16, 48, 99, 103, 122, 131, 161, 178], [17, 27, 37, 40, 41, 45, 46, 51, 58, 59, 64, 65, 68, 82, 99, 128, 143, 149, 170, 171, 172, 176, 178, 179, 182, 192], [0, 15, 16, 32, 35, 40, 53, 59, 61, 70, 83, 114, 129, 130, 143, 165, 173, 177, 183, 197], [0, 15, 16, 32, 35, 40, 53, 59, 61, 70, 83, 114, 129, 130, 143, 165, 173, 177, 183, 197], [0, 15, 16, 32, 35, 40, 53, 59, 61, 70, 83, 114, 129, 130, 143, 165, 173, 177, 183, 197]])\n"
     ]
    }
   ],
   "source": [
    "# pero ojo!! Esto es una lista de listas, por lo que necesitaremos aplanarla, ya que el método drop acepta listas.\n",
    "\n",
    "print(valores)"
   ]
  },
  {
   "cell_type": "code",
   "execution_count": 249,
   "metadata": {},
   "outputs": [
    {
     "name": "stdout",
     "output_type": "stream",
     "text": [
      "{128, 129, 0, 131, 130, 5, 15, 16, 17, 143, 149, 27, 29, 158, 32, 161, 35, 37, 165, 40, 41, 170, 171, 172, 45, 174, 175, 48, 46, 178, 51, 176, 179, 182, 53, 177, 183, 58, 59, 61, 64, 65, 192, 68, 197, 70, 82, 83, 99, 103, 173, 114, 116, 122}\n"
     ]
    }
   ],
   "source": [
    "# hacemos una set comprehension para aplanar nuestra lista de listas y dejar un set. Puede ser que nos encontremos con índices que están repetidos, ya que puede ser que una fila tenga valores que sean outliers para dos columnas. \n",
    "# si recordamos de las primeras clases, en Python tenemos los sets que no permitían tener valores duplicados.\n",
    "\n",
    "valores = {indice for sublista in valores for indice in sublista}\n",
    "print(valores)"
   ]
  },
  {
   "cell_type": "code",
   "execution_count": 255,
   "metadata": {},
   "outputs": [],
   "source": [
    "# nos hacemos una copia del dataframe original\n",
    "\n",
    "df_sin_outliers2 = df.copy()"
   ]
  },
  {
   "cell_type": "code",
   "execution_count": 256,
   "metadata": {},
   "outputs": [],
   "source": [
    "# eliminamos usando la lista de índices las filas que hemos identificado como outliers\n",
    "\n",
    "final = df_sin_outliers2.drop(df_sin_outliers2.index[list(valores)])"
   ]
  },
  {
   "cell_type": "markdown",
   "metadata": {},
   "source": [
    "Por último chequeamos las filas del *DataFrame* nuevo y comprobamos si se han borrado los registros que queríamos. "
   ]
  },
  {
   "cell_type": "code",
   "execution_count": 259,
   "metadata": {},
   "outputs": [
    {
     "data": {
      "text/plain": [
       "(198, 38)"
      ]
     },
     "execution_count": 259,
     "metadata": {},
     "output_type": "execute_result"
    }
   ],
   "source": [
    "df.shape"
   ]
  },
  {
   "cell_type": "code",
   "execution_count": 258,
   "metadata": {},
   "outputs": [
    {
     "data": {
      "text/plain": [
       "(144, 38)"
      ]
     },
     "execution_count": 258,
     "metadata": {},
     "output_type": "execute_result"
    }
   ],
   "source": [
    "final.shape"
   ]
  },
  {
   "cell_type": "markdown",
   "metadata": {},
   "source": [
    "Vemos que se nos han eliminado filas, las correspondientes a los índices donde habíamos identificado los nulos. "
   ]
  },
  {
   "cell_type": "markdown",
   "metadata": {},
   "source": [
    "### Reemplazar\n",
    "\n",
    "También podemos reemplazar los valores de los *outliers* por la media o la mediana. Recordamos que la función para detectar los *outliers* nos devolvía un diccionario, donde las *keys* eran el nombre de las columnas y los *values* la lista de los índices donde tenemos nulos. "
   ]
  },
  {
   "cell_type": "code",
   "execution_count": 253,
   "metadata": {},
   "outputs": [
    {
     "data": {
      "text/plain": [
       "{'m2016': [29, 158, 161],\n",
       " 'f2016': [116, 129, 161],\n",
       " 'national_accounts_reference_year': [174, 175],\n",
       " 'latest_industrial_data': [5, 15, 16, 48, 99, 103, 122, 131, 161, 178],\n",
       " 'latest_trade_data': [17,\n",
       "  27,\n",
       "  37,\n",
       "  40,\n",
       "  41,\n",
       "  45,\n",
       "  46,\n",
       "  51,\n",
       "  58,\n",
       "  59,\n",
       "  64,\n",
       "  65,\n",
       "  68,\n",
       "  82,\n",
       "  99,\n",
       "  128,\n",
       "  143,\n",
       "  149,\n",
       "  170,\n",
       "  171,\n",
       "  172,\n",
       "  176,\n",
       "  178,\n",
       "  179,\n",
       "  182,\n",
       "  192],\n",
       " 'porcentaje_nacidos': [0,\n",
       "  15,\n",
       "  16,\n",
       "  32,\n",
       "  35,\n",
       "  40,\n",
       "  53,\n",
       "  59,\n",
       "  61,\n",
       "  70,\n",
       "  83,\n",
       "  114,\n",
       "  129,\n",
       "  130,\n",
       "  143,\n",
       "  165,\n",
       "  173,\n",
       "  177,\n",
       "  183,\n",
       "  197],\n",
       " 'porcentaje_nacidos2': [0,\n",
       "  15,\n",
       "  16,\n",
       "  32,\n",
       "  35,\n",
       "  40,\n",
       "  53,\n",
       "  59,\n",
       "  61,\n",
       "  70,\n",
       "  83,\n",
       "  114,\n",
       "  129,\n",
       "  130,\n",
       "  143,\n",
       "  165,\n",
       "  173,\n",
       "  177,\n",
       "  183,\n",
       "  197],\n",
       " 'ratio_nacidos': [0,\n",
       "  15,\n",
       "  16,\n",
       "  32,\n",
       "  35,\n",
       "  40,\n",
       "  53,\n",
       "  59,\n",
       "  61,\n",
       "  70,\n",
       "  83,\n",
       "  114,\n",
       "  129,\n",
       "  130,\n",
       "  143,\n",
       "  165,\n",
       "  173,\n",
       "  177,\n",
       "  183,\n",
       "  197]}"
      ]
     },
     "execution_count": 253,
     "metadata": {},
     "output_type": "execute_result"
    }
   ],
   "source": [
    "ind"
   ]
  },
  {
   "cell_type": "code",
   "execution_count": 254,
   "metadata": {},
   "outputs": [],
   "source": [
    "# lo que vamos a hacer es iterar por el diccionario que nos devuelve la función \n",
    "for k, v in ind.items():\n",
    "    media = df[k].mean() # calculamos la media para cada una de las columnas que tenemos en nuestro diccionario\n",
    "    for i in v: # iteremos por la lista de valores para cada columna\n",
    "        df.loc[i,k] = media # usando el loc, reemmplazamos los valores de los outliers por la media que hemos calculado al inicio"
   ]
  },
  {
   "cell_type": "markdown",
   "metadata": {},
   "source": [
    "## Ejercicios \n",
    "\n",
    "- 1️⃣ Detecta los outliers de nuestro *dataset* y elimínalos. Tenemos la formulita en los apuntes, pero lo ideal es que intentemos hacerlo nosotras! \n",
    "\n",
    "    No te olvides de visualizarlos! \n",
    "\n",
    "- 2️⃣ Reemplaza los outliers por la métrica que consideréis mas correcta.\n"
   ]
  },
  {
   "cell_type": "code",
   "execution_count": null,
   "metadata": {},
   "outputs": [],
   "source": []
  }
 ],
 "metadata": {
  "interpreter": {
   "hash": "01140a9d2395b7fd08e2b5f636695eabdb1e49ebcdc5fc3aed86efec2b14b433"
  },
  "kernelspec": {
   "display_name": "Python 3 (ipykernel)",
   "language": "python",
   "name": "python3"
  },
  "language_info": {
   "codemirror_mode": {
    "name": "ipython",
    "version": 3
   },
   "file_extension": ".py",
   "mimetype": "text/x-python",
   "name": "python",
   "nbconvert_exporter": "python",
   "pygments_lexer": "ipython3",
   "version": "3.9.10"
  },
  "toc": {
   "base_numbering": 1,
   "nav_menu": {},
   "number_sections": true,
   "sideBar": true,
   "skip_h1_title": false,
   "title_cell": "Table of Contents",
   "title_sidebar": "Contents",
   "toc_cell": true,
   "toc_position": {},
   "toc_section_display": true,
   "toc_window_display": false
  }
 },
 "nbformat": 4,
 "nbformat_minor": 2
}

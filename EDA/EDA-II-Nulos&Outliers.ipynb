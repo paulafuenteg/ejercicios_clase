{
 "cells": [
  {
   "cell_type": "markdown",
   "id": "650c3f09",
   "metadata": {},
   "source": [
    "# EDA II"
   ]
  },
  {
   "cell_type": "markdown",
   "id": "3c00b29b",
   "metadata": {
    "toc": true
   },
   "source": [
    "<h1>Table of Contents<span class=\"tocSkip\"></span></h1>\n",
    "<div class=\"toc\"><ul class=\"toc-item\"><li><span><a href=\"#Estadísticas-generales-del-dataset\" data-toc-modified-id=\"Estadísticas-generales-del-dataset-1\"><span class=\"toc-item-num\">1&nbsp;&nbsp;</span>Estadísticas generales del dataset</a></span><ul class=\"toc-item\"><li><span><a href=\"#Sidetable\" data-toc-modified-id=\"Sidetable-1.1\"><span class=\"toc-item-num\">1.1&nbsp;&nbsp;</span>Sidetable</a></span></li></ul></li><li><span><a href=\"#Valores-nulos\" data-toc-modified-id=\"Valores-nulos-2\"><span class=\"toc-item-num\">2&nbsp;&nbsp;</span>Valores nulos</a></span><ul class=\"toc-item\"><li><span><a href=\"#Tipos-de-valores-nulos\" data-toc-modified-id=\"Tipos-de-valores-nulos-2.1\"><span class=\"toc-item-num\">2.1&nbsp;&nbsp;</span>Tipos de valores nulos</a></span></li></ul></li><li><span><a href=\"#Outliers\" data-toc-modified-id=\"Outliers-3\"><span class=\"toc-item-num\">3&nbsp;&nbsp;</span>Outliers</a></span><ul class=\"toc-item\"><li><span><a href=\"#¿Qué-son?\" data-toc-modified-id=\"¿Qué-son?-3.1\"><span class=\"toc-item-num\">3.1&nbsp;&nbsp;</span>¿Qué son?</a></span></li><li><span><a href=\"#¿Por-qué-es-importante-detectarlos?\" data-toc-modified-id=\"¿Por-qué-es-importante-detectarlos?-3.2\"><span class=\"toc-item-num\">3.2&nbsp;&nbsp;</span>¿Por qué es importante detectarlos?</a></span></li><li><span><a href=\"#¿Cómo-detectamos-los-outliers?\" data-toc-modified-id=\"¿Cómo-detectamos-los-outliers?-3.3\"><span class=\"toc-item-num\">3.3&nbsp;&nbsp;</span>¿Cómo detectamos los <em>outliers</em>?</a></span><ul class=\"toc-item\"><li><span><a href=\"#Boxplot\" data-toc-modified-id=\"Boxplot-3.3.1\"><span class=\"toc-item-num\">3.3.1&nbsp;&nbsp;</span>Boxplot</a></span></li><li><span><a href=\"#Desviación-estándar\" data-toc-modified-id=\"Desviación-estándar-3.3.2\"><span class=\"toc-item-num\">3.3.2&nbsp;&nbsp;</span>Desviación estándar</a></span></li></ul></li></ul></li></ul></div>"
   ]
  },
  {
   "cell_type": "code",
   "execution_count": 111,
   "id": "61225cbc",
   "metadata": {},
   "outputs": [],
   "source": [
    "import pandas as pd\n",
    "import numpy as np\n",
    "import seaborn as sns\n",
    "import matplotlib.pyplot as plt\n",
    "import sidetable # si os da un error este comando es por no tenerlo instalado, \n",
    "                 # vemos cómo instalarlo en el siguiente apartado\n",
    "\n",
    "# establecer el tamaño de nuestras figuras\n",
    "plt.rcParams[\"figure.figsize\"] = (10,8)"
   ]
  },
  {
   "cell_type": "code",
   "execution_count": 112,
   "id": "eb6ac622",
   "metadata": {},
   "outputs": [],
   "source": [
    "df = pd.read_csv(\"../files/students.csv\", index_col = 0)"
   ]
  },
  {
   "cell_type": "code",
   "execution_count": 113,
   "id": "bacab6a3",
   "metadata": {},
   "outputs": [
    {
     "data": {
      "text/html": [
       "<div>\n",
       "<style scoped>\n",
       "    .dataframe tbody tr th:only-of-type {\n",
       "        vertical-align: middle;\n",
       "    }\n",
       "\n",
       "    .dataframe tbody tr th {\n",
       "        vertical-align: top;\n",
       "    }\n",
       "\n",
       "    .dataframe thead th {\n",
       "        text-align: right;\n",
       "    }\n",
       "</style>\n",
       "<table border=\"1\" class=\"dataframe\">\n",
       "  <thead>\n",
       "    <tr style=\"text-align: right;\">\n",
       "      <th></th>\n",
       "      <th>gender</th>\n",
       "      <th>race/ethnicity</th>\n",
       "      <th>parental level of education</th>\n",
       "      <th>lunch</th>\n",
       "      <th>test preparation course</th>\n",
       "      <th>math score</th>\n",
       "      <th>reading score</th>\n",
       "      <th>writing score</th>\n",
       "    </tr>\n",
       "  </thead>\n",
       "  <tbody>\n",
       "    <tr>\n",
       "      <th>0</th>\n",
       "      <td>female</td>\n",
       "      <td>group B</td>\n",
       "      <td>bachelor's degree</td>\n",
       "      <td>standard</td>\n",
       "      <td>none</td>\n",
       "      <td>72.0</td>\n",
       "      <td>72.0</td>\n",
       "      <td>74.0</td>\n",
       "    </tr>\n",
       "    <tr>\n",
       "      <th>1</th>\n",
       "      <td>female</td>\n",
       "      <td>group C</td>\n",
       "      <td>some college</td>\n",
       "      <td>standard</td>\n",
       "      <td>completed</td>\n",
       "      <td>69.0</td>\n",
       "      <td>90.0</td>\n",
       "      <td>NaN</td>\n",
       "    </tr>\n",
       "  </tbody>\n",
       "</table>\n",
       "</div>"
      ],
      "text/plain": [
       "   gender race/ethnicity parental level of education     lunch  \\\n",
       "0  female        group B           bachelor's degree  standard   \n",
       "1  female        group C                some college  standard   \n",
       "\n",
       "  test preparation course  math score  reading score  writing score  \n",
       "0                    none        72.0           72.0           74.0  \n",
       "1               completed        69.0           90.0            NaN  "
      ]
     },
     "execution_count": 113,
     "metadata": {},
     "output_type": "execute_result"
    }
   ],
   "source": [
    "df.head(2)"
   ]
  },
  {
   "cell_type": "markdown",
   "id": "c3affeef",
   "metadata": {},
   "source": [
    "Antes de empezar vamos a unificar el nombre de las columnas, quitando los espacios. "
   ]
  },
  {
   "cell_type": "code",
   "execution_count": 114,
   "id": "c3155ba8",
   "metadata": {},
   "outputs": [],
   "source": [
    "nuevas_columnas = {col: col.replace(\" \", \"_\") for col in df.columns}\n",
    "df.rename(columns = nuevas_columnas, inplace = True)"
   ]
  },
  {
   "cell_type": "code",
   "execution_count": 115,
   "id": "c98ce37e",
   "metadata": {
    "scrolled": true
   },
   "outputs": [
    {
     "data": {
      "text/html": [
       "<div>\n",
       "<style scoped>\n",
       "    .dataframe tbody tr th:only-of-type {\n",
       "        vertical-align: middle;\n",
       "    }\n",
       "\n",
       "    .dataframe tbody tr th {\n",
       "        vertical-align: top;\n",
       "    }\n",
       "\n",
       "    .dataframe thead th {\n",
       "        text-align: right;\n",
       "    }\n",
       "</style>\n",
       "<table border=\"1\" class=\"dataframe\">\n",
       "  <thead>\n",
       "    <tr style=\"text-align: right;\">\n",
       "      <th></th>\n",
       "      <th>gender</th>\n",
       "      <th>race/ethnicity</th>\n",
       "      <th>parental_level_of_education</th>\n",
       "      <th>lunch</th>\n",
       "      <th>test_preparation_course</th>\n",
       "      <th>math_score</th>\n",
       "      <th>reading_score</th>\n",
       "      <th>writing_score</th>\n",
       "    </tr>\n",
       "  </thead>\n",
       "  <tbody>\n",
       "    <tr>\n",
       "      <th>0</th>\n",
       "      <td>female</td>\n",
       "      <td>group B</td>\n",
       "      <td>bachelor's degree</td>\n",
       "      <td>standard</td>\n",
       "      <td>none</td>\n",
       "      <td>72.0</td>\n",
       "      <td>72.0</td>\n",
       "      <td>74.0</td>\n",
       "    </tr>\n",
       "  </tbody>\n",
       "</table>\n",
       "</div>"
      ],
      "text/plain": [
       "   gender race/ethnicity parental_level_of_education     lunch  \\\n",
       "0  female        group B           bachelor's degree  standard   \n",
       "\n",
       "  test_preparation_course  math_score  reading_score  writing_score  \n",
       "0                    none        72.0           72.0           74.0  "
      ]
     },
     "execution_count": 115,
     "metadata": {},
     "output_type": "execute_result"
    }
   ],
   "source": [
    "df.head(1)"
   ]
  },
  {
   "cell_type": "markdown",
   "id": "8fc34140",
   "metadata": {},
   "source": [
    "## Estadísticas generales del *dataset* "
   ]
  },
  {
   "cell_type": "markdown",
   "id": "46d3b236",
   "metadata": {},
   "source": [
    "### Sidetable\n",
    "\n",
    "Se trata de una librería que nos va a construir de una forma muy sencilla una tabla de frecuencias y un resumen simple de los valores nulos de un *DataFrame*. \n",
    "\n",
    "`Sidetable` es una súper versión de pandas `value_counts` con un poco de `crosstab` mezclado. \n",
    "\n",
    "Lo primero que tenemos que hacer es instalarnos la librería usando pip:\n",
    "\n",
    "```console\n",
    "    pip install sidetable\n",
    "\n",
    "    pip3 install sidetable\n",
    "```\n",
    "\n",
    "Después nos tendremos que importar la librería:\n",
    "\n",
    "```python\n",
    "    import sidetable\n",
    "```\n",
    "\n",
    "Tenemos dos métodos principales dentro de esta librería:\n",
    "\n",
    "- `.freq()` 📌 Solo lo podremos usar para variables categóricas. \n",
    "- `.missing()`"
   ]
  },
  {
   "cell_type": "markdown",
   "id": "757664d2",
   "metadata": {},
   "source": [
    "1️⃣ `.freq()`: nos da información sobre la frecuencia de ocurrencia de cada categoría dentro de nuestras variables categóricas. "
   ]
  },
  {
   "cell_type": "code",
   "execution_count": 116,
   "id": "381bfb88",
   "metadata": {},
   "outputs": [
    {
     "data": {
      "text/html": [
       "<div>\n",
       "<style scoped>\n",
       "    .dataframe tbody tr th:only-of-type {\n",
       "        vertical-align: middle;\n",
       "    }\n",
       "\n",
       "    .dataframe tbody tr th {\n",
       "        vertical-align: top;\n",
       "    }\n",
       "\n",
       "    .dataframe thead th {\n",
       "        text-align: right;\n",
       "    }\n",
       "</style>\n",
       "<table border=\"1\" class=\"dataframe\">\n",
       "  <thead>\n",
       "    <tr style=\"text-align: right;\">\n",
       "      <th></th>\n",
       "      <th>parental_level_of_education</th>\n",
       "      <th>count</th>\n",
       "      <th>percent</th>\n",
       "      <th>cumulative_count</th>\n",
       "      <th>cumulative_percent</th>\n",
       "    </tr>\n",
       "  </thead>\n",
       "  <tbody>\n",
       "    <tr>\n",
       "      <th>0</th>\n",
       "      <td>associate's degree</td>\n",
       "      <td>201</td>\n",
       "      <td>22.333333</td>\n",
       "      <td>201</td>\n",
       "      <td>22.333333</td>\n",
       "    </tr>\n",
       "    <tr>\n",
       "      <th>1</th>\n",
       "      <td>some college</td>\n",
       "      <td>200</td>\n",
       "      <td>22.222222</td>\n",
       "      <td>401</td>\n",
       "      <td>44.555556</td>\n",
       "    </tr>\n",
       "    <tr>\n",
       "      <th>2</th>\n",
       "      <td>high school</td>\n",
       "      <td>176</td>\n",
       "      <td>19.555556</td>\n",
       "      <td>577</td>\n",
       "      <td>64.111111</td>\n",
       "    </tr>\n",
       "    <tr>\n",
       "      <th>3</th>\n",
       "      <td>some high school</td>\n",
       "      <td>162</td>\n",
       "      <td>18.000000</td>\n",
       "      <td>739</td>\n",
       "      <td>82.111111</td>\n",
       "    </tr>\n",
       "    <tr>\n",
       "      <th>4</th>\n",
       "      <td>bachelor's degree</td>\n",
       "      <td>108</td>\n",
       "      <td>12.000000</td>\n",
       "      <td>847</td>\n",
       "      <td>94.111111</td>\n",
       "    </tr>\n",
       "    <tr>\n",
       "      <th>5</th>\n",
       "      <td>master's degree</td>\n",
       "      <td>53</td>\n",
       "      <td>5.888889</td>\n",
       "      <td>900</td>\n",
       "      <td>100.000000</td>\n",
       "    </tr>\n",
       "  </tbody>\n",
       "</table>\n",
       "</div>"
      ],
      "text/plain": [
       "  parental_level_of_education  count    percent  cumulative_count  \\\n",
       "0          associate's degree    201  22.333333               201   \n",
       "1                some college    200  22.222222               401   \n",
       "2                 high school    176  19.555556               577   \n",
       "3            some high school    162  18.000000               739   \n",
       "4           bachelor's degree    108  12.000000               847   \n",
       "5             master's degree     53   5.888889               900   \n",
       "\n",
       "   cumulative_percent  \n",
       "0           22.333333  \n",
       "1           44.555556  \n",
       "2           64.111111  \n",
       "3           82.111111  \n",
       "4           94.111111  \n",
       "5          100.000000  "
      ]
     },
     "execution_count": 116,
     "metadata": {},
     "output_type": "execute_result"
    }
   ],
   "source": [
    "df.stb.freq([\"parental_level_of_education\"])"
   ]
  },
  {
   "cell_type": "markdown",
   "id": "985dd578",
   "metadata": {},
   "source": [
    "Como podemos ver, se muestran los valores de recuento y de porcentaje para la variable `parental_level_of_education`. \n",
    "\n",
    "Es decir, esta tabla nos está mostrando que la categoría `associate's degree` de la columna `parental_level_of_education` tiene 201 entradas en nuestro *DataFrame*, siendo un 22.33% de los datos. Además, también se proporcionan valores acumulativos. Por ejemplo, los 3 primeros niveles de estudios constituyen el 64.11% de todo el conjunto de datos.\n",
    "\n",
    "En algunos casos, nos podemos encontrar con una columna categórica que tenga muchas categorías diferentes que dificultan la visualización de todas ellas. En este caso podemos usar parámetro `thresh` que nos va a permitir limitar los valores mostrados basándose en un valor de umbral sobre el porcentaje acumulado. Por ejemplo, podemos mostrar los niveles de educación que contienen el 65% de todos los estudiantes."
   ]
  },
  {
   "cell_type": "code",
   "execution_count": 117,
   "id": "8992de0c",
   "metadata": {},
   "outputs": [
    {
     "name": "stderr",
     "output_type": "stream",
     "text": [
      "C:\\Users\\agarc\\AppData\\Local\\Packages\\PythonSoftwareFoundation.Python.3.10_qbz5n2kfra8p0\\LocalCache\\local-packages\\Python310\\site-packages\\sidetable\\sidetable.py:151: FutureWarning: The frame.append method is deprecated and will be removed from pandas in a future version. Use pandas.concat instead.\n",
      "  results = results[results[other_label] == False].append(\n"
     ]
    },
    {
     "data": {
      "text/html": [
       "<div>\n",
       "<style scoped>\n",
       "    .dataframe tbody tr th:only-of-type {\n",
       "        vertical-align: middle;\n",
       "    }\n",
       "\n",
       "    .dataframe tbody tr th {\n",
       "        vertical-align: top;\n",
       "    }\n",
       "\n",
       "    .dataframe thead th {\n",
       "        text-align: right;\n",
       "    }\n",
       "</style>\n",
       "<table border=\"1\" class=\"dataframe\">\n",
       "  <thead>\n",
       "    <tr style=\"text-align: right;\">\n",
       "      <th></th>\n",
       "      <th>parental_level_of_education</th>\n",
       "      <th>count</th>\n",
       "      <th>percent</th>\n",
       "      <th>cumulative_count</th>\n",
       "      <th>cumulative_percent</th>\n",
       "    </tr>\n",
       "  </thead>\n",
       "  <tbody>\n",
       "    <tr>\n",
       "      <th>0</th>\n",
       "      <td>associate's degree</td>\n",
       "      <td>201</td>\n",
       "      <td>22.333333</td>\n",
       "      <td>201</td>\n",
       "      <td>22.333333</td>\n",
       "    </tr>\n",
       "    <tr>\n",
       "      <th>1</th>\n",
       "      <td>some college</td>\n",
       "      <td>200</td>\n",
       "      <td>22.222222</td>\n",
       "      <td>401</td>\n",
       "      <td>44.555556</td>\n",
       "    </tr>\n",
       "    <tr>\n",
       "      <th>2</th>\n",
       "      <td>high school</td>\n",
       "      <td>176</td>\n",
       "      <td>19.555556</td>\n",
       "      <td>577</td>\n",
       "      <td>64.111111</td>\n",
       "    </tr>\n",
       "    <tr>\n",
       "      <th>3</th>\n",
       "      <td>others</td>\n",
       "      <td>323</td>\n",
       "      <td>35.888889</td>\n",
       "      <td>900</td>\n",
       "      <td>100.000000</td>\n",
       "    </tr>\n",
       "  </tbody>\n",
       "</table>\n",
       "</div>"
      ],
      "text/plain": [
       "  parental_level_of_education  count    percent  cumulative_count  \\\n",
       "0          associate's degree    201  22.333333               201   \n",
       "1                some college    200  22.222222               401   \n",
       "2                 high school    176  19.555556               577   \n",
       "3                      others    323  35.888889               900   \n",
       "\n",
       "   cumulative_percent  \n",
       "0           22.333333  \n",
       "1           44.555556  \n",
       "2           64.111111  \n",
       "3          100.000000  "
      ]
     },
     "execution_count": 117,
     "metadata": {},
     "output_type": "execute_result"
    }
   ],
   "source": [
    "df.stb.freq(['parental_level_of_education'], thresh=65)"
   ]
  },
  {
   "cell_type": "markdown",
   "id": "938661e4",
   "metadata": {},
   "source": [
    "Los 3 primeros niveles de educación constituyen el 64.1% de todo el conjunto de datos. Las restantes se agrupan bajo la etiqueta \"otros\". Podemos cambiar esta etiqueta utilizando el parámetro `other_label`."
   ]
  },
  {
   "cell_type": "code",
   "execution_count": 118,
   "id": "e06ce736",
   "metadata": {},
   "outputs": [
    {
     "name": "stderr",
     "output_type": "stream",
     "text": [
      "C:\\Users\\agarc\\AppData\\Local\\Packages\\PythonSoftwareFoundation.Python.3.10_qbz5n2kfra8p0\\LocalCache\\local-packages\\Python310\\site-packages\\sidetable\\sidetable.py:151: FutureWarning: The frame.append method is deprecated and will be removed from pandas in a future version. Use pandas.concat instead.\n",
      "  results = results[results[other_label] == False].append(\n"
     ]
    },
    {
     "data": {
      "text/html": [
       "<div>\n",
       "<style scoped>\n",
       "    .dataframe tbody tr th:only-of-type {\n",
       "        vertical-align: middle;\n",
       "    }\n",
       "\n",
       "    .dataframe tbody tr th {\n",
       "        vertical-align: top;\n",
       "    }\n",
       "\n",
       "    .dataframe thead th {\n",
       "        text-align: right;\n",
       "    }\n",
       "</style>\n",
       "<table border=\"1\" class=\"dataframe\">\n",
       "  <thead>\n",
       "    <tr style=\"text-align: right;\">\n",
       "      <th></th>\n",
       "      <th>parental_level_of_education</th>\n",
       "      <th>count</th>\n",
       "      <th>percent</th>\n",
       "      <th>cumulative_count</th>\n",
       "      <th>cumulative_percent</th>\n",
       "    </tr>\n",
       "  </thead>\n",
       "  <tbody>\n",
       "    <tr>\n",
       "      <th>0</th>\n",
       "      <td>associate's degree</td>\n",
       "      <td>201</td>\n",
       "      <td>22.333333</td>\n",
       "      <td>201</td>\n",
       "      <td>22.333333</td>\n",
       "    </tr>\n",
       "    <tr>\n",
       "      <th>1</th>\n",
       "      <td>some college</td>\n",
       "      <td>200</td>\n",
       "      <td>22.222222</td>\n",
       "      <td>401</td>\n",
       "      <td>44.555556</td>\n",
       "    </tr>\n",
       "    <tr>\n",
       "      <th>2</th>\n",
       "      <td>high school</td>\n",
       "      <td>176</td>\n",
       "      <td>19.555556</td>\n",
       "      <td>577</td>\n",
       "      <td>64.111111</td>\n",
       "    </tr>\n",
       "    <tr>\n",
       "      <th>3</th>\n",
       "      <td>other studies</td>\n",
       "      <td>323</td>\n",
       "      <td>35.888889</td>\n",
       "      <td>900</td>\n",
       "      <td>100.000000</td>\n",
       "    </tr>\n",
       "  </tbody>\n",
       "</table>\n",
       "</div>"
      ],
      "text/plain": [
       "  parental_level_of_education  count    percent  cumulative_count  \\\n",
       "0          associate's degree    201  22.333333               201   \n",
       "1                some college    200  22.222222               401   \n",
       "2                 high school    176  19.555556               577   \n",
       "3               other studies    323  35.888889               900   \n",
       "\n",
       "   cumulative_percent  \n",
       "0           22.333333  \n",
       "1           44.555556  \n",
       "2           64.111111  \n",
       "3          100.000000  "
      ]
     },
     "execution_count": 118,
     "metadata": {},
     "output_type": "execute_result"
    }
   ],
   "source": [
    "df.stb.freq(['parental_level_of_education'], thresh=65, other_label=\"other studies\")"
   ]
  },
  {
   "cell_type": "markdown",
   "id": "241b89b8",
   "metadata": {},
   "source": [
    "Hasta ahora, hemos evaluado la distribución de los datos según las categorías en una columna. *Sidetable* permite combinar varias columnas y comprobar categorías más específicas. Por ejemplo, las combinaciones más comunes de `parental_level_of_education` y `gender` pueden comprobarse con sidetable."
   ]
  },
  {
   "cell_type": "code",
   "execution_count": 119,
   "id": "679718cb",
   "metadata": {},
   "outputs": [
    {
     "data": {
      "text/html": [
       "<div>\n",
       "<style scoped>\n",
       "    .dataframe tbody tr th:only-of-type {\n",
       "        vertical-align: middle;\n",
       "    }\n",
       "\n",
       "    .dataframe tbody tr th {\n",
       "        vertical-align: top;\n",
       "    }\n",
       "\n",
       "    .dataframe thead th {\n",
       "        text-align: right;\n",
       "    }\n",
       "</style>\n",
       "<table border=\"1\" class=\"dataframe\">\n",
       "  <thead>\n",
       "    <tr style=\"text-align: right;\">\n",
       "      <th></th>\n",
       "      <th>parental_level_of_education</th>\n",
       "      <th>gender</th>\n",
       "      <th>count</th>\n",
       "      <th>percent</th>\n",
       "      <th>cumulative_count</th>\n",
       "      <th>cumulative_percent</th>\n",
       "    </tr>\n",
       "  </thead>\n",
       "  <tbody>\n",
       "    <tr>\n",
       "      <th>0</th>\n",
       "      <td>associate's degree</td>\n",
       "      <td>female</td>\n",
       "      <td>96</td>\n",
       "      <td>11.925466</td>\n",
       "      <td>96</td>\n",
       "      <td>11.925466</td>\n",
       "    </tr>\n",
       "    <tr>\n",
       "      <th>1</th>\n",
       "      <td>some college</td>\n",
       "      <td>female</td>\n",
       "      <td>93</td>\n",
       "      <td>11.552795</td>\n",
       "      <td>189</td>\n",
       "      <td>23.478261</td>\n",
       "    </tr>\n",
       "    <tr>\n",
       "      <th>2</th>\n",
       "      <td>associate's degree</td>\n",
       "      <td>male</td>\n",
       "      <td>86</td>\n",
       "      <td>10.683230</td>\n",
       "      <td>275</td>\n",
       "      <td>34.161491</td>\n",
       "    </tr>\n",
       "    <tr>\n",
       "      <th>3</th>\n",
       "      <td>high school</td>\n",
       "      <td>male</td>\n",
       "      <td>85</td>\n",
       "      <td>10.559006</td>\n",
       "      <td>360</td>\n",
       "      <td>44.720497</td>\n",
       "    </tr>\n",
       "    <tr>\n",
       "      <th>4</th>\n",
       "      <td>some college</td>\n",
       "      <td>male</td>\n",
       "      <td>81</td>\n",
       "      <td>10.062112</td>\n",
       "      <td>441</td>\n",
       "      <td>54.782609</td>\n",
       "    </tr>\n",
       "    <tr>\n",
       "      <th>5</th>\n",
       "      <td>high school</td>\n",
       "      <td>female</td>\n",
       "      <td>78</td>\n",
       "      <td>9.689441</td>\n",
       "      <td>519</td>\n",
       "      <td>64.472050</td>\n",
       "    </tr>\n",
       "    <tr>\n",
       "      <th>6</th>\n",
       "      <td>some high school</td>\n",
       "      <td>female</td>\n",
       "      <td>74</td>\n",
       "      <td>9.192547</td>\n",
       "      <td>593</td>\n",
       "      <td>73.664596</td>\n",
       "    </tr>\n",
       "    <tr>\n",
       "      <th>7</th>\n",
       "      <td>some high school</td>\n",
       "      <td>male</td>\n",
       "      <td>68</td>\n",
       "      <td>8.447205</td>\n",
       "      <td>661</td>\n",
       "      <td>82.111801</td>\n",
       "    </tr>\n",
       "    <tr>\n",
       "      <th>8</th>\n",
       "      <td>bachelor's degree</td>\n",
       "      <td>female</td>\n",
       "      <td>52</td>\n",
       "      <td>6.459627</td>\n",
       "      <td>713</td>\n",
       "      <td>88.571429</td>\n",
       "    </tr>\n",
       "    <tr>\n",
       "      <th>9</th>\n",
       "      <td>bachelor's degree</td>\n",
       "      <td>male</td>\n",
       "      <td>44</td>\n",
       "      <td>5.465839</td>\n",
       "      <td>757</td>\n",
       "      <td>94.037267</td>\n",
       "    </tr>\n",
       "    <tr>\n",
       "      <th>10</th>\n",
       "      <td>master's degree</td>\n",
       "      <td>female</td>\n",
       "      <td>29</td>\n",
       "      <td>3.602484</td>\n",
       "      <td>786</td>\n",
       "      <td>97.639752</td>\n",
       "    </tr>\n",
       "    <tr>\n",
       "      <th>11</th>\n",
       "      <td>master's degree</td>\n",
       "      <td>male</td>\n",
       "      <td>19</td>\n",
       "      <td>2.360248</td>\n",
       "      <td>805</td>\n",
       "      <td>100.000000</td>\n",
       "    </tr>\n",
       "  </tbody>\n",
       "</table>\n",
       "</div>"
      ],
      "text/plain": [
       "   parental_level_of_education  gender  count    percent  cumulative_count  \\\n",
       "0           associate's degree  female     96  11.925466                96   \n",
       "1                 some college  female     93  11.552795               189   \n",
       "2           associate's degree    male     86  10.683230               275   \n",
       "3                  high school    male     85  10.559006               360   \n",
       "4                 some college    male     81  10.062112               441   \n",
       "5                  high school  female     78   9.689441               519   \n",
       "6             some high school  female     74   9.192547               593   \n",
       "7             some high school    male     68   8.447205               661   \n",
       "8            bachelor's degree  female     52   6.459627               713   \n",
       "9            bachelor's degree    male     44   5.465839               757   \n",
       "10             master's degree  female     29   3.602484               786   \n",
       "11             master's degree    male     19   2.360248               805   \n",
       "\n",
       "    cumulative_percent  \n",
       "0            11.925466  \n",
       "1            23.478261  \n",
       "2            34.161491  \n",
       "3            44.720497  \n",
       "4            54.782609  \n",
       "5            64.472050  \n",
       "6            73.664596  \n",
       "7            82.111801  \n",
       "8            88.571429  \n",
       "9            94.037267  \n",
       "10           97.639752  \n",
       "11          100.000000  "
      ]
     },
     "execution_count": 119,
     "metadata": {},
     "output_type": "execute_result"
    }
   ],
   "source": [
    "df.stb.freq([\"parental_level_of_education\", 'gender'])"
   ]
  },
  {
   "cell_type": "markdown",
   "id": "607543a6",
   "metadata": {},
   "source": [
    "Esta tabla nos esta dicendo que el 11.92% de nuestros datos son mujeres con un nivel de estudios de \"associate's degree\", es decir es el nivel de estudios más común en mujeres. "
   ]
  },
  {
   "cell_type": "markdown",
   "id": "da5dd638",
   "metadata": {},
   "source": [
    "Si nos fijamos el sidetable nos devuelve por defecto el conteo para cada categoría o grupos de categorías. Sin embargo, podríamos estar interesados en alguna otra medida. Por ejemplo, en nuestro caso, podemos necesitar ordenar los niveles de estudios según el `math_score`. Se puede conseguir fácilmente utilizando el parámetro `value`. Sólo tenemos que pasar el nombre de la columna al parámetro value.\n",
    "\n"
   ]
  },
  {
   "cell_type": "code",
   "execution_count": 120,
   "id": "42dd9707",
   "metadata": {},
   "outputs": [
    {
     "data": {
      "text/html": [
       "<div>\n",
       "<style scoped>\n",
       "    .dataframe tbody tr th:only-of-type {\n",
       "        vertical-align: middle;\n",
       "    }\n",
       "\n",
       "    .dataframe tbody tr th {\n",
       "        vertical-align: top;\n",
       "    }\n",
       "\n",
       "    .dataframe thead th {\n",
       "        text-align: right;\n",
       "    }\n",
       "</style>\n",
       "<table border=\"1\" class=\"dataframe\">\n",
       "  <thead>\n",
       "    <tr style=\"text-align: right;\">\n",
       "      <th></th>\n",
       "      <th>parental_level_of_education</th>\n",
       "      <th>math_score</th>\n",
       "      <th>percent</th>\n",
       "      <th>cumulative_math_score</th>\n",
       "      <th>cumulative_percent</th>\n",
       "    </tr>\n",
       "  </thead>\n",
       "  <tbody>\n",
       "    <tr>\n",
       "      <th>0</th>\n",
       "      <td>associate's degree</td>\n",
       "      <td>13507.0</td>\n",
       "      <td>22.872286</td>\n",
       "      <td>13507.0</td>\n",
       "      <td>22.872286</td>\n",
       "    </tr>\n",
       "    <tr>\n",
       "      <th>1</th>\n",
       "      <td>some college</td>\n",
       "      <td>13435.0</td>\n",
       "      <td>22.750364</td>\n",
       "      <td>26942.0</td>\n",
       "      <td>45.622650</td>\n",
       "    </tr>\n",
       "    <tr>\n",
       "      <th>2</th>\n",
       "      <td>high school</td>\n",
       "      <td>11029.0</td>\n",
       "      <td>18.676127</td>\n",
       "      <td>37971.0</td>\n",
       "      <td>64.298777</td>\n",
       "    </tr>\n",
       "    <tr>\n",
       "      <th>3</th>\n",
       "      <td>some high school</td>\n",
       "      <td>10069.0</td>\n",
       "      <td>17.050496</td>\n",
       "      <td>48040.0</td>\n",
       "      <td>81.349274</td>\n",
       "    </tr>\n",
       "    <tr>\n",
       "      <th>4</th>\n",
       "      <td>bachelor's degree</td>\n",
       "      <td>7249.0</td>\n",
       "      <td>12.275206</td>\n",
       "      <td>55289.0</td>\n",
       "      <td>93.624479</td>\n",
       "    </tr>\n",
       "    <tr>\n",
       "      <th>5</th>\n",
       "      <td>master's degree</td>\n",
       "      <td>3765.0</td>\n",
       "      <td>6.375521</td>\n",
       "      <td>59054.0</td>\n",
       "      <td>100.000000</td>\n",
       "    </tr>\n",
       "  </tbody>\n",
       "</table>\n",
       "</div>"
      ],
      "text/plain": [
       "  parental_level_of_education  math_score    percent  cumulative_math_score  \\\n",
       "0          associate's degree     13507.0  22.872286                13507.0   \n",
       "1                some college     13435.0  22.750364                26942.0   \n",
       "2                 high school     11029.0  18.676127                37971.0   \n",
       "3            some high school     10069.0  17.050496                48040.0   \n",
       "4           bachelor's degree      7249.0  12.275206                55289.0   \n",
       "5             master's degree      3765.0   6.375521                59054.0   \n",
       "\n",
       "   cumulative_percent  \n",
       "0           22.872286  \n",
       "1           45.622650  \n",
       "2           64.298777  \n",
       "3           81.349274  \n",
       "4           93.624479  \n",
       "5          100.000000  "
      ]
     },
     "execution_count": 120,
     "metadata": {},
     "output_type": "execute_result"
    }
   ],
   "source": [
    "df.stb.freq([\"parental_level_of_education\"], value = 'math_score')"
   ]
  },
  {
   "cell_type": "markdown",
   "id": "15d8a9b1",
   "metadata": {},
   "source": [
    "La nota global del grupo `associate's degree` es 13507 mientras que la del grupo `master's degree` es 3765. "
   ]
  },
  {
   "cell_type": "markdown",
   "id": "08a1e497",
   "metadata": {},
   "source": [
    "2️⃣ `.missing()`: nos va a devolver información sobre cuántos datos nulos tenemos, y el porcentaje sobre el total para cada una de nuestras columnas. "
   ]
  },
  {
   "cell_type": "code",
   "execution_count": 121,
   "id": "e72931b9",
   "metadata": {
    "scrolled": true
   },
   "outputs": [
    {
     "data": {
      "text/html": [
       "<div>\n",
       "<style scoped>\n",
       "    .dataframe tbody tr th:only-of-type {\n",
       "        vertical-align: middle;\n",
       "    }\n",
       "\n",
       "    .dataframe tbody tr th {\n",
       "        vertical-align: top;\n",
       "    }\n",
       "\n",
       "    .dataframe thead th {\n",
       "        text-align: right;\n",
       "    }\n",
       "</style>\n",
       "<table border=\"1\" class=\"dataframe\">\n",
       "  <thead>\n",
       "    <tr style=\"text-align: right;\">\n",
       "      <th></th>\n",
       "      <th>missing</th>\n",
       "      <th>total</th>\n",
       "      <th>percent</th>\n",
       "    </tr>\n",
       "  </thead>\n",
       "  <tbody>\n",
       "    <tr>\n",
       "      <th>gender</th>\n",
       "      <td>100</td>\n",
       "      <td>1000</td>\n",
       "      <td>10.0</td>\n",
       "    </tr>\n",
       "    <tr>\n",
       "      <th>parental_level_of_education</th>\n",
       "      <td>100</td>\n",
       "      <td>1000</td>\n",
       "      <td>10.0</td>\n",
       "    </tr>\n",
       "    <tr>\n",
       "      <th>writing_score</th>\n",
       "      <td>40</td>\n",
       "      <td>1000</td>\n",
       "      <td>4.0</td>\n",
       "    </tr>\n",
       "    <tr>\n",
       "      <th>math_score</th>\n",
       "      <td>10</td>\n",
       "      <td>1000</td>\n",
       "      <td>1.0</td>\n",
       "    </tr>\n",
       "    <tr>\n",
       "      <th>reading_score</th>\n",
       "      <td>1</td>\n",
       "      <td>1000</td>\n",
       "      <td>0.1</td>\n",
       "    </tr>\n",
       "  </tbody>\n",
       "</table>\n",
       "</div>"
      ],
      "text/plain": [
       "                             missing  total  percent\n",
       "gender                           100   1000     10.0\n",
       "parental_level_of_education      100   1000     10.0\n",
       "writing_score                     40   1000      4.0\n",
       "math_score                        10   1000      1.0\n",
       "reading_score                      1   1000      0.1"
      ]
     },
     "execution_count": 121,
     "metadata": {},
     "output_type": "execute_result"
    }
   ],
   "source": [
    "df.stb.missing([\"parental_level_of_education\"])"
   ]
  },
  {
   "cell_type": "code",
   "execution_count": 122,
   "id": "1ab03b60",
   "metadata": {},
   "outputs": [
    {
     "data": {
      "text/html": [
       "<div>\n",
       "<style scoped>\n",
       "    .dataframe tbody tr th:only-of-type {\n",
       "        vertical-align: middle;\n",
       "    }\n",
       "\n",
       "    .dataframe tbody tr th {\n",
       "        vertical-align: top;\n",
       "    }\n",
       "\n",
       "    .dataframe thead th {\n",
       "        text-align: right;\n",
       "    }\n",
       "</style>\n",
       "<table border=\"1\" class=\"dataframe\">\n",
       "  <thead>\n",
       "    <tr style=\"text-align: right;\">\n",
       "      <th></th>\n",
       "      <th>missing</th>\n",
       "      <th>total</th>\n",
       "      <th>percent</th>\n",
       "    </tr>\n",
       "  </thead>\n",
       "  <tbody>\n",
       "    <tr>\n",
       "      <th>gender</th>\n",
       "      <td>100</td>\n",
       "      <td>1000</td>\n",
       "      <td>10.0</td>\n",
       "    </tr>\n",
       "    <tr>\n",
       "      <th>parental_level_of_education</th>\n",
       "      <td>100</td>\n",
       "      <td>1000</td>\n",
       "      <td>10.0</td>\n",
       "    </tr>\n",
       "    <tr>\n",
       "      <th>writing_score</th>\n",
       "      <td>40</td>\n",
       "      <td>1000</td>\n",
       "      <td>4.0</td>\n",
       "    </tr>\n",
       "    <tr>\n",
       "      <th>math_score</th>\n",
       "      <td>10</td>\n",
       "      <td>1000</td>\n",
       "      <td>1.0</td>\n",
       "    </tr>\n",
       "    <tr>\n",
       "      <th>reading_score</th>\n",
       "      <td>1</td>\n",
       "      <td>1000</td>\n",
       "      <td>0.1</td>\n",
       "    </tr>\n",
       "    <tr>\n",
       "      <th>race/ethnicity</th>\n",
       "      <td>0</td>\n",
       "      <td>1000</td>\n",
       "      <td>0.0</td>\n",
       "    </tr>\n",
       "    <tr>\n",
       "      <th>lunch</th>\n",
       "      <td>0</td>\n",
       "      <td>1000</td>\n",
       "      <td>0.0</td>\n",
       "    </tr>\n",
       "    <tr>\n",
       "      <th>test_preparation_course</th>\n",
       "      <td>0</td>\n",
       "      <td>1000</td>\n",
       "      <td>0.0</td>\n",
       "    </tr>\n",
       "  </tbody>\n",
       "</table>\n",
       "</div>"
      ],
      "text/plain": [
       "                             missing  total  percent\n",
       "gender                           100   1000     10.0\n",
       "parental_level_of_education      100   1000     10.0\n",
       "writing_score                     40   1000      4.0\n",
       "math_score                        10   1000      1.0\n",
       "reading_score                      1   1000      0.1\n",
       "race/ethnicity                     0   1000      0.0\n",
       "lunch                              0   1000      0.0\n",
       "test_preparation_course            0   1000      0.0"
      ]
     },
     "execution_count": 122,
     "metadata": {},
     "output_type": "execute_result"
    }
   ],
   "source": [
    "df.stb.missing()"
   ]
  },
  {
   "cell_type": "markdown",
   "id": "f8dafd4f",
   "metadata": {},
   "source": [
    "## Valores nulos "
   ]
  },
  {
   "cell_type": "markdown",
   "id": "64d0a690",
   "metadata": {},
   "source": [
    "### Tipos de valores nulos"
   ]
  },
  {
   "cell_type": "markdown",
   "id": "09218e76",
   "metadata": {},
   "source": [
    "- `np.nan`: En Python, NumPy NAN significa \"*not a number*\" y se usa para declarar los valores numéricos que faltan en una matriz. Como NumPy se utiliza para hacer frente a las matrices en Python, este valor puede ser creado utilizando `np.nan`. \n",
    "\n",
    "- `None`: la palabra clave `None` se utiliza para definir un valor nulo, o ningún valor. None **no** es lo mismo que `0`, `False`, o una cadena vacía. None es un tipo de datos propio (`NoneType`). \n",
    "\n",
    "    > La distinción entre `None` y `NaN` en Pandas es sutil, pero os dejamos una pequeña nota para dejar las cosas más claras:\n",
    "    >\n",
    "    > `None` representa una entrada perdida, pero su tipo no es numérico. Esto significa que cualquier columna (*Serie*) que contenga un `None` no puede ser de tipo numérico (por ejemplo, int y float).\n",
    "    >\n",
    "    > `NaN`, que significa *not a number*, es un tipo numérico. Esto significa que NaN puede aparecer en columnas de tipo int y float.\n",
    "\n",
    "- `NaT`: los veremos cuando tengamos valores nulos en columnas de tipo `datetime`.\n",
    "\n",
    "- `valores texto`: a veces nos podemos encontrar con valores de tipo texto pero que no son valores reales, si no que nos indican que no hay valor. Algunos ejemplos de esto son: \n",
    "   \n",
    "    -  `\"n/a\"`, `\"NaN\"`, `\"nan\"`, `\"null\"`: son NaN que serán literalmente *strings*. Esto puede ocurrir cuando se han metido en nuestra base de datos literalmente con esa estructura. Aún con todo, podemos vernos en dos situaciones: \n",
    "  \n",
    "        - Pandas es bastante listo y cuando va a leer nuestro `csv` los suele castear a `np.nan`.\n",
    "        \n",
    "        - En caso de que no lo haga, podemos usar el parámetro `na_values` del método read_csv que nos permite especificar cómo esta codificado nuestro valor nulo: \n",
    "\n",
    "            ```python\n",
    "               df=pd.read_csv('Yourfile.csv',na_values=['n/a']).fillna(np.nan) # en el caso de que el nulo este como \"n/a\"\n",
    "            # pero ojo! esto solo nos será útil si todos nuestros nulos están codificados así. \n",
    "            ```\n",
    "\n",
    "         - Reemplazar esos valores nulos en formato *string* con el método `replace` de Pandas como hemos aprendido anteriormente. \n",
    "  \n",
    "  - los `99999` o `00000`: es similar al caso anterior, pero en este caso vienen codificados como *integers*. Esto es usual encontrarlo en datos que vienen de sensores o sistemas de medición continua. En caso de que queramos reemplazarlos por nulos tendremos que usar el método replace de Pandas.\n",
    "\n",
    "      ```python\n",
    "       df.replace(99999, np.nan, inplace=True)\n",
    "      ```` \n",
    "      "
   ]
  },
  {
   "cell_type": "markdown",
   "id": "4ea95390",
   "metadata": {},
   "source": [
    "## Outliers"
   ]
  },
  {
   "cell_type": "markdown",
   "id": "fd196db8",
   "metadata": {},
   "source": [
    "### ¿Qué son?"
   ]
  },
  {
   "cell_type": "markdown",
   "id": "f10f1e19",
   "metadata": {},
   "source": [
    "Los *outliers* o valores perdidos son observaciones anormales en nuestros datos que puede afectar potencialmente nuestros análisis. \n",
    "\n",
    "> Es decir, un *outlier* es una observación dentro de nuestros datos que no es consistente con el resto, que se escapa. \n",
    "\n",
    "Imaginemos que estamos midiendo el peso de las alumnas de una clase y son los siguientes:\n",
    "\n",
    "```python\n",
    "    pesos = [92.31, 76.4, 87.3, 60.86, 65.96, 74.23, 87.56, 82.47, 69.27, 81.69]\n",
    "```\n",
    "\n",
    "Vemos que\n",
    "- el peso máximo es de 92.31,\n",
    "- el peso mínimo es de 60.86,\n",
    "- la media del peso de la clase sería 77.085,\n",
    "- la distancia del máximo y del mínimo a la media es de 14.504 y 16.94 respectivamente. \n",
    "\n",
    "**Como vemos la media se sitúa en la mitad del intervalo y nos podría dar una muy buena estimación del peso de la clase** \n",
    "\n",
    "Imaginemos ahora que los pesos de las 10 alumnas son: \n",
    "\n",
    "```python\n",
    "    pesos2 = [92.31, 76.4, 117.3, 60.86, 65.96, 74.23, 87.56, 82.47, 69.27, 81.69]\n",
    "```\n",
    "\n",
    "En este caso: \n",
    "\n",
    "- el peso máximo es de 117.3,\n",
    "- el peso mínimo es de 60.86,\n",
    "- la media del peso de la clase sería 80.805,\n",
    "- la distancia del máximo y del mínimo a la media es de 36.49 y 19.94 respectivamente. \n",
    "\n",
    "**En este caso la media ya no está situada aproximadamente en la mitad del intervalo**. El efecto de la alumna que tiene un mayor peso hizo que la media aritmética se haya desplazado hacia el valor máximo y por lo tanto ya no es tan buena representación de como se reparten los pesos en la clase.\n"
   ]
  },
  {
   "cell_type": "markdown",
   "id": "d9256507",
   "metadata": {},
   "source": [
    "### ¿Por qué es importante detectarlos?  \n",
    "\n",
    "Ya sabemos que un dato atípico es un dato extremo o que difiere significativamente de los demás, pero **¿por qué son importantes?**\n",
    "\n",
    "Una de las razones principales es que muchos estadísticos se ven afectados por la presencia de estos valores. Con la presencia de un *outlier* los resultados de nuestras conclusiones podrían ser poco fiables. \n",
    "\n",
    "Pero entonces, ¿qué hacemos con los valores atípicos? \n",
    "\n",
    "De la misma forma que para hacer un análisis exploratorio de los datos no existe una receta universal, en el caso de los *outliers* tampoco existe 😢. Veamos algunos supuestos de cómo trabajar con los *outliers*\n",
    "\n",
    "- Hay que tener en cuenta que no todos los valores atípicos son iguales. Algunos tienen una fuerte influencia, otros no. Algunos son valores de datos válidos e importantes. Algunos son simplemente errores o ruido.\n",
    "\n",
    "Por lo tanto, no se podría dar ninguna recomendación, sino que deberíamos tomarnos un tiempo para averiguar algunas cosas:\n",
    "\n",
    "- ¿Por qué queremos encontrar los valores atípicos? Es posible que queramos ver el valor atípico porque estamos interesados en la anormalidad. Debemos pensar en cuál es nuestra pregunta. \n",
    "\n",
    "- ¿El valor atípico está causando \"realmente\" algún problema en el resultado?\n",
    "\n",
    "- ¿De dónde procede el valor atípico? Esto puede requerir un análisis en profundidad de los datos. Además, no siempre se puede saber de dónde procede, pero debemos intentar considerar diferentes posibilidades porque puede ayudar a informar sobre la mejor manera de proceder.\n"
   ]
  },
  {
   "cell_type": "markdown",
   "id": "9218b778",
   "metadata": {},
   "source": [
    "### ¿Cómo detectamos los *outliers*?\n",
    "\n",
    "Tenemos 2 posibles formas de detectar *outliers*.\n",
    "\n",
    "- Visualmente usando el Boxplot.\n",
    "\n",
    "- Usando la desviación estándar.\n"
   ]
  },
  {
   "cell_type": "markdown",
   "id": "2bf94808",
   "metadata": {},
   "source": [
    "#### Boxplot \n",
    "\n",
    "Los *boxplot* son una representación gráfica de datos numéricos a través de sus cuantiles. Es una forma muy sencilla pero eficaz de visualizar los valores atípicos. \n",
    "\n",
    "Cualquier punto de datos que se muestre por encima o por debajo de los bigotes, puede ser considerado un valor atípico. Veamos como hacerlo para nuestros datos: "
   ]
  },
  {
   "cell_type": "code",
   "execution_count": 123,
   "id": "20a682ae",
   "metadata": {},
   "outputs": [
    {
     "data": {
      "text/html": [
       "<div>\n",
       "<style scoped>\n",
       "    .dataframe tbody tr th:only-of-type {\n",
       "        vertical-align: middle;\n",
       "    }\n",
       "\n",
       "    .dataframe tbody tr th {\n",
       "        vertical-align: top;\n",
       "    }\n",
       "\n",
       "    .dataframe thead th {\n",
       "        text-align: right;\n",
       "    }\n",
       "</style>\n",
       "<table border=\"1\" class=\"dataframe\">\n",
       "  <thead>\n",
       "    <tr style=\"text-align: right;\">\n",
       "      <th></th>\n",
       "      <th>math_score</th>\n",
       "      <th>reading_score</th>\n",
       "      <th>writing_score</th>\n",
       "    </tr>\n",
       "  </thead>\n",
       "  <tbody>\n",
       "    <tr>\n",
       "      <th>0</th>\n",
       "      <td>72.0</td>\n",
       "      <td>72.0</td>\n",
       "      <td>74.0</td>\n",
       "    </tr>\n",
       "    <tr>\n",
       "      <th>1</th>\n",
       "      <td>69.0</td>\n",
       "      <td>90.0</td>\n",
       "      <td>NaN</td>\n",
       "    </tr>\n",
       "  </tbody>\n",
       "</table>\n",
       "</div>"
      ],
      "text/plain": [
       "   math_score  reading_score  writing_score\n",
       "0        72.0           72.0           74.0\n",
       "1        69.0           90.0            NaN"
      ]
     },
     "execution_count": 123,
     "metadata": {},
     "output_type": "execute_result"
    }
   ],
   "source": [
    "# lo primero, sacamos las variables numéricas\n",
    "\n",
    "numericas = df.select_dtypes(include = np.number)\n",
    "\n",
    "numericas.head(2)"
   ]
  },
  {
   "cell_type": "code",
   "execution_count": 124,
   "id": "01e50f7c",
   "metadata": {},
   "outputs": [
    {
     "data": {
      "image/png": "[encoded data removed]",
      "text/plain": [
       "<Figure size 1080x864 with 3 Axes>"
      ]
     },
     "metadata": {
      "needs_background": "light"
     },
     "output_type": "display_data"
    }
   ],
   "source": [
    "fig, axes = plt.subplots(3, 1, figsize=(15,12))\n",
    "\n",
    "for i in range(len(numericas.columns)):\n",
    "    sns.boxplot(x = numericas.columns[i], data = df, ax=axes[i]); # para trazar una línea de densidad\n",
    "\n",
    "plt.show()"
   ]
  },
  {
   "cell_type": "markdown",
   "id": "8c22654c",
   "metadata": {},
   "source": [
    "#### Interpretemos los resultados\n",
    "\n",
    "En el caso de la primera figura que corresponde con `math_score` podemos ver como: \n",
    "\n",
    "- La mediana, representada por la línea dentro del \"cajoncito\" es de alrededor de 65. Es decir, el 50% de nuestros datos están en por debajo de este valor. \n",
    "\n",
    "- En cuanto al los \"límites\" del cajón: \n",
    "\n",
    "    - El de la izquierda nos indica el percentil 25% (Q1). En este caso el valor está alrededor de 57. Lo que significa que el 25% de las clasificaciones están por debajo de 57. \n",
    "    \n",
    "    - El de la derecha nos indica el percentil 75% (Q2), en este caso el valor es aproximadamente 77. Es decir, el 75% de los estudiantes tienen una calificación menor que 77. O lo que es lo mismo, el 25% de los estudiantes tienen una nota superior a 77.\n",
    "    \n",
    "- Los \"bigotes\" de la gráfica nos van a mostrar:\n",
    "    - El mínimo que es lo mismo que `Q1 - 1.5*IQR`\n",
    "    - El máximo que es lo mismo que `Q3 + 1.5*IQR`\n",
    "    \n",
    "    `IQR` es el rango intercuartílico. Aunque ahora no lo entendamos, don't panic! En la siguiente lección de Limpieza e Imputación lo veremos más en detalle 🙂!\n",
    "\n",
    "- Los puntos que salen de los \"bigotes\" son todos aquellos puntos que consideraremos *outliers*.\n"
   ]
  },
  {
   "attachments": {
    "image.png": {
     "image/png": "[encoded data removed]"
    }
   },
   "cell_type": "markdown",
   "id": "1e30072f",
   "metadata": {},
   "source": [
    "#### Desviación estándar\n",
    "\n",
    "Otra forma de detectar valores átipicos es usando la desviación estándar. En estadística, si una distribución de datos es aproximadamente normal, alrededor del 68% de los valores de los datos se encuentran dentro de una desviación estándar de la media,  alrededor del 95% están dentro de dos desviaciones estándar, y alrededor del 99,7% se encuentran dentro de tres desviaciones estándar.\n",
    "\n",
    "![image.png](https://github.com/Adalab/data_imagenes/blob/main/Modulo-2/EDA/desviacion.png?raw=true)"
   ]
  },
  {
   "cell_type": "markdown",
   "id": "3e880a74",
   "metadata": {},
   "source": [
    "Por lo tanto, si hay algún valor que se salga de esas 3 veces la desviación estándar, es muy probable que esos puntos sean anómalos o atípicos.\n",
    "\n",
    "Veamos como lo podemos ver visualmente. Para eso tenemos que calcular los intervalos de confianza al 99.7%. Si bien la matemática que hay detrás de este gráfico no lo tenéis que entender, os dejamos [aquí](https://rpubs.com/acatania/396921) algo de documentación por si queréis \"curiosear\" un poco. "
   ]
  },
  {
   "cell_type": "code",
   "execution_count": 125,
   "id": "7fdef309",
   "metadata": {},
   "outputs": [],
   "source": [
    "# lo primero que hacemos es calcular la  media y la desviación estándar para una columna, por ejemplo \"math_score\"\n",
    "\n",
    "media = df.math_score.mean()\n",
    "desviacion = df.math_score.std()"
   ]
  },
  {
   "cell_type": "markdown",
   "id": "650f9897",
   "metadata": {},
   "source": [
    "Una vez calculada la media y la desviación debemos calcular ese primer umbral de la distribución, aquel donde están el 68% de nuestros datos. Es decir, deberíamos coger el valor de la media y sumarle la desviación estándar para sacar el límite superior y restarla para sacar el límite inferior 👇🏽."
   ]
  },
  {
   "cell_type": "code",
   "execution_count": 126,
   "id": "8d918452",
   "metadata": {},
   "outputs": [],
   "source": [
    "upper = media + desviacion\n",
    "lower = media - desviacion"
   ]
  },
  {
   "cell_type": "markdown",
   "id": "92b4a56a",
   "metadata": {},
   "source": [
    "Lo siguiente que tenemos que hacer es sacar los valores de tres desviaciones estándar para calcular los límites de los valores que consideramos *outliers*. Valores más altos que estos serán *outliers*. "
   ]
  },
  {
   "cell_type": "code",
   "execution_count": 127,
   "id": "149093d7",
   "metadata": {},
   "outputs": [],
   "source": [
    "\n",
    "lcb = media - desviacion * 3\n",
    "ucb = media + desviacion * 3"
   ]
  },
  {
   "cell_type": "code",
   "execution_count": 128,
   "id": "4df3b537",
   "metadata": {},
   "outputs": [
    {
     "data": {
      "text/html": [
       "<div>\n",
       "<style scoped>\n",
       "    .dataframe tbody tr th:only-of-type {\n",
       "        vertical-align: middle;\n",
       "    }\n",
       "\n",
       "    .dataframe tbody tr th {\n",
       "        vertical-align: top;\n",
       "    }\n",
       "\n",
       "    .dataframe thead th {\n",
       "        text-align: right;\n",
       "    }\n",
       "</style>\n",
       "<table border=\"1\" class=\"dataframe\">\n",
       "  <thead>\n",
       "    <tr style=\"text-align: right;\">\n",
       "      <th></th>\n",
       "      <th>gender</th>\n",
       "      <th>race/ethnicity</th>\n",
       "      <th>parental_level_of_education</th>\n",
       "      <th>lunch</th>\n",
       "      <th>test_preparation_course</th>\n",
       "      <th>math_score</th>\n",
       "      <th>reading_score</th>\n",
       "      <th>writing_score</th>\n",
       "    </tr>\n",
       "  </thead>\n",
       "  <tbody>\n",
       "    <tr>\n",
       "      <th>0</th>\n",
       "      <td>female</td>\n",
       "      <td>group B</td>\n",
       "      <td>bachelor's degree</td>\n",
       "      <td>standard</td>\n",
       "      <td>none</td>\n",
       "      <td>72.0</td>\n",
       "      <td>72.0</td>\n",
       "      <td>74.0</td>\n",
       "    </tr>\n",
       "    <tr>\n",
       "      <th>1</th>\n",
       "      <td>female</td>\n",
       "      <td>group C</td>\n",
       "      <td>some college</td>\n",
       "      <td>standard</td>\n",
       "      <td>completed</td>\n",
       "      <td>69.0</td>\n",
       "      <td>90.0</td>\n",
       "      <td>NaN</td>\n",
       "    </tr>\n",
       "  </tbody>\n",
       "</table>\n",
       "</div>"
      ],
      "text/plain": [
       "   gender race/ethnicity parental_level_of_education     lunch  \\\n",
       "0  female        group B           bachelor's degree  standard   \n",
       "1  female        group C                some college  standard   \n",
       "\n",
       "  test_preparation_course  math_score  reading_score  writing_score  \n",
       "0                    none        72.0           72.0           74.0  \n",
       "1               completed        69.0           90.0            NaN  "
      ]
     },
     "execution_count": 128,
     "metadata": {},
     "output_type": "execute_result"
    }
   ],
   "source": [
    "df.head(2)"
   ]
  },
  {
   "cell_type": "code",
   "execution_count": 129,
   "id": "56033879",
   "metadata": {},
   "outputs": [
    {
     "data": {
      "text/plain": [
       "<matplotlib.legend.Legend at 0x20134975e40>"
      ]
     },
     "execution_count": 129,
     "metadata": {},
     "output_type": "execute_result"
    },
    {
     "data": {
      "image/png": "[encoded data removed]",
      "text/plain": [
       "<Figure size 720x576 with 1 Axes>"
      ]
     },
     "metadata": {
      "needs_background": "light"
     },
     "output_type": "display_data"
    }
   ],
   "source": [
    "# iniciamos el gráfico\n",
    "graf = sns.histplot(x=df.math_score, kde=True) # Hemos guardado el gráfico como una variable\n",
    "\n",
    "graf.axvline(x=media, c=\"red\", label=\"media\")\n",
    "\n",
    "# plotemos la desviación estándar\n",
    "graf.axvline(x=upper, c=\"green\", label=\"std\")\n",
    "graf.axvline(x=lower, c=\"green\")\n",
    "\n",
    "#ploteamos el intervalo de confianza al 99.7%\n",
    "graf.axvline(x=lcb, c=\"orange\", label=\"99 inferior\") \n",
    "graf.axvline(x=ucb, c=\"orange\", label=\"99 superior\")\n",
    "\n",
    "plt.legend()"
   ]
  },
  {
   "cell_type": "markdown",
   "id": "1e2648a6",
   "metadata": {},
   "source": [
    "Si interpretamos estos resultados:\n",
    "\n",
    "- La línea roja nos muestra la media de las notas de matemáticas de los alumnos.\n",
    "- Las líneas verdes muestran la desviación estándar de nuestro datos. \n",
    "- Por último, todos aquellos puntos que estén fuera de las líneas amarillas serán *outliers*."
   ]
  },
  {
   "cell_type": "markdown",
   "id": "16084dc9",
   "metadata": {},
   "source": [
    "📌 **En la siguiente lección, limpieza e imputación veremos como con unas pocas lineas de código podemos hacer una buena gestión de estos valores.**"
   ]
  },
  {
   "cell_type": "markdown",
   "id": "19588323",
   "metadata": {},
   "source": [
    "## EJERCICIOS\n",
    "\n",
    "1️⃣ Haz una descripción estadística de nuestro DataFrame usando sidetable sobre las columnas `type` y `listed_in`.\n",
    "\n",
    "- ¿Qué tipo de títulos es más común en nuestro DataFrame?\n",
    "- Cuando filtres por `listed_in`, devuelve solo las que formen el 70% de los datos.\n",
    "- Agrupa por `listed_in` y `type` sacando únicamente los datos que compongan el 40% de los datos.\n",
    "- ¿Qué porcentaje de nulos tenemos?\n",
    "\n",
    "> 📌Después de sacar los resultados, debate con tu compañera la interpretación de los resultados obtenidos.\n"
   ]
  }
 ],
 "metadata": {
  "kernelspec": {
   "display_name": "Python 3.10.7 64-bit (microsoft store)",
   "language": "python",
   "name": "python3"
  },
  "language_info": {
   "codemirror_mode": {
    "name": "ipython",
    "version": 3
   },
   "file_extension": ".py",
   "mimetype": "text/x-python",
   "name": "python",
   "nbconvert_exporter": "python",
   "pygments_lexer": "ipython3",
   "version": "3.10.7"
  },
  "toc": {
   "base_numbering": 1,
   "nav_menu": {},
   "number_sections": true,
   "sideBar": true,
   "skip_h1_title": false,
   "title_cell": "Table of Contents",
   "title_sidebar": "Contents",
   "toc_cell": true,
   "toc_position": {},
   "toc_section_display": true,
   "toc_window_display": false
  },
  "vscode": {
   "interpreter": {
    "hash": "8560ba40f25f8debc3b21cfdc72602d7855270eb253b25380125fbd9b6cd3418"
   }
  }
 },
 "nbformat": 4,
 "nbformat_minor": 5
}

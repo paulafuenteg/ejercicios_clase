{
 "cells": [
  {
   "cell_type": "markdown",
   "metadata": {},
   "source": [
    "# Métodos de *strings* "
   ]
  },
  {
   "cell_type": "markdown",
   "metadata": {},
   "source": [
    "Dado el siguiente *string* \n",
    "\n",
    "```python\n",
    "\n",
    "string = \"\"\"Hoy estamos en una clase de repaso,\n",
    "el objetivo es intentar solucionar todas vuestras dudas, \n",
    "preguntad todo lo que queráis! \n",
    "\"\"\"\n",
    "```\n",
    "\n",
    "\n",
    "Contesta a las siguientes preguntas: "
   ]
  },
  {
   "cell_type": "markdown",
   "metadata": {},
   "source": [
    "1️⃣ Crea dos variables nuevas: \n",
    "    - Una con el *string* en mayúsculas\n",
    "    - Otra con las letras en minúsculas\n",
    "\n",
    "2️⃣ Pon todas las primeras letras del *string* en mayúscula\n",
    "\n",
    "3️⃣ Separa el *string*  por los espacios y almacena el resultado en una lista llamanda `texto_lista`\n",
    "\n",
    "4️⃣ De la lista obtenida en el ejercicio anterior, selecciona solo los 5 primero elementos y almacena los resultados en una variable que se llame `texto_lista_corta` \n",
    "\n",
    "5️⃣ De la lista obtenida en el ejercicio 5. Vuelve a convertirlo en *string* \n",
    "\n",
    "6️⃣ Con el *string* obtenido en el paso anterior: \n",
    "\n",
    "    - Esta la palabra \"el\" en el *string* \n",
    "\n",
    "    - Reemplaza \"Hoy\" por nada\n",
    "\n",
    "    - El ejercicio anterior nos ha dejado espacios al inicio del string, eliminalos\n",
    "\n"
   ]
  },
  {
   "cell_type": "code",
   "execution_count": 2,
   "metadata": {},
   "outputs": [],
   "source": [
    "string = \"\"\"Hoy estamos en una clase de repaso,\n",
    "el objetivo es intentar solucionar todas vuestras dudas, \n",
    "preguntad todo lo que queráis! \n",
    "\"\"\""
   ]
  },
  {
   "cell_type": "code",
   "execution_count": 3,
   "metadata": {},
   "outputs": [],
   "source": [
    "#1 string en mayusculas y en minusculas\n",
    "string_mayus = string.upper()\n",
    "string_minus =string.lower()"
   ]
  },
  {
   "cell_type": "code",
   "execution_count": 4,
   "metadata": {},
   "outputs": [],
   "source": [
    "#2 La primera de cada palabra del string en mayuscula\n",
    "string_title = string.title()"
   ]
  },
  {
   "cell_type": "code",
   "execution_count": 8,
   "metadata": {},
   "outputs": [
    {
     "data": {
      "text/plain": [
       "['Hoy',\n",
       " 'estamos',\n",
       " 'en',\n",
       " 'una',\n",
       " 'clase',\n",
       " 'de',\n",
       " 'repaso,',\n",
       " 'el',\n",
       " 'objetivo',\n",
       " 'es',\n",
       " 'intentar',\n",
       " 'solucionar',\n",
       " 'todas',\n",
       " 'vuestras',\n",
       " 'dudas,',\n",
       " 'preguntad',\n",
       " 'todo',\n",
       " 'lo',\n",
       " 'que',\n",
       " 'queráis!']"
      ]
     },
     "execution_count": 8,
     "metadata": {},
     "output_type": "execute_result"
    }
   ],
   "source": [
    "#3 separa el string por espacios y guardalo en texto_lista\n",
    "texto_lista = string.split()\n",
    "texto_lista"
   ]
  },
  {
   "cell_type": "code",
   "execution_count": 9,
   "metadata": {},
   "outputs": [
    {
     "data": {
      "text/plain": [
       "['Hoy', 'estamos', 'en', 'una', 'clase']"
      ]
     },
     "execution_count": 9,
     "metadata": {},
     "output_type": "execute_result"
    }
   ],
   "source": [
    "#5 De la lista obtenida en el ejercicio anterior, selecciona solo los 5 primero elementos y almacena los resultados en una variable que se llame `texto_lista_corta` \n",
    "texto_lista_corta = texto_lista [:5]\n",
    "texto_lista_corta"
   ]
  },
  {
   "cell_type": "code",
   "execution_count": 11,
   "metadata": {},
   "outputs": [
    {
     "data": {
      "text/plain": [
       "'Hoy estamos en una clase'"
      ]
     },
     "execution_count": 11,
     "metadata": {},
     "output_type": "execute_result"
    }
   ],
   "source": [
    "#6 De la lista obtenida en el ejercicio 5. Vuelve a convertirlo en *string* \n",
    "string_corto = ' '.join(texto_lista_corta)\n",
    "string_corto"
   ]
  },
  {
   "cell_type": "code",
   "execution_count": 19,
   "metadata": {},
   "outputs": [
    {
     "data": {
      "text/plain": [
       "'estamos en una clase'"
      ]
     },
     "execution_count": 19,
     "metadata": {},
     "output_type": "execute_result"
    }
   ],
   "source": [
    "#7 Con el *string* obtenido en el paso anterior: \n",
    "#     - Esta la palabra \"el\" en el *string* \n",
    "#     - Reemplaza \"Hoy\" por nada\n",
    "#     - El ejercicio anterior nos ha dejado espacios al inicio del string, eliminalos\n",
    "\n",
    "'el' in string_corto\n",
    "string_corto.replace ('Hoy', ' ').strip()\n"
   ]
  },
  {
   "cell_type": "markdown",
   "metadata": {},
   "source": [
    "# Listas"
   ]
  },
  {
   "cell_type": "markdown",
   "metadata": {},
   "source": [
    "1️⃣ Definid dos listas de 8 elementos con números aleatorios del 1-20 que se llamen `lista1` y `lista2` \n",
    "\n",
    "2️⃣ Ordena la lista1 de menor a mayor, sobreescribiendo la lista\n",
    "\n",
    "3️⃣ Ordena la lista2 de mayor a menor, sobreescribiendo la lista\n",
    "\n",
    "4️⃣ Elimina el último elemento de la lista1\n",
    "\n",
    "5️⃣ Elimina el tercer elemento de la lista2\n",
    "\n",
    "6️⃣ Une las dos listas anteriores, obteniendo una lista de listas (llamadla lista_completa1). Sin sobreescibir ninguna de las listas\n",
    "\n",
    "7️⃣ Une las dos listas anteriores, obteniendo una lista de números (llamadla lista_completa2). Sin sobreescibir ninguna de las listas\n",
    "\n",
    "\n",
    "8️⃣ Cread dos listas nuevas con los números que queráis. Une las dos listas anteriores, obteniendo una lista de listas. EL resultado debe ser una lista de listas\n",
    "\n",
    "9️⃣ Cread dos listas nuevas con los números que queráis. Une las dos listas anteriores, obteniendo una lista con numeros.\n",
    "\n",
    "1️⃣0️⃣ Dada la siguiente lista: \n",
    "\n",
    "```python\n",
    "\n",
    "informacion = [\"Adalab\", [3,4,5,89,12,55,67,19] , \"comida\", {\"saludo\": \"buenos dias\", \"dias\": 4, \"gente\": [\"Laura\", \"Lorena\"]}, 345, [\"Almudena\", \"Lorena\", \"Maria\", \"Monica\", \"Sonia\"]]\n",
    "```\n",
    "\n",
    "\n",
    "- Accede al saludo del diccionario\n",
    "\n",
    "- Accede a todos los elementos que no sean diccionarios o listas\n",
    "\n",
    "- Accede a todos los elementos que  sean diccionarios o listas\n",
    "\n",
    "- Basándose en el resultado del ejercicio anterior, extrae el valor de \"Maria\"\n",
    "\n",
    "- Cual es el índice de \"Laura\" dentro del diccionario\n",
    "\n",
    "\n",
    "1️⃣1️⃣ Usando la lista anterior, añade el siguiente diccionario en primera posición. \n",
    "\n",
    "```python\n",
    "nuevo_diccionario = {\"comida\": [\"brocoli\", \"chorizo\"], \"precios\" :[1.35, 23]}\n",
    "```\n",
    "\n",
    "\n",
    "1️⃣2️⃣ Ordena la siguiente lista sin sobreescribirla\n",
    "\n",
    "```python\n",
    "lista_numeros = [3,6,23,9,2,77,14]\n",
    "```"
   ]
  },
  {
   "cell_type": "code",
   "execution_count": 22,
   "metadata": {},
   "outputs": [],
   "source": [
    "#Definid dos listas de 8 elementos con números aleatorios del 1-20 que se llamen `lista1` y `lista2` \n",
    "import random\n"
   ]
  },
  {
   "cell_type": "code",
   "execution_count": 24,
   "metadata": {},
   "outputs": [],
   "source": [
    "lista1 = random.sample(range(1,21), 8)\n",
    "lista2 = random.sample(range(1,21), 8)"
   ]
  },
  {
   "cell_type": "code",
   "execution_count": null,
   "metadata": {},
   "outputs": [],
   "source": []
  },
  {
   "cell_type": "code",
   "execution_count": null,
   "metadata": {},
   "outputs": [],
   "source": []
  },
  {
   "cell_type": "code",
   "execution_count": 26,
   "metadata": {},
   "outputs": [],
   "source": [
    "informacion = [\"Adalab\", \n",
    "            [3,4,5,89,12,55,67,19] , \n",
    "            \"comida\", \n",
    "            {\"saludo\": \"buenos dias\", \"dias\": 4, \"gente\": [\"Laura\", \"Lorena\"]},\n",
    "             345, \n",
    "             [\"Almudena\", \"Lorena\", \"Maria\", \"Monica\", \"Sonia\"]]"
   ]
  },
  {
   "cell_type": "code",
   "execution_count": 28,
   "metadata": {},
   "outputs": [
    {
     "data": {
      "text/plain": [
       "'buenos dias'"
      ]
     },
     "execution_count": 28,
     "metadata": {},
     "output_type": "execute_result"
    }
   ],
   "source": [
    "#10\n",
    "# Accede al saludo del diccionario\n",
    "informacion [3] ['saludo']"
   ]
  },
  {
   "cell_type": "code",
   "execution_count": 32,
   "metadata": {},
   "outputs": [
    {
     "data": {
      "text/plain": [
       "['Adalab', 'comida', 345]"
      ]
     },
     "execution_count": 32,
     "metadata": {},
     "output_type": "execute_result"
    }
   ],
   "source": [
    "# Accede a todos los elementos que no sean diccionarios o listas\n",
    "informacion [::2]"
   ]
  },
  {
   "cell_type": "code",
   "execution_count": 33,
   "metadata": {},
   "outputs": [
    {
     "data": {
      "text/plain": [
       "[[3, 4, 5, 89, 12, 55, 67, 19],\n",
       " {'saludo': 'buenos dias', 'dias': 4, 'gente': ['Laura', 'Lorena']},\n",
       " ['Almudena', 'Lorena', 'Maria', 'Monica', 'Sonia']]"
      ]
     },
     "execution_count": 33,
     "metadata": {},
     "output_type": "execute_result"
    }
   ],
   "source": [
    "# Accede a todos los elementos que sean diccionarios o listas\n",
    "informacion [1::2]"
   ]
  },
  {
   "cell_type": "code",
   "execution_count": 35,
   "metadata": {},
   "outputs": [
    {
     "data": {
      "text/plain": [
       "'Maria'"
      ]
     },
     "execution_count": 35,
     "metadata": {},
     "output_type": "execute_result"
    }
   ],
   "source": [
    "#Basándose en el resultado del ejercicio anterior, extrae el valor de \"Maria\"\n",
    "informacion[-1][2]"
   ]
  },
  {
   "cell_type": "code",
   "execution_count": 36,
   "metadata": {},
   "outputs": [
    {
     "data": {
      "text/plain": [
       "0"
      ]
     },
     "execution_count": 36,
     "metadata": {},
     "output_type": "execute_result"
    }
   ],
   "source": [
    "#Cual es el índice de \"Laura\" dentro del diccionario\n",
    "informacion [3]['gente'].index('Laura')"
   ]
  },
  {
   "cell_type": "code",
   "execution_count": 38,
   "metadata": {},
   "outputs": [
    {
     "data": {
      "text/plain": [
       "[{'comida': ['brocoli', 'chorizo'], 'precios': [1.35, 23]},\n",
       " 'Adalab',\n",
       " [3, 4, 5, 89, 12, 55, 67, 19],\n",
       " 'comida',\n",
       " {'saludo': 'buenos dias', 'dias': 4, 'gente': ['Laura', 'Lorena']},\n",
       " 345,\n",
       " ['Almudena', 'Lorena', 'Maria', 'Monica', 'Sonia']]"
      ]
     },
     "execution_count": 38,
     "metadata": {},
     "output_type": "execute_result"
    }
   ],
   "source": [
    "#11 Usando la lista anterior, añade el siguiente diccionario en primera posición. \n",
    "nuevo_diccionario = {\"comida\": [\"brocoli\", \"chorizo\"], \"precios\" :[1.35, 23]}\n",
    "informacion.insert(0,nuevo_diccionario)\n",
    "informacion"
   ]
  },
  {
   "cell_type": "code",
   "execution_count": 42,
   "metadata": {},
   "outputs": [
    {
     "data": {
      "text/plain": [
       "[2, 3, 6, 9, 14, 23, 77]"
      ]
     },
     "execution_count": 42,
     "metadata": {},
     "output_type": "execute_result"
    }
   ],
   "source": [
    "# 12Ordena la siguiente lista sin sobreescribirla\n",
    "\n",
    "lista_numeros = [3,6,23,9,2,77,14]\n",
    "sorted(lista_numeros)"
   ]
  },
  {
   "cell_type": "markdown",
   "metadata": {},
   "source": [
    "# Diccionarios\n",
    "\n",
    "Dado el siguiente diccionario: \n",
    "\n",
    "```python\n",
    "diccionario = {'nombre' : 'Laura', \n",
    "                'edad' : 22, \n",
    "                'cursos': ['Python','Django','JavaScript'] }\n",
    "\n",
    "```\n",
    "\n",
    "Contestad a las siguientes preguntas: \n",
    "\n",
    "1️⃣ ¿Cuáles son las *keys* del diccionario?\n",
    "\n",
    "2️⃣ ¿Cuáles son los *values* del diccionario?\n",
    "\n",
    "3️⃣ ¿Cuáles son los tipos de los datos de los *values*?\n",
    "\n",
    "4️⃣ Actualiza el *value* de la *key* nombre por \"Amanda\"\n",
    "\n",
    "5️⃣ Añadid una *key* nueva al diccionario que se llame \"experiencia\" cuyo value sea 2\n",
    "\n",
    "6️⃣ Cambia los values de todas las keys para añadir a la siguiente persona\n",
    "\n",
    "```python\n",
    "nombre: \"Aroa\"\n",
    "edad : 33\n",
    "cursos: [\"Python\", \"SQL\", \"C++\"]\n",
    "```\n",
    "7️⃣ Buscad la *key* \"estudios\". En caso de que no este, creadla con el valor [\"Bachillerato\", \"Universitario\"]\n",
    "\n",
    "\n",
    "8️⃣ Eliminad la *key* cursos del diccionario\n",
    "\n",
    "9️⃣ Eliminad la última *key*  del diccionario\n"
   ]
  },
  {
   "cell_type": "code",
   "execution_count": 43,
   "metadata": {},
   "outputs": [],
   "source": [
    "diccionario = {'nombre' : 'Laura', \n",
    "                'edad' : 22, \n",
    "                'cursos': ['Python','Django','JavaScript'] }\n"
   ]
  },
  {
   "cell_type": "code",
   "execution_count": 45,
   "metadata": {},
   "outputs": [
    {
     "name": "stdout",
     "output_type": "stream",
     "text": [
      "dict_keys(['nombre', 'edad', 'cursos'])\n",
      "dict_values(['Laura', 22, ['Python', 'Django', 'JavaScript']])\n"
     ]
    }
   ],
   "source": [
    "#1 Cuáles son las *keys* del diccionario?\n",
    "print (diccionario.keys())\n",
    "#2 ¿Cuáles son los *values* del diccionario?\n",
    "print (diccionario.values())"
   ]
  },
  {
   "cell_type": "code",
   "execution_count": 48,
   "metadata": {},
   "outputs": [
    {
     "name": "stdout",
     "output_type": "stream",
     "text": [
      "El tipo de la key nombre es: <class 'str'>\n",
      "El tipo de la key edad es: <class 'int'>\n",
      "El tipo de la key cursos es: <class 'list'>\n"
     ]
    }
   ],
   "source": [
    "#3 ¿Cuáles son los tipos de los datos de los *values*?\n",
    "print('El tipo de la key nombre es:', type(diccionario['nombre']))\n",
    "print('El tipo de la key edad es:',type(diccionario['edad']))\n",
    "print('El tipo de la key cursos es:', type(diccionario['cursos']))"
   ]
  },
  {
   "cell_type": "code",
   "execution_count": 49,
   "metadata": {},
   "outputs": [
    {
     "data": {
      "text/plain": [
       "{'nombre': 'Amanda', 'edad': 22, 'cursos': ['Python', 'Django', 'JavaScript']}"
      ]
     },
     "execution_count": 49,
     "metadata": {},
     "output_type": "execute_result"
    }
   ],
   "source": [
    "#4 Actualiza el *value* de la *key* nombre por \"Amanda\"\n",
    "diccionario ['nombre'] = 'Amanda'\n",
    "diccionario"
   ]
  },
  {
   "cell_type": "code",
   "execution_count": 51,
   "metadata": {},
   "outputs": [
    {
     "data": {
      "text/plain": [
       "{'nombre': 'Amanda',\n",
       " 'edad': 22,\n",
       " 'cursos': ['Python', 'Django', 'JavaScript'],\n",
       " 'experiencia': 2}"
      ]
     },
     "execution_count": 51,
     "metadata": {},
     "output_type": "execute_result"
    }
   ],
   "source": [
    "# 5 Añadid una *key* nueva al diccionario que se llame \"experiencia\" cuyo value sea 2\n",
    "diccionario  ['experiencia'] = 2\n",
    "diccionario"
   ]
  },
  {
   "cell_type": "code",
   "execution_count": null,
   "metadata": {},
   "outputs": [],
   "source": [
    "#6 Cambia los values de todas las keys para añadir a la siguiente persona"
   ]
  }
 ],
 "metadata": {
  "kernelspec": {
   "display_name": "Python 3.9.13 ('base')",
   "language": "python",
   "name": "python3"
  },
  "language_info": {
   "codemirror_mode": {
    "name": "ipython",
    "version": 3
   },
   "file_extension": ".py",
   "mimetype": "text/x-python",
   "name": "python",
   "nbconvert_exporter": "python",
   "pygments_lexer": "ipython3",
   "version": "3.9.13"
  },
  "orig_nbformat": 4,
  "vscode": {
   "interpreter": {
    "hash": "85c042135e83639dad74b6ec6c9d943b5dc47ca281624d931a3e14168052f53c"
   }
  }
 },
 "nbformat": 4,
 "nbformat_minor": 2
}

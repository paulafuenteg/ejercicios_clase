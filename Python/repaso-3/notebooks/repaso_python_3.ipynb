{
 "cells": [
  {
   "cell_type": "code",
   "execution_count": 16,
   "metadata": {},
   "outputs": [],
   "source": [
    "import os\n",
    "import xml.etree.ElementTree as ET\n"
   ]
  },
  {
   "cell_type": "markdown",
   "metadata": {},
   "source": [
    "## Ficheros\n",
    "\n",
    "El objetivo de este ejercicio es crear una clase que nos permita crear y añadir contenido a un fichero. Para eso: \n",
    "\n",
    "- Nos crearemos un método para crear un nuevo fichero\n",
    "\n",
    "- Nos crearemos un método que nos ayude a escribir contenido a un fichero. "
   ]
  },
  {
   "cell_type": "code",
   "execution_count": 112,
   "metadata": {},
   "outputs": [],
   "source": [
    "def create_file(path, name):\n",
    "    directorio_actual = os.getcwd()\n",
    "    print(f\"El directorio de trabajo es: {directorio_actual}\")\n",
    "    carpeta = directorio_actual.split(\"\\\\\")\n",
    "    print(f\"La carpeta donde estais ubicadas es {carpeta[-1]}\")\n",
    "    try: \n",
    "        with open(f'../files/{name}', 'x') as f:\n",
    "            pass\n",
    "    except:\n",
    "        print(\"Lo siento, ya tienes un fichero que se llama igual\")\n",
    "        print(\"Quieres crear un nuevo fichero con otro nombre: S/N\")\n",
    "        respuesta = input(\"Quieres crear un nuevo fichero con otro nombre: S/N\")\n",
    "\n",
    "        respuesta2 = {\"S\": \"Si\", \"N\": \"No\"}\n",
    "\n",
    "        while respuesta not in respuesta2.keys():\n",
    "            print(\"no nos has pasado una opcion valida, intentalo de nuevo\")\n",
    "            respuesta = input(\"Quieres crear un nuevo fichero con otro nombre: S/N\")\n",
    "        \n",
    "        \n",
    "        print(f\"Tu respuesta fue {respuesta2[respuesta]}\")\n",
    "\n",
    "        if respuesta == \"S\":\n",
    "            print(\"Como quieres que se llame el fichero, recuerda poner la extension\")\n",
    "            nombre = input(\"Como quieres que se llame el fichero\")\n",
    "\n",
    "            with open(f'../files/{nombre}', 'x') as f:\n",
    "                pass\n",
    "\n",
    "        else:\n",
    "            print(\"Perfecto, espero volver a verte pronto\")\n"
   ]
  },
  {
   "cell_type": "code",
   "execution_count": 2,
   "metadata": {},
   "outputs": [],
   "source": [
    "ruta = '../files/'\n",
    "nombre = \"alumnas.txt\""
   ]
  },
  {
   "cell_type": "code",
   "execution_count": 114,
   "metadata": {},
   "outputs": [
    {
     "name": "stdout",
     "output_type": "stream",
     "text": [
      "El directorio de trabajo es: c:\\Users\\agarc\\Desktop\\repasos-promo-b\\dias_repaso\\repaso_python_3\\notebooks\n",
      "La carpeta donde estais ubicadas es notebooks\n"
     ]
    }
   ],
   "source": [
    "create_file(ruta, nombre)"
   ]
  },
  {
   "cell_type": "code",
   "execution_count": 115,
   "metadata": {},
   "outputs": [],
   "source": [
    "def añadir_contenido(path, name, contenido, mode = \"a\"):\n",
    "\n",
    "    if mode == \"w\":\n",
    "        print(\"Cuidado, estas eligiendo el mode 'w', este método sobreescribirá el contenido que ya existe\" )\n",
    "        respuesta = input(\"Estas seguro que quieres sobreescribir el archivo: S/N: \")\n",
    "        print(input(\"Estas seguro que quieres sobreescribir el archivo: S/N: \"))\n",
    "\n",
    "        respuesta2 = {\"S\": \"Si\", \"N\": \"No\"}\n",
    "\n",
    "        while respuesta not in respuesta2.keys():\n",
    "            print(\"no nos has pasado una opcion valida, intentalo de nuevo\")\n",
    "            respuesta = input(\"Estas seguro que quieres sobreescribir el archivo: S/N: \")\n",
    "        \n",
    "        print(f\"Tu respuesta fue {respuesta2[respuesta]}\")\n",
    "\n",
    "        \n",
    "        with open (f'{path}/{name}', mode = mode) as f:\n",
    "            f.writelines(contenido)\n",
    "            f.close()\n",
    "    else: \n",
    "        with open (f'{path}/{name}', mode = mode) as f:\n",
    "            f.writelines(contenido)\n",
    "            f.close()\n",
    "\n"
   ]
  },
  {
   "cell_type": "code",
   "execution_count": 116,
   "metadata": {},
   "outputs": [],
   "source": [
    "ruta = '../files/'\n",
    "nombre = \"alumnas.txt\"\n",
    "#contenido = [\"Lorena \", '23 ', \"Madrid \", \"\\n\"] "
   ]
  },
  {
   "cell_type": "code",
   "execution_count": 117,
   "metadata": {},
   "outputs": [],
   "source": [
    "#añadir_contenido(ruta, nombre, contenido)"
   ]
  },
  {
   "cell_type": "code",
   "execution_count": 12,
   "metadata": {},
   "outputs": [],
   "source": [
    "contenido2 = {\"nombre\": [\"Angela \", \"Marta \", \"Maria \"],\n",
    "            \"edad\": [\"22 \", \"45 \", \"38 \"], \n",
    "            \"localidad\": [\"Madrid \", \"Bilbao \", \"Gijon \"]}"
   ]
  },
  {
   "cell_type": "code",
   "execution_count": 13,
   "metadata": {},
   "outputs": [],
   "source": [
    "nombres = contenido2[\"nombre\"]\n",
    "edad = contenido2[\"edad\"]\n",
    "localidad = contenido2[\"localidad\"]"
   ]
  },
  {
   "cell_type": "code",
   "execution_count": 120,
   "metadata": {},
   "outputs": [],
   "source": [
    "for n, e, l in zip(nombres, edad, localidad ):\n",
    "    añadir_contenido(ruta, nombre, [n, e,  l, \"\\n\"])"
   ]
  },
  {
   "cell_type": "markdown",
   "metadata": {},
   "source": [
    "## Creación de la clase"
   ]
  },
  {
   "cell_type": "code",
   "execution_count": 8,
   "metadata": {},
   "outputs": [],
   "source": [
    "class crear_modificar_ficheros():\n",
    "    def __init__ (self, path, name):\n",
    "        self.path = path\n",
    "        self.name = name\n",
    "\n",
    "\n",
    "    def create_file(self):\n",
    "            \n",
    "        directorio_actual = os.getcwd()\n",
    "        print(f\"El directorio de trabajo es: {directorio_actual}\")\n",
    "        carpeta = directorio_actual.split(\"\\\\\")\n",
    "        print(f\"La carpeta donde estais ubicadas es {carpeta[-1]}\")\n",
    "        try: \n",
    "            with open(f'{self.path}/{self.name}', 'x') as f:\n",
    "                pass\n",
    "        except:\n",
    "            print(\"Lo siento, ya tienes un fichero que se llama igual\")\n",
    "            print(\"Quieres crear un nuevo fichero con otro nombre: S/N\")\n",
    "            respuesta = input(\"Quieres crear un nuevo fichero con otro nombre: S/N\")\n",
    "\n",
    "            respuesta2 = {\"S\": \"Si\", \"N\": \"No\"}\n",
    "\n",
    "            while respuesta not in respuesta2.keys():\n",
    "                print(\"no nos has pasado una opcion valida, intentalo de nuevo\")\n",
    "                respuesta = input(\"Quieres crear un nuevo fichero con otro nombre: S/N\")\n",
    "            \n",
    "            \n",
    "            print(f\"Tu respuesta fue {respuesta2[respuesta]}\")\n",
    "\n",
    "            if respuesta == \"S\":\n",
    "                print(\"Como quieres que se llame el fichero, recuerda poner la extension\")\n",
    "                nombre = input(\"Como quieres que se llame el fichero\")\n",
    "\n",
    "                with open(f'../files/{nombre}', 'x') as f:\n",
    "                    pass\n",
    "\n",
    "            else:\n",
    "                print(\"Perfecto, espero volver a verte pronto\")\n",
    "\n",
    "    def añadir_contenido(self, nombre, contenido, mode = \"a\"):\n",
    "\n",
    "        if mode == \"w\":\n",
    "            print(\"Cuidado, estas eligiendo el mode 'w', este método sobreescribirá el contenido que ya existe\" )\n",
    "            respuesta = input(\"Estas seguro que quieres sobreescribir el archivo: S/N: \")\n",
    "            print(input(\"Estas seguro que quieres sobreescribir el archivo: S/N: \"))\n",
    "\n",
    "            respuesta2 = {\"S\": \"Si\", \"N\": \"No\"}\n",
    "\n",
    "            while respuesta not in respuesta2.keys():\n",
    "                print(\"no nos has pasado una opcion valida, intentalo de nuevo\")\n",
    "                respuesta = input(\"Estas seguro que quieres sobreescribir el archivo: S/N: \")\n",
    "            \n",
    "            print(f\"Tu respuesta fue {respuesta2[respuesta]}\")\n",
    "\n",
    "            \n",
    "            with open (f'{self.path}/{nombre}', mode = mode) as f:\n",
    "                f.writelines(contenido)\n",
    "                f.close()\n",
    "        else: \n",
    "            with open (f'{self.path}/{nombre}', mode = mode) as f:\n",
    "                f.writelines(contenido)\n",
    "                f.close()\n",
    "\n",
    "\n",
    "        \n",
    "        "
   ]
  },
  {
   "cell_type": "code",
   "execution_count": 9,
   "metadata": {},
   "outputs": [],
   "source": [
    "fichero = crear_modificar_ficheros(ruta, nombre)"
   ]
  },
  {
   "cell_type": "code",
   "execution_count": 10,
   "metadata": {},
   "outputs": [
    {
     "name": "stdout",
     "output_type": "stream",
     "text": [
      "El directorio de trabajo es: c:\\Users\\agarc\\Desktop\\repasos-promo-b\\dias_repaso\\repaso_python_3\\notebooks\n",
      "La carpeta donde estais ubicadas es notebooks\n",
      "Lo siento, ya tienes un fichero que se llama igual\n",
      "Quieres crear un nuevo fichero con otro nombre: S/N\n",
      "Tu respuesta fue No\n",
      "Perfecto, espero volver a verte pronto\n"
     ]
    }
   ],
   "source": [
    "fichero.create_file()"
   ]
  },
  {
   "cell_type": "code",
   "execution_count": 15,
   "metadata": {},
   "outputs": [],
   "source": [
    "for n, e, l in zip(nombres, edad, localidad ):\n",
    "    fichero.añadir_contenido(\"alumnas_promo_b.txt\", [n, e,  l, \"\\n\"])"
   ]
  },
  {
   "cell_type": "markdown",
   "metadata": {},
   "source": [
    "## xml\n",
    "\n",
    "Los objetivos de este ejercicio son: \n",
    "\n",
    "- Entender la estructura del archivo xml. \n",
    "\n",
    "- Cambiar los siguientes valores del xml\n",
    "\n",
    "    - En la etiqueta de *price* eliminar los \"$\"\n",
    "\n",
    "    - Categorizar las categorías: \n",
    "\n",
    "        - Menor de 500 calorias: \"bajas\"\n",
    "        - Entre 500 y 700 \"medias\"\n",
    "        - Más de 700 \"altas\"\n"
   ]
  },
  {
   "cell_type": "code",
   "execution_count": 17,
   "metadata": {},
   "outputs": [],
   "source": [
    "arbol = ET.parse('../files/data.xml')"
   ]
  },
  {
   "cell_type": "code",
   "execution_count": 18,
   "metadata": {},
   "outputs": [
    {
     "data": {
      "text/plain": [
       "<Element 'metadata' at 0x0000022CE092FAB0>"
      ]
     },
     "execution_count": 18,
     "metadata": {},
     "output_type": "execute_result"
    }
   ],
   "source": [
    "raiz = arbol.getroot()\n",
    "raiz"
   ]
  },
  {
   "cell_type": "code",
   "execution_count": 19,
   "metadata": {},
   "outputs": [
    {
     "name": "stdout",
     "output_type": "stream",
     "text": [
      "metadata\n"
     ]
    }
   ],
   "source": [
    "print(raiz.tag)"
   ]
  },
  {
   "cell_type": "code",
   "execution_count": 23,
   "metadata": {},
   "outputs": [
    {
     "name": "stdout",
     "output_type": "stream",
     "text": [
      "food: Es un hijo de nuestra raiz 'metadata'\n",
      "item: Es un nieto de nuestra raiz 'metadata'\n",
      "price: Es un nieto de nuestra raiz 'metadata'\n",
      "description: Es un nieto de nuestra raiz 'metadata'\n",
      "calories: Es un nieto de nuestra raiz 'metadata'\n",
      "-----------------------------\n",
      "food: Es un hijo de nuestra raiz 'metadata'\n",
      "item: Es un nieto de nuestra raiz 'metadata'\n",
      "price: Es un nieto de nuestra raiz 'metadata'\n",
      "description: Es un nieto de nuestra raiz 'metadata'\n",
      "calories: Es un nieto de nuestra raiz 'metadata'\n",
      "-----------------------------\n",
      "food: Es un hijo de nuestra raiz 'metadata'\n",
      "item: Es un nieto de nuestra raiz 'metadata'\n",
      "price: Es un nieto de nuestra raiz 'metadata'\n",
      "description: Es un nieto de nuestra raiz 'metadata'\n",
      "calories: Es un nieto de nuestra raiz 'metadata'\n",
      "-----------------------------\n",
      "food: Es un hijo de nuestra raiz 'metadata'\n",
      "item: Es un nieto de nuestra raiz 'metadata'\n",
      "price: Es un nieto de nuestra raiz 'metadata'\n",
      "description: Es un nieto de nuestra raiz 'metadata'\n",
      "calories: Es un nieto de nuestra raiz 'metadata'\n",
      "-----------------------------\n",
      "food: Es un hijo de nuestra raiz 'metadata'\n",
      "item: Es un nieto de nuestra raiz 'metadata'\n",
      "price: Es un nieto de nuestra raiz 'metadata'\n",
      "description: Es un nieto de nuestra raiz 'metadata'\n",
      "calories: Es un nieto de nuestra raiz 'metadata'\n",
      "-----------------------------\n"
     ]
    }
   ],
   "source": [
    "for child in raiz:\n",
    "    print(f\"{child.tag}: Es un hijo de nuestra raiz 'metadata'\" )\n",
    "    for subchild in child:\n",
    "        print(f\"{subchild.tag}: Es un nieto de nuestra raiz 'metadata'\" )\n",
    "    print(\"-----------------------------\")"
   ]
  },
  {
   "cell_type": "code",
   "execution_count": 57,
   "metadata": {},
   "outputs": [],
   "source": [
    "def cambiar_valores_xml(archivo_xml): \n",
    "    \n",
    "    arbol = ET.parse(archivo_xml)\n",
    "    root = arbol.getroot()\n",
    "    for child in root:\n",
    "        #print(child.tag)\n",
    "        for subchild in child:\n",
    "            if subchild.tag == 'price':\n",
    "                subchild.text = subchild.text.replace(\"$\", \"\")\n",
    "            elif subchild.tag == \"calories\":\n",
    "                if  int(subchild.text) <= 500:\n",
    "                    subchild.text = \"Bajas\"\n",
    "                elif 500 < int(subchild.text) <= 700:\n",
    "                    subchild.text = \"Medias\"\n",
    "\n",
    "                else:\n",
    "                    subchild.text = \"Altas\"\n",
    "    \n",
    "    arbol.write('../files/data_xml_clean.xml')\n",
    "\n",
    "\n",
    "\n"
   ]
  },
  {
   "cell_type": "code",
   "execution_count": 58,
   "metadata": {},
   "outputs": [],
   "source": [
    "cambiar_valores_xml('../files/data.xml')"
   ]
  },
  {
   "cell_type": "code",
   "execution_count": null,
   "metadata": {},
   "outputs": [],
   "source": []
  }
 ],
 "metadata": {
  "kernelspec": {
   "display_name": "Python 3.10.5 64-bit (windows store)",
   "language": "python",
   "name": "python3"
  },
  "language_info": {
   "codemirror_mode": {
    "name": "ipython",
    "version": 3
   },
   "file_extension": ".py",
   "mimetype": "text/x-python",
   "name": "python",
   "nbconvert_exporter": "python",
   "pygments_lexer": "ipython3",
   "version": "3.10.5"
  },
  "orig_nbformat": 4,
  "vscode": {
   "interpreter": {
    "hash": "8560ba40f25f8debc3b21cfdc72602d7855270eb253b25380125fbd9b6cd3418"
   }
  }
 },
 "nbformat": 4,
 "nbformat_minor": 2
}

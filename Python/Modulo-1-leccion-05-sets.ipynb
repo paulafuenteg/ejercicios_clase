{
 "cells": [
  {
   "cell_type": "markdown",
   "metadata": {
    "toc": true
   },
   "source": [
    "<h1>Table of Contents<span class=\"tocSkip\"></span></h1>\n",
    "<div class=\"toc\"><ul class=\"toc-item\"><li><span><a href=\"#Definir-sets\" data-toc-modified-id=\"Definir-sets-1\"><span class=\"toc-item-num\">1&nbsp;&nbsp;</span>Definir sets</a></span><ul class=\"toc-item\"><li><span><a href=\"#Ejercicios:-definir-sets\" data-toc-modified-id=\"Ejercicios:-definir-sets-1.1\"><span class=\"toc-item-num\">1.1&nbsp;&nbsp;</span>Ejercicios: definir sets</a></span></li></ul></li><li><span><a href=\"#Propiedades-y-métodos-de-los-sets\" data-toc-modified-id=\"Propiedades-y-métodos-de-los-sets-2\"><span class=\"toc-item-num\">2&nbsp;&nbsp;</span>Propiedades y métodos de los sets</a></span><ul class=\"toc-item\"><li><span><a href=\"#Ejercicios:-propiedades-y-métodos-de-un-set\" data-toc-modified-id=\"Ejercicios:-propiedades-y-métodos-de-un-set-2.1\"><span class=\"toc-item-num\">2.1&nbsp;&nbsp;</span>Ejercicios: propiedades y métodos de un set</a></span></li></ul></li><li><span><a href=\"#Operaciones-con-Sets\" data-toc-modified-id=\"Operaciones-con-Sets-3\"><span class=\"toc-item-num\">3&nbsp;&nbsp;</span>Operaciones con Sets</a></span><ul class=\"toc-item\"><li><span><a href=\"#union()\" data-toc-modified-id=\"union()-3.1\"><span class=\"toc-item-num\">3.1&nbsp;&nbsp;</span><code>union()</code></a></span></li><li><span><a href=\"#.intersection()\" data-toc-modified-id=\".intersection()-3.2\"><span class=\"toc-item-num\">3.2&nbsp;&nbsp;</span><code>.intersection()</code></a></span></li><li><span><a href=\"#.difference()\" data-toc-modified-id=\".difference()-3.3\"><span class=\"toc-item-num\">3.3&nbsp;&nbsp;</span><code>.difference()</code></a></span></li><li><span><a href=\"#.symmetric_difference()\" data-toc-modified-id=\".symmetric_difference()-3.4\"><span class=\"toc-item-num\">3.4&nbsp;&nbsp;</span><code>.symmetric_difference()</code></a></span></li></ul></li><li><span><a href=\"#Otros-métodos\" data-toc-modified-id=\"Otros-métodos-4\"><span class=\"toc-item-num\">4&nbsp;&nbsp;</span>Otros métodos</a></span><ul class=\"toc-item\"><li><span><a href=\"#Ejercicios:-set-operaciones\" data-toc-modified-id=\"Ejercicios:-set-operaciones-4.1\"><span class=\"toc-item-num\">4.1&nbsp;&nbsp;</span>Ejercicios: set operaciones</a></span></li></ul></li></ul></div>"
   ]
  },
  {
   "cell_type": "markdown",
   "metadata": {},
   "source": [
    "# Definir sets\n",
    "\n",
    "Un set no permite duplicados y no tiene un orden, por lo tanto,  no puede ser indexado. Sirve para definir una colección de elementos de cualquier tipo. La manera de comprobar si algo está en el set o no es con las palabras `in` y `not in` como ya hemos visto en clases anteriores.\n",
    "\n",
    "Un set se define con la función `set()`, que permite un sólo argumento que sea iterable, o con las llaves `{}`,  como un diccionario. Veamos algunos ejemplos:"
   ]
  },
  {
   "cell_type": "code",
   "execution_count": 1,
   "metadata": {},
   "outputs": [],
   "source": [
    "# Podemos crear un set que venga de una tupla, una estructura de datos que todavía no hemos aprendido, pero que viene definida entre paréntesis. \n",
    "tupla = ('Leche','Huevos', 'Cacahuetes','Frutos secos','Pescado','Crustáceos','Soja','Trigo', \"Huevos\")\n",
    "alergenos = set(tupla)\n"
   ]
  },
  {
   "cell_type": "code",
   "execution_count": 2,
   "metadata": {},
   "outputs": [
    {
     "name": "stdout",
     "output_type": "stream",
     "text": [
      "{'Huevos', 'Soja', 'Pescado', 'Trigo', 'Crustáceos', 'Leche', 'Cacahuetes', 'Frutos secos'}\n"
     ]
    }
   ],
   "source": [
    "print(alergenos)"
   ]
  },
  {
   "cell_type": "markdown",
   "metadata": {},
   "source": [
    "Como dijimos en la definición los sets, no nos permiten tener elementos repetidos. Si nos fijamos, en la tupla definida anteriormente teníamos dos veces la palabra \"Huevos\". Al convertirla en `set`, ¿qué es lo que ha pasado? Vemos que solo tenemos una palabra \"Huevos\", es decir, automáticamente nos elimina los duplicados. "
   ]
  },
  {
   "cell_type": "code",
   "execution_count": 3,
   "metadata": {},
   "outputs": [],
   "source": [
    "# también podemos crear un set de una lista\n",
    "lista = ['Leche','Huevos', 'Cacahuetes','Frutos secos','Pescado','Crustáceos','Soja','Trigo', \"Huevos\"]\n",
    "alergenos2 = set(lista)"
   ]
  },
  {
   "cell_type": "code",
   "execution_count": 4,
   "metadata": {},
   "outputs": [
    {
     "name": "stdout",
     "output_type": "stream",
     "text": [
      "{'Trigo', 'Leche', 'Crustáceos', 'Huevos', 'Pescado', 'Cacahuetes', 'Frutos secos', 'Soja'}\n"
     ]
    }
   ],
   "source": [
    "print(alergenos2)"
   ]
  },
  {
   "cell_type": "code",
   "execution_count": 3,
   "metadata": {},
   "outputs": [
    {
     "name": "stdout",
     "output_type": "stream",
     "text": [
      "{'Huevos', 'Soja', 'Pescado', 'Trigo', 'Crustáceos', 'Leche', 'Cacahuetes', 'Frutos secos'}\n"
     ]
    }
   ],
   "source": [
    "# o incluso definirlos directamente, usando las llaves:\n",
    "\n",
    "alergenos3 = {'Soja', 'Trigo', 'Cacahuetes', 'Leche', 'Huevos','Frutos secos', 'Pescado', 'Crustáceos', \"Huevos\"}\n",
    "print(alergenos3)"
   ]
  },
  {
   "cell_type": "markdown",
   "metadata": {},
   "source": [
    "¿Qué notas en estos ejemplos? Fíjate en el orden de las tres definiciones y el orden en que salen del `print()`. Un set guarda los contenidos en un orden aleatorio: al imprimirlo no puedes confiar en que salga de una u otra manera. Por eso `alergenos[3]` **NO** funciona: no está definido qué contenido estuviera en ese índice. Vemos que error nos sale para ir familizarizandonos con los errores\n"
   ]
  },
  {
   "cell_type": "code",
   "execution_count": 4,
   "metadata": {},
   "outputs": [
    {
     "ename": "TypeError",
     "evalue": "'set' object is not subscriptable",
     "output_type": "error",
     "traceback": [
      "\u001b[1;31m---------------------------------------------------------------------------\u001b[0m",
      "\u001b[1;31mTypeError\u001b[0m                                 Traceback (most recent call last)",
      "\u001b[1;32mc:\\Users\\agarc\\Documents\\Adalab\\Promo-C\\materiales-da-promo-c\\modulo-1\\modulo-1-python-basico\\assets\\notebooks\\modulo-1-leccion-05-sets.ipynb Cell 10\u001b[0m in \u001b[0;36m<module>\u001b[1;34m\u001b[0m\n\u001b[1;32m----> <a href='vscode-notebook-cell:/c%3A/Users/agarc/Documents/Adalab/Promo-C/materiales-da-promo-c/modulo-1/modulo-1-python-basico/assets/notebooks/modulo-1-leccion-05-sets.ipynb#X12sZmlsZQ%3D%3D?line=0'>1</a>\u001b[0m alergenos[\u001b[39m3\u001b[39;49m]\n",
      "\u001b[1;31mTypeError\u001b[0m: 'set' object is not subscriptable"
     ]
    }
   ],
   "source": [
    "alergenos[3]"
   ]
  },
  {
   "cell_type": "markdown",
   "metadata": {},
   "source": [
    "**¿Qué error nos devuelve?**\n",
    "\n",
    "`TypeError: 'set' object is not subscriptable`, es decir, no es indexable, no podemos acceder a sus elementos a partir de los índices. "
   ]
  },
  {
   "cell_type": "markdown",
   "metadata": {},
   "source": [
    "Como dijimos al inicio, podemos usar los operadores `in` y `not in` para chequear si elemento está dentro de nuestros sets o no. Veamos algunos ejemplos: "
   ]
  },
  {
   "cell_type": "code",
   "execution_count": 5,
   "metadata": {},
   "outputs": [
    {
     "name": "stdout",
     "output_type": "stream",
     "text": [
      "True\n"
     ]
    }
   ],
   "source": [
    "# esta la palabra \"Huevos\" dentro de nuestro set?\n",
    "\n",
    "print('Huevos' in alergenos)\n"
   ]
  },
  {
   "cell_type": "code",
   "execution_count": 6,
   "metadata": {},
   "outputs": [
    {
     "name": "stdout",
     "output_type": "stream",
     "text": [
      "False\n"
     ]
    }
   ],
   "source": [
    "# esta la palabra \"Apio\" en nuestro set? \n",
    "print('Apio' in alergenos)"
   ]
  },
  {
   "cell_type": "markdown",
   "metadata": {},
   "source": [
    "Para añadir un elemento nuevo a un set que ya existe usamos el método `.add()`:"
   ]
  },
  {
   "cell_type": "code",
   "execution_count": 7,
   "metadata": {},
   "outputs": [
    {
     "name": "stdout",
     "output_type": "stream",
     "text": [
      "{'Apio', 'Huevos', 'Soja', 'Pescado', 'Trigo', 'Crustáceos', 'Leche', 'Cacahuetes', 'Frutos secos'}\n"
     ]
    }
   ],
   "source": [
    "alergenos.add('Apio')\n",
    "print(alergenos)"
   ]
  },
  {
   "cell_type": "markdown",
   "metadata": {},
   "source": [
    "Si queremos añadir más que un elemento al set tenemos el método `.update()`. Acepta tipos de datos de uno o múltiples elementos, veamos un ejemplo de una lista de dos elementos y un set de un elemento. ¿Qué hubiera pasado si nos olvidaramos de las llaves `{}`?"
   ]
  },
  {
   "cell_type": "code",
   "execution_count": 10,
   "metadata": {},
   "outputs": [
    {
     "ename": "TypeError",
     "evalue": "set.add() takes exactly one argument (2 given)",
     "output_type": "error",
     "traceback": [
      "\u001b[1;31m---------------------------------------------------------------------------\u001b[0m",
      "\u001b[1;31mTypeError\u001b[0m                                 Traceback (most recent call last)",
      "\u001b[1;32mc:\\Users\\agarc\\Documents\\Adalab\\materiales-da-promo-b\\modulo-1\\modulo-1-python-basico\\assets\\notebooks\\modulo-1-leccion-05-sets.ipynb Celda 18\u001b[0m in \u001b[0;36m<module>\u001b[1;34m\u001b[0m\n\u001b[0;32m      <a href='vscode-notebook-cell:/c%3A/Users/agarc/Documents/Adalab/materiales-da-promo-b/modulo-1/modulo-1-python-basico/assets/notebooks/modulo-1-leccion-05-sets.ipynb#ch0000017?line=0'>1</a>\u001b[0m \u001b[39m# imaginemos que queremos meter dos elementos nuevos en nuestro set. Con el método add nos daría un error. \u001b[39;00m\n\u001b[1;32m----> <a href='vscode-notebook-cell:/c%3A/Users/agarc/Documents/Adalab/materiales-da-promo-b/modulo-1/modulo-1-python-basico/assets/notebooks/modulo-1-leccion-05-sets.ipynb#ch0000017?line=1'>2</a>\u001b[0m alergenos\u001b[39m.\u001b[39;49madd(\u001b[39m'\u001b[39;49m\u001b[39mApio\u001b[39;49m\u001b[39m'\u001b[39;49m, \u001b[39m\"\u001b[39;49m\u001b[39mBrocoli\u001b[39;49m\u001b[39m\"\u001b[39;49m)\n",
      "\u001b[1;31mTypeError\u001b[0m: set.add() takes exactly one argument (2 given)"
     ]
    }
   ],
   "source": [
    "# imaginemos que queremos meter dos elementos nuevos en nuestro set. Con el método add nos daría un error. \n",
    "alergenos.add('Apio', \"Brocoli\")"
   ]
  },
  {
   "cell_type": "markdown",
   "metadata": {},
   "source": [
    "**¿Qué nos dice el error?**\n",
    "\n",
    "`TypeError: set.add() takes exactly one argument (2 given)`, nos está diciendo que el método `.add()` está recibiendo dos argumentos, cuando este método solo puede recibir uno. Este error nos puede llevar a pensar que podríamos pasarle los dos elementos en una lista. Probemoslo:\n"
   ]
  },
  {
   "cell_type": "code",
   "execution_count": 11,
   "metadata": {},
   "outputs": [
    {
     "ename": "TypeError",
     "evalue": "unhashable type: 'list'",
     "output_type": "error",
     "traceback": [
      "\u001b[1;31m---------------------------------------------------------------------------\u001b[0m",
      "\u001b[1;31mTypeError\u001b[0m                                 Traceback (most recent call last)",
      "\u001b[1;32mc:\\Users\\agarc\\Documents\\Adalab\\materiales-da-promo-b\\modulo-1\\modulo-1-python-basico\\assets\\notebooks\\modulo-1-leccion-05-sets.ipynb Celda 20\u001b[0m in \u001b[0;36m<module>\u001b[1;34m\u001b[0m\n\u001b[1;32m----> <a href='vscode-notebook-cell:/c%3A/Users/agarc/Documents/Adalab/materiales-da-promo-b/modulo-1/modulo-1-python-basico/assets/notebooks/modulo-1-leccion-05-sets.ipynb#ch0000019?line=0'>1</a>\u001b[0m alergenos\u001b[39m.\u001b[39;49madd([\u001b[39m'\u001b[39;49m\u001b[39mApio\u001b[39;49m\u001b[39m'\u001b[39;49m, \u001b[39m\"\u001b[39;49m\u001b[39mBrocoli\u001b[39;49m\u001b[39m\"\u001b[39;49m])\n",
      "\u001b[1;31mTypeError\u001b[0m: unhashable type: 'list'"
     ]
    }
   ],
   "source": [
    "alergenos.add(['Apio', \"Brocoli\"])"
   ]
  },
  {
   "cell_type": "markdown",
   "metadata": {},
   "source": [
    "De nuevo, nos devuelve un error. En este caso nos devuelve `TypeError: unhashable type: 'list'`. Basicamente, lo que nos esta diciendo es que con el método `.add()` no podemos usar listas. \n",
    "\n",
    "Está bien, ya hemos comprobado que no podemos usar el método `.add()` cuando queremos insertar más de un elemento en nuestros sets. Usemos, entonces, el método `.update()`"
   ]
  },
  {
   "cell_type": "code",
   "execution_count": 12,
   "metadata": {},
   "outputs": [],
   "source": [
    "# nos creamos una lista con los elementos que queremos introducir en nuestro set\n",
    "actualizacion = ['Mostaza', 'Sésamo']\n",
    "\n",
    "# le pasamos la lista creada al método update  \n",
    "alergenos.update(actualizacion)"
   ]
  },
  {
   "cell_type": "code",
   "execution_count": 13,
   "metadata": {},
   "outputs": [
    {
     "name": "stdout",
     "output_type": "stream",
     "text": [
      "{'Apio', 'Mostaza', 'Trigo', 'Leche', 'Crustáceos', 'Sésamo', 'Huevos', 'Pescado', 'Cacahuetes', 'Frutos secos', 'Soja'}\n"
     ]
    }
   ],
   "source": [
    "# podemos ver como se han añadido nuestros dos nuevos elementos \n",
    "print(alergenos)"
   ]
  },
  {
   "cell_type": "code",
   "execution_count": 14,
   "metadata": {},
   "outputs": [],
   "source": [
    "# también le podemos pasar un set a este método\n",
    "\n",
    "# definimos un set con los nuevos elementos que queremos incluir\n",
    "actualizacion2 = {'Altramuces'}\n",
    "\n",
    "# usamos el método update\n",
    "alergenos.update(actualizacion2)"
   ]
  },
  {
   "cell_type": "code",
   "execution_count": 15,
   "metadata": {},
   "outputs": [
    {
     "name": "stdout",
     "output_type": "stream",
     "text": [
      "{'Apio', 'Mostaza', 'Trigo', 'Leche', 'Altramuces', 'Crustáceos', 'Sésamo', 'Huevos', 'Pescado', 'Cacahuetes', 'Frutos secos', 'Soja'}\n"
     ]
    }
   ],
   "source": [
    "print(alergenos)"
   ]
  },
  {
   "cell_type": "markdown",
   "metadata": {},
   "source": [
    "**Repaso**\n",
    "- Definir con `set()` o `{}`. Podemos convertir otros tipos de datos, como listas o tuplas a sets. \n",
    "\n",
    "- Comprobar contenido con `in` and `not in`.\n",
    "\n",
    "- Ampliar con `.add()` y `.update()`."
   ]
  },
  {
   "cell_type": "markdown",
   "metadata": {
    "id": "5PcBreuKcX1-"
   },
   "source": [
    "\n",
    "\n",
    "---\n",
    "\n",
    "\n",
    "## Ejercicios: definir sets\n",
    "\n",
    "- Definir sets\n",
    "\n",
    "  1. Vuelve a definir la *lista* \n",
    "        ```python\n",
    "        temperaturas_diciembre = [10, 10, 13, 14, 12, 15, \n",
    "                                  12, 11, 13, 17, 18, 15, \n",
    "                                  15, 17, 17, 13, 13, 11,\n",
    "                                  12, 10, 12, 14, 12, 12,\n",
    "                                  11, 12, 16, 16, 14, 17, 18]\n",
    "        ```\n",
    "  2. Conviértala en un set `diciembre`.\n",
    "\n",
    "  3. Piensa en 6 colores y define el set `colores` para guardarlos.\n",
    "\n",
    "- Ampliar sets\n",
    "\n",
    "  4. Añade `'lila'` a `colores` usando `.add()`.\n",
    "\n",
    "  5. Añade `'azul'`, `'rojo'`, y `'granate'` a `colores` usando `.update()`.\n",
    "\n",
    "- `in`, `not in`\n",
    "\n",
    "  6. Tu lista de `colores`, ¿tiene `'verde'`?\n",
    "  \n",
    "  7. ¿Y tiene `'ROJO'`?\n",
    "\n",
    "\n",
    "---\n",
    "\n"
   ]
  },
  {
   "cell_type": "code",
   "execution_count": null,
   "metadata": {
    "id": "Z5I4yJpqcX2F"
   },
   "outputs": [],
   "source": []
  },
  {
   "cell_type": "markdown",
   "metadata": {
    "id": "aCLnA8lRcX2F"
   },
   "source": [
    "\n",
    "\n",
    "---\n"
   ]
  },
  {
   "cell_type": "markdown",
   "metadata": {},
   "source": [
    "# Propiedades y métodos de los sets\n",
    "Como ya vimos, la propiedad clave de un `set` es que sus valores son únicos. Por lo tanto, convertir otra estructura de datos a un *set* nos filtra los contenidos para que sólo queden valores únicos. Una vez definido, los contenidos de un *set* ya no se pueden cambiar, pero el *set* entero sí: para quitar o añadir elementos al *set*. Los *sets* tienen muchos métodos, como ves si pulsas la tecla `Tab`. Los primeros que miramos son los que realmente ya conocemos. "
   ]
  },
  {
   "cell_type": "code",
   "execution_count": 16,
   "metadata": {},
   "outputs": [
    {
     "data": {
      "text/plain": [
       "{'Altramuces',\n",
       " 'Apio',\n",
       " 'Cacahuetes',\n",
       " 'Crustáceos',\n",
       " 'Frutos secos',\n",
       " 'Huevos',\n",
       " 'Leche',\n",
       " 'Mostaza',\n",
       " 'Pescado',\n",
       " 'Soja',\n",
       " 'Sésamo',\n",
       " 'Trigo'}"
      ]
     },
     "execution_count": 16,
     "metadata": {},
     "output_type": "execute_result"
    }
   ],
   "source": [
    "# nos hacemos una copia de set alergenos\n",
    "\n",
    "alergenos2 = alergenos.copy()\n",
    "alergenos2"
   ]
  },
  {
   "cell_type": "code",
   "execution_count": 17,
   "metadata": {},
   "outputs": [
    {
     "name": "stdout",
     "output_type": "stream",
     "text": [
      "Cuántos elementos: 12\n"
     ]
    }
   ],
   "source": [
    "# número de elementos que tenemos en un set\n",
    "\n",
    "print('Cuántos elementos:',len(alergenos2))"
   ]
  },
  {
   "cell_type": "code",
   "execution_count": 18,
   "metadata": {},
   "outputs": [
    {
     "data": {
      "text/plain": [
       "'Apio'"
      ]
     },
     "execution_count": 18,
     "metadata": {},
     "output_type": "execute_result"
    }
   ],
   "source": [
    "# eliminamos un elemento de set. Como no tienen orden, lo eliminará de forma aleatoria\n",
    "\n",
    "elemento = alergenos2.pop()\n",
    "elemento"
   ]
  },
  {
   "cell_type": "code",
   "execution_count": 19,
   "metadata": {},
   "outputs": [
    {
     "name": "stdout",
     "output_type": "stream",
     "text": [
      "{'Mostaza', 'Trigo', 'Leche', 'Altramuces', 'Crustáceos', 'Sésamo', 'Huevos', 'Pescado', 'Cacahuetes', 'Frutos secos', 'Soja'}\n"
     ]
    }
   ],
   "source": [
    "# veamos que elementos tenemos ahora en alergenos2\n",
    "\n",
    "print(alergenos2)"
   ]
  },
  {
   "cell_type": "code",
   "execution_count": 20,
   "metadata": {},
   "outputs": [
    {
     "name": "stdout",
     "output_type": "stream",
     "text": [
      "Cuántos elementos: 11\n"
     ]
    }
   ],
   "source": [
    "# y cuántos elementos tiene? Esperaríamos 11. Comprobemoslo\n",
    "\n",
    "print('Cuántos elementos:',len(alergenos2))"
   ]
  },
  {
   "cell_type": "code",
   "execution_count": 21,
   "metadata": {},
   "outputs": [
    {
     "name": "stdout",
     "output_type": "stream",
     "text": [
      "set()\n"
     ]
    }
   ],
   "source": [
    "# También podemos usar el método clear, que nos vaciará el contenido del set. \n",
    "\n",
    "alergenos2.clear()\n",
    "print(alergenos2)"
   ]
  },
  {
   "cell_type": "code",
   "execution_count": 22,
   "metadata": {},
   "outputs": [
    {
     "name": "stdout",
     "output_type": "stream",
     "text": [
      "Cuántos elementos: 0\n"
     ]
    }
   ],
   "source": [
    "# comprobamos que el set esta vacío\n",
    "\n",
    "print('Cuántos elementos:',len(alergenos2))"
   ]
  },
  {
   "cell_type": "markdown",
   "metadata": {},
   "source": [
    "Como hemos visto, el método `.pop()` nos elimina un elemento al azar. Pero puede ser que queramos eliminar un elemento concreto. Para eso podemos usar los métodos:\n",
    "\n",
    "- `.remove()` \n",
    "\n",
    "- `.discard()`"
   ]
  },
  {
   "cell_type": "code",
   "execution_count": 23,
   "metadata": {},
   "outputs": [
    {
     "name": "stdout",
     "output_type": "stream",
     "text": [
      "{'Apio', 'Mostaza', 'Trigo', 'Leche', 'Altramuces', 'Crustáceos', 'Sésamo', 'Huevos', 'Pescado', 'Cacahuetes', 'Frutos secos', 'Soja'}\n"
     ]
    }
   ],
   "source": [
    "# hagámonos otra copia del set alergenos\n",
    "\n",
    "alergenos3 = alergenos.copy()\n",
    "print(alergenos3)"
   ]
  },
  {
   "cell_type": "code",
   "execution_count": 24,
   "metadata": {},
   "outputs": [
    {
     "name": "stdout",
     "output_type": "stream",
     "text": [
      "{'Apio', 'Mostaza', 'Trigo', 'Leche', 'Altramuces', 'Crustáceos', 'Sésamo', 'Pescado', 'Cacahuetes', 'Frutos secos', 'Soja'}\n"
     ]
    }
   ],
   "source": [
    "# imaginemos que queremos eliminar el elemento \"Huevos\" de nuestro set. Lo único que debemos hacer es especificar el nombre del elemento que queremos eliminar. \n",
    "\n",
    "alergenos3.remove('Huevos')\n",
    "print(alergenos3)\n"
   ]
  },
  {
   "cell_type": "code",
   "execution_count": 25,
   "metadata": {},
   "outputs": [
    {
     "name": "stdout",
     "output_type": "stream",
     "text": [
      "{'Apio', 'Mostaza', 'Trigo', 'Leche', 'Altramuces', 'Crustáceos', 'Sésamo', 'Pescado', 'Cacahuetes', 'Frutos secos'}\n"
     ]
    }
   ],
   "source": [
    "# otra forma es usando el método discard de forma similar al método anterior. \n",
    "\n",
    "alergenos3.discard('Soja')\n",
    "print(alergenos3)"
   ]
  },
  {
   "cell_type": "markdown",
   "metadata": {},
   "source": [
    "¿Qué pasaría si intentaramos quitar elementos que ya no están en nuestro set? Veamos un ejemplo con ambos métodos: "
   ]
  },
  {
   "cell_type": "code",
   "execution_count": 26,
   "metadata": {},
   "outputs": [
    {
     "ename": "KeyError",
     "evalue": "'Soja'",
     "output_type": "error",
     "traceback": [
      "\u001b[1;31m---------------------------------------------------------------------------\u001b[0m",
      "\u001b[1;31mKeyError\u001b[0m                                  Traceback (most recent call last)",
      "\u001b[1;32mc:\\Users\\agarc\\Documents\\Adalab\\materiales-da-promo-b\\modulo-1\\modulo-1-python-basico\\assets\\notebooks\\modulo-1-leccion-05-sets.ipynb Celda 43\u001b[0m in \u001b[0;36m<module>\u001b[1;34m\u001b[0m\n\u001b[1;32m----> <a href='vscode-notebook-cell:/c%3A/Users/agarc/Documents/Adalab/materiales-da-promo-b/modulo-1/modulo-1-python-basico/assets/notebooks/modulo-1-leccion-05-sets.ipynb#ch0000042?line=0'>1</a>\u001b[0m alergenos3\u001b[39m.\u001b[39;49mremove(\u001b[39m'\u001b[39;49m\u001b[39mSoja\u001b[39;49m\u001b[39m'\u001b[39;49m)\n\u001b[0;32m      <a href='vscode-notebook-cell:/c%3A/Users/agarc/Documents/Adalab/materiales-da-promo-b/modulo-1/modulo-1-python-basico/assets/notebooks/modulo-1-leccion-05-sets.ipynb#ch0000042?line=1'>2</a>\u001b[0m \u001b[39mprint\u001b[39m(alergenos3)\n",
      "\u001b[1;31mKeyError\u001b[0m: 'Soja'"
     ]
    }
   ],
   "source": [
    "alergenos3.remove('Soja')\n",
    "print(alergenos3)"
   ]
  },
  {
   "cell_type": "markdown",
   "metadata": {},
   "source": [
    "El método `.remove()` nos devolveráun `KeyError`, es decir, ese elemento que estamos intentando quitar no esta contenido en nuestro set. "
   ]
  },
  {
   "cell_type": "code",
   "execution_count": 27,
   "metadata": {},
   "outputs": [
    {
     "name": "stdout",
     "output_type": "stream",
     "text": [
      "{'Apio', 'Mostaza', 'Trigo', 'Leche', 'Altramuces', 'Crustáceos', 'Sésamo', 'Pescado', 'Cacahuetes', 'Frutos secos'}\n"
     ]
    }
   ],
   "source": [
    "alergenos3.discard('Soja')\n",
    "print(alergenos3)\n"
   ]
  },
  {
   "cell_type": "markdown",
   "metadata": {},
   "source": [
    "Por el contrario, el método `.discard()` no nos devuelve ningún error. Simplemente no hace nada. "
   ]
  },
  {
   "cell_type": "markdown",
   "metadata": {},
   "source": [
    "**Repaso**\n",
    "- Convertir a un set filtra/elimina los contenidos únicos de un tipo de datos.\n",
    "\n",
    "- Repasamos `.clear()`, `.copy()`, y `.pop()`.\n",
    "\n",
    "- `.remove()`, y `.discard()` hacen lo mismo, `.discard()` no da errores si el elemento no existe en el set, `.remove()` sí.\n",
    "\n",
    "- La función `len()` nos dice cuántos elementos hay en el set."
   ]
  },
  {
   "cell_type": "code",
   "execution_count": null,
   "metadata": {},
   "outputs": [],
   "source": []
  },
  {
   "cell_type": "markdown",
   "metadata": {
    "id": "5PcBreuKcX1-"
   },
   "source": [
    "\n",
    "\n",
    "---\n",
    "\n",
    "\n",
    "## Ejercicios: propiedades y métodos de un set\n",
    "\n",
    "- Copiar, borrar elementos\n",
    "\n",
    "  8. Define el set `enero` para que sea igual a `diciembre`.\n",
    "\n",
    "  9. Quita las temperaturas `17`, y `18` de `enero`.\n",
    "\n",
    "- Tamaño de un set\n",
    "\n",
    "  10. ¿Cuántas temperaturas distintas había en diciembre?\n",
    "  \n",
    "  11. ¿Y cuántas en enero?\n",
    "\n",
    "\n",
    "---\n",
    "\n"
   ]
  },
  {
   "cell_type": "code",
   "execution_count": null,
   "metadata": {},
   "outputs": [],
   "source": []
  },
  {
   "cell_type": "markdown",
   "metadata": {
    "id": "aCLnA8lRcX2F"
   },
   "source": [
    "\n",
    "\n",
    "---\n"
   ]
  },
  {
   "cell_type": "markdown",
   "metadata": {},
   "source": [
    "# Operaciones con Sets\n",
    "La principal utilidad de los `sets` es que nos permiten hacer comperaciones entre sí, aprovechando que cada elemento de un `set` es único. Para introducir los conceptos de las operaciones con  `sets` usaremos los sets `set1` y `set2`, que definiremos a continuación."
   ]
  },
  {
   "cell_type": "code",
   "execution_count": 28,
   "metadata": {},
   "outputs": [],
   "source": [
    "# definimos los dos set nuevos\n",
    "\n",
    "set1 = {'a','b','c'}\n",
    "set2 = {'b','c','d'}"
   ]
  },
  {
   "cell_type": "markdown",
   "metadata": {},
   "source": [
    "## `union()`\n",
    "\n",
    "Nos devuelve la unión entre los dos `sets` que le pasemos, es decir, los todos los elementos que están en los dos sets, todos los elementos. "
   ]
  },
  {
   "cell_type": "code",
   "execution_count": 30,
   "metadata": {},
   "outputs": [
    {
     "data": {
      "text/plain": [
       "{'a', 'b', 'c', 'd'}"
      ]
     },
     "execution_count": 30,
     "metadata": {},
     "output_type": "execute_result"
    }
   ],
   "source": [
    "set3 = set1.union(set2)\n",
    "set3"
   ]
  },
  {
   "cell_type": "code",
   "execution_count": 31,
   "metadata": {},
   "outputs": [
    {
     "name": "stdout",
     "output_type": "stream",
     "text": [
      "{'b', 'a', 'd', 'c'}\n"
     ]
    }
   ],
   "source": [
    "# tenemos otra opción de hacer esto, usando el operador |\n",
    "\n",
    "set33 = set1 | set2\n",
    "print(set33)"
   ]
  },
  {
   "cell_type": "markdown",
   "metadata": {},
   "source": [
    "**Nota** Si bien tenemos dos opciones para hacer esta operación y otras que veremos un poco más adelante, siempre es recomendable utilizar los métodos propios, es decir, usar `union`. "
   ]
  },
  {
   "cell_type": "markdown",
   "metadata": {},
   "source": [
    "## `.intersection()`\n",
    "\n",
    "Nos va  a devolver los elementos comunes en los dos `sets`"
   ]
  },
  {
   "cell_type": "code",
   "execution_count": 32,
   "metadata": {},
   "outputs": [
    {
     "name": "stdout",
     "output_type": "stream",
     "text": [
      "{'b', 'a', 'c'}\n",
      "{'b', 'd', 'c'}\n"
     ]
    }
   ],
   "source": [
    "#recordemos set1 y set2\n",
    "print(set1)\n",
    "print(set2)"
   ]
  },
  {
   "cell_type": "code",
   "execution_count": 34,
   "metadata": {},
   "outputs": [
    {
     "data": {
      "text/plain": [
       "{'b', 'c'}"
      ]
     },
     "execution_count": 34,
     "metadata": {},
     "output_type": "execute_result"
    }
   ],
   "source": [
    "# los elementos que tenemos en los dos sets son: \n",
    "set4 = set1.intersection(set2)\n",
    "set4\n"
   ]
  },
  {
   "cell_type": "code",
   "execution_count": 35,
   "metadata": {},
   "outputs": [
    {
     "data": {
      "text/plain": [
       "{'b', 'c'}"
      ]
     },
     "execution_count": 35,
     "metadata": {},
     "output_type": "execute_result"
    }
   ],
   "source": [
    "# otra opción para hacerlo\n",
    "\n",
    "set44 = set1 & set2\n",
    "set44"
   ]
  },
  {
   "cell_type": "markdown",
   "metadata": {},
   "source": [
    "## `.difference()`\n",
    "\n",
    "Nos va devolver los elementos que son diferentes entre los dos `sets` que tenemos. Aquí, el orden es importante. Por ejemplo: \n",
    "\n",
    "No es lo mismo restar `5 - 2` que `2 - 5`. \n",
    "\n",
    "**Es decir, nos devuelve los elementos presentes en un `set`, pero no en el otro.**"
   ]
  },
  {
   "cell_type": "code",
   "execution_count": 36,
   "metadata": {},
   "outputs": [
    {
     "name": "stdout",
     "output_type": "stream",
     "text": [
      "{'b', 'a', 'c'}\n",
      "{'b', 'd', 'c'}\n"
     ]
    }
   ],
   "source": [
    "#recordemos set1 y set2\n",
    "print(set1)\n",
    "print(set2)"
   ]
  },
  {
   "cell_type": "code",
   "execution_count": 38,
   "metadata": {},
   "outputs": [
    {
     "name": "stdout",
     "output_type": "stream",
     "text": [
      "{'a'}\n"
     ]
    }
   ],
   "source": [
    "# que elementos están en \"set1\" pero no en \"set2\"\n",
    "set5 = set1.difference(set2)\n",
    "print(set5)"
   ]
  },
  {
   "cell_type": "code",
   "execution_count": 39,
   "metadata": {},
   "outputs": [
    {
     "name": "stdout",
     "output_type": "stream",
     "text": [
      "{'d'}\n"
     ]
    }
   ],
   "source": [
    "# que elementos están en set2 pero en set1\n",
    "set55 = set2.difference(set1)\n",
    "print(set55)"
   ]
  },
  {
   "cell_type": "code",
   "execution_count": 40,
   "metadata": {},
   "outputs": [
    {
     "name": "stdout",
     "output_type": "stream",
     "text": [
      "{'a'}\n",
      "{'d'}\n"
     ]
    }
   ],
   "source": [
    "# otra forma de hacerlo es usando el operador - \n",
    "\n",
    "set555 = set1 - set2\n",
    "print(set555)\n",
    "\n",
    "set5555 = set2 - set1\n",
    "print(set5555)"
   ]
  },
  {
   "cell_type": "markdown",
   "metadata": {},
   "source": [
    "## `.symmetric_difference()`\n",
    "\n",
    "Es similar al `.difference()` pero en este caso, este método nos devolverá los **elementos de ambos conjuntos, que no están presentes en el otro**. En este caso, nos va a devolver un set con los elementos que son únicos en cada uno de los `sets` que comparamos. Por lo tanto, en este caso, el orden ya no es importante. "
   ]
  },
  {
   "cell_type": "code",
   "execution_count": 41,
   "metadata": {},
   "outputs": [
    {
     "name": "stdout",
     "output_type": "stream",
     "text": [
      "{'b', 'a', 'c'}\n",
      "{'b', 'd', 'c'}\n"
     ]
    }
   ],
   "source": [
    "#recordemos set1 y set2\n",
    "print(set1)\n",
    "print(set2)"
   ]
  },
  {
   "cell_type": "code",
   "execution_count": 42,
   "metadata": {},
   "outputs": [
    {
     "name": "stdout",
     "output_type": "stream",
     "text": [
      "{'a', 'd'}\n"
     ]
    }
   ],
   "source": [
    "# que elementos son unicos del set1 y set2?\n",
    "set7 = set1.symmetric_difference(set2)\n",
    "print(set7)"
   ]
  },
  {
   "cell_type": "code",
   "execution_count": 45,
   "metadata": {},
   "outputs": [
    {
     "name": "stdout",
     "output_type": "stream",
     "text": [
      "{'a', 'd'}\n"
     ]
    }
   ],
   "source": [
    "# que elementos son unicos del set1 y set2?\n",
    "\n",
    "set77 = set2.symmetric_difference(set1)\n",
    "print(set77)"
   ]
  },
  {
   "cell_type": "code",
   "execution_count": 46,
   "metadata": {},
   "outputs": [
    {
     "name": "stdout",
     "output_type": "stream",
     "text": [
      "{'a', 'd'}\n"
     ]
    }
   ],
   "source": [
    "# el operador ^ nos devuelve los mismos resultados: \n",
    "\n",
    "set777 = set1 ^ set2\n",
    "print(set777)"
   ]
  },
  {
   "cell_type": "markdown",
   "metadata": {},
   "source": [
    "# Otros métodos\n",
    "\n",
    "Las tres operaciones que nos quedan por explicar no tienen tanto que ver con manipular `sets`, sino más bien con comprobar propiedades de los `sets`: ¿están todos los contenidos representados también en otro set? ¿O al revés?"
   ]
  },
  {
   "cell_type": "markdown",
   "metadata": {},
   "source": [
    "`isdisjoint()`: en algunos casos, los `sets` que queremos comparar no tienen ningún elemento en común. En este caso se dice que los `sets` son *disjoint*, y el método `.isdisjoint()` devuelve un `True`:\n"
   ]
  },
  {
   "cell_type": "code",
   "execution_count": 47,
   "metadata": {},
   "outputs": [
    {
     "name": "stdout",
     "output_type": "stream",
     "text": [
      "{'b', 'c'}\n",
      "{'a', 'd'}\n"
     ]
    }
   ],
   "source": [
    "# recordemos 2 sets definidos a lo largo del jupyter\n",
    "print(set4)\n",
    "print(set7)"
   ]
  },
  {
   "cell_type": "code",
   "execution_count": 48,
   "metadata": {},
   "outputs": [
    {
     "data": {
      "text/plain": [
       "True"
      ]
     },
     "execution_count": 48,
     "metadata": {},
     "output_type": "execute_result"
    }
   ],
   "source": [
    "# usamos el método isdisjoint para comprobar si tienen elementos en común o no\n",
    "set4.isdisjoint(set7)"
   ]
  },
  {
   "cell_type": "code",
   "execution_count": 49,
   "metadata": {},
   "outputs": [
    {
     "name": "stdout",
     "output_type": "stream",
     "text": [
      "{'b', 'a', 'c'}\n",
      "{'b', 'd', 'c'}\n"
     ]
    }
   ],
   "source": [
    "# comparemos ahora los siguientes sets\n",
    "print(set1)\n",
    "print(set2)"
   ]
  },
  {
   "cell_type": "code",
   "execution_count": 50,
   "metadata": {},
   "outputs": [
    {
     "data": {
      "text/plain": [
       "False"
      ]
     },
     "execution_count": 50,
     "metadata": {},
     "output_type": "execute_result"
    }
   ],
   "source": [
    "set1.isdisjoint(set2)"
   ]
  },
  {
   "cell_type": "markdown",
   "metadata": {},
   "source": [
    "Este método nos devolverá: \n",
    "\n",
    "- True: Si todos los elementos de nuestros `sets` son diferentes\n",
    "\n",
    "- False: Si alguno de los elementos de los `sets` coincide entre ambos `sets`. "
   ]
  },
  {
   "cell_type": "markdown",
   "metadata": {},
   "source": [
    "`issubset()`: Si no son disjoint, puede que todos los elementos de un ya estén definidos en el otro: todos los mamíferos son animales, pero no todos los animales son mamíferos. Pues los mamíferos son un *subset*  de los animales, y como sinónimo los animales son un *superset* de los mamíferos. Ambos pueden ser comprobados usando los símbolos `<` y `>`. Empezamos con el `subset`:"
   ]
  },
  {
   "cell_type": "code",
   "execution_count": 51,
   "metadata": {},
   "outputs": [],
   "source": [
    "# recordemos de nuevo los sets con los que estamos trabajando\n",
    "set8 = {\"a\", \"b\", \"d\"}\n",
    "set9 = {\"a\", \"d\"}"
   ]
  },
  {
   "cell_type": "code",
   "execution_count": 52,
   "metadata": {},
   "outputs": [
    {
     "name": "stdout",
     "output_type": "stream",
     "text": [
      "False\n"
     ]
    }
   ],
   "source": [
    "# comprobemos si el set 8 es un subset de set9. Lo que estamos evaluando si todos los elementos de set8 están en el set9\n",
    "\n",
    "print(set8.issubset(set9))"
   ]
  },
  {
   "cell_type": "code",
   "execution_count": 53,
   "metadata": {},
   "outputs": [
    {
     "name": "stdout",
     "output_type": "stream",
     "text": [
      "False\n"
     ]
    }
   ],
   "source": [
    "# el operador para chequear esta condición es < \n",
    "\n",
    "print(set8 < set9)"
   ]
  },
  {
   "cell_type": "code",
   "execution_count": 54,
   "metadata": {},
   "outputs": [
    {
     "name": "stdout",
     "output_type": "stream",
     "text": [
      "True\n"
     ]
    }
   ],
   "source": [
    "# pero si lo hicieramos al revés? Es decir, todos los elementos del set9 están en el set8\n",
    "\n",
    "print(set9.issubset(set8))"
   ]
  },
  {
   "cell_type": "code",
   "execution_count": 55,
   "metadata": {},
   "outputs": [
    {
     "name": "stdout",
     "output_type": "stream",
     "text": [
      "True\n"
     ]
    }
   ],
   "source": [
    "# también podríamos hacer \n",
    "\n",
    "print(set8 >  set9)"
   ]
  },
  {
   "cell_type": "markdown",
   "metadata": {},
   "source": [
    "De forma similar funcionará el *superset*, veamos un ejemplo: "
   ]
  },
  {
   "cell_type": "code",
   "execution_count": 56,
   "metadata": {},
   "outputs": [
    {
     "name": "stdout",
     "output_type": "stream",
     "text": [
      "{'b', 'a', 'd'}\n",
      "{'a', 'd'}\n"
     ]
    }
   ],
   "source": [
    "print(set8)\n",
    "print(set9)"
   ]
  },
  {
   "cell_type": "code",
   "execution_count": 57,
   "metadata": {},
   "outputs": [
    {
     "name": "stdout",
     "output_type": "stream",
     "text": [
      "True\n"
     ]
    }
   ],
   "source": [
    "# están los elementos del set8 contenidos en el set9?\n",
    "print(set8.issuperset(set9))\n"
   ]
  },
  {
   "cell_type": "code",
   "execution_count": 58,
   "metadata": {},
   "outputs": [
    {
     "name": "stdout",
     "output_type": "stream",
     "text": [
      "True\n"
     ]
    }
   ],
   "source": [
    "# de forma similar ...\n",
    "print(set1 > set4)"
   ]
  },
  {
   "cell_type": "code",
   "execution_count": 59,
   "metadata": {},
   "outputs": [
    {
     "name": "stdout",
     "output_type": "stream",
     "text": [
      "False\n"
     ]
    }
   ],
   "source": [
    "# están los elementos del set9 contenidos en el set8?\n",
    "print(set9.issuperset(set8))"
   ]
  },
  {
   "cell_type": "markdown",
   "metadata": {},
   "source": [
    "En el caso de que todos los elementos de un set estén en el otro, y ni uno más, los sets son iguales. Son tanto un subset como un superset del otro. Aquí verás que hay una pequeña diferencia entre los métodos y los símbolos de desigualdad. Para entender esa diferencia, y los símbolos `==`, `<=` y `>=` mira los ejemplos abajo:"
   ]
  },
  {
   "cell_type": "code",
   "execution_count": 60,
   "metadata": {},
   "outputs": [
    {
     "name": "stdout",
     "output_type": "stream",
     "text": [
      "False\n",
      "False\n",
      "True\n",
      "True\n",
      "True\n"
     ]
    }
   ],
   "source": [
    "set8 = set1.copy()\n",
    "print(set8 < set1)\n",
    "print(set8 > set1)\n",
    "print(set8 == set1)\n",
    "print(set8 <= set1) # set8.issubset(set1)\n",
    "print(set8 >= set1) # set8.issuperset(set1)"
   ]
  },
  {
   "cell_type": "markdown",
   "metadata": {},
   "source": [
    "**Repaso**\n",
    "- Unir los sets con `s1.union(s2)` o `s1 | s2`. \n",
    "- Los elementos que tienen en común: `s1.intersection(s2)` o `s1 & s2`.\n",
    "- Quitar los elementos de s2 del s1: `s1.difference(s2)` o `s1 - s2`.\n",
    "- Todos los elementos que hay en uno de los sets pero no en ambos: `s1.symmetric_difference(s2)` o `s1 ^ s2`.\n",
    "\n",
    "- Comprobar que no tienen ningún elemento en común: `s1.isdisjoint(s2)`.\n",
    "- Comprobar que todos los elementos de s2 también están en s1: `s1.issuperset(s2)` o `s1 >= s2`.\n",
    "- Comprobar que todos los elementos de s1 también están en s2: `s1.issubset(s2)` o `s1 <= s2`.\n",
    "- Comprobar que tienen todos los elementos en común: `s1 == s2`."
   ]
  },
  {
   "cell_type": "markdown",
   "metadata": {
    "id": "5PcBreuKcX1-"
   },
   "source": [
    "\n",
    "\n",
    "---\n",
    "\n",
    "\n",
    "## Ejercicios: set operaciones\n",
    "\n",
    "- Crear sets en base de otros sets\n",
    "\n",
    "  12. Identifica los elementos que haya en `diciembre` que no haya en `enero`.\n",
    "\n",
    "  13. Identifica los elementos que haya en `enero` que no haya en `diciembre`.\n",
    "\n",
    "  14. Identifica los elementos que tienen en común `diciembre` y `enero`.\n",
    "\n",
    "  15. Identifica la differencia simétrica de `colores` y `{'marrón','amarillo','cian'}`. ¿Qué significa el resultado entonces?\n",
    "\n",
    "- Comparar sets\n",
    "\n",
    "  16. ¿Son *disjoint* `diciembre` y `enero`? ¿Por qué (no)?\n",
    "\n",
    "  17. ¿Es `{'rojo','azul'}` un superset de colores?\n",
    "  \n",
    "  18. ¿Es un subset?\n",
    "\n",
    "---\n",
    "\n"
   ]
  },
  {
   "cell_type": "markdown",
   "metadata": {
    "id": "aCLnA8lRcX2F"
   },
   "source": [
    "\n",
    "\n",
    "---\n"
   ]
  }
 ],
 "metadata": {
  "interpreter": {
   "hash": "8560ba40f25f8debc3b21cfdc72602d7855270eb253b25380125fbd9b6cd3418"
  },
  "kernelspec": {
   "display_name": "Python 3 (ipykernel)",
   "language": "python",
   "name": "python3"
  },
  "language_info": {
   "codemirror_mode": {
    "name": "ipython",
    "version": 3
   },
   "file_extension": ".py",
   "mimetype": "text/x-python",
   "name": "python",
   "nbconvert_exporter": "python",
   "pygments_lexer": "ipython3",
   "version": "3.10.8"
  },
  "toc": {
   "base_numbering": 1,
   "nav_menu": {},
   "number_sections": true,
   "sideBar": true,
   "skip_h1_title": false,
   "title_cell": "Table of Contents",
   "title_sidebar": "Contents",
   "toc_cell": true,
   "toc_position": {},
   "toc_section_display": true,
   "toc_window_display": true
  }
 },
 "nbformat": 4,
 "nbformat_minor": 2
}

{
 "cells": [
  {
   "cell_type": "markdown",
   "metadata": {},
   "source": [
    "## Lectura del fichero TXT\n",
    "\n",
    "Nos devuelve una lista que contiene todos los elementos del archivo txt, cada elemento de la lista se toma como un único string. Cada elemento de la lista termina con \\n\n",
    "\n",
    "Ejemplo:\n",
    "\n",
    "['index_sql;Q3;Q4;Q5;Q6;Q7;Q8;Q9;Q11;Q12;Q13;Q14;Q15;Q16;Q17;Q20;Q21;Q22;Q23;Q24;Q25;Q26;Q32;Q33;Q34;Q35;Q41\\n',\n",
    " '1;Indonesia;Master’s degree;Program/Project Manager;20+ years;null, SQL, C, C++, Java;Python;null,   Notepad++  ,  Jupyter Notebook;A cloud computing platform (AWS, Azure, GCP, hosted notebooks, etc);null, None;Never; Matplotlib ;Under 1 year;  Scikit-learn ;Linear or Logistic Regression, Decision Trees or Random Forests;Manufacturing/Fabrication;1000-9,999 employees;1-2;We are exploring ML methods (and may one day put a model into production);null, Build and/or run the data infrastructure that my business uses for storing, analyzing, and operationalizing data;60,000-69,999;$0 ($USD);;;;;Advanced statistical software (SPSS, SAS, etc.)\\n',\n",
    " '2;Pakistan;Master’s degree;Software Engineer;1-3 years;Python, C++, Java;Python;null,  PyCharm ,  Jupyter Notebook, Other;A laptop;null, Other;Never; Matplotlib ;I do not use machine learning methods;;;Academics/Education;1000-9,999 employees;0;I do not know;null, None of these activities are an important part of my role at work;$0-999;$0 ($USD);MySQL , MongoDB ;MySQL ;null, None;;Basic statistical software (Microsoft Excel, Google Sheets, etc.)\\n',\n",
    " '3;Mexico;Doctoral degree;Research Scientist;20+ years;Python;Python;null,   Spyder  ,  Jupyter Notebook;A cloud computing platform (AWS, Azure, GCP, hosted notebooks, etc); NVIDIA GPUs ;More than 25 times; Matplotlib ;5-10 years;  Scikit-learn ,   TensorFlow ,  Keras ;null, Dense Neural Networks (MLPs, etc), Convolutional Neural Networks, Recurrent Neural Networks;Academics/Education;1000-9,999 employees;0;I do not know;null, Do research that advances the state of the art of machine learning;30,000-39,999;$0 ($USD);;;;;Local development environments (RStudio, JupyterLab, etc.)\\n',\n",
    "\n",
    "\n",
    "> Recomendación: Aprender a tratar los datos de algunos de los elementos de la lista, antes de intentar aplicarlo a todos los datos del fichero txt.\n",
    " - Primer elemento de la lista:\n",
    "    lista[0] = 'index_sql;Q3;Q4;Q5;Q6;Q7;Q8;Q9;Q11;Q12;Q13;Q14;Q15;Q16;Q17;Q20;Q21;Q22;Q23;Q24;Q25;Q26;Q32;Q33;Q34;Q35;Q41\\n'"
   ]
  },
  {
   "cell_type": "code",
   "execution_count": 3,
   "metadata": {},
   "outputs": [],
   "source": [
    "\n",
    "with open('data_txt.txt','r') as file:\n",
    "    file_source = file.readlines() \n",
    "    # Es una lista que cada línea del fichero txt como un string de todos los datos.\n",
    "    \n"
   ]
  },
  {
   "cell_type": "code",
   "execution_count": 5,
   "metadata": {},
   "outputs": [
    {
     "data": {
      "text/plain": [
       "'#Vemos el elmento file_source para analizar el contenido\\nfile_source'"
      ]
     },
     "execution_count": 5,
     "metadata": {},
     "output_type": "execute_result"
    }
   ],
   "source": [
    "'''#Vemos el elmento file_source para analizar el contenido\n",
    "file_source'''"
   ]
  },
  {
   "cell_type": "code",
   "execution_count": 35,
   "metadata": {},
   "outputs": [
    {
     "data": {
      "text/plain": [
       "'1;Indonesia;Master’s degree;Program/Project Manager;20+ years;null, SQL, C, C++, Java;Python;null,   Notepad++  ,  Jupyter Notebook;A cloud computing platform (AWS, Azure, GCP, hosted notebooks, etc);null, None;Never; Matplotlib ;Under 1 year;  Scikit-learn ;Linear or Logistic Regression, Decision Trees or Random Forests;Manufacturing/Fabrication;1000-9,999 employees;1-2;We are exploring ML methods (and may one day put a model into production);null, Build and/or run the data infrastructure that my business uses for storing, analyzing, and operationalizing data;60,000-69,999;$0 ($USD);;;;;Advanced statistical software (SPSS, SAS, etc.)\\n'"
      ]
     },
     "execution_count": 35,
     "metadata": {},
     "output_type": "execute_result"
    }
   ],
   "source": [
    "# Para quitar los espacios iniciales y finales y los \\n probamos a hacer un .strip() del elemento 0\n",
    "file_source[1]"
   ]
  },
  {
   "cell_type": "code",
   "execution_count": 7,
   "metadata": {},
   "outputs": [],
   "source": [
    "#Definimos la variable lista vacía y hacemos un for loop para cada elemento de la file_source elimina espacios con el .strip() y se guarda en la variable elemento \n",
    "# Cada elemento se va appendeando a la lista vacía de nuevo.\n",
    "lista = []\n",
    "\n",
    "\n",
    "for file in file_source:\n",
    "    elemento = file.strip()\n",
    "    lista.append(elemento)\n",
    "    \n",
    "    \n",
    "#lista"
   ]
  },
  {
   "cell_type": "code",
   "execution_count": 8,
   "metadata": {},
   "outputs": [],
   "source": [
    "#Creamos otra lista listanull vacía y hacemos un for loop para cada elemento de la lista de la celda anterior(con espacios ya eliminados) para cambiar con .replace(,) null por 'NULL' y se guarda en la variable elemento \n",
    "# Cada elemento se va appendeando a la listanull.\n",
    "\n",
    "listanull = []\n",
    "\n",
    "\n",
    "for file in lista:\n",
    "    elemento = file.replace('null','NULL')\n",
    "    listanull.append(elemento)\n",
    "    \n",
    "    \n",
    "#listanull                                                                 "
   ]
  },
  {
   "cell_type": "code",
   "execution_count": 9,
   "metadata": {},
   "outputs": [],
   "source": [
    "txt_limpio = []\n",
    "\n",
    "for file in listanull:\n",
    "    elemento = file.replace('<','under')\n",
    "    txt_limpio.append(elemento)"
   ]
  },
  {
   "cell_type": "code",
   "execution_count": 33,
   "metadata": {},
   "outputs": [],
   "source": [
    "# funcion limpieza txt \n",
    "\n",
    "\n",
    "def limpieza_txt(file_source):\n",
    "    lista_final =[]\n",
    "    lista_espacios = []\n",
    "    for file in file_source:\n",
    "        elemento = file.strip().replace('null','NULL').replace('<','under')\n",
    "        lista_espacios.append(elemento)\n",
    "    \n",
    "    '''for lista in lista_espacios:\n",
    "        lista.split (',')\n",
    "        for i in lista:\n",
    "            strip = i.strip()\n",
    "            lista_final.append(strip)\n",
    "        lista_final =','.join(lista_final)'''\n",
    "    \n",
    "    return lista_espacios"
   ]
  },
  {
   "cell_type": "code",
   "execution_count": 61,
   "metadata": {},
   "outputs": [],
   "source": [
    "lista_espacios = limpieza_txt(file_source)"
   ]
  },
  {
   "cell_type": "code",
   "execution_count": 44,
   "metadata": {},
   "outputs": [
    {
     "data": {
      "text/plain": [
       "'1;Indonesia;Master’s degree;Program/Project Manager;20+ years;NULL, SQL, C, C++, Java;Python;NULL,   Notepad++  ,  Jupyter Notebook;A cloud computing platform (AWS, Azure, GCP, hosted notebooks, etc);NULL, None;Never; Matplotlib ;Under 1 year;  Scikit-learn ;Linear or Logistic Regression, Decision Trees or Random Forests;Manufacturing/Fabrication;1000-9,999 employees;1-2;We are exploring ML methods (and may one day put a model into production);NULL, Build and/or run the data infrastructure that my business uses for storing, analyzing, and operationalizing data;60,000-69,999;$0 ($USD);;;;;Advanced statistical software (SPSS, SAS, etc.)'"
      ]
     },
     "execution_count": 44,
     "metadata": {},
     "output_type": "execute_result"
    }
   ],
   "source": [
    "lista_espacios [1]"
   ]
  },
  {
   "cell_type": "code",
   "execution_count": 131,
   "metadata": {},
   "outputs": [],
   "source": [
    "lista_espacios = limpieza_txt(file_source)"
   ]
  },
  {
   "cell_type": "code",
   "execution_count": 133,
   "metadata": {},
   "outputs": [
    {
     "name": "stdout",
     "output_type": "stream",
     "text": [
      "[['1;Indonesia;Master’s degree;Program/Project Manager;20+ years;NULL', 'SQL', 'C', 'C++', 'Java;Python;NULL', 'Notepad++', 'Jupyter Notebook;A cloud computing platform (AWS', 'Azure', 'GCP', 'hosted notebooks', 'etc);NULL', 'None;Never; Matplotlib ;Under 1 year;  Scikit-learn ;Linear or Logistic Regression', 'Decision Trees or Random Forests;Manufacturing/Fabrication;1000-9', '999 employees;1-2;We are exploring ML methods (and may one day put a model into production);NULL', 'Build and/or run the data infrastructure that my business uses for storing', 'analyzing', 'and operationalizing data;60', '000-69', '999;$0 ($USD);;;;;Advanced statistical software (SPSS', 'SAS', 'etc.)']]\n"
     ]
    },
    {
     "data": {
      "text/plain": [
       "\"lista_junta.append(lista_final)\\nlista_final_junta =','.join(lista_final)\\nprint (lista_junta)\\nprint(lista_final)\\n    for i in separado:\\n       strip = i.strip()\\n       lista_final.append(strip)\\n    \\nlista_final =','.join(lista_final)\\nprint (lista_final)\""
      ]
     },
     "execution_count": 133,
     "metadata": {},
     "output_type": "execute_result"
    }
   ],
   "source": [
    "lista_final = []\n",
    "lista_separado = []\n",
    "lista_junta = []\n",
    "n = 0\n",
    "for lista in lista_espacios[1:5]:\n",
    "    separado = lista.split(',')\n",
    "    lista_separado.append (separado) #Lista separado es una lista de listas con cada string separado por comas\n",
    "\n",
    "for elemento in lista_separado[n]:\n",
    "    strip = elemento.strip()\n",
    "    lista_final.append(strip)\n",
    "lista_junta.append(lista_final)\n",
    "n+=1\n",
    "    \n",
    "print (lista_junta)\n",
    "\n",
    "'''lista_junta.append(lista_final)\n",
    "lista_final_junta =','.join(lista_final)\n",
    "print (lista_junta)\n",
    "print(lista_final)\n",
    "    for i in separado:\n",
    "       strip = i.strip()\n",
    "       lista_final.append(strip)\n",
    "    \n",
    "lista_final =','.join(lista_final)\n",
    "print (lista_final)'''"
   ]
  },
  {
   "cell_type": "code",
   "execution_count": null,
   "metadata": {},
   "outputs": [],
   "source": [
    "## Con esta conseguimos quitar los espacios pero deshacemos las listas\n",
    "lista_final = []\n",
    "for lista in lista_espacios[1:5]:\n",
    "    separado = lista.split(',')\n",
    "    for i in separado:\n",
    "       strip = i.strip()\n",
    "       lista_final.append(strip)\n",
    "    \n",
    "lista_final =','.join(lista_final)\n",
    "print (lista_final)"
   ]
  },
  {
   "cell_type": "code",
   "execution_count": 1,
   "metadata": {},
   "outputs": [],
   "source": [
    "#limpieza_txt(file_source)"
   ]
  },
  {
   "cell_type": "code",
   "execution_count": 18,
   "metadata": {},
   "outputs": [
    {
     "name": "stdout",
     "output_type": "stream",
     "text": [
      "['4;India;Doctoral degree;Other;under 1 years;Python, C, MATLAB;Python;NULL,   Spyder  ,  MATLAB ,  Jupyter Notebook;A cloud computing platform (AWS, Azure, GCP, hosted notebooks, etc);NULL, None;Never; Matplotlib ,  Seaborn ,  Ggplot / ggplot2 ;10-20 years;  Scikit-learn ,  PyTorch ,  LightGBM ;Linear or Logistic Regression, Decision Trees or Random Forests, Gradient Boosting Machines (xgboost, lightgbm, etc), Bayesian Approaches, Evolutionary Approaches;Academics/Education;50-249 employees;5-9;We use ML methods for generating insights (but do not put working models into production);Analyze and understand data to influence product or business decisions, Build prototypes to explore applying machine learning to new areas;30,000-39,999;$1000-$9,999;NULL, None;;NULL, Microsoft Power BI;;Local development environments (RStudio, JupyterLab, etc.)', '5;India;I prefer not to answer;Currently not employed;under 1 years;Python;Python;Jupyter (JupyterLab, Jupyter Notebooks, etc) ,  PyCharm ,   Spyder  ,  Jupyter Notebook;A laptop;NULL,  Google Cloud TPUs ;2-5 times; Matplotlib ,  Seaborn ,  Ggplot / ggplot2 ;Under 1 year;  Scikit-learn ,   TensorFlow ,  Keras ,  PyTorch ,  Fast.ai ;Linear or Logistic Regression, Decision Trees or Random Forests;;;;;;;;;;;;Local development environments (RStudio, JupyterLab, etc.)', '6;India;Some college/university study without earning a bachelor’s degree;Student;1-3 years;NULL, C++, Java, Javascript;Python;NULL,  Visual Studio ,  Visual Studio Code (VSCode) ,  Jupyter Notebook;A laptop;NULL, None;Never;NULL,  Geoplotlib ;Under 1 year;NULL,  Fast.ai ;;;;;;;;;;;;;', '7;India;Bachelor’s degree;Data Scientist;5-10 years;Python;Python;NULL,  Jupyter Notebook;A personal computer / desktop;NULL,  Google Cloud TPUs ;2-5 times; Matplotlib ,  Plotly / Plotly Express ;2-3 years;  Scikit-learn ,   TensorFlow ,  Keras ;NULL, Decision Trees or Random Forests, Dense Neural Networks (MLPs, etc), Convolutional Neural Networks, Generative Adversarial Networks;Computers/Technology;10,000 or more employees;3-4;We have well established ML methods (i.e., models in production for more than 2 years);NULL, Build and/or run the data infrastructure that my business uses for storing, analyzing, and operationalizing data, Build prototypes to explore applying machine learning to new areas;15,000-19,999;$1-$99;MySQL ;;NULL, None;;Basic statistical software (Microsoft Excel, Google Sheets, etc.)']\n"
     ]
    }
   ],
   "source": [
    "# comprobamos si funciona\n",
    "print(txt_limpio[4:8])"
   ]
  },
  {
   "cell_type": "code",
   "execution_count": 10,
   "metadata": {},
   "outputs": [
    {
     "data": {
      "text/plain": [
       "\" sublista = []\\ni = 0 \\nseparado = lista[1].split(',')\\n\\nfor s in separado:\\n    subelemento = separado[i].strip()\\n    sublista.append(subelemento)\\n    i+=1\\n\\nsublista = ','.join(sublista)\\n\\nsublista \""
      ]
     },
     "execution_count": 10,
     "metadata": {},
     "output_type": "execute_result"
    }
   ],
   "source": [
    "#DE MOMENTO NO PROFUNDIZAMOS EN EL BONUS DE ELIMINAR ALGUNOS ESPACIOS EXTRA\n",
    "#Como el .strip() solo elimina espacios al comienzo y al final probamos con el indice 1 de nuestra lista a separar cada strip por las comas y eliminar los espacios al inicio\n",
    "# y final de cada strip y luego volverlo a unir en la variable sublista de nuevo\n",
    "\n",
    "''' sublista = []\n",
    "i = 0 \n",
    "separado = lista[1].split(',')\n",
    "\n",
    "for s in separado:\n",
    "    subelemento = separado[i].strip()\n",
    "    sublista.append(subelemento)\n",
    "    i+=1\n",
    "\n",
    "sublista = ','.join(sublista)\n",
    "\n",
    "sublista '''"
   ]
  },
  {
   "cell_type": "code",
   "execution_count": 3,
   "metadata": {},
   "outputs": [
    {
     "data": {
      "text/plain": [
       "'1;Indonesia;Master’s degree;Program/Project Manager;20+ years;null, SQL, C, C++, Java;Python;null,   Notepad++  ,  Jupyter Notebook;A cloud computing platform (AWS, Azure, GCP, hosted notebooks, etc);null, None;Never; Matplotlib ;Under 1 year;  Scikit-learn ;Linear or Logistic Regression, Decision Trees or Random Forests;Manufacturing/Fabrication;1000-9,999 employees;1-2;We are exploring ML methods (and may one day put a model into production);null, Build and/or run the data infrastructure that my business uses for storing, analyzing, and operationalizing data;60,000-69,999;$0 ($USD);;;;;Advanced statistical software (SPSS, SAS, etc.)\\n'"
      ]
     },
     "execution_count": 3,
     "metadata": {},
     "output_type": "execute_result"
    }
   ],
   "source": [
    "file_source[1]"
   ]
  },
  {
   "cell_type": "code",
   "execution_count": 26,
   "metadata": {},
   "outputs": [],
   "source": [
    "file = file_source[1]"
   ]
  },
  {
   "cell_type": "code",
   "execution_count": 27,
   "metadata": {},
   "outputs": [
    {
     "data": {
      "text/plain": [
       "['1;Indonesia;Master’s degree;Program/Project Manager;20+ years;null',\n",
       " ' SQL',\n",
       " ' C',\n",
       " ' C++',\n",
       " ' Java;Python;null',\n",
       " '   Notepad++  ',\n",
       " '  Jupyter Notebook;A cloud computing platform (AWS',\n",
       " ' Azure',\n",
       " ' GCP',\n",
       " ' hosted notebooks',\n",
       " ' etc);null',\n",
       " ' None;Never; Matplotlib ;Under 1 year;  Scikit-learn ;Linear or Logistic Regression',\n",
       " ' Decision Trees or Random Forests;Manufacturing/Fabrication;1000-9',\n",
       " '999 employees;1-2;We are exploring ML methods (and may one day put a model into production);null',\n",
       " ' Build and/or run the data infrastructure that my business uses for storing',\n",
       " ' analyzing',\n",
       " ' and operationalizing data;60',\n",
       " '000-69',\n",
       " '999;$0 ($USD);;;;;Advanced statistical software (SPSS',\n",
       " ' SAS',\n",
       " ' etc.)\\n']"
      ]
     },
     "execution_count": 27,
     "metadata": {},
     "output_type": "execute_result"
    }
   ],
   "source": [
    "file = file.split(',')\n",
    "file"
   ]
  },
  {
   "cell_type": "code",
   "execution_count": 28,
   "metadata": {},
   "outputs": [],
   "source": [
    "file = file.split(',')\n",
    "file_strip = []\n",
    "for i in file:\n",
    "    strip = i.strip()\n",
    "    file_strip.append(strip)\n",
    "\n",
    "file_strip = ','.join(file_strip)"
   ]
  },
  {
   "cell_type": "code",
   "execution_count": 30,
   "metadata": {},
   "outputs": [],
   "source": []
  },
  {
   "cell_type": "code",
   "execution_count": 31,
   "metadata": {},
   "outputs": [
    {
     "data": {
      "text/plain": [
       "'1;Indonesia;Master’s degree;Program/Project Manager;20+ years;null,SQL,C,C++,Java;Python;null,Notepad++,Jupyter Notebook;A cloud computing platform (AWS,Azure,GCP,hosted notebooks,etc);null,None;Never; Matplotlib ;Under 1 year;  Scikit-learn ;Linear or Logistic Regression,Decision Trees or Random Forests;Manufacturing/Fabrication;1000-9,999 employees;1-2;We are exploring ML methods (and may one day put a model into production);null,Build and/or run the data infrastructure that my business uses for storing,analyzing,and operationalizing data;60,000-69,999;$0 ($USD);;;;;Advanced statistical software (SPSS,SAS,etc.)'"
      ]
     },
     "execution_count": 31,
     "metadata": {},
     "output_type": "execute_result"
    }
   ],
   "source": [
    "file_strip"
   ]
  },
  {
   "cell_type": "code",
   "execution_count": 9,
   "metadata": {},
   "outputs": [
    {
     "data": {
      "text/plain": [
       "['1;Indonesia;Master’s degree;Program/Project Manager;20+ years;null',\n",
       " ' SQL',\n",
       " ' C',\n",
       " ' C++',\n",
       " ' Java;Python;null',\n",
       " '   Notepad++  ',\n",
       " '  Jupyter Notebook;A cloud computing platform (AWS',\n",
       " ' Azure',\n",
       " ' GCP',\n",
       " ' hosted notebooks',\n",
       " ' etc);null',\n",
       " ' None;Never; Matplotlib ;Under 1 year;  Scikit-learn ;Linear or Logistic Regression',\n",
       " ' Decision Trees or Random Forests;Manufacturing/Fabrication;1000-9',\n",
       " '999 employees;1-2;We are exploring ML methods (and may one day put a model into production);null',\n",
       " ' Build and/or run the data infrastructure that my business uses for storing',\n",
       " ' analyzing',\n",
       " ' and operationalizing data;60',\n",
       " '000-69',\n",
       " '999;$0 ($USD);;;;;Advanced statistical software (SPSS',\n",
       " ' SAS',\n",
       " ' etc.)\\n']"
      ]
     },
     "execution_count": 9,
     "metadata": {},
     "output_type": "execute_result"
    }
   ],
   "source": [
    "file"
   ]
  },
  {
   "cell_type": "code",
   "execution_count": 11,
   "metadata": {},
   "outputs": [
    {
     "data": {
      "text/plain": [
       "\"lista = []\\nfor file in file_source[1:]:\\n    elemento = file.strip().split(',')\\n    lista.append(elemento)\""
      ]
     },
     "execution_count": 11,
     "metadata": {},
     "output_type": "execute_result"
    }
   ],
   "source": [
    "'''lista = []\n",
    "for file in file_source[1:]:\n",
    "    elemento = file.strip().split(',')\n",
    "    lista.append(elemento)'''"
   ]
  },
  {
   "cell_type": "code",
   "execution_count": 12,
   "metadata": {},
   "outputs": [
    {
     "data": {
      "text/plain": [
       "'lista[0]'"
      ]
     },
     "execution_count": 12,
     "metadata": {},
     "output_type": "execute_result"
    }
   ],
   "source": [
    "'''lista[0]'''"
   ]
  },
  {
   "cell_type": "code",
   "execution_count": 13,
   "metadata": {},
   "outputs": [
    {
     "data": {
      "text/plain": [
       "'for subfile in lista:\\n    for palabra in subfile:\\n        print(palabra)\\n        palabra = palabra.strip()\\n        break\\n        subelemento = su '"
      ]
     },
     "execution_count": 13,
     "metadata": {},
     "output_type": "execute_result"
    }
   ],
   "source": [
    "#DE MOMENTO NO SEGUIMOS CON EL BONUS, AQUÍ YA ESTARÍAMOS DENTRO DE LA LISTA DE LISTAS PARA PODER QUITAR LOS ESPACIOS EXTRAS\n",
    "'''for subfile in lista:\n",
    "    for palabra in subfile:\n",
    "        print(palabra)\n",
    "        palabra = palabra.strip()\n",
    "        break\n",
    "        subelemento = su '''"
   ]
  },
  {
   "cell_type": "code",
   "execution_count": 14,
   "metadata": {},
   "outputs": [
    {
     "data": {
      "text/plain": [
       "\"lista = []\\nsublista = []\\ni = 0\\ne = 0\\n\\nfor file in file_source[1:]:\\n    elemento = file.strip().split(',')\\n    lista.append(elemento)\\n    i+=1\\n    for subfile in lista:\\n        print(subfile)\\n        print(len(subfile))\\n        for palabra in subfile:\\n            print(palabra)\\n            break\\n        #subelemento = subfile.strip()\\n        #sublista.append(subelemento)\\n        #e+=1\\n\\nsublista = ','.join(sublista)\""
      ]
     },
     "execution_count": 14,
     "metadata": {},
     "output_type": "execute_result"
    }
   ],
   "source": [
    "# Intenamos unir ambos for loops y directamente hacer la separación por comas en el primero y hacer un for loop anidado para quitar los espacios por elementos dentro de lista\n",
    "'''lista = []\n",
    "sublista = []\n",
    "i = 0\n",
    "e = 0\n",
    "\n",
    "for file in file_source[1:]:\n",
    "    elemento = file.strip().split(',')\n",
    "    lista.append(elemento)\n",
    "    i+=1\n",
    "    for subfile in lista:\n",
    "        print(subfile)\n",
    "        print(len(subfile))\n",
    "        for palabra in subfile:\n",
    "            print(palabra)\n",
    "            break\n",
    "        #subelemento = subfile.strip()\n",
    "        #sublista.append(subelemento)\n",
    "        #e+=1\n",
    "\n",
    "sublista = ','.join(sublista)'''"
   ]
  }
 ],
 "metadata": {
  "kernelspec": {
   "display_name": "Python 3.9.13 ('base')",
   "language": "python",
   "name": "python3"
  },
  "language_info": {
   "codemirror_mode": {
    "name": "ipython",
    "version": 3
   },
   "file_extension": ".py",
   "mimetype": "text/x-python",
   "name": "python",
   "nbconvert_exporter": "python",
   "pygments_lexer": "ipython3",
   "version": "3.9.13"
  },
  "orig_nbformat": 4,
  "vscode": {
   "interpreter": {
    "hash": "85c042135e83639dad74b6ec6c9d943b5dc47ca281624d931a3e14168052f53c"
   }
  }
 },
 "nbformat": 4,
 "nbformat_minor": 2
}

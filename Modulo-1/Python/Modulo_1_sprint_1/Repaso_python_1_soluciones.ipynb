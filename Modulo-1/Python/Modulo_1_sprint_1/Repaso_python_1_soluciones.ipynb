{
 "cells": [
  {
   "cell_type": "markdown",
   "metadata": {},
   "source": [
    "# Métodos de *strings* "
   ]
  },
  {
   "cell_type": "markdown",
   "metadata": {},
   "source": [
    "Dado el siguiente *string* \n",
    "\n",
    "```python\n",
    "\n",
    "string = \"\"\"Hoy estamos en una clase de repaso,\n",
    "el objetivo es intentar solucionar todas vuestras dudas, \n",
    "preguntad todo lo que queráis! \n",
    "\"\"\"\n",
    "```\n",
    "\n",
    "\n",
    "Contesta a las siguientes preguntas: "
   ]
  },
  {
   "cell_type": "markdown",
   "metadata": {},
   "source": [
    "1️⃣ Crea dos variables nuevas: \n",
    "    - Una con el *string* en mayúsculas\n",
    "    - Otra con las letras en minúsculas\n",
    "\n",
    "2️⃣ Pon todas las primeras letras del *string* en mayúscula\n",
    "\n",
    "3️⃣ Separa el *string*  por los espacios y almacena el resultado en una lista llamanda `texto_lista`\n",
    "\n",
    "4️⃣ De la lista obtenida en el ejercicio anterior, selecciona solo los 5 primero elementos y almacena los resultados en una variable que se llame `texto_lista_corta` \n",
    "\n",
    "5️⃣ De la lista obtenida en el ejercicio 5. Vuelve a convertirlo en *string* \n",
    "\n",
    "6️⃣ Con el *string* obtenido en el paso anterior: \n",
    "\n",
    "    - Esta la palabra \"el\" en el *string* \n",
    "\n",
    "    - Reemplaza \"Hoy\" por nada\n",
    "\n",
    "    - El ejercicio anterior nos ha dejado espacios al inicio del string, eliminalos\n",
    "\n"
   ]
  },
  {
   "cell_type": "code",
   "execution_count": 2,
   "metadata": {},
   "outputs": [],
   "source": [
    "string = \"\"\"Hoy estamos en una clase de repaso,\n",
    "el objetivo es intentar solucionar todas vuestras dudas, \n",
    "preguntad todo lo que queráis! \n",
    "\"\"\""
   ]
  },
  {
   "cell_type": "code",
   "execution_count": 4,
   "metadata": {},
   "outputs": [
    {
     "data": {
      "text/plain": [
       "'HOY ESTAMOS EN UNA CLASE DE REPASO,\\nEL OBJETIVO ES INTENTAR SOLUCIONAR TODAS VUESTRAS DUDAS, \\nPREGUNTAD TODO LO QUE QUERÁIS! \\n'"
      ]
     },
     "execution_count": 4,
     "metadata": {},
     "output_type": "execute_result"
    }
   ],
   "source": [
    "# 1️⃣ Convierte el *string* a mayúsculas y minúsculas\n",
    "\n",
    "string_mayuscula = string.upper()\n",
    "string_mayuscula"
   ]
  },
  {
   "cell_type": "code",
   "execution_count": 5,
   "metadata": {},
   "outputs": [
    {
     "data": {
      "text/plain": [
       "'hoy estamos en una clase de repaso,\\nel objetivo es intentar solucionar todas vuestras dudas, \\npreguntad todo lo que queráis! \\n'"
      ]
     },
     "execution_count": 5,
     "metadata": {},
     "output_type": "execute_result"
    }
   ],
   "source": [
    "string_minuscula = string.lower()\n",
    "string_minuscula"
   ]
  },
  {
   "cell_type": "code",
   "execution_count": 151,
   "metadata": {},
   "outputs": [
    {
     "data": {
      "text/plain": [
       "'Hoy Estamos En Una Clase De Repaso,\\nEl Objetivo Es Intentar Solucionar Todas Vuestras Dudas, \\nPreguntad Todo Lo Que Queráis! \\n'"
      ]
     },
     "execution_count": 151,
     "metadata": {},
     "output_type": "execute_result"
    }
   ],
   "source": [
    "# 2️⃣ Pon todas las primeras letras del *string* en mayúscula\n",
    "\n",
    "string.title()"
   ]
  },
  {
   "cell_type": "code",
   "execution_count": 8,
   "metadata": {},
   "outputs": [
    {
     "name": "stdout",
     "output_type": "stream",
     "text": [
      "['Hoy', 'estamos', 'en', 'una', 'clase', 'de', 'repaso,', 'el', 'objetivo', 'es', 'intentar', 'solucionar', 'todas', 'vuestras', 'dudas,', 'preguntad', 'todo', 'lo', 'que', 'queráis!']\n"
     ]
    }
   ],
   "source": [
    "# 3️⃣ Separa el *string*  por los espacios\n",
    "\n",
    "texto_lista = string.split()\n",
    "print(texto_lista)"
   ]
  },
  {
   "cell_type": "code",
   "execution_count": 9,
   "metadata": {},
   "outputs": [
    {
     "data": {
      "text/plain": [
       "['Hoy', 'estamos', 'en', 'una', 'clase']"
      ]
     },
     "execution_count": 9,
     "metadata": {},
     "output_type": "execute_result"
    }
   ],
   "source": [
    "# 4️⃣ De la lista obtenida en el ejercicio anterior, selecciona solo los 5 primero elementos. \n",
    "\n",
    "\n",
    "texto_lista_corta = texto_lista[:5]\n",
    "texto_lista_corta\n"
   ]
  },
  {
   "cell_type": "code",
   "execution_count": 10,
   "metadata": {},
   "outputs": [
    {
     "data": {
      "text/plain": [
       "'Hoy estamos en una clase'"
      ]
     },
     "execution_count": 10,
     "metadata": {},
     "output_type": "execute_result"
    }
   ],
   "source": [
    "# 5️⃣ De la lista obtenida en el ejercicio 5. Vuelve a convertirlo en *string* \n",
    "\n",
    "string_corto = \" \".join(texto_lista_corta)\n",
    "string_corto"
   ]
  },
  {
   "cell_type": "code",
   "execution_count": 11,
   "metadata": {},
   "outputs": [
    {
     "data": {
      "text/plain": [
       "-1"
      ]
     },
     "execution_count": 11,
     "metadata": {},
     "output_type": "execute_result"
    }
   ],
   "source": [
    "#6️⃣ Con el *string* obtenido en el paso anterior: \n",
    "\n",
    "# Esta la palabra \"el\" en el *string* \n",
    "\n",
    "string_corto.find(\"el\")"
   ]
  },
  {
   "cell_type": "code",
   "execution_count": 14,
   "metadata": {},
   "outputs": [
    {
     "data": {
      "text/plain": [
       "' estamos en una clase'"
      ]
     },
     "execution_count": 14,
     "metadata": {},
     "output_type": "execute_result"
    }
   ],
   "source": [
    "#6️⃣ Con el *string* obtenido en el paso anterior: \n",
    "\n",
    "# Reemplaza \"Hoy\" por nada\n",
    "\n",
    "string_corto = string_corto.replace(\"Hoy\", \"\") \n",
    "string_corto\n"
   ]
  },
  {
   "cell_type": "code",
   "execution_count": 17,
   "metadata": {},
   "outputs": [
    {
     "data": {
      "text/plain": [
       "'estamos en una clase'"
      ]
     },
     "execution_count": 17,
     "metadata": {},
     "output_type": "execute_result"
    }
   ],
   "source": [
    "#6️⃣ Con el *string* obtenido en el paso anterior: \n",
    "\n",
    "# El ejercicio anterior nos ha dejado espacios al inicio del string, eliminalos\n",
    "\n",
    "string_corto = string_corto.strip()\n",
    "string_corto"
   ]
  },
  {
   "cell_type": "markdown",
   "metadata": {},
   "source": [
    "# Listas"
   ]
  },
  {
   "cell_type": "markdown",
   "metadata": {},
   "source": [
    "1️⃣ Definid dos listas de 8 elementos con números aleatorios del 1-20 que se llamen `lista1` y `lista2` \n",
    "\n",
    "2️⃣ Ordena la lista1 de menor a mayor, sobreescribiendo la lista\n",
    "\n",
    "3️⃣ Ordena la lista2 de mayor a menor, sobreescribiendo la lista\n",
    "\n",
    "4️⃣ Elimina el último elemento de la lista1\n",
    "\n",
    "5️⃣ Elimina el tercer elemento de la lista2\n",
    "\n",
    "6️⃣ Une las dos listas anteriores, obteniendo una lista de listas (llamadla lista_completa1). Sin sobreescibir ninguna de las listas\n",
    "\n",
    "7️⃣ Une las dos listas anteriores, obteniendo una lista de números (llamadla lista_completa2). Sin sobreescibir ninguna de las listas\n",
    "\n",
    "\n",
    "8️⃣ Cread dos listas nuevas con los números que queráis. Une las dos listas anteriores, obteniendo una lista de listas. EL resultado debe ser una lista de listas\n",
    "\n",
    "9️⃣ Cread dos listas nuevas con los números que queráis. Une las dos listas anteriores, obteniendo una lista con numeros.\n",
    "\n",
    "1️⃣0️⃣ Dada la siguiente lista: \n",
    "\n",
    "```python\n",
    "\n",
    "informacion = [\"Adalab\", [3,4,5,89,12,55,67,19] , \"comida\", {\"saludo\": \"buenos dias\", \"dias\": 4, \"gente\": [\"Laura\", \"Lorena\"]}, 345, [\"Almudena\", \"Lorena\", \"Maria\", \"Monica\", \"Sonia\"]]\n",
    "```\n",
    "\n",
    "\n",
    "- Accede al saludo del diccionario\n",
    "\n",
    "- Accede a todos los elementos que no sean diccionarios o listas\n",
    "\n",
    "- Accede a todos los elementos que  sean diccionarios o listas\n",
    "\n",
    "- Basándose en el resultado del ejercicio anterior, extrae el valor de \"Maria\"\n",
    "\n",
    "- Cual es el índice de \"Laura\" dentro del diccionario\n",
    "\n",
    "\n",
    "1️⃣1️⃣ Usando la lista anterior, añade el siguiente diccionario en primera posición. \n",
    "\n",
    "```python\n",
    "nuevo_diccionario = {\"comida\": [\"brocoli\", \"chorizo\"], \"precios\" :[1.35, 23]}\n",
    "```\n",
    "\n",
    "\n",
    "1️⃣2️⃣ Ordena la siguiente lista sin sobreescribirla\n",
    "\n",
    "```python\n",
    "lista_numeros = [3,6,23,9,2,77,14]\n",
    "```"
   ]
  },
  {
   "cell_type": "code",
   "execution_count": 93,
   "metadata": {},
   "outputs": [],
   "source": [
    "import random "
   ]
  },
  {
   "cell_type": "code",
   "execution_count": 137,
   "metadata": {},
   "outputs": [],
   "source": [
    "# 1️⃣ Definid dos listas de 8 elementos con números aleatorios del 1-20\n",
    "lista1 = random.sample(range(1, 20), 8)\n",
    "lista2 = random.sample(range(1,20), 8)\n",
    "\n"
   ]
  },
  {
   "cell_type": "code",
   "execution_count": 138,
   "metadata": {},
   "outputs": [
    {
     "data": {
      "text/plain": [
       "[10, 3, 14, 18, 11, 1, 4, 17]"
      ]
     },
     "execution_count": 138,
     "metadata": {},
     "output_type": "execute_result"
    }
   ],
   "source": [
    "lista1"
   ]
  },
  {
   "cell_type": "code",
   "execution_count": 139,
   "metadata": {},
   "outputs": [
    {
     "data": {
      "text/plain": [
       "[4, 5, 3, 18, 7, 11, 16, 1]"
      ]
     },
     "execution_count": 139,
     "metadata": {},
     "output_type": "execute_result"
    }
   ],
   "source": [
    "lista2"
   ]
  },
  {
   "cell_type": "code",
   "execution_count": 140,
   "metadata": {},
   "outputs": [
    {
     "data": {
      "text/plain": [
       "[1, 3, 4, 10, 11, 14, 17, 18]"
      ]
     },
     "execution_count": 140,
     "metadata": {},
     "output_type": "execute_result"
    }
   ],
   "source": [
    "# 2️⃣ Ordena la lista1 de menor a mayor\n",
    "lista1.sort()\n",
    "lista1"
   ]
  },
  {
   "cell_type": "code",
   "execution_count": 141,
   "metadata": {},
   "outputs": [
    {
     "data": {
      "text/plain": [
       "[18, 16, 11, 7, 5, 4, 3, 1]"
      ]
     },
     "execution_count": 141,
     "metadata": {},
     "output_type": "execute_result"
    }
   ],
   "source": [
    "# 3️⃣ Ordena la lista2 de mayor a menor\n",
    "\n",
    "lista2.sort(reverse = True)\n",
    "lista2"
   ]
  },
  {
   "cell_type": "code",
   "execution_count": 142,
   "metadata": {},
   "outputs": [
    {
     "data": {
      "text/plain": [
       "18"
      ]
     },
     "execution_count": 142,
     "metadata": {},
     "output_type": "execute_result"
    }
   ],
   "source": [
    "# 4️⃣ Elimina el último elemento de la lista1\n",
    "lista1.pop()"
   ]
  },
  {
   "cell_type": "code",
   "execution_count": 143,
   "metadata": {},
   "outputs": [
    {
     "data": {
      "text/plain": [
       "[1, 3, 4, 10, 11, 14, 17]"
      ]
     },
     "execution_count": 143,
     "metadata": {},
     "output_type": "execute_result"
    }
   ],
   "source": [
    "lista1"
   ]
  },
  {
   "cell_type": "code",
   "execution_count": 144,
   "metadata": {},
   "outputs": [
    {
     "data": {
      "text/plain": [
       "[18, 16, 11, 7, 5, 4, 3, 1]"
      ]
     },
     "execution_count": 144,
     "metadata": {},
     "output_type": "execute_result"
    }
   ],
   "source": [
    "# 5️⃣ Elimina el tercer elemento de la lista2\n",
    "lista2"
   ]
  },
  {
   "cell_type": "code",
   "execution_count": 145,
   "metadata": {},
   "outputs": [
    {
     "data": {
      "text/plain": [
       "11"
      ]
     },
     "execution_count": 145,
     "metadata": {},
     "output_type": "execute_result"
    }
   ],
   "source": [
    "lista2.pop(2)"
   ]
  },
  {
   "cell_type": "code",
   "execution_count": 146,
   "metadata": {},
   "outputs": [
    {
     "data": {
      "text/plain": [
       "[[1, 3, 4, 10, 11, 14, 17], [18, 16, 7, 5, 4, 3, 1]]"
      ]
     },
     "execution_count": 146,
     "metadata": {},
     "output_type": "execute_result"
    }
   ],
   "source": [
    "# 6️⃣ Une las dos listas anteriores, obteniendo una lista de listas (llamadla lista_completa1)\n",
    "\n",
    "lista_completa1 = [lista1, lista2]\n",
    "lista_completa1\n"
   ]
  },
  {
   "cell_type": "code",
   "execution_count": 148,
   "metadata": {},
   "outputs": [],
   "source": [
    "lista1.append(lista2)\n"
   ]
  },
  {
   "cell_type": "code",
   "execution_count": 149,
   "metadata": {},
   "outputs": [
    {
     "name": "stdout",
     "output_type": "stream",
     "text": [
      "[1, 3, 4, 10, 11, 14, 17, 1, [18, 16, 7, 5, 4, 3, 1]]\n"
     ]
    }
   ],
   "source": [
    "print(lista1)"
   ]
  },
  {
   "cell_type": "code",
   "execution_count": 134,
   "metadata": {},
   "outputs": [
    {
     "data": {
      "text/plain": [
       "[1,\n",
       " 2,\n",
       " 4,\n",
       " 8,\n",
       " 11,\n",
       " 14,\n",
       " 16,\n",
       " 1,\n",
       " [18, 16, 13, 12, 11, 10, 1],\n",
       " 18,\n",
       " 16,\n",
       " 13,\n",
       " 12,\n",
       " 11,\n",
       " 10,\n",
       " 1]"
      ]
     },
     "execution_count": 134,
     "metadata": {},
     "output_type": "execute_result"
    }
   ],
   "source": [
    "# 7️⃣ Une las dos listas anteriores, obteniendo una lista de números (llamadla lista_completa2)\n",
    "\n",
    "lista_completa2 = lista1 + lista2\n",
    "lista_completa2"
   ]
  },
  {
   "cell_type": "code",
   "execution_count": 156,
   "metadata": {},
   "outputs": [],
   "source": [
    "# 8️⃣ Cread dos listas nuevas con los números que queráis. Une las dos listas anteriores, obteniendo una lista de listas. EL resultado debe ser una lista de listas\n",
    "\n",
    "numeros1 = [23,45,67,98]\n",
    "numeros2 = [23,55,67,12]"
   ]
  },
  {
   "cell_type": "code",
   "execution_count": 160,
   "metadata": {},
   "outputs": [],
   "source": [
    "numeros1.append(numeros2)"
   ]
  },
  {
   "cell_type": "code",
   "execution_count": 159,
   "metadata": {},
   "outputs": [
    {
     "data": {
      "text/plain": [
       "[23, 45, 67, 98, [23, 55, 67, 12]]"
      ]
     },
     "execution_count": 159,
     "metadata": {},
     "output_type": "execute_result"
    }
   ],
   "source": [
    "numeros1"
   ]
  },
  {
   "cell_type": "code",
   "execution_count": 161,
   "metadata": {},
   "outputs": [],
   "source": [
    "# 9️⃣ Cread dos listas nuevas con los números que queráis. Une las dos listas anteriores, obteniendo una lista con numeros.\n",
    "numeros3 = [34,56,78,23]\n",
    "numeros4 = [22, 73, 90, 19]"
   ]
  },
  {
   "cell_type": "code",
   "execution_count": 162,
   "metadata": {},
   "outputs": [],
   "source": [
    "numeros3.extend(numeros4)"
   ]
  },
  {
   "cell_type": "code",
   "execution_count": 163,
   "metadata": {},
   "outputs": [
    {
     "data": {
      "text/plain": [
       "[34, 56, 78, 23, 22, 73, 90, 19]"
      ]
     },
     "execution_count": 163,
     "metadata": {},
     "output_type": "execute_result"
    }
   ],
   "source": [
    "numeros3"
   ]
  },
  {
   "cell_type": "code",
   "execution_count": 170,
   "metadata": {},
   "outputs": [],
   "source": [
    "# 1️⃣0️⃣ dada la siguiente lista\n",
    "\n",
    "\n",
    "informacion = [\"Adalab\", [3,4,5,89,12,55,67,19] , \"comida\", {\"saludo\": \"buenos dias\", \"dias\": 4, \"gente\": [\"Laura\", \"Lorena\"]}, 345, [\"Almudena\", \"Lorena\", \"Maria\", \"Monica\", \"Sonia\"]]"
   ]
  },
  {
   "cell_type": "code",
   "execution_count": 167,
   "metadata": {},
   "outputs": [
    {
     "data": {
      "text/plain": [
       "'buenos dias'"
      ]
     },
     "execution_count": 167,
     "metadata": {},
     "output_type": "execute_result"
    }
   ],
   "source": [
    "# accede al saludo del diccionario\n",
    "\n",
    "informacion[2][\"saludo\"]"
   ]
  },
  {
   "cell_type": "code",
   "execution_count": 172,
   "metadata": {},
   "outputs": [
    {
     "data": {
      "text/plain": [
       "['Adalab', 'comida', 345]"
      ]
     },
     "execution_count": 172,
     "metadata": {},
     "output_type": "execute_result"
    }
   ],
   "source": [
    "# accede a todos los elementos que no sean diccionarios o listas\n",
    "\n",
    "informacion[::2]"
   ]
  },
  {
   "cell_type": "code",
   "execution_count": 173,
   "metadata": {},
   "outputs": [
    {
     "data": {
      "text/plain": [
       "[[3, 4, 5, 89, 12, 55, 67, 19],\n",
       " {'saludo': 'buenos dias', 'dias': 4, 'gente': ['Laura', 'Lorena']},\n",
       " ['Almudena', 'Lorena', 'Maria', 'Monica', 'Sonia']]"
      ]
     },
     "execution_count": 173,
     "metadata": {},
     "output_type": "execute_result"
    }
   ],
   "source": [
    "# accede a todos los elementos que  sean diccionarios o listas\n",
    "\n",
    "informacion[1::2]"
   ]
  },
  {
   "cell_type": "code",
   "execution_count": 175,
   "metadata": {},
   "outputs": [
    {
     "data": {
      "text/plain": [
       "'Maria'"
      ]
     },
     "execution_count": 175,
     "metadata": {},
     "output_type": "execute_result"
    }
   ],
   "source": [
    "# basandose en el resultado del ejercicio anterior, extrae el valor de \"Maria\"\n",
    "\n",
    "informacion[1::2][-1][2]\n"
   ]
  },
  {
   "cell_type": "code",
   "execution_count": 179,
   "metadata": {},
   "outputs": [
    {
     "data": {
      "text/plain": [
       "0"
      ]
     },
     "execution_count": 179,
     "metadata": {},
     "output_type": "execute_result"
    }
   ],
   "source": [
    "# cual es el índice de \"Laura\" dentro del diccionario\n",
    "\n",
    "informacion[3][\"gente\"].index(\"Laura\")"
   ]
  },
  {
   "cell_type": "code",
   "execution_count": 180,
   "metadata": {},
   "outputs": [],
   "source": [
    "# 1️⃣1️⃣ Usando la lista anterior, añade el siguiente diccionario en primera posición. \n",
    "nuevo_diccionario = {\"comida\": [\"brocoli\", \"chorizo\"], \"precios\" :[1.35, 23]}"
   ]
  },
  {
   "cell_type": "code",
   "execution_count": 181,
   "metadata": {},
   "outputs": [],
   "source": [
    "informacion.insert(0, nuevo_diccionario)"
   ]
  },
  {
   "cell_type": "code",
   "execution_count": 182,
   "metadata": {},
   "outputs": [
    {
     "data": {
      "text/plain": [
       "[{'comida': ['brocoli', 'chorizo'], 'precios': [1.35, 23]},\n",
       " 'Adalab',\n",
       " [3, 4, 5, 89, 12, 55, 67, 19],\n",
       " 'comida',\n",
       " {'saludo': 'buenos dias', 'dias': 4, 'gente': ['Laura', 'Lorena']},\n",
       " 345,\n",
       " ['Almudena', 'Lorena', 'Maria', 'Monica', 'Sonia']]"
      ]
     },
     "execution_count": 182,
     "metadata": {},
     "output_type": "execute_result"
    }
   ],
   "source": [
    "informacion"
   ]
  },
  {
   "cell_type": "code",
   "execution_count": 184,
   "metadata": {},
   "outputs": [],
   "source": [
    "# 1️⃣2️⃣ Ordena la lista \"informacion\" sin sobreescribirla\n",
    "\n",
    "lista_numeros = [3,6,23,9,2,77,14]"
   ]
  },
  {
   "cell_type": "code",
   "execution_count": 185,
   "metadata": {},
   "outputs": [
    {
     "data": {
      "text/plain": [
       "[2, 3, 6, 9, 14, 23, 77]"
      ]
     },
     "execution_count": 185,
     "metadata": {},
     "output_type": "execute_result"
    }
   ],
   "source": [
    "sorted(lista_numeros)"
   ]
  },
  {
   "cell_type": "code",
   "execution_count": 186,
   "metadata": {},
   "outputs": [
    {
     "data": {
      "text/plain": [
       "[3, 6, 23, 9, 2, 77, 14]"
      ]
     },
     "execution_count": 186,
     "metadata": {},
     "output_type": "execute_result"
    }
   ],
   "source": [
    "lista_numeros"
   ]
  },
  {
   "cell_type": "code",
   "execution_count": 187,
   "metadata": {},
   "outputs": [
    {
     "data": {
      "text/plain": [
       "[2, 3, 6, 9, 14, 23, 77]"
      ]
     },
     "execution_count": 187,
     "metadata": {},
     "output_type": "execute_result"
    }
   ],
   "source": [
    "lista_numeros_ordenada = sorted(lista_numeros)\n",
    "lista_numeros_ordenada"
   ]
  },
  {
   "cell_type": "markdown",
   "metadata": {},
   "source": [
    "# Diccionarios\n",
    "\n",
    "Dado el siguiente diccionario: \n",
    "\n",
    "```python\n",
    "diccionario = {'nombre' : 'Laura', \n",
    "                'edad' : 22, \n",
    "                'cursos': ['Python','Django','JavaScript'] }\n",
    "\n",
    "```\n",
    "\n",
    "Contestad a las siguientes preguntas: \n",
    "\n",
    "1️⃣ ¿Cuáles son las *keys* del diccionario?\n",
    "\n",
    "2️⃣ ¿Cuáles son los *values* del diccionario?\n",
    "\n",
    "3️⃣ ¿Cuáles son los tipos de los datos de los *values*?\n",
    "\n",
    "4️⃣ Actualiza el *value* de la *key* nombre por \"Amanda\"\n",
    "\n",
    "5️⃣ Añadid una *key* nueva al diccionario que se llame \"experiencia\" cuyo value sea 2\n",
    "\n",
    "6️⃣ Cambia los values de todas las keys para añadir a la siguiente persona\n",
    "\n",
    "```python\n",
    "nombre: \"Aroa\"\n",
    "edad : 33\n",
    "cursos: [\"Python\", \"SQL\", \"C++\"]\n",
    "```\n",
    "7️⃣ Buscad la *key* \"estudios\". En caso de que no este, creadla con el valor [\"Bachillerato\", \"Universitario\"]\n",
    "\n",
    "\n",
    "8️⃣ Eliminad la *key* cursos del diccionario\n",
    "\n",
    "9️⃣ Eliminad la última *key*  del diccionario\n"
   ]
  },
  {
   "cell_type": "code",
   "execution_count": 58,
   "metadata": {},
   "outputs": [],
   "source": [
    "diccionario = {'nombre' : 'Laura', \n",
    "                'edad' : 22, \n",
    "                'cursos': ['Python','Django','JavaScript'] }\n"
   ]
  },
  {
   "cell_type": "code",
   "execution_count": 59,
   "metadata": {},
   "outputs": [
    {
     "data": {
      "text/plain": [
       "dict_keys(['nombre', 'edad', 'cursos'])"
      ]
     },
     "execution_count": 59,
     "metadata": {},
     "output_type": "execute_result"
    }
   ],
   "source": [
    "# 1️⃣ ¿Cuáles son las *keys* del diccionario?\n",
    "\n",
    "diccionario.keys()"
   ]
  },
  {
   "cell_type": "code",
   "execution_count": 60,
   "metadata": {},
   "outputs": [
    {
     "data": {
      "text/plain": [
       "dict_values(['Laura', 22, ['Python', 'Django', 'JavaScript']])"
      ]
     },
     "execution_count": 60,
     "metadata": {},
     "output_type": "execute_result"
    }
   ],
   "source": [
    "# 2️⃣ ¿Cuáles son los *values* del diccionario?\n",
    "\n",
    "diccionario.values()"
   ]
  },
  {
   "cell_type": "code",
   "execution_count": 61,
   "metadata": {},
   "outputs": [],
   "source": [
    "# 3️⃣ Cuáles son los tipos de los datos de los *values*?"
   ]
  },
  {
   "cell_type": "code",
   "execution_count": 62,
   "metadata": {},
   "outputs": [
    {
     "data": {
      "text/plain": [
       "str"
      ]
     },
     "execution_count": 62,
     "metadata": {},
     "output_type": "execute_result"
    }
   ],
   "source": [
    "type(list(diccionario.values())[0])"
   ]
  },
  {
   "cell_type": "code",
   "execution_count": 63,
   "metadata": {},
   "outputs": [
    {
     "data": {
      "text/plain": [
       "int"
      ]
     },
     "execution_count": 63,
     "metadata": {},
     "output_type": "execute_result"
    }
   ],
   "source": [
    "type(list(diccionario.values())[1])\n"
   ]
  },
  {
   "cell_type": "code",
   "execution_count": 64,
   "metadata": {},
   "outputs": [
    {
     "data": {
      "text/plain": [
       "list"
      ]
     },
     "execution_count": 64,
     "metadata": {},
     "output_type": "execute_result"
    }
   ],
   "source": [
    "type(list(diccionario.values())[2])"
   ]
  },
  {
   "cell_type": "code",
   "execution_count": 65,
   "metadata": {},
   "outputs": [],
   "source": [
    "# 4️⃣ Actualiza el *value* de la *key* nombre por \"Amanda\"\n",
    "\n",
    "diccionario[\"nombre\"] = \"Amanda\"\n"
   ]
  },
  {
   "cell_type": "code",
   "execution_count": 66,
   "metadata": {},
   "outputs": [
    {
     "data": {
      "text/plain": [
       "{'nombre': 'Amanda', 'edad': 22, 'cursos': ['Python', 'Django', 'JavaScript']}"
      ]
     },
     "execution_count": 66,
     "metadata": {},
     "output_type": "execute_result"
    }
   ],
   "source": [
    "diccionario"
   ]
  },
  {
   "cell_type": "code",
   "execution_count": 67,
   "metadata": {},
   "outputs": [],
   "source": [
    "# 5️⃣ Añadid una *key* nueva al diccionario que se llame \"experiencia\" cuyo value sea 2\n",
    "\n",
    "diccionario.update({\"experiencia\": 2})"
   ]
  },
  {
   "cell_type": "code",
   "execution_count": 68,
   "metadata": {},
   "outputs": [
    {
     "data": {
      "text/plain": [
       "{'nombre': 'Amanda',\n",
       " 'edad': 22,\n",
       " 'cursos': ['Python', 'Django', 'JavaScript'],\n",
       " 'experiencia': 2}"
      ]
     },
     "execution_count": 68,
     "metadata": {},
     "output_type": "execute_result"
    }
   ],
   "source": [
    "diccionario"
   ]
  },
  {
   "cell_type": "code",
   "execution_count": 69,
   "metadata": {},
   "outputs": [
    {
     "data": {
      "text/plain": [
       "'\\nnombre: \"Aroa\"\\nedad : 33\\ncursos: [\"Python\", \"SQL\", \"C++\"]\\nexperiencia: 15\\n'"
      ]
     },
     "execution_count": 69,
     "metadata": {},
     "output_type": "execute_result"
    }
   ],
   "source": [
    "# 6️⃣ Cambia los values de todas las keys para añadir a la siguiente persona\n",
    "\n",
    "\"\"\"\n",
    "nombre: \"Aroa\"\n",
    "edad : 33\n",
    "cursos: [\"Python\", \"SQL\", \"C++\"]\n",
    "experiencia: 15\n",
    "\"\"\""
   ]
  },
  {
   "cell_type": "code",
   "execution_count": 70,
   "metadata": {},
   "outputs": [],
   "source": [
    "# lo primero que tenemos que hacer es modifciar el diccionario\n",
    "diccionario = {'nombre' : ['Laura'], \n",
    "                'edad' : [22], \n",
    "                'cursos': [['Python','Django','JavaScript']], \n",
    "                'experiencia': [2] }\n"
   ]
  },
  {
   "cell_type": "code",
   "execution_count": 71,
   "metadata": {},
   "outputs": [],
   "source": [
    "diccionario[\"nombre\"].append(\"Aroa\")\n",
    "diccionario[\"edad\"].append(33)\n",
    "diccionario[\"cursos\"].append([\"Python\", \"SQL\", \"C++\"])\n",
    "diccionario[\"experiencia\"].append(15)"
   ]
  },
  {
   "cell_type": "code",
   "execution_count": 72,
   "metadata": {},
   "outputs": [
    {
     "data": {
      "text/plain": [
       "{'nombre': ['Laura', 'Aroa'],\n",
       " 'edad': [22, 33],\n",
       " 'cursos': [['Python', 'Django', 'JavaScript'], ['Python', 'SQL', 'C++']],\n",
       " 'experiencia': [2, 15]}"
      ]
     },
     "execution_count": 72,
     "metadata": {},
     "output_type": "execute_result"
    }
   ],
   "source": [
    "diccionario"
   ]
  },
  {
   "cell_type": "code",
   "execution_count": 73,
   "metadata": {},
   "outputs": [
    {
     "data": {
      "text/plain": [
       "['Bachillerato', 'Universitarios']"
      ]
     },
     "execution_count": 73,
     "metadata": {},
     "output_type": "execute_result"
    }
   ],
   "source": [
    "# 7️⃣ Buscad la *key* \"estudios\". En caso de que no este, creadla con el valor [\"Bachillerato\", \"Universitario\"]\n",
    "\n",
    "diccionario.setdefault(\"estudios\", [\"Bachillerato\", \"Universitarios\"])"
   ]
  },
  {
   "cell_type": "code",
   "execution_count": 74,
   "metadata": {},
   "outputs": [
    {
     "data": {
      "text/plain": [
       "{'nombre': ['Laura', 'Aroa'],\n",
       " 'edad': [22, 33],\n",
       " 'cursos': [['Python', 'Django', 'JavaScript'], ['Python', 'SQL', 'C++']],\n",
       " 'experiencia': [2, 15],\n",
       " 'estudios': ['Bachillerato', 'Universitarios']}"
      ]
     },
     "execution_count": 74,
     "metadata": {},
     "output_type": "execute_result"
    }
   ],
   "source": [
    "diccionario"
   ]
  },
  {
   "cell_type": "code",
   "execution_count": 88,
   "metadata": {},
   "outputs": [],
   "source": [
    "diccionario[\"experiencia\"].sort()"
   ]
  },
  {
   "cell_type": "code",
   "execution_count": 89,
   "metadata": {},
   "outputs": [
    {
     "data": {
      "text/plain": [
       "{'nombre': ['Laura', 'Aroa'],\n",
       " 'edad': [22, 33],\n",
       " 'cursos': [['Python', 'Django', 'JavaScript'], ['Python', 'SQL', 'C++']],\n",
       " 'experiencia': [2, 15],\n",
       " 'estudios': ['Bachillerato', 'Universitarios']}"
      ]
     },
     "execution_count": 89,
     "metadata": {},
     "output_type": "execute_result"
    }
   ],
   "source": [
    "diccionario"
   ]
  },
  {
   "cell_type": "code",
   "execution_count": 90,
   "metadata": {},
   "outputs": [
    {
     "data": {
      "text/plain": [
       "[['Python', 'Django', 'JavaScript'], ['Python', 'SQL', 'C++']]"
      ]
     },
     "execution_count": 90,
     "metadata": {},
     "output_type": "execute_result"
    }
   ],
   "source": [
    "# 8️⃣ Eliminad la *key* cursos del diccionario\n",
    "\n",
    "diccionario.pop(\"cursos\")"
   ]
  },
  {
   "cell_type": "code",
   "execution_count": 188,
   "metadata": {},
   "outputs": [
    {
     "data": {
      "text/plain": [
       "{'nombre': ['Laura', 'Aroa'], 'edad': [22, 33], 'experiencia': [2, 15]}"
      ]
     },
     "execution_count": 188,
     "metadata": {},
     "output_type": "execute_result"
    }
   ],
   "source": [
    "diccionario"
   ]
  },
  {
   "cell_type": "code",
   "execution_count": 91,
   "metadata": {},
   "outputs": [
    {
     "data": {
      "text/plain": [
       "('estudios', ['Bachillerato', 'Universitarios'])"
      ]
     },
     "execution_count": 91,
     "metadata": {},
     "output_type": "execute_result"
    }
   ],
   "source": [
    "# 9️⃣ Eliminad la última *key*  del diccionario\n",
    "diccionario.popitem()"
   ]
  },
  {
   "cell_type": "code",
   "execution_count": 92,
   "metadata": {},
   "outputs": [
    {
     "data": {
      "text/plain": [
       "{'nombre': ['Laura', 'Aroa'], 'edad': [22, 33], 'experiencia': [2, 15]}"
      ]
     },
     "execution_count": 92,
     "metadata": {},
     "output_type": "execute_result"
    }
   ],
   "source": [
    "diccionario"
   ]
  },
  {
   "cell_type": "code",
   "execution_count": null,
   "metadata": {},
   "outputs": [],
   "source": []
  },
  {
   "cell_type": "code",
   "execution_count": null,
   "metadata": {},
   "outputs": [],
   "source": []
  },
  {
   "cell_type": "code",
   "execution_count": null,
   "metadata": {},
   "outputs": [],
   "source": []
  }
 ],
 "metadata": {
  "kernelspec": {
   "display_name": "Python 3.10.5 64-bit (windows store)",
   "language": "python",
   "name": "python3"
  },
  "language_info": {
   "codemirror_mode": {
    "name": "ipython",
    "version": 3
   },
   "file_extension": ".py",
   "mimetype": "text/x-python",
   "name": "python",
   "nbconvert_exporter": "python",
   "pygments_lexer": "ipython3",
   "version": "3.10.5"
  },
  "orig_nbformat": 4,
  "vscode": {
   "interpreter": {
    "hash": "8560ba40f25f8debc3b21cfdc72602d7855270eb253b25380125fbd9b6cd3418"
   }
  }
 },
 "nbformat": 4,
 "nbformat_minor": 2
}

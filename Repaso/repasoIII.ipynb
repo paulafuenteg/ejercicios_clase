{
 "cells": [
  {
   "cell_type": "code",
   "execution_count": 4,
   "metadata": {},
   "outputs": [],
   "source": [
    "import pandas as pd\n",
    "import seaborn as sns\n",
    "import matplotlib.pyplot as plt\n",
    "import numpy as np\n",
    "import sidetable\n",
    "\n",
    "from sklearn.impute import SimpleImputer\n",
    "from sklearn.experimental import enable_iterative_imputer\n",
    "from sklearn.impute import IterativeImputer\n",
    "from sklearn.impute import KNNImputer\n"
   ]
  },
  {
   "attachments": {},
   "cell_type": "markdown",
   "metadata": {},
   "source": [
    "Trabajamos para una inmobiliaria, nuestros jefes han obtenido una serie de datos sobre los inmuebles que están en alquiler en toda España. Ellos están iniciando su negocio y quieren focalizarse en aquellas comunidades autónomas donde más movimiento de compra-venta de inmuebles. \n",
    "\n",
    "Ojo!! Solo les interesa los inmuebles para vivir, piso, chalet, etc. \n",
    "\n",
    "En concreto, quieren identificar las 5 CCAA que tienen más inmuebles en alquiler y contestar a una serie de preguntas:\n",
    "\n",
    "- ¿Cuál es el precio medio por tipo de inmueble en función de la provincia?\n",
    "- ¿Qué tipo de inmuebles son los que más se ofertan?"
   ]
  },
  {
   "cell_type": "code",
   "execution_count": 3,
   "metadata": {},
   "outputs": [
    {
     "data": {
      "text/html": [
       "<div>\n",
       "<style scoped>\n",
       "    .dataframe tbody tr th:only-of-type {\n",
       "        vertical-align: middle;\n",
       "    }\n",
       "\n",
       "    .dataframe tbody tr th {\n",
       "        vertical-align: top;\n",
       "    }\n",
       "\n",
       "    .dataframe thead th {\n",
       "        text-align: right;\n",
       "    }\n",
       "</style>\n",
       "<table border=\"1\" class=\"dataframe\">\n",
       "  <thead>\n",
       "    <tr style=\"text-align: right;\">\n",
       "      <th></th>\n",
       "      <th>HY_id</th>\n",
       "      <th>HY_cod_postal</th>\n",
       "      <th>HY_provincia</th>\n",
       "      <th>HY_descripcion</th>\n",
       "      <th>HY_distribucion</th>\n",
       "      <th>HY_antiguedad</th>\n",
       "      <th>HY_metros_utiles</th>\n",
       "      <th>HY_metros_totales</th>\n",
       "      <th>HY_num_banos</th>\n",
       "      <th>HY_cert_energ</th>\n",
       "      <th>HY_num_terrazas</th>\n",
       "      <th>HY_ascensor</th>\n",
       "      <th>HY_trastero</th>\n",
       "      <th>HY_num_garajes</th>\n",
       "      <th>HY_precio</th>\n",
       "      <th>HY_precio_anterior</th>\n",
       "      <th>IDEA_area</th>\n",
       "      <th>IDEA_poblacion</th>\n",
       "      <th>IDEA_densidad</th>\n",
       "    </tr>\n",
       "  </thead>\n",
       "  <tbody>\n",
       "    <tr>\n",
       "      <th>0</th>\n",
       "      <td>6028499</td>\n",
       "      <td>18151</td>\n",
       "      <td>Granada</td>\n",
       "      <td>GARAJE-Plaza de Garaje ubicada en la planta só...</td>\n",
       "      <td>NaN</td>\n",
       "      <td>NaN</td>\n",
       "      <td>NaN</td>\n",
       "      <td>35,0</td>\n",
       "      <td>0</td>\n",
       "      <td>NaN</td>\n",
       "      <td>0</td>\n",
       "      <td>0</td>\n",
       "      <td>0</td>\n",
       "      <td>0</td>\n",
       "      <td>12300.0</td>\n",
       "      <td>NaN</td>\n",
       "      <td>670.87</td>\n",
       "      <td>13372,0</td>\n",
       "      <td>19.93</td>\n",
       "    </tr>\n",
       "    <tr>\n",
       "      <th>1</th>\n",
       "      <td>6028500</td>\n",
       "      <td>29915</td>\n",
       "      <td>Málaga</td>\n",
       "      <td>CASA DE PUEBLO</td>\n",
       "      <td>NaN</td>\n",
       "      <td>NaN</td>\n",
       "      <td>NaN</td>\n",
       "      <td>151,98</td>\n",
       "      <td>2</td>\n",
       "      <td>NaN</td>\n",
       "      <td>0</td>\n",
       "      <td>0</td>\n",
       "      <td>0</td>\n",
       "      <td>0</td>\n",
       "      <td>115000.0</td>\n",
       "      <td>125000.0</td>\n",
       "      <td>2216.24</td>\n",
       "      <td>1507,0</td>\n",
       "      <td>0.68</td>\n",
       "    </tr>\n",
       "    <tr>\n",
       "      <th>2</th>\n",
       "      <td>6028502</td>\n",
       "      <td>3740</td>\n",
       "      <td>Alicante</td>\n",
       "      <td>PISO-El inmueble(piso) se encuentra situado en...</td>\n",
       "      <td>VIVIENDA-PISO</td>\n",
       "      <td>2008.0</td>\n",
       "      <td>92.58</td>\n",
       "      <td>102,78</td>\n",
       "      <td>1</td>\n",
       "      <td>NaN</td>\n",
       "      <td>0</td>\n",
       "      <td>1</td>\n",
       "      <td>0</td>\n",
       "      <td>1</td>\n",
       "      <td>88000.0</td>\n",
       "      <td>93500.0</td>\n",
       "      <td>2040.53</td>\n",
       "      <td>5810,0</td>\n",
       "      <td>2.85</td>\n",
       "    </tr>\n",
       "  </tbody>\n",
       "</table>\n",
       "</div>"
      ],
      "text/plain": [
       "     HY_id  HY_cod_postal HY_provincia  \\\n",
       "0  6028499          18151      Granada   \n",
       "1  6028500          29915       Málaga   \n",
       "2  6028502           3740     Alicante   \n",
       "\n",
       "                                      HY_descripcion HY_distribucion  \\\n",
       "0  GARAJE-Plaza de Garaje ubicada en la planta só...             NaN   \n",
       "1                                     CASA DE PUEBLO             NaN   \n",
       "2  PISO-El inmueble(piso) se encuentra situado en...   VIVIENDA-PISO   \n",
       "\n",
       "   HY_antiguedad  HY_metros_utiles HY_metros_totales  HY_num_banos  \\\n",
       "0            NaN               NaN              35,0             0   \n",
       "1            NaN               NaN            151,98             2   \n",
       "2         2008.0             92.58            102,78             1   \n",
       "\n",
       "  HY_cert_energ  HY_num_terrazas  HY_ascensor  HY_trastero  HY_num_garajes  \\\n",
       "0           NaN                0            0            0               0   \n",
       "1           NaN                0            0            0               0   \n",
       "2           NaN                0            1            0               1   \n",
       "\n",
       "   HY_precio  HY_precio_anterior  IDEA_area IDEA_poblacion  IDEA_densidad  \n",
       "0    12300.0                 NaN     670.87        13372,0          19.93  \n",
       "1   115000.0            125000.0    2216.24         1507,0           0.68  \n",
       "2    88000.0             93500.0    2040.53         5810,0           2.85  "
      ]
     },
     "execution_count": 3,
     "metadata": {},
     "output_type": "execute_result"
    }
   ],
   "source": [
    "df = pd.read_csv(\"casas2.csv\", index_col = 0)\n",
    "df.head(3)"
   ]
  },
  {
   "cell_type": "code",
   "execution_count": 6,
   "metadata": {},
   "outputs": [],
   "source": [
    "nuevas_columnas ={col: \"_\".join(col.split('_')[1:]) for col in df.columns}\n",
    "df.rename(columns=nuevas_columnas, inplace = True)"
   ]
  },
  {
   "cell_type": "code",
   "execution_count": 7,
   "metadata": {},
   "outputs": [
    {
     "data": {
      "text/html": [
       "<div>\n",
       "<style scoped>\n",
       "    .dataframe tbody tr th:only-of-type {\n",
       "        vertical-align: middle;\n",
       "    }\n",
       "\n",
       "    .dataframe tbody tr th {\n",
       "        vertical-align: top;\n",
       "    }\n",
       "\n",
       "    .dataframe thead th {\n",
       "        text-align: right;\n",
       "    }\n",
       "</style>\n",
       "<table border=\"1\" class=\"dataframe\">\n",
       "  <thead>\n",
       "    <tr style=\"text-align: right;\">\n",
       "      <th></th>\n",
       "      <th>id</th>\n",
       "      <th>cod_postal</th>\n",
       "      <th>provincia</th>\n",
       "      <th>descripcion</th>\n",
       "      <th>distribucion</th>\n",
       "      <th>antiguedad</th>\n",
       "      <th>metros_utiles</th>\n",
       "      <th>metros_totales</th>\n",
       "      <th>num_banos</th>\n",
       "      <th>cert_energ</th>\n",
       "      <th>num_terrazas</th>\n",
       "      <th>ascensor</th>\n",
       "      <th>trastero</th>\n",
       "      <th>num_garajes</th>\n",
       "      <th>precio</th>\n",
       "      <th>precio_anterior</th>\n",
       "      <th>area</th>\n",
       "      <th>poblacion</th>\n",
       "      <th>densidad</th>\n",
       "    </tr>\n",
       "  </thead>\n",
       "  <tbody>\n",
       "    <tr>\n",
       "      <th>0</th>\n",
       "      <td>6028499</td>\n",
       "      <td>18151</td>\n",
       "      <td>Granada</td>\n",
       "      <td>GARAJE-Plaza de Garaje ubicada en la planta só...</td>\n",
       "      <td>NaN</td>\n",
       "      <td>NaN</td>\n",
       "      <td>NaN</td>\n",
       "      <td>35,0</td>\n",
       "      <td>0</td>\n",
       "      <td>NaN</td>\n",
       "      <td>0</td>\n",
       "      <td>0</td>\n",
       "      <td>0</td>\n",
       "      <td>0</td>\n",
       "      <td>12300.0</td>\n",
       "      <td>NaN</td>\n",
       "      <td>670.87</td>\n",
       "      <td>13372,0</td>\n",
       "      <td>19.93</td>\n",
       "    </tr>\n",
       "    <tr>\n",
       "      <th>1</th>\n",
       "      <td>6028500</td>\n",
       "      <td>29915</td>\n",
       "      <td>Málaga</td>\n",
       "      <td>CASA DE PUEBLO</td>\n",
       "      <td>NaN</td>\n",
       "      <td>NaN</td>\n",
       "      <td>NaN</td>\n",
       "      <td>151,98</td>\n",
       "      <td>2</td>\n",
       "      <td>NaN</td>\n",
       "      <td>0</td>\n",
       "      <td>0</td>\n",
       "      <td>0</td>\n",
       "      <td>0</td>\n",
       "      <td>115000.0</td>\n",
       "      <td>125000.0</td>\n",
       "      <td>2216.24</td>\n",
       "      <td>1507,0</td>\n",
       "      <td>0.68</td>\n",
       "    </tr>\n",
       "  </tbody>\n",
       "</table>\n",
       "</div>"
      ],
      "text/plain": [
       "        id  cod_postal provincia  \\\n",
       "0  6028499       18151   Granada   \n",
       "1  6028500       29915    Málaga   \n",
       "\n",
       "                                         descripcion distribucion  antiguedad  \\\n",
       "0  GARAJE-Plaza de Garaje ubicada en la planta só...          NaN         NaN   \n",
       "1                                     CASA DE PUEBLO          NaN         NaN   \n",
       "\n",
       "   metros_utiles metros_totales  num_banos cert_energ  num_terrazas  ascensor  \\\n",
       "0            NaN           35,0          0        NaN             0         0   \n",
       "1            NaN         151,98          2        NaN             0         0   \n",
       "\n",
       "   trastero  num_garajes    precio  precio_anterior     area poblacion  \\\n",
       "0         0            0   12300.0              NaN   670.87   13372,0   \n",
       "1         0            0  115000.0         125000.0  2216.24    1507,0   \n",
       "\n",
       "   densidad  \n",
       "0     19.93  \n",
       "1      0.68  "
      ]
     },
     "execution_count": 7,
     "metadata": {},
     "output_type": "execute_result"
    }
   ],
   "source": [
    "df.head(2)"
   ]
  },
  {
   "cell_type": "code",
   "execution_count": 9,
   "metadata": {},
   "outputs": [],
   "source": [
    "df['metros_totales'] = df['metros_totales'].str.replace(',','.')#no puede hacerse para todas las columnas a la vez"
   ]
  },
  {
   "cell_type": "code",
   "execution_count": 10,
   "metadata": {},
   "outputs": [],
   "source": [
    "df['poblacion'] = df['poblacion'].str.replace(',','.')"
   ]
  },
  {
   "cell_type": "code",
   "execution_count": null,
   "metadata": {},
   "outputs": [],
   "source": [
    "columnas_cambiar =['metros_totales', 'poblacion'] #Para cambiarlo de todas las columnas que tenemos que cambiar la , por el punto \n",
    "for i in columnas_cambiar:\n",
    "    df[i] = df[i].str.replace(',','.')"
   ]
  },
  {
   "cell_type": "code",
   "execution_count": 11,
   "metadata": {},
   "outputs": [
    {
     "data": {
      "text/plain": [
       "id                   int64\n",
       "cod_postal           int64\n",
       "provincia           object\n",
       "descripcion         object\n",
       "distribucion        object\n",
       "antiguedad         float64\n",
       "metros_utiles      float64\n",
       "metros_totales      object\n",
       "num_banos            int64\n",
       "cert_energ          object\n",
       "num_terrazas         int64\n",
       "ascensor             int64\n",
       "trastero             int64\n",
       "num_garajes          int64\n",
       "precio             float64\n",
       "precio_anterior    float64\n",
       "area               float64\n",
       "poblacion           object\n",
       "densidad           float64\n",
       "dtype: object"
      ]
     },
     "execution_count": 11,
     "metadata": {},
     "output_type": "execute_result"
    }
   ],
   "source": [
    "df.dtypes #Siguen siendo tipo object"
   ]
  },
  {
   "cell_type": "code",
   "execution_count": 12,
   "metadata": {},
   "outputs": [],
   "source": [
    "df['metros_totales'] = pd.to_numeric(df['metros_totales']) #no puede hacerse para todas las columnas a la vez\n",
    "df['poblacion'] = pd.to_numeric(df['poblacion'])"
   ]
  },
  {
   "cell_type": "code",
   "execution_count": 13,
   "metadata": {},
   "outputs": [
    {
     "data": {
      "text/html": [
       "<div>\n",
       "<style scoped>\n",
       "    .dataframe tbody tr th:only-of-type {\n",
       "        vertical-align: middle;\n",
       "    }\n",
       "\n",
       "    .dataframe tbody tr th {\n",
       "        vertical-align: top;\n",
       "    }\n",
       "\n",
       "    .dataframe thead th {\n",
       "        text-align: right;\n",
       "    }\n",
       "</style>\n",
       "<table border=\"1\" class=\"dataframe\">\n",
       "  <thead>\n",
       "    <tr style=\"text-align: right;\">\n",
       "      <th></th>\n",
       "      <th>id</th>\n",
       "      <th>cod_postal</th>\n",
       "      <th>provincia</th>\n",
       "      <th>descripcion</th>\n",
       "      <th>distribucion</th>\n",
       "      <th>antiguedad</th>\n",
       "      <th>metros_utiles</th>\n",
       "      <th>metros_totales</th>\n",
       "      <th>num_banos</th>\n",
       "      <th>cert_energ</th>\n",
       "      <th>num_terrazas</th>\n",
       "      <th>ascensor</th>\n",
       "      <th>trastero</th>\n",
       "      <th>num_garajes</th>\n",
       "      <th>precio</th>\n",
       "      <th>precio_anterior</th>\n",
       "      <th>area</th>\n",
       "      <th>poblacion</th>\n",
       "      <th>densidad</th>\n",
       "    </tr>\n",
       "  </thead>\n",
       "  <tbody>\n",
       "    <tr>\n",
       "      <th>0</th>\n",
       "      <td>6028499</td>\n",
       "      <td>18151</td>\n",
       "      <td>Granada</td>\n",
       "      <td>GARAJE-Plaza de Garaje ubicada en la planta só...</td>\n",
       "      <td>NaN</td>\n",
       "      <td>NaN</td>\n",
       "      <td>NaN</td>\n",
       "      <td>35.00</td>\n",
       "      <td>0</td>\n",
       "      <td>NaN</td>\n",
       "      <td>0</td>\n",
       "      <td>0</td>\n",
       "      <td>0</td>\n",
       "      <td>0</td>\n",
       "      <td>12300.0</td>\n",
       "      <td>NaN</td>\n",
       "      <td>670.87</td>\n",
       "      <td>13372.0</td>\n",
       "      <td>19.93</td>\n",
       "    </tr>\n",
       "    <tr>\n",
       "      <th>1</th>\n",
       "      <td>6028500</td>\n",
       "      <td>29915</td>\n",
       "      <td>Málaga</td>\n",
       "      <td>CASA DE PUEBLO</td>\n",
       "      <td>NaN</td>\n",
       "      <td>NaN</td>\n",
       "      <td>NaN</td>\n",
       "      <td>151.98</td>\n",
       "      <td>2</td>\n",
       "      <td>NaN</td>\n",
       "      <td>0</td>\n",
       "      <td>0</td>\n",
       "      <td>0</td>\n",
       "      <td>0</td>\n",
       "      <td>115000.0</td>\n",
       "      <td>125000.0</td>\n",
       "      <td>2216.24</td>\n",
       "      <td>1507.0</td>\n",
       "      <td>0.68</td>\n",
       "    </tr>\n",
       "    <tr>\n",
       "      <th>2</th>\n",
       "      <td>6028502</td>\n",
       "      <td>3740</td>\n",
       "      <td>Alicante</td>\n",
       "      <td>PISO-El inmueble(piso) se encuentra situado en...</td>\n",
       "      <td>VIVIENDA-PISO</td>\n",
       "      <td>2008.0</td>\n",
       "      <td>92.58</td>\n",
       "      <td>102.78</td>\n",
       "      <td>1</td>\n",
       "      <td>NaN</td>\n",
       "      <td>0</td>\n",
       "      <td>1</td>\n",
       "      <td>0</td>\n",
       "      <td>1</td>\n",
       "      <td>88000.0</td>\n",
       "      <td>93500.0</td>\n",
       "      <td>2040.53</td>\n",
       "      <td>5810.0</td>\n",
       "      <td>2.85</td>\n",
       "    </tr>\n",
       "    <tr>\n",
       "      <th>3</th>\n",
       "      <td>6028512</td>\n",
       "      <td>30592</td>\n",
       "      <td>Murcia</td>\n",
       "      <td>GARAJE-Plaza de garaje situada en la planta se...</td>\n",
       "      <td>NaN</td>\n",
       "      <td>NaN</td>\n",
       "      <td>11.81</td>\n",
       "      <td>12.46</td>\n",
       "      <td>0</td>\n",
       "      <td>NaN</td>\n",
       "      <td>0</td>\n",
       "      <td>1</td>\n",
       "      <td>0</td>\n",
       "      <td>0</td>\n",
       "      <td>5800.0</td>\n",
       "      <td>NaN</td>\n",
       "      <td>905.44</td>\n",
       "      <td>7004.0</td>\n",
       "      <td>7.74</td>\n",
       "    </tr>\n",
       "    <tr>\n",
       "      <th>4</th>\n",
       "      <td>6028513</td>\n",
       "      <td>30592</td>\n",
       "      <td>Murcia</td>\n",
       "      <td>GARAJE-Plaza de garaje situada en la planta se...</td>\n",
       "      <td>NaN</td>\n",
       "      <td>NaN</td>\n",
       "      <td>14.29</td>\n",
       "      <td>15.43</td>\n",
       "      <td>0</td>\n",
       "      <td>NaN</td>\n",
       "      <td>0</td>\n",
       "      <td>1</td>\n",
       "      <td>0</td>\n",
       "      <td>0</td>\n",
       "      <td>7400.0</td>\n",
       "      <td>NaN</td>\n",
       "      <td>905.44</td>\n",
       "      <td>7004.0</td>\n",
       "      <td>7.74</td>\n",
       "    </tr>\n",
       "  </tbody>\n",
       "</table>\n",
       "</div>"
      ],
      "text/plain": [
       "        id  cod_postal provincia  \\\n",
       "0  6028499       18151   Granada   \n",
       "1  6028500       29915    Málaga   \n",
       "2  6028502        3740  Alicante   \n",
       "3  6028512       30592    Murcia   \n",
       "4  6028513       30592    Murcia   \n",
       "\n",
       "                                         descripcion   distribucion  \\\n",
       "0  GARAJE-Plaza de Garaje ubicada en la planta só...            NaN   \n",
       "1                                     CASA DE PUEBLO            NaN   \n",
       "2  PISO-El inmueble(piso) se encuentra situado en...  VIVIENDA-PISO   \n",
       "3  GARAJE-Plaza de garaje situada en la planta se...            NaN   \n",
       "4  GARAJE-Plaza de garaje situada en la planta se...            NaN   \n",
       "\n",
       "   antiguedad  metros_utiles  metros_totales  num_banos cert_energ  \\\n",
       "0         NaN            NaN           35.00          0        NaN   \n",
       "1         NaN            NaN          151.98          2        NaN   \n",
       "2      2008.0          92.58          102.78          1        NaN   \n",
       "3         NaN          11.81           12.46          0        NaN   \n",
       "4         NaN          14.29           15.43          0        NaN   \n",
       "\n",
       "   num_terrazas  ascensor  trastero  num_garajes    precio  precio_anterior  \\\n",
       "0             0         0         0            0   12300.0              NaN   \n",
       "1             0         0         0            0  115000.0         125000.0   \n",
       "2             0         1         0            1   88000.0          93500.0   \n",
       "3             0         1         0            0    5800.0              NaN   \n",
       "4             0         1         0            0    7400.0              NaN   \n",
       "\n",
       "      area  poblacion  densidad  \n",
       "0   670.87    13372.0     19.93  \n",
       "1  2216.24     1507.0      0.68  \n",
       "2  2040.53     5810.0      2.85  \n",
       "3   905.44     7004.0      7.74  \n",
       "4   905.44     7004.0      7.74  "
      ]
     },
     "execution_count": 13,
     "metadata": {},
     "output_type": "execute_result"
    }
   ],
   "source": [
    "df.head()"
   ]
  },
  {
   "cell_type": "code",
   "execution_count": 30,
   "metadata": {},
   "outputs": [],
   "source": [
    "dicc_comunidades = {\"Andalucía\" : ['Almería', 'Cádiz', 'Córdoba', 'Granada', 'Huelva', 'Jaén', 'Málaga', 'Sevilla'], \n",
    "                    'Aragón' : ['Huesca', 'Teruel', 'Zaragoza'], \n",
    "                    'Asturias' : [\"Asturias\"], \n",
    "                    \"Baleares\" : [\"Baleares\"], \n",
    "                    'Canarias' : ['Tenerife', 'Las Palmas'], \n",
    "                    'Cantabria' : [\"Cantabria\"], \n",
    "                   'Castilla-La Mancha' : ['Albacete', 'Ciudad Real', 'Cuenca', 'Guadalajara', 'Toledo'], \n",
    "                   'Castilla y León' : ['Avila', 'Burgos', 'León', 'Salamanca', 'Segovia', 'Soria', 'Valladolid', 'Zamora', 'Palencia'], \n",
    "                   'Cataluña' : ['Barcelona', 'Gerona', 'Lérida', 'Tarragona'], \n",
    "                   'Comunidad Valenciana' : ['Alicante', 'Castellón', 'Valencia'], \n",
    "                   'Extremadura' : ['Badajoz', 'Cáceres'], \n",
    "                   'Galicia' :[ 'A Coruña', 'Lugo', 'Ourense', 'Pontevedra'], \n",
    "                   \"Madrid\": [\"Madrid\"], \n",
    "                   \"Murcia\": [\"Murcia\"], \n",
    "                   \"Navarra\": [\"Navarra\"], \n",
    "                   'País Vasco' :[ 'Vizkaia', 'Guipuzkua', 'Alava'], \n",
    "                   \"La Rioja\": [\"La Rioja\"]\n",
    "}"
   ]
  },
  {
   "cell_type": "code",
   "execution_count": 24,
   "metadata": {},
   "outputs": [],
   "source": [
    "def sacar_comunidades(col, diccionario):\n",
    "    for k,v in diccionario.items():\n",
    "        if col in v:\n",
    "            return k\n",
    "    return np.nan #Para evitar que nos salgan None al encontrar nan"
   ]
  },
  {
   "cell_type": "code",
   "execution_count": 25,
   "metadata": {},
   "outputs": [],
   "source": [
    "df['comunidad'] =df.apply(lambda data: sacar_comunidades(data['provincia'], dicc_comunidades), axis = 1) #Para aplicar una funcion a un df con varios parametros"
   ]
  },
  {
   "cell_type": "code",
   "execution_count": 26,
   "metadata": {},
   "outputs": [
    {
     "data": {
      "text/plain": [
       "array(['Andalucía', 'Comunidad Valenciana', 'Murcia', 'Cataluña',\n",
       "       'Castilla y León', 'Baleares', 'Canarias', 'Extremadura', 'Madrid',\n",
       "       'Castilla-La Mancha', 'Aragón', 'La Rioja', 'Navarra', 'Asturias',\n",
       "       'Galicia', nan], dtype=object)"
      ]
     },
     "execution_count": 26,
     "metadata": {},
     "output_type": "execute_result"
    }
   ],
   "source": [
    "df['comunidad'].unique()"
   ]
  },
  {
   "cell_type": "code",
   "execution_count": 29,
   "metadata": {},
   "outputs": [
    {
     "data": {
      "text/plain": [
       "id                    0\n",
       "cod_postal            0\n",
       "provincia            42\n",
       "descripcion           0\n",
       "distribucion       6745\n",
       "antiguedad         5484\n",
       "metros_utiles      2886\n",
       "metros_totales       34\n",
       "num_banos             0\n",
       "cert_energ         8300\n",
       "num_terrazas          0\n",
       "ascensor              0\n",
       "trastero              0\n",
       "num_garajes           0\n",
       "precio                0\n",
       "precio_anterior    3158\n",
       "area               2631\n",
       "poblacion          2635\n",
       "densidad           2635\n",
       "comunidad            42\n",
       "dtype: int64"
      ]
     },
     "execution_count": 29,
     "metadata": {},
     "output_type": "execute_result"
    }
   ],
   "source": [
    "df.isnull().sum()"
   ]
  },
  {
   "cell_type": "code",
   "execution_count": 31,
   "metadata": {},
   "outputs": [
    {
     "name": "stdout",
     "output_type": "stream",
     "text": [
      "Collecting geopy\n",
      "  Downloading geopy-2.3.0-py3-none-any.whl (119 kB)\n",
      "\u001b[2K     \u001b[90m━━━━━━━━━━━━━━━━━━━━━━━━━━━━━━━━━━━━━━━\u001b[0m \u001b[32m119.8/119.8 kB\u001b[0m \u001b[31m3.5 MB/s\u001b[0m eta \u001b[36m0:00:00\u001b[0m\n",
      "\u001b[?25hCollecting geographiclib<3,>=1.52\n",
      "  Downloading geographiclib-2.0-py3-none-any.whl (40 kB)\n",
      "\u001b[2K     \u001b[90m━━━━━━━━━━━━━━━━━━━━━━━━━━━━━━━━━━━━━━━━\u001b[0m \u001b[32m40.3/40.3 kB\u001b[0m \u001b[31m2.9 MB/s\u001b[0m eta \u001b[36m0:00:00\u001b[0m\n",
      "\u001b[?25hInstalling collected packages: geographiclib, geopy\n",
      "Successfully installed geographiclib-2.0 geopy-2.3.0\n"
     ]
    }
   ],
   "source": [
    "!pip install geopy"
   ]
  },
  {
   "cell_type": "code",
   "execution_count": null,
   "metadata": {},
   "outputs": [],
   "source": [
    "#Usando una libreria de provincias\n",
    "from geopy.geocoders import Nominatim\n",
    "\n"
   ]
  },
  {
   "cell_type": "code",
   "execution_count": 34,
   "metadata": {},
   "outputs": [],
   "source": [
    "#Sacar las 5 comunidades con mas inmuebles\n",
    "lista_comunidades = df['comunidad'].value_counts()[:5].index.tolist()"
   ]
  },
  {
   "cell_type": "code",
   "execution_count": 35,
   "metadata": {},
   "outputs": [
    {
     "data": {
      "text/plain": [
       "array(['Andalucía', 'Comunidad Valenciana', 'Murcia', 'Cataluña',\n",
       "       'Castilla y León'], dtype=object)"
      ]
     },
     "execution_count": 35,
     "metadata": {},
     "output_type": "execute_result"
    }
   ],
   "source": [
    "df2 = df[df['comunidad'].isin(lista_comunidades)]\n",
    "df2['comunidad'].unique()"
   ]
  },
  {
   "cell_type": "code",
   "execution_count": null,
   "metadata": {},
   "outputs": [],
   "source": [
    "plt.tight_layout() #Para autoajustar las grafias al tamaño de figura\n",
    "axes = axes.flat \n",
    "fig.delaxes(axes[-1]) # Para eliminar el último grafico si esta vacio"
   ]
  }
 ],
 "metadata": {
  "kernelspec": {
   "display_name": "base",
   "language": "python",
   "name": "python3"
  },
  "language_info": {
   "codemirror_mode": {
    "name": "ipython",
    "version": 3
   },
   "file_extension": ".py",
   "mimetype": "text/x-python",
   "name": "python",
   "nbconvert_exporter": "python",
   "pygments_lexer": "ipython3",
   "version": "3.9.13"
  },
  "orig_nbformat": 4,
  "vscode": {
   "interpreter": {
    "hash": "85c042135e83639dad74b6ec6c9d943b5dc47ca281624d931a3e14168052f53c"
   }
  }
 },
 "nbformat": 4,
 "nbformat_minor": 2
}

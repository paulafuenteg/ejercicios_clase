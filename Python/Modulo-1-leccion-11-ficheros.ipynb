{
 "cells": [
  {
   "cell_type": "markdown",
   "metadata": {
    "toc": true
   },
   "source": [
    "<h1>Table of Contents<span class=\"tocSkip\"></span></h1>\n",
    "<div class=\"toc\"><ul class=\"toc-item\"><li><span><a href=\"#Módulos,-Rutas-relativas-y-absolutas\" data-toc-modified-id=\"Módulos,-Rutas-relativas-y-absolutas-1\"><span class=\"toc-item-num\">1&nbsp;&nbsp;</span>Módulos, Rutas relativas y absolutas</a></span><ul class=\"toc-item\"><li><span><a href=\"#Módulos\" data-toc-modified-id=\"Módulos-1.1\"><span class=\"toc-item-num\">1.1&nbsp;&nbsp;</span>Módulos</a></span></li><li><span><a href=\"#Rutas-relativas-vs-rutas-absolutas\" data-toc-modified-id=\"Rutas-relativas-vs-rutas-absolutas-1.2\"><span class=\"toc-item-num\">1.2&nbsp;&nbsp;</span>Rutas relativas <em>vs</em> rutas absolutas</a></span></li><li><span><a href=\"#Ejercicios-modulos,-rutas-relativas-y-absolutas\" data-toc-modified-id=\"Ejercicios-modulos,-rutas-relativas-y-absolutas-1.3\"><span class=\"toc-item-num\">1.3&nbsp;&nbsp;</span>Ejercicios modulos, rutas relativas y absolutas</a></span></li></ul></li><li><span><a href=\"#Librería-os\" data-toc-modified-id=\"Librería-os-2\"><span class=\"toc-item-num\">2&nbsp;&nbsp;</span>Librería <code>os</code></a></span><ul class=\"toc-item\"><li><ul class=\"toc-item\"><li><span><a href=\"#.listdir()\" data-toc-modified-id=\".listdir()-2.0.1\"><span class=\"toc-item-num\">2.0.1&nbsp;&nbsp;</span><code>.listdir()</code></a></span></li><li><span><a href=\"#.chdir()\" data-toc-modified-id=\".chdir()-2.0.2\"><span class=\"toc-item-num\">2.0.2&nbsp;&nbsp;</span><code>.chdir()</code></a></span></li><li><span><a href=\"#.mkdir()\" data-toc-modified-id=\".mkdir()-2.0.3\"><span class=\"toc-item-num\">2.0.3&nbsp;&nbsp;</span><code>.mkdir()</code></a></span></li><li><span><a href=\"#.rename()\" data-toc-modified-id=\".rename()-2.0.4\"><span class=\"toc-item-num\">2.0.4&nbsp;&nbsp;</span><code>.rename()</code></a></span></li><li><span><a href=\"#.rmdir()\" data-toc-modified-id=\".rmdir()-2.0.5\"><span class=\"toc-item-num\">2.0.5&nbsp;&nbsp;</span><code>.rmdir()</code></a></span></li></ul></li></ul></li><li><span><a href=\"#Librería-shutil\" data-toc-modified-id=\"Librería-shutil-3\"><span class=\"toc-item-num\">3&nbsp;&nbsp;</span>Librería <code>shutil</code></a></span><ul class=\"toc-item\"><li><span><a href=\"#Ejercicios-módulo-shutil\" data-toc-modified-id=\"Ejercicios-módulo-shutil-3.1\"><span class=\"toc-item-num\">3.1&nbsp;&nbsp;</span>Ejercicios módulo <code>shutil</code></a></span></li></ul></li><li><span><a href=\"#Librería-con-open()-y-.close()\" data-toc-modified-id=\"Librería-con-open()-y-.close()-4\"><span class=\"toc-item-num\">4&nbsp;&nbsp;</span>Librería con <code>open()</code> y <code>.close()</code></a></span><ul class=\"toc-item\"><li><span><a href=\"#open()-y-close()\" data-toc-modified-id=\"open()-y-close()-4.1\"><span class=\"toc-item-num\">4.1&nbsp;&nbsp;</span><code>open()</code> y <code>close()</code></a></span></li><li><span><a href=\"#.read()\" data-toc-modified-id=\".read()-4.2\"><span class=\"toc-item-num\">4.2&nbsp;&nbsp;</span><code>.read()</code></a></span></li><li><span><a href=\"#Argumentos-opcionales-para-open()\" data-toc-modified-id=\"Argumentos-opcionales-para-open()-4.3\"><span class=\"toc-item-num\">4.3&nbsp;&nbsp;</span>Argumentos opcionales para <code>open()</code></a></span><ul class=\"toc-item\"><li><span><a href=\"#encoding\" data-toc-modified-id=\"encoding-4.3.1\"><span class=\"toc-item-num\">4.3.1&nbsp;&nbsp;</span><em>encoding</em></a></span></li><li><span><a href=\"#mode\" data-toc-modified-id=\"mode-4.3.2\"><span class=\"toc-item-num\">4.3.2&nbsp;&nbsp;</span><em>mode</em></a></span></li></ul></li><li><span><a href=\"#Ejercicios-open()-y-close()\" data-toc-modified-id=\"Ejercicios-open()-y-close()-4.4\"><span class=\"toc-item-num\">4.4&nbsp;&nbsp;</span>Ejercicios <code>open()</code> y <code>close()</code></a></span></li><li><span><a href=\"#.readline(),-.readlines(),-y-la-palabra-with\" data-toc-modified-id=\".readline(),-.readlines(),-y-la-palabra-with-4.5\"><span class=\"toc-item-num\">4.5&nbsp;&nbsp;</span><code>.readline()</code>, <code>.readlines()</code>, y la palabra <code>with</code></a></span></li><li><span><a href=\"#Ejercicios-readline(),-readlines(),-y-la-palabra-with\" data-toc-modified-id=\"Ejercicios-readline(),-readlines(),-y-la-palabra-with-4.6\"><span class=\"toc-item-num\">4.6&nbsp;&nbsp;</span>Ejercicios <code>readline()</code>, <code>readlines()</code>, y la palabra <code>with</code></a></span></li></ul></li><li><span><a href=\"#Crear-y-escribir-en-archivos-de-texto\" data-toc-modified-id=\"Crear-y-escribir-en-archivos-de-texto-5\"><span class=\"toc-item-num\">5&nbsp;&nbsp;</span>Crear y escribir en archivos de texto</a></span><ul class=\"toc-item\"><li><span><a href=\"#.write()\" data-toc-modified-id=\".write()-5.1\"><span class=\"toc-item-num\">5.1&nbsp;&nbsp;</span><code>.write()</code></a></span></li><li><span><a href=\"#Ejercicios-crear-y-escribir-en-archivos-de-texto\" data-toc-modified-id=\"Ejercicios-crear-y-escribir-en-archivos-de-texto-5.2\"><span class=\"toc-item-num\">5.2&nbsp;&nbsp;</span>Ejercicios crear y escribir en archivos de texto</a></span></li></ul></li><li><span><a href=\"#Archivos-.xml\" data-toc-modified-id=\"Archivos-.xml-6\"><span class=\"toc-item-num\">6&nbsp;&nbsp;</span>Archivos .xml</a></span><ul class=\"toc-item\"><li><span><a href=\"#Ejercicios-archivos-xml\" data-toc-modified-id=\"Ejercicios-archivos-xml-6.1\"><span class=\"toc-item-num\">6.1&nbsp;&nbsp;</span>Ejercicios archivos xml</a></span></li><li><span><a href=\"#Trabajar-con-xml-desde-Python\" data-toc-modified-id=\"Trabajar-con-xml-desde-Python-6.2\"><span class=\"toc-item-num\">6.2&nbsp;&nbsp;</span>Trabajar con xml desde Python</a></span></li><li><span><a href=\"#Ejercicios-trabajar-con-xml-desde-Python\" data-toc-modified-id=\"Ejercicios-trabajar-con-xml-desde-Python-6.3\"><span class=\"toc-item-num\">6.3&nbsp;&nbsp;</span>Ejercicios trabajar con xml desde Python</a></span></li></ul></li></ul></div>"
   ]
  },
  {
   "cell_type": "markdown",
   "metadata": {},
   "source": [
    "# Módulos, Rutas relativas y absolutas\n",
    "\n",
    "## Módulos\n",
    "Los módulos (también llamadas librerías) en Python son como paquetes de funciones que vamos a usar comunmente en Python. Para trabajar con ficheros y directorios vamos a necesitar importar unos módulos. Un buen punto de partida si queréis aprender sobre módulos es la [documentación oficial](https://docs.python.org/3/tutorial/modules.html), aunque aquí también os vamos a contar las cosas esenciales de ellos. \n",
    "\n",
    "\n",
    "Un archivo con múltiples funciones, guardado con la extensión `.py` es un módulo, y por defecto Python ya tiene algunos cargados. Las funciones que usamos hasta ahora (`print()`, `zip()`, `len()`, `range()`, `int()`, etc.) no pertenecían a un módulo externo. Para otras funciones que vamos a necesitar para las clases a partir de ahora sí que hace falta *importar* los módulos adecuados para poder usar las funciones de dentro. El primer módulo que vamos a necesitar en la clase de hoy es `os`, y lo usamos como ejemplo para las formas de importar un módulo.\n",
    "\n",
    "📌 **NOTA** A la hora de importar las librerías, por convención, todas suelen ir al incio del jupyter, para que la persona que vaya a leer nuestro código sepa desde el minuto 0 que librerías son las que necesitará para desarrollar el proyecto."
   ]
  },
  {
   "cell_type": "code",
   "execution_count": 1,
   "metadata": {},
   "outputs": [],
   "source": [
    "# vamos a importar la librería os, ya que a lo largo de la lección usaremos varías funciones de esta librería. \n",
    "import os"
   ]
  },
  {
   "cell_type": "markdown",
   "metadata": {},
   "source": [
    "Normalmente dentro de una librería o módulo hay múltiples funciones definidas. Puede ser que solo nos interese una de sus funciones en especifico. Python nos permite cargar o importar solo las que nos interesan de la siguiente forma:"
   ]
  },
  {
   "cell_type": "code",
   "execution_count": 2,
   "metadata": {},
   "outputs": [],
   "source": [
    "from os import getcwd"
   ]
  },
  {
   "cell_type": "code",
   "execution_count": 3,
   "metadata": {},
   "outputs": [
    {
     "data": {
      "text/plain": [
       "'/mnt/c/Users/Paula/Documents/Adalab/ejercicios_clase/Python'"
      ]
     },
     "execution_count": 3,
     "metadata": {},
     "output_type": "execute_result"
    }
   ],
   "source": [
    "# 📌 fijaos como en estos casos, ya no necesitamos especificar \"os\". Este método nos va a dar información sobre donde estamos trabajando, es como el pwd que usamos en la terminal. \n",
    "getcwd()"
   ]
  },
  {
   "cell_type": "code",
   "execution_count": 4,
   "metadata": {},
   "outputs": [],
   "source": [
    "# como esta no es la forma habitual en la que importaremos os, vamos a volver a importar toda la librería para seguir trabajando en la lección. \n",
    "\n",
    "import os"
   ]
  },
  {
   "cell_type": "markdown",
   "metadata": {},
   "source": [
    "Algo muy común cuando estamos trabajando en Python importanto librerías es el uso de alias. Estos son palabras clave que vamos a usar para evitar tener que usar el nombre de la librería completa, ya sea porque el nombre es muy largo o por convención. Uno de los casos más comunes lo encontraremos en librerías como pandas o numpy, dos librerías que todavía no hemos visto, pero que veremos en el módulo 2 del bootcamp. En caso de que queramos hacer la importación con alias tendremos que usar la palabra clave `as`. En el caso de estas librerías sus *import*  los encontraremos de la siguiente forma: "
   ]
  },
  {
   "cell_type": "code",
   "execution_count": 7,
   "metadata": {},
   "outputs": [
    {
     "ename": "ModuleNotFoundError",
     "evalue": "No module named 'pandas'",
     "output_type": "error",
     "traceback": [
      "\u001b[0;31m---------------------------------------------------------------------------\u001b[0m",
      "\u001b[0;31mModuleNotFoundError\u001b[0m                       Traceback (most recent call last)",
      "Cell \u001b[0;32mIn [7], line 2\u001b[0m\n\u001b[1;32m      1\u001b[0m \u001b[39m# en el caso de la librería de pandas, usaremos el alias pd\u001b[39;00m\n\u001b[0;32m----> 2\u001b[0m \u001b[39mimport\u001b[39;00m \u001b[39mpandas\u001b[39;00m \u001b[39mas\u001b[39;00m \u001b[39mpd\u001b[39;00m\n\u001b[1;32m      4\u001b[0m \u001b[39m# en el caso de la librería de numpy, usaremos el alias np\u001b[39;00m\n\u001b[1;32m      5\u001b[0m \u001b[39mimport\u001b[39;00m \u001b[39mnumpy\u001b[39;00m \u001b[39mas\u001b[39;00m \u001b[39mnp\u001b[39;00m\n",
      "\u001b[0;31mModuleNotFoundError\u001b[0m: No module named 'pandas'"
     ]
    }
   ],
   "source": [
    "# en el caso de la librería de pandas, usaremos el alias pd\n",
    "import pandas as pd\n",
    "\n",
    "# en el caso de la librería de numpy, usaremos el alias np\n",
    "import numpy as np"
   ]
  },
  {
   "cell_type": "markdown",
   "metadata": {},
   "source": [
    "**Repaso**\n",
    "- Con `import` cargamos un módulo entero, y sus funciones estarán disponible como `modulo.funcion()`.\n",
    "\n",
    "- Con `from modulo import funcion1, funcion2` cargamos sólo funciones específicas."
   ]
  },
  {
   "cell_type": "markdown",
   "metadata": {},
   "source": [
    "## Rutas relativas *vs* rutas absolutas"
   ]
  },
  {
   "cell_type": "code",
   "execution_count": 8,
   "metadata": {},
   "outputs": [
    {
     "data": {
      "text/plain": [
       "'/mnt/c/Users/Paula/Documents/Adalab/ejercicios_clase/Python'"
      ]
     },
     "execution_count": 8,
     "metadata": {},
     "output_type": "execute_result"
    }
   ],
   "source": [
    "# veamos cuál es la ruta de la carpeta donde estamos trabajando, esto es lo mismo que hacer pwd en la terminal\n",
    "# el resultado de esta operación lo vamos a almacenar en una variable a la que llamaremos \"mi_ruta\"\n",
    "\n",
    "mi_ruta = os.getcwd()\n",
    "mi_ruta"
   ]
  },
  {
   "cell_type": "markdown",
   "metadata": {},
   "source": [
    "Si nos fijamos, este método nos devuelve un *string* y como tal le podremos aplicar todos los métodos de *strings* que hemos aprendido hasta ahora. \n",
    "\n",
    "Esta ruta que nos devuelve es la `ruta absoluta`, empezando con la unidad de disco, `C:`, `D:`, o parecido, y todas las carpetas madre de la carpeta actual ( es decir, todas los pasitos que tenemos que seguir hasta llegar al fichero en el que estamos trabajando). Esta ruta nos puede resultar muy útil para ubicar algo desde cualquier otra carpeta. La desventaja es que al mover el código a otro dispositivo, es poco probable que esa ruta siga siendo la misma y podemos encontrarnos con problemas. \n",
    "\n",
    "Para evitar estos problemas, lo ideal es trabajar con rutas relativas. En este tipo de rutas definimos la carpeta actual con un punto `.` por lo que `./subcarpeta` se refiere a una subcarpeta de la carpeta actual. Igualmente `..` se refiere a la carpeta en que se encuentra la carpeta actual (como hacemos en la terminal). Veamos algunos ejemplos para entender esto mejor, pero como apoyo podemos pensar en como nos movemos por las carpetas desde la terminal. Recordemos que en la terminal, cuando hacemos `cd ..` lo que hacemos es irnos una carpeta para atrás, lo mismo pasará en las rutas relativas en Python.\n",
    "\n",
    "    ```\n",
    "    # Ahora mismo estamos en la carpeta notebooks como hemos visto en la celda anterior, imaginemos ahora que nos queremos mover a la carpeta de `assets` usaremos entonces, igual que en la terminal. \n",
    "    ../\n",
    "\n",
    "    # si por el contrario quisieramos irnos dos carpetas para atrás, lo único que tenemos que hacer es añadir otros `../` y esto lo haremos por cada carpeta para atrás que queramos ir. Es decir, en esta línea nos estamos yendo dos carpetas para atrás: \n",
    "    ../../\n",
    "    ```"
   ]
  },
  {
   "cell_type": "markdown",
   "metadata": {},
   "source": [
    "📌 Si estás en un equipo Windows puede que las rutas te hayan salido con `\\\\` en vez de `/` para separar las carpetas. Windows usa el carácter `\\` para sus rutas, que se interpreta mal si se usa en un string. `\\t` es un `tab` por ejemplo, y `\\n` es una línea nueva. Para evitar que se interprete mal, la ruta se demuestra con dobles slash `\\\\`. En las versiones recientes de Windows, sin embargo, se aceptan las rutas con `/` también. Una ruta con `/` te va a funcionar en todo tipo de dispositivos entonces, mientras las rutas con `\\` están limitadas a sólo Windows."
   ]
  },
  {
   "cell_type": "markdown",
   "metadata": {},
   "source": [
    "**Repaso**\n",
    "- Las rutas absolutas empiezan con la unidad de disco, como `C:/`. Rutas absolutas no funcionan en otros dispositivos.\n",
    "\n",
    "- Las rutas relativas empiezan en la carpeta actual `./` y para salir a la carpeta madre usamos `../`.\n",
    "\n",
    "- Windows demostrará las rutas con `\\\\` en vez de `/`. Son iguales pero `/` te valdrá en todos los sistemas operativos."
   ]
  },
  {
   "cell_type": "markdown",
   "metadata": {},
   "source": [
    "---\n",
    "## Ejercicios modulos, rutas relativas y absolutas\n",
    "\n",
    "- Importar un módulo\n",
    "\n",
    "    1. Carga el módulo `datetime`.\n",
    "    2. Carga el módulo `datetime` con el alias (= nombre local) `dt`.\n",
    "\n",
    "- Importar contenidos de un módulo\n",
    "\n",
    "    3. Carga la clase `date` del módulo `datetime`.\n",
    "    4. Carga la clase `date` del módulo `datetime` con el alias `fecha`.\n",
    "\n",
    "- Usar contenidos de un módulo\n",
    "\n",
    "    5. Usa el método `.today()` de la clase `date` del módulo con alias `dt` para la variable `hoy1`. Imprime `hoy1`.\n",
    "    6. Usa el método `.today()` de la con alias `fecha` para la variable `hoy2`. Imprime `hoy2`.\n",
    "\n",
    "---"
   ]
  },
  {
   "cell_type": "code",
   "execution_count": 28,
   "metadata": {},
   "outputs": [],
   "source": [
    "import datetime as dt"
   ]
  },
  {
   "cell_type": "code",
   "execution_count": 13,
   "metadata": {},
   "outputs": [],
   "source": [
    "from datetime import date as fecha"
   ]
  },
  {
   "cell_type": "code",
   "execution_count": 29,
   "metadata": {},
   "outputs": [
    {
     "name": "stdout",
     "output_type": "stream",
     "text": [
      "2022-11-19\n"
     ]
    }
   ],
   "source": [
    "#Usa el método `.today()` de la clase `date` del módulo con alias `dt` para la variable `hoy1`. Imprime `hoy1`.\n",
    "from datetime import date\n",
    "hoy1 = date.today()\n",
    "print (hoy1)"
   ]
  },
  {
   "cell_type": "code",
   "execution_count": 22,
   "metadata": {},
   "outputs": [
    {
     "name": "stdout",
     "output_type": "stream",
     "text": [
      "2022-11-19\n"
     ]
    }
   ],
   "source": [
    "#Usa el método `.today()` de la con alias `fecha` para la variable `hoy2`. Imprime `hoy2`.\n",
    "hoy2 = fecha.today()\n",
    "print(hoy2)"
   ]
  },
  {
   "cell_type": "markdown",
   "metadata": {},
   "source": [
    "\n",
    "---"
   ]
  },
  {
   "cell_type": "markdown",
   "metadata": {},
   "source": [
    "# Librería `os`\n",
    "La primera librería que aprendimos a cargar es `os` [aquí](https://docs.python.org/3/library/os.html?highlight=module%20os#module-os) tenéis la documentación oficial. Esta librería nos va a permitir movernos entre carpetas, como podemos hacer con el explorador de archivos en Windows o con el finder en Mac (o incluso con la terminal, ahora que estamos aprendiendo a usarla). Conozcamos métodos interesantes de esta librería: "
   ]
  },
  {
   "cell_type": "code",
   "execution_count": 30,
   "metadata": {},
   "outputs": [
    {
     "data": {
      "text/plain": [
       "'/mnt/c/Users/Paula/Documents/Adalab/ejercicios_clase/Python'"
      ]
     },
     "execution_count": 30,
     "metadata": {},
     "output_type": "execute_result"
    }
   ],
   "source": [
    "# utilizamos el método getcwd para saber cual es nuestra carpeta de trabajo y lo almacenamos en una variable\n",
    "carpeta_jupyter = os.getcwd()\n",
    "carpeta_jupyter"
   ]
  },
  {
   "cell_type": "markdown",
   "metadata": {},
   "source": [
    "### `.listdir()`\n",
    "\n",
    "Este método nos permite conocer que archivos y carpetas tenemos en nuestro ruta de trabajo, es decir, es como el `ls` de la terminal. "
   ]
  },
  {
   "cell_type": "code",
   "execution_count": 31,
   "metadata": {},
   "outputs": [
    {
     "name": "stdout",
     "output_type": "stream",
     "text": [
      "['Modulo-1-leccion-08-funciones-1-Intro.ipynb', 'Modulo-1-leccion-09-funciones-2-argumentos.ipynb', 'Modulo-1-leccion-10-Clases.ipynb', 'Modulo-1-leccion-11-ficheros.ipynb', 'Modulo_1_sprint_1', 'prueba.ipynb']\n"
     ]
    }
   ],
   "source": [
    "print(os.listdir())"
   ]
  },
  {
   "cell_type": "markdown",
   "metadata": {},
   "source": [
    "### `.chdir()` \n",
    "\n",
    "Puede ser que en ocasiones nos interese cambiar la carpeta de trabajo, para eso podemos usar la función `.chdir()`, al cuál le tendremos que pasar la ruta de la carpeta que queremos establecer como carpeta de trabajo. Imaginemos que queremos irnos a nuestro escritorio: "
   ]
  },
  {
   "cell_type": "code",
   "execution_count": 32,
   "metadata": {},
   "outputs": [
    {
     "ename": "FileNotFoundError",
     "evalue": "[Errno 2] No such file or directory: '/mnt/c/Users/agarc/Desktop'",
     "output_type": "error",
     "traceback": [
      "\u001b[0;31m---------------------------------------------------------------------------\u001b[0m",
      "\u001b[0;31mFileNotFoundError\u001b[0m                         Traceback (most recent call last)",
      "Cell \u001b[0;32mIn [32], line 2\u001b[0m\n\u001b[1;32m      1\u001b[0m \u001b[39m# cambiamos la ruta de trabajo a el escritorio. 📌 Siguiendo esta ruta, os dará error, recordad cambiar esta ruta por la que corresponda con vuestros ordenadores en caso de que queráis seguir la clase con vuestras carpetas\u001b[39;00m\n\u001b[0;32m----> 2\u001b[0m os\u001b[39m.\u001b[39;49mchdir(\u001b[39m'\u001b[39;49m\u001b[39m/mnt/c/Users/agarc/Desktop\u001b[39;49m\u001b[39m'\u001b[39;49m)\n",
      "\u001b[0;31mFileNotFoundError\u001b[0m: [Errno 2] No such file or directory: '/mnt/c/Users/agarc/Desktop'"
     ]
    }
   ],
   "source": [
    "# cambiamos la ruta de trabajo a el escritorio. 📌 Siguiendo esta ruta, os dará error, recordad cambiar esta ruta por la que corresponda con vuestros ordenadores en caso de que queráis seguir la clase con vuestras carpetas\n",
    "os.chdir('/mnt/c/Users/agarc/Desktop')"
   ]
  },
  {
   "cell_type": "code",
   "execution_count": 10,
   "metadata": {},
   "outputs": [
    {
     "data": {
      "text/plain": [
       "'/mnt/c/Users/agarc/Desktop'"
      ]
     },
     "execution_count": 10,
     "metadata": {},
     "output_type": "execute_result"
    }
   ],
   "source": [
    "# ahora, vamos a chequear cuál es ahora nuestra ruta de trabajo\n",
    "os.getcwd()"
   ]
  },
  {
   "cell_type": "code",
   "execution_count": 11,
   "metadata": {},
   "outputs": [
    {
     "name": "stdout",
     "output_type": "stream",
     "text": [
      "['AAA', 'archivo.txt', 'casas_limpio_II.csv', 'contraseñas correo data.txt', 'datos_dashboard_tableau_repaso.txt', 'desktop.ini', 'ficheros2.txt', 'ficheros3.txt', 'Ficheros_a_revisar.txt', 'repasos-promo-a', 'repasos-promo-b', 'repasos-promo-c', 'repaso_limpieza.ipynb', 'repaso_numpy_v2.ipynb', 'soluciones regex.txt', 'tareas_lead.txt']\n"
     ]
    }
   ],
   "source": [
    "# y que ficheros tenemos ahora en esta carpeta\n",
    "print(os.listdir())"
   ]
  },
  {
   "cell_type": "markdown",
   "metadata": {},
   "source": [
    "### `.mkdir()` \n",
    "\n",
    "Para crear carpetas tenemos `.mkdir()`, de *make directory*, si os fijais, la función es muy parecida a la que usamos en la terminal. En este caso vamos a crear una carpeta que se llame `Carpeta_os` y vamos a comprobar con la función `.listdir()` si se nos ha creado correctamente esa carpeta.\n",
    "\n",
    "Si nos fijamos, ahora tenemos un nuevo elemento en la lista que nos devuelve el método `.listdir()`, la carpeta que hemos creado esta ya en esta lista! \n"
   ]
  },
  {
   "cell_type": "code",
   "execution_count": 33,
   "metadata": {},
   "outputs": [
    {
     "name": "stdout",
     "output_type": "stream",
     "text": [
      "['Carpeta_os', 'Modulo-1-leccion-08-funciones-1-Intro.ipynb', 'Modulo-1-leccion-09-funciones-2-argumentos.ipynb', 'Modulo-1-leccion-10-Clases.ipynb', 'Modulo-1-leccion-11-ficheros.ipynb', 'Modulo_1_sprint_1', 'prueba.ipynb']\n"
     ]
    }
   ],
   "source": [
    "# creamos la carpeta\n",
    "os.mkdir('Carpeta_os')\n",
    "\n",
    "# listamos los archivos y ficheros que tenemos\n",
    "print(os.listdir())"
   ]
  },
  {
   "cell_type": "markdown",
   "metadata": {},
   "source": [
    "### `.rename()`\n",
    "\n",
    "A veces, puede que estemos interesados en cambiar el nombre de una carpeta, en este caso vamos a cambiar el nombre de nuestra carpeta nueva a `'testtesttest'`. La sintaxis que seguiremos en esta función es: \n",
    "\n",
    "```python\n",
    "os.rename(\"nombre_nuevo\", \"nombre_antiguo\")\n",
    "```"
   ]
  },
  {
   "cell_type": "code",
   "execution_count": 34,
   "metadata": {},
   "outputs": [
    {
     "name": "stdout",
     "output_type": "stream",
     "text": [
      "['Modulo-1-leccion-08-funciones-1-Intro.ipynb', 'Modulo-1-leccion-09-funciones-2-argumentos.ipynb', 'Modulo-1-leccion-10-Clases.ipynb', 'Modulo-1-leccion-11-ficheros.ipynb', 'Modulo_1_sprint_1', 'prueba.ipynb', 'testtesttest']\n"
     ]
    }
   ],
   "source": [
    "# cambiamos el nombre de la carpeta\n",
    "os.rename('Carpeta_os','testtesttest')\n",
    "\n",
    "# chequeamos si se ha cambiado el nombre\n",
    "print(os.listdir())\n"
   ]
  },
  {
   "cell_type": "markdown",
   "metadata": {},
   "source": [
    "### `.rmdir()` \n",
    "\n",
    "Por último, puede que estemos interesadas en eliminar alguna carpeta, para eso usaremos la función `.rmdir()`. "
   ]
  },
  {
   "cell_type": "code",
   "execution_count": 35,
   "metadata": {},
   "outputs": [
    {
     "name": "stdout",
     "output_type": "stream",
     "text": [
      "['Modulo-1-leccion-08-funciones-1-Intro.ipynb', 'Modulo-1-leccion-09-funciones-2-argumentos.ipynb', 'Modulo-1-leccion-10-Clases.ipynb', 'Modulo-1-leccion-11-ficheros.ipynb', 'Modulo_1_sprint_1', 'prueba.ipynb']\n"
     ]
    }
   ],
   "source": [
    "# eliminamos la carpeta que hemos creado\n",
    "os.rmdir('testtesttest')\n",
    "\n",
    "# chequeamos que ha sido correctamente eliminada\n",
    "print(os.listdir())"
   ]
  },
  {
   "cell_type": "markdown",
   "metadata": {},
   "source": [
    "**Repaso**\n",
    "\n",
    "- Para saber en que ruta absoluta estás usa `os.getcwd()`.\n",
    "\n",
    "- Para cambiar la carpeta en que estés usa `os.chdir()`.\n",
    "\n",
    "- Los contenidos de la carpeta actual son mostradis con `os.listdir()`. Igualmente, los contenidos de la carpeta `'X'` con `os.listdir('X')`.\n",
    "\n",
    "- Crear, renombrar, o eliminar una carpeta  `os.mkdir()`, `os.rename()`, y `os.remove()`.\n"
   ]
  },
  {
   "cell_type": "markdown",
   "metadata": {},
   "source": [
    "# Librería `shutil`\n",
    "\n",
    "La documentación oficial de esta librería la tenéis [aquí]('https://docs.python.org/3/library/shutil.html'). Su nombre se refiere a *sh*ell *util*ities, en que *shell* es el intérprete de órdenes que te da accesso a los servicios del sistema operativo. La usaremos para eliminar carpetas y subcarpetas a la vez. Para hacerlo usa el comando `.rmtree()` (*remove tree*) en que *tree* se refiere al árbol de carpetas y subcarpetas, es decir lo hará de forma recursiva! \n"
   ]
  },
  {
   "cell_type": "code",
   "execution_count": 36,
   "metadata": {},
   "outputs": [],
   "source": [
    "# lo primero que vamos a hacer es cargar la librería, en este caso no lo vamos a cargar todo, solo cargaremos lo que nos interesa\n",
    "\n",
    "from shutil import rmtree"
   ]
  },
  {
   "cell_type": "code",
   "execution_count": 39,
   "metadata": {},
   "outputs": [],
   "source": [
    "# creamos de nuevo la carpeta mkdir\n",
    "os.mkdir(\"Carpeta_os\")\n",
    "\n",
    "# dentro de esta carpeta, vamos a crear otra carpeta\n",
    "os.mkdir(\"Carpeta_os/ficheros\")"
   ]
  },
  {
   "cell_type": "code",
   "execution_count": 40,
   "metadata": {},
   "outputs": [
    {
     "name": "stdout",
     "output_type": "stream",
     "text": [
      "['Modulo-1-leccion-08-funciones-1-Intro.ipynb', 'Modulo-1-leccion-09-funciones-2-argumentos.ipynb', 'Modulo-1-leccion-10-Clases.ipynb', 'Modulo-1-leccion-11-ficheros.ipynb', 'Modulo_1_sprint_1', 'prueba.ipynb']\n"
     ]
    }
   ],
   "source": [
    "# Si chequeamos ahora la estructura de carpetas, tendremos \"Carpeta_os\" y dentro una carpeta llamada \"ficheros\". Vamos a proceder a eliminar de forma recursiva todas las carpetas\n",
    "\n",
    "rmtree('Carpeta_os')\n",
    "# printemos ahora las carpetas y archivos que tenemos en nuestro espacio de trabajo, y ya no nos aparecerá la carpeta \"Carpeta_os\"\n",
    "print(os.listdir())"
   ]
  },
  {
   "cell_type": "markdown",
   "metadata": {},
   "source": [
    "\n",
    "**Repaso**\n",
    "- Para borrar carpetas junto con sus subcarpetas y/o archivos, usaremos `rmtree()` del módulo `shutil`."
   ]
  },
  {
   "cell_type": "markdown",
   "metadata": {},
   "source": [
    "---\n",
    "## Ejercicios módulo `shutil`\n",
    "\n",
    "- Este apartado no tiene ejercicios. \n",
    "\n",
    "---"
   ]
  },
  {
   "cell_type": "code",
   "execution_count": null,
   "metadata": {},
   "outputs": [],
   "source": []
  },
  {
   "cell_type": "markdown",
   "metadata": {},
   "source": [
    "---"
   ]
  },
  {
   "cell_type": "markdown",
   "metadata": {},
   "source": [
    "# Librería con `open()` y `.close()`\n",
    "\n",
    "En ocasiones querremos cargar datos que tengamos en ficheros en nuestro ordenador en nuestro jupyter. En el GitBook donde te has descargado este notebook también hay dos archivos de texto, si no los has descargado todavía debéis descargarlos para poder seguir con la lección. Recuerda la ruta donde los guardas y usa `listdir()` del módulo `os` para comprobar que estén ahí:"
   ]
  },
  {
   "cell_type": "code",
   "execution_count": 41,
   "metadata": {},
   "outputs": [
    {
     "name": "stdout",
     "output_type": "stream",
     "text": [
      "['archivo.txt', 'contacto.xml', 'ejercicio1.xml', 'ficheros2.txt', 'Modulo-1-leccion-08-funciones-1-Intro.ipynb', 'Modulo-1-leccion-09-funciones-2-argumentos.ipynb', 'Modulo-1-leccion-10-Clases.ipynb', 'Modulo-1-leccion-11-ficheros.ipynb', 'Modulo_1_sprint_1', 'prueba.ipynb']\n"
     ]
    }
   ],
   "source": [
    "# primero chequeamos si los ficheros descargados están en la carpeta donde estamos trabajando\n",
    "\n",
    "print(os.listdir())"
   ]
  },
  {
   "cell_type": "markdown",
   "metadata": {},
   "source": [
    "Si no habéis ejecutado vosotras las celdas, veréis en el *output* que en nuestro caso, los ficheros están en la carpeta donde estamos trabajando. 📌 En caso de que no sea así, y que vosotras hayáis ido modificando el código acorde a la estructura de vuestras carpetas, aseguraros de estar en la carpeta deseada y con los archivos necesarios. "
   ]
  },
  {
   "cell_type": "code",
   "execution_count": 42,
   "metadata": {},
   "outputs": [
    {
     "data": {
      "text/plain": [
       "'archivo.txt'"
      ]
     },
     "execution_count": 42,
     "metadata": {},
     "output_type": "execute_result"
    }
   ],
   "source": [
    "# almacenamos en una variable el nombre del archivo de txt que vamos a usar en esta lección\n",
    "nom_archivo = 'archivo.txt'\n",
    "nom_archivo"
   ]
  },
  {
   "cell_type": "code",
   "execution_count": 43,
   "metadata": {},
   "outputs": [
    {
     "data": {
      "text/plain": [
       "'/mnt/c/Users/Paula/Documents/Adalab/ejercicios_clase/Python'"
      ]
     },
     "execution_count": 43,
     "metadata": {},
     "output_type": "execute_result"
    }
   ],
   "source": [
    "# almancenamos en una variable la ruta donde esta el archivo\n",
    "ubi_carpeta = os.getcwd()\n",
    "ubi_carpeta"
   ]
  },
  {
   "cell_type": "code",
   "execution_count": 44,
   "metadata": {},
   "outputs": [
    {
     "data": {
      "text/plain": [
       "'/mnt/c/Users/Paula/Documents/Adalab/ejercicios_clase/Python/archivo.txt'"
      ]
     },
     "execution_count": 44,
     "metadata": {},
     "output_type": "execute_result"
    }
   ],
   "source": [
    "# establecemos la ruta completa con el nombre del archivo\n",
    "ubi_archivo = ubi_carpeta + '/' + nom_archivo\n",
    "ubi_archivo"
   ]
  },
  {
   "cell_type": "markdown",
   "metadata": {},
   "source": [
    "Otra forma de poder abrir este fichero, esta sería de la siguiente forma 👇🏽"
   ]
  },
  {
   "cell_type": "code",
   "execution_count": 45,
   "metadata": {},
   "outputs": [
    {
     "name": "stdout",
     "output_type": "stream",
     "text": [
      "['archivo.txt', 'contacto.xml', 'ejercicio1.xml', 'ficheros2.txt', 'Modulo-1-leccion-08-funciones-1-Intro.ipynb', 'Modulo-1-leccion-09-funciones-2-argumentos.ipynb', 'Modulo-1-leccion-10-Clases.ipynb', 'Modulo-1-leccion-11-ficheros.ipynb', 'Modulo_1_sprint_1', 'prueba.ipynb']\n"
     ]
    }
   ],
   "source": [
    "# creamos una variable donde tenemos almancenados todos los ficheros y carpetas de nuestra carpeta de trabajo\n",
    "conts = os.listdir()\n",
    "print(conts)"
   ]
  },
  {
   "cell_type": "code",
   "execution_count": 47,
   "metadata": {},
   "outputs": [
    {
     "data": {
      "text/plain": [
       "'/mnt/c/Users/Paula/Documents/Adalab/ejercicios_clase/Python/archivo.txt'"
      ]
     },
     "execution_count": 47,
     "metadata": {},
     "output_type": "execute_result"
    }
   ],
   "source": [
    "# establecemos la ruta al fichero usando la variable \"conts\" que creamos anteriormente\n",
    "ubi_archivo = ubi_carpeta + '/' + conts[conts.index('archivo.txt')]\n",
    "ubi_archivo"
   ]
  },
  {
   "cell_type": "markdown",
   "metadata": {},
   "source": [
    "## `open()` y `close()`\n",
    "\n",
    "Una vez obtenida la ruta usaremos el método `open()`, que nos va a permitir abrir un archivo desde Python (sería como abrir el fichero como lo hemos hecho tradicionalmente hasta ahora, el doble *click*). Por el contrario, si queremos cerrar el fichero, lo que sería lo mismo que darle a la \"X\", usaremos el método `close()`. Ambos métodos no pertenecen a ningún módulo en específico y, por tanto, no hace falta importar nada."
   ]
  },
  {
   "cell_type": "code",
   "execution_count": 48,
   "metadata": {},
   "outputs": [
    {
     "data": {
      "text/plain": [
       "<_io.TextIOWrapper name='/mnt/c/Users/Paula/Documents/Adalab/ejercicios_clase/Python/archivo.txt' mode='r' encoding='UTF-8'>"
      ]
     },
     "execution_count": 48,
     "metadata": {},
     "output_type": "execute_result"
    }
   ],
   "source": [
    "# abrimos el fichero y lo almacenamos en una variable llamada \"f\". Al abrirlo cargamos sus contenidos y bloqueamos el archivo para que otras aplicaciones no lo puedan usar ni modificar\n",
    "f = open(ubi_archivo)\n",
    "f"
   ]
  },
  {
   "cell_type": "code",
   "execution_count": 49,
   "metadata": {},
   "outputs": [],
   "source": [
    "# cerramos el fichero, esto corresponde a cuando cerramos un fichero en nuestro ordenador dándole a la \"x\"\n",
    "f.close()"
   ]
  },
  {
   "cell_type": "markdown",
   "metadata": {},
   "source": [
    "## `.read()`\n",
    "\n",
    "Hasta ahora hemos aprendido a abrir y cerrar un archivo, pero no hemos visto su contenido. Para eso usaremos el método `read()`. "
   ]
  },
  {
   "cell_type": "code",
   "execution_count": 50,
   "metadata": {},
   "outputs": [
    {
     "data": {
      "text/plain": [
       "'Este es la primera frase.\\nEste es la segunda línea.\\n\\nLa línea anterior era vacía.\\n\\tEste tiene un tab delante.\\n6 caracteres difíciles: å, è, í, ü, &, ¿'"
      ]
     },
     "execution_count": 50,
     "metadata": {},
     "output_type": "execute_result"
    }
   ],
   "source": [
    "# abrimos el archivo\n",
    "f = open(ubi_archivo)\n",
    "\n",
    "# leemos el archivo, para poder ver su contenido\n",
    "f.read()"
   ]
  },
  {
   "cell_type": "code",
   "execution_count": 51,
   "metadata": {},
   "outputs": [
    {
     "data": {
      "text/plain": [
       "''"
      ]
     },
     "execution_count": 51,
     "metadata": {},
     "output_type": "execute_result"
    }
   ],
   "source": [
    "# Este método nos permite especificar el número de caracteres que queremos leer, será el número de caracteres que le pasaremos entre paréntesis. Imaginemos que queremos leer solo 10 caracteres\n",
    "f.read(10)"
   ]
  },
  {
   "cell_type": "markdown",
   "metadata": {},
   "source": [
    "Ups... ¿qué ha pasado? Esto es algo especial de este tipo de función, y es que podríamos decir, que es de un solo uso. Una vez que ya hemos hecho una acción con este archivo no podremos hacer otra, por lo tendremos que volver a cargarlo. "
   ]
  },
  {
   "cell_type": "code",
   "execution_count": 52,
   "metadata": {},
   "outputs": [
    {
     "data": {
      "text/plain": [
       "'Este es la'"
      ]
     },
     "execution_count": 52,
     "metadata": {},
     "output_type": "execute_result"
    }
   ],
   "source": [
    "# volvemos a cargar el archivo\n",
    "f = open(ubi_archivo)\n",
    "\n",
    "# especificamos que solo queremos leer 10 caracteres\n",
    "f.read(10)\n",
    "\n"
   ]
  },
  {
   "cell_type": "code",
   "execution_count": 53,
   "metadata": {},
   "outputs": [],
   "source": [
    "# cerramos la lectura del archivo\n",
    "f.close()\n"
   ]
  },
  {
   "cell_type": "markdown",
   "metadata": {},
   "source": [
    "EL  contenido que leemos lo podemos guardar en una variable y así no hace falta mantener el archivo abierto:"
   ]
  },
  {
   "cell_type": "code",
   "execution_count": 54,
   "metadata": {},
   "outputs": [],
   "source": [
    "f = open(ubi_archivo)\n",
    "principio_archivo = f.read()\n",
    "f.close()"
   ]
  },
  {
   "cell_type": "code",
   "execution_count": 55,
   "metadata": {},
   "outputs": [
    {
     "data": {
      "text/plain": [
       "'Este es la primera frase.\\nEste es la segunda línea.\\n\\nLa línea anterior era vacía.\\n\\tEste tiene un tab delante.\\n6 caracteres difíciles: å, è, í, ü, &, ¿'"
      ]
     },
     "execution_count": 55,
     "metadata": {},
     "output_type": "execute_result"
    }
   ],
   "source": [
    "# ahora, aunque el fichero este cerrado, podremos seguir accediendo a su contenido\n",
    "principio_archivo"
   ]
  },
  {
   "cell_type": "code",
   "execution_count": 56,
   "metadata": {},
   "outputs": [
    {
     "data": {
      "text/plain": [
       "str"
      ]
     },
     "execution_count": 56,
     "metadata": {},
     "output_type": "execute_result"
    }
   ],
   "source": [
    "# ¿Que tipo de dato es esta variable? No nos debería sorprender que sea un string y como tal podremos aplicar los métodos de los strings aprendidos hasta ahora. \n",
    "\n",
    "type(principio_archivo)"
   ]
  },
  {
   "cell_type": "markdown",
   "metadata": {},
   "source": [
    "## Argumentos opcionales para `open()`"
   ]
  },
  {
   "cell_type": "markdown",
   "metadata": {},
   "source": [
    "### *encoding*\n",
    "\n",
    "Puede que a algunas cuando leisteis el archivo en las celdas anteriores, la 'í' de línea no se leyó bien: se convirtió en una 'Ã­', es decir, las tildes parece que no nos las está leyendo bien. Seguro que lo habéis encontrado en más ocasiones en vuestra vida, es un problema que se llama *encoding* y que es fácil de solucionar pero que también es fácil de olvidar! Cada plataforma tiene un *encoding* diferente. En ocasiones nos especificarán que *encoding* han usado, otras veces no y tendremos que investigar o llegados a cierto punto, nuestra experiencia será un plus:\n"
   ]
  },
  {
   "cell_type": "code",
   "execution_count": 57,
   "metadata": {},
   "outputs": [
    {
     "data": {
      "text/plain": [
       "'UTF-8'"
      ]
     },
     "execution_count": 57,
     "metadata": {},
     "output_type": "execute_result"
    }
   ],
   "source": [
    "# esta librería nos va a permitir saber que sistema de encoding estamos usando, pero ojo que a veces puede equivocarse\n",
    "from locale import getpreferredencoding\n",
    "getpreferredencoding()"
   ]
  },
  {
   "cell_type": "markdown",
   "metadata": {},
   "source": [
    "Existen muchos encoding distintos, y básicamente lo que hacen es convertir los caracteres de un *string* a bytes. Cada *string* ocupa en la memoria entonces algunos bytes, y la manera de interpretarlos y mostrar los caracteres depende del encoding. Para saber los encoding que hay os dirigimos a la [documentación](https://docs.python.org/3/library/codecs.html#standard-encodings). El archivo que cargamos,  fue guardado con 'UTF-8', un encoding estándar que cubre todos los idiomas. Para leer el archivo entonces deberemos especificar el *encoding* que usar:"
   ]
  },
  {
   "cell_type": "code",
   "execution_count": 58,
   "metadata": {},
   "outputs": [
    {
     "data": {
      "text/plain": [
       "'Este es la primera frase.\\nEste es la segunda línea.\\n\\nLa línea anterior era vacía.\\n\\tEste tiene un tab delante.\\n6 caracteres difíciles: å, è, í, ü, &, ¿'"
      ]
     },
     "execution_count": 58,
     "metadata": {},
     "output_type": "execute_result"
    }
   ],
   "source": [
    "# abrimos el archivo\n",
    "f = open(ubi_archivo, encoding=\"utf-8\")\n",
    "\n",
    "# almacenamos en una variable su contenido\n",
    "principio_archivo = f.read()\n",
    "\n",
    "# cerramos el archivo\n",
    "principio_archivo"
   ]
  },
  {
   "cell_type": "markdown",
   "metadata": {},
   "source": [
    "Y listo! Ya tenemos nuestro texto bien formateado 👏🏽, en caso de que antes no lo tuvieramos"
   ]
  },
  {
   "cell_type": "markdown",
   "metadata": {},
   "source": [
    "### *mode*\n",
    "\n",
    "Otro argumento opcional es el modo (`mode`) en que abres un archivo. El valor asignado por defecto es `mode='r'` en que `r` se refiere a *reading* o leer. Otras opciones para ese argumento son:\n",
    "- 'r' de *reading*, leer\n",
    "\n",
    "- 'w' de *writing*, escribir\n",
    "\n",
    "- 'x' de *exclusive creation*, sólo crearlo si no existe todavía\n",
    "\n",
    "- 'a' de *appending*, añadir texto al archivo sin manipular el texto que ya había.\n",
    "\n",
    "\n",
    "\n",
    "📌 **NOTA** Si abrimos un archivo en el modo `'r'` de *reading* (leer) que no existe todavía, nos da un error. \n",
    "\n",
    " Ademàs, el `mode` se puede especificar con 2 letras, una de la lista aquí arriba, seguida por un `t` (de texto, implícito), o `b` (de bytes, hay que ponerlo). Obviamente si lo quieres leer como bytes no tiene sentido especificar un *encoding* ya que no codificas nada sino que lo quieres leer en crudo sin codificar. Si das un argumento de mobo 'b' y un *encoding* a la vez te surgirá un error entonces."
   ]
  },
  {
   "cell_type": "code",
   "execution_count": 59,
   "metadata": {},
   "outputs": [
    {
     "name": "stdout",
     "output_type": "stream",
     "text": [
      "b'Este es la primera frase.\\nEste es la segunda l\\xc3\\xadnea.\\n\\nLa l\\xc3\\xadnea anterior era vac\\xc3\\xada.\\n\\tEste tiene un tab delante.\\n6 caracteres dif\\xc3\\xadciles: \\xc3\\xa5, \\xc3\\xa8, \\xc3\\xad, \\xc3\\xbc, &, \\xc2\\xbf'\n"
     ]
    }
   ],
   "source": [
    "# leer en binary, sin encoding #\n",
    "################################\n",
    "# abrimos el archivo\n",
    "f = open(ubi_archivo, mode = \"rb\")\n",
    "\n",
    "# almacenamos en una variable su contenido\n",
    "principio_archivo = f.read()\n",
    "\n",
    "# cerramos el archivo\n",
    "print(principio_archivo)\n",
    "\n",
    "# cerramos el archivo\n",
    "f.close()"
   ]
  },
  {
   "cell_type": "code",
   "execution_count": 60,
   "metadata": {},
   "outputs": [
    {
     "name": "stdout",
     "output_type": "stream",
     "text": [
      "Este es la primera frase.\n",
      "Este es la segunda línea.\n",
      "\n",
      "La línea anterior era vacía.\n",
      "\tEste tiene un tab delante.\n",
      "6 caracteres difíciles: å, è, í, ü, &, ¿\n"
     ]
    }
   ],
   "source": [
    "# leer en texto, sinónimo de 'r' ya que la 't' significa usar el encoding de tu sistema operativo #\n",
    "#########################################################################################################\n",
    "\n",
    "\n",
    "# abrimos el archivo\n",
    "f = open(ubi_archivo, mode = \"rt\")\n",
    "\n",
    "# almacenamos en una variable su contenido\n",
    "principio_archivo = f.read()\n",
    "\n",
    "# cerramos el archivo\n",
    "print(principio_archivo)\n",
    "\n",
    "# cerramos el archivo\n",
    "f.close()"
   ]
  },
  {
   "cell_type": "markdown",
   "metadata": {},
   "source": [
    "**Repaso**\n",
    "- Si abres un archivo con la función `open()`, siempre ciérralo después.\n",
    "\n",
    "- Para cerrarlo usaremos el método `.close()`.\n",
    "\n",
    "- El modo `'t'` de `open()` convierte los bytes `'b'` a un *string* según el *encoding*.\n",
    "\n",
    "- Por defecto el modo es `'t'` usará el *encoding* de tu sistema operativo.\n",
    "\n",
    "- Por defecto, el archivo sólo se abre para *leerlo*, modo `'r'`.\n",
    "\n",
    "- Para escribir usa el modo `'w'`.\n",
    "\n",
    "- Si no le das argumentos lo abrirá con `'rt'`, acepta combinaciones de los modos, como por ejemplo `'wb'`.\n",
    "\n",
    "- Si le das un argumento al método `.read()` se referirá a la cantidad de carácteres que queremos leer.\n",
    "\n"
   ]
  },
  {
   "cell_type": "markdown",
   "metadata": {},
   "source": [
    "---\n",
    "## Ejercicios `open()` y `close()`\n",
    "\n",
    "- Ubicación del archivo\n",
    "\n",
    "    7. ¿Dónde tienes guardado el archivo `'ejercicio.txt'`? Guarda la ruta absoluta en `ubi_carp_ej`.\n",
    "\n",
    "    8. ¿En qué carpeta estás ejecutando este notebook?\n",
    "\n",
    "    9. Construye la ruta al archivo `'ejercicio.txt'` con una ruta absoluta en `ubi_ej_abs`. Usa `ubi_carp_ej` para construirla.\n",
    "\n",
    "    10. Construye la ruta al archivo `'ejercicio.txt'` con una ruta relativa en `ubi_ej_rel`.\n",
    "\n",
    "- Abrir y cerrar\n",
    "\n",
    "    11. Abre el archivo `'ejercicio.txt'` como `f`, y ciérralo.\n",
    "\n",
    "    12. Abre el archivo, imprime los primeros 28 caractéres, y ciérralo.\n",
    "    \n",
    "    13. Abre el archivo, guarda los primeros 30 caractéres como `ejer30`, ciérralo, y imprime `ejer30`.\n",
    "\n",
    "    \n",
    "- Argumentos opcionales open\n",
    "\n",
    "    14. Usar read() con un archivo abierto con argumentos opcionales\n",
    "\n",
    "    15. Lee el archivo 'ejercicio.txt' en modo binario. Imprime la primera línea.\n",
    "    \n",
    "    16. Lee el archivo 'ejercicio.txt' con un encoding de 'utf-8'. Deja el modo en por defecto. Imprime la última (qué índice es?)\n",
    "---"
   ]
  },
  {
   "cell_type": "code",
   "execution_count": 70,
   "metadata": {},
   "outputs": [],
   "source": [
    "#  7. ¿Dónde tienes guardado el archivo `'ejercicio.txt'`? Guarda la ruta absoluta en `ubi_carp_ej`.\n",
    "\n",
    "ubi_carp_ej = os.getcwd()"
   ]
  },
  {
   "cell_type": "code",
   "execution_count": 71,
   "metadata": {},
   "outputs": [
    {
     "data": {
      "text/plain": [
       "'/mnt/c/Users/Paula/Documents/Adalab/ejercicios_clase/Python'"
      ]
     },
     "execution_count": 71,
     "metadata": {},
     "output_type": "execute_result"
    }
   ],
   "source": [
    "# 8. ¿En qué carpeta estás ejecutando este notebook?\n",
    "\n",
    "\n",
    "os.getcwd()"
   ]
  },
  {
   "cell_type": "code",
   "execution_count": 72,
   "metadata": {},
   "outputs": [
    {
     "name": "stdout",
     "output_type": "stream",
     "text": [
      "/mnt/c/Users/Paula/Documents/Adalab/ejercicios_clase/Python/ejercicio.txt\n"
     ]
    }
   ],
   "source": [
    "# 9. Construye la ruta al archivo `'ejercicio.txt'` con una ruta absoluta en `ubi_ej_abs`. Usa `ubi_carp_ej` para construirla.\n",
    "archivo_ej = 'ejercicio.txt'\n",
    "ubi_ej_abs = ubi_carp_ej + '/' + archivo_ej\n",
    "print (ubi_ej_abs)\n",
    "# 10. Construye la ruta al archivo `'ejercicio.txt'` con una ruta relativa en `ubi_ej_rel`"
   ]
  },
  {
   "cell_type": "code",
   "execution_count": 74,
   "metadata": {},
   "outputs": [
    {
     "name": "stdout",
     "output_type": "stream",
     "text": [
      "./ejercicio.txt\n"
     ]
    }
   ],
   "source": [
    "# 10. Construye la ruta al archivo `'ejercicio.txt'` con una ruta relativa en `ubi_ej_rel`\n",
    "ubi_ej_rel = './' + archivo_ej\n",
    "print (ubi_ej_rel)"
   ]
  },
  {
   "cell_type": "code",
   "execution_count": 75,
   "metadata": {},
   "outputs": [],
   "source": [
    "# 11. Abre el archivo `'ejercicio.txt'` como `f`, y ciérralo.\n",
    "f = open(ubi_ej_rel)\n",
    "\n",
    "f.close()"
   ]
  },
  {
   "cell_type": "code",
   "execution_count": 79,
   "metadata": {},
   "outputs": [
    {
     "name": "stdout",
     "output_type": "stream",
     "text": [
      "Este es la primera frase.\n",
      "Es\n"
     ]
    }
   ],
   "source": [
    "# 12. Abre el archivo, imprime los primeros 28 caractéres, y ciérralo.\n",
    "f = open(ubi_ej_rel)\n",
    "print(f.read(28))\n",
    "f.close()"
   ]
  },
  {
   "cell_type": "code",
   "execution_count": 80,
   "metadata": {},
   "outputs": [
    {
     "name": "stdout",
     "output_type": "stream",
     "text": [
      "Este es la primera frase.\n",
      "Este\n"
     ]
    }
   ],
   "source": [
    "# 13. Abre el archivo, guarda los primeros 30 caractéres como `ejer30`, ciérralo, y imprime `ejer30`.\n",
    "f = open(ubi_ej_rel)\n",
    "ejer30 = f.read(30)\n",
    "f.close()\n",
    "\n",
    "print (ejer30)"
   ]
  },
  {
   "cell_type": "code",
   "execution_count": 82,
   "metadata": {},
   "outputs": [
    {
     "name": "stdout",
     "output_type": "stream",
     "text": [
      "b'Este es la primera frase.\\r\\nEste es la segunda l\\xc3\\xadnea.\\r\\n\\r\\nLa l\\xc3\\xadnea anterior era vac\\xc3\\xada.\\r\\n\\tEste tiene un tab delante.\\r\\n6 caracteres dif\\xc3\\xadciles: \\xc3\\xa5, \\xc3\\xa8, \\xc3\\xad, \\xc3\\xbc, &, \\xc2\\xbf'\n"
     ]
    }
   ],
   "source": [
    "# 14. Usar read() con un archivo abierto con argumentos opcionales\n",
    "f = open(ubi_ej_rel, mode = 'rb')\n",
    "print(f.read())\n",
    "f.close()\n"
   ]
  },
  {
   "cell_type": "code",
   "execution_count": 83,
   "metadata": {},
   "outputs": [
    {
     "name": "stdout",
     "output_type": "stream",
     "text": [
      "b'Este es la primera frase.\\r\\n'\n"
     ]
    }
   ],
   "source": [
    "# 15. Lee el archivo 'ejercicio.txt' en modo binario. Imprime la primera línea.\n",
    "f = open(ubi_ej_rel, mode = 'rb')\n",
    "print(f.readline())\n",
    "f.close()"
   ]
  },
  {
   "cell_type": "code",
   "execution_count": 85,
   "metadata": {},
   "outputs": [
    {
     "name": "stdout",
     "output_type": "stream",
     "text": [
      "6 caracteres difíciles: å, è, í, ü, &, ¿\n"
     ]
    }
   ],
   "source": [
    "# 16. Lee el archivo 'ejercicio.txt' con un encoding de 'utf-8'. Deja el modo en por defecto. Imprime la última (qué índice es?)\n",
    "\n",
    "f = open(ubi_ej_rel, encoding = 'utf-8')\n",
    "lineas_archivo = (f.readlines())\n",
    "f.close()\n",
    "\n",
    "print (lineas_archivo [-1])"
   ]
  },
  {
   "cell_type": "markdown",
   "metadata": {},
   "source": [
    "---"
   ]
  },
  {
   "cell_type": "markdown",
   "metadata": {},
   "source": [
    "##  `.readline()`, `.readlines()`, y la palabra `with`\n",
    "\n",
    "Muchos archivos de texto tendrán más de una línea. Vimos que con el método `read()` podíamos especificar el número de caracteres que queríamos leer de un fichero.  Si queremos seleccionar en función de la líneas en vez de por caracteres usaremos el método `.readline()`:"
   ]
  },
  {
   "cell_type": "code",
   "execution_count": 61,
   "metadata": {},
   "outputs": [],
   "source": [
    "# abrimos el archivo\n",
    "f = open(ubi_archivo)\n",
    "\n",
    "# usamos el método readline para leer las líneas del fichero, lo almacenamos en una variable para poder seguir trabajando con ello más adelante\n",
    "linea_archivo = f.readline()\n",
    "\n",
    "# cerramos el fichero\n",
    "f.close()"
   ]
  },
  {
   "cell_type": "code",
   "execution_count": 38,
   "metadata": {},
   "outputs": [
    {
     "data": {
      "text/plain": [
       "'Este es la primera frase.\\n'"
      ]
     },
     "execution_count": 38,
     "metadata": {},
     "output_type": "execute_result"
    }
   ],
   "source": [
    "# veamos que contiene la variable \"linea_archivo\". Si nos fijamos, por defecto, nos devuelve la primera línea\n",
    "linea_archivo"
   ]
  },
  {
   "cell_type": "markdown",
   "metadata": {},
   "source": [
    "Si usamos la función `.readline()` dos veces consecutivas los devolverá las dos primeras líneas, Python es muy listo! Veámoslo con un ejemplo:"
   ]
  },
  {
   "cell_type": "code",
   "execution_count": 62,
   "metadata": {},
   "outputs": [
    {
     "name": "stdout",
     "output_type": "stream",
     "text": [
      "Este es la primera frase.\n",
      "\n",
      "Este es la segunda línea.\n",
      "\n"
     ]
    }
   ],
   "source": [
    "# abrimos el archivo\n",
    "f = open(ubi_archivo)\n",
    "\n",
    "# leemos la primera línea\n",
    "print(f.readline())\n",
    "\n",
    "# leemos la segunda línea\n",
    "print(f.readline())\n",
    "\n",
    "# cerramos el erchivo\n",
    "f.close()"
   ]
  },
  {
   "cell_type": "markdown",
   "metadata": {},
   "source": [
    "Hasta ahora hemos visto como leer una sola línea, pero podemos estar interesadas en leer más de una. Para esto podemos usar `.readlines()`. "
   ]
  },
  {
   "cell_type": "code",
   "execution_count": 63,
   "metadata": {},
   "outputs": [],
   "source": [
    "# abrimos el archivo\n",
    "f = open(ubi_archivo, encoding=\"utf-8\")\n",
    "\n",
    "# leemos todas las líneas del fichero y lo almacenamos en una variable\n",
    "lineas_archivo = f.readlines()\n",
    "\n",
    "# cerramos el fichero\n",
    "f.close()"
   ]
  },
  {
   "cell_type": "code",
   "execution_count": 64,
   "metadata": {},
   "outputs": [
    {
     "data": {
      "text/plain": [
       "['Este es la primera frase.\\n',\n",
       " 'Este es la segunda línea.\\n',\n",
       " '\\n',\n",
       " 'La línea anterior era vacía.\\n',\n",
       " '\\tEste tiene un tab delante.\\n',\n",
       " '6 caracteres difíciles: å, è, í, ü, &, ¿']"
      ]
     },
     "execution_count": 64,
     "metadata": {},
     "output_type": "execute_result"
    }
   ],
   "source": [
    "# veamos cuál es el contenido de la variable \"lineas_archivo\"\n",
    "lineas_archivo"
   ]
  },
  {
   "cell_type": "markdown",
   "metadata": {},
   "source": [
    "Y voilà! Nos devuelve una lista, donde cada elemento corresponde con una línea de nuestro texto. Por lo tanto, podremos acceder a cada elemento usando la indexación de listas que aprendimos en clase."
   ]
  },
  {
   "cell_type": "code",
   "execution_count": 65,
   "metadata": {},
   "outputs": [
    {
     "data": {
      "text/plain": [
       "'Este es la primera frase.\\n'"
      ]
     },
     "execution_count": 65,
     "metadata": {},
     "output_type": "execute_result"
    }
   ],
   "source": [
    "# accedemos al primer elemento\n",
    "lineas_archivo[0]"
   ]
  },
  {
   "cell_type": "code",
   "execution_count": 66,
   "metadata": {},
   "outputs": [
    {
     "data": {
      "text/plain": [
       "'Este es la segunda línea.\\n'"
      ]
     },
     "execution_count": 66,
     "metadata": {},
     "output_type": "execute_result"
    }
   ],
   "source": [
    "# accedemos al segundo elemento\n",
    "lineas_archivo[1]"
   ]
  },
  {
   "cell_type": "markdown",
   "metadata": {},
   "source": [
    "Hasta ahora siempre hemos abierto el archivo, cargado el contenido de una forma u otra, y lo cerramos enseguida. Como alternativa existe una forma en que cargamos el archivo sólo para ejecutar un bloque de código, y dejarlo al salir del bloque. "
   ]
  },
  {
   "cell_type": "code",
   "execution_count": 67,
   "metadata": {},
   "outputs": [
    {
     "name": "stdout",
     "output_type": "stream",
     "text": [
      "Este es la primera frase.\n",
      "\n"
     ]
    }
   ],
   "source": [
    "# abrimos el fichero y le ponemos el nombre de \"f\"\n",
    "with open(ubi_archivo) as f:\n",
    "    # le decimos que nos lea la primera línea y almacenamos los resultados en una variable llamada \"linea_archivo\"\n",
    "    linea_archivo = f.readline()\n",
    "\n",
    "# printeamos la variable\n",
    "print(linea_archivo)\n",
    "    "
   ]
  },
  {
   "cell_type": "markdown",
   "metadata": {},
   "source": [
    "📌 **NOTA** ¿Recordais los argumentos opcionales de la función `open`? Eran los métodos `encoding` y `mode`. Estos argumentos también los podremos usar en el `with open()`"
   ]
  },
  {
   "cell_type": "markdown",
   "metadata": {},
   "source": [
    "**Repaso**\n",
    "- Con `with open() as f:` no te puedes olvidar de cerrar el archivo.\n",
    "\n",
    "- El método `.readline()` lee el archivo línea por línea, una por cada vez que llames el método.\n",
    "\n",
    "- `.readlines()` en plural devuelve una lista con un elemento por cada línea del archivo."
   ]
  },
  {
   "cell_type": "markdown",
   "metadata": {},
   "source": [
    "---\n",
    "## Ejercicios `readline()`, `readlines()`, y la palabra `with`\n",
    "\n",
    "- Abrir archivos con `with`\n",
    "\n",
    "    14. Abre el archivo `'ejercicio.txt'` con `with`. Llama la variable en que se guardará la conexión con el archivo `f`. Usa a continuación la sentencia `pass` \n",
    "\n",
    "    15. Con `with`, lee la primera línea y guárdala en `lin1`.\n",
    "    \n",
    "    16. Imprime `lin1`. ¿Está abierto (bloqueado) el archivo `'ejercicio.txt'` ahora mismo?\n",
    "\n",
    "- Obtener una lista con el contenido del archivo.\n",
    "\n",
    "    17. Obtén una lista `lista_ejer` con el contenido de `'ejercicio.txt'`.\n",
    "\n",
    "- Bonus\n",
    "\n",
    "    18. Con un bucle `for` imprime las líneas que haya en la lista. Con un bucle `if` determina qué línea es la quinta (`[4]`) y imprime esa frase adelantada por `'-> '`.\n",
    "\n",
    "---"
   ]
  },
  {
   "cell_type": "code",
   "execution_count": 86,
   "metadata": {},
   "outputs": [],
   "source": [
    "#14. Abre el archivo `'ejercicio.txt'` con `with`. Llama la variable en que se guardará la conexión con el archivo `f`. Usa a continuación la sentencia `pass` \n",
    "with open(ubi_ej_rel) as f:\n",
    "    pass"
   ]
  },
  {
   "cell_type": "code",
   "execution_count": 87,
   "metadata": {},
   "outputs": [],
   "source": [
    "#15. Con `with`, lee la primera línea y guárdala en `lin1`.\n",
    "with open(ubi_ej_rel) as f:\n",
    "    lin1 = f.readline()"
   ]
  },
  {
   "cell_type": "code",
   "execution_count": 88,
   "metadata": {},
   "outputs": [
    {
     "data": {
      "text/plain": [
       "'Este es la primera frase.\\n'"
      ]
     },
     "execution_count": 88,
     "metadata": {},
     "output_type": "execute_result"
    }
   ],
   "source": [
    "# 16. Imprime `lin1`. ¿Está abierto (bloqueado) el archivo `'ejercicio.txt'` ahora mismo?\n",
    "lin1"
   ]
  },
  {
   "cell_type": "code",
   "execution_count": 89,
   "metadata": {},
   "outputs": [],
   "source": [
    "#17. Obtén una lista `lista_ejer` con el contenido de `'ejercicio.txt'`.\n",
    "with open(ubi_ej_rel) as f:\n",
    "    lista_ejer = f.readlines()"
   ]
  },
  {
   "cell_type": "markdown",
   "metadata": {},
   "source": [
    "---"
   ]
  },
  {
   "cell_type": "markdown",
   "metadata": {},
   "source": [
    "# Crear y escribir en archivos de texto\n",
    "En este jupyter aprendimos como un fichero se puede abrir con distintos modos (escritura, lectura, etc). Aprendimos que `'w'` viene de *writing* (escribir), pero no lo llegamos a usar. En este caso trabajaremos con el archivo `ficheros2.txt`, si lo abrís veréis que este archivo esta vacío (podéis abrirlo desde el explorador o el finder como hemos abierto siempre un fichero)"
   ]
  },
  {
   "cell_type": "code",
   "execution_count": 92,
   "metadata": {},
   "outputs": [
    {
     "name": "stdout",
     "output_type": "stream",
     "text": [
      "['archivo.txt', 'contacto.xml', 'ejercicio.txt', 'ejercicio1.xml', 'ficheros2.txt', 'Modulo-1-leccion-08-funciones-1-Intro.ipynb', 'Modulo-1-leccion-09-funciones-2-argumentos.ipynb', 'Modulo-1-leccion-10-Clases.ipynb', 'Modulo-1-leccion-11-ficheros.ipynb', 'Modulo_1_sprint_1', 'prueba.ipynb']\n"
     ]
    }
   ],
   "source": [
    "# lo primero que tenemos que hacer es asegurarnos de que el fichero está en nuestra carpeta de trabajo. En nuestro casi si que lo está, por lo tanto no tendremos que hacer nada\n",
    "print(os.listdir())"
   ]
  },
  {
   "cell_type": "code",
   "execution_count": 94,
   "metadata": {},
   "outputs": [
    {
     "name": "stdout",
     "output_type": "stream",
     "text": [
      "\n"
     ]
    }
   ],
   "source": [
    "# ahora vamos a abrir el archivo con el modo de escritura (w)\n",
    "with open('ficheros2.txt') as f:\n",
    "\n",
    "    # y vamos a ver su contenido, lo cual no nos devuelve nada ya que el fichero esta vacío\n",
    "    print(f.read())"
   ]
  },
  {
   "cell_type": "markdown",
   "metadata": {},
   "source": [
    "## `.write()` \n",
    "\n",
    "Nos va a permitir escribir texto en nuestro fichero. "
   ]
  },
  {
   "cell_type": "code",
   "execution_count": 96,
   "metadata": {},
   "outputs": [],
   "source": [
    "# ahora vamos a abrir el archivo con el modo de escritura (w)\n",
    "with open('ficheros2.txt','w') as f:\n",
    "\n",
    "    # usaremos el método .write para escribir contenido en nuestro archivo, donde se escribirá el contenido que nosotras especifiquemos entre paréntesis. \n",
    "    f.write('Primer texto de un archivo nuevo.')\n",
    "    f.close()"
   ]
  },
  {
   "cell_type": "code",
   "execution_count": 97,
   "metadata": {},
   "outputs": [
    {
     "name": "stdout",
     "output_type": "stream",
     "text": [
      "Primer texto de un archivo nuevo.\n"
     ]
    }
   ],
   "source": [
    "# leamos ahora el fichero para ver que hay en el archivo. En este caso usaremos el modo \"r\" porque solo nos interesa leerlo. \n",
    "with open('ficheros2.txt','r') as f:\n",
    "    print(f.read())\n",
    "    f.close()"
   ]
  },
  {
   "cell_type": "code",
   "execution_count": 98,
   "metadata": {},
   "outputs": [],
   "source": [
    "# Probemos ahora a añadir una segunda línea con el método `.write` y el modo `w` de apertura del archivo:\n",
    "with open (\"ficheros2.txt\", \"w\") as f:\n",
    "    f.write(\"Segundo texto en un archivo nuevo\")\n",
    "    f.close()"
   ]
  },
  {
   "cell_type": "code",
   "execution_count": 99,
   "metadata": {},
   "outputs": [
    {
     "name": "stdout",
     "output_type": "stream",
     "text": [
      "Segundo texto en un archivo nuevo\n"
     ]
    }
   ],
   "source": [
    "#y ahora lo leemos\n",
    "\n",
    "with open(\"ficheros2.txt\", \"r\") as f:\n",
    "    print(f.read())"
   ]
  },
  {
   "cell_type": "markdown",
   "metadata": {},
   "source": [
    "Nos ha borrado la primera línea que habíamos escrito 😢. Para evitar esto tendremos que usar el modo `a` cuando habramos el fichero, que nos permitía apendear (añadir) información al fichero sin que se nos borre la información contenida previamente. De la misma forma que con el modo `w` usaremos el método de `.write()` para añadir contenido a nuestro archivo: "
   ]
  },
  {
   "cell_type": "code",
   "execution_count": 100,
   "metadata": {},
   "outputs": [],
   "source": [
    "# añadimos nuevo contenido a nuestro fichero\n",
    "with open('ficheros2.txt','a') as f:\n",
    "    f.write('\\n Tercer texto del archivo nuevo.')"
   ]
  },
  {
   "cell_type": "code",
   "execution_count": 101,
   "metadata": {},
   "outputs": [
    {
     "name": "stdout",
     "output_type": "stream",
     "text": [
      "Segundo texto en un archivo nuevo\n",
      " Tercer texto del archivo nuevo.\n"
     ]
    }
   ],
   "source": [
    "# lo leemos ahora para ver que ha pasado\n",
    "with open('ficheros2.txt', \"r\") as f:\n",
    "    print(f.read())"
   ]
  },
  {
   "cell_type": "markdown",
   "metadata": {},
   "source": [
    "En vez de `.write()` también podemos utilizar `.writelines()`, parecido al `.readlines()` que vimos. Si queremos usar el método `writelines()` tendremos que pasar el contenido que queremos añadir en una lista"
   ]
  },
  {
   "cell_type": "code",
   "execution_count": 103,
   "metadata": {},
   "outputs": [],
   "source": [
    "# primero definimos una lista con el contenido que queremos añadir\n",
    "\n",
    "nuevo_contenido = [\"Cuarto texto de nuestro archivo\", \" Quinto texto de nuestro archivo\"]"
   ]
  },
  {
   "cell_type": "code",
   "execution_count": 104,
   "metadata": {},
   "outputs": [],
   "source": [
    "# queremos añadir las líenas que hemos especificado en la lista anterior, por lo tanto lo haremos en modo \"a\"\n",
    "with open('ficheros2.txt','a') as f:\n",
    "    f.writelines(nuevo_contenido)\n",
    "\n"
   ]
  },
  {
   "cell_type": "code",
   "execution_count": 105,
   "metadata": {},
   "outputs": [
    {
     "name": "stdout",
     "output_type": "stream",
     "text": [
      "Segundo texto en un archivo nuevo\n",
      " Tercer texto del archivo nuevo.Cuarto texto de nuestro archivo Quinto texto de nuestro archivo\n"
     ]
    }
   ],
   "source": [
    "# veamos ahora que contenido tiene ahora nuestro fichero\n",
    "with open('ficheros2.txt') as f:\n",
    "    print(f.read())"
   ]
  },
  {
   "cell_type": "markdown",
   "metadata": {},
   "source": [
    "Imaginemos ahora que queremos crear un nuevo fichero, para eso tendremos que usar el modo `x`, veamos un ejemplo: "
   ]
  },
  {
   "cell_type": "code",
   "execution_count": 106,
   "metadata": {},
   "outputs": [],
   "source": [
    "# creamos un fichero que se llama ficheros3, al que le vamos a añadir una frase de buenos dias\n",
    "with open('ficheros3.txt','x') as f:\n",
    "    f.write(\"Buenos dias\")\n",
    "    f.close()"
   ]
  },
  {
   "cell_type": "markdown",
   "metadata": {},
   "source": [
    "¿Que pasaría si usamos el modo `x` para crear un fichero con un nombre de fichero que ya existe? Nos dará error!!!"
   ]
  },
  {
   "cell_type": "code",
   "execution_count": 107,
   "metadata": {},
   "outputs": [
    {
     "ename": "FileExistsError",
     "evalue": "[Errno 17] File exists: 'ficheros3.txt'",
     "output_type": "error",
     "traceback": [
      "\u001b[0;31m---------------------------------------------------------------------------\u001b[0m",
      "\u001b[0;31mFileExistsError\u001b[0m                           Traceback (most recent call last)",
      "Cell \u001b[0;32mIn [107], line 2\u001b[0m\n\u001b[1;32m      1\u001b[0m \u001b[39m# volvemos a crear un fichero que se llama  ficheros3\u001b[39;00m\n\u001b[0;32m----> 2\u001b[0m \u001b[39mwith\u001b[39;00m \u001b[39mopen\u001b[39;49m(\u001b[39m'\u001b[39;49m\u001b[39mficheros3.txt\u001b[39;49m\u001b[39m'\u001b[39;49m,\u001b[39m'\u001b[39;49m\u001b[39mx\u001b[39;49m\u001b[39m'\u001b[39;49m) \u001b[39mas\u001b[39;00m f:\n\u001b[1;32m      3\u001b[0m     f\u001b[39m.\u001b[39mwrite(\u001b[39m\"\u001b[39m\u001b[39mBuenos dias\u001b[39m\u001b[39m\"\u001b[39m)\n\u001b[1;32m      4\u001b[0m     f\u001b[39m.\u001b[39mclose()\n",
      "\u001b[0;31mFileExistsError\u001b[0m: [Errno 17] File exists: 'ficheros3.txt'"
     ]
    }
   ],
   "source": [
    "# volvemos a crear un fichero que se llama  ficheros3\n",
    "with open('ficheros3.txt','x') as f:\n",
    "    f.write(\"Buenos dias\")\n",
    "    f.close()"
   ]
  },
  {
   "cell_type": "markdown",
   "metadata": {},
   "source": [
    "El error nos dice `FileExistsError: [Errno 17] File exists: 'ficheros3.txt'`, es decir, no puede crear el fichero porque ya existe. Igual que cuando lo hacemos de forma tradicional a través del explorador de archivos o el finder. "
   ]
  },
  {
   "cell_type": "markdown",
   "metadata": {},
   "source": [
    "**Repaso**\n",
    "\n",
    "- El modo 'w' de `open()` no tiene en cuenta si existe contenido en el archivo previamente, sobrescribe el contenido previo de nuestro fichero ⚠️.\n",
    "\n",
    "- Para escribir contenido en un fichero usaremos los métodos `.write()` o `.writelines()`.\n",
    "\n",
    "- El método `.writelines()` necesita una lista.\n",
    "\n",
    "- En el modo 'a' de `open()` apendea(añade) contenido nuevo al fichero, manteniendo el contenido previo que había. \n",
    "\n",
    "- En el modo 'x' de `open()` nos permite crear nuevos archivos, si ya existe uno con el mismo nombre en esa carpeta nos dará un error."
   ]
  },
  {
   "cell_type": "markdown",
   "metadata": {},
   "source": [
    "---\n",
    "## Ejercicios crear y escribir en archivos de texto\n",
    "\n",
    "- Crear archivos\n",
    "\n",
    "    1. El archivo `'escribir.txt'` no existe, si intentaramos abrirlo con `open()` en el modo por defecto, ¿da un error? Justifica tu respuesta.\n",
    "\n",
    "    2. Si intentamos abrirlo con `open()` en el modo 'r', ¿da un error? Justifica tu respuesta.\n",
    "\n",
    "    3. Si intentaramos abrirlo con `open()` en el modo 'x', ¿da un error? Justifica tu respuesta.\n",
    "\n",
    "    4. Si intentaramos abrirlo con `open()` en el modo 'w', ¿da un error? Justifica tu respuesta.\n",
    "\n",
    "    5. Si interaramos abrirlo con `open()` en el modo 'a', ¿da un error? Justifica tu respuesta.\n",
    "\n",
    "    6. Crea el archivo con `open()` y `with`. Llama la variable en que se guardará la conexión con el archivo `f`. Usa `pass` para ocupar el código indentado sin hacer nada todavía.\n",
    "    \n",
    "- Escribir contenido\n",
    "    \n",
    "    7. Vuelve a abrir `'escribir.txt'` y usa `f.write()` para escribir `'Con este texto deja de ser vacío.'` en la primera línea. ¿Cómo cierras la connexión al archivo (si hace falta)?\n",
    "\n",
    "    8. Vuelve a abrir `'escribir.txt'` y usa `f.write()` para escribir `'Esta línea reemplaza la anterior.'` en la primera línea.\n",
    "    \n",
    "    9. Vuelve a abrir `'escribir.txt'` y usa `f.writelines()` para escribir `'\\nsegunda', '\\ntercera', '\\ncuarta'` en las líneas 2, 3, y 4, *sin* tocar la primera línea.,\n",
    "\n",
    "---"
   ]
  },
  {
   "cell_type": "code",
   "execution_count": 109,
   "metadata": {},
   "outputs": [
    {
     "ename": "FileNotFoundError",
     "evalue": "[Errno 2] No such file or directory: 'escribir.txt'",
     "output_type": "error",
     "traceback": [
      "\u001b[0;31m---------------------------------------------------------------------------\u001b[0m",
      "\u001b[0;31mFileNotFoundError\u001b[0m                         Traceback (most recent call last)",
      "Cell \u001b[0;32mIn [109], line 13\u001b[0m\n\u001b[1;32m      1\u001b[0m \u001b[39m''' 1. El archivo `'escribir.txt'` no existe, si intentaramos abrirlo con `open()` en el modo por defecto, ¿da un error? Justifica tu respuesta.\u001b[39;00m\n\u001b[1;32m      2\u001b[0m \n\u001b[1;32m      3\u001b[0m \u001b[39m    2. Si intentamos abrirlo con `open()` en el modo 'r', ¿da un error? Justifica tu respuesta.\u001b[39;00m\n\u001b[0;32m   (...)\u001b[0m\n\u001b[1;32m     10\u001b[0m \n\u001b[1;32m     11\u001b[0m \u001b[39m    6. Crea el archivo con `open()` y `with`. Llama la variable en que se guardará la conexión con el archivo `f`. Usa `pass` para ocupar el código indentado sin hacer nada todavía.'''\u001b[39;00m\n\u001b[0;32m---> 13\u001b[0m \u001b[39mwith\u001b[39;00m \u001b[39mopen\u001b[39;49m(\u001b[39m'\u001b[39;49m\u001b[39mescribir.txt\u001b[39;49m\u001b[39m'\u001b[39;49m) \u001b[39mas\u001b[39;00m f:\n\u001b[1;32m     14\u001b[0m     f\u001b[39m.\u001b[39mread()\n\u001b[1;32m     15\u001b[0m     f\u001b[39m.\u001b[39mclose()\n",
      "\u001b[0;31mFileNotFoundError\u001b[0m: [Errno 2] No such file or directory: 'escribir.txt'"
     ]
    }
   ],
   "source": [
    "''' 1. El archivo `'escribir.txt'` no existe, si intentaramos abrirlo con `open()` en el modo por defecto, ¿da un error? Justifica tu respuesta'''\n",
    "\n",
    "with open('escribir.txt') as f:\n",
    "    f.read()\n",
    "    f.close()\n",
    "\n",
    "    #Da error porque no existe el fichero"
   ]
  },
  {
   "cell_type": "code",
   "execution_count": 110,
   "metadata": {},
   "outputs": [
    {
     "ename": "FileNotFoundError",
     "evalue": "[Errno 2] No such file or directory: 'escribir.txt'",
     "output_type": "error",
     "traceback": [
      "\u001b[0;31m---------------------------------------------------------------------------\u001b[0m",
      "\u001b[0;31mFileNotFoundError\u001b[0m                         Traceback (most recent call last)",
      "Cell \u001b[0;32mIn [110], line 2\u001b[0m\n\u001b[1;32m      1\u001b[0m \u001b[39m''' 2. Si intentamos abrirlo con `open()` en el modo 'r', ¿da un error? Justifica tu respuesta. '''\u001b[39;00m\n\u001b[0;32m----> 2\u001b[0m \u001b[39mwith\u001b[39;00m \u001b[39mopen\u001b[39;49m(\u001b[39m'\u001b[39;49m\u001b[39mescribir.txt\u001b[39;49m\u001b[39m'\u001b[39;49m, \u001b[39m'\u001b[39;49m\u001b[39mr\u001b[39;49m\u001b[39m'\u001b[39;49m) \u001b[39mas\u001b[39;00m f:\n\u001b[1;32m      3\u001b[0m     f\u001b[39m.\u001b[39mread()\n\u001b[1;32m      4\u001b[0m     f\u001b[39m.\u001b[39mclose()\n",
      "\u001b[0;31mFileNotFoundError\u001b[0m: [Errno 2] No such file or directory: 'escribir.txt'"
     ]
    }
   ],
   "source": [
    "''' 2. Si intentamos abrirlo con `open()` en el modo 'r', ¿da un error? Justifica tu respuesta. '''\n",
    "with open('escribir.txt', 'r') as f:\n",
    "    f.read()\n",
    "    f.close()\n",
    "\n",
    "        #Da error porque no existe el fichero"
   ]
  },
  {
   "cell_type": "code",
   "execution_count": 115,
   "metadata": {},
   "outputs": [],
   "source": [
    "''' 3 . Si intentaramos abrirlo con `open()` en el modo 'x', ¿da un error? Justifica tu respuesta. '''\n",
    "with open('escribir.txt', 'x') as f:\n",
    "    pass\n",
    "    f.close()\n",
    "\n",
    "# No da error porque lo crea directamente"
   ]
  },
  {
   "cell_type": "code",
   "execution_count": 116,
   "metadata": {},
   "outputs": [],
   "source": [
    "'''  4. Si intentaramos abrirlo con `open()` en el modo 'w', ¿da un error? Justifica tu respuesta.'''\n",
    "with open('escribir.txt', 'w') as f:\n",
    "    pass\n",
    "    f.close()\n",
    "# No da error porque lo crea directamente"
   ]
  },
  {
   "cell_type": "code",
   "execution_count": 117,
   "metadata": {},
   "outputs": [],
   "source": [
    "''' 5. Si interaramos abrirlo con `open()` en el modo 'a', ¿da un error? Justifica tu respuesta.'''\n",
    "with open('escribir.txt', 'a') as f:\n",
    "    pass\n",
    "    f.close()\n",
    "# No da error porque lo crea directamente\n"
   ]
  },
  {
   "cell_type": "code",
   "execution_count": null,
   "metadata": {},
   "outputs": [],
   "source": [
    "'''    6. Crea el archivo con `open()` y `with`. Llama la variable en que se guardará la conexión con el archivo `f`. \n",
    "Usa `pass` para ocupar el código indentado sin hacer nada todavía.'''\n",
    "with open('escribir.txt', 'x') as f:\n",
    "    pass\n",
    "    f.close()\n"
   ]
  },
  {
   "cell_type": "code",
   "execution_count": 125,
   "metadata": {},
   "outputs": [],
   "source": [
    "''' 7. Vuelve a abrir `'escribir.txt'` y usa `f.write()` para escribir `'Con este texto deja de ser vacío.'` en la primera línea. \n",
    "¿Cómo cierras la connexión al archivo (si hace falta)? '''\n",
    "with open('escribir.txt', 'w') as f:\n",
    "    f.write('Con este texto deja de ser vacío.')\n",
    "    f.close()\n"
   ]
  },
  {
   "cell_type": "code",
   "execution_count": 126,
   "metadata": {},
   "outputs": [
    {
     "name": "stdout",
     "output_type": "stream",
     "text": [
      "Con este texto deja de ser vacío.\n"
     ]
    }
   ],
   "source": [
    "with open('escribir.txt', 'r') as f:\n",
    "    print(f.read())"
   ]
  },
  {
   "cell_type": "code",
   "execution_count": 129,
   "metadata": {},
   "outputs": [],
   "source": [
    "''' 8. Vuelve a abrir `'escribir.txt'` y usa `f.write()` para escribir `'Esta línea reemplaza la anterior.'` en la primera línea. '''\n",
    "with open('escribir.txt', 'w') as f:\n",
    "    f.write('Esta línea reemplaza la anterior.')\n",
    "    f.close()\n"
   ]
  },
  {
   "cell_type": "code",
   "execution_count": 130,
   "metadata": {},
   "outputs": [
    {
     "name": "stdout",
     "output_type": "stream",
     "text": [
      "Esta línea reemplaza la anterior.\n"
     ]
    }
   ],
   "source": [
    "with open('escribir.txt', 'r') as f:\n",
    "    print(f.read())"
   ]
  },
  {
   "cell_type": "code",
   "execution_count": 131,
   "metadata": {},
   "outputs": [],
   "source": [
    "''' 9. Vuelve a abrir `'escribir.txt'` y usa `f.writelines()` para escribir `'\\nsegunda', '\\ntercera', '\\ncuarta'` \n",
    "en las líneas 2, 3, y 4, *sin* tocar la primera línea.,'''\n",
    "nuevas_lineas = ['\\nsegunda', '\\ntercera', '\\ncuarta']\n",
    "with open('escribir.txt', 'a') as f:\n",
    "    f.writelines(nuevas_lineas)\n",
    "    f.close()\n"
   ]
  },
  {
   "cell_type": "code",
   "execution_count": 132,
   "metadata": {},
   "outputs": [
    {
     "name": "stdout",
     "output_type": "stream",
     "text": [
      "Esta línea reemplaza la anterior.\n",
      "segunda\n",
      "tercera\n",
      "cuarta\n"
     ]
    }
   ],
   "source": [
    "with open('escribir.txt') as f:\n",
    "    print(f.read())"
   ]
  },
  {
   "cell_type": "markdown",
   "metadata": {},
   "source": [
    "# Archivos .xml\n",
    "\n",
    "`XML` es el acrónimo de *Extensible Markup Language*, es decir, es un lenguaje de marcado que define un conjunto de reglas para la codificación de documentos. Fue inventada para guardar y transportar datos en una forma en que sea legible tanto para máquinas como para seres humanos.\n",
    "\n",
    "Los archivos `.xml` pueden ser abiertos como texto y los podremos leer perfectamente. Veamos el siguiente ejemplo:\n",
    "\n",
    "```xml\n",
    "<correo>\n",
    "  <to>María</to>\n",
    "  <from>\n",
    "    <name>Ada</name>\n",
    "    <email>ada@adalab.es</email>\n",
    "  </from>\n",
    "  <heading>¿Qué tal?</heading>\n",
    "  <body>Hola Mari, qué tal estás, qué tal la familia? Escríbeme pronto, un beso!</body>\n",
    "</correo>\n",
    "```\n",
    "\n",
    "La información en un `xml` siempre está rodeada por al menos un par de campos definido como `<correo>` y `</correo>`. En este caso `María` está dentro de `to` y `correo`. Dentro de `correo`, además, hay otros campos definidos. Nota como dentro de `correo` sólo están campos, no hay texto sin llevar un tipo de subcampo especificado. Esos campos (de todos los niveles) los puede definir cualquiera como le da la gana. \n",
    "\n",
    "Supongamos que María usa otro código para gestionar sus correos. Aquí el `xml` de su correo:\n",
    "\n",
    "```xml\n",
    "<correo>\n",
    "  <to>Ada</to>\n",
    "  <from>\n",
    "    <name>María</name>\n",
    "  </from>\n",
    "  <body>Aquí todos estupendos, quedamos pronto para tomar un café y te cuento vale??</body>\n",
    "  <fecha>02/02/2022</fecha>\n",
    "</correo>\n",
    "```\n",
    "\n",
    "Vemos que falta el email y el asunto, y existe un campo nuevo llamado `fecha`, pero en principio no pasa nada. El dispositivo de Ada puede mostrarlo igual, aunque tenga otro sistema operativo u otra versión. Uno de los objetivos de este lenguaje es no tener que estar pendiente de versiones y actualizaciones o tener que cambiar los datos que hubo cada vez que se cambian los campos definidos.\n",
    "\n",
    "Veamos un ejemplo de [w3schools]('https://www.w3schools.com/xml/xml_tree.asp'):\n",
    "\n",
    "```xml\n",
    "<?xml version=\"1.0\" encoding=\"UTF-8\"?>\n",
    "<bookstore>\n",
    "  <book category=\"cooking\">\n",
    "    <title lang=\"en\">Everyday Italian</title>\n",
    "    <author>Giada De Laurentiis</author>\n",
    "    <year>2005</year>\n",
    "    <price>30.00</price>\n",
    "  </book>\n",
    "</bookstore>\n",
    "```\n",
    "  \n",
    "![alt text](../img/w3schools-nodetree.gif)\n",
    "\n",
    "La primera línea `<?xml version=\"1.0\" encoding=\"UTF-8\"?>` es opcional y describe propiedades del archivo, o puede contener comentarios sobre el mismo. Si existe, siempre estará al principio del archivo. Luego necesariamente tendrá un campo raiz (*root*) que envuelve todo lo demás. La jerarquía que se ve por las indentaciones también está reflejada en la gráfica: cada nivel superior es madre/padre (*parent*) de todos sus hijos (*children*). La tienda de libros (*bookstore*) podría tener muchos libros, es decir muchos elementos del tipo *book*. \n",
    "\n",
    "Nota como tanto el elemento `book` como el elemento `title` conllevan un atributo. En principio podrían haber sido elementos en sí, sin que cambie mucho. Esto ya es gusto individual. La misma informacion se puede guardar de distintas maneras:\n",
    "\n",
    "```xml\n",
    "<mail date=\"02 feb 2022\">\n",
    "</mail>\n",
    "\n",
    "<MAIL DATE=\"02 feb 2022\">\n",
    "</MAIL>\n",
    "\n",
    "<correo fecha=\"02 feb 2022\">\n",
    "</correo>\n",
    "\n",
    "<correo>\n",
    "    <fecha=\"02 feb 2022\">\n",
    "</correo>\n",
    "\n",
    "<correo>\n",
    "    <fecha>\n",
    "        <dia>02</dia>\n",
    "        <mes>feb</mes>\n",
    "        <año>2022</año>\n",
    "    </fecha>\n",
    "</correo>\n",
    "```\n",
    "\n",
    "Los nombres de los campos los puedes definir como quieras, y la información contenida también. La idea es que *attributes* son descriptores de la información del elemento, más  que información en sí. Como el título del libro fue definido en inglés, no es una información en sí del título pero sí que dice algo sobre el texto del título. Puede que para alguna versión en el futuro nos interesaría saber qué día de semana se envió el correo. Si la fecha hubiera sido un *attribute* no se podría haber ampliado la información con respeto a la fecha, mientrás el *element*  de fecha sí que lo podemos ampliar:\n",
    "\n",
    "```xml\n",
    "<correo>\n",
    "    <fecha>\n",
    "        <dia>\n",
    "            <num>02</num>\n",
    "            <nombre>Miércoles</nombre>\n",
    "        </dia>\n",
    "        <mes>feb</mes>\n",
    "        <año>2022</año>\n",
    "    </fecha>\n",
    "</correo\n",
    "```\n"
   ]
  },
  {
   "cell_type": "markdown",
   "metadata": {},
   "source": [
    "\n",
    "**Repaso**\n",
    "- Los archivos `.xml` tienen un árbol de campos que se llaman elementos.\n",
    "\n",
    "- Un elemento se abre y se cierra con `<>` y `</>`.\n",
    "\n",
    "- No hay texto fuera de un nivel de elementos.\n",
    "\n",
    "- Dentro de un nivel con otros elementos no puede haber texto suelto, necesitará un elemento que le rodee.\n",
    "\n",
    "- Opcionalmente un elemento puede tener un atributo.\n",
    "\n",
    "- Opcionalmente un archivo `.xml` empieza con un prologo o resumen. Un sólo campo `<>` que no necesita cierre."
   ]
  },
  {
   "cell_type": "markdown",
   "metadata": {},
   "source": [
    "---\n",
    "\n",
    "## Ejercicios archivos xml\n",
    "\n",
    "- La teoría de este apartado la pondrás en práctica en el apartado que viene.\n",
    "\n",
    "---"
   ]
  },
  {
   "cell_type": "markdown",
   "metadata": {},
   "source": [
    "## Trabajar con xml desde Python\n",
    "\n",
    "Para acceder a un archivo `xml` necesitamos importar la librería `xml` con algunos submódulos. Le asignamos el alias `ET` y usamos `parse()` para leer y interpretar los contenidos:"
   ]
  },
  {
   "cell_type": "code",
   "execution_count": 133,
   "metadata": {},
   "outputs": [],
   "source": [
    "# lo primero que hacemos es importar la librería que necesitamos para trabajar con archivos\n",
    "import xml.etree.ElementTree as ET\n",
    "\n"
   ]
  },
  {
   "cell_type": "code",
   "execution_count": 144,
   "metadata": {},
   "outputs": [],
   "source": [
    "# abrimos el fichero\n",
    "tree = ET.parse('contacto.xml')"
   ]
  },
  {
   "cell_type": "code",
   "execution_count": 137,
   "metadata": {},
   "outputs": [
    {
     "name": "stdout",
     "output_type": "stream",
     "text": [
      "<xml.etree.ElementTree.ElementTree object at 0x7f75d46303d0>\n"
     ]
    }
   ],
   "source": [
    "print(tree)"
   ]
  },
  {
   "cell_type": "markdown",
   "metadata": {},
   "source": [
    "El método `.getroot()` nos saca el elemento que envuelve todo, como `<bookstore>` en el ejemplo del apartado anterior.\n"
   ]
  },
  {
   "cell_type": "code",
   "execution_count": 142,
   "metadata": {},
   "outputs": [],
   "source": [
    "root = tree.getroot()"
   ]
  },
  {
   "cell_type": "code",
   "execution_count": 143,
   "metadata": {},
   "outputs": [
    {
     "name": "stdout",
     "output_type": "stream",
     "text": [
      "<Element 'contact-info' at 0x7f75bf0e7ea0>\n"
     ]
    }
   ],
   "source": [
    "print(root)"
   ]
  },
  {
   "cell_type": "markdown",
   "metadata": {},
   "source": [
    "\n",
    "Cada elemento, incluyendo el elemento *root* tiene un `tag` y puede tener unos atributos. En este caso el elemento a la raíz de todo le acabamos de asignar el nombre `root`, y su nombre (*tag*) y atributos los accedemos entonces de esta manera:"
   ]
  },
  {
   "cell_type": "code",
   "execution_count": 140,
   "metadata": {},
   "outputs": [
    {
     "name": "stdout",
     "output_type": "stream",
     "text": [
      "contact-info\n"
     ]
    }
   ],
   "source": [
    "# printemos cuál es la raiz, el padre de nuestr archivo xml\n",
    "print(root.tag)"
   ]
  },
  {
   "cell_type": "code",
   "execution_count": 147,
   "metadata": {},
   "outputs": [
    {
     "name": "stdout",
     "output_type": "stream",
     "text": [
      "{}\n"
     ]
    }
   ],
   "source": [
    "# sacamos los atributos de nuestro fichero\n",
    "print(root.attrib)"
   ]
  },
  {
   "cell_type": "markdown",
   "metadata": {},
   "source": [
    "¿Qué elementos hay dentro de `root`? Iteramos por `root` y por cada elemento hijo le imprimimos el nombre (`tag`) del mismo. Ya que estamos al nivel de hijos, miramos los nietos, es decir el siguiente nivel de la jerarquia o los hijos del hijo en que estamos actualmente en el bucle `for`. Para diferenciar los nombres de los nietos de los nombres de los hijos vamos a adelantar sus nombres por unos espacios para que queden indentados:"
   ]
  },
  {
   "cell_type": "code",
   "execution_count": 148,
   "metadata": {},
   "outputs": [
    {
     "name": "stdout",
     "output_type": "stream",
     "text": [
      "contact: Es un hijo de nuestra raiz 'contact-info'\n",
      "type: Es un nieto de nuestra raiz 'contact-info'\n",
      "url: Es un nieto de nuestra raiz 'contact-info'\n",
      "contact: Es un hijo de nuestra raiz 'contact-info'\n",
      "type: Es un nieto de nuestra raiz 'contact-info'\n",
      "address: Es un nieto de nuestra raiz 'contact-info'\n",
      "socialmedia: Es un hijo de nuestra raiz 'contact-info'\n",
      "profile: Es un nieto de nuestra raiz 'contact-info'\n",
      "profile: Es un nieto de nuestra raiz 'contact-info'\n",
      "profile: Es un nieto de nuestra raiz 'contact-info'\n",
      "profile: Es un nieto de nuestra raiz 'contact-info'\n",
      "profile: Es un nieto de nuestra raiz 'contact-info'\n"
     ]
    }
   ],
   "source": [
    "for child in root:\n",
    "    print(f\"{child.tag}: Es un hijo de nuestra raiz 'contact-info'\" )\n",
    "    for subchild in child:\n",
    "        print(f\"{subchild.tag}: Es un nieto de nuestra raiz 'contact-info'\" )"
   ]
  },
  {
   "cell_type": "markdown",
   "metadata": {},
   "source": [
    "Si vamos chequeando con el archivo `xml` vemos que sigue una estructura de árbol, tenemos una rama principal que es `contact-info` del que salen dos ramas `contact` y `socialmedia`. De estos, a su vez salen más ramas: \n",
    "\n",
    "- De la subrama `contact` salen las siguientes ramas: `type`, `url` y `address`\n",
    "\n",
    "- De la subrama `socialmedia` sale solo `profile`\n"
   ]
  },
  {
   "cell_type": "markdown",
   "metadata": {},
   "source": [
    "Ya que sabemos cómo se llaman los campos podemos sacar su contenido uno por uno. Con `.find()` extraemos la primera ocasión en que el tag de un elemento coincida con el string que le damos. Recuerda que puedes tener múltiples elementos con el mismo nombre, como la tienda de libros que puede tener un montón de libros definidos todos en elementos `book`."
   ]
  },
  {
   "cell_type": "code",
   "execution_count": 149,
   "metadata": {},
   "outputs": [
    {
     "name": "stdout",
     "output_type": "stream",
     "text": [
      "Website\n"
     ]
    }
   ],
   "source": [
    "print(root.find('contact').find('type').text)"
   ]
  },
  {
   "cell_type": "code",
   "execution_count": 150,
   "metadata": {},
   "outputs": [
    {
     "name": "stdout",
     "output_type": "stream",
     "text": [
      "https://adalab.es/\n"
     ]
    }
   ],
   "source": [
    "print(root.find('contact').find('url').text)"
   ]
  },
  {
   "cell_type": "markdown",
   "metadata": {},
   "source": [
    "¿Que pasaría si queremos extraer el contenido del `contact`? Nos devolverá un elemento vacío, ya que para sacar el texto deberemos estar en la última rama de nuestro árbol. "
   ]
  },
  {
   "cell_type": "code",
   "execution_count": 151,
   "metadata": {},
   "outputs": [
    {
     "name": "stdout",
     "output_type": "stream",
     "text": [
      "\n",
      "      \n"
     ]
    }
   ],
   "source": [
    "print(root.find('contact').text)"
   ]
  },
  {
   "cell_type": "markdown",
   "metadata": {},
   "source": [
    "Lo mismo nos pasa con la rama de `socialmedia`, ya que ha pesar de que en el bucle for que realizamos arriba vimos que tenía un nieto, si nos vamos al fichero, vemos que el nieto `profile` tiene más hijos dentro. "
   ]
  },
  {
   "cell_type": "code",
   "execution_count": 152,
   "metadata": {},
   "outputs": [
    {
     "name": "stdout",
     "output_type": "stream",
     "text": [
      "\n",
      "         \n"
     ]
    }
   ],
   "source": [
    "print(root.find('socialmedia').find('profile').text)"
   ]
  },
  {
   "cell_type": "code",
   "execution_count": 153,
   "metadata": {},
   "outputs": [
    {
     "name": "stdout",
     "output_type": "stream",
     "text": [
      "name\n",
      "url\n",
      "name\n",
      "url\n",
      "name\n",
      "url\n",
      "name\n",
      "url\n",
      "name\n",
      "url\n"
     ]
    }
   ],
   "source": [
    "# veamos como podemos acceder a los hijos de profile. Para eso deberemos seguir iterando: \n",
    "\n",
    "# emepzamos interando por todo el archivo\n",
    "for child in root:\n",
    "\n",
    "    # ahora solo nos interesa saber cuales son los \"nietos\" y \"bisnietos\" del atributo \"socialmedia\", por lo que establecemos la condición\n",
    "    if child.tag == \"socialmedia\":\n",
    "\n",
    "        # iteramos por lo \"nietos\"\n",
    "        for subchild in child:\n",
    "\n",
    "            # iteramos por los \"bisnietos\"\n",
    "            for subsubchild in subchild: \n",
    "\n",
    "                # y printemos sus nombres para saber como se llaman y poder acceder a ellos\n",
    "                print(subsubchild.tag)"
   ]
  },
  {
   "cell_type": "markdown",
   "metadata": {},
   "source": [
    "Por lo tanto, dentro de `socialmedia` y dentro de `profile` tenemos los \"bisnietos\" `name` y `url`. Esto puede resultar algo confuso, os recomendamos que tengáis el fichero abierto al lado y un papel y un boli para hacernos nuestros esquemas! "
   ]
  },
  {
   "cell_type": "code",
   "execution_count": 154,
   "metadata": {},
   "outputs": [
    {
     "name": "stdout",
     "output_type": "stream",
     "text": [
      "Twitter\n"
     ]
    }
   ],
   "source": [
    "# veamos el contenido del \"bisnieto\" name\n",
    "print(root.find('socialmedia').find('profile').find(\"name\").text)"
   ]
  },
  {
   "cell_type": "code",
   "execution_count": 155,
   "metadata": {},
   "outputs": [
    {
     "name": "stdout",
     "output_type": "stream",
     "text": [
      "https://twitter.com/Adalab_Digital\n"
     ]
    }
   ],
   "source": [
    "# veamos el contenido del \"bisnieto\" url\n",
    "print(root.find('socialmedia').find('profile').find(\"url\").text)"
   ]
  },
  {
   "cell_type": "markdown",
   "metadata": {},
   "source": [
    "Genial!!! Hasta ahora hemos visto como acceder al contenido, pero... 🤔 solo nos estaba devolviendo el contenido de una etiqueta. ¿Cómo podríamos hacer para que nos devolviera el contenido de todas las etiquetas con el mismo nombre? Usando `.findall()` que nos da una lista de todos los elementos cuyo `tag` coincide con el string dado. Para cada contacto sacamos el subelemento que se llama `type` y accedemos a su texto:"
   ]
  },
  {
   "cell_type": "code",
   "execution_count": 156,
   "metadata": {},
   "outputs": [
    {
     "name": "stdout",
     "output_type": "stream",
     "text": [
      "Website\n",
      "Mail\n"
     ]
    }
   ],
   "source": [
    "# iteramos por el hijo \"contact\" y accedemos a todos\n",
    "for contact in root.findall('contact'):\n",
    "    # dentro de este sacamos su contenido\n",
    "    print(contact.find('type').text)"
   ]
  },
  {
   "cell_type": "code",
   "execution_count": 158,
   "metadata": {},
   "outputs": [
    {
     "name": "stdout",
     "output_type": "stream",
     "text": [
      "Twitter\n",
      "Facebook\n",
      "Linkedin\n",
      "Instagram\n",
      "Youtube\n"
     ]
    }
   ],
   "source": [
    "# como lo haríamos para el otro elemento que teníamos\n",
    "for subelement in root.find('socialmedia').findall('profile'):\n",
    "    print(subelement.find('name').text)"
   ]
  },
  {
   "cell_type": "markdown",
   "metadata": {},
   "source": [
    "**Repaso**\n",
    "- Para trabajar con un xml necesitamos importar `ElementTree` del módulo xml. Por convención le asignamos el alias `ET`: `import xml.etree.ElementTree as ET`.\n",
    "\n",
    "- Con `parse()` accedemos al archivo y le asignamos a una variable.\n",
    "\n",
    "- `.getroot()` saca el campo que envuelve todo, es decir el elemento raíz de todo el árbol del xml.\n",
    "\n",
    "- Un elemento (incluso la raíz) tiene un `.tag()` que es el nombre del elemento, y puede tener atributos en `.attrib()`.\n",
    "\n",
    "- En un elemento al final del árbol existirá texto. A ello se puede acceder con `.text()`."
   ]
  },
  {
   "cell_type": "markdown",
   "metadata": {},
   "source": [
    "---\n",
    "## Ejercicios trabajar con xml desde Python\n",
    "\n",
    "- Abrir un archivo xml\n",
    "\n",
    "    10. Carga la librería adecuada con el alias `ET`.\n",
    "\n",
    "    11. Carga el árbol xml del archivo 'ejercicio1.xml' a la variable `tree`.\n",
    "\n",
    "    12. Saca el elemento raíz de `tree` en la variable `root`.\n",
    "\n",
    "    13. ¿Cómo se llama el elemento raíz? Usa una propiedad para descubrirlo, y imprime el resultado.\n",
    "\n",
    "    14. ¿Tiene atributos la raíz?\n",
    "\n",
    "- Elementos hijos\n",
    "\n",
    "    15. ¿Cuántos hijos tiene la raíz? ¿Cómo se llaman?\n",
    "\n",
    "    16. El primer hijo, ¿tiene atributos?\n",
    "\n",
    "    17. El primer hijo, ¿tiene hijos o tiene texto directamente?\n",
    "\n",
    "    18. Del segundo hijo, su primer hijo, ¿tiene hijos o tiene texto directamente?\n",
    "\n",
    "    19. Del segundo hijo, su segundo hijo, ¿tiene hijos o tiene texto directamente?\n",
    "    \n",
    "    20. Imprime el texto que haya en el elemento `hex` del primer hijo del tipo `color`.\n",
    "\n",
    "---"
   ]
  },
  {
   "cell_type": "code",
   "execution_count": 159,
   "metadata": {},
   "outputs": [],
   "source": [
    "import xml.etree.ElementTree as ET"
   ]
  },
  {
   "cell_type": "code",
   "execution_count": 160,
   "metadata": {},
   "outputs": [],
   "source": [
    "tree = ET.parse('ejercicio1.xml')"
   ]
  },
  {
   "cell_type": "code",
   "execution_count": 161,
   "metadata": {},
   "outputs": [],
   "source": [
    "root = tree.getroot()"
   ]
  },
  {
   "cell_type": "code",
   "execution_count": 162,
   "metadata": {},
   "outputs": [
    {
     "name": "stdout",
     "output_type": "stream",
     "text": [
      "colores\n"
     ]
    }
   ],
   "source": [
    "#13. ¿Cómo se llama el elemento raíz? Usa una propiedad para descubrirlo, y imprime el resultado.\n",
    "print(root.tag)"
   ]
  },
  {
   "cell_type": "code",
   "execution_count": 163,
   "metadata": {},
   "outputs": [
    {
     "name": "stdout",
     "output_type": "stream",
     "text": [
      "{}\n"
     ]
    }
   ],
   "source": [
    "# 14. ¿Tiene atributos la raíz?\n",
    "print(root.attrib)"
   ]
  },
  {
   "cell_type": "code",
   "execution_count": 170,
   "metadata": {},
   "outputs": [
    {
     "name": "stdout",
     "output_type": "stream",
     "text": [
      "hijo:color\n",
      "nieto:pantone\n",
      "nieto:rgb\n",
      "nieto:hex\n",
      "hijo:color\n",
      "nieto:pantone\n",
      "nieto:rgb\n",
      "nieto:hex\n"
     ]
    }
   ],
   "source": [
    "#  15. ¿Cuántos hijos tiene la raíz? ¿Cómo se llaman?\n",
    "for child in root:\n",
    "    print (f'hijo:{child.tag}')\n",
    "    for subchild in child:\n",
    "          print (f'nieto:{subchild.tag}')\n"
   ]
  },
  {
   "cell_type": "markdown",
   "metadata": {},
   "source": []
  },
  {
   "cell_type": "code",
   "execution_count": 171,
   "metadata": {},
   "outputs": [
    {
     "ename": "AttributeError",
     "evalue": "'xml.etree.ElementTree.Element' object has no attribute 'atrib'",
     "output_type": "error",
     "traceback": [
      "\u001b[0;31m---------------------------------------------------------------------------\u001b[0m",
      "\u001b[0;31mAttributeError\u001b[0m                            Traceback (most recent call last)",
      "Cell \u001b[0;32mIn [171], line 2\u001b[0m\n\u001b[1;32m      1\u001b[0m \u001b[39m# 16. El primer hijo, ¿tiene atributos?\u001b[39;00m\n\u001b[0;32m----> 2\u001b[0m \u001b[39mprint\u001b[39m(root\u001b[39m.\u001b[39;49mfind(\u001b[39m'\u001b[39;49m\u001b[39mcolor\u001b[39;49m\u001b[39m'\u001b[39;49m)\u001b[39m.\u001b[39;49matrib)\n",
      "\u001b[0;31mAttributeError\u001b[0m: 'xml.etree.ElementTree.Element' object has no attribute 'atrib'"
     ]
    }
   ],
   "source": [
    "# 16. El primer hijo, ¿tiene atributos?\n",
    "\n",
    "    "
   ]
  },
  {
   "cell_type": "code",
   "execution_count": 172,
   "metadata": {},
   "outputs": [
    {
     "name": "stdout",
     "output_type": "stream",
     "text": [
      "\n",
      "        \n"
     ]
    }
   ],
   "source": [
    "#17. El primer hijo, ¿tiene hijos o tiene texto directamente?\n",
    "print(root.find('color').text)\n",
    "    "
   ]
  },
  {
   "cell_type": "code",
   "execution_count": 173,
   "metadata": {},
   "outputs": [
    {
     "name": "stdout",
     "output_type": "stream",
     "text": [
      "\n",
      "            333C\n",
      "        \n"
     ]
    }
   ],
   "source": [
    "#18. Del segundo hijo, su primer hijo, ¿tiene hijos o tiene texto directamente?\n",
    "for child in root:\n",
    "    for subchild in child:\n",
    "          print (f'nieto:{subchild.tag}')\n",
    "\n",
    "\n",
    "print(root.find('color').find('pantone').text)\n",
    "       "
   ]
  },
  {
   "cell_type": "code",
   "execution_count": 174,
   "metadata": {},
   "outputs": [
    {
     "name": "stdout",
     "output_type": "stream",
     "text": [
      "\n",
      "            \n"
     ]
    }
   ],
   "source": [
    "# 19. Del segundo hijo, su segundo hijo, ¿tiene hijos o tiene texto directamente?\n",
    "    \n",
    "print(root.find('color').find('rgb').text)\n",
    "       "
   ]
  },
  {
   "cell_type": "code",
   "execution_count": 175,
   "metadata": {},
   "outputs": [
    {
     "name": "stdout",
     "output_type": "stream",
     "text": [
      "\n",
      "            3CDBC0\n",
      "        \n"
     ]
    }
   ],
   "source": [
    "#20. Imprime el texto que haya en el elemento `hex` del primer hijo del tipo `color`.\n",
    "print(root.find('color').find('hex').text)\n"
   ]
  }
 ],
 "metadata": {
  "kernelspec": {
   "display_name": "Python 3.9.13 ('base')",
   "language": "python",
   "name": "python3"
  },
  "language_info": {
   "codemirror_mode": {
    "name": "ipython",
    "version": 3
   },
   "file_extension": ".py",
   "mimetype": "text/x-python",
   "name": "python",
   "nbconvert_exporter": "python",
   "pygments_lexer": "ipython3",
   "version": "3.9.13"
  },
  "toc": {
   "base_numbering": 1,
   "nav_menu": {},
   "number_sections": true,
   "sideBar": true,
   "skip_h1_title": false,
   "title_cell": "Table of Contents",
   "title_sidebar": "Contents",
   "toc_cell": true,
   "toc_position": {},
   "toc_section_display": true,
   "toc_window_display": true
  },
  "vscode": {
   "interpreter": {
    "hash": "85c042135e83639dad74b6ec6c9d943b5dc47ca281624d931a3e14168052f53c"
   }
  }
 },
 "nbformat": 4,
 "nbformat_minor": 2
}

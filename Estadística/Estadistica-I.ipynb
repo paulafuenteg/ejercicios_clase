{
 "cells": [
  {
   "cell_type": "markdown",
   "metadata": {
    "toc": true
   },
   "source": [
    "<h1>Table of Contents<span class=\"tocSkip\"></span></h1>\n",
    "<div class=\"toc\"><ul class=\"toc-item\"><li><span><a href=\"#Estadística-descriptiva\" data-toc-modified-id=\"Estadística-descriptiva-1\"><span class=\"toc-item-num\">1&nbsp;&nbsp;</span>Estadística descriptiva</a></span><ul class=\"toc-item\"><li><span><a href=\"#Estadísticos-generales\" data-toc-modified-id=\"Estadísticos-generales-1.1\"><span class=\"toc-item-num\">1.1&nbsp;&nbsp;</span>Estadísticos generales</a></span><ul class=\"toc-item\"><li><span><a href=\"#Mínimo-y-máximo\" data-toc-modified-id=\"Mínimo-y-máximo-1.1.1\"><span class=\"toc-item-num\">1.1.1&nbsp;&nbsp;</span>Mínimo y máximo</a></span></li></ul></li><li><span><a href=\"#Medidas-de-tendencia-central\" data-toc-modified-id=\"Medidas-de-tendencia-central-1.2\"><span class=\"toc-item-num\">1.2&nbsp;&nbsp;</span>Medidas de tendencia central</a></span><ul class=\"toc-item\"><li><span><a href=\"#Media\" data-toc-modified-id=\"Media-1.2.1\"><span class=\"toc-item-num\">1.2.1&nbsp;&nbsp;</span>Media</a></span></li><li><span><a href=\"#Media-ponderada\" data-toc-modified-id=\"Media-ponderada-1.2.2\"><span class=\"toc-item-num\">1.2.2&nbsp;&nbsp;</span>Media ponderada</a></span></li><li><span><a href=\"#Mediana\" data-toc-modified-id=\"Mediana-1.2.3\"><span class=\"toc-item-num\">1.2.3&nbsp;&nbsp;</span>Mediana</a></span></li><li><span><a href=\"#Moda\" data-toc-modified-id=\"Moda-1.2.4\"><span class=\"toc-item-num\">1.2.4&nbsp;&nbsp;</span>Moda</a></span></li></ul></li><li><span><a href=\"#Medidas-de-dispersión\" data-toc-modified-id=\"Medidas-de-dispersión-1.3\"><span class=\"toc-item-num\">1.3&nbsp;&nbsp;</span>Medidas de dispersión</a></span><ul class=\"toc-item\"><li><span><a href=\"#Desviación-respecto-a-la-media\" data-toc-modified-id=\"Desviación-respecto-a-la-media-1.3.1\"><span class=\"toc-item-num\">1.3.1&nbsp;&nbsp;</span>Desviación respecto a la media</a></span></li><li><span><a href=\"#Varianza\" data-toc-modified-id=\"Varianza-1.3.2\"><span class=\"toc-item-num\">1.3.2&nbsp;&nbsp;</span>Varianza</a></span></li><li><span><a href=\"#Desviación-estándar-o-desviación-típica\" data-toc-modified-id=\"Desviación-estándar-o-desviación-típica-1.3.3\"><span class=\"toc-item-num\">1.3.3&nbsp;&nbsp;</span>Desviación estándar o desviación típica</a></span></li></ul></li><li><span><a href=\"#Otros-conceptos-importantes-en-estadística-descriptiva\" data-toc-modified-id=\"Otros-conceptos-importantes-en-estadística-descriptiva-1.4\"><span class=\"toc-item-num\">1.4&nbsp;&nbsp;</span>Otros conceptos importantes en estadística descriptiva</a></span><ul class=\"toc-item\"><li><span><a href=\"#Robustez\" data-toc-modified-id=\"Robustez-1.4.1\"><span class=\"toc-item-num\">1.4.1&nbsp;&nbsp;</span>Robustez</a></span></li><li><span><a href=\"#Coeficiente-de-variación\" data-toc-modified-id=\"Coeficiente-de-variación-1.4.2\"><span class=\"toc-item-num\">1.4.2&nbsp;&nbsp;</span>Coeficiente de variación</a></span></li></ul></li></ul></li><li><span><a href=\"#Ejercicios\" data-toc-modified-id=\"Ejercicios-2\"><span class=\"toc-item-num\">2&nbsp;&nbsp;</span>Ejercicios</a></span></li></ul></div>"
   ]
  },
  {
   "cell_type": "markdown",
   "metadata": {},
   "source": [
    "# Estadística descriptiva\n",
    "Lo primero que nos podemos preguntar es ¿qué es la estadística descriptiva? Si nos vamos a las definiciones clásicas, esta viene definida como: \n",
    "\n",
    "> La rama de la estadística que recolecta, analiza y caracteriza un conjunto de datos (peso de la población, beneficios diarios de una empresa, temperatura mensual,…) con el objetivo de describir las características y comportamientos de este conjunto mediante medidas de resumen, tablas o gráficos. \n",
    "\n",
    "Es decir, mediante la estadística descriptiva, la estadística descriptiva nos va a permitir hacer un resumen de nuestros datos. \n",
    "\n",
    "El propio Python tiene muchas funciones *built-in*(o integradas) que nos permiten realizar cálculos estadísticos básicos. Para operaciones más avanzadas, la librería que se usa de manera más común es **Numpy**. **Scipy** es otra librería popular que sirve como complemento idóneo a Numpy. Pandas se usa sobre todo para leer, cargar, y procesar los datos antes de los cálculos, pero se usa mucho para cálculos estadísticos en entornos financieros y cuando se trabaja con series temporales. \n",
    "\n",
    "Matplotlib y Seaborn son los paquetes usados más comúnmente para realizar visualizaciones y representar gráficas acerca de los datos y sus estadísticos.\n",
    "\n",
    "Antes de empezar tenemos que tener en cuenta para esta lección que en estadística tenemos:\n",
    "\n",
    "- **Medidas de tendencia central**: son medidas estadísticas que pretenden resumir en un solo valor a un conjunto de valores. En este grupo encontraremos la media, mediana y moda. A lo largo de este jupyter lo iremos viendo en detalle para entender mejor en que se diferencian unas de otras. \n",
    "\n",
    "- **Medidas de dispersión**:  estas miden el grado de dispersión de los valores de la variable. Dicho de otra forma, las medidas de dispersión pretenden evaluar en qué medida los datos difieren entre sí. En este grupo podemos incluir el rango de variación, coeficiente de variación, varianza y desviación. \n",
    "\n",
    "\n",
    "\n",
    "> De esta forma, ambos tipos de medidas usadas en conjunto permiten describir un conjunto de datos entregando información acerca de su posición y su dispersión."
   ]
  },
  {
   "cell_type": "code",
   "execution_count": 1,
   "metadata": {},
   "outputs": [],
   "source": [
    "## Importación de librerías\n",
    "from pydataset import data\n",
    "import numpy as np\n",
    "from scipy import stats # importando scipy.stats"
   ]
  },
  {
   "cell_type": "markdown",
   "metadata": {},
   "source": [
    "Para este jupyter utilizaremos un *dataset* que nos descargaremos de `pydataset`, herramienta que aprendimos en las primeras lecciones de Pandas. En concreto usaremos el dataset de \"Cigar\" donde tenemos información del consumo de cigarrillos. En concreto en este *dataset* nos encontraremos las siguientes columnas: \n",
    "\n",
    "- `state`: un código numérico que identifica el país. \n",
    "\n",
    "- `year`: el año en el que se recopilo la información (desde el 63 al 92). \n",
    "\n",
    "- `price`: el precio del paquete de cigarrillos. \n",
    "\n",
    "- `pop`: la población que había en ese momento\n",
    "\n",
    "- `pop 16`: la población con más de 16 años. \n",
    "\n",
    "- `cpi`: índice de precios al consumo\n",
    "\n",
    "- `ndi`: renta per cápita\n",
    "\n",
    "- `sales`: las ventas de paquetes de cigarillos per cápita\n",
    "\n",
    "- `pimin`: precio mínimo en los estados limítrofes por paquete de cigarrillos"
   ]
  },
  {
   "cell_type": "code",
   "execution_count": 5,
   "metadata": {},
   "outputs": [
    {
     "data": {
      "text/html": [
       "<div>\n",
       "<style scoped>\n",
       "    .dataframe tbody tr th:only-of-type {\n",
       "        vertical-align: middle;\n",
       "    }\n",
       "\n",
       "    .dataframe tbody tr th {\n",
       "        vertical-align: top;\n",
       "    }\n",
       "\n",
       "    .dataframe thead th {\n",
       "        text-align: right;\n",
       "    }\n",
       "</style>\n",
       "<table border=\"1\" class=\"dataframe\">\n",
       "  <thead>\n",
       "    <tr style=\"text-align: right;\">\n",
       "      <th></th>\n",
       "      <th>state</th>\n",
       "      <th>year</th>\n",
       "      <th>price</th>\n",
       "      <th>pop</th>\n",
       "      <th>pop16</th>\n",
       "      <th>cpi</th>\n",
       "      <th>ndi</th>\n",
       "      <th>sales</th>\n",
       "      <th>pimin</th>\n",
       "    </tr>\n",
       "  </thead>\n",
       "  <tbody>\n",
       "    <tr>\n",
       "      <th>1</th>\n",
       "      <td>1</td>\n",
       "      <td>63</td>\n",
       "      <td>28.6</td>\n",
       "      <td>3383.0</td>\n",
       "      <td>2236.5</td>\n",
       "      <td>30.6</td>\n",
       "      <td>1558.304530</td>\n",
       "      <td>93.9</td>\n",
       "      <td>26.1</td>\n",
       "    </tr>\n",
       "    <tr>\n",
       "      <th>2</th>\n",
       "      <td>1</td>\n",
       "      <td>64</td>\n",
       "      <td>29.8</td>\n",
       "      <td>3431.0</td>\n",
       "      <td>2276.7</td>\n",
       "      <td>31.0</td>\n",
       "      <td>1684.073202</td>\n",
       "      <td>95.4</td>\n",
       "      <td>27.5</td>\n",
       "    </tr>\n",
       "    <tr>\n",
       "      <th>3</th>\n",
       "      <td>1</td>\n",
       "      <td>65</td>\n",
       "      <td>29.8</td>\n",
       "      <td>3486.0</td>\n",
       "      <td>2327.5</td>\n",
       "      <td>31.5</td>\n",
       "      <td>1809.841875</td>\n",
       "      <td>98.5</td>\n",
       "      <td>28.9</td>\n",
       "    </tr>\n",
       "    <tr>\n",
       "      <th>4</th>\n",
       "      <td>1</td>\n",
       "      <td>66</td>\n",
       "      <td>31.5</td>\n",
       "      <td>3524.0</td>\n",
       "      <td>2369.7</td>\n",
       "      <td>32.4</td>\n",
       "      <td>1915.160357</td>\n",
       "      <td>96.4</td>\n",
       "      <td>29.5</td>\n",
       "    </tr>\n",
       "    <tr>\n",
       "      <th>5</th>\n",
       "      <td>1</td>\n",
       "      <td>67</td>\n",
       "      <td>31.6</td>\n",
       "      <td>3533.0</td>\n",
       "      <td>2393.7</td>\n",
       "      <td>33.4</td>\n",
       "      <td>2023.546368</td>\n",
       "      <td>95.5</td>\n",
       "      <td>29.6</td>\n",
       "    </tr>\n",
       "  </tbody>\n",
       "</table>\n",
       "</div>"
      ],
      "text/plain": [
       "   state  year  price     pop   pop16   cpi          ndi  sales  pimin\n",
       "1      1    63   28.6  3383.0  2236.5  30.6  1558.304530   93.9   26.1\n",
       "2      1    64   29.8  3431.0  2276.7  31.0  1684.073202   95.4   27.5\n",
       "3      1    65   29.8  3486.0  2327.5  31.5  1809.841875   98.5   28.9\n",
       "4      1    66   31.5  3524.0  2369.7  32.4  1915.160357   96.4   29.5\n",
       "5      1    67   31.6  3533.0  2393.7  33.4  2023.546368   95.5   29.6"
      ]
     },
     "execution_count": 5,
     "metadata": {},
     "output_type": "execute_result"
    }
   ],
   "source": [
    "# cargamos el dataset usando la librería pydataset. \n",
    "\n",
    "df_cigar = data(\"Cigar\")\n",
    "df_cigar.head()"
   ]
  },
  {
   "cell_type": "markdown",
   "metadata": {},
   "source": [
    "## Estadísticos generales\n",
    "\n",
    "### Mínimo y máximo\n",
    "Antes de ponernos manos a la obra y meternos en conceptos que nos puedan resultar más abstractos, veamos dos medidas con las que todas estamos más familiarizadas. El mínimo y el máximo. \n",
    "\n",
    "Estos, son simplemente el valor más bajo (mínimo) y más alto(máximo) dentro de un conjunto de datos. Junto con otros estadísticos como la media o la moda, nos pueden dar una idea acerca de la dispersión de los datos o de la existencia de datos atípicos, muy alejados de las observaciones que consideraríamos \"normales\"."
   ]
  },
  {
   "cell_type": "code",
   "execution_count": 6,
   "metadata": {},
   "outputs": [
    {
     "data": {
      "text/plain": [
       "201.9"
      ]
     },
     "execution_count": 6,
     "metadata": {},
     "output_type": "execute_result"
    }
   ],
   "source": [
    "# ¿cuál es el precio más alto de los paquetes de cigarrillos?\n",
    "\n",
    "df_cigar[\"price\"].max()"
   ]
  },
  {
   "cell_type": "code",
   "execution_count": 7,
   "metadata": {},
   "outputs": [
    {
     "data": {
      "text/plain": [
       "23.4"
      ]
     },
     "execution_count": 7,
     "metadata": {},
     "output_type": "execute_result"
    }
   ],
   "source": [
    "# ¿y el más bajo?\n",
    "\n",
    "df_cigar[\"price\"].min()"
   ]
  },
  {
   "cell_type": "markdown",
   "metadata": {},
   "source": [
    "## Medidas de tendencia central\n",
    "\n",
    "Son las medidas estadísticas que pretenden resumir en un solo valor a un conjunto de valores."
   ]
  },
  {
   "cell_type": "markdown",
   "metadata": {},
   "source": [
    "### Media\n",
    "\n",
    "La media aritmética es el valor obtenido al sumar todos los datos y dividir el resultado entre el número total de elementos. Viene representada por la siguiente fórmula: \n",
    "\n",
    "$${\\displaystyle A={\\frac {1}{n}}\\sum _{i=1}^{n}a_{i}={\\frac {a_{1}+a_{2}+\\cdots +a_{n}}{n}}}$$\n",
    "\n",
    "Donde: \n",
    "\n",
    "- a<sub>i</sub> : es cada uno de los valores de nuestro conjunto de datos\n",
    "\n",
    "- n: es el número total de datos que tenemos. \n",
    "\n",
    "En el siguiente ejemplo vemos como se puede calcular usando Numpy de distintas maneras:"
   ]
  },
  {
   "cell_type": "code",
   "execution_count": 8,
   "metadata": {},
   "outputs": [
    {
     "data": {
      "text/plain": [
       "68.69992753623188"
      ]
     },
     "execution_count": 8,
     "metadata": {},
     "output_type": "execute_result"
    }
   ],
   "source": [
    "# calculamos la media del precio del paquete de cigarrillos. Para ello especificaremos la columna con la que queremos trabajar y \n",
    "## luego usamos el método `.mean()` para que nos devuelva la media\n",
    "\n",
    "df_cigar[\"price\"].mean()\n",
    "\n",
    "# de media, los paquetes de cigarrillos valen 68.69 $ "
   ]
  },
  {
   "cell_type": "code",
   "execution_count": 9,
   "metadata": {},
   "outputs": [
    {
     "data": {
      "text/plain": [
       "123.9508695652174"
      ]
     },
     "execution_count": 9,
     "metadata": {},
     "output_type": "execute_result"
    }
   ],
   "source": [
    "# si quisieramos saber la media de las ventas de paquetes de trabaco lo podríamos hacer de la siguiente forma\n",
    "\n",
    "df_cigar[\"sales\"].mean()\n",
    "\n",
    "# es decir, se venden casi 124 paquetes de tabaco per cápita"
   ]
  },
  {
   "attachments": {},
   "cell_type": "markdown",
   "metadata": {},
   "source": [
    "### Media ponderada\n",
    "\n",
    "La media ponderada (con pesos) es una variación de la media aritmética en la que buscamos que cada dato tenga una importancia diferente para el cálculo. Se obtiene mediante la multiplicación de cada uno de los datos por un peso antes de sumarlos todos, obteniendo así una suma ponderada; después se divide la suma de los datos ponderados entre la suma de los pesos. En Numpy el método que nos lo calcule es `.average()`:\n",
    "\n",
    "La media ponderada sigue la siguiente ecuación:\n",
    "\n",
    "$$\\overline{x} = \\frac{\\omega_{1}·x_{1}+\\omega_{2}·x_{2}+...+\\omega_{N}·x_{N}}{\\omega_{1}+\\omega_{2}+...+\\omega_{N}} = \\frac{\\sum_{i=1}^{N} \\omega_{i}·x_{i}}{\\sum_{i=1}^{N} \\omega_{i}}$$\n",
    "\n",
    "donde:\n",
    "\n",
    "- $\\overline{x}$ := Media aritmética\n",
    "\n",
    "- $\\omega_{i}$ := Pesos para cada elemento\n",
    "\n",
    "Un ejemplo que podríamos aplicar es el siguiente: en nuestro *dataframe* tenemos información por estados de EEUU. Podríamos pensar que el precio vaya a depender del estado, y que haya estados donde tengamos más datos que en otros. Este no es nuestro caso, pero supongamos que es así. Ahora imaginemos que los estados que más datos tienen son aquellos que están pertenecen a los códigos del 1 al 20. Además de tener más datos de estos estados, los precios de los paquetes en estas regiones es mucho mayor, por lo tanto, cuando vayamos a calcular la media estos valores pueden no representar del todo bien la realidad de los precios. Es en este momento donde podremos usar la media ponderada. \n",
    "\n",
    "En este caso concreto, como hemos dicho es una simulación, le daremos \n",
    "\n",
    "La calcularemos mediante la multiplicación de cada uno de los datos por un peso antes de sumarlos todos, obteniendo así una suma ponderada; después se divide la suma de los datos ponderados entre la suma de los pesos."
   ]
  },
  {
   "cell_type": "code",
   "execution_count": 30,
   "metadata": {},
   "outputs": [
    {
     "name": "stdout",
     "output_type": "stream",
     "text": [
      "69.38940633921382\n"
     ]
    }
   ],
   "source": [
    "# Creamos un array con pesos. En este caso le damos el mismo peso a todos los valores. \n",
    "# Necesitamos un peso para cada elemento que componga la media ponderada (5 en este caso)\n",
    "w = np.random.randint(0,100, df_cigar.shape[0])\n",
    "\n",
    "# Calculamos la media ponderada usando el método average() de Numpy\n",
    "avg = np.average(df_cigar[\"price\"], weights=w)\n",
    "print(avg)"
   ]
  },
  {
   "cell_type": "markdown",
   "metadata": {},
   "source": [
    "### Mediana\n",
    "\n",
    "La mediana es el valor que ocupa el lugar central de una lista formada por todos los datos ordenados por su valor. Vemos un ejemplo con unos pocos datos para entenderla mejor. Imaginemos que tenemos la siguiente secuencia de números: \n",
    "\n",
    "```python\n",
    "\n",
    "[2, 5, 8, 11, 16, 21, 30]\n",
    "\n",
    "# Hay 7 números en el conjunto, y estos están ordenados de mayor a menor. El número medio (el cuarto en la lista) es 11. Por lo tanto la mediana es 11. \n",
    "\n",
    "# Pero... 🤔 ¿Qué pasaría si tuvieramos un número par de elementos en nuestra lista? ¿Cuál sería el número que está en la \"posición central\"? \n",
    "# imaginemos que tenemos la siguiente secuencia de números: \n",
    "[3, 10, 36, 255, 79, 24, 5, 8]\n",
    "\n",
    "# lo primero que tenemos que hacer es ordenarlos: \n",
    "\n",
    "[3, 5, 8, 10, 24, 36, 79, 255]\n",
    "\n",
    "# uan vez ordenados debemos coger los números que estén en posición central , sumarlos y dividirlos entre 2. En este caso sería: \n",
    "\n",
    "(10 + 24) / 2 = 34/2 = 17\n",
    "# por lo tanto, en este caso la mediana es 17. \n",
    "\n",
    "```\n",
    "\n",
    "Una vez entendido un poco como se calcula la mediana, ¿Cómo podemos calcularla en Pandas? Usaremos el método `.median()`."
   ]
  },
  {
   "cell_type": "code",
   "execution_count": 11,
   "metadata": {},
   "outputs": [
    {
     "data": {
      "text/plain": [
       "52.3"
      ]
     },
     "execution_count": 11,
     "metadata": {},
     "output_type": "execute_result"
    }
   ],
   "source": [
    "# en este caso calcularemos la mediana del precio de los paquetes de tabaco. \n",
    "\n",
    "df_cigar[\"price\"].median()\n",
    "\n",
    "# La mediana en este caso es de 52.3 $.\n",
    "## ¿Pero como la interpretamos? Básicamente este valor me esta diciendo que el 50% de los datos de nuestro dataset tienen un precio inferior a 52.3. Lo que es lo mismo que decir que el 50% de los datos tiene  un precio superior a 52.3"
   ]
  },
  {
   "cell_type": "markdown",
   "metadata": {},
   "source": [
    "### Moda\n",
    "\n",
    "La moda es el valor que tiene mayor frecuencia absoluta de entre todos los datos, es decir, el valor que más veces se repite. En este caso, usaremos el método `.mode()`. Veamos un ejemplo: "
   ]
  },
  {
   "cell_type": "code",
   "execution_count": 12,
   "metadata": {},
   "outputs": [
    {
     "data": {
      "text/plain": [
       "0    30.1\n",
       "Name: price, dtype: float64"
      ]
     },
     "execution_count": 12,
     "metadata": {},
     "output_type": "execute_result"
    }
   ],
   "source": [
    "# calculamos la moda para la columna de price. \n",
    "df_cigar[\"price\"].mode()\n",
    "\n",
    "# en este caso el valor es de 30.1$, es decir, el precio que más se repite en nuestro dataset es de 30.1"
   ]
  },
  {
   "cell_type": "markdown",
   "metadata": {},
   "source": [
    "Pero puede que hayáis notado que que el *output* de este estadístico es un poco diferente de los que hemos estado viendo hasta ahora, y es que la moda nos devuelve una Serie! Esto es debido a que en nuestro set de datos puede haber más de una moda. Es decir, puede haber dos valores que sean los que más se repiten. En este contexto, si quisieramos acceder solo al valor de la moda lo que tendríamos que hacer es lo siguiente: 👇🏽"
   ]
  },
  {
   "cell_type": "code",
   "execution_count": 13,
   "metadata": {},
   "outputs": [
    {
     "data": {
      "text/plain": [
       "30.1"
      ]
     },
     "execution_count": 13,
     "metadata": {},
     "output_type": "execute_result"
    }
   ],
   "source": [
    "df_cigar[\"price\"].mode()[0]"
   ]
  },
  {
   "cell_type": "markdown",
   "metadata": {},
   "source": [
    "## Medidas de dispersión\n",
    "\n",
    "Recordemos que estas medían el grado de dispersión de los valores de la variable."
   ]
  },
  {
   "attachments": {},
   "cell_type": "markdown",
   "metadata": {},
   "source": [
    "### Desviación respecto a la media\n",
    "\n",
    "La desviación respecto a la media es la diferencia en valor absoluto entre cada valor de los datos y su media aritmética. Nos indica la distancia que tiene cada valor respecto a su media. Aquellos valores que estén muy alejados podrían estar afectados por algún tipo de ruido y ser candidatos para una limpieza. Algunos inconvenientes de esta medida es que si disponemos solo de esta medida (la desviación respecto a la media) nos faltaría la referencia de cuáles son distancias grandes y cuales no, ya que esto solo todos los valores en absoluto, por lo tanto no vamos a saber que diferencias son positivas o negativas . Otras medidas como la varianza nos aportarán esa información, aunque su cálculo es menos intuitivo.\n",
    "\n",
    "Para el cálculo de este estadístico, primero obtendremos la media aritmética de los datos, para luego calcular la diferencia absoluta (usando el método `.abs()` de Numpy) de cada dato respecto a la media:"
   ]
  },
  {
   "cell_type": "code",
   "execution_count": 15,
   "metadata": {},
   "outputs": [
    {
     "name": "stdout",
     "output_type": "stream",
     "text": [
      "68.69992753623188\n"
     ]
    }
   ],
   "source": [
    "# calculamos la media para la columna price\n",
    "media = df_cigar[\"price\"].mean()\n",
    "print(media)"
   ]
  },
  {
   "cell_type": "code",
   "execution_count": 17,
   "metadata": {},
   "outputs": [
    {
     "data": {
      "text/plain": [
       "1   -40.099928\n",
       "2   -38.899928\n",
       "3   -38.899928\n",
       "4   -37.199928\n",
       "5   -37.099928\n",
       "Name: price, dtype: float64"
      ]
     },
     "execution_count": 17,
     "metadata": {},
     "output_type": "execute_result"
    }
   ],
   "source": [
    "# el siguiente paso es restar a cada valor de los precios que tenemos en el dataframe el valor de la media. \n",
    "# Esto lo podemos hacer muy facilmente de la siguiente forma\n",
    "\n",
    "diferencias = df_cigar[\"price\"] - media\n",
    "diferencias.head()\n"
   ]
  },
  {
   "cell_type": "code",
   "execution_count": 18,
   "metadata": {},
   "outputs": [
    {
     "name": "stdout",
     "output_type": "stream",
     "text": [
      "1       40.099928\n",
      "2       38.899928\n",
      "3       38.899928\n",
      "4       37.199928\n",
      "5       37.099928\n",
      "          ...    \n",
      "1376    44.200072\n",
      "1377    49.900072\n",
      "1378    60.800072\n",
      "1379    58.300072\n",
      "1380    86.400072\n",
      "Name: price, Length: 1380, dtype: float64\n"
     ]
    }
   ],
   "source": [
    "# Ya tenemos todas las diferencias, ahora solo nos falta calcular el valor absoluto. Para eso usaremos el método de numpy de np.abs\n",
    "desviacion_media = np.abs(diferencias)\n",
    "print(desviacion_media)"
   ]
  },
  {
   "attachments": {},
   "cell_type": "markdown",
   "metadata": {},
   "source": [
    "Ahora lo que vemos es lo que se aleja cada valor de la media en valor absoluto. Un valor igual a cero indica que el valor coincide con la media, mientras que un valor alto con respecto a la media nos dice el dato está alejado de los demás datos."
   ]
  },
  {
   "cell_type": "markdown",
   "metadata": {},
   "source": [
    "### Varianza\n",
    "\n",
    "La varianza intenta describir la dispersión del conjunto de los datos, dando un único valor, a diferencia de la desviación respecto a la media que nos da el valor individual para cada entrada de los datos.  Si vemos la fórmula de varianza que tenemos definida aquí:\n",
    "\n",
    "$$\\sigma^{2}={\\frac{{\\displaystyle \\sum_{i=1}^{N}\\left(x_{i}-\\mu\\right)^{2}}}{N}}$$\n",
    "\n",
    "Donde: \n",
    "\n",
    "- x<sub>i</sub>: es cada uno de los valores de nuestro conjunto de datos\n",
    "\n",
    "- μ: es la media\n",
    "\n",
    "- N: es el número total de datos que tenemos. \n",
    "\n",
    "\n",
    "Si tradujeramos esta fórmula la podríamos entender como la suma (Σ) de la diferencia de cada valor y la media, elevados al cuadrado y divididos entre el total de observaciones o datos. Al estar elevado al cuadrado será un valor que siempre es positivo. \n",
    "\n",
    "Por suerte no hay que escribirla a mano, y Pandas nos proporciona el método `.var()` para su cálculo. Vemos un ejemplo: "
   ]
  },
  {
   "cell_type": "code",
   "execution_count": 16,
   "metadata": {},
   "outputs": [
    {
     "data": {
      "text/plain": [
       "1762.846127623466"
      ]
     },
     "execution_count": 16,
     "metadata": {},
     "output_type": "execute_result"
    }
   ],
   "source": [
    "df_cigar[\"price\"].var()"
   ]
  },
  {
   "attachments": {},
   "cell_type": "markdown",
   "metadata": {},
   "source": [
    "### Desviación estándar o desviación típica\n",
    "\n",
    "La desviación típica es la raíz cuadrada de la varianza. En su nivel más básico, la desviación estándar nos dice como de dispersos están los valores de los datos en un conjunto de datos. Por lo tanto es, útil para buscar probabilidades de que un evento ocurra. Imaginemos que trabajamos en el mercado bursátil, nos puede a determinar entre que  rango de precios puede moverse un determinado activo, y determinar que tipo de activos pueden ser mas volátiles que otros. Imaginemos que tenemos determinado activo que tiene los siguientes valores: \n",
    "\n",
    "- Media = 1.78\n",
    "\n",
    "- Desviación estándar = 0.5\n",
    "\n",
    "Si interpretamos estos resulados podemos decir que el precio medio de dicho activo es de 1.78, pero que podría varíar entre 1.78 - 0.5 y 1.78 + 0.5. Cuanto mayor sea esta desviación estándar mayor será la dispersión o variabilidad en nuestros datos. Si nos fijamos, en este caso solo tenemos un dato, ya que estamos haciendo referencia a la desviación respecto a un valor(la media). \n",
    "\n",
    "Este estadístico viene definido por la siguiente fórmula: \n",
    "\n",
    "\n",
    "$$S = \\sqrt{\\frac{\\sum_{i=1}^{N} (x_{i}-\\overline{x})^2}{N-1}}$$\n",
    "\n",
    "\n",
    "Donde:\n",
    "\n",
    "- $\\overline{x}$ : Media muestral.\n",
    "\n",
    "- N: es el número total de datos que tenemos. \n",
    "\n",
    "\n",
    "¿Cómo calculamos esto en Pandas? Usando el método `std`. Veamos un ejemplo para los precios."
   ]
  },
  {
   "cell_type": "code",
   "execution_count": 10,
   "metadata": {},
   "outputs": [
    {
     "data": {
      "text/plain": [
       "41.98626117700248"
      ]
     },
     "execution_count": 10,
     "metadata": {},
     "output_type": "execute_result"
    }
   ],
   "source": [
    "# calculamos el valor de la desviación estándar\n",
    "\n",
    "df_cigar[\"price\"].std()"
   ]
  },
  {
   "cell_type": "code",
   "execution_count": 11,
   "metadata": {},
   "outputs": [
    {
     "data": {
      "text/plain": [
       "68.69992753623188"
      ]
     },
     "execution_count": 11,
     "metadata": {},
     "output_type": "execute_result"
    }
   ],
   "source": [
    "# recordemos cual era la media con el método mean\n",
    "\n",
    "df_cigar[\"price\"].mean()"
   ]
  },
  {
   "cell_type": "markdown",
   "metadata": {},
   "source": [
    "Con este resultado, podremos concluir que de media los paquetes de cigarrillos valen 68.69$, pero que estos precios pueden variar entre 68.69 - 41.98 (26.71$) y 68.69 + 41.98(110.66$). Pero entonces ... nos podemos preguntar que diferencia hay entre la desviación típica y la varianza. La varianza es solo el cuadrado de la desviación estándar (o si lo peferimos ver en el otro sentido, la desviación estándar es la raíz cuadrada de la varianza).La desviación estándar se expresa en las mismas unidades que la media, mientras que la varianza se expresa en el cuadrado de las unidades. \n",
    "\n",
    "Ambos estadísticos describen como de dispersos están los valores en nuestro conjunto de datos en el sentido de qué tan lejos están las cosas/valores del valor medio de esa distribución. La desviación estandar es la raíz cuadrada de la varianza, por lo tanto esta expresada en las mismas unidades que los datos originales, es decir, peso en kg, altura en metros, etc. La Varianza en cambio es el cuadrado de la Desviación Estándar, por lo que presentaría las unidades arriba mencionadas al cuadrado:  kg2 ,  m2 , etc., lo que hace que su interpretación sea un poco más compleja. "
   ]
  },
  {
   "cell_type": "markdown",
   "metadata": {},
   "source": [
    "## Otros conceptos importantes en estadística descriptiva\n",
    "### Robustez\n",
    "\n",
    "Un conjunto de datos puede describirse con los estadísticos básicos que hemos visto hasta ahora. Sin embargo, estos estadísticos pueden ser más o menos precisos en su descripción del total, dependiendo de varios factores. Por ejemplo, si calculamos la media o la varianza a partir de una muestra muy pequeña de datos, estos valores pueden no ser suficientemente representativos del conjunto global. Adicionalmente, la aparición de valores inusualmente altos o bajos (debido a ruido, situaciones inusuales, etc.) puede hacer que algunos estadísticos varíen su valor enormemente. Es por eso que se les considera estadísticos poco robustos. De todas formas, normalmente, cuanto más cantidad de datos hayamos usado para calcular los estadísticos, más robustos serán estos, ya que la influencia de unos pocos datos inusuales sobre el total de los mismos será menor. \n",
    "\n",
    "Podemos definir el \"punto de ruptura\" de un estadístico como la fracción de los datos a los que podríamos dar valores arbitrarios sin hacer que el estadístico se vea tan afectado como para no ser útil.\n",
    "Por ejemplo, en el caso de la media aritmética calculada sobre `n` datos, con solo cambiar uno de ellos lo suficiente, la media dejaría de resultar útil para describir los datos. Por lo tanto su \"punto de ruptura\" expresado como una función de `n` seria `1/n`.\n",
    "\n",
    "**Ejercicio:** ¿Cual es el punto de ruptura de la varianza?\n",
    "\n",
    "**Ejercicio:** ¿Cuál de estos dos es un estadístico más robusto: desviación típica o moda?\n"
   ]
  },
  {
   "cell_type": "markdown",
   "metadata": {},
   "source": [
    "### Coeficiente de variación\n",
    "\n",
    "Estadístico que se usa para hacer referencia a la relación entre el tamaño de la media y la variabilidad de la variable. Se calcula como el cociente entre la desviación típica y la media. \n",
    "\n",
    "Si su valor es bajo, significará que el conjunto de datos es homogéneo y que no hay valores que se separen demasiado de la media. Si por el contrario el coeficiente de variación es grande, la distribución de los datos será mucho más heterogénea, con grandes distancias entre algunas de las muestras (estarán más dispersos). Este segundo caso nos indicará que los estadísticos son menos robustos."
   ]
  },
  {
   "cell_type": "code",
   "execution_count": 20,
   "metadata": {},
   "outputs": [
    {
     "name": "stdout",
     "output_type": "stream",
     "text": [
      "68.69992753623188\n",
      "41.98626117700248\n",
      "1.6362478013131954\n"
     ]
    }
   ],
   "source": [
    "# Creamos unos datos de prueba aleatorios (matriz de 5x4)\n",
    "datos = np.random.randn(5, 4)\n",
    "\n",
    "print(df_cigar[\"price\"].mean()) # media para todos los datos\n",
    "print(df_cigar[\"price\"].std()) # desviación típica para todos los datos\n",
    "print(df_cigar[\"price\"].mean() / df_cigar[\"price\"].std()) # coeficiente de variación"
   ]
  },
  {
   "cell_type": "markdown",
   "metadata": {},
   "source": [
    "# Ejercicios"
   ]
  },
  {
   "attachments": {},
   "cell_type": "markdown",
   "metadata": {},
   "source": [
    "**EJERCICIO 1**\n",
    "\n",
    "usando la columna del `sales` del *dataframe* usado durante el pair, calcula su media, mediana, moda, máximo y mínimo."
   ]
  },
  {
   "attachments": {},
   "cell_type": "markdown",
   "metadata": {},
   "source": [
    "**EJERCICIO 2**\n",
    "\n",
    "Calcula la desviación respecto a la media de la columna. ¿Puedes sacar alguna conclusión sobre el dato viendo este valor?\n"
   ]
  },
  {
   "attachments": {},
   "cell_type": "markdown",
   "metadata": {},
   "source": [
    "**EJERCICIO 3**\n",
    "\n",
    "Sobre el ejercicio anterior, calcula también la media de la desviación respecto a la media para todos los datos dela columna. ¿Ahora nos aporta algo más de información la desviación respecto a la media del primer elemento?"
   ]
  },
  {
   "attachments": {},
   "cell_type": "markdown",
   "metadata": {},
   "source": [
    "**EJERCICIO 4**\n",
    "\n",
    "Calcula la desviación estándar, la varianza y el coeficiente de varianza de la columna. \n",
    "\n",
    "**BONUS**\n",
    "Modifica un dato de la columna multiplicándolo por 1000 y vuelve a calcular los mismos estadísticos. ¿Qué sucede?"
   ]
  }
 ],
 "metadata": {
  "kernelspec": {
   "display_name": "Python 3",
   "language": "python",
   "name": "python3"
  },
  "language_info": {
   "codemirror_mode": {
    "name": "ipython",
    "version": 3
   },
   "file_extension": ".py",
   "mimetype": "text/x-python",
   "name": "python",
   "nbconvert_exporter": "python",
   "pygments_lexer": "ipython3",
   "version": "3.9.7"
  },
  "toc": {
   "base_numbering": 1,
   "nav_menu": {},
   "number_sections": true,
   "sideBar": true,
   "skip_h1_title": false,
   "title_cell": "Table of Contents",
   "title_sidebar": "Contents",
   "toc_cell": true,
   "toc_position": {
    "height": "calc(100% - 180px)",
    "left": "10px",
    "top": "150px",
    "width": "426.667px"
   },
   "toc_section_display": true,
   "toc_window_display": true
  },
  "vscode": {
   "interpreter": {
    "hash": "f7912e45f56376859e46a323936f3af5ef395502effe5c6049b04a4785be6cad"
   }
  }
 },
 "nbformat": 4,
 "nbformat_minor": 2
}

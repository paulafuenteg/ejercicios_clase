{
 "cells": [
  {
   "cell_type": "markdown",
   "metadata": {
    "toc": true
   },
   "source": [
    "<h1>Table of Contents<span class=\"tocSkip\"></span></h1>\n",
    "<div class=\"toc\"><ul class=\"toc-item\"><li><span><a href=\"#Loops:-For\" data-toc-modified-id=\"Loops:-For-1\"><span class=\"toc-item-num\">1&nbsp;&nbsp;</span>Loops: For</a></span><ul class=\"toc-item\"><li><span><a href=\"#Ejercicios:-for,-continue,-break,-else,-pass\" data-toc-modified-id=\"Ejercicios:-for,-continue,-break,-else,-pass-1.1\"><span class=\"toc-item-num\">1.1&nbsp;&nbsp;</span>Ejercicios: for, continue, break, else, pass</a></span></li></ul></li><li><span><a href=\"#Métodos-interesantes-para-los-for-loops\" data-toc-modified-id=\"Métodos-interesantes-para-los-for-loops-2\"><span class=\"toc-item-num\">2&nbsp;&nbsp;</span>Métodos interesantes para los for loops</a></span><ul class=\"toc-item\"><li><span><a href=\"#Range\" data-toc-modified-id=\"Range-2.1\"><span class=\"toc-item-num\">2.1&nbsp;&nbsp;</span>Range</a></span></li><li><span><a href=\"#Ejercicios:-range\" data-toc-modified-id=\"Ejercicios:-range-2.2\"><span class=\"toc-item-num\">2.2&nbsp;&nbsp;</span>Ejercicios: range</a></span></li></ul></li><li><span><a href=\"#List-comprehensions\" data-toc-modified-id=\"List-comprehensions-3\"><span class=\"toc-item-num\">3&nbsp;&nbsp;</span>List comprehensions</a></span><ul class=\"toc-item\"><li><span><a href=\"#Ejercicios:-list-comprehensions\" data-toc-modified-id=\"Ejercicios:-list-comprehensions-3.1\"><span class=\"toc-item-num\">3.1&nbsp;&nbsp;</span>Ejercicios: list comprehensions</a></span></li></ul></li></ul></div>"
   ]
  },
  {
   "cell_type": "markdown",
   "metadata": {},
   "source": [
    "# Loops: For"
   ]
  },
  {
   "cell_type": "markdown",
   "metadata": {},
   "source": [
    "Hasta ahora, los bucles que vimos tenían que ver con cumplir con una condición o no. Los bucles `for` se utilizan cuando iteramos sobre una secuencia de datos (un iterable), es decir, una lista, tupla, diccionario, string, etc. Al contrario que en los bucles `while` este tipo de bucles se utilizan cuando iteramos por un número conocido de elementos. \n",
    "\n",
    "Las palabras clave para aplicar un bucle for son `for` y `in`. Deberemos seguir la siguiente sintaxis: \n",
    "\n",
    "```python\n",
    "for elemento in iterable: \n",
    "    pasan cosas \n",
    "```\n",
    "\n",
    "Donde: \n",
    "\n",
    "- `elemento`: será cada elemento de nuestro iterable. Lo podemos llamar elemento, i, brocoli o como queramos! \n",
    "\n",
    "- `iterable`: será el elemento iterable(lista, tupla, diccionario, set, etc.) sobre el que queremos aplicar el `for`"
   ]
  },
  {
   "cell_type": "code",
   "execution_count": 1,
   "metadata": {},
   "outputs": [],
   "source": [
    "# creemos una lista donde tengamos 4 strings que correspondan a las 4 estaciones\n",
    "\n",
    "estaciones = ['primavera', 'verano', 'otoño', 'invierno']"
   ]
  },
  {
   "cell_type": "markdown",
   "metadata": {},
   "source": [
    "Con el bucle `for` lo que hacemos es acceder elemento a elemento de nuestro iterable. Veamos un ejemplo con la lista que acabamos de definir."
   ]
  },
  {
   "cell_type": "code",
   "execution_count": 2,
   "metadata": {},
   "outputs": [
    {
     "name": "stdout",
     "output_type": "stream",
     "text": [
      "estamos accediendo al elemento primavera\n",
      "--------------------------------------------\n",
      "estamos accediendo al elemento verano\n",
      "--------------------------------------------\n",
      "estamos accediendo al elemento otoño\n",
      "--------------------------------------------\n",
      "estamos accediendo al elemento invierno\n",
      "--------------------------------------------\n"
     ]
    }
   ],
   "source": [
    "# siguiendo la sintaxis de los bucles for, lo iniciamos usando las palabras reservadas for e in\n",
    "# 📌 fijaos como en este ejemplo, lo que en el ejemplo de la sintaxis llamamos como \"elemento\" aquí lo estamos llamando temporada \n",
    "for temporada in estaciones:\n",
    "\n",
    "    # con el for lo que estamos haciendo es acceder a cada uno de los elementos de la lista. Lo que estamos haciendo en las siguientes líneas de código es: \n",
    "\n",
    "    # 1. imprimir el elemento al que estamos accediendo de la lista\n",
    "    print(f\"estamos accediendo al elemento {temporada}\")\n",
    "\n",
    "    # 2. imprimir unas barras para que a la hora de visualizar los resultados del for se vea mejor. Esto no es normal hacerlo, es algo meramente educativo para que se vea más claro. \n",
    "    print(\"--------------------------------------------\")"
   ]
  },
  {
   "cell_type": "markdown",
   "metadata": {},
   "source": [
    "Si recordamos de la clase de listas, podíamos acceder a los elementos de una lista usando la indexación con corchetes. Recordando la sintaxis sería así: \n",
    "\n",
    "```python\n",
    "milista[2] # accedemos al elemento que está en la posición 3. Recordemos que la indexación en python empieza en 0. \n",
    "\n",
    "milista[-1] # accedemos al último elememto de la lista\n",
    "```\n",
    "\n",
    "Pero... **¿Qué pasaría si usaramos un `for` usando la indexación de listas?**"
   ]
  },
  {
   "cell_type": "code",
   "execution_count": 3,
   "metadata": {},
   "outputs": [
    {
     "data": {
      "text/plain": [
       "'otoño'"
      ]
     },
     "execution_count": 3,
     "metadata": {},
     "output_type": "execute_result"
    }
   ],
   "source": [
    "# veamos cual es el tercer elemento de nuestra lista\n",
    "\n",
    "estaciones[2] # esto ya de por si es un único elemento. En este caso, otoño y es un string"
   ]
  },
  {
   "cell_type": "code",
   "execution_count": 4,
   "metadata": {},
   "outputs": [
    {
     "name": "stdout",
     "output_type": "stream",
     "text": [
      "o\n",
      "-------\n",
      "t\n",
      "-------\n",
      "o\n",
      "-------\n",
      "ñ\n",
      "-------\n",
      "o\n",
      "-------\n"
     ]
    }
   ],
   "source": [
    "for caracter in estaciones[2]:\n",
    "    print(caracter)\n",
    "    print(\"-------\")"
   ]
  },
  {
   "cell_type": "markdown",
   "metadata": {},
   "source": [
    "Vaya... parece que cada elemento de nuestro *string*  es cada una de nuestras letras!!! Si nos fijamos, lo que esta haciendo el `for` es descomponer cada elemento de nuestro iterable.\n",
    "\n",
    "- En el caso de listas, tuplas y sets cada elemento de nuestra estructura de datos (o iterable) es cada uno de sus elementos. Para iterar por diccionarios lo haremos de una forma similar, pero con algunas peculiaridades, nos os preocupéis, lo veremos en esta lección. \n",
    "\n",
    "- En el caso de los *strings* cada elemento corresponde a cada una de las letras que compone el *string* "
   ]
  },
  {
   "cell_type": "markdown",
   "metadata": {},
   "source": [
    "Al igual que en los condicionales (`if ... elif ... else`), o los bucles `while`, los bucles sirven para algo más que para hacer *print*, podremos hacer operaciones con los elementos resultado de la iteración. En este caso vamos a iterar por una lista de números que definiremos a continuación.  Por otro lado, nos crearemos una lista vacía donde iremos añadiendo cada elemento de la lista original pero sumándole 1. "
   ]
  },
  {
   "cell_type": "code",
   "execution_count": 5,
   "metadata": {},
   "outputs": [],
   "source": [
    "# definimos nuestra lista de números\n",
    "\n",
    "lista_numeros = [1, 2, 4, 8, 16]"
   ]
  },
  {
   "cell_type": "code",
   "execution_count": 6,
   "metadata": {},
   "outputs": [],
   "source": [
    "# nos creamos una lista vacía\n",
    "numeros_sumados = []"
   ]
  },
  {
   "cell_type": "code",
   "execution_count": 7,
   "metadata": {},
   "outputs": [
    {
     "name": "stdout",
     "output_type": "stream",
     "text": [
      "el número al que estamos accediendo es 1\n",
      "[2]\n",
      "el número al que estamos accediendo es 2\n",
      "[2, 3]\n",
      "el número al que estamos accediendo es 4\n",
      "[2, 3, 5]\n",
      "el número al que estamos accediendo es 8\n",
      "[2, 3, 5, 9]\n",
      "el número al que estamos accediendo es 16\n",
      "[2, 3, 5, 9, 17]\n"
     ]
    }
   ],
   "source": [
    "# iniciamos nuestro bucle for iterando por nuestra lista de numeros. Donde numero será cada unos de números que tenemos en la lista. Primero será 1, luego 2, luego 4, luego 8 y por último 16\n",
    "for numero in lista_numeros :\n",
    "\n",
    "    # printemos el número al que estamos accediendo\n",
    "    print(f\"el número al que estamos accediendo es {numero}\")\n",
    "\n",
    "    # al elemento al que estamos accediendo le sumamos uno y lo almacenamos en una variable\n",
    "    suma = numero + 1\n",
    "\n",
    "    # añadimos el nuevo número a nuestra lista vacía numeros_sumados\n",
    "    numeros_sumados.append(suma)\n",
    "\n",
    "    # a medida que vamos avanzando en la iteración vamos printeando los resultados de la lista numeros_sumados\n",
    "    print(numeros_sumados)"
   ]
  },
  {
   "cell_type": "markdown",
   "metadata": {},
   "source": [
    "Veamos que son todos esos *print* que nos a devuelto el for. Nuestra lista era la siguiente\n",
    "\n",
    "```python\n",
    "lista_numeros = [1, 2, 4, 8, 16]\n",
    "```\n",
    "\n",
    "- Lo primero que nos devuelve el for es el print del elemento al que estamos accediendo. En nuestro caso el número **1**. Despúes ocurren una serie de operaciones, en nuestro caso la suma de dicho elemento + 1. Después lo añadimos a nuestra lista vacía y por último *printeamos* como es nuestra lista. En esta primera iteración, la lista solo tiene un elemento, el cuál es el resultado de sumar `1 + 1`. \n",
    "\n",
    "- Una vez terminada la primera iteración, el bucle *for* vuelve al inicio, pero en este caso accede al segundo elemento, en este caso el número **2**. Después se suma y se apendea a la lista. Y si nos fijamos, cuando volvemos a *printear* la lista `numeros_sumados` vemos que nuestra lista ahora tiene dos elementos, el que añadimos en la iteración anterior y el resultado de sumar `2 + 1`.\n",
    "\n",
    "- Esta misma operación se va a repetir para cada elemento de nuestra lista y el código parará cuando llegue al último elemento."
   ]
  },
  {
   "cell_type": "code",
   "execution_count": 8,
   "metadata": {},
   "outputs": [
    {
     "data": {
      "text/plain": [
       "[2, 3, 5, 9, 17]"
      ]
     },
     "execution_count": 8,
     "metadata": {},
     "output_type": "execute_result"
    }
   ],
   "source": [
    "# veamos ahora como ha quedado nuestra lista de numeros_sumados. Nuestra lista original tenía 5 elementos, por lo que esta lista debería tener 5 elementos también. \n",
    "\n",
    "numeros_sumados\n"
   ]
  },
  {
   "cell_type": "code",
   "execution_count": 9,
   "metadata": {},
   "outputs": [
    {
     "data": {
      "text/plain": [
       "[1, 2, 4, 8, 16]"
      ]
     },
     "execution_count": 9,
     "metadata": {},
     "output_type": "execute_result"
    }
   ],
   "source": [
    "# si la comparamos con la lista original\n",
    "\n",
    "lista_numeros"
   ]
  },
  {
   "cell_type": "markdown",
   "metadata": {},
   "source": [
    "Vemos que: \n",
    "\n",
    "- Las dos listas tienen el mismo número de elementos\n",
    "\n",
    "- La lista de `numeros_sumados` tiene los mismos elementos que la lista original a los que le sumamos 1. "
   ]
  },
  {
   "cell_type": "markdown",
   "metadata": {},
   "source": [
    "Veamos otros ejemplos con `for` para ir familiarizándonos con el bucle `for`. En este caso, tendremos una lista de ciudades, y queremos imprimir cada una de ellas. Además vamos a querer crearnos una lista con las ciudades en mayúsculas. "
   ]
  },
  {
   "cell_type": "code",
   "execution_count": 10,
   "metadata": {},
   "outputs": [],
   "source": [
    "# lo primero que hacemos es crearnos nuestra lista de ciudades\n",
    "\n",
    "ciudades = [\"Madrid\", \"Leon\", \"Soria\", \"Valencia\", \"Ciudad Real\"]"
   ]
  },
  {
   "cell_type": "code",
   "execution_count": 11,
   "metadata": {},
   "outputs": [],
   "source": [
    "# en segundo lugar creamos una lista vacía donde almancenaremos las ciudades de la lista anterior en mayúscula\n",
    "\n",
    "ciudades_mayusculas = []"
   ]
  },
  {
   "cell_type": "code",
   "execution_count": 12,
   "metadata": {},
   "outputs": [
    {
     "name": "stdout",
     "output_type": "stream",
     "text": [
      "Estamos interando por la ciudad Madrid\n",
      "Estamos interando por la ciudad Leon\n",
      "Estamos interando por la ciudad Soria\n",
      "Estamos interando por la ciudad Valencia\n",
      "Estamos interando por la ciudad Ciudad Real\n"
     ]
    }
   ],
   "source": [
    "# iniciamos el for\n",
    "for ciudad in ciudades:\n",
    "    # sacamos por pantalla la ciudad por la que estamos interando\n",
    "    print(f\"Estamos interando por la ciudad {ciudad}\")\n",
    "\n",
    "    # si recordamos antes, nos creamos una variable donde sumamos un valor a nuestro iterable. Este paso lo podemos obviar y añadirlo directamente a la lista, como vamos a hacer en este caso. \n",
    "    ciudades_mayusculas.append(ciudad.upper())"
   ]
  },
  {
   "cell_type": "code",
   "execution_count": 13,
   "metadata": {},
   "outputs": [
    {
     "data": {
      "text/plain": [
       "['MADRID', 'LEON', 'SORIA', 'VALENCIA', 'CIUDAD REAL']"
      ]
     },
     "execution_count": 13,
     "metadata": {},
     "output_type": "execute_result"
    }
   ],
   "source": [
    "# chequeemos como es nuestra lista de ciudades_mayusculas\n",
    "ciudades_mayusculas"
   ]
  },
  {
   "cell_type": "markdown",
   "metadata": {},
   "source": [
    "Y voilá! Ya tenemos una lista nueva con todas las ciudades en mayúsculas 🎊. "
   ]
  },
  {
   "cell_type": "markdown",
   "metadata": {},
   "source": [
    "Incluso podemos hacer que los resultados vayan a listas diferentes. Imaginemos que ahora queremos dividir nuestras ciudad en función de su longitud, es decir, del número de letras que tiene cada una. De esta forma acabaremos teniendo dos listas, una con las ciudades de longitud menor a 5 y otra con las ciudades de longitud mayor a 5."
   ]
  },
  {
   "cell_type": "code",
   "execution_count": 14,
   "metadata": {},
   "outputs": [],
   "source": [
    "# nos creamos dos listas, una de ciudades_pequeñas y otra de ciudades_grandes\n",
    "\n",
    "ciudades_pequeñas = []\n",
    "ciudades_grandes = []"
   ]
  },
  {
   "cell_type": "code",
   "execution_count": 15,
   "metadata": {},
   "outputs": [],
   "source": [
    "# iniciamos nuestro for para iterar por la lista de ciudades y acceder a cada una de ellas: \n",
    "for ciud in ciudades:\n",
    "\n",
    "    # como estamos viendo dentro de un for podemos hacer lo que se nos ocurra. En este vamos a incluir condicionales. \n",
    "\n",
    "    # si la longitud de la ciudad a la que estamos accediendo es menor o igual a 5 lo añadiremos a la lista de ciudades pequeñas. En este caso, llamamos \"ciud\" a cada uno de los elementos de la lista ciudades pero recordad que lo podemos llamar de cualquier forma\n",
    "    if len(ciud) < 6:\n",
    "        ciudades_pequeñas.append(ciud)\n",
    "\n",
    "    # en caso de que no se cumpla la condición definida previamente, lo añadiremos a la lista de ciudades grandes\n",
    "    else:\n",
    "        ciudades_grandes.append(ciud)"
   ]
  },
  {
   "cell_type": "code",
   "execution_count": 16,
   "metadata": {},
   "outputs": [
    {
     "name": "stdout",
     "output_type": "stream",
     "text": [
      "las ciudades pequeñas son:  ['Leon', 'Soria']\n",
      "las ciudades grandes son:  ['Madrid', 'Valencia', 'Ciudad Real']\n"
     ]
    }
   ],
   "source": [
    "# veamos ahora como han quedado nuestras listas\n",
    "\n",
    "print(\"las ciudades pequeñas son: \", ciudades_pequeñas) # tendremos las ciudades que tengan menos de 6 caracteres\n",
    "print(\"las ciudades grandes son: \", ciudades_grandes) # tendremos las ciudades que tengan más de 6 caracteres"
   ]
  },
  {
   "cell_type": "markdown",
   "metadata": {},
   "source": [
    "📌 **Como hemos mencionado al inicio de este jupyter, la interación por listas, tuplas y sets se hará de la misma forma**, pero... hemos comentado que con los diccionarios había algunas peculiaridades. Veámoslo en más detalle: \n",
    "\n"
   ]
  },
  {
   "cell_type": "code",
   "execution_count": 17,
   "metadata": {},
   "outputs": [],
   "source": [
    "# lo primero que vamos a hacer es definir un diccionario:\n",
    "\n",
    "lista_compra = {'Brocoli': 2.45, \n",
    "       'Chorizo': 45,\n",
    "       'Zanahoria': 7, \n",
    "       'Arroz': 1.2, \n",
    "       'Pan': 0.95}"
   ]
  },
  {
   "cell_type": "code",
   "execution_count": 18,
   "metadata": {},
   "outputs": [
    {
     "name": "stdout",
     "output_type": "stream",
     "text": [
      "Brocoli\n",
      "Chorizo\n",
      "Zanahoria\n",
      "Arroz\n",
      "Pan\n"
     ]
    }
   ],
   "source": [
    "# que pasaría si usamos un for para iterar por el diccionario? \n",
    "\n",
    "for i in lista_compra: # fijaos como ahora al iterable lo hemos llamado \"i\"\n",
    "    print(i)"
   ]
  },
  {
   "cell_type": "markdown",
   "metadata": {},
   "source": [
    "Vale... parece que si iteramos como hemos aprendido hasta ahora solo accedemos a las *keys* de nuestro diccionario. Pero... 🤔 ¿Qué pasaría si quisieramos acceder a los *values*? Recordáis el método `.values()` de los diccionarios?"
   ]
  },
  {
   "cell_type": "code",
   "execution_count": 19,
   "metadata": {},
   "outputs": [
    {
     "data": {
      "text/plain": [
       "dict_values([2.45, 45, 7, 1.2, 0.95])"
      ]
     },
     "execution_count": 19,
     "metadata": {},
     "output_type": "execute_result"
    }
   ],
   "source": [
    "# veamos que era los que nos devolvía este método\n",
    "\n",
    "lista_compra.values()"
   ]
  },
  {
   "cell_type": "markdown",
   "metadata": {},
   "source": [
    "Genial!!! Hemos conseguido acceder a los valores, en este momento la lógica nos podría decir podríamos iterar por esos values! Veamos que pasa!! "
   ]
  },
  {
   "cell_type": "code",
   "execution_count": 20,
   "metadata": {},
   "outputs": [
    {
     "name": "stdout",
     "output_type": "stream",
     "text": [
      "2.45\n",
      "45\n",
      "7\n",
      "1.2\n",
      "0.95\n"
     ]
    }
   ],
   "source": [
    "for i in lista_compra.values():\n",
    "    print(i)"
   ]
  },
  {
   "cell_type": "markdown",
   "metadata": {},
   "source": [
    "Estupendo!!! Hemos conseguido acceder tanto a las *keys* como a los *values* de nuestro diccionario. Pero vayamos un paso más allá! ¿Y si quisieramos acceder a las *keys* y *values* del diccionario a la vez? Este es el momento de recordar de nuevo! Os acordáis del método `.items()` de los diccionarios? Recordemos que es lo que nos devolvía: "
   ]
  },
  {
   "cell_type": "code",
   "execution_count": 21,
   "metadata": {},
   "outputs": [
    {
     "data": {
      "text/plain": [
       "dict_items([('Brocoli', 2.45), ('Chorizo', 45), ('Zanahoria', 7), ('Arroz', 1.2), ('Pan', 0.95)])"
      ]
     },
     "execution_count": 21,
     "metadata": {},
     "output_type": "execute_result"
    }
   ],
   "source": [
    "lista_compra.items()"
   ]
  },
  {
   "cell_type": "markdown",
   "metadata": {},
   "source": [
    "Nos devuelve un objeto de tipo `dict_items` compuesto por tuplas de cada par de *key* y *value* de nuestro diccionario. De la misma forma que con el método `.values()` podremos iterar por ese objeto. Manos a la obra! Pero atención aquí!En este caso vamos a tener dos interables! Uno con las *keys* y otro con los *values*."
   ]
  },
  {
   "cell_type": "code",
   "execution_count": 22,
   "metadata": {},
   "outputs": [
    {
     "name": "stdout",
     "output_type": "stream",
     "text": [
      "Brocoli ----> 2.45\n",
      "Chorizo ----> 45\n",
      "Zanahoria ----> 7\n",
      "Arroz ----> 1.2\n",
      "Pan ----> 0.95\n"
     ]
    }
   ],
   "source": [
    "for key, value in lista_compra.items():\n",
    "    print(key, \"---->\", value)"
   ]
  },
  {
   "cell_type": "markdown",
   "metadata": {},
   "source": [
    "**¿Qué es lo que ha pasado?** \n",
    "\n",
    "1. Hemos usado dos palabras en nuestro `for`: `keys` y `values`. Hemos puesto *key* y *values* para que sea más intuitivo, pero recordad que podemos poner lo que queramos! \n",
    "\n",
    "2. Hemos usado el método `.items()` para obtener un objeto de tipo `dict_items` y acceder a todas las *keys* y *values* de nuestro diccionario.\n",
    "   \n",
    "3. Hemos hecho un *print*  para que nos muestre las *keys* y *values* de nuestro diccionario."
   ]
  },
  {
   "cell_type": "code",
   "execution_count": 23,
   "metadata": {},
   "outputs": [
    {
     "ename": "ValueError",
     "evalue": "too many values to unpack (expected 2)",
     "output_type": "error",
     "traceback": [
      "\u001b[1;31m---------------------------------------------------------------------------\u001b[0m",
      "\u001b[1;31mValueError\u001b[0m                                Traceback (most recent call last)",
      "\u001b[1;32mc:\\Users\\agarc\\Documents\\Adalab\\materiales-da-promo-b\\modulo-1\\modulo-1-python-basico\\assets\\notebooks\\modulo-1-leccion-07-bucles-for-range-comprehensions-I.ipynb Celda 41\u001b[0m in \u001b[0;36m<module>\u001b[1;34m\u001b[0m\n\u001b[0;32m      <a href='vscode-notebook-cell:/c%3A/Users/agarc/Documents/Adalab/materiales-da-promo-b/modulo-1/modulo-1-python-basico/assets/notebooks/modulo-1-leccion-07-bucles-for-range-comprehensions-I.ipynb#ch0000040?line=0'>1</a>\u001b[0m \u001b[39m# ojo! Si no le añadimos el .items() nos dara error si le pasamos dos itereables en el for   \u001b[39;00m\n\u001b[1;32m----> <a href='vscode-notebook-cell:/c%3A/Users/agarc/Documents/Adalab/materiales-da-promo-b/modulo-1/modulo-1-python-basico/assets/notebooks/modulo-1-leccion-07-bucles-for-range-comprehensions-I.ipynb#ch0000040?line=1'>2</a>\u001b[0m \u001b[39mfor\u001b[39;00m key,value \u001b[39min\u001b[39;00m lista_compra:\n\u001b[0;32m      <a href='vscode-notebook-cell:/c%3A/Users/agarc/Documents/Adalab/materiales-da-promo-b/modulo-1/modulo-1-python-basico/assets/notebooks/modulo-1-leccion-07-bucles-for-range-comprehensions-I.ipynb#ch0000040?line=2'>3</a>\u001b[0m     \u001b[39mprint\u001b[39m(key,value)\n",
      "\u001b[1;31mValueError\u001b[0m: too many values to unpack (expected 2)"
     ]
    }
   ],
   "source": [
    "# ojo! Si no le añadimos el .items() nos dara error si le pasamos dos itereables en el for   \n",
    "for key,value in lista_compra:\n",
    "    print(key,value)\n"
   ]
  },
  {
   "cell_type": "markdown",
   "metadata": {},
   "source": [
    "El error no está diciendo `ValueError: too many values to unpack (expected 2)`, es decir, que hemos intentado iterar por dos elementos, pero solo tenemos uno, que por defecto en los diccionarios son las *keys*.\n",
    "\n",
    "De la misma forma que en todos los ejemplos con listas, los `for` con diccionarios nos sirven para hacer más cosas que hacer *print*. Supongamos que vamos a hacer la compra, nos hemos dejado la cartera en casa y solo llevamos dos euros. En esta situación solo podremos comprar productos que estén por debajo de este precio. ¿Cómo seleccionariamos esos productos usando Python?"
   ]
  },
  {
   "cell_type": "code",
   "execution_count": 24,
   "metadata": {},
   "outputs": [
    {
     "data": {
      "text/plain": [
       "{'Brocoli': 2.45, 'Chorizo': 45, 'Zanahoria': 7, 'Arroz': 1.2, 'Pan': 0.95}"
      ]
     },
     "execution_count": 24,
     "metadata": {},
     "output_type": "execute_result"
    }
   ],
   "source": [
    "# recordemos nuestro diccionario\n",
    "\n",
    "lista_compra"
   ]
  },
  {
   "cell_type": "code",
   "execution_count": 25,
   "metadata": {},
   "outputs": [
    {
     "data": {
      "text/plain": [
       "2.45"
      ]
     },
     "execution_count": 25,
     "metadata": {},
     "output_type": "execute_result"
    }
   ],
   "source": [
    "# recordemos que si queremos saber lo que cuesta el brocoli podremos hacer lo siguiente\n",
    "\n",
    "lista_compra[\"Brocoli\"]"
   ]
  },
  {
   "cell_type": "code",
   "execution_count": 26,
   "metadata": {},
   "outputs": [],
   "source": [
    "# lo primero que hacemos es crearnos una lista donde almacenaremos los resultados, es decir, los productos que cuesten menos de dos euros\n",
    "\n",
    "dos_euros = []"
   ]
  },
  {
   "cell_type": "code",
   "execution_count": 27,
   "metadata": {},
   "outputs": [],
   "source": [
    "# empezamos a iterar por nuestro diccionario de la lista de la compra:\n",
    "for k, v in lista_compra.items():\n",
    "\n",
    "    # lo siguiente que haremos será buscar aquellas keys, para las cuales sus values sean menores de dos. \n",
    "\n",
    "    # usando la sintaxis que ya conocemos para acceder a elementos de un diccionario, que recordamos un par de celdas arriba, podemos acceder a cada una de las keys y values de nuestro diccionario.\n",
    "    # de esta forma, lo que en nuestro ejemplo de arriba era \"Brocoli\", dentro del for correspondera a \"k\". \n",
    "    if lista_compra[k] < 2: \n",
    "\n",
    "        # en caso de que la condición se cumpla, añadiremos la key a nuestra lista dos_euros\n",
    "        dos_euros.append(k) "
   ]
  },
  {
   "cell_type": "code",
   "execution_count": 28,
   "metadata": {},
   "outputs": [
    {
     "data": {
      "text/plain": [
       "['Arroz', 'Pan']"
      ]
     },
     "execution_count": 28,
     "metadata": {},
     "output_type": "execute_result"
    }
   ],
   "source": [
    "# chequeamos la lista dos_euros\n",
    "dos_euros"
   ]
  },
  {
   "cell_type": "markdown",
   "metadata": {},
   "source": [
    "**Repaso**\n",
    "- Con `for` iteramos por los contenidos de un elemento iterable (lista, tupla, set, diccionario).\n",
    "\n",
    "- Los contenidos se asignan uno por uno a una variable que cambia al principio de cada iteración.\n",
    "\n",
    "- Para iterar por diccionarios: \n",
    "  - Si no especificamos nada, lo hará por las *keys* \n",
    "  - Para iterar solo por los *values*, usamos `.values()`\n",
    "  - Para iterar por las *keys* y *values*, usamos `.items()` y tendremos que asignar dos iterables. "
   ]
  },
  {
   "cell_type": "markdown",
   "metadata": {
    "id": "5PcBreuKcX1-"
   },
   "source": [
    "\n",
    "---\n",
    "\n",
    "\n",
    "## Ejercicios: for\n",
    "\n",
    "\n",
    "- Usando la siguiente lista: \n",
    "\n",
    "  ```python\n",
    "  temperaturas = [23, 12, 37, 33, 1, 6, 15]\n",
    "  ```\n",
    "\n",
    "  1. Cread tres listas nuevas, donde: \n",
    "     1. En la primera tengamos temperaturas entre 0 - 10\n",
    "     2. En la segunda tengamos temperaturas entre 11- 20\n",
    "     3. En la tercera tengamos temperaturas por encima de 20\n",
    "   \n",
    "  2. Las temperaturas están grados centígrados. Convertid las temperaturas a grados fahrenheit\n",
    "\n",
    "      ```\n",
    "      # la relacion de grados celsius y fahrenheit es:\n",
    "      (0 °C × 9 / 5) + 32 = 32 °F\n",
    "      ```\n",
    "\n",
    "---\n",
    "\n"
   ]
  },
  {
   "cell_type": "code",
   "execution_count": null,
   "metadata": {
    "id": "Z5I4yJpqcX2F"
   },
   "outputs": [],
   "source": []
  },
  {
   "cell_type": "markdown",
   "metadata": {
    "id": "aCLnA8lRcX2F"
   },
   "source": [
    "\n",
    "\n",
    "---\n"
   ]
  },
  {
   "cell_type": "markdown",
   "metadata": {},
   "source": [
    "# Métodos interesantes para los for loops"
   ]
  },
  {
   "cell_type": "markdown",
   "metadata": {},
   "source": [
    "## Range\n",
    "Para poder trabajar con índices, nos puede interesar generar una lista de números que se aumentan uno por uno. Para eso sirve la función `range()`. Por defecto, genera una lista que empieza en 0 y que va aumentando hasta el valor que le das. Ese último índice es el primero que *ya no* sale en la lista. Veamos un ejemplo:\n"
   ]
  },
  {
   "cell_type": "code",
   "execution_count": 29,
   "metadata": {},
   "outputs": [
    {
     "data": {
      "text/plain": [
       "range(0, 3)"
      ]
     },
     "execution_count": 29,
     "metadata": {},
     "output_type": "execute_result"
    }
   ],
   "source": [
    "# usemos el método range para generar números del 0 al 2. \n",
    "## Como dijimos en la celda anterior, si quiero llegar hasta el 2, en el range tendré que especificar donde quiero empezar 0 y terminar (teniendo el cuenta que tengo que poner mi_limite + 1 )\n",
    "range(0, 3)"
   ]
  },
  {
   "cell_type": "markdown",
   "metadata": {},
   "source": [
    "Ups... parece que esto no nos devuelve una lista como tal. Pero... ¿podremos iterar por ese elemento? Veámoslo con un ejemplo: "
   ]
  },
  {
   "cell_type": "code",
   "execution_count": 30,
   "metadata": {},
   "outputs": [
    {
     "data": {
      "text/plain": [
       "range(0, 3)"
      ]
     },
     "execution_count": 30,
     "metadata": {},
     "output_type": "execute_result"
    }
   ],
   "source": [
    "# Como hemos dicho al inicio, por defecto este método empieza en 0, por lo tanto, el código anterior sería exactamente lo mismo que\n",
    "\n",
    "range(3)"
   ]
  },
  {
   "cell_type": "code",
   "execution_count": 31,
   "metadata": {},
   "outputs": [
    {
     "data": {
      "text/plain": [
       "range(100, 201)"
      ]
     },
     "execution_count": 31,
     "metadata": {},
     "output_type": "execute_result"
    }
   ],
   "source": [
    "# otra cosa sería si quisieramos empezar por un número diferente a cero. En ese caso SI que tendríamos que especificarlo. Imaginemos que queremos generar números del 100 - 200. En ese caso el range sería: \n",
    "range(100, 201)"
   ]
  },
  {
   "cell_type": "markdown",
   "metadata": {},
   "source": [
    "📌  Fijaos como hemos indicado `201` y no 200. Ya que el `range` no tiene en cuenta el último elemento. "
   ]
  },
  {
   "cell_type": "code",
   "execution_count": 32,
   "metadata": {},
   "outputs": [
    {
     "name": "stdout",
     "output_type": "stream",
     "text": [
      "0\n",
      "1\n",
      "2\n"
     ]
    }
   ],
   "source": [
    "# iniciamos el for, en este caso, en vez de pasarle una variable le pasamos el range\n",
    "for x in range(3):\n",
    "\n",
    "    # printemos cada uno de los elementos del objeto range\n",
    "    print(x)"
   ]
  },
  {
   "cell_type": "markdown",
   "metadata": {},
   "source": [
    "**Qué es lo que nos está devolviendo este `for`?** \n",
    "\n",
    "Cada uno de los elementos del objeto `range`, en este caso números del 0 al 2, ambos inclusive. "
   ]
  },
  {
   "cell_type": "code",
   "execution_count": 33,
   "metadata": {},
   "outputs": [
    {
     "name": "stdout",
     "output_type": "stream",
     "text": [
      "2\n",
      "3\n",
      "4\n",
      "5\n",
      "6\n"
     ]
    }
   ],
   "source": [
    "# si definimos un range con un inicio distinto a 0\n",
    "for x in range(2,7):\n",
    "    print(x)"
   ]
  },
  {
   "cell_type": "markdown",
   "metadata": {},
   "source": [
    "Si nos fijamos nuestro *range* ha empezado en el 2 y terminado en el 6, nos ha generado números consecutivos de 2 a 6. Sin embargo, en el `range()` le podemos pasar un tercer parámetro. Este parámetro corresponde con los *steps* o saltos que queremos en nuestra secuencia de números. Veamos algunos ejemplos para entender esto mejor:  "
   ]
  },
  {
   "cell_type": "code",
   "execution_count": 34,
   "metadata": {},
   "outputs": [
    {
     "name": "stdout",
     "output_type": "stream",
     "text": [
      "0\n",
      "2\n",
      "4\n",
      "6\n",
      "8\n"
     ]
    }
   ],
   "source": [
    "# si queremos que se nos genere un secuencia de números del 0 al 10, con saltos de 2 podríamos hacer lo siguiente:\n",
    "for x in range(0,10,2):\n",
    "    print(x)"
   ]
  },
  {
   "cell_type": "markdown",
   "metadata": {},
   "source": [
    "Si nos fijamos, en este caso se nos han generado números desde el 0 al 9, con saltos de 2 en 2. Es decir, nos hemos quedado con números pares. ¿Y si lo quisieramos hacer para sacar los números impares?"
   ]
  },
  {
   "cell_type": "code",
   "execution_count": 35,
   "metadata": {},
   "outputs": [
    {
     "name": "stdout",
     "output_type": "stream",
     "text": [
      "1\n",
      "3\n",
      "5\n",
      "7\n",
      "9\n"
     ]
    }
   ],
   "source": [
    "for i in range(1, 11, 2):\n",
    "    print(i)"
   ]
  },
  {
   "cell_type": "markdown",
   "metadata": {},
   "source": [
    "Aunque *a priori*  no le veamos mucho uso a este método es importante que lo guardeis en vuestras recamaras, ya que será un método que usaremos de forma recurrente a lo largo del *bootcamp*."
   ]
  },
  {
   "cell_type": "markdown",
   "metadata": {},
   "source": [
    "**Repaso**\n",
    "- Un rango se genera con la función `range()`.\n",
    "  \n",
    "- `range()` necesita por lo menos 1 argumento, que corresponde número de elementos que queremos generar.\n",
    "\n",
    "- Si le damos 2 argumentos, el primero es el primer índice del rango (incluido), y el segundo (el cual no se incluirá).\n",
    "\n",
    "- En el caso de darle 3 argumentos, los primeros dos siguen teniendo el mismo efecto, mientras el 3er argumento dice los saltos que queremos dar en nuestra secuencia de números."
   ]
  },
  {
   "cell_type": "markdown",
   "metadata": {
    "id": "5PcBreuKcX1-"
   },
   "source": [
    "\n",
    "---\n",
    "\n",
    "\n",
    "## Ejercicios: range\n",
    "\n",
    "- Con un argumento\n",
    "\n",
    "  3. Define e imprime un rango de 0 a 6 (excluido).\n",
    "   \n",
    "- Con dos argumentos\n",
    "\n",
    "  4. Define e imprime un rango de 3 a 6 ambos incluidos.\n",
    "   \n",
    "  5. Define e imprime un rango de 5 a 9 ambos excluidos.\n",
    "\n",
    "  6. Define e imprime un rango de 3 números que empiece en 2.\n",
    "\n",
    "- Con tres argumentos\n",
    "\n",
    "  7. Define e imprime un rango que empiece en 2, aumentando cada paso por 3, que pare antes de llegar al número 13.\n",
    "\n",
    "  8. Define e imprime un rango de impares hasta 10.\n",
    "\n",
    "---\n",
    "\n"
   ]
  },
  {
   "cell_type": "code",
   "execution_count": null,
   "metadata": {},
   "outputs": [],
   "source": []
  },
  {
   "cell_type": "markdown",
   "metadata": {
    "id": "aCLnA8lRcX2F"
   },
   "source": [
    "\n",
    "\n",
    "---\n"
   ]
  },
  {
   "cell_type": "markdown",
   "metadata": {},
   "source": [
    "# List comprehensions\n",
    "\n",
    "Como hemos visto, en un bucle `for` iteramos por los contenidos de un elemento iterable (listas, tuplas, diccionarios o sets). En este apartado de la lección aprenderemos que son las *list comprehensions*. Podríamos decir que son una forma de crear listas de una manera elegante y simplificada (en una línea de código). \n",
    "\n",
    "La ventaja de utilizarlas: \n",
    "\n",
    "- Son relativamente más rápidas que los bucles for.\n",
    "\n",
    "- La sintaxis de las comprensiones de lista es más fácil de leer y entender.\n",
    "\n",
    "\n",
    "La sintaxis que seguiremos en este tipo de aproximaciones es: \n",
    "\n",
    "![list](https://github.com/Adalab/data_imagenes/blob/main/Modulo-1/python/list_comprehension.png?raw=true)"
   ]
  },
  {
   "cell_type": "markdown",
   "metadata": {},
   "source": [
    "Veamos un ejercicio sencillo para entender como funciona de una forma práctica. Imaginemos que tenemos una lista de números del 0 al 5000 (la crearemos con un `range` como hemos aprendido), y queremos crearnos una lista nueva con los mismo números pero en este caso querremos los números elevados al cuadrado. "
   ]
  },
  {
   "cell_type": "code",
   "execution_count": 36,
   "metadata": {},
   "outputs": [],
   "source": [
    "# con un for loop como hemos aprendido hasta ahora_ \n",
    "\n",
    "# creamos una lista vacía donde iremos añadiendo cada nuevo valor\n",
    "cuadrado = []\n",
    "\n",
    "# iniciamos nuestro for sobre la lista de números que crearemos con un for: \n",
    "for num in range(5000000):\n",
    "\n",
    "    # apendeamos a la lista nueva \"cuadrado\" los valores por los que vamos iterando elevados al cuadrado\n",
    "    cuadrado.append(num ** 2)"
   ]
  },
  {
   "cell_type": "code",
   "execution_count": 37,
   "metadata": {},
   "outputs": [
    {
     "data": {
      "text/plain": [
       "[0, 1, 4, 9, 16, 25, 36, 49, 64, 81]"
      ]
     },
     "execution_count": 37,
     "metadata": {},
     "output_type": "execute_result"
    }
   ],
   "source": [
    "# veamos el contenido de la lista cuadrado. Para que no nos salga un print infinito printearemos solo los 10 primero elementos usando la indexación de las listas. \n",
    "\n",
    "cuadrado[:10]"
   ]
  },
  {
   "cell_type": "code",
   "execution_count": 38,
   "metadata": {},
   "outputs": [
    {
     "data": {
      "text/plain": [
       "[0, 1, 4, 9, 16, 25, 36, 49, 64, 81]"
      ]
     },
     "execution_count": 38,
     "metadata": {},
     "output_type": "execute_result"
    }
   ],
   "source": [
    "# con una list comprehension\n",
    "\n",
    "cuadrado2 = [num ** 2 for num in range(5000000)]\n",
    "\n",
    "# veamos el contenido de la lista cuadrado2\n",
    "cuadrado2[:10]"
   ]
  },
  {
   "cell_type": "markdown",
   "metadata": {},
   "source": [
    "Si nos fijamos en el tiempo de ejecución de las dos celdas anteriores vemos que, aunque no en gran medida, el tiempo  que ha tardado en ejecutarse la *list comprehension* fue menor. Por otro lado, evaluemos el código que hemos escrito en la *list comprehension* para entenderlo mejor: \n",
    "\n",
    "- Hemos definido una variable que se llama `cuadrado2` que es donde se guardaran los resultados del *for loop*\n",
    "\n",
    "- Para hacer una *list comprehension* tendremos que indicar los `[]` al inicio y al final. \n",
    "\n",
    "- Dentro de los corchetes lo primero que pusimos es `num ** 2`, esto corresponde con lo que queremos añadir en nuestra lista nueva, es decir, correspondería con la segunda línea de nuestro *for* original. Es el **qué** queremos hacer con cada elemento de nuestra lista orginal. \n",
    "\n",
    "- Después hemos puesto `for num in range(5000000)`, es decir, iniciamos nuestro *for*. \n",
    "\n",
    "\n",
    "Hemos visto desgranado cada una de las partes de las *list comprehension*. Veamos alguún ejemplo mas. "
   ]
  },
  {
   "cell_type": "markdown",
   "metadata": {},
   "source": [
    "Imaginemos ahora que tenemos una lista de palabras y vamos a querer crearnos otra con las longitudes de cada una de ellas. "
   ]
  },
  {
   "cell_type": "code",
   "execution_count": 39,
   "metadata": {},
   "outputs": [],
   "source": [
    "# lo primero que hacemos es definir la lista de palabras\n",
    "\n",
    "palabras = [\"adalab\", \"python\", \"data analysts\", \"sql\", \"programadoras\"]"
   ]
  },
  {
   "cell_type": "code",
   "execution_count": 40,
   "metadata": {},
   "outputs": [],
   "source": [
    "# hagámoslo con un for loop tradicional\n",
    "\n",
    "# primero definimos la lista vacía donde apendearemos las longitudes de las palabras\n",
    "\n",
    "palabras_len = []\n",
    "\n",
    "# inicimos nuestro for\n",
    "for palabra in palabras:\n",
    "\n",
    "    # apendeamnos en la lista vacía las longitudes de cada una de las palabras de nuestra lista\n",
    "    palabras_len.append(len(palabra))"
   ]
  },
  {
   "cell_type": "code",
   "execution_count": 41,
   "metadata": {},
   "outputs": [
    {
     "data": {
      "text/plain": [
       "[6, 6, 13, 3, 13]"
      ]
     },
     "execution_count": 41,
     "metadata": {},
     "output_type": "execute_result"
    }
   ],
   "source": [
    "# si ahora vemos el contenido de la lista vacía deberíamos tener las longitudes de cada una de las palabras de la lista original\n",
    "\n",
    "palabras_len"
   ]
  },
  {
   "cell_type": "code",
   "execution_count": 42,
   "metadata": {},
   "outputs": [
    {
     "data": {
      "text/plain": [
       "[6, 6, 13, 3, 13]"
      ]
     },
     "execution_count": 42,
     "metadata": {},
     "output_type": "execute_result"
    }
   ],
   "source": [
    "# hagamoslo ahora con una list comprehension\n",
    "\n",
    "palabras_len2 = [len(pal) for pal in palabras]\n",
    "\n",
    "# vemos el contenido de palabras_len2\n",
    "palabras_len2"
   ]
  },
  {
   "cell_type": "markdown",
   "metadata": {},
   "source": [
    "Como hemos visto en el diagrama inicial, podemos meter de forma adicional una condicion con un `if` en una *list comprehension*. Volvamos al primer ejemplo que hicimos, el de la lista de números que elevamos al cuadrado. En este caso, no vamos a querer elevar al cuadrado todos los números pares. Veámos como hacerlo: "
   ]
  },
  {
   "cell_type": "code",
   "execution_count": 43,
   "metadata": {},
   "outputs": [],
   "source": [
    "# primero con un for normal\n",
    "\n",
    "# creamos la lista vacía donde apendearemos los resultados \n",
    "\n",
    "cuadrados_pares = []\n",
    "\n",
    "# iniciamos nuestro for\n",
    "for num in range(5000000):\n",
    "\n",
    "    # establecemos la condición para los números pares. Recordemos que el operador % nos devolvía el resto de una división. Si el resultado de este operador es 0, significa que el número es par, y por lo tanto, querremos calcular su cuadrado. \n",
    "    if num % 2 == 0: \n",
    "\n",
    "        # si se cumple la condición, eleveramos al cuadrado el número y lo apendearemos a la lista de cuadrados_pares\n",
    "        cuadrados_pares.append(num ** 2)\n",
    "    # recordemos que el else no es obligatorio. Por lo tanto, no pondremos la condición else, ya que en caso de que no sea número par no querremos que pase nada. "
   ]
  },
  {
   "cell_type": "code",
   "execution_count": 44,
   "metadata": {},
   "outputs": [
    {
     "data": {
      "text/plain": [
       "[0, 4, 16, 36, 64, 100, 144, 196, 256, 324]"
      ]
     },
     "execution_count": 44,
     "metadata": {},
     "output_type": "execute_result"
    }
   ],
   "source": [
    "# chequeemos ahora los resultados \n",
    "\n",
    "cuadrados_pares[:10]"
   ]
  },
  {
   "cell_type": "markdown",
   "metadata": {},
   "source": [
    "Si nos fijamos, ahora en nuestra lista, solo tenemos números pares. "
   ]
  },
  {
   "cell_type": "code",
   "execution_count": 45,
   "metadata": {},
   "outputs": [
    {
     "data": {
      "text/plain": [
       "[0, 4, 16, 36, 64, 100, 144, 196, 256, 324]"
      ]
     },
     "execution_count": 45,
     "metadata": {},
     "output_type": "execute_result"
    }
   ],
   "source": [
    "# con una list comprehension\n",
    "\n",
    "cuadrados_pares2 = [num ** 2 for num in range(5000000) if num % 2 == 0]\n",
    "cuadrados_pares2[:10]"
   ]
  },
  {
   "cell_type": "markdown",
   "metadata": {},
   "source": [
    "Desgranemos ahora la *list comprehension* que hemos escrito ahora. Las primeras partes son igual que en el primer ejemplo que hicimos:\n",
    "\n",
    "- Hemos definido una variable que se llama `cuadrado2` que es donde se guardaran los resultados del *for loop*. IGUAL que en el primer ejemplo.\n",
    "\n",
    "- Para hacer una *list comprehension* tendremos que indicar los `[]` al inicio y al final. IGUAL que en el primer ejemplo.\n",
    "\n",
    "- Dentro de los corchetes lo primero que pusimos es `num ** 2`, esto corresponde con lo que queremos añadir en nuestra lista nueva, es decir, correspondería con la segunda línea de nuestro *for* original. Es el **qué** queremos hacer con cada elemento de nuestra lista orginal. IGUAL que en el primer ejemplo.\n",
    "\n",
    "- Después hemos puesto `for num in range(5000000)`, es decir, iniciamos nuestro *for*. IGUAL que en el primer ejemplo.\n",
    "\n",
    "- Por último, hemos añadido la condición `if num % 2 == 0`. La parte NUEVA, la condición que queremos chequear. \n",
    "\n",
    "\n",
    "Pero... ¿Qué pasaría si quisieramos añadir una condición *elif* o *else* en nuestra *list comprehension*? \n",
    "\n",
    "- El *else* se puede incluir sin problema, ahora veremos un ejemplo\n",
    "\n",
    "- El *elif*  no lo podremos incluir ya que las *list comprehensions* están diseñadas para ser cortas y sencillas. Si empezamos a incluir múltiples condiciones perdería su utilidad. \n",
    "\n",
    "Veamos un ejemplo con *else*. Volvamos al ejemplo de la lista de palabras. En este caso, querremos que en la lista nueva se nos añada \"palabra larga\" o \"palabra corta\" en función de su longitud. De esta forma: \n",
    "\n",
    "- Palabras cuya longitud sea menor que 6 apendearemos \"palabra corta\"\n",
    "\n",
    "- Palabras cuya longitud sea mayor que 6 apendearemos \"palabra larga\"\n"
   ]
  },
  {
   "cell_type": "code",
   "execution_count": 46,
   "metadata": {},
   "outputs": [
    {
     "data": {
      "text/plain": [
       "['adalab', 'python', 'data analysts', 'sql', 'programadoras']"
      ]
     },
     "execution_count": 46,
     "metadata": {},
     "output_type": "execute_result"
    }
   ],
   "source": [
    "# recordemos que teníamos en la lista de palabras\n",
    "\n",
    "palabras"
   ]
  },
  {
   "cell_type": "code",
   "execution_count": 47,
   "metadata": {},
   "outputs": [],
   "source": [
    "# veamos como hacerlo con un for loop normal\n",
    "\n",
    "# definimos la lista vacía dnode apendearemos los resultados\n",
    "palabras_clas = []\n",
    "\n",
    "# iniciamos el for loop\n",
    "for i in palabras: \n",
    "\n",
    "    # establecemos la primera condición. Que la longitud de la palabra sea menor o igual que 6\n",
    "    if len(i) <= 6:\n",
    "\n",
    "        # apendeamos \"palabra corta\" a la lista vacía\n",
    "        palabras_clas.append(\"palabra corta\")\n",
    "\n",
    "    # en caso de que no se cumpla esa condición\n",
    "    else: \n",
    "\n",
    "        # apendearemos \"palabra larga\" a la lista vacía\n",
    "        palabras_clas.append(\"palabra larga\")"
   ]
  },
  {
   "cell_type": "code",
   "execution_count": 48,
   "metadata": {},
   "outputs": [
    {
     "data": {
      "text/plain": [
       "['palabra corta',\n",
       " 'palabra corta',\n",
       " 'palabra larga',\n",
       " 'palabra corta',\n",
       " 'palabra larga']"
      ]
     },
     "execution_count": 48,
     "metadata": {},
     "output_type": "execute_result"
    }
   ],
   "source": [
    "# chequeamos los resultados\n",
    "palabras_clas"
   ]
  },
  {
   "cell_type": "code",
   "execution_count": 49,
   "metadata": {},
   "outputs": [
    {
     "data": {
      "text/plain": [
       "['palabra corta',\n",
       " 'palabra corta',\n",
       " 'palabra larga',\n",
       " 'palabra corta',\n",
       " 'palabra larga']"
      ]
     },
     "execution_count": 49,
     "metadata": {},
     "output_type": "execute_result"
    }
   ],
   "source": [
    "# como lo haríamos con una list comprehension?\n",
    "\n",
    "palabras_clas2 = [\"palabra corta\" if len(i) <= 6 else \"palabra larga\" for i in palabras  ]\n",
    "palabras_clas2"
   ]
  },
  {
   "cell_type": "markdown",
   "metadata": {},
   "source": [
    "Si nos fijamos ahora, la sintaxis ha cambiado un poco y tal se ha vuelto algo más compleja. Pero no nos preocupemos, veamoslo en detalle: \n",
    "\n",
    "- Lo primero que tenemos es `\"palabra corta\"`. Esto corresponde a lo que queremos que se apendee a la lista si se cumple la condición que especificamos en el `if`. \n",
    "\n",
    "- Después tenemos el `if len(i) <= 6` que corresponde con la primera condición que queremos chequear.\n",
    "\n",
    "- Después tenemos el `else \"palabra larga\"` que será lo que queremos que se nos apendee si no se cumple la condición establecida en el paso anterior. \n",
    "\n",
    "- Por último, tenemos el `for i in palabras`, que corresponde con el inicio del *for*. \n"
   ]
  },
  {
   "cell_type": "markdown",
   "metadata": {},
   "source": [
    "Todo esto nos puede resultar algo abrumador, pero no os preocupéis. Nuestra recomendación es que en estos primeros pasos siempre escribais el *for* de la forma tradicional y luego intenteis hacer la *list comprehension* como hemos ido haciendo en cada uno de los ejemplos. \n",
    "\n",
    "En esta situación, nos puede surgir una duda. ¿Podremos hacer una *list comprehension* con dos *for loop*? La respuesta es SI!!! De nuevo, veamoslo con un ejemplo. Imaginemos que tenemos una lista de listas de números y queremos convertir esta listas de listas en una única lista. Pongamonos manos a la obra!"
   ]
  },
  {
   "cell_type": "code",
   "execution_count": 50,
   "metadata": {},
   "outputs": [],
   "source": [
    "# lo primero que hacemos es definir una lista de listas\n",
    "\n",
    "listas = [[1,2,3], [4,5,6], [7,8,9]]"
   ]
  },
  {
   "cell_type": "code",
   "execution_count": 51,
   "metadata": {},
   "outputs": [
    {
     "name": "stdout",
     "output_type": "stream",
     "text": [
      "[1, 2, 3]\n",
      "1\n",
      "2\n",
      "3\n",
      "[4, 5, 6]\n",
      "4\n",
      "5\n",
      "6\n",
      "[7, 8, 9]\n",
      "7\n",
      "8\n",
      "9\n"
     ]
    }
   ],
   "source": [
    "# para hacer de esta lista de listas una única lista tendremos que hacer dos for loop. Lo haremos paso a paso. \n",
    "\n",
    "# primero definimos la lista vacía donde iremos añadiendo los números de nuestra lista de listas\n",
    "\n",
    "lista_aplanada = []\n",
    "\n",
    "# iniciamos el for loop\n",
    "\n",
    "for sublista in listas : \n",
    "\n",
    "    # nuestro primero elemento interable será cada una de las listas de la lista grande. Esto, todavía no nos esta permitiendo acceder a cada uno de los números, por lo que tenemos que volver a iterar por cada una de las sublistas\n",
    "    print(sublista)\n",
    "\n",
    "    # iteramos por cada sublista para acceder a cada uno de los números.\n",
    "    for num in sublista:\n",
    "\n",
    "        # ahora num será cada elemento de cada sublista, es decir, cada número.  \n",
    "        print(num)\n",
    "\n",
    "        # es en este punto, donde ya hemos accedido a cada número donde lo apendearemos a la lista vacía\n",
    "\n",
    "        lista_aplanada.append(num)\n"
   ]
  },
  {
   "cell_type": "code",
   "execution_count": 52,
   "metadata": {},
   "outputs": [
    {
     "data": {
      "text/plain": [
       "[1, 2, 3, 4, 5, 6, 7, 8, 9]"
      ]
     },
     "execution_count": 52,
     "metadata": {},
     "output_type": "execute_result"
    }
   ],
   "source": [
    "# si ahora vemos que es lista aplanada, ya hemos conseguido extraer cada número y tenerlo en una única lista. \n",
    "\n",
    "lista_aplanada"
   ]
  },
  {
   "cell_type": "code",
   "execution_count": 53,
   "metadata": {},
   "outputs": [
    {
     "data": {
      "text/plain": [
       "[1, 2, 3, 4, 5, 6, 7, 8, 9]"
      ]
     },
     "execution_count": 53,
     "metadata": {},
     "output_type": "execute_result"
    }
   ],
   "source": [
    "# ¿Cómo haremos esto con una list comprehension? \n",
    "\n",
    "lista_aplanada2 = [num for sublista in listas for num in sublista]\n",
    "lista_aplanada2"
   ]
  },
  {
   "cell_type": "markdown",
   "metadata": {},
   "source": [
    "Veamos en detalle que es lo que ha ocurrido aquí: \n",
    "\n",
    "- Lo primero que tenemos es `num` que es lo que queremos apendear a nuestra lista nueva\n",
    "\n",
    "- Después tenemos `for sublista in listas` nuestro primer *for* \n",
    "\n",
    "- Por último, tenemos `for num in sublista` el segundo de nuestros *for* para acceder a cada número de nuestra lista de listas. "
   ]
  },
  {
   "cell_type": "markdown",
   "metadata": {},
   "source": [
    "**Repaso**\n",
    "- El resultado de un bucle *for* se puede asignar a una lista usando *list comprehensions*.\n",
    "\n",
    "- Las *list comprehensions* son una manera comprimida de realizar un *for loop*.\n",
    "\n",
    "- Todas las *list comprehensions* pueden ser escritos como bucles *for*, pero no todos los bucles *for* pueden ser escrito como una *list comprehension*.\n",
    "\n",
    "- Se puede incluir las condiciones `if`, `else`, pero no un `elif` o un `while`. "
   ]
  },
  {
   "cell_type": "markdown",
   "metadata": {
    "id": "5PcBreuKcX1-"
   },
   "source": [
    "\n",
    "---\n",
    "\n",
    "\n",
    "## Ejercicios: list comprehensions\n",
    "\n",
    "- *List comprehensions* sin filtrar\n",
    "\n",
    "  Dada la siguiente lista de números\n",
    "\n",
    "  ```python\n",
    "  lista = [2,45,67,23, 45,66,12,1,34,67,99,98,67,64, 44, 100]\n",
    "  ```\n",
    "\n",
    "  10. Cread una lista nueva donde tengamos los números de la lista `lista` elevados al cuadrado. \n",
    "  11. Cread una lista nueva donde tengamos el resto de la división de cada uno de los números entre 2.  \n",
    "\n",
    "- *List comprehensions* filtradas\n",
    "\n",
    "  12. Cread una lista nueva donde tengamos solo los elementos pares de la lista `lista`. \n",
    "  13. Cread una lista nueva donde tengamos solo los elementos que sean menores que 50. \n",
    "\n",
    "- *List comprehensions* con *if* - *else* \n",
    "\n",
    "  14. Cread una lista donde tengamos los valores \"par\" e \"impar\" en función de los valores de la lista original. \n",
    "---\n",
    "\n"
   ]
  },
  {
   "cell_type": "code",
   "execution_count": null,
   "metadata": {},
   "outputs": [],
   "source": []
  },
  {
   "cell_type": "markdown",
   "metadata": {
    "id": "aCLnA8lRcX2F"
   },
   "source": [
    "\n",
    "\n",
    "---\n"
   ]
  }
 ],
 "metadata": {
  "kernelspec": {
   "display_name": "Python 3.6.9 64-bit",
   "language": "python",
   "name": "python3"
  },
  "language_info": {
   "codemirror_mode": {
    "name": "ipython",
    "version": 3
   },
   "file_extension": ".py",
   "mimetype": "text/x-python",
   "name": "python",
   "nbconvert_exporter": "python",
   "pygments_lexer": "ipython3",
   "version": "3.6.9"
  },
  "toc": {
   "base_numbering": 1,
   "nav_menu": {},
   "number_sections": true,
   "sideBar": true,
   "skip_h1_title": false,
   "title_cell": "Table of Contents",
   "title_sidebar": "Contents",
   "toc_cell": true,
   "toc_position": {},
   "toc_section_display": true,
   "toc_window_display": false
  },
  "vscode": {
   "interpreter": {
    "hash": "31f2aee4e71d21fbe5cf8b01ff0e069b9275f58929596ceb00d14d90e3e16cd6"
   }
  }
 },
 "nbformat": 4,
 "nbformat_minor": 2
}

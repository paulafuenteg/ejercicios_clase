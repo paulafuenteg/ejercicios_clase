{
 "cells": [
  {
   "cell_type": "markdown",
   "id": "33f3994d",
   "metadata": {},
   "source": [
    "# Intro a Pandas\n",
    "\n",
    "Pandas es una librería de Python especializada en el manej y análisis de estructuras de datos\n",
    "\n",
    "Las principales **características** de esta librería son:\n",
    "\n",
    "- Define nuevas estructuras de datos basadas en los arrays de la librería NumPy pero con nuevas funcionalidades.\n",
    "\n",
    "\n",
    "- Permite leer y escribir fácilmente ficheros en formato CSV, Excel y bases de datos SQL entre otros\n",
    "\n",
    "\n",
    "- Permite acceder a los datos mediante índices o nombres para filas y columnas.\n",
    "\n",
    "\n",
    "- Ofrece métodos para reordenar, dividir y combinar conjuntos de datos.\n",
    "\n",
    "\n",
    "- Permite trabajar con series temporales.\n",
    "\n",
    "\n",
    "- Realiza todas estas operaciones de manera muy eficiente.\n",
    "\n",
    "**Pandas tiene tres estructuras de datos diferentes**:\n",
    "\n",
    "- `Series`: estructuras en una dimensión.\n",
    "\n",
    "- `DataFrame`: estructura en dos dimensiones (tablas).\n",
    "\n",
    "- `Panel`: estructura en tres dimensiones (cubos). \n",
    "\n",
    "Todas estas estructuras se constuyen a partir de *arrays* de la librería NumPy, añadiendo nuevas funcionalidades. \n"
   ]
  },
  {
   "cell_type": "markdown",
   "id": "10acadce",
   "metadata": {},
   "source": [
    "📌 Por convención todos los `import` van al inicio del jupyter. "
   ]
  },
  {
   "cell_type": "code",
   "execution_count": 2,
   "id": "8ed09911",
   "metadata": {},
   "outputs": [],
   "source": [
    "import pandas as pd\n",
    "import numpy as np"
   ]
  },
  {
   "cell_type": "markdown",
   "id": "fbc8a865",
   "metadata": {},
   "source": [
    "# Series\n"
   ]
  },
  {
   "cell_type": "markdown",
   "id": "488d7c72",
   "metadata": {},
   "source": [
    "## ¿Qué es una Serie? \n",
    "\n",
    "Es la estructura más simple que proporciona Pandas, y se asemeja a una columna en una hoja de cálculo de Excel. \n",
    "\n",
    "Son estructuras unidimensionales que contienen un *array* de datos (de cualquier tipo soportado por NumPy). iUn objeto `Series`tiene dos componentes principales: \n",
    "\n",
    "- `índice`: contiene valores únicos y, por lo general ordenados. Se usan para acceder a valores individuales de los datos. \n",
    "\n",
    "\n",
    "- `vector`: contiene los datos. \n",
    "\n",
    "Ambos componentes deben tener la misma longitud. \n",
    " "
   ]
  },
  {
   "cell_type": "markdown",
   "id": "dfe2ee53",
   "metadata": {},
   "source": [
    "## Creación de Series\n",
    "\n",
    "Podemos crear Series de distintas formas: \n",
    "\n",
    "- Series vacías\n",
    "\n",
    "\n",
    "- Series a partir de un *array*. Recordamos, las Series son unidimensionales, por lo tanto solo le podremos pasar *arrays* unidimensionales\n",
    "\n",
    "\n",
    "- Series a partir de listas\n",
    "\n",
    "\n",
    "- Series a partir de un valor escalar\n",
    "\n",
    "\n",
    "\n",
    "- Series a partir de un diccionario"
   ]
  },
  {
   "cell_type": "markdown",
   "id": "0431b042",
   "metadata": {},
   "source": [
    "### Series vacías"
   ]
  },
  {
   "cell_type": "code",
   "execution_count": 3,
   "id": "0e166545",
   "metadata": {},
   "outputs": [
    {
     "name": "stderr",
     "output_type": "stream",
     "text": [
      "/tmp/ipykernel_2025/1454775466.py:1: FutureWarning: The default dtype for empty Series will be 'object' instead of 'float64' in a future version. Specify a dtype explicitly to silence this warning.\n",
      "  serie_1 = pd.Series()\n"
     ]
    },
    {
     "data": {
      "text/plain": [
       "Series([], dtype: float64)"
      ]
     },
     "execution_count": 3,
     "metadata": {},
     "output_type": "execute_result"
    }
   ],
   "source": [
    "serie_1 = pd.Series()\n",
    "serie_1"
   ]
  },
  {
   "cell_type": "markdown",
   "id": "94002c20",
   "metadata": {},
   "source": [
    "### Series a partir de un *array*  "
   ]
  },
  {
   "cell_type": "code",
   "execution_count": 4,
   "id": "5f7f3774",
   "metadata": {},
   "outputs": [
    {
     "data": {
      "text/plain": [
       "array([1, 2, 3, 4, 5, 6, 7, 8, 9])"
      ]
     },
     "execution_count": 4,
     "metadata": {},
     "output_type": "execute_result"
    }
   ],
   "source": [
    "# supongamos que tenemos el siguiente array\n",
    "\n",
    "array = np.array([1,2,3,4,5,6,7,8,9])\n",
    "array"
   ]
  },
  {
   "cell_type": "code",
   "execution_count": 5,
   "id": "46dcf505",
   "metadata": {},
   "outputs": [
    {
     "data": {
      "text/plain": [
       "0    1\n",
       "1    2\n",
       "2    3\n",
       "3    4\n",
       "4    5\n",
       "5    6\n",
       "6    7\n",
       "7    8\n",
       "8    9\n",
       "dtype: int64"
      ]
     },
     "execution_count": 5,
     "metadata": {},
     "output_type": "execute_result"
    }
   ],
   "source": [
    "serie_2 = pd.Series(array)\n",
    "serie_2"
   ]
  },
  {
   "cell_type": "markdown",
   "id": "c016c403",
   "metadata": {},
   "source": [
    "📌 Si nos fijamos el método `pd.Series` nos va a generar automáticamente el índice y lo crea con números consecutivos, empezando por el 0. Sin embargo, también le podemos pasar los índices que queramos usando el parámetro `index` "
   ]
  },
  {
   "cell_type": "code",
   "execution_count": 6,
   "id": "04d21c88",
   "metadata": {},
   "outputs": [
    {
     "data": {
      "text/plain": [
       "3    1\n",
       "4    2\n",
       "5    3\n",
       "6    4\n",
       "7    5\n",
       "8    6\n",
       "9    7\n",
       "1    8\n",
       "2    9\n",
       "dtype: int64"
      ]
     },
     "execution_count": 6,
     "metadata": {},
     "output_type": "execute_result"
    }
   ],
   "source": [
    "serie_3 = pd.Series(array, index = [3,4,5,6,7,8,9,1,2])\n",
    "serie_3"
   ]
  },
  {
   "cell_type": "markdown",
   "id": "29e8d7ac",
   "metadata": {},
   "source": [
    "Lo que hemos hecho ha sido definir nuestro propio índice. Pero importante! El índice tiene que ser de la misma longitud que nuestro *array* y se lo tenemos que pasar en forma de lista. Si no es así nos devolverá un error: "
   ]
  },
  {
   "cell_type": "code",
   "execution_count": 7,
   "id": "3fa06e4e",
   "metadata": {},
   "outputs": [
    {
     "ename": "ValueError",
     "evalue": "Length of values (9) does not match length of index (7)",
     "output_type": "error",
     "traceback": [
      "\u001b[0;31m---------------------------------------------------------------------------\u001b[0m",
      "\u001b[0;31mValueError\u001b[0m                                Traceback (most recent call last)",
      "Cell \u001b[0;32mIn [7], line 1\u001b[0m\n\u001b[0;32m----> 1\u001b[0m serie_4 \u001b[39m=\u001b[39m pd\u001b[39m.\u001b[39;49mSeries(array, index \u001b[39m=\u001b[39;49m [\u001b[39m3\u001b[39;49m,\u001b[39m4\u001b[39;49m,\u001b[39m5\u001b[39;49m,\u001b[39m6\u001b[39;49m,\u001b[39m7\u001b[39;49m,\u001b[39m8\u001b[39;49m,\u001b[39m9\u001b[39;49m])\n\u001b[1;32m      2\u001b[0m serie_4\n",
      "File \u001b[0;32m~/anaconda3/lib/python3.9/site-packages/pandas/core/series.py:461\u001b[0m, in \u001b[0;36mSeries.__init__\u001b[0;34m(self, data, index, dtype, name, copy, fastpath)\u001b[0m\n\u001b[1;32m    459\u001b[0m     index \u001b[39m=\u001b[39m default_index(\u001b[39mlen\u001b[39m(data))\n\u001b[1;32m    460\u001b[0m \u001b[39melif\u001b[39;00m is_list_like(data):\n\u001b[0;32m--> 461\u001b[0m     com\u001b[39m.\u001b[39;49mrequire_length_match(data, index)\n\u001b[1;32m    463\u001b[0m \u001b[39m# create/copy the manager\u001b[39;00m\n\u001b[1;32m    464\u001b[0m \u001b[39mif\u001b[39;00m \u001b[39misinstance\u001b[39m(data, (SingleBlockManager, SingleArrayManager)):\n",
      "File \u001b[0;32m~/anaconda3/lib/python3.9/site-packages/pandas/core/common.py:561\u001b[0m, in \u001b[0;36mrequire_length_match\u001b[0;34m(data, index)\u001b[0m\n\u001b[1;32m    557\u001b[0m \u001b[39m\"\"\"\u001b[39;00m\n\u001b[1;32m    558\u001b[0m \u001b[39mCheck the length of data matches the length of the index.\u001b[39;00m\n\u001b[1;32m    559\u001b[0m \u001b[39m\"\"\"\u001b[39;00m\n\u001b[1;32m    560\u001b[0m \u001b[39mif\u001b[39;00m \u001b[39mlen\u001b[39m(data) \u001b[39m!=\u001b[39m \u001b[39mlen\u001b[39m(index):\n\u001b[0;32m--> 561\u001b[0m     \u001b[39mraise\u001b[39;00m \u001b[39mValueError\u001b[39;00m(\n\u001b[1;32m    562\u001b[0m         \u001b[39m\"\u001b[39m\u001b[39mLength of values \u001b[39m\u001b[39m\"\u001b[39m\n\u001b[1;32m    563\u001b[0m         \u001b[39mf\u001b[39m\u001b[39m\"\u001b[39m\u001b[39m(\u001b[39m\u001b[39m{\u001b[39;00m\u001b[39mlen\u001b[39m(data)\u001b[39m}\u001b[39;00m\u001b[39m) \u001b[39m\u001b[39m\"\u001b[39m\n\u001b[1;32m    564\u001b[0m         \u001b[39m\"\u001b[39m\u001b[39mdoes not match length of index \u001b[39m\u001b[39m\"\u001b[39m\n\u001b[1;32m    565\u001b[0m         \u001b[39mf\u001b[39m\u001b[39m\"\u001b[39m\u001b[39m(\u001b[39m\u001b[39m{\u001b[39;00m\u001b[39mlen\u001b[39m(index)\u001b[39m}\u001b[39;00m\u001b[39m)\u001b[39m\u001b[39m\"\u001b[39m\n\u001b[1;32m    566\u001b[0m     )\n",
      "\u001b[0;31mValueError\u001b[0m: Length of values (9) does not match length of index (7)"
     ]
    }
   ],
   "source": [
    "serie_4 = pd.Series(array, index = [3,4,5,6,7,8,9])\n",
    "serie_4"
   ]
  },
  {
   "cell_type": "markdown",
   "id": "71c5c08d",
   "metadata": {},
   "source": [
    "Los índices también pueden ser `strings`"
   ]
  },
  {
   "cell_type": "code",
   "execution_count": 8,
   "id": "53963fc3",
   "metadata": {},
   "outputs": [
    {
     "data": {
      "text/plain": [
       "ana       1\n",
       "laura     2\n",
       "maria     3\n",
       "alicia    4\n",
       "monica    5\n",
       "irene     6\n",
       "ester     7\n",
       "lydia     8\n",
       "bea       9\n",
       "dtype: int64"
      ]
     },
     "execution_count": 8,
     "metadata": {},
     "output_type": "execute_result"
    }
   ],
   "source": [
    "serie_4 = pd.Series(array, index = [\"ana\", \"laura\", \"maria\", \"alicia\", \"monica\", \"irene\", \"ester\", \"lydia\", \"bea\"])\n",
    "serie_4"
   ]
  },
  {
   "cell_type": "markdown",
   "id": "7a9fa227",
   "metadata": {},
   "source": [
    "### Series a partir de listas "
   ]
  },
  {
   "cell_type": "code",
   "execution_count": 9,
   "id": "c5d2b182",
   "metadata": {},
   "outputs": [],
   "source": [
    "lista = [23,45,17,83, 67]"
   ]
  },
  {
   "cell_type": "code",
   "execution_count": 10,
   "id": "dda4c8f8",
   "metadata": {},
   "outputs": [
    {
     "data": {
      "text/plain": [
       "0    23\n",
       "1    45\n",
       "2    17\n",
       "3    83\n",
       "4    67\n",
       "dtype: int64"
      ]
     },
     "execution_count": 10,
     "metadata": {},
     "output_type": "execute_result"
    }
   ],
   "source": [
    "serie_5 = pd.Series(lista)\n",
    "serie_5"
   ]
  },
  {
   "cell_type": "markdown",
   "id": "19bd5b40",
   "metadata": {},
   "source": [
    "### Series a partir de un escalar"
   ]
  },
  {
   "cell_type": "code",
   "execution_count": 11,
   "id": "44f07b00",
   "metadata": {},
   "outputs": [],
   "source": [
    "numero = 10"
   ]
  },
  {
   "cell_type": "code",
   "execution_count": 12,
   "id": "e485e7d4",
   "metadata": {},
   "outputs": [
    {
     "data": {
      "text/plain": [
       "0    10\n",
       "dtype: int64"
      ]
     },
     "execution_count": 12,
     "metadata": {},
     "output_type": "execute_result"
    }
   ],
   "source": [
    "serie_6 = pd.Series(numero)\n",
    "serie_6"
   ]
  },
  {
   "cell_type": "markdown",
   "id": "c172f138",
   "metadata": {},
   "source": [
    "Al no inicarle un índice nos genera automáticamente una Serie con un único valor. \n",
    "\n",
    "Si quisieramos que nuestra Serie sea más larga, tendremos que especificarle un índice. Lo que ocurrirá es que se nos creará una Serie con una longitud igual al número de índices que le pasemos. "
   ]
  },
  {
   "cell_type": "code",
   "execution_count": 13,
   "id": "16ab97e3",
   "metadata": {},
   "outputs": [
    {
     "data": {
      "text/plain": [
       "0    10\n",
       "1    10\n",
       "2    10\n",
       "3    10\n",
       "dtype: int64"
      ]
     },
     "execution_count": 13,
     "metadata": {},
     "output_type": "execute_result"
    }
   ],
   "source": [
    "serie_7 = pd.Series(numero, index = [0,1,2,3])\n",
    "serie_7"
   ]
  },
  {
   "cell_type": "markdown",
   "id": "7e958bcd",
   "metadata": {},
   "source": [
    "### Series a partir de un diccionario\n",
    "\n",
    "En este caso, las claves o *keys* del diccionario se convertirán en el índice. "
   ]
  },
  {
   "cell_type": "code",
   "execution_count": 14,
   "id": "7789e4f6",
   "metadata": {},
   "outputs": [],
   "source": [
    "dicc = {'lorena' : 10, \n",
    "        'marta' : 20, \n",
    "        'pilar' : 30, \n",
    "        'laura': 50, \n",
    "       'ana': 86, \n",
    "        'maria': 28} "
   ]
  },
  {
   "cell_type": "code",
   "execution_count": 15,
   "id": "eacaec59",
   "metadata": {},
   "outputs": [
    {
     "data": {
      "text/plain": [
       "lorena    10\n",
       "marta     20\n",
       "pilar     30\n",
       "laura     50\n",
       "ana       86\n",
       "maria     28\n",
       "dtype: int64"
      ]
     },
     "execution_count": 15,
     "metadata": {},
     "output_type": "execute_result"
    }
   ],
   "source": [
    "serie_8 = pd.Series(dicc)\n",
    "serie_8"
   ]
  },
  {
   "cell_type": "markdown",
   "id": "779dd777",
   "metadata": {},
   "source": [
    "## Propiedades de las Series "
   ]
  },
  {
   "cell_type": "markdown",
   "id": "5f0b90d2",
   "metadata": {},
   "source": [
    "1️⃣ `index` y `values`: nos devuelve  los índices y los valores de nuestra Serie respectivamente."
   ]
  },
  {
   "cell_type": "code",
   "execution_count": 16,
   "id": "4d7b2a63",
   "metadata": {},
   "outputs": [
    {
     "data": {
      "text/plain": [
       "Index(['lorena', 'marta', 'pilar', 'laura', 'ana', 'maria'], dtype='object')"
      ]
     },
     "execution_count": 16,
     "metadata": {},
     "output_type": "execute_result"
    }
   ],
   "source": [
    "serie_8.index"
   ]
  },
  {
   "cell_type": "code",
   "execution_count": 18,
   "id": "253f1b05",
   "metadata": {},
   "outputs": [
    {
     "data": {
      "text/plain": [
       "array([10, 20, 30, 50, 86, 28])"
      ]
     },
     "execution_count": 18,
     "metadata": {},
     "output_type": "execute_result"
    }
   ],
   "source": [
    "serie_8.values"
   ]
  },
  {
   "cell_type": "markdown",
   "id": "467e804a",
   "metadata": {},
   "source": [
    "2️⃣ `shape`: nos devuelve la **forma** de nuestra Serie "
   ]
  },
  {
   "cell_type": "code",
   "execution_count": 17,
   "id": "768de318",
   "metadata": {},
   "outputs": [
    {
     "data": {
      "text/plain": [
       "(6,)"
      ]
     },
     "execution_count": 17,
     "metadata": {},
     "output_type": "execute_result"
    }
   ],
   "source": [
    "# nos dice que tiene 6 filas\n",
    "\n",
    "serie_8.shape"
   ]
  },
  {
   "cell_type": "markdown",
   "id": "225a7430",
   "metadata": {},
   "source": [
    "3️⃣ `size`: nos devuelve el número de elementos de nuestra Serie"
   ]
  },
  {
   "cell_type": "code",
   "execution_count": 19,
   "id": "23503d6e",
   "metadata": {},
   "outputs": [
    {
     "data": {
      "text/plain": [
       "6"
      ]
     },
     "execution_count": 19,
     "metadata": {},
     "output_type": "execute_result"
    }
   ],
   "source": [
    "# nuestra Serie tiene 6 elementos\n",
    "\n",
    "serie_8.size"
   ]
  },
  {
   "cell_type": "markdown",
   "id": "28b41ce0",
   "metadata": {},
   "source": [
    "4️⃣ `dtypes`: nos devueve el tipo de dato que tenemos en nuestra Serie"
   ]
  },
  {
   "cell_type": "code",
   "execution_count": 20,
   "id": "ab3e2431",
   "metadata": {},
   "outputs": [
    {
     "data": {
      "text/plain": [
       "dtype('int64')"
      ]
     },
     "execution_count": 20,
     "metadata": {},
     "output_type": "execute_result"
    }
   ],
   "source": [
    "serie_8.dtypes"
   ]
  },
  {
   "cell_type": "markdown",
   "id": "ddd213dc",
   "metadata": {},
   "source": [
    "Estos son solo algunas de las propiedades de las Series, para ver el listado completo de las propiedades de las Series podeís verlas [aquí](https://pandas.pydata.org/pandas-docs/stable/reference/series.html)"
   ]
  },
  {
   "cell_type": "markdown",
   "id": "e5ef4530",
   "metadata": {},
   "source": [
    "## Indexación en las Series\n",
    "\n",
    "Tenemos dos formas de acceder a los valores de nuestra serie: \n",
    "\n",
    "- Usando corchetes y el índice (posición) del elemento\n",
    "\n",
    "\n",
    "- Usando su etiqueta, si la tiene, como en el caso del diccionario que vimos anteriormente. "
   ]
  },
  {
   "cell_type": "code",
   "execution_count": 21,
   "id": "c6486ca5",
   "metadata": {},
   "outputs": [
    {
     "data": {
      "text/plain": [
       "lorena    10\n",
       "marta     20\n",
       "pilar     30\n",
       "laura     50\n",
       "ana       86\n",
       "maria     28\n",
       "dtype: int64"
      ]
     },
     "execution_count": 21,
     "metadata": {},
     "output_type": "execute_result"
    }
   ],
   "source": [
    "# para este ejemplo usaremos la Serie creada a partir de un diccionario\n",
    "\n",
    "serie_8"
   ]
  },
  {
   "cell_type": "code",
   "execution_count": 22,
   "id": "292bfb97",
   "metadata": {},
   "outputs": [
    {
     "data": {
      "text/plain": [
       "30"
      ]
     },
     "execution_count": 22,
     "metadata": {},
     "output_type": "execute_result"
    }
   ],
   "source": [
    "# usando corchetes y la posición.\n",
    "\n",
    "## Si quiero acceder al elemento que esta en la posición 2 \n",
    "\n",
    "serie_8[2]"
   ]
  },
  {
   "cell_type": "code",
   "execution_count": 23,
   "id": "305797b7",
   "metadata": {},
   "outputs": [
    {
     "data": {
      "text/plain": [
       "marta    20\n",
       "pilar    30\n",
       "dtype: int64"
      ]
     },
     "execution_count": 23,
     "metadata": {},
     "output_type": "execute_result"
    }
   ],
   "source": [
    "# también podemos acceder con una lista de índices. Accedemos a los \n",
    "## elementos 1 y 2\n",
    "\n",
    "serie_8[[1,2]]"
   ]
  },
  {
   "cell_type": "code",
   "execution_count": 24,
   "id": "990f69c3",
   "metadata": {},
   "outputs": [
    {
     "data": {
      "text/plain": [
       "marta    20\n",
       "maria    28\n",
       "dtype: int64"
      ]
     },
     "execution_count": 24,
     "metadata": {},
     "output_type": "execute_result"
    }
   ],
   "source": [
    "# accedemos a los elementos 1 y 5\n",
    "\n",
    "serie_8[[1,5]]"
   ]
  },
  {
   "cell_type": "code",
   "execution_count": 25,
   "id": "9d3b6a76",
   "metadata": {},
   "outputs": [
    {
     "data": {
      "text/plain": [
       "marta    20\n",
       "pilar    30\n",
       "laura    50\n",
       "ana      86\n",
       "dtype: int64"
      ]
     },
     "execution_count": 25,
     "metadata": {},
     "output_type": "execute_result"
    }
   ],
   "source": [
    "# accedemos a los elementos del 1 al 5\n",
    "\n",
    "serie_8[1:5]"
   ]
  },
  {
   "cell_type": "code",
   "execution_count": 26,
   "id": "6678862c",
   "metadata": {},
   "outputs": [
    {
     "data": {
      "text/plain": [
       "30"
      ]
     },
     "execution_count": 26,
     "metadata": {},
     "output_type": "execute_result"
    }
   ],
   "source": [
    "# usando su etiqueta\n",
    "\n",
    "# como en este caso tenemos etiquetas definidas, puedo acceder a través \n",
    "## de ella. En este caso sería \"pilar\"\n",
    "\n",
    "serie_8[\"pilar\"]"
   ]
  },
  {
   "cell_type": "code",
   "execution_count": 27,
   "id": "7ac31337",
   "metadata": {},
   "outputs": [
    {
     "data": {
      "text/plain": [
       "30"
      ]
     },
     "execution_count": 27,
     "metadata": {},
     "output_type": "execute_result"
    }
   ],
   "source": [
    "# podemos usar también comillas simples\n",
    "\n",
    "serie_8['pilar']\n"
   ]
  },
  {
   "cell_type": "markdown",
   "id": "1474d334",
   "metadata": {},
   "source": [
    "Es importante destacar que lo índices son inmutables a no ser que los modifiquemos explícitamente. \n",
    "\n",
    "Esto quiere decir que, si eliminamos un elemento de una serie no va modificar las etiquetas asignadas a cada valor. "
   ]
  },
  {
   "cell_type": "code",
   "execution_count": 28,
   "id": "35880ac9",
   "metadata": {},
   "outputs": [
    {
     "data": {
      "text/plain": [
       "0    10\n",
       "1    10\n",
       "2    10\n",
       "3    10\n",
       "dtype: int64"
      ]
     },
     "execution_count": 28,
     "metadata": {},
     "output_type": "execute_result"
    }
   ],
   "source": [
    "# trabajemos ahora con la Serie 7\n",
    "serie_7"
   ]
  },
  {
   "cell_type": "code",
   "execution_count": 29,
   "id": "a4c439bf",
   "metadata": {},
   "outputs": [
    {
     "data": {
      "text/plain": [
       "1    10\n",
       "2    10\n",
       "3    10\n",
       "dtype: int64"
      ]
     },
     "execution_count": 29,
     "metadata": {},
     "output_type": "execute_result"
    }
   ],
   "source": [
    "# imaginemos que queremos quitar el elemento que tiene el índice 0. Podemos usar el método \"drop\"\n",
    "\n",
    "serie_7.drop([0])"
   ]
  },
  {
   "cell_type": "markdown",
   "id": "66295301",
   "metadata": {},
   "source": [
    "Si nos fijamos, se ha eliminado el primer elemento, pero no ha cambiado el valor de los índices. Es decir, podríamos esperar que se \"reorganizaran\" lo índices y que siempre empezaran por 0. Pero esto no ocurre, y esto es lo que significa que los índices son inmutables. "
   ]
  },
  {
   "cell_type": "markdown",
   "id": "40cdb3d2",
   "metadata": {},
   "source": [
    "## Operaciones con Series \n",
    "\n",
    "A lo largo de esta parte del jupyter trabajaremos con las siguientes series:"
   ]
  },
  {
   "cell_type": "code",
   "execution_count": 31,
   "id": "d68c73b5",
   "metadata": {},
   "outputs": [],
   "source": [
    "serie_9 = pd.Series([1,2,3,4], index = ['a', 'b', 'c', 'd'])\n",
    "serie_10 = pd.Series([5,6,7,8], index = ['d', 'e', 'b', 'g'])"
   ]
  },
  {
   "cell_type": "code",
   "execution_count": 32,
   "id": "45c661e7",
   "metadata": {},
   "outputs": [
    {
     "data": {
      "text/plain": [
       "a    1\n",
       "b    2\n",
       "c    3\n",
       "d    4\n",
       "dtype: int64"
      ]
     },
     "execution_count": 32,
     "metadata": {},
     "output_type": "execute_result"
    }
   ],
   "source": [
    "serie_9"
   ]
  },
  {
   "cell_type": "code",
   "execution_count": 33,
   "id": "9a04c288",
   "metadata": {},
   "outputs": [
    {
     "data": {
      "text/plain": [
       "d    5\n",
       "e    6\n",
       "b    7\n",
       "g    8\n",
       "dtype: int64"
      ]
     },
     "execution_count": 33,
     "metadata": {},
     "output_type": "execute_result"
    }
   ],
   "source": [
    "serie_10"
   ]
  },
  {
   "cell_type": "markdown",
   "id": "2b50a9d1",
   "metadata": {},
   "source": [
    "🚨 **NOTA** cuando hacemos cualquier operación aritmética entre dos Series solo se hará la operación de aquellas filas que tengan el mismo índice. \n",
    "\n",
    "Para aquellos valores cuyos índices no están en todas las Series nos devolverá un NaN\n",
    "\n",
    "Basándonos en lo anterior, cuando realicemos cualquier operación con la serie_9 y la serie_10 solo se calculará para las filas con los índices `d` y `b` que son los que tenemos en las dos series. "
   ]
  },
  {
   "cell_type": "markdown",
   "id": "166dcea2",
   "metadata": {},
   "source": [
    "### Suma\n",
    "\n",
    "\n",
    "Se puede hacer de dos formas:\n",
    "\n",
    "- Con el operador `+`\n",
    "\n",
    "\n",
    "- Con el método propio `add()`"
   ]
  },
  {
   "cell_type": "code",
   "execution_count": 34,
   "id": "4a09c6cc",
   "metadata": {},
   "outputs": [
    {
     "data": {
      "text/plain": [
       "a    NaN\n",
       "b    9.0\n",
       "c    NaN\n",
       "d    9.0\n",
       "e    NaN\n",
       "g    NaN\n",
       "dtype: float64"
      ]
     },
     "execution_count": 34,
     "metadata": {},
     "output_type": "execute_result"
    }
   ],
   "source": [
    "# 1️⃣ Usando el operador +\n",
    "\n",
    "serie_9 +  serie_10"
   ]
  },
  {
   "cell_type": "markdown",
   "id": "c3eb37da",
   "metadata": {},
   "source": [
    "Si nos fijamos solo nos devolvió el resultado de la suma de las filas con los índices comunes entre las dos series, es decir, la `b` y la `d`. "
   ]
  },
  {
   "cell_type": "code",
   "execution_count": 35,
   "id": "73e18124",
   "metadata": {},
   "outputs": [
    {
     "data": {
      "text/plain": [
       "a    NaN\n",
       "b    9.0\n",
       "c    NaN\n",
       "d    9.0\n",
       "e    NaN\n",
       "g    NaN\n",
       "dtype: float64"
      ]
     },
     "execution_count": 35,
     "metadata": {},
     "output_type": "execute_result"
    }
   ],
   "source": [
    "# 2️⃣ usando el método \"add()\"\n",
    "\n",
    "serie_9.add(serie_10)"
   ]
  },
  {
   "cell_type": "markdown",
   "id": "5631b2d8",
   "metadata": {},
   "source": [
    "La ventaja de usar este método es que podemos pasar el parámetro `fill_value`, este método nos va a permitir rellenar los elementos desconocidos o NaN. "
   ]
  },
  {
   "cell_type": "code",
   "execution_count": 36,
   "id": "c5a627cf",
   "metadata": {},
   "outputs": [
    {
     "data": {
      "text/plain": [
       "a    1.0\n",
       "b    9.0\n",
       "c    3.0\n",
       "d    9.0\n",
       "e    6.0\n",
       "g    8.0\n",
       "dtype: float64"
      ]
     },
     "execution_count": 36,
     "metadata": {},
     "output_type": "execute_result"
    }
   ],
   "source": [
    "serie_9.add(serie_10, fill_value = 0)"
   ]
  },
  {
   "cell_type": "markdown",
   "id": "2d3094ae",
   "metadata": {},
   "source": [
    "¿Qué es lo que hace `fill_value`?\n",
    "\n",
    "Nos autocompletará los NaN con los valores originales de nuestra Serie. El valor de `fill_value` lo que hará es sumarse al valor de nuestro elemento. Por ejemplo:\n",
    "\n",
    "- Si el valor de `fill_value` es 0, y el valor del índice es 6, después de hacer la operación se rellenará con un 6. \n",
    "\n",
    "\n",
    "- Si el valor de `fill_value` es 2, y el valor del índice es 6, después de hacer la operación se rellenará con un 8. \n"
   ]
  },
  {
   "cell_type": "code",
   "execution_count": 37,
   "id": "dd10f7a8",
   "metadata": {},
   "outputs": [
    {
     "data": {
      "text/plain": [
       "a     4.0\n",
       "b     9.0\n",
       "c     6.0\n",
       "d     9.0\n",
       "e     9.0\n",
       "g    11.0\n",
       "dtype: float64"
      ]
     },
     "execution_count": 37,
     "metadata": {},
     "output_type": "execute_result"
    }
   ],
   "source": [
    "serie_9.add(serie_10, fill_value = 3)"
   ]
  },
  {
   "cell_type": "markdown",
   "id": "f448f904",
   "metadata": {},
   "source": [
    "Si nos fijamos el valor original de \"a\" era 1. Al poner `fill_value = 3` lo que ha pasado es que se ha sumado 3 al valor del orginal, devolviendonos 4."
   ]
  },
  {
   "cell_type": "markdown",
   "id": "08b11319",
   "metadata": {},
   "source": [
    "### Resta \n",
    "\n",
    "De la misma forma que con la suma, podemo usar:\n",
    "\n",
    "- Operador `-`\n",
    "\n",
    "\n",
    "- Método propio \"sub()\""
   ]
  },
  {
   "cell_type": "code",
   "execution_count": 38,
   "id": "e048cfb0",
   "metadata": {},
   "outputs": [
    {
     "data": {
      "text/plain": [
       "a    NaN\n",
       "b   -5.0\n",
       "c    NaN\n",
       "d   -1.0\n",
       "e    NaN\n",
       "g    NaN\n",
       "dtype: float64"
      ]
     },
     "execution_count": 38,
     "metadata": {},
     "output_type": "execute_result"
    }
   ],
   "source": [
    "# 1️⃣ con el operador \"-\"\n",
    "\n",
    "serie_9 - serie_10"
   ]
  },
  {
   "cell_type": "code",
   "execution_count": 39,
   "id": "88f61130",
   "metadata": {},
   "outputs": [
    {
     "data": {
      "text/plain": [
       "a    1.0\n",
       "b   -5.0\n",
       "c    3.0\n",
       "d   -1.0\n",
       "e   -6.0\n",
       "g   -8.0\n",
       "dtype: float64"
      ]
     },
     "execution_count": 39,
     "metadata": {},
     "output_type": "execute_result"
    }
   ],
   "source": [
    "# 2️⃣ con el metodo \"sub()\". También le podremos pasar el parámetro \"fill_value\"\n",
    "\n",
    "serie_9.sub(serie_10, fill_value = 0)"
   ]
  },
  {
   "cell_type": "markdown",
   "id": "4ff51228",
   "metadata": {},
   "source": [
    "⚠️ Atención, por que aquí el orden importa!!!!!"
   ]
  },
  {
   "cell_type": "code",
   "execution_count": 41,
   "id": "b577320a",
   "metadata": {},
   "outputs": [
    {
     "data": {
      "text/plain": [
       "a   -1.0\n",
       "b    5.0\n",
       "c   -3.0\n",
       "d    1.0\n",
       "e    6.0\n",
       "g    8.0\n",
       "dtype: float64"
      ]
     },
     "execution_count": 41,
     "metadata": {},
     "output_type": "execute_result"
    }
   ],
   "source": [
    "serie_10.sub(serie_9, fill_value = 0)"
   ]
  },
  {
   "cell_type": "markdown",
   "id": "8beb1354",
   "metadata": {},
   "source": [
    "### Multiplicación \n",
    "\n",
    "Podemos usar:\n",
    "\n",
    "- operador `*`\n",
    "\n",
    "\n",
    "- método propio `mul()`"
   ]
  },
  {
   "cell_type": "code",
   "execution_count": 43,
   "id": "69576b33",
   "metadata": {},
   "outputs": [
    {
     "data": {
      "text/plain": [
       "a     NaN\n",
       "b    14.0\n",
       "c     NaN\n",
       "d    20.0\n",
       "e     NaN\n",
       "g     NaN\n",
       "dtype: float64"
      ]
     },
     "execution_count": 43,
     "metadata": {},
     "output_type": "execute_result"
    }
   ],
   "source": [
    "# 1️⃣ con el operador \"*\"\n",
    "\n",
    "serie_9 * serie_10"
   ]
  },
  {
   "cell_type": "code",
   "execution_count": 42,
   "id": "f978a2fe",
   "metadata": {},
   "outputs": [
    {
     "data": {
      "text/plain": [
       "a     1.0\n",
       "b    14.0\n",
       "c     3.0\n",
       "d    20.0\n",
       "e     6.0\n",
       "g     8.0\n",
       "dtype: float64"
      ]
     },
     "execution_count": 42,
     "metadata": {},
     "output_type": "execute_result"
    }
   ],
   "source": [
    "# 2️⃣ con el metodo \"mul()\" al que también le podemos pasar fill_value\n",
    "\n",
    "serie_9.mul(serie_10, fill_value = 1)"
   ]
  },
  {
   "cell_type": "markdown",
   "id": "ddee299c",
   "metadata": {},
   "source": [
    "⚠️ Ojo aquí, por que si al `fill_value` le pasamos un 0 nos devolverá todo 0, estamos multiplicando por 0. En este caso, `fill_value` deberá ser 1 si queremos conservar los valores originales. "
   ]
  },
  {
   "cell_type": "markdown",
   "id": "1e44eaa8",
   "metadata": {},
   "source": [
    "### División\n",
    "\n",
    "Usaremos:\n",
    "\n",
    "- operador `/`\n",
    "\n",
    "\n",
    "- método propio `div()`"
   ]
  },
  {
   "cell_type": "code",
   "execution_count": 44,
   "id": "e0e9a96b",
   "metadata": {},
   "outputs": [
    {
     "data": {
      "text/plain": [
       "a         NaN\n",
       "b    0.285714\n",
       "c         NaN\n",
       "d    0.800000\n",
       "e         NaN\n",
       "g         NaN\n",
       "dtype: float64"
      ]
     },
     "execution_count": 44,
     "metadata": {},
     "output_type": "execute_result"
    }
   ],
   "source": [
    "# 1️⃣ con el operador \"/\"\n",
    "\n",
    "serie_9 / serie_10"
   ]
  },
  {
   "cell_type": "code",
   "execution_count": 45,
   "id": "73b68609",
   "metadata": {},
   "outputs": [
    {
     "data": {
      "text/plain": [
       "a    1.000000\n",
       "b    0.285714\n",
       "c    3.000000\n",
       "d    0.800000\n",
       "e    0.166667\n",
       "g    0.125000\n",
       "dtype: float64"
      ]
     },
     "execution_count": 45,
     "metadata": {},
     "output_type": "execute_result"
    }
   ],
   "source": [
    "# 2️⃣ con el metodo \"div()\" con el parámetro fill_value\n",
    "\n",
    "serie_9.div(serie_10, fill_value = 1)"
   ]
  },
  {
   "cell_type": "markdown",
   "id": "c19ea874",
   "metadata": {},
   "source": [
    "⚠️ Aquí el orden vuelve a importar"
   ]
  },
  {
   "cell_type": "code",
   "execution_count": 46,
   "id": "83ccf84a",
   "metadata": {},
   "outputs": [
    {
     "data": {
      "text/plain": [
       "a    1.000000\n",
       "b    3.500000\n",
       "c    0.333333\n",
       "d    1.250000\n",
       "e    6.000000\n",
       "g    8.000000\n",
       "dtype: float64"
      ]
     },
     "execution_count": 46,
     "metadata": {},
     "output_type": "execute_result"
    }
   ],
   "source": [
    "serie_10.div(serie_9, fill_value = 1)"
   ]
  },
  {
   "cell_type": "markdown",
   "id": "2abd724e",
   "metadata": {},
   "source": [
    "### Otros métodos para realizar operaciones aritméticas"
   ]
  },
  {
   "cell_type": "markdown",
   "id": "3b88be20",
   "metadata": {},
   "source": [
    "`mod`: nos devuelve el módulo"
   ]
  },
  {
   "cell_type": "code",
   "execution_count": 47,
   "id": "3bddad58",
   "metadata": {},
   "outputs": [
    {
     "data": {
      "text/plain": [
       "a    0.0\n",
       "b    2.0\n",
       "c    0.0\n",
       "d    4.0\n",
       "e    1.0\n",
       "g    1.0\n",
       "dtype: float64"
      ]
     },
     "execution_count": 47,
     "metadata": {},
     "output_type": "execute_result"
    }
   ],
   "source": [
    "serie_9.mod(serie_10, fill_value = 1)"
   ]
  },
  {
   "cell_type": "markdown",
   "id": "468dade0",
   "metadata": {},
   "source": [
    "`pow`: nos calcula el exponencial"
   ]
  },
  {
   "cell_type": "code",
   "execution_count": 47,
   "id": "7cbe6377",
   "metadata": {},
   "outputs": [
    {
     "data": {
      "text/plain": [
       "a       1.0\n",
       "b     128.0\n",
       "c       3.0\n",
       "d    1024.0\n",
       "e       1.0\n",
       "g       1.0\n",
       "dtype: float64"
      ]
     },
     "execution_count": 47,
     "metadata": {},
     "output_type": "execute_result"
    }
   ],
   "source": [
    "serie_9.pow(serie_10, fill_value = 1)"
   ]
  },
  {
   "cell_type": "markdown",
   "id": "bcbd997e",
   "metadata": {},
   "source": [
    "`ge`: nos devuelve un valor booleano comparando chequeando si cada elmento de la serie1 es mayor que el de la serie2"
   ]
  },
  {
   "cell_type": "code",
   "execution_count": 48,
   "id": "7c2c51e3",
   "metadata": {},
   "outputs": [
    {
     "data": {
      "text/plain": [
       "a    False\n",
       "b    False\n",
       "c    False\n",
       "d    False\n",
       "e    False\n",
       "g    False\n",
       "dtype: bool"
      ]
     },
     "execution_count": 48,
     "metadata": {},
     "output_type": "execute_result"
    }
   ],
   "source": [
    "serie_9.ge(serie_10)"
   ]
  },
  {
   "cell_type": "markdown",
   "id": "ead828f9",
   "metadata": {},
   "source": [
    "`le`: nos devuelve un valor booleano comparando chequeando si cada elmento de la serie1 es menor que el de la serie2"
   ]
  },
  {
   "cell_type": "code",
   "execution_count": 50,
   "id": "b7b0f3f0",
   "metadata": {},
   "outputs": [
    {
     "data": {
      "text/plain": [
       "a    False\n",
       "b     True\n",
       "c    False\n",
       "d     True\n",
       "e    False\n",
       "g    False\n",
       "dtype: bool"
      ]
     },
     "execution_count": 50,
     "metadata": {},
     "output_type": "execute_result"
    }
   ],
   "source": [
    "serie_9.le(serie_10)\n"
   ]
  },
  {
   "cell_type": "markdown",
   "id": "a9291022",
   "metadata": {},
   "source": [
    "Estos son solo algunos ejemplos, para conocer más métodos podeís curiosearlos [aquí](https://pandas.pydata.org/pandas-docs/stable/reference/series.html)"
   ]
  },
  {
   "cell_type": "markdown",
   "id": "1c56103b",
   "metadata": {},
   "source": [
    "###  Filtrado booleanos \n",
    "\n",
    "Con las Series podemos hacer filtrado de datos usando los operadores de comparación `<`, `>`, `>=`, `<=`, `==`. \n",
    "\n",
    "Nos va a devolver una Serie de booleanos donde:\n",
    "\n",
    "- True: si la condición se cumple\n",
    "\n",
    "- False: si la condición no se cumple\n",
    "\n",
    "\n",
    "Veamos algunos ejemplos:\n"
   ]
  },
  {
   "cell_type": "code",
   "execution_count": 50,
   "id": "a3f0154e",
   "metadata": {},
   "outputs": [
    {
     "data": {
      "text/plain": [
       "a    1\n",
       "b    2\n",
       "c    3\n",
       "d    4\n",
       "dtype: int64"
      ]
     },
     "execution_count": 50,
     "metadata": {},
     "output_type": "execute_result"
    }
   ],
   "source": [
    "serie_9"
   ]
  },
  {
   "cell_type": "code",
   "execution_count": 51,
   "id": "643c122b",
   "metadata": {},
   "outputs": [
    {
     "data": {
      "text/plain": [
       "a    False\n",
       "b    False\n",
       "c     True\n",
       "d     True\n",
       "dtype: bool"
      ]
     },
     "execution_count": 51,
     "metadata": {},
     "output_type": "execute_result"
    }
   ],
   "source": [
    "# busquemos si hay algún valor en nuestra serie mayor que 2\n",
    "\n",
    "serie_9 > 2"
   ]
  },
  {
   "cell_type": "code",
   "execution_count": 52,
   "id": "e349a80d",
   "metadata": {},
   "outputs": [
    {
     "data": {
      "text/plain": [
       "a    False\n",
       "b     True\n",
       "c    False\n",
       "d    False\n",
       "dtype: bool"
      ]
     },
     "execution_count": 52,
     "metadata": {},
     "output_type": "execute_result"
    }
   ],
   "source": [
    "# hay algún valor igual a 2 \n",
    "\n",
    "serie_9 == 2"
   ]
  },
  {
   "cell_type": "markdown",
   "id": "de2af570",
   "metadata": {},
   "source": [
    "Pero... ¿qué pasa si solo queremos que nos devuelva las filas donde se cumpla la condión que pasamos?\n",
    "\n",
    "Tendremos que usar los corchetes. Veamos un ejemplo 👇🏽"
   ]
  },
  {
   "cell_type": "code",
   "execution_count": 53,
   "id": "eb0688cd",
   "metadata": {},
   "outputs": [
    {
     "data": {
      "text/plain": [
       "b    2\n",
       "dtype: int64"
      ]
     },
     "execution_count": 53,
     "metadata": {},
     "output_type": "execute_result"
    }
   ],
   "source": [
    "serie_9[serie_9 == 2]"
   ]
  },
  {
   "cell_type": "markdown",
   "id": "2d24c9d8",
   "metadata": {},
   "source": [
    "## Búsqueda de NaN\n",
    "\n",
    "Podemos usar: \n",
    "\n",
    "- `isnull()`:  detecta los valores que faltan en la Serie. Devuelve un objeto booleano del mismo tamaño que indica si los valores son NA. \n",
    "\n",
    "    - True: **es** un valor nulo\n",
    "    \n",
    "    - False: **no** es un valor nulo\n",
    "\n",
    "\n",
    "- `notnull()`: detecta los valores existentes (no ausentes). Esta función devuelve un objeto booleano con el mismo tamaño que el objeto, indicando si los valores son valores ausentes o no.\n",
    "\n",
    "    - True: valores que no faltan Los valores que no faltan se asignan a True. Los caracteres como los strings vacíos o numpy.inf no se consideran valores ausentes\n",
    "    - False: los valores NA, como None o np.nan"
   ]
  },
  {
   "cell_type": "markdown",
   "id": "a37e979a",
   "metadata": {},
   "source": [
    "Lo primero que vamos a hacer es crear una Serie con valores nulos (NaN). Para ello vamos a usar la librería numpy y su método `np.nan` que nos va a permitir crear valores nulos"
   ]
  },
  {
   "cell_type": "code",
   "execution_count": 54,
   "id": "ccb7490e",
   "metadata": {},
   "outputs": [
    {
     "data": {
      "text/plain": [
       "0    NaN\n",
       "1      3\n",
       "2      5\n",
       "3      6\n",
       "4    NaN\n",
       "5      4\n",
       "6    NaN\n",
       "7       \n",
       "dtype: object"
      ]
     },
     "execution_count": 54,
     "metadata": {},
     "output_type": "execute_result"
    }
   ],
   "source": [
    "serie_11 = pd.Series([np.nan, 3, 5, 6, np.nan, 4, np.nan, \"\"])\n",
    "serie_11"
   ]
  },
  {
   "cell_type": "code",
   "execution_count": 55,
   "id": "0532ed51",
   "metadata": {},
   "outputs": [
    {
     "data": {
      "text/plain": [
       "0     True\n",
       "1    False\n",
       "2    False\n",
       "3    False\n",
       "4     True\n",
       "5    False\n",
       "6     True\n",
       "7    False\n",
       "dtype: bool"
      ]
     },
     "execution_count": 55,
     "metadata": {},
     "output_type": "execute_result"
    }
   ],
   "source": [
    "# 1️⃣ isnull\n",
    "\n",
    "serie_11.isnull()"
   ]
  },
  {
   "cell_type": "code",
   "execution_count": 56,
   "id": "916a19b0",
   "metadata": {},
   "outputs": [
    {
     "data": {
      "text/plain": [
       "0    False\n",
       "1     True\n",
       "2     True\n",
       "3     True\n",
       "4    False\n",
       "5     True\n",
       "6    False\n",
       "7     True\n",
       "dtype: bool"
      ]
     },
     "execution_count": 56,
     "metadata": {},
     "output_type": "execute_result"
    }
   ],
   "source": [
    "#  2️⃣ notnull\n",
    "\n",
    "serie_11.notnull()"
   ]
  },
  {
   "cell_type": "markdown",
   "id": "3c9c27ac",
   "metadata": {},
   "source": [
    "**EJERCICIO 1** \n",
    "\n",
    "- 1️⃣ Crea dos Series que cumplan las siguientes condiciones: \n",
    "\n",
    "    - Serie 1: \n",
    "        - Provenga de un diccionario donde las keys sean números\n",
    "        - Que sus índices vayan del 5-11\n",
    "\n",
    "    - Serie 1:     \n",
    "        - A partir de una lista\n",
    "        - Tiene que tener al menos un valor nulo (NaN)\n",
    "        - Que sus índices se generen automáticamente\n",
    "        \n",
    "- 2️⃣ Realiza tres operaciones (a tu elección) con las dos Series que has creado. Importante, el resultado de las operaciones no nos debe devolver ningún valor nulo, a excepción de los nulos que nosotras hemos creado.  \n",
    "\n",
    "\n",
    "- 3️⃣ ¿Alguna de nuestras Series tiene algún valor nulo?\n",
    "\n",
    "\n",
    "- 4️⃣ ¿Hay algún valor mayor a 10 en la primera serie que hemos definido (la del diccionario)? Extrae solo aquellos valores que cumplan la condición. "
   ]
  },
  {
   "cell_type": "code",
   "execution_count": 57,
   "id": "67dcecb5",
   "metadata": {},
   "outputs": [],
   "source": [
    "diccionario = {5:4, 6:8, 7:12, 8:15, 9:17, 10:11, 11:13}"
   ]
  },
  {
   "cell_type": "code",
   "execution_count": 58,
   "id": "8ad44d64",
   "metadata": {},
   "outputs": [
    {
     "data": {
      "text/plain": [
       "5      4\n",
       "6      8\n",
       "7     12\n",
       "8     15\n",
       "9     17\n",
       "10    11\n",
       "11    13\n",
       "dtype: int64"
      ]
     },
     "execution_count": 58,
     "metadata": {},
     "output_type": "execute_result"
    }
   ],
   "source": [
    "ser1 = pd.Series(diccionario)\n",
    "ser1"
   ]
  },
  {
   "cell_type": "code",
   "execution_count": 59,
   "id": "d838c08f",
   "metadata": {},
   "outputs": [],
   "source": [
    "ser2 = pd.Series([np.nan, 3, 5, 6, np.nan, 4, np.nan,])"
   ]
  },
  {
   "cell_type": "code",
   "execution_count": 64,
   "id": "fdbde2a4",
   "metadata": {},
   "outputs": [
    {
     "name": "stdout",
     "output_type": "stream",
     "text": [
      "0      NaN\n",
      "1      3.0\n",
      "2      5.0\n",
      "3      6.0\n",
      "4      NaN\n",
      "5      8.0\n",
      "6      8.0\n",
      "7     12.0\n",
      "8     15.0\n",
      "9     17.0\n",
      "10    11.0\n",
      "11    13.0\n",
      "dtype: float64\n",
      "----------\n",
      "0           NaN\n",
      "1      0.333333\n",
      "2      0.200000\n",
      "3      0.166667\n",
      "4           NaN\n",
      "5      1.000000\n",
      "6      8.000000\n",
      "7     12.000000\n",
      "8     15.000000\n",
      "9     17.000000\n",
      "10    11.000000\n",
      "11    13.000000\n",
      "dtype: float64\n",
      "----------\n",
      "0      NaN\n",
      "1      2.0\n",
      "2      4.0\n",
      "3      5.0\n",
      "4      NaN\n",
      "5      0.0\n",
      "6     -7.0\n",
      "7    -11.0\n",
      "8    -14.0\n",
      "9    -16.0\n",
      "10   -10.0\n",
      "11   -12.0\n",
      "dtype: float64\n",
      "----------\n"
     ]
    }
   ],
   "source": [
    "#suma\n",
    "print (ser1.add(ser2, fill_value = 0))\n",
    "print ('----------')\n",
    "#division\n",
    "print (ser1.div(ser2, fill_value = 1))\n",
    "print ('----------')\n",
    "#resta\n",
    "print (ser2.sub(ser1, fill_value = 1))\n",
    "print ('----------')\n"
   ]
  },
  {
   "cell_type": "code",
   "execution_count": 65,
   "id": "1aae9580",
   "metadata": {},
   "outputs": [
    {
     "data": {
      "text/plain": [
       "7     12\n",
       "8     15\n",
       "9     17\n",
       "10    11\n",
       "11    13\n",
       "dtype: int64"
      ]
     },
     "execution_count": 65,
     "metadata": {},
     "output_type": "execute_result"
    }
   ],
   "source": [
    "ser1[ser1>10]"
   ]
  },
  {
   "cell_type": "code",
   "execution_count": 66,
   "id": "81efe486",
   "metadata": {},
   "outputs": [
    {
     "data": {
      "text/plain": [
       "Series([], dtype: float64)"
      ]
     },
     "execution_count": 66,
     "metadata": {},
     "output_type": "execute_result"
    }
   ],
   "source": [
    "ser2[ser2>10]"
   ]
  }
 ],
 "metadata": {
  "kernelspec": {
   "display_name": "Python 3.9.13 ('base')",
   "language": "python",
   "name": "python3"
  },
  "language_info": {
   "codemirror_mode": {
    "name": "ipython",
    "version": 3
   },
   "file_extension": ".py",
   "mimetype": "text/x-python",
   "name": "python",
   "nbconvert_exporter": "python",
   "pygments_lexer": "ipython3",
   "version": "3.9.13"
  },
  "vscode": {
   "interpreter": {
    "hash": "85c042135e83639dad74b6ec6c9d943b5dc47ca281624d931a3e14168052f53c"
   }
  }
 },
 "nbformat": 4,
 "nbformat_minor": 5
}

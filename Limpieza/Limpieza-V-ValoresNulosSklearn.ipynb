{
 "cells": [
  {
   "cell_type": "markdown",
   "metadata": {
    "toc": true
   },
   "source": [
    "<h1>Table of Contents<span class=\"tocSkip\"></span></h1>\n",
    "<div class=\"toc\"><ul class=\"toc-item\"><li><span><a href=\"#Simple-Imputer\" data-toc-modified-id=\"Simple-Imputer-1\"><span class=\"toc-item-num\">1&nbsp;&nbsp;</span>Simple-Imputer</a></span></li><li><span><a href=\"#Iterative-Imputer\" data-toc-modified-id=\"Iterative-Imputer-2\"><span class=\"toc-item-num\">2&nbsp;&nbsp;</span>Iterative-Imputer</a></span></li><li><span><a href=\"#KNN-Imputer\" data-toc-modified-id=\"KNN-Imputer-3\"><span class=\"toc-item-num\">3&nbsp;&nbsp;</span>KNN Imputer</a></span></li></ul></div>"
   ]
  },
  {
   "cell_type": "code",
   "execution_count": 1,
   "metadata": {},
   "outputs": [],
   "source": [
    "import pandas as pd\n",
    "import seaborn as sns\n",
    "import matplotlib.pyplot as plt\n",
    "import numpy as np"
   ]
  },
  {
   "cell_type": "markdown",
   "metadata": {},
   "source": [
    "Ayer aprendimos como imputar los valores nulos usando métodos que conocíamos como el `.dropna()`, .`replace()` o el `.fillna()`. Hoy seguiremos aprendiendo nuevos métodos de imputación de nulos pero en este caso usaremos la librería `sklearn`. \n"
   ]
  },
  {
   "cell_type": "markdown",
   "metadata": {},
   "source": [
    "En Python tenemos la librería `sklearn` que nos proporciona una serie de herramientas para el manejo de los valores nulos. \n",
    "\n",
    "Algunos de los métodos que nos podemos encontrar son: \n",
    "\n",
    "- Simple-Imputer\n",
    "\n",
    "\n",
    "- KNN-Imputer \n",
    "\n",
    "\n",
    "- Interative\n",
    "\n",
    "\n",
    "Lo primero que tendremos que hacer es instalar `sklearn`\n",
    "\n",
    "```\n",
    "pip install sklearn\n",
    "```"
   ]
  },
  {
   "cell_type": "code",
   "execution_count": 2,
   "metadata": {},
   "outputs": [
    {
     "data": {
      "text/html": [
       "<div>\n",
       "<style scoped>\n",
       "    .dataframe tbody tr th:only-of-type {\n",
       "        vertical-align: middle;\n",
       "    }\n",
       "\n",
       "    .dataframe tbody tr th {\n",
       "        vertical-align: top;\n",
       "    }\n",
       "\n",
       "    .dataframe thead th {\n",
       "        text-align: right;\n",
       "    }\n",
       "</style>\n",
       "<table border=\"1\" class=\"dataframe\">\n",
       "  <thead>\n",
       "    <tr style=\"text-align: right;\">\n",
       "      <th></th>\n",
       "      <th>appid</th>\n",
       "      <th>name</th>\n",
       "      <th>release_date</th>\n",
       "      <th>english</th>\n",
       "      <th>developer</th>\n",
       "      <th>publisher</th>\n",
       "      <th>platforms</th>\n",
       "      <th>required_age</th>\n",
       "      <th>categories</th>\n",
       "      <th>genres</th>\n",
       "      <th>steamspy_tags</th>\n",
       "      <th>achievements</th>\n",
       "      <th>positive_ratings</th>\n",
       "      <th>negative_ratings</th>\n",
       "      <th>average_playtime</th>\n",
       "      <th>median_playtime</th>\n",
       "      <th>owners</th>\n",
       "      <th>price</th>\n",
       "      <th>clasificacion</th>\n",
       "    </tr>\n",
       "  </thead>\n",
       "  <tbody>\n",
       "    <tr>\n",
       "      <th>0</th>\n",
       "      <td>10.0</td>\n",
       "      <td>Counter-Strike</td>\n",
       "      <td>2000-11-01</td>\n",
       "      <td>Yes</td>\n",
       "      <td>Valve</td>\n",
       "      <td>Valve</td>\n",
       "      <td>windows;mac;linux</td>\n",
       "      <td>0.0</td>\n",
       "      <td>Multi-player;Online Multi-Player;Local Multi-P...</td>\n",
       "      <td>Action</td>\n",
       "      <td>Action;FPS;Multiplayer</td>\n",
       "      <td>0</td>\n",
       "      <td>124534.0</td>\n",
       "      <td>3339.0</td>\n",
       "      <td>17612</td>\n",
       "      <td>317</td>\n",
       "      <td>10000000-20000000</td>\n",
       "      <td>7.19</td>\n",
       "      <td>Good</td>\n",
       "    </tr>\n",
       "    <tr>\n",
       "      <th>1</th>\n",
       "      <td>20.0</td>\n",
       "      <td>Team Fortress Classic</td>\n",
       "      <td>1999-04-01</td>\n",
       "      <td>Yes</td>\n",
       "      <td>Valve</td>\n",
       "      <td>Valve</td>\n",
       "      <td>windows;mac;linux</td>\n",
       "      <td>0.0</td>\n",
       "      <td>Multi-player;Online Multi-Player;Local Multi-P...</td>\n",
       "      <td>Action</td>\n",
       "      <td>Action;FPS;Multiplayer</td>\n",
       "      <td>0</td>\n",
       "      <td>3318.0</td>\n",
       "      <td>NaN</td>\n",
       "      <td>277</td>\n",
       "      <td>62</td>\n",
       "      <td>5000000-10000000</td>\n",
       "      <td>3.99</td>\n",
       "      <td>Good</td>\n",
       "    </tr>\n",
       "  </tbody>\n",
       "</table>\n",
       "</div>"
      ],
      "text/plain": [
       "   appid                   name release_date english developer publisher  \\\n",
       "0   10.0         Counter-Strike   2000-11-01     Yes     Valve     Valve   \n",
       "1   20.0  Team Fortress Classic   1999-04-01     Yes     Valve     Valve   \n",
       "\n",
       "           platforms  required_age  \\\n",
       "0  windows;mac;linux           0.0   \n",
       "1  windows;mac;linux           0.0   \n",
       "\n",
       "                                          categories  genres  \\\n",
       "0  Multi-player;Online Multi-Player;Local Multi-P...  Action   \n",
       "1  Multi-player;Online Multi-Player;Local Multi-P...  Action   \n",
       "\n",
       "            steamspy_tags  achievements  positive_ratings  negative_ratings  \\\n",
       "0  Action;FPS;Multiplayer             0          124534.0            3339.0   \n",
       "1  Action;FPS;Multiplayer             0            3318.0               NaN   \n",
       "\n",
       "   average_playtime  median_playtime             owners  price clasificacion  \n",
       "0             17612              317  10000000-20000000   7.19          Good  \n",
       "1               277               62   5000000-10000000   3.99          Good  "
      ]
     },
     "execution_count": 2,
     "metadata": {},
     "output_type": "execute_result"
    }
   ],
   "source": [
    "#  Volveremos a usar el mismo dataset que usamos en la lección de limpieza IV.\n",
    "#  Lo primero que haremos será cargarlo:\n",
    "df = pd.read_csv(\"datos/steam_con_nulos.csv\", index_col = 0)\n",
    "df.head(2)"
   ]
  },
  {
   "cell_type": "code",
   "execution_count": 3,
   "metadata": {},
   "outputs": [
    {
     "data": {
      "text/html": [
       "<div>\n",
       "<style scoped>\n",
       "    .dataframe tbody tr th:only-of-type {\n",
       "        vertical-align: middle;\n",
       "    }\n",
       "\n",
       "    .dataframe tbody tr th {\n",
       "        vertical-align: top;\n",
       "    }\n",
       "\n",
       "    .dataframe thead th {\n",
       "        text-align: right;\n",
       "    }\n",
       "</style>\n",
       "<table border=\"1\" class=\"dataframe\">\n",
       "  <thead>\n",
       "    <tr style=\"text-align: right;\">\n",
       "      <th></th>\n",
       "      <th>columna</th>\n",
       "      <th>porcentaje</th>\n",
       "    </tr>\n",
       "  </thead>\n",
       "  <tbody>\n",
       "    <tr>\n",
       "      <th>0</th>\n",
       "      <td>appid</td>\n",
       "      <td>0.999373</td>\n",
       "    </tr>\n",
       "    <tr>\n",
       "      <th>1</th>\n",
       "      <td>name</td>\n",
       "      <td>0.999373</td>\n",
       "    </tr>\n",
       "    <tr>\n",
       "      <th>2</th>\n",
       "      <td>release_date</td>\n",
       "      <td>0.099569</td>\n",
       "    </tr>\n",
       "    <tr>\n",
       "      <th>3</th>\n",
       "      <td>english</td>\n",
       "      <td>0.000000</td>\n",
       "    </tr>\n",
       "    <tr>\n",
       "      <th>4</th>\n",
       "      <td>developer</td>\n",
       "      <td>10.001106</td>\n",
       "    </tr>\n",
       "    <tr>\n",
       "      <th>5</th>\n",
       "      <td>publisher</td>\n",
       "      <td>10.001106</td>\n",
       "    </tr>\n",
       "    <tr>\n",
       "      <th>6</th>\n",
       "      <td>platforms</td>\n",
       "      <td>0.000000</td>\n",
       "    </tr>\n",
       "    <tr>\n",
       "      <th>7</th>\n",
       "      <td>required_age</td>\n",
       "      <td>3.001807</td>\n",
       "    </tr>\n",
       "    <tr>\n",
       "      <th>8</th>\n",
       "      <td>categories</td>\n",
       "      <td>0.099569</td>\n",
       "    </tr>\n",
       "    <tr>\n",
       "      <th>9</th>\n",
       "      <td>genres</td>\n",
       "      <td>0.000000</td>\n",
       "    </tr>\n",
       "    <tr>\n",
       "      <th>10</th>\n",
       "      <td>steamspy_tags</td>\n",
       "      <td>0.601099</td>\n",
       "    </tr>\n",
       "    <tr>\n",
       "      <th>11</th>\n",
       "      <td>achievements</td>\n",
       "      <td>0.000000</td>\n",
       "    </tr>\n",
       "    <tr>\n",
       "      <th>12</th>\n",
       "      <td>positive_ratings</td>\n",
       "      <td>5.000553</td>\n",
       "    </tr>\n",
       "    <tr>\n",
       "      <th>13</th>\n",
       "      <td>negative_ratings</td>\n",
       "      <td>5.000553</td>\n",
       "    </tr>\n",
       "    <tr>\n",
       "      <th>14</th>\n",
       "      <td>average_playtime</td>\n",
       "      <td>0.000000</td>\n",
       "    </tr>\n",
       "    <tr>\n",
       "      <th>15</th>\n",
       "      <td>median_playtime</td>\n",
       "      <td>0.000000</td>\n",
       "    </tr>\n",
       "    <tr>\n",
       "      <th>16</th>\n",
       "      <td>owners</td>\n",
       "      <td>5.000553</td>\n",
       "    </tr>\n",
       "    <tr>\n",
       "      <th>17</th>\n",
       "      <td>price</td>\n",
       "      <td>0.099569</td>\n",
       "    </tr>\n",
       "    <tr>\n",
       "      <th>18</th>\n",
       "      <td>clasificacion</td>\n",
       "      <td>0.000000</td>\n",
       "    </tr>\n",
       "  </tbody>\n",
       "</table>\n",
       "</div>"
      ],
      "text/plain": [
       "             columna  porcentaje\n",
       "0              appid    0.999373\n",
       "1               name    0.999373\n",
       "2       release_date    0.099569\n",
       "3            english    0.000000\n",
       "4          developer   10.001106\n",
       "5          publisher   10.001106\n",
       "6          platforms    0.000000\n",
       "7       required_age    3.001807\n",
       "8         categories    0.099569\n",
       "9             genres    0.000000\n",
       "10     steamspy_tags    0.601099\n",
       "11      achievements    0.000000\n",
       "12  positive_ratings    5.000553\n",
       "13  negative_ratings    5.000553\n",
       "14  average_playtime    0.000000\n",
       "15   median_playtime    0.000000\n",
       "16            owners    5.000553\n",
       "17             price    0.099569\n",
       "18     clasificacion    0.000000"
      ]
     },
     "execution_count": 3,
     "metadata": {},
     "output_type": "execute_result"
    }
   ],
   "source": [
    "# como en este jupyter vamos a trabajar con nulos, lo primero que vamos a hacer es calcular el porcentaje de nulos \n",
    "## que tenemos en nuestro dataframe\n",
    "\n",
    "nulos = pd.DataFrame((df.isnull().sum() * 100) / df.shape[0]).reset_index()\n",
    "nulos.columns = [\"columna\", \"porcentaje\"]\n",
    "nulos"
   ]
  },
  {
   "cell_type": "markdown",
   "metadata": {},
   "source": [
    "# Simple-Imputer \n",
    "\n",
    "SimpleImputer proporciona estrategias básicas para la imputación de valores nulos. Los valores perdidos se pueden imputar con un valor constante proporcionado, o utilizando los estadísticos (media, mediana o más frecuente) de cada columna en la que se encuentran los valores perdidos. \n",
    "\n",
    "\n",
    "\n",
    "Su sintaxis es: \n",
    "\n",
    "```python\n",
    "SimpleImputer(missing_values=nan, strategy='mean',  verbose=0, copy=True)\n",
    "```\n",
    "\n",
    "Donde: \n",
    "\n",
    "- `missing_values`: int, float, str, np.nan o None, default=np.nan. Para indicar como están casteados nuestros valores nulos. \n",
    "\n",
    "\n",
    "- `strategy`: es *string*, por defecto 'mean'\n",
    "\n",
    "    - Si es \"mean\", se sustituyen los valores perdidos utilizando la media de cada columna. Sólo puede utilizarse con datos numéricos.\n",
    "\n",
    "    - Si es \"median\", entonces se reemplazan los valores perdidos usando la mediana a lo largo de cada columna. Sólo puede utilizarse con datos numéricos.\n",
    "\n",
    "    - Si es \"most_frequent\", sustituye los valores perdidos por el valor más frecuente en cada columna. Puede utilizarse con *strings* o datos numéricos. Si hay más de un valor de este tipo, sólo se devuelve el más pequeño.\n",
    "\n",
    "    - Si es \"constant\", entonces reemplaza los valores faltantes con fill_value. Puede utilizarse con *strings* o datos numéricos.\n",
    "\n",
    "\n",
    "- `verbose`: *integer*, por defecto 0. Para mostrar la salida del registro. \n",
    "\n",
    "\n",
    "- `copy`: bool, por defecto True\n",
    "\n",
    "    - Si es True, se creará una copia de la columna. \n",
    "    \n",
    "    - Si es False, la imputación se hará *in situ* siempre que sea posible.\n",
    "\n",
    "\n",
    "Para utilizar este método tendremos importar la siguiente librería\n",
    "\n",
    "\n",
    "```python\n",
    "from sklearn.impute import SimpleImputer\n",
    "```\n",
    "\n",
    "> Tenemos que tener en cuenta que tanto las funciones `.fit()` como `.transform()` esperan un array 2D, así que nos tenemos que asegurar de pasar un *array* o *dataframe* 2D. Si pasas un array 1D o una Serie Pandas, tendremos un error."
   ]
  },
  {
   "cell_type": "code",
   "execution_count": 4,
   "metadata": {},
   "outputs": [],
   "source": [
    "# Para poder hacer la imputación simple\n",
    "\n",
    "from sklearn.impute import SimpleImputer"
   ]
  },
  {
   "cell_type": "markdown",
   "metadata": {},
   "source": [
    "Lo primero que tenemos que hacer es iniciar el método, donde especificaremos porque queremos reemplazar los nulos. Dejo el parámetro `copy` por defecto, es decir, en True para que nos aplique los cambios en la misma columna. "
   ]
  },
  {
   "cell_type": "code",
   "execution_count": 5,
   "metadata": {},
   "outputs": [],
   "source": [
    "imputer = SimpleImputer(strategy='mean', missing_values=np.nan)"
   ]
  },
  {
   "cell_type": "markdown",
   "metadata": {},
   "source": [
    "Una vez creada la instancia, se utiliza la función `.fit()` para ajustar el imputer en la(s) columna(s) sobre las que se quiere trabajar, en nuestro caso lo haemos solo sobre la columna `price`"
   ]
  },
  {
   "cell_type": "code",
   "execution_count": 6,
   "metadata": {},
   "outputs": [],
   "source": [
    "imputer = imputer.fit(df[['price']])"
   ]
  },
  {
   "cell_type": "markdown",
   "metadata": {},
   "source": [
    "Ahora podemos utilizar la función `.transform()` para rellenar los valores que faltan basándose en la estrategia que especificamos en el inicializador de la clase SimpleImputer. \n",
    "\n",
    "En este caso vamos a crear una nueva columna que se llama `price_simple_mean`. "
   ]
  },
  {
   "cell_type": "code",
   "execution_count": 7,
   "metadata": {},
   "outputs": [],
   "source": [
    "df['price_simple_mean'] = imputer.transform(df[['price']])"
   ]
  },
  {
   "cell_type": "code",
   "execution_count": 8,
   "metadata": {},
   "outputs": [
    {
     "data": {
      "text/plain": [
       "appid                 271\n",
       "name                  271\n",
       "release_date           27\n",
       "english                 0\n",
       "developer            2712\n",
       "publisher            2712\n",
       "platforms               0\n",
       "required_age          814\n",
       "categories             27\n",
       "genres                  0\n",
       "steamspy_tags         163\n",
       "achievements            0\n",
       "positive_ratings     1356\n",
       "negative_ratings     1356\n",
       "average_playtime        0\n",
       "median_playtime         0\n",
       "owners               1356\n",
       "price                  27\n",
       "clasificacion           0\n",
       "price_simple_mean       0\n",
       "dtype: int64"
      ]
     },
     "execution_count": 8,
     "metadata": {},
     "output_type": "execute_result"
    }
   ],
   "source": [
    "# si chequeamos ahora los valores nulos veremos que ya no tenemos en la columna `price_simple_mean` y veremos que \n",
    "## no tiene ningún nulo. \n",
    "\n",
    "df.isnull().sum()"
   ]
  },
  {
   "cell_type": "markdown",
   "metadata": {},
   "source": [
    "**NOTA** Si quisieramos aplicar el método a varias columnas tendríamos que seguir la siguiente sintaxis: \n",
    "\n",
    "```python\n",
    "df[['col1','col2']] = imputer.transform(df[['col1','col2']])\n",
    "```\n",
    "\n",
    "Este método puede tener muchas variaciones, en [este](https://towardsdatascience.com/imputing-missing-values-using-the-simpleimputer-class-in-sklearn-99706afaff46) artículo tenéis más casos donde podríamos aplicar este método. "
   ]
  },
  {
   "cell_type": "markdown",
   "metadata": {},
   "source": [
    "#  Iterative-Imputer\n",
    "\n",
    "Un enfoque más sofisticado es utilizar la clase IterativeImputer, que modela cada característica con valores perdidos como una función de otras variables, y utiliza esa estimación para la imputación. Lo hace de forma iterada: en cada paso, una columna se designa como salida(como variable que queremos predecir)  y las otras columnas se tratan como entradas X (como predictoras, es decir, las que nos van a ayudar a predecir los valores nulos de la columna que queremos). Se ajusta un regresor en (X, y). Se devuelven los resultados de la última ronda de imputación.\n",
    "\n",
    "El IterativeImputer utiliza los datos disponibles en otras columnas con el fin de estimar los valores nulos que se imputan o queremos quitar.\n",
    "\n",
    "La sintaxis en este caso sería: \n",
    "```python\n",
    "IterativeImputer(estimator=None, missing_values=nan,  max_iter=10, tol=0.001, n_nearest_features=None, initial_strategy=mean, imputation_order=ascending, verbose=0, random_state=None)\n",
    "```\n",
    "\n",
    "Donde: \n",
    "\n",
    "- `estimator`: por defecto BayesianRidge(). Es el estimador a utilizar en cada paso de la imputación. \n",
    "\n",
    "\n",
    "- `missing_values`: *integer* o np.nan. Por defeccto np.nan. Que tipo de datos son nuestros nulos. Todas las ocurrencias de missing_values serán imputadas. \n",
    "\n",
    "\n",
    "- `max_iter`: *integer*. Por defecto 10. Número máximo de rondas de imputación a realizar antes de devolver las imputaciones calculadas durante la ronda final. \n",
    "\n",
    "\n",
    "- `tol`: float. Por defecto 1e-3. Tolerancia de la condición de parada.\n",
    "\n",
    "\n",
    "- `n_nearest_features`:  *integer*. Por defecto None. Número de columnas a utilizar para estimar los valores nulos de cada columna. La cercanía entre características se mide utilizando el coeficiente de correlación absoluta entre cada par de columnas (después de la imputación inicial). Para garantizar la cobertura de las características a lo largo del proceso de imputación, las columnas vecinas no son necesariamente las más cercanas, sino que se extraen con una probabilidad proporcional a la correlación para cada columna objetivo imputada. Puede proporcionar una velocidad significativa cuando el número de columnas es enorme. \n",
    "\n",
    "    - Si es None, se utilizarán todas las características.\n",
    "\n",
    "- `initial_strategy`: *string* . Por defecto media. El estadístico que se utilizará para reemplazar los valores perdidos. Puede ser: \n",
    "\n",
    "     - mean\n",
    "     - median\n",
    "     - most_frequent\n",
    "     - constant\n",
    "\n",
    "\n",
    "- `imputation_order`: por defecto ascendente. El orden en el que se imputarán las características. Puede ser: \n",
    "\n",
    "\n",
    "    - ascendente: de las columnas con menos valores nulos a la mayoría.\n",
    "\n",
    "    - descendente: de las columnas con más valores nulos a las menos.\n",
    "\n",
    "    - romano: de izquierda a derecha.\n",
    "\n",
    "    - árabe: de derecha a izquierda.\n",
    "\n",
    "    - aleatorio: un orden aleatorio para cada ronda.\n",
    "\n",
    "\n",
    "Necesitaremos importar: \n",
    "\n",
    "```python\n",
    "\n",
    "# NOTA: Este estimador es todavía experimental por ahora. Para utilizarlo, es necesario importar explícitamente enable_iterative_impute\n",
    "from sklearn.experimental import enable_iterative_imputer\n",
    "from sklearn.impute import IterativeImputer\n",
    "```\n",
    "\n",
    "📌 **NOTA**: este método solo lo podemos usar con variables numéricas. "
   ]
  },
  {
   "cell_type": "code",
   "execution_count": 9,
   "metadata": {},
   "outputs": [],
   "source": [
    "from sklearn.experimental import enable_iterative_imputer\n",
    "from sklearn.impute import IterativeImputer"
   ]
  },
  {
   "cell_type": "markdown",
   "metadata": {},
   "source": [
    "Lo primero que vamos a hacer es sacar las variables numéricas usando el método `select_dtypes` para luego chequear cuáles de ellas tienen valores nulos. "
   ]
  },
  {
   "cell_type": "code",
   "execution_count": 10,
   "metadata": {},
   "outputs": [],
   "source": [
    "numericas = df.select_dtypes(include = np.number)"
   ]
  },
  {
   "cell_type": "code",
   "execution_count": 11,
   "metadata": {},
   "outputs": [
    {
     "data": {
      "text/plain": [
       "appid                 271\n",
       "required_age          814\n",
       "achievements            0\n",
       "positive_ratings     1356\n",
       "negative_ratings     1356\n",
       "average_playtime        0\n",
       "median_playtime         0\n",
       "price                  27\n",
       "price_simple_mean       0\n",
       "dtype: int64"
      ]
     },
     "execution_count": 11,
     "metadata": {},
     "output_type": "execute_result"
    }
   ],
   "source": [
    "numericas.isnull().sum()"
   ]
  },
  {
   "cell_type": "code",
   "execution_count": 12,
   "metadata": {},
   "outputs": [],
   "source": [
    "# creamos una instancia del método Iterative Imputer con las características que queremos \n",
    "imputer = IterativeImputer(n_nearest_features=None, imputation_order='ascending')"
   ]
  },
  {
   "cell_type": "code",
   "execution_count": 13,
   "metadata": {},
   "outputs": [
    {
     "data": {
      "text/plain": [
       "IterativeImputer()"
      ]
     },
     "execution_count": 13,
     "metadata": {},
     "output_type": "execute_result"
    }
   ],
   "source": [
    "# lo aplicamos sobre nuestras variables numéricas. \n",
    "\n",
    "imputer.fit(numericas)\n"
   ]
  },
  {
   "cell_type": "code",
   "execution_count": 14,
   "metadata": {},
   "outputs": [
    {
     "data": {
      "text/plain": [
       "array([[1.0000e+01, 0.0000e+00, 0.0000e+00, ..., 3.1700e+02, 7.1900e+00,\n",
       "        7.1900e+00],\n",
       "       [2.0000e+01, 0.0000e+00, 0.0000e+00, ..., 6.2000e+01, 3.9900e+00,\n",
       "        3.9900e+00],\n",
       "       [3.0000e+01, 0.0000e+00, 0.0000e+00, ..., 3.4000e+01, 3.9900e+00,\n",
       "        3.9900e+00],\n",
       "       ...,\n",
       "       [3.7557e+05, 0.0000e+00, 8.0000e+00, ..., 0.0000e+00, 3.9900e+00,\n",
       "        3.9900e+00],\n",
       "       [8.6533e+05, 0.0000e+00, 0.0000e+00, ..., 0.0000e+00, 4.7900e+00,\n",
       "        4.7900e+00],\n",
       "       [2.6079e+05, 0.0000e+00, 2.5000e+01, ..., 2.1500e+02, 9.9900e+00,\n",
       "        9.9900e+00]])"
      ]
     },
     "execution_count": 14,
     "metadata": {},
     "output_type": "execute_result"
    }
   ],
   "source": [
    "# transformamos nuestros datos, para que se reemplacen los valores nulos usando \"transform\". \n",
    "## ⚠️ Esto nos va a devolver un array!\n",
    "\n",
    "imputer.transform(numericas)"
   ]
  },
  {
   "cell_type": "code",
   "execution_count": 15,
   "metadata": {},
   "outputs": [],
   "source": [
    "# convertimos el array que nos devuelve en un dataframe\n",
    "\n",
    "numericas_trans = pd.DataFrame(imputer.transform(numericas), columns = numericas.columns)"
   ]
  },
  {
   "cell_type": "code",
   "execution_count": 16,
   "metadata": {},
   "outputs": [
    {
     "data": {
      "text/html": [
       "<div>\n",
       "<style scoped>\n",
       "    .dataframe tbody tr th:only-of-type {\n",
       "        vertical-align: middle;\n",
       "    }\n",
       "\n",
       "    .dataframe tbody tr th {\n",
       "        vertical-align: top;\n",
       "    }\n",
       "\n",
       "    .dataframe thead th {\n",
       "        text-align: right;\n",
       "    }\n",
       "</style>\n",
       "<table border=\"1\" class=\"dataframe\">\n",
       "  <thead>\n",
       "    <tr style=\"text-align: right;\">\n",
       "      <th></th>\n",
       "      <th>appid</th>\n",
       "      <th>required_age</th>\n",
       "      <th>achievements</th>\n",
       "      <th>positive_ratings</th>\n",
       "      <th>negative_ratings</th>\n",
       "      <th>average_playtime</th>\n",
       "      <th>median_playtime</th>\n",
       "      <th>price</th>\n",
       "      <th>price_simple_mean</th>\n",
       "    </tr>\n",
       "  </thead>\n",
       "  <tbody>\n",
       "    <tr>\n",
       "      <th>0</th>\n",
       "      <td>10.0</td>\n",
       "      <td>0.0</td>\n",
       "      <td>0.0</td>\n",
       "      <td>124534.0</td>\n",
       "      <td>3339.00000</td>\n",
       "      <td>17612.0</td>\n",
       "      <td>317.0</td>\n",
       "      <td>7.19</td>\n",
       "      <td>7.19</td>\n",
       "    </tr>\n",
       "    <tr>\n",
       "      <th>1</th>\n",
       "      <td>20.0</td>\n",
       "      <td>0.0</td>\n",
       "      <td>0.0</td>\n",
       "      <td>3318.0</td>\n",
       "      <td>612.27702</td>\n",
       "      <td>277.0</td>\n",
       "      <td>62.0</td>\n",
       "      <td>3.99</td>\n",
       "      <td>3.99</td>\n",
       "    </tr>\n",
       "    <tr>\n",
       "      <th>2</th>\n",
       "      <td>30.0</td>\n",
       "      <td>0.0</td>\n",
       "      <td>0.0</td>\n",
       "      <td>3416.0</td>\n",
       "      <td>398.00000</td>\n",
       "      <td>187.0</td>\n",
       "      <td>34.0</td>\n",
       "      <td>3.99</td>\n",
       "      <td>3.99</td>\n",
       "    </tr>\n",
       "    <tr>\n",
       "      <th>3</th>\n",
       "      <td>40.0</td>\n",
       "      <td>0.0</td>\n",
       "      <td>0.0</td>\n",
       "      <td>1273.0</td>\n",
       "      <td>267.00000</td>\n",
       "      <td>258.0</td>\n",
       "      <td>184.0</td>\n",
       "      <td>3.99</td>\n",
       "      <td>3.99</td>\n",
       "    </tr>\n",
       "    <tr>\n",
       "      <th>4</th>\n",
       "      <td>50.0</td>\n",
       "      <td>0.0</td>\n",
       "      <td>0.0</td>\n",
       "      <td>5250.0</td>\n",
       "      <td>288.00000</td>\n",
       "      <td>624.0</td>\n",
       "      <td>415.0</td>\n",
       "      <td>3.99</td>\n",
       "      <td>3.99</td>\n",
       "    </tr>\n",
       "  </tbody>\n",
       "</table>\n",
       "</div>"
      ],
      "text/plain": [
       "   appid  required_age  achievements  positive_ratings  negative_ratings  \\\n",
       "0   10.0           0.0           0.0          124534.0        3339.00000   \n",
       "1   20.0           0.0           0.0            3318.0         612.27702   \n",
       "2   30.0           0.0           0.0            3416.0         398.00000   \n",
       "3   40.0           0.0           0.0            1273.0         267.00000   \n",
       "4   50.0           0.0           0.0            5250.0         288.00000   \n",
       "\n",
       "   average_playtime  median_playtime  price  price_simple_mean  \n",
       "0           17612.0            317.0   7.19               7.19  \n",
       "1             277.0             62.0   3.99               3.99  \n",
       "2             187.0             34.0   3.99               3.99  \n",
       "3             258.0            184.0   3.99               3.99  \n",
       "4             624.0            415.0   3.99               3.99  "
      ]
     },
     "execution_count": 16,
     "metadata": {},
     "output_type": "execute_result"
    }
   ],
   "source": [
    "numericas_trans.head()"
   ]
  },
  {
   "cell_type": "code",
   "execution_count": 17,
   "metadata": {},
   "outputs": [
    {
     "data": {
      "text/plain": [
       "appid                0\n",
       "required_age         0\n",
       "achievements         0\n",
       "positive_ratings     0\n",
       "negative_ratings     0\n",
       "average_playtime     0\n",
       "median_playtime      0\n",
       "price                0\n",
       "price_simple_mean    0\n",
       "dtype: int64"
      ]
     },
     "execution_count": 17,
     "metadata": {},
     "output_type": "execute_result"
    }
   ],
   "source": [
    "# perfecto, ya no tenemos ningún nulo! \n",
    "\n",
    "numericas_trans.isnull().sum()"
   ]
  },
  {
   "cell_type": "markdown",
   "metadata": {},
   "source": [
    "Ahora es momento de juntar el nuevo dataframe (numericas_trans) sin valores nulos con nuestro dataframe que todavía tiene nulos"
   ]
  },
  {
   "cell_type": "code",
   "execution_count": 18,
   "metadata": {},
   "outputs": [],
   "source": [
    "# lo primero que hacemos es sacar el nombre de las columnas del dataframe sin nulos\n",
    "\n",
    "columnas = numericas_trans.columns"
   ]
  },
  {
   "cell_type": "code",
   "execution_count": 19,
   "metadata": {},
   "outputs": [],
   "source": [
    "# utilizando \"columnas\" eliminamos esas columnas de nuestro dataframe\n",
    "\n",
    "df.drop(columnas, axis = 1, inplace = True)"
   ]
  },
  {
   "cell_type": "code",
   "execution_count": 20,
   "metadata": {},
   "outputs": [],
   "source": [
    "# creamos nuevas columnas en nuestro dataframe original basándonos en el dataframe de las numericas_trans\n",
    "\n",
    "df[columnas] = numericas_trans[columnas]"
   ]
  },
  {
   "cell_type": "code",
   "execution_count": 21,
   "metadata": {},
   "outputs": [
    {
     "data": {
      "text/plain": [
       "name                  271\n",
       "release_date           27\n",
       "english                 0\n",
       "developer            2712\n",
       "publisher            2712\n",
       "platforms               0\n",
       "categories             27\n",
       "genres                  0\n",
       "steamspy_tags         163\n",
       "owners               1356\n",
       "clasificacion           0\n",
       "appid                   0\n",
       "required_age            0\n",
       "achievements            0\n",
       "positive_ratings        0\n",
       "negative_ratings        0\n",
       "average_playtime        0\n",
       "median_playtime         0\n",
       "price                   0\n",
       "price_simple_mean       0\n",
       "dtype: int64"
      ]
     },
     "execution_count": 21,
     "metadata": {},
     "output_type": "execute_result"
    }
   ],
   "source": [
    "# chequeamos los nulos. Perfecto! Ya no tenemos ninguno. \n",
    "\n",
    "df.isnull().sum()"
   ]
  },
  {
   "cell_type": "markdown",
   "metadata": {},
   "source": [
    "\n",
    "# KNN Imputer\n",
    ">**Solo lo podremos usar para variables numericas o de formato fecha.** \n",
    "\n",
    "Entendamos un poco que esto del KNN antes de seguir. \n",
    "\n",
    "Imaginemos que tenemos una variable con dos categorías representadas como vemos aquí: \n",
    "\n",
    "![image](https://github.com/Adalab/data_imagenes/blob/main/Modulo-2/Limpieza/knn.png?raw=true)\n",
    "\n",
    "\n",
    "Ante una muestra nueva, ¿Cómo se puede saber a qué grupo pertenece? Bueno, naturalmente, se mirarían los puntos circundantes. Pero el resultado dependería mucho de la distancia a la que se mire. \n",
    "\n",
    "- Si miramos a los 3 más cercanos (círculo sólido), el punto verde pertenecería a los triángulos rojos. \n",
    "\n",
    "- Pero si miramos más lejos, (el círculo discontinuo) el punto se clasificaría como un cuadrado azul.\n",
    "\n",
    "\n",
    "kNN funciona de la misma manera. Según el valor de k, el algoritmo clasifica las nuevas muestras por el voto mayoritario de los k vecinos más cercanos en la clasificación. Para la regresión, que predice el valor numérico real de una nueva muestra, el algoritmo toma la media de los k vecinos más cercanos. \n",
    "KNNImputer es una versión ligeramente modificada del algoritmo en la que trata de predecir el valor numérico nulo promediando las distancias entre sus k vecinos más cercanos.\n",
    "\n",
    "\n",
    "Basicamente lo que hace este método es :\n",
    "\n",
    "- Medir la distancia entre cada punto y las N-muestras más cercanas (especificado como el parámetro `n_neighbours`)\n",
    "\n",
    "\n",
    "- Basándose en su(s) vecino(s) más cercano(s), tomará el valor medio de los N vecinos no nulos más cercanos al valor que falta.\n",
    "\n",
    "\n",
    "Para poder usar este método tendremos que importar el KNNImputer. \n",
    "\n",
    "```python\n",
    "from sklearn.impute import KNNImputer\n",
    "```"
   ]
  },
  {
   "cell_type": "code",
   "execution_count": 22,
   "metadata": {},
   "outputs": [],
   "source": [
    "from sklearn.impute import KNNImputer"
   ]
  },
  {
   "cell_type": "code",
   "execution_count": 24,
   "metadata": {},
   "outputs": [
    {
     "data": {
      "text/html": [
       "<div>\n",
       "<style scoped>\n",
       "    .dataframe tbody tr th:only-of-type {\n",
       "        vertical-align: middle;\n",
       "    }\n",
       "\n",
       "    .dataframe tbody tr th {\n",
       "        vertical-align: top;\n",
       "    }\n",
       "\n",
       "    .dataframe thead th {\n",
       "        text-align: right;\n",
       "    }\n",
       "</style>\n",
       "<table border=\"1\" class=\"dataframe\">\n",
       "  <thead>\n",
       "    <tr style=\"text-align: right;\">\n",
       "      <th></th>\n",
       "      <th>name</th>\n",
       "      <th>release_date</th>\n",
       "      <th>english</th>\n",
       "      <th>developer</th>\n",
       "      <th>publisher</th>\n",
       "      <th>platforms</th>\n",
       "      <th>categories</th>\n",
       "      <th>genres</th>\n",
       "      <th>steamspy_tags</th>\n",
       "      <th>owners</th>\n",
       "      <th>clasificacion</th>\n",
       "      <th>appid</th>\n",
       "      <th>required_age</th>\n",
       "      <th>achievements</th>\n",
       "      <th>positive_ratings</th>\n",
       "      <th>negative_ratings</th>\n",
       "      <th>average_playtime</th>\n",
       "      <th>median_playtime</th>\n",
       "      <th>price</th>\n",
       "      <th>price_simple_mean</th>\n",
       "    </tr>\n",
       "  </thead>\n",
       "  <tbody>\n",
       "    <tr>\n",
       "      <th>0</th>\n",
       "      <td>Counter-Strike</td>\n",
       "      <td>2000-11-01</td>\n",
       "      <td>Yes</td>\n",
       "      <td>Valve</td>\n",
       "      <td>Valve</td>\n",
       "      <td>windows;mac;linux</td>\n",
       "      <td>Multi-player;Online Multi-Player;Local Multi-P...</td>\n",
       "      <td>Action</td>\n",
       "      <td>Action;FPS;Multiplayer</td>\n",
       "      <td>10000000-20000000</td>\n",
       "      <td>Good</td>\n",
       "      <td>10.0</td>\n",
       "      <td>0.0</td>\n",
       "      <td>0.0</td>\n",
       "      <td>124534.0</td>\n",
       "      <td>3339.00000</td>\n",
       "      <td>17612.0</td>\n",
       "      <td>317.0</td>\n",
       "      <td>7.19</td>\n",
       "      <td>7.19</td>\n",
       "    </tr>\n",
       "    <tr>\n",
       "      <th>1</th>\n",
       "      <td>Team Fortress Classic</td>\n",
       "      <td>1999-04-01</td>\n",
       "      <td>Yes</td>\n",
       "      <td>Valve</td>\n",
       "      <td>Valve</td>\n",
       "      <td>windows;mac;linux</td>\n",
       "      <td>Multi-player;Online Multi-Player;Local Multi-P...</td>\n",
       "      <td>Action</td>\n",
       "      <td>Action;FPS;Multiplayer</td>\n",
       "      <td>5000000-10000000</td>\n",
       "      <td>Good</td>\n",
       "      <td>20.0</td>\n",
       "      <td>0.0</td>\n",
       "      <td>0.0</td>\n",
       "      <td>3318.0</td>\n",
       "      <td>612.27702</td>\n",
       "      <td>277.0</td>\n",
       "      <td>62.0</td>\n",
       "      <td>3.99</td>\n",
       "      <td>3.99</td>\n",
       "    </tr>\n",
       "  </tbody>\n",
       "</table>\n",
       "</div>"
      ],
      "text/plain": [
       "                    name release_date english developer publisher  \\\n",
       "0         Counter-Strike   2000-11-01     Yes     Valve     Valve   \n",
       "1  Team Fortress Classic   1999-04-01     Yes     Valve     Valve   \n",
       "\n",
       "           platforms                                         categories  \\\n",
       "0  windows;mac;linux  Multi-player;Online Multi-Player;Local Multi-P...   \n",
       "1  windows;mac;linux  Multi-player;Online Multi-Player;Local Multi-P...   \n",
       "\n",
       "   genres           steamspy_tags             owners clasificacion  appid  \\\n",
       "0  Action  Action;FPS;Multiplayer  10000000-20000000          Good   10.0   \n",
       "1  Action  Action;FPS;Multiplayer   5000000-10000000          Good   20.0   \n",
       "\n",
       "   required_age  achievements  positive_ratings  negative_ratings  \\\n",
       "0           0.0           0.0          124534.0        3339.00000   \n",
       "1           0.0           0.0            3318.0         612.27702   \n",
       "\n",
       "   average_playtime  median_playtime  price  price_simple_mean  \n",
       "0           17612.0            317.0   7.19               7.19  \n",
       "1             277.0             62.0   3.99               3.99  "
      ]
     },
     "execution_count": 24,
     "metadata": {},
     "output_type": "execute_result"
    }
   ],
   "source": [
    "df.head(2)"
   ]
  },
  {
   "cell_type": "code",
   "execution_count": 25,
   "metadata": {},
   "outputs": [
    {
     "data": {
      "text/plain": [
       "KNNImputer()"
      ]
     },
     "execution_count": 25,
     "metadata": {},
     "output_type": "execute_result"
    }
   ],
   "source": [
    "# inciamos el KNNImputer y lo aplicamos a nuestras variables numéricas\n",
    "\n",
    "imputerKNN = KNNImputer(n_neighbors=5)\n",
    "imputerKNN.fit(numericas)"
   ]
  },
  {
   "cell_type": "code",
   "execution_count": 26,
   "metadata": {},
   "outputs": [],
   "source": [
    "# aplicamos el método a nuestras variables y lo almacenamos en una variable\n",
    "# ⚠️ Igual que en el IterativeImputer nos devuelve un array\n",
    "\n",
    "numericas_knn= imputerKNN.transform(numericas)"
   ]
  },
  {
   "cell_type": "code",
   "execution_count": 27,
   "metadata": {},
   "outputs": [],
   "source": [
    "# convertimos el array a un dataframe\n",
    "\n",
    "df_knn_imputer = pd.DataFrame(numericas_knn, columns = numericas.columns)"
   ]
  },
  {
   "cell_type": "code",
   "execution_count": 28,
   "metadata": {},
   "outputs": [
    {
     "data": {
      "text/html": [
       "<div>\n",
       "<style scoped>\n",
       "    .dataframe tbody tr th:only-of-type {\n",
       "        vertical-align: middle;\n",
       "    }\n",
       "\n",
       "    .dataframe tbody tr th {\n",
       "        vertical-align: top;\n",
       "    }\n",
       "\n",
       "    .dataframe thead th {\n",
       "        text-align: right;\n",
       "    }\n",
       "</style>\n",
       "<table border=\"1\" class=\"dataframe\">\n",
       "  <thead>\n",
       "    <tr style=\"text-align: right;\">\n",
       "      <th></th>\n",
       "      <th>appid</th>\n",
       "      <th>required_age</th>\n",
       "      <th>achievements</th>\n",
       "      <th>positive_ratings</th>\n",
       "      <th>negative_ratings</th>\n",
       "      <th>average_playtime</th>\n",
       "      <th>median_playtime</th>\n",
       "      <th>price</th>\n",
       "      <th>price_simple_mean</th>\n",
       "    </tr>\n",
       "  </thead>\n",
       "  <tbody>\n",
       "    <tr>\n",
       "      <th>0</th>\n",
       "      <td>10.0</td>\n",
       "      <td>0.0</td>\n",
       "      <td>0.0</td>\n",
       "      <td>124534.0</td>\n",
       "      <td>3339.0</td>\n",
       "      <td>17612.0</td>\n",
       "      <td>317.0</td>\n",
       "      <td>7.19</td>\n",
       "      <td>7.19</td>\n",
       "    </tr>\n",
       "    <tr>\n",
       "      <th>1</th>\n",
       "      <td>20.0</td>\n",
       "      <td>0.0</td>\n",
       "      <td>0.0</td>\n",
       "      <td>3318.0</td>\n",
       "      <td>246.6</td>\n",
       "      <td>277.0</td>\n",
       "      <td>62.0</td>\n",
       "      <td>3.99</td>\n",
       "      <td>3.99</td>\n",
       "    </tr>\n",
       "    <tr>\n",
       "      <th>2</th>\n",
       "      <td>30.0</td>\n",
       "      <td>0.0</td>\n",
       "      <td>0.0</td>\n",
       "      <td>3416.0</td>\n",
       "      <td>398.0</td>\n",
       "      <td>187.0</td>\n",
       "      <td>34.0</td>\n",
       "      <td>3.99</td>\n",
       "      <td>3.99</td>\n",
       "    </tr>\n",
       "    <tr>\n",
       "      <th>3</th>\n",
       "      <td>40.0</td>\n",
       "      <td>0.0</td>\n",
       "      <td>0.0</td>\n",
       "      <td>1273.0</td>\n",
       "      <td>267.0</td>\n",
       "      <td>258.0</td>\n",
       "      <td>184.0</td>\n",
       "      <td>3.99</td>\n",
       "      <td>3.99</td>\n",
       "    </tr>\n",
       "    <tr>\n",
       "      <th>4</th>\n",
       "      <td>50.0</td>\n",
       "      <td>0.0</td>\n",
       "      <td>0.0</td>\n",
       "      <td>5250.0</td>\n",
       "      <td>288.0</td>\n",
       "      <td>624.0</td>\n",
       "      <td>415.0</td>\n",
       "      <td>3.99</td>\n",
       "      <td>3.99</td>\n",
       "    </tr>\n",
       "  </tbody>\n",
       "</table>\n",
       "</div>"
      ],
      "text/plain": [
       "   appid  required_age  achievements  positive_ratings  negative_ratings  \\\n",
       "0   10.0           0.0           0.0          124534.0            3339.0   \n",
       "1   20.0           0.0           0.0            3318.0             246.6   \n",
       "2   30.0           0.0           0.0            3416.0             398.0   \n",
       "3   40.0           0.0           0.0            1273.0             267.0   \n",
       "4   50.0           0.0           0.0            5250.0             288.0   \n",
       "\n",
       "   average_playtime  median_playtime  price  price_simple_mean  \n",
       "0           17612.0            317.0   7.19               7.19  \n",
       "1             277.0             62.0   3.99               3.99  \n",
       "2             187.0             34.0   3.99               3.99  \n",
       "3             258.0            184.0   3.99               3.99  \n",
       "4             624.0            415.0   3.99               3.99  "
      ]
     },
     "execution_count": 28,
     "metadata": {},
     "output_type": "execute_result"
    }
   ],
   "source": [
    "df_knn_imputer.head()"
   ]
  },
  {
   "cell_type": "markdown",
   "metadata": {},
   "source": [
    "El siguiente paso será reemplazar estos valores en el *dataframe*. Lo podemos hacer de la misma forma que hicimos en el apartado anterior. "
   ]
  },
  {
   "cell_type": "code",
   "execution_count": 29,
   "metadata": {},
   "outputs": [],
   "source": [
    "# lo primero que hacemos es sacar el nombre de las columnas del dataframe sin nulos\n",
    "\n",
    "columnas_knn = df_knn_imputer.columns"
   ]
  },
  {
   "cell_type": "code",
   "execution_count": 30,
   "metadata": {},
   "outputs": [],
   "source": [
    "# utilizando \"columnas\" eliminamos esas columnas de nuestro dataframe\n",
    "\n",
    "df.drop(columnas_knn, axis = 1, inplace = True)"
   ]
  },
  {
   "cell_type": "code",
   "execution_count": 31,
   "metadata": {},
   "outputs": [],
   "source": [
    "# creamos nuevas columnas en nuestro dataframe original basándonos en el dataframe de las numericas_trans\n",
    "\n",
    "df[columnas_knn] = numericas_knn"
   ]
  },
  {
   "cell_type": "code",
   "execution_count": 32,
   "metadata": {},
   "outputs": [
    {
     "data": {
      "text/plain": [
       "name                  271\n",
       "release_date           27\n",
       "english                 0\n",
       "developer            2712\n",
       "publisher            2712\n",
       "platforms               0\n",
       "categories             27\n",
       "genres                  0\n",
       "steamspy_tags         163\n",
       "owners               1356\n",
       "clasificacion           0\n",
       "appid                   0\n",
       "required_age            0\n",
       "achievements            0\n",
       "positive_ratings        0\n",
       "negative_ratings        0\n",
       "average_playtime        0\n",
       "median_playtime         0\n",
       "price                   0\n",
       "price_simple_mean       0\n",
       "dtype: int64"
      ]
     },
     "execution_count": 32,
     "metadata": {},
     "output_type": "execute_result"
    }
   ],
   "source": [
    "# chequeamos los nulos. Perfecto! Ya no tenemos ningún valor nulo en columnas numéricas. \n",
    "\n",
    "df.isnull().sum()"
   ]
  },
  {
   "cell_type": "markdown",
   "metadata": {},
   "source": [
    "**EJERCICIOS** \n",
    "\n",
    "- 1️⃣ Otros métodos de imputación de nulos. Usa los métodos aprendidos hoy para gestionar los valores nulos. Intenta definir una función para este método. "
   ]
  },
  {
   "cell_type": "code",
   "execution_count": null,
   "metadata": {},
   "outputs": [],
   "source": []
  }
 ],
 "metadata": {
  "interpreter": {
   "hash": "8560ba40f25f8debc3b21cfdc72602d7855270eb253b25380125fbd9b6cd3418"
  },
  "kernelspec": {
   "display_name": "Python 3.10.4 64-bit (windows store)",
   "language": "python",
   "name": "python3"
  },
  "language_info": {
   "codemirror_mode": {
    "name": "ipython",
    "version": 3
   },
   "file_extension": ".py",
   "mimetype": "text/x-python",
   "name": "python",
   "nbconvert_exporter": "python",
   "pygments_lexer": "ipython3",
   "version": "3.10.4"
  },
  "toc": {
   "base_numbering": 1,
   "nav_menu": {},
   "number_sections": true,
   "sideBar": true,
   "skip_h1_title": false,
   "title_cell": "Table of Contents",
   "title_sidebar": "Contents",
   "toc_cell": true,
   "toc_position": {
    "height": "calc(100% - 180px)",
    "left": "10px",
    "top": "150px",
    "width": "288px"
   },
   "toc_section_display": true,
   "toc_window_display": true
  }
 },
 "nbformat": 4,
 "nbformat_minor": 2
}

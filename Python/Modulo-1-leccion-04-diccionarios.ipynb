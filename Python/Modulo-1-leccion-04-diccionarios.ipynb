{
 "cells": [
  {
   "cell_type": "markdown",
   "metadata": {
    "toc": true
   },
   "source": [
    "<h1>Table of Contents<span class=\"tocSkip\"></span></h1>\n",
    "<div class=\"toc\"><ul class=\"toc-item\"><li><span><a href=\"#Definir-diccionarios\" data-toc-modified-id=\"Definir-diccionarios-1\"><span class=\"toc-item-num\">1&nbsp;&nbsp;</span>Definir diccionarios</a></span><ul class=\"toc-item\"><li><span><a href=\"#Ejercicios:-definir-diccionarios\" data-toc-modified-id=\"Ejercicios:-definir-diccionarios-1.1\"><span class=\"toc-item-num\">1.1&nbsp;&nbsp;</span>Ejercicios: definir diccionarios</a></span></li></ul></li><li><span><a href=\"#Propiedades-de-un-dict\" data-toc-modified-id=\"Propiedades-de-un-dict-2\"><span class=\"toc-item-num\">2&nbsp;&nbsp;</span>Propiedades de un <code>dict</code></a></span><ul class=\"toc-item\"><li><span><a href=\"#Ejercicios:-propiedades-de-un-dict\" data-toc-modified-id=\"Ejercicios:-propiedades-de-un-dict-2.1\"><span class=\"toc-item-num\">2.1&nbsp;&nbsp;</span>Ejercicios: propiedades de un <code>dict</code></a></span></li></ul></li><li><span><a href=\"#Más-métodos-para-diccionarios\" data-toc-modified-id=\"Más-métodos-para-diccionarios-3\"><span class=\"toc-item-num\">3&nbsp;&nbsp;</span>Más métodos para diccionarios</a></span><ul class=\"toc-item\"><li><span><a href=\"#copy()\" data-toc-modified-id=\"copy()-3.1\"><span class=\"toc-item-num\">3.1&nbsp;&nbsp;</span><code>copy()</code></a></span></li><li><span><a href=\"#get()\" data-toc-modified-id=\"get()-3.2\"><span class=\"toc-item-num\">3.2&nbsp;&nbsp;</span><code>get()</code></a></span></li><li><span><a href=\"#setdefault()\" data-toc-modified-id=\"setdefault()-3.3\"><span class=\"toc-item-num\">3.3&nbsp;&nbsp;</span><code>setdefault()</code></a></span></li><li><span><a href=\"#sorted()\" data-toc-modified-id=\"sorted()-3.4\"><span class=\"toc-item-num\">3.4&nbsp;&nbsp;</span><code>sorted()</code></a></span></li><li><span><a href=\"#pop()\" data-toc-modified-id=\"pop()-3.5\"><span class=\"toc-item-num\">3.5&nbsp;&nbsp;</span><code>pop()</code></a></span></li><li><span><a href=\"#popitem()\" data-toc-modified-id=\"popitem()-3.6\"><span class=\"toc-item-num\">3.6&nbsp;&nbsp;</span><code>popitem()</code></a></span></li><li><span><a href=\"#clear()\" data-toc-modified-id=\"clear()-3.7\"><span class=\"toc-item-num\">3.7&nbsp;&nbsp;</span><code>clear()</code></a></span></li><li><span><a href=\"#Ejercicios:-más-métodos-para-dicts\" data-toc-modified-id=\"Ejercicios:-más-métodos-para-dicts-3.8\"><span class=\"toc-item-num\">3.8&nbsp;&nbsp;</span>Ejercicios: más métodos para dicts</a></span></li></ul></li></ul></div>"
   ]
  },
  {
   "cell_type": "markdown",
   "metadata": {},
   "source": [
    "# Definir diccionarios\n",
    "Para poder trabajar con diccionarios, o *dictionaries* en inglés, primero tendríamos que definirlos. Parecido a los corchetes `[]` de las listas se usan las llaves `{}` para crear diccionarios. La diferencia con listas es que cada contenido (*item*) está compuesto por una clave (*key*) y un valor (*value*). El valor de una clave puede ser una variable de tipo *string*, números, listas, otros diccionarios, etc., pero un valor **nunca** puede existir sin una clave que lo identifique. \n",
    "\n",
    "Características de los diccionarios: \n",
    "\n",
    "- Siempre tiene que existir una pareja de *key*-*value* \n",
    "\n",
    "- Las *keys*  son únicas, no podemos tener dos *keys* que se llamen igual. \n",
    "\n",
    "- Tanto las *keys* como los *values* pueder ser de cualquier tipo de dato. "
   ]
  },
  {
   "cell_type": "code",
   "execution_count": 15,
   "metadata": {},
   "outputs": [],
   "source": [
    "# definimos un diccionario donde las keys sean strings y lo values también\n",
    "dias1 = { 'lunes':'monday', 'martes':'tuesday', 'miércoles':'wednesday' }\n"
   ]
  },
  {
   "cell_type": "code",
   "execution_count": 16,
   "metadata": {},
   "outputs": [],
   "source": [
    "# tambieén podemos tener diccionarios donde las keys sean strings y los values números\n",
    "\n",
    "diccionario1 = { 'lunes': 1, 'martes':2, 'miércoles':3 }"
   ]
  },
  {
   "cell_type": "code",
   "execution_count": 17,
   "metadata": {},
   "outputs": [],
   "source": [
    "# o un diccionario donde sean números y los values strings\n",
    "\n",
    "diccionario2 = { 1:'monday', 2:'tuesday',3:'wednesday' }\n"
   ]
  },
  {
   "cell_type": "code",
   "execution_count": 18,
   "metadata": {},
   "outputs": [],
   "source": [
    "# o incluso diccionarios que tengan listas en sus values\n",
    "diccionario3 = { 'lunes': [1, \"peras\"], 'martes':[2, \"manzanas\"], 'miércoles':[3, \"brocoli\"] }"
   ]
  },
  {
   "cell_type": "markdown",
   "metadata": {},
   "source": [
    "Hay otras formas para definir diccionarios en Python, aunque menos usuales, usando el metodo `dict()`, veamos algunos ejemplos: "
   ]
  },
  {
   "cell_type": "code",
   "execution_count": 19,
   "metadata": {},
   "outputs": [
    {
     "data": {
      "text/plain": [
       "{'jueves': 'thursday', 'viernes': 'friday'}"
      ]
     },
     "execution_count": 19,
     "metadata": {},
     "output_type": "execute_result"
    }
   ],
   "source": [
    "dias2 = dict( jueves = 'thursday', viernes='friday' )\n",
    "dias2\n"
   ]
  },
  {
   "cell_type": "code",
   "execution_count": 20,
   "metadata": {},
   "outputs": [
    {
     "data": {
      "text/plain": [
       "{'sábado': 'saturday', 'domingo': 'sunday'}"
      ]
     },
     "execution_count": 20,
     "metadata": {},
     "output_type": "execute_result"
    }
   ],
   "source": [
    "dias3 = dict( [ ('sábado','saturday'), ('domingo','sunday') ] )\n",
    "dias3"
   ]
  },
  {
   "cell_type": "markdown",
   "metadata": {},
   "source": [
    "Al igual que en las listas, tenemos un método para insertar nuevos elementos en nuestros diccionarios. El método `update()`."
   ]
  },
  {
   "cell_type": "code",
   "execution_count": 21,
   "metadata": {},
   "outputs": [
    {
     "data": {
      "text/plain": [
       "{'lunes': [1, 'peras'],\n",
       " 'martes': [2, 'manzanas'],\n",
       " 'miércoles': [3, 'brocoli'],\n",
       " 'jueves': [4, 'chorizo']}"
      ]
     },
     "execution_count": 21,
     "metadata": {},
     "output_type": "execute_result"
    }
   ],
   "source": [
    "diccionario3.update( { 'jueves': [4, \"chorizo\"] } )\n",
    "diccionario3"
   ]
  },
  {
   "cell_type": "markdown",
   "metadata": {},
   "source": [
    "Si nos fijamos se nos ha insertado una nueva pareja de *key*-*value* con nueva información. La información que añadamos no tiene necesariamente que mantener la misma estructura, veamos algunos ejemplos: "
   ]
  },
  {
   "cell_type": "code",
   "execution_count": 22,
   "metadata": {},
   "outputs": [
    {
     "data": {
      "text/plain": [
       "{'lunes': [1, 'peras'],\n",
       " 'martes': [2, 'manzanas'],\n",
       " 'miércoles': [3, 'brocoli'],\n",
       " 'jueves': [4, 'chorizo'],\n",
       " 'viernes': 5}"
      ]
     },
     "execution_count": 22,
     "metadata": {},
     "output_type": "execute_result"
    }
   ],
   "source": [
    "# podemos tener una key donde su value sea unicamente un número , aunque el resto de los values sean listas\n",
    "diccionario3.update( { 'viernes': 5 } )\n",
    "diccionario3"
   ]
  },
  {
   "cell_type": "code",
   "execution_count": 23,
   "metadata": {},
   "outputs": [
    {
     "data": {
      "text/plain": [
       "{'lunes': [1, 'peras'],\n",
       " 'martes': [2, 'manzanas'],\n",
       " 'miércoles': [3, 'brocoli'],\n",
       " 'jueves': [4, 'chorizo'],\n",
       " 'viernes': 5,\n",
       " 6: 'sabado'}"
      ]
     },
     "execution_count": 23,
     "metadata": {},
     "output_type": "execute_result"
    }
   ],
   "source": [
    "# podemos incluso incluir keys que sean de un tipo diferente, aunque esto no sea habitual\n",
    "diccionario3.update( { 6: \"sabado\"} )\n",
    "diccionario3"
   ]
  },
  {
   "cell_type": "markdown",
   "metadata": {},
   "source": [
    "Supongamos ahora que tenemos dos diccionarios donde tenemos información sobre dos gatos 👇🏽: "
   ]
  },
  {
   "cell_type": "code",
   "execution_count": 24,
   "metadata": {},
   "outputs": [],
   "source": [
    "gato1 = { 'nombre':'Poes', 'cumpleaños':'01/07', 'tipo':'européo común', 'año de nacimiento':2011 }\n",
    "gato2 = { 'nombre':'Kitty', 'cumpleaños':'01/03', 'tipo':'tricolor', 'año de nacimiento':2019 }"
   ]
  },
  {
   "cell_type": "markdown",
   "metadata": {},
   "source": [
    "Ahora imaginemos que no queremos ver todo la información del diccionario, que solo nos interesa el tipo de gato que es, para eso tendremos que seguir la siguiente sintaxis: \n",
    "\n",
    "```python\n",
    "midiccionario[\"la_key_que_quiero\"]\n",
    "# esto lo que hará es devolvernos el value de la key que especifiquemos\n",
    "```\n",
    "Veamoslo con un ejemplo: "
   ]
  },
  {
   "cell_type": "code",
   "execution_count": 25,
   "metadata": {},
   "outputs": [
    {
     "data": {
      "text/plain": [
       "'européo común'"
      ]
     },
     "execution_count": 25,
     "metadata": {},
     "output_type": "execute_result"
    }
   ],
   "source": [
    "# ¿Qué tipo de gato es el que esta almacenado en el diccionario gato1?\n",
    "gato1[\"tipo\"]"
   ]
  },
  {
   "cell_type": "code",
   "execution_count": 26,
   "metadata": {},
   "outputs": [
    {
     "data": {
      "text/plain": [
       "'tricolor'"
      ]
     },
     "execution_count": 26,
     "metadata": {},
     "output_type": "execute_result"
    }
   ],
   "source": [
    "# ¿y el gato 2? \n",
    "\n",
    "gato2[\"tipo\"]"
   ]
  },
  {
   "cell_type": "markdown",
   "metadata": {},
   "source": [
    "En otras ocasiones podemos vernos en la necesidad de incorporar una nueva *key* en nuestro diccionario. Lo podríamos hacer con el método `update` como vimos en las celdas anteriores, otra opción es:  \n",
    "\n",
    "```python\n",
    "\n",
    "midiccionario[\"la_nueva_key\"] = el_valor_que_queramos\n",
    "``` \n",
    "\n",
    "Veamos un ejemplo. Supogamos que ahora hemos vacunado a `gato2`, pero queremos crear una nueva *key*  que se llame \"vacunado\" lo que haríamos sería lo siguiente:"
   ]
  },
  {
   "cell_type": "code",
   "execution_count": 27,
   "metadata": {},
   "outputs": [
    {
     "data": {
      "text/plain": [
       "{'nombre': 'Kitty',\n",
       " 'cumpleaños': '01/03',\n",
       " 'tipo': 'tricolor',\n",
       " 'año de nacimiento': 2019,\n",
       " 'vacunado': True}"
      ]
     },
     "execution_count": 27,
     "metadata": {},
     "output_type": "execute_result"
    }
   ],
   "source": [
    "gato2['vacunado'] = True\n",
    "gato2"
   ]
  },
  {
   "cell_type": "markdown",
   "metadata": {},
   "source": [
    "Si nos fijamos ahora tenemos una nueva *key*, \"vacunado\" con el valor que especificamos. "
   ]
  },
  {
   "cell_type": "code",
   "execution_count": 51,
   "metadata": {},
   "outputs": [],
   "source": [
    "# cread una nueva key en el diccionario1 donde indiquemos que el gato no está vacunado. Solución aquí: \n"
   ]
  },
  {
   "cell_type": "markdown",
   "metadata": {},
   "source": [
    "**Repaso**\n",
    "\n",
    "- Definir diccionarios con `{}` o con `dict()`.\n",
    "\n",
    "- Unir diccionarios con `.update()`.\n",
    "\n",
    "- Usar `dict[clave] = \"nuevo_value\"` para añadir un elemento o sobreescribir el contenido si ya existía la clave."
   ]
  },
  {
   "cell_type": "markdown",
   "metadata": {
    "id": "5PcBreuKcX1-"
   },
   "source": [
    "\n",
    "\n",
    "---\n",
    "\n",
    "\n",
    "## Ejercicios: definir diccionarios\n",
    "\n",
    "- Definir diccionarios\n",
    "\n",
    "  1. Crea el diccionario `festivos` con las fechas como claves y los nombres como valores: 01/01: Año Nuevo, 06/01: Epifanía del Señor, 15/04: Viernes Santo, 15/08: Asunción de la Virgen, 12/10: Fiesta Nacional de España, 01/11: Todos los Santos, 06/12: Día de la Constitución Española, y 08/12: Inmaculada Concepción.\n",
    "\n",
    "\n",
    "  2. Crea el diccionario `monarcas` con los países como claves y los nombres como valores: Bélgica: Philippe, Dinamarca: Margrethe II, Holanda: Beatrix, Noruega: Harald V, España: Felipe VI, Reino Unido: Carlos III.\n",
    "\n",
    "- Leer, añadir, y cambiar elementos\n",
    "\n",
    "  3. ¿Qué festivo hay el 15/04?\n",
    "\n",
    "\n",
    "  4. La reina `'Beatrix'` abdicó, ahora es el rey `'Willem-Alexander'`. Actualiza el dict.\n",
    "\n",
    "  \n",
    "  5. El rey de Luxemburgo se llama `Henri`. Añadelo al dict usando `.update()`. \n",
    "\n",
    "---\n",
    "\n"
   ]
  },
  {
   "cell_type": "code",
   "execution_count": null,
   "metadata": {
    "id": "Z5I4yJpqcX2F"
   },
   "outputs": [],
   "source": []
  },
  {
   "cell_type": "markdown",
   "metadata": {
    "id": "aCLnA8lRcX2F"
   },
   "source": [
    "\n",
    "\n",
    "---\n"
   ]
  },
  {
   "cell_type": "markdown",
   "metadata": {},
   "source": [
    "# Propiedades de un `dict`\n",
    "Como un dict es un tipo de contenedor para múltiples elementos, la función `len()` también se puede usar aquí. ¿Te acuerdas qué hacía?"
   ]
  },
  {
   "cell_type": "code",
   "execution_count": 28,
   "metadata": {},
   "outputs": [
    {
     "name": "stdout",
     "output_type": "stream",
     "text": [
      "2\n"
     ]
    }
   ],
   "source": [
    "print(len(dias3))"
   ]
  },
  {
   "cell_type": "markdown",
   "metadata": {},
   "source": [
    "Parecido con las palabras `in` y `not in` que usamos para comprobar si existía un elemento en una lista podemos aplicarlas en un diccionario para comprobar si existe una `clave`:"
   ]
  },
  {
   "cell_type": "code",
   "execution_count": 53,
   "metadata": {},
   "outputs": [
    {
     "data": {
      "text/plain": [
       "True"
      ]
     },
     "execution_count": 53,
     "metadata": {},
     "output_type": "execute_result"
    }
   ],
   "source": [
    "'cumpleaños' in gato1"
   ]
  },
  {
   "cell_type": "markdown",
   "metadata": {},
   "source": [
    "Sin embargo, existen unos métodos específicos para diccionarios. Empecemos con `.keys()` y `.values()`. "
   ]
  },
  {
   "cell_type": "code",
   "execution_count": 54,
   "metadata": {},
   "outputs": [
    {
     "data": {
      "text/plain": [
       "{'nombre': 'Poes',\n",
       " 'cumpleaños': '01/07',\n",
       " 'tipo': 'européo común',\n",
       " 'año de nacimiento': 2011}"
      ]
     },
     "execution_count": 54,
     "metadata": {},
     "output_type": "execute_result"
    }
   ],
   "source": [
    "# recordemos el diccionario de gato1\n",
    "gato1"
   ]
  },
  {
   "cell_type": "code",
   "execution_count": 55,
   "metadata": {},
   "outputs": [
    {
     "data": {
      "text/plain": [
       "dict_keys(['nombre', 'cumpleaños', 'tipo', 'año de nacimiento'])"
      ]
     },
     "execution_count": 55,
     "metadata": {},
     "output_type": "execute_result"
    }
   ],
   "source": [
    "# usando el método .keys() obtendremos todas las keys que tenemos en nuestro diccionario\n",
    "gato1.keys()"
   ]
  },
  {
   "cell_type": "code",
   "execution_count": 56,
   "metadata": {},
   "outputs": [
    {
     "data": {
      "text/plain": [
       "dict_values(['Poes', '01/07', 'européo común', 2011])"
      ]
     },
     "execution_count": 56,
     "metadata": {},
     "output_type": "execute_result"
    }
   ],
   "source": [
    "# por otro lado, con el método.values() obtendremos todos los values de nuestro diccionario\n",
    "\n",
    "gato1.values()"
   ]
  },
  {
   "cell_type": "markdown",
   "metadata": {},
   "source": [
    "El resultado son objetos específicos de tipo `dict_keys` y `dict_values`. En este mismo contexto tenemos el método `.items()`, veamos que hace:"
   ]
  },
  {
   "cell_type": "code",
   "execution_count": 57,
   "metadata": {},
   "outputs": [
    {
     "data": {
      "text/plain": [
       "dict_items([('nombre', 'Poes'), ('cumpleaños', '01/07'), ('tipo', 'européo común'), ('año de nacimiento', 2011)])"
      ]
     },
     "execution_count": 57,
     "metadata": {},
     "output_type": "execute_result"
    }
   ],
   "source": [
    "gato1.items()"
   ]
  },
  {
   "cell_type": "markdown",
   "metadata": {},
   "source": [
    "De nuevo nos devuelve un objeto específico, que va a estar compuesto por una serie de tuplas con el par *key* - *value* "
   ]
  },
  {
   "cell_type": "markdown",
   "metadata": {},
   "source": [
    "**Repaso**\n",
    "- Tamaño del `dict` con la función `len()`.\n",
    "\n",
    "- Comprobar si una clave existe en el `dict` o no con `in` y `not in`.\n",
    "\n",
    "- Los métodos `.keys()`, `.values()`, `.items()`."
   ]
  },
  {
   "cell_type": "markdown",
   "metadata": {
    "id": "5PcBreuKcX1-"
   },
   "source": [
    "\n",
    "\n",
    "---\n",
    "\n",
    "\n",
    "## Ejercicios: propiedades de un `dict`\n",
    "\n",
    "- Comprobar contenidos\n",
    "\n",
    "  6. ¿Cuántos países están definidos en `monarcas`?\n",
    "\n",
    "  7. ¿Es `'Monaco'` uno de ellos?\n",
    "\n",
    "  8. ¿Es verdad que nos olvidamos de poner `'Suecia'`? Compruébalo de una manera en que obtengas un `True`.\n",
    "\n",
    "- Listar los contenidos\n",
    "\n",
    "  9. Saca una lista de todos los países en el dict `monarcas`.\n",
    "\n",
    "  10. Saca una lista de los nombres de los festivos.\n",
    "\n",
    "  11. Imprime el diccionario de festivos.\n",
    "  \n",
    "  12. Imprime una lista de todos los elementos que hay en festivos.\n",
    "\n",
    "---\n",
    "\n"
   ]
  },
  {
   "cell_type": "code",
   "execution_count": null,
   "metadata": {
    "id": "Z5I4yJpqcX2F"
   },
   "outputs": [],
   "source": []
  },
  {
   "cell_type": "markdown",
   "metadata": {
    "id": "aCLnA8lRcX2F"
   },
   "source": [
    "\n",
    "\n",
    "---\n"
   ]
  },
  {
   "cell_type": "markdown",
   "metadata": {},
   "source": [
    "# Más métodos para diccionarios\n",
    "Algunos de los métodos para diccionarios ya los vimos en la clase de listas. Lea el código siguiente:\n"
   ]
  },
  {
   "cell_type": "markdown",
   "metadata": {},
   "source": [
    "## `copy()`\n",
    "\n",
    "Al igual que en las listas, nos va a hacer una copia exacta del diccionario"
   ]
  },
  {
   "cell_type": "code",
   "execution_count": 58,
   "metadata": {},
   "outputs": [
    {
     "data": {
      "text/plain": [
       "{'nombre': 'Kitty',\n",
       " 'cumpleaños': '01/03',\n",
       " 'tipo': 'tricolor',\n",
       " 'año de nacimiento': 2019,\n",
       " 'vacunado': True}"
      ]
     },
     "execution_count": 58,
     "metadata": {},
     "output_type": "execute_result"
    }
   ],
   "source": [
    "# recordemos que es gato2\n",
    "\n",
    "gato2"
   ]
  },
  {
   "cell_type": "code",
   "execution_count": 59,
   "metadata": {},
   "outputs": [],
   "source": [
    "# hacemos una copia exacta\n",
    "\n",
    "gato3 = gato2.copy()"
   ]
  },
  {
   "cell_type": "code",
   "execution_count": 60,
   "metadata": {},
   "outputs": [
    {
     "data": {
      "text/plain": [
       "{'nombre': 'Kitty',\n",
       " 'cumpleaños': '01/03',\n",
       " 'tipo': 'tricolor',\n",
       " 'año de nacimiento': 2019,\n",
       " 'vacunado': True}"
      ]
     },
     "execution_count": 60,
     "metadata": {},
     "output_type": "execute_result"
    }
   ],
   "source": [
    "# si vemos ahora el contenido de gato3, será igual que el de gato2\n",
    "gato3"
   ]
  },
  {
   "cell_type": "markdown",
   "metadata": {},
   "source": [
    "## `get()` \n",
    "\n",
    "Busca un elemento a partir de su clave. Es igual que hacer: \n",
    "\n",
    "```python\n",
    "diccionario[\"clave\"]\n",
    "```\n",
    "\n"
   ]
  },
  {
   "cell_type": "code",
   "execution_count": 61,
   "metadata": {},
   "outputs": [
    {
     "data": {
      "text/plain": [
       "'Poes'"
      ]
     },
     "execution_count": 61,
     "metadata": {},
     "output_type": "execute_result"
    }
   ],
   "source": [
    "gato1.get('nombre')"
   ]
  },
  {
   "cell_type": "code",
   "execution_count": 62,
   "metadata": {},
   "outputs": [
    {
     "data": {
      "text/plain": [
       "'Poes'"
      ]
     },
     "execution_count": 62,
     "metadata": {},
     "output_type": "execute_result"
    }
   ],
   "source": [
    "# Compáralo con la manera que vimos al principio de la clase, nos devuelve exactamente lo mismo\n",
    "gato1['nombre']"
   ]
  },
  {
   "cell_type": "markdown",
   "metadata": {},
   "source": [
    "¿Por qué han creado este método entonces? El método `get()` nos permite pasar un parámetro extra (puede ser un *string*, un booleano, una lista, otro diccionario...). ¿Qué sucederá con este parámetro?\n",
    "\n",
    "Imaginamos que en el método `get()` le pasamos una *key* que no está en nuestro diccionario. Lo lógico sería pensar que nos diera error. Sin embargo, con este método y el nuevo parámetro, lo que pasará es que en vez de darnos error, nos devolverá el contenido que le pasamos. Veamos un ejemplo: "
   ]
  },
  {
   "cell_type": "code",
   "execution_count": 63,
   "metadata": {},
   "outputs": [
    {
     "data": {
      "text/plain": [
       "{'nombre': 'Poes',\n",
       " 'cumpleaños': '01/07',\n",
       " 'tipo': 'européo común',\n",
       " 'año de nacimiento': 2011}"
      ]
     },
     "execution_count": 63,
     "metadata": {},
     "output_type": "execute_result"
    }
   ],
   "source": [
    "# recordamos que teníamos en el diccionario gato1\n",
    "gato1"
   ]
  },
  {
   "cell_type": "code",
   "execution_count": 64,
   "metadata": {},
   "outputs": [
    {
     "ename": "KeyError",
     "evalue": "'castrado'",
     "output_type": "error",
     "traceback": [
      "\u001b[1;31m---------------------------------------------------------------------------\u001b[0m",
      "\u001b[1;31mKeyError\u001b[0m                                  Traceback (most recent call last)",
      "\u001b[1;32mc:\\Users\\agarc\\Documents\\Adalab\\materiales-da-promo-b\\modulo-1\\modulo-1-python-basico\\assets\\notebooks\\modulo-1-leccion-04-diccionarios.ipynb Cell 53'\u001b[0m in \u001b[0;36m<module>\u001b[1;34m\u001b[0m\n\u001b[0;32m      <a href='vscode-notebook-cell:/c%3A/Users/agarc/Documents/Adalab/materiales-da-promo-b/modulo-1/modulo-1-python-basico/assets/notebooks/modulo-1-leccion-04-diccionarios.ipynb#ch0000052?line=0'>1</a>\u001b[0m \u001b[39m# imaginemos que queremos buscar los values de una key que no existe, por ejemplo \"castrado\". Hagámoslo con el primer método que aprendimos\u001b[39;00m\n\u001b[1;32m----> <a href='vscode-notebook-cell:/c%3A/Users/agarc/Documents/Adalab/materiales-da-promo-b/modulo-1/modulo-1-python-basico/assets/notebooks/modulo-1-leccion-04-diccionarios.ipynb#ch0000052?line=1'>2</a>\u001b[0m gato1[\u001b[39m\"\u001b[39;49m\u001b[39mcastrado\u001b[39;49m\u001b[39m\"\u001b[39;49m]\n",
      "\u001b[1;31mKeyError\u001b[0m: 'castrado'"
     ]
    }
   ],
   "source": [
    "# imaginemos que queremos buscar los values de una key que no existe, por ejemplo \"castrado\". Hagámoslo con el primer método que aprendimos\n",
    "gato1[\"castrado\"]"
   ]
  },
  {
   "cell_type": "markdown",
   "metadata": {},
   "source": [
    "Vaya ... nos dice que no existe 😢"
   ]
  },
  {
   "cell_type": "code",
   "execution_count": 65,
   "metadata": {},
   "outputs": [],
   "source": [
    "# y si lo hacemos con el método get?\n",
    "gato1.get(\"castrado\")"
   ]
  },
  {
   "cell_type": "markdown",
   "metadata": {},
   "source": [
    "Bien! Por lo menos no nos devuelve error!! Pero si nos fijamos no nos devuelve absolutamente nada. "
   ]
  },
  {
   "cell_type": "code",
   "execution_count": 66,
   "metadata": {},
   "outputs": [
    {
     "data": {
      "text/plain": [
       "['hola']"
      ]
     },
     "execution_count": 66,
     "metadata": {},
     "output_type": "execute_result"
    }
   ],
   "source": [
    "# que pasa si le pasamos este parámetro extra del que estamos hablando? \n",
    "\n",
    "gato1.get('castrado',[\"hola\"])"
   ]
  },
  {
   "cell_type": "code",
   "execution_count": 67,
   "metadata": {},
   "outputs": [
    {
     "data": {
      "text/plain": [
       "True"
      ]
     },
     "execution_count": 67,
     "metadata": {},
     "output_type": "execute_result"
    }
   ],
   "source": [
    "# otro ejemplo\n",
    "gato1.get('castrado',True)"
   ]
  },
  {
   "cell_type": "code",
   "execution_count": 68,
   "metadata": {},
   "outputs": [
    {
     "data": {
      "text/plain": [
       "'esa key no existe'"
      ]
     },
     "execution_count": 68,
     "metadata": {},
     "output_type": "execute_result"
    }
   ],
   "source": [
    "# otro ejemplo más\n",
    "gato1.get('castrado',\"esa key no existe\")"
   ]
  },
  {
   "cell_type": "markdown",
   "metadata": {},
   "source": [
    "Bien! Por lo menos recibimos un *output*! Aquel que hemos especificado en el parámetro que acabamos de conocer. "
   ]
  },
  {
   "cell_type": "markdown",
   "metadata": {},
   "source": [
    "## `setdefault()`\n",
    "\n",
    "Es similar al `get`. En este caso, si la *key* no existe la crea y asigna el *value* del valor por defecto que indicamos"
   ]
  },
  {
   "cell_type": "code",
   "execution_count": 69,
   "metadata": {},
   "outputs": [
    {
     "data": {
      "text/plain": [
       "'no tiene'"
      ]
     },
     "execution_count": 69,
     "metadata": {},
     "output_type": "execute_result"
    }
   ],
   "source": [
    "# vamos a intentar buscar la key \"vacunas\". \n",
    "gato1.setdefault(\"vacunas\", 'no tiene')"
   ]
  },
  {
   "cell_type": "code",
   "execution_count": 70,
   "metadata": {},
   "outputs": [
    {
     "data": {
      "text/plain": [
       "{'nombre': 'Poes',\n",
       " 'cumpleaños': '01/07',\n",
       " 'tipo': 'européo común',\n",
       " 'año de nacimiento': 2011,\n",
       " 'vacunas': 'no tiene'}"
      ]
     },
     "execution_count": 70,
     "metadata": {},
     "output_type": "execute_result"
    }
   ],
   "source": [
    "# veamos ahora el diccionario de nuevo\n",
    "\n",
    "gato1"
   ]
  },
  {
   "cell_type": "markdown",
   "metadata": {},
   "source": [
    "Si nos fijamos ahora, a diferencia del `get()`, lo que ha pasado es que nos ha creado la *key*  que estabamos buscando pero que no estaba. "
   ]
  },
  {
   "cell_type": "markdown",
   "metadata": {},
   "source": [
    "## `sorted()` \n",
    "\n",
    "Ordena el diccionario"
   ]
  },
  {
   "cell_type": "code",
   "execution_count": 73,
   "metadata": {},
   "outputs": [
    {
     "data": {
      "text/plain": [
       "['año de nacimiento', 'cumpleaños', 'nombre', 'tipo', 'vacunas']"
      ]
     },
     "execution_count": 73,
     "metadata": {},
     "output_type": "execute_result"
    }
   ],
   "source": [
    "# por defecto nos va a ordenar las keys del diccionario 👇🏽\n",
    "sorted(gato1)"
   ]
  },
  {
   "cell_type": "code",
   "execution_count": 75,
   "metadata": {},
   "outputs": [
    {
     "data": {
      "text/plain": [
       "[('año de nacimiento', 2011),\n",
       " ('cumpleaños', '01/07'),\n",
       " ('nombre', 'Poes'),\n",
       " ('tipo', 'européo común'),\n",
       " ('vacunas', 'no tiene')]"
      ]
     },
     "execution_count": 75,
     "metadata": {},
     "output_type": "execute_result"
    }
   ],
   "source": [
    "# si usamos \"items()\", nos devolverá una lista con distintos elementos, ordenados por las keys. Pero en este caso nos devuelve las key y los values\n",
    "sorted(gato1.items())"
   ]
  },
  {
   "cell_type": "code",
   "execution_count": 77,
   "metadata": {},
   "outputs": [
    {
     "data": {
      "text/plain": [
       "[('vacunas', 'no tiene'),\n",
       " ('tipo', 'européo común'),\n",
       " ('nombre', 'Poes'),\n",
       " ('cumpleaños', '01/07'),\n",
       " ('año de nacimiento', 2011)]"
      ]
     },
     "execution_count": 77,
     "metadata": {},
     "output_type": "execute_result"
    }
   ],
   "source": [
    "# de la misma forma que en las listas, podemos pasar el parámetro reverse para que nos ordene en sentido contrario\n",
    "sorted(gato1.items(), reverse = True)\n"
   ]
  },
  {
   "cell_type": "code",
   "execution_count": 79,
   "metadata": {},
   "outputs": [
    {
     "ename": "TypeError",
     "evalue": "'<' not supported between instances of 'int' and 'str'",
     "output_type": "error",
     "traceback": [
      "\u001b[1;31m---------------------------------------------------------------------------\u001b[0m",
      "\u001b[1;31mTypeError\u001b[0m                                 Traceback (most recent call last)",
      "\u001b[1;32mc:\\Users\\agarc\\Documents\\Adalab\\materiales-da-promo-b\\modulo-1\\modulo-1-python-basico\\assets\\notebooks\\modulo-1-leccion-04-diccionarios.ipynb Cell 69'\u001b[0m in \u001b[0;36m<module>\u001b[1;34m\u001b[0m\n\u001b[0;32m      <a href='vscode-notebook-cell:/c%3A/Users/agarc/Documents/Adalab/materiales-da-promo-b/modulo-1/modulo-1-python-basico/assets/notebooks/modulo-1-leccion-04-diccionarios.ipynb#ch0000086?line=0'>1</a>\u001b[0m \u001b[39m# pero fijaros que si los tipos de los values son disintos no podremos ordenar por lo values\u001b[39;00m\n\u001b[1;32m----> <a href='vscode-notebook-cell:/c%3A/Users/agarc/Documents/Adalab/materiales-da-promo-b/modulo-1/modulo-1-python-basico/assets/notebooks/modulo-1-leccion-04-diccionarios.ipynb#ch0000086?line=1'>2</a>\u001b[0m \u001b[39msorted\u001b[39;49m(gato1\u001b[39m.\u001b[39;49mvalues())\n",
      "\u001b[1;31mTypeError\u001b[0m: '<' not supported between instances of 'int' and 'str'"
     ]
    }
   ],
   "source": [
    "# pero fijaros que si los tipos de los values son disintos no podremos ordenar por lo values\n",
    "sorted(gato1.values())"
   ]
  },
  {
   "cell_type": "code",
   "execution_count": 80,
   "metadata": {},
   "outputs": [],
   "source": [
    "# imaginemos que tenemos un diccionario donde todos los values tienen el mismo tipo: \n",
    "\n",
    "contacto = { \"nombre\": \"Lorena\", \n",
    "            \"apellidos\": \"López Sanchez\", \n",
    "            \"direccion\": \"Calle de la persuasion\"}"
   ]
  },
  {
   "cell_type": "code",
   "execution_count": 81,
   "metadata": {},
   "outputs": [
    {
     "data": {
      "text/plain": [
       "['Calle de la persuasion', 'Lorena', 'López Sanchez']"
      ]
     },
     "execution_count": 81,
     "metadata": {},
     "output_type": "execute_result"
    }
   ],
   "source": [
    "# y ahora tratamos de ordenarlo\n",
    "\n",
    "sorted(contacto.values())"
   ]
  },
  {
   "cell_type": "markdown",
   "metadata": {},
   "source": [
    "## `pop()` \n",
    "\n",
    "Elimina una *key* especifica"
   ]
  },
  {
   "cell_type": "code",
   "execution_count": 82,
   "metadata": {},
   "outputs": [
    {
     "data": {
      "text/plain": [
       "{'nombre': 'Poes',\n",
       " 'cumpleaños': '01/07',\n",
       " 'tipo': 'européo común',\n",
       " 'año de nacimiento': 2011,\n",
       " 'vacunas': 'no tiene'}"
      ]
     },
     "execution_count": 82,
     "metadata": {},
     "output_type": "execute_result"
    }
   ],
   "source": [
    "gato1"
   ]
  },
  {
   "cell_type": "code",
   "execution_count": 83,
   "metadata": {},
   "outputs": [
    {
     "data": {
      "text/plain": [
       "'no tiene'"
      ]
     },
     "execution_count": 83,
     "metadata": {},
     "output_type": "execute_result"
    }
   ],
   "source": [
    "# imaginemos que queremos eliminar la key \"vacunas\"\n",
    "\n",
    "gato1.pop(\"vacunas\")"
   ]
  },
  {
   "cell_type": "code",
   "execution_count": 84,
   "metadata": {},
   "outputs": [
    {
     "data": {
      "text/plain": [
       "{'nombre': 'Poes',\n",
       " 'cumpleaños': '01/07',\n",
       " 'tipo': 'européo común',\n",
       " 'año de nacimiento': 2011}"
      ]
     },
     "execution_count": 84,
     "metadata": {},
     "output_type": "execute_result"
    }
   ],
   "source": [
    "# si ahora vemos el diccionario no tendrá esa key\n",
    "\n",
    "gato1"
   ]
  },
  {
   "cell_type": "markdown",
   "metadata": {},
   "source": [
    "## `popitem()` \n",
    "\n",
    "Nos va a eliminar el último par de *key* , *value*  del diccionario\n",
    "\n"
   ]
  },
  {
   "cell_type": "code",
   "execution_count": 85,
   "metadata": {},
   "outputs": [
    {
     "data": {
      "text/plain": [
       "('año de nacimiento', 2011)"
      ]
     },
     "execution_count": 85,
     "metadata": {},
     "output_type": "execute_result"
    }
   ],
   "source": [
    "gato1.popitem()"
   ]
  },
  {
   "cell_type": "code",
   "execution_count": 87,
   "metadata": {},
   "outputs": [
    {
     "data": {
      "text/plain": [
       "{'nombre': 'Poes', 'cumpleaños': '01/07', 'tipo': 'européo común'}"
      ]
     },
     "execution_count": 87,
     "metadata": {},
     "output_type": "execute_result"
    }
   ],
   "source": [
    "# si ahora vemos el diccionario ya no tendra la key \"año nacimiento\"\n",
    "\n",
    "gato1"
   ]
  },
  {
   "cell_type": "markdown",
   "metadata": {},
   "source": [
    "## `clear()`\n",
    "\n",
    "Al igual que en las listas, nos vacía el diccionario por completo\n",
    "\n"
   ]
  },
  {
   "cell_type": "code",
   "execution_count": 88,
   "metadata": {},
   "outputs": [],
   "source": [
    "gato1.clear()"
   ]
  },
  {
   "cell_type": "code",
   "execution_count": 89,
   "metadata": {},
   "outputs": [
    {
     "data": {
      "text/plain": [
       "{}"
      ]
     },
     "execution_count": 89,
     "metadata": {},
     "output_type": "execute_result"
    }
   ],
   "source": [
    "# si ahora vemos el diccionario estará vacío\n",
    "\n",
    "gato1"
   ]
  },
  {
   "cell_type": "markdown",
   "metadata": {},
   "source": [
    "**Repaso**\n",
    "\n",
    "- `get`: nos devuelve el *value*  de la *key* que especifiquemos\n",
    "\n",
    "- `setdefault`: nos devuelve el *value*  de la *key* que especifiquemos, EN CASO DE QUE NO EXISTA NOS LA CREA. \n",
    "\n",
    "- `sorted`: nos ordena por defecto las *keys* del diccionario. También podemos ordenar por los *values* o todo el diccionario\n",
    "\n",
    "- `pop` : eliminamos una *key* dada\n",
    "\n",
    "- `popitem`: elimina el último par de *key* - *value*  del diccionario\n",
    "\n",
    "- `clear` : vacía el diccionario"
   ]
  },
  {
   "cell_type": "markdown",
   "metadata": {
    "id": "5PcBreuKcX1-"
   },
   "source": [
    "\n",
    "\n",
    "---\n",
    "\n",
    "\n",
    "## Ejercicios: más métodos para dicts\n",
    "\n",
    "- Copiar dicts, y borrar elementos\n",
    "\n",
    "  13. Copia `monarcas` a `monarcas2010`.\n",
    "\n",
    "  14. Quita España de `monarcas2010` con `.pop()`.\n",
    "\n",
    "  15. Borra Holanda y Bélgica de `monarcas2010` con `del`.\n",
    "\n",
    "  16. Quita el último elemento de `monarcas2010` (que añadimos en ejercicio 5.).\n",
    "\n",
    "- Vaciar y borrar dicts\n",
    "\n",
    "  17. Vacia el dict `monarcas2010` usando el método para ello.\n",
    "\n",
    "  18. Borra el dict `monarcas2010` entero.\n",
    "\n",
    "\n",
    "- Obtener valores\n",
    "\n",
    "  19. ¿Qué festivo hay el 06/01?\n",
    "  \n",
    "  20. Obten el festivo que haya el 08/03, y en su defecto devuélve 'Día Internacional de la Mujer'.\n",
    "\n",
    "  20. Obten el festivo que haya el 15/04, y en su defecto devuélve 'Semana Santa'.\n",
    "\n",
    "\n",
    "---\n",
    "\n"
   ]
  }
 ],
 "metadata": {
  "interpreter": {
   "hash": "8560ba40f25f8debc3b21cfdc72602d7855270eb253b25380125fbd9b6cd3418"
  },
  "kernelspec": {
   "display_name": "Python 3 (ipykernel)",
   "language": "python",
   "name": "python3"
  },
  "language_info": {
   "codemirror_mode": {
    "name": "ipython",
    "version": 3
   },
   "file_extension": ".py",
   "mimetype": "text/x-python",
   "name": "python",
   "nbconvert_exporter": "python",
   "pygments_lexer": "ipython3",
   "version": "3.10.8"
  },
  "toc": {
   "base_numbering": 1,
   "nav_menu": {},
   "number_sections": true,
   "sideBar": true,
   "skip_h1_title": false,
   "title_cell": "Table of Contents",
   "title_sidebar": "Contents",
   "toc_cell": true,
   "toc_position": {},
   "toc_section_display": true,
   "toc_window_display": true
  }
 },
 "nbformat": 4,
 "nbformat_minor": 2
}

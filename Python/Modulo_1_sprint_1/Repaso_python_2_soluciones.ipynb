{
 "cells": [
  {
   "cell_type": "markdown",
   "metadata": {},
   "source": [
    "### Haremos un programa que: \n",
    "\n",
    "- Reciba una lista\n",
    "\n",
    "- Nos printee la lista ordenada\n",
    "\n",
    "- Y nos devuelva la suma de todos los elementos de la lista. \n"
   ]
  },
  {
   "cell_type": "code",
   "execution_count": 1,
   "metadata": {},
   "outputs": [],
   "source": [
    "import random"
   ]
  },
  {
   "cell_type": "code",
   "execution_count": 2,
   "metadata": {},
   "outputs": [
    {
     "data": {
      "text/plain": [
       "[10, 26, 12, 11, 25, 15, 21, 29, 20, 18, 14, 24, 17, 16, 19]"
      ]
     },
     "execution_count": 2,
     "metadata": {},
     "output_type": "execute_result"
    }
   ],
   "source": [
    "numeros_aleatorios = random.sample(range(10, 30), 15, )\n",
    "numeros_aleatorios"
   ]
  },
  {
   "cell_type": "code",
   "execution_count": 3,
   "metadata": {},
   "outputs": [],
   "source": [
    "numeros_aleatorios.sort()"
   ]
  },
  {
   "cell_type": "code",
   "execution_count": 4,
   "metadata": {},
   "outputs": [
    {
     "data": {
      "text/plain": [
       "[10, 11, 12, 14, 15, 16, 17, 18, 19, 20, 21, 24, 25, 26, 29]"
      ]
     },
     "execution_count": 4,
     "metadata": {},
     "output_type": "execute_result"
    }
   ],
   "source": [
    "numeros_aleatorios"
   ]
  },
  {
   "cell_type": "code",
   "execution_count": 5,
   "metadata": {},
   "outputs": [
    {
     "data": {
      "text/plain": [
       "277"
      ]
     },
     "execution_count": 5,
     "metadata": {},
     "output_type": "execute_result"
    }
   ],
   "source": [
    "sum(numeros_aleatorios)"
   ]
  },
  {
   "cell_type": "markdown",
   "metadata": {},
   "source": [
    "###  ¿Es un DNI valido?\n",
    "\n",
    "Los DNI españoles pueden ser:\n",
    "\n",
    "- NIF (Numero de Identificación Fiscal) - 8 numeros y una letra, o\n",
    "- NIE (Numero de Identificación de Extranjeros) - 1 letra, 7 numeros y 1 letra."
   ]
  },
  {
   "cell_type": "code",
   "execution_count": 6,
   "metadata": {},
   "outputs": [],
   "source": [
    "lista_dni = [\"X-1234567-Z\", \"X-1234567\", \"12345678-M\", \"1234567-T\", \"12345677\"] "
   ]
  },
  {
   "cell_type": "code",
   "execution_count": 7,
   "metadata": {},
   "outputs": [
    {
     "name": "stdout",
     "output_type": "stream",
     "text": [
      "['X', '1234567', 'Z']\n",
      "verdadero\n",
      "['X', '1234567']\n",
      "falso\n",
      "['12345678', 'M']\n",
      "verdadero\n",
      "['1234567', 'T']\n",
      "falso\n",
      "['12345677']\n",
      "falso\n"
     ]
    }
   ],
   "source": [
    "lista_nie = []\n",
    "lista_nif = []\n",
    "for dni in lista_dni:\n",
    "    dni = dni.split(\"-\")\n",
    "    print(dni)\n",
    "    consonantes = \"bcdfghjklmnpqrstvwxyz\"\n",
    "\n",
    "\n",
    "\n",
    "    if len(dni) == 3:\n",
    "        if dni[0] in consonantes.upper() and len(dni[1]) == 7 and dni[2] in consonantes.upper():\n",
    "           lista_nie.append(\" \".join(dni))\n",
    "           print(\"verdadero\")\n",
    "        else:\n",
    "            print(\"falso\")\n",
    "    \n",
    "\n",
    "    elif len(dni) == 2:\n",
    "        if len(dni[0]) == 8 and dni[1] in consonantes.upper():\n",
    "            lista_nif.append(\" \".join(dni))\n",
    "            print(\"verdadero\")\n",
    "        else:\n",
    "            print(\"falso\")\n",
    "    else:\n",
    "        print(\"falso\")"
   ]
  },
  {
   "cell_type": "markdown",
   "metadata": {},
   "source": [
    "## Amazon coding questions"
   ]
  },
  {
   "cell_type": "markdown",
   "metadata": {},
   "source": [
    "**Encuentra el número que no está en la lista**\n",
    "\n",
    "Tenemos una lista desordenada con números positivos de 1 a n. Siempre faltará un sólo número de esta lista aleatoria, ¿cómo identifico cuál falta? Cread un programa para que este código devuelva los resultados deseados:\n",
    "\n",
    "```python\n",
    "lista1 = [3,7,1,2,8,4,5] # nos tiene que devolver 6\n",
    "lista2 = [4,6,1,3,5] #  nos tiene que devolver 2\n",
    "lista3 = [34,35,36,38,39,40] # nos tiene que devolver 37\n",
    "```"
   ]
  },
  {
   "cell_type": "code",
   "execution_count": 8,
   "metadata": {},
   "outputs": [],
   "source": [
    "lista1 = [3,7,1,2,8,4,5]\n",
    "lista2 = [4,6,1,3,5] \n",
    "lista3 = [34,35,36,38,39,40]\n"
   ]
  },
  {
   "cell_type": "code",
   "execution_count": 9,
   "metadata": {},
   "outputs": [
    {
     "data": {
      "text/plain": [
       "[[3, 7, 1, 2, 8, 4, 5], [4, 6, 1, 3, 5], [34, 35, 36, 38, 39, 40]]"
      ]
     },
     "execution_count": 9,
     "metadata": {},
     "output_type": "execute_result"
    }
   ],
   "source": [
    "listas = [lista1, lista2, lista3]\n",
    "listas"
   ]
  },
  {
   "cell_type": "code",
   "execution_count": 10,
   "metadata": {},
   "outputs": [
    {
     "name": "stdout",
     "output_type": "stream",
     "text": [
      "el numero que falta es  6\n",
      "el numero que falta es  2\n",
      "el numero que falta es  37\n"
     ]
    }
   ],
   "source": [
    "for lista in listas:\n",
    "    \n",
    "    for i in range(min(lista), max(lista) +1):\n",
    "        try: \n",
    "            lista.index(i)\n",
    "        except: \n",
    "            print(\"el numero que falta es \", i)"
   ]
  },
  {
   "cell_type": "code",
   "execution_count": 11,
   "metadata": {},
   "outputs": [
    {
     "name": "stdout",
     "output_type": "stream",
     "text": [
      "El numero que falta es  6\n",
      "El numero que falta es  2\n",
      "El numero que falta es  37\n"
     ]
    }
   ],
   "source": [
    "for lista in listas:\n",
    "    for i in range(min(lista), max(lista) + 1):\n",
    "        if lista.count(i) == 0:\n",
    "            print(\"El numero que falta es \", i)\n",
    "        \n"
   ]
  },
  {
   "cell_type": "code",
   "execution_count": 12,
   "metadata": {},
   "outputs": [
    {
     "name": "stdout",
     "output_type": "stream",
     "text": [
      "El numero que falta es  6\n",
      "El numero que falta es  2\n",
      "El numero que falta es  37\n"
     ]
    }
   ],
   "source": [
    "for lista in listas: \n",
    "    for i in range(min(lista), max(lista) + 1):\n",
    "        if i not in lista:\n",
    "            print(\"El numero que falta es \", i)"
   ]
  },
  {
   "cell_type": "markdown",
   "metadata": {},
   "source": [
    "## Facebook coding questions"
   ]
  },
  {
   "cell_type": "markdown",
   "metadata": {},
   "source": [
    "**Mover los ceros a la izquierda**\n",
    "\n",
    "Nos dan un lista con números aleatorios. Algunos de ellos son 0. Encuentra todos los ceros y ponlos al principio de la lista, manteniendo el orden de los demás números.\n",
    "\n",
    "Ejemplo:\n",
    "\n",
    "```python\n",
    "A = [1,10,88,0,59,63,0,20,0]\n",
    "\n",
    "# tiene que devolver\n",
    "[0, 0, 0, 1, 10, 88, 59, 63, 20]\n",
    "```"
   ]
  },
  {
   "cell_type": "code",
   "execution_count": 13,
   "metadata": {},
   "outputs": [],
   "source": [
    "A = [1,10,88,0,59,63,0,20,0]"
   ]
  },
  {
   "cell_type": "code",
   "execution_count": 14,
   "metadata": {},
   "outputs": [],
   "source": [
    "lista_ceros = []\n",
    "lista_no_ceros = []\n",
    "\n",
    "for numero in A: \n",
    "    if numero == 0:\n",
    "        lista_ceros.append(numero)\n",
    "    else: \n",
    "        lista_no_ceros.append(numero)"
   ]
  },
  {
   "cell_type": "code",
   "execution_count": 15,
   "metadata": {},
   "outputs": [
    {
     "data": {
      "text/plain": [
       "[0, 0, 0]"
      ]
     },
     "execution_count": 15,
     "metadata": {},
     "output_type": "execute_result"
    }
   ],
   "source": [
    "lista_ceros"
   ]
  },
  {
   "cell_type": "code",
   "execution_count": 16,
   "metadata": {},
   "outputs": [
    {
     "data": {
      "text/plain": [
       "[1, 10, 88, 59, 63, 20]"
      ]
     },
     "execution_count": 16,
     "metadata": {},
     "output_type": "execute_result"
    }
   ],
   "source": [
    "lista_no_ceros"
   ]
  },
  {
   "cell_type": "code",
   "execution_count": 17,
   "metadata": {},
   "outputs": [],
   "source": [
    "lista_ceros.extend(lista_no_ceros)"
   ]
  },
  {
   "cell_type": "code",
   "execution_count": 18,
   "metadata": {},
   "outputs": [
    {
     "data": {
      "text/plain": [
       "[0, 0, 0, 1, 10, 88, 59, 63, 20]"
      ]
     },
     "execution_count": 18,
     "metadata": {},
     "output_type": "execute_result"
    }
   ],
   "source": [
    "lista_ceros"
   ]
  },
  {
   "cell_type": "code",
   "execution_count": 19,
   "metadata": {},
   "outputs": [
    {
     "name": "stdout",
     "output_type": "stream",
     "text": [
      "[0, 0, 0, 1, 10, 88, 59, 63, 20]\n"
     ]
    }
   ],
   "source": [
    "# Otra solución \n",
    "cero_count = 0\n",
    "\n",
    "while 0 in A: \n",
    "    A.pop(A.index(0))\n",
    "    cero_count +=1\n",
    "\n",
    "print(cero_count * [0] + A)\n"
   ]
  },
  {
   "cell_type": "code",
   "execution_count": 20,
   "metadata": {},
   "outputs": [
    {
     "data": {
      "text/plain": [
       "[1, 1, 1, 1, 1, 1, 1, 1, 1, 1]"
      ]
     },
     "execution_count": 20,
     "metadata": {},
     "output_type": "execute_result"
    }
   ],
   "source": [
    "[1] * 10"
   ]
  },
  {
   "cell_type": "markdown",
   "metadata": {},
   "source": [
    "**Invertir palabras de una frase**\n",
    "\n",
    "Nos dan una frase en que quieren que las letras de cada palabra acaben teniendo el orden invertido, manteniendo el orden de las palabras.\n",
    "\n",
    "```python\n",
    "frase = 'Hola Ada'\n",
    "print(frase) # nos daría 'aloH adA'\n",
    "```\n"
   ]
  },
  {
   "cell_type": "code",
   "execution_count": 21,
   "metadata": {},
   "outputs": [],
   "source": [
    "frase = 'Hola Ada'"
   ]
  },
  {
   "cell_type": "code",
   "execution_count": 22,
   "metadata": {},
   "outputs": [
    {
     "data": {
      "text/plain": [
       "['Hola', 'Ada']"
      ]
     },
     "execution_count": 22,
     "metadata": {},
     "output_type": "execute_result"
    }
   ],
   "source": [
    "string_final = \"\"\n",
    "\n",
    "string_lista = frase.split()\n",
    "string_lista"
   ]
  },
  {
   "cell_type": "code",
   "execution_count": 23,
   "metadata": {},
   "outputs": [
    {
     "name": "stdout",
     "output_type": "stream",
     "text": [
      "aloH adA \n"
     ]
    }
   ],
   "source": [
    "for palabra in string_lista:\n",
    "    string_final += palabra[::-1] + \" \"\n",
    "\n",
    "print(string_final)"
   ]
  },
  {
   "cell_type": "markdown",
   "metadata": {},
   "source": [
    "**Encontrar primer y último índice de un contenido**\n",
    "\n",
    "Nos darán una lista aleatoria con duplicados. Escribe un programa con que sacar el primer y último índice de un elemento dado, o -1 si no existe en la lista.\n"
   ]
  },
  {
   "cell_type": "code",
   "execution_count": 24,
   "metadata": {},
   "outputs": [],
   "source": [
    "lista1 = [6, 9, 5, 4, 9, 1, 0, 8, 2, 5, 7, 1, 7, 5, 0, 2, 7, 7, 9, 5]\n",
    "num = 7"
   ]
  },
  {
   "cell_type": "code",
   "execution_count": 25,
   "metadata": {},
   "outputs": [
    {
     "name": "stdout",
     "output_type": "stream",
     "text": [
      "10\n",
      "12\n",
      "16\n",
      "17\n"
     ]
    }
   ],
   "source": [
    "for i, numero in enumerate(lista1):\n",
    "    if numero == 7:\n",
    "        print(i)"
   ]
  },
  {
   "cell_type": "code",
   "execution_count": 26,
   "metadata": {},
   "outputs": [],
   "source": [
    "indices = []\n",
    "\n",
    "if num not in lista1:\n",
    "    print(-1)\n",
    "\n",
    "else: \n",
    "    for indice, numero in enumerate(lista1):\n",
    "        if numero == num:\n",
    "            indices.append(indice)\n"
   ]
  },
  {
   "cell_type": "code",
   "execution_count": 27,
   "metadata": {},
   "outputs": [
    {
     "data": {
      "text/plain": [
       "[10, 12, 16, 17]"
      ]
     },
     "execution_count": 27,
     "metadata": {},
     "output_type": "execute_result"
    }
   ],
   "source": [
    "indices"
   ]
  },
  {
   "cell_type": "markdown",
   "metadata": {},
   "source": [
    "## Google coding questions"
   ]
  },
  {
   "cell_type": "markdown",
   "metadata": {},
   "source": [
    "**Encuentra los k números más cerca a X**\n",
    "\n",
    "\n",
    "Haz una programa que compare los contenidos de una lista a un número dado X. Queremos que nos devuelva los k números que son más parecidos al número dado.\n",
    "\n",
    "Ejemplo:\n",
    "```python\n",
    "L = [4, 19, -5, 100, 53, 43, 74, -83, 13.5, 26]\n",
    "# Dados los siguientes valores 30, 3, L\n",
    "# El output debería ser igual a [26, 19, 43]\n",
    "```"
   ]
  },
  {
   "cell_type": "code",
   "execution_count": 28,
   "metadata": {},
   "outputs": [],
   "source": [
    "L = [4, 19, -5, 100, 53, 43, 74, -83, 13.5, 26]\n",
    "\n",
    "x = 30\n",
    "k = 3"
   ]
  },
  {
   "cell_type": "code",
   "execution_count": 29,
   "metadata": {},
   "outputs": [
    {
     "name": "stdout",
     "output_type": "stream",
     "text": [
      "26\n",
      "19\n",
      "43\n"
     ]
    }
   ],
   "source": [
    "nueva_lista = {}\n",
    "for num in L: \n",
    "    nueva_lista[abs(x -num)] =  num\n",
    "    lista_valores = sorted(nueva_lista.keys())[:k]\n",
    "for i in lista_valores:\n",
    "    print(nueva_lista[i])"
   ]
  },
  {
   "cell_type": "markdown",
   "metadata": {},
   "source": [
    "**Pagar con cupones**\n",
    "\n",
    "Tengo unos cuantos cupones de varios valores, por ejemplo por haber devuelto cosas. ¿Puedo comprarme algo nuevo de cierto valor usando sólo los cupones, sin demorra? Recuerda que un cupón sólo se puede gastar una vez (es decir, sin duplicados).\n",
    "\n"
   ]
  },
  {
   "cell_type": "code",
   "execution_count": 30,
   "metadata": {},
   "outputs": [],
   "source": [
    "from itertools import combinations\n"
   ]
  },
  {
   "cell_type": "code",
   "execution_count": 31,
   "metadata": {},
   "outputs": [],
   "source": [
    "cupones = [14.85, 3.75, 2.98, 11.13, 4.52, 9.89, 6.73, 19.37]\n",
    "precio = 29.11\n"
   ]
  },
  {
   "cell_type": "code",
   "execution_count": 32,
   "metadata": {},
   "outputs": [
    {
     "name": "stdout",
     "output_type": "stream",
     "text": [
      "Estamos trabajand en ello\n",
      "[(3.75, 2.98, 11.13, 4.52, 6.73)]\n"
     ]
    }
   ],
   "source": [
    "todas_combinaciones = []\n",
    "\n",
    "combo = []\n",
    "for i in range(1, len(cupones) + 1):\n",
    "    todas_combinaciones.append(list(combinations(cupones, i)))\n",
    "\n",
    "for combinacion in todas_combinaciones:\n",
    "    for descuentos in combinacion:\n",
    "        if sum(descuentos) == precio:\n",
    "            combo.append(descuentos)\n",
    "            print(\"Estamos trabajand en ello\")\n",
    "\n",
    "if len(combo) == 0:\n",
    "    print( \"No puedes comprar nada\")\n",
    "else:\n",
    "    print( combo)"
   ]
  },
  {
   "cell_type": "markdown",
   "metadata": {},
   "source": [
    "**Convertir string a número**\n",
    "\n",
    "\n",
    "Vamos a leer un *string* de izquierda hacia la derecha, interpretando los caracteres para decidir si el *string* contiene un número o no, y si es así si el número es entero o no. Sigue para cada carácter el autómata finito que ves en la imagen de abajo."
   ]
  },
  {
   "cell_type": "code",
   "execution_count": 33,
   "metadata": {},
   "outputs": [
    {
     "name": "stdout",
     "output_type": "stream",
     "text": [
      "13.5 No es un numero\n",
      ".61 No es un numero\n",
      "8 No es un numero\n",
      "13.  No es un numero\n",
      "a72 No es un numero\n",
      "    33.156.  No es un numero\n"
     ]
    }
   ],
   "source": [
    "strings = ['13.5', '.61', '8', '13. ', 'A72', '    33.156. ']\n",
    "\n",
    "excluir = \" \"\n",
    "letras = \"bcdfghjklmnpqrstvwxyzaeiou\"\n",
    "\n",
    "for string in strings:\n",
    "    string = string.lower()\n",
    "    \n",
    "    if \" \" in string or not string.isalpha():\n",
    "        print(string, \"No es un numero\")\n",
    "        continue\n",
    "    elif \".\" in string:\n",
    "        print(string, \"Es un numero decimal\")\n",
    "        continue\n",
    "    else:\n",
    "        print(string, \"Es un numero entero\")\n",
    "        continue"
   ]
  },
  {
   "cell_type": "code",
   "execution_count": null,
   "metadata": {},
   "outputs": [],
   "source": []
  }
 ],
 "metadata": {
  "kernelspec": {
   "display_name": "Python 3.9.7 ('base')",
   "language": "python",
   "name": "python3"
  },
  "language_info": {
   "codemirror_mode": {
    "name": "ipython",
    "version": 3
   },
   "file_extension": ".py",
   "mimetype": "text/x-python",
   "name": "python",
   "nbconvert_exporter": "python",
   "pygments_lexer": "ipython3",
   "version": "3.9.7"
  },
  "orig_nbformat": 4,
  "vscode": {
   "interpreter": {
    "hash": "f7912e45f56376859e46a323936f3af5ef395502effe5c6049b04a4785be6cad"
   }
  }
 },
 "nbformat": 4,
 "nbformat_minor": 2
}

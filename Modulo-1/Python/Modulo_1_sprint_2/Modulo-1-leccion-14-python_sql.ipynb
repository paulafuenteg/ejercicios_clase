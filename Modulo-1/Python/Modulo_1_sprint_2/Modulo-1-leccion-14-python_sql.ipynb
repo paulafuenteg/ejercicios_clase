{
 "cells": [
  {
   "cell_type": "markdown",
   "metadata": {},
   "source": [
    "# Python + SQL: Crear y modificar bases de datos\n",
    "\n",
    "## Crear una base de datos usando MySQL Connector/Python:\n",
    "\n",
    "Para crear una base de datos MySQL desde Python, podemos ejecutar la siguiente sentencia usando un cursor y el método *execute()*:"
   ]
  },
  {
   "cell_type": "code",
   "execution_count": 2,
   "metadata": {},
   "outputs": [
    {
     "name": "stdout",
     "output_type": "stream",
     "text": [
      "1007 (HY000): Can't create database 'bd_pruebas'; database exists\n",
      "Error Code: 1007\n",
      "SQLSTATE HY000\n",
      "Message Can't create database 'bd_pruebas'; database exists\n"
     ]
    }
   ],
   "source": [
    "import mysql.connector\n",
    "\n",
    "cnx = mysql.connector.connect(user='root', password='AlumnaAdalab',\n",
    "                              host='127.0.0.1')\n",
    "\n",
    "\n",
    "mycursor = cnx.cursor()\n",
    "try:\n",
    "    mycursor.execute(\"CREATE DATABASE BD_pruebas\")\n",
    "    print(mycursor)\n",
    "except mysql.connector.Error as err:\n",
    "    print(err)\n",
    "    print(\"Error Code:\", err.errno)\n",
    "    print(\"SQLSTATE\", err.sqlstate)\n",
    "    print(\"Message\", err.msg)\n"
   ]
  },
  {
   "cell_type": "markdown",
   "metadata": {},
   "source": [
    "Al igual que hacíamos en la lección anterior con las consultas SELECT, para crear una base de datos hemos creado un connector usando *connect()* pasándole el user, la password y el host del servidor MySQL al que queremos conectarnos. En este caso, al querer crear una base de datos nueva, no hemos indicado a qué base de datos nos queríamos conectar.\n",
    "\n",
    "Posteriormente, se ha creado un cursor para ejecutar la sentencia SQL que creará la base de datos de nombre BD_pruebas. Llamando al método *execute()* se envía el comando al servidor.\n",
    "\n",
    "En este caso, vamos a aprovechar para introducir el manejo de excepciones a la hora de trabajar con MySQL Connector/Python. Todas las clases de excepción que pueden darse al trabajar con esta librería se encuentran en el paquete mysql.connector.errors. Podemos usarlo para capturar y mostrar la información acerca de los errores que sucedan.\n",
    "\n",
    "Si ejecutamos dos veces seguidas el código anterior, la segunda vez que el programa intente crear la base de datos, recibirá un mensaje del servidor diciendo que ya existe una base de datos con ese mismo nombre. Debido a esto, el programa terminará con un error. Usando *except* y *mysql.connector.Error* podemos mostrar por pantalla más información acerca del error. Una segunda ejecución del código devolverá el error: \"Can't create database 'bd_pruebas'; database exists\"."
   ]
  },
  {
   "cell_type": "markdown",
   "metadata": {},
   "source": [
    "## Crear una tabla usando MySQL Connector/Python:\n",
    "\n",
    "Para crear una tabla en MySQL desde Python, podemos ejecutar la siguiente sentencia usando un cursor y el método *execute()*:"
   ]
  },
  {
   "cell_type": "code",
   "execution_count": 4,
   "metadata": {},
   "outputs": [
    {
     "name": "stdout",
     "output_type": "stream",
     "text": [
      "1050 (42S01): Table 'customers' already exists\n",
      "Error Code: 1050\n",
      "SQLSTATE 42S01\n",
      "Message Table 'customers' already exists\n"
     ]
    }
   ],
   "source": [
    "import mysql.connector\n",
    "\n",
    "cnx = mysql.connector.connect(user='root', password='AlumnaAdalab',\n",
    "                              host='127.0.0.1', database='BD_pruebas')\n",
    "\n",
    "\n",
    "mycursor = cnx.cursor()\n",
    "try:\n",
    "    mycursor.execute(\"CREATE TABLE customers (name VARCHAR(255), address VARCHAR(255))\")\n",
    "    print(mycursor)\n",
    "except mysql.connector.Error as err:\n",
    "    print(err)\n",
    "    print(\"Error Code:\", err.errno)\n",
    "    print(\"SQLSTATE\", err.sqlstate)\n",
    "    print(\"Message\", err.msg)\n"
   ]
  },
  {
   "cell_type": "markdown",
   "metadata": {},
   "source": [
    "De la misma manera que al intentar crear una base de datos, en este caso se vuelve necesario el tratamiento de excepciones ya que no se pueden crear dos tablas con el mismo nombre en una base de datos. Una segunda ejecución del código devolverá el error: \"Table 'customers' already exists\"."
   ]
  },
  {
   "cell_type": "markdown",
   "metadata": {},
   "source": [
    "## Alterando una tabla ya existente usando MySQL Connector/Python:\n",
    "\n",
    "Una vez ya hemos definido una tabla con CREATE, puede ser necesario cambiar su estructura para añadir o eliminar columnas o restricciones a las mismas. Realizaremos esta tarea con el uso de un cursor y *execute()*:"
   ]
  },
  {
   "cell_type": "code",
   "execution_count": 6,
   "metadata": {},
   "outputs": [
    {
     "name": "stdout",
     "output_type": "stream",
     "text": [
      "1060 (42S21): Duplicate column name 'id'\n",
      "Error Code: 1060\n",
      "SQLSTATE 42S21\n",
      "Message Duplicate column name 'id'\n"
     ]
    }
   ],
   "source": [
    "import mysql.connector\n",
    "\n",
    "cnx = mysql.connector.connect(user='root', password='AlumnaAdalab',\n",
    "                              host='127.0.0.1', database='BD_pruebas')\n",
    "\n",
    "\n",
    "mycursor = cnx.cursor()\n",
    "try:\n",
    "    mycursor.execute(\"ALTER TABLE customers ADD COLUMN id INT AUTO_INCREMENT PRIMARY KEY\")\n",
    "    print(mycursor)\n",
    "except mysql.connector.Error as err:\n",
    "    print(err)\n",
    "    print(\"Error Code:\", err.errno)\n",
    "    print(\"SQLSTATE\", err.sqlstate)\n",
    "    print(\"Message\", err.msg)"
   ]
  },
  {
   "cell_type": "markdown",
   "metadata": {},
   "source": [
    "El anterior código añade una columna llamada *id* con tipo de dato número entero (int) a la tabla *customers*. Adicionalmente estamos definiendo varias restricciones o constraints para la columna. Estas son: que sea clave primaria y que se incremente automaticamente. De esta manera, el valor de ID nunca podrá ser igual para dos entradas de la tabla (PRIMARY KEY), y si no indicamos un valor a la hora de introducir un nuevo registro, a este se le asignará un valor único automáticamente (AUTO_INCREMENT).\n",
    "\n",
    "De nuevo se hace necesario el manejo de excepciones ya que no podemos añadir a la misma tabla varias columnas con el mismo nombre. Una segunda ejecución del código devolverá el error: \"Duplicate column name 'id'\"."
   ]
  },
  {
   "cell_type": "markdown",
   "metadata": {},
   "source": [
    "## Insertar datos en una tabla usando MySQL Connector/Python:\n",
    "\n",
    "Ahora que ya hemos creado una base de datos, una tabla dentro de la misma, y definido algunas columnas junto con sus tipos de datos y restricciones, podemos comenzar a insertar registros en la misma:"
   ]
  },
  {
   "cell_type": "code",
   "execution_count": 7,
   "metadata": {},
   "outputs": [
    {
     "name": "stdout",
     "output_type": "stream",
     "text": [
      "1 registro insertado.\n"
     ]
    }
   ],
   "source": [
    "import mysql.connector\n",
    "\n",
    "cnx = mysql.connector.connect(user='root', password='AlumnaAdalab',\n",
    "                              host='127.0.0.1', database='BD_pruebas')\n",
    "\n",
    "\n",
    "mycursor = cnx.cursor()\n",
    "sql = \"INSERT INTO customers (name, address) VALUES (%s, %s)\"\n",
    "val = (\"Ana\", \"Calle 21\")\n",
    "try: \n",
    "    mycursor.execute(sql, val)\n",
    "    cnx.commit()\n",
    "    print(mycursor.rowcount, \"registro insertado.\")\n",
    "\n",
    "except mysql.connector.Error as err:\n",
    "    print(err)\n",
    "    print(\"Error Code:\", err.errno)\n",
    "    print(\"SQLSTATE\", err.sqlstate)\n",
    "    print(\"Message\", err.msg)"
   ]
  },
  {
   "cell_type": "markdown",
   "metadata": {},
   "source": [
    "En el código anterior realizamos la conexión con la base de datos BD_pruebas de la manera habitual. Después de crear el cursor *mycursor*, pasamos a definir la sentencia SQL que usaremos para insertar los datos en la tabla. En este caso diferenciamos entre dos argumentos que le pasamos a *execute()*: la sintaxis de la sentencia SQL (*sql*) y los valores concretos (*val*). De esta manera podemos reutilizar la misma estructura del INSERT para guardar muchos valores en la tabla solo teniendo que cambiar el contenido de *val*.\n",
    "\n",
    "**Uso de commit:** A la hora de trabajar con sentencias INSERT es necesario el uso de *commit()* para que los cambios se efectuen en la base de datos. De no llamar a ese método, las inserciones no se llevarán a cabo. Una manera de trabajo interesante es usar *execute()* para ejecutar todas las inserciones una tras otra y al terminar, llamar a *commit()* una sola vez. El uso de este método también nos permite realizar los cambios en la base de datos solo cuando estemos seguros de que todos ellos son correctos. \n",
    "\n",
    "**Inserción de múltiples registros:** Si quisieramos insertar múltiples filas en una misma tabla, podríamos definir todos los datos de las mismas dentro de la variable *val* en forma de un array de tuplas, para luego pasarla como argumento a *executemany()* (en vez de a *execute()*):\n"
   ]
  },
  {
   "cell_type": "code",
   "execution_count": 10,
   "metadata": {},
   "outputs": [
    {
     "name": "stdout",
     "output_type": "stream",
     "text": [
      "4 registro/s insertado/s.\n"
     ]
    }
   ],
   "source": [
    "import mysql.connector\n",
    "\n",
    "cnx = mysql.connector.connect(user='root', password='AlumnaAdalab',\n",
    "                              host='127.0.0.1', database='BD_pruebas')\n",
    "\n",
    "\n",
    "mycursor = cnx.cursor()\n",
    "sql = \"INSERT INTO customers (name, address) VALUES (%s, %s)\"\n",
    "val = [\n",
    "  ('Ana', 'Lowstreet 4'),\n",
    "  ('Rocio', 'Apple st 652'),\n",
    "  ('Juana', 'Mountain 21'),\n",
    "  ('Pedro', 'Valley 345')\n",
    "]\n",
    "\n",
    "try: \n",
    "    mycursor.executemany(sql, val)\n",
    "    cnx.commit()\n",
    "    print(mycursor.rowcount, \"registro/s insertado/s.\")\n",
    "\n",
    "except mysql.connector.Error as err:\n",
    "    print(err)\n",
    "    print(\"Error Code:\", err.errno)\n",
    "    print(\"SQLSTATE\", err.sqlstate)\n",
    "    print(\"Message\", err.msg)"
   ]
  },
  {
   "cell_type": "markdown",
   "metadata": {},
   "source": [
    "**Uso de rollback:** Si después de haber realizado una transacción con *execute()* nos diésemos cuenta de que los datos que hemos introducido son incorrectos en alguna manera, si aún no hemos ejecutado *commit()* podríamos dar marcha atrás y desestimar los cambios usando *rollback()*:"
   ]
  },
  {
   "cell_type": "code",
   "execution_count": 11,
   "metadata": {},
   "outputs": [
    {
     "name": "stdout",
     "output_type": "stream",
     "text": [
      "1 registro no insertado.\n",
      "[('Ana', 'Calle 21', 1), ('Ana', 'Lowstreet 4', 2), ('Rocio', 'Apple st 652', 3), ('Juana', 'Mountain 21', 4), ('Pedro', 'Valley 345', 5), ('Ana', 'Lowstreet 4', 7), ('Rocio', 'Apple st 652', 8), ('Juana', 'Mountain 21', 9), ('Pedro', 'Valley 345', 10)]\n"
     ]
    }
   ],
   "source": [
    "import mysql.connector\n",
    "\n",
    "cnx = mysql.connector.connect(user='root', password='AlumnaAdalab',\n",
    "                              host='127.0.0.1', database='BD_pruebas')\n",
    "\n",
    "\n",
    "mycursor = cnx.cursor()\n",
    "sql = \"INSERT INTO customers (name, address) VALUES (%s, %s)\"\n",
    "val = (\"Lucia\", \"Plaza 22\")\n",
    "try:\n",
    "    mycursor.execute(sql, val)\n",
    "    cnx.rollback()\n",
    "    print(mycursor.rowcount, \"registro no insertado.\")\n",
    "\n",
    "except mysql.connector.Error as err:\n",
    "    print(err)\n",
    "    print(\"Error Code:\", err.errno)\n",
    "    print(\"SQLSTATE\", err.sqlstate)\n",
    "    print(\"Message\", err.msg)\n",
    "\n",
    "mycursor.execute(\"SELECT * FROM customers\")  \n",
    "results = mycursor.fetchall()\n",
    "print(results)"
   ]
  },
  {
   "cell_type": "markdown",
   "metadata": {},
   "source": [
    "En el código anterior definimos la inserción, llamamos a *execute()* pero luego decidimos que no queremos implementar los cambios en la tabla. Para volver al estado anterior y desestimar los cambios, podemos usar *rollback()*. La llamada a este método eliminará los cambios propuestos por todos los *execute()* realizados desde la última llamada a *commit()*."
   ]
  },
  {
   "cell_type": "markdown",
   "metadata": {},
   "source": [
    "## Actualizar una tabla usando MySQL Connector/Python:\n",
    "\n",
    "La librería también permite actualizar los datos de registros ya existentes en la tabla mediante la ejecución de sentencias UPDATE:"
   ]
  },
  {
   "cell_type": "code",
   "execution_count": 12,
   "metadata": {},
   "outputs": [
    {
     "name": "stdout",
     "output_type": "stream",
     "text": [
      "2 registro/s modificado/s.\n",
      "[('Ana', 'Calle 21', 1), ('Ana', 'Lowstreet 4', 2), ('Rocio', 'Apple st 652', 3), ('Juana', 'Mountain 21', 4), ('Pedro', 'Canyon 123', 5), ('Ana', 'Lowstreet 4', 7), ('Rocio', 'Apple st 652', 8), ('Juana', 'Mountain 21', 9), ('Pedro', 'Canyon 123', 10)]\n"
     ]
    }
   ],
   "source": [
    "import mysql.connector\n",
    "\n",
    "cnx = mysql.connector.connect(user='root', password='AlumnaAdalab',\n",
    "                              host='127.0.0.1', database='BD_pruebas')\n",
    "\n",
    "\n",
    "mycursor = cnx.cursor()\n",
    "sql = \"UPDATE customers SET address = 'Canyon 123' WHERE address = 'Valley 345'\"\n",
    "try:\n",
    "    mycursor.execute(sql)\n",
    "    cnx.commit()\n",
    "    print(mycursor.rowcount, \"registro/s modificado/s.\")\n",
    "\n",
    "except mysql.connector.Error as err:\n",
    "    print(err)\n",
    "    print(\"Error Code:\", err.errno)\n",
    "    print(\"SQLSTATE\", err.sqlstate)\n",
    "    print(\"Message\", err.msg)\n",
    "\n",
    "mycursor.execute(\"SELECT * FROM customers\")  \n",
    "results = mycursor.fetchall()\n",
    "print(results)"
   ]
  },
  {
   "cell_type": "markdown",
   "metadata": {},
   "source": [
    "Este tipo de sentencias también necesitan de la ejecución de *commit()* para que los cambios se lleven a cabo. Igualmente, podemos usar *rollback()* para desestimarlos."
   ]
  },
  {
   "cell_type": "markdown",
   "metadata": {},
   "source": [
    "## Eliminar registros de una tabla usando MySQL Connector/Python:\n",
    "\n",
    "Si queremos eliminar un registro de una tabla existente, se puede usar *execute()* con la sentencia SQL \"DELETE FROM\":"
   ]
  },
  {
   "cell_type": "code",
   "execution_count": 13,
   "metadata": {},
   "outputs": [
    {
     "name": "stdout",
     "output_type": "stream",
     "text": [
      "1 registro/s eliminado/s\n"
     ]
    }
   ],
   "source": [
    "import mysql.connector\n",
    "\n",
    "cnx = mysql.connector.connect(user='root', password='AlumnaAdalab',\n",
    "                              host='127.0.0.1', database='BD_pruebas')\n",
    "\n",
    "\n",
    "mycursor = cnx.cursor()\n",
    "sql = \"DELETE FROM customers WHERE address = 'Calle 21'\"\n",
    "try:\n",
    "    mycursor.execute(sql)\n",
    "    cnx.commit()\n",
    "    print(mycursor.rowcount, \"registro/s eliminado/s\")\n",
    "\n",
    "except mysql.connector.Error as err:\n",
    "    print(err)\n",
    "    print(\"Error Code:\", err.errno)\n",
    "    print(\"SQLSTATE\", err.sqlstate)\n",
    "    print(\"Message\", err.msg)"
   ]
  },
  {
   "cell_type": "markdown",
   "metadata": {},
   "source": [
    "## Eliminar una tabla usando MySQL Connector/Python:\n",
    "\n",
    "Por último, podemos eliminar una tabla entera usando *execute()* y \"DROP TABLE\":"
   ]
  },
  {
   "cell_type": "code",
   "execution_count": 15,
   "metadata": {},
   "outputs": [
    {
     "name": "stdout",
     "output_type": "stream",
     "text": [
      "1051 (42S02): Unknown table 'bd_pruebas.customers'\n",
      "Error Code: 1051\n",
      "SQLSTATE 42S02\n",
      "Message Unknown table 'bd_pruebas.customers'\n"
     ]
    }
   ],
   "source": [
    "import mysql.connector\n",
    "\n",
    "cnx = mysql.connector.connect(user='root', password='AlumnaAdalab',\n",
    "                              host='127.0.0.1', database='BD_pruebas')\n",
    "\n",
    "\n",
    "mycursor = cnx.cursor()\n",
    "sql = \"DROP TABLE customers\"\n",
    "try:\n",
    "    mycursor.execute(sql)\n",
    "\n",
    "except mysql.connector.Error as err:\n",
    "    print(err)\n",
    "    print(\"Error Code:\", err.errno)\n",
    "    print(\"SQLSTATE\", err.sqlstate)\n",
    "    print(\"Message\", err.msg)"
   ]
  },
  {
   "cell_type": "markdown",
   "metadata": {},
   "source": [
    "Si intentamos eliminar una tabla que no exista en la base de datos, la excepción contendrá un mensaje de error del tipo: Unknown table 'bd_pruebas.customers'"
   ]
  },
  {
   "cell_type": "markdown",
   "metadata": {},
   "source": [
    "#### ENUNCIADO EJERCICIOS\n",
    "\n",
    "En este conjunto de ejercicios vamos a volver a usar la tabla Customers (Clientes/as) que vamos a importar en MySQL Workbench. Si tienes dudas de como importarla, revisita la página asociada de tutorial.\n",
    "\n",
    "La tabla Customers tiene las siguientes columnas:\n",
    "\n",
    "**Customers**(`customerNumber`, `customerName`, `contactLastName`, `contactFirstName`, `phone`, `addressLine1`, `addressLine2`, `city`, `state`, `postalCode`, `country`, `salesRepEmployeeNumber`, `creditLimit`) \n",
    "\n",
    "Cada columna es bastante autodescriptiva en su nombre, pero vamos a incluir una pequeña descripción: \n",
    "\n",
    "- *customerNumber*: el número identificativo de las clientas/es. Es un número entero y sirve de clave primaria.\n",
    "- *customerName*: el nombre de las empresas en las que trabajan las/los clientas/es. Es una cadena de texto.\n",
    "- *contactLastName*: El apellido de la persona de contacto en la empresa cliente. Es una cadena de texto.\n",
    "- *contactFirstName*: El nombre de la persona de contacto en la empresa cliente. Es una cadena de texto.\n",
    "- *phone*: El teléfono de la persona de contacto en la empresa cliente. Es una cadena de texto (ya que hay espacios).\n",
    "- *adressLine1*: La dirección (calle, número, etc.) de la empresa cliente. Es una cadena de texto.\n",
    "- *adressLine2*: La dirección de la empresa cliente (si se necesita mas espacio). Es una cadena de texto. Muchas veces está vacía.\n",
    "- *city*: La ciudad de la empresa cliente.\n",
    "- *state*: El estado en el que se encuentra la empresa cliente. Válido para los Estados Unidos. Es una cadena de texto.\n",
    "- *postalCode*: El código postal. Es una cadena de texto (ya que puede haber espacios).\n",
    "- *country*: El país de la empresa cliente. Es una cadena de texto.\n",
    "- *salesRepEmployeeNumber*: El número identificador de la empleada o empleado que lleva a esa empresa cliente. Es un número entero.\n",
    "- *creditLimit*: El límite de crédito que tiene la empresa cliente. \n",
    "\n",
    "La tabla Employees tiene las siguientes columnas: \n",
    "\n",
    "- *employeeNumber*: el número identificativo de las empleadas/os. Es un número entero y sirve de clave primaria.\n",
    "- *lastName*: el apellido de las empleadas. Es una cadena de texto.\n",
    "- *firstName*: el nombre de las empleadas. Es una cadena de texto.\n",
    "- *extension*: su extensión telefónica. Es una cadena de texto.\n",
    "- *email*: el correo electrónico de la empleada. Es una cadena de texto.\n",
    "- *officeCode*: El código de la oficina de la empleada. Es una cadena de texto.\n",
    "- *reportsTo*: el número identificativo de la empleada a la que reporta (su supervisora). Es un número entero y clave foránea (relacionada con employeeNumber).\n",
    "- *jobTitle*: el nombre del puesto de trabajo que desempeña. Es una cadena de texto.\n",
    "\n",
    "\n",
    "Considera que la base de datos que contiene estas tablas se llama \"tienda\"."
   ]
  },
  {
   "cell_type": "markdown",
   "metadata": {},
   "source": [
    "#### EJERCICIO 1\n",
    "\n",
    "Crea una tabla Proyectos con información acerca de los proyectos de una empresa. Que al menos tenga los campos ID_Proyecto, NombreProyecto, Presupuesto.\n",
    "Piensa cómo definir los tipos de datos de las columnas, clave primaria, clave foránea y otras restricciones."
   ]
  },
  {
   "cell_type": "code",
   "execution_count": 37,
   "metadata": {},
   "outputs": [
    {
     "name": "stdout",
     "output_type": "stream",
     "text": [
      "MySQLCursor: CREATE TABLE proyectos (ID_Proyecto INT ..\n"
     ]
    }
   ],
   "source": [
    "import mysql.connector\n",
    "\n",
    "cnx = mysql.connector.connect(user='root', password='AlumnaAdalab',\n",
    "                              host='127.0.0.1', database='tienda')\n",
    "\n",
    "mycursor = cnx.cursor()\n",
    "\n",
    "try:\n",
    "    mycursor.execute(\"\"\"CREATE TABLE proyectos (ID_Proyecto INT PRIMARY KEY AUTO_INCREMENT, NombreProyecto VARCHAR(200), Presupuesto FLOAT)\"\"\")\n",
    "    print(mycursor)\n",
    "except mysql.connector.Error as err:\n",
    "    print(err)\n",
    "    print(\"Error Code:\", err.errno)\n",
    "    print(\"SQLSTATE\", err.sqlstate)\n",
    "    print(\"Message\", err.msg)\n",
    "\n"
   ]
  },
  {
   "cell_type": "markdown",
   "metadata": {},
   "source": [
    "#### EJERCICIO 2\n",
    "Crea una tabla llamada \"EmpleadasYProyectos\" que contenga información sobre proyectos a los que esten asociadas las empleadas. Haz que dicha tabla tenga dos atributos: ID_Empleada e ID_Proyecto."
   ]
  },
  {
   "cell_type": "code",
   "execution_count": 28,
   "metadata": {},
   "outputs": [
    {
     "name": "stdout",
     "output_type": "stream",
     "text": [
      "MySQLCursor: CREATE TABLE EmpleadasYProyectos (ID_Emp..\n"
     ]
    }
   ],
   "source": [
    "cnx = mysql.connector.connect(user='root', password='AlumnaAdalab',\n",
    "                              host='127.0.0.1', database='tienda')\n",
    "\n",
    "mycursor = cnx.cursor()\n",
    "\n",
    "try:\n",
    "    mycursor.execute(\"\"\"CREATE TABLE EmpleadasYProyectos (ID_Empleada INT PRIMARY KEY AUTO_INCREMENT, ID_proyecto INT)\"\"\")\n",
    "    \n",
    "    print(mycursor)\n",
    "except mysql.connector.Error as err:\n",
    "    print(err)\n",
    "    print(\"Error Code:\", err.errno)\n",
    "    print(\"SQLSTATE\", err.sqlstate)\n",
    "    print(\"Message\", err.msg)"
   ]
  },
  {
   "cell_type": "markdown",
   "metadata": {},
   "source": [
    "#### EJERCICIO 3\n",
    "\n",
    "Inserta entradas en la tabla Proyectos (las que quieras, pero al menos 3):"
   ]
  },
  {
   "cell_type": "code",
   "execution_count": 38,
   "metadata": {},
   "outputs": [
    {
     "name": "stdout",
     "output_type": "stream",
     "text": [
      "MySQLCursor: INSERT INTO proyectos (ID_Proyecto, Nomb..\n"
     ]
    }
   ],
   "source": [
    "sql = \"INSERT INTO proyectos (ID_Proyecto, NombreProyecto, Presupuesto) VALUES (%s, %s, %s)\"\n",
    "val = [\n",
    "  ('1', 'Adalab', '3456.4'),\n",
    "  ('2', 'Movidas', '4576.23'),\n",
    "  ('3', 'Cosas secretas', '5654.0'),\n",
    "  ('4', 'Arbol de navidad', '76.09')\n",
    "]\n",
    "\n",
    "try:\n",
    "    mycursor.executemany(sql, val)\n",
    "    cnx.commit()\n",
    "    print(mycursor)\n",
    "except mysql.connector.Error as err:\n",
    "    print(err)\n",
    "    print(\"Error Code:\", err.errno)\n",
    "    print(\"SQLSTATE\", err.sqlstate)\n",
    "    print(\"Message\", err.msg)"
   ]
  },
  {
   "cell_type": "markdown",
   "metadata": {},
   "source": [
    "#### EJERCICIO 4\n",
    "\n",
    "Elimina el último registro de los que insertaste en el ejercicio anterior:"
   ]
  },
  {
   "cell_type": "code",
   "execution_count": 39,
   "metadata": {},
   "outputs": [
    {
     "name": "stdout",
     "output_type": "stream",
     "text": [
      "1 registro/s eliminado/s\n"
     ]
    }
   ],
   "source": [
    "mycursor = cnx.cursor()\n",
    "sql = \"DELETE FROM proyectos WHERE ID_Proyecto = '4'\"\n",
    "try:\n",
    "    mycursor.execute(sql)\n",
    "    cnx.commit()\n",
    "    print(mycursor.rowcount, \"registro/s eliminado/s\")\n",
    "\n",
    "except mysql.connector.Error as err:\n",
    "    print(err)\n",
    "    print(\"Error Code:\", err.errno)\n",
    "    print(\"SQLSTATE\", err.sqlstate)\n",
    "    print(\"Message\", err.msg)"
   ]
  },
  {
   "cell_type": "markdown",
   "metadata": {},
   "source": [
    "#### EJERCICIO 5\n",
    "\n",
    "Elimina la tabla EmpleadasYProyectos:"
   ]
  },
  {
   "cell_type": "code",
   "execution_count": 40,
   "metadata": {},
   "outputs": [],
   "source": [
    "\n",
    "sql = \"DROP TABLE EmpleadasYProyectos\"\n",
    "try:\n",
    "    mycursor.execute(sql)\n",
    "\n",
    "except mysql.connector.Error as err:\n",
    "    print(err)\n",
    "    print(\"Error Code:\", err.errno)\n",
    "    print(\"SQLSTATE\", err.sqlstate)\n",
    "    print(\"Message\", err.msg)"
   ]
  },
  {
   "cell_type": "markdown",
   "metadata": {},
   "source": [
    "#### EJERCICIO 6\n",
    "\n",
    "Crea una base de datos llamada BD_Alumna:"
   ]
  },
  {
   "cell_type": "code",
   "execution_count": 41,
   "metadata": {},
   "outputs": [
    {
     "name": "stdout",
     "output_type": "stream",
     "text": [
      "MySQLCursor: CREATE SCHEMA BD_Alumna\n"
     ]
    }
   ],
   "source": [
    "try:\n",
    "    mycursor.execute(\"\"\"CREATE SCHEMA BD_Alumna\"\"\")\n",
    "    \n",
    "    print(mycursor)\n",
    "except mysql.connector.Error as err:\n",
    "    print(err)\n",
    "    print(\"Error Code:\", err.errno)\n",
    "    print(\"SQLSTATE\", err.sqlstate)\n",
    "    print(\"Message\", err.msg)"
   ]
  },
  {
   "cell_type": "markdown",
   "metadata": {},
   "source": [
    "#### EJERCICIO 7\n",
    "\n",
    "Actualiza la primera entrada de la tabla Proyectos cambiando el Presupuesto del proyecto con ID_Proyecto = 1 a 30000€:"
   ]
  },
  {
   "cell_type": "code",
   "execution_count": 42,
   "metadata": {},
   "outputs": [
    {
     "name": "stdout",
     "output_type": "stream",
     "text": [
      "1 registro/s modificado/s.\n"
     ]
    }
   ],
   "source": [
    "sql = \"UPDATE proyectos SET presupuesto = '30000' WHERE ID_Proyecto = '1'\"\n",
    "try:\n",
    "    mycursor.execute(sql)\n",
    "    cnx.commit()\n",
    "    print(mycursor.rowcount, \"registro/s modificado/s.\")\n",
    "\n",
    "except mysql.connector.Error as err:\n",
    "    print(err)\n",
    "    print(\"Error Code:\", err.errno)\n",
    "    print(\"SQLSTATE\", err.sqlstate)\n",
    "    print(\"Message\", err.msg)"
   ]
  },
  {
   "cell_type": "code",
   "execution_count": 43,
   "metadata": {},
   "outputs": [],
   "source": [
    "mycursor.close()\n",
    "cnx.close()"
   ]
  }
 ],
 "metadata": {
  "kernelspec": {
   "display_name": "Python 3.8.10 64-bit (microsoft store)",
   "language": "python",
   "name": "python3"
  },
  "language_info": {
   "codemirror_mode": {
    "name": "ipython",
    "version": 3
   },
   "file_extension": ".py",
   "mimetype": "text/x-python",
   "name": "python",
   "nbconvert_exporter": "python",
   "pygments_lexer": "ipython3",
   "version": "3.8.10"
  },
  "orig_nbformat": 4,
  "vscode": {
   "interpreter": {
    "hash": "79dd3c927003417683b619f87ecd0018a9d7de8be3a2646bb47397e38116df1b"
   }
  }
 },
 "nbformat": 4,
 "nbformat_minor": 2
}

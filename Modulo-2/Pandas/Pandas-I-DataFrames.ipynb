{
 "cells": [
  {
   "cell_type": "markdown",
   "id": "669283d0",
   "metadata": {
    "toc": true
   },
   "source": [
    "<h1>Table of Contents<span class=\"tocSkip\"></span></h1>\n",
    "<div class=\"toc\"><ul class=\"toc-item\"><li><span><a href=\"#¿Qué-es-un-DataFrame?\" data-toc-modified-id=\"¿Qué-es-un-DataFrame?-1\"><span class=\"toc-item-num\">1&nbsp;&nbsp;</span>¿Qué es un <em>DataFrame</em>?</a></span></li><li><span><a href=\"#Creación-de-DataFrames\" data-toc-modified-id=\"Creación-de-DataFrames-2\"><span class=\"toc-item-num\">2&nbsp;&nbsp;</span>Creación de <em>DataFrames</em></a></span><ul class=\"toc-item\"><li><span><a href=\"#Dataframe-vacío\" data-toc-modified-id=\"Dataframe-vacío-2.1\"><span class=\"toc-item-num\">2.1&nbsp;&nbsp;</span><em>DataFrame</em> vacío</a></span></li><li><span><a href=\"#Dataframe-desde-un-diccionario\" data-toc-modified-id=\"Dataframe-desde-un-diccionario-2.2\"><span class=\"toc-item-num\">2.2&nbsp;&nbsp;</span><em>DataFrame</em> desde un diccionario</a></span></li><li><span><a href=\"#DataFrame-desde-un-NumPy-array\" data-toc-modified-id=\"DataFrame-desde-un-NumPy-array-2.3\"><span class=\"toc-item-num\">2.3&nbsp;&nbsp;</span><em>DataFrame</em> desde un NumPy <em>array</em></a></span></li><li><span><a href=\"#Dataframe-desde-lista-de-diccionarios\" data-toc-modified-id=\"Dataframe-desde-lista-de-diccionarios-2.4\"><span class=\"toc-item-num\">2.4&nbsp;&nbsp;</span><em>DataFrame</em> desde lista de diccionarios</a></span></li></ul></li><li><span><a href=\"#loc-e-iloc\" data-toc-modified-id=\"loc-e-iloc-3\"><span class=\"toc-item-num\">3&nbsp;&nbsp;</span><code>loc</code> e <code>iloc</code></a></span><ul class=\"toc-item\"><li><span><a href=\"#Selección-a-través-de-un-único-elemento\" data-toc-modified-id=\"Selección-a-través-de-un-único-elemento-3.1\"><span class=\"toc-item-num\">3.1&nbsp;&nbsp;</span>Selección a través de un único elemento</a></span></li><li><span><a href=\"#Selección-a-través-de-una-lista-de-valores\" data-toc-modified-id=\"Selección-a-través-de-una-lista-de-valores-3.2\"><span class=\"toc-item-num\">3.2&nbsp;&nbsp;</span>Selección a través de una lista de valores</a></span></li><li><span><a href=\"#Selección-de-un-rango-de-datos-a-través-de-un-corte\" data-toc-modified-id=\"Selección-de-un-rango-de-datos-a-través-de-un-corte-3.3\"><span class=\"toc-item-num\">3.3&nbsp;&nbsp;</span>Selección de un rango de datos a través de un corte</a></span></li><li><span><a href=\"#Seleccionar-basado-en-una-condición\" data-toc-modified-id=\"Seleccionar-basado-en-una-condición-3.4\"><span class=\"toc-item-num\">3.4&nbsp;&nbsp;</span>Seleccionar basado en una condición</a></span></li></ul></li><li><span><a href=\"#Creación-y-borrado-de-columnas\" data-toc-modified-id=\"Creación-y-borrado-de-columnas-4\"><span class=\"toc-item-num\">4&nbsp;&nbsp;</span>Creación y borrado de columnas</a></span><ul class=\"toc-item\"><li><span><a href=\"#Creación-de-columnas\" data-toc-modified-id=\"Creación-de-columnas-4.1\"><span class=\"toc-item-num\">4.1&nbsp;&nbsp;</span>Creación de columnas</a></span></li></ul></li></ul></div>"
   ]
  },
  {
   "cell_type": "markdown",
   "id": "d6b579d3",
   "metadata": {},
   "source": [
    "# ¿Qué es un *DataFrame*?\n",
    "\n",
    "Un *DataFrame* es una estructura de datos con dos dimensiones en la cual se puede guardar datos de distintos tipos (strings, enteros, decimales, factores, etc.). \n",
    "\n",
    "Es similar a una hoja de cálculo  o una tabla de SQL.\n",
    "\n",
    "Al igual que en las *Series*, siempre vamos a tener índice que empieza por 0. La diferencia con las *Series* es que en el *DataFrame* tenemos más dimensiones y que, por lo tanto, podremos tener más columnas con valores. \n"
   ]
  },
  {
   "cell_type": "markdown",
   "id": "ed75db9b",
   "metadata": {},
   "source": [
    "# Creación de *DataFrames* \n",
    "\n",
    "Para crear *DataFrames* usaremos el constructor `pd.DataFrame()`, el cual va a aceptar 3 parámetros principales: \n",
    "\n",
    "- `data`: estructura de datos que queremos convertir a *DataFrame*, puiede ser un *array*, un diccionario, una lista, etc. \n",
    "\n",
    "- `index`: ìndice a aplicar a las filas. Si no se especifica, se asiganrá uno por defecto formado por números enteros entre `0` y `n-1`, siendo `n` el numero de filas del *DataFrame*.\n",
    "\n",
    "- `column`: nombre que le queremos aplicar a las columnas. Si no añadimos nada se asignará uno automático formado por números enteros entre `0` y `n-1` siendo `n` el número de columnas. \n",
    "\n",
    "Algunas estructuras a partir de las cuales es posible crear *DataFrames*:\n",
    "\n",
    "- Diccionarios \n",
    "- NumPy Array\n",
    "- Lista de diccionarios"
   ]
  },
  {
   "cell_type": "code",
   "execution_count": 1,
   "id": "303474bf",
   "metadata": {},
   "outputs": [],
   "source": [
    "# antes que nada tenemos que importarnos pandas y NumPy\n",
    "\n",
    "import pandas as pd\n",
    "import numpy as np"
   ]
  },
  {
   "cell_type": "markdown",
   "id": "b728cedf",
   "metadata": {},
   "source": [
    "## *DataFrame* vacío "
   ]
  },
  {
   "cell_type": "code",
   "execution_count": 2,
   "id": "5f7b1d62",
   "metadata": {},
   "outputs": [
    {
     "data": {
      "text/html": [
       "<div>\n",
       "<style scoped>\n",
       "    .dataframe tbody tr th:only-of-type {\n",
       "        vertical-align: middle;\n",
       "    }\n",
       "\n",
       "    .dataframe tbody tr th {\n",
       "        vertical-align: top;\n",
       "    }\n",
       "\n",
       "    .dataframe thead th {\n",
       "        text-align: right;\n",
       "    }\n",
       "</style>\n",
       "<table border=\"1\" class=\"dataframe\">\n",
       "  <thead>\n",
       "    <tr style=\"text-align: right;\">\n",
       "      <th></th>\n",
       "    </tr>\n",
       "  </thead>\n",
       "  <tbody>\n",
       "  </tbody>\n",
       "</table>\n",
       "</div>"
      ],
      "text/plain": [
       "Empty DataFrame\n",
       "Columns: []\n",
       "Index: []"
      ]
     },
     "execution_count": 2,
     "metadata": {},
     "output_type": "execute_result"
    }
   ],
   "source": [
    "vacio = pd.DataFrame()\n",
    "vacio"
   ]
  },
  {
   "cell_type": "markdown",
   "id": "4431311c",
   "metadata": {},
   "source": [
    "## *DataFrame* desde un diccionario "
   ]
  },
  {
   "cell_type": "code",
   "execution_count": 3,
   "id": "96e33e7c",
   "metadata": {},
   "outputs": [],
   "source": [
    "diccionario1 = {\"nombre\": [\"María\", \"Elena\"], \n",
    "               \"apellido\": [\"López\", \"Pérez\"], \n",
    "               \"dni\": [\"009836289-L\", \"0975478953-P\"], \n",
    "               \"edad\": [45, 55]}"
   ]
  },
  {
   "cell_type": "code",
   "execution_count": 4,
   "id": "1dc2b078",
   "metadata": {},
   "outputs": [
    {
     "data": {
      "text/html": [
       "<div>\n",
       "<style scoped>\n",
       "    .dataframe tbody tr th:only-of-type {\n",
       "        vertical-align: middle;\n",
       "    }\n",
       "\n",
       "    .dataframe tbody tr th {\n",
       "        vertical-align: top;\n",
       "    }\n",
       "\n",
       "    .dataframe thead th {\n",
       "        text-align: right;\n",
       "    }\n",
       "</style>\n",
       "<table border=\"1\" class=\"dataframe\">\n",
       "  <thead>\n",
       "    <tr style=\"text-align: right;\">\n",
       "      <th></th>\n",
       "      <th>nombre</th>\n",
       "      <th>apellido</th>\n",
       "      <th>dni</th>\n",
       "      <th>edad</th>\n",
       "    </tr>\n",
       "  </thead>\n",
       "  <tbody>\n",
       "    <tr>\n",
       "      <th>0</th>\n",
       "      <td>María</td>\n",
       "      <td>López</td>\n",
       "      <td>009836289-L</td>\n",
       "      <td>45</td>\n",
       "    </tr>\n",
       "    <tr>\n",
       "      <th>1</th>\n",
       "      <td>Elena</td>\n",
       "      <td>Pérez</td>\n",
       "      <td>0975478953-P</td>\n",
       "      <td>55</td>\n",
       "    </tr>\n",
       "  </tbody>\n",
       "</table>\n",
       "</div>"
      ],
      "text/plain": [
       "  nombre apellido           dni  edad\n",
       "0  María    López   009836289-L    45\n",
       "1  Elena    Pérez  0975478953-P    55"
      ]
     },
     "execution_count": 4,
     "metadata": {},
     "output_type": "execute_result"
    }
   ],
   "source": [
    "clientes = pd.DataFrame(diccionario1)\n",
    "clientes"
   ]
  },
  {
   "cell_type": "markdown",
   "id": "1299bacd",
   "metadata": {},
   "source": [
    "Lo que ha ocurrido es que las *keys* de nuestro diccionario se han convertido en las columnas y los *values* como los valores de cada columna.  "
   ]
  },
  {
   "cell_type": "markdown",
   "id": "1b3fbf40",
   "metadata": {},
   "source": [
    "## *DataFrame* desde un NumPy array"
   ]
  },
  {
   "cell_type": "code",
   "execution_count": 5,
   "id": "2dc855a0",
   "metadata": {},
   "outputs": [
    {
     "data": {
      "text/plain": [
       "array([[1, 2, 3],\n",
       "       [3, 4, 5],\n",
       "       [6, 7, 8]])"
      ]
     },
     "execution_count": 5,
     "metadata": {},
     "output_type": "execute_result"
    }
   ],
   "source": [
    "array = np.array([[1,2,3], [3,4,5], [6,7,8]])\n",
    "array"
   ]
  },
  {
   "cell_type": "code",
   "execution_count": 6,
   "id": "a1173661",
   "metadata": {},
   "outputs": [
    {
     "data": {
      "text/html": [
       "<div>\n",
       "<style scoped>\n",
       "    .dataframe tbody tr th:only-of-type {\n",
       "        vertical-align: middle;\n",
       "    }\n",
       "\n",
       "    .dataframe tbody tr th {\n",
       "        vertical-align: top;\n",
       "    }\n",
       "\n",
       "    .dataframe thead th {\n",
       "        text-align: right;\n",
       "    }\n",
       "</style>\n",
       "<table border=\"1\" class=\"dataframe\">\n",
       "  <thead>\n",
       "    <tr style=\"text-align: right;\">\n",
       "      <th></th>\n",
       "      <th>0</th>\n",
       "      <th>1</th>\n",
       "      <th>2</th>\n",
       "    </tr>\n",
       "  </thead>\n",
       "  <tbody>\n",
       "    <tr>\n",
       "      <th>0</th>\n",
       "      <td>1</td>\n",
       "      <td>2</td>\n",
       "      <td>3</td>\n",
       "    </tr>\n",
       "    <tr>\n",
       "      <th>1</th>\n",
       "      <td>3</td>\n",
       "      <td>4</td>\n",
       "      <td>5</td>\n",
       "    </tr>\n",
       "    <tr>\n",
       "      <th>2</th>\n",
       "      <td>6</td>\n",
       "      <td>7</td>\n",
       "      <td>8</td>\n",
       "    </tr>\n",
       "  </tbody>\n",
       "</table>\n",
       "</div>"
      ],
      "text/plain": [
       "   0  1  2\n",
       "0  1  2  3\n",
       "1  3  4  5\n",
       "2  6  7  8"
      ]
     },
     "execution_count": 6,
     "metadata": {},
     "output_type": "execute_result"
    }
   ],
   "source": [
    "numeros = pd.DataFrame(array)\n",
    "numeros"
   ]
  },
  {
   "cell_type": "markdown",
   "id": "daacee2b",
   "metadata": {},
   "source": [
    "Lo que ha pasado es que nos ha colocado cada array en una columna de nuestro *DataFrame*.\n",
    "\n",
    "> Las filas del NumPy array siguen siendo interpretadas como filas del dataframe.\n",
    "\n",
    "Fijaos que en este caso, como no el nombre de las columnas es que nos ponde pandas por defecto, números enteros empezando por el 0. \n",
    "\n",
    "Para reasignar el valor de la columnas lo que podemos usar es el parámetro `columns`:"
   ]
  },
  {
   "cell_type": "code",
   "execution_count": 7,
   "id": "2aed1b37",
   "metadata": {},
   "outputs": [
    {
     "data": {
      "text/html": [
       "<div>\n",
       "<style scoped>\n",
       "    .dataframe tbody tr th:only-of-type {\n",
       "        vertical-align: middle;\n",
       "    }\n",
       "\n",
       "    .dataframe tbody tr th {\n",
       "        vertical-align: top;\n",
       "    }\n",
       "\n",
       "    .dataframe thead th {\n",
       "        text-align: right;\n",
       "    }\n",
       "</style>\n",
       "<table border=\"1\" class=\"dataframe\">\n",
       "  <thead>\n",
       "    <tr style=\"text-align: right;\">\n",
       "      <th></th>\n",
       "      <th>enero</th>\n",
       "      <th>febrero</th>\n",
       "      <th>marzo</th>\n",
       "    </tr>\n",
       "  </thead>\n",
       "  <tbody>\n",
       "    <tr>\n",
       "      <th>0</th>\n",
       "      <td>1</td>\n",
       "      <td>2</td>\n",
       "      <td>3</td>\n",
       "    </tr>\n",
       "    <tr>\n",
       "      <th>1</th>\n",
       "      <td>3</td>\n",
       "      <td>4</td>\n",
       "      <td>5</td>\n",
       "    </tr>\n",
       "    <tr>\n",
       "      <th>2</th>\n",
       "      <td>6</td>\n",
       "      <td>7</td>\n",
       "      <td>8</td>\n",
       "    </tr>\n",
       "  </tbody>\n",
       "</table>\n",
       "</div>"
      ],
      "text/plain": [
       "   enero  febrero  marzo\n",
       "0      1        2      3\n",
       "1      3        4      5\n",
       "2      6        7      8"
      ]
     },
     "execution_count": 7,
     "metadata": {},
     "output_type": "execute_result"
    }
   ],
   "source": [
    "numeros = pd.DataFrame(array, columns = [\"enero\", \"febrero\", \"marzo\"])\n",
    "numeros"
   ]
  },
  {
   "cell_type": "markdown",
   "id": "45b844a3",
   "metadata": {},
   "source": [
    "Podríamos cambiar también de las etiquetas usando el parámetro `index`:"
   ]
  },
  {
   "cell_type": "code",
   "execution_count": 8,
   "id": "58f114f4",
   "metadata": {},
   "outputs": [
    {
     "data": {
      "text/html": [
       "<div>\n",
       "<style scoped>\n",
       "    .dataframe tbody tr th:only-of-type {\n",
       "        vertical-align: middle;\n",
       "    }\n",
       "\n",
       "    .dataframe tbody tr th {\n",
       "        vertical-align: top;\n",
       "    }\n",
       "\n",
       "    .dataframe thead th {\n",
       "        text-align: right;\n",
       "    }\n",
       "</style>\n",
       "<table border=\"1\" class=\"dataframe\">\n",
       "  <thead>\n",
       "    <tr style=\"text-align: right;\">\n",
       "      <th></th>\n",
       "      <th>enero</th>\n",
       "      <th>febrero</th>\n",
       "      <th>marzo</th>\n",
       "    </tr>\n",
       "  </thead>\n",
       "  <tbody>\n",
       "    <tr>\n",
       "      <th>2019</th>\n",
       "      <td>1</td>\n",
       "      <td>2</td>\n",
       "      <td>3</td>\n",
       "    </tr>\n",
       "    <tr>\n",
       "      <th>2020</th>\n",
       "      <td>3</td>\n",
       "      <td>4</td>\n",
       "      <td>5</td>\n",
       "    </tr>\n",
       "    <tr>\n",
       "      <th>2021</th>\n",
       "      <td>6</td>\n",
       "      <td>7</td>\n",
       "      <td>8</td>\n",
       "    </tr>\n",
       "  </tbody>\n",
       "</table>\n",
       "</div>"
      ],
      "text/plain": [
       "      enero  febrero  marzo\n",
       "2019      1        2      3\n",
       "2020      3        4      5\n",
       "2021      6        7      8"
      ]
     },
     "execution_count": 8,
     "metadata": {},
     "output_type": "execute_result"
    }
   ],
   "source": [
    "numeros = pd.DataFrame(array, columns = [\"enero\", \"febrero\", \"marzo\"], \n",
    "                      index = [2019, 2020, 2021])\n",
    "numeros"
   ]
  },
  {
   "cell_type": "markdown",
   "id": "fcd7ed98",
   "metadata": {},
   "source": [
    "## *DataFrame* desde lista de diccionarios\n",
    "\n",
    "Los diccionarios deberán compartir el mismo conjunto de claves que se interpretarán como etiquetas de columnas. "
   ]
  },
  {
   "cell_type": "code",
   "execution_count": 9,
   "id": "5effbc5a",
   "metadata": {},
   "outputs": [],
   "source": [
    "lista_dicc = [{\"nombre\": [\"María\", \"Elena\"], \n",
    "               \"apellido\": [\"López\", \"Pérez\"], \n",
    "               \"dni\": [\"009836289-L\", \"0975478953-P\"], \n",
    "               \"edad\": [45, 55]}, \n",
    "             {\"nombre\": [\"Lorena\", \"Laura\"], \n",
    "               \"apellido\": [\"Martinez\", \"García\"], \n",
    "               \"dni\": [\"123452986-Y\", \"183609547-M\"], \n",
    "               \"edad\": [24, 26]}]"
   ]
  },
  {
   "cell_type": "code",
   "execution_count": 10,
   "id": "60008351",
   "metadata": {},
   "outputs": [
    {
     "data": {
      "text/html": [
       "<div>\n",
       "<style scoped>\n",
       "    .dataframe tbody tr th:only-of-type {\n",
       "        vertical-align: middle;\n",
       "    }\n",
       "\n",
       "    .dataframe tbody tr th {\n",
       "        vertical-align: top;\n",
       "    }\n",
       "\n",
       "    .dataframe thead th {\n",
       "        text-align: right;\n",
       "    }\n",
       "</style>\n",
       "<table border=\"1\" class=\"dataframe\">\n",
       "  <thead>\n",
       "    <tr style=\"text-align: right;\">\n",
       "      <th></th>\n",
       "      <th>nombre</th>\n",
       "      <th>apellido</th>\n",
       "      <th>dni</th>\n",
       "      <th>edad</th>\n",
       "    </tr>\n",
       "  </thead>\n",
       "  <tbody>\n",
       "    <tr>\n",
       "      <th>0</th>\n",
       "      <td>[María, Elena]</td>\n",
       "      <td>[López, Pérez]</td>\n",
       "      <td>[009836289-L, 0975478953-P]</td>\n",
       "      <td>[45, 55]</td>\n",
       "    </tr>\n",
       "    <tr>\n",
       "      <th>1</th>\n",
       "      <td>[Lorena, Laura]</td>\n",
       "      <td>[Martinez, García]</td>\n",
       "      <td>[123452986-Y, 183609547-M]</td>\n",
       "      <td>[24, 26]</td>\n",
       "    </tr>\n",
       "  </tbody>\n",
       "</table>\n",
       "</div>"
      ],
      "text/plain": [
       "            nombre            apellido                          dni      edad\n",
       "0   [María, Elena]      [López, Pérez]  [009836289-L, 0975478953-P]  [45, 55]\n",
       "1  [Lorena, Laura]  [Martinez, García]   [123452986-Y, 183609547-M]  [24, 26]"
      ]
     },
     "execution_count": 10,
     "metadata": {},
     "output_type": "execute_result"
    }
   ],
   "source": [
    "df = pd.DataFrame.from_dict(lista_dicc)\n",
    "df"
   ]
  },
  {
   "cell_type": "markdown",
   "id": "47b0d4e2",
   "metadata": {},
   "source": [
    "# `loc` e `iloc`\n",
    "\n",
    "En los *dataframes* existen diferentes formas de seleccionar los registros de las filas y columnas. Las dos formas más importantes son\n",
    "\n",
    "- `loc`: va a seleccionar elementos en base a las etiquetas de nuestras filas o columnas. \n",
    "\n",
    "\n",
    "- `iloc`: se basa en la posición, es decir, los índices. "
   ]
  },
  {
   "cell_type": "code",
   "execution_count": 11,
   "id": "ba871d3c",
   "metadata": {},
   "outputs": [
    {
     "data": {
      "text/html": [
       "<div>\n",
       "<style scoped>\n",
       "    .dataframe tbody tr th:only-of-type {\n",
       "        vertical-align: middle;\n",
       "    }\n",
       "\n",
       "    .dataframe tbody tr th {\n",
       "        vertical-align: top;\n",
       "    }\n",
       "\n",
       "    .dataframe thead th {\n",
       "        text-align: right;\n",
       "    }\n",
       "</style>\n",
       "<table border=\"1\" class=\"dataframe\">\n",
       "  <thead>\n",
       "    <tr style=\"text-align: right;\">\n",
       "      <th></th>\n",
       "      <th>Weather</th>\n",
       "      <th>Temperature</th>\n",
       "      <th>Wind</th>\n",
       "      <th>Humidity</th>\n",
       "    </tr>\n",
       "    <tr>\n",
       "      <th>Day</th>\n",
       "      <th></th>\n",
       "      <th></th>\n",
       "      <th></th>\n",
       "      <th></th>\n",
       "    </tr>\n",
       "  </thead>\n",
       "  <tbody>\n",
       "    <tr>\n",
       "      <th>Mon</th>\n",
       "      <td>Sunny</td>\n",
       "      <td>12.79</td>\n",
       "      <td>13</td>\n",
       "      <td>30</td>\n",
       "    </tr>\n",
       "    <tr>\n",
       "      <th>Tue</th>\n",
       "      <td>Sunny</td>\n",
       "      <td>19.67</td>\n",
       "      <td>28</td>\n",
       "      <td>96</td>\n",
       "    </tr>\n",
       "    <tr>\n",
       "      <th>Wed</th>\n",
       "      <td>Sunny</td>\n",
       "      <td>17.51</td>\n",
       "      <td>16</td>\n",
       "      <td>20</td>\n",
       "    </tr>\n",
       "    <tr>\n",
       "      <th>Thu</th>\n",
       "      <td>Cloudy</td>\n",
       "      <td>14.44</td>\n",
       "      <td>11</td>\n",
       "      <td>22</td>\n",
       "    </tr>\n",
       "    <tr>\n",
       "      <th>Fri</th>\n",
       "      <td>Shower</td>\n",
       "      <td>10.51</td>\n",
       "      <td>26</td>\n",
       "      <td>79</td>\n",
       "    </tr>\n",
       "    <tr>\n",
       "      <th>Sat</th>\n",
       "      <td>Shower</td>\n",
       "      <td>11.07</td>\n",
       "      <td>27</td>\n",
       "      <td>62</td>\n",
       "    </tr>\n",
       "    <tr>\n",
       "      <th>Sun</th>\n",
       "      <td>Sunny</td>\n",
       "      <td>17.50</td>\n",
       "      <td>20</td>\n",
       "      <td>10</td>\n",
       "    </tr>\n",
       "  </tbody>\n",
       "</table>\n",
       "</div>"
      ],
      "text/plain": [
       "    Weather  Temperature  Wind  Humidity\n",
       "Day                                     \n",
       "Mon   Sunny        12.79    13        30\n",
       "Tue   Sunny        19.67    28        96\n",
       "Wed   Sunny        17.51    16        20\n",
       "Thu  Cloudy        14.44    11        22\n",
       "Fri  Shower        10.51    26        79\n",
       "Sat  Shower        11.07    27        62\n",
       "Sun   Sunny        17.50    20        10"
      ]
     },
     "execution_count": 11,
     "metadata": {},
     "output_type": "execute_result"
    }
   ],
   "source": [
    "# aunque lo veremos más adelante podemos importar muchos tipos de datos usando pandas\n",
    "## la forma de hacerlo es usando el método \"pd.read_csv\"\n",
    "\n",
    "df = pd.read_csv(\"datos/data.csv\", index_col=[\"Day\"])\n",
    "\n",
    "# veamos que datos tenemos en nuestro dataframe\n",
    "df\n"
   ]
  },
  {
   "cell_type": "markdown",
   "id": "5a59d4cd",
   "metadata": {},
   "source": [
    "## Selección a través de un único elemento"
   ]
  },
  {
   "cell_type": "markdown",
   "id": "58acb3fa",
   "metadata": {},
   "source": [
    "Vamos a seleccionar la `humedad` que hace el `martes`\n",
    "\n",
    "1️⃣  `loc`: la sintaxis sería\n",
    "\n",
    "```python\n",
    "loc[etiqueta_fila , etiqueta_columna]\n",
    "```"
   ]
  },
  {
   "cell_type": "code",
   "execution_count": 12,
   "id": "35bc6bbd",
   "metadata": {},
   "outputs": [
    {
     "data": {
      "text/plain": [
       "96"
      ]
     },
     "execution_count": 12,
     "metadata": {},
     "output_type": "execute_result"
    }
   ],
   "source": [
    "df.loc[\"Tue\", \"Humidity\"]"
   ]
  },
  {
   "cell_type": "markdown",
   "id": "c16890d3",
   "metadata": {},
   "source": [
    "Imaginemos que queremos sacar una fila en concreto pero todas las columnas:\n",
    "\n",
    "> En estos casos tendremos que usar `:`, esto índica que lo queremos todo. Es decir: \n",
    "\n",
    "```python\n",
    "[filas-deseadas, :] # le estamos diciendo que nos busque por una fila dada y nos devuelva todas las columnas\n",
    "\n",
    "[:, columna-deseada] # devuelvenos todas las filas de la columna que especifiquemos\n",
    "```"
   ]
  },
  {
   "cell_type": "code",
   "execution_count": 13,
   "id": "bd0dc7d6",
   "metadata": {},
   "outputs": [
    {
     "data": {
      "text/plain": [
       "Weather        Sunny\n",
       "Temperature    19.67\n",
       "Wind              28\n",
       "Humidity          96\n",
       "Name: Tue, dtype: object"
      ]
     },
     "execution_count": 13,
     "metadata": {},
     "output_type": "execute_result"
    }
   ],
   "source": [
    "# devuelvenos todas las columnas de la fila \"Tue\"\n",
    "\n",
    "df.loc[\"Tue\", :]"
   ]
  },
  {
   "cell_type": "code",
   "execution_count": 14,
   "id": "de6305ce",
   "metadata": {},
   "outputs": [
    {
     "data": {
      "text/plain": [
       "Day\n",
       "Mon    13\n",
       "Tue    28\n",
       "Wed    16\n",
       "Thu    11\n",
       "Fri    26\n",
       "Sat    27\n",
       "Sun    20\n",
       "Name: Wind, dtype: int64"
      ]
     },
     "execution_count": 14,
     "metadata": {},
     "output_type": "execute_result"
    }
   ],
   "source": [
    "# devuelvenos todas las filas que correspondan con la columna \"Wind\"\n",
    "\n",
    "df.loc[:, \"Wind\"]"
   ]
  },
  {
   "cell_type": "markdown",
   "id": "b3757548",
   "metadata": {},
   "source": [
    "2️⃣ `iloc`: la sintaxis sería:\n",
    "\n",
    "```python\n",
    "iloc[índice_fila , índice_columna]\n",
    "```\n",
    "\n",
    "El elemento que queremos está en la fila 2 (que es la posición 1, recordemos que empezamos por el 0) y en la columna 4 (que es la posición 3)"
   ]
  },
  {
   "cell_type": "code",
   "execution_count": 15,
   "id": "42094598",
   "metadata": {},
   "outputs": [
    {
     "data": {
      "text/plain": [
       "96"
      ]
     },
     "execution_count": 15,
     "metadata": {},
     "output_type": "execute_result"
    }
   ],
   "source": [
    "df.iloc[1,3]"
   ]
  },
  {
   "cell_type": "markdown",
   "id": "8ca961cc",
   "metadata": {},
   "source": [
    "Igual que con el `loc` en el `iloc` podemos seleccionar también varias filas para una columna y viceversa"
   ]
  },
  {
   "cell_type": "code",
   "execution_count": 17,
   "id": "4c949e30",
   "metadata": {},
   "outputs": [
    {
     "data": {
      "text/plain": [
       "Weather        Sunny\n",
       "Temperature    19.67\n",
       "Wind              28\n",
       "Humidity          96\n",
       "Name: Tue, dtype: object"
      ]
     },
     "execution_count": 17,
     "metadata": {},
     "output_type": "execute_result"
    }
   ],
   "source": [
    "# devuelve todos los valores de las columnas para la fila 1\n",
    "\n",
    "df.iloc[1,:]"
   ]
  },
  {
   "cell_type": "code",
   "execution_count": 18,
   "id": "2a9c3996",
   "metadata": {},
   "outputs": [
    {
     "data": {
      "text/plain": [
       "Day\n",
       "Mon    30\n",
       "Tue    96\n",
       "Wed    20\n",
       "Thu    22\n",
       "Fri    79\n",
       "Sat    62\n",
       "Sun    10\n",
       "Name: Humidity, dtype: int64"
      ]
     },
     "execution_count": 18,
     "metadata": {},
     "output_type": "execute_result"
    }
   ],
   "source": [
    "# devuelve todos los valores de las filas para la columna 4\n",
    "\n",
    "df.iloc[:,3]"
   ]
  },
  {
   "cell_type": "markdown",
   "id": "c2d9467e",
   "metadata": {},
   "source": [
    "## Selección a través de una lista de valores "
   ]
  },
  {
   "cell_type": "markdown",
   "id": "5d285843",
   "metadata": {},
   "source": [
    "1️⃣ `loc`"
   ]
  },
  {
   "cell_type": "code",
   "execution_count": 20,
   "id": "a2c53cc2",
   "metadata": {},
   "outputs": [
    {
     "data": {
      "text/plain": [
       "Day\n",
       "Tue    28\n",
       "Sat    27\n",
       "Name: Wind, dtype: int64"
      ]
     },
     "execution_count": 20,
     "metadata": {},
     "output_type": "execute_result"
    }
   ],
   "source": [
    "# devuelveme los valores de las filas \"Tue\" y \"Sat\" para la columna \"Wind\"\n",
    "\n",
    "df.loc[[\"Tue\", \"Sat\"], \"Wind\"]"
   ]
  },
  {
   "cell_type": "code",
   "execution_count": 19,
   "id": "74ba90ed",
   "metadata": {},
   "outputs": [
    {
     "data": {
      "text/html": [
       "<div>\n",
       "<style scoped>\n",
       "    .dataframe tbody tr th:only-of-type {\n",
       "        vertical-align: middle;\n",
       "    }\n",
       "\n",
       "    .dataframe tbody tr th {\n",
       "        vertical-align: top;\n",
       "    }\n",
       "\n",
       "    .dataframe thead th {\n",
       "        text-align: right;\n",
       "    }\n",
       "</style>\n",
       "<table border=\"1\" class=\"dataframe\">\n",
       "  <thead>\n",
       "    <tr style=\"text-align: right;\">\n",
       "      <th></th>\n",
       "      <th>Temperature</th>\n",
       "      <th>Wind</th>\n",
       "    </tr>\n",
       "    <tr>\n",
       "      <th>Day</th>\n",
       "      <th></th>\n",
       "      <th></th>\n",
       "    </tr>\n",
       "  </thead>\n",
       "  <tbody>\n",
       "    <tr>\n",
       "      <th>Tue</th>\n",
       "      <td>19.67</td>\n",
       "      <td>28</td>\n",
       "    </tr>\n",
       "    <tr>\n",
       "      <th>Sat</th>\n",
       "      <td>11.07</td>\n",
       "      <td>27</td>\n",
       "    </tr>\n",
       "  </tbody>\n",
       "</table>\n",
       "</div>"
      ],
      "text/plain": [
       "     Temperature  Wind\n",
       "Day                   \n",
       "Tue        19.67    28\n",
       "Sat        11.07    27"
      ]
     },
     "execution_count": 19,
     "metadata": {},
     "output_type": "execute_result"
    }
   ],
   "source": [
    "# seleccionamos múltiples filas y columnas. \n",
    "## ⚠️ Si nos fijamos ya nos devuelve un dataframe!\n",
    "\n",
    "df.loc[[\"Tue\", \"Sat\"], [\"Temperature\", \"Wind\"]]"
   ]
  },
  {
   "cell_type": "markdown",
   "id": "b7ad2844",
   "metadata": {},
   "source": [
    "2️⃣ `iloc`"
   ]
  },
  {
   "cell_type": "code",
   "execution_count": 22,
   "id": "cf6e9128",
   "metadata": {},
   "outputs": [
    {
     "data": {
      "text/plain": [
       "Day\n",
       "Tue    96\n",
       "Sat    62\n",
       "Name: Humidity, dtype: int64"
      ]
     },
     "execution_count": 22,
     "metadata": {},
     "output_type": "execute_result"
    }
   ],
   "source": [
    "# de la misma forma lo podremos hacer con el iloc pasando los índices \n",
    "\n",
    "df.iloc[[1, 5],3]"
   ]
  },
  {
   "cell_type": "code",
   "execution_count": 21,
   "id": "4c5a07a6",
   "metadata": {},
   "outputs": [
    {
     "data": {
      "text/html": [
       "<div>\n",
       "<style scoped>\n",
       "    .dataframe tbody tr th:only-of-type {\n",
       "        vertical-align: middle;\n",
       "    }\n",
       "\n",
       "    .dataframe tbody tr th {\n",
       "        vertical-align: top;\n",
       "    }\n",
       "\n",
       "    .dataframe thead th {\n",
       "        text-align: right;\n",
       "    }\n",
       "</style>\n",
       "<table border=\"1\" class=\"dataframe\">\n",
       "  <thead>\n",
       "    <tr style=\"text-align: right;\">\n",
       "      <th></th>\n",
       "      <th>Temperature</th>\n",
       "      <th>Wind</th>\n",
       "    </tr>\n",
       "    <tr>\n",
       "      <th>Day</th>\n",
       "      <th></th>\n",
       "      <th></th>\n",
       "    </tr>\n",
       "  </thead>\n",
       "  <tbody>\n",
       "    <tr>\n",
       "      <th>Tue</th>\n",
       "      <td>19.67</td>\n",
       "      <td>28</td>\n",
       "    </tr>\n",
       "    <tr>\n",
       "      <th>Sat</th>\n",
       "      <td>11.07</td>\n",
       "      <td>27</td>\n",
       "    </tr>\n",
       "  </tbody>\n",
       "</table>\n",
       "</div>"
      ],
      "text/plain": [
       "     Temperature  Wind\n",
       "Day                   \n",
       "Tue        19.67    28\n",
       "Sat        11.07    27"
      ]
     },
     "execution_count": 21,
     "metadata": {},
     "output_type": "execute_result"
    }
   ],
   "source": [
    "# seleccionamos múltiples filas y columnas y de nuevo nos devuelve un dataframe\n",
    "\n",
    "df.iloc[[1,5], [1,2]]"
   ]
  },
  {
   "cell_type": "markdown",
   "id": "dfac7ed0",
   "metadata": {},
   "source": [
    "## Selección de un rango de datos a través de un corte"
   ]
  },
  {
   "cell_type": "markdown",
   "id": "b1e6860a",
   "metadata": {},
   "source": [
    "1️⃣ `loc`: con este método podemos usar la sintaxsis A:B para seleccionar datos de la etiqueta A a B (ambos incluidos)"
   ]
  },
  {
   "cell_type": "code",
   "execution_count": 22,
   "id": "44be8fcb",
   "metadata": {},
   "outputs": [
    {
     "data": {
      "text/html": [
       "<div>\n",
       "<style scoped>\n",
       "    .dataframe tbody tr th:only-of-type {\n",
       "        vertical-align: middle;\n",
       "    }\n",
       "\n",
       "    .dataframe tbody tr th {\n",
       "        vertical-align: top;\n",
       "    }\n",
       "\n",
       "    .dataframe thead th {\n",
       "        text-align: right;\n",
       "    }\n",
       "</style>\n",
       "<table border=\"1\" class=\"dataframe\">\n",
       "  <thead>\n",
       "    <tr style=\"text-align: right;\">\n",
       "      <th></th>\n",
       "      <th>Temperature</th>\n",
       "      <th>Wind</th>\n",
       "      <th>Humidity</th>\n",
       "    </tr>\n",
       "    <tr>\n",
       "      <th>Day</th>\n",
       "      <th></th>\n",
       "      <th></th>\n",
       "      <th></th>\n",
       "    </tr>\n",
       "  </thead>\n",
       "  <tbody>\n",
       "    <tr>\n",
       "      <th>Thu</th>\n",
       "      <td>14.44</td>\n",
       "      <td>11</td>\n",
       "      <td>22</td>\n",
       "    </tr>\n",
       "    <tr>\n",
       "      <th>Fri</th>\n",
       "      <td>10.51</td>\n",
       "      <td>26</td>\n",
       "      <td>79</td>\n",
       "    </tr>\n",
       "  </tbody>\n",
       "</table>\n",
       "</div>"
      ],
      "text/plain": [
       "     Temperature  Wind  Humidity\n",
       "Day                             \n",
       "Thu        14.44    11        22\n",
       "Fri        10.51    26        79"
      ]
     },
     "execution_count": 22,
     "metadata": {},
     "output_type": "execute_result"
    }
   ],
   "source": [
    "# extrae los valores para las filas \"Thu\" y \"Fri\" y las columnas entre \"Temperature\" y \"Humidity\"\n",
    "\n",
    "df.loc[['Thu', 'Fri'], 'Temperature':'Humidity' ]"
   ]
  },
  {
   "cell_type": "markdown",
   "id": "54ec7c4a",
   "metadata": {},
   "source": [
    "También podemos usar la sintaxis: \n",
    "\n",
    "```python\n",
    "[start:stop:step]\n",
    "\n",
    "df[A:B:2]\n",
    "```\n",
    "\n",
    "Con esto seleccionaremos los datos de la etiqueta A a la B con saltos de dos en dos (de nuevo, A y B están incluidos).  "
   ]
  },
  {
   "cell_type": "code",
   "execution_count": 23,
   "id": "3ffcc255",
   "metadata": {},
   "outputs": [
    {
     "data": {
      "text/html": [
       "<div>\n",
       "<style scoped>\n",
       "    .dataframe tbody tr th:only-of-type {\n",
       "        vertical-align: middle;\n",
       "    }\n",
       "\n",
       "    .dataframe tbody tr th {\n",
       "        vertical-align: top;\n",
       "    }\n",
       "\n",
       "    .dataframe thead th {\n",
       "        text-align: right;\n",
       "    }\n",
       "</style>\n",
       "<table border=\"1\" class=\"dataframe\">\n",
       "  <thead>\n",
       "    <tr style=\"text-align: right;\">\n",
       "      <th></th>\n",
       "      <th>Weather</th>\n",
       "      <th>Temperature</th>\n",
       "      <th>Wind</th>\n",
       "      <th>Humidity</th>\n",
       "    </tr>\n",
       "    <tr>\n",
       "      <th>Day</th>\n",
       "      <th></th>\n",
       "      <th></th>\n",
       "      <th></th>\n",
       "      <th></th>\n",
       "    </tr>\n",
       "  </thead>\n",
       "  <tbody>\n",
       "    <tr>\n",
       "      <th>Mon</th>\n",
       "      <td>Sunny</td>\n",
       "      <td>12.79</td>\n",
       "      <td>13</td>\n",
       "      <td>30</td>\n",
       "    </tr>\n",
       "    <tr>\n",
       "      <th>Wed</th>\n",
       "      <td>Sunny</td>\n",
       "      <td>17.51</td>\n",
       "      <td>16</td>\n",
       "      <td>20</td>\n",
       "    </tr>\n",
       "    <tr>\n",
       "      <th>Fri</th>\n",
       "      <td>Shower</td>\n",
       "      <td>10.51</td>\n",
       "      <td>26</td>\n",
       "      <td>79</td>\n",
       "    </tr>\n",
       "  </tbody>\n",
       "</table>\n",
       "</div>"
      ],
      "text/plain": [
       "    Weather  Temperature  Wind  Humidity\n",
       "Day                                     \n",
       "Mon   Sunny        12.79    13        30\n",
       "Wed   Sunny        17.51    16        20\n",
       "Fri  Shower        10.51    26        79"
      ]
     },
     "execution_count": 23,
     "metadata": {},
     "output_type": "execute_result"
    }
   ],
   "source": [
    "# en este caso estamos seleccionadondo las filas de \"Mon\" a \"Fri\" con saltos de dos en dos\n",
    "\n",
    "df.loc['Mon':'Fri':2 , :]"
   ]
  },
  {
   "cell_type": "markdown",
   "id": "de8bf839",
   "metadata": {},
   "source": [
    "2️⃣ `iloc`: de la misma forma que con el `loc` podemos usar la sintaxis A:B"
   ]
  },
  {
   "cell_type": "code",
   "execution_count": 24,
   "id": "61d3dd29",
   "metadata": {},
   "outputs": [
    {
     "data": {
      "text/html": [
       "<div>\n",
       "<style scoped>\n",
       "    .dataframe tbody tr th:only-of-type {\n",
       "        vertical-align: middle;\n",
       "    }\n",
       "\n",
       "    .dataframe tbody tr th {\n",
       "        vertical-align: top;\n",
       "    }\n",
       "\n",
       "    .dataframe thead th {\n",
       "        text-align: right;\n",
       "    }\n",
       "</style>\n",
       "<table border=\"1\" class=\"dataframe\">\n",
       "  <thead>\n",
       "    <tr style=\"text-align: right;\">\n",
       "      <th></th>\n",
       "      <th>Weather</th>\n",
       "      <th>Temperature</th>\n",
       "      <th>Wind</th>\n",
       "    </tr>\n",
       "    <tr>\n",
       "      <th>Day</th>\n",
       "      <th></th>\n",
       "      <th></th>\n",
       "      <th></th>\n",
       "    </tr>\n",
       "  </thead>\n",
       "  <tbody>\n",
       "    <tr>\n",
       "      <th>Tue</th>\n",
       "      <td>Sunny</td>\n",
       "      <td>19.67</td>\n",
       "      <td>28</td>\n",
       "    </tr>\n",
       "    <tr>\n",
       "      <th>Wed</th>\n",
       "      <td>Sunny</td>\n",
       "      <td>17.51</td>\n",
       "      <td>16</td>\n",
       "    </tr>\n",
       "  </tbody>\n",
       "</table>\n",
       "</div>"
      ],
      "text/plain": [
       "    Weather  Temperature  Wind\n",
       "Day                           \n",
       "Tue   Sunny        19.67    28\n",
       "Wed   Sunny        17.51    16"
      ]
     },
     "execution_count": 24,
     "metadata": {},
     "output_type": "execute_result"
    }
   ],
   "source": [
    "# extrae todos los datos de las filas 1 y 2, de las columnas 0 a 3\n",
    "\n",
    "df.iloc[[1, 2], 0 : 3]"
   ]
  },
  {
   "cell_type": "code",
   "execution_count": 25,
   "id": "865abccf",
   "metadata": {},
   "outputs": [
    {
     "data": {
      "text/html": [
       "<div>\n",
       "<style scoped>\n",
       "    .dataframe tbody tr th:only-of-type {\n",
       "        vertical-align: middle;\n",
       "    }\n",
       "\n",
       "    .dataframe tbody tr th {\n",
       "        vertical-align: top;\n",
       "    }\n",
       "\n",
       "    .dataframe thead th {\n",
       "        text-align: right;\n",
       "    }\n",
       "</style>\n",
       "<table border=\"1\" class=\"dataframe\">\n",
       "  <thead>\n",
       "    <tr style=\"text-align: right;\">\n",
       "      <th></th>\n",
       "      <th>Weather</th>\n",
       "      <th>Temperature</th>\n",
       "      <th>Wind</th>\n",
       "      <th>Humidity</th>\n",
       "    </tr>\n",
       "    <tr>\n",
       "      <th>Day</th>\n",
       "      <th></th>\n",
       "      <th></th>\n",
       "      <th></th>\n",
       "      <th></th>\n",
       "    </tr>\n",
       "  </thead>\n",
       "  <tbody>\n",
       "    <tr>\n",
       "      <th>Mon</th>\n",
       "      <td>Sunny</td>\n",
       "      <td>12.79</td>\n",
       "      <td>13</td>\n",
       "      <td>30</td>\n",
       "    </tr>\n",
       "    <tr>\n",
       "      <th>Wed</th>\n",
       "      <td>Sunny</td>\n",
       "      <td>17.51</td>\n",
       "      <td>16</td>\n",
       "      <td>20</td>\n",
       "    </tr>\n",
       "    <tr>\n",
       "      <th>Fri</th>\n",
       "      <td>Shower</td>\n",
       "      <td>10.51</td>\n",
       "      <td>26</td>\n",
       "      <td>79</td>\n",
       "    </tr>\n",
       "    <tr>\n",
       "      <th>Sun</th>\n",
       "      <td>Sunny</td>\n",
       "      <td>17.50</td>\n",
       "      <td>20</td>\n",
       "      <td>10</td>\n",
       "    </tr>\n",
       "  </tbody>\n",
       "</table>\n",
       "</div>"
      ],
      "text/plain": [
       "    Weather  Temperature  Wind  Humidity\n",
       "Day                                     \n",
       "Mon   Sunny        12.79    13        30\n",
       "Wed   Sunny        17.51    16        20\n",
       "Fri  Shower        10.51    26        79\n",
       "Sun   Sunny        17.50    20        10"
      ]
     },
     "execution_count": 25,
     "metadata": {},
     "output_type": "execute_result"
    }
   ],
   "source": [
    "# extrae toda la información desde la fila 0 hasta la 7 en saltos de dos en dos incluyendo todas las columnas\n",
    "\n",
    "df.iloc[0:7:2, :]"
   ]
  },
  {
   "cell_type": "markdown",
   "id": "686391c2",
   "metadata": {},
   "source": [
    "## Seleccionar basado en una condición "
   ]
  },
  {
   "cell_type": "markdown",
   "id": "17da4963",
   "metadata": {},
   "source": [
    "`loc` con condiciones. Aquí tendremos que usar los operadores comparativos como `>`, `<`, `>=`, `<=`, `==` o `!=`"
   ]
  },
  {
   "cell_type": "code",
   "execution_count": 24,
   "id": "1b59f3bb",
   "metadata": {},
   "outputs": [
    {
     "data": {
      "text/html": [
       "<div>\n",
       "<style scoped>\n",
       "    .dataframe tbody tr th:only-of-type {\n",
       "        vertical-align: middle;\n",
       "    }\n",
       "\n",
       "    .dataframe tbody tr th {\n",
       "        vertical-align: top;\n",
       "    }\n",
       "\n",
       "    .dataframe thead th {\n",
       "        text-align: right;\n",
       "    }\n",
       "</style>\n",
       "<table border=\"1\" class=\"dataframe\">\n",
       "  <thead>\n",
       "    <tr style=\"text-align: right;\">\n",
       "      <th></th>\n",
       "      <th>Weather</th>\n",
       "      <th>Temperature</th>\n",
       "      <th>Wind</th>\n",
       "      <th>Humidity</th>\n",
       "    </tr>\n",
       "    <tr>\n",
       "      <th>Day</th>\n",
       "      <th></th>\n",
       "      <th></th>\n",
       "      <th></th>\n",
       "      <th></th>\n",
       "    </tr>\n",
       "  </thead>\n",
       "  <tbody>\n",
       "    <tr>\n",
       "      <th>Mon</th>\n",
       "      <td>Sunny</td>\n",
       "      <td>12.79</td>\n",
       "      <td>13</td>\n",
       "      <td>30</td>\n",
       "    </tr>\n",
       "    <tr>\n",
       "      <th>Tue</th>\n",
       "      <td>Sunny</td>\n",
       "      <td>19.67</td>\n",
       "      <td>28</td>\n",
       "      <td>96</td>\n",
       "    </tr>\n",
       "    <tr>\n",
       "      <th>Wed</th>\n",
       "      <td>Sunny</td>\n",
       "      <td>17.51</td>\n",
       "      <td>16</td>\n",
       "      <td>20</td>\n",
       "    </tr>\n",
       "    <tr>\n",
       "      <th>Thu</th>\n",
       "      <td>Cloudy</td>\n",
       "      <td>14.44</td>\n",
       "      <td>11</td>\n",
       "      <td>22</td>\n",
       "    </tr>\n",
       "    <tr>\n",
       "      <th>Sun</th>\n",
       "      <td>Sunny</td>\n",
       "      <td>17.50</td>\n",
       "      <td>20</td>\n",
       "      <td>10</td>\n",
       "    </tr>\n",
       "  </tbody>\n",
       "</table>\n",
       "</div>"
      ],
      "text/plain": [
       "    Weather  Temperature  Wind  Humidity\n",
       "Day                                     \n",
       "Mon   Sunny        12.79    13        30\n",
       "Tue   Sunny        19.67    28        96\n",
       "Wed   Sunny        17.51    16        20\n",
       "Thu  Cloudy        14.44    11        22\n",
       "Sun   Sunny        17.50    20        10"
      ]
     },
     "execution_count": 24,
     "metadata": {},
     "output_type": "execute_result"
    }
   ],
   "source": [
    "df.loc[df.Temperature > 12, :]"
   ]
  },
  {
   "cell_type": "code",
   "execution_count": 25,
   "id": "9da9200b",
   "metadata": {
    "scrolled": true
   },
   "outputs": [
    {
     "data": {
      "text/html": [
       "<div>\n",
       "<style scoped>\n",
       "    .dataframe tbody tr th:only-of-type {\n",
       "        vertical-align: middle;\n",
       "    }\n",
       "\n",
       "    .dataframe tbody tr th {\n",
       "        vertical-align: top;\n",
       "    }\n",
       "\n",
       "    .dataframe thead th {\n",
       "        text-align: right;\n",
       "    }\n",
       "</style>\n",
       "<table border=\"1\" class=\"dataframe\">\n",
       "  <thead>\n",
       "    <tr style=\"text-align: right;\">\n",
       "      <th></th>\n",
       "      <th>Weather</th>\n",
       "      <th>Temperature</th>\n",
       "      <th>Wind</th>\n",
       "      <th>Humidity</th>\n",
       "    </tr>\n",
       "    <tr>\n",
       "      <th>Day</th>\n",
       "      <th></th>\n",
       "      <th></th>\n",
       "      <th></th>\n",
       "      <th></th>\n",
       "    </tr>\n",
       "  </thead>\n",
       "  <tbody>\n",
       "    <tr>\n",
       "      <th>Mon</th>\n",
       "      <td>Sunny</td>\n",
       "      <td>12.79</td>\n",
       "      <td>13</td>\n",
       "      <td>30</td>\n",
       "    </tr>\n",
       "    <tr>\n",
       "      <th>Tue</th>\n",
       "      <td>Sunny</td>\n",
       "      <td>19.67</td>\n",
       "      <td>28</td>\n",
       "      <td>96</td>\n",
       "    </tr>\n",
       "    <tr>\n",
       "      <th>Wed</th>\n",
       "      <td>Sunny</td>\n",
       "      <td>17.51</td>\n",
       "      <td>16</td>\n",
       "      <td>20</td>\n",
       "    </tr>\n",
       "    <tr>\n",
       "      <th>Thu</th>\n",
       "      <td>Cloudy</td>\n",
       "      <td>14.44</td>\n",
       "      <td>11</td>\n",
       "      <td>22</td>\n",
       "    </tr>\n",
       "    <tr>\n",
       "      <th>Sun</th>\n",
       "      <td>Sunny</td>\n",
       "      <td>17.50</td>\n",
       "      <td>20</td>\n",
       "      <td>10</td>\n",
       "    </tr>\n",
       "  </tbody>\n",
       "</table>\n",
       "</div>"
      ],
      "text/plain": [
       "    Weather  Temperature  Wind  Humidity\n",
       "Day                                     \n",
       "Mon   Sunny        12.79    13        30\n",
       "Tue   Sunny        19.67    28        96\n",
       "Wed   Sunny        17.51    16        20\n",
       "Thu  Cloudy        14.44    11        22\n",
       "Sun   Sunny        17.50    20        10"
      ]
     },
     "execution_count": 25,
     "metadata": {},
     "output_type": "execute_result"
    }
   ],
   "source": [
    "# es lo mismo que:\n",
    "\n",
    "df[df.Temperature > 12]"
   ]
  },
  {
   "cell_type": "markdown",
   "id": "fe3ded50",
   "metadata": {},
   "source": [
    "**¿Y si queremos que se cumplan varias condiciones?**\n",
    "\n",
    "En este caso tendremos que usar los operadores & o |. Veamos lo que significan: \n",
    "\n",
    "- `&`: es como el operador `and`. En este caso se tendrán que cumplir todas las condiciones que le pasemos. \n",
    "\n",
    "\n",
    "- `|`: es como el operador `or`. En este caso nos devolverá datos de las condiciones que se cumplan, pero tienen porque cumplirse todas a la vez. O una condición y otra. "
   ]
  },
  {
   "cell_type": "code",
   "execution_count": 26,
   "id": "98e65422",
   "metadata": {},
   "outputs": [
    {
     "data": {
      "text/html": [
       "<div>\n",
       "<style scoped>\n",
       "    .dataframe tbody tr th:only-of-type {\n",
       "        vertical-align: middle;\n",
       "    }\n",
       "\n",
       "    .dataframe tbody tr th {\n",
       "        vertical-align: top;\n",
       "    }\n",
       "\n",
       "    .dataframe thead th {\n",
       "        text-align: right;\n",
       "    }\n",
       "</style>\n",
       "<table border=\"1\" class=\"dataframe\">\n",
       "  <thead>\n",
       "    <tr style=\"text-align: right;\">\n",
       "      <th></th>\n",
       "      <th>Temperature</th>\n",
       "      <th>Wind</th>\n",
       "    </tr>\n",
       "    <tr>\n",
       "      <th>Day</th>\n",
       "      <th></th>\n",
       "      <th></th>\n",
       "    </tr>\n",
       "  </thead>\n",
       "  <tbody>\n",
       "    <tr>\n",
       "      <th>Tue</th>\n",
       "      <td>19.67</td>\n",
       "      <td>28</td>\n",
       "    </tr>\n",
       "  </tbody>\n",
       "</table>\n",
       "</div>"
      ],
      "text/plain": [
       "     Temperature  Wind\n",
       "Day                   \n",
       "Tue        19.67    28"
      ]
     },
     "execution_count": 26,
     "metadata": {},
     "output_type": "execute_result"
    }
   ],
   "source": [
    "# ¿qué estamos haciendo aquí? Seleccionar aquellas filas donde se cumpla la condición de que el viento es mayor que 20 y el tiempo era soleado.\n",
    "## además estamos especificando que nos devuelva solo las columnas de \"Temperature\" y \" Wind\"\n",
    "### SE TIENEN QUE CUMPLIR LAS DOS CONDICIONES\n",
    "\n",
    "df.loc[(df.Wind > 20) & (df.Weather == 'Sunny'), \n",
    "    ['Temperature','Wind']]\n"
   ]
  },
  {
   "cell_type": "code",
   "execution_count": 27,
   "id": "c08c1837",
   "metadata": {},
   "outputs": [
    {
     "data": {
      "text/html": [
       "<div>\n",
       "<style scoped>\n",
       "    .dataframe tbody tr th:only-of-type {\n",
       "        vertical-align: middle;\n",
       "    }\n",
       "\n",
       "    .dataframe tbody tr th {\n",
       "        vertical-align: top;\n",
       "    }\n",
       "\n",
       "    .dataframe thead th {\n",
       "        text-align: right;\n",
       "    }\n",
       "</style>\n",
       "<table border=\"1\" class=\"dataframe\">\n",
       "  <thead>\n",
       "    <tr style=\"text-align: right;\">\n",
       "      <th></th>\n",
       "      <th>Temperature</th>\n",
       "      <th>Wind</th>\n",
       "    </tr>\n",
       "    <tr>\n",
       "      <th>Day</th>\n",
       "      <th></th>\n",
       "      <th></th>\n",
       "    </tr>\n",
       "  </thead>\n",
       "  <tbody>\n",
       "    <tr>\n",
       "      <th>Mon</th>\n",
       "      <td>12.79</td>\n",
       "      <td>13</td>\n",
       "    </tr>\n",
       "    <tr>\n",
       "      <th>Tue</th>\n",
       "      <td>19.67</td>\n",
       "      <td>28</td>\n",
       "    </tr>\n",
       "    <tr>\n",
       "      <th>Wed</th>\n",
       "      <td>17.51</td>\n",
       "      <td>16</td>\n",
       "    </tr>\n",
       "    <tr>\n",
       "      <th>Fri</th>\n",
       "      <td>10.51</td>\n",
       "      <td>26</td>\n",
       "    </tr>\n",
       "    <tr>\n",
       "      <th>Sat</th>\n",
       "      <td>11.07</td>\n",
       "      <td>27</td>\n",
       "    </tr>\n",
       "    <tr>\n",
       "      <th>Sun</th>\n",
       "      <td>17.50</td>\n",
       "      <td>20</td>\n",
       "    </tr>\n",
       "  </tbody>\n",
       "</table>\n",
       "</div>"
      ],
      "text/plain": [
       "     Temperature  Wind\n",
       "Day                   \n",
       "Mon        12.79    13\n",
       "Tue        19.67    28\n",
       "Wed        17.51    16\n",
       "Fri        10.51    26\n",
       "Sat        11.07    27\n",
       "Sun        17.50    20"
      ]
     },
     "execution_count": 27,
     "metadata": {},
     "output_type": "execute_result"
    }
   ],
   "source": [
    "# en este caso nos devolverá los datos donde el viento sea > 20 o el tiempo sea soleado\n",
    "\n",
    "df.loc[(df.Wind > 20) | (df.Weather == 'Sunny'), \n",
    "    ['Temperature','Wind']]\n"
   ]
  },
  {
   "cell_type": "markdown",
   "id": "15875ae7",
   "metadata": {},
   "source": [
    "2️⃣ `iloc`: obtendremos un ValueError si pasamos la condición directamente a la sentencia"
   ]
  },
  {
   "cell_type": "code",
   "execution_count": 28,
   "id": "c0594494",
   "metadata": {},
   "outputs": [
    {
     "ename": "ValueError",
     "evalue": "Location based indexing can only have [integer, integer slice (START point is INCLUDED, END point is EXCLUDED), listlike of integers, boolean array] types",
     "output_type": "error",
     "traceback": [
      "\u001b[0;31m---------------------------------------------------------------------------\u001b[0m",
      "\u001b[0;31mValueError\u001b[0m                                Traceback (most recent call last)",
      "File \u001b[0;32m~/anaconda3/lib/python3.9/site-packages/pandas/core/indexing.py:873\u001b[0m, in \u001b[0;36m_LocationIndexer._validate_tuple_indexer\u001b[0;34m(self, key)\u001b[0m\n\u001b[1;32m    872\u001b[0m \u001b[39mtry\u001b[39;00m:\n\u001b[0;32m--> 873\u001b[0m     \u001b[39mself\u001b[39;49m\u001b[39m.\u001b[39;49m_validate_key(k, i)\n\u001b[1;32m    874\u001b[0m \u001b[39mexcept\u001b[39;00m \u001b[39mValueError\u001b[39;00m \u001b[39mas\u001b[39;00m err:\n",
      "File \u001b[0;32m~/anaconda3/lib/python3.9/site-packages/pandas/core/indexing.py:1457\u001b[0m, in \u001b[0;36m_iLocIndexer._validate_key\u001b[0;34m(self, key, axis)\u001b[0m\n\u001b[1;32m   1452\u001b[0m         \u001b[39mraise\u001b[39;00m \u001b[39mNotImplementedError\u001b[39;00m(\n\u001b[1;32m   1453\u001b[0m             \u001b[39m\"\u001b[39m\u001b[39miLocation based boolean \u001b[39m\u001b[39m\"\u001b[39m\n\u001b[1;32m   1454\u001b[0m             \u001b[39m\"\u001b[39m\u001b[39mindexing on an integer type \u001b[39m\u001b[39m\"\u001b[39m\n\u001b[1;32m   1455\u001b[0m             \u001b[39m\"\u001b[39m\u001b[39mis not available\u001b[39m\u001b[39m\"\u001b[39m\n\u001b[1;32m   1456\u001b[0m         )\n\u001b[0;32m-> 1457\u001b[0m     \u001b[39mraise\u001b[39;00m \u001b[39mValueError\u001b[39;00m(\n\u001b[1;32m   1458\u001b[0m         \u001b[39m\"\u001b[39m\u001b[39miLocation based boolean indexing cannot use \u001b[39m\u001b[39m\"\u001b[39m\n\u001b[1;32m   1459\u001b[0m         \u001b[39m\"\u001b[39m\u001b[39man indexable as a mask\u001b[39m\u001b[39m\"\u001b[39m\n\u001b[1;32m   1460\u001b[0m     )\n\u001b[1;32m   1461\u001b[0m \u001b[39mreturn\u001b[39;00m\n",
      "\u001b[0;31mValueError\u001b[0m: iLocation based boolean indexing cannot use an indexable as a mask",
      "\nThe above exception was the direct cause of the following exception:\n",
      "\u001b[0;31mValueError\u001b[0m                                Traceback (most recent call last)",
      "Cell \u001b[0;32mIn [28], line 1\u001b[0m\n\u001b[0;32m----> 1\u001b[0m df\u001b[39m.\u001b[39;49miloc[df\u001b[39m.\u001b[39;49mTemperature \u001b[39m>\u001b[39;49m \u001b[39m15\u001b[39;49m, :]\n",
      "File \u001b[0;32m~/anaconda3/lib/python3.9/site-packages/pandas/core/indexing.py:1067\u001b[0m, in \u001b[0;36m_LocationIndexer.__getitem__\u001b[0;34m(self, key)\u001b[0m\n\u001b[1;32m   1065\u001b[0m     \u001b[39mif\u001b[39;00m \u001b[39mself\u001b[39m\u001b[39m.\u001b[39m_is_scalar_access(key):\n\u001b[1;32m   1066\u001b[0m         \u001b[39mreturn\u001b[39;00m \u001b[39mself\u001b[39m\u001b[39m.\u001b[39mobj\u001b[39m.\u001b[39m_get_value(\u001b[39m*\u001b[39mkey, takeable\u001b[39m=\u001b[39m\u001b[39mself\u001b[39m\u001b[39m.\u001b[39m_takeable)\n\u001b[0;32m-> 1067\u001b[0m     \u001b[39mreturn\u001b[39;00m \u001b[39mself\u001b[39;49m\u001b[39m.\u001b[39;49m_getitem_tuple(key)\n\u001b[1;32m   1068\u001b[0m \u001b[39melse\u001b[39;00m:\n\u001b[1;32m   1069\u001b[0m     \u001b[39m# we by definition only have the 0th axis\u001b[39;00m\n\u001b[1;32m   1070\u001b[0m     axis \u001b[39m=\u001b[39m \u001b[39mself\u001b[39m\u001b[39m.\u001b[39maxis \u001b[39mor\u001b[39;00m \u001b[39m0\u001b[39m\n",
      "File \u001b[0;32m~/anaconda3/lib/python3.9/site-packages/pandas/core/indexing.py:1563\u001b[0m, in \u001b[0;36m_iLocIndexer._getitem_tuple\u001b[0;34m(self, tup)\u001b[0m\n\u001b[1;32m   1561\u001b[0m \u001b[39mdef\u001b[39;00m \u001b[39m_getitem_tuple\u001b[39m(\u001b[39mself\u001b[39m, tup: \u001b[39mtuple\u001b[39m):\n\u001b[0;32m-> 1563\u001b[0m     tup \u001b[39m=\u001b[39m \u001b[39mself\u001b[39;49m\u001b[39m.\u001b[39;49m_validate_tuple_indexer(tup)\n\u001b[1;32m   1564\u001b[0m     \u001b[39mwith\u001b[39;00m suppress(IndexingError):\n\u001b[1;32m   1565\u001b[0m         \u001b[39mreturn\u001b[39;00m \u001b[39mself\u001b[39m\u001b[39m.\u001b[39m_getitem_lowerdim(tup)\n",
      "File \u001b[0;32m~/anaconda3/lib/python3.9/site-packages/pandas/core/indexing.py:875\u001b[0m, in \u001b[0;36m_LocationIndexer._validate_tuple_indexer\u001b[0;34m(self, key)\u001b[0m\n\u001b[1;32m    873\u001b[0m         \u001b[39mself\u001b[39m\u001b[39m.\u001b[39m_validate_key(k, i)\n\u001b[1;32m    874\u001b[0m     \u001b[39mexcept\u001b[39;00m \u001b[39mValueError\u001b[39;00m \u001b[39mas\u001b[39;00m err:\n\u001b[0;32m--> 875\u001b[0m         \u001b[39mraise\u001b[39;00m \u001b[39mValueError\u001b[39;00m(\n\u001b[1;32m    876\u001b[0m             \u001b[39m\"\u001b[39m\u001b[39mLocation based indexing can only have \u001b[39m\u001b[39m\"\u001b[39m\n\u001b[1;32m    877\u001b[0m             \u001b[39mf\u001b[39m\u001b[39m\"\u001b[39m\u001b[39m[\u001b[39m\u001b[39m{\u001b[39;00m\u001b[39mself\u001b[39m\u001b[39m.\u001b[39m_valid_types\u001b[39m}\u001b[39;00m\u001b[39m] types\u001b[39m\u001b[39m\"\u001b[39m\n\u001b[1;32m    878\u001b[0m         ) \u001b[39mfrom\u001b[39;00m \u001b[39merr\u001b[39;00m\n\u001b[1;32m    879\u001b[0m \u001b[39mreturn\u001b[39;00m key\n",
      "\u001b[0;31mValueError\u001b[0m: Location based indexing can only have [integer, integer slice (START point is INCLUDED, END point is EXCLUDED), listlike of integers, boolean array] types"
     ]
    }
   ],
   "source": [
    "df.iloc[df.Temperature > 15, :]"
   ]
  },
  {
   "cell_type": "markdown",
   "id": "c2457dcc",
   "metadata": {},
   "source": [
    "⚠️ Obtenemos el error porque `iloc` no puede aceptar una Serie booleana. Sólo acepta una lista booleana. Podemos utilizar la función `list()` para convertir una Serie en una lista booleana."
   ]
  },
  {
   "cell_type": "code",
   "execution_count": 32,
   "id": "41b03fd0",
   "metadata": {},
   "outputs": [
    {
     "data": {
      "text/html": [
       "<div>\n",
       "<style scoped>\n",
       "    .dataframe tbody tr th:only-of-type {\n",
       "        vertical-align: middle;\n",
       "    }\n",
       "\n",
       "    .dataframe tbody tr th {\n",
       "        vertical-align: top;\n",
       "    }\n",
       "\n",
       "    .dataframe thead th {\n",
       "        text-align: right;\n",
       "    }\n",
       "</style>\n",
       "<table border=\"1\" class=\"dataframe\">\n",
       "  <thead>\n",
       "    <tr style=\"text-align: right;\">\n",
       "      <th></th>\n",
       "      <th>Weather</th>\n",
       "      <th>Temperature</th>\n",
       "      <th>Wind</th>\n",
       "      <th>Humidity</th>\n",
       "    </tr>\n",
       "    <tr>\n",
       "      <th>Day</th>\n",
       "      <th></th>\n",
       "      <th></th>\n",
       "      <th></th>\n",
       "      <th></th>\n",
       "    </tr>\n",
       "  </thead>\n",
       "  <tbody>\n",
       "    <tr>\n",
       "      <th>Tue</th>\n",
       "      <td>Sunny</td>\n",
       "      <td>19.67</td>\n",
       "      <td>28</td>\n",
       "      <td>96</td>\n",
       "    </tr>\n",
       "    <tr>\n",
       "      <th>Wed</th>\n",
       "      <td>Sunny</td>\n",
       "      <td>17.51</td>\n",
       "      <td>16</td>\n",
       "      <td>20</td>\n",
       "    </tr>\n",
       "    <tr>\n",
       "      <th>Sun</th>\n",
       "      <td>Sunny</td>\n",
       "      <td>17.50</td>\n",
       "      <td>20</td>\n",
       "      <td>10</td>\n",
       "    </tr>\n",
       "  </tbody>\n",
       "</table>\n",
       "</div>"
      ],
      "text/plain": [
       "    Weather  Temperature  Wind  Humidity\n",
       "Day                                     \n",
       "Tue   Sunny        19.67    28        96\n",
       "Wed   Sunny        17.51    16        20\n",
       "Sun   Sunny        17.50    20        10"
      ]
     },
     "execution_count": 32,
     "metadata": {},
     "output_type": "execute_result"
    }
   ],
   "source": [
    "# nos devuelve todos aquellos valores donde la temperatura sea mayor que 15\n",
    "\n",
    "df.iloc[list(df.Temperature > 15), :]"
   ]
  },
  {
   "cell_type": "code",
   "execution_count": 30,
   "id": "29a8b7ac",
   "metadata": {},
   "outputs": [
    {
     "data": {
      "text/html": [
       "<div>\n",
       "<style scoped>\n",
       "    .dataframe tbody tr th:only-of-type {\n",
       "        vertical-align: middle;\n",
       "    }\n",
       "\n",
       "    .dataframe tbody tr th {\n",
       "        vertical-align: top;\n",
       "    }\n",
       "\n",
       "    .dataframe thead th {\n",
       "        text-align: right;\n",
       "    }\n",
       "</style>\n",
       "<table border=\"1\" class=\"dataframe\">\n",
       "  <thead>\n",
       "    <tr style=\"text-align: right;\">\n",
       "      <th></th>\n",
       "      <th>Weather</th>\n",
       "      <th>Temperature</th>\n",
       "      <th>Wind</th>\n",
       "      <th>Humidity</th>\n",
       "    </tr>\n",
       "    <tr>\n",
       "      <th>Day</th>\n",
       "      <th></th>\n",
       "      <th></th>\n",
       "      <th></th>\n",
       "      <th></th>\n",
       "    </tr>\n",
       "  </thead>\n",
       "  <tbody>\n",
       "    <tr>\n",
       "      <th>Fri</th>\n",
       "      <td>Shower</td>\n",
       "      <td>10.51</td>\n",
       "      <td>26</td>\n",
       "      <td>79</td>\n",
       "    </tr>\n",
       "    <tr>\n",
       "      <th>Sat</th>\n",
       "      <td>Shower</td>\n",
       "      <td>11.07</td>\n",
       "      <td>27</td>\n",
       "      <td>62</td>\n",
       "    </tr>\n",
       "  </tbody>\n",
       "</table>\n",
       "</div>"
      ],
      "text/plain": [
       "    Weather  Temperature  Wind  Humidity\n",
       "Day                                     \n",
       "Fri  Shower        10.51    26        79\n",
       "Sat  Shower        11.07    27        62"
      ]
     },
     "execution_count": 30,
     "metadata": {},
     "output_type": "execute_result"
    }
   ],
   "source": [
    "# con multiples condiciones usaremos también el comando list()\n",
    "\n",
    "df.iloc[list((df.Humidity > 50) & (df.Weather == 'Shower')), :]"
   ]
  },
  {
   "cell_type": "markdown",
   "id": "7f828500",
   "metadata": {},
   "source": [
    "**POR LO TANTO, LAS DIFERENCIAS ENTRE `LOC`E `ILOC` SON:**\n",
    "\n",
    "![image.png](https://github.com/Adalab/data_imagenes/blob/main/Modulo-2/Pandas/loc-iloc.png?raw=true)"
   ]
  },
  {
   "cell_type": "markdown",
   "id": "3fe451a3",
   "metadata": {},
   "source": [
    "# Creación de columnas"
   ]
  },
  {
   "cell_type": "code",
   "execution_count": 31,
   "id": "7dd4c25a",
   "metadata": {},
   "outputs": [
    {
     "data": {
      "text/html": [
       "<div>\n",
       "<style scoped>\n",
       "    .dataframe tbody tr th:only-of-type {\n",
       "        vertical-align: middle;\n",
       "    }\n",
       "\n",
       "    .dataframe tbody tr th {\n",
       "        vertical-align: top;\n",
       "    }\n",
       "\n",
       "    .dataframe thead th {\n",
       "        text-align: right;\n",
       "    }\n",
       "</style>\n",
       "<table border=\"1\" class=\"dataframe\">\n",
       "  <thead>\n",
       "    <tr style=\"text-align: right;\">\n",
       "      <th></th>\n",
       "      <th>Weather</th>\n",
       "      <th>Temperature</th>\n",
       "      <th>Wind</th>\n",
       "      <th>Humidity</th>\n",
       "    </tr>\n",
       "    <tr>\n",
       "      <th>Day</th>\n",
       "      <th></th>\n",
       "      <th></th>\n",
       "      <th></th>\n",
       "      <th></th>\n",
       "    </tr>\n",
       "  </thead>\n",
       "  <tbody>\n",
       "    <tr>\n",
       "      <th>Mon</th>\n",
       "      <td>Sunny</td>\n",
       "      <td>12.79</td>\n",
       "      <td>13</td>\n",
       "      <td>30</td>\n",
       "    </tr>\n",
       "    <tr>\n",
       "      <th>Tue</th>\n",
       "      <td>Sunny</td>\n",
       "      <td>19.67</td>\n",
       "      <td>28</td>\n",
       "      <td>96</td>\n",
       "    </tr>\n",
       "    <tr>\n",
       "      <th>Wed</th>\n",
       "      <td>Sunny</td>\n",
       "      <td>17.51</td>\n",
       "      <td>16</td>\n",
       "      <td>20</td>\n",
       "    </tr>\n",
       "    <tr>\n",
       "      <th>Thu</th>\n",
       "      <td>Cloudy</td>\n",
       "      <td>14.44</td>\n",
       "      <td>11</td>\n",
       "      <td>22</td>\n",
       "    </tr>\n",
       "    <tr>\n",
       "      <th>Fri</th>\n",
       "      <td>Shower</td>\n",
       "      <td>10.51</td>\n",
       "      <td>26</td>\n",
       "      <td>79</td>\n",
       "    </tr>\n",
       "    <tr>\n",
       "      <th>Sat</th>\n",
       "      <td>Shower</td>\n",
       "      <td>11.07</td>\n",
       "      <td>27</td>\n",
       "      <td>62</td>\n",
       "    </tr>\n",
       "    <tr>\n",
       "      <th>Sun</th>\n",
       "      <td>Sunny</td>\n",
       "      <td>17.50</td>\n",
       "      <td>20</td>\n",
       "      <td>10</td>\n",
       "    </tr>\n",
       "  </tbody>\n",
       "</table>\n",
       "</div>"
      ],
      "text/plain": [
       "    Weather  Temperature  Wind  Humidity\n",
       "Day                                     \n",
       "Mon   Sunny        12.79    13        30\n",
       "Tue   Sunny        19.67    28        96\n",
       "Wed   Sunny        17.51    16        20\n",
       "Thu  Cloudy        14.44    11        22\n",
       "Fri  Shower        10.51    26        79\n",
       "Sat  Shower        11.07    27        62\n",
       "Sun   Sunny        17.50    20        10"
      ]
     },
     "execution_count": 31,
     "metadata": {},
     "output_type": "execute_result"
    }
   ],
   "source": [
    "# antes de nada recordemos como es nuestro dataframe\n",
    "df"
   ]
  },
  {
   "cell_type": "markdown",
   "id": "370e8d10",
   "metadata": {},
   "source": [
    "1️⃣ Supongamos que queremos tener la temperatura tambien en grados Farenheit. Podríamos crearnos una columna nueva aplicando una serie de operaciones sobre la que ya tenemos: "
   ]
  },
  {
   "cell_type": "code",
   "execution_count": 32,
   "id": "12659192",
   "metadata": {},
   "outputs": [],
   "source": [
    "# lo primero que hacemos es establecer el nombre de la nueva columna que \n",
    "## quiero\n",
    "\n",
    "df[\"Farenheit\"] = (df[\"Temperature\"] * 9/5) + 32"
   ]
  },
  {
   "cell_type": "code",
   "execution_count": 33,
   "id": "64e4c328",
   "metadata": {},
   "outputs": [
    {
     "data": {
      "text/html": [
       "<div>\n",
       "<style scoped>\n",
       "    .dataframe tbody tr th:only-of-type {\n",
       "        vertical-align: middle;\n",
       "    }\n",
       "\n",
       "    .dataframe tbody tr th {\n",
       "        vertical-align: top;\n",
       "    }\n",
       "\n",
       "    .dataframe thead th {\n",
       "        text-align: right;\n",
       "    }\n",
       "</style>\n",
       "<table border=\"1\" class=\"dataframe\">\n",
       "  <thead>\n",
       "    <tr style=\"text-align: right;\">\n",
       "      <th></th>\n",
       "      <th>Weather</th>\n",
       "      <th>Temperature</th>\n",
       "      <th>Wind</th>\n",
       "      <th>Humidity</th>\n",
       "      <th>Farenheit</th>\n",
       "    </tr>\n",
       "    <tr>\n",
       "      <th>Day</th>\n",
       "      <th></th>\n",
       "      <th></th>\n",
       "      <th></th>\n",
       "      <th></th>\n",
       "      <th></th>\n",
       "    </tr>\n",
       "  </thead>\n",
       "  <tbody>\n",
       "    <tr>\n",
       "      <th>Mon</th>\n",
       "      <td>Sunny</td>\n",
       "      <td>12.79</td>\n",
       "      <td>13</td>\n",
       "      <td>30</td>\n",
       "      <td>55.022</td>\n",
       "    </tr>\n",
       "    <tr>\n",
       "      <th>Tue</th>\n",
       "      <td>Sunny</td>\n",
       "      <td>19.67</td>\n",
       "      <td>28</td>\n",
       "      <td>96</td>\n",
       "      <td>67.406</td>\n",
       "    </tr>\n",
       "    <tr>\n",
       "      <th>Wed</th>\n",
       "      <td>Sunny</td>\n",
       "      <td>17.51</td>\n",
       "      <td>16</td>\n",
       "      <td>20</td>\n",
       "      <td>63.518</td>\n",
       "    </tr>\n",
       "    <tr>\n",
       "      <th>Thu</th>\n",
       "      <td>Cloudy</td>\n",
       "      <td>14.44</td>\n",
       "      <td>11</td>\n",
       "      <td>22</td>\n",
       "      <td>57.992</td>\n",
       "    </tr>\n",
       "    <tr>\n",
       "      <th>Fri</th>\n",
       "      <td>Shower</td>\n",
       "      <td>10.51</td>\n",
       "      <td>26</td>\n",
       "      <td>79</td>\n",
       "      <td>50.918</td>\n",
       "    </tr>\n",
       "  </tbody>\n",
       "</table>\n",
       "</div>"
      ],
      "text/plain": [
       "    Weather  Temperature  Wind  Humidity  Farenheit\n",
       "Day                                                \n",
       "Mon   Sunny        12.79    13        30     55.022\n",
       "Tue   Sunny        19.67    28        96     67.406\n",
       "Wed   Sunny        17.51    16        20     63.518\n",
       "Thu  Cloudy        14.44    11        22     57.992\n",
       "Fri  Shower        10.51    26        79     50.918"
      ]
     },
     "execution_count": 33,
     "metadata": {},
     "output_type": "execute_result"
    }
   ],
   "source": [
    "# si ahora volvemos a ver nuestro dataframe tendremos una nueva columna\n",
    "## con la temperatura convertida en Farenheit\n",
    "\n",
    "df.head()"
   ]
  },
  {
   "cell_type": "markdown",
   "id": "0bd33c94",
   "metadata": {},
   "source": [
    "2️⃣`assign`: nos va a permitir incluir nuevas columnas en nuestro dataframe. Estas nuevas columnas pueden ser: \n",
    "\n",
    "- A partir de datos de nuestro dataframe (como vimos en el apartado anterior) \n",
    "\n",
    "\n",
    "- Pasándole nosotros una lista con los valores que queremos incluir en la nueva columna. "
   ]
  },
  {
   "cell_type": "markdown",
   "id": "e8fb4a71",
   "metadata": {},
   "source": [
    "En el método `assign` tendremos que: \n",
    "\n",
    "- Indicar el nombre de la columna nueva que queremos (en este ejemplo \"temp_f\"\n",
    "\n",
    "- La operación que va a definir los valores de nuestra nueva columna. "
   ]
  },
  {
   "cell_type": "code",
   "execution_count": 34,
   "id": "eed6b4ac",
   "metadata": {},
   "outputs": [
    {
     "data": {
      "text/html": [
       "<div>\n",
       "<style scoped>\n",
       "    .dataframe tbody tr th:only-of-type {\n",
       "        vertical-align: middle;\n",
       "    }\n",
       "\n",
       "    .dataframe tbody tr th {\n",
       "        vertical-align: top;\n",
       "    }\n",
       "\n",
       "    .dataframe thead th {\n",
       "        text-align: right;\n",
       "    }\n",
       "</style>\n",
       "<table border=\"1\" class=\"dataframe\">\n",
       "  <thead>\n",
       "    <tr style=\"text-align: right;\">\n",
       "      <th></th>\n",
       "      <th>Weather</th>\n",
       "      <th>Temperature</th>\n",
       "      <th>Wind</th>\n",
       "      <th>Humidity</th>\n",
       "      <th>Farenheit</th>\n",
       "      <th>temp_f</th>\n",
       "    </tr>\n",
       "    <tr>\n",
       "      <th>Day</th>\n",
       "      <th></th>\n",
       "      <th></th>\n",
       "      <th></th>\n",
       "      <th></th>\n",
       "      <th></th>\n",
       "      <th></th>\n",
       "    </tr>\n",
       "  </thead>\n",
       "  <tbody>\n",
       "    <tr>\n",
       "      <th>Mon</th>\n",
       "      <td>Sunny</td>\n",
       "      <td>12.79</td>\n",
       "      <td>13</td>\n",
       "      <td>30</td>\n",
       "      <td>55.022</td>\n",
       "      <td>55.022</td>\n",
       "    </tr>\n",
       "    <tr>\n",
       "      <th>Tue</th>\n",
       "      <td>Sunny</td>\n",
       "      <td>19.67</td>\n",
       "      <td>28</td>\n",
       "      <td>96</td>\n",
       "      <td>67.406</td>\n",
       "      <td>67.406</td>\n",
       "    </tr>\n",
       "    <tr>\n",
       "      <th>Wed</th>\n",
       "      <td>Sunny</td>\n",
       "      <td>17.51</td>\n",
       "      <td>16</td>\n",
       "      <td>20</td>\n",
       "      <td>63.518</td>\n",
       "      <td>63.518</td>\n",
       "    </tr>\n",
       "    <tr>\n",
       "      <th>Thu</th>\n",
       "      <td>Cloudy</td>\n",
       "      <td>14.44</td>\n",
       "      <td>11</td>\n",
       "      <td>22</td>\n",
       "      <td>57.992</td>\n",
       "      <td>57.992</td>\n",
       "    </tr>\n",
       "    <tr>\n",
       "      <th>Fri</th>\n",
       "      <td>Shower</td>\n",
       "      <td>10.51</td>\n",
       "      <td>26</td>\n",
       "      <td>79</td>\n",
       "      <td>50.918</td>\n",
       "      <td>50.918</td>\n",
       "    </tr>\n",
       "    <tr>\n",
       "      <th>Sat</th>\n",
       "      <td>Shower</td>\n",
       "      <td>11.07</td>\n",
       "      <td>27</td>\n",
       "      <td>62</td>\n",
       "      <td>51.926</td>\n",
       "      <td>51.926</td>\n",
       "    </tr>\n",
       "    <tr>\n",
       "      <th>Sun</th>\n",
       "      <td>Sunny</td>\n",
       "      <td>17.50</td>\n",
       "      <td>20</td>\n",
       "      <td>10</td>\n",
       "      <td>63.500</td>\n",
       "      <td>63.500</td>\n",
       "    </tr>\n",
       "  </tbody>\n",
       "</table>\n",
       "</div>"
      ],
      "text/plain": [
       "    Weather  Temperature  Wind  Humidity  Farenheit  temp_f\n",
       "Day                                                        \n",
       "Mon   Sunny        12.79    13        30     55.022  55.022\n",
       "Tue   Sunny        19.67    28        96     67.406  67.406\n",
       "Wed   Sunny        17.51    16        20     63.518  63.518\n",
       "Thu  Cloudy        14.44    11        22     57.992  57.992\n",
       "Fri  Shower        10.51    26        79     50.918  50.918\n",
       "Sat  Shower        11.07    27        62     51.926  51.926\n",
       "Sun   Sunny        17.50    20        10     63.500  63.500"
      ]
     },
     "execution_count": 34,
     "metadata": {},
     "output_type": "execute_result"
    }
   ],
   "source": [
    "df.assign(temp_f=df['Temperature'] * 9 / 5 + 32)"
   ]
  },
  {
   "cell_type": "code",
   "execution_count": 35,
   "id": "d95b0ac9",
   "metadata": {},
   "outputs": [],
   "source": [
    "# tambien le podemos pasar una lista,pero importante!!! Tiene que tener la misma longitud que nuestro dataframe \n",
    "df = df.assign(indices= [1,2,3,4,5,6,7])"
   ]
  },
  {
   "cell_type": "code",
   "execution_count": 37,
   "id": "26e7f176",
   "metadata": {},
   "outputs": [
    {
     "data": {
      "text/html": [
       "<div>\n",
       "<style scoped>\n",
       "    .dataframe tbody tr th:only-of-type {\n",
       "        vertical-align: middle;\n",
       "    }\n",
       "\n",
       "    .dataframe tbody tr th {\n",
       "        vertical-align: top;\n",
       "    }\n",
       "\n",
       "    .dataframe thead th {\n",
       "        text-align: right;\n",
       "    }\n",
       "</style>\n",
       "<table border=\"1\" class=\"dataframe\">\n",
       "  <thead>\n",
       "    <tr style=\"text-align: right;\">\n",
       "      <th></th>\n",
       "      <th>Weather</th>\n",
       "      <th>Temperature</th>\n",
       "      <th>Wind</th>\n",
       "      <th>Humidity</th>\n",
       "      <th>Farenheit</th>\n",
       "      <th>indices</th>\n",
       "    </tr>\n",
       "    <tr>\n",
       "      <th>Day</th>\n",
       "      <th></th>\n",
       "      <th></th>\n",
       "      <th></th>\n",
       "      <th></th>\n",
       "      <th></th>\n",
       "      <th></th>\n",
       "    </tr>\n",
       "  </thead>\n",
       "  <tbody>\n",
       "    <tr>\n",
       "      <th>Mon</th>\n",
       "      <td>Sunny</td>\n",
       "      <td>12.79</td>\n",
       "      <td>13</td>\n",
       "      <td>30</td>\n",
       "      <td>55.022</td>\n",
       "      <td>1</td>\n",
       "    </tr>\n",
       "  </tbody>\n",
       "</table>\n",
       "</div>"
      ],
      "text/plain": [
       "    Weather  Temperature  Wind  Humidity  Farenheit  indices\n",
       "Day                                                         \n",
       "Mon   Sunny        12.79    13        30     55.022        1"
      ]
     },
     "execution_count": 37,
     "metadata": {},
     "output_type": "execute_result"
    }
   ],
   "source": [
    "# comprobamos si se creo la columna: \n",
    "\n",
    "df.head(1)"
   ]
  },
  {
   "cell_type": "markdown",
   "id": "e7fcc6ee",
   "metadata": {},
   "source": [
    "3️⃣ `insert`: nos va a permitir incluir nuevas columnas en nuestro dataframe, en una posición que nosotros le demos. Estas nuevas columnas pueden ser: \n",
    "\n",
    "Los parámetros que recibe son: \n",
    "\n",
    "- `loc`: entero. Índice de inserción/(la posición donde queremos insertar los datos, en la primera, quinta, sexta columna por ejemplo). Debe verificar 0 <= loc <= len(columns).\n",
    "\n",
    "\n",
    "- `column`: *string*. Nombre de la columna.\n",
    "\n",
    "\n",
    "- `allow_duplicates`: booleano. Por defecto False\n",
    "\n",
    "📌 Genera un ValueError si la columna ya está contenida en el DataFrame, a menos que allow_duplicates esté establecido en True.\n",
    "\n"
   ]
  },
  {
   "cell_type": "code",
   "execution_count": 38,
   "id": "de2d6214",
   "metadata": {},
   "outputs": [],
   "source": [
    "# en este ejemplo estamos creando una columna nueva que se llama \"indice2\" en la primera columna con números del 1 al 7. \n",
    "\n",
    "df.insert(0, \"indice2\", range(1,8))"
   ]
  },
  {
   "cell_type": "code",
   "execution_count": 39,
   "id": "cd568339",
   "metadata": {},
   "outputs": [
    {
     "ename": "ValueError",
     "evalue": "cannot insert indice2, already exists",
     "output_type": "error",
     "traceback": [
      "\u001b[0;31m---------------------------------------------------------------------------\u001b[0m",
      "\u001b[0;31mValueError\u001b[0m                                Traceback (most recent call last)",
      "Cell \u001b[0;32mIn [39], line 3\u001b[0m\n\u001b[1;32m      1\u001b[0m \u001b[39m# ⚠️ Si volvieramos a crear otra colummna con el nombre de una columna ya existente nos daría error. \u001b[39;00m\n\u001b[0;32m----> 3\u001b[0m df\u001b[39m.\u001b[39;49minsert(\u001b[39m0\u001b[39;49m, \u001b[39m\"\u001b[39;49m\u001b[39mindice2\u001b[39;49m\u001b[39m\"\u001b[39;49m, \u001b[39mrange\u001b[39;49m(\u001b[39m1\u001b[39;49m,\u001b[39m8\u001b[39;49m))\n",
      "File \u001b[0;32m~/anaconda3/lib/python3.9/site-packages/pandas/core/frame.py:4814\u001b[0m, in \u001b[0;36mDataFrame.insert\u001b[0;34m(self, loc, column, value, allow_duplicates)\u001b[0m\n\u001b[1;32m   4808\u001b[0m     \u001b[39mraise\u001b[39;00m \u001b[39mValueError\u001b[39;00m(\n\u001b[1;32m   4809\u001b[0m         \u001b[39m\"\u001b[39m\u001b[39mCannot specify \u001b[39m\u001b[39m'\u001b[39m\u001b[39mallow_duplicates=True\u001b[39m\u001b[39m'\u001b[39m\u001b[39m when \u001b[39m\u001b[39m\"\u001b[39m\n\u001b[1;32m   4810\u001b[0m         \u001b[39m\"\u001b[39m\u001b[39m'\u001b[39m\u001b[39mself.flags.allows_duplicate_labels\u001b[39m\u001b[39m'\u001b[39m\u001b[39m is False.\u001b[39m\u001b[39m\"\u001b[39m\n\u001b[1;32m   4811\u001b[0m     )\n\u001b[1;32m   4812\u001b[0m \u001b[39mif\u001b[39;00m \u001b[39mnot\u001b[39;00m allow_duplicates \u001b[39mand\u001b[39;00m column \u001b[39min\u001b[39;00m \u001b[39mself\u001b[39m\u001b[39m.\u001b[39mcolumns:\n\u001b[1;32m   4813\u001b[0m     \u001b[39m# Should this be a different kind of error??\u001b[39;00m\n\u001b[0;32m-> 4814\u001b[0m     \u001b[39mraise\u001b[39;00m \u001b[39mValueError\u001b[39;00m(\u001b[39mf\u001b[39m\u001b[39m\"\u001b[39m\u001b[39mcannot insert \u001b[39m\u001b[39m{\u001b[39;00mcolumn\u001b[39m}\u001b[39;00m\u001b[39m, already exists\u001b[39m\u001b[39m\"\u001b[39m)\n\u001b[1;32m   4815\u001b[0m \u001b[39mif\u001b[39;00m \u001b[39mnot\u001b[39;00m \u001b[39misinstance\u001b[39m(loc, \u001b[39mint\u001b[39m):\n\u001b[1;32m   4816\u001b[0m     \u001b[39mraise\u001b[39;00m \u001b[39mTypeError\u001b[39;00m(\u001b[39m\"\u001b[39m\u001b[39mloc must be int\u001b[39m\u001b[39m\"\u001b[39m)\n",
      "\u001b[0;31mValueError\u001b[0m: cannot insert indice2, already exists"
     ]
    }
   ],
   "source": [
    "# ⚠️ Si volvieramos a crear otra colummna con el nombre de una columna ya existente nos daría error. \n",
    "\n",
    "df.insert(0, \"indice2\", range(1,8))"
   ]
  },
  {
   "cell_type": "code",
   "execution_count": 40,
   "id": "7dea9ae3",
   "metadata": {
    "scrolled": true
   },
   "outputs": [
    {
     "data": {
      "text/html": [
       "<div>\n",
       "<style scoped>\n",
       "    .dataframe tbody tr th:only-of-type {\n",
       "        vertical-align: middle;\n",
       "    }\n",
       "\n",
       "    .dataframe tbody tr th {\n",
       "        vertical-align: top;\n",
       "    }\n",
       "\n",
       "    .dataframe thead th {\n",
       "        text-align: right;\n",
       "    }\n",
       "</style>\n",
       "<table border=\"1\" class=\"dataframe\">\n",
       "  <thead>\n",
       "    <tr style=\"text-align: right;\">\n",
       "      <th></th>\n",
       "      <th>indice2</th>\n",
       "      <th>Weather</th>\n",
       "      <th>Temperature</th>\n",
       "      <th>Wind</th>\n",
       "      <th>Humidity</th>\n",
       "      <th>Farenheit</th>\n",
       "      <th>indices</th>\n",
       "    </tr>\n",
       "    <tr>\n",
       "      <th>Day</th>\n",
       "      <th></th>\n",
       "      <th></th>\n",
       "      <th></th>\n",
       "      <th></th>\n",
       "      <th></th>\n",
       "      <th></th>\n",
       "      <th></th>\n",
       "    </tr>\n",
       "  </thead>\n",
       "  <tbody>\n",
       "    <tr>\n",
       "      <th>Mon</th>\n",
       "      <td>1</td>\n",
       "      <td>Sunny</td>\n",
       "      <td>12.79</td>\n",
       "      <td>13</td>\n",
       "      <td>30</td>\n",
       "      <td>55.022</td>\n",
       "      <td>1</td>\n",
       "    </tr>\n",
       "    <tr>\n",
       "      <th>Tue</th>\n",
       "      <td>2</td>\n",
       "      <td>Sunny</td>\n",
       "      <td>19.67</td>\n",
       "      <td>28</td>\n",
       "      <td>96</td>\n",
       "      <td>67.406</td>\n",
       "      <td>2</td>\n",
       "    </tr>\n",
       "  </tbody>\n",
       "</table>\n",
       "</div>"
      ],
      "text/plain": [
       "     indice2 Weather  Temperature  Wind  Humidity  Farenheit  indices\n",
       "Day                                                                  \n",
       "Mon        1   Sunny        12.79    13        30     55.022        1\n",
       "Tue        2   Sunny        19.67    28        96     67.406        2"
      ]
     },
     "execution_count": 40,
     "metadata": {},
     "output_type": "execute_result"
    }
   ],
   "source": [
    "# comprobamos si se nos creo la columna: \n",
    "\n",
    "df.head(2)"
   ]
  },
  {
   "cell_type": "markdown",
   "id": "63b7d96c",
   "metadata": {},
   "source": [
    "**EJERCICIOS** \n",
    "\n",
    "1️⃣ Usando el diccionacrio dado Cread un *dataframe*.\n",
    "\n",
    "  ```python\n",
    "\n",
    "    diccionario = {\"Nombre\": [\"Alejandro\", \"Anne\", \"Ana\"], \n",
    "              \"Apellidos\": [\"Sanz\", \"Krus\", \"García\" ], \n",
    "              \"Edad\": [29, 30, 33], \n",
    "              \"Provincia\": [\"Valencia\", \"Madrid\", \"Madrid\"], \n",
    "              \"Estudios\": [\"Físico\", \"Ingeniera\", \"Biologa\"]}\n",
    "  ```\n",
    "    \n",
    "    \n",
    "2️⃣ Cread un *array* de NumPy con numeros aleatorios del 1 al 100 de dos dimensiones de 3 filas y 5 columnas (necesitaremos recordad conceptos adquiridos en la lección de NumPy 1). Los nombres de las columnas deben ser los dias de la semana de Lunes a Viernes. \n",
    "\n",
    "\n",
    "3️⃣ Empecemos a trabajar con `loc`e `iloc`. Usando el primer dataframe: \n",
    "\n",
    "   - Extrae todos los nombres de nuestro dataframe. \n",
    "   \n",
    "   \n",
    "   - ¿Cuántos años tiene Alejandro?\n",
    "   \n",
    "   \n",
    "   - Extrae toda la información de las dos primeras columnas\n",
    "   \n",
    "   \n",
    "   - ¿Quién tiene más de 30 años? Devolved solo el nombre. \n",
    "   \n",
    "   \n",
    "   - ¿Quién es de Madrid y tienen 30 años?\n",
    "   \n",
    "   \n",
    "   - ¿Quién es Ingeniera o tiene menos de 30 años?\n",
    "   \n",
    "\n",
    "4️⃣ Momento de crear nuevas columnas: \n",
    "\n",
    "   - Cread una nueva columna a la que le sumeis 4 a todas las edades\n",
    "   \n",
    "   - Imaginemos ahora que Alejandro tiene 2 hermanos, Anne 1 y Ana 3. Insertad una nueva columna en la última posición con el número de hermanos de cada uno. \n",
    "\n",
    "   - Insertar una nueva columna donde tengamos el nombre y apellidos juntos. \n",
    "   \n",
    "       **NOTA** De la misma forma que sumamos columnas numéricas podemos sumar columnas con strings"
   ]
  },
  {
   "cell_type": "code",
   "execution_count": 42,
   "id": "771e61ce",
   "metadata": {},
   "outputs": [],
   "source": [
    "diccionario = {\"Nombre\": [\"Alejandro\", \"Anne\", \"Ana\"], \n",
    "              \"Apellidos\": [\"Sanz\", \"Krus\", \"García\" ], \n",
    "              \"Edad\": [29, 30, 33], \n",
    "              \"Provincia\": [\"Valencia\", \"Madrid\", \"Madrid\"], \n",
    "              \"Estudios\": [\"Físico\", \"Ingeniera\", \"Biologa\"]}"
   ]
  },
  {
   "cell_type": "code",
   "execution_count": 44,
   "id": "4bedbc96",
   "metadata": {},
   "outputs": [
    {
     "data": {
      "text/html": [
       "<div>\n",
       "<style scoped>\n",
       "    .dataframe tbody tr th:only-of-type {\n",
       "        vertical-align: middle;\n",
       "    }\n",
       "\n",
       "    .dataframe tbody tr th {\n",
       "        vertical-align: top;\n",
       "    }\n",
       "\n",
       "    .dataframe thead th {\n",
       "        text-align: right;\n",
       "    }\n",
       "</style>\n",
       "<table border=\"1\" class=\"dataframe\">\n",
       "  <thead>\n",
       "    <tr style=\"text-align: right;\">\n",
       "      <th></th>\n",
       "      <th>Nombre</th>\n",
       "      <th>Apellidos</th>\n",
       "      <th>Edad</th>\n",
       "      <th>Provincia</th>\n",
       "      <th>Estudios</th>\n",
       "    </tr>\n",
       "  </thead>\n",
       "  <tbody>\n",
       "    <tr>\n",
       "      <th>0</th>\n",
       "      <td>Alejandro</td>\n",
       "      <td>Sanz</td>\n",
       "      <td>29</td>\n",
       "      <td>Valencia</td>\n",
       "      <td>Físico</td>\n",
       "    </tr>\n",
       "    <tr>\n",
       "      <th>1</th>\n",
       "      <td>Anne</td>\n",
       "      <td>Krus</td>\n",
       "      <td>30</td>\n",
       "      <td>Madrid</td>\n",
       "      <td>Ingeniera</td>\n",
       "    </tr>\n",
       "    <tr>\n",
       "      <th>2</th>\n",
       "      <td>Ana</td>\n",
       "      <td>García</td>\n",
       "      <td>33</td>\n",
       "      <td>Madrid</td>\n",
       "      <td>Biologa</td>\n",
       "    </tr>\n",
       "  </tbody>\n",
       "</table>\n",
       "</div>"
      ],
      "text/plain": [
       "      Nombre Apellidos  Edad Provincia   Estudios\n",
       "0  Alejandro      Sanz    29  Valencia     Físico\n",
       "1       Anne      Krus    30    Madrid  Ingeniera\n",
       "2        Ana    García    33    Madrid    Biologa"
      ]
     },
     "execution_count": 44,
     "metadata": {},
     "output_type": "execute_result"
    }
   ],
   "source": [
    "dfd = pd.DataFrame(diccionario)\n",
    "dfd"
   ]
  },
  {
   "cell_type": "code",
   "execution_count": 46,
   "id": "2df8b79d",
   "metadata": {},
   "outputs": [
    {
     "data": {
      "text/plain": [
       "array([[96, 71, 36, 51, 85],\n",
       "       [76, 74, 44, 32,  2],\n",
       "       [37, 71,  1, 51, 93]])"
      ]
     },
     "execution_count": 46,
     "metadata": {},
     "output_type": "execute_result"
    }
   ],
   "source": [
    "array = np.random.randint(1,100,(3,5))\n",
    "array"
   ]
  },
  {
   "cell_type": "code",
   "execution_count": 47,
   "id": "f57c8ded",
   "metadata": {},
   "outputs": [
    {
     "data": {
      "text/html": [
       "<div>\n",
       "<style scoped>\n",
       "    .dataframe tbody tr th:only-of-type {\n",
       "        vertical-align: middle;\n",
       "    }\n",
       "\n",
       "    .dataframe tbody tr th {\n",
       "        vertical-align: top;\n",
       "    }\n",
       "\n",
       "    .dataframe thead th {\n",
       "        text-align: right;\n",
       "    }\n",
       "</style>\n",
       "<table border=\"1\" class=\"dataframe\">\n",
       "  <thead>\n",
       "    <tr style=\"text-align: right;\">\n",
       "      <th></th>\n",
       "      <th>lunes</th>\n",
       "      <th>Martes</th>\n",
       "      <th>Miercoles</th>\n",
       "      <th>Jueves</th>\n",
       "      <th>Viernes</th>\n",
       "    </tr>\n",
       "  </thead>\n",
       "  <tbody>\n",
       "    <tr>\n",
       "      <th>0</th>\n",
       "      <td>96</td>\n",
       "      <td>71</td>\n",
       "      <td>36</td>\n",
       "      <td>51</td>\n",
       "      <td>85</td>\n",
       "    </tr>\n",
       "    <tr>\n",
       "      <th>1</th>\n",
       "      <td>76</td>\n",
       "      <td>74</td>\n",
       "      <td>44</td>\n",
       "      <td>32</td>\n",
       "      <td>2</td>\n",
       "    </tr>\n",
       "    <tr>\n",
       "      <th>2</th>\n",
       "      <td>37</td>\n",
       "      <td>71</td>\n",
       "      <td>1</td>\n",
       "      <td>51</td>\n",
       "      <td>93</td>\n",
       "    </tr>\n",
       "  </tbody>\n",
       "</table>\n",
       "</div>"
      ],
      "text/plain": [
       "   lunes  Martes  Miercoles  Jueves  Viernes\n",
       "0     96      71         36      51       85\n",
       "1     76      74         44      32        2\n",
       "2     37      71          1      51       93"
      ]
     },
     "execution_count": 47,
     "metadata": {},
     "output_type": "execute_result"
    }
   ],
   "source": [
    "dfa = pd.DataFrame(array, columns=['lunes', 'Martes', 'Miercoles', 'Jueves', 'Viernes'])\n",
    "dfa"
   ]
  },
  {
   "cell_type": "markdown",
   "id": "99a31e4b",
   "metadata": {},
   "source": [
    "Empecemos a trabajar con `loc`e `iloc`. Usando el primer dataframe: \n",
    "\n",
    "   - Extrae todos los nombres de nuestro dataframe. \n",
    "   \n",
    "   \n",
    "   - ¿Cuántos años tiene Alejandro?\n",
    "   \n",
    "   \n",
    "   - Extrae toda la información de las dos primeras columnas\n",
    "   \n",
    "   \n",
    "   - ¿Quién tiene más de 30 años? Devolved solo el nombre. \n",
    "   \n",
    "   \n",
    "   - ¿Quién es de Madrid y tienen 30 años?\n",
    "   \n",
    "   \n",
    "   - ¿Quién es Ingeniera o tiene menos de 30 años?\n",
    "   "
   ]
  },
  {
   "cell_type": "code",
   "execution_count": 49,
   "id": "6cc616c1",
   "metadata": {},
   "outputs": [
    {
     "data": {
      "text/plain": [
       "0    Alejandro\n",
       "1         Anne\n",
       "2          Ana\n",
       "Name: Nombre, dtype: object"
      ]
     },
     "execution_count": 49,
     "metadata": {},
     "output_type": "execute_result"
    }
   ],
   "source": [
    "dfd.loc[:, 'Nombre']"
   ]
  },
  {
   "cell_type": "code",
   "execution_count": 53,
   "id": "dab82076",
   "metadata": {},
   "outputs": [
    {
     "data": {
      "text/plain": [
       "29"
      ]
     },
     "execution_count": 53,
     "metadata": {},
     "output_type": "execute_result"
    }
   ],
   "source": [
    "dfd.loc[0, 'Edad']"
   ]
  },
  {
   "cell_type": "code",
   "execution_count": 55,
   "id": "e0b27435",
   "metadata": {},
   "outputs": [
    {
     "data": {
      "text/html": [
       "<div>\n",
       "<style scoped>\n",
       "    .dataframe tbody tr th:only-of-type {\n",
       "        vertical-align: middle;\n",
       "    }\n",
       "\n",
       "    .dataframe tbody tr th {\n",
       "        vertical-align: top;\n",
       "    }\n",
       "\n",
       "    .dataframe thead th {\n",
       "        text-align: right;\n",
       "    }\n",
       "</style>\n",
       "<table border=\"1\" class=\"dataframe\">\n",
       "  <thead>\n",
       "    <tr style=\"text-align: right;\">\n",
       "      <th></th>\n",
       "      <th>Nombre</th>\n",
       "      <th>Apellidos</th>\n",
       "    </tr>\n",
       "  </thead>\n",
       "  <tbody>\n",
       "    <tr>\n",
       "      <th>0</th>\n",
       "      <td>Alejandro</td>\n",
       "      <td>Sanz</td>\n",
       "    </tr>\n",
       "    <tr>\n",
       "      <th>1</th>\n",
       "      <td>Anne</td>\n",
       "      <td>Krus</td>\n",
       "    </tr>\n",
       "    <tr>\n",
       "      <th>2</th>\n",
       "      <td>Ana</td>\n",
       "      <td>García</td>\n",
       "    </tr>\n",
       "  </tbody>\n",
       "</table>\n",
       "</div>"
      ],
      "text/plain": [
       "      Nombre Apellidos\n",
       "0  Alejandro      Sanz\n",
       "1       Anne      Krus\n",
       "2        Ana    García"
      ]
     },
     "execution_count": 55,
     "metadata": {},
     "output_type": "execute_result"
    }
   ],
   "source": [
    "dfd.iloc[:, 0:2]"
   ]
  },
  {
   "cell_type": "code",
   "execution_count": 67,
   "id": "cd39facd",
   "metadata": {},
   "outputs": [
    {
     "data": {
      "text/plain": [
       "2    Ana\n",
       "Name: Nombre, dtype: object"
      ]
     },
     "execution_count": 67,
     "metadata": {},
     "output_type": "execute_result"
    }
   ],
   "source": [
    "dfd.loc[dfd.Edad>30, 'Nombre']"
   ]
  },
  {
   "cell_type": "code",
   "execution_count": 69,
   "id": "da77355a",
   "metadata": {},
   "outputs": [
    {
     "data": {
      "text/html": [
       "<div>\n",
       "<style scoped>\n",
       "    .dataframe tbody tr th:only-of-type {\n",
       "        vertical-align: middle;\n",
       "    }\n",
       "\n",
       "    .dataframe tbody tr th {\n",
       "        vertical-align: top;\n",
       "    }\n",
       "\n",
       "    .dataframe thead th {\n",
       "        text-align: right;\n",
       "    }\n",
       "</style>\n",
       "<table border=\"1\" class=\"dataframe\">\n",
       "  <thead>\n",
       "    <tr style=\"text-align: right;\">\n",
       "      <th></th>\n",
       "      <th>Nombre</th>\n",
       "      <th>Apellidos</th>\n",
       "      <th>Edad</th>\n",
       "      <th>Provincia</th>\n",
       "      <th>Estudios</th>\n",
       "    </tr>\n",
       "  </thead>\n",
       "  <tbody>\n",
       "    <tr>\n",
       "      <th>2</th>\n",
       "      <td>Ana</td>\n",
       "      <td>García</td>\n",
       "      <td>33</td>\n",
       "      <td>Madrid</td>\n",
       "      <td>Biologa</td>\n",
       "    </tr>\n",
       "  </tbody>\n",
       "</table>\n",
       "</div>"
      ],
      "text/plain": [
       "  Nombre Apellidos  Edad Provincia Estudios\n",
       "2    Ana    García    33    Madrid  Biologa"
      ]
     },
     "execution_count": 69,
     "metadata": {},
     "output_type": "execute_result"
    }
   ],
   "source": [
    "dfd.loc[(dfd.Edad >30) & (dfd.Provincia == 'Madrid')]"
   ]
  },
  {
   "cell_type": "code",
   "execution_count": 70,
   "id": "e378f6dd",
   "metadata": {},
   "outputs": [
    {
     "data": {
      "text/html": [
       "<div>\n",
       "<style scoped>\n",
       "    .dataframe tbody tr th:only-of-type {\n",
       "        vertical-align: middle;\n",
       "    }\n",
       "\n",
       "    .dataframe tbody tr th {\n",
       "        vertical-align: top;\n",
       "    }\n",
       "\n",
       "    .dataframe thead th {\n",
       "        text-align: right;\n",
       "    }\n",
       "</style>\n",
       "<table border=\"1\" class=\"dataframe\">\n",
       "  <thead>\n",
       "    <tr style=\"text-align: right;\">\n",
       "      <th></th>\n",
       "      <th>Nombre</th>\n",
       "      <th>Apellidos</th>\n",
       "      <th>Edad</th>\n",
       "      <th>Provincia</th>\n",
       "      <th>Estudios</th>\n",
       "    </tr>\n",
       "  </thead>\n",
       "  <tbody>\n",
       "    <tr>\n",
       "      <th>1</th>\n",
       "      <td>Anne</td>\n",
       "      <td>Krus</td>\n",
       "      <td>30</td>\n",
       "      <td>Madrid</td>\n",
       "      <td>Ingeniera</td>\n",
       "    </tr>\n",
       "    <tr>\n",
       "      <th>2</th>\n",
       "      <td>Ana</td>\n",
       "      <td>García</td>\n",
       "      <td>33</td>\n",
       "      <td>Madrid</td>\n",
       "      <td>Biologa</td>\n",
       "    </tr>\n",
       "  </tbody>\n",
       "</table>\n",
       "</div>"
      ],
      "text/plain": [
       "  Nombre Apellidos  Edad Provincia   Estudios\n",
       "1   Anne      Krus    30    Madrid  Ingeniera\n",
       "2    Ana    García    33    Madrid    Biologa"
      ]
     },
     "execution_count": 70,
     "metadata": {},
     "output_type": "execute_result"
    }
   ],
   "source": [
    "dfd.loc[(dfd.Edad >30) | (dfd.Provincia == 'Madrid')]"
   ]
  },
  {
   "cell_type": "markdown",
   "id": "473c331d",
   "metadata": {},
   "source": [
    "4️⃣ Momento de crear nuevas columnas: \n",
    "\n",
    "   - Cread una nueva columna a la que le sumeis 4 a todas las edades\n",
    "   \n",
    "   - Imaginemos ahora que Alejandro tiene 2 hermanos, Anne 1 y Ana 3. Insertad una nueva columna en la última posición con el número de hermanos de cada uno. \n",
    "\n",
    "   - Insertar una nueva columna donde tengamos el nombre y apellidos juntos. \n",
    "   \n",
    "       **NOTA** De la misma forma que sumamos columnas numéricas podemos sumar columnas con strings"
   ]
  },
  {
   "cell_type": "code",
   "execution_count": 74,
   "id": "484b7013",
   "metadata": {},
   "outputs": [],
   "source": [
    "dfd = dfd.assign(edad4=dfd['Edad'] + 4)\n"
   ]
  },
  {
   "cell_type": "code",
   "execution_count": 75,
   "id": "ea796d28",
   "metadata": {},
   "outputs": [
    {
     "data": {
      "text/html": [
       "<div>\n",
       "<style scoped>\n",
       "    .dataframe tbody tr th:only-of-type {\n",
       "        vertical-align: middle;\n",
       "    }\n",
       "\n",
       "    .dataframe tbody tr th {\n",
       "        vertical-align: top;\n",
       "    }\n",
       "\n",
       "    .dataframe thead th {\n",
       "        text-align: right;\n",
       "    }\n",
       "</style>\n",
       "<table border=\"1\" class=\"dataframe\">\n",
       "  <thead>\n",
       "    <tr style=\"text-align: right;\">\n",
       "      <th></th>\n",
       "      <th>Nombre</th>\n",
       "      <th>Apellidos</th>\n",
       "      <th>Edad</th>\n",
       "      <th>Provincia</th>\n",
       "      <th>Estudios</th>\n",
       "      <th>edad4</th>\n",
       "    </tr>\n",
       "  </thead>\n",
       "  <tbody>\n",
       "    <tr>\n",
       "      <th>0</th>\n",
       "      <td>Alejandro</td>\n",
       "      <td>Sanz</td>\n",
       "      <td>29</td>\n",
       "      <td>Valencia</td>\n",
       "      <td>Físico</td>\n",
       "      <td>33</td>\n",
       "    </tr>\n",
       "    <tr>\n",
       "      <th>1</th>\n",
       "      <td>Anne</td>\n",
       "      <td>Krus</td>\n",
       "      <td>30</td>\n",
       "      <td>Madrid</td>\n",
       "      <td>Ingeniera</td>\n",
       "      <td>34</td>\n",
       "    </tr>\n",
       "    <tr>\n",
       "      <th>2</th>\n",
       "      <td>Ana</td>\n",
       "      <td>García</td>\n",
       "      <td>33</td>\n",
       "      <td>Madrid</td>\n",
       "      <td>Biologa</td>\n",
       "      <td>37</td>\n",
       "    </tr>\n",
       "  </tbody>\n",
       "</table>\n",
       "</div>"
      ],
      "text/plain": [
       "      Nombre Apellidos  Edad Provincia   Estudios  edad4\n",
       "0  Alejandro      Sanz    29  Valencia     Físico     33\n",
       "1       Anne      Krus    30    Madrid  Ingeniera     34\n",
       "2        Ana    García    33    Madrid    Biologa     37"
      ]
     },
     "execution_count": 75,
     "metadata": {},
     "output_type": "execute_result"
    }
   ],
   "source": [
    "dfd"
   ]
  },
  {
   "cell_type": "code",
   "execution_count": 76,
   "id": "224bc31b",
   "metadata": {},
   "outputs": [],
   "source": [
    "dfd = dfd.assign(Hermanos=[2, 1, 3])"
   ]
  },
  {
   "cell_type": "code",
   "execution_count": 77,
   "id": "6384d399",
   "metadata": {},
   "outputs": [
    {
     "data": {
      "text/html": [
       "<div>\n",
       "<style scoped>\n",
       "    .dataframe tbody tr th:only-of-type {\n",
       "        vertical-align: middle;\n",
       "    }\n",
       "\n",
       "    .dataframe tbody tr th {\n",
       "        vertical-align: top;\n",
       "    }\n",
       "\n",
       "    .dataframe thead th {\n",
       "        text-align: right;\n",
       "    }\n",
       "</style>\n",
       "<table border=\"1\" class=\"dataframe\">\n",
       "  <thead>\n",
       "    <tr style=\"text-align: right;\">\n",
       "      <th></th>\n",
       "      <th>Nombre</th>\n",
       "      <th>Apellidos</th>\n",
       "      <th>Edad</th>\n",
       "      <th>Provincia</th>\n",
       "      <th>Estudios</th>\n",
       "      <th>edad4</th>\n",
       "      <th>Hermanos</th>\n",
       "    </tr>\n",
       "  </thead>\n",
       "  <tbody>\n",
       "    <tr>\n",
       "      <th>0</th>\n",
       "      <td>Alejandro</td>\n",
       "      <td>Sanz</td>\n",
       "      <td>29</td>\n",
       "      <td>Valencia</td>\n",
       "      <td>Físico</td>\n",
       "      <td>33</td>\n",
       "      <td>2</td>\n",
       "    </tr>\n",
       "    <tr>\n",
       "      <th>1</th>\n",
       "      <td>Anne</td>\n",
       "      <td>Krus</td>\n",
       "      <td>30</td>\n",
       "      <td>Madrid</td>\n",
       "      <td>Ingeniera</td>\n",
       "      <td>34</td>\n",
       "      <td>1</td>\n",
       "    </tr>\n",
       "    <tr>\n",
       "      <th>2</th>\n",
       "      <td>Ana</td>\n",
       "      <td>García</td>\n",
       "      <td>33</td>\n",
       "      <td>Madrid</td>\n",
       "      <td>Biologa</td>\n",
       "      <td>37</td>\n",
       "      <td>3</td>\n",
       "    </tr>\n",
       "  </tbody>\n",
       "</table>\n",
       "</div>"
      ],
      "text/plain": [
       "      Nombre Apellidos  Edad Provincia   Estudios  edad4  Hermanos\n",
       "0  Alejandro      Sanz    29  Valencia     Físico     33         2\n",
       "1       Anne      Krus    30    Madrid  Ingeniera     34         1\n",
       "2        Ana    García    33    Madrid    Biologa     37         3"
      ]
     },
     "execution_count": 77,
     "metadata": {},
     "output_type": "execute_result"
    }
   ],
   "source": [
    "dfd"
   ]
  },
  {
   "cell_type": "code",
   "execution_count": 86,
   "id": "cb63eac2",
   "metadata": {},
   "outputs": [],
   "source": [
    "dfd = dfd.assign(NombreCompleto = dfd['Nombre'] + ' ' + dfd['Apellidos'] )"
   ]
  },
  {
   "cell_type": "code",
   "execution_count": 87,
   "id": "746b4fe1",
   "metadata": {},
   "outputs": [
    {
     "data": {
      "text/html": [
       "<div>\n",
       "<style scoped>\n",
       "    .dataframe tbody tr th:only-of-type {\n",
       "        vertical-align: middle;\n",
       "    }\n",
       "\n",
       "    .dataframe tbody tr th {\n",
       "        vertical-align: top;\n",
       "    }\n",
       "\n",
       "    .dataframe thead th {\n",
       "        text-align: right;\n",
       "    }\n",
       "</style>\n",
       "<table border=\"1\" class=\"dataframe\">\n",
       "  <thead>\n",
       "    <tr style=\"text-align: right;\">\n",
       "      <th></th>\n",
       "      <th>Nombre</th>\n",
       "      <th>Apellidos</th>\n",
       "      <th>Edad</th>\n",
       "      <th>Provincia</th>\n",
       "      <th>Estudios</th>\n",
       "      <th>edad4</th>\n",
       "      <th>Hermanos</th>\n",
       "      <th>NombreCompleto</th>\n",
       "    </tr>\n",
       "  </thead>\n",
       "  <tbody>\n",
       "    <tr>\n",
       "      <th>0</th>\n",
       "      <td>Alejandro</td>\n",
       "      <td>Sanz</td>\n",
       "      <td>29</td>\n",
       "      <td>Valencia</td>\n",
       "      <td>Físico</td>\n",
       "      <td>33</td>\n",
       "      <td>2</td>\n",
       "      <td>Alejandro Sanz</td>\n",
       "    </tr>\n",
       "    <tr>\n",
       "      <th>1</th>\n",
       "      <td>Anne</td>\n",
       "      <td>Krus</td>\n",
       "      <td>30</td>\n",
       "      <td>Madrid</td>\n",
       "      <td>Ingeniera</td>\n",
       "      <td>34</td>\n",
       "      <td>1</td>\n",
       "      <td>Anne Krus</td>\n",
       "    </tr>\n",
       "    <tr>\n",
       "      <th>2</th>\n",
       "      <td>Ana</td>\n",
       "      <td>García</td>\n",
       "      <td>33</td>\n",
       "      <td>Madrid</td>\n",
       "      <td>Biologa</td>\n",
       "      <td>37</td>\n",
       "      <td>3</td>\n",
       "      <td>Ana García</td>\n",
       "    </tr>\n",
       "  </tbody>\n",
       "</table>\n",
       "</div>"
      ],
      "text/plain": [
       "      Nombre Apellidos  Edad Provincia   Estudios  edad4  Hermanos  \\\n",
       "0  Alejandro      Sanz    29  Valencia     Físico     33         2   \n",
       "1       Anne      Krus    30    Madrid  Ingeniera     34         1   \n",
       "2        Ana    García    33    Madrid    Biologa     37         3   \n",
       "\n",
       "   NombreCompleto  \n",
       "0  Alejandro Sanz  \n",
       "1       Anne Krus  \n",
       "2      Ana García  "
      ]
     },
     "execution_count": 87,
     "metadata": {},
     "output_type": "execute_result"
    }
   ],
   "source": [
    "dfd"
   ]
  }
 ],
 "metadata": {
  "kernelspec": {
   "display_name": "Python 3.9.13 ('base')",
   "language": "python",
   "name": "python3"
  },
  "language_info": {
   "codemirror_mode": {
    "name": "ipython",
    "version": 3
   },
   "file_extension": ".py",
   "mimetype": "text/x-python",
   "name": "python",
   "nbconvert_exporter": "python",
   "pygments_lexer": "ipython3",
   "version": "3.9.13"
  },
  "toc": {
   "base_numbering": 1,
   "nav_menu": {},
   "number_sections": true,
   "sideBar": true,
   "skip_h1_title": false,
   "title_cell": "Table of Contents",
   "title_sidebar": "Contents",
   "toc_cell": true,
   "toc_position": {},
   "toc_section_display": true,
   "toc_window_display": true
  },
  "vscode": {
   "interpreter": {
    "hash": "85c042135e83639dad74b6ec6c9d943b5dc47ca281624d931a3e14168052f53c"
   }
  }
 },
 "nbformat": 4,
 "nbformat_minor": 5
}

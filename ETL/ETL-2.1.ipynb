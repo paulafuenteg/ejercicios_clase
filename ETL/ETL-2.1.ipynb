{
 "cells": [
  {
   "cell_type": "markdown",
   "id": "fa6564e7",
   "metadata": {
    "toc": true
   },
   "source": [
    "<h1>Table of Contents<span class=\"tocSkip\"></span></h1>\n",
    "<div class=\"toc\"><ul class=\"toc-item\"><li><span><a href=\"#Introducción\" data-toc-modified-id=\"Introducción-1\"><span class=\"toc-item-num\">1&nbsp;&nbsp;</span>Introducción</a></span></li><li><span><a href=\"#Exploración-y-transformación-del-csv-previo\" data-toc-modified-id=\"Exploración-y-transformación-del-csv-previo-2\"><span class=\"toc-item-num\">2&nbsp;&nbsp;</span>Exploración y transformación del csv previo</a></span></li><li><span><a href=\"#Actualización-de-datos\" data-toc-modified-id=\"Actualización-de-datos-3\"><span class=\"toc-item-num\">3&nbsp;&nbsp;</span>Actualización de datos</a></span></li><li><span><a href=\"#Chequeamos-los-datos\" data-toc-modified-id=\"Chequeamos-los-datos-4\"><span class=\"toc-item-num\">4&nbsp;&nbsp;</span>Chequeamos los datos</a></span></li><li><span><a href=\"#Creación-de-clases\" data-toc-modified-id=\"Creación-de-clases-5\"><span class=\"toc-item-num\">5&nbsp;&nbsp;</span>Creación de clases</a></span></li></ul></div>"
   ]
  },
  {
   "cell_type": "markdown",
   "id": "bc182443",
   "metadata": {},
   "source": [
    "# Introducción "
   ]
  },
  {
   "cell_type": "markdown",
   "id": "6714acc1",
   "metadata": {},
   "source": [
    "En la sesión de hoy continuaremos con ETL. En concreto aprenderemos como podemos unir datos de distintos orígenes, identificaremos los datos que tenemos y como podremos juntarlos. Además haremos una pequeña limpieza de los datos para que nos quede todo perfecto para seguir nuestro proceso de ETL. "
   ]
  },
  {
   "cell_type": "markdown",
   "id": "7f7ecf36",
   "metadata": {},
   "source": [
    "Como siempre, antes de empezar importamos las librerías que nos harán falta: "
   ]
  },
  {
   "cell_type": "code",
   "execution_count": 1,
   "id": "e3945587",
   "metadata": {},
   "outputs": [],
   "source": [
    "import requests\n",
    "import pandas as pd\n",
    "import numpy as np\n",
    "\n",
    "from datetime import datetime, timedelta"
   ]
  },
  {
   "cell_type": "markdown",
   "id": "b851f7d3",
   "metadata": {},
   "source": [
    "# Exploración y transformación del csv previo"
   ]
  },
  {
   "cell_type": "markdown",
   "id": "6e2870d2",
   "metadata": {},
   "source": [
    "En la lección anterior nos descargamos a información del tiempo para la ciudad de Madrid. Pero la información es de una ciudad concreta para un día concreto. En caso de que no tengáis, tenéis estos datos en la pestaña de datos del gitbook. \n",
    "\n",
    "Nosotras lo que en realidad queremos es descargar los datos cada día de la API para tener un seguimiento continuo de los datos, pero hasta el momento solo tenemos los datos para un día.  Lo primero que tendremos que hacer es \"traernos\" al jupyter el csv que nos guardamos ayer. "
   ]
  },
  {
   "cell_type": "code",
   "execution_count": 2,
   "id": "606136b8",
   "metadata": {
    "scrolled": true
   },
   "outputs": [
    {
     "data": {
      "text/html": [
       "<div>\n",
       "<style scoped>\n",
       "    .dataframe tbody tr th:only-of-type {\n",
       "        vertical-align: middle;\n",
       "    }\n",
       "\n",
       "    .dataframe tbody tr th {\n",
       "        vertical-align: top;\n",
       "    }\n",
       "\n",
       "    .dataframe thead th {\n",
       "        text-align: right;\n",
       "    }\n",
       "</style>\n",
       "<table border=\"1\" class=\"dataframe\">\n",
       "  <thead>\n",
       "    <tr style=\"text-align: right;\">\n",
       "      <th></th>\n",
       "      <th>timepoint</th>\n",
       "      <th>cloudcover</th>\n",
       "      <th>lifted_index</th>\n",
       "      <th>prec_type</th>\n",
       "      <th>prec_amount</th>\n",
       "      <th>temp2m</th>\n",
       "      <th>rh2m</th>\n",
       "      <th>weather</th>\n",
       "      <th>wind10m.direction</th>\n",
       "      <th>wind10m.speed</th>\n",
       "    </tr>\n",
       "  </thead>\n",
       "  <tbody>\n",
       "    <tr>\n",
       "      <th>0</th>\n",
       "      <td>3</td>\n",
       "      <td>4</td>\n",
       "      <td>-4</td>\n",
       "      <td>none</td>\n",
       "      <td>0</td>\n",
       "      <td>27</td>\n",
       "      <td>79%</td>\n",
       "      <td>pcloudyday</td>\n",
       "      <td>E</td>\n",
       "      <td>3</td>\n",
       "    </tr>\n",
       "    <tr>\n",
       "      <th>1</th>\n",
       "      <td>6</td>\n",
       "      <td>4</td>\n",
       "      <td>-4</td>\n",
       "      <td>none</td>\n",
       "      <td>0</td>\n",
       "      <td>28</td>\n",
       "      <td>80%</td>\n",
       "      <td>pcloudynight</td>\n",
       "      <td>E</td>\n",
       "      <td>3</td>\n",
       "    </tr>\n",
       "  </tbody>\n",
       "</table>\n",
       "</div>"
      ],
      "text/plain": [
       "   timepoint  cloudcover  lifted_index prec_type  prec_amount  temp2m rh2m  \\\n",
       "0          3           4            -4      none            0      27  79%   \n",
       "1          6           4            -4      none            0      28  80%   \n",
       "\n",
       "        weather wind10m.direction  wind10m.speed  \n",
       "0    pcloudyday                 E              3  \n",
       "1  pcloudynight                 E              3  "
      ]
     },
     "execution_count": 2,
     "metadata": {},
     "output_type": "execute_result"
    }
   ],
   "source": [
    "df = pd.read_csv(\"files/datos_Madrid.csv\", index_col = 0)\n",
    "df.head(2)"
   ]
  },
  {
   "cell_type": "code",
   "execution_count": 3,
   "id": "8c712fc1",
   "metadata": {},
   "outputs": [
    {
     "data": {
      "text/plain": [
       "(64, 10)"
      ]
     },
     "execution_count": 3,
     "metadata": {},
     "output_type": "execute_result"
    }
   ],
   "source": [
    "# vemos que tenemos 64 filas. \n",
    "df.shape"
   ]
  },
  {
   "cell_type": "markdown",
   "id": "9c458f6e",
   "metadata": {},
   "source": [
    "Lo primero que nos damos cuenta es que no tenemos una columna que nos informe del día al que corresponden las medidas, por lo que lo primero que tendremos que hacer es crear una columna con la fecha de las mediciones."
   ]
  },
  {
   "cell_type": "markdown",
   "id": "520d0387",
   "metadata": {},
   "source": [
    "Ya sabemos que Python tiene la librería datetime que nos va a permitir trabajar con fechas. Una de sus funcionalidades es extraer la fecha del día en el que estamos, usando `datetime.now()`. [Aquí](https://docs.python.org/es/3/library/datetime.html) algo de docu. \n",
    "\n",
    "\n",
    "Pero claro, tenemos un problema, los datos no son de hoy, son de ayer!! No hay problema, la librería datetime nos permite restar días a nuestro día de hoy usando `timedelta`. Tenéis más info sobre este método en el link anterior. "
   ]
  },
  {
   "cell_type": "code",
   "execution_count": 4,
   "id": "2fc3d636",
   "metadata": {},
   "outputs": [
    {
     "data": {
      "text/plain": [
       "datetime.datetime(2023, 1, 9, 10, 42, 26, 441942)"
      ]
     },
     "execution_count": 4,
     "metadata": {},
     "output_type": "execute_result"
    }
   ],
   "source": [
    "ayer = datetime.now() - timedelta(1)\n",
    "ayer"
   ]
  },
  {
   "cell_type": "markdown",
   "id": "5c3c1e3c",
   "metadata": {},
   "source": [
    "Genial! Hemos sacado la fecha de ayer, pero la verdad es que esta un poco feota 😨. De nuevo `datetime` nos permite \"formatear\" la fecha como nosotras queramos: "
   ]
  },
  {
   "cell_type": "code",
   "execution_count": 5,
   "id": "14e97b73",
   "metadata": {},
   "outputs": [
    {
     "data": {
      "text/plain": [
       "'2023-01-09'"
      ]
     },
     "execution_count": 5,
     "metadata": {},
     "output_type": "execute_result"
    }
   ],
   "source": [
    "ayer = datetime.strftime(ayer, '%Y-%m-%d')\n",
    "ayer"
   ]
  },
  {
   "cell_type": "markdown",
   "id": "e89b1ca1",
   "metadata": {},
   "source": [
    "Ahora si 💪🏽! Ya tenemos la fecha como queremos. Lo único que tendremos que hacer es crearnos una columna nueva con ese valor: "
   ]
  },
  {
   "cell_type": "code",
   "execution_count": 6,
   "id": "1cb448b2",
   "metadata": {},
   "outputs": [],
   "source": [
    "df[\"fecha\"] = ayer"
   ]
  },
  {
   "cell_type": "code",
   "execution_count": 7,
   "id": "dc11f521",
   "metadata": {},
   "outputs": [
    {
     "data": {
      "text/html": [
       "<div>\n",
       "<style scoped>\n",
       "    .dataframe tbody tr th:only-of-type {\n",
       "        vertical-align: middle;\n",
       "    }\n",
       "\n",
       "    .dataframe tbody tr th {\n",
       "        vertical-align: top;\n",
       "    }\n",
       "\n",
       "    .dataframe thead th {\n",
       "        text-align: right;\n",
       "    }\n",
       "</style>\n",
       "<table border=\"1\" class=\"dataframe\">\n",
       "  <thead>\n",
       "    <tr style=\"text-align: right;\">\n",
       "      <th></th>\n",
       "      <th>timepoint</th>\n",
       "      <th>cloudcover</th>\n",
       "      <th>lifted_index</th>\n",
       "      <th>prec_type</th>\n",
       "      <th>prec_amount</th>\n",
       "      <th>temp2m</th>\n",
       "      <th>rh2m</th>\n",
       "      <th>weather</th>\n",
       "      <th>wind10m.direction</th>\n",
       "      <th>wind10m.speed</th>\n",
       "      <th>fecha</th>\n",
       "    </tr>\n",
       "  </thead>\n",
       "  <tbody>\n",
       "    <tr>\n",
       "      <th>0</th>\n",
       "      <td>3</td>\n",
       "      <td>4</td>\n",
       "      <td>-4</td>\n",
       "      <td>none</td>\n",
       "      <td>0</td>\n",
       "      <td>27</td>\n",
       "      <td>79%</td>\n",
       "      <td>pcloudyday</td>\n",
       "      <td>E</td>\n",
       "      <td>3</td>\n",
       "      <td>2023-01-09</td>\n",
       "    </tr>\n",
       "    <tr>\n",
       "      <th>1</th>\n",
       "      <td>6</td>\n",
       "      <td>4</td>\n",
       "      <td>-4</td>\n",
       "      <td>none</td>\n",
       "      <td>0</td>\n",
       "      <td>28</td>\n",
       "      <td>80%</td>\n",
       "      <td>pcloudynight</td>\n",
       "      <td>E</td>\n",
       "      <td>3</td>\n",
       "      <td>2023-01-09</td>\n",
       "    </tr>\n",
       "    <tr>\n",
       "      <th>2</th>\n",
       "      <td>9</td>\n",
       "      <td>4</td>\n",
       "      <td>-4</td>\n",
       "      <td>rain</td>\n",
       "      <td>0</td>\n",
       "      <td>27</td>\n",
       "      <td>78%</td>\n",
       "      <td>ishowernight</td>\n",
       "      <td>E</td>\n",
       "      <td>3</td>\n",
       "      <td>2023-01-09</td>\n",
       "    </tr>\n",
       "    <tr>\n",
       "      <th>3</th>\n",
       "      <td>12</td>\n",
       "      <td>3</td>\n",
       "      <td>-4</td>\n",
       "      <td>rain</td>\n",
       "      <td>0</td>\n",
       "      <td>27</td>\n",
       "      <td>77%</td>\n",
       "      <td>ishowernight</td>\n",
       "      <td>E</td>\n",
       "      <td>3</td>\n",
       "      <td>2023-01-09</td>\n",
       "    </tr>\n",
       "    <tr>\n",
       "      <th>4</th>\n",
       "      <td>15</td>\n",
       "      <td>2</td>\n",
       "      <td>-4</td>\n",
       "      <td>rain</td>\n",
       "      <td>0</td>\n",
       "      <td>27</td>\n",
       "      <td>80%</td>\n",
       "      <td>ishowernight</td>\n",
       "      <td>NE</td>\n",
       "      <td>3</td>\n",
       "      <td>2023-01-09</td>\n",
       "    </tr>\n",
       "  </tbody>\n",
       "</table>\n",
       "</div>"
      ],
      "text/plain": [
       "   timepoint  cloudcover  lifted_index prec_type  prec_amount  temp2m rh2m  \\\n",
       "0          3           4            -4      none            0      27  79%   \n",
       "1          6           4            -4      none            0      28  80%   \n",
       "2          9           4            -4      rain            0      27  78%   \n",
       "3         12           3            -4      rain            0      27  77%   \n",
       "4         15           2            -4      rain            0      27  80%   \n",
       "\n",
       "        weather wind10m.direction  wind10m.speed       fecha  \n",
       "0    pcloudyday                 E              3  2023-01-09  \n",
       "1  pcloudynight                 E              3  2023-01-09  \n",
       "2  ishowernight                 E              3  2023-01-09  \n",
       "3  ishowernight                 E              3  2023-01-09  \n",
       "4  ishowernight                NE              3  2023-01-09  "
      ]
     },
     "execution_count": 7,
     "metadata": {},
     "output_type": "execute_result"
    }
   ],
   "source": [
    "# chequeamos si se nos creó esa columna: \n",
    "\n",
    "df.head()"
   ]
  },
  {
   "cell_type": "markdown",
   "id": "a6c1f59a",
   "metadata": {},
   "source": [
    "De la misma forma que hemos añadido la información de la fecha, vamos a añadir información de la localización de las mediciones. En este caso lo estamos haciendo para Madrid, pero puede que en un futuro queramos incluir otras ciudades. \n",
    "\n",
    "En este caso incluiremos las coordenadas y la ciudad. "
   ]
  },
  {
   "cell_type": "code",
   "execution_count": 8,
   "id": "cf710dc7",
   "metadata": {},
   "outputs": [],
   "source": [
    "df[\"latitud\"] = 40.4165\n",
    "df[\"longitud\"] = -3.70256\n",
    "df[\"ciudad\"] = \"Madrid\"\n"
   ]
  },
  {
   "cell_type": "code",
   "execution_count": 9,
   "id": "c75494cd",
   "metadata": {},
   "outputs": [
    {
     "data": {
      "text/html": [
       "<div>\n",
       "<style scoped>\n",
       "    .dataframe tbody tr th:only-of-type {\n",
       "        vertical-align: middle;\n",
       "    }\n",
       "\n",
       "    .dataframe tbody tr th {\n",
       "        vertical-align: top;\n",
       "    }\n",
       "\n",
       "    .dataframe thead th {\n",
       "        text-align: right;\n",
       "    }\n",
       "</style>\n",
       "<table border=\"1\" class=\"dataframe\">\n",
       "  <thead>\n",
       "    <tr style=\"text-align: right;\">\n",
       "      <th></th>\n",
       "      <th>timepoint</th>\n",
       "      <th>cloudcover</th>\n",
       "      <th>lifted_index</th>\n",
       "      <th>prec_type</th>\n",
       "      <th>prec_amount</th>\n",
       "      <th>temp2m</th>\n",
       "      <th>rh2m</th>\n",
       "      <th>weather</th>\n",
       "      <th>wind10m.direction</th>\n",
       "      <th>wind10m.speed</th>\n",
       "      <th>fecha</th>\n",
       "      <th>latitud</th>\n",
       "      <th>longitud</th>\n",
       "      <th>ciudad</th>\n",
       "    </tr>\n",
       "  </thead>\n",
       "  <tbody>\n",
       "    <tr>\n",
       "      <th>0</th>\n",
       "      <td>3</td>\n",
       "      <td>4</td>\n",
       "      <td>-4</td>\n",
       "      <td>none</td>\n",
       "      <td>0</td>\n",
       "      <td>27</td>\n",
       "      <td>79%</td>\n",
       "      <td>pcloudyday</td>\n",
       "      <td>E</td>\n",
       "      <td>3</td>\n",
       "      <td>2023-01-09</td>\n",
       "      <td>40.4165</td>\n",
       "      <td>-3.70256</td>\n",
       "      <td>Madrid</td>\n",
       "    </tr>\n",
       "    <tr>\n",
       "      <th>1</th>\n",
       "      <td>6</td>\n",
       "      <td>4</td>\n",
       "      <td>-4</td>\n",
       "      <td>none</td>\n",
       "      <td>0</td>\n",
       "      <td>28</td>\n",
       "      <td>80%</td>\n",
       "      <td>pcloudynight</td>\n",
       "      <td>E</td>\n",
       "      <td>3</td>\n",
       "      <td>2023-01-09</td>\n",
       "      <td>40.4165</td>\n",
       "      <td>-3.70256</td>\n",
       "      <td>Madrid</td>\n",
       "    </tr>\n",
       "  </tbody>\n",
       "</table>\n",
       "</div>"
      ],
      "text/plain": [
       "   timepoint  cloudcover  lifted_index prec_type  prec_amount  temp2m rh2m  \\\n",
       "0          3           4            -4      none            0      27  79%   \n",
       "1          6           4            -4      none            0      28  80%   \n",
       "\n",
       "        weather wind10m.direction  wind10m.speed       fecha  latitud  \\\n",
       "0    pcloudyday                 E              3  2023-01-09  40.4165   \n",
       "1  pcloudynight                 E              3  2023-01-09  40.4165   \n",
       "\n",
       "   longitud  ciudad  \n",
       "0  -3.70256  Madrid  \n",
       "1  -3.70256  Madrid  "
      ]
     },
     "execution_count": 9,
     "metadata": {},
     "output_type": "execute_result"
    }
   ],
   "source": [
    "# chequeamos que todo fue bien\n",
    "\n",
    "df.head(2)"
   ]
  },
  {
   "cell_type": "markdown",
   "id": "5eb97d59",
   "metadata": {},
   "source": [
    "# Actualización de datos "
   ]
  },
  {
   "cell_type": "markdown",
   "id": "42bdd032",
   "metadata": {},
   "source": [
    "Perfecto!!! Ya tenemos los datos como queríamos. Ahora lo que tenemos que hacer es \"bajarnos\" los datos de la API para el día de hoy y juntarlos con los que tenemos de ayer. \n",
    "\n",
    "En realidad, el objetivo de este paso es automatizar el proceso de descarga de datos para cada día, por lo que nos crearemos una función. "
   ]
  },
  {
   "cell_type": "markdown",
   "id": "e2d57e1c",
   "metadata": {},
   "source": [
    "La función recibirá tres parámetros:\n",
    "\n",
    "- `lat`\n",
    "\n",
    "\n",
    "- `lon` \n",
    "\n",
    "\n",
    "- `producto`: hasta ahora solo hemos sacado unos datos en concreto. Pero la API nos puede dar más info y puede que queramos otros datos. \n",
    "\n",
    "En cuanto a la latitud y longitud,  hoy queremos los datos de Madrid, pero puede que en algún momento los queramos de otra ciudad. \n",
    "\n",
    "Más info sobre los datos de la API [aquí](https://7timer.info/index.php?product=meteo&lon=14.398&lat=47.911&lang=en&ac=0&unit=metric&tzshift=1&site=)"
   ]
  },
  {
   "cell_type": "code",
   "execution_count": 10,
   "id": "4b16e0d3",
   "metadata": {},
   "outputs": [],
   "source": [
    "def llamada_API(lat, lon, producto):\n",
    "    \n",
    "    # hacemos la llamada  a la API\n",
    "    url = f'http://www.7timer.info/bin/api.pl?lon=-{lon}&lat={lat}&product={producto}&output=json'\n",
    "\n",
    "    response = requests.get(url=url)\n",
    "    codigo_estado = response.status_code\n",
    "    razon_estado = response.reason\n",
    "    if codigo_estado == 200:\n",
    "        print('La peticion se ha realizado correctamente, se ha devuelto el código de estado:',codigo_estado,' y como razón del código de estado: ',razon_estado)\n",
    "    elif codigo_estado == 402:\n",
    "        print('No se ha podido autorizar usario, se ha devuelto el código de estado:', codigo_estado,' y como razón del código de estado: ',razon_estado)\n",
    "    elif codigo_estado == 404:\n",
    "        print('Algo ha salido mal, el recurso no se ha encontrado,se ha devuelto el código de estado:', codigo_estado,' y como razón del código de estado: ',razon_estado)\n",
    "    else:\n",
    "        print('Algo inesperado ha ocurrido, se ha devuelto el código de estado:', codigo_estado,' y como razón del código de estado: ',razon_estado)\n",
    "\n",
    "    # convertimos los resultados en un dataframe: \n",
    "    df = pd.DataFrame.from_dict(pd.json_normalize(response.json()['dataseries']))\n",
    "    return df"
   ]
  },
  {
   "cell_type": "code",
   "execution_count": 11,
   "id": "f00e3cfd",
   "metadata": {},
   "outputs": [],
   "source": [
    "# definimos las variables de las coordenadas y el producto (o tipo de datos) que queremos descargarnos de la API. \n",
    "\n",
    "latitud = 40.4165\n",
    "longitud = -3.70256\n",
    "producto = \"civil\""
   ]
  },
  {
   "cell_type": "code",
   "execution_count": 12,
   "id": "163fbcf1",
   "metadata": {},
   "outputs": [
    {
     "name": "stdout",
     "output_type": "stream",
     "text": [
      "La peticion se ha realizado correctamente, se ha devuelto el código de estado: 200  y como razón del código de estado:  OK\n"
     ]
    },
    {
     "data": {
      "text/html": [
       "<div>\n",
       "<style scoped>\n",
       "    .dataframe tbody tr th:only-of-type {\n",
       "        vertical-align: middle;\n",
       "    }\n",
       "\n",
       "    .dataframe tbody tr th {\n",
       "        vertical-align: top;\n",
       "    }\n",
       "\n",
       "    .dataframe thead th {\n",
       "        text-align: right;\n",
       "    }\n",
       "</style>\n",
       "<table border=\"1\" class=\"dataframe\">\n",
       "  <thead>\n",
       "    <tr style=\"text-align: right;\">\n",
       "      <th></th>\n",
       "      <th>timepoint</th>\n",
       "      <th>cloudcover</th>\n",
       "      <th>lifted_index</th>\n",
       "      <th>prec_type</th>\n",
       "      <th>prec_amount</th>\n",
       "      <th>temp2m</th>\n",
       "      <th>rh2m</th>\n",
       "      <th>weather</th>\n",
       "      <th>wind10m.direction</th>\n",
       "      <th>wind10m.speed</th>\n",
       "    </tr>\n",
       "  </thead>\n",
       "  <tbody>\n",
       "    <tr>\n",
       "      <th>0</th>\n",
       "      <td>3</td>\n",
       "      <td>1</td>\n",
       "      <td>15</td>\n",
       "      <td>none</td>\n",
       "      <td>0</td>\n",
       "      <td>5</td>\n",
       "      <td>64%</td>\n",
       "      <td>clearnight</td>\n",
       "      <td>NW</td>\n",
       "      <td>3</td>\n",
       "    </tr>\n",
       "    <tr>\n",
       "      <th>1</th>\n",
       "      <td>6</td>\n",
       "      <td>2</td>\n",
       "      <td>15</td>\n",
       "      <td>none</td>\n",
       "      <td>0</td>\n",
       "      <td>6</td>\n",
       "      <td>55%</td>\n",
       "      <td>clearnight</td>\n",
       "      <td>NW</td>\n",
       "      <td>3</td>\n",
       "    </tr>\n",
       "    <tr>\n",
       "      <th>2</th>\n",
       "      <td>9</td>\n",
       "      <td>1</td>\n",
       "      <td>15</td>\n",
       "      <td>none</td>\n",
       "      <td>0</td>\n",
       "      <td>8</td>\n",
       "      <td>45%</td>\n",
       "      <td>clearday</td>\n",
       "      <td>NW</td>\n",
       "      <td>2</td>\n",
       "    </tr>\n",
       "    <tr>\n",
       "      <th>3</th>\n",
       "      <td>12</td>\n",
       "      <td>1</td>\n",
       "      <td>10</td>\n",
       "      <td>none</td>\n",
       "      <td>0</td>\n",
       "      <td>13</td>\n",
       "      <td>43%</td>\n",
       "      <td>clearday</td>\n",
       "      <td>NW</td>\n",
       "      <td>2</td>\n",
       "    </tr>\n",
       "    <tr>\n",
       "      <th>4</th>\n",
       "      <td>15</td>\n",
       "      <td>1</td>\n",
       "      <td>10</td>\n",
       "      <td>none</td>\n",
       "      <td>0</td>\n",
       "      <td>13</td>\n",
       "      <td>41%</td>\n",
       "      <td>clearday</td>\n",
       "      <td>N</td>\n",
       "      <td>2</td>\n",
       "    </tr>\n",
       "  </tbody>\n",
       "</table>\n",
       "</div>"
      ],
      "text/plain": [
       "   timepoint  cloudcover  lifted_index prec_type  prec_amount  temp2m rh2m  \\\n",
       "0          3           1            15      none            0       5  64%   \n",
       "1          6           2            15      none            0       6  55%   \n",
       "2          9           1            15      none            0       8  45%   \n",
       "3         12           1            10      none            0      13  43%   \n",
       "4         15           1            10      none            0      13  41%   \n",
       "\n",
       "      weather wind10m.direction  wind10m.speed  \n",
       "0  clearnight                NW              3  \n",
       "1  clearnight                NW              3  \n",
       "2    clearday                NW              2  \n",
       "3    clearday                NW              2  \n",
       "4    clearday                 N              2  "
      ]
     },
     "execution_count": 12,
     "metadata": {},
     "output_type": "execute_result"
    }
   ],
   "source": [
    "# nos creamos un dataframe (df_hoy) con los datos de la API para el día de hoy. \n",
    "\n",
    "df_hoy = llamada_API(latitud, longitud, producto)\n",
    "df_hoy.head()"
   ]
  },
  {
   "cell_type": "markdown",
   "id": "4827ec08",
   "metadata": {},
   "source": [
    "Perfecto! Ya tenemos nuestro *dataset* con la información que necesitamos. Pero recordamos que no tenemos la información de la fecha. Además, el objetivo es ir juntando todos los *dataframes* para tenerlo todo juntito. \n",
    "\n",
    "Por lo tanto, nuestro siguientes pasos serían: \n",
    "\n",
    "- Incluir la fecha en el *dataframe* nuevo\n",
    "\n",
    "\n",
    "- Incluir la longitud, latitud y ciudad\n",
    "\n",
    "\n",
    "- Juntar los *dataframes* \n",
    "\n",
    "Nos crearemos una nueva función que recibirá 4 parámetros: \n",
    "\n",
    "- El *dataframe* con los datos de hoy. \n",
    "\n",
    "\n",
    "- La latitud\n",
    "\n",
    "\n",
    "- La longitud\n",
    "\n",
    "\n",
    "- La ciudad"
   ]
  },
  {
   "cell_type": "code",
   "execution_count": 13,
   "id": "de31d731",
   "metadata": {},
   "outputs": [],
   "source": [
    "def limpiar_civil(df_nuevo, lat, long, ciudad): \n",
    "    \n",
    "    # lo primero que tenemos que hacer es crear la columna de fecha en el dataframe nuevo \n",
    "    # En este caso será la fecha del día de hoy. \n",
    "    hoy = datetime.now()\n",
    "    hoy = datetime.strftime(hoy, '%Y-%m-%d')\n",
    "    \n",
    "    # creamos la nueva columna\n",
    "    df_nuevo[\"fecha\"] = hoy\n",
    "    \n",
    "    df_nuevo[\"latitud\"] = lat\n",
    "    df_nuevo[\"longitud\"] = long\n",
    "    df_nuevo[\"ciudad\"] = ciudad\n",
    "    return df_nuevo\n",
    "    \n",
    "    "
   ]
  },
  {
   "cell_type": "code",
   "execution_count": 14,
   "id": "4d5460c6",
   "metadata": {},
   "outputs": [
    {
     "name": "stdout",
     "output_type": "stream",
     "text": [
      "la latitud es:  40.4165\n",
      "la longitud es:  -3.70256\n"
     ]
    }
   ],
   "source": [
    "# definimos la ciudad\n",
    "\n",
    "ciudad = \"Madrid\"\n",
    "\n",
    "# recordamos que la latitud y longitud las definimos previamente\n",
    "\n",
    "print(\"la latitud es: \", latitud)\n",
    "print(\"la longitud es: \", longitud)"
   ]
  },
  {
   "cell_type": "code",
   "execution_count": 15,
   "id": "10def977",
   "metadata": {
    "scrolled": true
   },
   "outputs": [
    {
     "data": {
      "text/html": [
       "<div>\n",
       "<style scoped>\n",
       "    .dataframe tbody tr th:only-of-type {\n",
       "        vertical-align: middle;\n",
       "    }\n",
       "\n",
       "    .dataframe tbody tr th {\n",
       "        vertical-align: top;\n",
       "    }\n",
       "\n",
       "    .dataframe thead th {\n",
       "        text-align: right;\n",
       "    }\n",
       "</style>\n",
       "<table border=\"1\" class=\"dataframe\">\n",
       "  <thead>\n",
       "    <tr style=\"text-align: right;\">\n",
       "      <th></th>\n",
       "      <th>timepoint</th>\n",
       "      <th>cloudcover</th>\n",
       "      <th>lifted_index</th>\n",
       "      <th>prec_type</th>\n",
       "      <th>prec_amount</th>\n",
       "      <th>temp2m</th>\n",
       "      <th>rh2m</th>\n",
       "      <th>weather</th>\n",
       "      <th>wind10m.direction</th>\n",
       "      <th>wind10m.speed</th>\n",
       "      <th>fecha</th>\n",
       "      <th>latitud</th>\n",
       "      <th>longitud</th>\n",
       "      <th>ciudad</th>\n",
       "    </tr>\n",
       "  </thead>\n",
       "  <tbody>\n",
       "    <tr>\n",
       "      <th>0</th>\n",
       "      <td>3</td>\n",
       "      <td>1</td>\n",
       "      <td>15</td>\n",
       "      <td>none</td>\n",
       "      <td>0</td>\n",
       "      <td>5</td>\n",
       "      <td>64%</td>\n",
       "      <td>clearnight</td>\n",
       "      <td>NW</td>\n",
       "      <td>3</td>\n",
       "      <td>2023-01-10</td>\n",
       "      <td>40.4165</td>\n",
       "      <td>-3.70256</td>\n",
       "      <td>Madrid</td>\n",
       "    </tr>\n",
       "    <tr>\n",
       "      <th>1</th>\n",
       "      <td>6</td>\n",
       "      <td>2</td>\n",
       "      <td>15</td>\n",
       "      <td>none</td>\n",
       "      <td>0</td>\n",
       "      <td>6</td>\n",
       "      <td>55%</td>\n",
       "      <td>clearnight</td>\n",
       "      <td>NW</td>\n",
       "      <td>3</td>\n",
       "      <td>2023-01-10</td>\n",
       "      <td>40.4165</td>\n",
       "      <td>-3.70256</td>\n",
       "      <td>Madrid</td>\n",
       "    </tr>\n",
       "    <tr>\n",
       "      <th>2</th>\n",
       "      <td>9</td>\n",
       "      <td>1</td>\n",
       "      <td>15</td>\n",
       "      <td>none</td>\n",
       "      <td>0</td>\n",
       "      <td>8</td>\n",
       "      <td>45%</td>\n",
       "      <td>clearday</td>\n",
       "      <td>NW</td>\n",
       "      <td>2</td>\n",
       "      <td>2023-01-10</td>\n",
       "      <td>40.4165</td>\n",
       "      <td>-3.70256</td>\n",
       "      <td>Madrid</td>\n",
       "    </tr>\n",
       "    <tr>\n",
       "      <th>3</th>\n",
       "      <td>12</td>\n",
       "      <td>1</td>\n",
       "      <td>10</td>\n",
       "      <td>none</td>\n",
       "      <td>0</td>\n",
       "      <td>13</td>\n",
       "      <td>43%</td>\n",
       "      <td>clearday</td>\n",
       "      <td>NW</td>\n",
       "      <td>2</td>\n",
       "      <td>2023-01-10</td>\n",
       "      <td>40.4165</td>\n",
       "      <td>-3.70256</td>\n",
       "      <td>Madrid</td>\n",
       "    </tr>\n",
       "    <tr>\n",
       "      <th>4</th>\n",
       "      <td>15</td>\n",
       "      <td>1</td>\n",
       "      <td>10</td>\n",
       "      <td>none</td>\n",
       "      <td>0</td>\n",
       "      <td>13</td>\n",
       "      <td>41%</td>\n",
       "      <td>clearday</td>\n",
       "      <td>N</td>\n",
       "      <td>2</td>\n",
       "      <td>2023-01-10</td>\n",
       "      <td>40.4165</td>\n",
       "      <td>-3.70256</td>\n",
       "      <td>Madrid</td>\n",
       "    </tr>\n",
       "  </tbody>\n",
       "</table>\n",
       "</div>"
      ],
      "text/plain": [
       "   timepoint  cloudcover  lifted_index prec_type  prec_amount  temp2m rh2m  \\\n",
       "0          3           1            15      none            0       5  64%   \n",
       "1          6           2            15      none            0       6  55%   \n",
       "2          9           1            15      none            0       8  45%   \n",
       "3         12           1            10      none            0      13  43%   \n",
       "4         15           1            10      none            0      13  41%   \n",
       "\n",
       "      weather wind10m.direction  wind10m.speed       fecha  latitud  longitud  \\\n",
       "0  clearnight                NW              3  2023-01-10  40.4165  -3.70256   \n",
       "1  clearnight                NW              3  2023-01-10  40.4165  -3.70256   \n",
       "2    clearday                NW              2  2023-01-10  40.4165  -3.70256   \n",
       "3    clearday                NW              2  2023-01-10  40.4165  -3.70256   \n",
       "4    clearday                 N              2  2023-01-10  40.4165  -3.70256   \n",
       "\n",
       "   ciudad  \n",
       "0  Madrid  \n",
       "1  Madrid  \n",
       "2  Madrid  \n",
       "3  Madrid  \n",
       "4  Madrid  "
      ]
     },
     "execution_count": 15,
     "metadata": {},
     "output_type": "execute_result"
    }
   ],
   "source": [
    "# llamamos a la función\n",
    "\n",
    "df= limpiar_civil(df_hoy, latitud, longitud, ciudad)\n",
    "df.head()"
   ]
  },
  {
   "cell_type": "markdown",
   "id": "86d9a7ef",
   "metadata": {},
   "source": [
    "Resulta que investigando más la API nos damos cuenta que tiene otros datos. Y vemos que nos interesa sacar los datos sobre la visibilidad del día. Perfecto, manos a la obra para hacer de nuevo la llamada a la API y extraer los datos. \n",
    "\n",
    "📌 **NOTA** En este caso la *requests* se hace igual, pero en la url hay un punto donde especificamos el producto. Antes usabamos `civil`, ahora usaremos `astro`.  \n",
    "\n",
    "💡 Recordamos que al inicio del jupyter nos creamos una función que se llamaba `llamada_API` que podemos reutilizar para extraer los nuevos datos que queremos\n"
   ]
  },
  {
   "cell_type": "code",
   "execution_count": 16,
   "id": "22965ceb",
   "metadata": {},
   "outputs": [],
   "source": [
    "# la latitud y la longitud serán las mismas\n",
    "latitud = 40.4165\n",
    "longitud = -3.70256\n",
    "\n",
    "# pero en este caso el producto cambiará. En este caso \"astro\"\n",
    "producto2 = \"astro\""
   ]
  },
  {
   "cell_type": "code",
   "execution_count": 17,
   "id": "18bb98fc",
   "metadata": {},
   "outputs": [
    {
     "name": "stdout",
     "output_type": "stream",
     "text": [
      "La peticion se ha realizado correctamente, se ha devuelto el código de estado: 200  y como razón del código de estado:  OK\n"
     ]
    }
   ],
   "source": [
    "# llamamamos a la función \n",
    "\n",
    "df_astro = llamada_API(latitud, longitud, producto2)"
   ]
  },
  {
   "cell_type": "code",
   "execution_count": 18,
   "id": "dc731a83",
   "metadata": {
    "scrolled": false
   },
   "outputs": [
    {
     "data": {
      "text/html": [
       "<div>\n",
       "<style scoped>\n",
       "    .dataframe tbody tr th:only-of-type {\n",
       "        vertical-align: middle;\n",
       "    }\n",
       "\n",
       "    .dataframe tbody tr th {\n",
       "        vertical-align: top;\n",
       "    }\n",
       "\n",
       "    .dataframe thead th {\n",
       "        text-align: right;\n",
       "    }\n",
       "</style>\n",
       "<table border=\"1\" class=\"dataframe\">\n",
       "  <thead>\n",
       "    <tr style=\"text-align: right;\">\n",
       "      <th></th>\n",
       "      <th>timepoint</th>\n",
       "      <th>cloudcover</th>\n",
       "      <th>seeing</th>\n",
       "      <th>transparency</th>\n",
       "      <th>lifted_index</th>\n",
       "      <th>rh2m</th>\n",
       "      <th>temp2m</th>\n",
       "      <th>prec_type</th>\n",
       "      <th>wind10m.direction</th>\n",
       "      <th>wind10m.speed</th>\n",
       "    </tr>\n",
       "  </thead>\n",
       "  <tbody>\n",
       "    <tr>\n",
       "      <th>0</th>\n",
       "      <td>3</td>\n",
       "      <td>1</td>\n",
       "      <td>5</td>\n",
       "      <td>2</td>\n",
       "      <td>15</td>\n",
       "      <td>8</td>\n",
       "      <td>5</td>\n",
       "      <td>none</td>\n",
       "      <td>NW</td>\n",
       "      <td>3</td>\n",
       "    </tr>\n",
       "    <tr>\n",
       "      <th>1</th>\n",
       "      <td>6</td>\n",
       "      <td>2</td>\n",
       "      <td>5</td>\n",
       "      <td>2</td>\n",
       "      <td>15</td>\n",
       "      <td>7</td>\n",
       "      <td>6</td>\n",
       "      <td>none</td>\n",
       "      <td>NW</td>\n",
       "      <td>3</td>\n",
       "    </tr>\n",
       "  </tbody>\n",
       "</table>\n",
       "</div>"
      ],
      "text/plain": [
       "   timepoint  cloudcover  seeing  transparency  lifted_index  rh2m  temp2m  \\\n",
       "0          3           1       5             2            15     8       5   \n",
       "1          6           2       5             2            15     7       6   \n",
       "\n",
       "  prec_type wind10m.direction  wind10m.speed  \n",
       "0      none                NW              3  \n",
       "1      none                NW              3  "
      ]
     },
     "execution_count": 18,
     "metadata": {},
     "output_type": "execute_result"
    }
   ],
   "source": [
    "# chequeamos los datos que nos hemos descargado de la API\n",
    "\n",
    "df_astro.head(2)"
   ]
  },
  {
   "cell_type": "code",
   "execution_count": 19,
   "id": "51a746aa",
   "metadata": {},
   "outputs": [
    {
     "data": {
      "text/plain": [
       "(24, 10)"
      ]
     },
     "execution_count": 19,
     "metadata": {},
     "output_type": "execute_result"
    }
   ],
   "source": [
    "df_astro.shape"
   ]
  },
  {
   "cell_type": "code",
   "execution_count": 20,
   "id": "f79f19ba",
   "metadata": {},
   "outputs": [
    {
     "data": {
      "text/html": [
       "<div>\n",
       "<style scoped>\n",
       "    .dataframe tbody tr th:only-of-type {\n",
       "        vertical-align: middle;\n",
       "    }\n",
       "\n",
       "    .dataframe tbody tr th {\n",
       "        vertical-align: top;\n",
       "    }\n",
       "\n",
       "    .dataframe thead th {\n",
       "        text-align: right;\n",
       "    }\n",
       "</style>\n",
       "<table border=\"1\" class=\"dataframe\">\n",
       "  <thead>\n",
       "    <tr style=\"text-align: right;\">\n",
       "      <th></th>\n",
       "      <th>timepoint</th>\n",
       "      <th>cloudcover</th>\n",
       "      <th>lifted_index</th>\n",
       "      <th>prec_type</th>\n",
       "      <th>prec_amount</th>\n",
       "      <th>temp2m</th>\n",
       "      <th>rh2m</th>\n",
       "      <th>weather</th>\n",
       "      <th>wind10m.direction</th>\n",
       "      <th>wind10m.speed</th>\n",
       "      <th>fecha</th>\n",
       "      <th>latitud</th>\n",
       "      <th>longitud</th>\n",
       "      <th>ciudad</th>\n",
       "    </tr>\n",
       "  </thead>\n",
       "  <tbody>\n",
       "    <tr>\n",
       "      <th>0</th>\n",
       "      <td>3</td>\n",
       "      <td>1</td>\n",
       "      <td>15</td>\n",
       "      <td>none</td>\n",
       "      <td>0</td>\n",
       "      <td>5</td>\n",
       "      <td>64%</td>\n",
       "      <td>clearnight</td>\n",
       "      <td>NW</td>\n",
       "      <td>3</td>\n",
       "      <td>2023-01-10</td>\n",
       "      <td>40.4165</td>\n",
       "      <td>-3.70256</td>\n",
       "      <td>Madrid</td>\n",
       "    </tr>\n",
       "    <tr>\n",
       "      <th>1</th>\n",
       "      <td>6</td>\n",
       "      <td>2</td>\n",
       "      <td>15</td>\n",
       "      <td>none</td>\n",
       "      <td>0</td>\n",
       "      <td>6</td>\n",
       "      <td>55%</td>\n",
       "      <td>clearnight</td>\n",
       "      <td>NW</td>\n",
       "      <td>3</td>\n",
       "      <td>2023-01-10</td>\n",
       "      <td>40.4165</td>\n",
       "      <td>-3.70256</td>\n",
       "      <td>Madrid</td>\n",
       "    </tr>\n",
       "  </tbody>\n",
       "</table>\n",
       "</div>"
      ],
      "text/plain": [
       "   timepoint  cloudcover  lifted_index prec_type  prec_amount  temp2m rh2m  \\\n",
       "0          3           1            15      none            0       5  64%   \n",
       "1          6           2            15      none            0       6  55%   \n",
       "\n",
       "      weather wind10m.direction  wind10m.speed       fecha  latitud  longitud  \\\n",
       "0  clearnight                NW              3  2023-01-10  40.4165  -3.70256   \n",
       "1  clearnight                NW              3  2023-01-10  40.4165  -3.70256   \n",
       "\n",
       "   ciudad  \n",
       "0  Madrid  \n",
       "1  Madrid  "
      ]
     },
     "execution_count": 20,
     "metadata": {},
     "output_type": "execute_result"
    }
   ],
   "source": [
    "# recordamos como era nuestra información con los datos anteriores\n",
    "\n",
    "df_hoy.head(2)"
   ]
  },
  {
   "cell_type": "markdown",
   "id": "38cad5ae",
   "metadata": {},
   "source": [
    "Perfecto, ya tenemos todos los datos. Ahora podemos ver que hay algunas columnas que son comunes entre los *dataframes* pero también que tenemos informacion nueva, en concreto las columnas `seeing` y `transparency`. También nos quedaremos con la columna `timepoint` para poder hacer una correcta unión de los *dataframes* más adelante. Además, vemos que nos falta la columna de fecha. \n",
    "\n",
    "Por lo tanto, tenemos que \"limpiar\" un poco estos datos y juntarlos con la tabla donde lo tenemos todo. \n",
    "\n",
    "De nuevo, crearemos una funcioncita 😀 que recibirá como parámetros: \n",
    "\n",
    "- el *dataframe* de la nueva llamada a la API. \n",
    "\n",
    "\n",
    "- la latitud\n",
    "\n",
    "\n",
    "- la longitud\n",
    "\n",
    "\n",
    "- la ciudad"
   ]
  },
  {
   "cell_type": "code",
   "execution_count": 21,
   "id": "a79b49fe",
   "metadata": {},
   "outputs": [],
   "source": [
    "def limpiar_astro(df, lat, long, ciudad):\n",
    "    \n",
    "    #seleccionamos solo las columnas que nos interesan\n",
    "    df = df[[\"seeing\", \"transparency\", \"timepoint\"]]\n",
    "    \n",
    "    # creamos la columna de fecha: \n",
    "    hoy = datetime.now()\n",
    "    hoy = datetime.strftime(hoy, '%Y-%m-%d')\n",
    "    df[\"fecha\"] = hoy\n",
    "    \n",
    "    \n",
    "    # insertamos las columnas de la localidad\n",
    "    df[\"ciudad\"] = ciudad\n",
    "    \n",
    "    return df\n",
    "    \n",
    "    "
   ]
  },
  {
   "cell_type": "code",
   "execution_count": 22,
   "id": "5e847e5e",
   "metadata": {},
   "outputs": [
    {
     "name": "stdout",
     "output_type": "stream",
     "text": [
      "la latitud es:  40.4165\n",
      "la longitud es:  -3.70256\n",
      "la ciudad es:  Madrid\n"
     ]
    }
   ],
   "source": [
    "# recordamos que la latitud, longitud y ciudad, las definimos previamente\n",
    "\n",
    "print(\"la latitud es: \", latitud)\n",
    "print(\"la longitud es: \", longitud)\n",
    "print(\"la ciudad es: \", ciudad)"
   ]
  },
  {
   "cell_type": "code",
   "execution_count": 23,
   "id": "30fdb13e",
   "metadata": {
    "scrolled": false
   },
   "outputs": [
    {
     "name": "stderr",
     "output_type": "stream",
     "text": [
      "/tmp/ipykernel_494/3413091675.py:9: SettingWithCopyWarning: \n",
      "A value is trying to be set on a copy of a slice from a DataFrame.\n",
      "Try using .loc[row_indexer,col_indexer] = value instead\n",
      "\n",
      "See the caveats in the documentation: https://pandas.pydata.org/pandas-docs/stable/user_guide/indexing.html#returning-a-view-versus-a-copy\n",
      "  df[\"fecha\"] = hoy\n",
      "/tmp/ipykernel_494/3413091675.py:13: SettingWithCopyWarning: \n",
      "A value is trying to be set on a copy of a slice from a DataFrame.\n",
      "Try using .loc[row_indexer,col_indexer] = value instead\n",
      "\n",
      "See the caveats in the documentation: https://pandas.pydata.org/pandas-docs/stable/user_guide/indexing.html#returning-a-view-versus-a-copy\n",
      "  df[\"ciudad\"] = ciudad\n"
     ]
    },
    {
     "data": {
      "text/html": [
       "<div>\n",
       "<style scoped>\n",
       "    .dataframe tbody tr th:only-of-type {\n",
       "        vertical-align: middle;\n",
       "    }\n",
       "\n",
       "    .dataframe tbody tr th {\n",
       "        vertical-align: top;\n",
       "    }\n",
       "\n",
       "    .dataframe thead th {\n",
       "        text-align: right;\n",
       "    }\n",
       "</style>\n",
       "<table border=\"1\" class=\"dataframe\">\n",
       "  <thead>\n",
       "    <tr style=\"text-align: right;\">\n",
       "      <th></th>\n",
       "      <th>seeing</th>\n",
       "      <th>transparency</th>\n",
       "      <th>timepoint</th>\n",
       "      <th>fecha</th>\n",
       "      <th>ciudad</th>\n",
       "    </tr>\n",
       "  </thead>\n",
       "  <tbody>\n",
       "    <tr>\n",
       "      <th>0</th>\n",
       "      <td>5</td>\n",
       "      <td>2</td>\n",
       "      <td>3</td>\n",
       "      <td>2023-01-10</td>\n",
       "      <td>Madrid</td>\n",
       "    </tr>\n",
       "    <tr>\n",
       "      <th>1</th>\n",
       "      <td>5</td>\n",
       "      <td>2</td>\n",
       "      <td>6</td>\n",
       "      <td>2023-01-10</td>\n",
       "      <td>Madrid</td>\n",
       "    </tr>\n",
       "  </tbody>\n",
       "</table>\n",
       "</div>"
      ],
      "text/plain": [
       "   seeing  transparency  timepoint       fecha  ciudad\n",
       "0       5             2          3  2023-01-10  Madrid\n",
       "1       5             2          6  2023-01-10  Madrid"
      ]
     },
     "execution_count": 23,
     "metadata": {},
     "output_type": "execute_result"
    }
   ],
   "source": [
    "df_astro = limpiar_astro(df_astro, latitud, longitud, ciudad)\n",
    "df_astro.head(2)"
   ]
  },
  {
   "cell_type": "markdown",
   "id": "6c792359",
   "metadata": {},
   "source": [
    "Vale, ya tenemos los datos. Solo nos falta juntar el *dataframe* con datos de otros dias, más los dataframes de los datos que sacamos hoy. En este punto tenemos que tener en cuenta un par de detalles: \n",
    "\n",
    "- Tenemos dos tipos de *dataframes*. Dos de ellos con información general, resultado de la llamada  la API de dos dias y el otro con la información de la visibilidad. En este contexto la únión de los *dataframes* será diferente. \n",
    "\n",
    "    - Los dataframes con información general los podremos unir usando un `concat` que haremos por las columnas ya que tienen las mismas columnas. \n",
    "    \n",
    "    - En el caso de la información de la visibilidad tendremos que usar un merge ya que tiene  columnas en común, la de fecha. \n",
    "\n",
    "\n",
    "- Datos sobre visibilidad no tendremos de ayer, por lo que hacer la unión de los dataframes contendrá nulos. \n",
    "\n",
    "Creemonos una nueva función para tener un único *dataframe* con toda la información.  "
   ]
  },
  {
   "cell_type": "code",
   "execution_count": 24,
   "id": "f7a7f0ee",
   "metadata": {},
   "outputs": [
    {
     "data": {
      "text/html": [
       "<div>\n",
       "<style scoped>\n",
       "    .dataframe tbody tr th:only-of-type {\n",
       "        vertical-align: middle;\n",
       "    }\n",
       "\n",
       "    .dataframe tbody tr th {\n",
       "        vertical-align: top;\n",
       "    }\n",
       "\n",
       "    .dataframe thead th {\n",
       "        text-align: right;\n",
       "    }\n",
       "</style>\n",
       "<table border=\"1\" class=\"dataframe\">\n",
       "  <thead>\n",
       "    <tr style=\"text-align: right;\">\n",
       "      <th></th>\n",
       "      <th>timepoint</th>\n",
       "      <th>cloudcover</th>\n",
       "      <th>lifted_index</th>\n",
       "      <th>prec_type</th>\n",
       "      <th>prec_amount</th>\n",
       "      <th>temp2m</th>\n",
       "      <th>rh2m</th>\n",
       "      <th>weather</th>\n",
       "      <th>wind10m.direction</th>\n",
       "      <th>wind10m.speed</th>\n",
       "      <th>fecha</th>\n",
       "      <th>latitud</th>\n",
       "      <th>longitud</th>\n",
       "      <th>ciudad</th>\n",
       "    </tr>\n",
       "  </thead>\n",
       "  <tbody>\n",
       "    <tr>\n",
       "      <th>0</th>\n",
       "      <td>3</td>\n",
       "      <td>1</td>\n",
       "      <td>15</td>\n",
       "      <td>none</td>\n",
       "      <td>0</td>\n",
       "      <td>5</td>\n",
       "      <td>64%</td>\n",
       "      <td>clearnight</td>\n",
       "      <td>NW</td>\n",
       "      <td>3</td>\n",
       "      <td>2023-01-10</td>\n",
       "      <td>40.4165</td>\n",
       "      <td>-3.70256</td>\n",
       "      <td>Madrid</td>\n",
       "    </tr>\n",
       "    <tr>\n",
       "      <th>1</th>\n",
       "      <td>6</td>\n",
       "      <td>2</td>\n",
       "      <td>15</td>\n",
       "      <td>none</td>\n",
       "      <td>0</td>\n",
       "      <td>6</td>\n",
       "      <td>55%</td>\n",
       "      <td>clearnight</td>\n",
       "      <td>NW</td>\n",
       "      <td>3</td>\n",
       "      <td>2023-01-10</td>\n",
       "      <td>40.4165</td>\n",
       "      <td>-3.70256</td>\n",
       "      <td>Madrid</td>\n",
       "    </tr>\n",
       "  </tbody>\n",
       "</table>\n",
       "</div>"
      ],
      "text/plain": [
       "   timepoint  cloudcover  lifted_index prec_type  prec_amount  temp2m rh2m  \\\n",
       "0          3           1            15      none            0       5  64%   \n",
       "1          6           2            15      none            0       6  55%   \n",
       "\n",
       "      weather wind10m.direction  wind10m.speed       fecha  latitud  longitud  \\\n",
       "0  clearnight                NW              3  2023-01-10  40.4165  -3.70256   \n",
       "1  clearnight                NW              3  2023-01-10  40.4165  -3.70256   \n",
       "\n",
       "   ciudad  \n",
       "0  Madrid  \n",
       "1  Madrid  "
      ]
     },
     "execution_count": 24,
     "metadata": {},
     "output_type": "execute_result"
    }
   ],
   "source": [
    "df_hoy.head(2)"
   ]
  },
  {
   "cell_type": "code",
   "execution_count": 25,
   "id": "0ec1b91a",
   "metadata": {},
   "outputs": [
    {
     "data": {
      "text/html": [
       "<div>\n",
       "<style scoped>\n",
       "    .dataframe tbody tr th:only-of-type {\n",
       "        vertical-align: middle;\n",
       "    }\n",
       "\n",
       "    .dataframe tbody tr th {\n",
       "        vertical-align: top;\n",
       "    }\n",
       "\n",
       "    .dataframe thead th {\n",
       "        text-align: right;\n",
       "    }\n",
       "</style>\n",
       "<table border=\"1\" class=\"dataframe\">\n",
       "  <thead>\n",
       "    <tr style=\"text-align: right;\">\n",
       "      <th></th>\n",
       "      <th>seeing</th>\n",
       "      <th>transparency</th>\n",
       "      <th>timepoint</th>\n",
       "      <th>fecha</th>\n",
       "      <th>ciudad</th>\n",
       "    </tr>\n",
       "  </thead>\n",
       "  <tbody>\n",
       "    <tr>\n",
       "      <th>0</th>\n",
       "      <td>5</td>\n",
       "      <td>2</td>\n",
       "      <td>3</td>\n",
       "      <td>2023-01-10</td>\n",
       "      <td>Madrid</td>\n",
       "    </tr>\n",
       "    <tr>\n",
       "      <th>1</th>\n",
       "      <td>5</td>\n",
       "      <td>2</td>\n",
       "      <td>6</td>\n",
       "      <td>2023-01-10</td>\n",
       "      <td>Madrid</td>\n",
       "    </tr>\n",
       "  </tbody>\n",
       "</table>\n",
       "</div>"
      ],
      "text/plain": [
       "   seeing  transparency  timepoint       fecha  ciudad\n",
       "0       5             2          3  2023-01-10  Madrid\n",
       "1       5             2          6  2023-01-10  Madrid"
      ]
     },
     "execution_count": 25,
     "metadata": {},
     "output_type": "execute_result"
    }
   ],
   "source": [
    "df_astro.head(2)"
   ]
  },
  {
   "cell_type": "code",
   "execution_count": 26,
   "id": "143d1cc1",
   "metadata": {
    "scrolled": true
   },
   "outputs": [
    {
     "data": {
      "text/plain": [
       "(64, 14)"
      ]
     },
     "execution_count": 26,
     "metadata": {},
     "output_type": "execute_result"
    }
   ],
   "source": [
    "df_hoy.shape"
   ]
  },
  {
   "cell_type": "code",
   "execution_count": 27,
   "id": "dba307bc",
   "metadata": {},
   "outputs": [
    {
     "data": {
      "text/plain": [
       "(24, 5)"
      ]
     },
     "execution_count": 27,
     "metadata": {},
     "output_type": "execute_result"
    }
   ],
   "source": [
    "df_astro.shape"
   ]
  },
  {
   "cell_type": "markdown",
   "id": "f73e10b2",
   "metadata": {},
   "source": [
    "Antes de ponernos a hacer la función exploremos un poco los *dataframes* para entender como tenemos que hacer los mergeos entre la información de la visibilidad y el df_completo. \n",
    "\n",
    "Si nos fijamos, en el *dataframe* de visibilidad tenemos menos filas porque se hacen menos medidas a lo largo del día. Por este motivo para hacer la unión de toda la info tendremos que hacerlo por las columnas de `timepoint` y `fecha` y `ciudad`. Además si queremos conservar toda la información tendremos que especificar que queremos toda la información de la tabla completa. Si recordamos en el método de merge teníamos el parámetro `how` con el cual especificamos con que tabla nos queremos quedar. "
   ]
  },
  {
   "cell_type": "code",
   "execution_count": 28,
   "id": "d36d850f",
   "metadata": {},
   "outputs": [],
   "source": [
    "def juntar_dfs(df_completo, df_visibilidad):\n",
    "    \n",
    "    # ahora es el turno de unir el dataframe con la información de la visibilidad con el completo\n",
    "    # en este caso el how lo ponemos como right ya que queremos que se quede con toda la info que en la segunda tabla que le pasamos que es la que tiene toda la información\n",
    "    df = pd.merge(df_completo , df_astro , on=['fecha', \"timepoint\", \"ciudad\"], how = \"right\")\n",
    "\n",
    "    \n",
    "    return df\n"
   ]
  },
  {
   "cell_type": "code",
   "execution_count": 29,
   "id": "677ad340",
   "metadata": {},
   "outputs": [],
   "source": [
    "df_final = juntar_dfs(df_hoy, df_astro)"
   ]
  },
  {
   "cell_type": "code",
   "execution_count": 30,
   "id": "25a44b12",
   "metadata": {},
   "outputs": [
    {
     "data": {
      "text/html": [
       "<div>\n",
       "<style scoped>\n",
       "    .dataframe tbody tr th:only-of-type {\n",
       "        vertical-align: middle;\n",
       "    }\n",
       "\n",
       "    .dataframe tbody tr th {\n",
       "        vertical-align: top;\n",
       "    }\n",
       "\n",
       "    .dataframe thead th {\n",
       "        text-align: right;\n",
       "    }\n",
       "</style>\n",
       "<table border=\"1\" class=\"dataframe\">\n",
       "  <thead>\n",
       "    <tr style=\"text-align: right;\">\n",
       "      <th></th>\n",
       "      <th>timepoint</th>\n",
       "      <th>cloudcover</th>\n",
       "      <th>lifted_index</th>\n",
       "      <th>prec_type</th>\n",
       "      <th>prec_amount</th>\n",
       "      <th>temp2m</th>\n",
       "      <th>rh2m</th>\n",
       "      <th>weather</th>\n",
       "      <th>wind10m.direction</th>\n",
       "      <th>wind10m.speed</th>\n",
       "      <th>fecha</th>\n",
       "      <th>latitud</th>\n",
       "      <th>longitud</th>\n",
       "      <th>ciudad</th>\n",
       "      <th>seeing</th>\n",
       "      <th>transparency</th>\n",
       "    </tr>\n",
       "  </thead>\n",
       "  <tbody>\n",
       "    <tr>\n",
       "      <th>0</th>\n",
       "      <td>3</td>\n",
       "      <td>1</td>\n",
       "      <td>15</td>\n",
       "      <td>none</td>\n",
       "      <td>0</td>\n",
       "      <td>5</td>\n",
       "      <td>64%</td>\n",
       "      <td>clearnight</td>\n",
       "      <td>NW</td>\n",
       "      <td>3</td>\n",
       "      <td>2023-01-10</td>\n",
       "      <td>40.4165</td>\n",
       "      <td>-3.70256</td>\n",
       "      <td>Madrid</td>\n",
       "      <td>5</td>\n",
       "      <td>2</td>\n",
       "    </tr>\n",
       "    <tr>\n",
       "      <th>1</th>\n",
       "      <td>6</td>\n",
       "      <td>2</td>\n",
       "      <td>15</td>\n",
       "      <td>none</td>\n",
       "      <td>0</td>\n",
       "      <td>6</td>\n",
       "      <td>55%</td>\n",
       "      <td>clearnight</td>\n",
       "      <td>NW</td>\n",
       "      <td>3</td>\n",
       "      <td>2023-01-10</td>\n",
       "      <td>40.4165</td>\n",
       "      <td>-3.70256</td>\n",
       "      <td>Madrid</td>\n",
       "      <td>5</td>\n",
       "      <td>2</td>\n",
       "    </tr>\n",
       "    <tr>\n",
       "      <th>2</th>\n",
       "      <td>9</td>\n",
       "      <td>1</td>\n",
       "      <td>15</td>\n",
       "      <td>none</td>\n",
       "      <td>0</td>\n",
       "      <td>8</td>\n",
       "      <td>45%</td>\n",
       "      <td>clearday</td>\n",
       "      <td>NW</td>\n",
       "      <td>2</td>\n",
       "      <td>2023-01-10</td>\n",
       "      <td>40.4165</td>\n",
       "      <td>-3.70256</td>\n",
       "      <td>Madrid</td>\n",
       "      <td>3</td>\n",
       "      <td>2</td>\n",
       "    </tr>\n",
       "    <tr>\n",
       "      <th>3</th>\n",
       "      <td>12</td>\n",
       "      <td>1</td>\n",
       "      <td>10</td>\n",
       "      <td>none</td>\n",
       "      <td>0</td>\n",
       "      <td>13</td>\n",
       "      <td>43%</td>\n",
       "      <td>clearday</td>\n",
       "      <td>NW</td>\n",
       "      <td>2</td>\n",
       "      <td>2023-01-10</td>\n",
       "      <td>40.4165</td>\n",
       "      <td>-3.70256</td>\n",
       "      <td>Madrid</td>\n",
       "      <td>2</td>\n",
       "      <td>2</td>\n",
       "    </tr>\n",
       "    <tr>\n",
       "      <th>4</th>\n",
       "      <td>15</td>\n",
       "      <td>1</td>\n",
       "      <td>10</td>\n",
       "      <td>none</td>\n",
       "      <td>0</td>\n",
       "      <td>13</td>\n",
       "      <td>41%</td>\n",
       "      <td>clearday</td>\n",
       "      <td>N</td>\n",
       "      <td>2</td>\n",
       "      <td>2023-01-10</td>\n",
       "      <td>40.4165</td>\n",
       "      <td>-3.70256</td>\n",
       "      <td>Madrid</td>\n",
       "      <td>2</td>\n",
       "      <td>2</td>\n",
       "    </tr>\n",
       "  </tbody>\n",
       "</table>\n",
       "</div>"
      ],
      "text/plain": [
       "   timepoint  cloudcover  lifted_index prec_type  prec_amount  temp2m rh2m  \\\n",
       "0          3           1            15      none            0       5  64%   \n",
       "1          6           2            15      none            0       6  55%   \n",
       "2          9           1            15      none            0       8  45%   \n",
       "3         12           1            10      none            0      13  43%   \n",
       "4         15           1            10      none            0      13  41%   \n",
       "\n",
       "      weather wind10m.direction  wind10m.speed       fecha  latitud  longitud  \\\n",
       "0  clearnight                NW              3  2023-01-10  40.4165  -3.70256   \n",
       "1  clearnight                NW              3  2023-01-10  40.4165  -3.70256   \n",
       "2    clearday                NW              2  2023-01-10  40.4165  -3.70256   \n",
       "3    clearday                NW              2  2023-01-10  40.4165  -3.70256   \n",
       "4    clearday                 N              2  2023-01-10  40.4165  -3.70256   \n",
       "\n",
       "   ciudad  seeing  transparency  \n",
       "0  Madrid       5             2  \n",
       "1  Madrid       5             2  \n",
       "2  Madrid       3             2  \n",
       "3  Madrid       2             2  \n",
       "4  Madrid       2             2  "
      ]
     },
     "execution_count": 30,
     "metadata": {},
     "output_type": "execute_result"
    }
   ],
   "source": [
    "df_final.head()"
   ]
  },
  {
   "cell_type": "markdown",
   "id": "68b4f445",
   "metadata": {},
   "source": [
    "# Chequeamos los datos"
   ]
  },
  {
   "cell_type": "markdown",
   "id": "12193e7e",
   "metadata": {},
   "source": [
    "Hemos creado nuestra primera clase en nuestro proceso de ETL, somos unas auténticas programadoras 💪!\n",
    "Ahora llega el momento de chequear como están nuestro datos. Si tenemos algún nulo, que tipos de datos tenemos, el nombre de las columnas, etc. "
   ]
  },
  {
   "cell_type": "code",
   "execution_count": 31,
   "id": "234961fe",
   "metadata": {},
   "outputs": [],
   "source": [
    "def chequear_datos(df): \n",
    "    \n",
    "    print(\"Las columnas son:\", \"\\n\")\n",
    "    print(list(df.columns))\n",
    "    print(\"-----------------------------------------\")\n",
    "    \n",
    "    print(\"Los tipos de datos que tenemos son:\", \"\\n\")\n",
    "    print(df.dtypes)\n",
    "    print(\"-----------------------------------------\")\n",
    "    \n",
    "    print(\"El porcentaje de nulos:\", \"\\n\")\n",
    "    print((df.isnull().sum() / df.shape[0]) *  100)"
   ]
  },
  {
   "cell_type": "code",
   "execution_count": 32,
   "id": "4f969ddc",
   "metadata": {},
   "outputs": [
    {
     "name": "stdout",
     "output_type": "stream",
     "text": [
      "Las columnas son: \n",
      "\n",
      "['timepoint', 'cloudcover', 'lifted_index', 'prec_type', 'prec_amount', 'temp2m', 'rh2m', 'weather', 'wind10m.direction', 'wind10m.speed', 'fecha', 'latitud', 'longitud', 'ciudad', 'seeing', 'transparency']\n",
      "-----------------------------------------\n",
      "Los tipos de datos que tenemos son: \n",
      "\n",
      "timepoint              int64\n",
      "cloudcover             int64\n",
      "lifted_index           int64\n",
      "prec_type             object\n",
      "prec_amount            int64\n",
      "temp2m                 int64\n",
      "rh2m                  object\n",
      "weather               object\n",
      "wind10m.direction     object\n",
      "wind10m.speed          int64\n",
      "fecha                 object\n",
      "latitud              float64\n",
      "longitud             float64\n",
      "ciudad                object\n",
      "seeing                 int64\n",
      "transparency           int64\n",
      "dtype: object\n",
      "-----------------------------------------\n",
      "El porcentaje de nulos: \n",
      "\n",
      "timepoint            0.0\n",
      "cloudcover           0.0\n",
      "lifted_index         0.0\n",
      "prec_type            0.0\n",
      "prec_amount          0.0\n",
      "temp2m               0.0\n",
      "rh2m                 0.0\n",
      "weather              0.0\n",
      "wind10m.direction    0.0\n",
      "wind10m.speed        0.0\n",
      "fecha                0.0\n",
      "latitud              0.0\n",
      "longitud             0.0\n",
      "ciudad               0.0\n",
      "seeing               0.0\n",
      "transparency         0.0\n",
      "dtype: float64\n"
     ]
    }
   ],
   "source": [
    "chequear_datos(df_final)"
   ]
  },
  {
   "cell_type": "markdown",
   "id": "54452a6e",
   "metadata": {},
   "source": [
    "Como vemos, nuestro dataframe no está del todo limpio ya que: \n",
    "\n",
    "- La columna de fecha no está en formato `datetime` \n",
    "\n",
    "- En la columna `rh2m` tenemos el símbolo `%` que nos puede \"molestar\" cuando queramos hacer operaciones.\n",
    "\n",
    "- En este caso no tenemos nulos, pero esta bien anticiparse a este problema. Lo haremos en nuestra próxima función.\n",
    "\n",
    "Creemos una función para limpiar estas columnas y dejarlas perfectamente limpias. Recibirá dos parámetros: \n",
    "\n",
    "- dataframe sobre el que queremos hacer las modificaciones\n",
    "\n",
    "- lista de columnas que podrían tener nulos"
   ]
  },
  {
   "cell_type": "code",
   "execution_count": 33,
   "id": "b0b82476",
   "metadata": {},
   "outputs": [],
   "source": [
    "def limpiar_dataframe(df, lista_columnas = []): \n",
    "    \n",
    "    #convertimos la fecha a datetime\n",
    "    df[\"fecha\"] = pd.to_datetime(df[\"fecha\"])\n",
    "    \n",
    "    # reemplazamos los nulos de las columnas por la media\n",
    "     # lista de columnas en las que queremos reemplazar los nulos\n",
    "    if len(lista_columnas) != 0:\n",
    "        df[lista_columnas]=df[lista_columnas].fillna(df.median())\n",
    "    else:\n",
    "        pass\n",
    "    \n",
    "    \n",
    "    # quitar % \n",
    "    df[\"rh2m\"] = df[\"rh2m\"].replace(r\"%\", \"\", regex = True)\n",
    "    \n",
    "    # guardamos los datos una vez limpios\n",
    "    df.to_pickle('files/datos_actualizados.pkl')\n",
    "    df.to_csv('files/datos_actualizados.csv')\n",
    "    \n",
    "    return df"
   ]
  },
  {
   "cell_type": "code",
   "execution_count": 34,
   "id": "fee45703",
   "metadata": {},
   "outputs": [],
   "source": [
    "df_final = limpiar_dataframe(df_final)"
   ]
  },
  {
   "cell_type": "code",
   "execution_count": 35,
   "id": "407207bd",
   "metadata": {},
   "outputs": [
    {
     "data": {
      "text/html": [
       "<div>\n",
       "<style scoped>\n",
       "    .dataframe tbody tr th:only-of-type {\n",
       "        vertical-align: middle;\n",
       "    }\n",
       "\n",
       "    .dataframe tbody tr th {\n",
       "        vertical-align: top;\n",
       "    }\n",
       "\n",
       "    .dataframe thead th {\n",
       "        text-align: right;\n",
       "    }\n",
       "</style>\n",
       "<table border=\"1\" class=\"dataframe\">\n",
       "  <thead>\n",
       "    <tr style=\"text-align: right;\">\n",
       "      <th></th>\n",
       "      <th>timepoint</th>\n",
       "      <th>cloudcover</th>\n",
       "      <th>lifted_index</th>\n",
       "      <th>prec_type</th>\n",
       "      <th>prec_amount</th>\n",
       "      <th>temp2m</th>\n",
       "      <th>rh2m</th>\n",
       "      <th>weather</th>\n",
       "      <th>wind10m.direction</th>\n",
       "      <th>wind10m.speed</th>\n",
       "      <th>fecha</th>\n",
       "      <th>latitud</th>\n",
       "      <th>longitud</th>\n",
       "      <th>ciudad</th>\n",
       "      <th>seeing</th>\n",
       "      <th>transparency</th>\n",
       "    </tr>\n",
       "  </thead>\n",
       "  <tbody>\n",
       "    <tr>\n",
       "      <th>0</th>\n",
       "      <td>3</td>\n",
       "      <td>1</td>\n",
       "      <td>15</td>\n",
       "      <td>none</td>\n",
       "      <td>0</td>\n",
       "      <td>5</td>\n",
       "      <td>64</td>\n",
       "      <td>clearnight</td>\n",
       "      <td>NW</td>\n",
       "      <td>3</td>\n",
       "      <td>2023-01-10</td>\n",
       "      <td>40.4165</td>\n",
       "      <td>-3.70256</td>\n",
       "      <td>Madrid</td>\n",
       "      <td>5</td>\n",
       "      <td>2</td>\n",
       "    </tr>\n",
       "    <tr>\n",
       "      <th>1</th>\n",
       "      <td>6</td>\n",
       "      <td>2</td>\n",
       "      <td>15</td>\n",
       "      <td>none</td>\n",
       "      <td>0</td>\n",
       "      <td>6</td>\n",
       "      <td>55</td>\n",
       "      <td>clearnight</td>\n",
       "      <td>NW</td>\n",
       "      <td>3</td>\n",
       "      <td>2023-01-10</td>\n",
       "      <td>40.4165</td>\n",
       "      <td>-3.70256</td>\n",
       "      <td>Madrid</td>\n",
       "      <td>5</td>\n",
       "      <td>2</td>\n",
       "    </tr>\n",
       "  </tbody>\n",
       "</table>\n",
       "</div>"
      ],
      "text/plain": [
       "   timepoint  cloudcover  lifted_index prec_type  prec_amount  temp2m rh2m  \\\n",
       "0          3           1            15      none            0       5   64   \n",
       "1          6           2            15      none            0       6   55   \n",
       "\n",
       "      weather wind10m.direction  wind10m.speed      fecha  latitud  longitud  \\\n",
       "0  clearnight                NW              3 2023-01-10  40.4165  -3.70256   \n",
       "1  clearnight                NW              3 2023-01-10  40.4165  -3.70256   \n",
       "\n",
       "   ciudad  seeing  transparency  \n",
       "0  Madrid       5             2  \n",
       "1  Madrid       5             2  "
      ]
     },
     "execution_count": 35,
     "metadata": {},
     "output_type": "execute_result"
    }
   ],
   "source": [
    "df_final.head(2)"
   ]
  },
  {
   "cell_type": "code",
   "execution_count": 36,
   "id": "f88939a0",
   "metadata": {},
   "outputs": [
    {
     "data": {
      "text/plain": [
       "timepoint            0\n",
       "cloudcover           0\n",
       "lifted_index         0\n",
       "prec_type            0\n",
       "prec_amount          0\n",
       "temp2m               0\n",
       "rh2m                 0\n",
       "weather              0\n",
       "wind10m.direction    0\n",
       "wind10m.speed        0\n",
       "fecha                0\n",
       "latitud              0\n",
       "longitud             0\n",
       "ciudad               0\n",
       "dtype: int64"
      ]
     },
     "execution_count": 36,
     "metadata": {},
     "output_type": "execute_result"
    }
   ],
   "source": [
    "# chequeamos si tenemos algun nulo\n",
    "df.isnull().sum()"
   ]
  },
  {
   "cell_type": "code",
   "execution_count": 37,
   "id": "3a5e6da7",
   "metadata": {},
   "outputs": [
    {
     "data": {
      "text/plain": [
       "timepoint              int64\n",
       "cloudcover             int64\n",
       "lifted_index           int64\n",
       "prec_type             object\n",
       "prec_amount            int64\n",
       "temp2m                 int64\n",
       "rh2m                  object\n",
       "weather               object\n",
       "wind10m.direction     object\n",
       "wind10m.speed          int64\n",
       "fecha                 object\n",
       "latitud              float64\n",
       "longitud             float64\n",
       "ciudad                object\n",
       "dtype: object"
      ]
     },
     "execution_count": 37,
     "metadata": {},
     "output_type": "execute_result"
    }
   ],
   "source": [
    "# chequeamos los tipos de datos \n",
    "\n",
    "df.dtypes"
   ]
  },
  {
   "cell_type": "markdown",
   "id": "2afd11c1",
   "metadata": {},
   "source": [
    "**EJERCICIOS** \n",
    "\n",
    "En este ejercicio tendréis que usar la misma API que hemos usado hasta ahora y elegir otro punto de información (hasta ahora hemos usado `civil` y `astro`). Descarga los datos, limpialos y juntalos con los datos de los otros puntos de información que hemos obtenido durante esta lección. \n",
    "\n",
    "📌 **NOTA** Al juntar toda la información puede que haya algunas columnas que tengan la misma información. Debemos evitar información duplicada en nuestro *dataframe*, por lo que tendremos que hacer una buena selección de las columnas que queremos conservar.\n",
    "\n",
    "💪🏽 **BONUS** Puede que algunas de las columnas que tengamos de la nueva llamada a la API tengan una pinta como esta 👇🏽\n",
    "\n",
    "```python\n",
    "[{'layer': '950mb', 'rh': 9},\n",
    " {'layer': '900mb', 'rh': 11},\n",
    " {'layer': '850mb', 'rh': 12},\n",
    " {'layer': '800mb', 'rh': 6},\n",
    " {'layer': '750mb', 'rh': 4},\n",
    " {'layer': '700mb', 'rh': 5},\n",
    " {'layer': '650mb', 'rh': 7},\n",
    " {'layer': '600mb', 'rh': 15},\n",
    " {'layer': '550mb', 'rh': 16},\n",
    " {'layer': '500mb', 'rh': 13},\n",
    " {'layer': '450mb', 'rh': 9},\n",
    " {'layer': '400mb', 'rh': 11},\n",
    " {'layer': '350mb', 'rh': 10},\n",
    " {'layer': '300mb', 'rh': 10},\n",
    " {'layer': '250mb', 'rh': 8},\n",
    " {'layer': '200mb', 'rh': -3}]\n",
    "```\n",
    "\n",
    "El objetivo de este bonus es separar cada elemento de esa lista de diccionarios en columnas diferentes. \n"
   ]
  },
  {
   "cell_type": "code",
   "execution_count": 38,
   "id": "f80c21e6",
   "metadata": {},
   "outputs": [],
   "source": [
    "producto ='meteo'"
   ]
  },
  {
   "cell_type": "code",
   "execution_count": 39,
   "id": "90d7ccb7",
   "metadata": {},
   "outputs": [
    {
     "name": "stdout",
     "output_type": "stream",
     "text": [
      "La peticion se ha realizado correctamente, se ha devuelto el código de estado: 200  y como razón del código de estado:  OK\n"
     ]
    },
    {
     "data": {
      "text/html": [
       "<div>\n",
       "<style scoped>\n",
       "    .dataframe tbody tr th:only-of-type {\n",
       "        vertical-align: middle;\n",
       "    }\n",
       "\n",
       "    .dataframe tbody tr th {\n",
       "        vertical-align: top;\n",
       "    }\n",
       "\n",
       "    .dataframe thead th {\n",
       "        text-align: right;\n",
       "    }\n",
       "</style>\n",
       "<table border=\"1\" class=\"dataframe\">\n",
       "  <thead>\n",
       "    <tr style=\"text-align: right;\">\n",
       "      <th></th>\n",
       "      <th>timepoint</th>\n",
       "      <th>cloudcover</th>\n",
       "      <th>highcloud</th>\n",
       "      <th>midcloud</th>\n",
       "      <th>lowcloud</th>\n",
       "      <th>rh_profile</th>\n",
       "      <th>wind_profile</th>\n",
       "      <th>temp2m</th>\n",
       "      <th>lifted_index</th>\n",
       "      <th>rh2m</th>\n",
       "      <th>msl_pressure</th>\n",
       "      <th>prec_type</th>\n",
       "      <th>prec_amount</th>\n",
       "      <th>snow_depth</th>\n",
       "      <th>wind10m.direction</th>\n",
       "      <th>wind10m.speed</th>\n",
       "    </tr>\n",
       "  </thead>\n",
       "  <tbody>\n",
       "    <tr>\n",
       "      <th>0</th>\n",
       "      <td>3</td>\n",
       "      <td>1</td>\n",
       "      <td>-9999</td>\n",
       "      <td>-9999</td>\n",
       "      <td>-9999</td>\n",
       "      <td>[{'layer': '950mb', 'rh': 3}, {'layer': '900mb...</td>\n",
       "      <td>[{'layer': '950mb', 'direction': 210, 'speed':...</td>\n",
       "      <td>5</td>\n",
       "      <td>15</td>\n",
       "      <td>8</td>\n",
       "      <td>1027</td>\n",
       "      <td>none</td>\n",
       "      <td>0</td>\n",
       "      <td>0</td>\n",
       "      <td>305</td>\n",
       "      <td>3</td>\n",
       "    </tr>\n",
       "    <tr>\n",
       "      <th>1</th>\n",
       "      <td>6</td>\n",
       "      <td>2</td>\n",
       "      <td>-9999</td>\n",
       "      <td>-9999</td>\n",
       "      <td>-9999</td>\n",
       "      <td>[{'layer': '950mb', 'rh': 2}, {'layer': '900mb...</td>\n",
       "      <td>[{'layer': '950mb', 'direction': 345, 'speed':...</td>\n",
       "      <td>6</td>\n",
       "      <td>15</td>\n",
       "      <td>7</td>\n",
       "      <td>1028</td>\n",
       "      <td>none</td>\n",
       "      <td>0</td>\n",
       "      <td>0</td>\n",
       "      <td>305</td>\n",
       "      <td>3</td>\n",
       "    </tr>\n",
       "    <tr>\n",
       "      <th>2</th>\n",
       "      <td>9</td>\n",
       "      <td>1</td>\n",
       "      <td>-9999</td>\n",
       "      <td>-9999</td>\n",
       "      <td>-9999</td>\n",
       "      <td>[{'layer': '950mb', 'rh': 2}, {'layer': '900mb...</td>\n",
       "      <td>[{'layer': '950mb', 'direction': 180, 'speed':...</td>\n",
       "      <td>8</td>\n",
       "      <td>15</td>\n",
       "      <td>5</td>\n",
       "      <td>1029</td>\n",
       "      <td>none</td>\n",
       "      <td>0</td>\n",
       "      <td>0</td>\n",
       "      <td>325</td>\n",
       "      <td>2</td>\n",
       "    </tr>\n",
       "    <tr>\n",
       "      <th>3</th>\n",
       "      <td>12</td>\n",
       "      <td>1</td>\n",
       "      <td>-9999</td>\n",
       "      <td>-9999</td>\n",
       "      <td>-9999</td>\n",
       "      <td>[{'layer': '950mb', 'rh': 1}, {'layer': '900mb...</td>\n",
       "      <td>[{'layer': '950mb', 'direction': 270, 'speed':...</td>\n",
       "      <td>13</td>\n",
       "      <td>10</td>\n",
       "      <td>4</td>\n",
       "      <td>1028</td>\n",
       "      <td>none</td>\n",
       "      <td>0</td>\n",
       "      <td>0</td>\n",
       "      <td>335</td>\n",
       "      <td>2</td>\n",
       "    </tr>\n",
       "    <tr>\n",
       "      <th>4</th>\n",
       "      <td>15</td>\n",
       "      <td>1</td>\n",
       "      <td>-9999</td>\n",
       "      <td>-9999</td>\n",
       "      <td>-9999</td>\n",
       "      <td>[{'layer': '950mb', 'rh': 1}, {'layer': '900mb...</td>\n",
       "      <td>[{'layer': '950mb', 'direction': 180, 'speed':...</td>\n",
       "      <td>13</td>\n",
       "      <td>10</td>\n",
       "      <td>4</td>\n",
       "      <td>1026</td>\n",
       "      <td>none</td>\n",
       "      <td>0</td>\n",
       "      <td>0</td>\n",
       "      <td>355</td>\n",
       "      <td>2</td>\n",
       "    </tr>\n",
       "  </tbody>\n",
       "</table>\n",
       "</div>"
      ],
      "text/plain": [
       "   timepoint  cloudcover  highcloud  midcloud  lowcloud  \\\n",
       "0          3           1      -9999     -9999     -9999   \n",
       "1          6           2      -9999     -9999     -9999   \n",
       "2          9           1      -9999     -9999     -9999   \n",
       "3         12           1      -9999     -9999     -9999   \n",
       "4         15           1      -9999     -9999     -9999   \n",
       "\n",
       "                                          rh_profile  \\\n",
       "0  [{'layer': '950mb', 'rh': 3}, {'layer': '900mb...   \n",
       "1  [{'layer': '950mb', 'rh': 2}, {'layer': '900mb...   \n",
       "2  [{'layer': '950mb', 'rh': 2}, {'layer': '900mb...   \n",
       "3  [{'layer': '950mb', 'rh': 1}, {'layer': '900mb...   \n",
       "4  [{'layer': '950mb', 'rh': 1}, {'layer': '900mb...   \n",
       "\n",
       "                                        wind_profile  temp2m  lifted_index  \\\n",
       "0  [{'layer': '950mb', 'direction': 210, 'speed':...       5            15   \n",
       "1  [{'layer': '950mb', 'direction': 345, 'speed':...       6            15   \n",
       "2  [{'layer': '950mb', 'direction': 180, 'speed':...       8            15   \n",
       "3  [{'layer': '950mb', 'direction': 270, 'speed':...      13            10   \n",
       "4  [{'layer': '950mb', 'direction': 180, 'speed':...      13            10   \n",
       "\n",
       "   rh2m  msl_pressure prec_type  prec_amount  snow_depth wind10m.direction  \\\n",
       "0     8          1027      none            0           0               305   \n",
       "1     7          1028      none            0           0               305   \n",
       "2     5          1029      none            0           0               325   \n",
       "3     4          1028      none            0           0               335   \n",
       "4     4          1026      none            0           0               355   \n",
       "\n",
       "   wind10m.speed  \n",
       "0              3  \n",
       "1              3  \n",
       "2              2  \n",
       "3              2  \n",
       "4              2  "
      ]
     },
     "execution_count": 39,
     "metadata": {},
     "output_type": "execute_result"
    }
   ],
   "source": [
    "\n",
    "clima = llamada_API(latitud, longitud, producto)\n",
    "clima.head()"
   ]
  },
  {
   "cell_type": "code",
   "execution_count": 40,
   "id": "e3370349",
   "metadata": {},
   "outputs": [],
   "source": [
    "dicccionario ={'key':'value', 'key2':'value2'}"
   ]
  },
  {
   "cell_type": "code",
   "execution_count": 41,
   "id": "549dffa2",
   "metadata": {},
   "outputs": [
    {
     "ename": "SyntaxError",
     "evalue": "invalid syntax (1423928522.py, line 6)",
     "output_type": "error",
     "traceback": [
      "\u001b[0;36m  Cell \u001b[0;32mIn [41], line 6\u001b[0;36m\u001b[0m\n\u001b[0;31m    timepoint             int64\u001b[0m\n\u001b[0m                          ^\u001b[0m\n\u001b[0;31mSyntaxError\u001b[0m\u001b[0;31m:\u001b[0m invalid syntax\n"
     ]
    }
   ],
   "source": [
    "# os recomendamos resetear el index del dataframe de los datos climáticos para que no se repitan los nombres de las columnas.\n",
    "\n",
    "# El primer problema al que nos podemos enfrentar es que si vemos los tipos de las columnas vemos que estas columnas son objetos, es decir, strings, lo que hará que trabajar con ellas sea un poco complicado: \n",
    "clima.dtypes\n",
    "\n",
    "timepoint             int64\n",
    "cloudcover            int64\n",
    "highcloud             int64\n",
    "midcloud              int64\n",
    "lowcloud              int64\n",
    "rh_profile           object\n",
    "wind_profile         object\n",
    "\n",
    "# en Python tenemos la librería `ast` que nos permite castear un string que dentro tiene diccionarios, o listas o tuplas a su tipo correspondiente. En nuestro caso, lo que conseguiremos es no tener strings sino listas en la columna. Esto lo haremos de la siguiente forma: \n",
    "\n",
    "import ast\n",
    "\n",
    "clima['wind_profile']= clima['wind_profile'].apply(ast.literal_eval)\n",
    "\n",
    "# una vez que tengamos la columna cambiada, una fantasía de Pandas es que si hago un apply sobre una columna cuyos valores son diccionarios o listas nos va a genererar una columna con los valores de los diccionarios o listas. Donde cada columna será key del diccionario o cada elemento de la lista. \n",
    "\n",
    "\n",
    "x = clima['wind_profile'].apply(pd.Series)\n",
    "\n",
    "\n",
    "# nos creamos un dataframe nuevo con el resultado de la información de una de las columnas separadas por columnas. Esto nos va a devolver un dataframe donde cada fila será una celda del dataframe anterior. \n",
    "x = df['rh_profile'].apply(pd.Series) \n",
    "\n",
    "# ¿Qué es lo que ocurre cuando hacemos esto?\n",
    "# Nos ha creado tantas columnas como valores tuvieramos en la lista. Donde columna es, en este caso, un diccionario (porque nuestra lista esta compuesta por distintos diccionarios)\n",
    "\n",
    "# Ok, hemos conseguido desempaquetar la información de la lista en distintas columnas. Ahora tenemos que despempaquetar la información de los diccionarios en distintas columnas. En este caso, lo que querremos es que las key de los diccionarios sean los nombres de las columnas y los values los valores de las celdas del dataframe. Volveremos a seguir entonces la misma lógica que antes con el apply, pero en este caso necesitamos hacerlo para todo el dataframe (que es x): \n",
    "\n",
    "# Por eso empezamos con un for para iterar por cada una de las columnas. \n",
    "for i in range(len(x.columns)): \n",
    "\n",
    "    # aplicamos el apply,extraemos el valore de la key \"layer\" y lo almacenamos en una variable que convertimos a string \n",
    "    nombre = \"rh_\" + str(x[i].apply(pd.Series)[\"layer\"][0]) \n",
    "\n",
    "    # hacemos lo mismo con una variable que se llame valores para \"guardar\" los valores de la celda\n",
    "    valores = list(x[i].apply(pd.Series)[\"rh\"] )\n",
    "\n",
    "    # usamos el método insert de los dataframes para ir añadiendo esta información a el dataframe con la información del clima. \n",
    "    df.insert(i, nombre, valores)\n",
    "\n",
    "# una vez que hayamos hecho esto para las dos columnas ya podremos hacer el gropuby para después unir toda la información. "
   ]
  }
 ],
 "metadata": {
  "kernelspec": {
   "display_name": "base",
   "language": "python",
   "name": "python3"
  },
  "language_info": {
   "codemirror_mode": {
    "name": "ipython",
    "version": 3
   },
   "file_extension": ".py",
   "mimetype": "text/x-python",
   "name": "python",
   "nbconvert_exporter": "python",
   "pygments_lexer": "ipython3",
   "version": "3.9.13 | packaged by conda-forge | (main, May 27 2022, 16:56:21) \n[GCC 10.3.0]"
  },
  "toc": {
   "base_numbering": 1,
   "nav_menu": {},
   "number_sections": true,
   "sideBar": true,
   "skip_h1_title": false,
   "title_cell": "Table of Contents",
   "title_sidebar": "Contents",
   "toc_cell": true,
   "toc_position": {},
   "toc_section_display": true,
   "toc_window_display": false
  },
  "vscode": {
   "interpreter": {
    "hash": "85c042135e83639dad74b6ec6c9d943b5dc47ca281624d931a3e14168052f53c"
   }
  }
 },
 "nbformat": 4,
 "nbformat_minor": 5
}
